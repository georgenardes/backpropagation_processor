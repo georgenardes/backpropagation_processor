{
 "cells": [
  {
   "cell_type": "code",
   "execution_count": 1,
   "metadata": {},
   "outputs": [],
   "source": [
    "import numpy as np\n",
    "np.random.seed(2)"
   ]
  },
  {
   "cell_type": "code",
   "execution_count": 2,
   "metadata": {},
   "outputs": [],
   "source": [
    "class CustomMatmul:\n",
    "    def __init__(self, num_multipliers):\n",
    "        self.num_multipliers = num_multipliers\n",
    "\n",
    "    def __call__(self, a, b):\n",
    "        a_shape = a.shape\n",
    "        b_shape = b.shape\n",
    "        o_shape = [a_shape[0], b_shape[1]]\n",
    "        o = np.zeros(o_shape)\n",
    "        num_chunks = a_shape[1] // self.num_multipliers\n",
    "\n",
    "        a_reshaped = np.reshape(a, [-1, num_chunks, self.num_multipliers])\n",
    "        b_reshaped = np.reshape(b, [num_chunks, self.num_multipliers, -1])\n",
    "\n",
    "        for i in range(num_chunks):\n",
    "            o += np.matmul(a_reshaped[:, i], b_reshaped[i])\n",
    "\n",
    "        return o"
   ]
  },
  {
   "cell_type": "markdown",
   "metadata": {},
   "source": [
    "# test custom matmul"
   ]
  },
  {
   "cell_type": "code",
   "execution_count": 3,
   "metadata": {},
   "outputs": [],
   "source": [
    "inputs = np.random.randn(16, 256)\n",
    "weights = np.random.randn(256, 10)\n",
    "matmul_custom = CustomMatmul(16)\n",
    "\n",
    "o_ref = np.matmul(inputs, weights)\n",
    "o_dut = matmul_custom(inputs, weights)\n",
    "\n",
    "np.testing.assert_equal(o_dut, o_ref)"
   ]
  }
 ],
 "metadata": {
  "kernelspec": {
   "display_name": ".venv",
   "language": "python",
   "name": "python3"
  },
  "language_info": {
   "codemirror_mode": {
    "name": "ipython",
    "version": 3
   },
   "file_extension": ".py",
   "mimetype": "text/x-python",
   "name": "python",
   "nbconvert_exporter": "python",
   "pygments_lexer": "ipython3",
   "version": "3.10.12"
  }
 },
 "nbformat": 4,
 "nbformat_minor": 2
}
