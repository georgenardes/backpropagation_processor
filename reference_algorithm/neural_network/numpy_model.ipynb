{
 "cells": [
  {
   "cell_type": "code",
   "execution_count": null,
   "metadata": {},
   "outputs": [],
   "source": [
    "import json\n",
    "from NumpyModel import Model\n",
    "from Layers import InputLayer, Conv2D, Dense, DephtwiseConv2D, Flatten\n",
    "from Activations.ActivationFactory import activation_from_name\n",
    "import numpy as np\n",
    "import cv2 as cv\n",
    "import matplotlib.pyplot as plt\n",
    "\n",
    "np.random.seed(2)"
   ]
  },
  {
   "cell_type": "markdown",
   "metadata": {},
   "source": [
    "# create numpy model"
   ]
  },
  {
   "cell_type": "code",
   "execution_count": null,
   "metadata": {},
   "outputs": [],
   "source": [
    "classifier_model_path = r\"saved_models/classifier_v2/\"\n",
    "\n",
    "model = Model()\n",
    "model.load_model(classifier_model_path)\n",
    "\n",
    "for l in model.layers: print(l)"
   ]
  },
  {
   "cell_type": "markdown",
   "metadata": {},
   "source": [
    "# test numpy model"
   ]
  },
  {
   "cell_type": "code",
   "execution_count": null,
   "metadata": {},
   "outputs": [],
   "source": [
    "input_test = np.ones(shape=[1, 256, 256, 3])\n",
    "\n",
    "timelist = []\n",
    "runnings = 10\n",
    "\n",
    "for i in range(runnings): \n",
    "  o_ref_model, time_per_layer = model(input_test, training=False)\n",
    "  timelist.append(time_per_layer)\n",
    "\n",
    "print(\"model test passed...\")\n",
    "print(o_ref_model)"
   ]
  },
  {
   "cell_type": "code",
   "execution_count": null,
   "metadata": {},
   "outputs": [],
   "source": [
    "mean_elapsed_time_per_layer = {}\n",
    "\n",
    "for r in range(runnings):\n",
    "    for l in timelist[r][\"time_per_layer\"]:\n",
    "        if l not in mean_elapsed_time_per_layer:\n",
    "            mean_elapsed_time_per_layer[l] = 0        \n",
    "        mean_elapsed_time_per_layer[l] += (timelist[r][\"time_per_layer\"][l][\"elapsedtime\"] / runnings)\n",
    "\n",
    "total_elapsed = 0\n",
    "for k, v in mean_elapsed_time_per_layer.items():\n",
    "    total_elapsed += v\n",
    "    print(k, v)\n",
    "\n",
    "print(\"total_elapsed\", total_elapsed)"
   ]
  },
  {
   "cell_type": "code",
   "execution_count": null,
   "metadata": {},
   "outputs": [],
   "source": [
    "\n",
    "\n",
    "img = cv.imread(\"resized_dataset_texturas_v2/tijolo_alv/img_100.jpeg\")\n",
    "img = cv.cvtColor(img, cv.COLOR_BGR2RGB) / 255\n",
    "plt.imshow(img)\n",
    "\n",
    "# predict\n",
    "output = model(img[np.newaxis, ...])\n",
    "\n",
    "print(output)\n"
   ]
  }
 ],
 "metadata": {
  "kernelspec": {
   "display_name": ".venv",
   "language": "python",
   "name": "python3"
  },
  "language_info": {
   "codemirror_mode": {
    "name": "ipython",
    "version": 3
   },
   "file_extension": ".py",
   "mimetype": "text/x-python",
   "name": "python",
   "nbconvert_exporter": "python",
   "pygments_lexer": "ipython3",
   "version": "3.10.12"
  }
 },
 "nbformat": 4,
 "nbformat_minor": 2
}
