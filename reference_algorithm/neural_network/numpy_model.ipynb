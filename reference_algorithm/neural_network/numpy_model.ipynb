{
 "cells": [
  {
   "cell_type": "code",
   "execution_count": 1,
   "metadata": {},
   "outputs": [],
   "source": [
    "import json\n",
    "from NumpyModel import Model\n",
    "from Layers import InputLayer, Conv2D, Dense, DephtwiseConv2D, Flatten\n",
    "from Activations.ActivationFactory import activation_from_name\n",
    "import numpy as np\n",
    "import cv2 as cv\n",
    "import matplotlib.pyplot as plt\n",
    "\n",
    "np.random.seed(2)"
   ]
  },
  {
   "cell_type": "markdown",
   "metadata": {},
   "source": [
    "# create numpy model"
   ]
  },
  {
   "cell_type": "code",
   "execution_count": 2,
   "metadata": {},
   "outputs": [
    {
     "name": "stdout",
     "output_type": "stream",
     "text": [
      "ignoring not implemented dropout\n",
      "[<Layers.InputLayer.InputLayer object at 0x7f6c2047b910>, <Layers.DephtwiseConv2D.DephtwiseConv2D object at 0x7f6c204af310>, <Layers.Conv2D.Conv2D object at 0x7f6c204af5b0>, <Layers.Conv2D.Conv2D object at 0x7f6c204ac9d0>, <Layers.Flatten.Flatten object at 0x7f6bdc0dca00>, <Layers.Dense.Dense object at 0x7f6bdc0dc850>]\n"
     ]
    }
   ],
   "source": [
    "classifier_model_path = \"/home/george/Desktop/dnn_processor/reference_algorithm/neural_network/saved_models/classifier_v2/\"\n",
    "\n",
    "model = Model()\n",
    "model.load_model(classifier_model_path)\n",
    "\n",
    "print(model.layers)"
   ]
  },
  {
   "cell_type": "markdown",
   "metadata": {},
   "source": [
    "# test numpy model"
   ]
  },
  {
   "cell_type": "code",
   "execution_count": 3,
   "metadata": {},
   "outputs": [
    {
     "name": "stdout",
     "output_type": "stream",
     "text": [
      "model test passed...\n",
      "[[0.07704391 0.05168683 0.77998272 0.0715063  0.01978024]]\n"
     ]
    }
   ],
   "source": [
    "input_test = np.ones(shape=[1, 256, 256, 3])\n",
    "\n",
    "o_ref_model = model(input_test, training=False)\n",
    "\n",
    "print(\"model test passed...\")\n",
    "print(o_ref_model)\n"
   ]
  },
  {
   "cell_type": "code",
   "execution_count": null,
   "metadata": {},
   "outputs": [],
   "source": [
    "\n",
    "\n",
    "img = cv.imread(\"/home/george/Desktop/dnn_processor/reference_algorithm/neural_network/resized_dataset_texturas_v2/tijolo_alv/img_100.jpeg\")\n",
    "img = cv.cvtColor(img, cv.COLOR_BGR2RGB) / 255\n",
    "plt.imshow(img)\n",
    "\n",
    "# predict\n",
    "output = model(img[np.newaxis, ...])\n",
    "\n",
    "print(output)\n"
   ]
  },
  {
   "cell_type": "code",
   "execution_count": null,
   "metadata": {},
   "outputs": [],
   "source": []
  }
 ],
 "metadata": {
  "kernelspec": {
   "display_name": ".venv",
   "language": "python",
   "name": "python3"
  },
  "language_info": {
   "codemirror_mode": {
    "name": "ipython",
    "version": 3
   },
   "file_extension": ".py",
   "mimetype": "text/x-python",
   "name": "python",
   "nbconvert_exporter": "python",
   "pygments_lexer": "ipython3",
   "version": "3.10.12"
  }
 },
 "nbformat": 4,
 "nbformat_minor": 2
}
