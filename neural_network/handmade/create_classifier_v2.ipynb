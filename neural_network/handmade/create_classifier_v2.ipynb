{
 "cells": [
  {
   "cell_type": "code",
   "execution_count": 1,
   "metadata": {},
   "outputs": [
    {
     "name": "stderr",
     "output_type": "stream",
     "text": [
      "2024-02-06 09:44:38.870456: E external/local_xla/xla/stream_executor/cuda/cuda_dnn.cc:9261] Unable to register cuDNN factory: Attempting to register factory for plugin cuDNN when one has already been registered\n",
      "2024-02-06 09:44:38.870483: E external/local_xla/xla/stream_executor/cuda/cuda_fft.cc:607] Unable to register cuFFT factory: Attempting to register factory for plugin cuFFT when one has already been registered\n",
      "2024-02-06 09:44:38.871352: E external/local_xla/xla/stream_executor/cuda/cuda_blas.cc:1515] Unable to register cuBLAS factory: Attempting to register factory for plugin cuBLAS when one has already been registered\n",
      "/home/webphy/Desktop/dnn_processor/.venv/lib/python3.10/site-packages/tqdm/auto.py:21: TqdmWarning: IProgress not found. Please update jupyter and ipywidgets. See https://ipywidgets.readthedocs.io/en/stable/user_install.html\n",
      "  from .autonotebook import tqdm as notebook_tqdm\n"
     ]
    }
   ],
   "source": [
    "import sys\n",
    "import os\n",
    "os.environ['TF_CPP_MIN_LOG_LEVEL'] = '2'\n",
    "\n",
    "sys.path.append(\"/home/webphy/Desktop/dnn_processor/\")  # just to enable `dataset`\n",
    "sys.path.append(\n",
    "    \"/home/webphy/Desktop/dnn_processor/dataset/}\"\n",
    ")  # just to enable `dataset`\n",
    "\n",
    "import tensorflow as tf\n",
    "import optuna\n",
    "import dataset\n",
    "import numpy as np\n",
    "import keras\n",
    "import joblib\n",
    "from datetime import datetime\n",
    "from keras import layers"
   ]
  },
  {
   "cell_type": "code",
   "execution_count": 2,
   "metadata": {},
   "outputs": [],
   "source": [
    "DEFAULT_BATCH_SIZE = 64\n",
    "EPOCHS = 100\n",
    "DEFAULT_INPUT_SIZE = 128\n",
    "\n",
    "train_images_rgx = \"../../dataset/train_set_4x/*/*.jpeg\"\n",
    "test_images_rgx = \"../../dataset/test_set_4x/*/*.jpeg\"\n",
    "\n",
    "train_dataset, test_dataset, num_classes = dataset.create_datasets(\n",
    "    train_images_rgx, test_images_rgx, DEFAULT_BATCH_SIZE, DEFAULT_INPUT_SIZE\n",
    ")"
   ]
  },
  {
   "cell_type": "code",
   "execution_count": 3,
   "metadata": {},
   "outputs": [],
   "source": [
    "\n",
    "\n",
    "def create_model_checkpointer(save_path):\n",
    "    return keras.callbacks.ModelCheckpoint(\n",
    "        save_path + \"weights/\",\n",
    "        \"val_accuracy\",\n",
    "        mode=\"max\",\n",
    "        save_best_only=True,\n",
    "        save_weights_only=True,\n",
    "    )\n",
    "\n",
    "\n",
    "def crate_early_stopper():\n",
    "    return keras.callbacks.EarlyStopping(\n",
    "        monitor=\"val_accuracy\",\n",
    "        min_delta=0.05,\n",
    "        patience=20,\n",
    "        verbose=0,\n",
    "        mode=\"max\",\n",
    "        start_from_epoch=50,\n",
    "    )"
   ]
  },
  {
   "cell_type": "code",
   "execution_count": 4,
   "metadata": {},
   "outputs": [
    {
     "name": "stdout",
     "output_type": "stream",
     "text": [
      "Model: \"model\"\n",
      "_________________________________________________________________\n",
      " Layer (type)                Output Shape              Param #   \n",
      "=================================================================\n",
      " input_1 (InputLayer)        [(None, 128, 128, 3)]     0         \n",
      "                                                                 \n",
      " conv2d (Conv2D)             (None, 32, 32, 4)         196       \n",
      "                                                                 \n",
      " activation (Activation)     (None, 32, 32, 4)         0         \n",
      "                                                                 \n",
      " conv2d_1 (Conv2D)           (None, 30, 30, 16)        592       \n",
      "                                                                 \n",
      " activation_1 (Activation)   (None, 30, 30, 16)        0         \n",
      "                                                                 \n",
      " max_pooling2d (MaxPooling2  (None, 15, 15, 16)        0         \n",
      " D)                                                              \n",
      "                                                                 \n",
      " flatten (Flatten)           (None, 3600)              0         \n",
      "                                                                 \n",
      " dense (Dense)               (None, 5)                 18005     \n",
      "                                                                 \n",
      "=================================================================\n",
      "Total params: 18793 (73.41 KB)\n",
      "Trainable params: 18793 (73.41 KB)\n",
      "Non-trainable params: 0 (0.00 Byte)\n",
      "_________________________________________________________________\n"
     ]
    }
   ],
   "source": [
    "EXP_ID = \"manual_test_4x\"\n",
    "batch_size = 64\n",
    "input_size = 128\n",
    "\n",
    "# load data\n",
    "train_dataset, test_dataset, num_classes = dataset.create_datasets(\n",
    "    train_images_rgx, test_images_rgx, batch_size, input_size\n",
    ")\n",
    "\n",
    "x = x_in = layers.Input(shape=(input_size, input_size, 3))\n",
    "\n",
    "x = keras.layers.Conv2D(4, 4, 4)(x)\n",
    "x = keras.layers.Activation(\"relu\")(x)\n",
    "x = keras.layers.Conv2D(16, 3, 2)(x)\n",
    "x = keras.layers.Activation(\"relu\")(x)\n",
    "x = keras.layers.Conv2D(8, 1, 1)(x)\n",
    "x = keras.layers.Flatten()(x)\n",
    "x = keras.layers.Dense(num_classes)(x)\n",
    "\n",
    "# Build model and optimizer.\n",
    "model = keras.Model(x_in, x)\n",
    "assert isinstance(model, keras.Model), \"model is not a model\"\n",
    "\n",
    "model.summary()"
   ]
  },
  {
   "cell_type": "code",
   "execution_count": 5,
   "metadata": {},
   "outputs": [],
   "source": [
    "\n",
    "optimizer = keras.optimizers.Adam()\n",
    "\n",
    "# compile the model\n",
    "model.compile(\n",
    "    optimizer,\n",
    "    loss=keras.losses.CategoricalCrossentropy(from_logits=True),\n",
    "    metrics=[\"accuracy\"],\n",
    ")\n",
    "\n"
   ]
  },
  {
   "cell_type": "code",
   "execution_count": 6,
   "metadata": {},
   "outputs": [
    {
     "name": "stdout",
     "output_type": "stream",
     "text": [
      "INFO:tensorflow:Assets written to: saved_models/manual_test_4x/best_model_t/assets\n"
     ]
    },
    {
     "name": "stderr",
     "output_type": "stream",
     "text": [
      "INFO:tensorflow:Assets written to: saved_models/manual_test_4x/best_model_t/assets\n"
     ]
    },
    {
     "name": "stdout",
     "output_type": "stream",
     "text": [
      "Epoch 1/100\n"
     ]
    },
    {
     "name": "stderr",
     "output_type": "stream",
     "text": [
      "WARNING: All log messages before absl::InitializeLog() is called are written to STDERR\n",
      "I0000 00:00:1707223483.750837  714094 device_compiler.h:186] Compiled cluster using XLA!  This line is logged at most once for the lifetime of the process.\n"
     ]
    },
    {
     "name": "stdout",
     "output_type": "stream",
     "text": [
      "55/55 [==============================] - 4s 9ms/step - loss: 1.3383 - accuracy: 0.3466 - val_loss: 0.9461 - val_accuracy: 0.6207\n",
      "Epoch 2/100\n",
      "55/55 [==============================] - 0s 5ms/step - loss: 0.7009 - accuracy: 0.7057 - val_loss: 0.6732 - val_accuracy: 0.7165\n",
      "Epoch 3/100\n",
      "55/55 [==============================] - 0s 5ms/step - loss: 0.6097 - accuracy: 0.7349 - val_loss: 0.6634 - val_accuracy: 0.6858\n",
      "Epoch 4/100\n",
      "55/55 [==============================] - 0s 5ms/step - loss: 0.5713 - accuracy: 0.7497 - val_loss: 0.6300 - val_accuracy: 0.7165\n",
      "Epoch 5/100\n",
      "55/55 [==============================] - 0s 5ms/step - loss: 0.5392 - accuracy: 0.7653 - val_loss: 0.5478 - val_accuracy: 0.7739\n",
      "Epoch 6/100\n",
      "55/55 [==============================] - 0s 5ms/step - loss: 0.5016 - accuracy: 0.7892 - val_loss: 0.5491 - val_accuracy: 0.8046\n",
      "Epoch 7/100\n",
      "55/55 [==============================] - 0s 5ms/step - loss: 0.4662 - accuracy: 0.8017 - val_loss: 0.5385 - val_accuracy: 0.7471\n",
      "Epoch 8/100\n",
      "55/55 [==============================] - 0s 5ms/step - loss: 0.4556 - accuracy: 0.8136 - val_loss: 0.5037 - val_accuracy: 0.7816\n",
      "Epoch 9/100\n",
      "55/55 [==============================] - 0s 5ms/step - loss: 0.4256 - accuracy: 0.8259 - val_loss: 0.4877 - val_accuracy: 0.7969\n",
      "Epoch 10/100\n",
      "55/55 [==============================] - 0s 5ms/step - loss: 0.4108 - accuracy: 0.8318 - val_loss: 0.5767 - val_accuracy: 0.7931\n",
      "Epoch 11/100\n",
      "55/55 [==============================] - 0s 5ms/step - loss: 0.4133 - accuracy: 0.8301 - val_loss: 0.4713 - val_accuracy: 0.8238\n",
      "Epoch 12/100\n",
      "55/55 [==============================] - 0s 5ms/step - loss: 0.3864 - accuracy: 0.8469 - val_loss: 0.4493 - val_accuracy: 0.8314\n",
      "Epoch 13/100\n",
      "55/55 [==============================] - 0s 5ms/step - loss: 0.3729 - accuracy: 0.8494 - val_loss: 0.4555 - val_accuracy: 0.8352\n",
      "Epoch 14/100\n",
      "55/55 [==============================] - 0s 5ms/step - loss: 0.3656 - accuracy: 0.8577 - val_loss: 0.4860 - val_accuracy: 0.8046\n",
      "Epoch 15/100\n",
      "55/55 [==============================] - 0s 5ms/step - loss: 0.3561 - accuracy: 0.8582 - val_loss: 0.4393 - val_accuracy: 0.8582\n",
      "Epoch 16/100\n",
      "55/55 [==============================] - 0s 5ms/step - loss: 0.3634 - accuracy: 0.8534 - val_loss: 0.5117 - val_accuracy: 0.7663\n",
      "Epoch 17/100\n",
      "55/55 [==============================] - 0s 5ms/step - loss: 0.3505 - accuracy: 0.8673 - val_loss: 0.4880 - val_accuracy: 0.8161\n",
      "Epoch 18/100\n",
      "55/55 [==============================] - 0s 5ms/step - loss: 0.3397 - accuracy: 0.8710 - val_loss: 0.4478 - val_accuracy: 0.8238\n",
      "Epoch 19/100\n",
      "55/55 [==============================] - 0s 5ms/step - loss: 0.3200 - accuracy: 0.8818 - val_loss: 0.4361 - val_accuracy: 0.8352\n",
      "Epoch 20/100\n",
      "55/55 [==============================] - 0s 4ms/step - loss: 0.3118 - accuracy: 0.8795 - val_loss: 0.4253 - val_accuracy: 0.8314\n",
      "Epoch 21/100\n",
      "55/55 [==============================] - 0s 5ms/step - loss: 0.3159 - accuracy: 0.8827 - val_loss: 0.4380 - val_accuracy: 0.8352\n",
      "Epoch 22/100\n",
      "55/55 [==============================] - 0s 5ms/step - loss: 0.2978 - accuracy: 0.8915 - val_loss: 0.4126 - val_accuracy: 0.8429\n",
      "Epoch 23/100\n",
      "55/55 [==============================] - 0s 5ms/step - loss: 0.2996 - accuracy: 0.8866 - val_loss: 0.3989 - val_accuracy: 0.8736\n",
      "Epoch 24/100\n",
      "55/55 [==============================] - 0s 5ms/step - loss: 0.2847 - accuracy: 0.8960 - val_loss: 0.4255 - val_accuracy: 0.8621\n",
      "Epoch 25/100\n",
      "55/55 [==============================] - 0s 5ms/step - loss: 0.2834 - accuracy: 0.8955 - val_loss: 0.4276 - val_accuracy: 0.8429\n",
      "Epoch 26/100\n",
      "55/55 [==============================] - 0s 5ms/step - loss: 0.2749 - accuracy: 0.9003 - val_loss: 0.4460 - val_accuracy: 0.8467\n",
      "Epoch 27/100\n",
      "55/55 [==============================] - 0s 5ms/step - loss: 0.2733 - accuracy: 0.9023 - val_loss: 0.4439 - val_accuracy: 0.8161\n",
      "Epoch 28/100\n",
      "55/55 [==============================] - 0s 5ms/step - loss: 0.2810 - accuracy: 0.9034 - val_loss: 0.4998 - val_accuracy: 0.7893\n",
      "Epoch 29/100\n",
      "55/55 [==============================] - 0s 5ms/step - loss: 0.2762 - accuracy: 0.8977 - val_loss: 0.4375 - val_accuracy: 0.8429\n",
      "Epoch 30/100\n",
      "55/55 [==============================] - 0s 5ms/step - loss: 0.2509 - accuracy: 0.9119 - val_loss: 0.3898 - val_accuracy: 0.8621\n",
      "Epoch 31/100\n",
      "55/55 [==============================] - 0s 5ms/step - loss: 0.2499 - accuracy: 0.9136 - val_loss: 0.3821 - val_accuracy: 0.8582\n",
      "Epoch 32/100\n",
      "55/55 [==============================] - 0s 5ms/step - loss: 0.2484 - accuracy: 0.9128 - val_loss: 0.4314 - val_accuracy: 0.8352\n",
      "Epoch 33/100\n",
      "55/55 [==============================] - 0s 5ms/step - loss: 0.2369 - accuracy: 0.9179 - val_loss: 0.3706 - val_accuracy: 0.8659\n",
      "Epoch 34/100\n",
      "55/55 [==============================] - 0s 5ms/step - loss: 0.2229 - accuracy: 0.9267 - val_loss: 0.3844 - val_accuracy: 0.8659\n",
      "Epoch 35/100\n",
      "55/55 [==============================] - 0s 5ms/step - loss: 0.2201 - accuracy: 0.9310 - val_loss: 0.3656 - val_accuracy: 0.8582\n",
      "Epoch 36/100\n",
      "55/55 [==============================] - 0s 5ms/step - loss: 0.2203 - accuracy: 0.9273 - val_loss: 0.3855 - val_accuracy: 0.8736\n",
      "Epoch 37/100\n",
      "55/55 [==============================] - 0s 5ms/step - loss: 0.2168 - accuracy: 0.9284 - val_loss: 0.3952 - val_accuracy: 0.8467\n",
      "Epoch 38/100\n",
      "55/55 [==============================] - 0s 5ms/step - loss: 0.2103 - accuracy: 0.9295 - val_loss: 0.3909 - val_accuracy: 0.8467\n",
      "Epoch 39/100\n",
      "55/55 [==============================] - 0s 5ms/step - loss: 0.2063 - accuracy: 0.9332 - val_loss: 0.4705 - val_accuracy: 0.8238\n",
      "Epoch 40/100\n",
      "55/55 [==============================] - 0s 5ms/step - loss: 0.1973 - accuracy: 0.9372 - val_loss: 0.3781 - val_accuracy: 0.8506\n",
      "Epoch 41/100\n",
      "55/55 [==============================] - 0s 5ms/step - loss: 0.1915 - accuracy: 0.9384 - val_loss: 0.3981 - val_accuracy: 0.8697\n",
      "Epoch 42/100\n",
      "55/55 [==============================] - 0s 5ms/step - loss: 0.1996 - accuracy: 0.9366 - val_loss: 0.4065 - val_accuracy: 0.8467\n",
      "Epoch 43/100\n",
      "55/55 [==============================] - 0s 5ms/step - loss: 0.1853 - accuracy: 0.9406 - val_loss: 0.3728 - val_accuracy: 0.8812\n",
      "Epoch 44/100\n",
      "55/55 [==============================] - 0s 5ms/step - loss: 0.2009 - accuracy: 0.9324 - val_loss: 0.5161 - val_accuracy: 0.8084\n",
      "Epoch 45/100\n",
      "55/55 [==============================] - 0s 5ms/step - loss: 0.1830 - accuracy: 0.9452 - val_loss: 0.3786 - val_accuracy: 0.8621\n",
      "Epoch 46/100\n",
      "55/55 [==============================] - 0s 5ms/step - loss: 0.1761 - accuracy: 0.9438 - val_loss: 0.3755 - val_accuracy: 0.8697\n",
      "Epoch 47/100\n",
      "55/55 [==============================] - 0s 5ms/step - loss: 0.1706 - accuracy: 0.9460 - val_loss: 0.4172 - val_accuracy: 0.8506\n",
      "Epoch 48/100\n",
      "55/55 [==============================] - 0s 5ms/step - loss: 0.1842 - accuracy: 0.9403 - val_loss: 0.3882 - val_accuracy: 0.8812\n",
      "Epoch 49/100\n",
      "55/55 [==============================] - 0s 5ms/step - loss: 0.1665 - accuracy: 0.9474 - val_loss: 0.3717 - val_accuracy: 0.8697\n",
      "Epoch 50/100\n",
      "55/55 [==============================] - 0s 5ms/step - loss: 0.1582 - accuracy: 0.9523 - val_loss: 0.3393 - val_accuracy: 0.8889\n",
      "Epoch 51/100\n",
      "55/55 [==============================] - 0s 5ms/step - loss: 0.1550 - accuracy: 0.9509 - val_loss: 0.3985 - val_accuracy: 0.8506\n",
      "Epoch 52/100\n",
      "55/55 [==============================] - 0s 5ms/step - loss: 0.1628 - accuracy: 0.9455 - val_loss: 0.4268 - val_accuracy: 0.8276\n",
      "Epoch 53/100\n",
      "55/55 [==============================] - 0s 5ms/step - loss: 0.1578 - accuracy: 0.9509 - val_loss: 0.3732 - val_accuracy: 0.8621\n",
      "Epoch 54/100\n",
      "55/55 [==============================] - 0s 5ms/step - loss: 0.1454 - accuracy: 0.9582 - val_loss: 0.3695 - val_accuracy: 0.8582\n",
      "Epoch 55/100\n",
      "55/55 [==============================] - 0s 5ms/step - loss: 0.1532 - accuracy: 0.9509 - val_loss: 0.4444 - val_accuracy: 0.8467\n",
      "Epoch 56/100\n",
      "55/55 [==============================] - 0s 5ms/step - loss: 0.1504 - accuracy: 0.9523 - val_loss: 0.3806 - val_accuracy: 0.8659\n",
      "Epoch 57/100\n",
      "55/55 [==============================] - 0s 5ms/step - loss: 0.1388 - accuracy: 0.9560 - val_loss: 0.4830 - val_accuracy: 0.8238\n",
      "Epoch 58/100\n",
      "55/55 [==============================] - 0s 5ms/step - loss: 0.1344 - accuracy: 0.9616 - val_loss: 0.3571 - val_accuracy: 0.8889\n",
      "Epoch 59/100\n",
      "55/55 [==============================] - 0s 5ms/step - loss: 0.1322 - accuracy: 0.9580 - val_loss: 0.3623 - val_accuracy: 0.8659\n",
      "Epoch 60/100\n",
      "55/55 [==============================] - 0s 5ms/step - loss: 0.1366 - accuracy: 0.9574 - val_loss: 0.3961 - val_accuracy: 0.8506\n",
      "Epoch 61/100\n",
      "55/55 [==============================] - 0s 5ms/step - loss: 0.1303 - accuracy: 0.9608 - val_loss: 0.3515 - val_accuracy: 0.8774\n",
      "Epoch 62/100\n",
      "55/55 [==============================] - 0s 5ms/step - loss: 0.1214 - accuracy: 0.9642 - val_loss: 0.3828 - val_accuracy: 0.8736\n",
      "Epoch 63/100\n",
      "55/55 [==============================] - 0s 5ms/step - loss: 0.1244 - accuracy: 0.9651 - val_loss: 0.3572 - val_accuracy: 0.8774\n",
      "Epoch 64/100\n",
      "55/55 [==============================] - 0s 5ms/step - loss: 0.1173 - accuracy: 0.9693 - val_loss: 0.3529 - val_accuracy: 0.8812\n",
      "Epoch 65/100\n",
      "55/55 [==============================] - 0s 5ms/step - loss: 0.1134 - accuracy: 0.9685 - val_loss: 0.4061 - val_accuracy: 0.8544\n",
      "Epoch 66/100\n",
      "55/55 [==============================] - 0s 5ms/step - loss: 0.1154 - accuracy: 0.9690 - val_loss: 0.3669 - val_accuracy: 0.8966\n",
      "Epoch 67/100\n",
      "55/55 [==============================] - 0s 5ms/step - loss: 0.1107 - accuracy: 0.9676 - val_loss: 0.3810 - val_accuracy: 0.8697\n",
      "Epoch 68/100\n",
      "55/55 [==============================] - 0s 5ms/step - loss: 0.1097 - accuracy: 0.9682 - val_loss: 0.3745 - val_accuracy: 0.8659\n",
      "Epoch 69/100\n",
      "55/55 [==============================] - 0s 5ms/step - loss: 0.1006 - accuracy: 0.9739 - val_loss: 0.3518 - val_accuracy: 0.8736\n",
      "Epoch 70/100\n",
      "55/55 [==============================] - 0s 5ms/step - loss: 0.1027 - accuracy: 0.9744 - val_loss: 0.4089 - val_accuracy: 0.8467\n",
      "Epoch 71/100\n",
      "55/55 [==============================] - 0s 5ms/step - loss: 0.1052 - accuracy: 0.9690 - val_loss: 0.4097 - val_accuracy: 0.8467\n"
     ]
    },
    {
     "data": {
      "text/plain": [
       "<tensorflow.python.checkpoint.checkpoint.CheckpointLoadStatus at 0x7f243c142ce0>"
      ]
     },
     "execution_count": 6,
     "metadata": {},
     "output_type": "execute_result"
    }
   ],
   "source": [
    "# crate model checkpointer\n",
    "saved_best_model_path = f\"saved_models/{EXP_ID}/best_model_t/\"\n",
    "model.save(saved_best_model_path, True, \"tf\")  # save all model\n",
    "\n",
    "model_chkp = create_model_checkpointer(saved_best_model_path)\n",
    "early_stopper = crate_early_stopper()\n",
    "\n",
    "# Training and validating cycle.\n",
    "history = model.fit(\n",
    "    train_dataset,\n",
    "    validation_data=test_dataset,\n",
    "    epochs=EPOCHS,\n",
    "    callbacks=[model_chkp, early_stopper],\n",
    "    verbose=\"auto\",\n",
    ")\n",
    "\n",
    "# load best model\n",
    "model.load_weights(saved_best_model_path + \"weights/\")\n"
   ]
  },
  {
   "cell_type": "code",
   "execution_count": 7,
   "metadata": {},
   "outputs": [
    {
     "name": "stdout",
     "output_type": "stream",
     "text": [
      "5/5 [==============================] - 0s 3ms/step - loss: 0.3669 - accuracy: 0.8966\n"
     ]
    }
   ],
   "source": [
    "\n",
    "# Evaluate the model accuracy on the validation set.\n",
    "score = model.evaluate(test_dataset, verbose=1)"
   ]
  },
  {
   "cell_type": "code",
   "execution_count": 8,
   "metadata": {},
   "outputs": [
    {
     "name": "stderr",
     "output_type": "stream",
     "text": [
      "/home/webphy/Desktop/dnn_processor/.venv/lib/python3.10/site-packages/keras/src/engine/training.py:3103: UserWarning: You are saving your model as an HDF5 file via `model.save()`. This file format is considered legacy. We recommend using instead the native Keras format, e.g. `model.save('my_model.keras')`.\n",
      "  saving_api.save_model(\n"
     ]
    }
   ],
   "source": [
    "model.save(f\"saved_models/{EXP_ID}/model.h5\")"
   ]
  }
 ],
 "metadata": {
  "kernelspec": {
   "display_name": ".venv",
   "language": "python",
   "name": "python3"
  },
  "language_info": {
   "codemirror_mode": {
    "name": "ipython",
    "version": 3
   },
   "file_extension": ".py",
   "mimetype": "text/x-python",
   "name": "python",
   "nbconvert_exporter": "python",
   "pygments_lexer": "ipython3",
   "version": "3.10.12"
  }
 },
 "nbformat": 4,
 "nbformat_minor": 2
}
