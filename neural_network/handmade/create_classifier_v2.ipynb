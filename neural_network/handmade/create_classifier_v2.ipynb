{
 "cells": [
  {
   "cell_type": "code",
   "execution_count": 1,
   "metadata": {},
   "outputs": [
    {
     "name": "stderr",
     "output_type": "stream",
     "text": [
      "2024-02-06 11:46:01.972320: E external/local_xla/xla/stream_executor/cuda/cuda_dnn.cc:9261] Unable to register cuDNN factory: Attempting to register factory for plugin cuDNN when one has already been registered\n",
      "2024-02-06 11:46:01.972344: E external/local_xla/xla/stream_executor/cuda/cuda_fft.cc:607] Unable to register cuFFT factory: Attempting to register factory for plugin cuFFT when one has already been registered\n",
      "2024-02-06 11:46:01.973209: E external/local_xla/xla/stream_executor/cuda/cuda_blas.cc:1515] Unable to register cuBLAS factory: Attempting to register factory for plugin cuBLAS when one has already been registered\n",
      "/home/webphy/Desktop/dnn_processor/.venv/lib/python3.10/site-packages/tqdm/auto.py:21: TqdmWarning: IProgress not found. Please update jupyter and ipywidgets. See https://ipywidgets.readthedocs.io/en/stable/user_install.html\n",
      "  from .autonotebook import tqdm as notebook_tqdm\n"
     ]
    }
   ],
   "source": [
    "import sys\n",
    "import os\n",
    "os.environ['TF_CPP_MIN_LOG_LEVEL'] = '2'\n",
    "\n",
    "sys.path.append(\"/home/webphy/Desktop/dnn_processor/\")  # just to enable `dataset`\n",
    "sys.path.append(\n",
    "    \"/home/webphy/Desktop/dnn_processor/dataset/\"\n",
    ")  # just to enable `dataset`\n",
    "\n",
    "import tensorflow as tf\n",
    "import optuna\n",
    "import dataset\n",
    "import numpy as np\n",
    "import keras\n",
    "import joblib\n",
    "from datetime import datetime\n",
    "from keras import layers"
   ]
  },
  {
   "cell_type": "code",
   "execution_count": 2,
   "metadata": {},
   "outputs": [],
   "source": [
    "DEFAULT_BATCH_SIZE = 64\n",
    "EPOCHS = 100\n",
    "DEFAULT_INPUT_SIZE = 128\n",
    "\n",
    "train_images_rgx = \"../../dataset/train_set_4x/*/*.jpeg\"\n",
    "test_images_rgx = \"../../dataset/test_set_4x/*/*.jpeg\"\n",
    "\n",
    "train_dataset, test_dataset, num_classes = dataset.create_datasets(\n",
    "    train_images_rgx, test_images_rgx, DEFAULT_BATCH_SIZE, DEFAULT_INPUT_SIZE\n",
    ")"
   ]
  },
  {
   "cell_type": "code",
   "execution_count": 3,
   "metadata": {},
   "outputs": [],
   "source": [
    "\n",
    "\n",
    "def create_model_checkpointer(save_path):\n",
    "    return keras.callbacks.ModelCheckpoint(\n",
    "        save_path + \"weights/\",\n",
    "        \"val_accuracy\",\n",
    "        mode=\"max\",\n",
    "        save_best_only=True,\n",
    "        save_weights_only=True,\n",
    "    )\n",
    "\n",
    "\n",
    "def create_early_stopper():\n",
    "    return keras.callbacks.EarlyStopping(\n",
    "        monitor=\"val_accuracy\",\n",
    "        min_delta=0.05,\n",
    "        patience=20,\n",
    "        verbose=0,\n",
    "        mode=\"max\",\n",
    "        start_from_epoch=50,\n",
    "    )"
   ]
  },
  {
   "cell_type": "code",
   "execution_count": 5,
   "metadata": {},
   "outputs": [
    {
     "name": "stdout",
     "output_type": "stream",
     "text": [
      "Model: \"model_1\"\n",
      "_________________________________________________________________\n",
      " Layer (type)                Output Shape              Param #   \n",
      "=================================================================\n",
      " input_2 (InputLayer)        [(None, 128, 128, 3)]     0         \n",
      "                                                                 \n",
      " conv2d_3 (Conv2D)           (None, 32, 32, 4)         196       \n",
      "                                                                 \n",
      " activation_2 (Activation)   (None, 32, 32, 4)         0         \n",
      "                                                                 \n",
      " conv2d_4 (Conv2D)           (None, 15, 15, 16)        592       \n",
      "                                                                 \n",
      " activation_3 (Activation)   (None, 15, 15, 16)        0         \n",
      "                                                                 \n",
      " conv2d_5 (Conv2D)           (None, 15, 15, 5)         85        \n",
      "                                                                 \n",
      " flatten_1 (Flatten)         (None, 1125)              0         \n",
      "                                                                 \n",
      " dense_1 (Dense)             (None, 5)                 5630      \n",
      "                                                                 \n",
      "=================================================================\n",
      "Total params: 6503 (25.40 KB)\n",
      "Trainable params: 6503 (25.40 KB)\n",
      "Non-trainable params: 0 (0.00 Byte)\n",
      "_________________________________________________________________\n"
     ]
    }
   ],
   "source": [
    "EXP_ID = \"manual_test_4x\"\n",
    "batch_size = 64\n",
    "input_size = 128\n",
    "\n",
    "# load data\n",
    "train_dataset, test_dataset, num_classes = dataset.create_datasets(\n",
    "    train_images_rgx, test_images_rgx, batch_size, input_size\n",
    ")\n",
    "\n",
    "x = x_in = layers.Input(shape=(input_size, input_size, 3))\n",
    "\n",
    "x = keras.layers.Conv2D(4, 4, 4)(x)\n",
    "x = keras.layers.Activation(\"relu\")(x)\n",
    "x = keras.layers.Conv2D(16, 3, 2)(x)\n",
    "x = keras.layers.Activation(\"relu\")(x)\n",
    "x = keras.layers.Conv2D(5, 1, 1)(x)\n",
    "x = keras.layers.Flatten()(x)\n",
    "x = keras.layers.Dense(num_classes)(x)\n",
    "\n",
    "# Build model and optimizer.\n",
    "model = keras.Model(x_in, x)\n",
    "assert isinstance(model, keras.Model), \"model is not a model\"\n",
    "\n",
    "model.summary()"
   ]
  },
  {
   "cell_type": "code",
   "execution_count": 6,
   "metadata": {},
   "outputs": [],
   "source": [
    "\n",
    "optimizer = keras.optimizers.Adam()\n",
    "\n",
    "# compile the model\n",
    "model.compile(\n",
    "    optimizer,\n",
    "    loss=keras.losses.CategoricalCrossentropy(from_logits=True),\n",
    "    metrics=[\"accuracy\"],\n",
    ")\n",
    "\n"
   ]
  },
  {
   "cell_type": "code",
   "execution_count": 7,
   "metadata": {},
   "outputs": [
    {
     "name": "stdout",
     "output_type": "stream",
     "text": [
      "INFO:tensorflow:Assets written to: saved_models/manual_test_4x/best_model_t/assets\n"
     ]
    },
    {
     "name": "stderr",
     "output_type": "stream",
     "text": [
      "INFO:tensorflow:Assets written to: saved_models/manual_test_4x/best_model_t/assets\n"
     ]
    },
    {
     "name": "stdout",
     "output_type": "stream",
     "text": [
      "Epoch 1/100\n"
     ]
    },
    {
     "name": "stderr",
     "output_type": "stream",
     "text": [
      "WARNING: All log messages before absl::InitializeLog() is called are written to STDERR\n",
      "I0000 00:00:1707230815.367715  804243 device_compiler.h:186] Compiled cluster using XLA!  This line is logged at most once for the lifetime of the process.\n"
     ]
    },
    {
     "name": "stdout",
     "output_type": "stream",
     "text": [
      "55/55 [==============================] - 3s 7ms/step - loss: 1.3541 - accuracy: 0.3486 - val_loss: 1.1039 - val_accuracy: 0.5939\n",
      "Epoch 2/100\n",
      "55/55 [==============================] - 0s 5ms/step - loss: 0.8161 - accuracy: 0.6733 - val_loss: 0.7414 - val_accuracy: 0.6820\n",
      "Epoch 3/100\n",
      "55/55 [==============================] - 0s 5ms/step - loss: 0.6634 - accuracy: 0.7281 - val_loss: 0.6347 - val_accuracy: 0.7241\n",
      "Epoch 4/100\n",
      "55/55 [==============================] - 0s 5ms/step - loss: 0.6131 - accuracy: 0.7591 - val_loss: 0.5917 - val_accuracy: 0.7739\n",
      "Epoch 5/100\n",
      "55/55 [==============================] - 0s 5ms/step - loss: 0.5898 - accuracy: 0.7602 - val_loss: 0.6382 - val_accuracy: 0.7241\n",
      "Epoch 6/100\n",
      "55/55 [==============================] - 0s 5ms/step - loss: 0.5842 - accuracy: 0.7614 - val_loss: 0.5410 - val_accuracy: 0.7701\n",
      "Epoch 7/100\n",
      "55/55 [==============================] - 0s 6ms/step - loss: 0.5323 - accuracy: 0.7866 - val_loss: 0.5231 - val_accuracy: 0.8046\n",
      "Epoch 8/100\n",
      "55/55 [==============================] - 0s 5ms/step - loss: 0.5054 - accuracy: 0.8000 - val_loss: 0.5257 - val_accuracy: 0.8008\n",
      "Epoch 9/100\n",
      "55/55 [==============================] - 0s 5ms/step - loss: 0.4726 - accuracy: 0.8185 - val_loss: 0.5315 - val_accuracy: 0.7739\n",
      "Epoch 10/100\n",
      "55/55 [==============================] - 0s 5ms/step - loss: 0.4721 - accuracy: 0.8159 - val_loss: 0.5327 - val_accuracy: 0.7893\n",
      "Epoch 11/100\n",
      "55/55 [==============================] - 0s 5ms/step - loss: 0.4545 - accuracy: 0.8241 - val_loss: 0.4789 - val_accuracy: 0.8046\n",
      "Epoch 12/100\n",
      "55/55 [==============================] - 0s 5ms/step - loss: 0.4396 - accuracy: 0.8281 - val_loss: 0.4813 - val_accuracy: 0.7816\n",
      "Epoch 13/100\n",
      "55/55 [==============================] - 0s 5ms/step - loss: 0.4414 - accuracy: 0.8335 - val_loss: 0.4459 - val_accuracy: 0.8161\n",
      "Epoch 14/100\n",
      "55/55 [==============================] - 0s 5ms/step - loss: 0.4111 - accuracy: 0.8389 - val_loss: 0.4590 - val_accuracy: 0.8008\n",
      "Epoch 15/100\n",
      "55/55 [==============================] - 0s 5ms/step - loss: 0.4171 - accuracy: 0.8355 - val_loss: 0.4133 - val_accuracy: 0.8314\n",
      "Epoch 16/100\n",
      "55/55 [==============================] - 0s 5ms/step - loss: 0.4097 - accuracy: 0.8398 - val_loss: 0.4659 - val_accuracy: 0.8123\n",
      "Epoch 17/100\n",
      "55/55 [==============================] - 0s 5ms/step - loss: 0.3802 - accuracy: 0.8494 - val_loss: 0.3967 - val_accuracy: 0.8123\n",
      "Epoch 18/100\n",
      "55/55 [==============================] - 0s 5ms/step - loss: 0.3888 - accuracy: 0.8491 - val_loss: 0.3962 - val_accuracy: 0.8659\n",
      "Epoch 19/100\n",
      "55/55 [==============================] - 0s 5ms/step - loss: 0.3605 - accuracy: 0.8636 - val_loss: 0.4462 - val_accuracy: 0.8352\n",
      "Epoch 20/100\n",
      "55/55 [==============================] - 0s 5ms/step - loss: 0.3648 - accuracy: 0.8605 - val_loss: 0.3795 - val_accuracy: 0.8276\n",
      "Epoch 21/100\n",
      "55/55 [==============================] - 0s 5ms/step - loss: 0.3518 - accuracy: 0.8656 - val_loss: 0.3918 - val_accuracy: 0.8429\n",
      "Epoch 22/100\n",
      "55/55 [==============================] - 0s 5ms/step - loss: 0.3790 - accuracy: 0.8491 - val_loss: 0.4534 - val_accuracy: 0.7816\n",
      "Epoch 23/100\n",
      "55/55 [==============================] - 0s 5ms/step - loss: 0.3377 - accuracy: 0.8673 - val_loss: 0.3998 - val_accuracy: 0.8506\n",
      "Epoch 24/100\n",
      "55/55 [==============================] - 0s 5ms/step - loss: 0.3262 - accuracy: 0.8702 - val_loss: 0.3553 - val_accuracy: 0.8659\n",
      "Epoch 25/100\n",
      "55/55 [==============================] - 0s 5ms/step - loss: 0.3366 - accuracy: 0.8693 - val_loss: 0.3974 - val_accuracy: 0.8352\n",
      "Epoch 26/100\n",
      "55/55 [==============================] - 0s 5ms/step - loss: 0.3126 - accuracy: 0.8841 - val_loss: 0.3939 - val_accuracy: 0.8276\n",
      "Epoch 27/100\n",
      "55/55 [==============================] - 0s 5ms/step - loss: 0.3183 - accuracy: 0.8787 - val_loss: 0.4158 - val_accuracy: 0.8161\n",
      "Epoch 28/100\n",
      "55/55 [==============================] - 0s 5ms/step - loss: 0.3041 - accuracy: 0.8821 - val_loss: 0.3659 - val_accuracy: 0.8506\n",
      "Epoch 29/100\n",
      "55/55 [==============================] - 0s 5ms/step - loss: 0.3174 - accuracy: 0.8795 - val_loss: 0.3953 - val_accuracy: 0.8544\n",
      "Epoch 30/100\n",
      "55/55 [==============================] - 0s 5ms/step - loss: 0.3267 - accuracy: 0.8730 - val_loss: 0.5164 - val_accuracy: 0.8084\n",
      "Epoch 31/100\n",
      "55/55 [==============================] - 0s 5ms/step - loss: 0.2914 - accuracy: 0.8838 - val_loss: 0.3965 - val_accuracy: 0.8429\n",
      "Epoch 32/100\n",
      "55/55 [==============================] - 0s 5ms/step - loss: 0.2994 - accuracy: 0.8855 - val_loss: 0.4428 - val_accuracy: 0.8314\n",
      "Epoch 33/100\n",
      "55/55 [==============================] - 0s 5ms/step - loss: 0.2871 - accuracy: 0.8918 - val_loss: 0.3959 - val_accuracy: 0.8506\n",
      "Epoch 34/100\n",
      "55/55 [==============================] - 0s 5ms/step - loss: 0.2898 - accuracy: 0.8898 - val_loss: 0.3747 - val_accuracy: 0.8621\n",
      "Epoch 35/100\n",
      "55/55 [==============================] - 0s 5ms/step - loss: 0.2819 - accuracy: 0.8929 - val_loss: 0.4043 - val_accuracy: 0.8084\n",
      "Epoch 36/100\n",
      "55/55 [==============================] - 0s 5ms/step - loss: 0.2797 - accuracy: 0.8980 - val_loss: 0.3960 - val_accuracy: 0.8506\n",
      "Epoch 37/100\n",
      "55/55 [==============================] - 0s 5ms/step - loss: 0.2623 - accuracy: 0.9043 - val_loss: 0.3863 - val_accuracy: 0.8314\n",
      "Epoch 38/100\n",
      "55/55 [==============================] - 0s 5ms/step - loss: 0.2553 - accuracy: 0.9088 - val_loss: 0.4479 - val_accuracy: 0.8314\n",
      "Epoch 39/100\n",
      "55/55 [==============================] - 0s 5ms/step - loss: 0.2546 - accuracy: 0.9080 - val_loss: 0.4221 - val_accuracy: 0.8199\n",
      "Epoch 40/100\n",
      "55/55 [==============================] - 0s 5ms/step - loss: 0.2614 - accuracy: 0.8997 - val_loss: 0.3979 - val_accuracy: 0.8697\n",
      "Epoch 41/100\n",
      "55/55 [==============================] - 0s 5ms/step - loss: 0.2611 - accuracy: 0.8997 - val_loss: 0.3798 - val_accuracy: 0.8582\n",
      "Epoch 42/100\n",
      "55/55 [==============================] - 0s 5ms/step - loss: 0.2438 - accuracy: 0.9088 - val_loss: 0.4013 - val_accuracy: 0.8391\n",
      "Epoch 43/100\n",
      "55/55 [==============================] - 0s 5ms/step - loss: 0.2433 - accuracy: 0.9099 - val_loss: 0.3907 - val_accuracy: 0.8238\n",
      "Epoch 44/100\n",
      "55/55 [==============================] - 0s 5ms/step - loss: 0.2365 - accuracy: 0.9153 - val_loss: 0.3840 - val_accuracy: 0.8506\n",
      "Epoch 45/100\n",
      "55/55 [==============================] - 0s 5ms/step - loss: 0.2655 - accuracy: 0.8938 - val_loss: 0.5270 - val_accuracy: 0.7931\n",
      "Epoch 46/100\n",
      "55/55 [==============================] - 0s 5ms/step - loss: 0.2656 - accuracy: 0.8983 - val_loss: 0.3956 - val_accuracy: 0.8352\n",
      "Epoch 47/100\n",
      "55/55 [==============================] - 0s 5ms/step - loss: 0.2442 - accuracy: 0.9139 - val_loss: 0.3944 - val_accuracy: 0.8582\n",
      "Epoch 48/100\n",
      "55/55 [==============================] - 0s 5ms/step - loss: 0.2163 - accuracy: 0.9196 - val_loss: 0.4313 - val_accuracy: 0.8506\n",
      "Epoch 49/100\n",
      "55/55 [==============================] - 0s 5ms/step - loss: 0.2089 - accuracy: 0.9278 - val_loss: 0.4508 - val_accuracy: 0.8276\n",
      "Epoch 50/100\n",
      "55/55 [==============================] - 0s 5ms/step - loss: 0.2239 - accuracy: 0.9185 - val_loss: 0.4118 - val_accuracy: 0.8506\n",
      "Epoch 51/100\n",
      "55/55 [==============================] - 0s 5ms/step - loss: 0.2481 - accuracy: 0.9151 - val_loss: 0.4952 - val_accuracy: 0.8391\n",
      "Epoch 52/100\n",
      "55/55 [==============================] - 0s 5ms/step - loss: 0.2149 - accuracy: 0.9261 - val_loss: 0.4481 - val_accuracy: 0.8276\n",
      "Epoch 53/100\n",
      "55/55 [==============================] - 0s 5ms/step - loss: 0.2130 - accuracy: 0.9278 - val_loss: 0.4107 - val_accuracy: 0.8429\n",
      "Epoch 54/100\n",
      "55/55 [==============================] - 0s 5ms/step - loss: 0.2066 - accuracy: 0.9259 - val_loss: 0.4963 - val_accuracy: 0.8276\n",
      "Epoch 55/100\n",
      "55/55 [==============================] - 0s 5ms/step - loss: 0.2084 - accuracy: 0.9295 - val_loss: 0.4549 - val_accuracy: 0.8467\n",
      "Epoch 56/100\n",
      "55/55 [==============================] - 0s 5ms/step - loss: 0.2042 - accuracy: 0.9276 - val_loss: 0.4852 - val_accuracy: 0.8391\n",
      "Epoch 57/100\n",
      "55/55 [==============================] - 0s 5ms/step - loss: 0.1893 - accuracy: 0.9361 - val_loss: 0.4532 - val_accuracy: 0.8429\n",
      "Epoch 58/100\n",
      "55/55 [==============================] - 0s 5ms/step - loss: 0.1879 - accuracy: 0.9372 - val_loss: 0.4868 - val_accuracy: 0.8199\n",
      "Epoch 59/100\n",
      "55/55 [==============================] - 0s 5ms/step - loss: 0.1932 - accuracy: 0.9338 - val_loss: 0.5289 - val_accuracy: 0.8123\n",
      "Epoch 60/100\n",
      "55/55 [==============================] - 0s 5ms/step - loss: 0.1984 - accuracy: 0.9344 - val_loss: 0.4696 - val_accuracy: 0.8276\n",
      "Epoch 61/100\n",
      "55/55 [==============================] - 0s 5ms/step - loss: 0.1882 - accuracy: 0.9386 - val_loss: 0.5009 - val_accuracy: 0.8199\n",
      "Epoch 62/100\n",
      "55/55 [==============================] - 0s 5ms/step - loss: 0.1911 - accuracy: 0.9389 - val_loss: 0.5167 - val_accuracy: 0.8123\n",
      "Epoch 63/100\n",
      "55/55 [==============================] - 0s 5ms/step - loss: 0.1859 - accuracy: 0.9352 - val_loss: 0.4751 - val_accuracy: 0.8276\n",
      "Epoch 64/100\n",
      "55/55 [==============================] - 0s 5ms/step - loss: 0.1930 - accuracy: 0.9341 - val_loss: 0.5587 - val_accuracy: 0.8046\n",
      "Epoch 65/100\n",
      "55/55 [==============================] - 0s 5ms/step - loss: 0.1763 - accuracy: 0.9420 - val_loss: 0.5678 - val_accuracy: 0.8008\n",
      "Epoch 66/100\n",
      "55/55 [==============================] - 0s 4ms/step - loss: 0.1737 - accuracy: 0.9457 - val_loss: 0.5421 - val_accuracy: 0.8008\n",
      "Epoch 67/100\n",
      "55/55 [==============================] - 0s 4ms/step - loss: 0.1680 - accuracy: 0.9472 - val_loss: 0.4833 - val_accuracy: 0.8429\n",
      "Epoch 68/100\n",
      "55/55 [==============================] - 0s 5ms/step - loss: 0.1647 - accuracy: 0.9477 - val_loss: 0.6013 - val_accuracy: 0.7931\n",
      "Epoch 69/100\n",
      "55/55 [==============================] - 0s 5ms/step - loss: 0.1652 - accuracy: 0.9457 - val_loss: 0.5677 - val_accuracy: 0.8161\n",
      "Epoch 70/100\n",
      "55/55 [==============================] - 0s 5ms/step - loss: 0.1601 - accuracy: 0.9429 - val_loss: 0.5495 - val_accuracy: 0.8161\n",
      "Epoch 71/100\n",
      "55/55 [==============================] - 0s 5ms/step - loss: 0.1594 - accuracy: 0.9463 - val_loss: 0.6278 - val_accuracy: 0.8084\n"
     ]
    },
    {
     "data": {
      "text/plain": [
       "<tensorflow.python.checkpoint.checkpoint.CheckpointLoadStatus at 0x7f70e4eaba90>"
      ]
     },
     "execution_count": 7,
     "metadata": {},
     "output_type": "execute_result"
    }
   ],
   "source": [
    "# crate model checkpointer\n",
    "saved_best_model_path = f\"saved_models/{EXP_ID}/best_model_t/\"\n",
    "model.save(saved_best_model_path, True, \"tf\")  # save all model\n",
    "\n",
    "model_chkp = create_model_checkpointer(saved_best_model_path)\n",
    "early_stopper = create_early_stopper()\n",
    "\n",
    "# Training and validating cycle.\n",
    "history = model.fit(\n",
    "    train_dataset,\n",
    "    validation_data=test_dataset,\n",
    "    epochs=EPOCHS,\n",
    "    callbacks=[model_chkp, early_stopper],\n",
    "    verbose=\"auto\",\n",
    ")\n",
    "\n",
    "# load best model\n",
    "model.load_weights(saved_best_model_path + \"weights/\")\n"
   ]
  },
  {
   "cell_type": "code",
   "execution_count": 8,
   "metadata": {},
   "outputs": [
    {
     "name": "stdout",
     "output_type": "stream",
     "text": [
      "5/5 [==============================] - 0s 3ms/step - loss: 0.3979 - accuracy: 0.8697\n"
     ]
    }
   ],
   "source": [
    "\n",
    "# Evaluate the model accuracy on the validation set.\n",
    "score = model.evaluate(test_dataset, verbose=1)"
   ]
  },
  {
   "cell_type": "code",
   "execution_count": 10,
   "metadata": {},
   "outputs": [],
   "source": [
    "model.save(f\"saved_models/{EXP_ID}/model.h5\")"
   ]
  },
  {
   "cell_type": "code",
   "execution_count": null,
   "metadata": {},
   "outputs": [],
   "source": []
  }
 ],
 "metadata": {
  "kernelspec": {
   "display_name": ".venv",
   "language": "python",
   "name": "python3"
  },
  "language_info": {
   "codemirror_mode": {
    "name": "ipython",
    "version": 3
   },
   "file_extension": ".py",
   "mimetype": "text/x-python",
   "name": "python",
   "nbconvert_exporter": "python",
   "pygments_lexer": "ipython3",
   "version": "3.10.12"
  }
 },
 "nbformat": 4,
 "nbformat_minor": 2
}
