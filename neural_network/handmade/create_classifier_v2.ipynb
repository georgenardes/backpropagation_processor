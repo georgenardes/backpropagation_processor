{
 "cells": [
  {
   "cell_type": "code",
   "execution_count": 1,
   "metadata": {},
   "outputs": [
    {
     "name": "stderr",
     "output_type": "stream",
     "text": [
      "2024-02-05 19:39:37.460325: E external/local_xla/xla/stream_executor/cuda/cuda_dnn.cc:9261] Unable to register cuDNN factory: Attempting to register factory for plugin cuDNN when one has already been registered\n",
      "2024-02-05 19:39:37.460358: E external/local_xla/xla/stream_executor/cuda/cuda_fft.cc:607] Unable to register cuFFT factory: Attempting to register factory for plugin cuFFT when one has already been registered\n",
      "2024-02-05 19:39:37.461243: E external/local_xla/xla/stream_executor/cuda/cuda_blas.cc:1515] Unable to register cuBLAS factory: Attempting to register factory for plugin cuBLAS when one has already been registered\n",
      "/home/webphy/Desktop/dnn_processor/.venv/lib/python3.10/site-packages/tqdm/auto.py:21: TqdmWarning: IProgress not found. Please update jupyter and ipywidgets. See https://ipywidgets.readthedocs.io/en/stable/user_install.html\n",
      "  from .autonotebook import tqdm as notebook_tqdm\n"
     ]
    }
   ],
   "source": [
    "import sys\n",
    "import os\n",
    "os.environ['TF_CPP_MIN_LOG_LEVEL'] = '2'\n",
    "\n",
    "sys.path.append(\"/home/webphy/Desktop/dnn_processor/\")  # just to enable `dataset`\n",
    "sys.path.append(\n",
    "    \"/home/webphy/Desktop/dnn_processor/dataset/}\"\n",
    ")  # just to enable `dataset`\n",
    "\n",
    "import tensorflow as tf\n",
    "import optuna\n",
    "import dataset\n",
    "import numpy as np\n",
    "import keras\n",
    "import joblib\n",
    "from datetime import datetime\n",
    "from keras import layers"
   ]
  },
  {
   "cell_type": "code",
   "execution_count": 2,
   "metadata": {},
   "outputs": [],
   "source": [
    "DEFAULT_BATCH_SIZE = 64\n",
    "EPOCHS = 100\n",
    "DEFAULT_INPUT_SIZE = 128\n",
    "\n",
    "train_images_rgx = \"../../dataset/train_set_4x/*/*.jpeg\"\n",
    "test_images_rgx = \"../../dataset/test_set_4x/*/*.jpeg\"\n",
    "\n",
    "train_dataset, test_dataset, num_classes = dataset.create_datasets(\n",
    "    train_images_rgx, test_images_rgx, DEFAULT_BATCH_SIZE, DEFAULT_INPUT_SIZE\n",
    ")"
   ]
  },
  {
   "cell_type": "code",
   "execution_count": 3,
   "metadata": {},
   "outputs": [],
   "source": [
    "\n",
    "\n",
    "def create_model_checkpointer(save_path):\n",
    "    return keras.callbacks.ModelCheckpoint(\n",
    "        save_path + \"weights/\",\n",
    "        \"val_accuracy\",\n",
    "        mode=\"max\",\n",
    "        save_best_only=True,\n",
    "        save_weights_only=True,\n",
    "    )\n",
    "\n",
    "\n",
    "def crate_early_stopper():\n",
    "    return keras.callbacks.EarlyStopping(\n",
    "        monitor=\"val_accuracy\",\n",
    "        min_delta=0.05,\n",
    "        patience=20,\n",
    "        verbose=0,\n",
    "        mode=\"max\",\n",
    "        start_from_epoch=50,\n",
    "    )"
   ]
  },
  {
   "cell_type": "code",
   "execution_count": 4,
   "metadata": {},
   "outputs": [
    {
     "name": "stdout",
     "output_type": "stream",
     "text": [
      "Model: \"model\"\n",
      "_________________________________________________________________\n",
      " Layer (type)                Output Shape              Param #   \n",
      "=================================================================\n",
      " input_1 (InputLayer)        [(None, 128, 128, 3)]     0         \n",
      "                                                                 \n",
      " conv2d (Conv2D)             (None, 32, 32, 4)         196       \n",
      "                                                                 \n",
      " activation (Activation)     (None, 32, 32, 4)         0         \n",
      "                                                                 \n",
      " conv2d_1 (Conv2D)           (None, 30, 30, 16)        592       \n",
      "                                                                 \n",
      " activation_1 (Activation)   (None, 30, 30, 16)        0         \n",
      "                                                                 \n",
      " max_pooling2d (MaxPooling2  (None, 15, 15, 16)        0         \n",
      " D)                                                              \n",
      "                                                                 \n",
      " flatten (Flatten)           (None, 3600)              0         \n",
      "                                                                 \n",
      " dense (Dense)               (None, 5)                 18005     \n",
      "                                                                 \n",
      "=================================================================\n",
      "Total params: 18793 (73.41 KB)\n",
      "Trainable params: 18793 (73.41 KB)\n",
      "Non-trainable params: 0 (0.00 Byte)\n",
      "_________________________________________________________________\n"
     ]
    }
   ],
   "source": [
    "EXP_ID = \"manual_test_4x\"\n",
    "batch_size = 64\n",
    "input_size = 128\n",
    "\n",
    "# load data\n",
    "train_dataset, test_dataset, num_classes = dataset.create_datasets(\n",
    "    train_images_rgx, test_images_rgx, batch_size, input_size\n",
    ")\n",
    "\n",
    "x = x_in = layers.Input(shape=(input_size, input_size, 3))\n",
    "\n",
    "x = keras.layers.Conv2D(4, 4, 4)(x)\n",
    "x = keras.layers.Activation(\"relu\")(x)\n",
    "x = keras.layers.Conv2D(16, 3, 1)(x)\n",
    "x = keras.layers.Activation(\"relu\")(x)\n",
    "x = keras.layers.MaxPool2D()(x)\n",
    "x = keras.layers.Flatten()(x)\n",
    "x = keras.layers.Dense(num_classes)(x)\n",
    "\n",
    "# Build model and optimizer.\n",
    "model = keras.Model(x_in, x)\n",
    "assert isinstance(model, keras.Model), \"model is not a model\"\n",
    "\n",
    "model.summary()"
   ]
  },
  {
   "cell_type": "code",
   "execution_count": 5,
   "metadata": {},
   "outputs": [],
   "source": [
    "\n",
    "optimizer = keras.optimizers.Adam()\n",
    "\n",
    "# compile the model\n",
    "model.compile(\n",
    "    optimizer,\n",
    "    loss=keras.losses.CategoricalCrossentropy(from_logits=True),\n",
    "    metrics=[\"accuracy\"],\n",
    ")\n",
    "\n"
   ]
  },
  {
   "cell_type": "code",
   "execution_count": 6,
   "metadata": {},
   "outputs": [
    {
     "name": "stdout",
     "output_type": "stream",
     "text": [
      "INFO:tensorflow:Assets written to: saved_models/manual_test_4x/best_model_t/assets\n"
     ]
    },
    {
     "name": "stderr",
     "output_type": "stream",
     "text": [
      "INFO:tensorflow:Assets written to: saved_models/manual_test_4x/best_model_t/assets\n"
     ]
    },
    {
     "name": "stdout",
     "output_type": "stream",
     "text": [
      "Epoch 1/100\n"
     ]
    },
    {
     "name": "stderr",
     "output_type": "stream",
     "text": [
      "WARNING: All log messages before absl::InitializeLog() is called are written to STDERR\n",
      "I0000 00:00:1707172781.682236  555633 device_compiler.h:186] Compiled cluster using XLA!  This line is logged at most once for the lifetime of the process.\n"
     ]
    },
    {
     "name": "stdout",
     "output_type": "stream",
     "text": [
      "19/19 [==============================] - 3s 17ms/step - loss: 1.5321 - accuracy: 0.2368 - val_loss: 1.4958 - val_accuracy: 0.2692\n",
      "Epoch 2/100\n",
      "19/19 [==============================] - 0s 6ms/step - loss: 1.4175 - accuracy: 0.2500 - val_loss: 1.3932 - val_accuracy: 0.2923\n",
      "Epoch 3/100\n",
      "19/19 [==============================] - 0s 6ms/step - loss: 1.3312 - accuracy: 0.3602 - val_loss: 1.2586 - val_accuracy: 0.4692\n",
      "Epoch 4/100\n",
      "19/19 [==============================] - 0s 6ms/step - loss: 1.1407 - accuracy: 0.5995 - val_loss: 1.0033 - val_accuracy: 0.6769\n",
      "Epoch 5/100\n",
      "19/19 [==============================] - 0s 6ms/step - loss: 0.9246 - accuracy: 0.6661 - val_loss: 0.8704 - val_accuracy: 0.6846\n",
      "Epoch 6/100\n",
      "19/19 [==============================] - 0s 6ms/step - loss: 0.7787 - accuracy: 0.7048 - val_loss: 0.6950 - val_accuracy: 0.7846\n",
      "Epoch 7/100\n",
      "19/19 [==============================] - 0s 5ms/step - loss: 0.6726 - accuracy: 0.7459 - val_loss: 0.6567 - val_accuracy: 0.7385\n",
      "Epoch 8/100\n",
      "19/19 [==============================] - 0s 6ms/step - loss: 0.6084 - accuracy: 0.7796 - val_loss: 0.6338 - val_accuracy: 0.7923\n",
      "Epoch 9/100\n",
      "19/19 [==============================] - 0s 5ms/step - loss: 0.6023 - accuracy: 0.7829 - val_loss: 0.7171 - val_accuracy: 0.6769\n",
      "Epoch 10/100\n",
      "19/19 [==============================] - 0s 6ms/step - loss: 0.5849 - accuracy: 0.7763 - val_loss: 0.5358 - val_accuracy: 0.8000\n",
      "Epoch 11/100\n",
      "19/19 [==============================] - 0s 6ms/step - loss: 0.5359 - accuracy: 0.7985 - val_loss: 0.5982 - val_accuracy: 0.8077\n",
      "Epoch 12/100\n",
      "19/19 [==============================] - 0s 5ms/step - loss: 0.5424 - accuracy: 0.7961 - val_loss: 0.6316 - val_accuracy: 0.7231\n",
      "Epoch 13/100\n",
      "19/19 [==============================] - 0s 5ms/step - loss: 0.5201 - accuracy: 0.8100 - val_loss: 0.5388 - val_accuracy: 0.7692\n",
      "Epoch 14/100\n",
      "19/19 [==============================] - 0s 5ms/step - loss: 0.4941 - accuracy: 0.8125 - val_loss: 0.5441 - val_accuracy: 0.8000\n",
      "Epoch 15/100\n",
      "19/19 [==============================] - 0s 5ms/step - loss: 0.4980 - accuracy: 0.8051 - val_loss: 0.5694 - val_accuracy: 0.8000\n",
      "Epoch 16/100\n",
      "19/19 [==============================] - 0s 5ms/step - loss: 0.4658 - accuracy: 0.8306 - val_loss: 0.5096 - val_accuracy: 0.8000\n",
      "Epoch 17/100\n",
      "19/19 [==============================] - 0s 5ms/step - loss: 0.4622 - accuracy: 0.8240 - val_loss: 0.5756 - val_accuracy: 0.7692\n",
      "Epoch 18/100\n",
      "19/19 [==============================] - 0s 5ms/step - loss: 0.4632 - accuracy: 0.8289 - val_loss: 0.5019 - val_accuracy: 0.8000\n",
      "Epoch 19/100\n",
      "19/19 [==============================] - 0s 5ms/step - loss: 0.4451 - accuracy: 0.8355 - val_loss: 0.5041 - val_accuracy: 0.7846\n",
      "Epoch 20/100\n",
      "19/19 [==============================] - 0s 6ms/step - loss: 0.4645 - accuracy: 0.8232 - val_loss: 0.5970 - val_accuracy: 0.7692\n",
      "Epoch 21/100\n",
      "19/19 [==============================] - 0s 6ms/step - loss: 0.4451 - accuracy: 0.8380 - val_loss: 0.4765 - val_accuracy: 0.8231\n",
      "Epoch 22/100\n",
      "19/19 [==============================] - 0s 5ms/step - loss: 0.4288 - accuracy: 0.8487 - val_loss: 0.5270 - val_accuracy: 0.8000\n",
      "Epoch 23/100\n",
      "19/19 [==============================] - 0s 5ms/step - loss: 0.4256 - accuracy: 0.8462 - val_loss: 0.4831 - val_accuracy: 0.8231\n",
      "Epoch 24/100\n",
      "19/19 [==============================] - 0s 5ms/step - loss: 0.4172 - accuracy: 0.8569 - val_loss: 0.4996 - val_accuracy: 0.7846\n",
      "Epoch 25/100\n",
      "19/19 [==============================] - 0s 5ms/step - loss: 0.4008 - accuracy: 0.8512 - val_loss: 0.4779 - val_accuracy: 0.7846\n",
      "Epoch 26/100\n",
      "19/19 [==============================] - 0s 6ms/step - loss: 0.3949 - accuracy: 0.8470 - val_loss: 0.4721 - val_accuracy: 0.8308\n",
      "Epoch 27/100\n",
      "19/19 [==============================] - 0s 5ms/step - loss: 0.3909 - accuracy: 0.8536 - val_loss: 0.4811 - val_accuracy: 0.8000\n",
      "Epoch 28/100\n",
      "19/19 [==============================] - 0s 5ms/step - loss: 0.3868 - accuracy: 0.8602 - val_loss: 0.4450 - val_accuracy: 0.8154\n",
      "Epoch 29/100\n",
      "19/19 [==============================] - 0s 5ms/step - loss: 0.3815 - accuracy: 0.8577 - val_loss: 0.4591 - val_accuracy: 0.8231\n",
      "Epoch 30/100\n",
      "19/19 [==============================] - 0s 5ms/step - loss: 0.3643 - accuracy: 0.8709 - val_loss: 0.4754 - val_accuracy: 0.8000\n",
      "Epoch 31/100\n",
      "19/19 [==============================] - 0s 5ms/step - loss: 0.3661 - accuracy: 0.8553 - val_loss: 0.4866 - val_accuracy: 0.7769\n",
      "Epoch 32/100\n",
      "19/19 [==============================] - 0s 5ms/step - loss: 0.3581 - accuracy: 0.8725 - val_loss: 0.4483 - val_accuracy: 0.8000\n",
      "Epoch 33/100\n",
      "19/19 [==============================] - 0s 5ms/step - loss: 0.3492 - accuracy: 0.8824 - val_loss: 0.4558 - val_accuracy: 0.8077\n",
      "Epoch 34/100\n",
      "19/19 [==============================] - 0s 5ms/step - loss: 0.3333 - accuracy: 0.8898 - val_loss: 0.4312 - val_accuracy: 0.8231\n",
      "Epoch 35/100\n",
      "19/19 [==============================] - 0s 5ms/step - loss: 0.3396 - accuracy: 0.8766 - val_loss: 0.4303 - val_accuracy: 0.8231\n",
      "Epoch 36/100\n",
      "19/19 [==============================] - 0s 5ms/step - loss: 0.3478 - accuracy: 0.8668 - val_loss: 0.4659 - val_accuracy: 0.8000\n",
      "Epoch 37/100\n",
      "19/19 [==============================] - 0s 5ms/step - loss: 0.3233 - accuracy: 0.8898 - val_loss: 0.4460 - val_accuracy: 0.8154\n",
      "Epoch 38/100\n",
      "19/19 [==============================] - 0s 5ms/step - loss: 0.3203 - accuracy: 0.8947 - val_loss: 0.4332 - val_accuracy: 0.8154\n",
      "Epoch 39/100\n",
      "19/19 [==============================] - 0s 5ms/step - loss: 0.3177 - accuracy: 0.8906 - val_loss: 0.4462 - val_accuracy: 0.8154\n",
      "Epoch 40/100\n",
      "19/19 [==============================] - 0s 6ms/step - loss: 0.3379 - accuracy: 0.8750 - val_loss: 0.4217 - val_accuracy: 0.8308\n",
      "Epoch 41/100\n",
      "19/19 [==============================] - 0s 5ms/step - loss: 0.3238 - accuracy: 0.8857 - val_loss: 0.5252 - val_accuracy: 0.8000\n",
      "Epoch 42/100\n",
      "19/19 [==============================] - 0s 5ms/step - loss: 0.2999 - accuracy: 0.8923 - val_loss: 0.4124 - val_accuracy: 0.8154\n",
      "Epoch 43/100\n",
      "19/19 [==============================] - 0s 5ms/step - loss: 0.2963 - accuracy: 0.9046 - val_loss: 0.4590 - val_accuracy: 0.8000\n",
      "Epoch 44/100\n",
      "19/19 [==============================] - 0s 5ms/step - loss: 0.3002 - accuracy: 0.9005 - val_loss: 0.4280 - val_accuracy: 0.8231\n",
      "Epoch 45/100\n",
      "19/19 [==============================] - 0s 5ms/step - loss: 0.2863 - accuracy: 0.9095 - val_loss: 0.4850 - val_accuracy: 0.7769\n",
      "Epoch 46/100\n",
      "19/19 [==============================] - 0s 5ms/step - loss: 0.2789 - accuracy: 0.9079 - val_loss: 0.4243 - val_accuracy: 0.8077\n",
      "Epoch 47/100\n",
      "19/19 [==============================] - 0s 5ms/step - loss: 0.2664 - accuracy: 0.9186 - val_loss: 0.4885 - val_accuracy: 0.7923\n",
      "Epoch 48/100\n",
      "19/19 [==============================] - 0s 5ms/step - loss: 0.2630 - accuracy: 0.9219 - val_loss: 0.4291 - val_accuracy: 0.8308\n",
      "Epoch 49/100\n",
      "19/19 [==============================] - 0s 5ms/step - loss: 0.2588 - accuracy: 0.9268 - val_loss: 0.4123 - val_accuracy: 0.8154\n",
      "Epoch 50/100\n",
      "19/19 [==============================] - 0s 5ms/step - loss: 0.2464 - accuracy: 0.9235 - val_loss: 0.4172 - val_accuracy: 0.8000\n",
      "Epoch 51/100\n",
      "19/19 [==============================] - 0s 5ms/step - loss: 0.2410 - accuracy: 0.9317 - val_loss: 0.4191 - val_accuracy: 0.8308\n",
      "Epoch 52/100\n",
      "19/19 [==============================] - 0s 5ms/step - loss: 0.2629 - accuracy: 0.9145 - val_loss: 0.4540 - val_accuracy: 0.7846\n",
      "Epoch 53/100\n",
      "19/19 [==============================] - 0s 5ms/step - loss: 0.2487 - accuracy: 0.9202 - val_loss: 0.4173 - val_accuracy: 0.8077\n",
      "Epoch 54/100\n",
      "19/19 [==============================] - 0s 5ms/step - loss: 0.2320 - accuracy: 0.9350 - val_loss: 0.3805 - val_accuracy: 0.8308\n",
      "Epoch 55/100\n",
      "19/19 [==============================] - 0s 6ms/step - loss: 0.2339 - accuracy: 0.9260 - val_loss: 0.3975 - val_accuracy: 0.8385\n",
      "Epoch 56/100\n",
      "19/19 [==============================] - 0s 5ms/step - loss: 0.2482 - accuracy: 0.9194 - val_loss: 0.4002 - val_accuracy: 0.8154\n",
      "Epoch 57/100\n",
      "19/19 [==============================] - 0s 5ms/step - loss: 0.2367 - accuracy: 0.9301 - val_loss: 0.5244 - val_accuracy: 0.8000\n",
      "Epoch 58/100\n",
      "19/19 [==============================] - 0s 5ms/step - loss: 0.2484 - accuracy: 0.9219 - val_loss: 0.4214 - val_accuracy: 0.8154\n",
      "Epoch 59/100\n",
      "19/19 [==============================] - 0s 5ms/step - loss: 0.2386 - accuracy: 0.9285 - val_loss: 0.4721 - val_accuracy: 0.8077\n",
      "Epoch 60/100\n",
      "19/19 [==============================] - 0s 5ms/step - loss: 0.2513 - accuracy: 0.9071 - val_loss: 0.5273 - val_accuracy: 0.7692\n",
      "Epoch 61/100\n",
      "19/19 [==============================] - 0s 6ms/step - loss: 0.2717 - accuracy: 0.9079 - val_loss: 0.4215 - val_accuracy: 0.8538\n",
      "Epoch 62/100\n",
      "19/19 [==============================] - 0s 5ms/step - loss: 0.2368 - accuracy: 0.9301 - val_loss: 0.4084 - val_accuracy: 0.8154\n",
      "Epoch 63/100\n",
      "19/19 [==============================] - 0s 5ms/step - loss: 0.2162 - accuracy: 0.9400 - val_loss: 0.4573 - val_accuracy: 0.8000\n",
      "Epoch 64/100\n",
      "19/19 [==============================] - 0s 5ms/step - loss: 0.2147 - accuracy: 0.9359 - val_loss: 0.4138 - val_accuracy: 0.8538\n",
      "Epoch 65/100\n",
      "19/19 [==============================] - 0s 5ms/step - loss: 0.2038 - accuracy: 0.9490 - val_loss: 0.3771 - val_accuracy: 0.8538\n",
      "Epoch 66/100\n",
      "19/19 [==============================] - 0s 5ms/step - loss: 0.2089 - accuracy: 0.9359 - val_loss: 0.3624 - val_accuracy: 0.8385\n",
      "Epoch 67/100\n",
      "19/19 [==============================] - 0s 5ms/step - loss: 0.1993 - accuracy: 0.9482 - val_loss: 0.3777 - val_accuracy: 0.8154\n",
      "Epoch 68/100\n",
      "19/19 [==============================] - 0s 5ms/step - loss: 0.1987 - accuracy: 0.9433 - val_loss: 0.4338 - val_accuracy: 0.8154\n",
      "Epoch 69/100\n",
      "19/19 [==============================] - 0s 5ms/step - loss: 0.1859 - accuracy: 0.9523 - val_loss: 0.3895 - val_accuracy: 0.8385\n",
      "Epoch 70/100\n",
      "19/19 [==============================] - 0s 5ms/step - loss: 0.1827 - accuracy: 0.9531 - val_loss: 0.3923 - val_accuracy: 0.8000\n",
      "Epoch 71/100\n",
      "19/19 [==============================] - 0s 5ms/step - loss: 0.1734 - accuracy: 0.9622 - val_loss: 0.3906 - val_accuracy: 0.8154\n"
     ]
    },
    {
     "data": {
      "text/plain": [
       "<tensorflow.python.checkpoint.checkpoint.CheckpointLoadStatus at 0x7f5952fa18a0>"
      ]
     },
     "execution_count": 6,
     "metadata": {},
     "output_type": "execute_result"
    }
   ],
   "source": [
    "# crate model checkpointer\n",
    "saved_best_model_path = f\"saved_models/{EXP_ID}/best_model_t/\"\n",
    "model.save(saved_best_model_path, True, \"tf\")  # save all model\n",
    "\n",
    "model_chkp = create_model_checkpointer(saved_best_model_path)\n",
    "early_stopper = crate_early_stopper()\n",
    "\n",
    "# Training and validating cycle.\n",
    "history = model.fit(\n",
    "    train_dataset,\n",
    "    validation_data=test_dataset,\n",
    "    epochs=EPOCHS,\n",
    "    callbacks=[model_chkp, early_stopper],\n",
    "    verbose=\"auto\",\n",
    ")\n",
    "\n",
    "# load best model\n",
    "model.load_weights(saved_best_model_path + \"weights/\")\n"
   ]
  },
  {
   "cell_type": "code",
   "execution_count": 9,
   "metadata": {},
   "outputs": [
    {
     "name": "stdout",
     "output_type": "stream",
     "text": [
      "3/3 [==============================] - 0s 3ms/step - loss: 0.4215 - accuracy: 0.8538\n"
     ]
    }
   ],
   "source": [
    "\n",
    "# Evaluate the model accuracy on the validation set.\n",
    "score = model.evaluate(test_dataset, verbose=1)"
   ]
  },
  {
   "cell_type": "code",
   "execution_count": 10,
   "metadata": {},
   "outputs": [
    {
     "name": "stderr",
     "output_type": "stream",
     "text": [
      "/home/webphy/Desktop/dnn_processor/.venv/lib/python3.10/site-packages/keras/src/engine/training.py:3103: UserWarning: You are saving your model as an HDF5 file via `model.save()`. This file format is considered legacy. We recommend using instead the native Keras format, e.g. `model.save('my_model.keras')`.\n",
      "  saving_api.save_model(\n"
     ]
    }
   ],
   "source": [
    "model.save(f\"saved_models/{EXP_ID}/model.h5\")"
   ]
  }
 ],
 "metadata": {
  "kernelspec": {
   "display_name": ".venv",
   "language": "python",
   "name": "python3"
  },
  "language_info": {
   "codemirror_mode": {
    "name": "ipython",
    "version": 3
   },
   "file_extension": ".py",
   "mimetype": "text/x-python",
   "name": "python",
   "nbconvert_exporter": "python",
   "pygments_lexer": "ipython3",
   "version": "3.10.12"
  }
 },
 "nbformat": 4,
 "nbformat_minor": 2
}
