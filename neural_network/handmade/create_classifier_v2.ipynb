{
 "cells": [
  {
   "cell_type": "code",
   "execution_count": 1,
   "metadata": {},
   "outputs": [
    {
     "name": "stderr",
     "output_type": "stream",
     "text": [
      "2024-02-12 16:43:01.715095: I tensorflow/core/util/port.cc:113] oneDNN custom operations are on. You may see slightly different numerical results due to floating-point round-off errors from different computation orders. To turn them off, set the environment variable `TF_ENABLE_ONEDNN_OPTS=0`.\n",
      "2024-02-12 16:43:01.737523: E external/local_xla/xla/stream_executor/cuda/cuda_dnn.cc:9261] Unable to register cuDNN factory: Attempting to register factory for plugin cuDNN when one has already been registered\n",
      "2024-02-12 16:43:01.737542: E external/local_xla/xla/stream_executor/cuda/cuda_fft.cc:607] Unable to register cuFFT factory: Attempting to register factory for plugin cuFFT when one has already been registered\n",
      "2024-02-12 16:43:01.738167: E external/local_xla/xla/stream_executor/cuda/cuda_blas.cc:1515] Unable to register cuBLAS factory: Attempting to register factory for plugin cuBLAS when one has already been registered\n",
      "2024-02-12 16:43:01.742131: I tensorflow/core/platform/cpu_feature_guard.cc:182] This TensorFlow binary is optimized to use available CPU instructions in performance-critical operations.\n",
      "To enable the following instructions: AVX2 AVX_VNNI FMA, in other operations, rebuild TensorFlow with the appropriate compiler flags.\n",
      "2024-02-12 16:43:02.175855: W tensorflow/compiler/tf2tensorrt/utils/py_utils.cc:38] TF-TRT Warning: Could not find TensorRT\n"
     ]
    }
   ],
   "source": [
    "import sys\n",
    "sys.path.append(\"/home/webphy/Desktop/dnn_processor_v2/\")  # just to enable `dataset`\n",
    "sys.path.append(\"/home/webphy/Desktop/dnn_processor_v2/dataset/\")  # just to enable `dataset`\n",
    "\n",
    "import tensorflow as tf\n",
    "import dataset\n",
    "import numpy as np\n",
    "import keras\n",
    "from datetime import datetime\n",
    "from keras import layers"
   ]
  },
  {
   "cell_type": "code",
   "execution_count": 2,
   "metadata": {},
   "outputs": [
    {
     "name": "stderr",
     "output_type": "stream",
     "text": [
      "2024-02-12 16:43:02.682363: I external/local_xla/xla/stream_executor/cuda/cuda_executor.cc:901] successful NUMA node read from SysFS had negative value (-1), but there must be at least one NUMA node, so returning NUMA node zero. See more at https://github.com/torvalds/linux/blob/v6.0/Documentation/ABI/testing/sysfs-bus-pci#L344-L355\n",
      "2024-02-12 16:43:02.706068: I external/local_xla/xla/stream_executor/cuda/cuda_executor.cc:901] successful NUMA node read from SysFS had negative value (-1), but there must be at least one NUMA node, so returning NUMA node zero. See more at https://github.com/torvalds/linux/blob/v6.0/Documentation/ABI/testing/sysfs-bus-pci#L344-L355\n",
      "2024-02-12 16:43:02.706192: I external/local_xla/xla/stream_executor/cuda/cuda_executor.cc:901] successful NUMA node read from SysFS had negative value (-1), but there must be at least one NUMA node, so returning NUMA node zero. See more at https://github.com/torvalds/linux/blob/v6.0/Documentation/ABI/testing/sysfs-bus-pci#L344-L355\n",
      "2024-02-12 16:43:02.707744: I external/local_xla/xla/stream_executor/cuda/cuda_executor.cc:901] successful NUMA node read from SysFS had negative value (-1), but there must be at least one NUMA node, so returning NUMA node zero. See more at https://github.com/torvalds/linux/blob/v6.0/Documentation/ABI/testing/sysfs-bus-pci#L344-L355\n",
      "2024-02-12 16:43:02.707834: I external/local_xla/xla/stream_executor/cuda/cuda_executor.cc:901] successful NUMA node read from SysFS had negative value (-1), but there must be at least one NUMA node, so returning NUMA node zero. See more at https://github.com/torvalds/linux/blob/v6.0/Documentation/ABI/testing/sysfs-bus-pci#L344-L355\n",
      "2024-02-12 16:43:02.707882: I external/local_xla/xla/stream_executor/cuda/cuda_executor.cc:901] successful NUMA node read from SysFS had negative value (-1), but there must be at least one NUMA node, so returning NUMA node zero. See more at https://github.com/torvalds/linux/blob/v6.0/Documentation/ABI/testing/sysfs-bus-pci#L344-L355\n",
      "2024-02-12 16:43:03.387451: I external/local_xla/xla/stream_executor/cuda/cuda_executor.cc:901] successful NUMA node read from SysFS had negative value (-1), but there must be at least one NUMA node, so returning NUMA node zero. See more at https://github.com/torvalds/linux/blob/v6.0/Documentation/ABI/testing/sysfs-bus-pci#L344-L355\n",
      "2024-02-12 16:43:03.387552: I external/local_xla/xla/stream_executor/cuda/cuda_executor.cc:901] successful NUMA node read from SysFS had negative value (-1), but there must be at least one NUMA node, so returning NUMA node zero. See more at https://github.com/torvalds/linux/blob/v6.0/Documentation/ABI/testing/sysfs-bus-pci#L344-L355\n",
      "2024-02-12 16:43:03.387615: I external/local_xla/xla/stream_executor/cuda/cuda_executor.cc:901] successful NUMA node read from SysFS had negative value (-1), but there must be at least one NUMA node, so returning NUMA node zero. See more at https://github.com/torvalds/linux/blob/v6.0/Documentation/ABI/testing/sysfs-bus-pci#L344-L355\n",
      "2024-02-12 16:43:03.387665: I tensorflow/core/common_runtime/gpu/gpu_device.cc:1929] Created device /job:localhost/replica:0/task:0/device:GPU:0 with 9192 MB memory:  -> device: 0, name: NVIDIA GeForce RTX 3060, pci bus id: 0000:01:00.0, compute capability: 8.6\n"
     ]
    }
   ],
   "source": [
    "DEFAULT_BATCH_SIZE = 128\n",
    "EPOCHS = 200\n",
    "DEFAULT_INPUT_SIZE = 128\n",
    "\n",
    "train_images_rgx = \"../../dataset/train_set/*/*.jpeg\"\n",
    "test_images_rgx = \"../../dataset/test_set/*/*.jpeg\"\n",
    "\n",
    "train_dataset, test_dataset, num_classes = dataset.create_datasets(\n",
    "    train_images_rgx, test_images_rgx, DEFAULT_BATCH_SIZE, DEFAULT_INPUT_SIZE\n",
    ")\n",
    "train_dataset_v2, val_dataset, num_classes = dataset.create_train_val_datasets(\n",
    "    train_images_rgx, DEFAULT_BATCH_SIZE, DEFAULT_INPUT_SIZE, ratio=0.1\n",
    ")"
   ]
  },
  {
   "cell_type": "code",
   "execution_count": 3,
   "metadata": {},
   "outputs": [],
   "source": [
    "def create_model_checkpointer(save_path):\n",
    "    return keras.callbacks.ModelCheckpoint(\n",
    "        save_path + \"weights/\",\n",
    "        \"accuracy\",\n",
    "        mode=\"max\",\n",
    "        save_best_only=True,\n",
    "        save_weights_only=True,\n",
    "    )\n",
    "\n",
    "\n",
    "def create_early_stopper():\n",
    "    return keras.callbacks.EarlyStopping(\n",
    "        monitor=\"accuracy\",\n",
    "        min_delta=0.01,\n",
    "        patience=30,\n",
    "        verbose=0,\n",
    "        mode=\"max\",\n",
    "        start_from_epoch=150,\n",
    "    )\n",
    "\n",
    "\n",
    "def create_lr_reducer_on_plateau():\n",
    "    return keras.callbacks.ReduceLROnPlateau(\n",
    "        monitor=\"accuracy\", factor=0.5, patience=10, mode=\"max\", verbose=1, start_from_epoch=50\n",
    "    )"
   ]
  },
  {
   "cell_type": "code",
   "execution_count": 4,
   "metadata": {},
   "outputs": [
    {
     "name": "stdout",
     "output_type": "stream",
     "text": [
      "Model: \"model\"\n",
      "_________________________________________________________________\n",
      " Layer (type)                Output Shape              Param #   \n",
      "=================================================================\n",
      " input_1 (InputLayer)        [(None, 128, 128, 3)]     0         \n",
      "                                                                 \n",
      " random_flip (RandomFlip)    (None, 128, 128, 3)       0         \n",
      "                                                                 \n",
      " random_brightness (RandomB  (None, 128, 128, 3)       0         \n",
      " rightness)                                                      \n",
      "                                                                 \n",
      " conv2d (Conv2D)             (None, 32, 32, 4)         196       \n",
      "                                                                 \n",
      " activation (Activation)     (None, 32, 32, 4)         0         \n",
      "                                                                 \n",
      " conv2d_1 (Conv2D)           (None, 15, 15, 16)        592       \n",
      "                                                                 \n",
      " activation_1 (Activation)   (None, 15, 15, 16)        0         \n",
      "                                                                 \n",
      " conv2d_2 (Conv2D)           (None, 15, 15, 5)         85        \n",
      "                                                                 \n",
      " flatten (Flatten)           (None, 1125)              0         \n",
      "                                                                 \n",
      " dense (Dense)               (None, 5)                 5630      \n",
      "                                                                 \n",
      "=================================================================\n",
      "Total params: 6503 (25.40 KB)\n",
      "Trainable params: 6503 (25.40 KB)\n",
      "Non-trainable params: 0 (0.00 Byte)\n",
      "_________________________________________________________________\n"
     ]
    }
   ],
   "source": [
    "x = x_in = layers.Input(shape=(DEFAULT_INPUT_SIZE, DEFAULT_INPUT_SIZE, 3))\n",
    "\n",
    "# augmentation\n",
    "x = layers.RandomFlip()(x)\n",
    "x = layers.RandomBrightness(0.05, (0, 1.0))(x)\n",
    "\n",
    "\n",
    "x = keras.layers.Conv2D(4, 4, 4, kernel_regularizer=keras.regularizers.L2(0.00005))(x)\n",
    "x = keras.layers.Activation(\"relu\")(x)\n",
    "x = keras.layers.Conv2D(16, 3, 2, kernel_regularizer=keras.regularizers.L2(0.00005))(x)\n",
    "x = keras.layers.Activation(\"relu\")(x)\n",
    "x = keras.layers.Conv2D(5, 1, 1, kernel_regularizer=keras.regularizers.L2(0.00005))(x)\n",
    "x = keras.layers.Flatten()(x)\n",
    "x = keras.layers.Dense(num_classes, kernel_regularizer=keras.regularizers.L2(0.00005))(x)\n",
    "\n",
    "# Build model\n",
    "model = keras.Model(x_in, x)\n",
    "model.summary()"
   ]
  },
  {
   "cell_type": "code",
   "execution_count": 5,
   "metadata": {},
   "outputs": [],
   "source": [
    "optimizer = keras.optimizers.Adam()\n",
    "\n",
    "# compile the model\n",
    "model.compile(\n",
    "    optimizer,\n",
    "    loss=keras.losses.CategoricalCrossentropy(from_logits=True),\n",
    "    metrics=[\"accuracy\"],\n",
    ")"
   ]
  },
  {
   "cell_type": "code",
   "execution_count": null,
   "metadata": {},
   "outputs": [],
   "source": [
    "EXP_ID = \"baseline_model_v2\"\n",
    "\n",
    "# crate model checkpointer\n",
    "saved_best_model_path = f\"saved_models/{EXP_ID}/best_model_t/\"\n",
    "model.save(saved_best_model_path, True, \"tf\")  # save all model\n",
    "\n",
    "model_chkp = create_model_checkpointer(saved_best_model_path)\n",
    "early_stopper = create_early_stopper()\n",
    "lr_reducer = create_lr_reducer_on_plateau()\n",
    "\n",
    "# Training and validating cycle.\n",
    "history = model.fit(\n",
    "    train_dataset,    \n",
    "    epochs=EPOCHS,    \n",
    "    callbacks=[model_chkp, lr_reducer],\n",
    "    verbose=\"auto\",\n",
    ")\n",
    "\n",
    "# load best model\n",
    "model.load_weights(saved_best_model_path + \"weights/\")"
   ]
  },
  {
   "cell_type": "code",
   "execution_count": null,
   "metadata": {},
   "outputs": [],
   "source": [
    "# Evaluate the model accuracy on the validation set.\n",
    "score = model.evaluate(test_dataset, verbose=1)"
   ]
  },
  {
   "cell_type": "code",
   "execution_count": null,
   "metadata": {},
   "outputs": [],
   "source": [
    "model.save(saved_best_model_path + \"model.h5\")"
   ]
  },
  {
   "cell_type": "code",
   "execution_count": null,
   "metadata": {},
   "outputs": [],
   "source": [
    "import matplotlib.pyplot as plt\n",
    "import tensorflow as tf\n",
    "\n",
    "def plot_tf_history(history):\n",
    "    \"\"\"\n",
    "    Plots the training history of a TensorFlow model.\n",
    "\n",
    "    Parameters:\n",
    "    - history: TensorFlow training history object returned by model.fit()\n",
    "\n",
    "    Returns:\n",
    "    - None (plots the training history)\n",
    "    \"\"\"\n",
    "    # Extracting training metrics\n",
    "    loss = history.history['loss']\n",
    "    #val_loss = history.history['val_loss']\n",
    "    accuracy = history.history.get('accuracy', None)\n",
    "    #val_accuracy = history.history.get('val_accuracy', None)\n",
    "\n",
    "    # Plotting the training and validation loss\n",
    "    plt.figure(figsize=(12, 6))\n",
    "    plt.subplot(1, 2, 1)\n",
    "    plt.plot(loss, label='Training Loss')\n",
    "    #plt.plot(val_loss, label='Validation Loss')\n",
    "    plt.title('Training Loss')\n",
    "    plt.xlabel('Epoch')\n",
    "    plt.ylabel('Loss')\n",
    "    plt.legend()\n",
    "\n",
    "    # Plotting the training and validation accuracy (if available)\n",
    "    plt.subplot(1, 2, 2)\n",
    "    plt.plot(accuracy, label='Training Accuracy')\n",
    "    #plt.plot(val_accuracy, label='Validation Accuracy')\n",
    "    plt.title('Training Accuracy')\n",
    "    plt.xlabel('Epoch')\n",
    "    plt.ylabel('Accuracy')\n",
    "    plt.legend()\n",
    "\n",
    "    plt.show()\n",
    "\n",
    "plot_tf_history(history)"
   ]
  },
  {
   "cell_type": "markdown",
   "metadata": {},
   "source": [
    "# get metrics"
   ]
  },
  {
   "cell_type": "code",
   "execution_count": 6,
   "metadata": {},
   "outputs": [
    {
     "name": "stderr",
     "output_type": "stream",
     "text": [
      "2024-02-12 16:43:09.980835: I external/local_xla/xla/stream_executor/cuda/cuda_dnn.cc:454] Loaded cuDNN version 8904\n"
     ]
    },
    {
     "name": "stdout",
     "output_type": "stream",
     "text": [
      "5/5 [==============================] - 2s 33ms/step - loss: 0.2590 - accuracy: 0.9139\n",
      "45/45 [==============================] - 0s 7ms/step - loss: 0.2029 - accuracy: 0.9321\n"
     ]
    },
    {
     "data": {
      "text/plain": [
       "[0.20293714106082916, 0.9321180582046509]"
      ]
     },
     "execution_count": 6,
     "metadata": {},
     "output_type": "execute_result"
    }
   ],
   "source": [
    "model = keras.models.load_model(\"saved_models/baseline_model_v2/best_model_t/model.h5\", compile=True)\n",
    "model.evaluate(test_dataset)\n",
    "model.evaluate(train_dataset)"
   ]
  },
  {
   "cell_type": "code",
   "execution_count": 7,
   "metadata": {},
   "outputs": [],
   "source": [
    "from sklearn.metrics import accuracy_score\n",
    "from sklearn.metrics import precision_score\n",
    "from sklearn.metrics import recall_score\n",
    "from sklearn.metrics import f1_score\n",
    "from sklearn.metrics import roc_auc_score"
   ]
  },
  {
   "cell_type": "code",
   "execution_count": 11,
   "metadata": {},
   "outputs": [
    {
     "name": "stdout",
     "output_type": "stream",
     "text": [
      "20/20 [==============================] - 0s 1ms/step\n",
      "accuracy_score 0.9139280125195618\n",
      "precision_score 0.914594286047075\n",
      "recall_score 0.9135998656637045\n",
      "f1_score 0.9138927561780044\n"
     ]
    }
   ],
   "source": [
    "x_test = []\n",
    "y_test = []\n",
    "\n",
    "for b in test_dataset.as_numpy_iterator():\n",
    "    x_test.append(b[0])\n",
    "    y_test.append(b[1])\n",
    "\n",
    "x_test = np.concatenate(x_test, 0)\n",
    "y_test = np.argmax(np.concatenate(y_test, 0), -1)    \n",
    "\n",
    "y_pred = model.predict(x_test)\n",
    "y_pred = np.argmax(y_pred, -1)    \n",
    "\n",
    "labels = None # [\"0\",\"1\",\"2\",\"3\",\"4\"]\n",
    "\n",
    "print(\"accuracy_score\", accuracy_score(y_test, y_pred))\n",
    "print(\"precision_score\", precision_score(y_test, y_pred, labels=labels, average=\"macro\"))\n",
    "print(\"recall_score\", recall_score(y_test, y_pred, labels=labels, average=\"macro\"))\n",
    "print(\"f1_score\", f1_score(y_test, y_pred, labels=labels, average=\"macro\"))"
   ]
  },
  {
   "cell_type": "code",
   "execution_count": 12,
   "metadata": {},
   "outputs": [
    {
     "name": "stdout",
     "output_type": "stream",
     "text": [
      "180/180 [==============================] - 0s 1ms/step\n",
      "accuracy_score 0.9324652777777778\n",
      "precision_score 0.9323361513185183\n",
      "recall_score 0.9326575660698266\n",
      "f1_score 0.932421835986951\n"
     ]
    }
   ],
   "source": [
    "x_train = []\n",
    "y_train = []\n",
    "\n",
    "for b in train_dataset.as_numpy_iterator():\n",
    "    x_train.append(b[0])\n",
    "    y_train.append(b[1])\n",
    "\n",
    "x_train = np.concatenate(x_train, 0)\n",
    "y_train = np.argmax(np.concatenate(y_train, 0), -1)    \n",
    "\n",
    "y_pred_train = model.predict(x_train)\n",
    "y_pred_train = np.argmax(y_pred_train, -1)    \n",
    "\n",
    "labels = None # [\"0\",\"1\",\"2\",\"3\",\"4\"]\n",
    "\n",
    "print(\"accuracy_score\", accuracy_score(y_train, y_pred_train))\n",
    "print(\"precision_score\", precision_score(y_train, y_pred_train, labels=labels, average=\"macro\"))\n",
    "print(\"recall_score\", recall_score(y_train, y_pred_train, labels=labels, average=\"macro\"))\n",
    "print(\"f1_score\", f1_score(y_train, y_pred_train, labels=labels, average=\"macro\"))"
   ]
  },
  {
   "cell_type": "markdown",
   "metadata": {},
   "source": [
    "# create a confusion matrix"
   ]
  },
  {
   "cell_type": "code",
   "execution_count": 13,
   "metadata": {},
   "outputs": [
    {
     "data": {
      "image/png": "[encoded data removed]",
      "text/plain": [
       "<Figure size 500x500 with 2 Axes>"
      ]
     },
     "metadata": {},
     "output_type": "display_data"
    }
   ],
   "source": [
    "import matplotlib.pyplot as plt\n",
    "import seaborn as sns\n",
    "from sklearn.metrics import confusion_matrix\n",
    "import numpy as np\n",
    "\n",
    "def plot_confusion_matrix(y_true, y_pred, labels=None):\n",
    "    \"\"\"\n",
    "    Plot the confusion matrix for a classification task.\n",
    "\n",
    "    Parameters:\n",
    "    - y_true: True labels.\n",
    "    - y_pred: Predicted labels.\n",
    "    - labels: List of class labels (optional).\n",
    "\n",
    "    Returns:\n",
    "    - None\n",
    "    \"\"\"\n",
    "    # Compute confusion matrix\n",
    "    cm = confusion_matrix(y_true, y_pred)\n",
    "    \n",
    "    # If labels are not provided, infer from unique values in y_true and y_pred\n",
    "    if labels is None:\n",
    "        labels = np.unique(np.concatenate((y_true, y_pred)))\n",
    "    \n",
    "    # Create a heatmap\n",
    "    plt.figure(figsize=(len(labels), len(labels)))\n",
    "    sns.heatmap(cm, annot=True, fmt=\"d\", cmap=\"Blues\", xticklabels=labels, yticklabels=labels)\n",
    "    \n",
    "    # Set labels and title\n",
    "    plt.xlabel('Predito')\n",
    "    plt.ylabel('Esperado')\n",
    "    plt.title('Matriz de Confusão')\n",
    "    \n",
    "    plt.show()\n",
    "\n",
    "# Example usage:\n",
    "\n",
    "\n",
    "plot_confusion_matrix(y_test, y_pred, labels=['Bloco Alv', 'Bloco Chap', 'Reboco', 'Tijolo Alv', 'Tijolo Chap'])\n"
   ]
  },
  {
   "cell_type": "markdown",
   "metadata": {},
   "source": [
    "# save model without augmentations"
   ]
  },
  {
   "cell_type": "code",
   "execution_count": 18,
   "metadata": {},
   "outputs": [
    {
     "name": "stdout",
     "output_type": "stream",
     "text": [
      "Model: \"model_5\"\n",
      "_________________________________________________________________\n",
      " Layer (type)                Output Shape              Param #   \n",
      "=================================================================\n",
      " input_6 (InputLayer)        [(None, 128, 128, 3)]     0         \n",
      "                                                                 \n",
      " conv2d (Conv2D)             (None, 32, 32, 4)         196       \n",
      "                                                                 \n",
      " activation (Activation)     (None, 32, 32, 4)         0         \n",
      "                                                                 \n",
      " conv2d_1 (Conv2D)           (None, 15, 15, 16)        592       \n",
      "                                                                 \n",
      " activation_1 (Activation)   (None, 15, 15, 16)        0         \n",
      "                                                                 \n",
      " conv2d_2 (Conv2D)           (None, 15, 15, 5)         85        \n",
      "                                                                 \n",
      " flatten (Flatten)           (None, 1125)              0         \n"
     ]
    },
    {
     "name": "stdout",
     "output_type": "stream",
     "text": [
      "                                                                 \n",
      " dense (Dense)               (None, 5)                 5630      \n",
      "                                                                 \n",
      "=================================================================\n",
      "Total params: 6503 (25.40 KB)\n",
      "Trainable params: 6503 (25.40 KB)\n",
      "Non-trainable params: 0 (0.00 Byte)\n",
      "_________________________________________________________________\n",
      "5/5 [==============================] - 0s 5ms/step - loss: 0.2590 - acc: 0.9139\n"
     ]
    },
    {
     "name": "stderr",
     "output_type": "stream",
     "text": [
      "/home/webphy/Desktop/dnn_processor_v2/.venv/lib/python3.10/site-packages/keras/src/engine/training.py:3103: UserWarning: You are saving your model as an HDF5 file via `model.save()`. This file format is considered legacy. We recommend using instead the native Keras format, e.g. `model.save('my_model.keras')`.\n",
      "  saving_api.save_model(\n"
     ]
    }
   ],
   "source": [
    "x = x_in = layers.Input(shape=(DEFAULT_INPUT_SIZE, DEFAULT_INPUT_SIZE, 3))\n",
    "\n",
    "for l in model.layers[1:]:\n",
    "    if isinstance(l, layers.RandomFlip) or isinstance(l, layers.RandomBrightness):\n",
    "        continue\n",
    "\n",
    "    x = l(x)\n",
    "    \n",
    "# Build model\n",
    "model_clean = keras.Model(x_in, x)\n",
    "model_clean.compile(\"adam\", loss=keras.losses.CategoricalCrossentropy(True), metrics=[\"acc\"])\n",
    "model_clean.summary()\n",
    "model_clean.evaluate(test_dataset)\n",
    "\n",
    "model_clean.save(\"saved_models/baseline_model_v2/best_model_t/model_clean.h5\")"
   ]
  }
 ],
 "metadata": {
  "kernelspec": {
   "display_name": ".venv",
   "language": "python",
   "name": "python3"
  },
  "language_info": {
   "codemirror_mode": {
    "name": "ipython",
    "version": 3
   },
   "file_extension": ".py",
   "mimetype": "text/x-python",
   "name": "python",
   "nbconvert_exporter": "python",
   "pygments_lexer": "ipython3",
   "version": "3.10.12"
  }
 },
 "nbformat": 4,
 "nbformat_minor": 2
}
