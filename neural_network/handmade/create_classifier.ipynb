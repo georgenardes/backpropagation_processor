{
 "cells": [
  {
   "cell_type": "code",
   "execution_count": 1,
   "metadata": {},
   "outputs": [
    {
     "name": "stderr",
     "output_type": "stream",
     "text": [
      "2024-02-10 16:57:59.440725: I tensorflow/core/util/port.cc:113] oneDNN custom operations are on. You may see slightly different numerical results due to floating-point round-off errors from different computation orders. To turn them off, set the environment variable `TF_ENABLE_ONEDNN_OPTS=0`.\n",
      "2024-02-10 16:57:59.464671: E external/local_xla/xla/stream_executor/cuda/cuda_dnn.cc:9261] Unable to register cuDNN factory: Attempting to register factory for plugin cuDNN when one has already been registered\n",
      "2024-02-10 16:57:59.464694: E external/local_xla/xla/stream_executor/cuda/cuda_fft.cc:607] Unable to register cuFFT factory: Attempting to register factory for plugin cuFFT when one has already been registered\n",
      "2024-02-10 16:57:59.465446: E external/local_xla/xla/stream_executor/cuda/cuda_blas.cc:1515] Unable to register cuBLAS factory: Attempting to register factory for plugin cuBLAS when one has already been registered\n",
      "2024-02-10 16:57:59.470157: I tensorflow/core/platform/cpu_feature_guard.cc:182] This TensorFlow binary is optimized to use available CPU instructions in performance-critical operations.\n",
      "To enable the following instructions: AVX2 AVX_VNNI FMA, in other operations, rebuild TensorFlow with the appropriate compiler flags.\n",
      "2024-02-10 16:57:59.892641: W tensorflow/compiler/tf2tensorrt/utils/py_utils.cc:38] TF-TRT Warning: Could not find TensorRT\n"
     ]
    }
   ],
   "source": [
    "import sys\n",
    "sys.path.append(\"/home/webphy/Desktop/dnn_processor/\")  # just to enable `dataset`\n",
    "sys.path.append(\"/home/webphy/Desktop/dnn_processor/dataset/\")  # just to enable `dataset`\n",
    "\n",
    "import tensorflow as tf\n",
    "import dataset\n",
    "import numpy as np\n",
    "import keras\n",
    "from datetime import datetime\n",
    "from keras import layers"
   ]
  },
  {
   "cell_type": "code",
   "execution_count": 2,
   "metadata": {},
   "outputs": [
    {
     "name": "stderr",
     "output_type": "stream",
     "text": [
      "2024-02-10 16:58:00.361465: I external/local_xla/xla/stream_executor/cuda/cuda_executor.cc:901] successful NUMA node read from SysFS had negative value (-1), but there must be at least one NUMA node, so returning NUMA node zero. See more at https://github.com/torvalds/linux/blob/v6.0/Documentation/ABI/testing/sysfs-bus-pci#L344-L355\n",
      "2024-02-10 16:58:00.384645: I external/local_xla/xla/stream_executor/cuda/cuda_executor.cc:901] successful NUMA node read from SysFS had negative value (-1), but there must be at least one NUMA node, so returning NUMA node zero. See more at https://github.com/torvalds/linux/blob/v6.0/Documentation/ABI/testing/sysfs-bus-pci#L344-L355\n",
      "2024-02-10 16:58:00.384766: I external/local_xla/xla/stream_executor/cuda/cuda_executor.cc:901] successful NUMA node read from SysFS had negative value (-1), but there must be at least one NUMA node, so returning NUMA node zero. See more at https://github.com/torvalds/linux/blob/v6.0/Documentation/ABI/testing/sysfs-bus-pci#L344-L355\n",
      "2024-02-10 16:58:00.385987: I external/local_xla/xla/stream_executor/cuda/cuda_executor.cc:901] successful NUMA node read from SysFS had negative value (-1), but there must be at least one NUMA node, so returning NUMA node zero. See more at https://github.com/torvalds/linux/blob/v6.0/Documentation/ABI/testing/sysfs-bus-pci#L344-L355\n",
      "2024-02-10 16:58:00.386067: I external/local_xla/xla/stream_executor/cuda/cuda_executor.cc:901] successful NUMA node read from SysFS had negative value (-1), but there must be at least one NUMA node, so returning NUMA node zero. See more at https://github.com/torvalds/linux/blob/v6.0/Documentation/ABI/testing/sysfs-bus-pci#L344-L355\n",
      "2024-02-10 16:58:00.386113: I external/local_xla/xla/stream_executor/cuda/cuda_executor.cc:901] successful NUMA node read from SysFS had negative value (-1), but there must be at least one NUMA node, so returning NUMA node zero. See more at https://github.com/torvalds/linux/blob/v6.0/Documentation/ABI/testing/sysfs-bus-pci#L344-L355\n",
      "2024-02-10 16:58:01.051853: I external/local_xla/xla/stream_executor/cuda/cuda_executor.cc:901] successful NUMA node read from SysFS had negative value (-1), but there must be at least one NUMA node, so returning NUMA node zero. See more at https://github.com/torvalds/linux/blob/v6.0/Documentation/ABI/testing/sysfs-bus-pci#L344-L355\n",
      "2024-02-10 16:58:01.051987: I external/local_xla/xla/stream_executor/cuda/cuda_executor.cc:901] successful NUMA node read from SysFS had negative value (-1), but there must be at least one NUMA node, so returning NUMA node zero. See more at https://github.com/torvalds/linux/blob/v6.0/Documentation/ABI/testing/sysfs-bus-pci#L344-L355\n",
      "2024-02-10 16:58:01.052067: I external/local_xla/xla/stream_executor/cuda/cuda_executor.cc:901] successful NUMA node read from SysFS had negative value (-1), but there must be at least one NUMA node, so returning NUMA node zero. See more at https://github.com/torvalds/linux/blob/v6.0/Documentation/ABI/testing/sysfs-bus-pci#L344-L355\n",
      "2024-02-10 16:58:01.052117: I tensorflow/core/common_runtime/gpu/gpu_device.cc:1929] Created device /job:localhost/replica:0/task:0/device:GPU:0 with 9268 MB memory:  -> device: 0, name: NVIDIA GeForce RTX 3060, pci bus id: 0000:01:00.0, compute capability: 8.6\n"
     ]
    }
   ],
   "source": [
    "DEFAULT_BATCH_SIZE = 64\n",
    "EPOCHS = 100\n",
    "DEFAULT_INPUT_SIZE = 128\n",
    "\n",
    "train_images_rgx = \"../../dataset/train_set_4x/*/*.jpeg\"\n",
    "test_images_rgx = \"../../dataset/test_set_4x/*/*.jpeg\"\n",
    "\n",
    "train_dataset, test_dataset, num_classes = dataset.create_datasets(\n",
    "    train_images_rgx, test_images_rgx, DEFAULT_BATCH_SIZE, DEFAULT_INPUT_SIZE\n",
    ")"
   ]
  },
  {
   "cell_type": "code",
   "execution_count": 3,
   "metadata": {},
   "outputs": [],
   "source": [
    "def create_model_checkpointer(save_path):\n",
    "    return keras.callbacks.ModelCheckpoint(\n",
    "        save_path + \"weights/\",\n",
    "        \"accuracy\",\n",
    "        mode=\"max\",\n",
    "        save_best_only=True,\n",
    "        save_weights_only=True,\n",
    "    )\n",
    "\n",
    "\n",
    "def create_early_stopper():\n",
    "    return keras.callbacks.EarlyStopping(\n",
    "        monitor=\"accuracy\",\n",
    "        min_delta=0.01,\n",
    "        patience=21,\n",
    "        verbose=0,\n",
    "        mode=\"max\",\n",
    "        start_from_epoch=50,\n",
    "    )\n",
    "\n",
    "\n",
    "def create_lr_reducer_on_plateau():\n",
    "    return keras.callbacks.ReduceLROnPlateau(\n",
    "        monitor=\"accuracy\", factor=0.5, patience=10, mode=\"max\", verbose=1, start_from_epoch=50\n",
    "    )"
   ]
  },
  {
   "cell_type": "code",
   "execution_count": 4,
   "metadata": {},
   "outputs": [
    {
     "name": "stdout",
     "output_type": "stream",
     "text": [
      "Model: \"model\"\n",
      "_________________________________________________________________\n",
      " Layer (type)                Output Shape              Param #   \n",
      "=================================================================\n",
      " input_1 (InputLayer)        [(None, 128, 128, 3)]     0         \n",
      "                                                                 \n",
      " conv2d (Conv2D)             (None, 32, 32, 4)         196       \n",
      "                                                                 \n",
      " activation (Activation)     (None, 32, 32, 4)         0         \n",
      "                                                                 \n",
      " conv2d_1 (Conv2D)           (None, 15, 15, 16)        592       \n",
      "                                                                 \n",
      " activation_1 (Activation)   (None, 15, 15, 16)        0         \n",
      "                                                                 \n",
      " conv2d_2 (Conv2D)           (None, 15, 15, 5)         85        \n",
      "                                                                 \n",
      " flatten (Flatten)           (None, 1125)              0         \n",
      "                                                                 \n",
      " dense (Dense)               (None, 5)                 5630      \n",
      "                                                                 \n",
      "=================================================================\n",
      "Total params: 6503 (25.40 KB)\n",
      "Trainable params: 6503 (25.40 KB)\n",
      "Non-trainable params: 0 (0.00 Byte)\n",
      "_________________________________________________________________\n"
     ]
    }
   ],
   "source": [
    "x = x_in = layers.Input(shape=(DEFAULT_INPUT_SIZE, DEFAULT_INPUT_SIZE, 3))\n",
    "\n",
    "x = keras.layers.Conv2D(4, 4, 4)(x)\n",
    "x = keras.layers.Activation(\"relu\")(x)\n",
    "x = keras.layers.Conv2D(16, 3, 2)(x)\n",
    "x = keras.layers.Activation(\"relu\")(x)\n",
    "x = keras.layers.Conv2D(5, 1, 1)(x)\n",
    "x = keras.layers.Flatten()(x)\n",
    "x = keras.layers.Dense(num_classes)(x)\n",
    "\n",
    "# Build model\n",
    "model = keras.Model(x_in, x)\n",
    "model.summary()"
   ]
  },
  {
   "cell_type": "code",
   "execution_count": 5,
   "metadata": {},
   "outputs": [],
   "source": [
    "optimizer = keras.optimizers.Adam()\n",
    "\n",
    "# compile the model\n",
    "model.compile(\n",
    "    optimizer,\n",
    "    loss=keras.losses.CategoricalCrossentropy(from_logits=True),\n",
    "    metrics=[\"accuracy\"],\n",
    ")"
   ]
  },
  {
   "cell_type": "code",
   "execution_count": 6,
   "metadata": {},
   "outputs": [
    {
     "name": "stdout",
     "output_type": "stream",
     "text": [
      "INFO:tensorflow:Assets written to: saved_models/baseline_model/best_model_t/assets\n"
     ]
    },
    {
     "name": "stderr",
     "output_type": "stream",
     "text": [
      "INFO:tensorflow:Assets written to: saved_models/baseline_model/best_model_t/assets\n"
     ]
    },
    {
     "name": "stdout",
     "output_type": "stream",
     "text": [
      "Epoch 1/100\n"
     ]
    },
    {
     "name": "stderr",
     "output_type": "stream",
     "text": [
      "2024-02-10 16:58:02.989922: I external/local_xla/xla/stream_executor/cuda/cuda_dnn.cc:454] Loaded cuDNN version 8904\n",
      "2024-02-10 16:58:03.640182: I external/local_xla/xla/service/service.cc:168] XLA service 0x7f15c91bf090 initialized for platform CUDA (this does not guarantee that XLA will be used). Devices:\n",
      "2024-02-10 16:58:03.640200: I external/local_xla/xla/service/service.cc:176]   StreamExecutor device (0): NVIDIA GeForce RTX 3060, Compute Capability 8.6\n",
      "2024-02-10 16:58:03.643377: I tensorflow/compiler/mlir/tensorflow/utils/dump_mlir_util.cc:269] disabling MLIR crash reproducer, set env var `MLIR_CRASH_REPRODUCER_DIRECTORY` to enable.\n",
      "WARNING: All log messages before absl::InitializeLog() is called are written to STDERR\n",
      "I0000 00:00:1707595083.698846  396579 device_compiler.h:186] Compiled cluster using XLA!  This line is logged at most once for the lifetime of the process.\n"
     ]
    },
    {
     "name": "stdout",
     "output_type": "stream",
     "text": [
      "55/55 [==============================] - 3s 4ms/step - loss: 1.2792 - accuracy: 0.4045 - lr: 0.0010\n",
      "Epoch 2/100\n",
      "55/55 [==============================] - 0s 4ms/step - loss: 0.8580 - accuracy: 0.6648 - lr: 0.0010\n",
      "Epoch 3/100\n",
      "55/55 [==============================] - 0s 4ms/step - loss: 0.7217 - accuracy: 0.7193 - lr: 0.0010\n",
      "Epoch 4/100\n",
      "55/55 [==============================] - 0s 4ms/step - loss: 0.6503 - accuracy: 0.7545 - lr: 0.0010\n",
      "Epoch 5/100\n",
      "55/55 [==============================] - 0s 4ms/step - loss: 0.6153 - accuracy: 0.7551 - lr: 0.0010\n",
      "Epoch 6/100\n",
      "55/55 [==============================] - 0s 4ms/step - loss: 0.5836 - accuracy: 0.7733 - lr: 0.0010\n",
      "Epoch 7/100\n",
      "55/55 [==============================] - 0s 4ms/step - loss: 0.5500 - accuracy: 0.7929 - lr: 0.0010\n",
      "Epoch 8/100\n",
      "55/55 [==============================] - 0s 4ms/step - loss: 0.5422 - accuracy: 0.7901 - lr: 0.0010\n",
      "Epoch 9/100\n",
      "55/55 [==============================] - 0s 4ms/step - loss: 0.5150 - accuracy: 0.7932 - lr: 0.0010\n",
      "Epoch 10/100\n",
      "55/55 [==============================] - 0s 4ms/step - loss: 0.5011 - accuracy: 0.8011 - lr: 0.0010\n",
      "Epoch 11/100\n",
      "55/55 [==============================] - 0s 4ms/step - loss: 0.4798 - accuracy: 0.8179 - lr: 0.0010\n",
      "Epoch 12/100\n",
      "55/55 [==============================] - 0s 4ms/step - loss: 0.4527 - accuracy: 0.8170 - lr: 0.0010\n",
      "Epoch 13/100\n",
      "55/55 [==============================] - 0s 4ms/step - loss: 0.4380 - accuracy: 0.8315 - lr: 0.0010\n",
      "Epoch 14/100\n",
      "55/55 [==============================] - 0s 4ms/step - loss: 0.4238 - accuracy: 0.8406 - lr: 0.0010\n",
      "Epoch 15/100\n",
      "55/55 [==============================] - 0s 4ms/step - loss: 0.4211 - accuracy: 0.8335 - lr: 0.0010\n",
      "Epoch 16/100\n",
      "55/55 [==============================] - 0s 4ms/step - loss: 0.4269 - accuracy: 0.8273 - lr: 0.0010\n",
      "Epoch 17/100\n",
      "55/55 [==============================] - 0s 4ms/step - loss: 0.3985 - accuracy: 0.8477 - lr: 0.0010\n",
      "Epoch 18/100\n",
      "55/55 [==============================] - 0s 4ms/step - loss: 0.3937 - accuracy: 0.8469 - lr: 0.0010\n",
      "Epoch 19/100\n",
      "55/55 [==============================] - 0s 4ms/step - loss: 0.3786 - accuracy: 0.8568 - lr: 0.0010\n",
      "Epoch 20/100\n",
      "55/55 [==============================] - 0s 4ms/step - loss: 0.3708 - accuracy: 0.8577 - lr: 0.0010\n",
      "Epoch 21/100\n",
      "55/55 [==============================] - 0s 4ms/step - loss: 0.3721 - accuracy: 0.8565 - lr: 0.0010\n",
      "Epoch 22/100\n",
      "55/55 [==============================] - 0s 4ms/step - loss: 0.3506 - accuracy: 0.8724 - lr: 0.0010\n",
      "Epoch 23/100\n",
      "55/55 [==============================] - 0s 4ms/step - loss: 0.3435 - accuracy: 0.8744 - lr: 0.0010\n",
      "Epoch 24/100\n",
      "55/55 [==============================] - 0s 4ms/step - loss: 0.3462 - accuracy: 0.8699 - lr: 0.0010\n",
      "Epoch 25/100\n",
      "55/55 [==============================] - 0s 4ms/step - loss: 0.3436 - accuracy: 0.8690 - lr: 0.0010\n",
      "Epoch 26/100\n",
      "55/55 [==============================] - 0s 4ms/step - loss: 0.3378 - accuracy: 0.8747 - lr: 0.0010\n",
      "Epoch 27/100\n",
      "55/55 [==============================] - 0s 4ms/step - loss: 0.3403 - accuracy: 0.8690 - lr: 0.0010\n",
      "Epoch 28/100\n",
      "55/55 [==============================] - 0s 4ms/step - loss: 0.3305 - accuracy: 0.8753 - lr: 0.0010\n",
      "Epoch 29/100\n",
      "55/55 [==============================] - 0s 4ms/step - loss: 0.3103 - accuracy: 0.8838 - lr: 0.0010\n",
      "Epoch 30/100\n",
      "55/55 [==============================] - 0s 4ms/step - loss: 0.3063 - accuracy: 0.8895 - lr: 0.0010\n",
      "Epoch 31/100\n",
      "55/55 [==============================] - 0s 4ms/step - loss: 0.2893 - accuracy: 0.8983 - lr: 0.0010\n",
      "Epoch 32/100\n",
      "55/55 [==============================] - 0s 4ms/step - loss: 0.2846 - accuracy: 0.9031 - lr: 0.0010\n",
      "Epoch 33/100\n",
      "55/55 [==============================] - 0s 4ms/step - loss: 0.2810 - accuracy: 0.8986 - lr: 0.0010\n",
      "Epoch 34/100\n",
      "55/55 [==============================] - 0s 4ms/step - loss: 0.2907 - accuracy: 0.8849 - lr: 0.0010\n",
      "Epoch 35/100\n",
      "55/55 [==============================] - 0s 4ms/step - loss: 0.3033 - accuracy: 0.8912 - lr: 0.0010\n",
      "Epoch 36/100\n",
      "55/55 [==============================] - 0s 4ms/step - loss: 0.2679 - accuracy: 0.9080 - lr: 0.0010\n",
      "Epoch 37/100\n",
      "55/55 [==============================] - 0s 4ms/step - loss: 0.2660 - accuracy: 0.9020 - lr: 0.0010\n",
      "Epoch 38/100\n",
      "55/55 [==============================] - 0s 4ms/step - loss: 0.2530 - accuracy: 0.9097 - lr: 0.0010\n",
      "Epoch 39/100\n",
      "55/55 [==============================] - 0s 5ms/step - loss: 0.2566 - accuracy: 0.9108 - lr: 0.0010\n",
      "Epoch 40/100\n",
      "55/55 [==============================] - 0s 4ms/step - loss: 0.2406 - accuracy: 0.9202 - lr: 0.0010\n",
      "Epoch 41/100\n",
      "55/55 [==============================] - 0s 4ms/step - loss: 0.2417 - accuracy: 0.9148 - lr: 0.0010\n",
      "Epoch 42/100\n",
      "55/55 [==============================] - 0s 4ms/step - loss: 0.2340 - accuracy: 0.9173 - lr: 0.0010\n",
      "Epoch 43/100\n",
      "55/55 [==============================] - 0s 4ms/step - loss: 0.2383 - accuracy: 0.9187 - lr: 0.0010\n",
      "Epoch 44/100\n",
      "55/55 [==============================] - 0s 4ms/step - loss: 0.2252 - accuracy: 0.9227 - lr: 0.0010\n",
      "Epoch 45/100\n",
      "55/55 [==============================] - 0s 4ms/step - loss: 0.2161 - accuracy: 0.9244 - lr: 0.0010\n",
      "Epoch 46/100\n",
      "55/55 [==============================] - 0s 4ms/step - loss: 0.2240 - accuracy: 0.9241 - lr: 0.0010\n",
      "Epoch 47/100\n",
      "55/55 [==============================] - 0s 4ms/step - loss: 0.2177 - accuracy: 0.9241 - lr: 0.0010\n",
      "Epoch 48/100\n",
      "55/55 [==============================] - 0s 4ms/step - loss: 0.2165 - accuracy: 0.9273 - lr: 0.0010\n",
      "Epoch 49/100\n",
      "55/55 [==============================] - 0s 4ms/step - loss: 0.2074 - accuracy: 0.9273 - lr: 0.0010\n",
      "Epoch 50/100\n",
      "55/55 [==============================] - 0s 4ms/step - loss: 0.1977 - accuracy: 0.9364 - lr: 0.0010\n",
      "Epoch 51/100\n",
      "55/55 [==============================] - 0s 4ms/step - loss: 0.1969 - accuracy: 0.9318 - lr: 0.0010\n",
      "Epoch 52/100\n",
      "55/55 [==============================] - 0s 4ms/step - loss: 0.1881 - accuracy: 0.9423 - lr: 0.0010\n",
      "Epoch 53/100\n",
      "55/55 [==============================] - 0s 4ms/step - loss: 0.1843 - accuracy: 0.9426 - lr: 0.0010\n",
      "Epoch 54/100\n",
      "55/55 [==============================] - 0s 4ms/step - loss: 0.1800 - accuracy: 0.9418 - lr: 0.0010\n",
      "Epoch 55/100\n",
      "55/55 [==============================] - 0s 4ms/step - loss: 0.1773 - accuracy: 0.9409 - lr: 0.0010\n",
      "Epoch 56/100\n",
      "55/55 [==============================] - 0s 4ms/step - loss: 0.1762 - accuracy: 0.9406 - lr: 0.0010\n",
      "Epoch 57/100\n",
      "55/55 [==============================] - 0s 4ms/step - loss: 0.1640 - accuracy: 0.9440 - lr: 0.0010\n",
      "Epoch 58/100\n",
      "55/55 [==============================] - 0s 4ms/step - loss: 0.1636 - accuracy: 0.9497 - lr: 0.0010\n",
      "Epoch 59/100\n",
      "55/55 [==============================] - 0s 4ms/step - loss: 0.1598 - accuracy: 0.9517 - lr: 0.0010\n",
      "Epoch 60/100\n",
      "55/55 [==============================] - 0s 4ms/step - loss: 0.1528 - accuracy: 0.9497 - lr: 0.0010\n",
      "Epoch 61/100\n",
      "55/55 [==============================] - 0s 4ms/step - loss: 0.1526 - accuracy: 0.9517 - lr: 0.0010\n",
      "Epoch 62/100\n",
      "55/55 [==============================] - 0s 4ms/step - loss: 0.1594 - accuracy: 0.9503 - lr: 0.0010\n",
      "Epoch 63/100\n",
      "55/55 [==============================] - 0s 4ms/step - loss: 0.1598 - accuracy: 0.9514 - lr: 0.0010\n",
      "Epoch 64/100\n",
      "55/55 [==============================] - 0s 4ms/step - loss: 0.1646 - accuracy: 0.9483 - lr: 0.0010\n",
      "Epoch 65/100\n",
      "55/55 [==============================] - 0s 4ms/step - loss: 0.1455 - accuracy: 0.9560 - lr: 0.0010\n",
      "Epoch 66/100\n",
      "55/55 [==============================] - 0s 4ms/step - loss: 0.1616 - accuracy: 0.9403 - lr: 0.0010\n",
      "Epoch 67/100\n",
      "55/55 [==============================] - 0s 4ms/step - loss: 0.1378 - accuracy: 0.9563 - lr: 0.0010\n",
      "Epoch 68/100\n",
      "55/55 [==============================] - 0s 4ms/step - loss: 0.1380 - accuracy: 0.9565 - lr: 0.0010\n",
      "Epoch 69/100\n",
      "55/55 [==============================] - 0s 4ms/step - loss: 0.1267 - accuracy: 0.9608 - lr: 0.0010\n",
      "Epoch 70/100\n",
      "55/55 [==============================] - 0s 4ms/step - loss: 0.1255 - accuracy: 0.9605 - lr: 0.0010\n",
      "Epoch 71/100\n",
      "55/55 [==============================] - 0s 4ms/step - loss: 0.1236 - accuracy: 0.9619 - lr: 0.0010\n",
      "Epoch 72/100\n",
      "55/55 [==============================] - 0s 4ms/step - loss: 0.1309 - accuracy: 0.9582 - lr: 0.0010\n",
      "Epoch 73/100\n",
      "55/55 [==============================] - 0s 4ms/step - loss: 0.1183 - accuracy: 0.9662 - lr: 0.0010\n",
      "Epoch 74/100\n",
      "55/55 [==============================] - 0s 4ms/step - loss: 0.1198 - accuracy: 0.9656 - lr: 0.0010\n",
      "Epoch 75/100\n",
      "55/55 [==============================] - 0s 4ms/step - loss: 0.1135 - accuracy: 0.9668 - lr: 0.0010\n",
      "Epoch 76/100\n",
      "55/55 [==============================] - 0s 4ms/step - loss: 0.1352 - accuracy: 0.9534 - lr: 0.0010\n",
      "Epoch 77/100\n",
      "55/55 [==============================] - 0s 4ms/step - loss: 0.1196 - accuracy: 0.9645 - lr: 0.0010\n",
      "Epoch 78/100\n",
      "55/55 [==============================] - 0s 4ms/step - loss: 0.1123 - accuracy: 0.9699 - lr: 0.0010\n",
      "Epoch 79/100\n",
      "55/55 [==============================] - 0s 4ms/step - loss: 0.0984 - accuracy: 0.9710 - lr: 0.0010\n",
      "Epoch 80/100\n",
      "55/55 [==============================] - 0s 4ms/step - loss: 0.1022 - accuracy: 0.9696 - lr: 0.0010\n",
      "Epoch 81/100\n",
      "55/55 [==============================] - 0s 4ms/step - loss: 0.1160 - accuracy: 0.9622 - lr: 0.0010\n",
      "Epoch 82/100\n",
      "55/55 [==============================] - 0s 4ms/step - loss: 0.0997 - accuracy: 0.9716 - lr: 0.0010\n",
      "Epoch 83/100\n",
      "55/55 [==============================] - 0s 4ms/step - loss: 0.0903 - accuracy: 0.9744 - lr: 0.0010\n",
      "Epoch 84/100\n",
      "55/55 [==============================] - 0s 4ms/step - loss: 0.0908 - accuracy: 0.9759 - lr: 0.0010\n",
      "Epoch 85/100\n",
      "55/55 [==============================] - 0s 4ms/step - loss: 0.1018 - accuracy: 0.9699 - lr: 0.0010\n",
      "Epoch 86/100\n",
      "55/55 [==============================] - 0s 4ms/step - loss: 0.0982 - accuracy: 0.9693 - lr: 0.0010\n",
      "Epoch 87/100\n",
      "55/55 [==============================] - 0s 4ms/step - loss: 0.0904 - accuracy: 0.9736 - lr: 0.0010\n",
      "Epoch 88/100\n",
      "55/55 [==============================] - 0s 4ms/step - loss: 0.0979 - accuracy: 0.9670 - lr: 0.0010\n",
      "Epoch 89/100\n",
      "55/55 [==============================] - 0s 4ms/step - loss: 0.0988 - accuracy: 0.9676 - lr: 0.0010\n",
      "Epoch 90/100\n",
      "55/55 [==============================] - 0s 4ms/step - loss: 0.0837 - accuracy: 0.9773 - lr: 0.0010\n",
      "Epoch 91/100\n",
      "55/55 [==============================] - 0s 4ms/step - loss: 0.0896 - accuracy: 0.9744 - lr: 0.0010\n",
      "Epoch 92/100\n",
      "55/55 [==============================] - 0s 4ms/step - loss: 0.0842 - accuracy: 0.9767 - lr: 0.0010\n",
      "Epoch 93/100\n",
      "55/55 [==============================] - 0s 4ms/step - loss: 0.0886 - accuracy: 0.9739 - lr: 0.0010\n",
      "Epoch 94/100\n",
      "55/55 [==============================] - 0s 4ms/step - loss: 0.0957 - accuracy: 0.9710 - lr: 0.0010\n",
      "Epoch 95/100\n",
      "55/55 [==============================] - 0s 4ms/step - loss: 0.0844 - accuracy: 0.9741 - lr: 0.0010\n",
      "Epoch 96/100\n",
      "55/55 [==============================] - 0s 4ms/step - loss: 0.0759 - accuracy: 0.9787 - lr: 0.0010\n",
      "Epoch 97/100\n",
      "55/55 [==============================] - 0s 4ms/step - loss: 0.0676 - accuracy: 0.9807 - lr: 0.0010\n",
      "Epoch 98/100\n",
      "55/55 [==============================] - 0s 4ms/step - loss: 0.0685 - accuracy: 0.9818 - lr: 0.0010\n",
      "Epoch 99/100\n",
      "55/55 [==============================] - 0s 4ms/step - loss: 0.0726 - accuracy: 0.9776 - lr: 0.0010\n",
      "Epoch 100/100\n",
      "55/55 [==============================] - 0s 5ms/step - loss: 0.0612 - accuracy: 0.9827 - lr: 0.0010\n"
     ]
    },
    {
     "data": {
      "text/plain": [
       "<tensorflow.python.checkpoint.checkpoint.CheckpointLoadStatus at 0x7f1c10ef7d60>"
      ]
     },
     "execution_count": 6,
     "metadata": {},
     "output_type": "execute_result"
    }
   ],
   "source": [
    "EXP_ID = \"baseline_model\"\n",
    "\n",
    "# crate model checkpointer\n",
    "saved_best_model_path = f\"saved_models/{EXP_ID}/best_model_t/\"\n",
    "model.save(saved_best_model_path, True, \"tf\")  # save all model\n",
    "\n",
    "model_chkp = create_model_checkpointer(saved_best_model_path)\n",
    "early_stopper = create_early_stopper()\n",
    "lr_reducer = create_lr_reducer_on_plateau()\n",
    "\n",
    "# Training and validating cycle.\n",
    "history = model.fit(\n",
    "    train_dataset,    \n",
    "    epochs=EPOCHS,\n",
    "    callbacks=[model_chkp, early_stopper, lr_reducer],\n",
    "    verbose=\"auto\",\n",
    ")\n",
    "\n",
    "# load best model\n",
    "model.load_weights(saved_best_model_path + \"weights/\")"
   ]
  },
  {
   "cell_type": "code",
   "execution_count": 7,
   "metadata": {},
   "outputs": [
    {
     "name": "stdout",
     "output_type": "stream",
     "text": [
      "5/5 [==============================] - 0s 21ms/step - loss: 0.4989 - accuracy: 0.8582\n"
     ]
    }
   ],
   "source": [
    "# Evaluate the model accuracy on the validation set.\n",
    "score = model.evaluate(test_dataset, verbose=1)"
   ]
  },
  {
   "cell_type": "code",
   "execution_count": 8,
   "metadata": {},
   "outputs": [
    {
     "name": "stderr",
     "output_type": "stream",
     "text": [
      "/home/webphy/Desktop/dnn_processor_v2/.venv/lib/python3.10/site-packages/keras/src/engine/training.py:3103: UserWarning: You are saving your model as an HDF5 file via `model.save()`. This file format is considered legacy. We recommend using instead the native Keras format, e.g. `model.save('my_model.keras')`.\n",
      "  saving_api.save_model(\n"
     ]
    }
   ],
   "source": [
    "model.save(saved_best_model_path + \"model.h5\")"
   ]
  }
 ],
 "metadata": {
  "kernelspec": {
   "display_name": ".venv",
   "language": "python",
   "name": "python3"
  },
  "language_info": {
   "codemirror_mode": {
    "name": "ipython",
    "version": 3
   },
   "file_extension": ".py",
   "mimetype": "text/x-python",
   "name": "python",
   "nbconvert_exporter": "python",
   "pygments_lexer": "ipython3",
   "version": "3.10.12"
  }
 },
 "nbformat": 4,
 "nbformat_minor": 2
}
