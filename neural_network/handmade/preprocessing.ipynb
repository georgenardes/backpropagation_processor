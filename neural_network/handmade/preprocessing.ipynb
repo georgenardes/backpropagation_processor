{
 "cells": [
  {
   "cell_type": "code",
   "execution_count": 1,
   "metadata": {},
   "outputs": [],
   "source": [
    "import cv2 as cv\n",
    "import numpy as np\n",
    "import matplotlib.pyplot as plt\n",
    "import glob\n",
    "import os\n",
    "from PIL import Image\n",
    "from pillow_heif import register_heif_opener\n",
    "\n",
    "register_heif_opener()\n",
    "\n",
    "\n",
    "def open_heic(file_path):\n",
    "    image = Image.open(file_path)\n",
    "    # Convert the PIL image to a NumPy array\n",
    "    opencv_image = np.array(image)    \n",
    "    return opencv_image"
   ]
  },
  {
   "cell_type": "code",
   "execution_count": 2,
   "metadata": {},
   "outputs": [],
   "source": [
    "dataset_path = \"dataset_texturas_v2_test\"\n",
    "images_path = (\n",
    "    glob.glob(f\"{dataset_path}/*/*.png\")\n",
    "    + glob.glob(f\"{dataset_path}/*/*.jpeg\")\n",
    "    + glob.glob(f\"{dataset_path}/*/*.jpg\")\n",
    "    + glob.glob(f\"{dataset_path}/*/*.heic\")\n",
    ")"
   ]
  },
  {
   "cell_type": "code",
   "execution_count": 3,
   "metadata": {},
   "outputs": [],
   "source": [
    "def img_crop(img):\n",
    "    h, w, c = img.shape\n",
    "\n",
    "    if h < w:\n",
    "        diff = (w - h) // 2\n",
    "        new_image = img[:, diff : diff + h]\n",
    "    else:\n",
    "        diff = (h - w) // 2\n",
    "        new_image = img[diff : diff + h, :]\n",
    "\n",
    "    return new_image\n",
    "\n",
    "\n",
    "for i, image_path in enumerate(images_path):\n",
    "    img_name = image_path.split(\"\\\\\")[-1]\n",
    "\n",
    "    try:\n",
    "        # Read the image\n",
    "        if image_path.__contains__(\"HEIC\"):\n",
    "            img = open_heic(image_path)\n",
    "        else:\n",
    "            img = cv.imread(image_path)\n",
    "\n",
    "        img = cv.cvtColor(img, cv.COLOR_BGR2RGB)\n",
    "    except Exception as e:\n",
    "        print(f\"An error occurred: {e}\")\n",
    "        print(image_path)\n",
    "\n",
    "    # crop\n",
    "    img_croped = img_crop(img=img)\n",
    "\n",
    "    # two-step resize\n",
    "    img_croped = cv.resize(img_croped, (1024, 1024), interpolation=cv.INTER_CUBIC)\n",
    "    img_croped = cv.resize(img_croped, (256, 256), interpolation=cv.INTER_CUBIC)\n",
    "\n",
    "    # convert color to save\n",
    "    img_croped = cv.cvtColor(img_croped, cv.COLOR_RGB2BGR)\n",
    "\n",
    "    # new image name and path\n",
    "    write_image_path = image_path.replace(img_name, \"\").replace(\n",
    "        \"dataset_texturas\", \"resized_dataset_texturas\"\n",
    "    )\n",
    "\n",
    "    # Create the output folder if it doesn't exist\n",
    "    if not os.path.exists(write_image_path):\n",
    "        os.makedirs(write_image_path)\n",
    "\n",
    "    cv.imwrite(write_image_path + f\"img_{i}.jpeg\", img_croped)"
   ]
  },
  {
   "cell_type": "code",
   "execution_count": null,
   "metadata": {},
   "outputs": [],
   "source": [
    "img_path_ = r\"dataset_texturas\\acf_chap\\IMG_7415.HEIC\"\n",
    "\n",
    "img = open_heic(img_path_)\n",
    "print(img.shape)\n",
    "plt.imshow(img)\n",
    "plt.show()"
   ]
  }
 ],
 "metadata": {
  "kernelspec": {
   "display_name": ".venv",
   "language": "python",
   "name": "python3"
  },
  "language_info": {
   "codemirror_mode": {
    "name": "ipython",
    "version": 3
   },
   "file_extension": ".py",
   "mimetype": "text/x-python",
   "name": "python",
   "nbconvert_exporter": "python",
   "pygments_lexer": "ipython3",
   "version": "3.10.9"
  }
 },
 "nbformat": 4,
 "nbformat_minor": 2
}
