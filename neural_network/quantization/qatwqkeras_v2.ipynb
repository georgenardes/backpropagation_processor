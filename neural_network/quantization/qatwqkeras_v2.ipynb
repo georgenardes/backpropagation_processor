{
 "cells": [
  {
   "cell_type": "code",
   "execution_count": 1,
   "metadata": {},
   "outputs": [
    {
     "name": "stderr",
     "output_type": "stream",
     "text": [
      "2024-02-12 18:33:10.362550: I tensorflow/core/util/port.cc:113] oneDNN custom operations are on. You may see slightly different numerical results due to floating-point round-off errors from different computation orders. To turn them off, set the environment variable `TF_ENABLE_ONEDNN_OPTS=0`.\n",
      "2024-02-12 18:33:10.385396: E external/local_xla/xla/stream_executor/cuda/cuda_dnn.cc:9261] Unable to register cuDNN factory: Attempting to register factory for plugin cuDNN when one has already been registered\n",
      "2024-02-12 18:33:10.385414: E external/local_xla/xla/stream_executor/cuda/cuda_fft.cc:607] Unable to register cuFFT factory: Attempting to register factory for plugin cuFFT when one has already been registered\n",
      "2024-02-12 18:33:10.386038: E external/local_xla/xla/stream_executor/cuda/cuda_blas.cc:1515] Unable to register cuBLAS factory: Attempting to register factory for plugin cuBLAS when one has already been registered\n",
      "2024-02-12 18:33:10.389979: I tensorflow/core/platform/cpu_feature_guard.cc:182] This TensorFlow binary is optimized to use available CPU instructions in performance-critical operations.\n",
      "To enable the following instructions: AVX2 AVX_VNNI FMA, in other operations, rebuild TensorFlow with the appropriate compiler flags.\n",
      "2024-02-12 18:33:10.805885: W tensorflow/compiler/tf2tensorrt/utils/py_utils.cc:38] TF-TRT Warning: Could not find TensorRT\n"
     ]
    }
   ],
   "source": [
    "import sys\n",
    "sys.path.append(\"/home/webphy/Desktop/dnn_processor/\")  # just to enable `dataset`\n",
    "sys.path.append(\"/home/webphy/Desktop/dnn_processor/dataset/\")  # just to enable `dataset`\n",
    "\n",
    "import tensorflow as tf\n",
    "import dataset\n",
    "import numpy as np\n",
    "import keras\n",
    "from datetime import datetime\n",
    "from keras import layers"
   ]
  },
  {
   "cell_type": "code",
   "execution_count": 2,
   "metadata": {},
   "outputs": [
    {
     "name": "stderr",
     "output_type": "stream",
     "text": [
      "2024-02-12 18:33:12.657619: I external/local_xla/xla/stream_executor/cuda/cuda_executor.cc:901] successful NUMA node read from SysFS had negative value (-1), but there must be at least one NUMA node, so returning NUMA node zero. See more at https://github.com/torvalds/linux/blob/v6.0/Documentation/ABI/testing/sysfs-bus-pci#L344-L355\n",
      "2024-02-12 18:33:12.682034: I external/local_xla/xla/stream_executor/cuda/cuda_executor.cc:901] successful NUMA node read from SysFS had negative value (-1), but there must be at least one NUMA node, so returning NUMA node zero. See more at https://github.com/torvalds/linux/blob/v6.0/Documentation/ABI/testing/sysfs-bus-pci#L344-L355\n",
      "2024-02-12 18:33:12.682147: I external/local_xla/xla/stream_executor/cuda/cuda_executor.cc:901] successful NUMA node read from SysFS had negative value (-1), but there must be at least one NUMA node, so returning NUMA node zero. See more at https://github.com/torvalds/linux/blob/v6.0/Documentation/ABI/testing/sysfs-bus-pci#L344-L355\n",
      "2024-02-12 18:33:12.683453: I external/local_xla/xla/stream_executor/cuda/cuda_executor.cc:901] successful NUMA node read from SysFS had negative value (-1), but there must be at least one NUMA node, so returning NUMA node zero. See more at https://github.com/torvalds/linux/blob/v6.0/Documentation/ABI/testing/sysfs-bus-pci#L344-L355\n",
      "2024-02-12 18:33:12.683542: I external/local_xla/xla/stream_executor/cuda/cuda_executor.cc:901] successful NUMA node read from SysFS had negative value (-1), but there must be at least one NUMA node, so returning NUMA node zero. See more at https://github.com/torvalds/linux/blob/v6.0/Documentation/ABI/testing/sysfs-bus-pci#L344-L355\n",
      "2024-02-12 18:33:12.683593: I external/local_xla/xla/stream_executor/cuda/cuda_executor.cc:901] successful NUMA node read from SysFS had negative value (-1), but there must be at least one NUMA node, so returning NUMA node zero. See more at https://github.com/torvalds/linux/blob/v6.0/Documentation/ABI/testing/sysfs-bus-pci#L344-L355\n",
      "2024-02-12 18:33:13.452023: I external/local_xla/xla/stream_executor/cuda/cuda_executor.cc:901] successful NUMA node read from SysFS had negative value (-1), but there must be at least one NUMA node, so returning NUMA node zero. See more at https://github.com/torvalds/linux/blob/v6.0/Documentation/ABI/testing/sysfs-bus-pci#L344-L355\n",
      "2024-02-12 18:33:13.452113: I external/local_xla/xla/stream_executor/cuda/cuda_executor.cc:901] successful NUMA node read from SysFS had negative value (-1), but there must be at least one NUMA node, so returning NUMA node zero. See more at https://github.com/torvalds/linux/blob/v6.0/Documentation/ABI/testing/sysfs-bus-pci#L344-L355\n",
      "2024-02-12 18:33:13.452167: I external/local_xla/xla/stream_executor/cuda/cuda_executor.cc:901] successful NUMA node read from SysFS had negative value (-1), but there must be at least one NUMA node, so returning NUMA node zero. See more at https://github.com/torvalds/linux/blob/v6.0/Documentation/ABI/testing/sysfs-bus-pci#L344-L355\n",
      "2024-02-12 18:33:13.452217: I tensorflow/core/common_runtime/gpu/gpu_device.cc:1929] Created device /job:localhost/replica:0/task:0/device:GPU:0 with 9141 MB memory:  -> device: 0, name: NVIDIA GeForce RTX 3060, pci bus id: 0000:01:00.0, compute capability: 8.6\n"
     ]
    }
   ],
   "source": [
    "DEFAULT_BATCH_SIZE = 256\n",
    "EPOCHS = 100\n",
    "DEFAULT_INPUT_SIZE = 128\n",
    "\n",
    "train_images_rgx = \"../../dataset/train_set/*/*.jpeg\"\n",
    "test_images_rgx = \"../../dataset/test_set/*/*.jpeg\"\n",
    "\n",
    "train_dataset, test_dataset, num_classes = dataset.create_datasets(\n",
    "    train_images_rgx, test_images_rgx, DEFAULT_BATCH_SIZE, DEFAULT_INPUT_SIZE\n",
    ")"
   ]
  },
  {
   "cell_type": "code",
   "execution_count": null,
   "metadata": {},
   "outputs": [],
   "source": [
    "EXP_ID = \"baseline_model_v2\"\n",
    "\n",
    "\n",
    "model = keras.models.load_model(\n",
    "    f\"../handmade/saved_models/{EXP_ID}/best_model_t/model_clean.h5\",\n",
    "    compile=False,\n",
    ")\n",
    "model.compile(\n",
    "    keras.optimizers.legacy.Adam(), loss=tf.keras.losses.CategoricalCrossentropy(True), metrics=[\"accuracy\"]\n",
    ")\n",
    "\n",
    "score = model.evaluate(test_dataset)\n",
    "print(\"Accuracy: {}\".format(score[1]))\n",
    "\n",
    "model.summary()"
   ]
  },
  {
   "cell_type": "markdown",
   "metadata": {},
   "source": [
    "# quantize model"
   ]
  },
  {
   "cell_type": "code",
   "execution_count": null,
   "metadata": {},
   "outputs": [],
   "source": [
    "import qkeras\n",
    "from qkeras import *\n",
    "from keras.layers import (\n",
    "    Conv2D,\n",
    "    DepthwiseConv2D,\n",
    "    Activation,\n",
    "    Dense,\n",
    "    Flatten,\n",
    "    MaxPooling2D,\n",
    "    GlobalAveragePooling2D,\n",
    ")\n",
    "\n",
    "\n",
    "BIT_WIDTH = 8\n",
    "DEFAULT_ALPHA = 1\n",
    "\n",
    "\n",
    "def create_qkeras_model_from_keras_model(keras_model):\n",
    "    x = x_in = keras.Input(shape=keras_model.layers[0].output.shape[1:])\n",
    "\n",
    "    x = QActivation(quantized_relu(BIT_WIDTH, 0))(x)\n",
    "\n",
    "    for l in keras_model.layers:\n",
    "        if isinstance(l, Conv2D):\n",
    "            qconv2d = QConv2D(\n",
    "                l.filters,\n",
    "                l.kernel_size,\n",
    "                l.strides,\n",
    "                l.padding,\n",
    "                kernel_quantizer=quantized_bits(BIT_WIDTH, 0, 1, alpha=DEFAULT_ALPHA),\n",
    "                bias_quantizer=quantized_bits(BIT_WIDTH, 0, 1, alpha=DEFAULT_ALPHA),\n",
    "            )\n",
    "            x = qconv2d(x)\n",
    "            qconv2d.set_weights(l.get_weights())\n",
    "\n",
    "        elif isinstance(l, DepthwiseConv2D):\n",
    "            qDepthwiseConv2D = QDepthwiseConv2D(\n",
    "                l.kernel_size,\n",
    "                l.strides,\n",
    "                l.padding,\n",
    "                depthwise_quantizer=quantized_bits(\n",
    "                    BIT_WIDTH, 0, 1, alpha=DEFAULT_ALPHA\n",
    "                ),\n",
    "                bias_quantizer=quantized_bits(BIT_WIDTH, 0, 1, alpha=DEFAULT_ALPHA),\n",
    "            )\n",
    "            x = qDepthwiseConv2D(x)\n",
    "            qDepthwiseConv2D.set_weights(l.get_weights())\n",
    "\n",
    "        elif isinstance(l, Activation):\n",
    "            activation_name = l.get_config()[\"activation\"]\n",
    "            print(activation_name)\n",
    "            if activation_name == \"tanh\":\n",
    "                x = QActivation(quantized_tanh(BIT_WIDTH, True))(x)\n",
    "            elif activation_name == \"relu\":\n",
    "                x = QActivation(quantized_relu(BIT_WIDTH, 0))(x)\n",
    "            elif activation_name == \"linear\":\n",
    "                x = QActivation(quantized_bits(BIT_WIDTH, 0, 1))(x)\n",
    "            else:\n",
    "                print(f\"{l.name} was not quantized\")\n",
    "\n",
    "        elif isinstance(l, Flatten):\n",
    "            # necessary because the layer before Flatten doesnt have avtivation\n",
    "            x = QActivation(quantized_bits(BIT_WIDTH - 4, 0, 1))(x)\n",
    "            x = Flatten()(x)\n",
    "\n",
    "        elif isinstance(l, Dense):\n",
    "            qdense = QDense(\n",
    "                l.units,\n",
    "                kernel_quantizer=quantized_bits(BIT_WIDTH-4, 0, 1, alpha=DEFAULT_ALPHA),\n",
    "                bias_quantizer=quantized_bits(BIT_WIDTH, 0, 1, alpha=DEFAULT_ALPHA),\n",
    "            )\n",
    "            # just for testing the latency\n",
    "            x = qdense(x)\n",
    "            qdense.set_weights(l.get_weights())\n",
    "\n",
    "        elif isinstance(l, MaxPooling2D):\n",
    "            x = MaxPooling2D()(x)\n",
    "\n",
    "        elif isinstance(l, GlobalAveragePooling2D):\n",
    "            globalAveragePooling2D = GlobalAveragePooling2D()\n",
    "            x = globalAveragePooling2D(x)\n",
    "            x = QActivation(quantized_bits(BIT_WIDTH, 0, 1, alpha=DEFAULT_ALPHA))(x)\n",
    "        else:\n",
    "            print(f\"{l.name} layer was not quantized...\")\n",
    "\n",
    "    qkeras_model = keras.models.Model(x_in, x)\n",
    "\n",
    "    return qkeras_model\n",
    "\n",
    "\n",
    "qkeras_model = create_qkeras_model_from_keras_model(model)\n",
    "qkeras_model.compile(\n",
    "    keras.optimizers.Adam(0.001),\n",
    "    loss=keras.losses.CategoricalCrossentropy(True),\n",
    "    metrics=[\"accuracy\"],\n",
    ")\n",
    "qkeras_model.summary()"
   ]
  },
  {
   "cell_type": "code",
   "execution_count": null,
   "metadata": {},
   "outputs": [],
   "source": [
    "from qkeras.autoqkeras.utils import print_qmodel_summary\n",
    "print_qmodel_summary(qkeras_model)"
   ]
  },
  {
   "cell_type": "code",
   "execution_count": null,
   "metadata": {},
   "outputs": [],
   "source": [
    "from qkeras.estimate import print_qstats\n",
    "\n",
    "print_qstats(qkeras_model)\n",
    "qkeras_model.evaluate(test_dataset)\n",
    "# free memory\n",
    "del model"
   ]
  },
  {
   "cell_type": "code",
   "execution_count": null,
   "metadata": {},
   "outputs": [],
   "source": [
    "qkeras_model.fit(train_dataset, batch_size=256, epochs=10, validation_data=test_dataset)\n",
    "trial_id = \"qatwqkeras\"\n",
    "qkeras_model.save(f\"qatwqkeras/saved_qmodels/{trial_id}.h5\")"
   ]
  },
  {
   "cell_type": "code",
   "execution_count": null,
   "metadata": {},
   "outputs": [],
   "source": [
    "from qkeras.utils import _add_supported_quantized_objects\n",
    "\n",
    "co = {}\n",
    "_add_supported_quantized_objects(co)\n",
    "\n",
    "loaded_qkeras_model = keras.models.load_model(f\"qatwqkeras/saved_qmodels/{trial_id}.h5\", co)\n",
    "loaded_qkeras_model.evaluate(test_dataset)\n",
    "\n",
    "# free memory\n",
    "del loaded_qkeras_model"
   ]
  },
  {
   "cell_type": "markdown",
   "metadata": {},
   "source": [
    "# get metrics"
   ]
  },
  {
   "cell_type": "code",
   "execution_count": null,
   "metadata": {},
   "outputs": [],
   "source": [
    "from sklearn.metrics import accuracy_score\n",
    "from sklearn.metrics import precision_score\n",
    "from sklearn.metrics import recall_score\n",
    "from sklearn.metrics import f1_score\n",
    "\n",
    "x_test = []\n",
    "y_test = []\n",
    "for b in test_dataset.as_numpy_iterator():\n",
    "    x_test.append(b[0])\n",
    "    y_test.append(b[1])\n",
    "\n",
    "x_test = np.concatenate(x_test, 0)\n",
    "y_test = np.concatenate(y_test, 0)\n",
    "\n",
    "y_test = np.argmax(y_test, axis=1)\n",
    "y_qpred = qkeras_model.predict(x_test)\n",
    "y_qpred = np.argmax(y_qpred, axis=1)\n",
    "\n",
    "print(\"accuracy_score\", accuracy_score(y_test, y_qpred))\n",
    "print(\"precision_score\", precision_score(y_test, y_qpred, average=\"macro\"))\n",
    "print(\"recall_score\", recall_score(y_test, y_qpred, average=\"macro\"))\n",
    "print(\"f1_score\", f1_score(y_test, y_qpred, average=\"macro\"))\n"
   ]
  },
  {
   "cell_type": "code",
   "execution_count": null,
   "metadata": {},
   "outputs": [],
   "source": []
  }
 ],
 "metadata": {
  "kernelspec": {
   "display_name": ".venv",
   "language": "python",
   "name": "python3"
  },
  "language_info": {
   "codemirror_mode": {
    "name": "ipython",
    "version": 3
   },
   "file_extension": ".py",
   "mimetype": "text/x-python",
   "name": "python",
   "nbconvert_exporter": "python",
   "pygments_lexer": "ipython3",
   "version": "3.10.12"
  }
 },
 "nbformat": 4,
 "nbformat_minor": 2
}
