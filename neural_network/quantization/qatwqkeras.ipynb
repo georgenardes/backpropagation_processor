{
 "cells": [
  {
   "cell_type": "code",
   "execution_count": 1,
   "metadata": {},
   "outputs": [
    {
     "name": "stderr",
     "output_type": "stream",
     "text": [
      "2024-02-10 19:53:15.606483: I tensorflow/core/util/port.cc:113] oneDNN custom operations are on. You may see slightly different numerical results due to floating-point round-off errors from different computation orders. To turn them off, set the environment variable `TF_ENABLE_ONEDNN_OPTS=0`.\n",
      "2024-02-10 19:53:15.630473: E external/local_xla/xla/stream_executor/cuda/cuda_dnn.cc:9261] Unable to register cuDNN factory: Attempting to register factory for plugin cuDNN when one has already been registered\n",
      "2024-02-10 19:53:15.630493: E external/local_xla/xla/stream_executor/cuda/cuda_fft.cc:607] Unable to register cuFFT factory: Attempting to register factory for plugin cuFFT when one has already been registered\n",
      "2024-02-10 19:53:15.631242: E external/local_xla/xla/stream_executor/cuda/cuda_blas.cc:1515] Unable to register cuBLAS factory: Attempting to register factory for plugin cuBLAS when one has already been registered\n",
      "2024-02-10 19:53:15.635300: I tensorflow/core/platform/cpu_feature_guard.cc:182] This TensorFlow binary is optimized to use available CPU instructions in performance-critical operations.\n",
      "To enable the following instructions: AVX2 AVX_VNNI FMA, in other operations, rebuild TensorFlow with the appropriate compiler flags.\n",
      "2024-02-10 19:53:16.055431: W tensorflow/compiler/tf2tensorrt/utils/py_utils.cc:38] TF-TRT Warning: Could not find TensorRT\n"
     ]
    }
   ],
   "source": [
    "import sys\n",
    "sys.path.append(\"/home/webphy/Desktop/dnn_processor/\")  # just to enable `dataset`\n",
    "sys.path.append(\"/home/webphy/Desktop/dnn_processor/dataset/\")  # just to enable `dataset`\n",
    "\n",
    "import tensorflow as tf\n",
    "import dataset\n",
    "import numpy as np\n",
    "import keras\n",
    "from datetime import datetime\n",
    "from keras import layers"
   ]
  },
  {
   "cell_type": "code",
   "execution_count": 2,
   "metadata": {},
   "outputs": [
    {
     "name": "stderr",
     "output_type": "stream",
     "text": [
      "2024-02-10 19:53:16.529554: I external/local_xla/xla/stream_executor/cuda/cuda_executor.cc:901] successful NUMA node read from SysFS had negative value (-1), but there must be at least one NUMA node, so returning NUMA node zero. See more at https://github.com/torvalds/linux/blob/v6.0/Documentation/ABI/testing/sysfs-bus-pci#L344-L355\n",
      "2024-02-10 19:53:16.552697: I external/local_xla/xla/stream_executor/cuda/cuda_executor.cc:901] successful NUMA node read from SysFS had negative value (-1), but there must be at least one NUMA node, so returning NUMA node zero. See more at https://github.com/torvalds/linux/blob/v6.0/Documentation/ABI/testing/sysfs-bus-pci#L344-L355\n",
      "2024-02-10 19:53:16.552808: I external/local_xla/xla/stream_executor/cuda/cuda_executor.cc:901] successful NUMA node read from SysFS had negative value (-1), but there must be at least one NUMA node, so returning NUMA node zero. See more at https://github.com/torvalds/linux/blob/v6.0/Documentation/ABI/testing/sysfs-bus-pci#L344-L355\n",
      "2024-02-10 19:53:16.553881: I external/local_xla/xla/stream_executor/cuda/cuda_executor.cc:901] successful NUMA node read from SysFS had negative value (-1), but there must be at least one NUMA node, so returning NUMA node zero. See more at https://github.com/torvalds/linux/blob/v6.0/Documentation/ABI/testing/sysfs-bus-pci#L344-L355\n",
      "2024-02-10 19:53:16.553967: I external/local_xla/xla/stream_executor/cuda/cuda_executor.cc:901] successful NUMA node read from SysFS had negative value (-1), but there must be at least one NUMA node, so returning NUMA node zero. See more at https://github.com/torvalds/linux/blob/v6.0/Documentation/ABI/testing/sysfs-bus-pci#L344-L355\n",
      "2024-02-10 19:53:16.554014: I external/local_xla/xla/stream_executor/cuda/cuda_executor.cc:901] successful NUMA node read from SysFS had negative value (-1), but there must be at least one NUMA node, so returning NUMA node zero. See more at https://github.com/torvalds/linux/blob/v6.0/Documentation/ABI/testing/sysfs-bus-pci#L344-L355\n",
      "2024-02-10 19:53:17.365786: I external/local_xla/xla/stream_executor/cuda/cuda_executor.cc:901] successful NUMA node read from SysFS had negative value (-1), but there must be at least one NUMA node, so returning NUMA node zero. See more at https://github.com/torvalds/linux/blob/v6.0/Documentation/ABI/testing/sysfs-bus-pci#L344-L355\n",
      "2024-02-10 19:53:17.365892: I external/local_xla/xla/stream_executor/cuda/cuda_executor.cc:901] successful NUMA node read from SysFS had negative value (-1), but there must be at least one NUMA node, so returning NUMA node zero. See more at https://github.com/torvalds/linux/blob/v6.0/Documentation/ABI/testing/sysfs-bus-pci#L344-L355\n",
      "2024-02-10 19:53:17.365950: I external/local_xla/xla/stream_executor/cuda/cuda_executor.cc:901] successful NUMA node read from SysFS had negative value (-1), but there must be at least one NUMA node, so returning NUMA node zero. See more at https://github.com/torvalds/linux/blob/v6.0/Documentation/ABI/testing/sysfs-bus-pci#L344-L355\n",
      "2024-02-10 19:53:17.365997: I tensorflow/core/common_runtime/gpu/gpu_device.cc:1929] Created device /job:localhost/replica:0/task:0/device:GPU:0 with 9232 MB memory:  -> device: 0, name: NVIDIA GeForce RTX 3060, pci bus id: 0000:01:00.0, compute capability: 8.6\n"
     ]
    }
   ],
   "source": [
    "DEFAULT_BATCH_SIZE = 64\n",
    "EPOCHS = 100\n",
    "DEFAULT_INPUT_SIZE = 128\n",
    "\n",
    "train_images_rgx = \"../../dataset/train_set_4x/*/*.jpeg\"\n",
    "test_images_rgx = \"../../dataset/test_set_4x/*/*.jpeg\"\n",
    "\n",
    "train_dataset, test_dataset, num_classes = dataset.create_datasets(\n",
    "    train_images_rgx, test_images_rgx, DEFAULT_BATCH_SIZE, DEFAULT_INPUT_SIZE\n",
    ")"
   ]
  },
  {
   "cell_type": "code",
   "execution_count": 3,
   "metadata": {},
   "outputs": [
    {
     "name": "stderr",
     "output_type": "stream",
     "text": [
      "2024-02-10 19:53:18.837430: I external/local_xla/xla/stream_executor/cuda/cuda_dnn.cc:454] Loaded cuDNN version 8904\n"
     ]
    },
    {
     "name": "stdout",
     "output_type": "stream",
     "text": [
      "5/5 [==============================] - 2s 21ms/step - loss: 0.4989 - accuracy: 0.8582\n",
      "Accuracy: 0.8582375645637512\n",
      "Model: \"model\"\n",
      "_________________________________________________________________\n",
      " Layer (type)                Output Shape              Param #   \n",
      "=================================================================\n",
      " input_1 (InputLayer)        [(None, 128, 128, 3)]     0         \n",
      "                                                                 \n",
      " conv2d (Conv2D)             (None, 32, 32, 4)         196       \n",
      "                                                                 \n",
      " activation (Activation)     (None, 32, 32, 4)         0         \n",
      "                                                                 \n",
      " conv2d_1 (Conv2D)           (None, 15, 15, 16)        592       \n",
      "                                                                 \n",
      " activation_1 (Activation)   (None, 15, 15, 16)        0         \n",
      "                                                                 \n",
      " conv2d_2 (Conv2D)           (None, 15, 15, 5)         85        \n",
      "                                                                 \n",
      " flatten (Flatten)           (None, 1125)              0         \n",
      "                                                                 \n",
      " dense (Dense)               (None, 5)                 5630      \n",
      "                                                                 \n",
      "=================================================================\n",
      "Total params: 6503 (25.40 KB)\n",
      "Trainable params: 6503 (25.40 KB)\n",
      "Non-trainable params: 0 (0.00 Byte)\n",
      "_________________________________________________________________\n"
     ]
    }
   ],
   "source": [
    "EXP_ID = \"baseline_model\"\n",
    "\n",
    "\n",
    "model = keras.models.load_model(\n",
    "    f\"../handmade/saved_models/{EXP_ID}/best_model_t/model.h5\",\n",
    "    compile=False,\n",
    ")\n",
    "model.compile(\n",
    "    keras.optimizers.legacy.Adam(), loss=tf.keras.losses.CategoricalCrossentropy(True), metrics=[\"accuracy\"]\n",
    ")\n",
    "\n",
    "score = model.evaluate(test_dataset)\n",
    "print(\"Accuracy: {}\".format(score[1]))\n",
    "\n",
    "model.summary()"
   ]
  },
  {
   "cell_type": "markdown",
   "metadata": {},
   "source": [
    "# quantize model"
   ]
  },
  {
   "cell_type": "code",
   "execution_count": 4,
   "metadata": {},
   "outputs": [
    {
     "name": "stdout",
     "output_type": "stream",
     "text": [
      "input_1 layer was not quantized...\n",
      "relu\n",
      "relu\n",
      "Model: \"model\"\n",
      "_________________________________________________________________\n",
      " Layer (type)                Output Shape              Param #   \n",
      "=================================================================\n",
      " input_1 (InputLayer)        [(None, 128, 128, 3)]     0         \n",
      "                                                                 \n",
      " q_activation (QActivation)  (None, 128, 128, 3)       0         \n",
      "                                                                 \n",
      " q_conv2d (QConv2D)          (None, 32, 32, 4)         196       \n",
      "                                                                 \n",
      " q_activation_1 (QActivatio  (None, 32, 32, 4)         0         \n",
      " n)                                                              \n",
      "                                                                 \n",
      " q_conv2d_1 (QConv2D)        (None, 15, 15, 16)        592       \n",
      "                                                                 \n",
      " q_activation_2 (QActivatio  (None, 15, 15, 16)        0         \n",
      " n)                                                              \n",
      "                                                                 \n",
      " q_conv2d_2 (QConv2D)        (None, 15, 15, 5)         85        \n",
      "                                                                 \n",
      " q_activation_3 (QActivatio  (None, 15, 15, 5)         0         \n",
      " n)                                                              \n",
      "                                                                 \n",
      " flatten (Flatten)           (None, 1125)              0         \n",
      "                                                                 \n",
      " q_dense (QDense)            (None, 5)                 5630      \n",
      "                                                                 \n",
      "=================================================================\n",
      "Total params: 6503 (25.40 KB)\n",
      "Trainable params: 6503 (25.40 KB)\n",
      "Non-trainable params: 0 (0.00 Byte)\n",
      "_________________________________________________________________\n"
     ]
    }
   ],
   "source": [
    "import qkeras\n",
    "from qkeras import *\n",
    "from keras.layers import (\n",
    "    Conv2D,\n",
    "    DepthwiseConv2D,\n",
    "    Activation,\n",
    "    Dense,\n",
    "    Flatten,\n",
    "    MaxPooling2D,\n",
    "    GlobalAveragePooling2D,\n",
    ")\n",
    "\n",
    "\n",
    "BIT_WIDTH = 8\n",
    "DEFAULT_ALPHA = 1\n",
    "\n",
    "\n",
    "def create_qkeras_model_from_keras_model(keras_model):\n",
    "    x = x_in = keras.Input(shape=keras_model.layers[0].output.shape[1:])\n",
    "\n",
    "    x = QActivation(quantized_relu(BIT_WIDTH, 0))(x)\n",
    "\n",
    "    for l in keras_model.layers:\n",
    "        if isinstance(l, Conv2D):\n",
    "            qconv2d = QConv2D(\n",
    "                l.filters,\n",
    "                l.kernel_size,\n",
    "                l.strides,\n",
    "                l.padding,\n",
    "                kernel_quantizer=quantized_bits(BIT_WIDTH, 0, 1, alpha=DEFAULT_ALPHA),\n",
    "                bias_quantizer=quantized_bits(BIT_WIDTH, 0, 1, alpha=DEFAULT_ALPHA),\n",
    "            )\n",
    "            x = qconv2d(x)\n",
    "            qconv2d.set_weights(l.get_weights())\n",
    "\n",
    "        elif isinstance(l, DepthwiseConv2D):\n",
    "            qDepthwiseConv2D = QDepthwiseConv2D(\n",
    "                l.kernel_size,\n",
    "                l.strides,\n",
    "                l.padding,\n",
    "                depthwise_quantizer=quantized_bits(\n",
    "                    BIT_WIDTH, 0, 1, alpha=DEFAULT_ALPHA\n",
    "                ),\n",
    "                bias_quantizer=quantized_bits(BIT_WIDTH, 0, 1, alpha=DEFAULT_ALPHA),\n",
    "            )\n",
    "            x = qDepthwiseConv2D(x)\n",
    "            qDepthwiseConv2D.set_weights(l.get_weights())\n",
    "\n",
    "        elif isinstance(l, Activation):\n",
    "            activation_name = l.get_config()[\"activation\"]\n",
    "            print(activation_name)\n",
    "            if activation_name == \"tanh\":\n",
    "                x = QActivation(quantized_tanh(BIT_WIDTH, True))(x)\n",
    "            elif activation_name == \"relu\":\n",
    "                x = QActivation(quantized_relu(BIT_WIDTH, 0))(x)\n",
    "            elif activation_name == \"linear\":\n",
    "                x = QActivation(quantized_bits(BIT_WIDTH, 0, 1))(x)\n",
    "            else:\n",
    "                print(f\"{l.name} was not quantized\")\n",
    "\n",
    "        elif isinstance(l, Flatten):\n",
    "            # necessary because the layer before Flatten doesnt have avtivation\n",
    "            x = QActivation(quantized_bits(BIT_WIDTH - 4, 0, 1))(x)\n",
    "            x = Flatten()(x)\n",
    "\n",
    "        elif isinstance(l, Dense):\n",
    "            qdense = QDense(\n",
    "                l.units,\n",
    "                kernel_quantizer=quantized_bits(BIT_WIDTH, 0, 1, alpha=DEFAULT_ALPHA),\n",
    "                bias_quantizer=quantized_bits(BIT_WIDTH, 0, 1, alpha=DEFAULT_ALPHA),\n",
    "            )\n",
    "            # just for testing the latency\n",
    "            x = qdense(x)\n",
    "            qdense.set_weights(l.get_weights())\n",
    "\n",
    "        elif isinstance(l, MaxPooling2D):\n",
    "            x = MaxPooling2D()(x)\n",
    "\n",
    "        elif isinstance(l, GlobalAveragePooling2D):\n",
    "            globalAveragePooling2D = GlobalAveragePooling2D()\n",
    "            x = globalAveragePooling2D(x)\n",
    "            x = QActivation(quantized_bits(BIT_WIDTH, 0, 1, alpha=DEFAULT_ALPHA))(x)\n",
    "        else:\n",
    "            print(f\"{l.name} layer was not quantized...\")\n",
    "\n",
    "    qkeras_model = keras.models.Model(x_in, x)\n",
    "\n",
    "    return qkeras_model\n",
    "\n",
    "\n",
    "qkeras_model = create_qkeras_model_from_keras_model(model)\n",
    "qkeras_model.compile(\n",
    "    keras.optimizers.Adam(0.0005),\n",
    "    loss=keras.losses.CategoricalCrossentropy(True),\n",
    "    metrics=[\"accuracy\"],\n",
    ")\n",
    "qkeras_model.summary()"
   ]
  },
  {
   "cell_type": "code",
   "execution_count": 5,
   "metadata": {},
   "outputs": [
    {
     "name": "stdout",
     "output_type": "stream",
     "text": [
      "q_activation         quantized_relu(8,0)\n",
      "q_conv2d             f=4 quantized_bits(8,0,1,alpha=1) quantized_bits(8,0,1,alpha=1) \n",
      "q_activation_1       quantized_relu(8,0)\n",
      "q_conv2d_1           f=16 quantized_bits(8,0,1,alpha=1) quantized_bits(8,0,1,alpha=1) \n",
      "q_activation_2       quantized_relu(8,0)\n",
      "q_conv2d_2           f=5 quantized_bits(8,0,1,alpha=1) quantized_bits(8,0,1,alpha=1) \n",
      "q_activation_3       quantized_bits(4,0,1)\n",
      "q_dense              u=5 quantized_bits(8,0,1,alpha=1) quantized_bits(8,0,1,alpha=1) \n",
      "\n"
     ]
    }
   ],
   "source": [
    "from qkeras.autoqkeras.utils import print_qmodel_summary\n",
    "print_qmodel_summary(qkeras_model)"
   ]
  },
  {
   "cell_type": "code",
   "execution_count": 7,
   "metadata": {},
   "outputs": [
    {
     "name": "stdout",
     "output_type": "stream",
     "text": [
      "\n",
      "Number of operations in model:\n",
      "    q_conv2d                      : 196608 (smult_8_8)\n",
      "    q_conv2d_1                    : 129600 (smult_8_8)\n",
      "    q_conv2d_2                    : 18000 (smult_8_8)\n",
      "    q_dense                       : 5625  (smult_8_4)\n",
      "\n",
      "Number of operation types in model:\n",
      "    smult_8_4                     : 5625\n",
      "    smult_8_8                     : 344208\n",
      "\n",
      "Weight profiling:\n",
      "    q_conv2d_weights               : 192   (8-bit unit)\n",
      "    q_conv2d_bias                  : 4     (8-bit unit)\n",
      "    q_conv2d_1_weights             : 576   (8-bit unit)\n",
      "    q_conv2d_1_bias                : 16    (8-bit unit)\n",
      "    q_conv2d_2_weights             : 80    (8-bit unit)\n",
      "    q_conv2d_2_bias                : 5     (8-bit unit)\n",
      "    q_dense_weights                : 5625  (8-bit unit)\n",
      "    q_dense_bias                   : 5     (8-bit unit)\n",
      "\n",
      "Weight sparsity:\n",
      "... quantizing model\n",
      "    q_conv2d                       : 0.0408\n",
      "    q_conv2d_1                     : 0.0118\n",
      "    q_conv2d_2                     : 0.0118\n",
      "    q_dense                        : 0.0192\n",
      "    ----------------------------------------\n",
      "    Total Sparsity                 : 0.0191\n",
      "5/5 [==============================] - 0s 4ms/step - loss: 0.5249 - accuracy: 0.8467\n"
     ]
    }
   ],
   "source": [
    "from qkeras.estimate import print_qstats\n",
    "\n",
    "print_qstats(qkeras_model)\n",
    "qkeras_model.evaluate(test_dataset)\n",
    "# free memory\n",
    "del model"
   ]
  },
  {
   "cell_type": "code",
   "execution_count": 8,
   "metadata": {},
   "outputs": [
    {
     "name": "stdout",
     "output_type": "stream",
     "text": [
      "Epoch 1/5\n"
     ]
    },
    {
     "name": "stderr",
     "output_type": "stream",
     "text": [
      "2024-02-10 19:59:14.410794: E tensorflow/core/grappler/optimizers/meta_optimizer.cc:961] layout failed: INVALID_ARGUMENT: Size of values 0 does not match size of permutation 4 @ fanin shape ingradient_tape/model/q_activation_2/SelectV2-2-TransposeNHWCToNCHW-LayoutOptimizer\n",
      "2024-02-10 19:59:14.528626: I external/local_xla/xla/service/service.cc:168] XLA service 0x7f60ec088220 initialized for platform CUDA (this does not guarantee that XLA will be used). Devices:\n",
      "2024-02-10 19:59:14.528647: I external/local_xla/xla/service/service.cc:176]   StreamExecutor device (0): NVIDIA GeForce RTX 3060, Compute Capability 8.6\n",
      "2024-02-10 19:59:14.531873: I tensorflow/compiler/mlir/tensorflow/utils/dump_mlir_util.cc:269] disabling MLIR crash reproducer, set env var `MLIR_CRASH_REPRODUCER_DIRECTORY` to enable.\n",
      "WARNING: All log messages before absl::InitializeLog() is called are written to STDERR\n",
      "I0000 00:00:1707605954.589553  799098 device_compiler.h:186] Compiled cluster using XLA!  This line is logged at most once for the lifetime of the process.\n"
     ]
    },
    {
     "name": "stdout",
     "output_type": "stream",
     "text": [
      "55/55 [==============================] - 2s 6ms/step - loss: 0.5569 - accuracy: 0.9489 - val_loss: 0.4938 - val_accuracy: 0.8544\n",
      "Epoch 2/5\n",
      "55/55 [==============================] - 0s 6ms/step - loss: 0.0781 - accuracy: 0.9770 - val_loss: 0.4774 - val_accuracy: 0.8621\n",
      "Epoch 3/5\n",
      "55/55 [==============================] - 0s 6ms/step - loss: 0.0753 - accuracy: 0.9801 - val_loss: 0.4681 - val_accuracy: 0.8697\n",
      "Epoch 4/5\n",
      "55/55 [==============================] - 0s 6ms/step - loss: 0.0736 - accuracy: 0.9801 - val_loss: 0.4781 - val_accuracy: 0.8544\n",
      "Epoch 5/5\n",
      "55/55 [==============================] - 0s 6ms/step - loss: 0.0726 - accuracy: 0.9815 - val_loss: 0.4763 - val_accuracy: 0.8736\n"
     ]
    },
    {
     "name": "stderr",
     "output_type": "stream",
     "text": [
      "/home/webphy/Desktop/dnn_processor_v2/.venv/lib/python3.10/site-packages/keras/src/engine/training.py:3103: UserWarning: You are saving your model as an HDF5 file via `model.save()`. This file format is considered legacy. We recommend using instead the native Keras format, e.g. `model.save('my_model.keras')`.\n",
      "  saving_api.save_model(\n",
      "/home/webphy/Desktop/dnn_processor_v2/.venv/lib/python3.10/site-packages/keras/src/constraints.py:365: UserWarning: The `keras.constraints.serialize()` API should only be used for objects of type `keras.constraints.Constraint`. Found an instance of type <class 'qkeras.quantizers.quantized_bits'>, which may lead to improper serialization.\n",
      "  warnings.warn(\n"
     ]
    }
   ],
   "source": [
    "qkeras_model.fit(train_dataset, batch_size=256, epochs=5, validation_data=test_dataset)\n",
    "trial_id = \"qatwqkeras\"\n",
    "qkeras_model.save(f\"qatwqkeras/saved_qmodels/{trial_id}.h5\")"
   ]
  },
  {
   "cell_type": "code",
   "execution_count": 9,
   "metadata": {},
   "outputs": [
    {
     "name": "stdout",
     "output_type": "stream",
     "text": [
      "5/5 [==============================] - 0s 4ms/step - loss: 0.4763 - accuracy: 0.8736\n"
     ]
    }
   ],
   "source": [
    "from qkeras.utils import _add_supported_quantized_objects\n",
    "\n",
    "co = {}\n",
    "_add_supported_quantized_objects(co)\n",
    "\n",
    "loaded_qkeras_model = keras.models.load_model(f\"qatwqkeras/saved_qmodels/{trial_id}.h5\", co)\n",
    "loaded_qkeras_model.evaluate(test_dataset)\n",
    "\n",
    "# free memory\n",
    "del loaded_qkeras_model"
   ]
  }
 ],
 "metadata": {
  "kernelspec": {
   "display_name": ".venv",
   "language": "python",
   "name": "python3"
  },
  "language_info": {
   "codemirror_mode": {
    "name": "ipython",
    "version": 3
   },
   "file_extension": ".py",
   "mimetype": "text/x-python",
   "name": "python",
   "nbconvert_exporter": "python",
   "pygments_lexer": "ipython3",
   "version": "3.10.12"
  }
 },
 "nbformat": 4,
 "nbformat_minor": 2
}
