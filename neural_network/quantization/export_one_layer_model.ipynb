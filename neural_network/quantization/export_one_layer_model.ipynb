{
 "cells": [
  {
   "cell_type": "code",
   "execution_count": 1,
   "metadata": {},
   "outputs": [
    {
     "name": "stderr",
     "output_type": "stream",
     "text": [
      "2024-02-11 13:13:46.544966: I tensorflow/core/util/port.cc:113] oneDNN custom operations are on. You may see slightly different numerical results due to floating-point round-off errors from different computation orders. To turn them off, set the environment variable `TF_ENABLE_ONEDNN_OPTS=0`.\n",
      "2024-02-11 13:13:46.569093: E external/local_xla/xla/stream_executor/cuda/cuda_dnn.cc:9261] Unable to register cuDNN factory: Attempting to register factory for plugin cuDNN when one has already been registered\n",
      "2024-02-11 13:13:46.569115: E external/local_xla/xla/stream_executor/cuda/cuda_fft.cc:607] Unable to register cuFFT factory: Attempting to register factory for plugin cuFFT when one has already been registered\n",
      "2024-02-11 13:13:46.569826: E external/local_xla/xla/stream_executor/cuda/cuda_blas.cc:1515] Unable to register cuBLAS factory: Attempting to register factory for plugin cuBLAS when one has already been registered\n",
      "2024-02-11 13:13:46.574197: I tensorflow/core/platform/cpu_feature_guard.cc:182] This TensorFlow binary is optimized to use available CPU instructions in performance-critical operations.\n",
      "To enable the following instructions: AVX2 AVX_VNNI FMA, in other operations, rebuild TensorFlow with the appropriate compiler flags.\n",
      "2024-02-11 13:13:47.013466: W tensorflow/compiler/tf2tensorrt/utils/py_utils.cc:38] TF-TRT Warning: Could not find TensorRT\n"
     ]
    }
   ],
   "source": [
    "import sys\n",
    "sys.path.append(\"/home/webphy/Desktop/dnn_processor/\")  # just to enable `dataset`\n",
    "sys.path.append(\"/home/webphy/Desktop/dnn_processor/dataset/\") # just to enable `dataset`\n",
    "seed = 0\n",
    "\n",
    "import numpy as np\n",
    "np.random.seed(seed)\n",
    "import tensorflow as tf\n",
    "tf.random.set_seed(seed)\n",
    "import dataset\n",
    "import plotting\n",
    "import qkeras\n",
    "import keras"
   ]
  },
  {
   "cell_type": "code",
   "execution_count": 2,
   "metadata": {},
   "outputs": [
    {
     "name": "stderr",
     "output_type": "stream",
     "text": [
      "2024-02-11 13:13:47.877339: I external/local_xla/xla/stream_executor/cuda/cuda_executor.cc:901] successful NUMA node read from SysFS had negative value (-1), but there must be at least one NUMA node, so returning NUMA node zero. See more at https://github.com/torvalds/linux/blob/v6.0/Documentation/ABI/testing/sysfs-bus-pci#L344-L355\n",
      "2024-02-11 13:13:47.900229: I external/local_xla/xla/stream_executor/cuda/cuda_executor.cc:901] successful NUMA node read from SysFS had negative value (-1), but there must be at least one NUMA node, so returning NUMA node zero. See more at https://github.com/torvalds/linux/blob/v6.0/Documentation/ABI/testing/sysfs-bus-pci#L344-L355\n",
      "2024-02-11 13:13:47.900358: I external/local_xla/xla/stream_executor/cuda/cuda_executor.cc:901] successful NUMA node read from SysFS had negative value (-1), but there must be at least one NUMA node, so returning NUMA node zero. See more at https://github.com/torvalds/linux/blob/v6.0/Documentation/ABI/testing/sysfs-bus-pci#L344-L355\n",
      "2024-02-11 13:13:47.902001: I external/local_xla/xla/stream_executor/cuda/cuda_executor.cc:901] successful NUMA node read from SysFS had negative value (-1), but there must be at least one NUMA node, so returning NUMA node zero. See more at https://github.com/torvalds/linux/blob/v6.0/Documentation/ABI/testing/sysfs-bus-pci#L344-L355\n",
      "2024-02-11 13:13:47.902145: I external/local_xla/xla/stream_executor/cuda/cuda_executor.cc:901] successful NUMA node read from SysFS had negative value (-1), but there must be at least one NUMA node, so returning NUMA node zero. See more at https://github.com/torvalds/linux/blob/v6.0/Documentation/ABI/testing/sysfs-bus-pci#L344-L355\n",
      "2024-02-11 13:13:47.902245: I external/local_xla/xla/stream_executor/cuda/cuda_executor.cc:901] successful NUMA node read from SysFS had negative value (-1), but there must be at least one NUMA node, so returning NUMA node zero. See more at https://github.com/torvalds/linux/blob/v6.0/Documentation/ABI/testing/sysfs-bus-pci#L344-L355\n",
      "2024-02-11 13:13:48.623895: I external/local_xla/xla/stream_executor/cuda/cuda_executor.cc:901] successful NUMA node read from SysFS had negative value (-1), but there must be at least one NUMA node, so returning NUMA node zero. See more at https://github.com/torvalds/linux/blob/v6.0/Documentation/ABI/testing/sysfs-bus-pci#L344-L355\n",
      "2024-02-11 13:13:48.624009: I external/local_xla/xla/stream_executor/cuda/cuda_executor.cc:901] successful NUMA node read from SysFS had negative value (-1), but there must be at least one NUMA node, so returning NUMA node zero. See more at https://github.com/torvalds/linux/blob/v6.0/Documentation/ABI/testing/sysfs-bus-pci#L344-L355\n",
      "2024-02-11 13:13:48.624070: I external/local_xla/xla/stream_executor/cuda/cuda_executor.cc:901] successful NUMA node read from SysFS had negative value (-1), but there must be at least one NUMA node, so returning NUMA node zero. See more at https://github.com/torvalds/linux/blob/v6.0/Documentation/ABI/testing/sysfs-bus-pci#L344-L355\n",
      "2024-02-11 13:13:48.624120: I tensorflow/core/common_runtime/gpu/gpu_device.cc:1929] Created device /job:localhost/replica:0/task:0/device:GPU:0 with 9179 MB memory:  -> device: 0, name: NVIDIA GeForce RTX 3060, pci bus id: 0000:01:00.0, compute capability: 8.6\n"
     ]
    }
   ],
   "source": [
    "BATCH_SIZE = 64\n",
    "train_images_rgx = \"../../dataset/train_set_4x/*/*.jpeg\"\n",
    "valid_images_rgx = \"../../dataset/test_set_4x/*/*.jpeg\"\n",
    "\n",
    "train_ds, val_ds, nclasses = dataset.create_datasets(\n",
    "    train_images_rgx, valid_images_rgx, BATCH_SIZE, 128\n",
    ")"
   ]
  },
  {
   "cell_type": "code",
   "execution_count": 3,
   "metadata": {},
   "outputs": [
    {
     "name": "stderr",
     "output_type": "stream",
     "text": [
      "2024-02-11 13:13:51.970823: I external/local_xla/xla/stream_executor/cuda/cuda_dnn.cc:454] Loaded cuDNN version 8904\n"
     ]
    },
    {
     "name": "stdout",
     "output_type": "stream",
     "text": [
      "5/5 [==============================] - 3s 33ms/step - loss: 0.4763 - accuracy: 0.8736\n",
      "Accuracy: 0.8735632300376892\n",
      "WARNING:tensorflow:From /home/webphy/Desktop/dnn_processor_v2/.venv/lib/python3.10/site-packages/qkeras/estimate.py:345: Tensor.experimental_ref (from tensorflow.python.framework.tensor) is deprecated and will be removed in a future version.\n",
      "Instructions for updating:\n",
      "Use ref() instead.\n"
     ]
    },
    {
     "name": "stderr",
     "output_type": "stream",
     "text": [
      "/home/webphy/Desktop/dnn_processor_v2/.venv/lib/python3.10/site-packages/keras/src/constraints.py:365: UserWarning: The `keras.constraints.serialize()` API should only be used for objects of type `keras.constraints.Constraint`. Found an instance of type <class 'qkeras.quantizers.quantized_bits'>, which may lead to improper serialization.\n",
      "  warnings.warn(\n",
      "WARNING:tensorflow:From /home/webphy/Desktop/dnn_processor_v2/.venv/lib/python3.10/site-packages/qkeras/estimate.py:345: Tensor.experimental_ref (from tensorflow.python.framework.tensor) is deprecated and will be removed in a future version.\n",
      "Instructions for updating:\n",
      "Use ref() instead.\n"
     ]
    },
    {
     "name": "stdout",
     "output_type": "stream",
     "text": [
      "\n",
      "Number of operations in model:\n",
      "    q_conv2d                      : 196608 (smult_8_8)\n",
      "    q_conv2d_1                    : 129600 (smult_8_8)\n",
      "    q_conv2d_2                    : 18000 (smult_8_8)\n",
      "    q_dense                       : 5625  (smult_8_4)\n",
      "\n",
      "Number of operation types in model:\n",
      "    smult_8_4                     : 5625\n",
      "    smult_8_8                     : 344208\n",
      "\n",
      "Weight profiling:\n",
      "    q_conv2d_weights               : 192   (8-bit unit)\n",
      "    q_conv2d_bias                  : 4     (8-bit unit)\n",
      "    q_conv2d_1_weights             : 576   (8-bit unit)\n",
      "    q_conv2d_1_bias                : 16    (8-bit unit)\n",
      "    q_conv2d_2_weights             : 80    (8-bit unit)\n",
      "    q_conv2d_2_bias                : 5     (8-bit unit)\n",
      "    q_dense_weights                : 5625  (8-bit unit)\n",
      "    q_dense_bias                   : 5     (8-bit unit)\n",
      "\n",
      "Weight sparsity:\n",
      "... quantizing model\n",
      "    q_conv2d                       : 0.0408\n",
      "    q_conv2d_1                     : 0.0152\n",
      "    q_conv2d_2                     : 0.0118\n",
      "    q_dense                        : 0.0226\n",
      "    ----------------------------------------\n",
      "    Total Sparsity                 : 0.0223\n"
     ]
    }
   ],
   "source": [
    "from qkeras.utils import load_qmodel\n",
    "from qkeras.estimate import print_qstats\n",
    "\n",
    "model_path = \"qatwqkeras/saved_qmodels/qatwqkeras.h5\"\n",
    "\n",
    "qmodel = load_qmodel(\n",
    "    model_path,\n",
    "    compile=False,\n",
    ")\n",
    "qmodel.compile(\n",
    "    \"adam\", loss=tf.keras.losses.CategoricalCrossentropy(True), metrics=[\"accuracy\"]\n",
    ")\n",
    "\n",
    "score = qmodel.evaluate(val_ds)\n",
    "print(\"Accuracy: {}\".format(score[1]))\n",
    "\n",
    "print_qstats(qmodel)"
   ]
  },
  {
   "cell_type": "markdown",
   "metadata": {},
   "source": [
    "# extract input_activation, conv1, and output activation"
   ]
  },
  {
   "cell_type": "code",
   "execution_count": 4,
   "metadata": {},
   "outputs": [
    {
     "name": "stdout",
     "output_type": "stream",
     "text": [
      "Model: \"model\"\n",
      "_________________________________________________________________\n",
      " Layer (type)                Output Shape              Param #   \n",
      "=================================================================\n",
      " input_1 (InputLayer)        [(None, 128, 128, 3)]     0         \n",
      "                                                                 \n",
      " q_activation (QActivation)  (None, 128, 128, 3)       0         \n",
      "                                                                 \n",
      " q_conv2d (QConv2D)          (None, 32, 32, 4)         196       \n",
      "                                                                 \n",
      " q_activation_1 (QActivatio  (None, 32, 32, 4)         0         \n",
      " n)                                                              \n",
      "                                                                 \n",
      " q_conv2d_1 (QConv2D)        (None, 15, 15, 16)        592       \n",
      "                                                                 \n",
      " q_activation_2 (QActivatio  (None, 15, 15, 16)        0         \n",
      " n)                                                              \n",
      "                                                                 \n",
      " q_conv2d_2 (QConv2D)        (None, 15, 15, 5)         85        \n",
      "                                                                 \n",
      " q_activation_3 (QActivatio  (None, 15, 15, 5)         0         \n",
      " n)                                                              \n",
      "                                                                 \n",
      " flatten (Flatten)           (None, 1125)              0         \n",
      "                                                                 \n",
      " q_dense (QDense)            (None, 5)                 5630      \n",
      "                                                                 \n",
      "=================================================================\n",
      "Total params: 6503 (25.40 KB)\n",
      "Trainable params: 6503 (25.40 KB)\n",
      "Non-trainable params: 0 (0.00 Byte)\n",
      "_________________________________________________________________\n",
      "Model: \"model\"\n",
      "_________________________________________________________________\n",
      " Layer (type)                Output Shape              Param #   \n",
      "=================================================================\n",
      " input_2 (InputLayer)        [(None, 128, 128, 3)]     0         \n",
      "                                                                 \n",
      " q_activation (QActivation)  (None, 128, 128, 3)       0         \n",
      "                                                                 \n",
      " q_conv2d (QConv2D)          (None, 32, 32, 4)         196       \n",
      "                                                                 \n",
      " q_activation_1 (QActivatio  (None, 32, 32, 4)         0         \n",
      " n)                                                              \n",
      "                                                                 \n",
      "=================================================================\n",
      "Total params: 196 (784.00 Byte)\n",
      "Trainable params: 196 (784.00 Byte)\n",
      "Non-trainable params: 0 (0.00 Byte)\n",
      "_________________________________________________________________\n",
      "WARNING:tensorflow:Compiled the loaded model, but the compiled metrics have yet to be built. `model.compile_metrics` will be empty until you train or evaluate the model.\n"
     ]
    },
    {
     "name": "stderr",
     "output_type": "stream",
     "text": [
      "/home/webphy/Desktop/dnn_processor_v2/.venv/lib/python3.10/site-packages/keras/src/engine/training.py:3103: UserWarning: You are saving your model as an HDF5 file via `model.save()`. This file format is considered legacy. We recommend using instead the native Keras format, e.g. `model.save('my_model.keras')`.\n",
      "  saving_api.save_model(\n",
      "WARNING:tensorflow:Compiled the loaded model, but the compiled metrics have yet to be built. `model.compile_metrics` will be empty until you train or evaluate the model.\n"
     ]
    }
   ],
   "source": [
    "x = x_in = keras.layers.Input(shape=(128,128,3))\n",
    "\n",
    "x = qmodel.layers[1](x)\n",
    "x = qmodel.layers[2](x)\n",
    "x = qmodel.layers[3](x)\n",
    "\n",
    "one_layer_model = keras.models.Model(x_in, x)\n",
    "one_layer_model.summary()\n",
    "\n",
    "\n",
    "one_layer_model.save(model_path.replace(\".h5\", \"_one_layer.h5\"))"
   ]
  }
 ],
 "metadata": {
  "kernelspec": {
   "display_name": ".venv",
   "language": "python",
   "name": "python3"
  },
  "language_info": {
   "codemirror_mode": {
    "name": "ipython",
    "version": 3
   },
   "file_extension": ".py",
   "mimetype": "text/x-python",
   "name": "python",
   "nbconvert_exporter": "python",
   "pygments_lexer": "ipython3",
   "version": "3.10.12"
  }
 },
 "nbformat": 4,
 "nbformat_minor": 2
}
