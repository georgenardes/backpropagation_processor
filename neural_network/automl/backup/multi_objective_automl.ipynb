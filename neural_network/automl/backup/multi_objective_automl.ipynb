{
 "cells": [
  {
   "cell_type": "markdown",
   "metadata": {},
   "source": [
    "# import libs"
   ]
  },
  {
   "cell_type": "code",
   "execution_count": 1,
   "metadata": {},
   "outputs": [
    {
     "name": "stdout",
     "output_type": "stream",
     "text": [
      "Using TensorFlow backend\n"
     ]
    },
    {
     "name": "stderr",
     "output_type": "stream",
     "text": [
      "/home/webphy/Desktop/dnn_processor/.venv/lib/python3.10/site-packages/tqdm/auto.py:21: TqdmWarning: IProgress not found. Please update jupyter and ipywidgets. See https://ipywidgets.readthedocs.io/en/stable/user_install.html\n",
      "  from .autonotebook import tqdm as notebook_tqdm\n"
     ]
    }
   ],
   "source": [
    "import sys\n",
    "import os\n",
    "os.environ['TF_CPP_MIN_LOG_LEVEL'] = '3'\n",
    "\n",
    "sys.path.append(\"/home/webphy/Desktop/dnn_processor/\")  # just to enable `dataset`\n",
    "sys.path.append(\n",
    "    \"/home/webphy/Desktop/dnn_processor/dataset/\"\n",
    ")  # just to enable `dataset`\n",
    "\n",
    "import tensorflow as tf\n",
    "import optuna\n",
    "import dataset\n",
    "import numpy as np\n",
    "import keras\n",
    "import joblib\n",
    "from datetime import datetime\n",
    "from keras import layers\n",
    "import keras_cv"
   ]
  },
  {
   "cell_type": "markdown",
   "metadata": {},
   "source": [
    "##  define constants and create dataset\n"
   ]
  },
  {
   "cell_type": "code",
   "execution_count": 2,
   "metadata": {},
   "outputs": [],
   "source": [
    "NTRIALS = 800\n",
    "BATCH_SIZE = 64\n",
    "EPOCHS = 100\n",
    "\n",
    "train_images_rgx = \"../../dataset/resized_dataset_texturas_v2/*/*.jpeg\"\n",
    "valid_images_rgx = \"../../dataset/resized_dataset_texturas_v2_test/*/*.jpeg\"\n",
    "\n",
    "layer_options = [\"Conv2D\", \"Pointwise2D\"]\n",
    "activation_options = [\"linear\", \"relu\", \"tanh\"]\n",
    "filter_size_options = [3, 4, 5]\n",
    "num_layer_options = [1, 2, 3]\n",
    "\n",
    "train_dataset, val_dataset, num_classes = dataset.create_datasets(\n",
    "    train_images_rgx, valid_images_rgx, BATCH_SIZE\n",
    ")"
   ]
  },
  {
   "cell_type": "markdown",
   "metadata": {},
   "source": [
    "## define create model function\n"
   ]
  },
  {
   "cell_type": "code",
   "execution_count": 3,
   "metadata": {},
   "outputs": [],
   "source": [
    "def clip_filter_size(fs, ih):\n",
    "    return min(fs, ih)\n",
    "\n",
    "\n",
    "def create_layer(\n",
    "    trial, layer_type, layer_id, max_stride, input_h_size, depth_multiplier\n",
    "):\n",
    "    if layer_type == \"Conv2D\":\n",
    "        num_filters = trial.suggest_int(\n",
    "            f\"layer_{layer_id}_conv2d_filters\", 4, 32, step=4\n",
    "        )\n",
    "        filter_size = trial.suggest_categorical(\n",
    "            f\"layer_{layer_id}_conv2d_fsize\", filter_size_options\n",
    "        )\n",
    "\n",
    "        stride_size = trial.suggest_int(f\"layer_{layer_id}_conv2d_ssize\", 2, max_stride)\n",
    "        layer = layers.Conv2D(\n",
    "            num_filters * depth_multiplier,\n",
    "            clip_filter_size(filter_size, input_h_size),\n",
    "            stride_size,\n",
    "        )\n",
    "\n",
    "    elif layer_type == \"Depthwise2D\":\n",
    "        filter_size = trial.suggest_categorical(\n",
    "            f\"layer_{layer_id}_dwconv2d_fsize\", filter_size_options\n",
    "        )\n",
    "        stride_size = trial.suggest_int(\n",
    "            f\"layer_{layer_id}_dwconv2d_ssize\", 2, max_stride\n",
    "        )\n",
    "        layer = layers.DepthwiseConv2D(\n",
    "            clip_filter_size(filter_size, input_h_size), stride_size\n",
    "        )\n",
    "\n",
    "    elif layer_type == \"Pointwise2D\":\n",
    "        num_filters = trial.suggest_int(\n",
    "            f\"layer_{layer_id}_pwconv2d_filters\", 4, 32, step=4\n",
    "        )\n",
    "        stride_size = trial.suggest_int(\n",
    "            f\"layer_{layer_id}_pwconv2d_ssize\", 2, max_stride\n",
    "        )\n",
    "        layer = layers.Conv2D(num_filters * depth_multiplier, 1, stride_size)\n",
    "\n",
    "    return layer\n",
    "\n",
    "\n",
    "def create_augmentation_layers(trial, x):\n",
    "    # augmix_severity = trial.suggest_float(\"augmix_severity\", 0.0, 0.5)\n",
    "    brightness_factor = trial.suggest_float(\"brightness_factor\", 0, 0.2)\n",
    "    gaussian_noise_factor = trial.suggest_float(\"gaussian_noise_factor\", 0, 0.2)\n",
    "    translate_factor = trial.suggest_float(\"translate_factor\", 0, 0.2)\n",
    "\n",
    "    # x = keras_cv.layers.AugMix(value_range=(0, 1), severity=augmix_severity)(x)\n",
    "    x = layers.RandomBrightness(brightness_factor, (0, 1.0))(x)\n",
    "    x = layers.RandomFlip()(x)\n",
    "    x = layers.RandomTranslation(translate_factor, translate_factor)(x)\n",
    "    x = layers.GaussianNoise(gaussian_noise_factor)(x)\n",
    "\n",
    "    return x\n",
    "\n",
    "\n",
    "def calibrate_channel(input_shape, s):\n",
    "    HLS_DENSE_LIMIT = 4000\n",
    "\n",
    "    x_shape = input_shape[1:]\n",
    "    h, w, c = x_shape\n",
    "    h = h // s\n",
    "    w = w // s\n",
    "\n",
    "    new_shape = [h, w, c]\n",
    "    if np.prod(new_shape) > HLS_DENSE_LIMIT:\n",
    "        # diminui o numero de canais\n",
    "        while np.prod(new_shape) > HLS_DENSE_LIMIT:\n",
    "            c -= 1\n",
    "            new_shape = [h, w, c]\n",
    "    else:\n",
    "        # aumenta o numero de canais\n",
    "        while np.prod(new_shape) < HLS_DENSE_LIMIT:\n",
    "            c += 1\n",
    "            new_shape = [h, w, c]\n",
    "        c -= 1\n",
    "\n",
    "    if c <= 0:\n",
    "        c = 1\n",
    "        new_shape = [None, h, w, c]\n",
    "        h, w, c, s = calibrate_channel(new_shape, s + 1)\n",
    "        new_shape = [h, w, c]\n",
    "\n",
    "    return h, w, c, s\n",
    "\n",
    "\n",
    "def create_dense_output(trial, x):\n",
    "    h, w, c, s = calibrate_channel(x.shape, 1)\n",
    "\n",
    "    # tinsmith layer\n",
    "    x = layers.Conv2D(c, 1, strides=s)(x)\n",
    "\n",
    "    # output layer\n",
    "    x = layers.Flatten()(x)\n",
    "    x = layers.Dropout(trial.suggest_float(\"output_dropout\", 0.3, 0.6))(x)\n",
    "    x = layers.Dense(num_classes, activation=\"softmax\")(x)\n",
    "    return x\n",
    "\n",
    "\n",
    "def create_global_avg_pooling(trial, x):\n",
    "    pre_GAP_layer_fsize = trial.suggest_categorical(\n",
    "        \"pre_GAP_layer_fsize\", filter_size_options\n",
    "    )\n",
    "    pre_GAP_layer_act = trial.suggest_categorical(\n",
    "        \"pre_GAP_layer_act\", activation_options\n",
    "    )\n",
    "    pre_GAP_layer_fsize = clip_filter_size(pre_GAP_layer_fsize, x.shape[1])\n",
    "    x = keras.layers.Conv2D(num_classes, pre_GAP_layer_fsize)(x)\n",
    "\n",
    "    if x.shape[1] > 1:\n",
    "        x = keras.layers.Activation(pre_GAP_layer_act)(x)\n",
    "        x = keras.layers.GlobalAvgPool2D()(x)\n",
    "    else:\n",
    "        x = keras.layers.Flatten()(x)\n",
    "\n",
    "    x = keras.layers.Activation(\"softmax\")(x)\n",
    "\n",
    "    return x\n",
    "\n",
    "\n",
    "def create_model(trial):\n",
    "    # add the input layer\n",
    "    x = x_in = layers.Input(shape=(256, 256, 3))\n",
    "\n",
    "    x = create_augmentation_layers(trial, x)\n",
    "\n",
    "    # suggent a number of layer\n",
    "    num_layers = trial.suggest_categorical(\"num_layers\", num_layer_options)\n",
    "\n",
    "    # suggest output layer\n",
    "    output_layer = trial.suggest_categorical(\"output_layer\", [\"dense\", \"pooling\"])\n",
    "\n",
    "    # depth_multiplier for pooling\n",
    "    depth_multiplier = 1 if output_layer == \"dense\" else 2\n",
    "\n",
    "    # limits the stride\n",
    "    max_stride = 16 // num_layers\n",
    "\n",
    "    # convolutional layers\n",
    "    for i in range(num_layers):\n",
    "        layer_selected = trial.suggest_categorical(f\"layer_{i}\", layer_options)\n",
    "        layer = create_layer(\n",
    "            trial,\n",
    "            layer_selected,\n",
    "            i,\n",
    "            max_stride,\n",
    "            input_h_size=x.shape[1],\n",
    "            depth_multiplier=depth_multiplier,\n",
    "        )\n",
    "        x = layer(x)\n",
    "        act_selected = trial.suggest_categorical(f\"activation_{i}\", activation_options)\n",
    "        x = layers.Activation(act_selected)(x)\n",
    "\n",
    "    if output_layer == \"dense\":\n",
    "        x = create_dense_output(trial, x)\n",
    "    else:\n",
    "        x = create_global_avg_pooling(trial, x)\n",
    "\n",
    "    return keras.Model(x_in, x)"
   ]
  },
  {
   "cell_type": "markdown",
   "metadata": {},
   "source": [
    "# if testing"
   ]
  },
  {
   "cell_type": "code",
   "execution_count": 4,
   "metadata": {},
   "outputs": [
    {
     "name": "stdout",
     "output_type": "stream",
     "text": [
      "Model: \"model\"\n",
      "_________________________________________________________________\n",
      " Layer (type)                Output Shape              Param #   \n",
      "=================================================================\n",
      " input_1 (InputLayer)        [(None, 256, 256, 3)]     0         \n",
      "                                                                 \n",
      " random_brightness (RandomB  (None, 256, 256, 3)       0         \n",
      " rightness)                                                      \n",
      "                                                                 \n",
      " random_flip (RandomFlip)    (None, 256, 256, 3)       0         \n",
      "                                                                 \n",
      " random_translation (Random  (None, 256, 256, 3)       0         \n",
      " Translation)                                                    \n",
      "                                                                 \n",
      " gaussian_noise (GaussianNo  (None, 256, 256, 3)       0         \n",
      " ise)                                                            \n",
      "                                                                 \n",
      " conv2d (Conv2D)             (None, 86, 86, 50)        200       \n",
      "                                                                 \n",
      " activation (Activation)     (None, 86, 86, 50)        0         \n",
      "                                                                 \n",
      " conv2d_1 (Conv2D)           (None, 29, 29, 28)        1428      \n",
      "                                                                 \n",
      " activation_1 (Activation)   (None, 29, 29, 28)        0         \n",
      "                                                                 \n",
      " conv2d_2 (Conv2D)           (None, 26, 26, 5)         2245      \n",
      "                                                                 \n",
      " activation_2 (Activation)   (None, 26, 26, 5)         0         \n",
      "                                                                 \n",
      " global_average_pooling2d (  (None, 5)                 0         \n",
      " GlobalAveragePooling2D)                                         \n",
      "                                                                 \n",
      " activation_3 (Activation)   (None, 5)                 0         \n",
      "                                                                 \n",
      "=================================================================\n",
      "Total params: 3873 (15.13 KB)\n",
      "Trainable params: 3873 (15.13 KB)\n",
      "Non-trainable params: 0 (0.00 Byte)\n",
      "_________________________________________________________________\n",
      "WARNING:tensorflow:Compiled the loaded model, but the compiled metrics have yet to be built. `model.compile_metrics` will be empty until you train or evaluate the model.\n",
      "INFO:tensorflow:Assets written to: saved_models/test/assets\n"
     ]
    },
    {
     "name": "stderr",
     "output_type": "stream",
     "text": [
      "INFO:tensorflow:Assets written to: saved_models/test/assets\n"
     ]
    }
   ],
   "source": [
    "h, w, c, s = calibrate_channel([None, 84,84,20], 1)\n",
    "\n",
    "class MockTrial:\n",
    "    def suggest_int(self, name, min, max, step=None, log=False):\n",
    "        return np.random.randint(min, max)\n",
    "\n",
    "    def suggest_float(self, name, min, max, step=None, log=False):\n",
    "        return np.random.uniform(min, max)\n",
    "\n",
    "    def suggest_categorical(self, name, options):        \n",
    "        return options[np.random.randint(0, len(options))]\n",
    "\n",
    "    def suggest_discrete_uniform(self, name, min, max, q):\n",
    "        return (np.random.randint(min, max) // q) * q\n",
    "\n",
    "model = create_model(MockTrial())\n",
    "model.build(input_shape=(BATCH_SIZE, 256, 256, 3))\n",
    "model.summary()\n",
    "model.save(\"saved_models/test/\")"
   ]
  },
  {
   "cell_type": "markdown",
   "metadata": {},
   "source": [
    "\n",
    "```\n",
    "h, w, c, s = calibrate_channel([None, 84,84,20], 1)\n",
    "\n",
    "class MockTrial:\n",
    "    def suggest_int(self, name, min, max, step=None, log=False):\n",
    "        return np.random.randint(min, max)\n",
    "\n",
    "    def suggest_float(self, name, min, max, step=None, log=False):\n",
    "        return np.random.uniform(min, max)\n",
    "\n",
    "    def suggest_categorical(self, name, options):\n",
    "        print(name)\n",
    "        return options[np.random.randint(0, len(options) - 1)]\n",
    "\n",
    "    def suggest_discrete_uniform(self, name, min, max, q):\n",
    "        return (np.random.randint(min, max) // q) * q\n",
    "\n",
    "model = create_model(MockTrial())\n",
    "model.build(input_shape=(BATCH_SIZE, 256, 256, 3))\n",
    "model.summary()\n",
    "model.save(\"saved_models/test/\")\n",
    "\n",
    "\n",
    "\n",
    "```"
   ]
  },
  {
   "cell_type": "code",
   "execution_count": 5,
   "metadata": {},
   "outputs": [],
   "source": [
    "def create_optimizer(trial):\n",
    "    lr = trial.suggest_float(\"lr_inicial\", 3e-4, 2e-3, log=True)\n",
    "    optimizer = keras.optimizers.Adam(lr)\n",
    "    return optimizer\n",
    "\n",
    "\n",
    "def create_model_checkpointer(save_path):\n",
    "    return keras.callbacks.ModelCheckpoint(\n",
    "        save_path + \"weights/\",\n",
    "        \"val_accuracy\",\n",
    "        mode=\"max\",\n",
    "        save_best_only=True,\n",
    "        save_weights_only=True,\n",
    "    )\n",
    "\n",
    "\n",
    "def crate_early_stopper():\n",
    "    return keras.callbacks.EarlyStopping(\n",
    "        monitor=\"val_accuracy\",\n",
    "        min_delta=0.1,\n",
    "        patience=20,\n",
    "        verbose=0,\n",
    "        mode=\"max\",\n",
    "        start_from_epoch=50,\n",
    "    )\n",
    "\n",
    "def count_parameters(model):\n",
    "    total_params = 0\n",
    "    for layer in model.trainable_variables:\n",
    "        layer_params = tf.reduce_prod(layer.shape)\n",
    "        total_params += layer_params\n",
    "    return total_params.numpy()\n",
    "\n",
    "def objective(trial):\n",
    "    BATCH_SIZE = trial.suggest_int(\"batchsize\", 32, 128, step=32)\n",
    "    \n",
    "    # load data\n",
    "    train_dataset, val_dataset, num_classes = dataset.create_datasets(\n",
    "        train_images_rgx, valid_images_rgx, BATCH_SIZE\n",
    "    )\n",
    "\n",
    "    # Build model and optimizer.\n",
    "    model = create_model(trial)\n",
    "    assert isinstance(model, keras.Model), \"model is not a model\"\n",
    "\n",
    "    optimizer = create_optimizer(trial)\n",
    "\n",
    "    # compile the model\n",
    "    model.compile(\n",
    "        optimizer, loss=keras.losses.categorical_crossentropy, metrics=[\"accuracy\"]\n",
    "    )\n",
    "\n",
    "    # crate model checkpointer\n",
    "    saved_best_model_path = f\"saved_models/{EXP_ID}/best_model_t{trial._trial_id}/\"\n",
    "    model.save(saved_best_model_path, True, \"tf\")  # save all model\n",
    "\n",
    "    model_chkp = create_model_checkpointer(saved_best_model_path)\n",
    "    early_stopper = crate_early_stopper()\n",
    "\n",
    "    # Training and validating cycle.\n",
    "    history = model.fit(\n",
    "        train_dataset,\n",
    "        validation_data=val_dataset,\n",
    "        epochs=EPOCHS,\n",
    "        callbacks=[model_chkp, early_stopper],\n",
    "        verbose=\"auto\",\n",
    "    )\n",
    "    \n",
    "    # load best model\n",
    "    model.load_weights(saved_best_model_path + \"weights/\")    \n",
    "\n",
    "    # Evaluate the model accuracy on the validation set.\n",
    "    score = model.evaluate(val_dataset, verbose=0)\n",
    "\n",
    "    # get the model size\n",
    "    model_size = count_parameters(model)\n",
    "\n",
    "    # Return best model validation accuracy.\n",
    "    return score[1], model_size\n",
    "\n",
    "\n",
    "def search():\n",
    "    study = optuna.create_study(\n",
    "        directions=[\"maximize\", \"minimize\"],\n",
    "        sampler=optuna.samplers.TPESampler(),\n",
    "    )\n",
    "    study.optimize(objective, n_trials=NTRIALS)\n",
    "    return study"
   ]
  },
  {
   "cell_type": "markdown",
   "metadata": {},
   "source": [
    "# start search"
   ]
  },
  {
   "cell_type": "code",
   "execution_count": 6,
   "metadata": {},
   "outputs": [
    {
     "name": "stderr",
     "output_type": "stream",
     "text": [
      "[I 2024-02-02 14:23:36,890] Trial 745 finished with values: [0.8199999928474426, 21323.0] and parameters: {'batchsize': 64, 'brightness_factor': 0.1652186594434778, 'gaussian_noise_factor': 0.044762905816837964, 'translate_factor': 0.1743088514422701, 'num_layers': 2, 'output_layer': 'dense', 'layer_0': 'Conv2D', 'layer_0_conv2d_filters': 20, 'layer_0_conv2d_fsize': 4, 'layer_0_conv2d_ssize': 5, 'activation_0': 'linear', 'layer_1': 'Pointwise2D', 'layer_1_pwconv2d_filters': 20, 'layer_1_pwconv2d_ssize': 4, 'activation_1': 'relu', 'output_dropout': 0.4870322743136742, 'lr_inicial': 0.001153047857937543}. \n"
     ]
    },
    {
     "name": "stdout",
     "output_type": "stream",
     "text": [
      "INFO:tensorflow:Assets written to: saved_models/exp7_no_depth_w_GAP_multiObj/best_model_t746/assets\n"
     ]
    },
    {
     "name": "stderr",
     "output_type": "stream",
     "text": [
      "INFO:tensorflow:Assets written to: saved_models/exp7_no_depth_w_GAP_multiObj/best_model_t746/assets\n",
      "[I 2024-02-02 14:23:51,511] Trial 746 finished with values: [0.6399999856948853, 4309.0] and parameters: {'batchsize': 96, 'brightness_factor': 0.15620160752338294, 'gaussian_noise_factor': 0.058781691655474116, 'translate_factor': 0.16367919202037293, 'num_layers': 2, 'output_layer': 'pooling', 'layer_0': 'Conv2D', 'layer_0_conv2d_filters': 16, 'layer_0_conv2d_fsize': 5, 'layer_0_conv2d_ssize': 5, 'activation_0': 'linear', 'layer_1': 'Pointwise2D', 'layer_1_pwconv2d_filters': 12, 'layer_1_pwconv2d_ssize': 5, 'activation_1': 'relu', 'pre_GAP_layer_fsize': 3, 'pre_GAP_layer_act': 'relu', 'lr_inicial': 0.00122716944453599}. \n"
     ]
    },
    {
     "name": "stdout",
     "output_type": "stream",
     "text": [
      "INFO:tensorflow:Assets written to: saved_models/exp7_no_depth_w_GAP_multiObj/best_model_t747/assets\n"
     ]
    },
    {
     "name": "stderr",
     "output_type": "stream",
     "text": [
      "INFO:tensorflow:Assets written to: saved_models/exp7_no_depth_w_GAP_multiObj/best_model_t747/assets\n",
      "[I 2024-02-02 14:24:06,669] Trial 747 finished with values: [0.7799999713897705, 17582.0] and parameters: {'batchsize': 128, 'brightness_factor': 0.16013854550032539, 'gaussian_noise_factor': 0.049068885161864764, 'translate_factor': 0.15724634115347083, 'num_layers': 2, 'output_layer': 'dense', 'layer_0': 'Conv2D', 'layer_0_conv2d_filters': 8, 'layer_0_conv2d_fsize': 4, 'layer_0_conv2d_ssize': 5, 'activation_0': 'linear', 'layer_1': 'Pointwise2D', 'layer_1_pwconv2d_filters': 20, 'layer_1_pwconv2d_ssize': 2, 'activation_1': 'relu', 'output_dropout': 0.5160028420325419, 'lr_inicial': 0.0012192548305902731}. \n"
     ]
    },
    {
     "name": "stdout",
     "output_type": "stream",
     "text": [
      "INFO:tensorflow:Assets written to: saved_models/exp7_no_depth_w_GAP_multiObj/best_model_t748/assets\n"
     ]
    },
    {
     "name": "stderr",
     "output_type": "stream",
     "text": [
      "INFO:tensorflow:Assets written to: saved_models/exp7_no_depth_w_GAP_multiObj/best_model_t748/assets\n",
      "[I 2024-02-02 14:24:23,203] Trial 748 finished with values: [0.7799999713897705, 13773.0] and parameters: {'batchsize': 64, 'brightness_factor': 0.16771268471563336, 'gaussian_noise_factor': 0.04454524987681332, 'translate_factor': 0.1731813111878057, 'num_layers': 3, 'output_layer': 'pooling', 'layer_0': 'Conv2D', 'layer_0_conv2d_filters': 12, 'layer_0_conv2d_fsize': 5, 'layer_0_conv2d_ssize': 4, 'activation_0': 'linear', 'layer_1': 'Pointwise2D', 'layer_1_pwconv2d_filters': 8, 'layer_1_pwconv2d_ssize': 3, 'activation_1': 'relu', 'layer_2': 'Conv2D', 'layer_2_conv2d_filters': 12, 'layer_2_conv2d_fsize': 5, 'layer_2_conv2d_ssize': 4, 'activation_2': 'linear', 'pre_GAP_layer_fsize': 4, 'pre_GAP_layer_act': 'linear', 'lr_inicial': 0.0011289333386652737}. \n"
     ]
    },
    {
     "name": "stdout",
     "output_type": "stream",
     "text": [
      "INFO:tensorflow:Assets written to: saved_models/exp7_no_depth_w_GAP_multiObj/best_model_t749/assets\n"
     ]
    },
    {
     "name": "stderr",
     "output_type": "stream",
     "text": [
      "INFO:tensorflow:Assets written to: saved_models/exp7_no_depth_w_GAP_multiObj/best_model_t749/assets\n",
      "[I 2024-02-02 14:24:38,286] Trial 749 finished with values: [0.6800000071525574, 20327.0] and parameters: {'batchsize': 96, 'brightness_factor': 0.15532182598658656, 'gaussian_noise_factor': 0.05604173320303778, 'translate_factor': 0.16833667692023152, 'num_layers': 2, 'output_layer': 'dense', 'layer_0': 'Pointwise2D', 'layer_0_pwconv2d_filters': 24, 'layer_0_pwconv2d_ssize': 4, 'activation_0': 'linear', 'layer_1': 'Pointwise2D', 'layer_1_pwconv2d_filters': 16, 'layer_1_pwconv2d_ssize': 5, 'activation_1': 'relu', 'output_dropout': 0.5263994641801394, 'lr_inicial': 0.000709645211561295}. \n"
     ]
    },
    {
     "name": "stdout",
     "output_type": "stream",
     "text": [
      "INFO:tensorflow:Assets written to: saved_models/exp7_no_depth_w_GAP_multiObj/best_model_t750/assets\n"
     ]
    },
    {
     "name": "stderr",
     "output_type": "stream",
     "text": [
      "INFO:tensorflow:Assets written to: saved_models/exp7_no_depth_w_GAP_multiObj/best_model_t750/assets\n",
      "[I 2024-02-02 14:24:52,920] Trial 750 finished with values: [0.6399999856948853, 1741.0] and parameters: {'batchsize': 64, 'brightness_factor': 0.16346107398988785, 'gaussian_noise_factor': 0.05019360764039016, 'translate_factor': 0.1717761794677486, 'num_layers': 2, 'output_layer': 'pooling', 'layer_0': 'Conv2D', 'layer_0_conv2d_filters': 12, 'layer_0_conv2d_fsize': 4, 'layer_0_conv2d_ssize': 5, 'activation_0': 'linear', 'layer_1': 'Pointwise2D', 'layer_1_pwconv2d_filters': 4, 'layer_1_pwconv2d_ssize': 6, 'activation_1': 'relu', 'pre_GAP_layer_fsize': 3, 'pre_GAP_layer_act': 'relu', 'lr_inicial': 0.001227044268816129}. \n"
     ]
    },
    {
     "name": "stdout",
     "output_type": "stream",
     "text": [
      "INFO:tensorflow:Assets written to: saved_models/exp7_no_depth_w_GAP_multiObj/best_model_t751/assets\n"
     ]
    },
    {
     "name": "stderr",
     "output_type": "stream",
     "text": [
      "INFO:tensorflow:Assets written to: saved_models/exp7_no_depth_w_GAP_multiObj/best_model_t751/assets\n",
      "[I 2024-02-02 14:25:20,887] Trial 751 finished with values: [0.5, 9517.0] and parameters: {'batchsize': 128, 'brightness_factor': 0.15923543346724084, 'gaussian_noise_factor': 0.05415334959723415, 'translate_factor': 0.16530502045611675, 'num_layers': 3, 'output_layer': 'pooling', 'layer_0': 'Conv2D', 'layer_0_conv2d_filters': 32, 'layer_0_conv2d_fsize': 3, 'layer_0_conv2d_ssize': 2, 'activation_0': 'linear', 'layer_1': 'Pointwise2D', 'layer_1_pwconv2d_filters': 28, 'layer_1_pwconv2d_ssize': 2, 'activation_1': 'tanh', 'layer_2': 'Pointwise2D', 'layer_2_pwconv2d_filters': 20, 'layer_2_pwconv2d_ssize': 4, 'activation_2': 'tanh', 'pre_GAP_layer_fsize': 3, 'pre_GAP_layer_act': 'tanh', 'lr_inicial': 0.0011712879976045283}. \n"
     ]
    },
    {
     "name": "stdout",
     "output_type": "stream",
     "text": [
      "INFO:tensorflow:Assets written to: saved_models/exp7_no_depth_w_GAP_multiObj/best_model_t752/assets\n"
     ]
    },
    {
     "name": "stderr",
     "output_type": "stream",
     "text": [
      "INFO:tensorflow:Assets written to: saved_models/exp7_no_depth_w_GAP_multiObj/best_model_t752/assets\n",
      "[I 2024-02-02 14:25:36,611] Trial 752 finished with values: [0.8399999737739563, 22039.0] and parameters: {'batchsize': 64, 'brightness_factor': 0.16321979628188674, 'gaussian_noise_factor': 0.044234636375273785, 'translate_factor': 0.16261096240483547, 'num_layers': 2, 'output_layer': 'dense', 'layer_0': 'Conv2D', 'layer_0_conv2d_filters': 20, 'layer_0_conv2d_fsize': 5, 'layer_0_conv2d_ssize': 5, 'activation_0': 'linear', 'layer_1': 'Pointwise2D', 'layer_1_pwconv2d_filters': 24, 'layer_1_pwconv2d_ssize': 4, 'activation_1': 'relu', 'output_dropout': 0.5547803869146806, 'lr_inicial': 0.0011981127902700602}. \n"
     ]
    },
    {
     "name": "stdout",
     "output_type": "stream",
     "text": [
      "INFO:tensorflow:Assets written to: saved_models/exp7_no_depth_w_GAP_multiObj/best_model_t753/assets\n"
     ]
    },
    {
     "name": "stderr",
     "output_type": "stream",
     "text": [
      "INFO:tensorflow:Assets written to: saved_models/exp7_no_depth_w_GAP_multiObj/best_model_t753/assets\n",
      "[I 2024-02-02 14:25:51,888] Trial 753 finished with values: [0.6200000047683716, 7117.0] and parameters: {'batchsize': 96, 'brightness_factor': 0.15554143859506675, 'gaussian_noise_factor': 0.05827731942906137, 'translate_factor': 0.17467744780066255, 'num_layers': 2, 'output_layer': 'pooling', 'layer_0': 'Conv2D', 'layer_0_conv2d_filters': 28, 'layer_0_conv2d_fsize': 4, 'layer_0_conv2d_ssize': 5, 'activation_0': 'linear', 'layer_1': 'Pointwise2D', 'layer_1_pwconv2d_filters': 12, 'layer_1_pwconv2d_ssize': 4, 'activation_1': 'relu', 'pre_GAP_layer_fsize': 5, 'pre_GAP_layer_act': 'relu', 'lr_inicial': 0.0012308373940945261}. \n"
     ]
    },
    {
     "name": "stdout",
     "output_type": "stream",
     "text": [
      "INFO:tensorflow:Assets written to: saved_models/exp7_no_depth_w_GAP_multiObj/best_model_t754/assets\n"
     ]
    },
    {
     "name": "stderr",
     "output_type": "stream",
     "text": [
      "INFO:tensorflow:Assets written to: saved_models/exp7_no_depth_w_GAP_multiObj/best_model_t754/assets\n",
      "[I 2024-02-02 14:26:06,910] Trial 754 finished with values: [0.800000011920929, 20739.0] and parameters: {'batchsize': 64, 'brightness_factor': 0.16638292910730848, 'gaussian_noise_factor': 0.04990764119998306, 'translate_factor': 0.16022933997871167, 'num_layers': 2, 'output_layer': 'dense', 'layer_0': 'Conv2D', 'layer_0_conv2d_filters': 8, 'layer_0_conv2d_fsize': 5, 'layer_0_conv2d_ssize': 5, 'activation_0': 'linear', 'layer_1': 'Pointwise2D', 'layer_1_pwconv2d_filters': 4, 'layer_1_pwconv2d_ssize': 6, 'activation_1': 'relu', 'output_dropout': 0.45673365879746475, 'lr_inicial': 0.0011450506041522717}. \n"
     ]
    },
    {
     "name": "stdout",
     "output_type": "stream",
     "text": [
      "INFO:tensorflow:Assets written to: saved_models/exp7_no_depth_w_GAP_multiObj/best_model_t755/assets\n"
     ]
    },
    {
     "name": "stderr",
     "output_type": "stream",
     "text": [
      "INFO:tensorflow:Assets written to: saved_models/exp7_no_depth_w_GAP_multiObj/best_model_t755/assets\n",
      "[I 2024-02-02 14:26:26,397] Trial 755 finished with values: [0.6600000262260437, 55237.0] and parameters: {'batchsize': 128, 'brightness_factor': 0.15854994429116032, 'gaussian_noise_factor': 0.060398323446234164, 'translate_factor': 0.16730970624078392, 'num_layers': 3, 'output_layer': 'pooling', 'layer_0': 'Pointwise2D', 'layer_0_pwconv2d_filters': 28, 'layer_0_pwconv2d_ssize': 3, 'activation_0': 'linear', 'layer_1': 'Pointwise2D', 'layer_1_pwconv2d_filters': 32, 'layer_1_pwconv2d_ssize': 3, 'activation_1': 'relu', 'layer_2': 'Conv2D', 'layer_2_conv2d_filters': 24, 'layer_2_conv2d_fsize': 4, 'layer_2_conv2d_ssize': 3, 'activation_2': 'relu', 'pre_GAP_layer_fsize': 3, 'pre_GAP_layer_act': 'relu', 'lr_inicial': 0.0011105529908472108}. \n"
     ]
    },
    {
     "name": "stdout",
     "output_type": "stream",
     "text": [
      "INFO:tensorflow:Assets written to: saved_models/exp7_no_depth_w_GAP_multiObj/best_model_t756/assets\n"
     ]
    },
    {
     "name": "stderr",
     "output_type": "stream",
     "text": [
      "INFO:tensorflow:Assets written to: saved_models/exp7_no_depth_w_GAP_multiObj/best_model_t756/assets\n",
      "[I 2024-02-02 14:26:43,965] Trial 756 finished with values: [0.8199999928474426, 21327.0] and parameters: {'batchsize': 64, 'brightness_factor': 0.15472205645621934, 'gaussian_noise_factor': 0.05444306517412723, 'translate_factor': 0.17056407496598336, 'num_layers': 2, 'output_layer': 'dense', 'layer_0': 'Conv2D', 'layer_0_conv2d_filters': 12, 'layer_0_conv2d_fsize': 4, 'layer_0_conv2d_ssize': 5, 'activation_0': 'linear', 'layer_1': 'Pointwise2D', 'layer_1_pwconv2d_filters': 16, 'layer_1_pwconv2d_ssize': 5, 'activation_1': 'relu', 'output_dropout': 0.4423949435700615, 'lr_inicial': 0.0012459112995178258}. \n"
     ]
    },
    {
     "name": "stdout",
     "output_type": "stream",
     "text": [
      "INFO:tensorflow:Assets written to: saved_models/exp7_no_depth_w_GAP_multiObj/best_model_t757/assets\n"
     ]
    },
    {
     "name": "stderr",
     "output_type": "stream",
     "text": [
      "INFO:tensorflow:Assets written to: saved_models/exp7_no_depth_w_GAP_multiObj/best_model_t757/assets\n",
      "[I 2024-02-02 14:26:57,748] Trial 757 finished with values: [0.6399999856948853, 2277.0] and parameters: {'batchsize': 96, 'brightness_factor': 0.16214280922670604, 'gaussian_noise_factor': 0.04783322425922112, 'translate_factor': 0.17437258654262636, 'num_layers': 2, 'output_layer': 'pooling', 'layer_0': 'Conv2D', 'layer_0_conv2d_filters': 8, 'layer_0_conv2d_fsize': 4, 'layer_0_conv2d_ssize': 5, 'activation_0': 'linear', 'layer_1': 'Pointwise2D', 'layer_1_pwconv2d_filters': 12, 'layer_1_pwconv2d_ssize': 7, 'activation_1': 'tanh', 'pre_GAP_layer_fsize': 3, 'pre_GAP_layer_act': 'relu', 'lr_inicial': 0.0011718377922664543}. \n"
     ]
    },
    {
     "name": "stdout",
     "output_type": "stream",
     "text": [
      "INFO:tensorflow:Assets written to: saved_models/exp7_no_depth_w_GAP_multiObj/best_model_t758/assets\n"
     ]
    },
    {
     "name": "stderr",
     "output_type": "stream",
     "text": [
      "INFO:tensorflow:Assets written to: saved_models/exp7_no_depth_w_GAP_multiObj/best_model_t758/assets\n",
      "[I 2024-02-02 14:27:12,740] Trial 758 finished with values: [0.7400000095367432, 17798.0] and parameters: {'batchsize': 128, 'brightness_factor': 0.16661564910103424, 'gaussian_noise_factor': 0.05173403697137993, 'translate_factor': 0.15566586015680883, 'num_layers': 2, 'output_layer': 'dense', 'layer_0': 'Conv2D', 'layer_0_conv2d_filters': 8, 'layer_0_conv2d_fsize': 5, 'layer_0_conv2d_ssize': 5, 'activation_0': 'linear', 'layer_1': 'Pointwise2D', 'layer_1_pwconv2d_filters': 20, 'layer_1_pwconv2d_ssize': 2, 'activation_1': 'relu', 'output_dropout': 0.49176291111053966, 'lr_inicial': 0.0004028074335644514}. \n"
     ]
    },
    {
     "name": "stdout",
     "output_type": "stream",
     "text": [
      "INFO:tensorflow:Assets written to: saved_models/exp7_no_depth_w_GAP_multiObj/best_model_t759/assets\n"
     ]
    },
    {
     "name": "stderr",
     "output_type": "stream",
     "text": [
      "INFO:tensorflow:Assets written to: saved_models/exp7_no_depth_w_GAP_multiObj/best_model_t759/assets\n",
      "[I 2024-02-02 14:27:29,889] Trial 759 finished with values: [0.7799999713897705, 23821.0] and parameters: {'batchsize': 64, 'brightness_factor': 0.1603895821914852, 'gaussian_noise_factor': 0.04293917100503401, 'translate_factor': 0.16616346289214318, 'num_layers': 3, 'output_layer': 'pooling', 'layer_0': 'Conv2D', 'layer_0_conv2d_filters': 24, 'layer_0_conv2d_fsize': 4, 'layer_0_conv2d_ssize': 4, 'activation_0': 'linear', 'layer_1': 'Pointwise2D', 'layer_1_pwconv2d_filters': 28, 'layer_1_pwconv2d_ssize': 3, 'activation_1': 'relu', 'layer_2': 'Conv2D', 'layer_2_conv2d_filters': 16, 'layer_2_conv2d_fsize': 3, 'layer_2_conv2d_ssize': 4, 'activation_2': 'linear', 'pre_GAP_layer_fsize': 4, 'pre_GAP_layer_act': 'linear', 'lr_inicial': 0.00199998202188164}. \n"
     ]
    },
    {
     "name": "stdout",
     "output_type": "stream",
     "text": [
      "INFO:tensorflow:Assets written to: saved_models/exp7_no_depth_w_GAP_multiObj/best_model_t760/assets\n"
     ]
    },
    {
     "name": "stderr",
     "output_type": "stream",
     "text": [
      "INFO:tensorflow:Assets written to: saved_models/exp7_no_depth_w_GAP_multiObj/best_model_t760/assets\n",
      "[I 2024-02-02 14:27:45,504] Trial 760 finished with values: [0.6000000238418579, 1173.0] and parameters: {'batchsize': 96, 'brightness_factor': 0.15515279918176816, 'gaussian_noise_factor': 0.057173953503287155, 'translate_factor': 0.16266584133884973, 'num_layers': 1, 'output_layer': 'pooling', 'layer_0': 'Conv2D', 'layer_0_conv2d_filters': 8, 'layer_0_conv2d_fsize': 3, 'layer_0_conv2d_ssize': 14, 'activation_0': 'linear', 'pre_GAP_layer_fsize': 3, 'pre_GAP_layer_act': 'relu', 'lr_inicial': 0.0008678691847575883}. \n"
     ]
    },
    {
     "name": "stdout",
     "output_type": "stream",
     "text": [
      "INFO:tensorflow:Assets written to: saved_models/exp7_no_depth_w_GAP_multiObj/best_model_t761/assets\n"
     ]
    },
    {
     "name": "stderr",
     "output_type": "stream",
     "text": [
      "INFO:tensorflow:Assets written to: saved_models/exp7_no_depth_w_GAP_multiObj/best_model_t761/assets\n",
      "[I 2024-02-02 14:28:00,537] Trial 761 finished with values: [0.7799999713897705, 20840.0] and parameters: {'batchsize': 64, 'brightness_factor': 0.15844097894239112, 'gaussian_noise_factor': 0.047293359452596655, 'translate_factor': 0.17003709701498262, 'num_layers': 2, 'output_layer': 'dense', 'layer_0': 'Pointwise2D', 'layer_0_pwconv2d_filters': 12, 'layer_0_pwconv2d_ssize': 7, 'activation_0': 'linear', 'layer_1': 'Pointwise2D', 'layer_1_pwconv2d_filters': 24, 'layer_1_pwconv2d_ssize': 4, 'activation_1': 'relu', 'output_dropout': 0.42439859073376923, 'lr_inicial': 0.001909153783055741}. \n"
     ]
    },
    {
     "name": "stdout",
     "output_type": "stream",
     "text": [
      "INFO:tensorflow:Assets written to: saved_models/exp7_no_depth_w_GAP_multiObj/best_model_t762/assets\n"
     ]
    },
    {
     "name": "stderr",
     "output_type": "stream",
     "text": [
      "INFO:tensorflow:Assets written to: saved_models/exp7_no_depth_w_GAP_multiObj/best_model_t762/assets\n",
      "[I 2024-02-02 14:28:15,081] Trial 762 finished with values: [0.5400000214576721, 3685.0] and parameters: {'batchsize': 96, 'brightness_factor': 0.16753731106433448, 'gaussian_noise_factor': 0.05250499481822317, 'translate_factor': 0.1762758602299866, 'num_layers': 2, 'output_layer': 'pooling', 'layer_0': 'Conv2D', 'layer_0_conv2d_filters': 16, 'layer_0_conv2d_fsize': 5, 'layer_0_conv2d_ssize': 5, 'activation_0': 'linear', 'layer_1': 'Pointwise2D', 'layer_1_pwconv2d_filters': 8, 'layer_1_pwconv2d_ssize': 2, 'activation_1': 'relu', 'pre_GAP_layer_fsize': 3, 'pre_GAP_layer_act': 'tanh', 'lr_inicial': 0.001068951606773221}. \n"
     ]
    },
    {
     "name": "stdout",
     "output_type": "stream",
     "text": [
      "INFO:tensorflow:Assets written to: saved_models/exp7_no_depth_w_GAP_multiObj/best_model_t763/assets\n"
     ]
    },
    {
     "name": "stderr",
     "output_type": "stream",
     "text": [
      "INFO:tensorflow:Assets written to: saved_models/exp7_no_depth_w_GAP_multiObj/best_model_t763/assets\n",
      "[I 2024-02-02 14:28:33,505] Trial 763 finished with values: [0.8399999737739563, 22567.0] and parameters: {'batchsize': 128, 'brightness_factor': 0.1547645778261451, 'gaussian_noise_factor': 0.056749904619416223, 'translate_factor': 0.16868670540055092, 'num_layers': 3, 'output_layer': 'dense', 'layer_0': 'Conv2D', 'layer_0_conv2d_filters': 28, 'layer_0_conv2d_fsize': 4, 'layer_0_conv2d_ssize': 4, 'activation_0': 'linear', 'layer_1': 'Pointwise2D', 'layer_1_pwconv2d_filters': 32, 'layer_1_pwconv2d_ssize': 3, 'activation_1': 'relu', 'layer_2': 'Pointwise2D', 'layer_2_pwconv2d_filters': 4, 'layer_2_pwconv2d_ssize': 2, 'activation_2': 'tanh', 'output_dropout': 0.4818772231290525, 'lr_inicial': 0.0018528269207457248}. \n"
     ]
    },
    {
     "name": "stdout",
     "output_type": "stream",
     "text": [
      "INFO:tensorflow:Assets written to: saved_models/exp7_no_depth_w_GAP_multiObj/best_model_t764/assets\n"
     ]
    },
    {
     "name": "stderr",
     "output_type": "stream",
     "text": [
      "INFO:tensorflow:Assets written to: saved_models/exp7_no_depth_w_GAP_multiObj/best_model_t764/assets\n",
      "[I 2024-02-02 14:28:48,065] Trial 764 finished with values: [0.5799999833106995, 3829.0] and parameters: {'batchsize': 64, 'brightness_factor': 0.16419942655282352, 'gaussian_noise_factor': 0.06215155425622262, 'translate_factor': 0.17353005229426832, 'num_layers': 2, 'output_layer': 'pooling', 'layer_0': 'Conv2D', 'layer_0_conv2d_filters': 4, 'layer_0_conv2d_fsize': 5, 'layer_0_conv2d_ssize': 5, 'activation_0': 'linear', 'layer_1': 'Pointwise2D', 'layer_1_pwconv2d_filters': 12, 'layer_1_pwconv2d_ssize': 7, 'activation_1': 'tanh', 'pre_GAP_layer_fsize': 5, 'pre_GAP_layer_act': 'relu', 'lr_inicial': 0.0012439601710454691}. \n"
     ]
    },
    {
     "name": "stdout",
     "output_type": "stream",
     "text": [
      "INFO:tensorflow:Assets written to: saved_models/exp7_no_depth_w_GAP_multiObj/best_model_t765/assets\n"
     ]
    },
    {
     "name": "stderr",
     "output_type": "stream",
     "text": [
      "INFO:tensorflow:Assets written to: saved_models/exp7_no_depth_w_GAP_multiObj/best_model_t765/assets\n",
      "[I 2024-02-02 14:29:07,752] Trial 765 finished with values: [0.7200000286102295, 20807.0] and parameters: {'batchsize': 96, 'brightness_factor': 0.1608679871226886, 'gaussian_noise_factor': 0.049243577754094596, 'translate_factor': 0.16443313485326347, 'num_layers': 2, 'output_layer': 'dense', 'layer_0': 'Conv2D', 'layer_0_conv2d_filters': 4, 'layer_0_conv2d_fsize': 4, 'layer_0_conv2d_ssize': 5, 'activation_0': 'linear', 'layer_1': 'Pointwise2D', 'layer_1_pwconv2d_filters': 16, 'layer_1_pwconv2d_ssize': 5, 'activation_1': 'relu', 'output_dropout': 0.46451866097293437, 'lr_inicial': 0.00038309310023738007}. \n"
     ]
    },
    {
     "name": "stdout",
     "output_type": "stream",
     "text": [
      "INFO:tensorflow:Assets written to: saved_models/exp7_no_depth_w_GAP_multiObj/best_model_t766/assets\n"
     ]
    },
    {
     "name": "stderr",
     "output_type": "stream",
     "text": [
      "INFO:tensorflow:Assets written to: saved_models/exp7_no_depth_w_GAP_multiObj/best_model_t766/assets\n",
      "[I 2024-02-02 14:29:23,851] Trial 766 finished with values: [0.4000000059604645, 3141.0] and parameters: {'batchsize': 64, 'brightness_factor': 0.15528938057328526, 'gaussian_noise_factor': 0.05501318895367189, 'translate_factor': 0.16086662316064942, 'num_layers': 1, 'output_layer': 'pooling', 'layer_0': 'Pointwise2D', 'layer_0_pwconv2d_filters': 32, 'layer_0_pwconv2d_ssize': 10, 'activation_0': 'linear', 'pre_GAP_layer_fsize': 3, 'pre_GAP_layer_act': 'relu', 'lr_inicial': 0.0010862170800369092}. \n"
     ]
    },
    {
     "name": "stdout",
     "output_type": "stream",
     "text": [
      "INFO:tensorflow:Assets written to: saved_models/exp7_no_depth_w_GAP_multiObj/best_model_t767/assets\n"
     ]
    },
    {
     "name": "stderr",
     "output_type": "stream",
     "text": [
      "INFO:tensorflow:Assets written to: saved_models/exp7_no_depth_w_GAP_multiObj/best_model_t767/assets\n",
      "[I 2024-02-02 14:29:39,415] Trial 767 finished with values: [0.699999988079071, 20419.0] and parameters: {'batchsize': 128, 'brightness_factor': 0.16915649555266848, 'gaussian_noise_factor': 0.042950244887888844, 'translate_factor': 0.17321449603543043, 'num_layers': 2, 'output_layer': 'dense', 'layer_0': 'Conv2D', 'layer_0_conv2d_filters': 4, 'layer_0_conv2d_fsize': 5, 'layer_0_conv2d_ssize': 5, 'activation_0': 'linear', 'layer_1': 'Pointwise2D', 'layer_1_pwconv2d_filters': 4, 'layer_1_pwconv2d_ssize': 6, 'activation_1': 'relu', 'output_dropout': 0.5433754548794985, 'lr_inicial': 0.0011897901770605303}. \n"
     ]
    },
    {
     "name": "stdout",
     "output_type": "stream",
     "text": [
      "INFO:tensorflow:Assets written to: saved_models/exp7_no_depth_w_GAP_multiObj/best_model_t768/assets\n"
     ]
    },
    {
     "name": "stderr",
     "output_type": "stream",
     "text": [
      "INFO:tensorflow:Assets written to: saved_models/exp7_no_depth_w_GAP_multiObj/best_model_t768/assets\n",
      "[I 2024-02-02 14:29:55,926] Trial 768 finished with values: [0.7799999713897705, 50669.0] and parameters: {'batchsize': 64, 'brightness_factor': 0.15864555601422983, 'gaussian_noise_factor': 0.060250243367419694, 'translate_factor': 0.16464687226025287, 'num_layers': 3, 'output_layer': 'pooling', 'layer_0': 'Conv2D', 'layer_0_conv2d_filters': 4, 'layer_0_conv2d_fsize': 4, 'layer_0_conv2d_ssize': 4, 'activation_0': 'linear', 'layer_1': 'Pointwise2D', 'layer_1_pwconv2d_filters': 24, 'layer_1_pwconv2d_ssize': 2, 'activation_1': 'relu', 'layer_2': 'Conv2D', 'layer_2_conv2d_filters': 20, 'layer_2_conv2d_fsize': 5, 'layer_2_conv2d_ssize': 5, 'activation_2': 'linear', 'pre_GAP_layer_fsize': 3, 'pre_GAP_layer_act': 'relu', 'lr_inicial': 0.0019219207394443026}. \n"
     ]
    },
    {
     "name": "stdout",
     "output_type": "stream",
     "text": [
      "INFO:tensorflow:Assets written to: saved_models/exp7_no_depth_w_GAP_multiObj/best_model_t769/assets\n"
     ]
    },
    {
     "name": "stderr",
     "output_type": "stream",
     "text": [
      "INFO:tensorflow:Assets written to: saved_models/exp7_no_depth_w_GAP_multiObj/best_model_t769/assets\n",
      "[I 2024-02-02 14:30:11,525] Trial 769 finished with values: [0.6399999856948853, 4901.0] and parameters: {'batchsize': 96, 'brightness_factor': 0.15335225119067003, 'gaussian_noise_factor': 0.04743752514851506, 'translate_factor': 0.17148056702261097, 'num_layers': 2, 'output_layer': 'pooling', 'layer_0': 'Conv2D', 'layer_0_conv2d_filters': 32, 'layer_0_conv2d_fsize': 4, 'layer_0_conv2d_ssize': 5, 'activation_0': 'linear', 'layer_1': 'Pointwise2D', 'layer_1_pwconv2d_filters': 8, 'layer_1_pwconv2d_ssize': 4, 'activation_1': 'relu', 'pre_GAP_layer_fsize': 3, 'pre_GAP_layer_act': 'relu', 'lr_inicial': 0.0016504369654310764}. \n"
     ]
    },
    {
     "name": "stdout",
     "output_type": "stream",
     "text": [
      "INFO:tensorflow:Assets written to: saved_models/exp7_no_depth_w_GAP_multiObj/best_model_t770/assets\n"
     ]
    },
    {
     "name": "stderr",
     "output_type": "stream",
     "text": [
      "INFO:tensorflow:Assets written to: saved_models/exp7_no_depth_w_GAP_multiObj/best_model_t770/assets\n",
      "[I 2024-02-02 14:30:26,732] Trial 770 finished with values: [0.7200000286102295, 22339.0] and parameters: {'batchsize': 64, 'brightness_factor': 0.162813512686606, 'gaussian_noise_factor': 0.051909341396705486, 'translate_factor': 0.1684201589682195, 'num_layers': 2, 'output_layer': 'dense', 'layer_0': 'Conv2D', 'layer_0_conv2d_filters': 8, 'layer_0_conv2d_fsize': 5, 'layer_0_conv2d_ssize': 5, 'activation_0': 'linear', 'layer_1': 'Pointwise2D', 'layer_1_pwconv2d_filters': 20, 'layer_1_pwconv2d_ssize': 8, 'activation_1': 'relu', 'output_dropout': 0.5715460420564387, 'lr_inicial': 0.00041752935007876023}. \n"
     ]
    },
    {
     "name": "stdout",
     "output_type": "stream",
     "text": [
      "INFO:tensorflow:Assets written to: saved_models/exp7_no_depth_w_GAP_multiObj/best_model_t771/assets\n"
     ]
    },
    {
     "name": "stderr",
     "output_type": "stream",
     "text": [
      "INFO:tensorflow:Assets written to: saved_models/exp7_no_depth_w_GAP_multiObj/best_model_t771/assets\n",
      "[I 2024-02-02 14:30:40,906] Trial 771 finished with values: [0.6399999856948853, 3077.0] and parameters: {'batchsize': 96, 'brightness_factor': 0.15711772955303163, 'gaussian_noise_factor': 0.04497055127005062, 'translate_factor': 0.15808149546067157, 'num_layers': 2, 'output_layer': 'pooling', 'layer_0': 'Conv2D', 'layer_0_conv2d_filters': 4, 'layer_0_conv2d_fsize': 3, 'layer_0_conv2d_ssize': 5, 'activation_0': 'linear', 'layer_1': 'Pointwise2D', 'layer_1_pwconv2d_filters': 16, 'layer_1_pwconv2d_ssize': 5, 'activation_1': 'tanh', 'pre_GAP_layer_fsize': 4, 'pre_GAP_layer_act': 'linear', 'lr_inicial': 0.0018042966256701252}. \n"
     ]
    },
    {
     "name": "stdout",
     "output_type": "stream",
     "text": [
      "INFO:tensorflow:Assets written to: saved_models/exp7_no_depth_w_GAP_multiObj/best_model_t772/assets\n"
     ]
    },
    {
     "name": "stderr",
     "output_type": "stream",
     "text": [
      "INFO:tensorflow:Assets written to: saved_models/exp7_no_depth_w_GAP_multiObj/best_model_t772/assets\n",
      "[I 2024-02-02 14:30:55,662] Trial 772 finished with values: [0.6000000238418579, 19565.0] and parameters: {'batchsize': 128, 'brightness_factor': 0.16084230384909698, 'gaussian_noise_factor': 0.05646815390430055, 'translate_factor': 0.17551625184968506, 'num_layers': 1, 'output_layer': 'dense', 'layer_0': 'Pointwise2D', 'layer_0_pwconv2d_filters': 16, 'layer_0_pwconv2d_ssize': 12, 'activation_0': 'linear', 'output_dropout': 0.5128735147620223, 'lr_inicial': 0.00036468502950047385}. \n"
     ]
    },
    {
     "name": "stdout",
     "output_type": "stream",
     "text": [
      "INFO:tensorflow:Assets written to: saved_models/exp7_no_depth_w_GAP_multiObj/best_model_t773/assets\n"
     ]
    },
    {
     "name": "stderr",
     "output_type": "stream",
     "text": [
      "INFO:tensorflow:Assets written to: saved_models/exp7_no_depth_w_GAP_multiObj/best_model_t773/assets\n",
      "[I 2024-02-02 14:31:15,427] Trial 773 finished with values: [0.5799999833106995, 5549.0] and parameters: {'batchsize': 64, 'brightness_factor': 0.1691884377977002, 'gaussian_noise_factor': 0.0627039373819914, 'translate_factor': 0.16569626545700256, 'num_layers': 3, 'output_layer': 'pooling', 'layer_0': 'Conv2D', 'layer_0_conv2d_filters': 12, 'layer_0_conv2d_fsize': 4, 'layer_0_conv2d_ssize': 2, 'activation_0': 'linear', 'layer_1': 'Pointwise2D', 'layer_1_pwconv2d_filters': 8, 'layer_1_pwconv2d_ssize': 3, 'activation_1': 'relu', 'layer_2': 'Pointwise2D', 'layer_2_pwconv2d_filters': 32, 'layer_2_pwconv2d_ssize': 5, 'activation_2': 'relu', 'pre_GAP_layer_fsize': 3, 'pre_GAP_layer_act': 'tanh', 'lr_inicial': 0.0004759531160455535}. \n"
     ]
    },
    {
     "name": "stdout",
     "output_type": "stream",
     "text": [
      "INFO:tensorflow:Assets written to: saved_models/exp7_no_depth_w_GAP_multiObj/best_model_t774/assets\n"
     ]
    },
    {
     "name": "stderr",
     "output_type": "stream",
     "text": [
      "INFO:tensorflow:Assets written to: saved_models/exp7_no_depth_w_GAP_multiObj/best_model_t774/assets\n",
      "[I 2024-02-02 14:31:29,643] Trial 774 finished with values: [0.800000011920929, 21907.0] and parameters: {'batchsize': 96, 'brightness_factor': 0.15433360584060798, 'gaussian_noise_factor': 0.05199264117455332, 'translate_factor': 0.1532681770004428, 'num_layers': 2, 'output_layer': 'dense', 'layer_0': 'Conv2D', 'layer_0_conv2d_filters': 16, 'layer_0_conv2d_fsize': 5, 'layer_0_conv2d_ssize': 5, 'activation_0': 'linear', 'layer_1': 'Pointwise2D', 'layer_1_pwconv2d_filters': 12, 'layer_1_pwconv2d_ssize': 6, 'activation_1': 'relu', 'output_dropout': 0.5020272157128165, 'lr_inicial': 0.0009465182776333738}. \n"
     ]
    },
    {
     "name": "stdout",
     "output_type": "stream",
     "text": [
      "INFO:tensorflow:Assets written to: saved_models/exp7_no_depth_w_GAP_multiObj/best_model_t775/assets\n"
     ]
    },
    {
     "name": "stderr",
     "output_type": "stream",
     "text": [
      "INFO:tensorflow:Assets written to: saved_models/exp7_no_depth_w_GAP_multiObj/best_model_t775/assets\n",
      "[I 2024-02-02 14:31:44,385] Trial 775 finished with values: [0.5799999833106995, 5757.0] and parameters: {'batchsize': 64, 'brightness_factor': 0.16466207597947324, 'gaussian_noise_factor': 0.041147240415924824, 'translate_factor': 0.1687161761959475, 'num_layers': 2, 'output_layer': 'pooling', 'layer_0': 'Conv2D', 'layer_0_conv2d_filters': 4, 'layer_0_conv2d_fsize': 4, 'layer_0_conv2d_ssize': 5, 'activation_0': 'linear', 'layer_1': 'Pointwise2D', 'layer_1_pwconv2d_filters': 20, 'layer_1_pwconv2d_ssize': 4, 'activation_1': 'relu', 'pre_GAP_layer_fsize': 5, 'pre_GAP_layer_act': 'relu', 'lr_inicial': 0.001174322063598657}. \n"
     ]
    },
    {
     "name": "stdout",
     "output_type": "stream",
     "text": [
      "INFO:tensorflow:Assets written to: saved_models/exp7_no_depth_w_GAP_multiObj/best_model_t776/assets\n"
     ]
    },
    {
     "name": "stderr",
     "output_type": "stream",
     "text": [
      "INFO:tensorflow:Assets written to: saved_models/exp7_no_depth_w_GAP_multiObj/best_model_t776/assets\n",
      "[I 2024-02-02 14:31:59,518] Trial 776 finished with values: [0.7200000286102295, 22087.0] and parameters: {'batchsize': 128, 'brightness_factor': 0.15863756938402515, 'gaussian_noise_factor': 0.04915814942486812, 'translate_factor': 0.08951232728477025, 'num_layers': 2, 'output_layer': 'dense', 'layer_0': 'Conv2D', 'layer_0_conv2d_filters': 4, 'layer_0_conv2d_fsize': 5, 'layer_0_conv2d_ssize': 5, 'activation_0': 'linear', 'layer_1': 'Pointwise2D', 'layer_1_pwconv2d_filters': 28, 'layer_1_pwconv2d_ssize': 7, 'activation_1': 'relu', 'output_dropout': 0.4359652217183013, 'lr_inicial': 0.0008149451228463137}. \n"
     ]
    },
    {
     "name": "stdout",
     "output_type": "stream",
     "text": [
      "INFO:tensorflow:Assets written to: saved_models/exp7_no_depth_w_GAP_multiObj/best_model_t777/assets\n"
     ]
    },
    {
     "name": "stderr",
     "output_type": "stream",
     "text": [
      "INFO:tensorflow:Assets written to: saved_models/exp7_no_depth_w_GAP_multiObj/best_model_t777/assets\n",
      "[I 2024-02-02 14:32:14,998] Trial 777 finished with values: [0.6800000071525574, 9845.0] and parameters: {'batchsize': 96, 'brightness_factor': 0.15401574234313037, 'gaussian_noise_factor': 0.05838403517370721, 'translate_factor': 0.17689920436424453, 'num_layers': 3, 'output_layer': 'pooling', 'layer_0': 'Conv2D', 'layer_0_conv2d_filters': 20, 'layer_0_conv2d_fsize': 4, 'layer_0_conv2d_ssize': 4, 'activation_0': 'linear', 'layer_1': 'Pointwise2D', 'layer_1_pwconv2d_filters': 4, 'layer_1_pwconv2d_ssize': 3, 'activation_1': 'relu', 'layer_2': 'Conv2D', 'layer_2_conv2d_filters': 32, 'layer_2_conv2d_fsize': 3, 'layer_2_conv2d_ssize': 3, 'activation_2': 'tanh', 'pre_GAP_layer_fsize': 3, 'pre_GAP_layer_act': 'relu', 'lr_inicial': 0.0010214541318767788}. \n"
     ]
    },
    {
     "name": "stdout",
     "output_type": "stream",
     "text": [
      "INFO:tensorflow:Assets written to: saved_models/exp7_no_depth_w_GAP_multiObj/best_model_t778/assets\n"
     ]
    },
    {
     "name": "stderr",
     "output_type": "stream",
     "text": [
      "INFO:tensorflow:Assets written to: saved_models/exp7_no_depth_w_GAP_multiObj/best_model_t778/assets\n",
      "[I 2024-02-02 14:32:29,915] Trial 778 finished with values: [0.47999998927116394, 1765.0] and parameters: {'batchsize': 64, 'brightness_factor': 0.15732192611654053, 'gaussian_noise_factor': 0.05590350469856302, 'translate_factor': 0.1622145943246626, 'num_layers': 2, 'output_layer': 'pooling', 'layer_0': 'Pointwise2D', 'layer_0_pwconv2d_filters': 4, 'layer_0_pwconv2d_ssize': 6, 'activation_0': 'linear', 'layer_1': 'Pointwise2D', 'layer_1_pwconv2d_filters': 16, 'layer_1_pwconv2d_ssize': 5, 'activation_1': 'relu', 'pre_GAP_layer_fsize': 3, 'pre_GAP_layer_act': 'relu', 'lr_inicial': 0.0006732327204027177}. \n"
     ]
    },
    {
     "name": "stdout",
     "output_type": "stream",
     "text": [
      "INFO:tensorflow:Assets written to: saved_models/exp7_no_depth_w_GAP_multiObj/best_model_t779/assets\n"
     ]
    },
    {
     "name": "stderr",
     "output_type": "stream",
     "text": [
      "INFO:tensorflow:Assets written to: saved_models/exp7_no_depth_w_GAP_multiObj/best_model_t779/assets\n",
      "[I 2024-02-02 14:32:44,739] Trial 779 finished with values: [0.6600000262260437, 20331.0] and parameters: {'batchsize': 64, 'brightness_factor': 0.16323791478888852, 'gaussian_noise_factor': 0.04676792730647013, 'translate_factor': 0.1710364139674453, 'num_layers': 2, 'output_layer': 'dense', 'layer_0': 'Conv2D', 'layer_0_conv2d_filters': 4, 'layer_0_conv2d_fsize': 4, 'layer_0_conv2d_ssize': 5, 'activation_0': 'linear', 'layer_1': 'Pointwise2D', 'layer_1_pwconv2d_filters': 24, 'layer_1_pwconv2d_ssize': 4, 'activation_1': 'tanh', 'output_dropout': 0.4169059963897715, 'lr_inicial': 0.0005615260578840516}. \n"
     ]
    },
    {
     "name": "stdout",
     "output_type": "stream",
     "text": [
      "INFO:tensorflow:Assets written to: saved_models/exp7_no_depth_w_GAP_multiObj/best_model_t780/assets\n"
     ]
    },
    {
     "name": "stderr",
     "output_type": "stream",
     "text": [
      "INFO:tensorflow:Assets written to: saved_models/exp7_no_depth_w_GAP_multiObj/best_model_t780/assets\n",
      "[I 2024-02-02 14:33:02,590] Trial 780 finished with values: [0.6200000047683716, 973.0] and parameters: {'batchsize': 96, 'brightness_factor': 0.15348778018735715, 'gaussian_noise_factor': 0.05292608667085936, 'translate_factor': 0.17557462015694558, 'num_layers': 1, 'output_layer': 'pooling', 'layer_0': 'Conv2D', 'layer_0_conv2d_filters': 4, 'layer_0_conv2d_fsize': 5, 'layer_0_conv2d_ssize': 16, 'activation_0': 'linear', 'pre_GAP_layer_fsize': 3, 'pre_GAP_layer_act': 'relu', 'lr_inicial': 0.001850650662727182}. \n"
     ]
    },
    {
     "name": "stdout",
     "output_type": "stream",
     "text": [
      "INFO:tensorflow:Assets written to: saved_models/exp7_no_depth_w_GAP_multiObj/best_model_t781/assets\n"
     ]
    },
    {
     "name": "stderr",
     "output_type": "stream",
     "text": [
      "INFO:tensorflow:Assets written to: saved_models/exp7_no_depth_w_GAP_multiObj/best_model_t781/assets\n",
      "[I 2024-02-02 14:33:19,018] Trial 781 finished with values: [0.8600000143051147, 41611.0] and parameters: {'batchsize': 128, 'brightness_factor': 0.1663422760237995, 'gaussian_noise_factor': 0.06110015967955667, 'translate_factor': 0.16991562625757753, 'num_layers': 3, 'output_layer': 'dense', 'layer_0': 'Conv2D', 'layer_0_conv2d_filters': 8, 'layer_0_conv2d_fsize': 3, 'layer_0_conv2d_ssize': 4, 'activation_0': 'linear', 'layer_1': 'Pointwise2D', 'layer_1_pwconv2d_filters': 32, 'layer_1_pwconv2d_ssize': 2, 'activation_1': 'relu', 'layer_2': 'Conv2D', 'layer_2_conv2d_filters': 24, 'layer_2_conv2d_fsize': 5, 'layer_2_conv2d_ssize': 4, 'activation_2': 'linear', 'output_dropout': 0.3916522573778226, 'lr_inicial': 0.0012460540218494358}. \n"
     ]
    },
    {
     "name": "stdout",
     "output_type": "stream",
     "text": [
      "INFO:tensorflow:Assets written to: saved_models/exp7_no_depth_w_GAP_multiObj/best_model_t782/assets\n"
     ]
    },
    {
     "name": "stderr",
     "output_type": "stream",
     "text": [
      "INFO:tensorflow:Assets written to: saved_models/exp7_no_depth_w_GAP_multiObj/best_model_t782/assets\n",
      "[I 2024-02-02 14:33:33,675] Trial 782 finished with values: [0.7400000095367432, 1821.0] and parameters: {'batchsize': 64, 'brightness_factor': 0.16196442483406545, 'gaussian_noise_factor': 0.044039691784828396, 'translate_factor': 0.16150338054858437, 'num_layers': 2, 'output_layer': 'pooling', 'layer_0': 'Conv2D', 'layer_0_conv2d_filters': 4, 'layer_0_conv2d_fsize': 4, 'layer_0_conv2d_ssize': 5, 'activation_0': 'linear', 'layer_1': 'Pointwise2D', 'layer_1_pwconv2d_filters': 8, 'layer_1_pwconv2d_ssize': 8, 'activation_1': 'relu', 'pre_GAP_layer_fsize': 4, 'pre_GAP_layer_act': 'linear', 'lr_inicial': 0.0017285960808536176}. \n"
     ]
    },
    {
     "name": "stdout",
     "output_type": "stream",
     "text": [
      "INFO:tensorflow:Assets written to: saved_models/exp7_no_depth_w_GAP_multiObj/best_model_t783/assets\n"
     ]
    },
    {
     "name": "stderr",
     "output_type": "stream",
     "text": [
      "INFO:tensorflow:Assets written to: saved_models/exp7_no_depth_w_GAP_multiObj/best_model_t783/assets\n",
      "[I 2024-02-02 14:33:49,792] Trial 783 finished with values: [0.7799999713897705, 20932.0] and parameters: {'batchsize': 32, 'brightness_factor': 0.16243461562899442, 'gaussian_noise_factor': 0.043361659528774785, 'translate_factor': 0.013587972100912594, 'num_layers': 3, 'output_layer': 'dense', 'layer_0': 'Pointwise2D', 'layer_0_pwconv2d_filters': 8, 'layer_0_pwconv2d_ssize': 3, 'activation_0': 'linear', 'layer_1': 'Pointwise2D', 'layer_1_pwconv2d_filters': 12, 'layer_1_pwconv2d_ssize': 3, 'activation_1': 'tanh', 'layer_2': 'Pointwise2D', 'layer_2_pwconv2d_filters': 24, 'layer_2_pwconv2d_ssize': 3, 'activation_2': 'tanh', 'output_dropout': 0.5336617662789263, 'lr_inicial': 0.0017637786657886893}. \n"
     ]
    },
    {
     "name": "stdout",
     "output_type": "stream",
     "text": [
      "INFO:tensorflow:Assets written to: saved_models/exp7_no_depth_w_GAP_multiObj/best_model_t784/assets\n"
     ]
    },
    {
     "name": "stderr",
     "output_type": "stream",
     "text": [
      "INFO:tensorflow:Assets written to: saved_models/exp7_no_depth_w_GAP_multiObj/best_model_t784/assets\n",
      "[I 2024-02-02 14:34:04,506] Trial 784 finished with values: [0.7799999713897705, 19777.0] and parameters: {'batchsize': 32, 'brightness_factor': 0.15888862291262995, 'gaussian_noise_factor': 0.06582325911389596, 'translate_factor': 0.04084026532731198, 'num_layers': 1, 'output_layer': 'dense', 'layer_0': 'Pointwise2D', 'layer_0_pwconv2d_filters': 20, 'layer_0_pwconv2d_ssize': 15, 'activation_0': 'linear', 'output_dropout': 0.559693086529467, 'lr_inicial': 0.0017056130687806204}. \n"
     ]
    },
    {
     "name": "stdout",
     "output_type": "stream",
     "text": [
      "INFO:tensorflow:Assets written to: saved_models/exp7_no_depth_w_GAP_multiObj/best_model_t785/assets\n"
     ]
    },
    {
     "name": "stderr",
     "output_type": "stream",
     "text": [
      "INFO:tensorflow:Assets written to: saved_models/exp7_no_depth_w_GAP_multiObj/best_model_t785/assets\n",
      "[I 2024-02-02 14:34:22,462] Trial 785 finished with values: [0.7400000095367432, 22495.0] and parameters: {'batchsize': 32, 'brightness_factor': 0.16104243368076512, 'gaussian_noise_factor': 0.060047543674587464, 'translate_factor': 0.032428037668058726, 'num_layers': 3, 'output_layer': 'dense', 'layer_0': 'Pointwise2D', 'layer_0_pwconv2d_filters': 24, 'layer_0_pwconv2d_ssize': 2, 'activation_0': 'linear', 'layer_1': 'Pointwise2D', 'layer_1_pwconv2d_filters': 8, 'layer_1_pwconv2d_ssize': 3, 'activation_1': 'relu', 'layer_2': 'Conv2D', 'layer_2_conv2d_filters': 12, 'layer_2_conv2d_fsize': 4, 'layer_2_conv2d_ssize': 5, 'activation_2': 'relu', 'output_dropout': 0.4082435029874977, 'lr_inicial': 0.0005088787688223959}. \n"
     ]
    },
    {
     "name": "stdout",
     "output_type": "stream",
     "text": [
      "INFO:tensorflow:Assets written to: saved_models/exp7_no_depth_w_GAP_multiObj/best_model_t786/assets\n"
     ]
    },
    {
     "name": "stderr",
     "output_type": "stream",
     "text": [
      "INFO:tensorflow:Assets written to: saved_models/exp7_no_depth_w_GAP_multiObj/best_model_t786/assets\n",
      "[I 2024-02-02 14:34:38,638] Trial 786 finished with values: [0.8199999928474426, 21655.0] and parameters: {'batchsize': 32, 'brightness_factor': 0.16828221681760605, 'gaussian_noise_factor': 0.049681599226610994, 'translate_factor': 0.1572567994366354, 'num_layers': 3, 'output_layer': 'dense', 'layer_0': 'Conv2D', 'layer_0_conv2d_filters': 4, 'layer_0_conv2d_fsize': 5, 'layer_0_conv2d_ssize': 4, 'activation_0': 'linear', 'layer_1': 'Pointwise2D', 'layer_1_pwconv2d_filters': 12, 'layer_1_pwconv2d_ssize': 3, 'activation_1': 'relu', 'layer_2': 'Pointwise2D', 'layer_2_pwconv2d_filters': 28, 'layer_2_pwconv2d_ssize': 2, 'activation_2': 'linear', 'output_dropout': 0.333347016660451, 'lr_inicial': 0.0018316494464723446}. \n"
     ]
    },
    {
     "name": "stdout",
     "output_type": "stream",
     "text": [
      "INFO:tensorflow:Assets written to: saved_models/exp7_no_depth_w_GAP_multiObj/best_model_t787/assets\n"
     ]
    },
    {
     "name": "stderr",
     "output_type": "stream",
     "text": [
      "INFO:tensorflow:Assets written to: saved_models/exp7_no_depth_w_GAP_multiObj/best_model_t787/assets\n",
      "[I 2024-02-02 14:34:53,317] Trial 787 finished with values: [0.7799999713897705, 18354.0] and parameters: {'batchsize': 32, 'brightness_factor': 0.1655796517570527, 'gaussian_noise_factor': 0.053783411974501594, 'translate_factor': 0.045861124812366906, 'num_layers': 1, 'output_layer': 'dense', 'layer_0': 'Conv2D', 'layer_0_conv2d_filters': 4, 'layer_0_conv2d_fsize': 5, 'layer_0_conv2d_ssize': 13, 'activation_0': 'linear', 'output_dropout': 0.5259132865544891, 'lr_inicial': 0.0017105450117944542}. \n"
     ]
    },
    {
     "name": "stdout",
     "output_type": "stream",
     "text": [
      "INFO:tensorflow:Assets written to: saved_models/exp7_no_depth_w_GAP_multiObj/best_model_t788/assets\n"
     ]
    },
    {
     "name": "stderr",
     "output_type": "stream",
     "text": [
      "INFO:tensorflow:Assets written to: saved_models/exp7_no_depth_w_GAP_multiObj/best_model_t788/assets\n",
      "[I 2024-02-02 14:35:09,609] Trial 788 finished with values: [0.8199999928474426, 22123.0] and parameters: {'batchsize': 32, 'brightness_factor': 0.15334124064512064, 'gaussian_noise_factor': 0.06277845777595423, 'translate_factor': 0.166305567248851, 'num_layers': 3, 'output_layer': 'dense', 'layer_0': 'Conv2D', 'layer_0_conv2d_filters': 4, 'layer_0_conv2d_fsize': 5, 'layer_0_conv2d_ssize': 4, 'activation_0': 'linear', 'layer_1': 'Pointwise2D', 'layer_1_pwconv2d_filters': 16, 'layer_1_pwconv2d_ssize': 3, 'activation_1': 'relu', 'layer_2': 'Conv2D', 'layer_2_conv2d_filters': 8, 'layer_2_conv2d_fsize': 3, 'layer_2_conv2d_ssize': 3, 'activation_2': 'tanh', 'output_dropout': 0.4763769091543525, 'lr_inicial': 0.0018118379242568344}. \n"
     ]
    },
    {
     "name": "stdout",
     "output_type": "stream",
     "text": [
      "INFO:tensorflow:Assets written to: saved_models/exp7_no_depth_w_GAP_multiObj/best_model_t789/assets\n"
     ]
    },
    {
     "name": "stderr",
     "output_type": "stream",
     "text": [
      "INFO:tensorflow:Assets written to: saved_models/exp7_no_depth_w_GAP_multiObj/best_model_t789/assets\n",
      "[I 2024-02-02 14:35:24,877] Trial 789 finished with values: [0.7799999713897705, 17334.0] and parameters: {'batchsize': 32, 'brightness_factor': 0.16976199056029329, 'gaussian_noise_factor': 0.03987397001413196, 'translate_factor': 0.02210288540130545, 'num_layers': 2, 'output_layer': 'dense', 'layer_0': 'Conv2D', 'layer_0_conv2d_filters': 4, 'layer_0_conv2d_fsize': 5, 'layer_0_conv2d_ssize': 5, 'activation_0': 'linear', 'layer_1': 'Pointwise2D', 'layer_1_pwconv2d_filters': 12, 'layer_1_pwconv2d_ssize': 2, 'activation_1': 'relu', 'output_dropout': 0.4960052750707116, 'lr_inicial': 0.0017302313964731154}. \n"
     ]
    },
    {
     "name": "stdout",
     "output_type": "stream",
     "text": [
      "INFO:tensorflow:Assets written to: saved_models/exp7_no_depth_w_GAP_multiObj/best_model_t790/assets\n"
     ]
    },
    {
     "name": "stderr",
     "output_type": "stream",
     "text": [
      "INFO:tensorflow:Assets written to: saved_models/exp7_no_depth_w_GAP_multiObj/best_model_t790/assets\n",
      "[I 2024-02-02 14:35:39,068] Trial 790 finished with values: [0.7799999713897705, 20463.0] and parameters: {'batchsize': 32, 'brightness_factor': 0.15765928592017334, 'gaussian_noise_factor': 0.0458328956805234, 'translate_factor': 0.05672846525014635, 'num_layers': 1, 'output_layer': 'dense', 'layer_0': 'Pointwise2D', 'layer_0_pwconv2d_filters': 32, 'layer_0_pwconv2d_ssize': 13, 'activation_0': 'linear', 'output_dropout': 0.5060011864596612, 'lr_inicial': 0.0016356672162860099}. \n"
     ]
    },
    {
     "name": "stdout",
     "output_type": "stream",
     "text": [
      "INFO:tensorflow:Assets written to: saved_models/exp7_no_depth_w_GAP_multiObj/best_model_t791/assets\n"
     ]
    },
    {
     "name": "stderr",
     "output_type": "stream",
     "text": [
      "INFO:tensorflow:Assets written to: saved_models/exp7_no_depth_w_GAP_multiObj/best_model_t791/assets\n",
      "[I 2024-02-02 14:35:56,526] Trial 791 finished with values: [0.7599999904632568, 20144.0] and parameters: {'batchsize': 32, 'brightness_factor': 0.16298074248240682, 'gaussian_noise_factor': 0.05655134812804089, 'translate_factor': 0.1740314294145169, 'num_layers': 3, 'output_layer': 'dense', 'layer_0': 'Conv2D', 'layer_0_conv2d_filters': 4, 'layer_0_conv2d_fsize': 3, 'layer_0_conv2d_ssize': 4, 'activation_0': 'linear', 'layer_1': 'Pointwise2D', 'layer_1_pwconv2d_filters': 8, 'layer_1_pwconv2d_ssize': 3, 'activation_1': 'relu', 'layer_2': 'Conv2D', 'layer_2_conv2d_filters': 4, 'layer_2_conv2d_fsize': 3, 'layer_2_conv2d_ssize': 2, 'activation_2': 'linear', 'output_dropout': 0.46897211540595823, 'lr_inicial': 0.0007412049155097925}. \n"
     ]
    },
    {
     "name": "stdout",
     "output_type": "stream",
     "text": [
      "INFO:tensorflow:Assets written to: saved_models/exp7_no_depth_w_GAP_multiObj/best_model_t792/assets\n"
     ]
    },
    {
     "name": "stderr",
     "output_type": "stream",
     "text": [
      "INFO:tensorflow:Assets written to: saved_models/exp7_no_depth_w_GAP_multiObj/best_model_t792/assets\n",
      "[I 2024-02-02 14:36:11,497] Trial 792 finished with values: [0.7400000095367432, 19879.0] and parameters: {'batchsize': 32, 'brightness_factor': 0.15339004818979726, 'gaussian_noise_factor': 0.05162480858755465, 'translate_factor': 0.162531068745618, 'num_layers': 2, 'output_layer': 'dense', 'layer_0': 'Conv2D', 'layer_0_conv2d_filters': 4, 'layer_0_conv2d_fsize': 5, 'layer_0_conv2d_ssize': 5, 'activation_0': 'tanh', 'layer_1': 'Pointwise2D', 'layer_1_pwconv2d_filters': 4, 'layer_1_pwconv2d_ssize': 4, 'activation_1': 'linear', 'output_dropout': 0.547379925267733, 'lr_inicial': 0.001789319767163782}. \n"
     ]
    },
    {
     "name": "stdout",
     "output_type": "stream",
     "text": [
      "INFO:tensorflow:Assets written to: saved_models/exp7_no_depth_w_GAP_multiObj/best_model_t793/assets\n"
     ]
    },
    {
     "name": "stderr",
     "output_type": "stream",
     "text": [
      "INFO:tensorflow:Assets written to: saved_models/exp7_no_depth_w_GAP_multiObj/best_model_t793/assets\n",
      "[I 2024-02-02 14:36:26,993] Trial 793 finished with values: [0.7400000095367432, 21067.0] and parameters: {'batchsize': 32, 'brightness_factor': 0.1596627709010707, 'gaussian_noise_factor': 0.04934866280623162, 'translate_factor': 0.14898693586300898, 'num_layers': 2, 'output_layer': 'dense', 'layer_0': 'Conv2D', 'layer_0_conv2d_filters': 4, 'layer_0_conv2d_fsize': 5, 'layer_0_conv2d_ssize': 5, 'activation_0': 'linear', 'layer_1': 'Pointwise2D', 'layer_1_pwconv2d_filters': 16, 'layer_1_pwconv2d_ssize': 6, 'activation_1': 'tanh', 'output_dropout': 0.448813980253019, 'lr_inicial': 0.001851956384049342}. \n"
     ]
    },
    {
     "name": "stdout",
     "output_type": "stream",
     "text": [
      "INFO:tensorflow:Assets written to: saved_models/exp7_no_depth_w_GAP_multiObj/best_model_t794/assets\n"
     ]
    },
    {
     "name": "stderr",
     "output_type": "stream",
     "text": [
      "INFO:tensorflow:Assets written to: saved_models/exp7_no_depth_w_GAP_multiObj/best_model_t794/assets\n",
      "[I 2024-02-02 14:36:42,542] Trial 794 finished with values: [0.8199999928474426, 21955.0] and parameters: {'batchsize': 32, 'brightness_factor': 0.1715814392048245, 'gaussian_noise_factor': 0.05856306321434375, 'translate_factor': 0.08142946678024919, 'num_layers': 2, 'output_layer': 'dense', 'layer_0': 'Conv2D', 'layer_0_conv2d_filters': 4, 'layer_0_conv2d_fsize': 5, 'layer_0_conv2d_ssize': 5, 'activation_0': 'tanh', 'layer_1': 'Pointwise2D', 'layer_1_pwconv2d_filters': 20, 'layer_1_pwconv2d_ssize': 8, 'activation_1': 'relu', 'output_dropout': 0.4843646031781619, 'lr_inicial': 0.0019150870456383488}. \n"
     ]
    },
    {
     "name": "stdout",
     "output_type": "stream",
     "text": [
      "INFO:tensorflow:Assets written to: saved_models/exp7_no_depth_w_GAP_multiObj/best_model_t795/assets\n"
     ]
    },
    {
     "name": "stderr",
     "output_type": "stream",
     "text": [
      "INFO:tensorflow:Assets written to: saved_models/exp7_no_depth_w_GAP_multiObj/best_model_t795/assets\n",
      "[I 2024-02-02 14:36:58,792] Trial 795 finished with values: [0.7200000286102295, 2965.0] and parameters: {'batchsize': 32, 'brightness_factor': 0.15711028990942014, 'gaussian_noise_factor': 0.06360470975985286, 'translate_factor': 0.160557609644446, 'num_layers': 3, 'output_layer': 'pooling', 'layer_0': 'Conv2D', 'layer_0_conv2d_filters': 4, 'layer_0_conv2d_fsize': 3, 'layer_0_conv2d_ssize': 4, 'activation_0': 'tanh', 'layer_1': 'Pointwise2D', 'layer_1_pwconv2d_filters': 12, 'layer_1_pwconv2d_ssize': 2, 'activation_1': 'relu', 'layer_2': 'Pointwise2D', 'layer_2_pwconv2d_filters': 12, 'layer_2_pwconv2d_ssize': 4, 'activation_2': 'relu', 'pre_GAP_layer_fsize': 4, 'pre_GAP_layer_act': 'linear', 'lr_inicial': 0.0017490097142627407}. \n"
     ]
    },
    {
     "name": "stdout",
     "output_type": "stream",
     "text": [
      "INFO:tensorflow:Assets written to: saved_models/exp7_no_depth_w_GAP_multiObj/best_model_t796/assets\n"
     ]
    },
    {
     "name": "stderr",
     "output_type": "stream",
     "text": [
      "INFO:tensorflow:Assets written to: saved_models/exp7_no_depth_w_GAP_multiObj/best_model_t796/assets\n",
      "[I 2024-02-02 14:37:14,039] Trial 796 finished with values: [0.47999998927116394, 2661.0] and parameters: {'batchsize': 32, 'brightness_factor': 0.15198302580898407, 'gaussian_noise_factor': 0.04239505189012475, 'translate_factor': 0.05168815637862138, 'num_layers': 2, 'output_layer': 'pooling', 'layer_0': 'Pointwise2D', 'layer_0_pwconv2d_filters': 16, 'layer_0_pwconv2d_ssize': 4, 'activation_0': 'linear', 'layer_1': 'Pointwise2D', 'layer_1_pwconv2d_filters': 8, 'layer_1_pwconv2d_ssize': 5, 'activation_1': 'relu', 'pre_GAP_layer_fsize': 5, 'pre_GAP_layer_act': 'tanh', 'lr_inicial': 0.001653226083737508}. \n"
     ]
    },
    {
     "name": "stdout",
     "output_type": "stream",
     "text": [
      "INFO:tensorflow:Assets written to: saved_models/exp7_no_depth_w_GAP_multiObj/best_model_t797/assets\n"
     ]
    },
    {
     "name": "stderr",
     "output_type": "stream",
     "text": [
      "INFO:tensorflow:Assets written to: saved_models/exp7_no_depth_w_GAP_multiObj/best_model_t797/assets\n",
      "[I 2024-02-02 14:37:28,071] Trial 797 finished with values: [0.699999988079071, 17234.0] and parameters: {'batchsize': 32, 'brightness_factor': 0.1644453848699117, 'gaussian_noise_factor': 0.054450827026200764, 'translate_factor': 0.16982528886145382, 'num_layers': 1, 'output_layer': 'dense', 'layer_0': 'Conv2D', 'layer_0_conv2d_filters': 4, 'layer_0_conv2d_fsize': 5, 'layer_0_conv2d_ssize': 10, 'activation_0': 'tanh', 'output_dropout': 0.5388059205502795, 'lr_inicial': 0.001781065671818163}. \n"
     ]
    },
    {
     "name": "stdout",
     "output_type": "stream",
     "text": [
      "INFO:tensorflow:Assets written to: saved_models/exp7_no_depth_w_GAP_multiObj/best_model_t798/assets\n"
     ]
    },
    {
     "name": "stderr",
     "output_type": "stream",
     "text": [
      "INFO:tensorflow:Assets written to: saved_models/exp7_no_depth_w_GAP_multiObj/best_model_t798/assets\n",
      "[I 2024-02-02 14:37:43,296] Trial 798 finished with values: [0.6399999856948853, 3461.0] and parameters: {'batchsize': 32, 'brightness_factor': 0.16008672788094688, 'gaussian_noise_factor': 0.1418330132349009, 'translate_factor': 0.0766383814323583, 'num_layers': 2, 'output_layer': 'pooling', 'layer_0': 'Conv2D', 'layer_0_conv2d_filters': 4, 'layer_0_conv2d_fsize': 5, 'layer_0_conv2d_ssize': 5, 'activation_0': 'tanh', 'layer_1': 'Pointwise2D', 'layer_1_pwconv2d_filters': 16, 'layer_1_pwconv2d_ssize': 8, 'activation_1': 'relu', 'pre_GAP_layer_fsize': 4, 'pre_GAP_layer_act': 'linear', 'lr_inicial': 0.00031354869484384986}. \n"
     ]
    },
    {
     "name": "stdout",
     "output_type": "stream",
     "text": [
      "INFO:tensorflow:Assets written to: saved_models/exp7_no_depth_w_GAP_multiObj/best_model_t799/assets\n"
     ]
    },
    {
     "name": "stderr",
     "output_type": "stream",
     "text": [
      "INFO:tensorflow:Assets written to: saved_models/exp7_no_depth_w_GAP_multiObj/best_model_t799/assets\n",
      "[I 2024-02-02 14:37:58,225] Trial 799 finished with values: [0.8199999928474426, 20219.0] and parameters: {'batchsize': 32, 'brightness_factor': 0.155412149070823, 'gaussian_noise_factor': 0.04793704129341838, 'translate_factor': 0.17506137077874956, 'num_layers': 2, 'output_layer': 'dense', 'layer_0': 'Conv2D', 'layer_0_conv2d_filters': 4, 'layer_0_conv2d_fsize': 4, 'layer_0_conv2d_ssize': 5, 'activation_0': 'linear', 'layer_1': 'Pointwise2D', 'layer_1_pwconv2d_filters': 20, 'layer_1_pwconv2d_ssize': 4, 'activation_1': 'relu', 'output_dropout': 0.3982019807393252, 'lr_inicial': 0.0017107816087214276}. \n"
     ]
    },
    {
     "data": {
      "text/plain": [
       "['saved_studies/2024:02:02:14:37:58.pkl']"
      ]
     },
     "execution_count": 6,
     "metadata": {},
     "output_type": "execute_result"
    }
   ],
   "source": [
    "EXP_ID = \"exp7_no_depth_w_GAP_multiObj\"\n",
    "keras.utils.disable_interactive_logging()\n",
    "\n",
    "# start searching for a model\n",
    "study = search()\n",
    "\n",
    "# save the study\n",
    "now = datetime.now()\n",
    "joblib.dump(study, \"saved_studies/\" + now.strftime(\"%Y:%m:%d:%H:%M:%S\") + \".pkl\")"
   ]
  },
  {
   "cell_type": "markdown",
   "metadata": {},
   "source": [
    "# visualizations"
   ]
  },
  {
   "cell_type": "code",
   "execution_count": 12,
   "metadata": {},
   "outputs": [
    {
     "name": "stdout",
     "output_type": "stream",
     "text": [
      "Number of finished trials:  800\n",
      "Best trial id: 61\n",
      "  Value:  [0.699999988079071, 757.0]\n",
      "  Params: \n",
      "    batchsize: 32\n",
      "    brightness_factor: 0.00799756351779848\n",
      "    gaussian_noise_factor: 0.1102945836448109\n",
      "    translate_factor: 0.1301138361256372\n",
      "    num_layers: 1\n",
      "    output_layer: pooling\n",
      "    layer_0: Conv2D\n",
      "    layer_0_conv2d_filters: 4\n",
      "    layer_0_conv2d_fsize: 4\n",
      "    layer_0_conv2d_ssize: 5\n",
      "    activation_0: tanh\n",
      "    pre_GAP_layer_fsize: 3\n",
      "    pre_GAP_layer_act: relu\n",
      "    lr_inicial: 0.00149283809509308\n",
      "Best trial id: 154\n",
      "  Value:  [0.6200000047683716, 589.0]\n",
      "  Params: \n",
      "    batchsize: 32\n",
      "    brightness_factor: 0.06853943597312165\n",
      "    gaussian_noise_factor: 0.03364490222343767\n",
      "    translate_factor: 0.16287056293797378\n",
      "    num_layers: 1\n",
      "    output_layer: pooling\n",
      "    layer_0: Conv2D\n",
      "    layer_0_conv2d_filters: 4\n",
      "    layer_0_conv2d_fsize: 3\n",
      "    layer_0_conv2d_ssize: 14\n",
      "    activation_0: tanh\n",
      "    pre_GAP_layer_fsize: 3\n",
      "    pre_GAP_layer_act: relu\n",
      "    lr_inicial: 0.0015473652021179673\n",
      "Best trial id: 166\n",
      "  Value:  [0.5600000023841858, 397.0]\n",
      "  Params: \n",
      "    batchsize: 32\n",
      "    brightness_factor: 0.1558162222600031\n",
      "    gaussian_noise_factor: 0.03870054385216477\n",
      "    translate_factor: 0.1680374893018587\n",
      "    num_layers: 1\n",
      "    output_layer: pooling\n",
      "    layer_0: Pointwise2D\n",
      "    layer_0_pwconv2d_filters: 4\n",
      "    layer_0_pwconv2d_ssize: 10\n",
      "    activation_0: tanh\n",
      "    pre_GAP_layer_fsize: 3\n",
      "    pre_GAP_layer_act: linear\n",
      "    lr_inicial: 0.001220267072259485\n",
      "Best trial id: 167\n",
      "  Value:  [0.5600000023841858, 397.0]\n",
      "  Params: \n",
      "    batchsize: 32\n",
      "    brightness_factor: 0.15855952299880727\n",
      "    gaussian_noise_factor: 0.03803632192677203\n",
      "    translate_factor: 0.1652503622703608\n",
      "    num_layers: 1\n",
      "    output_layer: pooling\n",
      "    layer_0: Pointwise2D\n",
      "    layer_0_pwconv2d_filters: 4\n",
      "    layer_0_pwconv2d_ssize: 10\n",
      "    activation_0: tanh\n",
      "    pre_GAP_layer_fsize: 3\n",
      "    pre_GAP_layer_act: linear\n",
      "    lr_inicial: 0.001212931385017907\n",
      "Best trial id: 181\n",
      "  Value:  [0.6200000047683716, 589.0]\n",
      "  Params: \n",
      "    batchsize: 32\n",
      "    brightness_factor: 0.12242363928459127\n",
      "    gaussian_noise_factor: 0.028210929799954355\n",
      "    translate_factor: 0.127315407283203\n",
      "    num_layers: 1\n",
      "    output_layer: pooling\n",
      "    layer_0: Conv2D\n",
      "    layer_0_conv2d_filters: 4\n",
      "    layer_0_conv2d_fsize: 3\n",
      "    layer_0_conv2d_ssize: 9\n",
      "    activation_0: linear\n",
      "    pre_GAP_layer_fsize: 3\n",
      "    pre_GAP_layer_act: relu\n",
      "    lr_inicial: 0.001444416133846353\n",
      "Best trial id: 196\n",
      "  Value:  [0.9399999976158142, 20980.0]\n",
      "  Params: \n",
      "    batchsize: 32\n",
      "    brightness_factor: 0.16118583968468672\n",
      "    gaussian_noise_factor: 0.0559278738671822\n",
      "    translate_factor: 0.06801591849263956\n",
      "    num_layers: 2\n",
      "    output_layer: dense\n",
      "    layer_0: Conv2D\n",
      "    layer_0_conv2d_filters: 4\n",
      "    layer_0_conv2d_fsize: 5\n",
      "    layer_0_conv2d_ssize: 4\n",
      "    activation_0: tanh\n",
      "    layer_1: Conv2D\n",
      "    layer_1_conv2d_filters: 28\n",
      "    layer_1_conv2d_fsize: 3\n",
      "    layer_1_conv2d_ssize: 4\n",
      "    activation_1: relu\n",
      "    output_dropout: 0.488971259960289\n",
      "    lr_inicial: 0.001787325036542011\n",
      "Best trial id: 433\n",
      "  Value:  [0.8999999761581421, 9413.0]\n",
      "  Params: \n",
      "    batchsize: 32\n",
      "    brightness_factor: 0.12115673946991046\n",
      "    gaussian_noise_factor: 0.02519219294377687\n",
      "    translate_factor: 0.18051170944703326\n",
      "    num_layers: 3\n",
      "    output_layer: pooling\n",
      "    layer_0: Conv2D\n",
      "    layer_0_conv2d_filters: 4\n",
      "    layer_0_conv2d_fsize: 4\n",
      "    layer_0_conv2d_ssize: 2\n",
      "    activation_0: relu\n",
      "    layer_1: Conv2D\n",
      "    layer_1_conv2d_filters: 12\n",
      "    layer_1_conv2d_fsize: 5\n",
      "    layer_1_conv2d_ssize: 4\n",
      "    activation_1: relu\n",
      "    layer_2: Conv2D\n",
      "    layer_2_conv2d_filters: 8\n",
      "    layer_2_conv2d_fsize: 3\n",
      "    layer_2_conv2d_ssize: 3\n",
      "    activation_2: tanh\n",
      "    pre_GAP_layer_fsize: 3\n",
      "    pre_GAP_layer_act: relu\n",
      "    lr_inicial: 0.0015317067667799437\n",
      "Best trial id: 617\n",
      "  Value:  [0.8799999952316284, 7725.0]\n",
      "  Params: \n",
      "    batchsize: 32\n",
      "    brightness_factor: 0.14654605210326505\n",
      "    gaussian_noise_factor: 0.0533903276355356\n",
      "    translate_factor: 0.08891190810606427\n",
      "    num_layers: 3\n",
      "    output_layer: pooling\n",
      "    layer_0: Conv2D\n",
      "    layer_0_conv2d_filters: 4\n",
      "    layer_0_conv2d_fsize: 4\n",
      "    layer_0_conv2d_ssize: 3\n",
      "    activation_0: tanh\n",
      "    layer_1: Conv2D\n",
      "    layer_1_conv2d_filters: 24\n",
      "    layer_1_conv2d_fsize: 3\n",
      "    layer_1_conv2d_ssize: 4\n",
      "    activation_1: relu\n",
      "    layer_2: Conv2D\n",
      "    layer_2_conv2d_filters: 4\n",
      "    layer_2_conv2d_fsize: 3\n",
      "    layer_2_conv2d_ssize: 4\n",
      "    activation_2: linear\n",
      "    pre_GAP_layer_fsize: 3\n",
      "    pre_GAP_layer_act: relu\n",
      "    lr_inicial: 0.0017665928516202294\n",
      "Best trial id: 719\n",
      "  Value:  [0.8600000143051147, 1693.0]\n",
      "  Params: \n",
      "    batchsize: 32\n",
      "    brightness_factor: 0.15490522700871479\n",
      "    gaussian_noise_factor: 0.05136801758694156\n",
      "    translate_factor: 0.16895762455061555\n",
      "    num_layers: 2\n",
      "    output_layer: pooling\n",
      "    layer_0: Conv2D\n",
      "    layer_0_conv2d_filters: 4\n",
      "    layer_0_conv2d_fsize: 4\n",
      "    layer_0_conv2d_ssize: 5\n",
      "    activation_0: linear\n",
      "    layer_1: Pointwise2D\n",
      "    layer_1_pwconv2d_filters: 12\n",
      "    layer_1_pwconv2d_ssize: 3\n",
      "    activation_1: relu\n",
      "    pre_GAP_layer_fsize: 3\n",
      "    pre_GAP_layer_act: relu\n",
      "    lr_inicial: 0.001215697993203115\n"
     ]
    }
   ],
   "source": [
    "print(\"Number of finished trials: \", len(study.trials))\n",
    "\n",
    "trials = study.best_trials\n",
    "for trial in trials:\n",
    "    print(f\"Best trial id: {trial._trial_id}\")\n",
    "    \n",
    "    print(\"  Value: \", trial.values)\n",
    "\n",
    "    print(\"  Params: \")\n",
    "    for key, value in trial.params.items():\n",
    "        print(\"    {}: {}\".format(key, value))"
   ]
  },
  {
   "cell_type": "code",
   "execution_count": 13,
   "metadata": {},
   "outputs": [
    {
     "data": {
      "application/vnd.plotly.v1+json": {
       "config": {
        "plotlyServerURL": "https://plot.ly"
       },
       "data": [
        {
         "hovertemplate": "%{text}<extra>Trial</extra>",
         "marker": {
          "color": [
           0,
           1,
           2,
           3,
           4,
           5,
           6,
           7,
           8,
           9,
           10,
           11,
           12,
           13,
           14,
           15,
           16,
           17,
           18,
           19,
           20,
           21,
           22,
           23,
           24,
           25,
           26,
           27,
           28,
           29,
           30,
           31,
           32,
           33,
           34,
           35,
           36,
           37,
           38,
           39,
           40,
           41,
           42,
           43,
           44,
           45,
           46,
           47,
           48,
           49,
           50,
           51,
           52,
           53,
           54,
           55,
           56,
           57,
           58,
           59,
           60,
           62,
           63,
           64,
           65,
           66,
           67,
           68,
           69,
           70,
           71,
           72,
           73,
           74,
           75,
           76,
           77,
           78,
           79,
           80,
           81,
           82,
           83,
           84,
           85,
           86,
           87,
           88,
           89,
           90,
           91,
           92,
           93,
           94,
           95,
           96,
           97,
           98,
           99,
           100,
           101,
           102,
           103,
           104,
           105,
           106,
           107,
           108,
           109,
           110,
           111,
           112,
           113,
           114,
           115,
           116,
           117,
           118,
           119,
           120,
           121,
           122,
           123,
           124,
           125,
           126,
           127,
           128,
           129,
           130,
           131,
           132,
           133,
           134,
           135,
           136,
           137,
           138,
           139,
           140,
           141,
           142,
           143,
           144,
           145,
           146,
           147,
           148,
           149,
           150,
           151,
           152,
           153,
           155,
           156,
           157,
           158,
           159,
           160,
           161,
           162,
           163,
           164,
           165,
           168,
           169,
           170,
           171,
           172,
           173,
           174,
           175,
           176,
           177,
           178,
           179,
           180,
           182,
           183,
           184,
           185,
           186,
           187,
           188,
           189,
           190,
           191,
           192,
           193,
           194,
           195,
           197,
           198,
           199,
           200,
           201,
           202,
           203,
           204,
           205,
           206,
           207,
           208,
           209,
           210,
           211,
           212,
           213,
           214,
           215,
           216,
           217,
           218,
           219,
           220,
           221,
           222,
           223,
           224,
           225,
           226,
           227,
           228,
           229,
           230,
           231,
           232,
           233,
           234,
           235,
           236,
           237,
           238,
           239,
           240,
           241,
           242,
           243,
           244,
           245,
           246,
           247,
           248,
           249,
           250,
           251,
           252,
           253,
           254,
           255,
           256,
           257,
           258,
           259,
           260,
           261,
           262,
           263,
           264,
           265,
           266,
           267,
           268,
           269,
           270,
           271,
           272,
           273,
           274,
           275,
           276,
           277,
           278,
           279,
           280,
           281,
           282,
           283,
           284,
           285,
           286,
           287,
           288,
           289,
           290,
           291,
           292,
           293,
           294,
           295,
           296,
           297,
           298,
           299,
           300,
           301,
           302,
           303,
           304,
           305,
           306,
           307,
           308,
           309,
           310,
           311,
           312,
           313,
           314,
           315,
           316,
           317,
           318,
           319,
           320,
           321,
           322,
           323,
           324,
           325,
           326,
           327,
           328,
           329,
           330,
           331,
           332,
           333,
           334,
           335,
           336,
           337,
           338,
           339,
           340,
           341,
           342,
           343,
           344,
           345,
           346,
           347,
           348,
           349,
           350,
           351,
           352,
           353,
           354,
           355,
           356,
           357,
           358,
           359,
           360,
           361,
           362,
           363,
           364,
           365,
           366,
           367,
           368,
           369,
           370,
           371,
           372,
           373,
           374,
           375,
           376,
           377,
           378,
           379,
           380,
           381,
           382,
           383,
           384,
           385,
           386,
           387,
           388,
           389,
           390,
           391,
           392,
           393,
           394,
           395,
           396,
           397,
           398,
           399,
           400,
           401,
           402,
           403,
           404,
           405,
           406,
           407,
           408,
           409,
           410,
           411,
           412,
           413,
           414,
           415,
           416,
           417,
           418,
           419,
           420,
           421,
           422,
           423,
           424,
           425,
           426,
           427,
           428,
           429,
           430,
           431,
           432,
           434,
           435,
           436,
           437,
           438,
           439,
           440,
           441,
           442,
           443,
           444,
           445,
           446,
           447,
           448,
           449,
           450,
           451,
           452,
           453,
           454,
           455,
           456,
           457,
           458,
           459,
           460,
           461,
           462,
           463,
           464,
           465,
           466,
           467,
           468,
           469,
           470,
           471,
           472,
           473,
           474,
           475,
           476,
           477,
           478,
           479,
           480,
           481,
           482,
           483,
           484,
           485,
           486,
           487,
           488,
           489,
           490,
           491,
           492,
           493,
           494,
           495,
           496,
           497,
           498,
           499,
           500,
           501,
           502,
           503,
           504,
           505,
           506,
           507,
           508,
           509,
           510,
           511,
           512,
           513,
           514,
           515,
           516,
           517,
           518,
           519,
           520,
           521,
           522,
           523,
           524,
           525,
           526,
           527,
           528,
           529,
           530,
           531,
           532,
           533,
           534,
           535,
           536,
           537,
           538,
           539,
           540,
           541,
           542,
           543,
           544,
           545,
           546,
           547,
           548,
           549,
           550,
           551,
           552,
           553,
           554,
           555,
           556,
           557,
           558,
           559,
           560,
           561,
           562,
           563,
           564,
           565,
           566,
           567,
           568,
           569,
           570,
           571,
           572,
           573,
           574,
           575,
           576,
           577,
           578,
           579,
           580,
           581,
           582,
           583,
           584,
           585,
           586,
           587,
           588,
           589,
           590,
           591,
           592,
           593,
           594,
           595,
           596,
           597,
           598,
           599,
           600,
           601,
           602,
           603,
           604,
           605,
           606,
           607,
           608,
           609,
           610,
           611,
           612,
           613,
           614,
           615,
           616,
           618,
           619,
           620,
           621,
           622,
           623,
           624,
           625,
           626,
           627,
           628,
           629,
           630,
           631,
           632,
           633,
           634,
           635,
           636,
           637,
           638,
           639,
           640,
           641,
           642,
           643,
           644,
           645,
           646,
           647,
           648,
           649,
           650,
           651,
           652,
           653,
           654,
           655,
           656,
           657,
           658,
           659,
           660,
           661,
           662,
           663,
           664,
           665,
           666,
           667,
           668,
           669,
           670,
           671,
           672,
           673,
           674,
           675,
           676,
           677,
           678,
           679,
           680,
           681,
           682,
           683,
           684,
           685,
           686,
           687,
           688,
           689,
           690,
           691,
           692,
           693,
           694,
           695,
           696,
           697,
           698,
           699,
           700,
           701,
           702,
           703,
           704,
           705,
           706,
           707,
           708,
           709,
           710,
           711,
           712,
           713,
           714,
           715,
           716,
           717,
           718,
           720,
           721,
           722,
           723,
           724,
           725,
           726,
           727,
           728,
           729,
           730,
           731,
           732,
           733,
           734,
           735,
           736,
           737,
           738,
           739,
           740,
           741,
           742,
           743,
           744,
           745,
           746,
           747,
           748,
           749,
           750,
           751,
           752,
           753,
           754,
           755,
           756,
           757,
           758,
           759,
           760,
           761,
           762,
           763,
           764,
           765,
           766,
           767,
           768,
           769,
           770,
           771,
           772,
           773,
           774,
           775,
           776,
           777,
           778,
           779,
           780,
           781,
           782,
           783,
           784,
           785,
           786,
           787,
           788,
           789,
           790,
           791,
           792,
           793,
           794,
           795,
           796,
           797,
           798,
           799
          ],
          "colorbar": {
           "title": {
            "text": "Trial"
           }
          },
          "colorscale": [
           [
            0,
            "rgb(247,251,255)"
           ],
           [
            0.125,
            "rgb(222,235,247)"
           ],
           [
            0.25,
            "rgb(198,219,239)"
           ],
           [
            0.375,
            "rgb(158,202,225)"
           ],
           [
            0.5,
            "rgb(107,174,214)"
           ],
           [
            0.625,
            "rgb(66,146,198)"
           ],
           [
            0.75,
            "rgb(33,113,181)"
           ],
           [
            0.875,
            "rgb(8,81,156)"
           ],
           [
            1,
            "rgb(8,48,107)"
           ]
          ],
          "line": {
           "color": "Grey",
           "width": 0.5
          }
         },
         "mode": "markers",
         "showlegend": false,
         "text": [
          "{<br>  \"number\": 0,<br>  \"values\": [<br>    0.7200000286102295,<br>    41791.0<br>  ],<br>  \"params\": {<br>    \"batchsize\": 128,<br>    \"brightness_factor\": 0.032453774127371514,<br>    \"gaussian_noise_factor\": 0.09245857390513315,<br>    \"translate_factor\": 0.1013108367143905,<br>    \"num_layers\": 3,<br>    \"output_layer\": \"dense\",<br>    \"layer_0\": \"Pointwise2D\",<br>    \"layer_0_pwconv2d_filters\": 28,<br>    \"layer_0_pwconv2d_ssize\": 4,<br>    \"activation_0\": \"tanh\",<br>    \"layer_1\": \"Conv2D\",<br>    \"layer_1_conv2d_filters\": 28,<br>    \"layer_1_conv2d_fsize\": 5,<br>    \"layer_1_conv2d_ssize\": 2,<br>    \"activation_1\": \"relu\",<br>    \"layer_2\": \"Conv2D\",<br>    \"layer_2_conv2d_filters\": 4,<br>    \"layer_2_conv2d_fsize\": 4,<br>    \"layer_2_conv2d_ssize\": 4,<br>    \"activation_2\": \"tanh\",<br>    \"output_dropout\": 0.41682254745273456,<br>    \"lr_inicial\": 0.0014225463269302522<br>  }<br>}",
          "{<br>  \"number\": 1,<br>  \"values\": [<br>    0.7799999713897705,<br>    21935.0<br>  ],<br>  \"params\": {<br>    \"batchsize\": 32,<br>    \"brightness_factor\": 0.09458080475020923,<br>    \"gaussian_noise_factor\": 0.09110025408769168,<br>    \"translate_factor\": 0.015325766729003765,<br>    \"num_layers\": 3,<br>    \"output_layer\": \"dense\",<br>    \"layer_0\": \"Pointwise2D\",<br>    \"layer_0_pwconv2d_filters\": 28,<br>    \"layer_0_pwconv2d_ssize\": 4,<br>    \"activation_0\": \"relu\",<br>    \"layer_1\": \"Pointwise2D\",<br>    \"layer_1_pwconv2d_filters\": 12,<br>    \"layer_1_pwconv2d_ssize\": 2,<br>    \"activation_1\": \"relu\",<br>    \"layer_2\": \"Pointwise2D\",<br>    \"layer_2_pwconv2d_filters\": 32,<br>    \"layer_2_pwconv2d_ssize\": 3,<br>    \"activation_2\": \"linear\",<br>    \"output_dropout\": 0.5885281579854502,<br>    \"lr_inicial\": 0.0007325890947406507<br>  }<br>}",
          "{<br>  \"number\": 2,<br>  \"values\": [<br>    0.46000000834465027,<br>    31493.0<br>  ],<br>  \"params\": {<br>    \"batchsize\": 32,<br>    \"brightness_factor\": 0.16502900051298963,<br>    \"gaussian_noise_factor\": 0.11957589820862123,<br>    \"translate_factor\": 0.1910913326705606,<br>    \"num_layers\": 2,<br>    \"output_layer\": \"pooling\",<br>    \"layer_0\": \"Pointwise2D\",<br>    \"layer_0_pwconv2d_filters\": 28,<br>    \"layer_0_pwconv2d_ssize\": 6,<br>    \"activation_0\": \"tanh\",<br>    \"layer_1\": \"Conv2D\",<br>    \"layer_1_conv2d_filters\": 16,<br>    \"layer_1_conv2d_fsize\": 4,<br>    \"layer_1_conv2d_ssize\": 7,<br>    \"activation_1\": \"linear\",<br>    \"pre_GAP_layer_fsize\": 4,<br>    \"pre_GAP_layer_act\": \"tanh\",<br>    \"lr_inicial\": 0.0013401668582897085<br>  }<br>}",
          "{<br>  \"number\": 3,<br>  \"values\": [<br>    0.6800000071525574,<br>    19801.0<br>  ],<br>  \"params\": {<br>    \"batchsize\": 128,<br>    \"brightness_factor\": 0.09812661594324903,<br>    \"gaussian_noise_factor\": 0.025903319965558547,<br>    \"translate_factor\": 0.10984547091637727,<br>    \"num_layers\": 2,<br>    \"output_layer\": \"dense\",<br>    \"layer_0\": \"Pointwise2D\",<br>    \"layer_0_pwconv2d_filters\": 20,<br>    \"layer_0_pwconv2d_ssize\": 6,<br>    \"activation_0\": \"linear\",<br>    \"layer_1\": \"Pointwise2D\",<br>    \"layer_1_pwconv2d_filters\": 12,<br>    \"layer_1_pwconv2d_ssize\": 2,<br>    \"activation_1\": \"relu\",<br>    \"output_dropout\": 0.526619289446357,<br>    \"lr_inicial\": 0.00030279653824296396<br>  }<br>}",
          "{<br>  \"number\": 4,<br>  \"values\": [<br>    0.47999998927116394,<br>    4037.0<br>  ],<br>  \"params\": {<br>    \"batchsize\": 32,<br>    \"brightness_factor\": 0.0405458871573807,<br>    \"gaussian_noise_factor\": 0.10597164229029175,<br>    \"translate_factor\": 0.16822078289704262,<br>    \"num_layers\": 1,<br>    \"output_layer\": \"pooling\",<br>    \"layer_0\": \"Pointwise2D\",<br>    \"layer_0_pwconv2d_filters\": 24,<br>    \"layer_0_pwconv2d_ssize\": 6,<br>    \"activation_0\": \"relu\",<br>    \"pre_GAP_layer_fsize\": 4,<br>    \"pre_GAP_layer_act\": \"tanh\",<br>    \"lr_inicial\": 0.0013007652206003387<br>  }<br>}",
          "{<br>  \"number\": 5,<br>  \"values\": [<br>    0.7200000286102295,<br>    20223.0<br>  ],<br>  \"params\": {<br>    \"batchsize\": 128,<br>    \"brightness_factor\": 0.1911008053726167,<br>    \"gaussian_noise_factor\": 0.02989099481524562,<br>    \"translate_factor\": 0.016331851696303114,<br>    \"num_layers\": 2,<br>    \"output_layer\": \"dense\",<br>    \"layer_0\": \"Pointwise2D\",<br>    \"layer_0_pwconv2d_filters\": 8,<br>    \"layer_0_pwconv2d_ssize\": 5,<br>    \"activation_0\": \"tanh\",<br>    \"layer_1\": \"Pointwise2D\",<br>    \"layer_1_pwconv2d_filters\": 4,<br>    \"layer_1_pwconv2d_ssize\": 7,<br>    \"activation_1\": \"linear\",<br>    \"output_dropout\": 0.44114468752176494,<br>    \"lr_inicial\": 0.0007312577344025567<br>  }<br>}",
          "{<br>  \"number\": 6,<br>  \"values\": [<br>    0.6200000047683716,<br>    18197.0<br>  ],<br>  \"params\": {<br>    \"batchsize\": 96,<br>    \"brightness_factor\": 0.16213188221274671,<br>    \"gaussian_noise_factor\": 0.19677003185388875,<br>    \"translate_factor\": 0.015332783629991575,<br>    \"num_layers\": 3,<br>    \"output_layer\": \"pooling\",<br>    \"layer_0\": \"Conv2D\",<br>    \"layer_0_conv2d_filters\": 8,<br>    \"layer_0_conv2d_fsize\": 4,<br>    \"layer_0_conv2d_ssize\": 5,<br>    \"activation_0\": \"linear\",<br>    \"layer_1\": \"Conv2D\",<br>    \"layer_1_conv2d_filters\": 8,<br>    \"layer_1_conv2d_fsize\": 4,<br>    \"layer_1_conv2d_ssize\": 5,<br>    \"activation_1\": \"tanh\",<br>    \"layer_2\": \"Conv2D\",<br>    \"layer_2_conv2d_filters\": 24,<br>    \"layer_2_conv2d_fsize\": 4,<br>    \"layer_2_conv2d_ssize\": 4,<br>    \"activation_2\": \"relu\",<br>    \"pre_GAP_layer_fsize\": 5,<br>    \"pre_GAP_layer_act\": \"relu\",<br>    \"lr_inicial\": 0.000334661211640028<br>  }<br>}",
          "{<br>  \"number\": 7,<br>  \"values\": [<br>    0.47999998927116394,<br>    7093.0<br>  ],<br>  \"params\": {<br>    \"batchsize\": 64,<br>    \"brightness_factor\": 0.08355294308477071,<br>    \"gaussian_noise_factor\": 0.18120233031967237,<br>    \"translate_factor\": 0.17677855554928434,<br>    \"num_layers\": 3,<br>    \"output_layer\": \"pooling\",<br>    \"layer_0\": \"Pointwise2D\",<br>    \"layer_0_pwconv2d_filters\": 28,<br>    \"layer_0_pwconv2d_ssize\": 3,<br>    \"activation_0\": \"tanh\",<br>    \"layer_1\": \"Pointwise2D\",<br>    \"layer_1_pwconv2d_filters\": 24,<br>    \"layer_1_pwconv2d_ssize\": 3,<br>    \"activation_1\": \"relu\",<br>    \"layer_2\": \"Pointwise2D\",<br>    \"layer_2_pwconv2d_filters\": 16,<br>    \"layer_2_pwconv2d_ssize\": 3,<br>    \"activation_2\": \"relu\",<br>    \"pre_GAP_layer_fsize\": 4,<br>    \"pre_GAP_layer_act\": \"tanh\",<br>    \"lr_inicial\": 0.0003608083896696099<br>  }<br>}",
          "{<br>  \"number\": 8,<br>  \"values\": [<br>    0.6600000262260437,<br>    10181.0<br>  ],<br>  \"params\": {<br>    \"batchsize\": 64,<br>    \"brightness_factor\": 0.16768310063254616,<br>    \"gaussian_noise_factor\": 0.008492296776677932,<br>    \"translate_factor\": 0.0325413946076283,<br>    \"num_layers\": 2,<br>    \"output_layer\": \"pooling\",<br>    \"layer_0\": \"Conv2D\",<br>    \"layer_0_conv2d_filters\": 32,<br>    \"layer_0_conv2d_fsize\": 4,<br>    \"layer_0_conv2d_ssize\": 4,<br>    \"activation_0\": \"linear\",<br>    \"layer_1\": \"Pointwise2D\",<br>    \"layer_1_pwconv2d_filters\": 32,<br>    \"layer_1_pwconv2d_ssize\": 7,<br>    \"activation_1\": \"tanh\",<br>    \"pre_GAP_layer_fsize\": 3,<br>    \"pre_GAP_layer_act\": \"relu\",<br>    \"lr_inicial\": 0.0019884733273859622<br>  }<br>}",
          "{<br>  \"number\": 9,<br>  \"values\": [<br>    0.8199999928474426,<br>    24635.0<br>  ],<br>  \"params\": {<br>    \"batchsize\": 32,<br>    \"brightness_factor\": 0.1825487342034801,<br>    \"gaussian_noise_factor\": 0.008948722265973364,<br>    \"translate_factor\": 0.04093568011628686,<br>    \"num_layers\": 2,<br>    \"output_layer\": \"dense\",<br>    \"layer_0\": \"Conv2D\",<br>    \"layer_0_conv2d_filters\": 8,<br>    \"layer_0_conv2d_fsize\": 4,<br>    \"layer_0_conv2d_ssize\": 5,<br>    \"activation_0\": \"tanh\",<br>    \"layer_1\": \"Conv2D\",<br>    \"layer_1_conv2d_filters\": 28,<br>    \"layer_1_conv2d_fsize\": 3,<br>    \"layer_1_conv2d_ssize\": 7,<br>    \"activation_1\": \"relu\",<br>    \"output_dropout\": 0.44487739876617316,<br>    \"lr_inicial\": 0.0005366402734277749<br>  }<br>}",
          "{<br>  \"number\": 10,<br>  \"values\": [<br>    0.6399999856948853,<br>    4677.0<br>  ],<br>  \"params\": {<br>    \"batchsize\": 64,<br>    \"brightness_factor\": 0.1357346109772934,<br>    \"gaussian_noise_factor\": 0.05848711630208519,<br>    \"translate_factor\": 0.06953833163991878,<br>    \"num_layers\": 1,<br>    \"output_layer\": \"pooling\",<br>    \"layer_0\": \"Conv2D\",<br>    \"layer_0_conv2d_filters\": 32,<br>    \"layer_0_conv2d_fsize\": 3,<br>    \"layer_0_conv2d_ssize\": 16,<br>    \"activation_0\": \"linear\",<br>    \"pre_GAP_layer_fsize\": 3,<br>    \"pre_GAP_layer_act\": \"relu\",<br>    \"lr_inicial\": 0.001984473726570118<br>  }<br>}",
          "{<br>  \"number\": 11,<br>  \"values\": [<br>    0.6399999856948853,<br>    4677.0<br>  ],<br>  \"params\": {<br>    \"batchsize\": 64,<br>    \"brightness_factor\": 0.12745102354172846,<br>    \"gaussian_noise_factor\": 0.066376341252566,<br>    \"translate_factor\": 0.06302622995224555,<br>    \"num_layers\": 1,<br>    \"output_layer\": \"pooling\",<br>    \"layer_0\": \"Conv2D\",<br>    \"layer_0_conv2d_filters\": 32,<br>    \"layer_0_conv2d_fsize\": 3,<br>    \"layer_0_conv2d_ssize\": 16,<br>    \"activation_0\": \"relu\",<br>    \"pre_GAP_layer_fsize\": 3,<br>    \"pre_GAP_layer_act\": \"linear\",<br>    \"lr_inicial\": 0.0008517618526454056<br>  }<br>}",
          "{<br>  \"number\": 12,<br>  \"values\": [<br>    0.6200000047683716,<br>    2925.0<br>  ],<br>  \"params\": {<br>    \"batchsize\": 96,<br>    \"brightness_factor\": 0.13339664896095313,<br>    \"gaussian_noise_factor\": 0.07289127643002175,<br>    \"translate_factor\": 0.0659691989034831,<br>    \"num_layers\": 1,<br>    \"output_layer\": \"pooling\",<br>    \"layer_0\": \"Conv2D\",<br>    \"layer_0_conv2d_filters\": 20,<br>    \"layer_0_conv2d_fsize\": 3,<br>    \"layer_0_conv2d_ssize\": 15,<br>    \"activation_0\": \"linear\",<br>    \"pre_GAP_layer_fsize\": 3,<br>    \"pre_GAP_layer_act\": \"relu\",<br>    \"lr_inicial\": 0.0008722061780980107<br>  }<br>}",
          "{<br>  \"number\": 13,<br>  \"values\": [<br>    0.7799999713897705,<br>    20187.0<br>  ],<br>  \"params\": {<br>    \"batchsize\": 64,<br>    \"brightness_factor\": 0.06878966132853866,<br>    \"gaussian_noise_factor\": 0.15497630444477228,<br>    \"translate_factor\": 0.13776244665176623,<br>    \"num_layers\": 1,<br>    \"output_layer\": \"dense\",<br>    \"layer_0\": \"Conv2D\",<br>    \"layer_0_conv2d_filters\": 20,<br>    \"layer_0_conv2d_fsize\": 5,<br>    \"layer_0_conv2d_ssize\": 11,<br>    \"activation_0\": \"relu\",<br>    \"output_dropout\": 0.3199814656100517,<br>    \"lr_inicial\": 0.0018942306338934278<br>  }<br>}",
          "{<br>  \"number\": 14,<br>  \"values\": [<br>    0.6600000262260437,<br>    8045.0<br>  ],<br>  \"params\": {<br>    \"batchsize\": 96,<br>    \"brightness_factor\": 0.06271621352155171,<br>    \"gaussian_noise_factor\": 0.14312930883660105,<br>    \"translate_factor\": 0.13493351925051567,<br>    \"num_layers\": 1,<br>    \"output_layer\": \"pooling\",<br>    \"layer_0\": \"Conv2D\",<br>    \"layer_0_conv2d_filters\": 20,<br>    \"layer_0_conv2d_fsize\": 5,<br>    \"layer_0_conv2d_ssize\": 11,<br>    \"activation_0\": \"linear\",<br>    \"pre_GAP_layer_fsize\": 5,<br>    \"pre_GAP_layer_act\": \"linear\",<br>    \"lr_inicial\": 0.001946697733689437<br>  }<br>}",
          "{<br>  \"number\": 15,<br>  \"values\": [<br>    0.7200000286102295,<br>    20187.0<br>  ],<br>  \"params\": {<br>    \"batchsize\": 96,<br>    \"brightness_factor\": 0.0052914313227019755,<br>    \"gaussian_noise_factor\": 0.15527253957582668,<br>    \"translate_factor\": 0.14166194931135107,<br>    \"num_layers\": 1,<br>    \"output_layer\": \"dense\",<br>    \"layer_0\": \"Conv2D\",<br>    \"layer_0_conv2d_filters\": 20,<br>    \"layer_0_conv2d_fsize\": 5,<br>    \"layer_0_conv2d_ssize\": 11,<br>    \"activation_0\": \"linear\",<br>    \"output_dropout\": 0.30792760691422544,<br>    \"lr_inicial\": 0.001585855723610402<br>  }<br>}",
          "{<br>  \"number\": 16,<br>  \"values\": [<br>    0.6800000071525574,<br>    6437.0<br>  ],<br>  \"params\": {<br>    \"batchsize\": 96,<br>    \"brightness_factor\": 0.06418404945868043,<br>    \"gaussian_noise_factor\": 0.1423862959745174,<br>    \"translate_factor\": 0.1368846148215938,<br>    \"num_layers\": 1,<br>    \"output_layer\": \"pooling\",<br>    \"layer_0\": \"Conv2D\",<br>    \"layer_0_conv2d_filters\": 16,<br>    \"layer_0_conv2d_fsize\": 5,<br>    \"layer_0_conv2d_ssize\": 10,<br>    \"activation_0\": \"relu\",<br>    \"pre_GAP_layer_fsize\": 5,<br>    \"pre_GAP_layer_act\": \"linear\",<br>    \"lr_inicial\": 0.0011255282502785245<br>  }<br>}",
          "{<br>  \"number\": 17,<br>  \"values\": [<br>    0.6200000047683716,<br>    4829.0<br>  ],<br>  \"params\": {<br>    \"batchsize\": 96,<br>    \"brightness_factor\": 0.06366012788002878,<br>    \"gaussian_noise_factor\": 0.14447586479837168,<br>    \"translate_factor\": 0.13753402797779338,<br>    \"num_layers\": 1,<br>    \"output_layer\": \"pooling\",<br>    \"layer_0\": \"Conv2D\",<br>    \"layer_0_conv2d_filters\": 12,<br>    \"layer_0_conv2d_fsize\": 5,<br>    \"layer_0_conv2d_ssize\": 8,<br>    \"activation_0\": \"relu\",<br>    \"pre_GAP_layer_fsize\": 5,<br>    \"pre_GAP_layer_act\": \"linear\",<br>    \"lr_inicial\": 0.0010843979451977811<br>  }<br>}",
          "{<br>  \"number\": 18,<br>  \"values\": [<br>    0.5799999833106995,<br>    6437.0<br>  ],<br>  \"params\": {<br>    \"batchsize\": 128,<br>    \"brightness_factor\": 0.0040230035836434225,<br>    \"gaussian_noise_factor\": 0.1675200689983733,<br>    \"translate_factor\": 0.15192150419423292,<br>    \"num_layers\": 1,<br>    \"output_layer\": \"pooling\",<br>    \"layer_0\": \"Conv2D\",<br>    \"layer_0_conv2d_filters\": 16,<br>    \"layer_0_conv2d_fsize\": 5,<br>    \"layer_0_conv2d_ssize\": 9,<br>    \"activation_0\": \"relu\",<br>    \"pre_GAP_layer_fsize\": 5,<br>    \"pre_GAP_layer_act\": \"linear\",<br>    \"lr_inicial\": 0.0004971547367678589<br>  }<br>}",
          "{<br>  \"number\": 19,<br>  \"values\": [<br>    0.7599999904632568,<br>    21899.0<br>  ],<br>  \"params\": {<br>    \"batchsize\": 64,<br>    \"brightness_factor\": 0.0372834767701679,<br>    \"gaussian_noise_factor\": 0.12506889976513147,<br>    \"translate_factor\": 0.11232512237429301,<br>    \"num_layers\": 1,<br>    \"output_layer\": \"dense\",<br>    \"layer_0\": \"Conv2D\",<br>    \"layer_0_conv2d_filters\": 24,<br>    \"layer_0_conv2d_fsize\": 5,<br>    \"layer_0_conv2d_ssize\": 12,<br>    \"activation_0\": \"relu\",<br>    \"output_dropout\": 0.30955521041297057,<br>    \"lr_inicial\": 0.0010285788603911158<br>  }<br>}",
          "{<br>  \"number\": 20,<br>  \"values\": [<br>    0.6000000238418579,<br>    1613.0<br>  ],<br>  \"params\": {<br>    \"batchsize\": 96,<br>    \"brightness_factor\": 0.06801056343035984,<br>    \"gaussian_noise_factor\": 0.1318037673333128,<br>    \"translate_factor\": 0.08767025168121821,<br>    \"num_layers\": 1,<br>    \"output_layer\": \"pooling\",<br>    \"layer_0\": \"Conv2D\",<br>    \"layer_0_conv2d_filters\": 4,<br>    \"layer_0_conv2d_fsize\": 5,<br>    \"layer_0_conv2d_ssize\": 2,<br>    \"activation_0\": \"relu\",<br>    \"pre_GAP_layer_fsize\": 5,<br>    \"pre_GAP_layer_act\": \"linear\",<br>    \"lr_inicial\": 0.000585584885723752<br>  }<br>}",
          "{<br>  \"number\": 21,<br>  \"values\": [<br>    0.5600000023841858,<br>    1613.0<br>  ],<br>  \"params\": {<br>    \"batchsize\": 96,<br>    \"brightness_factor\": 0.07076677530454646,<br>    \"gaussian_noise_factor\": 0.12849629585532055,<br>    \"translate_factor\": 0.08806478590741838,<br>    \"num_layers\": 1,<br>    \"output_layer\": \"pooling\",<br>    \"layer_0\": \"Conv2D\",<br>    \"layer_0_conv2d_filters\": 4,<br>    \"layer_0_conv2d_fsize\": 5,<br>    \"layer_0_conv2d_ssize\": 2,<br>    \"activation_0\": \"relu\",<br>    \"pre_GAP_layer_fsize\": 5,<br>    \"pre_GAP_layer_act\": \"linear\",<br>    \"lr_inicial\": 0.0005863230057107821<br>  }<br>}",
          "{<br>  \"number\": 22,<br>  \"values\": [<br>    0.5799999833106995,<br>    9653.0<br>  ],<br>  \"params\": {<br>    \"batchsize\": 96,<br>    \"brightness_factor\": 0.05009845051046853,<br>    \"gaussian_noise_factor\": 0.16382795944329806,<br>    \"translate_factor\": 0.08756040623006335,<br>    \"num_layers\": 1,<br>    \"output_layer\": \"pooling\",<br>    \"layer_0\": \"Conv2D\",<br>    \"layer_0_conv2d_filters\": 24,<br>    \"layer_0_conv2d_fsize\": 5,<br>    \"layer_0_conv2d_ssize\": 7,<br>    \"activation_0\": \"relu\",<br>    \"pre_GAP_layer_fsize\": 5,<br>    \"pre_GAP_layer_act\": \"linear\",<br>    \"lr_inicial\": 0.000403382819325307<br>  }<br>}",
          "{<br>  \"number\": 23,<br>  \"values\": [<br>    0.6200000047683716,<br>    4829.0<br>  ],<br>  \"params\": {<br>    \"batchsize\": 128,<br>    \"brightness_factor\": 0.11288086926293396,<br>    \"gaussian_noise_factor\": 0.18402255631657682,<br>    \"translate_factor\": 0.12647397282197084,<br>    \"num_layers\": 1,<br>    \"output_layer\": \"pooling\",<br>    \"layer_0\": \"Conv2D\",<br>    \"layer_0_conv2d_filters\": 12,<br>    \"layer_0_conv2d_fsize\": 5,<br>    \"layer_0_conv2d_ssize\": 13,<br>    \"activation_0\": \"relu\",<br>    \"pre_GAP_layer_fsize\": 5,<br>    \"pre_GAP_layer_act\": \"linear\",<br>    \"lr_inicial\": 0.0010846354466542845<br>  }<br>}",
          "{<br>  \"number\": 24,<br>  \"values\": [<br>    0.6200000047683716,<br>    1613.0<br>  ],<br>  \"params\": {<br>    \"batchsize\": 96,<br>    \"brightness_factor\": 0.02323730443241257,<br>    \"gaussian_noise_factor\": 0.10727332697954464,<br>    \"translate_factor\": 0.15855423074432592,<br>    \"num_layers\": 1,<br>    \"output_layer\": \"pooling\",<br>    \"layer_0\": \"Conv2D\",<br>    \"layer_0_conv2d_filters\": 4,<br>    \"layer_0_conv2d_fsize\": 5,<br>    \"layer_0_conv2d_ssize\": 10,<br>    \"activation_0\": \"relu\",<br>    \"pre_GAP_layer_fsize\": 5,<br>    \"pre_GAP_layer_act\": \"linear\",<br>    \"lr_inicial\": 0.0016057877804098247<br>  }<br>}",
          "{<br>  \"number\": 25,<br>  \"values\": [<br>    0.7799999713897705,<br>    22807.0<br>  ],<br>  \"params\": {<br>    \"batchsize\": 64,<br>    \"brightness_factor\": 0.019609389517981718,<br>    \"gaussian_noise_factor\": 0.1463118352677577,<br>    \"translate_factor\": 0.16468815193540798,<br>    \"num_layers\": 3,<br>    \"output_layer\": \"dense\",<br>    \"layer_0\": \"Conv2D\",<br>    \"layer_0_conv2d_filters\": 24,<br>    \"layer_0_conv2d_fsize\": 5,<br>    \"layer_0_conv2d_ssize\": 3,<br>    \"activation_0\": \"relu\",<br>    \"layer_1\": \"Conv2D\",<br>    \"layer_1_conv2d_filters\": 4,<br>    \"layer_1_conv2d_fsize\": 3,<br>    \"layer_1_conv2d_ssize\": 2,<br>    \"activation_1\": \"linear\",<br>    \"layer_2\": \"Pointwise2D\",<br>    \"layer_2_pwconv2d_filters\": 4,<br>    \"layer_2_pwconv2d_ssize\": 5,<br>    \"activation_2\": \"linear\",<br>    \"output_dropout\": 0.3675754707954219,<br>    \"lr_inicial\": 0.0016192506940977873<br>  }<br>}",
          "{<br>  \"number\": 26,<br>  \"values\": [<br>    0.699999988079071,<br>    6437.0<br>  ],<br>  \"params\": {<br>    \"batchsize\": 96,<br>    \"brightness_factor\": 0.023304965129514875,<br>    \"gaussian_noise_factor\": 0.11131253636006984,<br>    \"translate_factor\": 0.19658899283764053,<br>    \"num_layers\": 1,<br>    \"output_layer\": \"pooling\",<br>    \"layer_0\": \"Conv2D\",<br>    \"layer_0_conv2d_filters\": 16,<br>    \"layer_0_conv2d_fsize\": 5,<br>    \"layer_0_conv2d_ssize\": 10,<br>    \"activation_0\": \"relu\",<br>    \"pre_GAP_layer_fsize\": 5,<br>    \"pre_GAP_layer_act\": \"linear\",<br>    \"lr_inicial\": 0.0012363101342874384<br>  }<br>}",
          "{<br>  \"number\": 27,<br>  \"values\": [<br>    0.47999998927116394,<br>    6053.0<br>  ],<br>  \"params\": {<br>    \"batchsize\": 128,<br>    \"brightness_factor\": 0.020458037480724917,<br>    \"gaussian_noise_factor\": 0.10599376554474906,<br>    \"translate_factor\": 0.19719995302051585,<br>    \"num_layers\": 1,<br>    \"output_layer\": \"pooling\",<br>    \"layer_0\": \"Conv2D\",<br>    \"layer_0_conv2d_filters\": 28,<br>    \"layer_0_conv2d_fsize\": 3,<br>    \"layer_0_conv2d_ssize\": 13,<br>    \"activation_0\": \"relu\",<br>    \"pre_GAP_layer_fsize\": 4,<br>    \"pre_GAP_layer_act\": \"tanh\",<br>    \"lr_inicial\": 0.0016580862213277337<br>  }<br>}",
          "{<br>  \"number\": 28,<br>  \"values\": [<br>    0.6200000047683716,<br>    22859.0<br>  ],<br>  \"params\": {<br>    \"batchsize\": 64,<br>    \"brightness_factor\": 0.016881900252641975,<br>    \"gaussian_noise_factor\": 0.07994869366351624,<br>    \"translate_factor\": 0.17852256688472246,<br>    \"num_layers\": 2,<br>    \"output_layer\": \"dense\",<br>    \"layer_0\": \"Pointwise2D\",<br>    \"layer_0_pwconv2d_filters\": 4,<br>    \"layer_0_pwconv2d_ssize\": 8,<br>    \"activation_0\": \"relu\",<br>    \"layer_1\": \"Conv2D\",<br>    \"layer_1_conv2d_filters\": 16,<br>    \"layer_1_conv2d_fsize\": 5,<br>    \"layer_1_conv2d_ssize\": 4,<br>    \"activation_1\": \"tanh\",<br>    \"output_dropout\": 0.5289392594482543,<br>    \"lr_inicial\": 0.0009121292226089567<br>  }<br>}",
          "{<br>  \"number\": 29,<br>  \"values\": [<br>    0.7400000095367432,<br>    29403.0<br>  ],<br>  \"params\": {<br>    \"batchsize\": 128,<br>    \"brightness_factor\": 0.030324376240750343,<br>    \"gaussian_noise_factor\": 0.051777926975104194,<br>    \"translate_factor\": 0.18800919599665192,<br>    \"num_layers\": 3,<br>    \"output_layer\": \"dense\",<br>    \"layer_0\": \"Pointwise2D\",<br>    \"layer_0_pwconv2d_filters\": 12,<br>    \"layer_0_pwconv2d_ssize\": 2,<br>    \"activation_0\": \"tanh\",<br>    \"layer_1\": \"Pointwise2D\",<br>    \"layer_1_pwconv2d_filters\": 32,<br>    \"layer_1_pwconv2d_ssize\": 4,<br>    \"activation_1\": \"linear\",<br>    \"layer_2\": \"Conv2D\",<br>    \"layer_2_conv2d_filters\": 32,<br>    \"layer_2_conv2d_fsize\": 3,<br>    \"layer_2_conv2d_ssize\": 2,<br>    \"activation_2\": \"tanh\",<br>    \"output_dropout\": 0.5087278408424425,<br>    \"lr_inicial\": 0.0012374039708456929<br>  }<br>}",
          "{<br>  \"number\": 30,<br>  \"values\": [<br>    0.7200000286102295,<br>    11189.0<br>  ],<br>  \"params\": {<br>    \"batchsize\": 96,<br>    \"brightness_factor\": 0.04843877967932561,<br>    \"gaussian_noise_factor\": 0.0974344673531523,<br>    \"translate_factor\": 0.1553476630889009,<br>    \"num_layers\": 3,<br>    \"output_layer\": \"pooling\",<br>    \"layer_0\": \"Conv2D\",<br>    \"layer_0_conv2d_filters\": 12,<br>    \"layer_0_conv2d_fsize\": 4,<br>    \"layer_0_conv2d_ssize\": 3,<br>    \"activation_0\": \"relu\",<br>    \"layer_1\": \"Pointwise2D\",<br>    \"layer_1_pwconv2d_filters\": 20,<br>    \"layer_1_pwconv2d_ssize\": 4,<br>    \"activation_1\": \"tanh\",<br>    \"layer_2\": \"Conv2D\",<br>    \"layer_2_conv2d_filters\": 4,<br>    \"layer_2_conv2d_fsize\": 5,<br>    \"layer_2_conv2d_ssize\": 2,<br>    \"activation_2\": \"linear\",<br>    \"pre_GAP_layer_fsize\": 5,<br>    \"pre_GAP_layer_act\": \"linear\",<br>    \"lr_inicial\": 0.001504978069589211<br>  }<br>}",
          "{<br>  \"number\": 31,<br>  \"values\": [<br>    0.7200000286102295,<br>    11189.0<br>  ],<br>  \"params\": {<br>    \"batchsize\": 96,<br>    \"brightness_factor\": 0.04720689430519251,<br>    \"gaussian_noise_factor\": 0.09001541993746562,<br>    \"translate_factor\": 0.15455144544267388,<br>    \"num_layers\": 3,<br>    \"output_layer\": \"pooling\",<br>    \"layer_0\": \"Conv2D\",<br>    \"layer_0_conv2d_filters\": 12,<br>    \"layer_0_conv2d_fsize\": 4,<br>    \"layer_0_conv2d_ssize\": 3,<br>    \"activation_0\": \"relu\",<br>    \"layer_1\": \"Pointwise2D\",<br>    \"layer_1_pwconv2d_filters\": 20,<br>    \"layer_1_pwconv2d_ssize\": 4,<br>    \"activation_1\": \"tanh\",<br>    \"layer_2\": \"Conv2D\",<br>    \"layer_2_conv2d_filters\": 4,<br>    \"layer_2_conv2d_fsize\": 5,<br>    \"layer_2_conv2d_ssize\": 2,<br>    \"activation_2\": \"linear\",<br>    \"pre_GAP_layer_fsize\": 5,<br>    \"pre_GAP_layer_act\": \"linear\",<br>    \"lr_inicial\": 0.0014377659864287188<br>  }<br>}",
          "{<br>  \"number\": 32,<br>  \"values\": [<br>    0.7599999904632568,<br>    42597.0<br>  ],<br>  \"params\": {<br>    \"batchsize\": 96,<br>    \"brightness_factor\": 0.027912142671898937,<br>    \"gaussian_noise_factor\": 0.09673901468023899,<br>    \"translate_factor\": 0.16311121592424266,<br>    \"num_layers\": 3,<br>    \"output_layer\": \"pooling\",<br>    \"layer_0\": \"Conv2D\",<br>    \"layer_0_conv2d_filters\": 8,<br>    \"layer_0_conv2d_fsize\": 4,<br>    \"layer_0_conv2d_ssize\": 3,<br>    \"activation_0\": \"relu\",<br>    \"layer_1\": \"Pointwise2D\",<br>    \"layer_1_pwconv2d_filters\": 24,<br>    \"layer_1_pwconv2d_ssize\": 4,<br>    \"activation_1\": \"tanh\",<br>    \"layer_2\": \"Conv2D\",<br>    \"layer_2_conv2d_filters\": 16,<br>    \"layer_2_conv2d_fsize\": 5,<br>    \"layer_2_conv2d_ssize\": 5,<br>    \"activation_2\": \"linear\",<br>    \"pre_GAP_layer_fsize\": 5,<br>    \"pre_GAP_layer_act\": \"linear\",<br>    \"lr_inicial\": 0.0014881317049859897<br>  }<br>}",
          "{<br>  \"number\": 33,<br>  \"values\": [<br>    0.7599999904632568,<br>    12829.0<br>  ],<br>  \"params\": {<br>    \"batchsize\": 96,<br>    \"brightness_factor\": 0.0014245857709145014,<br>    \"gaussian_noise_factor\": 0.11276786234152536,<br>    \"translate_factor\": 0.18264238963034757,<br>    \"num_layers\": 3,<br>    \"output_layer\": \"pooling\",<br>    \"layer_0\": \"Conv2D\",<br>    \"layer_0_conv2d_filters\": 16,<br>    \"layer_0_conv2d_fsize\": 5,<br>    \"layer_0_conv2d_ssize\": 4,<br>    \"activation_0\": \"relu\",<br>    \"layer_1\": \"Pointwise2D\",<br>    \"layer_1_pwconv2d_filters\": 12,<br>    \"layer_1_pwconv2d_ssize\": 3,<br>    \"activation_1\": \"tanh\",<br>    \"layer_2\": \"Pointwise2D\",<br>    \"layer_2_pwconv2d_filters\": 32,<br>    \"layer_2_pwconv2d_ssize\": 5,<br>    \"activation_2\": \"tanh\",<br>    \"pre_GAP_layer_fsize\": 5,<br>    \"pre_GAP_layer_act\": \"linear\",<br>    \"lr_inicial\": 0.0017083414454124035<br>  }<br>}",
          "{<br>  \"number\": 34,<br>  \"values\": [<br>    0.7400000095367432,<br>    19781.0<br>  ],<br>  \"params\": {<br>    \"batchsize\": 32,<br>    \"brightness_factor\": 0.0027821446629753962,<br>    \"gaussian_noise_factor\": 0.11146040222237029,<br>    \"translate_factor\": 0.1992733726317441,<br>    \"num_layers\": 3,<br>    \"output_layer\": \"pooling\",<br>    \"layer_0\": \"Conv2D\",<br>    \"layer_0_conv2d_filters\": 8,<br>    \"layer_0_conv2d_fsize\": 5,<br>    \"layer_0_conv2d_ssize\": 4,<br>    \"activation_0\": \"tanh\",<br>    \"layer_1\": \"Conv2D\",<br>    \"layer_1_conv2d_filters\": 32,<br>    \"layer_1_conv2d_fsize\": 3,<br>    \"layer_1_conv2d_ssize\": 4,<br>    \"activation_1\": \"tanh\",<br>    \"layer_2\": \"Pointwise2D\",<br>    \"layer_2_pwconv2d_filters\": 32,<br>    \"layer_2_pwconv2d_ssize\": 5,<br>    \"activation_2\": \"tanh\",<br>    \"pre_GAP_layer_fsize\": 5,<br>    \"pre_GAP_layer_act\": \"linear\",<br>    \"lr_inicial\": 0.0017521416852604294<br>  }<br>}",
          "{<br>  \"number\": 35,<br>  \"values\": [<br>    0.6000000238418579,<br>    1397.0<br>  ],<br>  \"params\": {<br>    \"batchsize\": 32,<br>    \"brightness_factor\": 0.013342856792047069,<br>    \"gaussian_noise_factor\": 0.08592218676594404,<br>    \"translate_factor\": 0.1791011554040457,<br>    \"num_layers\": 2,<br>    \"output_layer\": \"pooling\",<br>    \"layer_0\": \"Pointwise2D\",<br>    \"layer_0_pwconv2d_filters\": 16,<br>    \"layer_0_pwconv2d_ssize\": 8,<br>    \"activation_0\": \"tanh\",<br>    \"layer_1\": \"Pointwise2D\",<br>    \"layer_1_pwconv2d_filters\": 4,<br>    \"layer_1_pwconv2d_ssize\": 6,<br>    \"activation_1\": \"tanh\",<br>    \"pre_GAP_layer_fsize\": 5,<br>    \"pre_GAP_layer_act\": \"linear\",<br>    \"lr_inicial\": 0.0011840551883673378<br>  }<br>}",
          "{<br>  \"number\": 36,<br>  \"values\": [<br>    0.7400000095367432,<br>    24899.0<br>  ],<br>  \"params\": {<br>    \"batchsize\": 128,<br>    \"brightness_factor\": 0.195307410110832,<br>    \"gaussian_noise_factor\": 0.11619126324567706,<br>    \"translate_factor\": 0.1882281581447253,<br>    \"num_layers\": 3,<br>    \"output_layer\": \"dense\",<br>    \"layer_0\": \"Conv2D\",<br>    \"layer_0_conv2d_filters\": 16,<br>    \"layer_0_conv2d_fsize\": 5,<br>    \"layer_0_conv2d_ssize\": 4,<br>    \"activation_0\": \"tanh\",<br>    \"layer_1\": \"Pointwise2D\",<br>    \"layer_1_pwconv2d_filters\": 12,<br>    \"layer_1_pwconv2d_ssize\": 3,<br>    \"activation_1\": \"relu\",<br>    \"layer_2\": \"Pointwise2D\",<br>    \"layer_2_pwconv2d_filters\": 20,<br>    \"layer_2_pwconv2d_ssize\": 5,<br>    \"activation_2\": \"tanh\",<br>    \"output_dropout\": 0.38868539692787746,<br>    \"lr_inicial\": 0.0013427836957505615<br>  }<br>}",
          "{<br>  \"number\": 37,<br>  \"values\": [<br>    0.6600000262260437,<br>    9541.0<br>  ],<br>  \"params\": {<br>    \"batchsize\": 96,<br>    \"brightness_factor\": 0.08397804848662598,<br>    \"gaussian_noise_factor\": 0.04803351002700475,<br>    \"translate_factor\": 0.002230585263261739,<br>    \"num_layers\": 2,<br>    \"output_layer\": \"pooling\",<br>    \"layer_0\": \"Pointwise2D\",<br>    \"layer_0_pwconv2d_filters\": 4,<br>    \"layer_0_pwconv2d_ssize\": 2,<br>    \"activation_0\": \"relu\",<br>    \"layer_1\": \"Conv2D\",<br>    \"layer_1_conv2d_filters\": 24,<br>    \"layer_1_conv2d_fsize\": 3,<br>    \"layer_1_conv2d_ssize\": 8,<br>    \"activation_1\": \"tanh\",<br>    \"pre_GAP_layer_fsize\": 5,<br>    \"pre_GAP_layer_act\": \"linear\",<br>    \"lr_inicial\": 0.001742566701989433<br>  }<br>}",
          "{<br>  \"number\": 38,<br>  \"values\": [<br>    0.6800000071525574,<br>    3733.0<br>  ],<br>  \"params\": {<br>    \"batchsize\": 96,<br>    \"brightness_factor\": 0.0013022827374056436,<br>    \"gaussian_noise_factor\": 0.11745486333499029,<br>    \"translate_factor\": 0.04203871258633924,<br>    \"num_layers\": 3,<br>    \"output_layer\": \"pooling\",<br>    \"layer_0\": \"Conv2D\",<br>    \"layer_0_conv2d_filters\": 4,<br>    \"layer_0_conv2d_fsize\": 5,<br>    \"layer_0_conv2d_ssize\": 4,<br>    \"activation_0\": \"tanh\",<br>    \"layer_1\": \"Pointwise2D\",<br>    \"layer_1_pwconv2d_filters\": 8,<br>    \"layer_1_pwconv2d_ssize\": 3,<br>    \"activation_1\": \"relu\",<br>    \"layer_2\": \"Pointwise2D\",<br>    \"layer_2_pwconv2d_filters\": 24,<br>    \"layer_2_pwconv2d_ssize\": 2,<br>    \"activation_2\": \"tanh\",<br>    \"pre_GAP_layer_fsize\": 3,<br>    \"pre_GAP_layer_act\": \"relu\",<br>    \"lr_inicial\": 0.0013424868952523483<br>  }<br>}",
          "{<br>  \"number\": 39,<br>  \"values\": [<br>    0.6800000071525574,<br>    3733.0<br>  ],<br>  \"params\": {<br>    \"batchsize\": 96,<br>    \"brightness_factor\": 0.000296404445936713,<br>    \"gaussian_noise_factor\": 0.11970107096093104,<br>    \"translate_factor\": 0.04860199845093367,<br>    \"num_layers\": 3,<br>    \"output_layer\": \"pooling\",<br>    \"layer_0\": \"Conv2D\",<br>    \"layer_0_conv2d_filters\": 4,<br>    \"layer_0_conv2d_fsize\": 5,<br>    \"layer_0_conv2d_ssize\": 4,<br>    \"activation_0\": \"tanh\",<br>    \"layer_1\": \"Pointwise2D\",<br>    \"layer_1_pwconv2d_filters\": 8,<br>    \"layer_1_pwconv2d_ssize\": 3,<br>    \"activation_1\": \"relu\",<br>    \"layer_2\": \"Pointwise2D\",<br>    \"layer_2_pwconv2d_filters\": 24,<br>    \"layer_2_pwconv2d_ssize\": 2,<br>    \"activation_2\": \"tanh\",<br>    \"pre_GAP_layer_fsize\": 3,<br>    \"pre_GAP_layer_act\": \"relu\",<br>    \"lr_inicial\": 0.0013301629320342236<br>  }<br>}",
          "{<br>  \"number\": 40,<br>  \"values\": [<br>    0.6399999856948853,<br>    3637.0<br>  ],<br>  \"params\": {<br>    \"batchsize\": 128,<br>    \"brightness_factor\": 0.02481642323175498,<br>    \"gaussian_noise_factor\": 0.10734077947553555,<br>    \"translate_factor\": 0.1156740569907882,<br>    \"num_layers\": 3,<br>    \"output_layer\": \"pooling\",<br>    \"layer_0\": \"Pointwise2D\",<br>    \"layer_0_pwconv2d_filters\": 16,<br>    \"layer_0_pwconv2d_ssize\": 3,<br>    \"activation_0\": \"tanh\",<br>    \"layer_1\": \"Pointwise2D\",<br>    \"layer_1_pwconv2d_filters\": 8,<br>    \"layer_1_pwconv2d_ssize\": 3,<br>    \"activation_1\": \"relu\",<br>    \"layer_2\": \"Pointwise2D\",<br>    \"layer_2_pwconv2d_filters\": 24,<br>    \"layer_2_pwconv2d_ssize\": 2,<br>    \"activation_2\": \"tanh\",<br>    \"pre_GAP_layer_fsize\": 3,<br>    \"pre_GAP_layer_act\": \"relu\",<br>    \"lr_inicial\": 0.0007269913919199833<br>  }<br>}",
          "{<br>  \"number\": 41,<br>  \"values\": [<br>    0.6800000071525574,<br>    23491.0<br>  ],<br>  \"params\": {<br>    \"batchsize\": 32,<br>    \"brightness_factor\": 0.17624080464516143,<br>    \"gaussian_noise_factor\": 0.1337026856530837,<br>    \"translate_factor\": 0.03758321355149749,<br>    \"num_layers\": 3,<br>    \"output_layer\": \"dense\",<br>    \"layer_0\": \"Conv2D\",<br>    \"layer_0_conv2d_filters\": 16,<br>    \"layer_0_conv2d_fsize\": 4,<br>    \"layer_0_conv2d_ssize\": 4,<br>    \"activation_0\": \"tanh\",<br>    \"layer_1\": \"Pointwise2D\",<br>    \"layer_1_pwconv2d_filters\": 16,<br>    \"layer_1_pwconv2d_ssize\": 2,<br>    \"activation_1\": \"tanh\",<br>    \"layer_2\": \"Pointwise2D\",<br>    \"layer_2_pwconv2d_filters\": 32,<br>    \"layer_2_pwconv2d_ssize\": 4,<br>    \"activation_2\": \"relu\",<br>    \"output_dropout\": 0.4672797653465252,<br>    \"lr_inicial\": 0.00046312604841629453<br>  }<br>}",
          "{<br>  \"number\": 42,<br>  \"values\": [<br>    0.699999988079071,<br>    36295.0<br>  ],<br>  \"params\": {<br>    \"batchsize\": 96,<br>    \"brightness_factor\": 0.14888670655402467,<br>    \"gaussian_noise_factor\": 0.030753491589268767,<br>    \"translate_factor\": 0.17950031130058028,<br>    \"num_layers\": 2,<br>    \"output_layer\": \"dense\",<br>    \"layer_0\": \"Pointwise2D\",<br>    \"layer_0_pwconv2d_filters\": 32,<br>    \"layer_0_pwconv2d_ssize\": 7,<br>    \"activation_0\": \"tanh\",<br>    \"layer_1\": \"Conv2D\",<br>    \"layer_1_conv2d_filters\": 24,<br>    \"layer_1_conv2d_fsize\": 4,<br>    \"layer_1_conv2d_ssize\": 7,<br>    \"activation_1\": \"linear\",<br>    \"output_dropout\": 0.5692142344382912,<br>    \"lr_inicial\": 0.0017044321830840816<br>  }<br>}",
          "{<br>  \"number\": 43,<br>  \"values\": [<br>    0.5,<br>    7325.0<br>  ],<br>  \"params\": {<br>    \"batchsize\": 64,<br>    \"brightness_factor\": 0.014578397980210385,<br>    \"gaussian_noise_factor\": 0.08276072264805151,<br>    \"translate_factor\": 0.17072502327468445,<br>    \"num_layers\": 3,<br>    \"output_layer\": \"pooling\",<br>    \"layer_0\": \"Conv2D\",<br>    \"layer_0_conv2d_filters\": 8,<br>    \"layer_0_conv2d_fsize\": 3,<br>    \"layer_0_conv2d_ssize\": 4,<br>    \"activation_0\": \"linear\",<br>    \"layer_1\": \"Pointwise2D\",<br>    \"layer_1_pwconv2d_filters\": 16,<br>    \"layer_1_pwconv2d_ssize\": 3,<br>    \"activation_1\": \"tanh\",<br>    \"layer_2\": \"Pointwise2D\",<br>    \"layer_2_pwconv2d_filters\": 28,<br>    \"layer_2_pwconv2d_ssize\": 4,<br>    \"activation_2\": \"tanh\",<br>    \"pre_GAP_layer_fsize\": 4,<br>    \"pre_GAP_layer_act\": \"tanh\",<br>    \"lr_inicial\": 0.000956871976989884<br>  }<br>}",
          "{<br>  \"number\": 44,<br>  \"values\": [<br>    0.46000000834465027,<br>    2861.0<br>  ],<br>  \"params\": {<br>    \"batchsize\": 96,<br>    \"brightness_factor\": 0.10734145532556885,<br>    \"gaussian_noise_factor\": 0.02013478479833114,<br>    \"translate_factor\": 0.024975503895896894,<br>    \"num_layers\": 2,<br>    \"output_layer\": \"pooling\",<br>    \"layer_0\": \"Conv2D\",<br>    \"layer_0_conv2d_filters\": 12,<br>    \"layer_0_conv2d_fsize\": 4,<br>    \"layer_0_conv2d_ssize\": 5,<br>    \"activation_0\": \"tanh\",<br>    \"layer_1\": \"Pointwise2D\",<br>    \"layer_1_pwconv2d_filters\": 8,<br>    \"layer_1_pwconv2d_ssize\": 5,<br>    \"activation_1\": \"relu\",<br>    \"pre_GAP_layer_fsize\": 4,<br>    \"pre_GAP_layer_act\": \"tanh\",<br>    \"lr_inicial\": 0.0018247641212661408<br>  }<br>}",
          "{<br>  \"number\": 45,<br>  \"values\": [<br>    0.8199999928474426,<br>    24719.0<br>  ],<br>  \"params\": {<br>    \"batchsize\": 32,<br>    \"brightness_factor\": 0.037781403829170696,<br>    \"gaussian_noise_factor\": 0.0009010983294325692,<br>    \"translate_factor\": 0.048922254880796295,<br>    \"num_layers\": 3,<br>    \"output_layer\": \"dense\",<br>    \"layer_0\": \"Pointwise2D\",<br>    \"layer_0_pwconv2d_filters\": 12,<br>    \"layer_0_pwconv2d_ssize\": 3,<br>    \"activation_0\": \"relu\",<br>    \"layer_1\": \"Conv2D\",<br>    \"layer_1_conv2d_filters\": 12,<br>    \"layer_1_conv2d_fsize\": 5,<br>    \"layer_1_conv2d_ssize\": 3,<br>    \"activation_1\": \"tanh\",<br>    \"layer_2\": \"Pointwise2D\",<br>    \"layer_2_pwconv2d_filters\": 12,<br>    \"layer_2_pwconv2d_ssize\": 4,<br>    \"activation_2\": \"tanh\",<br>    \"output_dropout\": 0.4610940705628038,<br>    \"lr_inicial\": 0.001390959563424368<br>  }<br>}",
          "{<br>  \"number\": 46,<br>  \"values\": [<br>    0.4000000059604645,<br>    5557.0<br>  ],<br>  \"params\": {<br>    \"batchsize\": 96,<br>    \"brightness_factor\": 0.010048579330825896,<br>    \"gaussian_noise_factor\": 0.10092948411739187,<br>    \"translate_factor\": 0.1918472573310349,<br>    \"num_layers\": 3,<br>    \"output_layer\": \"pooling\",<br>    \"layer_0\": \"Conv2D\",<br>    \"layer_0_conv2d_filters\": 4,<br>    \"layer_0_conv2d_fsize\": 5,<br>    \"layer_0_conv2d_ssize\": 4,<br>    \"activation_0\": \"linear\",<br>    \"layer_1\": \"Pointwise2D\",<br>    \"layer_1_pwconv2d_filters\": 24,<br>    \"layer_1_pwconv2d_ssize\": 2,<br>    \"activation_1\": \"linear\",<br>    \"layer_2\": \"Pointwise2D\",<br>    \"layer_2_pwconv2d_filters\": 24,<br>    \"layer_2_pwconv2d_ssize\": 3,<br>    \"activation_2\": \"relu\",<br>    \"pre_GAP_layer_fsize\": 3,<br>    \"pre_GAP_layer_act\": \"relu\",<br>    \"lr_inicial\": 0.0007747892192909629<br>  }<br>}",
          "{<br>  \"number\": 47,<br>  \"values\": [<br>    0.5799999833106995,<br>    19285.0<br>  ],<br>  \"params\": {<br>    \"batchsize\": 64,<br>    \"brightness_factor\": 0.0001836000657761041,<br>    \"gaussian_noise_factor\": 0.07202480430055602,<br>    \"translate_factor\": 0.1723673958582946,<br>    \"num_layers\": 2,<br>    \"output_layer\": \"pooling\",<br>    \"layer_0\": \"Conv2D\",<br>    \"layer_0_conv2d_filters\": 16,<br>    \"layer_0_conv2d_fsize\": 4,<br>    \"layer_0_conv2d_ssize\": 6,<br>    \"activation_0\": \"relu\",<br>    \"layer_1\": \"Conv2D\",<br>    \"layer_1_conv2d_filters\": 24,<br>    \"layer_1_conv2d_fsize\": 3,<br>    \"layer_1_conv2d_ssize\": 6,<br>    \"activation_1\": \"relu\",<br>    \"pre_GAP_layer_fsize\": 4,<br>    \"pre_GAP_layer_act\": \"tanh\",<br>    \"lr_inicial\": 0.0006621635889416748<br>  }<br>}",
          "{<br>  \"number\": 48,<br>  \"values\": [<br>    0.7200000286102295,<br>    25719.0<br>  ],<br>  \"params\": {<br>    \"batchsize\": 128,<br>    \"brightness_factor\": 0.18712262500614096,<br>    \"gaussian_noise_factor\": 0.11868434101761945,<br>    \"translate_factor\": 0.07473888125552705,<br>    \"num_layers\": 3,<br>    \"output_layer\": \"dense\",<br>    \"layer_0\": \"Conv2D\",<br>    \"layer_0_conv2d_filters\": 8,<br>    \"layer_0_conv2d_fsize\": 5,<br>    \"layer_0_conv2d_ssize\": 4,<br>    \"activation_0\": \"linear\",<br>    \"layer_1\": \"Pointwise2D\",<br>    \"layer_1_pwconv2d_filters\": 16,<br>    \"layer_1_pwconv2d_ssize\": 3,<br>    \"activation_1\": \"relu\",<br>    \"layer_2\": \"Pointwise2D\",<br>    \"layer_2_pwconv2d_filters\": 28,<br>    \"layer_2_pwconv2d_ssize\": 5,<br>    \"activation_2\": \"tanh\",<br>    \"output_dropout\": 0.36197401870604806,<br>    \"lr_inicial\": 0.001220577327671301<br>  }<br>}",
          "{<br>  \"number\": 49,<br>  \"values\": [<br>    0.6399999856948853,<br>    65749.0<br>  ],<br>  \"params\": {<br>    \"batchsize\": 96,<br>    \"brightness_factor\": 0.15491162701712674,<br>    \"gaussian_noise_factor\": 0.04141586391255678,<br>    \"translate_factor\": 0.0023825393887915575,<br>    \"num_layers\": 3,<br>    \"output_layer\": \"pooling\",<br>    \"layer_0\": \"Pointwise2D\",<br>    \"layer_0_pwconv2d_filters\": 20,<br>    \"layer_0_pwconv2d_ssize\": 2,<br>    \"activation_0\": \"tanh\",<br>    \"layer_1\": \"Conv2D\",<br>    \"layer_1_conv2d_filters\": 32,<br>    \"layer_1_conv2d_fsize\": 5,<br>    \"layer_1_conv2d_ssize\": 3,<br>    \"activation_1\": \"tanh\",<br>    \"layer_2\": \"Pointwise2D\",<br>    \"layer_2_pwconv2d_filters\": 4,<br>    \"layer_2_pwconv2d_ssize\": 4,<br>    \"activation_2\": \"tanh\",<br>    \"pre_GAP_layer_fsize\": 5,<br>    \"pre_GAP_layer_act\": \"linear\",<br>    \"lr_inicial\": 0.0003443601454217723<br>  }<br>}",
          "{<br>  \"number\": 50,<br>  \"values\": [<br>    0.5199999809265137,<br>    6557.0<br>  ],<br>  \"params\": {<br>    \"batchsize\": 64,<br>    \"brightness_factor\": 0.11988039423016714,<br>    \"gaussian_noise_factor\": 0.13593568224162306,<br>    \"translate_factor\": 0.0523281378841117,<br>    \"num_layers\": 2,<br>    \"output_layer\": \"pooling\",<br>    \"layer_0\": \"Conv2D\",<br>    \"layer_0_conv2d_filters\": 12,<br>    \"layer_0_conv2d_fsize\": 3,<br>    \"layer_0_conv2d_ssize\": 6,<br>    \"activation_0\": \"relu\",<br>    \"layer_1\": \"Pointwise2D\",<br>    \"layer_1_pwconv2d_filters\": 28,<br>    \"layer_1_pwconv2d_ssize\": 8,<br>    \"activation_1\": \"relu\",<br>    \"pre_GAP_layer_fsize\": 4,<br>    \"pre_GAP_layer_act\": \"relu\",<br>    \"lr_inicial\": 0.0014830139305689726<br>  }<br>}",
          "{<br>  \"number\": 51,<br>  \"values\": [<br>    0.7599999904632568,<br>    17196.0<br>  ],<br>  \"params\": {<br>    \"batchsize\": 96,<br>    \"brightness_factor\": 0.011055095201137214,<br>    \"gaussian_noise_factor\": 0.15360990346016745,<br>    \"translate_factor\": 0.14494743287240655,<br>    \"num_layers\": 3,<br>    \"output_layer\": \"dense\",<br>    \"layer_0\": \"Conv2D\",<br>    \"layer_0_conv2d_filters\": 20,<br>    \"layer_0_conv2d_fsize\": 5,<br>    \"layer_0_conv2d_ssize\": 2,<br>    \"activation_0\": \"relu\",<br>    \"layer_1\": \"Pointwise2D\",<br>    \"layer_1_pwconv2d_filters\": 4,<br>    \"layer_1_pwconv2d_ssize\": 2,<br>    \"activation_1\": \"relu\",<br>    \"layer_2\": \"Pointwise2D\",<br>    \"layer_2_pwconv2d_filters\": 28,<br>    \"layer_2_pwconv2d_ssize\": 2,<br>    \"activation_2\": \"tanh\",<br>    \"output_dropout\": 0.3410387772777044,<br>    \"lr_inicial\": 0.0018620857676486598<br>  }<br>}",
          "{<br>  \"number\": 52,<br>  \"values\": [<br>    0.6800000071525574,<br>    17959.0<br>  ],<br>  \"params\": {<br>    \"batchsize\": 96,<br>    \"brightness_factor\": 0.09140437548648428,<br>    \"gaussian_noise_factor\": 0.12421737240605688,<br>    \"translate_factor\": 0.12297951348958727,<br>    \"num_layers\": 1,<br>    \"output_layer\": \"dense\",<br>    \"layer_0\": \"Conv2D\",<br>    \"layer_0_conv2d_filters\": 4,<br>    \"layer_0_conv2d_fsize\": 5,<br>    \"layer_0_conv2d_ssize\": 6,<br>    \"activation_0\": \"relu\",<br>    \"output_dropout\": 0.4893633565023525,<br>    \"lr_inicial\": 0.001594996562604034<br>  }<br>}",
          "{<br>  \"number\": 53,<br>  \"values\": [<br>    0.6600000262260437,<br>    4845.0<br>  ],<br>  \"params\": {<br>    \"batchsize\": 96,<br>    \"brightness_factor\": 0.034460004768016694,<br>    \"gaussian_noise_factor\": 0.11450597697455392,<br>    \"translate_factor\": 0.09740538687687689,<br>    \"num_layers\": 1,<br>    \"output_layer\": \"pooling\",<br>    \"layer_0\": \"Conv2D\",<br>    \"layer_0_conv2d_filters\": 20,<br>    \"layer_0_conv2d_fsize\": 5,<br>    \"layer_0_conv2d_ssize\": 9,<br>    \"activation_0\": \"relu\",<br>    \"pre_GAP_layer_fsize\": 3,<br>    \"pre_GAP_layer_act\": \"relu\",<br>    \"lr_inicial\": 0.0018617864375908653<br>  }<br>}",
          "{<br>  \"number\": 54,<br>  \"values\": [<br>    0.7400000095367432,<br>    13197.0<br>  ],<br>  \"params\": {<br>    \"batchsize\": 64,<br>    \"brightness_factor\": 0.055785930041677256,<br>    \"gaussian_noise_factor\": 0.18934460597119568,<br>    \"translate_factor\": 0.1885977487733337,<br>    \"num_layers\": 3,<br>    \"output_layer\": \"pooling\",<br>    \"layer_0\": \"Conv2D\",<br>    \"layer_0_conv2d_filters\": 28,<br>    \"layer_0_conv2d_fsize\": 5,<br>    \"layer_0_conv2d_ssize\": 4,<br>    \"activation_0\": \"relu\",<br>    \"layer_1\": \"Conv2D\",<br>    \"layer_1_conv2d_filters\": 4,<br>    \"layer_1_conv2d_fsize\": 3,<br>    \"layer_1_conv2d_ssize\": 3,<br>    \"activation_1\": \"linear\",<br>    \"layer_2\": \"Conv2D\",<br>    \"layer_2_conv2d_filters\": 16,<br>    \"layer_2_conv2d_fsize\": 3,<br>    \"layer_2_conv2d_ssize\": 5,<br>    \"activation_2\": \"relu\",<br>    \"pre_GAP_layer_fsize\": 5,<br>    \"pre_GAP_layer_act\": \"tanh\",<br>    \"lr_inicial\": 0.0015880289160529865<br>  }<br>}",
          "{<br>  \"number\": 55,<br>  \"values\": [<br>    0.5400000214576721,<br>    2341.0<br>  ],<br>  \"params\": {<br>    \"batchsize\": 96,<br>    \"brightness_factor\": 0.024163586459616054,<br>    \"gaussian_noise_factor\": 0.1723407663771271,<br>    \"translate_factor\": 0.15820594642592883,<br>    \"num_layers\": 1,<br>    \"output_layer\": \"pooling\",<br>    \"layer_0\": \"Conv2D\",<br>    \"layer_0_conv2d_filters\": 16,<br>    \"layer_0_conv2d_fsize\": 3,<br>    \"layer_0_conv2d_ssize\": 11,<br>    \"activation_0\": \"tanh\",<br>    \"pre_GAP_layer_fsize\": 3,<br>    \"pre_GAP_layer_act\": \"linear\",<br>    \"lr_inicial\": 0.00030030890344417407<br>  }<br>}",
          "{<br>  \"number\": 56,<br>  \"values\": [<br>    0.7799999713897705,<br>    18530.0<br>  ],<br>  \"params\": {<br>    \"batchsize\": 32,<br>    \"brightness_factor\": 0.007145166536237235,<br>    \"gaussian_noise_factor\": 0.06314415366372714,<br>    \"translate_factor\": 0.1446686272613831,<br>    \"num_layers\": 1,<br>    \"output_layer\": \"dense\",<br>    \"layer_0\": \"Conv2D\",<br>    \"layer_0_conv2d_filters\": 20,<br>    \"layer_0_conv2d_fsize\": 5,<br>    \"layer_0_conv2d_ssize\": 10,<br>    \"activation_0\": \"relu\",<br>    \"output_dropout\": 0.40570668722229036,<br>    \"lr_inicial\": 0.001971753749560819<br>  }<br>}",
          "{<br>  \"number\": 57,<br>  \"values\": [<br>    0.7799999713897705,<br>    16000.0<br>  ],<br>  \"params\": {<br>    \"batchsize\": 32,<br>    \"brightness_factor\": 0.012238188261379969,<br>    \"gaussian_noise_factor\": 0.09268073971198729,<br>    \"translate_factor\": 0.14719843863328202,<br>    \"num_layers\": 1,<br>    \"output_layer\": \"dense\",<br>    \"layer_0\": \"Conv2D\",<br>    \"layer_0_conv2d_filters\": 8,<br>    \"layer_0_conv2d_fsize\": 5,<br>    \"layer_0_conv2d_ssize\": 8,<br>    \"activation_0\": \"relu\",<br>    \"output_dropout\": 0.42642802771618543,<br>    \"lr_inicial\": 0.001267269067511056<br>  }<br>}",
          "{<br>  \"number\": 58,<br>  \"values\": [<br>    0.7799999713897705,<br>    16000.0<br>  ],<br>  \"params\": {<br>    \"batchsize\": 32,<br>    \"brightness_factor\": 0.043141429055536265,<br>    \"gaussian_noise_factor\": 0.10407651506979858,<br>    \"translate_factor\": 0.037152687058362374,<br>    \"num_layers\": 1,<br>    \"output_layer\": \"dense\",<br>    \"layer_0\": \"Conv2D\",<br>    \"layer_0_conv2d_filters\": 8,<br>    \"layer_0_conv2d_fsize\": 5,<br>    \"layer_0_conv2d_ssize\": 8,<br>    \"activation_0\": \"tanh\",<br>    \"output_dropout\": 0.44069291961767426,<br>    \"lr_inicial\": 0.001003517578387757<br>  }<br>}",
          "{<br>  \"number\": 59,<br>  \"values\": [<br>    0.699999988079071,<br>    19764.0<br>  ],<br>  \"params\": {<br>    \"batchsize\": 32,<br>    \"brightness_factor\": 0.02019169162257615,<br>    \"gaussian_noise_factor\": 0.09541543337917398,<br>    \"translate_factor\": 0.0577569301156102,<br>    \"num_layers\": 1,<br>    \"output_layer\": \"dense\",<br>    \"layer_0\": \"Conv2D\",<br>    \"layer_0_conv2d_filters\": 4,<br>    \"layer_0_conv2d_fsize\": 5,<br>    \"layer_0_conv2d_ssize\": 7,<br>    \"activation_0\": \"relu\",<br>    \"output_dropout\": 0.41623256699731537,<br>    \"lr_inicial\": 0.0011581406463236838<br>  }<br>}",
          "{<br>  \"number\": 60,<br>  \"values\": [<br>    0.7400000095367432,<br>    17558.0<br>  ],<br>  \"params\": {<br>    \"batchsize\": 96,<br>    \"brightness_factor\": 0.03111755804010178,<br>    \"gaussian_noise_factor\": 0.07561987075407853,<br>    \"translate_factor\": 0.10414430298943902,<br>    \"num_layers\": 1,<br>    \"output_layer\": \"dense\",<br>    \"layer_0\": \"Conv2D\",<br>    \"layer_0_conv2d_filters\": 8,<br>    \"layer_0_conv2d_fsize\": 5,<br>    \"layer_0_conv2d_ssize\": 10,<br>    \"activation_0\": \"relu\",<br>    \"output_dropout\": 0.4867239983985488,<br>    \"lr_inicial\": 0.0013287186537641476<br>  }<br>}",
          "{<br>  \"number\": 62,<br>  \"values\": [<br>    0.5,<br>    789.0<br>  ],<br>  \"params\": {<br>    \"batchsize\": 32,<br>    \"brightness_factor\": 0.17371690038975454,<br>    \"gaussian_noise_factor\": 0.19961200508289192,<br>    \"translate_factor\": 0.13007456359722847,<br>    \"num_layers\": 1,<br>    \"output_layer\": \"pooling\",<br>    \"layer_0\": \"Pointwise2D\",<br>    \"layer_0_pwconv2d_filters\": 8,<br>    \"layer_0_pwconv2d_ssize\": 16,<br>    \"activation_0\": \"tanh\",<br>    \"pre_GAP_layer_fsize\": 3,<br>    \"pre_GAP_layer_act\": \"relu\",<br>    \"lr_inicial\": 0.0014768179825548854<br>  }<br>}",
          "{<br>  \"number\": 63,<br>  \"values\": [<br>    0.5600000023841858,<br>    3141.0<br>  ],<br>  \"params\": {<br>    \"batchsize\": 32,<br>    \"brightness_factor\": 0.046463031931687576,<br>    \"gaussian_noise_factor\": 0.09332539500462796,<br>    \"translate_factor\": 0.11792579524818803,<br>    \"num_layers\": 1,<br>    \"output_layer\": \"pooling\",<br>    \"layer_0\": \"Pointwise2D\",<br>    \"layer_0_pwconv2d_filters\": 32,<br>    \"layer_0_pwconv2d_ssize\": 12,<br>    \"activation_0\": \"tanh\",<br>    \"pre_GAP_layer_fsize\": 3,<br>    \"pre_GAP_layer_act\": \"relu\",<br>    \"lr_inicial\": 0.0004064463614848406<br>  }<br>}",
          "{<br>  \"number\": 64,<br>  \"values\": [<br>    0.6600000262260437,<br>    32757.0<br>  ],<br>  \"params\": {<br>    \"batchsize\": 32,<br>    \"brightness_factor\": 0.04558468187016749,<br>    \"gaussian_noise_factor\": 0.0878723824302558,<br>    \"translate_factor\": 0.07912161475136227,<br>    \"num_layers\": 2,<br>    \"output_layer\": \"pooling\",<br>    \"layer_0\": \"Pointwise2D\",<br>    \"layer_0_pwconv2d_filters\": 24,<br>    \"layer_0_pwconv2d_ssize\": 5,<br>    \"activation_0\": \"tanh\",<br>    \"layer_1\": \"Conv2D\",<br>    \"layer_1_conv2d_filters\": 20,<br>    \"layer_1_conv2d_fsize\": 4,<br>    \"layer_1_conv2d_ssize\": 8,<br>    \"activation_1\": \"linear\",<br>    \"pre_GAP_layer_fsize\": 3,<br>    \"pre_GAP_layer_act\": \"relu\",<br>    \"lr_inicial\": 0.0005334194519626213<br>  }<br>}",
          "{<br>  \"number\": 65,<br>  \"values\": [<br>    0.6399999856948853,<br>    1509.0<br>  ],<br>  \"params\": {<br>    \"batchsize\": 64,<br>    \"brightness_factor\": 0.14409816420013075,<br>    \"gaussian_noise_factor\": 0.1019393239786215,<br>    \"translate_factor\": 0.0998137316735477,<br>    \"num_layers\": 1,<br>    \"output_layer\": \"pooling\",<br>    \"layer_0\": \"Conv2D\",<br>    \"layer_0_conv2d_filters\": 8,<br>    \"layer_0_conv2d_fsize\": 4,<br>    \"layer_0_conv2d_ssize\": 15,<br>    \"activation_0\": \"tanh\",<br>    \"pre_GAP_layer_fsize\": 3,<br>    \"pre_GAP_layer_act\": \"relu\",<br>    \"lr_inicial\": 0.0014296260667287662<br>  }<br>}",
          "{<br>  \"number\": 66,<br>  \"values\": [<br>    0.6399999856948853,<br>    6021.0<br>  ],<br>  \"params\": {<br>    \"batchsize\": 32,<br>    \"brightness_factor\": 0.010302909721774967,<br>    \"gaussian_noise_factor\": 0.13824600336130077,<br>    \"translate_factor\": 0.1522455920291174,<br>    \"num_layers\": 1,<br>    \"output_layer\": \"pooling\",<br>    \"layer_0\": \"Conv2D\",<br>    \"layer_0_conv2d_filters\": 32,<br>    \"layer_0_conv2d_fsize\": 4,<br>    \"layer_0_conv2d_ssize\": 5,<br>    \"activation_0\": \"linear\",<br>    \"pre_GAP_layer_fsize\": 3,<br>    \"pre_GAP_layer_act\": \"relu\",<br>    \"lr_inicial\": 0.0003888087105676973<br>  }<br>}",
          "{<br>  \"number\": 67,<br>  \"values\": [<br>    0.6399999856948853,<br>    757.0<br>  ],<br>  \"params\": {<br>    \"batchsize\": 32,<br>    \"brightness_factor\": 0.01575228311118708,<br>    \"gaussian_noise_factor\": 0.09098598802711716,<br>    \"translate_factor\": 0.11042744603703938,<br>    \"num_layers\": 1,<br>    \"output_layer\": \"pooling\",<br>    \"layer_0\": \"Conv2D\",<br>    \"layer_0_conv2d_filters\": 4,<br>    \"layer_0_conv2d_fsize\": 4,<br>    \"layer_0_conv2d_ssize\": 8,<br>    \"activation_0\": \"tanh\",<br>    \"pre_GAP_layer_fsize\": 3,<br>    \"pre_GAP_layer_act\": \"relu\",<br>    \"lr_inicial\": 0.0010254130768879589<br>  }<br>}",
          "{<br>  \"number\": 68,<br>  \"values\": [<br>    0.699999988079071,<br>    15605.0<br>  ],<br>  \"params\": {<br>    \"batchsize\": 64,<br>    \"brightness_factor\": 0.13424115114004315,<br>    \"gaussian_noise_factor\": 0.12703959649098884,<br>    \"translate_factor\": 0.130236533357564,<br>    \"num_layers\": 2,<br>    \"output_layer\": \"pooling\",<br>    \"layer_0\": \"Pointwise2D\",<br>    \"layer_0_pwconv2d_filters\": 12,<br>    \"layer_0_pwconv2d_ssize\": 7,<br>    \"activation_0\": \"tanh\",<br>    \"layer_1\": \"Conv2D\",<br>    \"layer_1_conv2d_filters\": 12,<br>    \"layer_1_conv2d_fsize\": 5,<br>    \"layer_1_conv2d_ssize\": 6,<br>    \"activation_1\": \"linear\",<br>    \"pre_GAP_layer_fsize\": 3,<br>    \"pre_GAP_layer_act\": \"relu\",<br>    \"lr_inicial\": 0.0015305390636810693<br>  }<br>}",
          "{<br>  \"number\": 69,<br>  \"values\": [<br>    0.47999998927116394,<br>    3101.0<br>  ],<br>  \"params\": {<br>    \"batchsize\": 32,<br>    \"brightness_factor\": 0.10259003159903311,<br>    \"gaussian_noise_factor\": 0.12299751746972086,<br>    \"translate_factor\": 0.09407155531261951,<br>    \"num_layers\": 1,<br>    \"output_layer\": \"pooling\",<br>    \"layer_0\": \"Conv2D\",<br>    \"layer_0_conv2d_filters\": 12,<br>    \"layer_0_conv2d_fsize\": 4,<br>    \"layer_0_conv2d_ssize\": 7,<br>    \"activation_0\": \"tanh\",<br>    \"pre_GAP_layer_fsize\": 4,<br>    \"pre_GAP_layer_act\": \"tanh\",<br>    \"lr_inicial\": 0.0006425169396170154<br>  }<br>}",
          "{<br>  \"number\": 70,<br>  \"values\": [<br>    0.6600000262260437,<br>    19925.0<br>  ],<br>  \"params\": {<br>    \"batchsize\": 64,<br>    \"brightness_factor\": 0.07665245556311104,<br>    \"gaussian_noise_factor\": 0.1021844647930891,<br>    \"translate_factor\": 0.10562365016565278,<br>    \"num_layers\": 1,<br>    \"output_layer\": \"dense\",<br>    \"layer_0\": \"Conv2D\",<br>    \"layer_0_conv2d_filters\": 28,<br>    \"layer_0_conv2d_fsize\": 4,<br>    \"layer_0_conv2d_ssize\": 3,<br>    \"activation_0\": \"linear\",<br>    \"output_dropout\": 0.5593763735560118,<br>    \"lr_inicial\": 0.0004687835434460523<br>  }<br>}",
          "{<br>  \"number\": 71,<br>  \"values\": [<br>    0.20000000298023224,<br>    11429.0<br>  ],<br>  \"params\": {<br>    \"batchsize\": 32,<br>    \"brightness_factor\": 0.005359409885818914,<br>    \"gaussian_noise_factor\": 0.11053923503120149,<br>    \"translate_factor\": 0.02508413658858197,<br>    \"num_layers\": 2,<br>    \"output_layer\": \"pooling\",<br>    \"layer_0\": \"Conv2D\",<br>    \"layer_0_conv2d_filters\": 8,<br>    \"layer_0_conv2d_fsize\": 4,<br>    \"layer_0_conv2d_ssize\": 5,<br>    \"activation_0\": \"tanh\",<br>    \"layer_1\": \"Conv2D\",<br>    \"layer_1_conv2d_filters\": 28,<br>    \"layer_1_conv2d_fsize\": 3,<br>    \"layer_1_conv2d_ssize\": 5,<br>    \"activation_1\": \"tanh\",<br>    \"pre_GAP_layer_fsize\": 3,<br>    \"pre_GAP_layer_act\": \"relu\",<br>    \"lr_inicial\": 0.001266388932802594<br>  }<br>}",
          "{<br>  \"number\": 72,<br>  \"values\": [<br>    0.8199999928474426,<br>    23047.0<br>  ],<br>  \"params\": {<br>    \"batchsize\": 32,<br>    \"brightness_factor\": 0.1852456238224224,<br>    \"gaussian_noise_factor\": 0.008322734084190682,<br>    \"translate_factor\": 0.15121526104690233,<br>    \"num_layers\": 2,<br>    \"output_layer\": \"dense\",<br>    \"layer_0\": \"Conv2D\",<br>    \"layer_0_conv2d_filters\": 4,<br>    \"layer_0_conv2d_fsize\": 4,<br>    \"layer_0_conv2d_ssize\": 5,<br>    \"activation_0\": \"tanh\",<br>    \"layer_1\": \"Conv2D\",<br>    \"layer_1_conv2d_filters\": 20,<br>    \"layer_1_conv2d_fsize\": 4,<br>    \"layer_1_conv2d_ssize\": 7,<br>    \"activation_1\": \"relu\",<br>    \"output_dropout\": 0.43328844120239657,<br>    \"lr_inicial\": 0.0008104883641311555<br>  }<br>}",
          "{<br>  \"number\": 73,<br>  \"values\": [<br>    0.6800000071525574,<br>    7357.0<br>  ],<br>  \"params\": {<br>    \"batchsize\": 32,<br>    \"brightness_factor\": 0.16351184894912998,<br>    \"gaussian_noise_factor\": 0.11079203579358973,<br>    \"translate_factor\": 0.15259034108401234,<br>    \"num_layers\": 2,<br>    \"output_layer\": \"pooling\",<br>    \"layer_0\": \"Conv2D\",<br>    \"layer_0_conv2d_filters\": 4,<br>    \"layer_0_conv2d_fsize\": 4,<br>    \"layer_0_conv2d_ssize\": 5,<br>    \"activation_0\": \"tanh\",<br>    \"layer_1\": \"Conv2D\",<br>    \"layer_1_conv2d_filters\": 20,<br>    \"layer_1_conv2d_fsize\": 4,<br>    \"layer_1_conv2d_ssize\": 6,<br>    \"activation_1\": \"tanh\",<br>    \"pre_GAP_layer_fsize\": 3,<br>    \"pre_GAP_layer_act\": \"relu\",<br>    \"lr_inicial\": 0.0008189245082965939<br>  }<br>}",
          "{<br>  \"number\": 74,<br>  \"values\": [<br>    0.699999988079071,<br>    18701.0<br>  ],<br>  \"params\": {<br>    \"batchsize\": 32,<br>    \"brightness_factor\": 0.018185034088730075,<br>    \"gaussian_noise_factor\": 0.021916752684967844,<br>    \"translate_factor\": 0.12178971506153519,<br>    \"num_layers\": 1,<br>    \"output_layer\": \"dense\",<br>    \"layer_0\": \"Conv2D\",<br>    \"layer_0_conv2d_filters\": 4,<br>    \"layer_0_conv2d_fsize\": 4,<br>    \"layer_0_conv2d_ssize\": 6,<br>    \"activation_0\": \"tanh\",<br>    \"output_dropout\": 0.5994475258068067,<br>    \"lr_inicial\": 0.001410921472281763<br>  }<br>}",
          "{<br>  \"number\": 75,<br>  \"values\": [<br>    0.6000000238418579,<br>    757.0<br>  ],<br>  \"params\": {<br>    \"batchsize\": 32,<br>    \"brightness_factor\": 0.006713203528274167,<br>    \"gaussian_noise_factor\": 0.1290893038967905,<br>    \"translate_factor\": 0.14689148615980968,<br>    \"num_layers\": 1,<br>    \"output_layer\": \"pooling\",<br>    \"layer_0\": \"Conv2D\",<br>    \"layer_0_conv2d_filters\": 4,<br>    \"layer_0_conv2d_fsize\": 4,<br>    \"layer_0_conv2d_ssize\": 16,<br>    \"activation_0\": \"tanh\",<br>    \"pre_GAP_layer_fsize\": 3,<br>    \"pre_GAP_layer_act\": \"relu\",<br>    \"lr_inicial\": 0.001664411817338932<br>  }<br>}",
          "{<br>  \"number\": 76,<br>  \"values\": [<br>    0.5199999809265137,<br>    3741.0<br>  ],<br>  \"params\": {<br>    \"batchsize\": 32,<br>    \"brightness_factor\": 0.1978212406480462,<br>    \"gaussian_noise_factor\": 0.09708153511874418,<br>    \"translate_factor\": 0.1371023654021845,<br>    \"num_layers\": 2,<br>    \"output_layer\": \"pooling\",<br>    \"layer_0\": \"Conv2D\",<br>    \"layer_0_conv2d_filters\": 4,<br>    \"layer_0_conv2d_fsize\": 4,<br>    \"layer_0_conv2d_ssize\": 5,<br>    \"activation_0\": \"tanh\",<br>    \"layer_1\": \"Conv2D\",<br>    \"layer_1_conv2d_filters\": 8,<br>    \"layer_1_conv2d_fsize\": 4,<br>    \"layer_1_conv2d_ssize\": 5,<br>    \"activation_1\": \"linear\",<br>    \"pre_GAP_layer_fsize\": 4,<br>    \"pre_GAP_layer_act\": \"tanh\",<br>    \"lr_inicial\": 0.0017635993180405262<br>  }<br>}",
          "{<br>  \"number\": 77,<br>  \"values\": [<br>    0.7400000095367432,<br>    19469.0<br>  ],<br>  \"params\": {<br>    \"batchsize\": 32,<br>    \"brightness_factor\": 0.030089093229264126,<br>    \"gaussian_noise_factor\": 0.013014875562011446,<br>    \"translate_factor\": 0.15961060075565245,<br>    \"num_layers\": 1,<br>    \"output_layer\": \"dense\",<br>    \"layer_0\": \"Pointwise2D\",<br>    \"layer_0_pwconv2d_filters\": 8,<br>    \"layer_0_pwconv2d_ssize\": 12,<br>    \"activation_0\": \"linear\",<br>    \"output_dropout\": 0.3748584734357103,<br>    \"lr_inicial\": 0.0015200541958633625<br>  }<br>}",
          "{<br>  \"number\": 78,<br>  \"values\": [<br>    0.46000000834465027,<br>    1509.0<br>  ],<br>  \"params\": {<br>    \"batchsize\": 32,<br>    \"brightness_factor\": 0.025243421788939225,<br>    \"gaussian_noise_factor\": 0.03788359418417451,<br>    \"translate_factor\": 0.13096357485690302,<br>    \"num_layers\": 1,<br>    \"output_layer\": \"pooling\",<br>    \"layer_0\": \"Conv2D\",<br>    \"layer_0_conv2d_filters\": 8,<br>    \"layer_0_conv2d_fsize\": 4,<br>    \"layer_0_conv2d_ssize\": 3,<br>    \"activation_0\": \"tanh\",<br>    \"pre_GAP_layer_fsize\": 3,<br>    \"pre_GAP_layer_act\": \"relu\",<br>    \"lr_inicial\": 0.0009704923540653365<br>  }<br>}",
          "{<br>  \"number\": 79,<br>  \"values\": [<br>    0.6800000071525574,<br>    2557.0<br>  ],<br>  \"params\": {<br>    \"batchsize\": 32,<br>    \"brightness_factor\": 0.05597908634968353,<br>    \"gaussian_noise_factor\": 0.15033572664981165,<br>    \"translate_factor\": 0.18317348430050126,<br>    \"num_layers\": 2,<br>    \"output_layer\": \"pooling\",<br>    \"layer_0\": \"Conv2D\",<br>    \"layer_0_conv2d_filters\": 4,<br>    \"layer_0_conv2d_fsize\": 4,<br>    \"layer_0_conv2d_ssize\": 5,<br>    \"activation_0\": \"tanh\",<br>    \"layer_1\": \"Pointwise2D\",<br>    \"layer_1_pwconv2d_filters\": 20,<br>    \"layer_1_pwconv2d_ssize\": 5,<br>    \"activation_1\": \"relu\",<br>    \"pre_GAP_layer_fsize\": 3,<br>    \"pre_GAP_layer_act\": \"relu\",<br>    \"lr_inicial\": 0.0011044077801033478<br>  }<br>}",
          "{<br>  \"number\": 80,<br>  \"values\": [<br>    0.7400000095367432,<br>    17531.0<br>  ],<br>  \"params\": {<br>    \"batchsize\": 32,<br>    \"brightness_factor\": 0.12421616024649954,<br>    \"gaussian_noise_factor\": 0.05802416533652045,<br>    \"translate_factor\": 0.16533524539525382,<br>    \"num_layers\": 1,<br>    \"output_layer\": \"dense\",<br>    \"layer_0\": \"Pointwise2D\",<br>    \"layer_0_pwconv2d_filters\": 24,<br>    \"layer_0_pwconv2d_ssize\": 11,<br>    \"activation_0\": \"linear\",<br>    \"output_dropout\": 0.3451659712732335,<br>    \"lr_inicial\": 0.0007426777579898427<br>  }<br>}",
          "{<br>  \"number\": 81,<br>  \"values\": [<br>    0.47999998927116394,<br>    869.0<br>  ],<br>  \"params\": {<br>    \"batchsize\": 32,<br>    \"brightness_factor\": 0.008141672671309927,<br>    \"gaussian_noise_factor\": 0.06552753156152971,<br>    \"translate_factor\": 0.1444128730334866,<br>    \"num_layers\": 1,<br>    \"output_layer\": \"pooling\",<br>    \"layer_0\": \"Conv2D\",<br>    \"layer_0_conv2d_filters\": 4,<br>    \"layer_0_conv2d_fsize\": 3,<br>    \"layer_0_conv2d_ssize\": 15,<br>    \"activation_0\": \"tanh\",<br>    \"pre_GAP_layer_fsize\": 4,<br>    \"pre_GAP_layer_act\": \"tanh\",<br>    \"lr_inicial\": 0.000651639373041329<br>  }<br>}",
          "{<br>  \"number\": 82,<br>  \"values\": [<br>    0.7200000286102295,<br>    24023.0<br>  ],<br>  \"params\": {<br>    \"batchsize\": 32,<br>    \"brightness_factor\": 0.00634090001758498,<br>    \"gaussian_noise_factor\": 0.10744358512034863,<br>    \"translate_factor\": 0.13932125354167557,<br>    \"num_layers\": 3,<br>    \"output_layer\": \"dense\",<br>    \"layer_0\": \"Conv2D\",<br>    \"layer_0_conv2d_filters\": 12,<br>    \"layer_0_conv2d_fsize\": 4,<br>    \"layer_0_conv2d_ssize\": 3,<br>    \"activation_0\": \"tanh\",<br>    \"layer_1\": \"Conv2D\",<br>    \"layer_1_conv2d_filters\": 12,<br>    \"layer_1_conv2d_fsize\": 4,<br>    \"layer_1_conv2d_ssize\": 2,<br>    \"activation_1\": \"tanh\",<br>    \"layer_2\": \"Conv2D\",<br>    \"layer_2_conv2d_filters\": 4,<br>    \"layer_2_conv2d_fsize\": 5,<br>    \"layer_2_conv2d_ssize\": 2,<br>    \"activation_2\": \"linear\",<br>    \"output_dropout\": 0.41601558206484396,<br>    \"lr_inicial\": 0.0012696660958010943<br>  }<br>}",
          "{<br>  \"number\": 83,<br>  \"values\": [<br>    0.6200000047683716,<br>    2789.0<br>  ],<br>  \"params\": {<br>    \"batchsize\": 32,<br>    \"brightness_factor\": 0.017730331568170075,<br>    \"gaussian_noise_factor\": 0.16196436621121035,<br>    \"translate_factor\": 0.15185366840271874,<br>    \"num_layers\": 1,<br>    \"output_layer\": \"pooling\",<br>    \"layer_0\": \"Conv2D\",<br>    \"layer_0_conv2d_filters\": 8,<br>    \"layer_0_conv2d_fsize\": 4,<br>    \"layer_0_conv2d_ssize\": 6,<br>    \"activation_0\": \"tanh\",<br>    \"pre_GAP_layer_fsize\": 5,<br>    \"pre_GAP_layer_act\": \"linear\",<br>    \"lr_inicial\": 0.001969821700723627<br>  }<br>}",
          "{<br>  \"number\": 84,<br>  \"values\": [<br>    0.6200000047683716,<br>    5757.0<br>  ],<br>  \"params\": {<br>    \"batchsize\": 128,<br>    \"brightness_factor\": 0.013214689879897507,<br>    \"gaussian_noise_factor\": 0.12234360166239136,<br>    \"translate_factor\": 0.17400685239257832,<br>    \"num_layers\": 2,<br>    \"output_layer\": \"pooling\",<br>    \"layer_0\": \"Conv2D\",<br>    \"layer_0_conv2d_filters\": 4,<br>    \"layer_0_conv2d_fsize\": 4,<br>    \"layer_0_conv2d_ssize\": 5,<br>    \"activation_0\": \"tanh\",<br>    \"layer_1\": \"Pointwise2D\",<br>    \"layer_1_pwconv2d_filters\": 20,<br>    \"layer_1_pwconv2d_ssize\": 8,<br>    \"activation_1\": \"linear\",<br>    \"pre_GAP_layer_fsize\": 5,<br>    \"pre_GAP_layer_act\": \"relu\",<br>    \"lr_inicial\": 0.0008756809368269212<br>  }<br>}",
          "{<br>  \"number\": 85,<br>  \"values\": [<br>    0.6800000071525574,<br>    35203.0<br>  ],<br>  \"params\": {<br>    \"batchsize\": 32,<br>    \"brightness_factor\": 0.09231730135802257,<br>    \"gaussian_noise_factor\": 0.002797316358208457,<br>    \"translate_factor\": 0.1940751310985763,<br>    \"num_layers\": 3,<br>    \"output_layer\": \"dense\",<br>    \"layer_0\": \"Conv2D\",<br>    \"layer_0_conv2d_filters\": 32,<br>    \"layer_0_conv2d_fsize\": 3,<br>    \"layer_0_conv2d_ssize\": 2,<br>    \"activation_0\": \"linear\",<br>    \"layer_1\": \"Conv2D\",<br>    \"layer_1_conv2d_filters\": 8,<br>    \"layer_1_conv2d_fsize\": 5,<br>    \"layer_1_conv2d_ssize\": 4,<br>    \"activation_1\": \"tanh\",<br>    \"layer_2\": \"Conv2D\",<br>    \"layer_2_conv2d_filters\": 32,<br>    \"layer_2_conv2d_fsize\": 5,<br>    \"layer_2_conv2d_ssize\": 3,<br>    \"activation_2\": \"linear\",<br>    \"output_dropout\": 0.3940705086089411,<br>    \"lr_inicial\": 0.001777648564634595<br>  }<br>}",
          "{<br>  \"number\": 86,<br>  \"values\": [<br>    0.6200000047683716,<br>    1573.0<br>  ],<br>  \"params\": {<br>    \"batchsize\": 32,<br>    \"brightness_factor\": 0.15729559368165127,<br>    \"gaussian_noise_factor\": 0.11494636977946665,<br>    \"translate_factor\": 0.07926298771339192,<br>    \"num_layers\": 1,<br>    \"output_layer\": \"pooling\",<br>    \"layer_0\": \"Pointwise2D\",<br>    \"layer_0_pwconv2d_filters\": 16,<br>    \"layer_0_pwconv2d_ssize\": 16,<br>    \"activation_0\": \"tanh\",<br>    \"pre_GAP_layer_fsize\": 3,<br>    \"pre_GAP_layer_act\": \"linear\",<br>    \"lr_inicial\": 0.0014071490218281624<br>  }<br>}",
          "{<br>  \"number\": 87,<br>  \"values\": [<br>    0.20000000298023224,<br>    33661.0<br>  ],<br>  \"params\": {<br>    \"batchsize\": 128,<br>    \"brightness_factor\": 0.00040782776924746904,<br>    \"gaussian_noise_factor\": 0.10272592234480528,<br>    \"translate_factor\": 0.008443352864615769,<br>    \"num_layers\": 3,<br>    \"output_layer\": \"pooling\",<br>    \"layer_0\": \"Conv2D\",<br>    \"layer_0_conv2d_filters\": 16,<br>    \"layer_0_conv2d_fsize\": 4,<br>    \"layer_0_conv2d_ssize\": 3,<br>    \"activation_0\": \"tanh\",<br>    \"layer_1\": \"Pointwise2D\",<br>    \"layer_1_pwconv2d_filters\": 28,<br>    \"layer_1_pwconv2d_ssize\": 4,<br>    \"activation_1\": \"relu\",<br>    \"layer_2\": \"Conv2D\",<br>    \"layer_2_conv2d_filters\": 24,<br>    \"layer_2_conv2d_fsize\": 3,<br>    \"layer_2_conv2d_ssize\": 3,<br>    \"activation_2\": \"linear\",<br>    \"pre_GAP_layer_fsize\": 5,<br>    \"pre_GAP_layer_act\": \"relu\",<br>    \"lr_inicial\": 0.0015348401850626085<br>  }<br>}",
          "{<br>  \"number\": 88,<br>  \"values\": [<br>    0.7400000095367432,<br>    31192.0<br>  ],<br>  \"params\": {<br>    \"batchsize\": 64,<br>    \"brightness_factor\": 0.012761948663456943,<br>    \"gaussian_noise_factor\": 0.0893423443483956,<br>    \"translate_factor\": 0.16734545665243794,<br>    \"num_layers\": 2,<br>    \"output_layer\": \"dense\",<br>    \"layer_0\": \"Conv2D\",<br>    \"layer_0_conv2d_filters\": 24,<br>    \"layer_0_conv2d_fsize\": 4,<br>    \"layer_0_conv2d_ssize\": 5,<br>    \"activation_0\": \"tanh\",<br>    \"layer_1\": \"Conv2D\",<br>    \"layer_1_conv2d_filters\": 20,<br>    \"layer_1_conv2d_fsize\": 4,<br>    \"layer_1_conv2d_ssize\": 8,<br>    \"activation_1\": \"tanh\",<br>    \"output_dropout\": 0.4300892875123476,<br>    \"lr_inicial\": 0.0016642705863372<br>  }<br>}",
          "{<br>  \"number\": 89,<br>  \"values\": [<br>    0.5799999833106995,<br>    589.0<br>  ],<br>  \"params\": {<br>    \"batchsize\": 32,<br>    \"brightness_factor\": 0.14359348107697154,<br>    \"gaussian_noise_factor\": 0.08089679420420132,<br>    \"translate_factor\": 0.11607637993932404,<br>    \"num_layers\": 1,<br>    \"output_layer\": \"pooling\",<br>    \"layer_0\": \"Conv2D\",<br>    \"layer_0_conv2d_filters\": 4,<br>    \"layer_0_conv2d_fsize\": 3,<br>    \"layer_0_conv2d_ssize\": 7,<br>    \"activation_0\": \"linear\",<br>    \"pre_GAP_layer_fsize\": 3,<br>    \"pre_GAP_layer_act\": \"linear\",<br>    \"lr_inicial\": 0.0008165663333571968<br>  }<br>}",
          "{<br>  \"number\": 90,<br>  \"values\": [<br>    0.6000000238418579,<br>    1965.0<br>  ],<br>  \"params\": {<br>    \"batchsize\": 32,<br>    \"brightness_factor\": 0.16945174471433816,<br>    \"gaussian_noise_factor\": 0.13982719880022879,<br>    \"translate_factor\": 0.12564374153363528,<br>    \"num_layers\": 1,<br>    \"output_layer\": \"pooling\",<br>    \"layer_0\": \"Pointwise2D\",<br>    \"layer_0_pwconv2d_filters\": 20,<br>    \"layer_0_pwconv2d_ssize\": 14,<br>    \"activation_0\": \"linear\",<br>    \"pre_GAP_layer_fsize\": 3,<br>    \"pre_GAP_layer_act\": \"relu\",<br>    \"lr_inicial\": 0.0011969353722206199<br>  }<br>}",
          "{<br>  \"number\": 91,<br>  \"values\": [<br>    0.47999998927116394,<br>    589.0<br>  ],<br>  \"params\": {<br>    \"batchsize\": 32,<br>    \"brightness_factor\": 0.14266372680298853,<br>    \"gaussian_noise_factor\": 0.13223052286926285,<br>    \"translate_factor\": 0.11533996941469275,<br>    \"num_layers\": 1,<br>    \"output_layer\": \"pooling\",<br>    \"layer_0\": \"Conv2D\",<br>    \"layer_0_conv2d_filters\": 4,<br>    \"layer_0_conv2d_fsize\": 3,<br>    \"layer_0_conv2d_ssize\": 13,<br>    \"activation_0\": \"tanh\",<br>    \"pre_GAP_layer_fsize\": 3,<br>    \"pre_GAP_layer_act\": \"tanh\",<br>    \"lr_inicial\": 0.0014428699054524754<br>  }<br>}",
          "{<br>  \"number\": 92,<br>  \"values\": [<br>    0.7200000286102295,<br>    5405.0<br>  ],<br>  \"params\": {<br>    \"batchsize\": 32,<br>    \"brightness_factor\": 0.18041178682575246,<br>    \"gaussian_noise_factor\": 0.0798990352083795,<br>    \"translate_factor\": 0.13374975986946314,<br>    \"num_layers\": 2,<br>    \"output_layer\": \"pooling\",<br>    \"layer_0\": \"Conv2D\",<br>    \"layer_0_conv2d_filters\": 20,<br>    \"layer_0_conv2d_fsize\": 4,<br>    \"layer_0_conv2d_ssize\": 5,<br>    \"activation_0\": \"tanh\",<br>    \"layer_1\": \"Pointwise2D\",<br>    \"layer_1_pwconv2d_filters\": 20,<br>    \"layer_1_pwconv2d_ssize\": 5,<br>    \"activation_1\": \"relu\",<br>    \"pre_GAP_layer_fsize\": 3,<br>    \"pre_GAP_layer_act\": \"linear\",<br>    \"lr_inicial\": 0.0006864555168743312<br>  }<br>}",
          "{<br>  \"number\": 93,<br>  \"values\": [<br>    0.699999988079071,<br>    4717.0<br>  ],<br>  \"params\": {<br>    \"batchsize\": 32,<br>    \"brightness_factor\": 0.18659288323255266,<br>    \"gaussian_noise_factor\": 0.07905679300552619,<br>    \"translate_factor\": 0.18291552604045394,<br>    \"num_layers\": 2,<br>    \"output_layer\": \"pooling\",<br>    \"layer_0\": \"Conv2D\",<br>    \"layer_0_conv2d_filters\": 20,<br>    \"layer_0_conv2d_fsize\": 4,<br>    \"layer_0_conv2d_ssize\": 5,<br>    \"activation_0\": \"tanh\",<br>    \"layer_1\": \"Pointwise2D\",<br>    \"layer_1_pwconv2d_filters\": 16,<br>    \"layer_1_pwconv2d_ssize\": 5,<br>    \"activation_1\": \"relu\",<br>    \"pre_GAP_layer_fsize\": 3,<br>    \"pre_GAP_layer_act\": \"linear\",<br>    \"lr_inicial\": 0.0006821181520441078<br>  }<br>}",
          "{<br>  \"number\": 94,<br>  \"values\": [<br>    0.6800000071525574,<br>    4029.0<br>  ],<br>  \"params\": {<br>    \"batchsize\": 32,<br>    \"brightness_factor\": 0.18188380759063574,<br>    \"gaussian_noise_factor\": 0.0677105870239599,<br>    \"translate_factor\": 0.13296208962287537,<br>    \"num_layers\": 2,<br>    \"output_layer\": \"pooling\",<br>    \"layer_0\": \"Conv2D\",<br>    \"layer_0_conv2d_filters\": 20,<br>    \"layer_0_conv2d_fsize\": 4,<br>    \"layer_0_conv2d_ssize\": 5,<br>    \"activation_0\": \"tanh\",<br>    \"layer_1\": \"Pointwise2D\",<br>    \"layer_1_pwconv2d_filters\": 12,<br>    \"layer_1_pwconv2d_ssize\": 6,<br>    \"activation_1\": \"relu\",<br>    \"pre_GAP_layer_fsize\": 3,<br>    \"pre_GAP_layer_act\": \"linear\",<br>    \"lr_inicial\": 0.0008009755364185783<br>  }<br>}",
          "{<br>  \"number\": 95,<br>  \"values\": [<br>    0.6600000262260437,<br>    6117.0<br>  ],<br>  \"params\": {<br>    \"batchsize\": 64,<br>    \"brightness_factor\": 0.18027902316567432,<br>    \"gaussian_noise_factor\": 0.083991238741488,<br>    \"translate_factor\": 0.11196699104022603,<br>    \"num_layers\": 2,<br>    \"output_layer\": \"pooling\",<br>    \"layer_0\": \"Conv2D\",<br>    \"layer_0_conv2d_filters\": 24,<br>    \"layer_0_conv2d_fsize\": 4,<br>    \"layer_0_conv2d_ssize\": 5,<br>    \"activation_0\": \"tanh\",<br>    \"layer_1\": \"Pointwise2D\",<br>    \"layer_1_pwconv2d_filters\": 20,<br>    \"layer_1_pwconv2d_ssize\": 6,<br>    \"activation_1\": \"relu\",<br>    \"pre_GAP_layer_fsize\": 3,<br>    \"pre_GAP_layer_act\": \"linear\",<br>    \"lr_inicial\": 0.0005895356751003671<br>  }<br>}",
          "{<br>  \"number\": 96,<br>  \"values\": [<br>    0.699999988079071,<br>    4029.0<br>  ],<br>  \"params\": {<br>    \"batchsize\": 32,<br>    \"brightness_factor\": 0.1929015910839519,<br>    \"gaussian_noise_factor\": 0.06040579346548346,<br>    \"translate_factor\": 0.12034160284994798,<br>    \"num_layers\": 2,<br>    \"output_layer\": \"pooling\",<br>    \"layer_0\": \"Conv2D\",<br>    \"layer_0_conv2d_filters\": 20,<br>    \"layer_0_conv2d_fsize\": 4,<br>    \"layer_0_conv2d_ssize\": 5,<br>    \"activation_0\": \"tanh\",<br>    \"layer_1\": \"Pointwise2D\",<br>    \"layer_1_pwconv2d_filters\": 12,<br>    \"layer_1_pwconv2d_ssize\": 5,<br>    \"activation_1\": \"relu\",<br>    \"pre_GAP_layer_fsize\": 3,<br>    \"pre_GAP_layer_act\": \"linear\",<br>    \"lr_inicial\": 0.0006143098307775534<br>  }<br>}",
          "{<br>  \"number\": 97,<br>  \"values\": [<br>    0.699999988079071,<br>    4613.0<br>  ],<br>  \"params\": {<br>    \"batchsize\": 32,<br>    \"brightness_factor\": 0.1923907762400634,<br>    \"gaussian_noise_factor\": 0.05295971538962525,<br>    \"translate_factor\": 0.14741340331843303,<br>    \"num_layers\": 2,<br>    \"output_layer\": \"pooling\",<br>    \"layer_0\": \"Conv2D\",<br>    \"layer_0_conv2d_filters\": 24,<br>    \"layer_0_conv2d_fsize\": 4,<br>    \"layer_0_conv2d_ssize\": 6,<br>    \"activation_0\": \"tanh\",<br>    \"layer_1\": \"Pointwise2D\",<br>    \"layer_1_pwconv2d_filters\": 12,<br>    \"layer_1_pwconv2d_ssize\": 7,<br>    \"activation_1\": \"relu\",<br>    \"pre_GAP_layer_fsize\": 3,<br>    \"pre_GAP_layer_act\": \"linear\",<br>    \"lr_inicial\": 0.0006999539493644147<br>  }<br>}",
          "{<br>  \"number\": 98,<br>  \"values\": [<br>    0.7400000095367432,<br>    11261.0<br>  ],<br>  \"params\": {<br>    \"batchsize\": 32,<br>    \"brightness_factor\": 0.19988458953030122,<br>    \"gaussian_noise_factor\": 0.07823487817250731,<br>    \"translate_factor\": 0.14141535447321688,<br>    \"num_layers\": 2,<br>    \"output_layer\": \"pooling\",<br>    \"layer_0\": \"Conv2D\",<br>    \"layer_0_conv2d_filters\": 20,<br>    \"layer_0_conv2d_fsize\": 4,<br>    \"layer_0_conv2d_ssize\": 4,<br>    \"activation_0\": \"tanh\",<br>    \"layer_1\": \"Pointwise2D\",<br>    \"layer_1_pwconv2d_filters\": 28,<br>    \"layer_1_pwconv2d_ssize\": 6,<br>    \"activation_1\": \"relu\",<br>    \"pre_GAP_layer_fsize\": 5,<br>    \"pre_GAP_layer_act\": \"linear\",<br>    \"lr_inicial\": 0.000742745885583407<br>  }<br>}",
          "{<br>  \"number\": 99,<br>  \"values\": [<br>    0.800000011920929,<br>    30868.0<br>  ],<br>  \"params\": {<br>    \"batchsize\": 32,<br>    \"brightness_factor\": 0.18886813548072326,<br>    \"gaussian_noise_factor\": 0.07088962258070403,<br>    \"translate_factor\": 0.11912054612796104,<br>    \"num_layers\": 2,<br>    \"output_layer\": \"dense\",<br>    \"layer_0\": \"Conv2D\",<br>    \"layer_0_conv2d_filters\": 20,<br>    \"layer_0_conv2d_fsize\": 4,<br>    \"layer_0_conv2d_ssize\": 6,<br>    \"activation_0\": \"tanh\",<br>    \"layer_1\": \"Conv2D\",<br>    \"layer_1_conv2d_filters\": 16,<br>    \"layer_1_conv2d_fsize\": 5,<br>    \"layer_1_conv2d_ssize\": 7,<br>    \"activation_1\": \"relu\",<br>    \"output_dropout\": 0.40355395080175915,<br>    \"lr_inicial\": 0.0007448767538768948<br>  }<br>}",
          "{<br>  \"number\": 100,<br>  \"values\": [<br>    0.699999988079071,<br>    5925.0<br>  ],<br>  \"params\": {<br>    \"batchsize\": 32,<br>    \"brightness_factor\": 0.17057124242744684,<br>    \"gaussian_noise_factor\": 0.06231902965682817,<br>    \"translate_factor\": 0.12606674685471872,<br>    \"num_layers\": 2,<br>    \"output_layer\": \"pooling\",<br>    \"layer_0\": \"Conv2D\",<br>    \"layer_0_conv2d_filters\": 4,<br>    \"layer_0_conv2d_fsize\": 3,<br>    \"layer_0_conv2d_ssize\": 4,<br>    \"activation_0\": \"tanh\",<br>    \"layer_1\": \"Pointwise2D\",<br>    \"layer_1_pwconv2d_filters\": 32,<br>    \"layer_1_pwconv2d_ssize\": 6,<br>    \"activation_1\": \"relu\",<br>    \"pre_GAP_layer_fsize\": 4,<br>    \"pre_GAP_layer_act\": \"relu\",<br>    \"lr_inicial\": 0.0008530083072716844<br>  }<br>}",
          "{<br>  \"number\": 101,<br>  \"values\": [<br>    0.7599999904632568,<br>    23211.0<br>  ],<br>  \"params\": {<br>    \"batchsize\": 32,<br>    \"brightness_factor\": 0.1930092780889553,<br>    \"gaussian_noise_factor\": 0.07494618635445303,<br>    \"translate_factor\": 0.1350638395591615,<br>    \"num_layers\": 2,<br>    \"output_layer\": \"dense\",<br>    \"layer_0\": \"Conv2D\",<br>    \"layer_0_conv2d_filters\": 20,<br>    \"layer_0_conv2d_fsize\": 4,<br>    \"layer_0_conv2d_ssize\": 5,<br>    \"activation_0\": \"tanh\",<br>    \"layer_1\": \"Pointwise2D\",<br>    \"layer_1_pwconv2d_filters\": 28,<br>    \"layer_1_pwconv2d_ssize\": 7,<br>    \"activation_1\": \"relu\",<br>    \"output_dropout\": 0.4763995521007422,<br>    \"lr_inicial\": 0.0006184115277968763<br>  }<br>}",
          "{<br>  \"number\": 102,<br>  \"values\": [<br>    0.7400000095367432,<br>    6093.0<br>  ],<br>  \"params\": {<br>    \"batchsize\": 32,<br>    \"brightness_factor\": 0.19835814035355134,<br>    \"gaussian_noise_factor\": 0.078457415946885,<br>    \"translate_factor\": 0.14088376343137998,<br>    \"num_layers\": 2,<br>    \"output_layer\": \"pooling\",<br>    \"layer_0\": \"Conv2D\",<br>    \"layer_0_conv2d_filters\": 20,<br>    \"layer_0_conv2d_fsize\": 4,<br>    \"layer_0_conv2d_ssize\": 4,<br>    \"activation_0\": \"tanh\",<br>    \"layer_1\": \"Pointwise2D\",<br>    \"layer_1_pwconv2d_filters\": 24,<br>    \"layer_1_pwconv2d_ssize\": 5,<br>    \"activation_1\": \"relu\",<br>    \"pre_GAP_layer_fsize\": 3,<br>    \"pre_GAP_layer_act\": \"linear\",<br>    \"lr_inicial\": 0.0007130207605272575<br>  }<br>}",
          "{<br>  \"number\": 103,<br>  \"values\": [<br>    0.7400000095367432,<br>    2989.0<br>  ],<br>  \"params\": {<br>    \"batchsize\": 64,<br>    \"brightness_factor\": 0.17864732126817584,<br>    \"gaussian_noise_factor\": 0.03414718890090003,<br>    \"translate_factor\": 0.1416820250355827,<br>    \"num_layers\": 2,<br>    \"output_layer\": \"pooling\",<br>    \"layer_0\": \"Conv2D\",<br>    \"layer_0_conv2d_filters\": 4,<br>    \"layer_0_conv2d_fsize\": 4,<br>    \"layer_0_conv2d_ssize\": 4,<br>    \"activation_0\": \"tanh\",<br>    \"layer_1\": \"Pointwise2D\",<br>    \"layer_1_pwconv2d_filters\": 24,<br>    \"layer_1_pwconv2d_ssize\": 5,<br>    \"activation_1\": \"relu\",<br>    \"pre_GAP_layer_fsize\": 3,<br>    \"pre_GAP_layer_act\": \"linear\",<br>    \"lr_inicial\": 0.0008151564800676466<br>  }<br>}",
          "{<br>  \"number\": 104,<br>  \"values\": [<br>    0.8199999928474426,<br>    20331.0<br>  ],<br>  \"params\": {<br>    \"batchsize\": 64,<br>    \"brightness_factor\": 0.15452337904628008,<br>    \"gaussian_noise_factor\": 0.01057490121798936,<br>    \"translate_factor\": 0.16133114735476844,<br>    \"num_layers\": 2,<br>    \"output_layer\": \"dense\",<br>    \"layer_0\": \"Conv2D\",<br>    \"layer_0_conv2d_filters\": 4,<br>    \"layer_0_conv2d_fsize\": 4,<br>    \"layer_0_conv2d_ssize\": 4,<br>    \"activation_0\": \"tanh\",<br>    \"layer_1\": \"Pointwise2D\",<br>    \"layer_1_pwconv2d_filters\": 24,<br>    \"layer_1_pwconv2d_ssize\": 5,<br>    \"activation_1\": \"relu\",<br>    \"output_dropout\": 0.43411347437283904,<br>    \"lr_inicial\": 0.000933373274254629<br>  }<br>}",
          "{<br>  \"number\": 105,<br>  \"values\": [<br>    0.7799999713897705,<br>    2989.0<br>  ],<br>  \"params\": {<br>    \"batchsize\": 64,<br>    \"brightness_factor\": 0.15585905859158755,<br>    \"gaussian_noise_factor\": 0.030542626546517647,<br>    \"translate_factor\": 0.18319256385464547,<br>    \"num_layers\": 2,<br>    \"output_layer\": \"pooling\",<br>    \"layer_0\": \"Conv2D\",<br>    \"layer_0_conv2d_filters\": 4,<br>    \"layer_0_conv2d_fsize\": 4,<br>    \"layer_0_conv2d_ssize\": 4,<br>    \"activation_0\": \"tanh\",<br>    \"layer_1\": \"Pointwise2D\",<br>    \"layer_1_pwconv2d_filters\": 24,<br>    \"layer_1_pwconv2d_ssize\": 5,<br>    \"activation_1\": \"relu\",<br>    \"pre_GAP_layer_fsize\": 3,<br>    \"pre_GAP_layer_act\": \"linear\",<br>    \"lr_inicial\": 0.0010601506618177106<br>  }<br>}",
          "{<br>  \"number\": 106,<br>  \"values\": [<br>    0.7400000095367432,<br>    20151.0<br>  ],<br>  \"params\": {<br>    \"batchsize\": 64,<br>    \"brightness_factor\": 0.1392203505606781,<br>    \"gaussian_noise_factor\": 0.03650676229210015,<br>    \"translate_factor\": 0.18326917728335398,<br>    \"num_layers\": 2,<br>    \"output_layer\": \"dense\",<br>    \"layer_0\": \"Pointwise2D\",<br>    \"layer_0_pwconv2d_filters\": 4,<br>    \"layer_0_pwconv2d_ssize\": 4,<br>    \"activation_0\": \"linear\",<br>    \"layer_1\": \"Pointwise2D\",<br>    \"layer_1_pwconv2d_filters\": 24,<br>    \"layer_1_pwconv2d_ssize\": 5,<br>    \"activation_1\": \"relu\",<br>    \"output_dropout\": 0.5334988690497909,<br>    \"lr_inicial\": 0.0010816542420545618<br>  }<br>}",
          "{<br>  \"number\": 107,<br>  \"values\": [<br>    0.6399999856948853,<br>    3461.0<br>  ],<br>  \"params\": {<br>    \"batchsize\": 64,<br>    \"brightness_factor\": 0.15110244930662417,<br>    \"gaussian_noise_factor\": 0.014541578125060153,<br>    \"translate_factor\": 0.18465215854488115,<br>    \"num_layers\": 2,<br>    \"output_layer\": \"pooling\",<br>    \"layer_0\": \"Pointwise2D\",<br>    \"layer_0_pwconv2d_filters\": 12,<br>    \"layer_0_pwconv2d_ssize\": 5,<br>    \"activation_0\": \"linear\",<br>    \"layer_1\": \"Pointwise2D\",<br>    \"layer_1_pwconv2d_filters\": 24,<br>    \"layer_1_pwconv2d_ssize\": 5,<br>    \"activation_1\": \"relu\",<br>    \"pre_GAP_layer_fsize\": 3,<br>    \"pre_GAP_layer_act\": \"linear\",<br>    \"lr_inicial\": 0.0010386549858865557<br>  }<br>}",
          "{<br>  \"number\": 108,<br>  \"values\": [<br>    0.6800000071525574,<br>    6421.0<br>  ],<br>  \"params\": {<br>    \"batchsize\": 64,<br>    \"brightness_factor\": 0.15916046499153272,<br>    \"gaussian_noise_factor\": 0.02733379478464646,<br>    \"translate_factor\": 0.19932745391188014,<br>    \"num_layers\": 2,<br>    \"output_layer\": \"pooling\",<br>    \"layer_0\": \"Pointwise2D\",<br>    \"layer_0_pwconv2d_filters\": 32,<br>    \"layer_0_pwconv2d_ssize\": 7,<br>    \"activation_0\": \"tanh\",<br>    \"layer_1\": \"Pointwise2D\",<br>    \"layer_1_pwconv2d_filters\": 28,<br>    \"layer_1_pwconv2d_ssize\": 4,<br>    \"activation_1\": \"relu\",<br>    \"pre_GAP_layer_fsize\": 3,<br>    \"pre_GAP_layer_act\": \"linear\",<br>    \"lr_inicial\": 0.0009245451482576978<br>  }<br>}",
          "{<br>  \"number\": 109,<br>  \"values\": [<br>    0.800000011920929,<br>    19812.0<br>  ],<br>  \"params\": {<br>    \"batchsize\": 64,<br>    \"brightness_factor\": 0.11369341772029792,<br>    \"gaussian_noise_factor\": 0.03338846746899366,<br>    \"translate_factor\": 0.17533732264031746,<br>    \"num_layers\": 2,<br>    \"output_layer\": \"dense\",<br>    \"layer_0\": \"Conv2D\",<br>    \"layer_0_conv2d_filters\": 4,<br>    \"layer_0_conv2d_fsize\": 3,<br>    \"layer_0_conv2d_ssize\": 4,<br>    \"activation_0\": \"tanh\",<br>    \"layer_1\": \"Pointwise2D\",<br>    \"layer_1_pwconv2d_filters\": 24,<br>    \"layer_1_pwconv2d_ssize\": 4,<br>    \"activation_1\": \"relu\",<br>    \"output_dropout\": 0.5043276246354507,<br>    \"lr_inicial\": 0.0011034220666506275<br>  }<br>}",
          "{<br>  \"number\": 110,<br>  \"values\": [<br>    0.6800000071525574,<br>    6389.0<br>  ],<br>  \"params\": {<br>    \"batchsize\": 64,<br>    \"brightness_factor\": 0.13141176579440944,<br>    \"gaussian_noise_factor\": 0.04400354229270309,<br>    \"translate_factor\": 0.1785201944875904,<br>    \"num_layers\": 2,<br>    \"output_layer\": \"pooling\",<br>    \"layer_0\": \"Pointwise2D\",<br>    \"layer_0_pwconv2d_filters\": 24,<br>    \"layer_0_pwconv2d_ssize\": 4,<br>    \"activation_0\": \"tanh\",<br>    \"layer_1\": \"Pointwise2D\",<br>    \"layer_1_pwconv2d_filters\": 24,<br>    \"layer_1_pwconv2d_ssize\": 4,<br>    \"activation_1\": \"relu\",<br>    \"pre_GAP_layer_fsize\": 4,<br>    \"pre_GAP_layer_act\": \"linear\",<br>    \"lr_inicial\": 0.0011191543304284192<br>  }<br>}",
          "{<br>  \"number\": 111,<br>  \"values\": [<br>    0.41999998688697815,<br>    2821.0<br>  ],<br>  \"params\": {<br>    \"batchsize\": 64,<br>    \"brightness_factor\": 0.14539450095012837,<br>    \"gaussian_noise_factor\": 0.033629451866675944,<br>    \"translate_factor\": 0.17470123076734384,<br>    \"num_layers\": 2,<br>    \"output_layer\": \"pooling\",<br>    \"layer_0\": \"Conv2D\",<br>    \"layer_0_conv2d_filters\": 4,<br>    \"layer_0_conv2d_fsize\": 3,<br>    \"layer_0_conv2d_ssize\": 4,<br>    \"activation_0\": \"tanh\",<br>    \"layer_1\": \"Pointwise2D\",<br>    \"layer_1_pwconv2d_filters\": 24,<br>    \"layer_1_pwconv2d_ssize\": 6,<br>    \"activation_1\": \"linear\",<br>    \"pre_GAP_layer_fsize\": 3,<br>    \"pre_GAP_layer_act\": \"tanh\",<br>    \"lr_inicial\": 0.0010456268002413448<br>  }<br>}",
          "{<br>  \"number\": 112,<br>  \"values\": [<br>    0.7599999904632568,<br>    2389.0<br>  ],<br>  \"params\": {<br>    \"batchsize\": 64,<br>    \"brightness_factor\": 0.1396627096608689,<br>    \"gaussian_noise_factor\": 0.016381568243858634,<br>    \"translate_factor\": 0.19081002720286847,<br>    \"num_layers\": 2,<br>    \"output_layer\": \"pooling\",<br>    \"layer_0\": \"Conv2D\",<br>    \"layer_0_conv2d_filters\": 4,<br>    \"layer_0_conv2d_fsize\": 3,<br>    \"layer_0_conv2d_ssize\": 4,<br>    \"activation_0\": \"linear\",<br>    \"layer_1\": \"Pointwise2D\",<br>    \"layer_1_pwconv2d_filters\": 20,<br>    \"layer_1_pwconv2d_ssize\": 5,<br>    \"activation_1\": \"relu\",<br>    \"pre_GAP_layer_fsize\": 3,<br>    \"pre_GAP_layer_act\": \"linear\",<br>    \"lr_inicial\": 0.0010060478575182367<br>  }<br>}",
          "{<br>  \"number\": 113,<br>  \"values\": [<br>    0.7799999713897705,<br>    2389.0<br>  ],<br>  \"params\": {<br>    \"batchsize\": 64,<br>    \"brightness_factor\": 0.11483016289200407,<br>    \"gaussian_noise_factor\": 0.02245821426055368,<br>    \"translate_factor\": 0.19070208013185522,<br>    \"num_layers\": 2,<br>    \"output_layer\": \"pooling\",<br>    \"layer_0\": \"Conv2D\",<br>    \"layer_0_conv2d_filters\": 4,<br>    \"layer_0_conv2d_fsize\": 3,<br>    \"layer_0_conv2d_ssize\": 4,<br>    \"activation_0\": \"linear\",<br>    \"layer_1\": \"Pointwise2D\",<br>    \"layer_1_pwconv2d_filters\": 20,<br>    \"layer_1_pwconv2d_ssize\": 5,<br>    \"activation_1\": \"relu\",<br>    \"pre_GAP_layer_fsize\": 3,<br>    \"pre_GAP_layer_act\": \"linear\",<br>    \"lr_inicial\": 0.0009845701986385044<br>  }<br>}",
          "{<br>  \"number\": 114,<br>  \"values\": [<br>    0.7400000095367432,<br>    19517.0<br>  ],<br>  \"params\": {<br>    \"batchsize\": 64,<br>    \"brightness_factor\": 0.11152458898120912,<br>    \"gaussian_noise_factor\": 0.0056738438399392185,<br>    \"translate_factor\": 0.10667412326634515,<br>    \"num_layers\": 1,<br>    \"output_layer\": \"dense\",<br>    \"layer_0\": \"Conv2D\",<br>    \"layer_0_conv2d_filters\": 4,<br>    \"layer_0_conv2d_fsize\": 3,<br>    \"layer_0_conv2d_ssize\": 12,<br>    \"activation_0\": \"linear\",<br>    \"output_dropout\": 0.49863070294743583,<br>    \"lr_inicial\": 0.0009934290114850584<br>  }<br>}",
          "{<br>  \"number\": 115,<br>  \"values\": [<br>    0.699999988079071,<br>    13817.0<br>  ],<br>  \"params\": {<br>    \"batchsize\": 64,<br>    \"brightness_factor\": 0.1191252713767996,<br>    \"gaussian_noise_factor\": 0.011091736309766877,<br>    \"translate_factor\": 0.1154625091028214,<br>    \"num_layers\": 1,<br>    \"output_layer\": \"dense\",<br>    \"layer_0\": \"Conv2D\",<br>    \"layer_0_conv2d_filters\": 4,<br>    \"layer_0_conv2d_fsize\": 3,<br>    \"layer_0_conv2d_ssize\": 7,<br>    \"activation_0\": \"linear\",<br>    \"output_dropout\": 0.45390228478758543,<br>    \"lr_inicial\": 0.0003208415676681449<br>  }<br>}",
          "{<br>  \"number\": 116,<br>  \"values\": [<br>    0.6800000071525574,<br>    13817.0<br>  ],<br>  \"params\": {<br>    \"batchsize\": 64,<br>    \"brightness_factor\": 0.15185392824957492,<br>    \"gaussian_noise_factor\": 0.020413139387788867,<br>    \"translate_factor\": 0.16287257084174553,<br>    \"num_layers\": 1,<br>    \"output_layer\": \"dense\",<br>    \"layer_0\": \"Conv2D\",<br>    \"layer_0_conv2d_filters\": 4,<br>    \"layer_0_conv2d_fsize\": 3,<br>    \"layer_0_conv2d_ssize\": 7,<br>    \"activation_0\": \"linear\",<br>    \"output_dropout\": 0.43069989837105793,<br>    \"lr_inicial\": 0.0009319326501540503<br>  }<br>}",
          "{<br>  \"number\": 117,<br>  \"values\": [<br>    0.699999988079071,<br>    15492.0<br>  ],<br>  \"params\": {<br>    \"batchsize\": 64,<br>    \"brightness_factor\": 0.13865208297188564,<br>    \"gaussian_noise_factor\": 0.17839425760865865,<br>    \"translate_factor\": 0.17047063124723794,<br>    \"num_layers\": 1,<br>    \"output_layer\": \"dense\",<br>    \"layer_0\": \"Conv2D\",<br>    \"layer_0_conv2d_filters\": 4,<br>    \"layer_0_conv2d_fsize\": 3,<br>    \"layer_0_conv2d_ssize\": 8,<br>    \"activation_0\": \"linear\",<br>    \"output_dropout\": 0.550654655562029,<br>    \"lr_inicial\": 0.0008759999379425355<br>  }<br>}",
          "{<br>  \"number\": 118,<br>  \"values\": [<br>    0.699999988079071,<br>    18617.0<br>  ],<br>  \"params\": {<br>    \"batchsize\": 64,<br>    \"brightness_factor\": 0.16556780115242742,<br>    \"gaussian_noise_factor\": 0.019682887443844783,<br>    \"translate_factor\": 0.12716454881925338,<br>    \"num_layers\": 1,<br>    \"output_layer\": \"dense\",<br>    \"layer_0\": \"Conv2D\",<br>    \"layer_0_conv2d_filters\": 4,<br>    \"layer_0_conv2d_fsize\": 3,<br>    \"layer_0_conv2d_ssize\": 6,<br>    \"activation_0\": \"linear\",<br>    \"output_dropout\": 0.511189846215098,<br>    \"lr_inicial\": 0.000891812979745978<br>  }<br>}",
          "{<br>  \"number\": 119,<br>  \"values\": [<br>    0.6800000071525574,<br>    18162.0<br>  ],<br>  \"params\": {<br>    \"batchsize\": 64,<br>    \"brightness_factor\": 0.0847536086029676,<br>    \"gaussian_noise_factor\": 0.025289758624793254,<br>    \"translate_factor\": 0.1596616192583185,<br>    \"num_layers\": 1,<br>    \"output_layer\": \"dense\",<br>    \"layer_0\": \"Conv2D\",<br>    \"layer_0_conv2d_filters\": 4,<br>    \"layer_0_conv2d_fsize\": 3,<br>    \"layer_0_conv2d_ssize\": 13,<br>    \"activation_0\": \"tanh\",<br>    \"output_dropout\": 0.5803219814721827,<br>    \"lr_inicial\": 0.000804554785095227<br>  }<br>}",
          "{<br>  \"number\": 120,<br>  \"values\": [<br>    0.6800000071525574,<br>    20111.0<br>  ],<br>  \"params\": {<br>    \"batchsize\": 64,<br>    \"brightness_factor\": 0.1435320484524527,<br>    \"gaussian_noise_factor\": 0.015980705469992234,<br>    \"translate_factor\": 0.1151045241300719,<br>    \"num_layers\": 1,<br>    \"output_layer\": \"dense\",<br>    \"layer_0\": \"Conv2D\",<br>    \"layer_0_conv2d_filters\": 4,<br>    \"layer_0_conv2d_fsize\": 4,<br>    \"layer_0_conv2d_ssize\": 14,<br>    \"activation_0\": \"tanh\",<br>    \"output_dropout\": 0.3231272303270779,<br>    \"lr_inicial\": 0.0011640506772321818<br>  }<br>}",
          "{<br>  \"number\": 121,<br>  \"values\": [<br>    0.699999988079071,<br>    15784.0<br>  ],<br>  \"params\": {<br>    \"batchsize\": 64,<br>    \"brightness_factor\": 0.14714707468110183,<br>    \"gaussian_noise_factor\": 0.007604044124176304,<br>    \"translate_factor\": 0.11062680932342604,<br>    \"num_layers\": 1,<br>    \"output_layer\": \"dense\",<br>    \"layer_0\": \"Conv2D\",<br>    \"layer_0_conv2d_filters\": 8,<br>    \"layer_0_conv2d_fsize\": 4,<br>    \"layer_0_conv2d_ssize\": 4,<br>    \"activation_0\": \"tanh\",<br>    \"output_dropout\": 0.4319699691199135,<br>    \"lr_inicial\": 0.001448723723506521<br>  }<br>}",
          "{<br>  \"number\": 122,<br>  \"values\": [<br>    0.699999988079071,<br>    17041.0<br>  ],<br>  \"params\": {<br>    \"batchsize\": 64,<br>    \"brightness_factor\": 0.16176673322086102,<br>    \"gaussian_noise_factor\": 0.13282400528809657,<br>    \"translate_factor\": 0.14846753581196623,<br>    \"num_layers\": 1,<br>    \"output_layer\": \"dense\",<br>    \"layer_0\": \"Conv2D\",<br>    \"layer_0_conv2d_filters\": 4,<br>    \"layer_0_conv2d_fsize\": 4,<br>    \"layer_0_conv2d_ssize\": 9,<br>    \"activation_0\": \"tanh\",<br>    \"output_dropout\": 0.542192486675701,<br>    \"lr_inicial\": 0.0008304081574413105<br>  }<br>}",
          "{<br>  \"number\": 123,<br>  \"values\": [<br>    0.699999988079071,<br>    18967.0<br>  ],<br>  \"params\": {<br>    \"batchsize\": 64,<br>    \"brightness_factor\": 0.09767722732048861,<br>    \"gaussian_noise_factor\": 0.002780956497065598,<br>    \"translate_factor\": 0.12289609498159572,<br>    \"num_layers\": 1,<br>    \"output_layer\": \"dense\",<br>    \"layer_0\": \"Conv2D\",<br>    \"layer_0_conv2d_filters\": 4,<br>    \"layer_0_conv2d_fsize\": 3,<br>    \"layer_0_conv2d_ssize\": 15,<br>    \"activation_0\": \"linear\",<br>    \"output_dropout\": 0.3797053469463222,<br>    \"lr_inicial\": 0.001344782086604236<br>  }<br>}",
          "{<br>  \"number\": 124,<br>  \"values\": [<br>    0.6600000262260437,<br>    18701.0<br>  ],<br>  \"params\": {<br>    \"batchsize\": 128,<br>    \"brightness_factor\": 0.12858983008908126,<br>    \"gaussian_noise_factor\": 0.19164924374374553,<br>    \"translate_factor\": 0.1562456171805637,<br>    \"num_layers\": 1,<br>    \"output_layer\": \"dense\",<br>    \"layer_0\": \"Conv2D\",<br>    \"layer_0_conv2d_filters\": 4,<br>    \"layer_0_conv2d_fsize\": 4,<br>    \"layer_0_conv2d_ssize\": 3,<br>    \"activation_0\": \"tanh\",<br>    \"output_dropout\": 0.5119534929563668,<br>    \"lr_inicial\": 0.0015718989722121634<br>  }<br>}",
          "{<br>  \"number\": 125,<br>  \"values\": [<br>    0.6800000071525574,<br>    757.0<br>  ],<br>  \"params\": {<br>    \"batchsize\": 32,<br>    \"brightness_factor\": 0.15445595867971396,<br>    \"gaussian_noise_factor\": 0.016174594743590176,<br>    \"translate_factor\": 0.02819350555919309,<br>    \"num_layers\": 1,<br>    \"output_layer\": \"pooling\",<br>    \"layer_0\": \"Conv2D\",<br>    \"layer_0_conv2d_filters\": 4,<br>    \"layer_0_conv2d_fsize\": 4,<br>    \"layer_0_conv2d_ssize\": 6,<br>    \"activation_0\": \"tanh\",<br>    \"pre_GAP_layer_fsize\": 3,<br>    \"pre_GAP_layer_act\": \"relu\",<br>    \"lr_inicial\": 0.0013704338376895914<br>  }<br>}",
          "{<br>  \"number\": 126,<br>  \"values\": [<br>    0.8399999737739563,<br>    19972.0<br>  ],<br>  \"params\": {<br>    \"batchsize\": 64,<br>    \"brightness_factor\": 0.15420320689735967,<br>    \"gaussian_noise_factor\": 0.016404136889107954,<br>    \"translate_factor\": 0.1660051607286372,<br>    \"num_layers\": 2,<br>    \"output_layer\": \"dense\",<br>    \"layer_0\": \"Conv2D\",<br>    \"layer_0_conv2d_filters\": 4,<br>    \"layer_0_conv2d_fsize\": 3,<br>    \"layer_0_conv2d_ssize\": 4,<br>    \"activation_0\": \"linear\",<br>    \"layer_1\": \"Pointwise2D\",<br>    \"layer_1_pwconv2d_filters\": 32,<br>    \"layer_1_pwconv2d_ssize\": 4,<br>    \"activation_1\": \"relu\",<br>    \"output_dropout\": 0.4673923147803444,<br>    \"lr_inicial\": 0.000969709001942919<br>  }<br>}",
          "{<br>  \"number\": 127,<br>  \"values\": [<br>    0.8399999737739563,<br>    20212.0<br>  ],<br>  \"params\": {<br>    \"batchsize\": 64,<br>    \"brightness_factor\": 0.1574722432075342,<br>    \"gaussian_noise_factor\": 0.024803884930349733,<br>    \"translate_factor\": 0.16842559140113395,<br>    \"num_layers\": 2,<br>    \"output_layer\": \"dense\",<br>    \"layer_0\": \"Conv2D\",<br>    \"layer_0_conv2d_filters\": 8,<br>    \"layer_0_conv2d_fsize\": 3,<br>    \"layer_0_conv2d_ssize\": 4,<br>    \"activation_0\": \"linear\",<br>    \"layer_1\": \"Pointwise2D\",<br>    \"layer_1_pwconv2d_filters\": 32,<br>    \"layer_1_pwconv2d_ssize\": 4,<br>    \"activation_1\": \"relu\",<br>    \"output_dropout\": 0.4766893171577426,<br>    \"lr_inicial\": 0.000958047263007121<br>  }<br>}",
          "{<br>  \"number\": 128,<br>  \"values\": [<br>    0.6600000262260437,<br>    4093.0<br>  ],<br>  \"params\": {<br>    \"batchsize\": 32,<br>    \"brightness_factor\": 0.14029318730579382,<br>    \"gaussian_noise_factor\": 0.029161776280520246,<br>    \"translate_factor\": 0.19495441197511354,<br>    \"num_layers\": 1,<br>    \"output_layer\": \"pooling\",<br>    \"layer_0\": \"Conv2D\",<br>    \"layer_0_conv2d_filters\": 28,<br>    \"layer_0_conv2d_fsize\": 3,<br>    \"layer_0_conv2d_ssize\": 7,<br>    \"activation_0\": \"linear\",<br>    \"pre_GAP_layer_fsize\": 3,<br>    \"pre_GAP_layer_act\": \"relu\",<br>    \"lr_inicial\": 0.0010619442525562882<br>  }<br>}",
          "{<br>  \"number\": 129,<br>  \"values\": [<br>    0.6600000262260437,<br>    1173.0<br>  ],<br>  \"params\": {<br>    \"batchsize\": 32,<br>    \"brightness_factor\": 0.11956580061269675,<br>    \"gaussian_noise_factor\": 0.14749645209546522,<br>    \"translate_factor\": 0.1274757427242467,<br>    \"num_layers\": 1,<br>    \"output_layer\": \"pooling\",<br>    \"layer_0\": \"Conv2D\",<br>    \"layer_0_conv2d_filters\": 8,<br>    \"layer_0_conv2d_fsize\": 3,<br>    \"layer_0_conv2d_ssize\": 8,<br>    \"activation_0\": \"linear\",<br>    \"pre_GAP_layer_fsize\": 3,<br>    \"pre_GAP_layer_act\": \"relu\",<br>    \"lr_inicial\": 0.0010062593658251946<br>  }<br>}",
          "{<br>  \"number\": 130,<br>  \"values\": [<br>    0.5199999809265137,<br>    1173.0<br>  ],<br>  \"params\": {<br>    \"batchsize\": 32,<br>    \"brightness_factor\": 0.11992026092029483,<br>    \"gaussian_noise_factor\": 0.14585298531526988,<br>    \"translate_factor\": 0.12897231503195025,<br>    \"num_layers\": 1,<br>    \"output_layer\": \"pooling\",<br>    \"layer_0\": \"Conv2D\",<br>    \"layer_0_conv2d_filters\": 8,<br>    \"layer_0_conv2d_fsize\": 3,<br>    \"layer_0_conv2d_ssize\": 8,<br>    \"activation_0\": \"linear\",<br>    \"pre_GAP_layer_fsize\": 3,<br>    \"pre_GAP_layer_act\": \"tanh\",<br>    \"lr_inicial\": 0.0009779313083178836<br>  }<br>}",
          "{<br>  \"number\": 131,<br>  \"values\": [<br>    0.5799999833106995,<br>    589.0<br>  ],<br>  \"params\": {<br>    \"batchsize\": 32,<br>    \"brightness_factor\": 0.11217329786225713,<br>    \"gaussian_noise_factor\": 0.025595236686720188,<br>    \"translate_factor\": 0.12329101504798577,<br>    \"num_layers\": 1,<br>    \"output_layer\": \"pooling\",<br>    \"layer_0\": \"Conv2D\",<br>    \"layer_0_conv2d_filters\": 4,<br>    \"layer_0_conv2d_fsize\": 3,<br>    \"layer_0_conv2d_ssize\": 6,<br>    \"activation_0\": \"linear\",<br>    \"pre_GAP_layer_fsize\": 3,<br>    \"pre_GAP_layer_act\": \"relu\",<br>    \"lr_inicial\": 0.0009321059444031675<br>  }<br>}",
          "{<br>  \"number\": 132,<br>  \"values\": [<br>    0.6200000047683716,<br>    4037.0<br>  ],<br>  \"params\": {<br>    \"batchsize\": 64,<br>    \"brightness_factor\": 0.10884207134075466,<br>    \"gaussian_noise_factor\": 0.01624850616937235,<br>    \"translate_factor\": 0.18937267499620028,<br>    \"num_layers\": 2,<br>    \"output_layer\": \"pooling\",<br>    \"layer_0\": \"Pointwise2D\",<br>    \"layer_0_pwconv2d_filters\": 8,<br>    \"layer_0_pwconv2d_ssize\": 3,<br>    \"activation_0\": \"linear\",<br>    \"layer_1\": \"Pointwise2D\",<br>    \"layer_1_pwconv2d_filters\": 32,<br>    \"layer_1_pwconv2d_ssize\": 4,<br>    \"activation_1\": \"linear\",<br>    \"pre_GAP_layer_fsize\": 3,<br>    \"pre_GAP_layer_act\": \"relu\",<br>    \"lr_inicial\": 0.00044498785806956304<br>  }<br>}",
          "{<br>  \"number\": 133,<br>  \"values\": [<br>    0.6200000047683716,<br>    1965.0<br>  ],<br>  \"params\": {<br>    \"batchsize\": 128,<br>    \"brightness_factor\": 0.11542225678743218,<br>    \"gaussian_noise_factor\": 0.023450126618173125,<br>    \"translate_factor\": 0.06593722277370064,<br>    \"num_layers\": 1,<br>    \"output_layer\": \"pooling\",<br>    \"layer_0\": \"Pointwise2D\",<br>    \"layer_0_pwconv2d_filters\": 20,<br>    \"layer_0_pwconv2d_ssize\": 14,<br>    \"activation_0\": \"linear\",<br>    \"pre_GAP_layer_fsize\": 3,<br>    \"pre_GAP_layer_act\": \"relu\",<br>    \"lr_inicial\": 0.0013706595332104701<br>  }<br>}",
          "{<br>  \"number\": 134,<br>  \"values\": [<br>    0.6800000071525574,<br>    27325.0<br>  ],<br>  \"params\": {<br>    \"batchsize\": 64,<br>    \"brightness_factor\": 0.003353305232547025,<br>    \"gaussian_noise_factor\": 0.033085791478334695,<br>    \"translate_factor\": 0.13736127452267857,<br>    \"num_layers\": 3,<br>    \"output_layer\": \"pooling\",<br>    \"layer_0\": \"Conv2D\",<br>    \"layer_0_conv2d_filters\": 4,<br>    \"layer_0_conv2d_fsize\": 3,<br>    \"layer_0_conv2d_ssize\": 4,<br>    \"activation_0\": \"linear\",<br>    \"layer_1\": \"Pointwise2D\",<br>    \"layer_1_pwconv2d_filters\": 32,<br>    \"layer_1_pwconv2d_ssize\": 4,<br>    \"activation_1\": \"linear\",<br>    \"layer_2\": \"Conv2D\",<br>    \"layer_2_conv2d_filters\": 12,<br>    \"layer_2_conv2d_fsize\": 4,<br>    \"layer_2_conv2d_ssize\": 4,<br>    \"activation_2\": \"relu\",<br>    \"pre_GAP_layer_fsize\": 4,<br>    \"pre_GAP_layer_act\": \"relu\",<br>    \"lr_inicial\": 0.0013086353327944305<br>  }<br>}",
          "{<br>  \"number\": 135,<br>  \"values\": [<br>    0.5199999809265137,<br>    2389.0<br>  ],<br>  \"params\": {<br>    \"batchsize\": 64,<br>    \"brightness_factor\": 0.10153454376534796,<br>    \"gaussian_noise_factor\": 0.12994715014471767,<br>    \"translate_factor\": 0.022647432538409243,<br>    \"num_layers\": 2,<br>    \"output_layer\": \"pooling\",<br>    \"layer_0\": \"Conv2D\",<br>    \"layer_0_conv2d_filters\": 4,<br>    \"layer_0_conv2d_fsize\": 3,<br>    \"layer_0_conv2d_ssize\": 4,<br>    \"activation_0\": \"linear\",<br>    \"layer_1\": \"Pointwise2D\",<br>    \"layer_1_pwconv2d_filters\": 20,<br>    \"layer_1_pwconv2d_ssize\": 4,<br>    \"activation_1\": \"linear\",<br>    \"pre_GAP_layer_fsize\": 3,<br>    \"pre_GAP_layer_act\": \"relu\",<br>    \"lr_inicial\": 0.0005424949785221879<br>  }<br>}",
          "{<br>  \"number\": 136,<br>  \"values\": [<br>    0.6000000238418579,<br>    2749.0<br>  ],<br>  \"params\": {<br>    \"batchsize\": 64,<br>    \"brightness_factor\": 0.10435481704469696,<br>    \"gaussian_noise_factor\": 0.1588397728654234,<br>    \"translate_factor\": 0.18709090770224374,<br>    \"num_layers\": 1,<br>    \"output_layer\": \"pooling\",<br>    \"layer_0\": \"Pointwise2D\",<br>    \"layer_0_pwconv2d_filters\": 28,<br>    \"layer_0_pwconv2d_ssize\": 10,<br>    \"activation_0\": \"linear\",<br>    \"pre_GAP_layer_fsize\": 3,<br>    \"pre_GAP_layer_act\": \"relu\",<br>    \"lr_inicial\": 0.0014806184193083738<br>  }<br>}",
          "{<br>  \"number\": 137,<br>  \"values\": [<br>    0.5199999809265137,<br>    5317.0<br>  ],<br>  \"params\": {<br>    \"batchsize\": 128,<br>    \"brightness_factor\": 0.010151416483626887,<br>    \"gaussian_noise_factor\": 0.11973939805320272,<br>    \"translate_factor\": 0.1327442864839745,<br>    \"num_layers\": 2,<br>    \"output_layer\": \"pooling\",<br>    \"layer_0\": \"Conv2D\",<br>    \"layer_0_conv2d_filters\": 32,<br>    \"layer_0_conv2d_fsize\": 3,<br>    \"layer_0_conv2d_ssize\": 4,<br>    \"activation_0\": \"linear\",<br>    \"layer_1\": \"Pointwise2D\",<br>    \"layer_1_pwconv2d_filters\": 16,<br>    \"layer_1_pwconv2d_ssize\": 8,<br>    \"activation_1\": \"relu\",<br>    \"pre_GAP_layer_fsize\": 3,<br>    \"pre_GAP_layer_act\": \"tanh\",<br>    \"lr_inicial\": 0.0015492254401256332<br>  }<br>}",
          "{<br>  \"number\": 138,<br>  \"values\": [<br>    0.6200000047683716,<br>    869.0<br>  ],<br>  \"params\": {<br>    \"batchsize\": 32,<br>    \"brightness_factor\": 0.12449711689402829,<br>    \"gaussian_noise_factor\": 0.09926146279482816,<br>    \"translate_factor\": 0.0935809614738362,<br>    \"num_layers\": 1,<br>    \"output_layer\": \"pooling\",<br>    \"layer_0\": \"Conv2D\",<br>    \"layer_0_conv2d_filters\": 4,<br>    \"layer_0_conv2d_fsize\": 3,<br>    \"layer_0_conv2d_ssize\": 11,<br>    \"activation_0\": \"linear\",<br>    \"pre_GAP_layer_fsize\": 4,<br>    \"pre_GAP_layer_act\": \"relu\",<br>    \"lr_inicial\": 0.0003765541272727244<br>  }<br>}",
          "{<br>  \"number\": 139,<br>  \"values\": [<br>    0.6399999856948853,<br>    1173.0<br>  ],<br>  \"params\": {<br>    \"batchsize\": 32,<br>    \"brightness_factor\": 0.01745236363624831,<br>    \"gaussian_noise_factor\": 0.04261355036253372,<br>    \"translate_factor\": 0.05686320991672181,<br>    \"num_layers\": 2,<br>    \"output_layer\": \"pooling\",<br>    \"layer_0\": \"Conv2D\",<br>    \"layer_0_conv2d_filters\": 4,<br>    \"layer_0_conv2d_fsize\": 3,<br>    \"layer_0_conv2d_ssize\": 4,<br>    \"activation_0\": \"linear\",<br>    \"layer_1\": \"Conv2D\",<br>    \"layer_1_conv2d_filters\": 4,<br>    \"layer_1_conv2d_fsize\": 3,<br>    \"layer_1_conv2d_ssize\": 4,<br>    \"activation_1\": \"relu\",<br>    \"pre_GAP_layer_fsize\": 3,<br>    \"pre_GAP_layer_act\": \"relu\",<br>    \"lr_inicial\": 0.0016386877962696457<br>  }<br>}",
          "{<br>  \"number\": 140,<br>  \"values\": [<br>    0.5600000023841858,<br>    46621.0<br>  ],<br>  \"params\": {<br>    \"batchsize\": 32,<br>    \"brightness_factor\": 0.021567568883442828,<br>    \"gaussian_noise_factor\": 0.02855867395000661,<br>    \"translate_factor\": 0.12489752563582594,<br>    \"num_layers\": 3,<br>    \"output_layer\": \"pooling\",<br>    \"layer_0\": \"Conv2D\",<br>    \"layer_0_conv2d_filters\": 8,<br>    \"layer_0_conv2d_fsize\": 3,<br>    \"layer_0_conv2d_ssize\": 2,<br>    \"activation_0\": \"relu\",<br>    \"layer_1\": \"Pointwise2D\",<br>    \"layer_1_pwconv2d_filters\": 28,<br>    \"layer_1_pwconv2d_ssize\": 2,<br>    \"activation_1\": \"linear\",<br>    \"layer_2\": \"Conv2D\",<br>    \"layer_2_conv2d_filters\": 24,<br>    \"layer_2_conv2d_fsize\": 4,<br>    \"layer_2_conv2d_ssize\": 3,<br>    \"activation_2\": \"relu\",<br>    \"pre_GAP_layer_fsize\": 3,<br>    \"pre_GAP_layer_act\": \"relu\",<br>    \"lr_inicial\": 0.0012690802089335475<br>  }<br>}",
          "{<br>  \"number\": 141,<br>  \"values\": [<br>    0.5600000023841858,<br>    661.0<br>  ],<br>  \"params\": {<br>    \"batchsize\": 64,<br>    \"brightness_factor\": 0.07274362766831184,<br>    \"gaussian_noise_factor\": 0.018568287433427637,<br>    \"translate_factor\": 0.177752441508351,<br>    \"num_layers\": 2,<br>    \"output_layer\": \"pooling\",<br>    \"layer_0\": \"Conv2D\",<br>    \"layer_0_conv2d_filters\": 4,<br>    \"layer_0_conv2d_fsize\": 3,<br>    \"layer_0_conv2d_ssize\": 4,<br>    \"activation_0\": \"linear\",<br>    \"layer_1\": \"Pointwise2D\",<br>    \"layer_1_pwconv2d_filters\": 4,<br>    \"layer_1_pwconv2d_ssize\": 4,<br>    \"activation_1\": \"relu\",<br>    \"pre_GAP_layer_fsize\": 3,<br>    \"pre_GAP_layer_act\": \"tanh\",<br>    \"lr_inicial\": 0.0009255282624552561<br>  }<br>}",
          "{<br>  \"number\": 142,<br>  \"values\": [<br>    0.4399999976158142,<br>    589.0<br>  ],<br>  \"params\": {<br>    \"batchsize\": 64,<br>    \"brightness_factor\": 0.11605861916312511,<br>    \"gaussian_noise_factor\": 0.10883865109293779,<br>    \"translate_factor\": 0.1939455718804321,<br>    \"num_layers\": 1,<br>    \"output_layer\": \"pooling\",<br>    \"layer_0\": \"Conv2D\",<br>    \"layer_0_conv2d_filters\": 4,<br>    \"layer_0_conv2d_fsize\": 3,<br>    \"layer_0_conv2d_ssize\": 12,<br>    \"activation_0\": \"linear\",<br>    \"pre_GAP_layer_fsize\": 3,<br>    \"pre_GAP_layer_act\": \"tanh\",<br>    \"lr_inicial\": 0.0009658539524607754<br>  }<br>}",
          "{<br>  \"number\": 143,<br>  \"values\": [<br>    0.6600000262260437,<br>    3781.0<br>  ],<br>  \"params\": {<br>    \"batchsize\": 32,<br>    \"brightness_factor\": 0.07543840029167562,<br>    \"gaussian_noise_factor\": 0.01876683424318038,<br>    \"translate_factor\": 0.17747104050021867,<br>    \"num_layers\": 2,<br>    \"output_layer\": \"pooling\",<br>    \"layer_0\": \"Pointwise2D\",<br>    \"layer_0_pwconv2d_filters\": 32,<br>    \"layer_0_pwconv2d_ssize\": 5,<br>    \"activation_0\": \"linear\",<br>    \"layer_1\": \"Pointwise2D\",<br>    \"layer_1_pwconv2d_filters\": 16,<br>    \"layer_1_pwconv2d_ssize\": 4,<br>    \"activation_1\": \"tanh\",<br>    \"pre_GAP_layer_fsize\": 3,<br>    \"pre_GAP_layer_act\": \"relu\",<br>    \"lr_inicial\": 0.0014585965913344063<br>  }<br>}",
          "{<br>  \"number\": 144,<br>  \"values\": [<br>    0.4000000059604645,<br>    869.0<br>  ],<br>  \"params\": {<br>    \"batchsize\": 32,<br>    \"brightness_factor\": 0.01564663729469548,<br>    \"gaussian_noise_factor\": 0.0914292892640145,<br>    \"translate_factor\": 0.03091586216843545,<br>    \"num_layers\": 1,<br>    \"output_layer\": \"pooling\",<br>    \"layer_0\": \"Conv2D\",<br>    \"layer_0_conv2d_filters\": 4,<br>    \"layer_0_conv2d_fsize\": 3,<br>    \"layer_0_conv2d_ssize\": 3,<br>    \"activation_0\": \"relu\",<br>    \"pre_GAP_layer_fsize\": 4,<br>    \"pre_GAP_layer_act\": \"relu\",<br>    \"lr_inicial\": 0.001619032730600413<br>  }<br>}",
          "{<br>  \"number\": 145,<br>  \"values\": [<br>    0.3799999952316284,<br>    15973.0<br>  ],<br>  \"params\": {<br>    \"batchsize\": 64,<br>    \"brightness_factor\": 0.08736882328982752,<br>    \"gaussian_noise_factor\": 0.116693362350096,<br>    \"translate_factor\": 0.010700915901237493,<br>    \"num_layers\": 2,<br>    \"output_layer\": \"pooling\",<br>    \"layer_0\": \"Conv2D\",<br>    \"layer_0_conv2d_filters\": 4,<br>    \"layer_0_conv2d_fsize\": 3,<br>    \"layer_0_conv2d_ssize\": 4,<br>    \"activation_0\": \"linear\",<br>    \"layer_1\": \"Conv2D\",<br>    \"layer_1_conv2d_filters\": 32,<br>    \"layer_1_conv2d_fsize\": 5,<br>    \"layer_1_conv2d_ssize\": 6,<br>    \"activation_1\": \"relu\",<br>    \"pre_GAP_layer_fsize\": 3,<br>    \"pre_GAP_layer_act\": \"relu\",<br>    \"lr_inicial\": 0.0014015845915419608<br>  }<br>}",
          "{<br>  \"number\": 146,<br>  \"values\": [<br>    0.47999998927116394,<br>    5269.0<br>  ],<br>  \"params\": {<br>    \"batchsize\": 32,<br>    \"brightness_factor\": 0.00442660780921918,<br>    \"gaussian_noise_factor\": 0.024863773567882233,<br>    \"translate_factor\": 0.19143250587185506,<br>    \"num_layers\": 1,<br>    \"output_layer\": \"pooling\",<br>    \"layer_0\": \"Conv2D\",<br>    \"layer_0_conv2d_filters\": 28,<br>    \"layer_0_conv2d_fsize\": 4,<br>    \"layer_0_conv2d_ssize\": 6,<br>    \"activation_0\": \"tanh\",<br>    \"pre_GAP_layer_fsize\": 3,<br>    \"pre_GAP_layer_act\": \"tanh\",<br>    \"lr_inicial\": 0.0004328464336178045<br>  }<br>}",
          "{<br>  \"number\": 147,<br>  \"values\": [<br>    0.5199999809265137,<br>    1685.0<br>  ],<br>  \"params\": {<br>    \"batchsize\": 64,<br>    \"brightness_factor\": 0.009868831165546054,<br>    \"gaussian_noise_factor\": 0.17308892442971546,<br>    \"translate_factor\": 0.1309042101061594,<br>    \"num_layers\": 2,<br>    \"output_layer\": \"pooling\",<br>    \"layer_0\": \"Pointwise2D\",<br>    \"layer_0_pwconv2d_filters\": 28,<br>    \"layer_0_pwconv2d_ssize\": 6,<br>    \"activation_0\": \"relu\",<br>    \"layer_1\": \"Pointwise2D\",<br>    \"layer_1_pwconv2d_filters\": 4,<br>    \"layer_1_pwconv2d_ssize\": 7,<br>    \"activation_1\": \"relu\",<br>    \"pre_GAP_layer_fsize\": 5,<br>    \"pre_GAP_layer_act\": \"relu\",<br>    \"lr_inicial\": 0.0016967293475394114<br>  }<br>}",
          "{<br>  \"number\": 148,<br>  \"values\": [<br>    0.7200000286102295,<br>    25026.0<br>  ],<br>  \"params\": {<br>    \"batchsize\": 128,<br>    \"brightness_factor\": 0.013818599210847826,<br>    \"gaussian_noise_factor\": 0.04718437955930055,<br>    \"translate_factor\": 0.14271875719895483,<br>    \"num_layers\": 3,<br>    \"output_layer\": \"dense\",<br>    \"layer_0\": \"Conv2D\",<br>    \"layer_0_conv2d_filters\": 4,<br>    \"layer_0_conv2d_fsize\": 3,<br>    \"layer_0_conv2d_ssize\": 4,<br>    \"activation_0\": \"linear\",<br>    \"layer_1\": \"Conv2D\",<br>    \"layer_1_conv2d_filters\": 12,<br>    \"layer_1_conv2d_fsize\": 3,<br>    \"layer_1_conv2d_ssize\": 3,<br>    \"activation_1\": \"tanh\",<br>    \"layer_2\": \"Conv2D\",<br>    \"layer_2_conv2d_filters\": 12,<br>    \"layer_2_conv2d_fsize\": 3,<br>    \"layer_2_conv2d_ssize\": 5,<br>    \"activation_2\": \"relu\",<br>    \"output_dropout\": 0.4723163011629378,<br>    \"lr_inicial\": 0.0010187506414603019<br>  }<br>}",
          "{<br>  \"number\": 149,<br>  \"values\": [<br>    0.6000000238418579,<br>    757.0<br>  ],<br>  \"params\": {<br>    \"batchsize\": 32,<br>    \"brightness_factor\": 0.07915764827792715,<br>    \"gaussian_noise_factor\": 0.1255494994966826,<br>    \"translate_factor\": 0.17051353268752373,<br>    \"num_layers\": 1,<br>    \"output_layer\": \"pooling\",<br>    \"layer_0\": \"Conv2D\",<br>    \"layer_0_conv2d_filters\": 4,<br>    \"layer_0_conv2d_fsize\": 4,<br>    \"layer_0_conv2d_ssize\": 3,<br>    \"activation_0\": \"tanh\",<br>    \"pre_GAP_layer_fsize\": 3,<br>    \"pre_GAP_layer_act\": \"relu\",<br>    \"lr_inicial\": 0.00031403139691391936<br>  }<br>}",
          "{<br>  \"number\": 150,<br>  \"values\": [<br>    0.699999988079071,<br>    6309.0<br>  ],<br>  \"params\": {<br>    \"batchsize\": 64,<br>    \"brightness_factor\": 0.026531831155871058,<br>    \"gaussian_noise_factor\": 0.13723632753692738,<br>    \"translate_factor\": 0.07422010001543068,<br>    \"num_layers\": 2,<br>    \"output_layer\": \"pooling\",<br>    \"layer_0\": \"Conv2D\",<br>    \"layer_0_conv2d_filters\": 4,<br>    \"layer_0_conv2d_fsize\": 5,<br>    \"layer_0_conv2d_ssize\": 4,<br>    \"activation_0\": \"tanh\",<br>    \"layer_1\": \"Pointwise2D\",<br>    \"layer_1_pwconv2d_filters\": 32,<br>    \"layer_1_pwconv2d_ssize\": 3,<br>    \"activation_1\": \"linear\",<br>    \"pre_GAP_layer_fsize\": 4,<br>    \"pre_GAP_layer_act\": \"relu\",<br>    \"lr_inicial\": 0.0011290046741857104<br>  }<br>}",
          "{<br>  \"number\": 151,<br>  \"values\": [<br>    0.7400000095367432,<br>    20219.0<br>  ],<br>  \"params\": {<br>    \"batchsize\": 64,<br>    \"brightness_factor\": 0.007648936330505257,<br>    \"gaussian_noise_factor\": 0.10609750879603311,<br>    \"translate_factor\": 0.13797655143770726,<br>    \"num_layers\": 2,<br>    \"output_layer\": \"dense\",<br>    \"layer_0\": \"Conv2D\",<br>    \"layer_0_conv2d_filters\": 4,<br>    \"layer_0_conv2d_fsize\": 4,<br>    \"layer_0_conv2d_ssize\": 4,<br>    \"activation_0\": \"tanh\",<br>    \"layer_1\": \"Pointwise2D\",<br>    \"layer_1_pwconv2d_filters\": 20,<br>    \"layer_1_pwconv2d_ssize\": 5,<br>    \"activation_1\": \"relu\",<br>    \"output_dropout\": 0.5245935916033645,<br>    \"lr_inicial\": 0.000898637106149425<br>  }<br>}",
          "{<br>  \"number\": 152,<br>  \"values\": [<br>    0.6200000047683716,<br>    13211.0<br>  ],<br>  \"params\": {<br>    \"batchsize\": 64,<br>    \"brightness_factor\": 0.057132453848283915,<br>    \"gaussian_noise_factor\": 0.08554900213376788,<br>    \"translate_factor\": 0.12086920290213403,<br>    \"num_layers\": 1,<br>    \"output_layer\": \"dense\",<br>    \"layer_0\": \"Conv2D\",<br>    \"layer_0_conv2d_filters\": 4,<br>    \"layer_0_conv2d_fsize\": 4,<br>    \"layer_0_conv2d_ssize\": 5,<br>    \"activation_0\": \"linear\",<br>    \"output_dropout\": 0.453419324029078,<br>    \"lr_inicial\": 0.0009261326275612009<br>  }<br>}",
          "{<br>  \"number\": 153,<br>  \"values\": [<br>    0.5400000214576721,<br>    1381.0<br>  ],<br>  \"params\": {<br>    \"batchsize\": 32,<br>    \"brightness_factor\": 0.002671449370706871,<br>    \"gaussian_noise_factor\": 0.011936741955628195,<br>    \"translate_factor\": 0.13479081255375505,<br>    \"num_layers\": 2,<br>    \"output_layer\": \"pooling\",<br>    \"layer_0\": \"Pointwise2D\",<br>    \"layer_0_pwconv2d_filters\": 16,<br>    \"layer_0_pwconv2d_ssize\": 4,<br>    \"activation_0\": \"tanh\",<br>    \"layer_1\": \"Pointwise2D\",<br>    \"layer_1_pwconv2d_filters\": 8,<br>    \"layer_1_pwconv2d_ssize\": 4,<br>    \"activation_1\": \"relu\",<br>    \"pre_GAP_layer_fsize\": 3,<br>    \"pre_GAP_layer_act\": \"tanh\",<br>    \"lr_inicial\": 0.00034317752565459614<br>  }<br>}",
          "{<br>  \"number\": 155,<br>  \"values\": [<br>    0.5799999833106995,<br>    589.0<br>  ],<br>  \"params\": {<br>    \"batchsize\": 32,<br>    \"brightness_factor\": 0.02065999765198824,<br>    \"gaussian_noise_factor\": 0.11233657544223663,<br>    \"translate_factor\": 0.1640165166277684,<br>    \"num_layers\": 1,<br>    \"output_layer\": \"pooling\",<br>    \"layer_0\": \"Conv2D\",<br>    \"layer_0_conv2d_filters\": 4,<br>    \"layer_0_conv2d_fsize\": 3,<br>    \"layer_0_conv2d_ssize\": 16,<br>    \"activation_0\": \"tanh\",<br>    \"pre_GAP_layer_fsize\": 3,<br>    \"pre_GAP_layer_act\": \"relu\",<br>    \"lr_inicial\": 0.0015110118788391248<br>  }<br>}",
          "{<br>  \"number\": 156,<br>  \"values\": [<br>    0.6000000238418579,<br>    589.0<br>  ],<br>  \"params\": {<br>    \"batchsize\": 32,<br>    \"brightness_factor\": 0.03706295957797774,<br>    \"gaussian_noise_factor\": 0.11098639848153292,<br>    \"translate_factor\": 0.12384915960456311,<br>    \"num_layers\": 1,<br>    \"output_layer\": \"pooling\",<br>    \"layer_0\": \"Conv2D\",<br>    \"layer_0_conv2d_filters\": 4,<br>    \"layer_0_conv2d_fsize\": 3,<br>    \"layer_0_conv2d_ssize\": 14,<br>    \"activation_0\": \"tanh\",<br>    \"pre_GAP_layer_fsize\": 3,<br>    \"pre_GAP_layer_act\": \"relu\",<br>    \"lr_inicial\": 0.001509246857802806<br>  }<br>}",
          "{<br>  \"number\": 157,<br>  \"values\": [<br>    0.7200000286102295,<br>    38431.0<br>  ],<br>  \"params\": {<br>    \"batchsize\": 96,<br>    \"brightness_factor\": 0.1078535842835455,<br>    \"gaussian_noise_factor\": 0.1049248609683825,<br>    \"translate_factor\": 0.16899565734782548,<br>    \"num_layers\": 3,<br>    \"output_layer\": \"dense\",<br>    \"layer_0\": \"Conv2D\",<br>    \"layer_0_conv2d_filters\": 8,<br>    \"layer_0_conv2d_fsize\": 5,<br>    \"layer_0_conv2d_ssize\": 2,<br>    \"activation_0\": \"tanh\",<br>    \"layer_1\": \"Conv2D\",<br>    \"layer_1_conv2d_filters\": 28,<br>    \"layer_1_conv2d_fsize\": 5,<br>    \"layer_1_conv2d_ssize\": 2,<br>    \"activation_1\": \"tanh\",<br>    \"layer_2\": \"Conv2D\",<br>    \"layer_2_conv2d_filters\": 28,<br>    \"layer_2_conv2d_fsize\": 4,<br>    \"layer_2_conv2d_ssize\": 4,<br>    \"activation_2\": \"linear\",<br>    \"output_dropout\": 0.3560077632674362,<br>    \"lr_inicial\": 0.001373846378410573<br>  }<br>}",
          "{<br>  \"number\": 158,<br>  \"values\": [<br>    0.5600000023841858,<br>    2789.0<br>  ],<br>  \"params\": {<br>    \"batchsize\": 64,<br>    \"brightness_factor\": 0.04014173845559062,<br>    \"gaussian_noise_factor\": 0.1171531535787614,<br>    \"translate_factor\": 0.12971337307767283,<br>    \"num_layers\": 1,<br>    \"output_layer\": \"pooling\",<br>    \"layer_0\": \"Conv2D\",<br>    \"layer_0_conv2d_filters\": 8,<br>    \"layer_0_conv2d_fsize\": 4,<br>    \"layer_0_conv2d_ssize\": 14,<br>    \"activation_0\": \"relu\",<br>    \"pre_GAP_layer_fsize\": 5,<br>    \"pre_GAP_layer_act\": \"relu\",<br>    \"lr_inicial\": 0.0010160283124206913<br>  }<br>}",
          "{<br>  \"number\": 159,<br>  \"values\": [<br>    0.6000000238418579,<br>    1397.0<br>  ],<br>  \"params\": {<br>    \"batchsize\": 32,<br>    \"brightness_factor\": 0.12591177107974075,<br>    \"gaussian_noise_factor\": 0.11207624161554028,<br>    \"translate_factor\": 0.1999054874180148,<br>    \"num_layers\": 1,<br>    \"output_layer\": \"pooling\",<br>    \"layer_0\": \"Conv2D\",<br>    \"layer_0_conv2d_filters\": 4,<br>    \"layer_0_conv2d_fsize\": 4,<br>    \"layer_0_conv2d_ssize\": 14,<br>    \"activation_0\": \"tanh\",<br>    \"pre_GAP_layer_fsize\": 5,<br>    \"pre_GAP_layer_act\": \"relu\",<br>    \"lr_inicial\": 0.0005156706370482893<br>  }<br>}",
          "{<br>  \"number\": 160,<br>  \"values\": [<br>    0.7599999904632568,<br>    19841.0<br>  ],<br>  \"params\": {<br>    \"batchsize\": 32,<br>    \"brightness_factor\": 0.012843598029373274,<br>    \"gaussian_noise_factor\": 0.09878439827988113,<br>    \"translate_factor\": 0.040880983016597705,<br>    \"num_layers\": 1,<br>    \"output_layer\": \"dense\",<br>    \"layer_0\": \"Pointwise2D\",<br>    \"layer_0_pwconv2d_filters\": 24,<br>    \"layer_0_pwconv2d_ssize\": 15,<br>    \"activation_0\": \"tanh\",<br>    \"output_dropout\": 0.4854277726451487,<br>    \"lr_inicial\": 0.0015678749898067677<br>  }<br>}",
          "{<br>  \"number\": 161,<br>  \"values\": [<br>    0.6000000238418579,<br>    589.0<br>  ],<br>  \"params\": {<br>    \"batchsize\": 32,<br>    \"brightness_factor\": 0.12084684710009294,<br>    \"gaussian_noise_factor\": 0.03885438371788557,<br>    \"translate_factor\": 0.08317050197162064,<br>    \"num_layers\": 1,<br>    \"output_layer\": \"pooling\",<br>    \"layer_0\": \"Conv2D\",<br>    \"layer_0_conv2d_filters\": 4,<br>    \"layer_0_conv2d_fsize\": 3,<br>    \"layer_0_conv2d_ssize\": 5,<br>    \"activation_0\": \"tanh\",<br>    \"pre_GAP_layer_fsize\": 3,<br>    \"pre_GAP_layer_act\": \"linear\",<br>    \"lr_inicial\": 0.001521117539279719<br>  }<br>}",
          "{<br>  \"number\": 162,<br>  \"values\": [<br>    0.25999999046325684,<br>    3853.0<br>  ],<br>  \"params\": {<br>    \"batchsize\": 32,<br>    \"brightness_factor\": 0.09595643064959933,<br>    \"gaussian_noise_factor\": 0.035675596931315376,<br>    \"translate_factor\": 0.1619579840646677,<br>    \"num_layers\": 2,<br>    \"output_layer\": \"pooling\",<br>    \"layer_0\": \"Conv2D\",<br>    \"layer_0_conv2d_filters\": 4,<br>    \"layer_0_conv2d_fsize\": 4,<br>    \"layer_0_conv2d_ssize\": 5,<br>    \"activation_0\": \"tanh\",<br>    \"layer_1\": \"Pointwise2D\",<br>    \"layer_1_pwconv2d_filters\": 32,<br>    \"layer_1_pwconv2d_ssize\": 3,<br>    \"activation_1\": \"relu\",<br>    \"pre_GAP_layer_fsize\": 3,<br>    \"pre_GAP_layer_act\": \"relu\",<br>    \"lr_inicial\": 0.0015032178884642243<br>  }<br>}",
          "{<br>  \"number\": 163,<br>  \"values\": [<br>    0.6399999856948853,<br>    4677.0<br>  ],<br>  \"params\": {<br>    \"batchsize\": 32,<br>    \"brightness_factor\": 0.06516065475960436,<br>    \"gaussian_noise_factor\": 0.10756692254231146,<br>    \"translate_factor\": 0.18564533044980475,<br>    \"num_layers\": 1,<br>    \"output_layer\": \"pooling\",<br>    \"layer_0\": \"Conv2D\",<br>    \"layer_0_conv2d_filters\": 32,<br>    \"layer_0_conv2d_fsize\": 3,<br>    \"layer_0_conv2d_ssize\": 5,<br>    \"activation_0\": \"tanh\",<br>    \"pre_GAP_layer_fsize\": 3,<br>    \"pre_GAP_layer_act\": \"linear\",<br>    \"lr_inicial\": 0.0009946551885269368<br>  }<br>}",
          "{<br>  \"number\": 164,<br>  \"values\": [<br>    0.7200000286102295,<br>    25236.0<br>  ],<br>  \"params\": {<br>    \"batchsize\": 32,<br>    \"brightness_factor\": 0.006841893478150924,<br>    \"gaussian_noise_factor\": 0.1124479192372525,<br>    \"translate_factor\": 0.12747241483855729,<br>    \"num_layers\": 3,<br>    \"output_layer\": \"dense\",<br>    \"layer_0\": \"Conv2D\",<br>    \"layer_0_conv2d_filters\": 4,<br>    \"layer_0_conv2d_fsize\": 4,<br>    \"layer_0_conv2d_ssize\": 4,<br>    \"activation_0\": \"relu\",<br>    \"layer_1\": \"Conv2D\",<br>    \"layer_1_conv2d_filters\": 24,<br>    \"layer_1_conv2d_fsize\": 5,<br>    \"layer_1_conv2d_ssize\": 2,<br>    \"activation_1\": \"linear\",<br>    \"layer_2\": \"Conv2D\",<br>    \"layer_2_conv2d_filters\": 12,<br>    \"layer_2_conv2d_fsize\": 3,<br>    \"layer_2_conv2d_ssize\": 3,<br>    \"activation_2\": \"relu\",<br>    \"output_dropout\": 0.30557518795958993,<br>    \"lr_inicial\": 0.0017093824265226169<br>  }<br>}",
          "{<br>  \"number\": 165,<br>  \"values\": [<br>    0.6600000262260437,<br>    6029.0<br>  ],<br>  \"params\": {<br>    \"batchsize\": 64,<br>    \"brightness_factor\": 0.0005107280792725488,<br>    \"gaussian_noise_factor\": 0.11875322948357338,<br>    \"translate_factor\": 0.18280684326286373,<br>    \"num_layers\": 2,<br>    \"output_layer\": \"pooling\",<br>    \"layer_0\": \"Conv2D\",<br>    \"layer_0_conv2d_filters\": 12,<br>    \"layer_0_conv2d_fsize\": 5,<br>    \"layer_0_conv2d_ssize\": 5,<br>    \"activation_0\": \"linear\",<br>    \"layer_1\": \"Pointwise2D\",<br>    \"layer_1_pwconv2d_filters\": 20,<br>    \"layer_1_pwconv2d_ssize\": 5,<br>    \"activation_1\": \"tanh\",<br>    \"pre_GAP_layer_fsize\": 4,<br>    \"pre_GAP_layer_act\": \"relu\",<br>    \"lr_inicial\": 0.0016224887330308767<br>  }<br>}",
          "{<br>  \"number\": 168,<br>  \"values\": [<br>    0.7200000286102295,<br>    16946.0<br>  ],<br>  \"params\": {<br>    \"batchsize\": 96,<br>    \"brightness_factor\": 0.175170645468182,<br>    \"gaussian_noise_factor\": 0.03860554790312901,<br>    \"translate_factor\": 0.17344761485952584,<br>    \"num_layers\": 1,<br>    \"output_layer\": \"dense\",<br>    \"layer_0\": \"Pointwise2D\",<br>    \"layer_0_pwconv2d_filters\": 4,<br>    \"layer_0_pwconv2d_ssize\": 10,<br>    \"activation_0\": \"tanh\",<br>    \"output_dropout\": 0.5005373301058142,<br>    \"lr_inicial\": 0.001422468090568473<br>  }<br>}",
          "{<br>  \"number\": 169,<br>  \"values\": [<br>    0.699999988079071,<br>    3181.0<br>  ],<br>  \"params\": {<br>    \"batchsize\": 32,<br>    \"brightness_factor\": 0.15412769989352765,<br>    \"gaussian_noise_factor\": 0.030752850990520122,<br>    \"translate_factor\": 0.16677390622107838,<br>    \"num_layers\": 2,<br>    \"output_layer\": \"pooling\",<br>    \"layer_0\": \"Conv2D\",<br>    \"layer_0_conv2d_filters\": 4,<br>    \"layer_0_conv2d_fsize\": 4,<br>    \"layer_0_conv2d_ssize\": 4,<br>    \"activation_0\": \"tanh\",<br>    \"layer_1\": \"Conv2D\",<br>    \"layer_1_conv2d_filters\": 8,<br>    \"layer_1_conv2d_fsize\": 4,<br>    \"layer_1_conv2d_ssize\": 5,<br>    \"activation_1\": \"relu\",<br>    \"pre_GAP_layer_fsize\": 3,<br>    \"pre_GAP_layer_act\": \"linear\",<br>    \"lr_inicial\": 0.0018152433209882612<br>  }<br>}",
          "{<br>  \"number\": 170,<br>  \"values\": [<br>    0.5600000023841858,<br>    589.0<br>  ],<br>  \"params\": {<br>    \"batchsize\": 128,<br>    \"brightness_factor\": 0.03338146075098765,<br>    \"gaussian_noise_factor\": 0.1222454862332375,<br>    \"translate_factor\": 0.017585290597585554,<br>    \"num_layers\": 1,<br>    \"output_layer\": \"pooling\",<br>    \"layer_0\": \"Conv2D\",<br>    \"layer_0_conv2d_filters\": 4,<br>    \"layer_0_conv2d_fsize\": 3,<br>    \"layer_0_conv2d_ssize\": 6,<br>    \"activation_0\": \"tanh\",<br>    \"pre_GAP_layer_fsize\": 3,<br>    \"pre_GAP_layer_act\": \"relu\",<br>    \"lr_inicial\": 0.0010874171810388515<br>  }<br>}",
          "{<br>  \"number\": 171,<br>  \"values\": [<br>    0.7799999713897705,<br>    21955.0<br>  ],<br>  \"params\": {<br>    \"batchsize\": 64,<br>    \"brightness_factor\": 0.13120131738708235,<br>    \"gaussian_noise_factor\": 0.10416549938430186,<br>    \"translate_factor\": 0.08622126861231483,<br>    \"num_layers\": 2,<br>    \"output_layer\": \"dense\",<br>    \"layer_0\": \"Conv2D\",<br>    \"layer_0_conv2d_filters\": 24,<br>    \"layer_0_conv2d_fsize\": 4,<br>    \"layer_0_conv2d_ssize\": 5,<br>    \"activation_0\": \"linear\",<br>    \"layer_1\": \"Pointwise2D\",<br>    \"layer_1_pwconv2d_filters\": 8,<br>    \"layer_1_pwconv2d_ssize\": 8,<br>    \"activation_1\": \"relu\",<br>    \"output_dropout\": 0.46502873525733174,<br>    \"lr_inicial\": 0.001529025727552094<br>  }<br>}",
          "{<br>  \"number\": 172,<br>  \"values\": [<br>    0.7400000095367432,<br>    31605.0<br>  ],<br>  \"params\": {<br>    \"batchsize\": 64,<br>    \"brightness_factor\": 0.010288248654240793,<br>    \"gaussian_noise_factor\": 0.11519779867696912,<br>    \"translate_factor\": 0.04793392594316748,<br>    \"num_layers\": 3,<br>    \"output_layer\": \"pooling\",<br>    \"layer_0\": \"Conv2D\",<br>    \"layer_0_conv2d_filters\": 28,<br>    \"layer_0_conv2d_fsize\": 5,<br>    \"layer_0_conv2d_ssize\": 4,<br>    \"activation_0\": \"tanh\",<br>    \"layer_1\": \"Pointwise2D\",<br>    \"layer_1_pwconv2d_filters\": 16,<br>    \"layer_1_pwconv2d_ssize\": 2,<br>    \"activation_1\": \"tanh\",<br>    \"layer_2\": \"Conv2D\",<br>    \"layer_2_conv2d_filters\": 20,<br>    \"layer_2_conv2d_fsize\": 4,<br>    \"layer_2_conv2d_ssize\": 5,<br>    \"activation_2\": \"relu\",<br>    \"pre_GAP_layer_fsize\": 5,<br>    \"pre_GAP_layer_act\": \"linear\",<br>    \"lr_inicial\": 0.00036329731760422764<br>  }<br>}",
          "{<br>  \"number\": 173,<br>  \"values\": [<br>    0.5799999833106995,<br>    789.0<br>  ],<br>  \"params\": {<br>    \"batchsize\": 32,<br>    \"brightness_factor\": 0.005143819818931786,<br>    \"gaussian_noise_factor\": 0.09546474371138944,<br>    \"translate_factor\": 0.15664818730630925,<br>    \"num_layers\": 1,<br>    \"output_layer\": \"pooling\",<br>    \"layer_0\": \"Pointwise2D\",<br>    \"layer_0_pwconv2d_filters\": 8,<br>    \"layer_0_pwconv2d_ssize\": 13,<br>    \"activation_0\": \"relu\",<br>    \"pre_GAP_layer_fsize\": 3,<br>    \"pre_GAP_layer_act\": \"relu\",<br>    \"lr_inicial\": 0.000961649917083429<br>  }<br>}",
          "{<br>  \"number\": 174,<br>  \"values\": [<br>    0.7599999904632568,<br>    22015.0<br>  ],<br>  \"params\": {<br>    \"batchsize\": 32,<br>    \"brightness_factor\": 0.017610212501216152,<br>    \"gaussian_noise_factor\": 0.053341827087123386,<br>    \"translate_factor\": 0.19121021489221143,<br>    \"num_layers\": 2,<br>    \"output_layer\": \"dense\",<br>    \"layer_0\": \"Conv2D\",<br>    \"layer_0_conv2d_filters\": 4,<br>    \"layer_0_conv2d_fsize\": 4,<br>    \"layer_0_conv2d_ssize\": 5,<br>    \"activation_0\": \"tanh\",<br>    \"layer_1\": \"Conv2D\",<br>    \"layer_1_conv2d_filters\": 16,<br>    \"layer_1_conv2d_fsize\": 3,<br>    \"layer_1_conv2d_ssize\": 8,<br>    \"activation_1\": \"relu\",<br>    \"output_dropout\": 0.5214748910518311,<br>    \"lr_inicial\": 0.0010509126923752554<br>  }<br>}",
          "{<br>  \"number\": 175,<br>  \"values\": [<br>    0.6000000238418579,<br>    3461.0<br>  ],<br>  \"params\": {<br>    \"batchsize\": 64,<br>    \"brightness_factor\": 0.10405283208962134,<br>    \"gaussian_noise_factor\": 0.022488223605528924,<br>    \"translate_factor\": 0.13629356661966174,<br>    \"num_layers\": 1,<br>    \"output_layer\": \"pooling\",<br>    \"layer_0\": \"Conv2D\",<br>    \"layer_0_conv2d_filters\": 16,<br>    \"layer_0_conv2d_fsize\": 3,<br>    \"layer_0_conv2d_ssize\": 3,<br>    \"activation_0\": \"linear\",<br>    \"pre_GAP_layer_fsize\": 4,<br>    \"pre_GAP_layer_act\": \"linear\",<br>    \"lr_inicial\": 0.001483870884550902<br>  }<br>}",
          "{<br>  \"number\": 176,<br>  \"values\": [<br>    0.5799999833106995,<br>    757.0<br>  ],<br>  \"params\": {<br>    \"batchsize\": 64,<br>    \"brightness_factor\": 0.05214371707311071,<br>    \"gaussian_noise_factor\": 0.015777280909802596,<br>    \"translate_factor\": 0.14502580856092942,<br>    \"num_layers\": 1,<br>    \"output_layer\": \"pooling\",<br>    \"layer_0\": \"Conv2D\",<br>    \"layer_0_conv2d_filters\": 4,<br>    \"layer_0_conv2d_fsize\": 4,<br>    \"layer_0_conv2d_ssize\": 6,<br>    \"activation_0\": \"tanh\",<br>    \"pre_GAP_layer_fsize\": 3,<br>    \"pre_GAP_layer_act\": \"relu\",<br>    \"lr_inicial\": 0.000565302556564071<br>  }<br>}",
          "{<br>  \"number\": 177,<br>  \"values\": [<br>    0.7400000095367432,<br>    20571.0<br>  ],<br>  \"params\": {<br>    \"batchsize\": 32,<br>    \"brightness_factor\": 0.11557770200813267,<br>    \"gaussian_noise_factor\": 0.010433230894807964,<br>    \"translate_factor\": 0.18059626776216484,<br>    \"num_layers\": 2,<br>    \"output_layer\": \"dense\",<br>    \"layer_0\": \"Conv2D\",<br>    \"layer_0_conv2d_filters\": 4,<br>    \"layer_0_conv2d_fsize\": 3,<br>    \"layer_0_conv2d_ssize\": 5,<br>    \"activation_0\": \"linear\",<br>    \"layer_1\": \"Pointwise2D\",<br>    \"layer_1_pwconv2d_filters\": 12,<br>    \"layer_1_pwconv2d_ssize\": 5,<br>    \"activation_1\": \"linear\",<br>    \"output_dropout\": 0.3232012417671675,<br>    \"lr_inicial\": 0.001225150583001385<br>  }<br>}",
          "{<br>  \"number\": 178,<br>  \"values\": [<br>    0.5600000023841858,<br>    2749.0<br>  ],<br>  \"params\": {<br>    \"batchsize\": 128,<br>    \"brightness_factor\": 0.01305971816279318,<br>    \"gaussian_noise_factor\": 0.10753337937154522,<br>    \"translate_factor\": 0.10754448436675146,<br>    \"num_layers\": 1,<br>    \"output_layer\": \"pooling\",<br>    \"layer_0\": \"Pointwise2D\",<br>    \"layer_0_pwconv2d_filters\": 28,<br>    \"layer_0_pwconv2d_ssize\": 9,<br>    \"activation_0\": \"tanh\",<br>    \"pre_GAP_layer_fsize\": 3,<br>    \"pre_GAP_layer_act\": \"linear\",<br>    \"lr_inicial\": 0.001312451301711363<br>  }<br>}",
          "{<br>  \"number\": 179,<br>  \"values\": [<br>    0.699999988079071,<br>    3349.0<br>  ],<br>  \"params\": {<br>    \"batchsize\": 32,<br>    \"brightness_factor\": 0.10968839364317816,<br>    \"gaussian_noise_factor\": 0.18422512102770403,<br>    \"translate_factor\": 0.14066426572107354,<br>    \"num_layers\": 3,<br>    \"output_layer\": \"pooling\",<br>    \"layer_0\": \"Conv2D\",<br>    \"layer_0_conv2d_filters\": 4,<br>    \"layer_0_conv2d_fsize\": 4,<br>    \"layer_0_conv2d_ssize\": 2,<br>    \"activation_0\": \"linear\",<br>    \"layer_1\": \"Pointwise2D\",<br>    \"layer_1_pwconv2d_filters\": 28,<br>    \"layer_1_pwconv2d_ssize\": 2,<br>    \"activation_1\": \"relu\",<br>    \"layer_2\": \"Pointwise2D\",<br>    \"layer_2_pwconv2d_filters\": 12,<br>    \"layer_2_pwconv2d_ssize\": 3,<br>    \"activation_2\": \"linear\",<br>    \"pre_GAP_layer_fsize\": 3,<br>    \"pre_GAP_layer_act\": \"relu\",<br>    \"lr_inicial\": 0.0004954024138852663<br>  }<br>}",
          "{<br>  \"number\": 180,<br>  \"values\": [<br>    0.8199999928474426,<br>    25479.0<br>  ],<br>  \"params\": {<br>    \"batchsize\": 64,<br>    \"brightness_factor\": 0.13583866067693154,<br>    \"gaussian_noise_factor\": 0.11024248808509904,<br>    \"translate_factor\": 0.1191240265137307,<br>    \"num_layers\": 2,<br>    \"output_layer\": \"dense\",<br>    \"layer_0\": \"Conv2D\",<br>    \"layer_0_conv2d_filters\": 8,<br>    \"layer_0_conv2d_fsize\": 3,<br>    \"layer_0_conv2d_ssize\": 5,<br>    \"activation_0\": \"tanh\",<br>    \"layer_1\": \"Conv2D\",<br>    \"layer_1_conv2d_filters\": 28,<br>    \"layer_1_conv2d_fsize\": 4,<br>    \"layer_1_conv2d_ssize\": 6,<br>    \"activation_1\": \"relu\",<br>    \"output_dropout\": 0.5725434423352369,<br>    \"lr_inicial\": 0.0015767655414773208<br>  }<br>}",
          "{<br>  \"number\": 182,<br>  \"values\": [<br>    0.699999988079071,<br>    20139.0<br>  ],<br>  \"params\": {<br>    \"batchsize\": 96,<br>    \"brightness_factor\": 0.12209971658243218,<br>    \"gaussian_noise_factor\": 0.09883988271909354,<br>    \"translate_factor\": 0.12352861084194074,<br>    \"num_layers\": 2,<br>    \"output_layer\": \"dense\",<br>    \"layer_0\": \"Pointwise2D\",<br>    \"layer_0_pwconv2d_filters\": 20,<br>    \"layer_0_pwconv2d_ssize\": 6,<br>    \"activation_0\": \"relu\",<br>    \"layer_1\": \"Pointwise2D\",<br>    \"layer_1_pwconv2d_filters\": 24,<br>    \"layer_1_pwconv2d_ssize\": 3,<br>    \"activation_1\": \"tanh\",<br>    \"output_dropout\": 0.5931386082531448,<br>    \"lr_inicial\": 0.0009570153894136146<br>  }<br>}",
          "{<br>  \"number\": 183,<br>  \"values\": [<br>    0.699999988079071,<br>    5757.0<br>  ],<br>  \"params\": {<br>    \"batchsize\": 64,<br>    \"brightness_factor\": 0.009902932707581493,<br>    \"gaussian_noise_factor\": 0.11392693866962089,<br>    \"translate_factor\": 0.19595512679517746,<br>    \"num_layers\": 2,<br>    \"output_layer\": \"pooling\",<br>    \"layer_0\": \"Conv2D\",<br>    \"layer_0_conv2d_filters\": 4,<br>    \"layer_0_conv2d_fsize\": 4,<br>    \"layer_0_conv2d_ssize\": 4,<br>    \"activation_0\": \"linear\",<br>    \"layer_1\": \"Pointwise2D\",<br>    \"layer_1_pwconv2d_filters\": 20,<br>    \"layer_1_pwconv2d_ssize\": 4,<br>    \"activation_1\": \"relu\",<br>    \"pre_GAP_layer_fsize\": 5,<br>    \"pre_GAP_layer_act\": \"linear\",<br>    \"lr_inicial\": 0.0014267758322036035<br>  }<br>}",
          "{<br>  \"number\": 184,<br>  \"values\": [<br>    0.6800000071525574,<br>    17959.0<br>  ],<br>  \"params\": {<br>    \"batchsize\": 64,<br>    \"brightness_factor\": 0.004976554504409996,<br>    \"gaussian_noise_factor\": 0.10219584865885308,<br>    \"translate_factor\": 0.13434884875388,<br>    \"num_layers\": 1,<br>    \"output_layer\": \"dense\",<br>    \"layer_0\": \"Conv2D\",<br>    \"layer_0_conv2d_filters\": 4,<br>    \"layer_0_conv2d_fsize\": 5,<br>    \"layer_0_conv2d_ssize\": 3,<br>    \"activation_0\": \"linear\",<br>    \"output_dropout\": 0.33699187308822465,<br>    \"lr_inicial\": 0.0011359325301065525<br>  }<br>}",
          "{<br>  \"number\": 185,<br>  \"values\": [<br>    0.5199999809265137,<br>    2645.0<br>  ],<br>  \"params\": {<br>    \"batchsize\": 128,<br>    \"brightness_factor\": 0.15771976798004642,<br>    \"gaussian_noise_factor\": 0.12038130150499489,<br>    \"translate_factor\": 0.0066052120488778315,<br>    \"num_layers\": 2,<br>    \"output_layer\": \"pooling\",<br>    \"layer_0\": \"Conv2D\",<br>    \"layer_0_conv2d_filters\": 4,<br>    \"layer_0_conv2d_fsize\": 4,<br>    \"layer_0_conv2d_ssize\": 4,<br>    \"activation_0\": \"tanh\",<br>    \"layer_1\": \"Conv2D\",<br>    \"layer_1_conv2d_filters\": 4,<br>    \"layer_1_conv2d_fsize\": 5,<br>    \"layer_1_conv2d_ssize\": 3,<br>    \"activation_1\": \"linear\",<br>    \"pre_GAP_layer_fsize\": 4,<br>    \"pre_GAP_layer_act\": \"tanh\",<br>    \"lr_inicial\": 0.0008655964233942548<br>  }<br>}",
          "{<br>  \"number\": 186,<br>  \"values\": [<br>    0.5799999833106995,<br>    20765.0<br>  ],<br>  \"params\": {<br>    \"batchsize\": 32,<br>    \"brightness_factor\": 0.11362903414590471,<br>    \"gaussian_noise_factor\": 0.0216512994931696,<br>    \"translate_factor\": 0.10189958728034369,<br>    \"num_layers\": 3,<br>    \"output_layer\": \"pooling\",<br>    \"layer_0\": \"Conv2D\",<br>    \"layer_0_conv2d_filters\": 4,<br>    \"layer_0_conv2d_fsize\": 4,<br>    \"layer_0_conv2d_ssize\": 4,<br>    \"activation_0\": \"linear\",<br>    \"layer_1\": \"Pointwise2D\",<br>    \"layer_1_pwconv2d_filters\": 24,<br>    \"layer_1_pwconv2d_ssize\": 4,<br>    \"activation_1\": \"relu\",<br>    \"layer_2\": \"Conv2D\",<br>    \"layer_2_conv2d_filters\": 8,<br>    \"layer_2_conv2d_fsize\": 5,<br>    \"layer_2_conv2d_ssize\": 3,<br>    \"activation_2\": \"relu\",<br>    \"pre_GAP_layer_fsize\": 3,<br>    \"pre_GAP_layer_act\": \"relu\",<br>    \"lr_inicial\": 0.001377666048588759<br>  }<br>}",
          "{<br>  \"number\": 187,<br>  \"values\": [<br>    0.7200000286102295,<br>    16925.0<br>  ],<br>  \"params\": {<br>    \"batchsize\": 64,<br>    \"brightness_factor\": 0.015352089994261759,<br>    \"gaussian_noise_factor\": 0.16997723061463893,<br>    \"translate_factor\": 0.03110381209734861,<br>    \"num_layers\": 1,<br>    \"output_layer\": \"dense\",<br>    \"layer_0\": \"Pointwise2D\",<br>    \"layer_0_pwconv2d_filters\": 12,<br>    \"layer_0_pwconv2d_ssize\": 9,<br>    \"activation_0\": \"relu\",<br>    \"output_dropout\": 0.4431308931372635,<br>    \"lr_inicial\": 0.0007719810485117403<br>  }<br>}",
          "{<br>  \"number\": 188,<br>  \"values\": [<br>    0.6800000071525574,<br>    6661.0<br>  ],<br>  \"params\": {<br>    \"batchsize\": 32,<br>    \"brightness_factor\": 0.008759476284852094,<br>    \"gaussian_noise_factor\": 0.028201565796764305,<br>    \"translate_factor\": 0.14842682150494463,<br>    \"num_layers\": 2,<br>    \"output_layer\": \"pooling\",<br>    \"layer_0\": \"Conv2D\",<br>    \"layer_0_conv2d_filters\": 32,<br>    \"layer_0_conv2d_fsize\": 4,<br>    \"layer_0_conv2d_ssize\": 6,<br>    \"activation_0\": \"tanh\",<br>    \"layer_1\": \"Pointwise2D\",<br>    \"layer_1_pwconv2d_filters\": 16,<br>    \"layer_1_pwconv2d_ssize\": 7,<br>    \"activation_1\": \"tanh\",<br>    \"pre_GAP_layer_fsize\": 3,<br>    \"pre_GAP_layer_act\": \"linear\",<br>    \"lr_inicial\": 0.0014725276451005252<br>  }<br>}",
          "{<br>  \"number\": 189,<br>  \"values\": [<br>    0.5799999833106995,<br>    3509.0<br>  ],<br>  \"params\": {<br>    \"batchsize\": 64,<br>    \"brightness_factor\": 0.0040275927088187224,<br>    \"gaussian_noise_factor\": 0.01626110934711157,<br>    \"translate_factor\": 0.17556278636818415,<br>    \"num_layers\": 1,<br>    \"output_layer\": \"pooling\",<br>    \"layer_0\": \"Conv2D\",<br>    \"layer_0_conv2d_filters\": 24,<br>    \"layer_0_conv2d_fsize\": 3,<br>    \"layer_0_conv2d_ssize\": 9,<br>    \"activation_0\": \"linear\",<br>    \"pre_GAP_layer_fsize\": 3,<br>    \"pre_GAP_layer_act\": \"relu\",<br>    \"lr_inicial\": 0.0010443845567974825<br>  }<br>}",
          "{<br>  \"number\": 190,<br>  \"values\": [<br>    0.8600000143051147,<br>    20727.0<br>  ],<br>  \"params\": {<br>    \"batchsize\": 32,<br>    \"brightness_factor\": 0.14936832340594627,<br>    \"gaussian_noise_factor\": 0.09420614978136671,<br>    \"translate_factor\": 0.08319868072892428,<br>    \"num_layers\": 2,<br>    \"output_layer\": \"dense\",<br>    \"layer_0\": \"Conv2D\",<br>    \"layer_0_conv2d_filters\": 4,<br>    \"layer_0_conv2d_fsize\": 5,<br>    \"layer_0_conv2d_ssize\": 4,<br>    \"activation_0\": \"tanh\",<br>    \"layer_1\": \"Conv2D\",<br>    \"layer_1_conv2d_filters\": 16,<br>    \"layer_1_conv2d_fsize\": 3,<br>    \"layer_1_conv2d_ssize\": 5,<br>    \"activation_1\": \"relu\",<br>    \"output_dropout\": 0.481492456433355,<br>    \"lr_inicial\": 0.0015618705666500632<br>  }<br>}",
          "{<br>  \"number\": 191,<br>  \"values\": [<br>    0.800000011920929,<br>    20727.0<br>  ],<br>  \"params\": {<br>    \"batchsize\": 32,<br>    \"brightness_factor\": 0.1517222647822245,<br>    \"gaussian_noise_factor\": 0.0870476785833953,<br>    \"translate_factor\": 0.0807993600456886,<br>    \"num_layers\": 2,<br>    \"output_layer\": \"dense\",<br>    \"layer_0\": \"Conv2D\",<br>    \"layer_0_conv2d_filters\": 4,<br>    \"layer_0_conv2d_fsize\": 5,<br>    \"layer_0_conv2d_ssize\": 4,<br>    \"activation_0\": \"tanh\",<br>    \"layer_1\": \"Conv2D\",<br>    \"layer_1_conv2d_filters\": 16,<br>    \"layer_1_conv2d_fsize\": 3,<br>    \"layer_1_conv2d_ssize\": 5,<br>    \"activation_1\": \"relu\",<br>    \"output_dropout\": 0.4955513391828491,<br>    \"lr_inicial\": 0.001674319330715211<br>  }<br>}",
          "{<br>  \"number\": 192,<br>  \"values\": [<br>    0.7799999713897705,<br>    19940.0<br>  ],<br>  \"params\": {<br>    \"batchsize\": 32,<br>    \"brightness_factor\": 0.14974226664775592,<br>    \"gaussian_noise_factor\": 0.09242784479222962,<br>    \"translate_factor\": 0.07306442633367324,<br>    \"num_layers\": 2,<br>    \"output_layer\": \"dense\",<br>    \"layer_0\": \"Conv2D\",<br>    \"layer_0_conv2d_filters\": 4,<br>    \"layer_0_conv2d_fsize\": 5,<br>    \"layer_0_conv2d_ssize\": 4,<br>    \"activation_0\": \"tanh\",<br>    \"layer_1\": \"Conv2D\",<br>    \"layer_1_conv2d_filters\": 8,<br>    \"layer_1_conv2d_fsize\": 3,<br>    \"layer_1_conv2d_ssize\": 4,<br>    \"activation_1\": \"relu\",<br>    \"output_dropout\": 0.48070003665893085,<br>    \"lr_inicial\": 0.0016195070418951623<br>  }<br>}",
          "{<br>  \"number\": 193,<br>  \"values\": [<br>    0.8199999928474426,<br>    21235.0<br>  ],<br>  \"params\": {<br>    \"batchsize\": 32,<br>    \"brightness_factor\": 0.14678571172851765,<br>    \"gaussian_noise_factor\": 0.09360097955626599,<br>    \"translate_factor\": 0.09241137387583089,<br>    \"num_layers\": 2,<br>    \"output_layer\": \"dense\",<br>    \"layer_0\": \"Conv2D\",<br>    \"layer_0_conv2d_filters\": 4,<br>    \"layer_0_conv2d_fsize\": 5,<br>    \"layer_0_conv2d_ssize\": 4,<br>    \"activation_0\": \"tanh\",<br>    \"layer_1\": \"Conv2D\",<br>    \"layer_1_conv2d_filters\": 12,<br>    \"layer_1_conv2d_fsize\": 3,<br>    \"layer_1_conv2d_ssize\": 7,<br>    \"activation_1\": \"relu\",<br>    \"output_dropout\": 0.4622979390771981,<br>    \"lr_inicial\": 0.0015595074592810187<br>  }<br>}",
          "{<br>  \"number\": 194,<br>  \"values\": [<br>    0.8799999952316284,<br>    21207.0<br>  ],<br>  \"params\": {<br>    \"batchsize\": 32,<br>    \"brightness_factor\": 0.1556378492560555,<br>    \"gaussian_noise_factor\": 0.09045148901890789,<br>    \"translate_factor\": 0.08350657497656541,<br>    \"num_layers\": 2,<br>    \"output_layer\": \"dense\",<br>    \"layer_0\": \"Conv2D\",<br>    \"layer_0_conv2d_filters\": 4,<br>    \"layer_0_conv2d_fsize\": 5,<br>    \"layer_0_conv2d_ssize\": 4,<br>    \"activation_0\": \"tanh\",<br>    \"layer_1\": \"Conv2D\",<br>    \"layer_1_conv2d_filters\": 24,<br>    \"layer_1_conv2d_fsize\": 3,<br>    \"layer_1_conv2d_ssize\": 5,<br>    \"activation_1\": \"relu\",<br>    \"output_dropout\": 0.4750214816396261,<br>    \"lr_inicial\": 0.0017393677726029644<br>  }<br>}",
          "{<br>  \"number\": 195,<br>  \"values\": [<br>    0.7799999713897705,<br>    21207.0<br>  ],<br>  \"params\": {<br>    \"batchsize\": 32,<br>    \"brightness_factor\": 0.15560472762263985,<br>    \"gaussian_noise_factor\": 0.06842557410639691,<br>    \"translate_factor\": 0.08222227921847378,<br>    \"num_layers\": 2,<br>    \"output_layer\": \"dense\",<br>    \"layer_0\": \"Conv2D\",<br>    \"layer_0_conv2d_filters\": 4,<br>    \"layer_0_conv2d_fsize\": 5,<br>    \"layer_0_conv2d_ssize\": 4,<br>    \"activation_0\": \"tanh\",<br>    \"layer_1\": \"Conv2D\",<br>    \"layer_1_conv2d_filters\": 24,<br>    \"layer_1_conv2d_fsize\": 3,<br>    \"layer_1_conv2d_ssize\": 5,<br>    \"activation_1\": \"relu\",<br>    \"output_dropout\": 0.4726609996017609,<br>    \"lr_inicial\": 0.0019279529818387342<br>  }<br>}",
          "{<br>  \"number\": 197,<br>  \"values\": [<br>    0.8399999737739563,<br>    23672.0<br>  ],<br>  \"params\": {<br>    \"batchsize\": 32,<br>    \"brightness_factor\": 0.1687435667059951,<br>    \"gaussian_noise_factor\": 0.04934279506198741,<br>    \"translate_factor\": 0.05912777247794599,<br>    \"num_layers\": 2,<br>    \"output_layer\": \"dense\",<br>    \"layer_0\": \"Pointwise2D\",<br>    \"layer_0_pwconv2d_filters\": 28,<br>    \"layer_0_pwconv2d_ssize\": 2,<br>    \"activation_0\": \"tanh\",<br>    \"layer_1\": \"Conv2D\",<br>    \"layer_1_conv2d_filters\": 32,<br>    \"layer_1_conv2d_fsize\": 3,<br>    \"layer_1_conv2d_ssize\": 4,<br>    \"activation_1\": \"relu\",<br>    \"output_dropout\": 0.5039381612576916,<br>    \"lr_inicial\": 0.0018417735659374873<br>  }<br>}",
          "{<br>  \"number\": 198,<br>  \"values\": [<br>    0.8799999952316284,<br>    25051.0<br>  ],<br>  \"params\": {<br>    \"batchsize\": 32,<br>    \"brightness_factor\": 0.16227568891491753,<br>    \"gaussian_noise_factor\": 0.05480324173653299,<br>    \"translate_factor\": 0.06784509769456677,<br>    \"num_layers\": 2,<br>    \"output_layer\": \"dense\",<br>    \"layer_0\": \"Pointwise2D\",<br>    \"layer_0_pwconv2d_filters\": 16,<br>    \"layer_0_pwconv2d_ssize\": 6,<br>    \"activation_0\": \"tanh\",<br>    \"layer_1\": \"Conv2D\",<br>    \"layer_1_conv2d_filters\": 28,<br>    \"layer_1_conv2d_fsize\": 3,<br>    \"layer_1_conv2d_ssize\": 4,<br>    \"activation_1\": \"relu\",<br>    \"output_dropout\": 0.5378719139792572,<br>    \"lr_inicial\": 0.001785621194512216<br>  }<br>}",
          "{<br>  \"number\": 199,<br>  \"values\": [<br>    0.7799999713897705,<br>    20970.0<br>  ],<br>  \"params\": {<br>    \"batchsize\": 32,<br>    \"brightness_factor\": 0.17197726848691247,<br>    \"gaussian_noise_factor\": 0.057802004517109935,<br>    \"translate_factor\": 0.09807494734785215,<br>    \"num_layers\": 2,<br>    \"output_layer\": \"dense\",<br>    \"layer_0\": \"Pointwise2D\",<br>    \"layer_0_pwconv2d_filters\": 4,<br>    \"layer_0_pwconv2d_ssize\": 3,<br>    \"activation_0\": \"tanh\",<br>    \"layer_1\": \"Conv2D\",<br>    \"layer_1_conv2d_filters\": 32,<br>    \"layer_1_conv2d_fsize\": 3,<br>    \"layer_1_conv2d_ssize\": 3,<br>    \"activation_1\": \"relu\",<br>    \"output_dropout\": 0.4849008968925113,<br>    \"lr_inicial\": 0.001854501629687492<br>  }<br>}",
          "{<br>  \"number\": 200,<br>  \"values\": [<br>    0.7799999713897705,<br>    28939.0<br>  ],<br>  \"params\": {<br>    \"batchsize\": 32,<br>    \"brightness_factor\": 0.16558451682594302,<br>    \"gaussian_noise_factor\": 0.046556715307570905,<br>    \"translate_factor\": 0.05123821686853399,<br>    \"num_layers\": 2,<br>    \"output_layer\": \"dense\",<br>    \"layer_0\": \"Pointwise2D\",<br>    \"layer_0_pwconv2d_filters\": 32,<br>    \"layer_0_pwconv2d_ssize\": 7,<br>    \"activation_0\": \"tanh\",<br>    \"layer_1\": \"Conv2D\",<br>    \"layer_1_conv2d_filters\": 24,<br>    \"layer_1_conv2d_fsize\": 3,<br>    \"layer_1_conv2d_ssize\": 5,<br>    \"activation_1\": \"relu\",<br>    \"output_dropout\": 0.5106365410020752,<br>    \"lr_inicial\": 0.0019100229994016115<br>  }<br>}",
          "{<br>  \"number\": 201,<br>  \"values\": [<br>    0.8999999761581421,<br>    24075.0<br>  ],<br>  \"params\": {<br>    \"batchsize\": 32,<br>    \"brightness_factor\": 0.17535586669216197,<br>    \"gaussian_noise_factor\": 0.07226712918704083,<br>    \"translate_factor\": 0.054905746739022696,<br>    \"num_layers\": 2,<br>    \"output_layer\": \"dense\",<br>    \"layer_0\": \"Conv2D\",<br>    \"layer_0_conv2d_filters\": 12,<br>    \"layer_0_conv2d_fsize\": 5,<br>    \"layer_0_conv2d_ssize\": 4,<br>    \"activation_0\": \"tanh\",<br>    \"layer_1\": \"Conv2D\",<br>    \"layer_1_conv2d_filters\": 28,<br>    \"layer_1_conv2d_fsize\": 3,<br>    \"layer_1_conv2d_ssize\": 3,<br>    \"activation_1\": \"relu\",<br>    \"output_dropout\": 0.491260644333264,<br>    \"lr_inicial\": 0.0017675548491144395<br>  }<br>}",
          "{<br>  \"number\": 202,<br>  \"values\": [<br>    0.7799999713897705,<br>    22187.0<br>  ],<br>  \"params\": {<br>    \"batchsize\": 96,<br>    \"brightness_factor\": 0.16172107935073557,<br>    \"gaussian_noise_factor\": 0.06342337978840758,<br>    \"translate_factor\": 0.060969401154039364,<br>    \"num_layers\": 2,<br>    \"output_layer\": \"dense\",<br>    \"layer_0\": \"Pointwise2D\",<br>    \"layer_0_pwconv2d_filters\": 8,<br>    \"layer_0_pwconv2d_ssize\": 3,<br>    \"activation_0\": \"tanh\",<br>    \"layer_1\": \"Conv2D\",<br>    \"layer_1_conv2d_filters\": 28,<br>    \"layer_1_conv2d_fsize\": 3,<br>    \"layer_1_conv2d_ssize\": 4,<br>    \"activation_1\": \"relu\",<br>    \"output_dropout\": 0.4932468084213763,<br>    \"lr_inicial\": 0.0019943498897271343<br>  }<br>}",
          "{<br>  \"number\": 203,<br>  \"values\": [<br>    0.7599999904632568,<br>    24751.0<br>  ],<br>  \"params\": {<br>    \"batchsize\": 32,<br>    \"brightness_factor\": 0.17619551955657153,<br>    \"gaussian_noise_factor\": 0.056863472171559175,<br>    \"translate_factor\": 0.06475507034638137,<br>    \"num_layers\": 2,<br>    \"output_layer\": \"dense\",<br>    \"layer_0\": \"Pointwise2D\",<br>    \"layer_0_pwconv2d_filters\": 24,<br>    \"layer_0_pwconv2d_ssize\": 2,<br>    \"activation_0\": \"relu\",<br>    \"layer_1\": \"Conv2D\",<br>    \"layer_1_conv2d_filters\": 32,<br>    \"layer_1_conv2d_fsize\": 3,<br>    \"layer_1_conv2d_ssize\": 3,<br>    \"activation_1\": \"relu\",<br>    \"output_dropout\": 0.4583856969393016,<br>    \"lr_inicial\": 0.001768590853198082<br>  }<br>}",
          "{<br>  \"number\": 204,<br>  \"values\": [<br>    0.7200000286102295,<br>    24231.0<br>  ],<br>  \"params\": {<br>    \"batchsize\": 128,<br>    \"brightness_factor\": 0.1666915965781718,<br>    \"gaussian_noise_factor\": 0.05114060330053274,<br>    \"translate_factor\": 0.07156992833855128,<br>    \"num_layers\": 2,<br>    \"output_layer\": \"dense\",<br>    \"layer_0\": \"Pointwise2D\",<br>    \"layer_0_pwconv2d_filters\": 16,<br>    \"layer_0_pwconv2d_ssize\": 5,<br>    \"activation_0\": \"tanh\",<br>    \"layer_1\": \"Conv2D\",<br>    \"layer_1_conv2d_filters\": 28,<br>    \"layer_1_conv2d_fsize\": 3,<br>    \"layer_1_conv2d_ssize\": 4,<br>    \"activation_1\": \"linear\",<br>    \"output_dropout\": 0.4480504211915575,<br>    \"lr_inicial\": 0.0018927036821846292<br>  }<br>}",
          "{<br>  \"number\": 205,<br>  \"values\": [<br>    0.7799999713897705,<br>    24771.0<br>  ],<br>  \"params\": {<br>    \"batchsize\": 96,<br>    \"brightness_factor\": 0.15804802310539398,<br>    \"gaussian_noise_factor\": 0.0724545806479947,<br>    \"translate_factor\": 0.07590550564181263,<br>    \"num_layers\": 2,<br>    \"output_layer\": \"dense\",<br>    \"layer_0\": \"Conv2D\",<br>    \"layer_0_conv2d_filters\": 16,<br>    \"layer_0_conv2d_fsize\": 5,<br>    \"layer_0_conv2d_ssize\": 4,<br>    \"activation_0\": \"tanh\",<br>    \"layer_1\": \"Conv2D\",<br>    \"layer_1_conv2d_filters\": 24,<br>    \"layer_1_conv2d_fsize\": 3,<br>    \"layer_1_conv2d_ssize\": 3,<br>    \"activation_1\": \"relu\",<br>    \"output_dropout\": 0.47789134268760464,<br>    \"lr_inicial\": 0.0017480075073377098<br>  }<br>}",
          "{<br>  \"number\": 206,<br>  \"values\": [<br>    0.9200000166893005,<br>    29383.0<br>  ],<br>  \"params\": {<br>    \"batchsize\": 32,<br>    \"brightness_factor\": 0.17989214677286858,<br>    \"gaussian_noise_factor\": 0.06790927282709186,<br>    \"translate_factor\": 0.056281934897024294,<br>    \"num_layers\": 2,<br>    \"output_layer\": \"dense\",<br>    \"layer_0\": \"Conv2D\",<br>    \"layer_0_conv2d_filters\": 32,<br>    \"layer_0_conv2d_fsize\": 5,<br>    \"layer_0_conv2d_ssize\": 4,<br>    \"activation_0\": \"tanh\",<br>    \"layer_1\": \"Conv2D\",<br>    \"layer_1_conv2d_filters\": 24,<br>    \"layer_1_conv2d_fsize\": 3,<br>    \"layer_1_conv2d_ssize\": 5,<br>    \"activation_1\": \"relu\",<br>    \"output_dropout\": 0.5573038712671068,<br>    \"lr_inicial\": 0.0017291848670436304<br>  }<br>}",
          "{<br>  \"number\": 207,<br>  \"values\": [<br>    0.8399999737739563,<br>    25255.0<br>  ],<br>  \"params\": {<br>    \"batchsize\": 32,<br>    \"brightness_factor\": 0.17738128580028967,<br>    \"gaussian_noise_factor\": 0.04412369677152214,<br>    \"translate_factor\": 0.06810683328130032,<br>    \"num_layers\": 2,<br>    \"output_layer\": \"dense\",<br>    \"layer_0\": \"Pointwise2D\",<br>    \"layer_0_pwconv2d_filters\": 20,<br>    \"layer_0_pwconv2d_ssize\": 5,<br>    \"activation_0\": \"relu\",<br>    \"layer_1\": \"Conv2D\",<br>    \"layer_1_conv2d_filters\": 28,<br>    \"layer_1_conv2d_fsize\": 3,<br>    \"layer_1_conv2d_ssize\": 4,<br>    \"activation_1\": \"relu\",<br>    \"output_dropout\": 0.5174382495012186,<br>    \"lr_inicial\": 0.0018171291540060325<br>  }<br>}",
          "{<br>  \"number\": 208,<br>  \"values\": [<br>    0.9200000166893005,<br>    28215.0<br>  ],<br>  \"params\": {<br>    \"batchsize\": 32,<br>    \"brightness_factor\": 0.1718829255683238,<br>    \"gaussian_noise_factor\": 0.06610290864245259,<br>    \"translate_factor\": 0.04578592460538242,<br>    \"num_layers\": 2,<br>    \"output_layer\": \"dense\",<br>    \"layer_0\": \"Conv2D\",<br>    \"layer_0_conv2d_filters\": 28,<br>    \"layer_0_conv2d_fsize\": 5,<br>    \"layer_0_conv2d_ssize\": 4,<br>    \"activation_0\": \"tanh\",<br>    \"layer_1\": \"Conv2D\",<br>    \"layer_1_conv2d_filters\": 24,<br>    \"layer_1_conv2d_fsize\": 3,<br>    \"layer_1_conv2d_ssize\": 5,<br>    \"activation_1\": \"relu\",<br>    \"output_dropout\": 0.4904043991890558,<br>    \"lr_inicial\": 0.0018796918965356697<br>  }<br>}",
          "{<br>  \"number\": 209,<br>  \"values\": [<br>    0.8199999928474426,<br>    24027.0<br>  ],<br>  \"params\": {<br>    \"batchsize\": 32,<br>    \"brightness_factor\": 0.1643298982825167,<br>    \"gaussian_noise_factor\": 0.055270133647721896,<br>    \"translate_factor\": 0.0695147333141386,<br>    \"num_layers\": 2,<br>    \"output_layer\": \"dense\",<br>    \"layer_0\": \"Pointwise2D\",<br>    \"layer_0_pwconv2d_filters\": 12,<br>    \"layer_0_pwconv2d_ssize\": 6,<br>    \"activation_0\": \"tanh\",<br>    \"layer_1\": \"Conv2D\",<br>    \"layer_1_conv2d_filters\": 28,<br>    \"layer_1_conv2d_fsize\": 3,<br>    \"layer_1_conv2d_ssize\": 4,<br>    \"activation_1\": \"relu\",<br>    \"output_dropout\": 0.487818276902693,<br>    \"lr_inicial\": 0.0017726227231589734<br>  }<br>}",
          "{<br>  \"number\": 210,<br>  \"values\": [<br>    0.699999988079071,<br>    31327.0<br>  ],<br>  \"params\": {<br>    \"batchsize\": 128,<br>    \"brightness_factor\": 0.15924797865570778,<br>    \"gaussian_noise_factor\": 0.060505440368305005,<br>    \"translate_factor\": 0.04514823601245513,<br>    \"num_layers\": 3,<br>    \"output_layer\": \"dense\",<br>    \"layer_0\": \"Conv2D\",<br>    \"layer_0_conv2d_filters\": 12,<br>    \"layer_0_conv2d_fsize\": 5,<br>    \"layer_0_conv2d_ssize\": 2,<br>    \"activation_0\": \"tanh\",<br>    \"layer_1\": \"Conv2D\",<br>    \"layer_1_conv2d_filters\": 32,<br>    \"layer_1_conv2d_fsize\": 3,<br>    \"layer_1_conv2d_ssize\": 4,<br>    \"activation_1\": \"linear\",<br>    \"layer_2\": \"Conv2D\",<br>    \"layer_2_conv2d_filters\": 20,<br>    \"layer_2_conv2d_fsize\": 3,<br>    \"layer_2_conv2d_ssize\": 4,<br>    \"activation_2\": \"linear\",<br>    \"output_dropout\": 0.5326541587383782,<br>    \"lr_inicial\": 0.0018246865344079823<br>  }<br>}",
          "{<br>  \"number\": 211,<br>  \"values\": [<br>    0.8399999737739563,<br>    29319.0<br>  ],<br>  \"params\": {<br>    \"batchsize\": 32,<br>    \"brightness_factor\": 0.1616499663935328,<br>    \"gaussian_noise_factor\": 0.05322165137146953,<br>    \"translate_factor\": 0.06322731037418808,<br>    \"num_layers\": 2,<br>    \"output_layer\": \"dense\",<br>    \"layer_0\": \"Conv2D\",<br>    \"layer_0_conv2d_filters\": 28,<br>    \"layer_0_conv2d_fsize\": 5,<br>    \"layer_0_conv2d_ssize\": 4,<br>    \"activation_0\": \"tanh\",<br>    \"layer_1\": \"Conv2D\",<br>    \"layer_1_conv2d_filters\": 28,<br>    \"layer_1_conv2d_fsize\": 3,<br>    \"layer_1_conv2d_ssize\": 5,<br>    \"activation_1\": \"relu\",<br>    \"output_dropout\": 0.5053810930041834,<br>    \"lr_inicial\": 0.0018964661261406336<br>  }<br>}",
          "{<br>  \"number\": 212,<br>  \"values\": [<br>    0.7799999713897705,<br>    26337.0<br>  ],<br>  \"params\": {<br>    \"batchsize\": 32,<br>    \"brightness_factor\": 0.1610461993463025,<br>    \"gaussian_noise_factor\": 0.060495393431282754,<br>    \"translate_factor\": 0.054192134825689686,<br>    \"num_layers\": 2,<br>    \"output_layer\": \"dense\",<br>    \"layer_0\": \"Pointwise2D\",<br>    \"layer_0_pwconv2d_filters\": 16,<br>    \"layer_0_pwconv2d_ssize\": 6,<br>    \"activation_0\": \"relu\",<br>    \"layer_1\": \"Conv2D\",<br>    \"layer_1_conv2d_filters\": 24,<br>    \"layer_1_conv2d_fsize\": 4,<br>    \"layer_1_conv2d_ssize\": 3,<br>    \"activation_1\": \"tanh\",<br>    \"output_dropout\": 0.4702476869378217,<br>    \"lr_inicial\": 0.001708778254072356<br>  }<br>}",
          "{<br>  \"number\": 213,<br>  \"values\": [<br>    0.8199999928474426,<br>    27241.0<br>  ],<br>  \"params\": {<br>    \"batchsize\": 32,<br>    \"brightness_factor\": 0.15424937342727627,<br>    \"gaussian_noise_factor\": 0.057380544812208695,<br>    \"translate_factor\": 0.08460710899533654,<br>    \"num_layers\": 2,<br>    \"output_layer\": \"dense\",<br>    \"layer_0\": \"Conv2D\",<br>    \"layer_0_conv2d_filters\": 24,<br>    \"layer_0_conv2d_fsize\": 5,<br>    \"layer_0_conv2d_ssize\": 4,<br>    \"activation_0\": \"tanh\",<br>    \"layer_1\": \"Conv2D\",<br>    \"layer_1_conv2d_filters\": 28,<br>    \"layer_1_conv2d_fsize\": 3,<br>    \"layer_1_conv2d_ssize\": 2,<br>    \"activation_1\": \"relu\",<br>    \"output_dropout\": 0.49175051521066254,<br>    \"lr_inicial\": 0.0017892380907902706<br>  }<br>}",
          "{<br>  \"number\": 214,<br>  \"values\": [<br>    0.9399999976158142,<br>    30235.0<br>  ],<br>  \"params\": {<br>    \"batchsize\": 32,<br>    \"brightness_factor\": 0.16728155744421608,<br>    \"gaussian_noise_factor\": 0.04958630043339406,<br>    \"translate_factor\": 0.07766586573446166,<br>    \"num_layers\": 2,<br>    \"output_layer\": \"dense\",<br>    \"layer_0\": \"Conv2D\",<br>    \"layer_0_conv2d_filters\": 12,<br>    \"layer_0_conv2d_fsize\": 5,<br>    \"layer_0_conv2d_ssize\": 4,<br>    \"activation_0\": \"tanh\",<br>    \"layer_1\": \"Conv2D\",<br>    \"layer_1_conv2d_filters\": 32,<br>    \"layer_1_conv2d_fsize\": 5,<br>    \"layer_1_conv2d_ssize\": 4,<br>    \"activation_1\": \"relu\",<br>    \"output_dropout\": 0.4799383002412787,<br>    \"lr_inicial\": 0.001857056869172957<br>  }<br>}",
          "{<br>  \"number\": 215,<br>  \"values\": [<br>    0.8600000143051147,<br>    31075.0<br>  ],<br>  \"params\": {<br>    \"batchsize\": 32,<br>    \"brightness_factor\": 0.16685460298461613,<br>    \"gaussian_noise_factor\": 0.0475082904996889,<br>    \"translate_factor\": 0.06837718131293202,<br>    \"num_layers\": 3,<br>    \"output_layer\": \"dense\",<br>    \"layer_0\": \"Conv2D\",<br>    \"layer_0_conv2d_filters\": 12,<br>    \"layer_0_conv2d_fsize\": 5,<br>    \"layer_0_conv2d_ssize\": 2,<br>    \"activation_0\": \"tanh\",<br>    \"layer_1\": \"Conv2D\",<br>    \"layer_1_conv2d_filters\": 32,<br>    \"layer_1_conv2d_fsize\": 5,<br>    \"layer_1_conv2d_ssize\": 4,<br>    \"activation_1\": \"relu\",<br>    \"layer_2\": \"Pointwise2D\",<br>    \"layer_2_pwconv2d_filters\": 8,<br>    \"layer_2_pwconv2d_ssize\": 3,<br>    \"activation_2\": \"linear\",<br>    \"output_dropout\": 0.48093579817039905,<br>    \"lr_inicial\": 0.0018736259606324782<br>  }<br>}",
          "{<br>  \"number\": 216,<br>  \"values\": [<br>    0.7200000286102295,<br>    27851.0<br>  ],<br>  \"params\": {<br>    \"batchsize\": 32,<br>    \"brightness_factor\": 0.16263347711019435,<br>    \"gaussian_noise_factor\": 0.06427398209168872,<br>    \"translate_factor\": 0.06274269282925353,<br>    \"num_layers\": 2,<br>    \"output_layer\": \"dense\",<br>    \"layer_0\": \"Conv2D\",<br>    \"layer_0_conv2d_filters\": 28,<br>    \"layer_0_conv2d_fsize\": 5,<br>    \"layer_0_conv2d_ssize\": 4,<br>    \"activation_0\": \"tanh\",<br>    \"layer_1\": \"Conv2D\",<br>    \"layer_1_conv2d_filters\": 20,<br>    \"layer_1_conv2d_fsize\": 3,<br>    \"layer_1_conv2d_ssize\": 6,<br>    \"activation_1\": \"tanh\",<br>    \"output_dropout\": 0.5412598553419699,<br>    \"lr_inicial\": 0.0004082994166774473<br>  }<br>}",
          "{<br>  \"number\": 217,<br>  \"values\": [<br>    0.7599999904632568,<br>    29179.0<br>  ],<br>  \"params\": {<br>    \"batchsize\": 32,<br>    \"brightness_factor\": 0.17020749132020702,<br>    \"gaussian_noise_factor\": 0.05142145729140069,<br>    \"translate_factor\": 0.0767934992019225,<br>    \"num_layers\": 2,<br>    \"output_layer\": \"dense\",<br>    \"layer_0\": \"Pointwise2D\",<br>    \"layer_0_pwconv2d_filters\": 20,<br>    \"layer_0_pwconv2d_ssize\": 4,<br>    \"activation_0\": \"relu\",<br>    \"layer_1\": \"Conv2D\",<br>    \"layer_1_conv2d_filters\": 28,<br>    \"layer_1_conv2d_fsize\": 4,<br>    \"layer_1_conv2d_ssize\": 3,<br>    \"activation_1\": \"linear\",<br>    \"output_dropout\": 0.4985264884713125,<br>    \"lr_inicial\": 0.0017598923283081325<br>  }<br>}",
          "{<br>  \"number\": 218,<br>  \"values\": [<br>    0.8399999737739563,<br>    23108.0<br>  ],<br>  \"params\": {<br>    \"batchsize\": 96,<br>    \"brightness_factor\": 0.15638101738477242,<br>    \"gaussian_noise_factor\": 0.040472638557785046,<br>    \"translate_factor\": 0.0713803163274636,<br>    \"num_layers\": 2,<br>    \"output_layer\": \"dense\",<br>    \"layer_0\": \"Conv2D\",<br>    \"layer_0_conv2d_filters\": 12,<br>    \"layer_0_conv2d_fsize\": 5,<br>    \"layer_0_conv2d_ssize\": 4,<br>    \"activation_0\": \"tanh\",<br>    \"layer_1\": \"Conv2D\",<br>    \"layer_1_conv2d_filters\": 24,<br>    \"layer_1_conv2d_fsize\": 3,<br>    \"layer_1_conv2d_ssize\": 4,<br>    \"activation_1\": \"relu\",<br>    \"output_dropout\": 0.4212665362669336,<br>    \"lr_inicial\": 0.0016707668652058605<br>  }<br>}",
          "{<br>  \"number\": 219,<br>  \"values\": [<br>    0.7799999713897705,<br>    34643.0<br>  ],<br>  \"params\": {<br>    \"batchsize\": 128,<br>    \"brightness_factor\": 0.16561330621625675,<br>    \"gaussian_noise_factor\": 0.057405679680158,<br>    \"translate_factor\": 0.06597736014878669,<br>    \"num_layers\": 2,<br>    \"output_layer\": \"dense\",<br>    \"layer_0\": \"Conv2D\",<br>    \"layer_0_conv2d_filters\": 16,<br>    \"layer_0_conv2d_fsize\": 5,<br>    \"layer_0_conv2d_ssize\": 7,<br>    \"activation_0\": \"tanh\",<br>    \"layer_1\": \"Conv2D\",<br>    \"layer_1_conv2d_filters\": 28,<br>    \"layer_1_conv2d_fsize\": 5,<br>    \"layer_1_conv2d_ssize\": 5,<br>    \"activation_1\": \"relu\",<br>    \"output_dropout\": 0.39651602642264644,<br>    \"lr_inicial\": 0.0019855432950556034<br>  }<br>}",
          "{<br>  \"number\": 220,<br>  \"values\": [<br>    0.7799999713897705,<br>    56777.0<br>  ],<br>  \"params\": {<br>    \"batchsize\": 32,<br>    \"brightness_factor\": 0.15906724663476954,<br>    \"gaussian_noise_factor\": 0.053799005370390084,<br>    \"translate_factor\": 0.06167771514472028,<br>    \"num_layers\": 3,<br>    \"output_layer\": \"dense\",<br>    \"layer_0\": \"Conv2D\",<br>    \"layer_0_conv2d_filters\": 4,<br>    \"layer_0_conv2d_fsize\": 5,<br>    \"layer_0_conv2d_ssize\": 4,<br>    \"activation_0\": \"tanh\",<br>    \"layer_1\": \"Conv2D\",<br>    \"layer_1_conv2d_filters\": 32,<br>    \"layer_1_conv2d_fsize\": 3,<br>    \"layer_1_conv2d_ssize\": 4,<br>    \"activation_1\": \"relu\",<br>    \"layer_2\": \"Conv2D\",<br>    \"layer_2_conv2d_filters\": 28,<br>    \"layer_2_conv2d_fsize\": 5,<br>    \"layer_2_conv2d_ssize\": 5,<br>    \"activation_2\": \"relu\",<br>    \"output_dropout\": 0.31407294789443313,<br>    \"lr_inicial\": 0.0018091777623404123<br>  }<br>}",
          "{<br>  \"number\": 221,<br>  \"values\": [<br>    0.7799999713897705,<br>    30403.0<br>  ],<br>  \"params\": {<br>    \"batchsize\": 32,<br>    \"brightness_factor\": 0.1523144866760064,<br>    \"gaussian_noise_factor\": 0.1954196548756023,<br>    \"translate_factor\": 0.06813550634266427,<br>    \"num_layers\": 2,<br>    \"output_layer\": \"dense\",<br>    \"layer_0\": \"Conv2D\",<br>    \"layer_0_conv2d_filters\": 24,<br>    \"layer_0_conv2d_fsize\": 5,<br>    \"layer_0_conv2d_ssize\": 4,<br>    \"activation_0\": \"tanh\",<br>    \"layer_1\": \"Conv2D\",<br>    \"layer_1_conv2d_filters\": 20,<br>    \"layer_1_conv2d_fsize\": 4,<br>    \"layer_1_conv2d_ssize\": 7,<br>    \"activation_1\": \"relu\",<br>    \"output_dropout\": 0.4672320137016709,<br>    \"lr_inicial\": 0.0017300199470823838<br>  }<br>}",
          "{<br>  \"number\": 222,<br>  \"values\": [<br>    0.7400000095367432,<br>    44199.0<br>  ],<br>  \"params\": {<br>    \"batchsize\": 96,<br>    \"brightness_factor\": 0.1625540477457967,<br>    \"gaussian_noise_factor\": 0.06551685878518293,<br>    \"translate_factor\": 0.07735919007867674,<br>    \"num_layers\": 2,<br>    \"output_layer\": \"dense\",<br>    \"layer_0\": \"Pointwise2D\",<br>    \"layer_0_pwconv2d_filters\": 32,<br>    \"layer_0_pwconv2d_ssize\": 4,<br>    \"activation_0\": \"tanh\",<br>    \"layer_1\": \"Conv2D\",<br>    \"layer_1_conv2d_filters\": 28,<br>    \"layer_1_conv2d_fsize\": 5,<br>    \"layer_1_conv2d_ssize\": 8,<br>    \"activation_1\": \"linear\",<br>    \"output_dropout\": 0.5177953214750417,<br>    \"lr_inicial\": 0.0018896253273968473<br>  }<br>}",
          "{<br>  \"number\": 223,<br>  \"values\": [<br>    0.8399999737739563,<br>    25491.0<br>  ],<br>  \"params\": {<br>    \"batchsize\": 32,<br>    \"brightness_factor\": 0.06125475260000503,<br>    \"gaussian_noise_factor\": 0.06226118289666855,<br>    \"translate_factor\": 0.07146768980417212,<br>    \"num_layers\": 2,<br>    \"output_layer\": \"dense\",<br>    \"layer_0\": \"Conv2D\",<br>    \"layer_0_conv2d_filters\": 16,<br>    \"layer_0_conv2d_fsize\": 5,<br>    \"layer_0_conv2d_ssize\": 4,<br>    \"activation_0\": \"relu\",<br>    \"layer_1\": \"Conv2D\",<br>    \"layer_1_conv2d_filters\": 24,<br>    \"layer_1_conv2d_fsize\": 3,<br>    \"layer_1_conv2d_ssize\": 6,<br>    \"activation_1\": \"tanh\",<br>    \"output_dropout\": 0.3767097417208519,<br>    \"lr_inicial\": 0.0018032339316826822<br>  }<br>}",
          "{<br>  \"number\": 224,<br>  \"values\": [<br>    0.8999999761581421,<br>    22719.0<br>  ],<br>  \"params\": {<br>    \"batchsize\": 32,<br>    \"brightness_factor\": 0.1563085122255393,<br>    \"gaussian_noise_factor\": 0.045777985006884986,<br>    \"translate_factor\": 0.06430540030915588,<br>    \"num_layers\": 2,<br>    \"output_layer\": \"dense\",<br>    \"layer_0\": \"Conv2D\",<br>    \"layer_0_conv2d_filters\": 4,<br>    \"layer_0_conv2d_fsize\": 5,<br>    \"layer_0_conv2d_ssize\": 4,<br>    \"activation_0\": \"tanh\",<br>    \"layer_1\": \"Conv2D\",<br>    \"layer_1_conv2d_filters\": 32,<br>    \"layer_1_conv2d_fsize\": 4,<br>    \"layer_1_conv2d_ssize\": 3,<br>    \"activation_1\": \"relu\",<br>    \"output_dropout\": 0.3520905263074305,<br>    \"lr_inicial\": 0.0017308194980644892<br>  }<br>}",
          "{<br>  \"number\": 225,<br>  \"values\": [<br>    0.8399999737739563,<br>    27070.0<br>  ],<br>  \"params\": {<br>    \"batchsize\": 32,<br>    \"brightness_factor\": 0.172587569419343,<br>    \"gaussian_noise_factor\": 0.04891305433036211,<br>    \"translate_factor\": 0.06203788503278334,<br>    \"num_layers\": 3,<br>    \"output_layer\": \"dense\",<br>    \"layer_0\": \"Conv2D\",<br>    \"layer_0_conv2d_filters\": 4,<br>    \"layer_0_conv2d_fsize\": 5,<br>    \"layer_0_conv2d_ssize\": 4,<br>    \"activation_0\": \"tanh\",<br>    \"layer_1\": \"Conv2D\",<br>    \"layer_1_conv2d_filters\": 32,<br>    \"layer_1_conv2d_fsize\": 4,<br>    \"layer_1_conv2d_ssize\": 4,<br>    \"activation_1\": \"relu\",<br>    \"layer_2\": \"Pointwise2D\",<br>    \"layer_2_pwconv2d_filters\": 16,<br>    \"layer_2_pwconv2d_ssize\": 4,<br>    \"activation_2\": \"linear\",<br>    \"output_dropout\": 0.47745062557268003,<br>    \"lr_inicial\": 0.0016780593672977618<br>  }<br>}",
          "{<br>  \"number\": 226,<br>  \"values\": [<br>    0.7599999904632568,<br>    18758.0<br>  ],<br>  \"params\": {<br>    \"batchsize\": 32,<br>    \"brightness_factor\": 0.16842253298257934,<br>    \"gaussian_noise_factor\": 0.04381377457227538,<br>    \"translate_factor\": 0.058439865472526706,<br>    \"num_layers\": 2,<br>    \"output_layer\": \"dense\",<br>    \"layer_0\": \"Conv2D\",<br>    \"layer_0_conv2d_filters\": 4,<br>    \"layer_0_conv2d_fsize\": 5,<br>    \"layer_0_conv2d_ssize\": 4,<br>    \"activation_0\": \"relu\",<br>    \"layer_1\": \"Conv2D\",<br>    \"layer_1_conv2d_filters\": 4,<br>    \"layer_1_conv2d_fsize\": 5,<br>    \"layer_1_conv2d_ssize\": 3,<br>    \"activation_1\": \"tanh\",<br>    \"output_dropout\": 0.49319852045124046,<br>    \"lr_inicial\": 0.0004892266083366993<br>  }<br>}",
          "{<br>  \"number\": 227,<br>  \"values\": [<br>    0.699999988079071,<br>    20189.0<br>  ],<br>  \"params\": {<br>    \"batchsize\": 32,<br>    \"brightness_factor\": 0.15674811498868635,<br>    \"gaussian_noise_factor\": 0.061738111630536094,<br>    \"translate_factor\": 0.07327804708685784,<br>    \"num_layers\": 2,<br>    \"output_layer\": \"dense\",<br>    \"layer_0\": \"Conv2D\",<br>    \"layer_0_conv2d_filters\": 4,<br>    \"layer_0_conv2d_fsize\": 5,<br>    \"layer_0_conv2d_ssize\": 4,<br>    \"activation_0\": \"tanh\",<br>    \"layer_1\": \"Conv2D\",<br>    \"layer_1_conv2d_filters\": 16,<br>    \"layer_1_conv2d_fsize\": 3,<br>    \"layer_1_conv2d_ssize\": 2,<br>    \"activation_1\": \"linear\",<br>    \"output_dropout\": 0.45797425971505606,<br>    \"lr_inicial\": 0.00042100038430236157<br>  }<br>}",
          "{<br>  \"number\": 228,<br>  \"values\": [<br>    0.7599999904632568,<br>    33024.0<br>  ],<br>  \"params\": {<br>    \"batchsize\": 32,<br>    \"brightness_factor\": 0.1588316677806458,<br>    \"gaussian_noise_factor\": 0.06931963849454699,<br>    \"translate_factor\": 0.07894401018680605,<br>    \"num_layers\": 2,<br>    \"output_layer\": \"dense\",<br>    \"layer_0\": \"Conv2D\",<br>    \"layer_0_conv2d_filters\": 28,<br>    \"layer_0_conv2d_fsize\": 5,<br>    \"layer_0_conv2d_ssize\": 4,<br>    \"activation_0\": \"tanh\",<br>    \"layer_1\": \"Conv2D\",<br>    \"layer_1_conv2d_filters\": 24,<br>    \"layer_1_conv2d_fsize\": 4,<br>    \"layer_1_conv2d_ssize\": 5,<br>    \"activation_1\": \"relu\",<br>    \"output_dropout\": 0.35965486825921267,<br>    \"lr_inicial\": 0.0003256396673328438<br>  }<br>}",
          "{<br>  \"number\": 229,<br>  \"values\": [<br>    0.6000000238418579,<br>    22077.0<br>  ],<br>  \"params\": {<br>    \"batchsize\": 128,<br>    \"brightness_factor\": 0.16584692520467972,<br>    \"gaussian_noise_factor\": 0.16179280828927375,<br>    \"translate_factor\": 0.06523890599843135,<br>    \"num_layers\": 3,<br>    \"output_layer\": \"dense\",<br>    \"layer_0\": \"Conv2D\",<br>    \"layer_0_conv2d_filters\": 4,<br>    \"layer_0_conv2d_fsize\": 5,<br>    \"layer_0_conv2d_ssize\": 2,<br>    \"activation_0\": \"tanh\",<br>    \"layer_1\": \"Conv2D\",<br>    \"layer_1_conv2d_filters\": 12,<br>    \"layer_1_conv2d_fsize\": 3,<br>    \"layer_1_conv2d_ssize\": 4,<br>    \"activation_1\": \"relu\",<br>    \"layer_2\": \"Conv2D\",<br>    \"layer_2_conv2d_filters\": 8,<br>    \"layer_2_conv2d_fsize\": 4,<br>    \"layer_2_conv2d_ssize\": 2,<br>    \"activation_2\": \"linear\",<br>    \"output_dropout\": 0.5034660647309108,<br>    \"lr_inicial\": 0.001721568771431923<br>  }<br>}",
          "{<br>  \"number\": 230,<br>  \"values\": [<br>    0.7799999713897705,<br>    45088.0<br>  ],<br>  \"params\": {<br>    \"batchsize\": 96,<br>    \"brightness_factor\": 0.09011897284274106,<br>    \"gaussian_noise_factor\": 0.17639321337616934,<br>    \"translate_factor\": 0.0729705453904094,<br>    \"num_layers\": 2,<br>    \"output_layer\": \"dense\",<br>    \"layer_0\": \"Conv2D\",<br>    \"layer_0_conv2d_filters\": 32,<br>    \"layer_0_conv2d_fsize\": 5,<br>    \"layer_0_conv2d_ssize\": 4,<br>    \"activation_0\": \"tanh\",<br>    \"layer_1\": \"Conv2D\",<br>    \"layer_1_conv2d_filters\": 28,<br>    \"layer_1_conv2d_fsize\": 5,<br>    \"layer_1_conv2d_ssize\": 5,<br>    \"activation_1\": \"relu\",<br>    \"output_dropout\": 0.487584718499568,<br>    \"lr_inicial\": 0.0019342967835181617<br>  }<br>}",
          "{<br>  \"number\": 231,<br>  \"values\": [<br>    0.699999988079071,<br>    20107.0<br>  ],<br>  \"params\": {<br>    \"batchsize\": 32,<br>    \"brightness_factor\": 0.1605423326898502,<br>    \"gaussian_noise_factor\": 0.1530099827739022,<br>    \"translate_factor\": 0.08253500179483095,<br>    \"num_layers\": 2,<br>    \"output_layer\": \"dense\",<br>    \"layer_0\": \"Conv2D\",<br>    \"layer_0_conv2d_filters\": 4,<br>    \"layer_0_conv2d_fsize\": 5,<br>    \"layer_0_conv2d_ssize\": 7,<br>    \"activation_0\": \"tanh\",<br>    \"layer_1\": \"Conv2D\",<br>    \"layer_1_conv2d_filters\": 20,<br>    \"layer_1_conv2d_fsize\": 3,<br>    \"layer_1_conv2d_ssize\": 2,<br>    \"activation_1\": \"tanh\",<br>    \"output_dropout\": 0.581116171489851,<br>    \"lr_inicial\": 0.0006248277251007953<br>  }<br>}",
          "{<br>  \"number\": 232,<br>  \"values\": [<br>    0.8799999952316284,<br>    25924.0<br>  ],<br>  \"params\": {<br>    \"batchsize\": 32,<br>    \"brightness_factor\": 0.15464363628683897,<br>    \"gaussian_noise_factor\": 0.05746640426900401,<br>    \"translate_factor\": 0.0010986066200863454,<br>    \"num_layers\": 2,<br>    \"output_layer\": \"dense\",<br>    \"layer_0\": \"Pointwise2D\",<br>    \"layer_0_pwconv2d_filters\": 12,<br>    \"layer_0_pwconv2d_ssize\": 2,<br>    \"activation_0\": \"relu\",<br>    \"layer_1\": \"Conv2D\",<br>    \"layer_1_conv2d_filters\": 32,<br>    \"layer_1_conv2d_fsize\": 4,<br>    \"layer_1_conv2d_ssize\": 8,<br>    \"activation_1\": \"relu\",<br>    \"output_dropout\": 0.3011195106103846,<br>    \"lr_inicial\": 0.0018286869669095606<br>  }<br>}",
          "{<br>  \"number\": 233,<br>  \"values\": [<br>    0.6800000071525574,<br>    20867.0<br>  ],<br>  \"params\": {<br>    \"batchsize\": 32,<br>    \"brightness_factor\": 0.08138440756356165,<br>    \"gaussian_noise_factor\": 0.05078357274254456,<br>    \"translate_factor\": 0.058407859175129695,<br>    \"num_layers\": 2,<br>    \"output_layer\": \"dense\",<br>    \"layer_0\": \"Conv2D\",<br>    \"layer_0_conv2d_filters\": 4,<br>    \"layer_0_conv2d_fsize\": 5,<br>    \"layer_0_conv2d_ssize\": 4,<br>    \"activation_0\": \"tanh\",<br>    \"layer_1\": \"Conv2D\",<br>    \"layer_1_conv2d_filters\": 8,<br>    \"layer_1_conv2d_fsize\": 3,<br>    \"layer_1_conv2d_ssize\": 6,<br>    \"activation_1\": \"linear\",<br>    \"output_dropout\": 0.3480610438958677,<br>    \"lr_inicial\": 0.00047039170191534303<br>  }<br>}",
          "{<br>  \"number\": 234,<br>  \"values\": [<br>    0.7799999713897705,<br>    21839.0<br>  ],<br>  \"params\": {<br>    \"batchsize\": 32,<br>    \"brightness_factor\": 0.16446271700898257,<br>    \"gaussian_noise_factor\": 0.18534102809752057,<br>    \"translate_factor\": 0.08903391098863145,<br>    \"num_layers\": 3,<br>    \"output_layer\": \"dense\",<br>    \"layer_0\": \"Conv2D\",<br>    \"layer_0_conv2d_filters\": 4,<br>    \"layer_0_conv2d_fsize\": 5,<br>    \"layer_0_conv2d_ssize\": 3,<br>    \"activation_0\": \"tanh\",<br>    \"layer_1\": \"Conv2D\",<br>    \"layer_1_conv2d_filters\": 28,<br>    \"layer_1_conv2d_fsize\": 3,<br>    \"layer_1_conv2d_ssize\": 4,<br>    \"activation_1\": \"relu\",<br>    \"layer_2\": \"Pointwise2D\",<br>    \"layer_2_pwconv2d_filters\": 8,<br>    \"layer_2_pwconv2d_ssize\": 2,<br>    \"activation_2\": \"relu\",<br>    \"output_dropout\": 0.3678944992956982,<br>    \"lr_inicial\": 0.0016761503870657882<br>  }<br>}",
          "{<br>  \"number\": 235,<br>  \"values\": [<br>    0.7400000095367432,<br>    24507.0<br>  ],<br>  \"params\": {<br>    \"batchsize\": 128,<br>    \"brightness_factor\": 0.14862086612103423,<br>    \"gaussian_noise_factor\": 0.07347488094096076,<br>    \"translate_factor\": 0.053317732464432506,<br>    \"num_layers\": 2,<br>    \"output_layer\": \"dense\",<br>    \"layer_0\": \"Conv2D\",<br>    \"layer_0_conv2d_filters\": 8,<br>    \"layer_0_conv2d_fsize\": 5,<br>    \"layer_0_conv2d_ssize\": 4,<br>    \"activation_0\": \"tanh\",<br>    \"layer_1\": \"Conv2D\",<br>    \"layer_1_conv2d_filters\": 16,<br>    \"layer_1_conv2d_fsize\": 5,<br>    \"layer_1_conv2d_ssize\": 7,<br>    \"activation_1\": \"relu\",<br>    \"output_dropout\": 0.51589077561725,<br>    \"lr_inicial\": 0.0005693497084730396<br>  }<br>}",
          "{<br>  \"number\": 236,<br>  \"values\": [<br>    0.7400000095367432,<br>    25424.0<br>  ],<br>  \"params\": {<br>    \"batchsize\": 32,<br>    \"brightness_factor\": 0.15802811037803702,<br>    \"gaussian_noise_factor\": 0.045864486173713304,<br>    \"translate_factor\": 0.07594992101019157,<br>    \"num_layers\": 2,<br>    \"output_layer\": \"dense\",<br>    \"layer_0\": \"Pointwise2D\",<br>    \"layer_0_pwconv2d_filters\": 24,<br>    \"layer_0_pwconv2d_ssize\": 7,<br>    \"activation_0\": \"relu\",<br>    \"layer_1\": \"Conv2D\",<br>    \"layer_1_conv2d_filters\": 24,<br>    \"layer_1_conv2d_fsize\": 3,<br>    \"layer_1_conv2d_ssize\": 3,<br>    \"activation_1\": \"tanh\",<br>    \"output_dropout\": 0.4739040197208006,<br>    \"lr_inicial\": 0.00037264256880329864<br>  }<br>}",
          "{<br>  \"number\": 237,<br>  \"values\": [<br>    0.7799999713897705,<br>    22720.0<br>  ],<br>  \"params\": {<br>    \"batchsize\": 32,<br>    \"brightness_factor\": 0.16864051924090342,<br>    \"gaussian_noise_factor\": 0.06488655927788993,<br>    \"translate_factor\": 0.06555628031911427,<br>    \"num_layers\": 2,<br>    \"output_layer\": \"dense\",<br>    \"layer_0\": \"Conv2D\",<br>    \"layer_0_conv2d_filters\": 4,<br>    \"layer_0_conv2d_fsize\": 5,<br>    \"layer_0_conv2d_ssize\": 4,<br>    \"activation_0\": \"tanh\",<br>    \"layer_1\": \"Conv2D\",<br>    \"layer_1_conv2d_filters\": 32,<br>    \"layer_1_conv2d_fsize\": 4,<br>    \"layer_1_conv2d_ssize\": 5,<br>    \"activation_1\": \"relu\",<br>    \"output_dropout\": 0.41212033579873997,<br>    \"lr_inicial\": 0.001868357002023789<br>  }<br>}",
          "{<br>  \"number\": 238,<br>  \"values\": [<br>    0.6800000071525574,<br>    22124.0<br>  ],<br>  \"params\": {<br>    \"batchsize\": 96,<br>    \"brightness_factor\": 0.044042806850661226,<br>    \"gaussian_noise_factor\": 0.1661423824969131,<br>    \"translate_factor\": 0.020079479888879634,<br>    \"num_layers\": 3,<br>    \"output_layer\": \"dense\",<br>    \"layer_0\": \"Conv2D\",<br>    \"layer_0_conv2d_filters\": 4,<br>    \"layer_0_conv2d_fsize\": 5,<br>    \"layer_0_conv2d_ssize\": 2,<br>    \"activation_0\": \"tanh\",<br>    \"layer_1\": \"Conv2D\",<br>    \"layer_1_conv2d_filters\": 4,<br>    \"layer_1_conv2d_fsize\": 3,<br>    \"layer_1_conv2d_ssize\": 4,<br>    \"activation_1\": \"linear\",<br>    \"layer_2\": \"Conv2D\",<br>    \"layer_2_conv2d_filters\": 28,<br>    \"layer_2_conv2d_fsize\": 3,<br>    \"layer_2_conv2d_ssize\": 3,<br>    \"activation_2\": \"tanh\",<br>    \"output_dropout\": 0.4807294035584834,<br>    \"lr_inicial\": 0.0017395241173870965<br>  }<br>}",
          "{<br>  \"number\": 239,<br>  \"values\": [<br>    0.8199999928474426,<br>    26699.0<br>  ],<br>  \"params\": {<br>    \"batchsize\": 32,<br>    \"brightness_factor\": 0.15356590685872507,<br>    \"gaussian_noise_factor\": 0.0591966889842494,<br>    \"translate_factor\": 0.03705904717397024,<br>    \"num_layers\": 2,<br>    \"output_layer\": \"dense\",<br>    \"layer_0\": \"Conv2D\",<br>    \"layer_0_conv2d_filters\": 20,<br>    \"layer_0_conv2d_fsize\": 5,<br>    \"layer_0_conv2d_ssize\": 4,<br>    \"activation_0\": \"tanh\",<br>    \"layer_1\": \"Conv2D\",<br>    \"layer_1_conv2d_filters\": 28,<br>    \"layer_1_conv2d_fsize\": 3,<br>    \"layer_1_conv2d_ssize\": 3,<br>    \"activation_1\": \"relu\",<br>    \"output_dropout\": 0.43942659607679946,<br>    \"lr_inicial\": 0.000667532982713463<br>  }<br>}",
          "{<br>  \"number\": 240,<br>  \"values\": [<br>    0.800000011920929,<br>    23115.0<br>  ],<br>  \"params\": {<br>    \"batchsize\": 32,<br>    \"brightness_factor\": 0.1622205699083977,<br>    \"gaussian_noise_factor\": 0.14214225396756222,<br>    \"translate_factor\": 0.026876044894540083,<br>    \"num_layers\": 2,<br>    \"output_layer\": \"dense\",<br>    \"layer_0\": \"Pointwise2D\",<br>    \"layer_0_pwconv2d_filters\": 8,<br>    \"layer_0_pwconv2d_ssize\": 3,<br>    \"activation_0\": \"tanh\",<br>    \"layer_1\": \"Conv2D\",<br>    \"layer_1_conv2d_filters\": 20,<br>    \"layer_1_conv2d_fsize\": 5,<br>    \"layer_1_conv2d_ssize\": 5,<br>    \"activation_1\": \"relu\",<br>    \"output_dropout\": 0.42308434517549737,<br>    \"lr_inicial\": 0.001844371396435663<br>  }<br>}",
          "{<br>  \"number\": 241,<br>  \"values\": [<br>    0.7400000095367432,<br>    21267.0<br>  ],<br>  \"params\": {<br>    \"batchsize\": 32,<br>    \"brightness_factor\": 0.16478380272482399,<br>    \"gaussian_noise_factor\": 0.047626691589461395,<br>    \"translate_factor\": 0.06760051002222209,<br>    \"num_layers\": 2,<br>    \"output_layer\": \"dense\",<br>    \"layer_0\": \"Conv2D\",<br>    \"layer_0_conv2d_filters\": 4,<br>    \"layer_0_conv2d_fsize\": 5,<br>    \"layer_0_conv2d_ssize\": 4,<br>    \"activation_0\": \"tanh\",<br>    \"layer_1\": \"Conv2D\",<br>    \"layer_1_conv2d_filters\": 24,<br>    \"layer_1_conv2d_fsize\": 3,<br>    \"layer_1_conv2d_ssize\": 3,<br>    \"activation_1\": \"relu\",<br>    \"output_dropout\": 0.3859626514237997,<br>    \"lr_inicial\": 0.0003084530693796394<br>  }<br>}",
          "{<br>  \"number\": 242,<br>  \"values\": [<br>    0.800000011920929,<br>    20867.0<br>  ],<br>  \"params\": {<br>    \"batchsize\": 32,<br>    \"brightness_factor\": 0.07172906762213485,<br>    \"gaussian_noise_factor\": 0.05405808561359731,<br>    \"translate_factor\": 0.07000475030292906,<br>    \"num_layers\": 2,<br>    \"output_layer\": \"dense\",<br>    \"layer_0\": \"Conv2D\",<br>    \"layer_0_conv2d_filters\": 4,<br>    \"layer_0_conv2d_fsize\": 5,<br>    \"layer_0_conv2d_ssize\": 4,<br>    \"activation_0\": \"relu\",<br>    \"layer_1\": \"Conv2D\",<br>    \"layer_1_conv2d_filters\": 8,<br>    \"layer_1_conv2d_fsize\": 3,<br>    \"layer_1_conv2d_ssize\": 6,<br>    \"activation_1\": \"relu\",<br>    \"output_dropout\": 0.33358558067000843,<br>    \"lr_inicial\": 0.001748624223520119<br>  }<br>}",
          "{<br>  \"number\": 243,<br>  \"values\": [<br>    0.7200000286102295,<br>    27423.0<br>  ],<br>  \"params\": {<br>    \"batchsize\": 128,<br>    \"brightness_factor\": 0.1560998469268352,<br>    \"gaussian_noise_factor\": 0.05121651638080096,<br>    \"translate_factor\": 0.061192871045910535,<br>    \"num_layers\": 2,<br>    \"output_layer\": \"dense\",<br>    \"layer_0\": \"Conv2D\",<br>    \"layer_0_conv2d_filters\": 12,<br>    \"layer_0_conv2d_fsize\": 5,<br>    \"layer_0_conv2d_ssize\": 4,<br>    \"activation_0\": \"tanh\",<br>    \"layer_1\": \"Conv2D\",<br>    \"layer_1_conv2d_filters\": 32,<br>    \"layer_1_conv2d_fsize\": 4,<br>    \"layer_1_conv2d_ssize\": 3,<br>    \"activation_1\": \"tanh\",<br>    \"output_dropout\": 0.49784927162890413,<br>    \"lr_inicial\": 0.0016337689540113591<br>  }<br>}",
          "{<br>  \"number\": 244,<br>  \"values\": [<br>    0.800000011920929,<br>    23324.0<br>  ],<br>  \"params\": {<br>    \"batchsize\": 32,<br>    \"brightness_factor\": 0.15929524028343922,<br>    \"gaussian_noise_factor\": 0.05967429353991086,<br>    \"translate_factor\": 0.014024649742877204,<br>    \"num_layers\": 3,<br>    \"output_layer\": \"dense\",<br>    \"layer_0\": \"Conv2D\",<br>    \"layer_0_conv2d_filters\": 4,<br>    \"layer_0_conv2d_fsize\": 5,<br>    \"layer_0_conv2d_ssize\": 3,<br>    \"activation_0\": \"tanh\",<br>    \"layer_1\": \"Conv2D\",<br>    \"layer_1_conv2d_filters\": 12,<br>    \"layer_1_conv2d_fsize\": 3,<br>    \"layer_1_conv2d_ssize\": 4,<br>    \"activation_1\": \"relu\",<br>    \"layer_2\": \"Pointwise2D\",<br>    \"layer_2_pwconv2d_filters\": 20,<br>    \"layer_2_pwconv2d_ssize\": 4,<br>    \"activation_2\": \"linear\",<br>    \"output_dropout\": 0.4842354880020869,<br>    \"lr_inicial\": 0.0004478850183038911<br>  }<br>}",
          "{<br>  \"number\": 245,<br>  \"values\": [<br>    0.7200000286102295,<br>    22011.0<br>  ],<br>  \"params\": {<br>    \"batchsize\": 32,<br>    \"brightness_factor\": 0.17084894733838424,<br>    \"gaussian_noise_factor\": 0.038177818947490894,<br>    \"translate_factor\": 0.07527294035283108,<br>    \"num_layers\": 2,<br>    \"output_layer\": \"dense\",<br>    \"layer_0\": \"Pointwise2D\",<br>    \"layer_0_pwconv2d_filters\": 4,<br>    \"layer_0_pwconv2d_ssize\": 7,<br>    \"activation_0\": \"tanh\",<br>    \"layer_1\": \"Conv2D\",<br>    \"layer_1_conv2d_filters\": 28,<br>    \"layer_1_conv2d_fsize\": 5,<br>    \"layer_1_conv2d_ssize\": 2,<br>    \"activation_1\": \"linear\",<br>    \"output_dropout\": 0.5083739673171502,<br>    \"lr_inicial\": 0.00035190708501330053<br>  }<br>}",
          "{<br>  \"number\": 246,<br>  \"values\": [<br>    0.7799999713897705,<br>    22267.0<br>  ],<br>  \"params\": {<br>    \"batchsize\": 96,<br>    \"brightness_factor\": 0.03837688884312634,<br>    \"gaussian_noise_factor\": 0.19915554285094234,<br>    \"translate_factor\": 0.050119922509158935,<br>    \"num_layers\": 2,<br>    \"output_layer\": \"dense\",<br>    \"layer_0\": \"Conv2D\",<br>    \"layer_0_conv2d_filters\": 4,<br>    \"layer_0_conv2d_fsize\": 5,<br>    \"layer_0_conv2d_ssize\": 4,<br>    \"activation_0\": \"tanh\",<br>    \"layer_1\": \"Conv2D\",<br>    \"layer_1_conv2d_filters\": 24,<br>    \"layer_1_conv2d_fsize\": 3,<br>    \"layer_1_conv2d_ssize\": 7,<br>    \"activation_1\": \"relu\",<br>    \"output_dropout\": 0.46645276704489763,<br>    \"lr_inicial\": 0.0019271479847434833<br>  }<br>}",
          "{<br>  \"number\": 247,<br>  \"values\": [<br>    0.8199999928474426,<br>    30631.0<br>  ],<br>  \"params\": {<br>    \"batchsize\": 32,<br>    \"brightness_factor\": 0.05043453119956403,<br>    \"gaussian_noise_factor\": 0.06876111043482297,<br>    \"translate_factor\": 0.0797378309591909,<br>    \"num_layers\": 2,<br>    \"output_layer\": \"dense\",<br>    \"layer_0\": \"Conv2D\",<br>    \"layer_0_conv2d_filters\": 32,<br>    \"layer_0_conv2d_fsize\": 5,<br>    \"layer_0_conv2d_ssize\": 4,<br>    \"activation_0\": \"relu\",<br>    \"layer_1\": \"Conv2D\",<br>    \"layer_1_conv2d_filters\": 28,<br>    \"layer_1_conv2d_fsize\": 3,<br>    \"layer_1_conv2d_ssize\": 5,<br>    \"activation_1\": \"relu\",<br>    \"output_dropout\": 0.49336768170877326,<br>    \"lr_inicial\": 0.0017991974821657038<br>  }<br>}",
          "{<br>  \"number\": 248,<br>  \"values\": [<br>    0.7599999904632568,<br>    27259.0<br>  ],<br>  \"params\": {<br>    \"batchsize\": 32,<br>    \"brightness_factor\": 0.14940680215249336,<br>    \"gaussian_noise_factor\": 0.055136597997926674,<br>    \"translate_factor\": 0.0554006791046123,<br>    \"num_layers\": 2,<br>    \"output_layer\": \"dense\",<br>    \"layer_0\": \"Conv2D\",<br>    \"layer_0_conv2d_filters\": 8,<br>    \"layer_0_conv2d_fsize\": 5,<br>    \"layer_0_conv2d_ssize\": 7,<br>    \"activation_0\": \"tanh\",<br>    \"layer_1\": \"Conv2D\",<br>    \"layer_1_conv2d_filters\": 32,<br>    \"layer_1_conv2d_fsize\": 4,<br>    \"layer_1_conv2d_ssize\": 5,<br>    \"activation_1\": \"relu\",<br>    \"output_dropout\": 0.5266057300342034,<br>    \"lr_inicial\": 0.0003921249720169493<br>  }<br>}",
          "{<br>  \"number\": 249,<br>  \"values\": [<br>    0.7599999904632568,<br>    19681.0<br>  ],<br>  \"params\": {<br>    \"batchsize\": 32,<br>    \"brightness_factor\": 0.16064115421016867,<br>    \"gaussian_noise_factor\": 0.0415650217035288,<br>    \"translate_factor\": 0.07075006569593184,<br>    \"num_layers\": 3,<br>    \"output_layer\": \"dense\",<br>    \"layer_0\": \"Pointwise2D\",<br>    \"layer_0_pwconv2d_filters\": 8,<br>    \"layer_0_pwconv2d_ssize\": 2,<br>    \"activation_0\": \"tanh\",<br>    \"layer_1\": \"Pointwise2D\",<br>    \"layer_1_pwconv2d_filters\": 8,<br>    \"layer_1_pwconv2d_ssize\": 2,<br>    \"activation_1\": \"tanh\",<br>    \"layer_2\": \"Pointwise2D\",<br>    \"layer_2_pwconv2d_filters\": 12,<br>    \"layer_2_pwconv2d_ssize\": 3,<br>    \"activation_2\": \"tanh\",<br>    \"output_dropout\": 0.5024094260796705,<br>    \"lr_inicial\": 0.0016995479782339871<br>  }<br>}",
          "{<br>  \"number\": 250,<br>  \"values\": [<br>    0.7599999904632568,<br>    21451.0<br>  ],<br>  \"params\": {<br>    \"batchsize\": 32,<br>    \"brightness_factor\": 0.15333612933108653,<br>    \"gaussian_noise_factor\": 0.06502161033037819,<br>    \"translate_factor\": 0.06384456558084158,<br>    \"num_layers\": 2,<br>    \"output_layer\": \"dense\",<br>    \"layer_0\": \"Conv2D\",<br>    \"layer_0_conv2d_filters\": 4,<br>    \"layer_0_conv2d_fsize\": 5,<br>    \"layer_0_conv2d_ssize\": 4,<br>    \"activation_0\": \"tanh\",<br>    \"layer_1\": \"Conv2D\",<br>    \"layer_1_conv2d_filters\": 28,<br>    \"layer_1_conv2d_fsize\": 3,<br>    \"layer_1_conv2d_ssize\": 3,<br>    \"activation_1\": \"linear\",<br>    \"output_dropout\": 0.5477801462591863,<br>    \"lr_inicial\": 0.0018519260366707186<br>  }<br>}",
          "{<br>  \"number\": 251,<br>  \"values\": [<br>    0.7799999713897705,<br>    29531.0<br>  ],<br>  \"params\": {<br>    \"batchsize\": 96,<br>    \"brightness_factor\": 0.16678818724405883,<br>    \"gaussian_noise_factor\": 0.04969241006598385,<br>    \"translate_factor\": 0.059736130001667026,<br>    \"num_layers\": 2,<br>    \"output_layer\": \"dense\",<br>    \"layer_0\": \"Conv2D\",<br>    \"layer_0_conv2d_filters\": 12,<br>    \"layer_0_conv2d_fsize\": 5,<br>    \"layer_0_conv2d_ssize\": 4,<br>    \"activation_0\": \"relu\",<br>    \"layer_1\": \"Conv2D\",<br>    \"layer_1_conv2d_filters\": 24,<br>    \"layer_1_conv2d_fsize\": 5,<br>    \"layer_1_conv2d_ssize\": 8,<br>    \"activation_1\": \"relu\",<br>    \"output_dropout\": 0.45522859475126015,<br>    \"lr_inicial\": 0.0005169326586596646<br>  }<br>}",
          "{<br>  \"number\": 252,<br>  \"values\": [<br>    0.699999988079071,<br>    20419.0<br>  ],<br>  \"params\": {<br>    \"batchsize\": 128,<br>    \"brightness_factor\": 0.16363839559998034,<br>    \"gaussian_noise_factor\": 0.05999775606530868,<br>    \"translate_factor\": 0.08652444466717832,<br>    \"num_layers\": 2,<br>    \"output_layer\": \"dense\",<br>    \"layer_0\": \"Conv2D\",<br>    \"layer_0_conv2d_filters\": 4,<br>    \"layer_0_conv2d_fsize\": 5,<br>    \"layer_0_conv2d_ssize\": 4,<br>    \"activation_0\": \"tanh\",<br>    \"layer_1\": \"Pointwise2D\",<br>    \"layer_1_pwconv2d_filters\": 4,<br>    \"layer_1_pwconv2d_ssize\": 7,<br>    \"activation_1\": \"relu\",<br>    \"output_dropout\": 0.4903000716347602,<br>    \"lr_inicial\": 0.0017751581802596913<br>  }<br>}",
          "{<br>  \"number\": 253,<br>  \"values\": [<br>    0.8600000143051147,<br>    27931.0<br>  ],<br>  \"params\": {<br>    \"batchsize\": 32,<br>    \"brightness_factor\": 0.06724575448518788,<br>    \"gaussian_noise_factor\": 0.07552717130877412,<br>    \"translate_factor\": 0.06728170828895536,<br>    \"num_layers\": 3,<br>    \"output_layer\": \"dense\",<br>    \"layer_0\": \"Pointwise2D\",<br>    \"layer_0_pwconv2d_filters\": 28,<br>    \"layer_0_pwconv2d_ssize\": 3,<br>    \"activation_0\": \"tanh\",<br>    \"layer_1\": \"Conv2D\",<br>    \"layer_1_conv2d_filters\": 20,<br>    \"layer_1_conv2d_fsize\": 3,<br>    \"layer_1_conv2d_ssize\": 4,<br>    \"activation_1\": \"relu\",<br>    \"layer_2\": \"Conv2D\",<br>    \"layer_2_conv2d_filters\": 8,<br>    \"layer_2_conv2d_fsize\": 3,<br>    \"layer_2_conv2d_ssize\": 4,<br>    \"activation_2\": \"relu\",<br>    \"output_dropout\": 0.5673620771758217,<br>    \"lr_inicial\": 0.0016418292015527765<br>  }<br>}",
          "{<br>  \"number\": 254,<br>  \"values\": [<br>    0.800000011920929,<br>    23827.0<br>  ],<br>  \"params\": {<br>    \"batchsize\": 32,<br>    \"brightness_factor\": 0.15751943696655596,<br>    \"gaussian_noise_factor\": 0.05570586601743311,<br>    \"translate_factor\": 0.08998353089850053,<br>    \"num_layers\": 2,<br>    \"output_layer\": \"dense\",<br>    \"layer_0\": \"Conv2D\",<br>    \"layer_0_conv2d_filters\": 24,<br>    \"layer_0_conv2d_fsize\": 5,<br>    \"layer_0_conv2d_ssize\": 4,<br>    \"activation_0\": \"tanh\",<br>    \"layer_1\": \"Conv2D\",<br>    \"layer_1_conv2d_filters\": 8,<br>    \"layer_1_conv2d_fsize\": 3,<br>    \"layer_1_conv2d_ssize\": 6,<br>    \"activation_1\": \"tanh\",<br>    \"output_dropout\": 0.46301895792694087,<br>    \"lr_inicial\": 0.0019316495020362389<br>  }<br>}",
          "{<br>  \"number\": 255,<br>  \"values\": [<br>    0.7200000286102295,<br>    21015.0<br>  ],<br>  \"params\": {<br>    \"batchsize\": 32,<br>    \"brightness_factor\": 0.06115363139323646,<br>    \"gaussian_noise_factor\": 0.06319903404303412,<br>    \"translate_factor\": 0.045788635997267346,<br>    \"num_layers\": 2,<br>    \"output_layer\": \"dense\",<br>    \"layer_0\": \"Conv2D\",<br>    \"layer_0_conv2d_filters\": 4,<br>    \"layer_0_conv2d_fsize\": 5,<br>    \"layer_0_conv2d_ssize\": 4,<br>    \"activation_0\": \"tanh\",<br>    \"layer_1\": \"Pointwise2D\",<br>    \"layer_1_pwconv2d_filters\": 12,<br>    \"layer_1_pwconv2d_ssize\": 8,<br>    \"activation_1\": \"linear\",<br>    \"output_dropout\": 0.47343837456749793,<br>    \"lr_inicial\": 0.0017375084994281605<br>  }<br>}",
          "{<br>  \"number\": 256,<br>  \"values\": [<br>    0.699999988079071,<br>    27627.0<br>  ],<br>  \"params\": {<br>    \"batchsize\": 32,<br>    \"brightness_factor\": 0.17420250615255206,<br>    \"gaussian_noise_factor\": 0.18991103667776255,<br>    \"translate_factor\": 0.07431391021727303,<br>    \"num_layers\": 2,<br>    \"output_layer\": \"dense\",<br>    \"layer_0\": \"Conv2D\",<br>    \"layer_0_conv2d_filters\": 28,<br>    \"layer_0_conv2d_fsize\": 5,<br>    \"layer_0_conv2d_ssize\": 3,<br>    \"activation_0\": \"relu\",<br>    \"layer_1\": \"Conv2D\",<br>    \"layer_1_conv2d_filters\": 16,<br>    \"layer_1_conv2d_fsize\": 4,<br>    \"layer_1_conv2d_ssize\": 3,<br>    \"activation_1\": \"relu\",<br>    \"output_dropout\": 0.5928900216147122,<br>    \"lr_inicial\": 0.0018633194938619231<br>  }<br>}",
          "{<br>  \"number\": 257,<br>  \"values\": [<br>    0.8600000143051147,<br>    21159.0<br>  ],<br>  \"params\": {<br>    \"batchsize\": 32,<br>    \"brightness_factor\": 0.16129791613905844,<br>    \"gaussian_noise_factor\": 0.04479304666674906,<br>    \"translate_factor\": 0.08274160544874753,<br>    \"num_layers\": 2,<br>    \"output_layer\": \"dense\",<br>    \"layer_0\": \"Pointwise2D\",<br>    \"layer_0_pwconv2d_filters\": 4,<br>    \"layer_0_pwconv2d_ssize\": 4,<br>    \"activation_0\": \"tanh\",<br>    \"layer_1\": \"Conv2D\",<br>    \"layer_1_conv2d_filters\": 28,<br>    \"layer_1_conv2d_fsize\": 3,<br>    \"layer_1_conv2d_ssize\": 5,<br>    \"activation_1\": \"relu\",<br>    \"output_dropout\": 0.509745271606186,<br>    \"lr_inicial\": 0.0017865177019944635<br>  }<br>}",
          "{<br>  \"number\": 258,<br>  \"values\": [<br>    0.800000011920929,<br>    21863.0<br>  ],<br>  \"params\": {<br>    \"batchsize\": 128,<br>    \"brightness_factor\": 0.09846521060786817,<br>    \"gaussian_noise_factor\": 0.044216450877311214,<br>    \"translate_factor\": 0.06254622581805988,<br>    \"num_layers\": 3,<br>    \"output_layer\": \"dense\",<br>    \"layer_0\": \"Pointwise2D\",<br>    \"layer_0_pwconv2d_filters\": 4,<br>    \"layer_0_pwconv2d_ssize\": 2,<br>    \"activation_0\": \"tanh\",<br>    \"layer_1\": \"Conv2D\",<br>    \"layer_1_conv2d_filters\": 28,<br>    \"layer_1_conv2d_fsize\": 3,<br>    \"layer_1_conv2d_ssize\": 4,<br>    \"activation_1\": \"relu\",<br>    \"layer_2\": \"Pointwise2D\",<br>    \"layer_2_pwconv2d_filters\": 8,<br>    \"layer_2_pwconv2d_ssize\": 5,<br>    \"activation_2\": \"tanh\",<br>    \"output_dropout\": 0.5132097824442539,<br>    \"lr_inicial\": 0.001829886301606534<br>  }<br>}",
          "{<br>  \"number\": 259,<br>  \"values\": [<br>    0.8600000143051147,<br>    25075.0<br>  ],<br>  \"params\": {<br>    \"batchsize\": 32,<br>    \"brightness_factor\": 0.16352555548227046,<br>    \"gaussian_noise_factor\": 0.05223058882378275,<br>    \"translate_factor\": 0.08276024884876493,<br>    \"num_layers\": 2,<br>    \"output_layer\": \"dense\",<br>    \"layer_0\": \"Conv2D\",<br>    \"layer_0_conv2d_filters\": 16,<br>    \"layer_0_conv2d_fsize\": 5,<br>    \"layer_0_conv2d_ssize\": 7,<br>    \"activation_0\": \"tanh\",<br>    \"layer_1\": \"Conv2D\",<br>    \"layer_1_conv2d_filters\": 32,<br>    \"layer_1_conv2d_fsize\": 3,<br>    \"layer_1_conv2d_ssize\": 2,<br>    \"activation_1\": \"relu\",<br>    \"output_dropout\": 0.4513333860671869,<br>    \"lr_inicial\": 0.001688152304830651<br>  }<br>}",
          "{<br>  \"number\": 260,<br>  \"values\": [<br>    0.699999988079071,<br>    20763.0<br>  ],<br>  \"params\": {<br>    \"batchsize\": 96,<br>    \"brightness_factor\": 0.16968558523898877,<br>    \"gaussian_noise_factor\": 0.18041723057781564,<br>    \"translate_factor\": 0.07146800614424849,<br>    \"num_layers\": 2,<br>    \"output_layer\": \"dense\",<br>    \"layer_0\": \"Conv2D\",<br>    \"layer_0_conv2d_filters\": 4,<br>    \"layer_0_conv2d_fsize\": 5,<br>    \"layer_0_conv2d_ssize\": 4,<br>    \"activation_0\": \"tanh\",<br>    \"layer_1\": \"Pointwise2D\",<br>    \"layer_1_pwconv2d_filters\": 12,<br>    \"layer_1_pwconv2d_ssize\": 6,<br>    \"activation_1\": \"tanh\",<br>    \"output_dropout\": 0.48380149882847334,<br>    \"lr_inicial\": 0.0007816179563338984<br>  }<br>}",
          "{<br>  \"number\": 261,<br>  \"values\": [<br>    0.7200000286102295,<br>    27320.0<br>  ],<br>  \"params\": {<br>    \"batchsize\": 32,<br>    \"brightness_factor\": 0.15647678647159394,<br>    \"gaussian_noise_factor\": 0.1496355642428747,<br>    \"translate_factor\": 0.056682278305439295,<br>    \"num_layers\": 2,<br>    \"output_layer\": \"dense\",<br>    \"layer_0\": \"Pointwise2D\",<br>    \"layer_0_pwconv2d_filters\": 24,<br>    \"layer_0_pwconv2d_ssize\": 5,<br>    \"activation_0\": \"relu\",<br>    \"layer_1\": \"Conv2D\",<br>    \"layer_1_conv2d_filters\": 12,<br>    \"layer_1_conv2d_fsize\": 5,<br>    \"layer_1_conv2d_ssize\": 5,<br>    \"activation_1\": \"linear\",<br>    \"output_dropout\": 0.4979424682910063,<br>    \"lr_inicial\": 0.000597060883666903<br>  }<br>}",
          "{<br>  \"number\": 262,<br>  \"values\": [<br>    0.9200000166893005,<br>    23155.0<br>  ],<br>  \"params\": {<br>    \"batchsize\": 32,<br>    \"brightness_factor\": 0.16063732286558707,<br>    \"gaussian_noise_factor\": 0.07079516256803453,<br>    \"translate_factor\": 0.07971602949037182,<br>    \"num_layers\": 2,<br>    \"output_layer\": \"dense\",<br>    \"layer_0\": \"Conv2D\",<br>    \"layer_0_conv2d_filters\": 8,<br>    \"layer_0_conv2d_fsize\": 5,<br>    \"layer_0_conv2d_ssize\": 4,<br>    \"activation_0\": \"tanh\",<br>    \"layer_1\": \"Conv2D\",<br>    \"layer_1_conv2d_filters\": 24,<br>    \"layer_1_conv2d_fsize\": 3,<br>    \"layer_1_conv2d_ssize\": 6,<br>    \"activation_1\": \"relu\",<br>    \"output_dropout\": 0.40735104397952443,<br>    \"lr_inicial\": 0.0017708301102736254<br>  }<br>}",
          "{<br>  \"number\": 263,<br>  \"values\": [<br>    0.8199999928474426,<br>    20747.0<br>  ],<br>  \"params\": {<br>    \"batchsize\": 32,<br>    \"brightness_factor\": 0.15119443226261572,<br>    \"gaussian_noise_factor\": 0.0334541234141017,<br>    \"translate_factor\": 0.07824808896487442,<br>    \"num_layers\": 2,<br>    \"output_layer\": \"dense\",<br>    \"layer_0\": \"Conv2D\",<br>    \"layer_0_conv2d_filters\": 4,<br>    \"layer_0_conv2d_fsize\": 5,<br>    \"layer_0_conv2d_ssize\": 5,<br>    \"activation_0\": \"linear\",<br>    \"layer_1\": \"Pointwise2D\",<br>    \"layer_1_pwconv2d_filters\": 8,<br>    \"layer_1_pwconv2d_ssize\": 7,<br>    \"activation_1\": \"relu\",<br>    \"output_dropout\": 0.4067995543249595,<br>    \"lr_inicial\": 0.0017745260974331811<br>  }<br>}",
          "{<br>  \"number\": 264,<br>  \"values\": [<br>    0.800000011920929,<br>    19713.0<br>  ],<br>  \"params\": {<br>    \"batchsize\": 32,<br>    \"brightness_factor\": 0.1623863997698343,<br>    \"gaussian_noise_factor\": 0.0801487867159625,<br>    \"translate_factor\": 0.0054018264529542,<br>    \"num_layers\": 3,<br>    \"output_layer\": \"dense\",<br>    \"layer_0\": \"Conv2D\",<br>    \"layer_0_conv2d_filters\": 4,<br>    \"layer_0_conv2d_fsize\": 5,<br>    \"layer_0_conv2d_ssize\": 2,<br>    \"activation_0\": \"tanh\",<br>    \"layer_1\": \"Pointwise2D\",<br>    \"layer_1_pwconv2d_filters\": 4,<br>    \"layer_1_pwconv2d_ssize\": 2,<br>    \"activation_1\": \"relu\",<br>    \"layer_2\": \"Conv2D\",<br>    \"layer_2_conv2d_filters\": 20,<br>    \"layer_2_conv2d_fsize\": 4,<br>    \"layer_2_conv2d_ssize\": 2,<br>    \"activation_2\": \"linear\",<br>    \"output_dropout\": 0.5232448471238551,<br>    \"lr_inicial\": 0.0016002297520500569<br>  }<br>}",
          "{<br>  \"number\": 265,<br>  \"values\": [<br>    0.9200000166893005,<br>    32511.0<br>  ],<br>  \"params\": {<br>    \"batchsize\": 32,<br>    \"brightness_factor\": 0.16034907439703439,<br>    \"gaussian_noise_factor\": 0.08299795140912816,<br>    \"translate_factor\": 0.06664931648604512,<br>    \"num_layers\": 3,<br>    \"output_layer\": \"dense\",<br>    \"layer_0\": \"Conv2D\",<br>    \"layer_0_conv2d_filters\": 8,<br>    \"layer_0_conv2d_fsize\": 5,<br>    \"layer_0_conv2d_ssize\": 3,<br>    \"activation_0\": \"tanh\",<br>    \"layer_1\": \"Conv2D\",<br>    \"layer_1_conv2d_filters\": 28,<br>    \"layer_1_conv2d_fsize\": 3,<br>    \"layer_1_conv2d_ssize\": 4,<br>    \"activation_1\": \"relu\",<br>    \"layer_2\": \"Conv2D\",<br>    \"layer_2_conv2d_filters\": 20,<br>    \"layer_2_conv2d_fsize\": 4,<br>    \"layer_2_conv2d_ssize\": 2,<br>    \"activation_2\": \"linear\",<br>    \"output_dropout\": 0.5206747842735258,<br>    \"lr_inicial\": 0.0019917073114171283<br>  }<br>}",
          "{<br>  \"number\": 266,<br>  \"values\": [<br>    0.7599999904632568,<br>    20579.0<br>  ],<br>  \"params\": {<br>    \"batchsize\": 32,<br>    \"brightness_factor\": 0.167249870648464,<br>    \"gaussian_noise_factor\": 0.07987804192620797,<br>    \"translate_factor\": 0.07161818322510131,<br>    \"num_layers\": 2,<br>    \"output_layer\": \"dense\",<br>    \"layer_0\": \"Conv2D\",<br>    \"layer_0_conv2d_filters\": 4,<br>    \"layer_0_conv2d_fsize\": 5,<br>    \"layer_0_conv2d_ssize\": 5,<br>    \"activation_0\": \"linear\",<br>    \"layer_1\": \"Pointwise2D\",<br>    \"layer_1_pwconv2d_filters\": 4,<br>    \"layer_1_pwconv2d_ssize\": 8,<br>    \"activation_1\": \"relu\",<br>    \"output_dropout\": 0.5085398242479111,<br>    \"lr_inicial\": 0.0005441105181299415<br>  }<br>}",
          "{<br>  \"number\": 267,<br>  \"values\": [<br>    0.7400000095367432,<br>    23851.0<br>  ],<br>  \"params\": {<br>    \"batchsize\": 32,<br>    \"brightness_factor\": 0.1622041823011497,<br>    \"gaussian_noise_factor\": 0.075987712842491,<br>    \"translate_factor\": 0.06084107511967652,<br>    \"num_layers\": 2,<br>    \"output_layer\": \"dense\",<br>    \"layer_0\": \"Conv2D\",<br>    \"layer_0_conv2d_filters\": 4,<br>    \"layer_0_conv2d_fsize\": 5,<br>    \"layer_0_conv2d_ssize\": 4,<br>    \"activation_0\": \"tanh\",<br>    \"layer_1\": \"Conv2D\",<br>    \"layer_1_conv2d_filters\": 32,<br>    \"layer_1_conv2d_fsize\": 4,<br>    \"layer_1_conv2d_ssize\": 7,<br>    \"activation_1\": \"relu\",<br>    \"output_dropout\": 0.34992170029177466,<br>    \"lr_inicial\": 0.000335671368895301<br>  }<br>}",
          "{<br>  \"number\": 268,<br>  \"values\": [<br>    0.800000011920929,<br>    26007.0<br>  ],<br>  \"params\": {<br>    \"batchsize\": 32,<br>    \"brightness_factor\": 0.1898104824924467,<br>    \"gaussian_noise_factor\": 0.07234740623610188,<br>    \"translate_factor\": 0.06399594462017201,<br>    \"num_layers\": 3,<br>    \"output_layer\": \"dense\",<br>    \"layer_0\": \"Conv2D\",<br>    \"layer_0_conv2d_filters\": 20,<br>    \"layer_0_conv2d_fsize\": 5,<br>    \"layer_0_conv2d_ssize\": 3,<br>    \"activation_0\": \"tanh\",<br>    \"layer_1\": \"Conv2D\",<br>    \"layer_1_conv2d_filters\": 20,<br>    \"layer_1_conv2d_fsize\": 3,<br>    \"layer_1_conv2d_ssize\": 4,<br>    \"activation_1\": \"tanh\",<br>    \"layer_2\": \"Pointwise2D\",<br>    \"layer_2_pwconv2d_filters\": 16,<br>    \"layer_2_pwconv2d_ssize\": 2,<br>    \"activation_2\": \"tanh\",<br>    \"output_dropout\": 0.3288251877565801,<br>    \"lr_inicial\": 0.0015929783437630752<br>  }<br>}",
          "{<br>  \"number\": 269,<br>  \"values\": [<br>    0.7599999904632568,<br>    21339.0<br>  ],<br>  \"params\": {<br>    \"batchsize\": 32,<br>    \"brightness_factor\": 0.15855295579212397,<br>    \"gaussian_noise_factor\": 0.03853419948305857,<br>    \"translate_factor\": 0.03618258257012723,<br>    \"num_layers\": 2,<br>    \"output_layer\": \"dense\",<br>    \"layer_0\": \"Pointwise2D\",<br>    \"layer_0_pwconv2d_filters\": 12,<br>    \"layer_0_pwconv2d_ssize\": 4,<br>    \"activation_0\": \"tanh\",<br>    \"layer_1\": \"Pointwise2D\",<br>    \"layer_1_pwconv2d_filters\": 28,<br>    \"layer_1_pwconv2d_ssize\": 6,<br>    \"activation_1\": \"linear\",<br>    \"output_dropout\": 0.47655865774794026,<br>    \"lr_inicial\": 0.0017213461151311023<br>  }<br>}",
          "{<br>  \"number\": 270,<br>  \"values\": [<br>    0.6600000262260437,<br>    20408.0<br>  ],<br>  \"params\": {<br>    \"batchsize\": 96,<br>    \"brightness_factor\": 0.15468470372309615,<br>    \"gaussian_noise_factor\": 0.15561700364194822,<br>    \"translate_factor\": 0.05348613053201544,<br>    \"num_layers\": 2,<br>    \"output_layer\": \"dense\",<br>    \"layer_0\": \"Conv2D\",<br>    \"layer_0_conv2d_filters\": 4,<br>    \"layer_0_conv2d_fsize\": 5,<br>    \"layer_0_conv2d_ssize\": 4,<br>    \"activation_0\": \"linear\",<br>    \"layer_1\": \"Conv2D\",<br>    \"layer_1_conv2d_filters\": 4,<br>    \"layer_1_conv2d_fsize\": 5,<br>    \"layer_1_conv2d_ssize\": 6,<br>    \"activation_1\": \"relu\",<br>    \"output_dropout\": 0.4696803658106721,<br>    \"lr_inicial\": 0.0016375589974023978<br>  }<br>}",
          "{<br>  \"number\": 271,<br>  \"values\": [<br>    0.7799999713897705,<br>    21267.0<br>  ],<br>  \"params\": {<br>    \"batchsize\": 128,<br>    \"brightness_factor\": 0.08726881261726292,<br>    \"gaussian_noise_factor\": 0.0329769657063221,<br>    \"translate_factor\": 0.07701105136289396,<br>    \"num_layers\": 2,<br>    \"output_layer\": \"dense\",<br>    \"layer_0\": \"Conv2D\",<br>    \"layer_0_conv2d_filters\": 4,<br>    \"layer_0_conv2d_fsize\": 5,<br>    \"layer_0_conv2d_ssize\": 4,<br>    \"activation_0\": \"relu\",<br>    \"layer_1\": \"Conv2D\",<br>    \"layer_1_conv2d_filters\": 24,<br>    \"layer_1_conv2d_fsize\": 3,<br>    \"layer_1_conv2d_ssize\": 3,<br>    \"activation_1\": \"relu\",<br>    \"output_dropout\": 0.5019713401115908,<br>    \"lr_inicial\": 0.0018355614874308887<br>  }<br>}",
          "{<br>  \"number\": 272,<br>  \"values\": [<br>    0.7799999713897705,<br>    21557.0<br>  ],<br>  \"params\": {<br>    \"batchsize\": 32,<br>    \"brightness_factor\": 0.1360885185728276,<br>    \"gaussian_noise_factor\": 0.07116959525323063,<br>    \"translate_factor\": 0.0667276532136791,<br>    \"num_layers\": 3,<br>    \"output_layer\": \"dense\",<br>    \"layer_0\": \"Conv2D\",<br>    \"layer_0_conv2d_filters\": 16,<br>    \"layer_0_conv2d_fsize\": 5,<br>    \"layer_0_conv2d_ssize\": 3,<br>    \"activation_0\": \"tanh\",<br>    \"layer_1\": \"Pointwise2D\",<br>    \"layer_1_pwconv2d_filters\": 8,<br>    \"layer_1_pwconv2d_ssize\": 2,<br>    \"activation_1\": \"relu\",<br>    \"layer_2\": \"Pointwise2D\",<br>    \"layer_2_pwconv2d_filters\": 20,<br>    \"layer_2_pwconv2d_ssize\": 3,<br>    \"activation_2\": \"relu\",<br>    \"output_dropout\": 0.3673825020047934,<br>    \"lr_inicial\": 0.0017187881002934554<br>  }<br>}",
          "{<br>  \"number\": 273,<br>  \"values\": [<br>    0.800000011920929,<br>    28013.0<br>  ],<br>  \"params\": {<br>    \"batchsize\": 32,<br>    \"brightness_factor\": 0.16336509096802612,<br>    \"gaussian_noise_factor\": 0.04345926518224226,<br>    \"translate_factor\": 0.10288746610167131,<br>    \"num_layers\": 2,<br>    \"output_layer\": \"dense\",<br>    \"layer_0\": \"Pointwise2D\",<br>    \"layer_0_pwconv2d_filters\": 32,<br>    \"layer_0_pwconv2d_ssize\": 7,<br>    \"activation_0\": \"tanh\",<br>    \"layer_1\": \"Conv2D\",<br>    \"layer_1_conv2d_filters\": 28,<br>    \"layer_1_conv2d_fsize\": 3,<br>    \"layer_1_conv2d_ssize\": 2,<br>    \"activation_1\": \"tanh\",<br>    \"output_dropout\": 0.4865829476743353,<br>    \"lr_inicial\": 0.001786693189820963<br>  }<br>}",
          "{<br>  \"number\": 274,<br>  \"values\": [<br>    0.7599999904632568,<br>    34480.0<br>  ],<br>  \"params\": {<br>    \"batchsize\": 96,<br>    \"brightness_factor\": 0.16612828470245056,<br>    \"gaussian_noise_factor\": 0.03698065338055376,<br>    \"translate_factor\": 0.04173354097984699,<br>    \"num_layers\": 2,<br>    \"output_layer\": \"dense\",<br>    \"layer_0\": \"Conv2D\",<br>    \"layer_0_conv2d_filters\": 24,<br>    \"layer_0_conv2d_fsize\": 5,<br>    \"layer_0_conv2d_ssize\": 5,<br>    \"activation_0\": \"tanh\",<br>    \"layer_1\": \"Conv2D\",<br>    \"layer_1_conv2d_filters\": 32,<br>    \"layer_1_conv2d_fsize\": 4,<br>    \"layer_1_conv2d_ssize\": 4,<br>    \"activation_1\": \"relu\",<br>    \"output_dropout\": 0.3120368867595864,<br>    \"lr_inicial\": 0.0007118503257095274<br>  }<br>}",
          "{<br>  \"number\": 275,<br>  \"values\": [<br>    0.7599999904632568,<br>    21795.0<br>  ],<br>  \"params\": {<br>    \"batchsize\": 32,<br>    \"brightness_factor\": 0.029603219519322127,<br>    \"gaussian_noise_factor\": 0.13492906520862244,<br>    \"translate_factor\": 0.013012548186444484,<br>    \"num_layers\": 2,<br>    \"output_layer\": \"dense\",<br>    \"layer_0\": \"Conv2D\",<br>    \"layer_0_conv2d_filters\": 4,<br>    \"layer_0_conv2d_fsize\": 5,<br>    \"layer_0_conv2d_ssize\": 6,<br>    \"activation_0\": \"linear\",<br>    \"layer_1\": \"Conv2D\",<br>    \"layer_1_conv2d_filters\": 16,<br>    \"layer_1_conv2d_fsize\": 3,<br>    \"layer_1_conv2d_ssize\": 5,<br>    \"activation_1\": \"linear\",<br>    \"output_dropout\": 0.47946485542518313,<br>    \"lr_inicial\": 0.0019175907291409426<br>  }<br>}",
          "{<br>  \"number\": 276,<br>  \"values\": [<br>    0.8799999952316284,<br>    21043.0<br>  ],<br>  \"params\": {<br>    \"batchsize\": 32,<br>    \"brightness_factor\": 0.18506242769505285,<br>    \"gaussian_noise_factor\": 0.04045810135889494,<br>    \"translate_factor\": 0.05832162193606937,<br>    \"num_layers\": 2,<br>    \"output_layer\": \"dense\",<br>    \"layer_0\": \"Conv2D\",<br>    \"layer_0_conv2d_filters\": 8,<br>    \"layer_0_conv2d_fsize\": 5,<br>    \"layer_0_conv2d_ssize\": 4,<br>    \"activation_0\": \"tanh\",<br>    \"layer_1\": \"Pointwise2D\",<br>    \"layer_1_pwconv2d_filters\": 32,<br>    \"layer_1_pwconv2d_ssize\": 3,<br>    \"activation_1\": \"relu\",<br>    \"output_dropout\": 0.53031070882773,<br>    \"lr_inicial\": 0.001799693523930387<br>  }<br>}",
          "{<br>  \"number\": 277,<br>  \"values\": [<br>    0.7799999713897705,<br>    27699.0<br>  ],<br>  \"params\": {<br>    \"batchsize\": 128,<br>    \"brightness_factor\": 0.07711731375845995,<br>    \"gaussian_noise_factor\": 0.08829869371792642,<br>    \"translate_factor\": 0.07145871790645668,<br>    \"num_layers\": 3,<br>    \"output_layer\": \"dense\",<br>    \"layer_0\": \"Conv2D\",<br>    \"layer_0_conv2d_filters\": 4,<br>    \"layer_0_conv2d_fsize\": 5,<br>    \"layer_0_conv2d_ssize\": 2,<br>    \"activation_0\": \"relu\",<br>    \"layer_1\": \"Pointwise2D\",<br>    \"layer_1_pwconv2d_filters\": 16,<br>    \"layer_1_pwconv2d_ssize\": 3,<br>    \"activation_1\": \"tanh\",<br>    \"layer_2\": \"Conv2D\",<br>    \"layer_2_conv2d_filters\": 16,<br>    \"layer_2_conv2d_fsize\": 5,<br>    \"layer_2_conv2d_ssize\": 5,<br>    \"activation_2\": \"tanh\",<br>    \"output_dropout\": 0.4398740204607818,<br>    \"lr_inicial\": 0.00030166908660068665<br>  }<br>}",
          "{<br>  \"number\": 278,<br>  \"values\": [<br>    0.7799999713897705,<br>    20287.0<br>  ],<br>  \"params\": {<br>    \"batchsize\": 32,<br>    \"brightness_factor\": 0.18562679000218707,<br>    \"gaussian_noise_factor\": 0.002215702099728347,<br>    \"translate_factor\": 0.004744541940320965,<br>    \"num_layers\": 2,<br>    \"output_layer\": \"dense\",<br>    \"layer_0\": \"Conv2D\",<br>    \"layer_0_conv2d_filters\": 4,<br>    \"layer_0_conv2d_fsize\": 3,<br>    \"layer_0_conv2d_ssize\": 4,<br>    \"activation_0\": \"tanh\",<br>    \"layer_1\": \"Pointwise2D\",<br>    \"layer_1_pwconv2d_filters\": 4,<br>    \"layer_1_pwconv2d_ssize\": 8,<br>    \"activation_1\": \"relu\",<br>    \"output_dropout\": 0.46070432062455846,<br>    \"lr_inicial\": 0.0016098522199749484<br>  }<br>}",
          "{<br>  \"number\": 279,<br>  \"values\": [<br>    0.7599999904632568,<br>    14101.0<br>  ],<br>  \"params\": {<br>    \"batchsize\": 32,<br>    \"brightness_factor\": 0.1468935400004833,<br>    \"gaussian_noise_factor\": 0.193336288837383,<br>    \"translate_factor\": 0.1100087298426877,<br>    \"num_layers\": 2,<br>    \"output_layer\": \"pooling\",<br>    \"layer_0\": \"Conv2D\",<br>    \"layer_0_conv2d_filters\": 4,<br>    \"layer_0_conv2d_fsize\": 5,<br>    \"layer_0_conv2d_ssize\": 7,<br>    \"activation_0\": \"linear\",<br>    \"layer_1\": \"Conv2D\",<br>    \"layer_1_conv2d_filters\": 24,<br>    \"layer_1_conv2d_fsize\": 5,<br>    \"layer_1_conv2d_ssize\": 8,<br>    \"activation_1\": \"relu\",<br>    \"pre_GAP_layer_fsize\": 5,<br>    \"pre_GAP_layer_act\": \"tanh\",<br>    \"lr_inicial\": 0.0016817599335898325<br>  }<br>}",
          "{<br>  \"number\": 280,<br>  \"values\": [<br>    0.7400000095367432,<br>    19191.0<br>  ],<br>  \"params\": {<br>    \"batchsize\": 32,<br>    \"brightness_factor\": 0.0352525885844055,<br>    \"gaussian_noise_factor\": 0.08349474418098352,<br>    \"translate_factor\": 0.0757367578547332,<br>    \"num_layers\": 1,<br>    \"output_layer\": \"dense\",<br>    \"layer_0\": \"Conv2D\",<br>    \"layer_0_conv2d_filters\": 8,<br>    \"layer_0_conv2d_fsize\": 5,<br>    \"layer_0_conv2d_ssize\": 11,<br>    \"activation_0\": \"tanh\",<br>    \"output_dropout\": 0.394991942702789,<br>    \"lr_inicial\": 0.0018874563560462834<br>  }<br>}",
          "{<br>  \"number\": 281,<br>  \"values\": [<br>    0.7400000095367432,<br>    32763.0<br>  ],<br>  \"params\": {<br>    \"batchsize\": 32,<br>    \"brightness_factor\": 0.1579614194633955,<br>    \"gaussian_noise_factor\": 0.1269358223047808,<br>    \"translate_factor\": 0.09625073532431487,<br>    \"num_layers\": 2,<br>    \"output_layer\": \"dense\",<br>    \"layer_0\": \"Pointwise2D\",<br>    \"layer_0_pwconv2d_filters\": 28,<br>    \"layer_0_pwconv2d_ssize\": 6,<br>    \"activation_0\": \"tanh\",<br>    \"layer_1\": \"Conv2D\",<br>    \"layer_1_conv2d_filters\": 24,<br>    \"layer_1_conv2d_fsize\": 4,<br>    \"layer_1_conv2d_ssize\": 6,<br>    \"activation_1\": \"linear\",<br>    \"output_dropout\": 0.5311437881745151,<br>    \"lr_inicial\": 0.001802655553758724<br>  }<br>}",
          "{<br>  \"number\": 282,<br>  \"values\": [<br>    0.47999998927116394,<br>    1965.0<br>  ],<br>  \"params\": {<br>    \"batchsize\": 32,<br>    \"brightness_factor\": 0.15202478582814505,<br>    \"gaussian_noise_factor\": 0.06927450774302421,<br>    \"translate_factor\": 0.05880825438298181,<br>    \"num_layers\": 3,<br>    \"output_layer\": \"pooling\",<br>    \"layer_0\": \"Conv2D\",<br>    \"layer_0_conv2d_filters\": 4,<br>    \"layer_0_conv2d_fsize\": 3,<br>    \"layer_0_conv2d_ssize\": 2,<br>    \"activation_0\": \"tanh\",<br>    \"layer_1\": \"Pointwise2D\",<br>    \"layer_1_pwconv2d_filters\": 32,<br>    \"layer_1_pwconv2d_ssize\": 3,<br>    \"activation_1\": \"relu\",<br>    \"layer_2\": \"Pointwise2D\",<br>    \"layer_2_pwconv2d_filters\": 4,<br>    \"layer_2_pwconv2d_ssize\": 4,<br>    \"activation_2\": \"linear\",<br>    \"pre_GAP_layer_fsize\": 4,<br>    \"pre_GAP_layer_act\": \"tanh\",<br>    \"lr_inicial\": 0.0006422584755804762<br>  }<br>}",
          "{<br>  \"number\": 283,<br>  \"values\": [<br>    0.8399999737739563,<br>    21811.0<br>  ],<br>  \"params\": {<br>    \"batchsize\": 32,<br>    \"brightness_factor\": 0.16923620991397126,<br>    \"gaussian_noise_factor\": 0.04047176498453073,<br>    \"translate_factor\": 0.068953632442413,<br>    \"num_layers\": 2,<br>    \"output_layer\": \"dense\",<br>    \"layer_0\": \"Conv2D\",<br>    \"layer_0_conv2d_filters\": 4,<br>    \"layer_0_conv2d_fsize\": 5,<br>    \"layer_0_conv2d_ssize\": 4,<br>    \"activation_0\": \"relu\",<br>    \"layer_1\": \"Conv2D\",<br>    \"layer_1_conv2d_filters\": 20,<br>    \"layer_1_conv2d_fsize\": 5,<br>    \"layer_1_conv2d_ssize\": 4,<br>    \"activation_1\": \"relu\",<br>    \"output_dropout\": 0.5584762745723746,<br>    \"lr_inicial\": 0.001656079725699925<br>  }<br>}",
          "{<br>  \"number\": 284,<br>  \"values\": [<br>    0.6399999856948853,<br>    19141.0<br>  ],<br>  \"params\": {<br>    \"batchsize\": 96,<br>    \"brightness_factor\": 0.12748399592274479,<br>    \"gaussian_noise_factor\": 0.02801933634885245,<br>    \"translate_factor\": 0.06460790682659195,<br>    \"num_layers\": 2,<br>    \"output_layer\": \"dense\",<br>    \"layer_0\": \"Conv2D\",<br>    \"layer_0_conv2d_filters\": 4,<br>    \"layer_0_conv2d_fsize\": 5,<br>    \"layer_0_conv2d_ssize\": 4,<br>    \"activation_0\": \"linear\",<br>    \"layer_1\": \"Conv2D\",<br>    \"layer_1_conv2d_filters\": 12,<br>    \"layer_1_conv2d_fsize\": 4,<br>    \"layer_1_conv2d_ssize\": 2,<br>    \"activation_1\": \"tanh\",<br>    \"output_dropout\": 0.5999232839599837,<br>    \"lr_inicial\": 0.00047628877857067576<br>  }<br>}",
          "{<br>  \"number\": 285,<br>  \"values\": [<br>    0.5,<br>    5165.0<br>  ],<br>  \"params\": {<br>    \"batchsize\": 128,<br>    \"brightness_factor\": 0.14168440273766209,<br>    \"gaussian_noise_factor\": 0.14458317049818944,<br>    \"translate_factor\": 0.08081822736245896,<br>    \"num_layers\": 1,<br>    \"output_layer\": \"pooling\",<br>    \"layer_0\": \"Pointwise2D\",<br>    \"layer_0_pwconv2d_filters\": 20,<br>    \"layer_0_pwconv2d_ssize\": 12,<br>    \"activation_0\": \"tanh\",<br>    \"pre_GAP_layer_fsize\": 5,<br>    \"pre_GAP_layer_act\": \"tanh\",<br>    \"lr_inicial\": 0.0011719807462779105<br>  }<br>}",
          "{<br>  \"number\": 286,<br>  \"values\": [<br>    0.7400000095367432,<br>    23971.0<br>  ],<br>  \"params\": {<br>    \"batchsize\": 32,<br>    \"brightness_factor\": 0.09394399464225622,<br>    \"gaussian_noise_factor\": 0.0772735117961709,<br>    \"translate_factor\": 0.07482491712762109,<br>    \"num_layers\": 2,<br>    \"output_layer\": \"dense\",<br>    \"layer_0\": \"Conv2D\",<br>    \"layer_0_conv2d_filters\": 32,<br>    \"layer_0_conv2d_fsize\": 5,<br>    \"layer_0_conv2d_ssize\": 5,<br>    \"activation_0\": \"tanh\",<br>    \"layer_1\": \"Pointwise2D\",<br>    \"layer_1_pwconv2d_filters\": 20,<br>    \"layer_1_pwconv2d_ssize\": 6,<br>    \"activation_1\": \"linear\",<br>    \"output_dropout\": 0.44638179444639714,<br>    \"lr_inicial\": 0.0004508390788604326<br>  }<br>}",
          "{<br>  \"number\": 287,<br>  \"values\": [<br>    0.7400000095367432,<br>    21443.0<br>  ],<br>  \"params\": {<br>    \"batchsize\": 32,<br>    \"brightness_factor\": 0.1963506437358462,<br>    \"gaussian_noise_factor\": 0.1576042239928386,<br>    \"translate_factor\": 0.06986572369813676,<br>    \"num_layers\": 2,<br>    \"output_layer\": \"dense\",<br>    \"layer_0\": \"Conv2D\",<br>    \"layer_0_conv2d_filters\": 4,<br>    \"layer_0_conv2d_fsize\": 3,<br>    \"layer_0_conv2d_ssize\": 4,<br>    \"activation_0\": \"tanh\",<br>    \"layer_1\": \"Conv2D\",<br>    \"layer_1_conv2d_filters\": 32,<br>    \"layer_1_conv2d_fsize\": 3,<br>    \"layer_1_conv2d_ssize\": 3,<br>    \"activation_1\": \"relu\",<br>    \"output_dropout\": 0.5790200648017709,<br>    \"lr_inicial\": 0.0004303032383273416<br>  }<br>}",
          "{<br>  \"number\": 288,<br>  \"values\": [<br>    0.5799999833106995,<br>    74197.0<br>  ],<br>  \"params\": {<br>    \"batchsize\": 32,<br>    \"brightness_factor\": 0.057859482780582276,<br>    \"gaussian_noise_factor\": 0.06618361785301372,<br>    \"translate_factor\": 0.050836905142387236,<br>    \"num_layers\": 3,<br>    \"output_layer\": \"pooling\",<br>    \"layer_0\": \"Conv2D\",<br>    \"layer_0_conv2d_filters\": 24,<br>    \"layer_0_conv2d_fsize\": 5,<br>    \"layer_0_conv2d_ssize\": 2,<br>    \"activation_0\": \"linear\",<br>    \"layer_1\": \"Conv2D\",<br>    \"layer_1_conv2d_filters\": 28,<br>    \"layer_1_conv2d_fsize\": 5,<br>    \"layer_1_conv2d_ssize\": 4,<br>    \"activation_1\": \"relu\",<br>    \"layer_2\": \"Pointwise2D\",<br>    \"layer_2_pwconv2d_filters\": 12,<br>    \"layer_2_pwconv2d_ssize\": 2,<br>    \"activation_2\": \"tanh\",<br>    \"pre_GAP_layer_fsize\": 4,<br>    \"pre_GAP_layer_act\": \"tanh\",<br>    \"lr_inicial\": 0.0008387519094360007<br>  }<br>}",
          "{<br>  \"number\": 289,<br>  \"values\": [<br>    0.7400000095367432,<br>    15480.0<br>  ],<br>  \"params\": {<br>    \"batchsize\": 32,<br>    \"brightness_factor\": 0.053383479966629316,<br>    \"gaussian_noise_factor\": 0.048824768234440416,<br>    \"translate_factor\": 0.062239350716439615,<br>    \"num_layers\": 1,<br>    \"output_layer\": \"dense\",<br>    \"layer_0\": \"Pointwise2D\",<br>    \"layer_0_pwconv2d_filters\": 16,<br>    \"layer_0_pwconv2d_ssize\": 8,<br>    \"activation_0\": \"relu\",<br>    \"output_dropout\": 0.49829266932168537,<br>    \"lr_inicial\": 0.001561559980995737<br>  }<br>}",
          "{<br>  \"number\": 290,<br>  \"values\": [<br>    0.7599999904632568,<br>    21207.0<br>  ],<br>  \"params\": {<br>    \"batchsize\": 32,<br>    \"brightness_factor\": 0.16416906565457273,<br>    \"gaussian_noise_factor\": 0.17570469242539155,<br>    \"translate_factor\": 0.05854222042765504,<br>    \"num_layers\": 2,<br>    \"output_layer\": \"dense\",<br>    \"layer_0\": \"Conv2D\",<br>    \"layer_0_conv2d_filters\": 4,<br>    \"layer_0_conv2d_fsize\": 5,<br>    \"layer_0_conv2d_ssize\": 4,<br>    \"activation_0\": \"tanh\",<br>    \"layer_1\": \"Conv2D\",<br>    \"layer_1_conv2d_filters\": 24,<br>    \"layer_1_conv2d_fsize\": 3,<br>    \"layer_1_conv2d_ssize\": 5,<br>    \"activation_1\": \"relu\",<br>    \"output_dropout\": 0.49398473379031965,<br>    \"lr_inicial\": 0.0017195360701417893<br>  }<br>}",
          "{<br>  \"number\": 291,<br>  \"values\": [<br>    0.5199999809265137,<br>    11261.0<br>  ],<br>  \"params\": {<br>    \"batchsize\": 96,<br>    \"brightness_factor\": 0.15422679145233475,<br>    \"gaussian_noise_factor\": 0.06073090394509338,<br>    \"translate_factor\": 0.06592356436472642,<br>    \"num_layers\": 2,<br>    \"output_layer\": \"pooling\",<br>    \"layer_0\": \"Conv2D\",<br>    \"layer_0_conv2d_filters\": 20,<br>    \"layer_0_conv2d_fsize\": 4,<br>    \"layer_0_conv2d_ssize\": 4,<br>    \"activation_0\": \"tanh\",<br>    \"layer_1\": \"Pointwise2D\",<br>    \"layer_1_pwconv2d_filters\": 28,<br>    \"layer_1_pwconv2d_ssize\": 7,<br>    \"activation_1\": \"tanh\",<br>    \"pre_GAP_layer_fsize\": 5,<br>    \"pre_GAP_layer_act\": \"tanh\",<br>    \"lr_inicial\": 0.0018568742504994297<br>  }<br>}",
          "{<br>  \"number\": 292,<br>  \"values\": [<br>    0.7599999904632568,<br>    20800.0<br>  ],<br>  \"params\": {<br>    \"batchsize\": 32,<br>    \"brightness_factor\": 0.04684297388730512,<br>    \"gaussian_noise_factor\": 0.16576901324012785,<br>    \"translate_factor\": 0.08715485525402236,<br>    \"num_layers\": 2,<br>    \"output_layer\": \"dense\",<br>    \"layer_0\": \"Conv2D\",<br>    \"layer_0_conv2d_filters\": 4,<br>    \"layer_0_conv2d_fsize\": 3,<br>    \"layer_0_conv2d_ssize\": 6,<br>    \"activation_0\": \"tanh\",<br>    \"layer_1\": \"Conv2D\",<br>    \"layer_1_conv2d_filters\": 4,<br>    \"layer_1_conv2d_fsize\": 3,<br>    \"layer_1_conv2d_ssize\": 7,<br>    \"activation_1\": \"relu\",<br>    \"output_dropout\": 0.3855611326474936,<br>    \"lr_inicial\": 0.001975534591999272<br>  }<br>}",
          "{<br>  \"number\": 293,<br>  \"values\": [<br>    0.7200000286102295,<br>    17531.0<br>  ],<br>  \"params\": {<br>    \"batchsize\": 128,<br>    \"brightness_factor\": 0.16136910235810306,<br>    \"gaussian_noise_factor\": 0.03348315758726304,<br>    \"translate_factor\": 0.03369808925065575,<br>    \"num_layers\": 1,<br>    \"output_layer\": \"dense\",<br>    \"layer_0\": \"Pointwise2D\",<br>    \"layer_0_pwconv2d_filters\": 24,<br>    \"layer_0_pwconv2d_ssize\": 11,<br>    \"activation_0\": \"linear\",<br>    \"output_dropout\": 0.4704171407083723,<br>    \"lr_inicial\": 0.0017801751525215578<br>  }<br>}",
          "{<br>  \"number\": 294,<br>  \"values\": [<br>    0.7799999713897705,<br>    21549.0<br>  ],<br>  \"params\": {<br>    \"batchsize\": 32,<br>    \"brightness_factor\": 0.15729794878724696,<br>    \"gaussian_noise_factor\": 0.056166474065866265,<br>    \"translate_factor\": 0.023322258325880835,<br>    \"num_layers\": 3,<br>    \"output_layer\": \"pooling\",<br>    \"layer_0\": \"Conv2D\",<br>    \"layer_0_conv2d_filters\": 4,<br>    \"layer_0_conv2d_fsize\": 5,<br>    \"layer_0_conv2d_ssize\": 4,<br>    \"activation_0\": \"tanh\",<br>    \"layer_1\": \"Conv2D\",<br>    \"layer_1_conv2d_filters\": 8,<br>    \"layer_1_conv2d_fsize\": 4,<br>    \"layer_1_conv2d_ssize\": 4,<br>    \"activation_1\": \"linear\",<br>    \"layer_2\": \"Conv2D\",<br>    \"layer_2_conv2d_filters\": 28,<br>    \"layer_2_conv2d_fsize\": 4,<br>    \"layer_2_conv2d_ssize\": 3,<br>    \"activation_2\": \"relu\",<br>    \"pre_GAP_layer_fsize\": 4,<br>    \"pre_GAP_layer_act\": \"tanh\",<br>    \"lr_inicial\": 0.0017249318965445865<br>  }<br>}",
          "{<br>  \"number\": 295,<br>  \"values\": [<br>    0.7599999904632568,<br>    21931.0<br>  ],<br>  \"params\": {<br>    \"batchsize\": 32,<br>    \"brightness_factor\": 0.10569596482104482,<br>    \"gaussian_noise_factor\": 0.1876893911541524,<br>    \"translate_factor\": 0.11315568776218284,<br>    \"num_layers\": 2,<br>    \"output_layer\": \"dense\",<br>    \"layer_0\": \"Conv2D\",<br>    \"layer_0_conv2d_filters\": 4,<br>    \"layer_0_conv2d_fsize\": 5,<br>    \"layer_0_conv2d_ssize\": 5,<br>    \"activation_0\": \"relu\",<br>    \"layer_1\": \"Pointwise2D\",<br>    \"layer_1_pwconv2d_filters\": 32,<br>    \"layer_1_pwconv2d_ssize\": 6,<br>    \"activation_1\": \"relu\",<br>    \"output_dropout\": 0.5258159471674947,<br>    \"lr_inicial\": 0.0007679584547570025<br>  }<br>}",
          "{<br>  \"number\": 296,<br>  \"values\": [<br>    0.7799999713897705,<br>    26483.0<br>  ],<br>  \"params\": {<br>    \"batchsize\": 32,<br>    \"brightness_factor\": 0.16941963320669962,<br>    \"gaussian_noise_factor\": 0.04861997904485684,<br>    \"translate_factor\": 0.1543350541497801,<br>    \"num_layers\": 2,<br>    \"output_layer\": \"dense\",<br>    \"layer_0\": \"Conv2D\",<br>    \"layer_0_conv2d_filters\": 16,<br>    \"layer_0_conv2d_fsize\": 4,<br>    \"layer_0_conv2d_ssize\": 4,<br>    \"activation_0\": \"tanh\",<br>    \"layer_1\": \"Conv2D\",<br>    \"layer_1_conv2d_filters\": 32,<br>    \"layer_1_conv2d_fsize\": 3,<br>    \"layer_1_conv2d_ssize\": 6,<br>    \"activation_1\": \"relu\",<br>    \"output_dropout\": 0.31710498271683285,<br>    \"lr_inicial\": 0.00038898517411899456<br>  }<br>}",
          "{<br>  \"number\": 297,<br>  \"values\": [<br>    0.7799999713897705,<br>    16349.0<br>  ],<br>  \"params\": {<br>    \"batchsize\": 32,<br>    \"brightness_factor\": 0.16571388102280749,<br>    \"gaussian_noise_factor\": 0.04048237274291123,<br>    \"translate_factor\": 0.026820772547303737,<br>    \"num_layers\": 2,<br>    \"output_layer\": \"pooling\",<br>    \"layer_0\": \"Conv2D\",<br>    \"layer_0_conv2d_filters\": 4,<br>    \"layer_0_conv2d_fsize\": 5,<br>    \"layer_0_conv2d_ssize\": 4,<br>    \"activation_0\": \"tanh\",<br>    \"layer_1\": \"Conv2D\",<br>    \"layer_1_conv2d_filters\": 28,<br>    \"layer_1_conv2d_fsize\": 5,<br>    \"layer_1_conv2d_ssize\": 3,<br>    \"activation_1\": \"relu\",<br>    \"pre_GAP_layer_fsize\": 4,<br>    \"pre_GAP_layer_act\": \"tanh\",<br>    \"lr_inicial\": 0.0019084605882885792<br>  }<br>}",
          "{<br>  \"number\": 298,<br>  \"values\": [<br>    0.699999988079071,<br>    19969.0<br>  ],<br>  \"params\": {<br>    \"batchsize\": 96,<br>    \"brightness_factor\": 0.1497910542695469,<br>    \"gaussian_noise_factor\": 0.1397310803052651,<br>    \"translate_factor\": 0.07164725755970021,<br>    \"num_layers\": 1,<br>    \"output_layer\": \"dense\",<br>    \"layer_0\": \"Pointwise2D\",<br>    \"layer_0_pwconv2d_filters\": 32,<br>    \"layer_0_pwconv2d_ssize\": 15,<br>    \"activation_0\": \"tanh\",<br>    \"output_dropout\": 0.4846479092960131,<br>    \"lr_inicial\": 0.0018247469819253933<br>  }<br>}",
          "{<br>  \"number\": 299,<br>  \"values\": [<br>    0.699999988079071,<br>    23975.0<br>  ],<br>  \"params\": {<br>    \"batchsize\": 32,<br>    \"brightness_factor\": 0.15964368538392207,<br>    \"gaussian_noise_factor\": 0.09151089829790991,<br>    \"translate_factor\": 0.07713167048913429,<br>    \"num_layers\": 2,<br>    \"output_layer\": \"dense\",<br>    \"layer_0\": \"Conv2D\",<br>    \"layer_0_conv2d_filters\": 8,<br>    \"layer_0_conv2d_fsize\": 3,<br>    \"layer_0_conv2d_ssize\": 7,<br>    \"activation_0\": \"linear\",<br>    \"layer_1\": \"Conv2D\",<br>    \"layer_1_conv2d_filters\": 16,<br>    \"layer_1_conv2d_fsize\": 3,<br>    \"layer_1_conv2d_ssize\": 8,<br>    \"activation_1\": \"tanh\",<br>    \"output_dropout\": 0.428055421858353,<br>    \"lr_inicial\": 0.0003639849667754193<br>  }<br>}",
          "{<br>  \"number\": 300,<br>  \"values\": [<br>    0.5400000214576721,<br>    3429.0<br>  ],<br>  \"params\": {<br>    \"batchsize\": 32,<br>    \"brightness_factor\": 0.025139543829606842,<br>    \"gaussian_noise_factor\": 0.06911967489165091,<br>    \"translate_factor\": 0.06917468096088505,<br>    \"num_layers\": 3,<br>    \"output_layer\": \"pooling\",<br>    \"layer_0\": \"Conv2D\",<br>    \"layer_0_conv2d_filters\": 4,<br>    \"layer_0_conv2d_fsize\": 5,<br>    \"layer_0_conv2d_ssize\": 4,<br>    \"activation_0\": \"tanh\",<br>    \"layer_1\": \"Pointwise2D\",<br>    \"layer_1_pwconv2d_filters\": 16,<br>    \"layer_1_pwconv2d_ssize\": 2,<br>    \"activation_1\": \"linear\",<br>    \"layer_2\": \"Pointwise2D\",<br>    \"layer_2_pwconv2d_filters\": 8,<br>    \"layer_2_pwconv2d_ssize\": 5,<br>    \"activation_2\": \"tanh\",<br>    \"pre_GAP_layer_fsize\": 5,<br>    \"pre_GAP_layer_act\": \"tanh\",<br>    \"lr_inicial\": 0.0016542199661724374<br>  }<br>}",
          "{<br>  \"number\": 301,<br>  \"values\": [<br>    0.8600000143051147,<br>    21339.0<br>  ],<br>  \"params\": {<br>    \"batchsize\": 128,<br>    \"brightness_factor\": 0.11843422397674508,<br>    \"gaussian_noise_factor\": 0.00535851958288569,<br>    \"translate_factor\": 0.06371669707813504,<br>    \"num_layers\": 2,<br>    \"output_layer\": \"dense\",<br>    \"layer_0\": \"Conv2D\",<br>    \"layer_0_conv2d_filters\": 4,<br>    \"layer_0_conv2d_fsize\": 4,<br>    \"layer_0_conv2d_ssize\": 4,<br>    \"activation_0\": \"tanh\",<br>    \"layer_1\": \"Conv2D\",<br>    \"layer_1_conv2d_filters\": 28,<br>    \"layer_1_conv2d_fsize\": 3,<br>    \"layer_1_conv2d_ssize\": 5,<br>    \"activation_1\": \"relu\",<br>    \"output_dropout\": 0.5056420480989281,<br>    \"lr_inicial\": 0.00174390961075399<br>  }<br>}",
          "{<br>  \"number\": 302,<br>  \"values\": [<br>    0.7599999904632568,<br>    30003.0<br>  ],<br>  \"params\": {<br>    \"batchsize\": 32,<br>    \"brightness_factor\": 0.06960705404043495,<br>    \"gaussian_noise_factor\": 0.09707968261569916,<br>    \"translate_factor\": 0.07980236451588787,<br>    \"num_layers\": 2,<br>    \"output_layer\": \"dense\",<br>    \"layer_0\": \"Pointwise2D\",<br>    \"layer_0_pwconv2d_filters\": 28,<br>    \"layer_0_pwconv2d_ssize\": 5,<br>    \"activation_0\": \"relu\",<br>    \"layer_1\": \"Conv2D\",<br>    \"layer_1_conv2d_filters\": 24,<br>    \"layer_1_conv2d_fsize\": 4,<br>    \"layer_1_conv2d_ssize\": 3,<br>    \"activation_1\": \"relu\",<br>    \"output_dropout\": 0.5478880248291207,<br>    \"lr_inicial\": 0.0015000524167335368<br>  }<br>}",
          "{<br>  \"number\": 303,<br>  \"values\": [<br>    0.6200000047683716,<br>    1253.0<br>  ],<br>  \"params\": {<br>    \"batchsize\": 64,<br>    \"brightness_factor\": 0.1550310211238849,<br>    \"gaussian_noise_factor\": 0.1690736922990465,<br>    \"translate_factor\": 0.05846157640447505,<br>    \"num_layers\": 1,<br>    \"output_layer\": \"pooling\",<br>    \"layer_0\": \"Conv2D\",<br>    \"layer_0_conv2d_filters\": 4,<br>    \"layer_0_conv2d_fsize\": 5,<br>    \"layer_0_conv2d_ssize\": 10,<br>    \"activation_0\": \"tanh\",<br>    \"pre_GAP_layer_fsize\": 4,<br>    \"pre_GAP_layer_act\": \"linear\",<br>    \"lr_inicial\": 0.0004138093051950393<br>  }<br>}",
          "{<br>  \"number\": 304,<br>  \"values\": [<br>    0.8399999737739563,<br>    21619.0<br>  ],<br>  \"params\": {<br>    \"batchsize\": 32,<br>    \"brightness_factor\": 0.08215014318914902,<br>    \"gaussian_noise_factor\": 0.053715291139667644,<br>    \"translate_factor\": 0.07517900387274443,<br>    \"num_layers\": 2,<br>    \"output_layer\": \"dense\",<br>    \"layer_0\": \"Conv2D\",<br>    \"layer_0_conv2d_filters\": 8,<br>    \"layer_0_conv2d_fsize\": 5,<br>    \"layer_0_conv2d_ssize\": 5,<br>    \"activation_0\": \"linear\",<br>    \"layer_1\": \"Pointwise2D\",<br>    \"layer_1_pwconv2d_filters\": 12,<br>    \"layer_1_pwconv2d_ssize\": 8,<br>    \"activation_1\": \"relu\",<br>    \"output_dropout\": 0.4794805667425951,<br>    \"lr_inicial\": 0.0005708128902313585<br>  }<br>}",
          "{<br>  \"number\": 305,<br>  \"values\": [<br>    0.800000011920929,<br>    22148.0<br>  ],<br>  \"params\": {<br>    \"batchsize\": 32,<br>    \"brightness_factor\": 0.1658460447039886,<br>    \"gaussian_noise_factor\": 0.0634145889238829,<br>    \"translate_factor\": 0.009865757510724577,<br>    \"num_layers\": 2,<br>    \"output_layer\": \"dense\",<br>    \"layer_0\": \"Conv2D\",<br>    \"layer_0_conv2d_filters\": 28,<br>    \"layer_0_conv2d_fsize\": 3,<br>    \"layer_0_conv2d_ssize\": 4,<br>    \"activation_0\": \"tanh\",<br>    \"layer_1\": \"Conv2D\",<br>    \"layer_1_conv2d_filters\": 8,<br>    \"layer_1_conv2d_fsize\": 3,<br>    \"layer_1_conv2d_ssize\": 4,<br>    \"activation_1\": \"tanh\",<br>    \"output_dropout\": 0.5673823218678429,<br>    \"lr_inicial\": 0.0018865205827963184<br>  }<br>}",
          "{<br>  \"number\": 306,<br>  \"values\": [<br>    0.7200000286102295,<br>    149029.0<br>  ],<br>  \"params\": {<br>    \"batchsize\": 64,<br>    \"brightness_factor\": 0.16012683432761332,<br>    \"gaussian_noise_factor\": 0.02406432397598257,<br>    \"translate_factor\": 0.1667353736871781,<br>    \"num_layers\": 3,<br>    \"output_layer\": \"pooling\",<br>    \"layer_0\": \"Pointwise2D\",<br>    \"layer_0_pwconv2d_filters\": 12,<br>    \"layer_0_pwconv2d_ssize\": 2,<br>    \"activation_0\": \"tanh\",<br>    \"layer_1\": \"Conv2D\",<br>    \"layer_1_conv2d_filters\": 32,<br>    \"layer_1_conv2d_fsize\": 5,<br>    \"layer_1_conv2d_ssize\": 4,<br>    \"activation_1\": \"relu\",<br>    \"layer_2\": \"Conv2D\",<br>    \"layer_2_conv2d_filters\": 32,<br>    \"layer_2_conv2d_fsize\": 5,<br>    \"layer_2_conv2d_ssize\": 4,<br>    \"activation_2\": \"linear\",<br>    \"pre_GAP_layer_fsize\": 5,<br>    \"pre_GAP_layer_act\": \"linear\",<br>    \"lr_inicial\": 0.0006855958169580043<br>  }<br>}",
          "{<br>  \"number\": 307,<br>  \"values\": [<br>    0.800000011920929,<br>    20879.0<br>  ],<br>  \"params\": {<br>    \"batchsize\": 32,<br>    \"brightness_factor\": 0.040794458049019135,<br>    \"gaussian_noise_factor\": 0.0801950862630586,<br>    \"translate_factor\": 0.019125016180818813,<br>    \"num_layers\": 1,<br>    \"output_layer\": \"dense\",<br>    \"layer_0\": \"Conv2D\",<br>    \"layer_0_conv2d_filters\": 12,<br>    \"layer_0_conv2d_fsize\": 5,<br>    \"layer_0_conv2d_ssize\": 12,<br>    \"activation_0\": \"relu\",<br>    \"output_dropout\": 0.4640263837629798,<br>    \"lr_inicial\": 0.0012289757950001807<br>  }<br>}",
          "{<br>  \"number\": 308,<br>  \"values\": [<br>    0.6600000262260437,<br>    19215.0<br>  ],<br>  \"params\": {<br>    \"batchsize\": 96,<br>    \"brightness_factor\": 0.16258086691545617,<br>    \"gaussian_noise_factor\": 0.04704863038533275,<br>    \"translate_factor\": 0.05436607586064577,<br>    \"num_layers\": 2,<br>    \"output_layer\": \"dense\",<br>    \"layer_0\": \"Conv2D\",<br>    \"layer_0_conv2d_filters\": 4,<br>    \"layer_0_conv2d_fsize\": 4,<br>    \"layer_0_conv2d_ssize\": 5,<br>    \"activation_0\": \"tanh\",<br>    \"layer_1\": \"Pointwise2D\",<br>    \"layer_1_pwconv2d_filters\": 12,<br>    \"layer_1_pwconv2d_ssize\": 3,<br>    \"activation_1\": \"linear\",<br>    \"output_dropout\": 0.5154382885469957,<br>    \"lr_inicial\": 0.0005311376799656996<br>  }<br>}",
          "{<br>  \"number\": 309,<br>  \"values\": [<br>    0.8600000143051147,<br>    33728.0<br>  ],<br>  \"params\": {<br>    \"batchsize\": 32,<br>    \"brightness_factor\": 0.13153358552657707,<br>    \"gaussian_noise_factor\": 0.059423255432404544,<br>    \"translate_factor\": 0.18772530678635685,<br>    \"num_layers\": 2,<br>    \"output_layer\": \"dense\",<br>    \"layer_0\": \"Conv2D\",<br>    \"layer_0_conv2d_filters\": 32,<br>    \"layer_0_conv2d_fsize\": 5,<br>    \"layer_0_conv2d_ssize\": 6,<br>    \"activation_0\": \"linear\",<br>    \"layer_1\": \"Conv2D\",<br>    \"layer_1_conv2d_filters\": 28,<br>    \"layer_1_conv2d_fsize\": 3,<br>    \"layer_1_conv2d_ssize\": 7,<br>    \"activation_1\": \"relu\",<br>    \"output_dropout\": 0.3545224223038755,<br>    \"lr_inicial\": 0.0016061142628875124<br>  }<br>}",
          "{<br>  \"number\": 310,<br>  \"values\": [<br>    0.5,<br>    8157.0<br>  ],<br>  \"params\": {<br>    \"batchsize\": 32,<br>    \"brightness_factor\": 0.17309879762153726,<br>    \"gaussian_noise_factor\": 0.0742733257892114,<br>    \"translate_factor\": 0.06694653852569661,<br>    \"num_layers\": 2,<br>    \"output_layer\": \"pooling\",<br>    \"layer_0\": \"Pointwise2D\",<br>    \"layer_0_pwconv2d_filters\": 8,<br>    \"layer_0_pwconv2d_ssize\": 3,<br>    \"activation_0\": \"tanh\",<br>    \"layer_1\": \"Conv2D\",<br>    \"layer_1_conv2d_filters\": 12,<br>    \"layer_1_conv2d_fsize\": 4,<br>    \"layer_1_conv2d_ssize\": 3,<br>    \"activation_1\": \"relu\",<br>    \"pre_GAP_layer_fsize\": 4,<br>    \"pre_GAP_layer_act\": \"tanh\",<br>    \"lr_inicial\": 0.00032378425946045754<br>  }<br>}",
          "{<br>  \"number\": 311,<br>  \"values\": [<br>    0.6800000071525574,<br>    23831.0<br>  ],<br>  \"params\": {<br>    \"batchsize\": 128,<br>    \"brightness_factor\": 0.10080270182803162,<br>    \"gaussian_noise_factor\": 0.13075296501270306,<br>    \"translate_factor\": 0.08429538456502379,<br>    \"num_layers\": 3,<br>    \"output_layer\": \"dense\",<br>    \"layer_0\": \"Conv2D\",<br>    \"layer_0_conv2d_filters\": 4,<br>    \"layer_0_conv2d_fsize\": 5,<br>    \"layer_0_conv2d_ssize\": 3,<br>    \"activation_0\": \"tanh\",<br>    \"layer_1\": \"Conv2D\",<br>    \"layer_1_conv2d_filters\": 20,<br>    \"layer_1_conv2d_fsize\": 3,<br>    \"layer_1_conv2d_ssize\": 4,<br>    \"activation_1\": \"relu\",<br>    \"layer_2\": \"Pointwise2D\",<br>    \"layer_2_pwconv2d_filters\": 28,<br>    \"layer_2_pwconv2d_ssize\": 3,<br>    \"activation_2\": \"relu\",<br>    \"output_dropout\": 0.48985189297909215,<br>    \"lr_inicial\": 0.0017791374471610338<br>  }<br>}",
          "{<br>  \"number\": 312,<br>  \"values\": [<br>    0.699999988079071,<br>    18967.0<br>  ],<br>  \"params\": {<br>    \"batchsize\": 32,<br>    \"brightness_factor\": 0.14408185392622663,<br>    \"gaussian_noise_factor\": 0.03598017668678388,<br>    \"translate_factor\": 0.15002565655487493,<br>    \"num_layers\": 1,<br>    \"output_layer\": \"dense\",<br>    \"layer_0\": \"Conv2D\",<br>    \"layer_0_conv2d_filters\": 4,<br>    \"layer_0_conv2d_fsize\": 3,<br>    \"layer_0_conv2d_ssize\": 15,<br>    \"activation_0\": \"tanh\",<br>    \"output_dropout\": 0.47505505204747017,<br>    \"lr_inicial\": 0.0008938100893978766<br>  }<br>}",
          "{<br>  \"number\": 313,<br>  \"values\": [<br>    0.8199999928474426,<br>    11261.0<br>  ],<br>  \"params\": {<br>    \"batchsize\": 32,<br>    \"brightness_factor\": 0.15143807552489175,<br>    \"gaussian_noise_factor\": 0.0444156300613308,<br>    \"translate_factor\": 0.0731155056888177,<br>    \"num_layers\": 2,<br>    \"output_layer\": \"pooling\",<br>    \"layer_0\": \"Conv2D\",<br>    \"layer_0_conv2d_filters\": 20,<br>    \"layer_0_conv2d_fsize\": 4,<br>    \"layer_0_conv2d_ssize\": 4,<br>    \"activation_0\": \"relu\",<br>    \"layer_1\": \"Pointwise2D\",<br>    \"layer_1_pwconv2d_filters\": 28,<br>    \"layer_1_pwconv2d_ssize\": 6,<br>    \"activation_1\": \"tanh\",<br>    \"pre_GAP_layer_fsize\": 5,<br>    \"pre_GAP_layer_act\": \"linear\",<br>    \"lr_inicial\": 0.001824323498190016<br>  }<br>}",
          "{<br>  \"number\": 314,<br>  \"values\": [<br>    0.7599999904632568,<br>    11261.0<br>  ],<br>  \"params\": {<br>    \"batchsize\": 64,<br>    \"brightness_factor\": 0.1464111994132064,<br>    \"gaussian_noise_factor\": 0.04221280131881916,<br>    \"translate_factor\": 0.07228880939614821,<br>    \"num_layers\": 2,<br>    \"output_layer\": \"pooling\",<br>    \"layer_0\": \"Conv2D\",<br>    \"layer_0_conv2d_filters\": 20,<br>    \"layer_0_conv2d_fsize\": 4,<br>    \"layer_0_conv2d_ssize\": 4,<br>    \"activation_0\": \"relu\",<br>    \"layer_1\": \"Pointwise2D\",<br>    \"layer_1_pwconv2d_filters\": 28,<br>    \"layer_1_pwconv2d_ssize\": 6,<br>    \"activation_1\": \"tanh\",<br>    \"pre_GAP_layer_fsize\": 5,<br>    \"pre_GAP_layer_act\": \"linear\",<br>    \"lr_inicial\": 0.0019976890480703155<br>  }<br>}",
          "{<br>  \"number\": 315,<br>  \"values\": [<br>    0.7400000095367432,<br>    11261.0<br>  ],<br>  \"params\": {<br>    \"batchsize\": 64,<br>    \"brightness_factor\": 0.14795002856964146,<br>    \"gaussian_noise_factor\": 0.045525815839177655,<br>    \"translate_factor\": 0.0741857939726227,<br>    \"num_layers\": 2,<br>    \"output_layer\": \"pooling\",<br>    \"layer_0\": \"Conv2D\",<br>    \"layer_0_conv2d_filters\": 20,<br>    \"layer_0_conv2d_fsize\": 4,<br>    \"layer_0_conv2d_ssize\": 4,<br>    \"activation_0\": \"relu\",<br>    \"layer_1\": \"Pointwise2D\",<br>    \"layer_1_pwconv2d_filters\": 28,<br>    \"layer_1_pwconv2d_ssize\": 7,<br>    \"activation_1\": \"tanh\",<br>    \"pre_GAP_layer_fsize\": 5,<br>    \"pre_GAP_layer_act\": \"linear\",<br>    \"lr_inicial\": 0.0019182677163259183<br>  }<br>}",
          "{<br>  \"number\": 316,<br>  \"values\": [<br>    0.7400000095367432,<br>    11261.0<br>  ],<br>  \"params\": {<br>    \"batchsize\": 64,<br>    \"brightness_factor\": 0.13938943282462887,<br>    \"gaussian_noise_factor\": 0.04037634940387806,<br>    \"translate_factor\": 0.07917073162278508,<br>    \"num_layers\": 2,<br>    \"output_layer\": \"pooling\",<br>    \"layer_0\": \"Conv2D\",<br>    \"layer_0_conv2d_filters\": 20,<br>    \"layer_0_conv2d_fsize\": 4,<br>    \"layer_0_conv2d_ssize\": 4,<br>    \"activation_0\": \"relu\",<br>    \"layer_1\": \"Pointwise2D\",<br>    \"layer_1_pwconv2d_filters\": 28,<br>    \"layer_1_pwconv2d_ssize\": 6,<br>    \"activation_1\": \"tanh\",<br>    \"pre_GAP_layer_fsize\": 5,<br>    \"pre_GAP_layer_act\": \"linear\",<br>    \"lr_inicial\": 0.0018543881346466352<br>  }<br>}",
          "{<br>  \"number\": 317,<br>  \"values\": [<br>    0.7599999904632568,<br>    12589.0<br>  ],<br>  \"params\": {<br>    \"batchsize\": 64,<br>    \"brightness_factor\": 0.14445695344756418,<br>    \"gaussian_noise_factor\": 0.04394053390180225,<br>    \"translate_factor\": 0.07073368508203073,<br>    \"num_layers\": 2,<br>    \"output_layer\": \"pooling\",<br>    \"layer_0\": \"Conv2D\",<br>    \"layer_0_conv2d_filters\": 20,<br>    \"layer_0_conv2d_fsize\": 4,<br>    \"layer_0_conv2d_ssize\": 4,<br>    \"activation_0\": \"relu\",<br>    \"layer_1\": \"Pointwise2D\",<br>    \"layer_1_pwconv2d_filters\": 32,<br>    \"layer_1_pwconv2d_ssize\": 6,<br>    \"activation_1\": \"tanh\",<br>    \"pre_GAP_layer_fsize\": 5,<br>    \"pre_GAP_layer_act\": \"linear\",<br>    \"lr_inicial\": 0.001925078536173615<br>  }<br>}",
          "{<br>  \"number\": 318,<br>  \"values\": [<br>    0.699999988079071,<br>    11261.0<br>  ],<br>  \"params\": {<br>    \"batchsize\": 64,<br>    \"brightness_factor\": 0.14875132960899995,<br>    \"gaussian_noise_factor\": 0.03847659197035727,<br>    \"translate_factor\": 0.07412142893430522,<br>    \"num_layers\": 2,<br>    \"output_layer\": \"pooling\",<br>    \"layer_0\": \"Conv2D\",<br>    \"layer_0_conv2d_filters\": 20,<br>    \"layer_0_conv2d_fsize\": 4,<br>    \"layer_0_conv2d_ssize\": 4,<br>    \"activation_0\": \"relu\",<br>    \"layer_1\": \"Pointwise2D\",<br>    \"layer_1_pwconv2d_filters\": 28,<br>    \"layer_1_pwconv2d_ssize\": 7,<br>    \"activation_1\": \"tanh\",<br>    \"pre_GAP_layer_fsize\": 5,<br>    \"pre_GAP_layer_act\": \"linear\",<br>    \"lr_inicial\": 0.0018421178384319425<br>  }<br>}",
          "{<br>  \"number\": 319,<br>  \"values\": [<br>    0.7599999904632568,<br>    11261.0<br>  ],<br>  \"params\": {<br>    \"batchsize\": 64,<br>    \"brightness_factor\": 0.15199223742076515,<br>    \"gaussian_noise_factor\": 0.04609583350303382,<br>    \"translate_factor\": 0.0687730859940424,<br>    \"num_layers\": 2,<br>    \"output_layer\": \"pooling\",<br>    \"layer_0\": \"Conv2D\",<br>    \"layer_0_conv2d_filters\": 20,<br>    \"layer_0_conv2d_fsize\": 4,<br>    \"layer_0_conv2d_ssize\": 4,<br>    \"activation_0\": \"relu\",<br>    \"layer_1\": \"Pointwise2D\",<br>    \"layer_1_pwconv2d_filters\": 28,<br>    \"layer_1_pwconv2d_ssize\": 5,<br>    \"activation_1\": \"tanh\",<br>    \"pre_GAP_layer_fsize\": 5,<br>    \"pre_GAP_layer_act\": \"linear\",<br>    \"lr_inicial\": 0.001792358669420872<br>  }<br>}",
          "{<br>  \"number\": 320,<br>  \"values\": [<br>    0.7799999713897705,<br>    12589.0<br>  ],<br>  \"params\": {<br>    \"batchsize\": 64,<br>    \"brightness_factor\": 0.14983765603483534,<br>    \"gaussian_noise_factor\": 0.04191381570640078,<br>    \"translate_factor\": 0.07690714941091994,<br>    \"num_layers\": 2,<br>    \"output_layer\": \"pooling\",<br>    \"layer_0\": \"Conv2D\",<br>    \"layer_0_conv2d_filters\": 20,<br>    \"layer_0_conv2d_fsize\": 4,<br>    \"layer_0_conv2d_ssize\": 4,<br>    \"activation_0\": \"relu\",<br>    \"layer_1\": \"Pointwise2D\",<br>    \"layer_1_pwconv2d_filters\": 32,<br>    \"layer_1_pwconv2d_ssize\": 6,<br>    \"activation_1\": \"tanh\",<br>    \"pre_GAP_layer_fsize\": 5,<br>    \"pre_GAP_layer_act\": \"linear\",<br>    \"lr_inicial\": 0.0018308413610977332<br>  }<br>}",
          "{<br>  \"number\": 321,<br>  \"values\": [<br>    0.699999988079071,<br>    12589.0<br>  ],<br>  \"params\": {<br>    \"batchsize\": 32,<br>    \"brightness_factor\": 0.151031222685721,<br>    \"gaussian_noise_factor\": 0.0490646053169905,<br>    \"translate_factor\": 0.07763082089417907,<br>    \"num_layers\": 2,<br>    \"output_layer\": \"pooling\",<br>    \"layer_0\": \"Conv2D\",<br>    \"layer_0_conv2d_filters\": 20,<br>    \"layer_0_conv2d_fsize\": 4,<br>    \"layer_0_conv2d_ssize\": 4,<br>    \"activation_0\": \"relu\",<br>    \"layer_1\": \"Pointwise2D\",<br>    \"layer_1_pwconv2d_filters\": 32,<br>    \"layer_1_pwconv2d_ssize\": 6,<br>    \"activation_1\": \"tanh\",<br>    \"pre_GAP_layer_fsize\": 5,<br>    \"pre_GAP_layer_act\": \"linear\",<br>    \"lr_inicial\": 0.0018341839608980708<br>  }<br>}",
          "{<br>  \"number\": 322,<br>  \"values\": [<br>    0.7799999713897705,<br>    9933.0<br>  ],<br>  \"params\": {<br>    \"batchsize\": 32,<br>    \"brightness_factor\": 0.14279616834406467,<br>    \"gaussian_noise_factor\": 0.04252463019949719,<br>    \"translate_factor\": 0.07245524457743706,<br>    \"num_layers\": 2,<br>    \"output_layer\": \"pooling\",<br>    \"layer_0\": \"Conv2D\",<br>    \"layer_0_conv2d_filters\": 20,<br>    \"layer_0_conv2d_fsize\": 4,<br>    \"layer_0_conv2d_ssize\": 4,<br>    \"activation_0\": \"relu\",<br>    \"layer_1\": \"Pointwise2D\",<br>    \"layer_1_pwconv2d_filters\": 24,<br>    \"layer_1_pwconv2d_ssize\": 7,<br>    \"activation_1\": \"tanh\",<br>    \"pre_GAP_layer_fsize\": 5,<br>    \"pre_GAP_layer_act\": \"linear\",<br>    \"lr_inicial\": 0.0019349794865407624<br>  }<br>}",
          "{<br>  \"number\": 323,<br>  \"values\": [<br>    0.7799999713897705,<br>    9933.0<br>  ],<br>  \"params\": {<br>    \"batchsize\": 32,<br>    \"brightness_factor\": 0.14470523479673056,<br>    \"gaussian_noise_factor\": 0.03800635079853551,<br>    \"translate_factor\": 0.07391688865000395,<br>    \"num_layers\": 2,<br>    \"output_layer\": \"pooling\",<br>    \"layer_0\": \"Conv2D\",<br>    \"layer_0_conv2d_filters\": 20,<br>    \"layer_0_conv2d_fsize\": 4,<br>    \"layer_0_conv2d_ssize\": 4,<br>    \"activation_0\": \"relu\",<br>    \"layer_1\": \"Pointwise2D\",<br>    \"layer_1_pwconv2d_filters\": 24,<br>    \"layer_1_pwconv2d_ssize\": 5,<br>    \"activation_1\": \"tanh\",<br>    \"pre_GAP_layer_fsize\": 5,<br>    \"pre_GAP_layer_act\": \"linear\",<br>    \"lr_inicial\": 0.0019044575178039696<br>  }<br>}",
          "{<br>  \"number\": 324,<br>  \"values\": [<br>    0.8399999737739563,<br>    9933.0<br>  ],<br>  \"params\": {<br>    \"batchsize\": 32,<br>    \"brightness_factor\": 0.14317607731647666,<br>    \"gaussian_noise_factor\": 0.04356094015120005,<br>    \"translate_factor\": 0.07035334839471252,<br>    \"num_layers\": 2,<br>    \"output_layer\": \"pooling\",<br>    \"layer_0\": \"Conv2D\",<br>    \"layer_0_conv2d_filters\": 20,<br>    \"layer_0_conv2d_fsize\": 4,<br>    \"layer_0_conv2d_ssize\": 4,<br>    \"activation_0\": \"relu\",<br>    \"layer_1\": \"Pointwise2D\",<br>    \"layer_1_pwconv2d_filters\": 24,<br>    \"layer_1_pwconv2d_ssize\": 7,<br>    \"activation_1\": \"tanh\",<br>    \"pre_GAP_layer_fsize\": 5,<br>    \"pre_GAP_layer_act\": \"linear\",<br>    \"lr_inicial\": 0.0019512939277644835<br>  }<br>}",
          "{<br>  \"number\": 325,<br>  \"values\": [<br>    0.7200000286102295,<br>    9933.0<br>  ],<br>  \"params\": {<br>    \"batchsize\": 64,<br>    \"brightness_factor\": 0.13394398865862855,<br>    \"gaussian_noise_factor\": 0.04277313179901648,<br>    \"translate_factor\": 0.06550241117539822,<br>    \"num_layers\": 2,<br>    \"output_layer\": \"pooling\",<br>    \"layer_0\": \"Conv2D\",<br>    \"layer_0_conv2d_filters\": 20,<br>    \"layer_0_conv2d_fsize\": 4,<br>    \"layer_0_conv2d_ssize\": 4,<br>    \"activation_0\": \"relu\",<br>    \"layer_1\": \"Pointwise2D\",<br>    \"layer_1_pwconv2d_filters\": 24,<br>    \"layer_1_pwconv2d_ssize\": 7,<br>    \"activation_1\": \"tanh\",<br>    \"pre_GAP_layer_fsize\": 5,<br>    \"pre_GAP_layer_act\": \"linear\",<br>    \"lr_inicial\": 0.001983563038856369<br>  }<br>}",
          "{<br>  \"number\": 326,<br>  \"values\": [<br>    0.6800000071525574,<br>    8605.0<br>  ],<br>  \"params\": {<br>    \"batchsize\": 64,<br>    \"brightness_factor\": 0.1377813101508562,<br>    \"gaussian_noise_factor\": 0.04599449888059587,<br>    \"translate_factor\": 0.06936385469680899,<br>    \"num_layers\": 2,<br>    \"output_layer\": \"pooling\",<br>    \"layer_0\": \"Conv2D\",<br>    \"layer_0_conv2d_filters\": 20,<br>    \"layer_0_conv2d_fsize\": 4,<br>    \"layer_0_conv2d_ssize\": 4,<br>    \"activation_0\": \"relu\",<br>    \"layer_1\": \"Pointwise2D\",<br>    \"layer_1_pwconv2d_filters\": 20,<br>    \"layer_1_pwconv2d_ssize\": 7,<br>    \"activation_1\": \"tanh\",<br>    \"pre_GAP_layer_fsize\": 5,<br>    \"pre_GAP_layer_act\": \"linear\",<br>    \"lr_inicial\": 0.001973051623103505<br>  }<br>}",
          "{<br>  \"number\": 327,<br>  \"values\": [<br>    0.699999988079071,<br>    9933.0<br>  ],<br>  \"params\": {<br>    \"batchsize\": 32,<br>    \"brightness_factor\": 0.14023276395476852,<br>    \"gaussian_noise_factor\": 0.038712591068500835,<br>    \"translate_factor\": 0.06660091826830246,<br>    \"num_layers\": 2,<br>    \"output_layer\": \"pooling\",<br>    \"layer_0\": \"Conv2D\",<br>    \"layer_0_conv2d_filters\": 20,<br>    \"layer_0_conv2d_fsize\": 4,<br>    \"layer_0_conv2d_ssize\": 4,<br>    \"activation_0\": \"relu\",<br>    \"layer_1\": \"Pointwise2D\",<br>    \"layer_1_pwconv2d_filters\": 24,<br>    \"layer_1_pwconv2d_ssize\": 7,<br>    \"activation_1\": \"tanh\",<br>    \"pre_GAP_layer_fsize\": 5,<br>    \"pre_GAP_layer_act\": \"linear\",<br>    \"lr_inicial\": 0.0019733283509587997<br>  }<br>}",
          "{<br>  \"number\": 328,<br>  \"values\": [<br>    0.7200000286102295,<br>    9933.0<br>  ],<br>  \"params\": {<br>    \"batchsize\": 96,<br>    \"brightness_factor\": 0.14017293583204235,<br>    \"gaussian_noise_factor\": 0.04962756147123868,<br>    \"translate_factor\": 0.06928884979225011,<br>    \"num_layers\": 2,<br>    \"output_layer\": \"pooling\",<br>    \"layer_0\": \"Conv2D\",<br>    \"layer_0_conv2d_filters\": 20,<br>    \"layer_0_conv2d_fsize\": 4,<br>    \"layer_0_conv2d_ssize\": 4,<br>    \"activation_0\": \"relu\",<br>    \"layer_1\": \"Pointwise2D\",<br>    \"layer_1_pwconv2d_filters\": 24,<br>    \"layer_1_pwconv2d_ssize\": 7,<br>    \"activation_1\": \"tanh\",<br>    \"pre_GAP_layer_fsize\": 5,<br>    \"pre_GAP_layer_act\": \"linear\",<br>    \"lr_inicial\": 0.0019437864920145223<br>  }<br>}",
          "{<br>  \"number\": 329,<br>  \"values\": [<br>    0.7799999713897705,<br>    9317.0<br>  ],<br>  \"params\": {<br>    \"batchsize\": 32,<br>    \"brightness_factor\": 0.1366014831657274,<br>    \"gaussian_noise_factor\": 0.03059697872094705,<br>    \"translate_factor\": 0.06441468185418449,<br>    \"num_layers\": 2,<br>    \"output_layer\": \"pooling\",<br>    \"layer_0\": \"Conv2D\",<br>    \"layer_0_conv2d_filters\": 24,<br>    \"layer_0_conv2d_fsize\": 4,<br>    \"layer_0_conv2d_ssize\": 4,<br>    \"activation_0\": \"relu\",<br>    \"layer_1\": \"Pointwise2D\",<br>    \"layer_1_pwconv2d_filters\": 20,<br>    \"layer_1_pwconv2d_ssize\": 7,<br>    \"activation_1\": \"tanh\",<br>    \"pre_GAP_layer_fsize\": 5,<br>    \"pre_GAP_layer_act\": \"linear\",<br>    \"lr_inicial\": 0.001977423179646885<br>  }<br>}",
          "{<br>  \"number\": 330,<br>  \"values\": [<br>    0.7599999904632568,<br>    9317.0<br>  ],<br>  \"params\": {<br>    \"batchsize\": 32,<br>    \"brightness_factor\": 0.13602070950099732,<br>    \"gaussian_noise_factor\": 0.05166787388070428,<br>    \"translate_factor\": 0.06600211048973374,<br>    \"num_layers\": 2,<br>    \"output_layer\": \"pooling\",<br>    \"layer_0\": \"Conv2D\",<br>    \"layer_0_conv2d_filters\": 24,<br>    \"layer_0_conv2d_fsize\": 4,<br>    \"layer_0_conv2d_ssize\": 4,<br>    \"activation_0\": \"relu\",<br>    \"layer_1\": \"Pointwise2D\",<br>    \"layer_1_pwconv2d_filters\": 20,<br>    \"layer_1_pwconv2d_ssize\": 8,<br>    \"activation_1\": \"tanh\",<br>    \"pre_GAP_layer_fsize\": 5,<br>    \"pre_GAP_layer_act\": \"linear\",<br>    \"lr_inicial\": 0.0019716413637443446<br>  }<br>}",
          "{<br>  \"number\": 331,<br>  \"values\": [<br>    0.7599999904632568,<br>    7893.0<br>  ],<br>  \"params\": {<br>    \"batchsize\": 32,<br>    \"brightness_factor\": 0.14103407917056796,<br>    \"gaussian_noise_factor\": 0.03444895998856661,<br>    \"translate_factor\": 0.06185868373995825,<br>    \"num_layers\": 2,<br>    \"output_layer\": \"pooling\",<br>    \"layer_0\": \"Conv2D\",<br>    \"layer_0_conv2d_filters\": 16,<br>    \"layer_0_conv2d_fsize\": 4,<br>    \"layer_0_conv2d_ssize\": 4,<br>    \"activation_0\": \"relu\",<br>    \"layer_1\": \"Pointwise2D\",<br>    \"layer_1_pwconv2d_filters\": 20,<br>    \"layer_1_pwconv2d_ssize\": 8,<br>    \"activation_1\": \"tanh\",<br>    \"pre_GAP_layer_fsize\": 5,<br>    \"pre_GAP_layer_act\": \"linear\",<br>    \"lr_inicial\": 0.0019982782203200045<br>  }<br>}",
          "{<br>  \"number\": 332,<br>  \"values\": [<br>    0.800000011920929,<br>    10709.0<br>  ],<br>  \"params\": {<br>    \"batchsize\": 32,<br>    \"brightness_factor\": 0.1364799971648502,<br>    \"gaussian_noise_factor\": 0.03643617984206344,<br>    \"translate_factor\": 0.06913068498479577,<br>    \"num_layers\": 2,<br>    \"output_layer\": \"pooling\",<br>    \"layer_0\": \"Conv2D\",<br>    \"layer_0_conv2d_filters\": 24,<br>    \"layer_0_conv2d_fsize\": 4,<br>    \"layer_0_conv2d_ssize\": 4,<br>    \"activation_0\": \"relu\",<br>    \"layer_1\": \"Pointwise2D\",<br>    \"layer_1_pwconv2d_filters\": 24,<br>    \"layer_1_pwconv2d_ssize\": 8,<br>    \"activation_1\": \"tanh\",<br>    \"pre_GAP_layer_fsize\": 5,<br>    \"pre_GAP_layer_act\": \"linear\",<br>    \"lr_inicial\": 0.001996735593098304<br>  }<br>}",
          "{<br>  \"number\": 333,<br>  \"values\": [<br>    0.7799999713897705,<br>    10709.0<br>  ],<br>  \"params\": {<br>    \"batchsize\": 32,<br>    \"brightness_factor\": 0.13821884867456713,<br>    \"gaussian_noise_factor\": 0.030745440946044825,<br>    \"translate_factor\": 0.06362855397943167,<br>    \"num_layers\": 2,<br>    \"output_layer\": \"pooling\",<br>    \"layer_0\": \"Conv2D\",<br>    \"layer_0_conv2d_filters\": 24,<br>    \"layer_0_conv2d_fsize\": 4,<br>    \"layer_0_conv2d_ssize\": 4,<br>    \"activation_0\": \"relu\",<br>    \"layer_1\": \"Pointwise2D\",<br>    \"layer_1_pwconv2d_filters\": 24,<br>    \"layer_1_pwconv2d_ssize\": 8,<br>    \"activation_1\": \"tanh\",<br>    \"pre_GAP_layer_fsize\": 5,<br>    \"pre_GAP_layer_act\": \"linear\",<br>    \"lr_inicial\": 0.0018998265576739997<br>  }<br>}",
          "{<br>  \"number\": 334,<br>  \"values\": [<br>    0.7599999904632568,<br>    9157.0<br>  ],<br>  \"params\": {<br>    \"batchsize\": 32,<br>    \"brightness_factor\": 0.13373977001848683,<br>    \"gaussian_noise_factor\": 0.03637081363014878,<br>    \"translate_factor\": 0.07002441544939593,<br>    \"num_layers\": 2,<br>    \"output_layer\": \"pooling\",<br>    \"layer_0\": \"Conv2D\",<br>    \"layer_0_conv2d_filters\": 16,<br>    \"layer_0_conv2d_fsize\": 4,<br>    \"layer_0_conv2d_ssize\": 4,<br>    \"activation_0\": \"relu\",<br>    \"layer_1\": \"Pointwise2D\",<br>    \"layer_1_pwconv2d_filters\": 24,<br>    \"layer_1_pwconv2d_ssize\": 7,<br>    \"activation_1\": \"tanh\",<br>    \"pre_GAP_layer_fsize\": 5,<br>    \"pre_GAP_layer_act\": \"linear\",<br>    \"lr_inicial\": 0.0019995942775494187<br>  }<br>}",
          "{<br>  \"number\": 335,<br>  \"values\": [<br>    0.7599999904632568,<br>    10709.0<br>  ],<br>  \"params\": {<br>    \"batchsize\": 32,<br>    \"brightness_factor\": 0.1436908020914997,<br>    \"gaussian_noise_factor\": 0.04607204744514041,<br>    \"translate_factor\": 0.066851349674335,<br>    \"num_layers\": 2,<br>    \"output_layer\": \"pooling\",<br>    \"layer_0\": \"Conv2D\",<br>    \"layer_0_conv2d_filters\": 24,<br>    \"layer_0_conv2d_fsize\": 4,<br>    \"layer_0_conv2d_ssize\": 4,<br>    \"activation_0\": \"relu\",<br>    \"layer_1\": \"Pointwise2D\",<br>    \"layer_1_pwconv2d_filters\": 24,<br>    \"layer_1_pwconv2d_ssize\": 8,<br>    \"activation_1\": \"tanh\",<br>    \"pre_GAP_layer_fsize\": 5,<br>    \"pre_GAP_layer_act\": \"linear\",<br>    \"lr_inicial\": 0.0019007405182284852<br>  }<br>}",
          "{<br>  \"number\": 336,<br>  \"values\": [<br>    0.8399999737739563,<br>    9157.0<br>  ],<br>  \"params\": {<br>    \"batchsize\": 32,<br>    \"brightness_factor\": 0.1448859061307575,<br>    \"gaussian_noise_factor\": 0.04116531603516678,<br>    \"translate_factor\": 0.07210041039483256,<br>    \"num_layers\": 2,<br>    \"output_layer\": \"pooling\",<br>    \"layer_0\": \"Conv2D\",<br>    \"layer_0_conv2d_filters\": 16,<br>    \"layer_0_conv2d_fsize\": 4,<br>    \"layer_0_conv2d_ssize\": 4,<br>    \"activation_0\": \"relu\",<br>    \"layer_1\": \"Pointwise2D\",<br>    \"layer_1_pwconv2d_filters\": 24,<br>    \"layer_1_pwconv2d_ssize\": 7,<br>    \"activation_1\": \"tanh\",<br>    \"pre_GAP_layer_fsize\": 5,<br>    \"pre_GAP_layer_act\": \"linear\",<br>    \"lr_inicial\": 0.0018938510459830624<br>  }<br>}",
          "{<br>  \"number\": 337,<br>  \"values\": [<br>    0.7200000286102295,<br>    20295.0<br>  ],<br>  \"params\": {<br>    \"batchsize\": 96,<br>    \"brightness_factor\": 0.15678158425748295,<br>    \"gaussian_noise_factor\": 0.1236186479916485,<br>    \"translate_factor\": 0.06252629149065399,<br>    \"num_layers\": 1,<br>    \"output_layer\": \"dense\",<br>    \"layer_0\": \"Pointwise2D\",<br>    \"layer_0_pwconv2d_filters\": 20,<br>    \"layer_0_pwconv2d_ssize\": 13,<br>    \"activation_0\": \"tanh\",<br>    \"output_dropout\": 0.43559955843305104,<br>    \"lr_inicial\": 0.000735370851573369<br>  }<br>}",
          "{<br>  \"number\": 338,<br>  \"values\": [<br>    0.7400000095367432,<br>    17126.0<br>  ],<br>  \"params\": {<br>    \"batchsize\": 96,<br>    \"brightness_factor\": 0.1777983529385319,<br>    \"gaussian_noise_factor\": 0.1021837440996189,<br>    \"translate_factor\": 0.060739630187439664,<br>    \"num_layers\": 1,<br>    \"output_layer\": \"dense\",<br>    \"layer_0\": \"Pointwise2D\",<br>    \"layer_0_pwconv2d_filters\": 24,<br>    \"layer_0_pwconv2d_ssize\": 10,<br>    \"activation_0\": \"tanh\",<br>    \"output_dropout\": 0.538700736107009,<br>    \"lr_inicial\": 0.0017190836630269824<br>  }<br>}",
          "{<br>  \"number\": 339,<br>  \"values\": [<br>    0.7599999904632568,<br>    27020.0<br>  ],<br>  \"params\": {<br>    \"batchsize\": 32,<br>    \"brightness_factor\": 0.16880227324469674,<br>    \"gaussian_noise_factor\": 0.056049133939446084,<br>    \"translate_factor\": 0.118242126483076,<br>    \"num_layers\": 3,<br>    \"output_layer\": \"dense\",<br>    \"layer_0\": \"Pointwise2D\",<br>    \"layer_0_pwconv2d_filters\": 16,<br>    \"layer_0_pwconv2d_ssize\": 3,<br>    \"activation_0\": \"tanh\",<br>    \"layer_1\": \"Conv2D\",<br>    \"layer_1_conv2d_filters\": 28,<br>    \"layer_1_conv2d_fsize\": 3,<br>    \"layer_1_conv2d_ssize\": 4,<br>    \"activation_1\": \"linear\",<br>    \"layer_2\": \"Pointwise2D\",<br>    \"layer_2_pwconv2d_filters\": 20,<br>    \"layer_2_pwconv2d_ssize\": 4,<br>    \"activation_2\": \"tanh\",<br>    \"output_dropout\": 0.44844529402749495,<br>    \"lr_inicial\": 0.001744777579064938<br>  }<br>}",
          "{<br>  \"number\": 340,<br>  \"values\": [<br>    0.7400000095367432,<br>    16861.0<br>  ],<br>  \"params\": {<br>    \"batchsize\": 32,<br>    \"brightness_factor\": 0.1568503423906975,<br>    \"gaussian_noise_factor\": 0.06798846013966056,<br>    \"translate_factor\": 0.19248535912828355,<br>    \"num_layers\": 1,<br>    \"output_layer\": \"dense\",<br>    \"layer_0\": \"Pointwise2D\",<br>    \"layer_0_pwconv2d_filters\": 4,<br>    \"layer_0_pwconv2d_ssize\": 9,<br>    \"activation_0\": \"tanh\",<br>    \"output_dropout\": 0.4088412628341628,<br>    \"lr_inicial\": 0.0012910749532195754<br>  }<br>}",
          "{<br>  \"number\": 341,<br>  \"values\": [<br>    0.7200000286102295,<br>    28430.0<br>  ],<br>  \"params\": {<br>    \"batchsize\": 128,<br>    \"brightness_factor\": 0.17371540992180304,<br>    \"gaussian_noise_factor\": 0.07149335369782182,<br>    \"translate_factor\": 0.1075029500917108,<br>    \"num_layers\": 3,<br>    \"output_layer\": \"dense\",<br>    \"layer_0\": \"Pointwise2D\",<br>    \"layer_0_pwconv2d_filters\": 12,<br>    \"layer_0_pwconv2d_ssize\": 4,<br>    \"activation_0\": \"tanh\",<br>    \"layer_1\": \"Conv2D\",<br>    \"layer_1_conv2d_filters\": 24,<br>    \"layer_1_conv2d_fsize\": 3,<br>    \"layer_1_conv2d_ssize\": 4,<br>    \"activation_1\": \"linear\",<br>    \"layer_2\": \"Conv2D\",<br>    \"layer_2_conv2d_filters\": 12,<br>    \"layer_2_conv2d_fsize\": 3,<br>    \"layer_2_conv2d_ssize\": 4,<br>    \"activation_2\": \"tanh\",<br>    \"output_dropout\": 0.34019616762527033,<br>    \"lr_inicial\": 0.0016751726233372396<br>  }<br>}",
          "{<br>  \"number\": 342,<br>  \"values\": [<br>    0.800000011920929,<br>    21047.0<br>  ],<br>  \"params\": {<br>    \"batchsize\": 32,<br>    \"brightness_factor\": 0.12354790769187163,<br>    \"gaussian_noise_factor\": 0.06216195881075408,<br>    \"translate_factor\": 0.0640972888899138,<br>    \"num_layers\": 1,<br>    \"output_layer\": \"dense\",<br>    \"layer_0\": \"Conv2D\",<br>    \"layer_0_conv2d_filters\": 12,<br>    \"layer_0_conv2d_fsize\": 5,<br>    \"layer_0_conv2d_ssize\": 13,<br>    \"activation_0\": \"tanh\",<br>    \"output_dropout\": 0.5338417101373225,<br>    \"lr_inicial\": 0.001778798305608107<br>  }<br>}",
          "{<br>  \"number\": 343,<br>  \"values\": [<br>    0.7400000095367432,<br>    25075.0<br>  ],<br>  \"params\": {<br>    \"batchsize\": 32,<br>    \"brightness_factor\": 0.16726245330982864,<br>    \"gaussian_noise_factor\": 0.1999658919148678,<br>    \"translate_factor\": 0.07179439690307937,<br>    \"num_layers\": 2,<br>    \"output_layer\": \"dense\",<br>    \"layer_0\": \"Conv2D\",<br>    \"layer_0_conv2d_filters\": 16,<br>    \"layer_0_conv2d_fsize\": 5,<br>    \"layer_0_conv2d_ssize\": 3,<br>    \"activation_0\": \"tanh\",<br>    \"layer_1\": \"Conv2D\",<br>    \"layer_1_conv2d_filters\": 32,<br>    \"layer_1_conv2d_fsize\": 3,<br>    \"layer_1_conv2d_ssize\": 5,<br>    \"activation_1\": \"relu\",<br>    \"output_dropout\": 0.41706438902970017,<br>    \"lr_inicial\": 0.0016847799441712429<br>  }<br>}",
          "{<br>  \"number\": 344,<br>  \"values\": [<br>    0.6200000047683716,<br>    21396.0<br>  ],<br>  \"params\": {<br>    \"batchsize\": 96,<br>    \"brightness_factor\": 0.19970893886647392,<br>    \"gaussian_noise_factor\": 0.16144676507755587,<br>    \"translate_factor\": 0.1395913292501709,<br>    \"num_layers\": 2,<br>    \"output_layer\": \"dense\",<br>    \"layer_0\": \"Conv2D\",<br>    \"layer_0_conv2d_filters\": 12,<br>    \"layer_0_conv2d_fsize\": 5,<br>    \"layer_0_conv2d_ssize\": 7,<br>    \"activation_0\": \"tanh\",<br>    \"layer_1\": \"Conv2D\",<br>    \"layer_1_conv2d_filters\": 4,<br>    \"layer_1_conv2d_fsize\": 5,<br>    \"layer_1_conv2d_ssize\": 2,<br>    \"activation_1\": \"relu\",<br>    \"output_dropout\": 0.40170661400764973,<br>    \"lr_inicial\": 0.0017687674423218322<br>  }<br>}",
          "{<br>  \"number\": 345,<br>  \"values\": [<br>    0.8399999737739563,<br>    24275.0<br>  ],<br>  \"params\": {<br>    \"batchsize\": 32,<br>    \"brightness_factor\": 0.08857116713776,<br>    \"gaussian_noise_factor\": 0.029707192000759775,<br>    \"translate_factor\": 0.06624418391348423,<br>    \"num_layers\": 2,<br>    \"output_layer\": \"dense\",<br>    \"layer_0\": \"Pointwise2D\",<br>    \"layer_0_pwconv2d_filters\": 8,<br>    \"layer_0_pwconv2d_ssize\": 6,<br>    \"activation_0\": \"tanh\",<br>    \"layer_1\": \"Conv2D\",<br>    \"layer_1_conv2d_filters\": 28,<br>    \"layer_1_conv2d_fsize\": 3,<br>    \"layer_1_conv2d_ssize\": 6,<br>    \"activation_1\": \"relu\",<br>    \"output_dropout\": 0.45184247565371577,<br>    \"lr_inicial\": 0.0006108932193382259<br>  }<br>}",
          "{<br>  \"number\": 346,<br>  \"values\": [<br>    0.7599999904632568,<br>    20676.0<br>  ],<br>  \"params\": {<br>    \"batchsize\": 32,<br>    \"brightness_factor\": 0.1639090010764211,<br>    \"gaussian_noise_factor\": 0.053434902504777775,<br>    \"translate_factor\": 0.07128398848114331,<br>    \"num_layers\": 1,<br>    \"output_layer\": \"dense\",<br>    \"layer_0\": \"Conv2D\",<br>    \"layer_0_conv2d_filters\": 16,<br>    \"layer_0_conv2d_fsize\": 5,<br>    \"layer_0_conv2d_ssize\": 16,<br>    \"activation_0\": \"linear\",<br>    \"output_dropout\": 0.45775636270837583,<br>    \"lr_inicial\": 0.0018257254666338427<br>  }<br>}",
          "{<br>  \"number\": 347,<br>  \"values\": [<br>    0.800000011920929,<br>    22147.0<br>  ],<br>  \"params\": {<br>    \"batchsize\": 32,<br>    \"brightness_factor\": 0.07407731156724057,<br>    \"gaussian_noise_factor\": 4.232226773773218e-06,<br>    \"translate_factor\": 0.06128397065390339,<br>    \"num_layers\": 3,<br>    \"output_layer\": \"dense\",<br>    \"layer_0\": \"Conv2D\",<br>    \"layer_0_conv2d_filters\": 4,<br>    \"layer_0_conv2d_fsize\": 5,<br>    \"layer_0_conv2d_ssize\": 2,<br>    \"activation_0\": \"tanh\",<br>    \"layer_1\": \"Conv2D\",<br>    \"layer_1_conv2d_filters\": 16,<br>    \"layer_1_conv2d_fsize\": 4,<br>    \"layer_1_conv2d_ssize\": 4,<br>    \"activation_1\": \"relu\",<br>    \"layer_2\": \"Pointwise2D\",<br>    \"layer_2_pwconv2d_filters\": 16,<br>    \"layer_2_pwconv2d_ssize\": 3,<br>    \"activation_2\": \"relu\",<br>    \"output_dropout\": 0.37004343298914005,<br>    \"lr_inicial\": 0.0003506429253305187<br>  }<br>}",
          "{<br>  \"number\": 348,<br>  \"values\": [<br>    0.7200000286102295,<br>    24665.0<br>  ],<br>  \"params\": {<br>    \"batchsize\": 128,<br>    \"brightness_factor\": 0.15943733754092046,<br>    \"gaussian_noise_factor\": 0.058891821519743204,<br>    \"translate_factor\": 0.10061384523547275,<br>    \"num_layers\": 2,<br>    \"output_layer\": \"dense\",<br>    \"layer_0\": \"Conv2D\",<br>    \"layer_0_conv2d_filters\": 12,<br>    \"layer_0_conv2d_fsize\": 5,<br>    \"layer_0_conv2d_ssize\": 6,<br>    \"activation_0\": \"tanh\",<br>    \"layer_1\": \"Conv2D\",<br>    \"layer_1_conv2d_filters\": 32,<br>    \"layer_1_conv2d_fsize\": 3,<br>    \"layer_1_conv2d_ssize\": 3,<br>    \"activation_1\": \"linear\",<br>    \"output_dropout\": 0.3067627984318727,<br>    \"lr_inicial\": 0.0015417219382422088<br>  }<br>}",
          "{<br>  \"number\": 349,<br>  \"values\": [<br>    0.7400000095367432,<br>    7957.0<br>  ],<br>  \"params\": {<br>    \"batchsize\": 32,<br>    \"brightness_factor\": 0.15553438017597557,<br>    \"gaussian_noise_factor\": 0.08759646041792682,<br>    \"translate_factor\": 0.06785042704647201,<br>    \"num_layers\": 2,<br>    \"output_layer\": \"pooling\",<br>    \"layer_0\": \"Conv2D\",<br>    \"layer_0_conv2d_filters\": 4,<br>    \"layer_0_conv2d_fsize\": 5,<br>    \"layer_0_conv2d_ssize\": 6,<br>    \"activation_0\": \"tanh\",<br>    \"layer_1\": \"Conv2D\",<br>    \"layer_1_conv2d_filters\": 24,<br>    \"layer_1_conv2d_fsize\": 3,<br>    \"layer_1_conv2d_ssize\": 5,<br>    \"activation_1\": \"relu\",<br>    \"pre_GAP_layer_fsize\": 4,<br>    \"pre_GAP_layer_act\": \"tanh\",<br>    \"lr_inicial\": 0.0017298458263192542<br>  }<br>}",
          "{<br>  \"number\": 350,<br>  \"values\": [<br>    0.7799999713897705,<br>    38464.0<br>  ],<br>  \"params\": {<br>    \"batchsize\": 32,<br>    \"brightness_factor\": 0.16010414280551966,<br>    \"gaussian_noise_factor\": 0.15292601481081736,<br>    \"translate_factor\": 0.0007792734708213789,<br>    \"num_layers\": 2,<br>    \"output_layer\": \"dense\",<br>    \"layer_0\": \"Pointwise2D\",<br>    \"layer_0_pwconv2d_filters\": 32,<br>    \"layer_0_pwconv2d_ssize\": 5,<br>    \"activation_0\": \"linear\",<br>    \"layer_1\": \"Conv2D\",<br>    \"layer_1_conv2d_filters\": 20,<br>    \"layer_1_conv2d_fsize\": 5,<br>    \"layer_1_conv2d_ssize\": 8,<br>    \"activation_1\": \"relu\",<br>    \"output_dropout\": 0.32685793852584627,<br>    \"lr_inicial\": 0.0013361971881049764<br>  }<br>}",
          "{<br>  \"number\": 351,<br>  \"values\": [<br>    0.7400000095367432,<br>    17558.0<br>  ],<br>  \"params\": {<br>    \"batchsize\": 32,<br>    \"brightness_factor\": 0.18176813911756837,<br>    \"gaussian_noise_factor\": 0.17313457280571032,<br>    \"translate_factor\": 0.19601455507222149,<br>    \"num_layers\": 1,<br>    \"output_layer\": \"dense\",<br>    \"layer_0\": \"Conv2D\",<br>    \"layer_0_conv2d_filters\": 8,<br>    \"layer_0_conv2d_fsize\": 5,<br>    \"layer_0_conv2d_ssize\": 10,<br>    \"activation_0\": \"tanh\",<br>    \"output_dropout\": 0.5116275007664238,<br>    \"lr_inicial\": 0.0016529112944408126<br>  }<br>}",
          "{<br>  \"number\": 352,<br>  \"values\": [<br>    0.6600000262260437,<br>    9181.0<br>  ],<br>  \"params\": {<br>    \"batchsize\": 32,<br>    \"brightness_factor\": 0.09544951587213205,<br>    \"gaussian_noise_factor\": 0.06314647889468761,<br>    \"translate_factor\": 0.12993139409559296,<br>    \"num_layers\": 2,<br>    \"output_layer\": \"pooling\",<br>    \"layer_0\": \"Conv2D\",<br>    \"layer_0_conv2d_filters\": 4,<br>    \"layer_0_conv2d_fsize\": 5,<br>    \"layer_0_conv2d_ssize\": 4,<br>    \"activation_0\": \"tanh\",<br>    \"layer_1\": \"Conv2D\",<br>    \"layer_1_conv2d_filters\": 28,<br>    \"layer_1_conv2d_fsize\": 3,<br>    \"layer_1_conv2d_ssize\": 3,<br>    \"activation_1\": \"relu\",<br>    \"pre_GAP_layer_fsize\": 4,<br>    \"pre_GAP_layer_act\": \"tanh\",<br>    \"lr_inicial\": 0.0018163358604835497<br>  }<br>}",
          "{<br>  \"number\": 353,<br>  \"values\": [<br>    0.7200000286102295,<br>    39990.0<br>  ],<br>  \"params\": {<br>    \"batchsize\": 96,<br>    \"brightness_factor\": 0.15319788942362358,<br>    \"gaussian_noise_factor\": 0.07390087970559713,<br>    \"translate_factor\": 0.07518134026833859,<br>    \"num_layers\": 3,<br>    \"output_layer\": \"dense\",<br>    \"layer_0\": \"Conv2D\",<br>    \"layer_0_conv2d_filters\": 32,<br>    \"layer_0_conv2d_fsize\": 5,<br>    \"layer_0_conv2d_ssize\": 3,<br>    \"activation_0\": \"tanh\",<br>    \"layer_1\": \"Conv2D\",<br>    \"layer_1_conv2d_filters\": 24,<br>    \"layer_1_conv2d_fsize\": 4,<br>    \"layer_1_conv2d_ssize\": 4,<br>    \"activation_1\": \"linear\",<br>    \"layer_2\": \"Conv2D\",<br>    \"layer_2_conv2d_filters\": 8,<br>    \"layer_2_conv2d_fsize\": 4,<br>    \"layer_2_conv2d_ssize\": 5,<br>    \"activation_2\": \"linear\",<br>    \"output_dropout\": 0.5427092649937828,<br>    \"lr_inicial\": 0.0017552639936052278<br>  }<br>}",
          "{<br>  \"number\": 354,<br>  \"values\": [<br>    0.8199999928474426,<br>    25395.0<br>  ],<br>  \"params\": {<br>    \"batchsize\": 32,<br>    \"brightness_factor\": 0.16643007666294124,<br>    \"gaussian_noise_factor\": 0.11600280761932648,<br>    \"translate_factor\": 0.09278645419356482,<br>    \"num_layers\": 2,<br>    \"output_layer\": \"dense\",<br>    \"layer_0\": \"Pointwise2D\",<br>    \"layer_0_pwconv2d_filters\": 16,<br>    \"layer_0_pwconv2d_ssize\": 6,<br>    \"activation_0\": \"linear\",<br>    \"layer_1\": \"Conv2D\",<br>    \"layer_1_conv2d_filters\": 28,<br>    \"layer_1_conv2d_fsize\": 3,<br>    \"layer_1_conv2d_ssize\": 5,<br>    \"activation_1\": \"relu\",<br>    \"output_dropout\": 0.5863645735806297,<br>    \"lr_inicial\": 0.0005151389401803998<br>  }<br>}",
          "{<br>  \"number\": 355,<br>  \"values\": [<br>    0.6399999856948853,<br>    18597.0<br>  ],<br>  \"params\": {<br>    \"batchsize\": 128,<br>    \"brightness_factor\": 0.16237490092190449,<br>    \"gaussian_noise_factor\": 0.1078487248734294,<br>    \"translate_factor\": 0.06519645935339041,<br>    \"num_layers\": 2,<br>    \"output_layer\": \"pooling\",<br>    \"layer_0\": \"Conv2D\",<br>    \"layer_0_conv2d_filters\": 4,<br>    \"layer_0_conv2d_fsize\": 5,<br>    \"layer_0_conv2d_ssize\": 7,<br>    \"activation_0\": \"tanh\",<br>    \"layer_1\": \"Conv2D\",<br>    \"layer_1_conv2d_filters\": 32,<br>    \"layer_1_conv2d_fsize\": 5,<br>    \"layer_1_conv2d_ssize\": 5,<br>    \"activation_1\": \"relu\",<br>    \"pre_GAP_layer_fsize\": 4,<br>    \"pre_GAP_layer_act\": \"tanh\",<br>    \"lr_inicial\": 0.0018432873704714145<br>  }<br>}",
          "{<br>  \"number\": 356,<br>  \"values\": [<br>    0.7400000095367432,<br>    20963.0<br>  ],<br>  \"params\": {<br>    \"batchsize\": 32,<br>    \"brightness_factor\": 0.00028081481338642234,<br>    \"gaussian_noise_factor\": 0.06516987089681356,<br>    \"translate_factor\": 0.056890350393653775,<br>    \"num_layers\": 1,<br>    \"output_layer\": \"dense\",<br>    \"layer_0\": \"Conv2D\",<br>    \"layer_0_conv2d_filters\": 28,<br>    \"layer_0_conv2d_fsize\": 3,<br>    \"layer_0_conv2d_ssize\": 14,<br>    \"activation_0\": \"tanh\",<br>    \"output_dropout\": 0.5734405525828911,<br>    \"lr_inicial\": 0.0006425082805501732<br>  }<br>}",
          "{<br>  \"number\": 357,<br>  \"values\": [<br>    0.5,<br>    8341.0<br>  ],<br>  \"params\": {<br>    \"batchsize\": 32,<br>    \"brightness_factor\": 0.1689981999780943,<br>    \"gaussian_noise_factor\": 0.05329978160776891,<br>    \"translate_factor\": 0.030681559991044757,<br>    \"num_layers\": 2,<br>    \"output_layer\": \"pooling\",<br>    \"layer_0\": \"Conv2D\",<br>    \"layer_0_conv2d_filters\": 16,<br>    \"layer_0_conv2d_fsize\": 5,<br>    \"layer_0_conv2d_ssize\": 4,<br>    \"activation_0\": \"tanh\",<br>    \"layer_1\": \"Conv2D\",<br>    \"layer_1_conv2d_filters\": 8,<br>    \"layer_1_conv2d_fsize\": 3,<br>    \"layer_1_conv2d_ssize\": 7,<br>    \"activation_1\": \"relu\",<br>    \"pre_GAP_layer_fsize\": 4,<br>    \"pre_GAP_layer_act\": \"tanh\",<br>    \"lr_inicial\": 0.001712572045221099<br>  }<br>}",
          "{<br>  \"number\": 358,<br>  \"values\": [<br>    0.800000011920929,<br>    25929.0<br>  ],<br>  \"params\": {<br>    \"batchsize\": 32,<br>    \"brightness_factor\": 0.017470920041100763,<br>    \"gaussian_noise_factor\": 0.0582338645625821,<br>    \"translate_factor\": 0.07231655076390961,<br>    \"num_layers\": 2,<br>    \"output_layer\": \"dense\",<br>    \"layer_0\": \"Pointwise2D\",<br>    \"layer_0_pwconv2d_filters\": 28,<br>    \"layer_0_pwconv2d_ssize\": 7,<br>    \"activation_0\": \"linear\",<br>    \"layer_1\": \"Conv2D\",<br>    \"layer_1_conv2d_filters\": 24,<br>    \"layer_1_conv2d_fsize\": 3,<br>    \"layer_1_conv2d_ssize\": 2,<br>    \"activation_1\": \"relu\",<br>    \"output_dropout\": 0.44026391157595846,<br>    \"lr_inicial\": 0.0003804088918926065<br>  }<br>}",
          "{<br>  \"number\": 359,<br>  \"values\": [<br>    0.7400000095367432,<br>    22495.0<br>  ],<br>  \"params\": {<br>    \"batchsize\": 96,<br>    \"brightness_factor\": 0.16026366136358144,<br>    \"gaussian_noise_factor\": 0.18260236630445992,<br>    \"translate_factor\": 0.1447328131680875,<br>    \"num_layers\": 3,<br>    \"output_layer\": \"dense\",<br>    \"layer_0\": \"Conv2D\",<br>    \"layer_0_conv2d_filters\": 4,<br>    \"layer_0_conv2d_fsize\": 5,<br>    \"layer_0_conv2d_ssize\": 2,<br>    \"activation_0\": \"tanh\",<br>    \"layer_1\": \"Conv2D\",<br>    \"layer_1_conv2d_filters\": 28,<br>    \"layer_1_conv2d_fsize\": 4,<br>    \"layer_1_conv2d_ssize\": 4,<br>    \"activation_1\": \"linear\",<br>    \"layer_2\": \"Pointwise2D\",<br>    \"layer_2_pwconv2d_filters\": 4,<br>    \"layer_2_pwconv2d_ssize\": 5,<br>    \"activation_2\": \"relu\",<br>    \"output_dropout\": 0.5621727906214422,<br>    \"lr_inicial\": 0.0014036487210055508<br>  }<br>}",
          "{<br>  \"number\": 360,<br>  \"values\": [<br>    0.5600000023841858,<br>    3901.0<br>  ],<br>  \"params\": {<br>    \"batchsize\": 32,<br>    \"brightness_factor\": 0.11017607991567911,<br>    \"gaussian_noise_factor\": 0.07730761704772678,<br>    \"translate_factor\": 0.12354190856809479,<br>    \"num_layers\": 2,<br>    \"output_layer\": \"pooling\",<br>    \"layer_0\": \"Conv2D\",<br>    \"layer_0_conv2d_filters\": 4,<br>    \"layer_0_conv2d_fsize\": 3,<br>    \"layer_0_conv2d_ssize\": 4,<br>    \"activation_0\": \"tanh\",<br>    \"layer_1\": \"Conv2D\",<br>    \"layer_1_conv2d_filters\": 12,<br>    \"layer_1_conv2d_fsize\": 3,<br>    \"layer_1_conv2d_ssize\": 6,<br>    \"activation_1\": \"relu\",<br>    \"pre_GAP_layer_fsize\": 4,<br>    \"pre_GAP_layer_act\": \"tanh\",<br>    \"lr_inicial\": 0.0008474112301134962<br>  }<br>}",
          "{<br>  \"number\": 361,<br>  \"values\": [<br>    0.8399999737739563,<br>    22247.0<br>  ],<br>  \"params\": {<br>    \"batchsize\": 32,<br>    \"brightness_factor\": 0.03336559675876809,<br>    \"gaussian_noise_factor\": 0.09529781150352462,<br>    \"translate_factor\": 0.06953735846483045,<br>    \"num_layers\": 2,<br>    \"output_layer\": \"dense\",<br>    \"layer_0\": \"Conv2D\",<br>    \"layer_0_conv2d_filters\": 4,<br>    \"layer_0_conv2d_fsize\": 5,<br>    \"layer_0_conv2d_ssize\": 6,<br>    \"activation_0\": \"tanh\",<br>    \"layer_1\": \"Conv2D\",<br>    \"layer_1_conv2d_filters\": 20,<br>    \"layer_1_conv2d_fsize\": 5,<br>    \"layer_1_conv2d_ssize\": 3,<br>    \"activation_1\": \"relu\",<br>    \"output_dropout\": 0.5171838359301784,<br>    \"lr_inicial\": 0.0017794863790107152<br>  }<br>}",
          "{<br>  \"number\": 362,<br>  \"values\": [<br>    0.7799999713897705,<br>    20879.0<br>  ],<br>  \"params\": {<br>    \"batchsize\": 32,<br>    \"brightness_factor\": 0.0655024195411463,<br>    \"gaussian_noise_factor\": 0.05089142576493661,<br>    \"translate_factor\": 0.06390477333294428,<br>    \"num_layers\": 1,<br>    \"output_layer\": \"dense\",<br>    \"layer_0\": \"Conv2D\",<br>    \"layer_0_conv2d_filters\": 12,<br>    \"layer_0_conv2d_fsize\": 5,<br>    \"layer_0_conv2d_ssize\": 12,<br>    \"activation_0\": \"tanh\",<br>    \"output_dropout\": 0.3824149038919673,<br>    \"lr_inicial\": 0.0016070751978024803<br>  }<br>}",
          "{<br>  \"number\": 363,<br>  \"values\": [<br>    0.47999998927116394,<br>    24861.0<br>  ],<br>  \"params\": {<br>    \"batchsize\": 128,<br>    \"brightness_factor\": 0.12939759537946618,<br>    \"gaussian_noise_factor\": 0.030727741776005634,<br>    \"translate_factor\": 0.059976934343420385,<br>    \"num_layers\": 2,<br>    \"output_layer\": \"pooling\",<br>    \"layer_0\": \"Pointwise2D\",<br>    \"layer_0_pwconv2d_filters\": 20,<br>    \"layer_0_pwconv2d_ssize\": 5,<br>    \"activation_0\": \"linear\",<br>    \"layer_1\": \"Conv2D\",<br>    \"layer_1_conv2d_filters\": 28,<br>    \"layer_1_conv2d_fsize\": 3,<br>    \"layer_1_conv2d_ssize\": 6,<br>    \"activation_1\": \"relu\",<br>    \"pre_GAP_layer_fsize\": 4,<br>    \"pre_GAP_layer_act\": \"relu\",<br>    \"lr_inicial\": 0.0018677102988003272<br>  }<br>}",
          "{<br>  \"number\": 364,<br>  \"values\": [<br>    0.7599999904632568,<br>    21687.0<br>  ],<br>  \"params\": {<br>    \"batchsize\": 32,<br>    \"brightness_factor\": 0.19354541011235254,<br>    \"gaussian_noise_factor\": 0.06897160844535677,<br>    \"translate_factor\": 0.07401392625713554,<br>    \"num_layers\": 2,<br>    \"output_layer\": \"dense\",<br>    \"layer_0\": \"Conv2D\",<br>    \"layer_0_conv2d_filters\": 4,<br>    \"layer_0_conv2d_fsize\": 5,<br>    \"layer_0_conv2d_ssize\": 4,<br>    \"activation_0\": \"tanh\",<br>    \"layer_1\": \"Conv2D\",<br>    \"layer_1_conv2d_filters\": 32,<br>    \"layer_1_conv2d_fsize\": 3,<br>    \"layer_1_conv2d_ssize\": 5,<br>    \"activation_1\": \"linear\",<br>    \"output_dropout\": 0.5011994005908502,<br>    \"lr_inicial\": 0.0016861913443816194<br>  }<br>}",
          "{<br>  \"number\": 365,<br>  \"values\": [<br>    0.9399999976158142,<br>    26389.0<br>  ],<br>  \"params\": {<br>    \"batchsize\": 32,<br>    \"brightness_factor\": 0.15792290594147151,<br>    \"gaussian_noise_factor\": 0.02653413531138065,<br>    \"translate_factor\": 0.06960735459502018,<br>    \"num_layers\": 3,<br>    \"output_layer\": \"pooling\",<br>    \"layer_0\": \"Conv2D\",<br>    \"layer_0_conv2d_filters\": 8,<br>    \"layer_0_conv2d_fsize\": 3,<br>    \"layer_0_conv2d_ssize\": 3,<br>    \"activation_0\": \"tanh\",<br>    \"layer_1\": \"Conv2D\",<br>    \"layer_1_conv2d_filters\": 16,<br>    \"layer_1_conv2d_fsize\": 4,<br>    \"layer_1_conv2d_ssize\": 4,<br>    \"activation_1\": \"relu\",<br>    \"layer_2\": \"Conv2D\",<br>    \"layer_2_conv2d_filters\": 24,<br>    \"layer_2_conv2d_fsize\": 3,<br>    \"layer_2_conv2d_ssize\": 3,<br>    \"activation_2\": \"tanh\",<br>    \"pre_GAP_layer_fsize\": 4,<br>    \"pre_GAP_layer_act\": \"relu\",<br>    \"lr_inicial\": 0.0014502631498564138<br>  }<br>}",
          "{<br>  \"number\": 366,<br>  \"values\": [<br>    0.5400000214576721,<br>    1733.0<br>  ],<br>  \"params\": {<br>    \"batchsize\": 32,<br>    \"brightness_factor\": 0.010560118840901106,<br>    \"gaussian_noise_factor\": 0.12097576578813288,<br>    \"translate_factor\": 0.07797493173443813,<br>    \"num_layers\": 1,<br>    \"output_layer\": \"pooling\",<br>    \"layer_0\": \"Conv2D\",<br>    \"layer_0_conv2d_filters\": 8,<br>    \"layer_0_conv2d_fsize\": 3,<br>    \"layer_0_conv2d_ssize\": 11,<br>    \"activation_0\": \"relu\",<br>    \"pre_GAP_layer_fsize\": 4,<br>    \"pre_GAP_layer_act\": \"relu\",<br>    \"lr_inicial\": 0.0014473515044587573<br>  }<br>}",
          "{<br>  \"number\": 367,<br>  \"values\": [<br>    0.5799999833106995,<br>    5573.0<br>  ],<br>  \"params\": {<br>    \"batchsize\": 32,<br>    \"brightness_factor\": 0.005945799224788759,<br>    \"gaussian_noise_factor\": 0.10452862256851665,<br>    \"translate_factor\": 0.1346913959428562,<br>    \"num_layers\": 1,<br>    \"output_layer\": \"pooling\",<br>    \"layer_0\": \"Conv2D\",<br>    \"layer_0_conv2d_filters\": 16,<br>    \"layer_0_conv2d_fsize\": 4,<br>    \"layer_0_conv2d_ssize\": 9,<br>    \"activation_0\": \"relu\",<br>    \"pre_GAP_layer_fsize\": 5,<br>    \"pre_GAP_layer_act\": \"relu\",<br>    \"lr_inicial\": 0.001540830577368068<br>  }<br>}",
          "{<br>  \"number\": 368,<br>  \"values\": [<br>    0.800000011920929,<br>    4173.0<br>  ],<br>  \"params\": {<br>    \"batchsize\": 32,<br>    \"brightness_factor\": 0.14934450277791617,<br>    \"gaussian_noise_factor\": 0.018950407761437527,<br>    \"translate_factor\": 0.19931810026385602,<br>    \"num_layers\": 2,<br>    \"output_layer\": \"pooling\",<br>    \"layer_0\": \"Conv2D\",<br>    \"layer_0_conv2d_filters\": 4,<br>    \"layer_0_conv2d_fsize\": 4,<br>    \"layer_0_conv2d_ssize\": 6,<br>    \"activation_0\": \"relu\",<br>    \"layer_1\": \"Conv2D\",<br>    \"layer_1_conv2d_filters\": 16,<br>    \"layer_1_conv2d_fsize\": 3,<br>    \"layer_1_conv2d_ssize\": 3,<br>    \"activation_1\": \"relu\",<br>    \"pre_GAP_layer_fsize\": 3,<br>    \"pre_GAP_layer_act\": \"relu\",<br>    \"lr_inicial\": 0.0011883281575183675<br>  }<br>}",
          "{<br>  \"number\": 369,<br>  \"values\": [<br>    0.7400000095367432,<br>    4173.0<br>  ],<br>  \"params\": {<br>    \"batchsize\": 32,<br>    \"brightness_factor\": 0.14699863092227902,<br>    \"gaussian_noise_factor\": 0.01408521954224372,<br>    \"translate_factor\": 0.19894375802618527,<br>    \"num_layers\": 2,<br>    \"output_layer\": \"pooling\",<br>    \"layer_0\": \"Conv2D\",<br>    \"layer_0_conv2d_filters\": 4,<br>    \"layer_0_conv2d_fsize\": 4,<br>    \"layer_0_conv2d_ssize\": 7,<br>    \"activation_0\": \"relu\",<br>    \"layer_1\": \"Conv2D\",<br>    \"layer_1_conv2d_filters\": 16,<br>    \"layer_1_conv2d_fsize\": 3,<br>    \"layer_1_conv2d_ssize\": 2,<br>    \"activation_1\": \"relu\",<br>    \"pre_GAP_layer_fsize\": 3,<br>    \"pre_GAP_layer_act\": \"relu\",<br>    \"lr_inicial\": 0.001209220747826472<br>  }<br>}",
          "{<br>  \"number\": 370,<br>  \"values\": [<br>    0.7799999713897705,<br>    3229.0<br>  ],<br>  \"params\": {<br>    \"batchsize\": 32,<br>    \"brightness_factor\": 0.14656008757034533,<br>    \"gaussian_noise_factor\": 0.019176904376572174,<br>    \"translate_factor\": 0.19485431736595266,<br>    \"num_layers\": 2,<br>    \"output_layer\": \"pooling\",<br>    \"layer_0\": \"Conv2D\",<br>    \"layer_0_conv2d_filters\": 4,<br>    \"layer_0_conv2d_fsize\": 4,<br>    \"layer_0_conv2d_ssize\": 6,<br>    \"activation_0\": \"relu\",<br>    \"layer_1\": \"Conv2D\",<br>    \"layer_1_conv2d_filters\": 12,<br>    \"layer_1_conv2d_fsize\": 3,<br>    \"layer_1_conv2d_ssize\": 3,<br>    \"activation_1\": \"relu\",<br>    \"pre_GAP_layer_fsize\": 3,<br>    \"pre_GAP_layer_act\": \"relu\",<br>    \"lr_inicial\": 0.0012307449374674652<br>  }<br>}",
          "{<br>  \"number\": 371,<br>  \"values\": [<br>    0.47999998927116394,<br>    4173.0<br>  ],<br>  \"params\": {<br>    \"batchsize\": 32,<br>    \"brightness_factor\": 0.1452901432607257,<br>    \"gaussian_noise_factor\": 0.01840418011420146,<br>    \"translate_factor\": 0.19628390883096303,<br>    \"num_layers\": 2,<br>    \"output_layer\": \"pooling\",<br>    \"layer_0\": \"Conv2D\",<br>    \"layer_0_conv2d_filters\": 4,<br>    \"layer_0_conv2d_fsize\": 4,<br>    \"layer_0_conv2d_ssize\": 6,<br>    \"activation_0\": \"relu\",<br>    \"layer_1\": \"Conv2D\",<br>    \"layer_1_conv2d_filters\": 16,<br>    \"layer_1_conv2d_fsize\": 3,<br>    \"layer_1_conv2d_ssize\": 3,<br>    \"activation_1\": \"relu\",<br>    \"pre_GAP_layer_fsize\": 3,<br>    \"pre_GAP_layer_act\": \"relu\",<br>    \"lr_inicial\": 0.0012047090989254353<br>  }<br>}",
          "{<br>  \"number\": 372,<br>  \"values\": [<br>    0.699999988079071,<br>    4173.0<br>  ],<br>  \"params\": {<br>    \"batchsize\": 32,<br>    \"brightness_factor\": 0.14801560176112774,<br>    \"gaussian_noise_factor\": 0.021366899600587432,<br>    \"translate_factor\": 0.19242250341241962,<br>    \"num_layers\": 2,<br>    \"output_layer\": \"pooling\",<br>    \"layer_0\": \"Conv2D\",<br>    \"layer_0_conv2d_filters\": 4,<br>    \"layer_0_conv2d_fsize\": 4,<br>    \"layer_0_conv2d_ssize\": 6,<br>    \"activation_0\": \"relu\",<br>    \"layer_1\": \"Conv2D\",<br>    \"layer_1_conv2d_filters\": 16,<br>    \"layer_1_conv2d_fsize\": 3,<br>    \"layer_1_conv2d_ssize\": 3,<br>    \"activation_1\": \"relu\",<br>    \"pre_GAP_layer_fsize\": 3,<br>    \"pre_GAP_layer_act\": \"relu\",<br>    \"lr_inicial\": 0.0011403359900417332<br>  }<br>}",
          "{<br>  \"number\": 373,<br>  \"values\": [<br>    0.7400000095367432,<br>    3229.0<br>  ],<br>  \"params\": {<br>    \"batchsize\": 32,<br>    \"brightness_factor\": 0.1493506256699376,<br>    \"gaussian_noise_factor\": 0.019231326793934456,<br>    \"translate_factor\": 0.19932580142288175,<br>    \"num_layers\": 2,<br>    \"output_layer\": \"pooling\",<br>    \"layer_0\": \"Conv2D\",<br>    \"layer_0_conv2d_filters\": 4,<br>    \"layer_0_conv2d_fsize\": 4,<br>    \"layer_0_conv2d_ssize\": 6,<br>    \"activation_0\": \"relu\",<br>    \"layer_1\": \"Conv2D\",<br>    \"layer_1_conv2d_filters\": 12,<br>    \"layer_1_conv2d_fsize\": 3,<br>    \"layer_1_conv2d_ssize\": 3,<br>    \"activation_1\": \"relu\",<br>    \"pre_GAP_layer_fsize\": 3,<br>    \"pre_GAP_layer_act\": \"relu\",<br>    \"lr_inicial\": 0.0010766299382215933<br>  }<br>}",
          "{<br>  \"number\": 374,<br>  \"values\": [<br>    0.5600000023841858,<br>    4173.0<br>  ],<br>  \"params\": {<br>    \"batchsize\": 32,<br>    \"brightness_factor\": 0.1475303550522779,<br>    \"gaussian_noise_factor\": 0.015457040655417975,<br>    \"translate_factor\": 0.19616801355295294,<br>    \"num_layers\": 2,<br>    \"output_layer\": \"pooling\",<br>    \"layer_0\": \"Conv2D\",<br>    \"layer_0_conv2d_filters\": 4,<br>    \"layer_0_conv2d_fsize\": 4,<br>    \"layer_0_conv2d_ssize\": 6,<br>    \"activation_0\": \"relu\",<br>    \"layer_1\": \"Conv2D\",<br>    \"layer_1_conv2d_filters\": 16,<br>    \"layer_1_conv2d_fsize\": 3,<br>    \"layer_1_conv2d_ssize\": 2,<br>    \"activation_1\": \"relu\",<br>    \"pre_GAP_layer_fsize\": 3,<br>    \"pre_GAP_layer_act\": \"relu\",<br>    \"lr_inicial\": 0.0011692802473859925<br>  }<br>}",
          "{<br>  \"number\": 375,<br>  \"values\": [<br>    0.5600000023841858,<br>    4173.0<br>  ],<br>  \"params\": {<br>    \"batchsize\": 32,<br>    \"brightness_factor\": 0.15085731648379103,<br>    \"gaussian_noise_factor\": 0.013883311956285138,<br>    \"translate_factor\": 0.19946618688801196,<br>    \"num_layers\": 2,<br>    \"output_layer\": \"pooling\",<br>    \"layer_0\": \"Conv2D\",<br>    \"layer_0_conv2d_filters\": 4,<br>    \"layer_0_conv2d_fsize\": 4,<br>    \"layer_0_conv2d_ssize\": 6,<br>    \"activation_0\": \"relu\",<br>    \"layer_1\": \"Conv2D\",<br>    \"layer_1_conv2d_filters\": 16,<br>    \"layer_1_conv2d_fsize\": 3,<br>    \"layer_1_conv2d_ssize\": 3,<br>    \"activation_1\": \"relu\",<br>    \"pre_GAP_layer_fsize\": 3,<br>    \"pre_GAP_layer_act\": \"relu\",<br>    \"lr_inicial\": 0.0012513751061259844<br>  }<br>}",
          "{<br>  \"number\": 376,<br>  \"values\": [<br>    0.5799999833106995,<br>    5117.0<br>  ],<br>  \"params\": {<br>    \"batchsize\": 32,<br>    \"brightness_factor\": 0.14435909587427695,<br>    \"gaussian_noise_factor\": 0.022734663339774544,<br>    \"translate_factor\": 0.19623810618240334,<br>    \"num_layers\": 2,<br>    \"output_layer\": \"pooling\",<br>    \"layer_0\": \"Conv2D\",<br>    \"layer_0_conv2d_filters\": 4,<br>    \"layer_0_conv2d_fsize\": 4,<br>    \"layer_0_conv2d_ssize\": 6,<br>    \"activation_0\": \"relu\",<br>    \"layer_1\": \"Conv2D\",<br>    \"layer_1_conv2d_filters\": 20,<br>    \"layer_1_conv2d_fsize\": 3,<br>    \"layer_1_conv2d_ssize\": 3,<br>    \"activation_1\": \"relu\",<br>    \"pre_GAP_layer_fsize\": 3,<br>    \"pre_GAP_layer_act\": \"relu\",<br>    \"lr_inicial\": 0.001264711789700204<br>  }<br>}",
          "{<br>  \"number\": 377,<br>  \"values\": [<br>    0.5600000023841858,<br>    4173.0<br>  ],<br>  \"params\": {<br>    \"batchsize\": 32,<br>    \"brightness_factor\": 0.14630213435622108,<br>    \"gaussian_noise_factor\": 0.006931809241231018,<br>    \"translate_factor\": 0.18958932072136112,<br>    \"num_layers\": 2,<br>    \"output_layer\": \"pooling\",<br>    \"layer_0\": \"Conv2D\",<br>    \"layer_0_conv2d_filters\": 4,<br>    \"layer_0_conv2d_fsize\": 4,<br>    \"layer_0_conv2d_ssize\": 6,<br>    \"activation_0\": \"relu\",<br>    \"layer_1\": \"Conv2D\",<br>    \"layer_1_conv2d_filters\": 16,<br>    \"layer_1_conv2d_fsize\": 3,<br>    \"layer_1_conv2d_ssize\": 3,<br>    \"activation_1\": \"relu\",<br>    \"pre_GAP_layer_fsize\": 3,<br>    \"pre_GAP_layer_act\": \"relu\",<br>    \"lr_inicial\": 0.001353112221250598<br>  }<br>}",
          "{<br>  \"number\": 378,<br>  \"values\": [<br>    0.7799999713897705,<br>    3229.0<br>  ],<br>  \"params\": {<br>    \"batchsize\": 32,<br>    \"brightness_factor\": 0.1512115292405993,<br>    \"gaussian_noise_factor\": 0.0102175033168274,<br>    \"translate_factor\": 0.19218143136090643,<br>    \"num_layers\": 2,<br>    \"output_layer\": \"pooling\",<br>    \"layer_0\": \"Conv2D\",<br>    \"layer_0_conv2d_filters\": 4,<br>    \"layer_0_conv2d_fsize\": 4,<br>    \"layer_0_conv2d_ssize\": 6,<br>    \"activation_0\": \"relu\",<br>    \"layer_1\": \"Conv2D\",<br>    \"layer_1_conv2d_filters\": 12,<br>    \"layer_1_conv2d_fsize\": 3,<br>    \"layer_1_conv2d_ssize\": 3,<br>    \"activation_1\": \"relu\",<br>    \"pre_GAP_layer_fsize\": 3,<br>    \"pre_GAP_layer_act\": \"relu\",<br>    \"lr_inicial\": 0.0011740887496927716<br>  }<br>}",
          "{<br>  \"number\": 379,<br>  \"values\": [<br>    0.7599999904632568,<br>    4173.0<br>  ],<br>  \"params\": {<br>    \"batchsize\": 32,<br>    \"brightness_factor\": 0.18386069860620094,<br>    \"gaussian_noise_factor\": 0.017363761649952545,<br>    \"translate_factor\": 0.19986421569264728,<br>    \"num_layers\": 2,<br>    \"output_layer\": \"pooling\",<br>    \"layer_0\": \"Conv2D\",<br>    \"layer_0_conv2d_filters\": 4,<br>    \"layer_0_conv2d_fsize\": 4,<br>    \"layer_0_conv2d_ssize\": 6,<br>    \"activation_0\": \"relu\",<br>    \"layer_1\": \"Conv2D\",<br>    \"layer_1_conv2d_filters\": 16,<br>    \"layer_1_conv2d_fsize\": 3,<br>    \"layer_1_conv2d_ssize\": 3,<br>    \"activation_1\": \"relu\",<br>    \"pre_GAP_layer_fsize\": 3,<br>    \"pre_GAP_layer_act\": \"relu\",<br>    \"lr_inicial\": 0.0010891119289716158<br>  }<br>}",
          "{<br>  \"number\": 380,<br>  \"values\": [<br>    0.5600000023841858,<br>    5117.0<br>  ],<br>  \"params\": {<br>    \"batchsize\": 32,<br>    \"brightness_factor\": 0.15288473609819994,<br>    \"gaussian_noise_factor\": 0.019409085661854678,<br>    \"translate_factor\": 0.19401517945903532,<br>    \"num_layers\": 2,<br>    \"output_layer\": \"pooling\",<br>    \"layer_0\": \"Conv2D\",<br>    \"layer_0_conv2d_filters\": 4,<br>    \"layer_0_conv2d_fsize\": 4,<br>    \"layer_0_conv2d_ssize\": 6,<br>    \"activation_0\": \"relu\",<br>    \"layer_1\": \"Conv2D\",<br>    \"layer_1_conv2d_filters\": 20,<br>    \"layer_1_conv2d_fsize\": 3,<br>    \"layer_1_conv2d_ssize\": 2,<br>    \"activation_1\": \"relu\",<br>    \"pre_GAP_layer_fsize\": 3,<br>    \"pre_GAP_layer_act\": \"relu\",<br>    \"lr_inicial\": 0.001102309670704287<br>  }<br>}",
          "{<br>  \"number\": 381,<br>  \"values\": [<br>    0.8600000143051147,<br>    3229.0<br>  ],<br>  \"params\": {<br>    \"batchsize\": 32,<br>    \"brightness_factor\": 0.14377074482136243,<br>    \"gaussian_noise_factor\": 0.022674118010406863,<br>    \"translate_factor\": 0.18866353832447313,<br>    \"num_layers\": 2,<br>    \"output_layer\": \"pooling\",<br>    \"layer_0\": \"Conv2D\",<br>    \"layer_0_conv2d_filters\": 4,<br>    \"layer_0_conv2d_fsize\": 4,<br>    \"layer_0_conv2d_ssize\": 6,<br>    \"activation_0\": \"relu\",<br>    \"layer_1\": \"Conv2D\",<br>    \"layer_1_conv2d_filters\": 12,<br>    \"layer_1_conv2d_fsize\": 3,<br>    \"layer_1_conv2d_ssize\": 4,<br>    \"activation_1\": \"relu\",<br>    \"pre_GAP_layer_fsize\": 3,<br>    \"pre_GAP_layer_act\": \"relu\",<br>    \"lr_inicial\": 0.0012885071424590736<br>  }<br>}",
          "{<br>  \"number\": 382,<br>  \"values\": [<br>    0.7200000286102295,<br>    21917.0<br>  ],<br>  \"params\": {<br>    \"batchsize\": 64,<br>    \"brightness_factor\": 0.14182705853810515,<br>    \"gaussian_noise_factor\": 0.02734278382995957,<br>    \"translate_factor\": 0.18538557071146952,<br>    \"num_layers\": 3,<br>    \"output_layer\": \"pooling\",<br>    \"layer_0\": \"Pointwise2D\",<br>    \"layer_0_pwconv2d_filters\": 12,<br>    \"layer_0_pwconv2d_ssize\": 3,<br>    \"activation_0\": \"relu\",<br>    \"layer_1\": \"Conv2D\",<br>    \"layer_1_conv2d_filters\": 12,<br>    \"layer_1_conv2d_fsize\": 4,<br>    \"layer_1_conv2d_ssize\": 4,<br>    \"activation_1\": \"relu\",<br>    \"layer_2\": \"Conv2D\",<br>    \"layer_2_conv2d_filters\": 24,<br>    \"layer_2_conv2d_fsize\": 3,<br>    \"layer_2_conv2d_ssize\": 3,<br>    \"activation_2\": \"tanh\",<br>    \"pre_GAP_layer_fsize\": 3,<br>    \"pre_GAP_layer_act\": \"relu\",<br>    \"lr_inicial\": 0.0013163405949903392<br>  }<br>}",
          "{<br>  \"number\": 383,<br>  \"values\": [<br>    0.6000000238418579,<br>    11093.0<br>  ],<br>  \"params\": {<br>    \"batchsize\": 64,<br>    \"brightness_factor\": 0.14113795868192153,<br>    \"gaussian_noise_factor\": 0.02461330144812747,<br>    \"translate_factor\": 0.18359647631811143,<br>    \"num_layers\": 3,<br>    \"output_layer\": \"pooling\",<br>    \"layer_0\": \"Pointwise2D\",<br>    \"layer_0_pwconv2d_filters\": 24,<br>    \"layer_0_pwconv2d_ssize\": 2,<br>    \"activation_0\": \"relu\",<br>    \"layer_1\": \"Conv2D\",<br>    \"layer_1_conv2d_filters\": 8,<br>    \"layer_1_conv2d_fsize\": 3,<br>    \"layer_1_conv2d_ssize\": 4,<br>    \"activation_1\": \"relu\",<br>    \"layer_2\": \"Pointwise2D\",<br>    \"layer_2_pwconv2d_filters\": 32,<br>    \"layer_2_pwconv2d_ssize\": 5,<br>    \"activation_2\": \"linear\",<br>    \"pre_GAP_layer_fsize\": 3,<br>    \"pre_GAP_layer_act\": \"relu\",<br>    \"lr_inicial\": 0.0012893733648907065<br>  }<br>}",
          "{<br>  \"number\": 384,<br>  \"values\": [<br>    0.5799999833106995,<br>    7205.0<br>  ],<br>  \"params\": {<br>    \"batchsize\": 64,<br>    \"brightness_factor\": 0.13988905704162177,<br>    \"gaussian_noise_factor\": 0.025103227534639613,<br>    \"translate_factor\": 0.1806220286875025,<br>    \"num_layers\": 2,<br>    \"output_layer\": \"pooling\",<br>    \"layer_0\": \"Pointwise2D\",<br>    \"layer_0_pwconv2d_filters\": 8,<br>    \"layer_0_pwconv2d_ssize\": 7,<br>    \"activation_0\": \"relu\",<br>    \"layer_1\": \"Conv2D\",<br>    \"layer_1_conv2d_filters\": 8,<br>    \"layer_1_conv2d_fsize\": 5,<br>    \"layer_1_conv2d_ssize\": 5,<br>    \"activation_1\": \"relu\",<br>    \"pre_GAP_layer_fsize\": 3,<br>    \"pre_GAP_layer_act\": \"relu\",<br>    \"lr_inicial\": 0.0012618188849864767<br>  }<br>}",
          "{<br>  \"number\": 385,<br>  \"values\": [<br>    0.6600000262260437,<br>    55453.0<br>  ],<br>  \"params\": {<br>    \"batchsize\": 64,<br>    \"brightness_factor\": 0.13302204192307818,<br>    \"gaussian_noise_factor\": 0.021592785252793456,<br>    \"translate_factor\": 0.18751635061175068,<br>    \"num_layers\": 3,<br>    \"output_layer\": \"pooling\",<br>    \"layer_0\": \"Pointwise2D\",<br>    \"layer_0_pwconv2d_filters\": 32,<br>    \"layer_0_pwconv2d_ssize\": 4,<br>    \"activation_0\": \"relu\",<br>    \"layer_1\": \"Conv2D\",<br>    \"layer_1_conv2d_filters\": 12,<br>    \"layer_1_conv2d_fsize\": 3,<br>    \"layer_1_conv2d_ssize\": 4,<br>    \"activation_1\": \"relu\",<br>    \"layer_2\": \"Conv2D\",<br>    \"layer_2_conv2d_filters\": 32,<br>    \"layer_2_conv2d_fsize\": 5,<br>    \"layer_2_conv2d_ssize\": 2,<br>    \"activation_2\": \"relu\",<br>    \"pre_GAP_layer_fsize\": 3,<br>    \"pre_GAP_layer_act\": \"relu\",<br>    \"lr_inicial\": 0.0013347642825634737<br>  }<br>}",
          "{<br>  \"number\": 386,<br>  \"values\": [<br>    0.699999988079071,<br>    3229.0<br>  ],<br>  \"params\": {<br>    \"batchsize\": 64,<br>    \"brightness_factor\": 0.14269067876571817,<br>    \"gaussian_noise_factor\": 0.026410882143121026,<br>    \"translate_factor\": 0.1876798856709591,<br>    \"num_layers\": 2,<br>    \"output_layer\": \"pooling\",<br>    \"layer_0\": \"Conv2D\",<br>    \"layer_0_conv2d_filters\": 4,<br>    \"layer_0_conv2d_fsize\": 4,<br>    \"layer_0_conv2d_ssize\": 7,<br>    \"activation_0\": \"relu\",<br>    \"layer_1\": \"Conv2D\",<br>    \"layer_1_conv2d_filters\": 12,<br>    \"layer_1_conv2d_fsize\": 3,<br>    \"layer_1_conv2d_ssize\": 5,<br>    \"activation_1\": \"linear\",<br>    \"pre_GAP_layer_fsize\": 3,<br>    \"pre_GAP_layer_act\": \"relu\",<br>    \"lr_inicial\": 0.0012942197798141018<br>  }<br>}",
          "{<br>  \"number\": 387,<br>  \"values\": [<br>    0.6600000262260437,<br>    15301.0<br>  ],<br>  \"params\": {<br>    \"batchsize\": 64,<br>    \"brightness_factor\": 0.1394226077292183,<br>    \"gaussian_noise_factor\": 0.022266129783865104,<br>    \"translate_factor\": 0.1824737105894202,<br>    \"num_layers\": 2,<br>    \"output_layer\": \"pooling\",<br>    \"layer_0\": \"Pointwise2D\",<br>    \"layer_0_pwconv2d_filters\": 28,<br>    \"layer_0_pwconv2d_ssize\": 5,<br>    \"activation_0\": \"relu\",<br>    \"layer_1\": \"Conv2D\",<br>    \"layer_1_conv2d_filters\": 8,<br>    \"layer_1_conv2d_fsize\": 4,<br>    \"layer_1_conv2d_ssize\": 4,<br>    \"activation_1\": \"relu\",<br>    \"pre_GAP_layer_fsize\": 3,<br>    \"pre_GAP_layer_act\": \"relu\",<br>    \"lr_inicial\": 0.001227877955848581<br>  }<br>}",
          "{<br>  \"number\": 388,<br>  \"values\": [<br>    0.7200000286102295,<br>    3229.0<br>  ],<br>  \"params\": {<br>    \"batchsize\": 64,<br>    \"brightness_factor\": 0.13787796913277106,<br>    \"gaussian_noise_factor\": 0.025551750459096703,<br>    \"translate_factor\": 0.1858199990086601,<br>    \"num_layers\": 2,<br>    \"output_layer\": \"pooling\",<br>    \"layer_0\": \"Conv2D\",<br>    \"layer_0_conv2d_filters\": 4,<br>    \"layer_0_conv2d_fsize\": 4,<br>    \"layer_0_conv2d_ssize\": 5,<br>    \"activation_0\": \"relu\",<br>    \"layer_1\": \"Conv2D\",<br>    \"layer_1_conv2d_filters\": 12,<br>    \"layer_1_conv2d_fsize\": 3,<br>    \"layer_1_conv2d_ssize\": 8,<br>    \"activation_1\": \"relu\",<br>    \"pre_GAP_layer_fsize\": 3,<br>    \"pre_GAP_layer_act\": \"relu\",<br>    \"lr_inicial\": 0.0013664095550782818<br>  }<br>}",
          "{<br>  \"number\": 389,<br>  \"values\": [<br>    0.7400000095367432,<br>    25885.0<br>  ],<br>  \"params\": {<br>    \"batchsize\": 96,<br>    \"brightness_factor\": 0.14358375786310873,<br>    \"gaussian_noise_factor\": 0.020943476860960753,<br>    \"translate_factor\": 0.18897395431426842,<br>    \"num_layers\": 2,<br>    \"output_layer\": \"pooling\",<br>    \"layer_0\": \"Conv2D\",<br>    \"layer_0_conv2d_filters\": 28,<br>    \"layer_0_conv2d_fsize\": 4,<br>    \"layer_0_conv2d_ssize\": 7,<br>    \"activation_0\": \"relu\",<br>    \"layer_1\": \"Conv2D\",<br>    \"layer_1_conv2d_filters\": 8,<br>    \"layer_1_conv2d_fsize\": 5,<br>    \"layer_1_conv2d_ssize\": 7,<br>    \"activation_1\": \"relu\",<br>    \"pre_GAP_layer_fsize\": 3,<br>    \"pre_GAP_layer_act\": \"relu\",<br>    \"lr_inicial\": 0.0012965984403788624<br>  }<br>}",
          "{<br>  \"number\": 390,<br>  \"values\": [<br>    0.699999988079071,<br>    6629.0<br>  ],<br>  \"params\": {<br>    \"batchsize\": 64,<br>    \"brightness_factor\": 0.1439547927425921,<br>    \"gaussian_noise_factor\": 0.018387059444610228,<br>    \"translate_factor\": 0.17823791377161063,<br>    \"num_layers\": 3,<br>    \"output_layer\": \"pooling\",<br>    \"layer_0\": \"Conv2D\",<br>    \"layer_0_conv2d_filters\": 4,<br>    \"layer_0_conv2d_fsize\": 4,<br>    \"layer_0_conv2d_ssize\": 2,<br>    \"activation_0\": \"relu\",<br>    \"layer_1\": \"Conv2D\",<br>    \"layer_1_conv2d_filters\": 12,<br>    \"layer_1_conv2d_fsize\": 3,<br>    \"layer_1_conv2d_ssize\": 4,<br>    \"activation_1\": \"relu\",<br>    \"layer_2\": \"Pointwise2D\",<br>    \"layer_2_pwconv2d_filters\": 32,<br>    \"layer_2_pwconv2d_ssize\": 2,<br>    \"activation_2\": \"tanh\",<br>    \"pre_GAP_layer_fsize\": 3,<br>    \"pre_GAP_layer_act\": \"relu\",<br>    \"lr_inicial\": 0.0012448944571817548<br>  }<br>}",
          "{<br>  \"number\": 391,<br>  \"values\": [<br>    0.6200000047683716,<br>    3229.0<br>  ],<br>  \"params\": {<br>    \"batchsize\": 96,<br>    \"brightness_factor\": 0.13341017343774172,<br>    \"gaussian_noise_factor\": 0.02054415448586091,<br>    \"translate_factor\": 0.1895449251248451,<br>    \"num_layers\": 2,<br>    \"output_layer\": \"pooling\",<br>    \"layer_0\": \"Conv2D\",<br>    \"layer_0_conv2d_filters\": 4,<br>    \"layer_0_conv2d_fsize\": 4,<br>    \"layer_0_conv2d_ssize\": 5,<br>    \"activation_0\": \"relu\",<br>    \"layer_1\": \"Conv2D\",<br>    \"layer_1_conv2d_filters\": 12,<br>    \"layer_1_conv2d_fsize\": 3,<br>    \"layer_1_conv2d_ssize\": 6,<br>    \"activation_1\": \"linear\",<br>    \"pre_GAP_layer_fsize\": 3,<br>    \"pre_GAP_layer_act\": \"relu\",<br>    \"lr_inicial\": 0.0013458085831327474<br>  }<br>}",
          "{<br>  \"number\": 392,<br>  \"values\": [<br>    0.5799999833106995,<br>    9061.0<br>  ],<br>  \"params\": {<br>    \"batchsize\": 64,<br>    \"brightness_factor\": 0.13787335314268373,<br>    \"gaussian_noise_factor\": 0.024108497170438427,<br>    \"translate_factor\": 0.1842136329734848,<br>    \"num_layers\": 2,<br>    \"output_layer\": \"pooling\",<br>    \"layer_0\": \"Pointwise2D\",<br>    \"layer_0_pwconv2d_filters\": 16,<br>    \"layer_0_pwconv2d_ssize\": 6,<br>    \"activation_0\": \"relu\",<br>    \"layer_1\": \"Conv2D\",<br>    \"layer_1_conv2d_filters\": 8,<br>    \"layer_1_conv2d_fsize\": 4,<br>    \"layer_1_conv2d_ssize\": 5,<br>    \"activation_1\": \"relu\",<br>    \"pre_GAP_layer_fsize\": 3,<br>    \"pre_GAP_layer_act\": \"relu\",<br>    \"lr_inicial\": 0.0012735175597051833<br>  }<br>}",
          "{<br>  \"number\": 393,<br>  \"values\": [<br>    0.6800000071525574,<br>    1341.0<br>  ],<br>  \"params\": {<br>    \"batchsize\": 64,<br>    \"brightness_factor\": 0.14136434322926902,<br>    \"gaussian_noise_factor\": 0.02698185356662606,<br>    \"translate_factor\": 0.1907511879215755,<br>    \"num_layers\": 2,<br>    \"output_layer\": \"pooling\",<br>    \"layer_0\": \"Conv2D\",<br>    \"layer_0_conv2d_filters\": 4,<br>    \"layer_0_conv2d_fsize\": 4,<br>    \"layer_0_conv2d_ssize\": 7,<br>    \"activation_0\": \"relu\",<br>    \"layer_1\": \"Conv2D\",<br>    \"layer_1_conv2d_filters\": 4,<br>    \"layer_1_conv2d_fsize\": 3,<br>    \"layer_1_conv2d_ssize\": 5,<br>    \"activation_1\": \"relu\",<br>    \"pre_GAP_layer_fsize\": 3,<br>    \"pre_GAP_layer_act\": \"relu\",<br>    \"lr_inicial\": 0.0012157379561618892<br>  }<br>}",
          "{<br>  \"number\": 394,<br>  \"values\": [<br>    0.6200000047683716,<br>    8117.0<br>  ],<br>  \"params\": {<br>    \"batchsize\": 128,<br>    \"brightness_factor\": 0.14149238379791088,<br>    \"gaussian_noise_factor\": 0.02641020193380761,<br>    \"translate_factor\": 0.19170844160361747,<br>    \"num_layers\": 2,<br>    \"output_layer\": \"pooling\",<br>    \"layer_0\": \"Conv2D\",<br>    \"layer_0_conv2d_filters\": 32,<br>    \"layer_0_conv2d_fsize\": 4,<br>    \"layer_0_conv2d_ssize\": 7,<br>    \"activation_0\": \"relu\",<br>    \"layer_1\": \"Conv2D\",<br>    \"layer_1_conv2d_filters\": 4,<br>    \"layer_1_conv2d_fsize\": 3,<br>    \"layer_1_conv2d_ssize\": 5,<br>    \"activation_1\": \"relu\",<br>    \"pre_GAP_layer_fsize\": 3,<br>    \"pre_GAP_layer_act\": \"relu\",<br>    \"lr_inicial\": 0.0012114584589751124<br>  }<br>}",
          "{<br>  \"number\": 395,<br>  \"values\": [<br>    0.6600000262260437,<br>    5349.0<br>  ],<br>  \"params\": {<br>    \"batchsize\": 32,<br>    \"brightness_factor\": 0.14484280651928216,<br>    \"gaussian_noise_factor\": 0.012662038661848257,<br>    \"translate_factor\": 0.18052748434218163,<br>    \"num_layers\": 2,<br>    \"output_layer\": \"pooling\",<br>    \"layer_0\": \"Conv2D\",<br>    \"layer_0_conv2d_filters\": 8,<br>    \"layer_0_conv2d_fsize\": 4,<br>    \"layer_0_conv2d_ssize\": 7,<br>    \"activation_0\": \"relu\",<br>    \"layer_1\": \"Conv2D\",<br>    \"layer_1_conv2d_filters\": 12,<br>    \"layer_1_conv2d_fsize\": 3,<br>    \"layer_1_conv2d_ssize\": 4,<br>    \"activation_1\": \"relu\",<br>    \"pre_GAP_layer_fsize\": 3,<br>    \"pre_GAP_layer_act\": \"relu\",<br>    \"lr_inicial\": 0.0013146817831360084<br>  }<br>}",
          "{<br>  \"number\": 396,<br>  \"values\": [<br>    0.7799999713897705,<br>    8661.0<br>  ],<br>  \"params\": {<br>    \"batchsize\": 32,<br>    \"brightness_factor\": 0.13029216800280852,<br>    \"gaussian_noise_factor\": 0.027148136391524857,<br>    \"translate_factor\": 0.1870800497822862,<br>    \"num_layers\": 3,<br>    \"output_layer\": \"pooling\",<br>    \"layer_0\": \"Conv2D\",<br>    \"layer_0_conv2d_filters\": 4,<br>    \"layer_0_conv2d_fsize\": 4,<br>    \"layer_0_conv2d_ssize\": 3,<br>    \"activation_0\": \"relu\",<br>    \"layer_1\": \"Conv2D\",<br>    \"layer_1_conv2d_filters\": 12,<br>    \"layer_1_conv2d_fsize\": 5,<br>    \"layer_1_conv2d_ssize\": 4,<br>    \"activation_1\": \"relu\",<br>    \"layer_2\": \"Conv2D\",<br>    \"layer_2_conv2d_filters\": 4,<br>    \"layer_2_conv2d_fsize\": 4,<br>    \"layer_2_conv2d_ssize\": 4,<br>    \"activation_2\": \"linear\",<br>    \"pre_GAP_layer_fsize\": 3,<br>    \"pre_GAP_layer_act\": \"relu\",<br>    \"lr_inicial\": 0.0013788458953257708<br>  }<br>}",
          "{<br>  \"number\": 397,<br>  \"values\": [<br>    0.6600000262260437,<br>    1925.0<br>  ],<br>  \"params\": {<br>    \"batchsize\": 32,<br>    \"brightness_factor\": 0.1465891658749274,<br>    \"gaussian_noise_factor\": 0.018091086782617512,<br>    \"translate_factor\": 0.1907046400800801,<br>    \"num_layers\": 2,<br>    \"output_layer\": \"pooling\",<br>    \"layer_0\": \"Pointwise2D\",<br>    \"layer_0_pwconv2d_filters\": 4,<br>    \"layer_0_pwconv2d_ssize\": 7,<br>    \"activation_0\": \"relu\",<br>    \"layer_1\": \"Conv2D\",<br>    \"layer_1_conv2d_filters\": 8,<br>    \"layer_1_conv2d_fsize\": 3,<br>    \"layer_1_conv2d_ssize\": 5,<br>    \"activation_1\": \"linear\",<br>    \"pre_GAP_layer_fsize\": 3,<br>    \"pre_GAP_layer_act\": \"relu\",<br>    \"lr_inicial\": 0.001260935733490192<br>  }<br>}",
          "{<br>  \"number\": 398,<br>  \"values\": [<br>    0.699999988079071,<br>    3229.0<br>  ],<br>  \"params\": {<br>    \"batchsize\": 32,<br>    \"brightness_factor\": 0.1359278205729464,<br>    \"gaussian_noise_factor\": 0.023023123842121677,<br>    \"translate_factor\": 0.1845488901376817,<br>    \"num_layers\": 2,<br>    \"output_layer\": \"pooling\",<br>    \"layer_0\": \"Conv2D\",<br>    \"layer_0_conv2d_filters\": 4,<br>    \"layer_0_conv2d_fsize\": 4,<br>    \"layer_0_conv2d_ssize\": 7,<br>    \"activation_0\": \"relu\",<br>    \"layer_1\": \"Conv2D\",<br>    \"layer_1_conv2d_filters\": 12,<br>    \"layer_1_conv2d_fsize\": 3,<br>    \"layer_1_conv2d_ssize\": 4,<br>    \"activation_1\": \"relu\",<br>    \"pre_GAP_layer_fsize\": 3,<br>    \"pre_GAP_layer_act\": \"relu\",<br>    \"lr_inicial\": 0.0013169743749072956<br>  }<br>}",
          "{<br>  \"number\": 399,<br>  \"values\": [<br>    0.5199999809265137,<br>    3181.0<br>  ],<br>  \"params\": {<br>    \"batchsize\": 32,<br>    \"brightness_factor\": 0.14003355384473884,<br>    \"gaussian_noise_factor\": 0.027634088009372705,<br>    \"translate_factor\": 0.18916413684386718,<br>    \"num_layers\": 2,<br>    \"output_layer\": \"pooling\",<br>    \"layer_0\": \"Conv2D\",<br>    \"layer_0_conv2d_filters\": 4,<br>    \"layer_0_conv2d_fsize\": 4,<br>    \"layer_0_conv2d_ssize\": 7,<br>    \"activation_0\": \"relu\",<br>    \"layer_1\": \"Conv2D\",<br>    \"layer_1_conv2d_filters\": 8,<br>    \"layer_1_conv2d_fsize\": 4,<br>    \"layer_1_conv2d_ssize\": 7,<br>    \"activation_1\": \"relu\",<br>    \"pre_GAP_layer_fsize\": 3,<br>    \"pre_GAP_layer_act\": \"relu\",<br>    \"lr_inicial\": 0.0011996632471474391<br>  }<br>}",
          "{<br>  \"number\": 400,<br>  \"values\": [<br>    0.6399999856948853,<br>    1341.0<br>  ],<br>  \"params\": {<br>    \"batchsize\": 32,<br>    \"brightness_factor\": 0.14399909533568647,<br>    \"gaussian_noise_factor\": 0.018006734336231532,<br>    \"translate_factor\": 0.17960000300239937,<br>    \"num_layers\": 2,<br>    \"output_layer\": \"pooling\",<br>    \"layer_0\": \"Conv2D\",<br>    \"layer_0_conv2d_filters\": 4,<br>    \"layer_0_conv2d_fsize\": 4,<br>    \"layer_0_conv2d_ssize\": 5,<br>    \"activation_0\": \"relu\",<br>    \"layer_1\": \"Conv2D\",<br>    \"layer_1_conv2d_filters\": 4,<br>    \"layer_1_conv2d_fsize\": 3,<br>    \"layer_1_conv2d_ssize\": 5,<br>    \"activation_1\": \"relu\",<br>    \"pre_GAP_layer_fsize\": 3,<br>    \"pre_GAP_layer_act\": \"relu\",<br>    \"lr_inicial\": 0.0012427377336497244<br>  }<br>}",
          "{<br>  \"number\": 401,<br>  \"values\": [<br>    0.6399999856948853,<br>    26989.0<br>  ],<br>  \"params\": {<br>    \"batchsize\": 32,<br>    \"brightness_factor\": 0.1413621994601348,<br>    \"gaussian_noise_factor\": 0.015124568468835076,<br>    \"translate_factor\": 0.19302529757038622,<br>    \"num_layers\": 3,<br>    \"output_layer\": \"pooling\",<br>    \"layer_0\": \"Pointwise2D\",<br>    \"layer_0_pwconv2d_filters\": 20,<br>    \"layer_0_pwconv2d_ssize\": 2,<br>    \"activation_0\": \"relu\",<br>    \"layer_1\": \"Conv2D\",<br>    \"layer_1_conv2d_filters\": 12,<br>    \"layer_1_conv2d_fsize\": 5,<br>    \"layer_1_conv2d_ssize\": 2,<br>    \"activation_1\": \"relu\",<br>    \"layer_2\": \"Pointwise2D\",<br>    \"layer_2_pwconv2d_filters\": 20,<br>    \"layer_2_pwconv2d_ssize\": 5,<br>    \"activation_2\": \"relu\",<br>    \"pre_GAP_layer_fsize\": 3,<br>    \"pre_GAP_layer_act\": \"relu\",<br>    \"lr_inicial\": 0.001366773552139274<br>  }<br>}",
          "{<br>  \"number\": 402,<br>  \"values\": [<br>    0.800000011920929,<br>    2285.0<br>  ],<br>  \"params\": {<br>    \"batchsize\": 32,<br>    \"brightness_factor\": 0.12690581800512418,<br>    \"gaussian_noise_factor\": 0.023077087798020746,<br>    \"translate_factor\": 0.18228356994120837,<br>    \"num_layers\": 2,<br>    \"output_layer\": \"pooling\",<br>    \"layer_0\": \"Conv2D\",<br>    \"layer_0_conv2d_filters\": 4,<br>    \"layer_0_conv2d_fsize\": 4,<br>    \"layer_0_conv2d_ssize\": 5,<br>    \"activation_0\": \"relu\",<br>    \"layer_1\": \"Conv2D\",<br>    \"layer_1_conv2d_filters\": 8,<br>    \"layer_1_conv2d_fsize\": 3,<br>    \"layer_1_conv2d_ssize\": 4,<br>    \"activation_1\": \"linear\",<br>    \"pre_GAP_layer_fsize\": 3,<br>    \"pre_GAP_layer_act\": \"relu\",<br>    \"lr_inicial\": 0.00130343966191959<br>  }<br>}",
          "{<br>  \"number\": 403,<br>  \"values\": [<br>    0.5799999833106995,<br>    2285.0<br>  ],<br>  \"params\": {<br>    \"batchsize\": 128,<br>    \"brightness_factor\": 0.1349088103778593,<br>    \"gaussian_noise_factor\": 0.023281076110655344,<br>    \"translate_factor\": 0.1835073682017171,<br>    \"num_layers\": 2,<br>    \"output_layer\": \"pooling\",<br>    \"layer_0\": \"Conv2D\",<br>    \"layer_0_conv2d_filters\": 4,<br>    \"layer_0_conv2d_fsize\": 4,<br>    \"layer_0_conv2d_ssize\": 5,<br>    \"activation_0\": \"relu\",<br>    \"layer_1\": \"Conv2D\",<br>    \"layer_1_conv2d_filters\": 8,<br>    \"layer_1_conv2d_fsize\": 3,<br>    \"layer_1_conv2d_ssize\": 4,<br>    \"activation_1\": \"linear\",<br>    \"pre_GAP_layer_fsize\": 3,<br>    \"pre_GAP_layer_act\": \"relu\",<br>    \"lr_inicial\": 0.0014049992307602738<br>  }<br>}",
          "{<br>  \"number\": 404,<br>  \"values\": [<br>    0.6000000238418579,<br>    4173.0<br>  ],<br>  \"params\": {<br>    \"batchsize\": 32,<br>    \"brightness_factor\": 0.12808672769397056,<br>    \"gaussian_noise_factor\": 0.030219245300051188,<br>    \"translate_factor\": 0.1766625441827519,<br>    \"num_layers\": 2,<br>    \"output_layer\": \"pooling\",<br>    \"layer_0\": \"Conv2D\",<br>    \"layer_0_conv2d_filters\": 4,<br>    \"layer_0_conv2d_fsize\": 4,<br>    \"layer_0_conv2d_ssize\": 5,<br>    \"activation_0\": \"relu\",<br>    \"layer_1\": \"Conv2D\",<br>    \"layer_1_conv2d_filters\": 16,<br>    \"layer_1_conv2d_fsize\": 3,<br>    \"layer_1_conv2d_ssize\": 4,<br>    \"activation_1\": \"linear\",<br>    \"pre_GAP_layer_fsize\": 3,<br>    \"pre_GAP_layer_act\": \"relu\",<br>    \"lr_inicial\": 0.0012971890711218088<br>  }<br>}",
          "{<br>  \"number\": 405,<br>  \"values\": [<br>    0.7599999904632568,<br>    5621.0<br>  ],<br>  \"params\": {<br>    \"batchsize\": 32,<br>    \"brightness_factor\": 0.1464126154156314,<br>    \"gaussian_noise_factor\": 0.02318197005972299,<br>    \"translate_factor\": 0.18737588774362543,<br>    \"num_layers\": 2,<br>    \"output_layer\": \"pooling\",<br>    \"layer_0\": \"Conv2D\",<br>    \"layer_0_conv2d_filters\": 8,<br>    \"layer_0_conv2d_fsize\": 4,<br>    \"layer_0_conv2d_ssize\": 5,<br>    \"activation_0\": \"relu\",<br>    \"layer_1\": \"Conv2D\",<br>    \"layer_1_conv2d_filters\": 8,<br>    \"layer_1_conv2d_fsize\": 4,<br>    \"layer_1_conv2d_ssize\": 4,<br>    \"activation_1\": \"linear\",<br>    \"pre_GAP_layer_fsize\": 3,<br>    \"pre_GAP_layer_act\": \"relu\",<br>    \"lr_inicial\": 0.001325450038102179<br>  }<br>}",
          "{<br>  \"number\": 406,<br>  \"values\": [<br>    0.5799999833106995,<br>    4173.0<br>  ],<br>  \"params\": {<br>    \"batchsize\": 32,<br>    \"brightness_factor\": 0.1362844133496111,<br>    \"gaussian_noise_factor\": 0.012264637603565354,<br>    \"translate_factor\": 0.18861764525193087,<br>    \"num_layers\": 2,<br>    \"output_layer\": \"pooling\",<br>    \"layer_0\": \"Conv2D\",<br>    \"layer_0_conv2d_filters\": 4,<br>    \"layer_0_conv2d_fsize\": 4,<br>    \"layer_0_conv2d_ssize\": 3,<br>    \"activation_0\": \"relu\",<br>    \"layer_1\": \"Conv2D\",<br>    \"layer_1_conv2d_filters\": 16,<br>    \"layer_1_conv2d_fsize\": 3,<br>    \"layer_1_conv2d_ssize\": 4,<br>    \"activation_1\": \"linear\",<br>    \"pre_GAP_layer_fsize\": 3,<br>    \"pre_GAP_layer_act\": \"relu\",<br>    \"lr_inicial\": 0.0012879049325361554<br>  }<br>}",
          "{<br>  \"number\": 407,<br>  \"values\": [<br>    0.41999998688697815,<br>    5269.0<br>  ],<br>  \"params\": {<br>    \"batchsize\": 32,<br>    \"brightness_factor\": 0.05884256427058521,<br>    \"gaussian_noise_factor\": 0.021338420259743345,<br>    \"translate_factor\": 0.1840715127597172,<br>    \"num_layers\": 1,<br>    \"output_layer\": \"pooling\",<br>    \"layer_0\": \"Conv2D\",<br>    \"layer_0_conv2d_filters\": 28,<br>    \"layer_0_conv2d_fsize\": 4,<br>    \"layer_0_conv2d_ssize\": 11,<br>    \"activation_0\": \"relu\",<br>    \"pre_GAP_layer_fsize\": 3,<br>    \"pre_GAP_layer_act\": \"relu\",<br>    \"lr_inicial\": 0.001371329110816867<br>  }<br>}",
          "{<br>  \"number\": 408,<br>  \"values\": [<br>    0.5400000214576721,<br>    12509.0<br>  ],<br>  \"params\": {<br>    \"batchsize\": 32,<br>    \"brightness_factor\": 0.14827565508401705,<br>    \"gaussian_noise_factor\": 0.02962459217037203,<br>    \"translate_factor\": 0.19312433436443333,<br>    \"num_layers\": 2,<br>    \"output_layer\": \"pooling\",<br>    \"layer_0\": \"Pointwise2D\",<br>    \"layer_0_pwconv2d_filters\": 24,<br>    \"layer_0_pwconv2d_ssize\": 4,<br>    \"activation_0\": \"relu\",<br>    \"layer_1\": \"Conv2D\",<br>    \"layer_1_conv2d_filters\": 12,<br>    \"layer_1_conv2d_fsize\": 3,<br>    \"layer_1_conv2d_ssize\": 4,<br>    \"activation_1\": \"relu\",<br>    \"pre_GAP_layer_fsize\": 4,<br>    \"pre_GAP_layer_act\": \"relu\",<br>    \"lr_inicial\": 0.0012621902520179797<br>  }<br>}",
          "{<br>  \"number\": 409,<br>  \"values\": [<br>    0.8999999761581421,<br>    17885.0<br>  ],<br>  \"params\": {<br>    \"batchsize\": 32,<br>    \"brightness_factor\": 0.13859793870563694,<br>    \"gaussian_noise_factor\": 0.025016838449202397,<br>    \"translate_factor\": 0.18180751742224266,<br>    \"num_layers\": 3,<br>    \"output_layer\": \"pooling\",<br>    \"layer_0\": \"Conv2D\",<br>    \"layer_0_conv2d_filters\": 4,<br>    \"layer_0_conv2d_fsize\": 4,<br>    \"layer_0_conv2d_ssize\": 3,<br>    \"activation_0\": \"relu\",<br>    \"layer_1\": \"Conv2D\",<br>    \"layer_1_conv2d_filters\": 8,<br>    \"layer_1_conv2d_fsize\": 5,<br>    \"layer_1_conv2d_ssize\": 4,<br>    \"activation_1\": \"relu\",<br>    \"layer_2\": \"Conv2D\",<br>    \"layer_2_conv2d_filters\": 16,<br>    \"layer_2_conv2d_fsize\": 5,<br>    \"layer_2_conv2d_ssize\": 2,<br>    \"activation_2\": \"tanh\",<br>    \"pre_GAP_layer_fsize\": 3,<br>    \"pre_GAP_layer_act\": \"relu\",<br>    \"lr_inicial\": 0.0011915209977390272<br>  }<br>}",
          "{<br>  \"number\": 410,<br>  \"values\": [<br>    0.7599999904632568,<br>    9877.0<br>  ],<br>  \"params\": {<br>    \"batchsize\": 32,<br>    \"brightness_factor\": 0.1267770314137508,<br>    \"gaussian_noise_factor\": 0.030183126872543695,<br>    \"translate_factor\": 0.18142238447393452,<br>    \"num_layers\": 3,<br>    \"output_layer\": \"pooling\",<br>    \"layer_0\": \"Conv2D\",<br>    \"layer_0_conv2d_filters\": 4,<br>    \"layer_0_conv2d_fsize\": 4,<br>    \"layer_0_conv2d_ssize\": 3,<br>    \"activation_0\": \"relu\",<br>    \"layer_1\": \"Conv2D\",<br>    \"layer_1_conv2d_filters\": 4,<br>    \"layer_1_conv2d_fsize\": 5,<br>    \"layer_1_conv2d_ssize\": 4,<br>    \"activation_1\": \"relu\",<br>    \"layer_2\": \"Conv2D\",<br>    \"layer_2_conv2d_filters\": 16,<br>    \"layer_2_conv2d_fsize\": 5,<br>    \"layer_2_conv2d_ssize\": 2,<br>    \"activation_2\": \"tanh\",<br>    \"pre_GAP_layer_fsize\": 3,<br>    \"pre_GAP_layer_act\": \"relu\",<br>    \"lr_inicial\": 0.0011799890219994268<br>  }<br>}",
          "{<br>  \"number\": 411,<br>  \"values\": [<br>    0.9200000166893005,<br>    25021.0<br>  ],<br>  \"params\": {<br>    \"batchsize\": 32,<br>    \"brightness_factor\": 0.1378586061477737,<br>    \"gaussian_noise_factor\": 0.024726885805500226,<br>    \"translate_factor\": 0.17567666802718032,<br>    \"num_layers\": 3,<br>    \"output_layer\": \"pooling\",<br>    \"layer_0\": \"Conv2D\",<br>    \"layer_0_conv2d_filters\": 4,<br>    \"layer_0_conv2d_fsize\": 4,<br>    \"layer_0_conv2d_ssize\": 3,<br>    \"activation_0\": \"relu\",<br>    \"layer_1\": \"Conv2D\",<br>    \"layer_1_conv2d_filters\": 8,<br>    \"layer_1_conv2d_fsize\": 5,<br>    \"layer_1_conv2d_ssize\": 4,<br>    \"activation_1\": \"relu\",<br>    \"layer_2\": \"Conv2D\",<br>    \"layer_2_conv2d_filters\": 24,<br>    \"layer_2_conv2d_fsize\": 5,<br>    \"layer_2_conv2d_ssize\": 2,<br>    \"activation_2\": \"tanh\",<br>    \"pre_GAP_layer_fsize\": 3,<br>    \"pre_GAP_layer_act\": \"relu\",<br>    \"lr_inicial\": 0.0012268869516335202<br>  }<br>}",
          "{<br>  \"number\": 412,<br>  \"values\": [<br>    0.800000011920929,<br>    25021.0<br>  ],<br>  \"params\": {<br>    \"batchsize\": 32,<br>    \"brightness_factor\": 0.13557898575017283,<br>    \"gaussian_noise_factor\": 0.025604795937670805,<br>    \"translate_factor\": 0.17135939107627696,<br>    \"num_layers\": 3,<br>    \"output_layer\": \"pooling\",<br>    \"layer_0\": \"Conv2D\",<br>    \"layer_0_conv2d_filters\": 4,<br>    \"layer_0_conv2d_fsize\": 4,<br>    \"layer_0_conv2d_ssize\": 3,<br>    \"activation_0\": \"relu\",<br>    \"layer_1\": \"Conv2D\",<br>    \"layer_1_conv2d_filters\": 8,<br>    \"layer_1_conv2d_fsize\": 5,<br>    \"layer_1_conv2d_ssize\": 4,<br>    \"activation_1\": \"relu\",<br>    \"layer_2\": \"Conv2D\",<br>    \"layer_2_conv2d_filters\": 24,<br>    \"layer_2_conv2d_fsize\": 5,<br>    \"layer_2_conv2d_ssize\": 2,<br>    \"activation_2\": \"tanh\",<br>    \"pre_GAP_layer_fsize\": 3,<br>    \"pre_GAP_layer_act\": \"relu\",<br>    \"lr_inicial\": 0.001196379243985803<br>  }<br>}",
          "{<br>  \"number\": 413,<br>  \"values\": [<br>    0.36000001430511475,<br>    17885.0<br>  ],<br>  \"params\": {<br>    \"batchsize\": 32,<br>    \"brightness_factor\": 0.13124274870508307,<br>    \"gaussian_noise_factor\": 0.016492743623095916,<br>    \"translate_factor\": 0.17476082312961977,<br>    \"num_layers\": 3,<br>    \"output_layer\": \"pooling\",<br>    \"layer_0\": \"Conv2D\",<br>    \"layer_0_conv2d_filters\": 4,<br>    \"layer_0_conv2d_fsize\": 4,<br>    \"layer_0_conv2d_ssize\": 3,<br>    \"activation_0\": \"relu\",<br>    \"layer_1\": \"Conv2D\",<br>    \"layer_1_conv2d_filters\": 8,<br>    \"layer_1_conv2d_fsize\": 5,<br>    \"layer_1_conv2d_ssize\": 4,<br>    \"activation_1\": \"relu\",<br>    \"layer_2\": \"Conv2D\",<br>    \"layer_2_conv2d_filters\": 16,<br>    \"layer_2_conv2d_fsize\": 5,<br>    \"layer_2_conv2d_ssize\": 2,<br>    \"activation_2\": \"tanh\",<br>    \"pre_GAP_layer_fsize\": 3,<br>    \"pre_GAP_layer_act\": \"relu\",<br>    \"lr_inicial\": 0.0011240690125359843<br>  }<br>}",
          "{<br>  \"number\": 414,<br>  \"values\": [<br>    0.8399999737739563,<br>    14317.0<br>  ],<br>  \"params\": {<br>    \"batchsize\": 32,<br>    \"brightness_factor\": 0.14110716440045418,<br>    \"gaussian_noise_factor\": 0.02268193379600336,<br>    \"translate_factor\": 0.18192192970701312,<br>    \"num_layers\": 3,<br>    \"output_layer\": \"pooling\",<br>    \"layer_0\": \"Conv2D\",<br>    \"layer_0_conv2d_filters\": 4,<br>    \"layer_0_conv2d_fsize\": 4,<br>    \"layer_0_conv2d_ssize\": 3,<br>    \"activation_0\": \"relu\",<br>    \"layer_1\": \"Conv2D\",<br>    \"layer_1_conv2d_filters\": 8,<br>    \"layer_1_conv2d_fsize\": 5,<br>    \"layer_1_conv2d_ssize\": 4,<br>    \"activation_1\": \"relu\",<br>    \"layer_2\": \"Conv2D\",<br>    \"layer_2_conv2d_filters\": 12,<br>    \"layer_2_conv2d_fsize\": 5,<br>    \"layer_2_conv2d_ssize\": 2,<br>    \"activation_2\": \"tanh\",<br>    \"pre_GAP_layer_fsize\": 3,<br>    \"pre_GAP_layer_act\": \"relu\",<br>    \"lr_inicial\": 0.0011566888911756156<br>  }<br>}",
          "{<br>  \"number\": 415,<br>  \"values\": [<br>    0.8399999737739563,<br>    3973.0<br>  ],<br>  \"params\": {<br>    \"batchsize\": 32,<br>    \"brightness_factor\": 0.18968167279887263,<br>    \"gaussian_noise_factor\": 0.032546677616085366,<br>    \"translate_factor\": 0.17839956308693128,<br>    \"num_layers\": 3,<br>    \"output_layer\": \"pooling\",<br>    \"layer_0\": \"Conv2D\",<br>    \"layer_0_conv2d_filters\": 4,<br>    \"layer_0_conv2d_fsize\": 4,<br>    \"layer_0_conv2d_ssize\": 3,<br>    \"activation_0\": \"relu\",<br>    \"layer_1\": \"Conv2D\",<br>    \"layer_1_conv2d_filters\": 4,<br>    \"layer_1_conv2d_fsize\": 5,<br>    \"layer_1_conv2d_ssize\": 4,<br>    \"activation_1\": \"relu\",<br>    \"layer_2\": \"Conv2D\",<br>    \"layer_2_conv2d_filters\": 4,<br>    \"layer_2_conv2d_fsize\": 5,<br>    \"layer_2_conv2d_ssize\": 3,<br>    \"activation_2\": \"tanh\",<br>    \"pre_GAP_layer_fsize\": 3,<br>    \"pre_GAP_layer_act\": \"relu\",<br>    \"lr_inicial\": 0.001269402529248775<br>  }<br>}",
          "{<br>  \"number\": 416,<br>  \"values\": [<br>    0.800000011920929,<br>    3973.0<br>  ],<br>  \"params\": {<br>    \"batchsize\": 32,<br>    \"brightness_factor\": 0.1231089906424607,<br>    \"gaussian_noise_factor\": 0.027766977371793684,<br>    \"translate_factor\": 0.17766711609180044,<br>    \"num_layers\": 3,<br>    \"output_layer\": \"pooling\",<br>    \"layer_0\": \"Conv2D\",<br>    \"layer_0_conv2d_filters\": 4,<br>    \"layer_0_conv2d_fsize\": 4,<br>    \"layer_0_conv2d_ssize\": 3,<br>    \"activation_0\": \"relu\",<br>    \"layer_1\": \"Conv2D\",<br>    \"layer_1_conv2d_filters\": 4,<br>    \"layer_1_conv2d_fsize\": 5,<br>    \"layer_1_conv2d_ssize\": 4,<br>    \"activation_1\": \"relu\",<br>    \"layer_2\": \"Conv2D\",<br>    \"layer_2_conv2d_filters\": 4,<br>    \"layer_2_conv2d_fsize\": 5,<br>    \"layer_2_conv2d_ssize\": 2,<br>    \"activation_2\": \"tanh\",<br>    \"pre_GAP_layer_fsize\": 3,<br>    \"pre_GAP_layer_act\": \"relu\",<br>    \"lr_inicial\": 0.001215036714277122<br>  }<br>}",
          "{<br>  \"number\": 417,<br>  \"values\": [<br>    0.8399999737739563,<br>    3973.0<br>  ],<br>  \"params\": {<br>    \"batchsize\": 32,<br>    \"brightness_factor\": 0.18817282252989648,<br>    \"gaussian_noise_factor\": 0.029342756832336066,<br>    \"translate_factor\": 0.18114257999243766,<br>    \"num_layers\": 3,<br>    \"output_layer\": \"pooling\",<br>    \"layer_0\": \"Conv2D\",<br>    \"layer_0_conv2d_filters\": 4,<br>    \"layer_0_conv2d_fsize\": 4,<br>    \"layer_0_conv2d_ssize\": 3,<br>    \"activation_0\": \"relu\",<br>    \"layer_1\": \"Conv2D\",<br>    \"layer_1_conv2d_filters\": 4,<br>    \"layer_1_conv2d_fsize\": 5,<br>    \"layer_1_conv2d_ssize\": 4,<br>    \"activation_1\": \"relu\",<br>    \"layer_2\": \"Conv2D\",<br>    \"layer_2_conv2d_filters\": 4,<br>    \"layer_2_conv2d_fsize\": 5,<br>    \"layer_2_conv2d_ssize\": 2,<br>    \"activation_2\": \"tanh\",<br>    \"pre_GAP_layer_fsize\": 3,<br>    \"pre_GAP_layer_act\": \"relu\",<br>    \"lr_inicial\": 0.0014606988176764234<br>  }<br>}",
          "{<br>  \"number\": 418,<br>  \"values\": [<br>    0.8399999737739563,<br>    5965.0<br>  ],<br>  \"params\": {<br>    \"batchsize\": 32,<br>    \"brightness_factor\": 0.1894518290899532,<br>    \"gaussian_noise_factor\": 0.02844778413091988,<br>    \"translate_factor\": 0.17688337563383133,<br>    \"num_layers\": 3,<br>    \"output_layer\": \"pooling\",<br>    \"layer_0\": \"Conv2D\",<br>    \"layer_0_conv2d_filters\": 8,<br>    \"layer_0_conv2d_fsize\": 4,<br>    \"layer_0_conv2d_ssize\": 3,<br>    \"activation_0\": \"relu\",<br>    \"layer_1\": \"Conv2D\",<br>    \"layer_1_conv2d_filters\": 4,<br>    \"layer_1_conv2d_fsize\": 5,<br>    \"layer_1_conv2d_ssize\": 4,<br>    \"activation_1\": \"relu\",<br>    \"layer_2\": \"Conv2D\",<br>    \"layer_2_conv2d_filters\": 4,<br>    \"layer_2_conv2d_fsize\": 5,<br>    \"layer_2_conv2d_ssize\": 2,<br>    \"activation_2\": \"tanh\",<br>    \"pre_GAP_layer_fsize\": 3,<br>    \"pre_GAP_layer_act\": \"relu\",<br>    \"lr_inicial\": 0.0014253643738161826<br>  }<br>}",
          "{<br>  \"number\": 419,<br>  \"values\": [<br>    0.8799999952316284,<br>    10749.0<br>  ],<br>  \"params\": {<br>    \"batchsize\": 32,<br>    \"brightness_factor\": 0.13289411877812865,<br>    \"gaussian_noise_factor\": 0.03301045311150644,<br>    \"translate_factor\": 0.17371724838532399,<br>    \"num_layers\": 3,<br>    \"output_layer\": \"pooling\",<br>    \"layer_0\": \"Conv2D\",<br>    \"layer_0_conv2d_filters\": 4,<br>    \"layer_0_conv2d_fsize\": 4,<br>    \"layer_0_conv2d_ssize\": 3,<br>    \"activation_0\": \"relu\",<br>    \"layer_1\": \"Conv2D\",<br>    \"layer_1_conv2d_filters\": 8,<br>    \"layer_1_conv2d_fsize\": 5,<br>    \"layer_1_conv2d_ssize\": 4,<br>    \"activation_1\": \"relu\",<br>    \"layer_2\": \"Conv2D\",<br>    \"layer_2_conv2d_filters\": 8,<br>    \"layer_2_conv2d_fsize\": 5,<br>    \"layer_2_conv2d_ssize\": 2,<br>    \"activation_2\": \"tanh\",<br>    \"pre_GAP_layer_fsize\": 3,<br>    \"pre_GAP_layer_act\": \"relu\",<br>    \"lr_inicial\": 0.0014418070490874<br>  }<br>}",
          "{<br>  \"number\": 420,<br>  \"values\": [<br>    0.800000011920929,<br>    10749.0<br>  ],<br>  \"params\": {<br>    \"batchsize\": 32,<br>    \"brightness_factor\": 0.12654126326829837,<br>    \"gaussian_noise_factor\": 0.033588241415623915,<br>    \"translate_factor\": 0.1715222378739752,<br>    \"num_layers\": 3,<br>    \"output_layer\": \"pooling\",<br>    \"layer_0\": \"Conv2D\",<br>    \"layer_0_conv2d_filters\": 4,<br>    \"layer_0_conv2d_fsize\": 4,<br>    \"layer_0_conv2d_ssize\": 3,<br>    \"activation_0\": \"relu\",<br>    \"layer_1\": \"Conv2D\",<br>    \"layer_1_conv2d_filters\": 8,<br>    \"layer_1_conv2d_fsize\": 5,<br>    \"layer_1_conv2d_ssize\": 4,<br>    \"activation_1\": \"relu\",<br>    \"layer_2\": \"Conv2D\",<br>    \"layer_2_conv2d_filters\": 8,<br>    \"layer_2_conv2d_fsize\": 5,<br>    \"layer_2_conv2d_ssize\": 2,<br>    \"activation_2\": \"tanh\",<br>    \"pre_GAP_layer_fsize\": 3,<br>    \"pre_GAP_layer_act\": \"relu\",<br>    \"lr_inicial\": 0.001449141822068615<br>  }<br>}",
          "{<br>  \"number\": 421,<br>  \"values\": [<br>    0.7799999713897705,<br>    7181.0<br>  ],<br>  \"params\": {<br>    \"batchsize\": 32,<br>    \"brightness_factor\": 0.12884097775496361,<br>    \"gaussian_noise_factor\": 0.032315000753233944,<br>    \"translate_factor\": 0.17326324441523025,<br>    \"num_layers\": 3,<br>    \"output_layer\": \"pooling\",<br>    \"layer_0\": \"Conv2D\",<br>    \"layer_0_conv2d_filters\": 4,<br>    \"layer_0_conv2d_fsize\": 4,<br>    \"layer_0_conv2d_ssize\": 3,<br>    \"activation_0\": \"relu\",<br>    \"layer_1\": \"Conv2D\",<br>    \"layer_1_conv2d_filters\": 8,<br>    \"layer_1_conv2d_fsize\": 5,<br>    \"layer_1_conv2d_ssize\": 4,<br>    \"activation_1\": \"relu\",<br>    \"layer_2\": \"Conv2D\",<br>    \"layer_2_conv2d_filters\": 4,<br>    \"layer_2_conv2d_fsize\": 5,<br>    \"layer_2_conv2d_ssize\": 2,<br>    \"activation_2\": \"tanh\",<br>    \"pre_GAP_layer_fsize\": 3,<br>    \"pre_GAP_layer_act\": \"relu\",<br>    \"lr_inicial\": 0.0014750961256377653<br>  }<br>}",
          "{<br>  \"number\": 422,<br>  \"values\": [<br>    0.7599999904632568,<br>    7909.0<br>  ],<br>  \"params\": {<br>    \"batchsize\": 32,<br>    \"brightness_factor\": 0.1321567554657751,<br>    \"gaussian_noise_factor\": 0.03334447158519508,<br>    \"translate_factor\": 0.17532367173903604,<br>    \"num_layers\": 3,<br>    \"output_layer\": \"pooling\",<br>    \"layer_0\": \"Conv2D\",<br>    \"layer_0_conv2d_filters\": 4,<br>    \"layer_0_conv2d_fsize\": 4,<br>    \"layer_0_conv2d_ssize\": 3,<br>    \"activation_0\": \"relu\",<br>    \"layer_1\": \"Conv2D\",<br>    \"layer_1_conv2d_filters\": 4,<br>    \"layer_1_conv2d_fsize\": 5,<br>    \"layer_1_conv2d_ssize\": 4,<br>    \"activation_1\": \"relu\",<br>    \"layer_2\": \"Conv2D\",<br>    \"layer_2_conv2d_filters\": 12,<br>    \"layer_2_conv2d_fsize\": 5,<br>    \"layer_2_conv2d_ssize\": 3,<br>    \"activation_2\": \"tanh\",<br>    \"pre_GAP_layer_fsize\": 3,<br>    \"pre_GAP_layer_act\": \"relu\",<br>    \"lr_inicial\": 0.001418095184261373<br>  }<br>}",
          "{<br>  \"number\": 423,<br>  \"values\": [<br>    0.8199999928474426,<br>    10749.0<br>  ],<br>  \"params\": {<br>    \"batchsize\": 32,<br>    \"brightness_factor\": 0.1307073016980021,<br>    \"gaussian_noise_factor\": 0.032840500586025806,<br>    \"translate_factor\": 0.1751021159779627,<br>    \"num_layers\": 3,<br>    \"output_layer\": \"pooling\",<br>    \"layer_0\": \"Conv2D\",<br>    \"layer_0_conv2d_filters\": 4,<br>    \"layer_0_conv2d_fsize\": 4,<br>    \"layer_0_conv2d_ssize\": 3,<br>    \"activation_0\": \"relu\",<br>    \"layer_1\": \"Conv2D\",<br>    \"layer_1_conv2d_filters\": 8,<br>    \"layer_1_conv2d_fsize\": 5,<br>    \"layer_1_conv2d_ssize\": 4,<br>    \"activation_1\": \"relu\",<br>    \"layer_2\": \"Conv2D\",<br>    \"layer_2_conv2d_filters\": 8,<br>    \"layer_2_conv2d_fsize\": 5,<br>    \"layer_2_conv2d_ssize\": 2,<br>    \"activation_2\": \"tanh\",<br>    \"pre_GAP_layer_fsize\": 3,<br>    \"pre_GAP_layer_act\": \"relu\",<br>    \"lr_inicial\": 0.0014551976596607905<br>  }<br>}",
          "{<br>  \"number\": 424,<br>  \"values\": [<br>    0.8199999928474426,<br>    17885.0<br>  ],<br>  \"params\": {<br>    \"batchsize\": 32,<br>    \"brightness_factor\": 0.12140191944208341,<br>    \"gaussian_noise_factor\": 0.0304310128304739,<br>    \"translate_factor\": 0.16891524695965546,<br>    \"num_layers\": 3,<br>    \"output_layer\": \"pooling\",<br>    \"layer_0\": \"Conv2D\",<br>    \"layer_0_conv2d_filters\": 4,<br>    \"layer_0_conv2d_fsize\": 4,<br>    \"layer_0_conv2d_ssize\": 3,<br>    \"activation_0\": \"relu\",<br>    \"layer_1\": \"Conv2D\",<br>    \"layer_1_conv2d_filters\": 8,<br>    \"layer_1_conv2d_fsize\": 5,<br>    \"layer_1_conv2d_ssize\": 4,<br>    \"activation_1\": \"relu\",<br>    \"layer_2\": \"Conv2D\",<br>    \"layer_2_conv2d_filters\": 16,<br>    \"layer_2_conv2d_fsize\": 5,<br>    \"layer_2_conv2d_ssize\": 3,<br>    \"activation_2\": \"tanh\",<br>    \"pre_GAP_layer_fsize\": 3,<br>    \"pre_GAP_layer_act\": \"relu\",<br>    \"lr_inicial\": 0.0014218097427804392<br>  }<br>}",
          "{<br>  \"number\": 425,<br>  \"values\": [<br>    0.7799999713897705,<br>    3973.0<br>  ],<br>  \"params\": {<br>    \"batchsize\": 32,<br>    \"brightness_factor\": 0.13325133729153238,<br>    \"gaussian_noise_factor\": 0.034629853552141245,<br>    \"translate_factor\": 0.1633056150235358,<br>    \"num_layers\": 3,<br>    \"output_layer\": \"pooling\",<br>    \"layer_0\": \"Conv2D\",<br>    \"layer_0_conv2d_filters\": 4,<br>    \"layer_0_conv2d_fsize\": 4,<br>    \"layer_0_conv2d_ssize\": 3,<br>    \"activation_0\": \"relu\",<br>    \"layer_1\": \"Conv2D\",<br>    \"layer_1_conv2d_filters\": 4,<br>    \"layer_1_conv2d_fsize\": 5,<br>    \"layer_1_conv2d_ssize\": 4,<br>    \"activation_1\": \"relu\",<br>    \"layer_2\": \"Conv2D\",<br>    \"layer_2_conv2d_filters\": 4,<br>    \"layer_2_conv2d_fsize\": 5,<br>    \"layer_2_conv2d_ssize\": 2,<br>    \"activation_2\": \"tanh\",<br>    \"pre_GAP_layer_fsize\": 3,<br>    \"pre_GAP_layer_act\": \"relu\",<br>    \"lr_inicial\": 0.001508249931086195<br>  }<br>}",
          "{<br>  \"number\": 426,<br>  \"values\": [<br>    0.8600000143051147,<br>    14317.0<br>  ],<br>  \"params\": {<br>    \"batchsize\": 32,<br>    \"brightness_factor\": 0.12508916719423332,<br>    \"gaussian_noise_factor\": 0.027592976693821977,<br>    \"translate_factor\": 0.17968059123620925,<br>    \"num_layers\": 3,<br>    \"output_layer\": \"pooling\",<br>    \"layer_0\": \"Conv2D\",<br>    \"layer_0_conv2d_filters\": 4,<br>    \"layer_0_conv2d_fsize\": 4,<br>    \"layer_0_conv2d_ssize\": 3,<br>    \"activation_0\": \"relu\",<br>    \"layer_1\": \"Conv2D\",<br>    \"layer_1_conv2d_filters\": 8,<br>    \"layer_1_conv2d_fsize\": 5,<br>    \"layer_1_conv2d_ssize\": 4,<br>    \"activation_1\": \"relu\",<br>    \"layer_2\": \"Conv2D\",<br>    \"layer_2_conv2d_filters\": 12,<br>    \"layer_2_conv2d_fsize\": 5,<br>    \"layer_2_conv2d_ssize\": 2,<br>    \"activation_2\": \"tanh\",<br>    \"pre_GAP_layer_fsize\": 3,<br>    \"pre_GAP_layer_act\": \"relu\",<br>    \"lr_inicial\": 0.0013948187296299105<br>  }<br>}",
          "{<br>  \"number\": 427,<br>  \"values\": [<br>    0.7400000095367432,<br>    10749.0<br>  ],<br>  \"params\": {<br>    \"batchsize\": 32,<br>    \"brightness_factor\": 0.13090257310746495,<br>    \"gaussian_noise_factor\": 0.029972230815291812,<br>    \"translate_factor\": 0.16994325809825175,<br>    \"num_layers\": 3,<br>    \"output_layer\": \"pooling\",<br>    \"layer_0\": \"Conv2D\",<br>    \"layer_0_conv2d_filters\": 4,<br>    \"layer_0_conv2d_fsize\": 4,<br>    \"layer_0_conv2d_ssize\": 3,<br>    \"activation_0\": \"relu\",<br>    \"layer_1\": \"Conv2D\",<br>    \"layer_1_conv2d_filters\": 8,<br>    \"layer_1_conv2d_fsize\": 5,<br>    \"layer_1_conv2d_ssize\": 4,<br>    \"activation_1\": \"relu\",<br>    \"layer_2\": \"Conv2D\",<br>    \"layer_2_conv2d_filters\": 8,<br>    \"layer_2_conv2d_fsize\": 5,<br>    \"layer_2_conv2d_ssize\": 2,<br>    \"activation_2\": \"tanh\",<br>    \"pre_GAP_layer_fsize\": 3,<br>    \"pre_GAP_layer_act\": \"relu\",<br>    \"lr_inicial\": 0.001408658991663966<br>  }<br>}",
          "{<br>  \"number\": 428,<br>  \"values\": [<br>    0.8399999737739563,<br>    14317.0<br>  ],<br>  \"params\": {<br>    \"batchsize\": 32,<br>    \"brightness_factor\": 0.12678097830585403,<br>    \"gaussian_noise_factor\": 0.035437419220078856,<br>    \"translate_factor\": 0.1777759016029911,<br>    \"num_layers\": 3,<br>    \"output_layer\": \"pooling\",<br>    \"layer_0\": \"Conv2D\",<br>    \"layer_0_conv2d_filters\": 4,<br>    \"layer_0_conv2d_fsize\": 4,<br>    \"layer_0_conv2d_ssize\": 3,<br>    \"activation_0\": \"relu\",<br>    \"layer_1\": \"Conv2D\",<br>    \"layer_1_conv2d_filters\": 8,<br>    \"layer_1_conv2d_fsize\": 5,<br>    \"layer_1_conv2d_ssize\": 4,<br>    \"activation_1\": \"relu\",<br>    \"layer_2\": \"Conv2D\",<br>    \"layer_2_conv2d_filters\": 12,<br>    \"layer_2_conv2d_fsize\": 5,<br>    \"layer_2_conv2d_ssize\": 2,<br>    \"activation_2\": \"tanh\",<br>    \"pre_GAP_layer_fsize\": 3,<br>    \"pre_GAP_layer_act\": \"relu\",<br>    \"lr_inicial\": 0.00148250613627127<br>  }<br>}",
          "{<br>  \"number\": 429,<br>  \"values\": [<br>    0.8199999928474426,<br>    10749.0<br>  ],<br>  \"params\": {<br>    \"batchsize\": 32,<br>    \"brightness_factor\": 0.12444178137441503,<br>    \"gaussian_noise_factor\": 0.02594569266410556,<br>    \"translate_factor\": 0.1735936434948575,<br>    \"num_layers\": 3,<br>    \"output_layer\": \"pooling\",<br>    \"layer_0\": \"Conv2D\",<br>    \"layer_0_conv2d_filters\": 4,<br>    \"layer_0_conv2d_fsize\": 4,<br>    \"layer_0_conv2d_ssize\": 3,<br>    \"activation_0\": \"relu\",<br>    \"layer_1\": \"Conv2D\",<br>    \"layer_1_conv2d_filters\": 8,<br>    \"layer_1_conv2d_fsize\": 5,<br>    \"layer_1_conv2d_ssize\": 4,<br>    \"activation_1\": \"relu\",<br>    \"layer_2\": \"Conv2D\",<br>    \"layer_2_conv2d_filters\": 8,<br>    \"layer_2_conv2d_fsize\": 5,<br>    \"layer_2_conv2d_ssize\": 2,<br>    \"activation_2\": \"tanh\",<br>    \"pre_GAP_layer_fsize\": 3,<br>    \"pre_GAP_layer_act\": \"relu\",<br>    \"lr_inicial\": 0.001372271370840616<br>  }<br>}",
          "{<br>  \"number\": 430,<br>  \"values\": [<br>    0.8600000143051147,<br>    14317.0<br>  ],<br>  \"params\": {<br>    \"batchsize\": 32,<br>    \"brightness_factor\": 0.1273313593899473,<br>    \"gaussian_noise_factor\": 0.027964012098682742,<br>    \"translate_factor\": 0.17872283140977735,<br>    \"num_layers\": 3,<br>    \"output_layer\": \"pooling\",<br>    \"layer_0\": \"Conv2D\",<br>    \"layer_0_conv2d_filters\": 4,<br>    \"layer_0_conv2d_fsize\": 4,<br>    \"layer_0_conv2d_ssize\": 3,<br>    \"activation_0\": \"relu\",<br>    \"layer_1\": \"Conv2D\",<br>    \"layer_1_conv2d_filters\": 8,<br>    \"layer_1_conv2d_fsize\": 5,<br>    \"layer_1_conv2d_ssize\": 4,<br>    \"activation_1\": \"relu\",<br>    \"layer_2\": \"Conv2D\",<br>    \"layer_2_conv2d_filters\": 12,<br>    \"layer_2_conv2d_fsize\": 5,<br>    \"layer_2_conv2d_ssize\": 2,<br>    \"activation_2\": \"tanh\",<br>    \"pre_GAP_layer_fsize\": 3,<br>    \"pre_GAP_layer_act\": \"relu\",<br>    \"lr_inicial\": 0.0013878123290618728<br>  }<br>}",
          "{<br>  \"number\": 431,<br>  \"values\": [<br>    0.8399999737739563,<br>    14317.0<br>  ],<br>  \"params\": {<br>    \"batchsize\": 32,<br>    \"brightness_factor\": 0.12998849370720572,<br>    \"gaussian_noise_factor\": 0.03262593714973716,<br>    \"translate_factor\": 0.17336470875124646,<br>    \"num_layers\": 3,<br>    \"output_layer\": \"pooling\",<br>    \"layer_0\": \"Conv2D\",<br>    \"layer_0_conv2d_filters\": 4,<br>    \"layer_0_conv2d_fsize\": 4,<br>    \"layer_0_conv2d_ssize\": 3,<br>    \"activation_0\": \"relu\",<br>    \"layer_1\": \"Conv2D\",<br>    \"layer_1_conv2d_filters\": 8,<br>    \"layer_1_conv2d_fsize\": 5,<br>    \"layer_1_conv2d_ssize\": 4,<br>    \"activation_1\": \"relu\",<br>    \"layer_2\": \"Conv2D\",<br>    \"layer_2_conv2d_filters\": 12,<br>    \"layer_2_conv2d_fsize\": 5,<br>    \"layer_2_conv2d_ssize\": 2,<br>    \"activation_2\": \"tanh\",<br>    \"pre_GAP_layer_fsize\": 3,<br>    \"pre_GAP_layer_act\": \"relu\",<br>    \"lr_inicial\": 0.001364581921078153<br>  }<br>}",
          "{<br>  \"number\": 432,<br>  \"values\": [<br>    0.8999999761581421,<br>    10749.0<br>  ],<br>  \"params\": {<br>    \"batchsize\": 32,<br>    \"brightness_factor\": 0.12497799850714172,<br>    \"gaussian_noise_factor\": 0.02948190401150386,<br>    \"translate_factor\": 0.17915746371740432,<br>    \"num_layers\": 3,<br>    \"output_layer\": \"pooling\",<br>    \"layer_0\": \"Conv2D\",<br>    \"layer_0_conv2d_filters\": 4,<br>    \"layer_0_conv2d_fsize\": 4,<br>    \"layer_0_conv2d_ssize\": 3,<br>    \"activation_0\": \"relu\",<br>    \"layer_1\": \"Conv2D\",<br>    \"layer_1_conv2d_filters\": 8,<br>    \"layer_1_conv2d_fsize\": 5,<br>    \"layer_1_conv2d_ssize\": 4,<br>    \"activation_1\": \"relu\",<br>    \"layer_2\": \"Conv2D\",<br>    \"layer_2_conv2d_filters\": 8,<br>    \"layer_2_conv2d_fsize\": 5,<br>    \"layer_2_conv2d_ssize\": 2,<br>    \"activation_2\": \"tanh\",<br>    \"pre_GAP_layer_fsize\": 3,<br>    \"pre_GAP_layer_act\": \"relu\",<br>    \"lr_inicial\": 0.0015099295525257898<br>  }<br>}",
          "{<br>  \"number\": 434,<br>  \"values\": [<br>    0.6000000238418579,<br>    3229.0<br>  ],<br>  \"params\": {<br>    \"batchsize\": 32,<br>    \"brightness_factor\": 0.11634877273667936,<br>    \"gaussian_noise_factor\": 0.022499817803761323,<br>    \"translate_factor\": 0.04299513098503785,<br>    \"num_layers\": 2,<br>    \"output_layer\": \"pooling\",<br>    \"layer_0\": \"Conv2D\",<br>    \"layer_0_conv2d_filters\": 4,<br>    \"layer_0_conv2d_fsize\": 4,<br>    \"layer_0_conv2d_ssize\": 5,<br>    \"activation_0\": \"relu\",<br>    \"layer_1\": \"Conv2D\",<br>    \"layer_1_conv2d_filters\": 12,<br>    \"layer_1_conv2d_fsize\": 3,<br>    \"layer_1_conv2d_ssize\": 4,<br>    \"activation_1\": \"linear\",<br>    \"pre_GAP_layer_fsize\": 3,<br>    \"pre_GAP_layer_act\": \"relu\",<br>    \"lr_inicial\": 0.0015499868286873795<br>  }<br>}",
          "{<br>  \"number\": 435,<br>  \"values\": [<br>    0.6800000071525574,<br>    3229.0<br>  ],<br>  \"params\": {<br>    \"batchsize\": 32,<br>    \"brightness_factor\": 0.1204020485164092,<br>    \"gaussian_noise_factor\": 0.01745699087477182,<br>    \"translate_factor\": 0.10562253576019862,<br>    \"num_layers\": 2,<br>    \"output_layer\": \"pooling\",<br>    \"layer_0\": \"Conv2D\",<br>    \"layer_0_conv2d_filters\": 4,<br>    \"layer_0_conv2d_fsize\": 4,<br>    \"layer_0_conv2d_ssize\": 5,<br>    \"activation_0\": \"relu\",<br>    \"layer_1\": \"Conv2D\",<br>    \"layer_1_conv2d_filters\": 12,<br>    \"layer_1_conv2d_fsize\": 3,<br>    \"layer_1_conv2d_ssize\": 4,<br>    \"activation_1\": \"relu\",<br>    \"pre_GAP_layer_fsize\": 3,<br>    \"pre_GAP_layer_act\": \"relu\",<br>    \"lr_inicial\": 0.0012826251727469983<br>  }<br>}",
          "{<br>  \"number\": 436,<br>  \"values\": [<br>    0.6600000262260437,<br>    757.0<br>  ],<br>  \"params\": {<br>    \"batchsize\": 32,<br>    \"brightness_factor\": 0.1186526565206735,<br>    \"gaussian_noise_factor\": 0.021864372602135584,<br>    \"translate_factor\": 0.09006872872181498,<br>    \"num_layers\": 1,<br>    \"output_layer\": \"pooling\",<br>    \"layer_0\": \"Conv2D\",<br>    \"layer_0_conv2d_filters\": 4,<br>    \"layer_0_conv2d_fsize\": 4,<br>    \"layer_0_conv2d_ssize\": 8,<br>    \"activation_0\": \"relu\",<br>    \"pre_GAP_layer_fsize\": 3,<br>    \"pre_GAP_layer_act\": \"relu\",<br>    \"lr_inicial\": 0.0013046159897945324<br>  }<br>}",
          "{<br>  \"number\": 437,<br>  \"values\": [<br>    0.6399999856948853,<br>    757.0<br>  ],<br>  \"params\": {<br>    \"batchsize\": 32,<br>    \"brightness_factor\": 0.11971077514275563,<br>    \"gaussian_noise_factor\": 0.011136472334751624,<br>    \"translate_factor\": 0.038644374137266874,<br>    \"num_layers\": 1,<br>    \"output_layer\": \"pooling\",<br>    \"layer_0\": \"Conv2D\",<br>    \"layer_0_conv2d_filters\": 4,<br>    \"layer_0_conv2d_fsize\": 4,<br>    \"layer_0_conv2d_ssize\": 13,<br>    \"activation_0\": \"relu\",<br>    \"pre_GAP_layer_fsize\": 3,<br>    \"pre_GAP_layer_act\": \"relu\",<br>    \"lr_inicial\": 0.0013109475023327095<br>  }<br>}",
          "{<br>  \"number\": 438,<br>  \"values\": [<br>    0.7400000095367432,<br>    3229.0<br>  ],<br>  \"params\": {<br>    \"batchsize\": 32,<br>    \"brightness_factor\": 0.18890162042911227,<br>    \"gaussian_noise_factor\": 0.02114175629711795,<br>    \"translate_factor\": 0.09386942925442526,<br>    \"num_layers\": 2,<br>    \"output_layer\": \"pooling\",<br>    \"layer_0\": \"Conv2D\",<br>    \"layer_0_conv2d_filters\": 4,<br>    \"layer_0_conv2d_fsize\": 4,<br>    \"layer_0_conv2d_ssize\": 2,<br>    \"activation_0\": \"relu\",<br>    \"layer_1\": \"Conv2D\",<br>    \"layer_1_conv2d_filters\": 12,<br>    \"layer_1_conv2d_fsize\": 3,<br>    \"layer_1_conv2d_ssize\": 4,<br>    \"activation_1\": \"linear\",<br>    \"pre_GAP_layer_fsize\": 3,<br>    \"pre_GAP_layer_act\": \"relu\",<br>    \"lr_inicial\": 0.001573573312188595<br>  }<br>}",
          "{<br>  \"number\": 439,<br>  \"values\": [<br>    0.5799999833106995,<br>    4173.0<br>  ],<br>  \"params\": {<br>    \"batchsize\": 32,<br>    \"brightness_factor\": 0.12042636994396051,<br>    \"gaussian_noise_factor\": 0.015403089256964986,<br>    \"translate_factor\": 0.09793683763718841,<br>    \"num_layers\": 2,<br>    \"output_layer\": \"pooling\",<br>    \"layer_0\": \"Conv2D\",<br>    \"layer_0_conv2d_filters\": 4,<br>    \"layer_0_conv2d_fsize\": 4,<br>    \"layer_0_conv2d_ssize\": 2,<br>    \"activation_0\": \"relu\",<br>    \"layer_1\": \"Conv2D\",<br>    \"layer_1_conv2d_filters\": 16,<br>    \"layer_1_conv2d_fsize\": 3,<br>    \"layer_1_conv2d_ssize\": 4,<br>    \"activation_1\": \"relu\",<br>    \"pre_GAP_layer_fsize\": 3,<br>    \"pre_GAP_layer_act\": \"relu\",<br>    \"lr_inicial\": 0.0013113540479444163<br>  }<br>}",
          "{<br>  \"number\": 440,<br>  \"values\": [<br>    0.6200000047683716,<br>    6061.0<br>  ],<br>  \"params\": {<br>    \"batchsize\": 32,<br>    \"brightness_factor\": 0.11738779941816646,<br>    \"gaussian_noise_factor\": 0.02407059656925246,<br>    \"translate_factor\": 0.18480467637474995,<br>    \"num_layers\": 2,<br>    \"output_layer\": \"pooling\",<br>    \"layer_0\": \"Conv2D\",<br>    \"layer_0_conv2d_filters\": 4,<br>    \"layer_0_conv2d_fsize\": 4,<br>    \"layer_0_conv2d_ssize\": 2,<br>    \"activation_0\": \"relu\",<br>    \"layer_1\": \"Conv2D\",<br>    \"layer_1_conv2d_filters\": 24,<br>    \"layer_1_conv2d_fsize\": 3,<br>    \"layer_1_conv2d_ssize\": 4,<br>    \"activation_1\": \"relu\",<br>    \"pre_GAP_layer_fsize\": 3,<br>    \"pre_GAP_layer_act\": \"tanh\",<br>    \"lr_inicial\": 0.0015272682798498807<br>  }<br>}",
          "{<br>  \"number\": 441,<br>  \"values\": [<br>    0.6000000238418579,<br>    5117.0<br>  ],<br>  \"params\": {<br>    \"batchsize\": 32,<br>    \"brightness_factor\": 0.19465477485950908,<br>    \"gaussian_noise_factor\": 0.02135218186602015,<br>    \"translate_factor\": 0.18676987698987166,<br>    \"num_layers\": 2,<br>    \"output_layer\": \"pooling\",<br>    \"layer_0\": \"Conv2D\",<br>    \"layer_0_conv2d_filters\": 4,<br>    \"layer_0_conv2d_fsize\": 4,<br>    \"layer_0_conv2d_ssize\": 2,<br>    \"activation_0\": \"relu\",<br>    \"layer_1\": \"Conv2D\",<br>    \"layer_1_conv2d_filters\": 20,<br>    \"layer_1_conv2d_fsize\": 3,<br>    \"layer_1_conv2d_ssize\": 4,<br>    \"activation_1\": \"relu\",<br>    \"pre_GAP_layer_fsize\": 3,<br>    \"pre_GAP_layer_act\": \"relu\",<br>    \"lr_inicial\": 0.0013381646221611693<br>  }<br>}",
          "{<br>  \"number\": 442,<br>  \"values\": [<br>    0.4000000059604645,<br>    757.0<br>  ],<br>  \"params\": {<br>    \"batchsize\": 32,<br>    \"brightness_factor\": 0.1151193142891343,<br>    \"gaussian_noise_factor\": 0.025547388953599634,<br>    \"translate_factor\": 0.015953592426899005,<br>    \"num_layers\": 1,<br>    \"output_layer\": \"pooling\",<br>    \"layer_0\": \"Conv2D\",<br>    \"layer_0_conv2d_filters\": 4,<br>    \"layer_0_conv2d_fsize\": 4,<br>    \"layer_0_conv2d_ssize\": 8,<br>    \"activation_0\": \"relu\",<br>    \"pre_GAP_layer_fsize\": 3,<br>    \"pre_GAP_layer_act\": \"relu\",<br>    \"lr_inicial\": 0.001253211290697731<br>  }<br>}",
          "{<br>  \"number\": 443,<br>  \"values\": [<br>    0.5600000023841858,<br>    4069.0<br>  ],<br>  \"params\": {<br>    \"batchsize\": 32,<br>    \"brightness_factor\": 0.12318227663096172,<br>    \"gaussian_noise_factor\": 0.007492878801471672,<br>    \"translate_factor\": 0.02759172470922395,<br>    \"num_layers\": 2,<br>    \"output_layer\": \"pooling\",<br>    \"layer_0\": \"Conv2D\",<br>    \"layer_0_conv2d_filters\": 4,<br>    \"layer_0_conv2d_fsize\": 4,<br>    \"layer_0_conv2d_ssize\": 5,<br>    \"activation_0\": \"relu\",<br>    \"layer_1\": \"Conv2D\",<br>    \"layer_1_conv2d_filters\": 12,<br>    \"layer_1_conv2d_fsize\": 3,<br>    \"layer_1_conv2d_ssize\": 4,<br>    \"activation_1\": \"relu\",<br>    \"pre_GAP_layer_fsize\": 4,<br>    \"pre_GAP_layer_act\": \"relu\",<br>    \"lr_inicial\": 0.0014774378796755829<br>  }<br>}",
          "{<br>  \"number\": 444,<br>  \"values\": [<br>    0.7799999713897705,<br>    4173.0<br>  ],<br>  \"params\": {<br>    \"batchsize\": 32,<br>    \"brightness_factor\": 0.11290480769341442,<br>    \"gaussian_noise_factor\": 0.016790874647534346,<br>    \"translate_factor\": 0.047519465962629986,<br>    \"num_layers\": 2,<br>    \"output_layer\": \"pooling\",<br>    \"layer_0\": \"Conv2D\",<br>    \"layer_0_conv2d_filters\": 4,<br>    \"layer_0_conv2d_fsize\": 4,<br>    \"layer_0_conv2d_ssize\": 5,<br>    \"activation_0\": \"relu\",<br>    \"layer_1\": \"Conv2D\",<br>    \"layer_1_conv2d_filters\": 16,<br>    \"layer_1_conv2d_fsize\": 3,<br>    \"layer_1_conv2d_ssize\": 4,<br>    \"activation_1\": \"linear\",<br>    \"pre_GAP_layer_fsize\": 3,<br>    \"pre_GAP_layer_act\": \"relu\",<br>    \"lr_inicial\": 0.0012596410116345199<br>  }<br>}",
          "{<br>  \"number\": 445,<br>  \"values\": [<br>    0.6399999856948853,<br>    7005.0<br>  ],<br>  \"params\": {<br>    \"batchsize\": 32,<br>    \"brightness_factor\": 0.12288939038187228,<br>    \"gaussian_noise_factor\": 0.02374712234856664,<br>    \"translate_factor\": 0.18645624264915747,<br>    \"num_layers\": 2,<br>    \"output_layer\": \"pooling\",<br>    \"layer_0\": \"Conv2D\",<br>    \"layer_0_conv2d_filters\": 4,<br>    \"layer_0_conv2d_fsize\": 4,<br>    \"layer_0_conv2d_ssize\": 2,<br>    \"activation_0\": \"relu\",<br>    \"layer_1\": \"Conv2D\",<br>    \"layer_1_conv2d_filters\": 28,<br>    \"layer_1_conv2d_fsize\": 3,<br>    \"layer_1_conv2d_ssize\": 4,<br>    \"activation_1\": \"relu\",<br>    \"pre_GAP_layer_fsize\": 3,<br>    \"pre_GAP_layer_act\": \"tanh\",<br>    \"lr_inicial\": 0.0013429760653714282<br>  }<br>}",
          "{<br>  \"number\": 446,<br>  \"values\": [<br>    0.7200000286102295,<br>    3229.0<br>  ],<br>  \"params\": {<br>    \"batchsize\": 32,<br>    \"brightness_factor\": 0.189552144254253,<br>    \"gaussian_noise_factor\": 0.019682993280035605,<br>    \"translate_factor\": 0.08938502032411567,<br>    \"num_layers\": 2,<br>    \"output_layer\": \"pooling\",<br>    \"layer_0\": \"Conv2D\",<br>    \"layer_0_conv2d_filters\": 4,<br>    \"layer_0_conv2d_fsize\": 4,<br>    \"layer_0_conv2d_ssize\": 5,<br>    \"activation_0\": \"relu\",<br>    \"layer_1\": \"Conv2D\",<br>    \"layer_1_conv2d_filters\": 12,<br>    \"layer_1_conv2d_fsize\": 3,<br>    \"layer_1_conv2d_ssize\": 4,<br>    \"activation_1\": \"relu\",<br>    \"pre_GAP_layer_fsize\": 3,<br>    \"pre_GAP_layer_act\": \"relu\",<br>    \"lr_inicial\": 0.0014433603805020635<br>  }<br>}",
          "{<br>  \"number\": 447,<br>  \"values\": [<br>    0.6600000262260437,<br>    757.0<br>  ],<br>  \"params\": {<br>    \"batchsize\": 32,<br>    \"brightness_factor\": 0.10681758133414121,<br>    \"gaussian_noise_factor\": 0.013183208794659215,<br>    \"translate_factor\": 0.17975077690890426,<br>    \"num_layers\": 1,<br>    \"output_layer\": \"pooling\",<br>    \"layer_0\": \"Conv2D\",<br>    \"layer_0_conv2d_filters\": 4,<br>    \"layer_0_conv2d_fsize\": 4,<br>    \"layer_0_conv2d_ssize\": 8,<br>    \"activation_0\": \"relu\",<br>    \"pre_GAP_layer_fsize\": 3,<br>    \"pre_GAP_layer_act\": \"relu\",<br>    \"lr_inicial\": 0.0015925292956413966<br>  }<br>}",
          "{<br>  \"number\": 448,<br>  \"values\": [<br>    0.4000000059604645,<br>    8965.0<br>  ],<br>  \"params\": {<br>    \"batchsize\": 32,<br>    \"brightness_factor\": 0.12274795360582083,<br>    \"gaussian_noise_factor\": 0.026952659451806776,<br>    \"translate_factor\": 0.18273191248931142,<br>    \"num_layers\": 2,<br>    \"output_layer\": \"pooling\",<br>    \"layer_0\": \"Conv2D\",<br>    \"layer_0_conv2d_filters\": 4,<br>    \"layer_0_conv2d_fsize\": 4,<br>    \"layer_0_conv2d_ssize\": 2,<br>    \"activation_0\": \"relu\",<br>    \"layer_1\": \"Conv2D\",<br>    \"layer_1_conv2d_filters\": 28,<br>    \"layer_1_conv2d_fsize\": 3,<br>    \"layer_1_conv2d_ssize\": 4,<br>    \"activation_1\": \"relu\",<br>    \"pre_GAP_layer_fsize\": 4,<br>    \"pre_GAP_layer_act\": \"relu\",<br>    \"lr_inicial\": 0.0014935000839572134<br>  }<br>}",
          "{<br>  \"number\": 449,<br>  \"values\": [<br>    0.699999988079071,<br>    9573.0<br>  ],<br>  \"params\": {<br>    \"batchsize\": 32,<br>    \"brightness_factor\": 0.17967940410987346,<br>    \"gaussian_noise_factor\": 0.11009374706057325,<br>    \"translate_factor\": 0.11214235023573706,<br>    \"num_layers\": 2,<br>    \"output_layer\": \"pooling\",<br>    \"layer_0\": \"Conv2D\",<br>    \"layer_0_conv2d_filters\": 8,<br>    \"layer_0_conv2d_fsize\": 3,<br>    \"layer_0_conv2d_ssize\": 7,<br>    \"activation_0\": \"relu\",<br>    \"layer_1\": \"Conv2D\",<br>    \"layer_1_conv2d_filters\": 24,<br>    \"layer_1_conv2d_fsize\": 3,<br>    \"layer_1_conv2d_ssize\": 4,<br>    \"activation_1\": \"relu\",<br>    \"pre_GAP_layer_fsize\": 3,<br>    \"pre_GAP_layer_act\": \"relu\",<br>    \"lr_inicial\": 0.0012940342235381204<br>  }<br>}",
          "{<br>  \"number\": 450,<br>  \"values\": [<br>    0.800000011920929,<br>    7949.0<br>  ],<br>  \"params\": {<br>    \"batchsize\": 32,<br>    \"brightness_factor\": 0.12397619900052612,<br>    \"gaussian_noise_factor\": 0.02046244776806109,<br>    \"translate_factor\": 0.03470164415060725,<br>    \"num_layers\": 2,<br>    \"output_layer\": \"pooling\",<br>    \"layer_0\": \"Conv2D\",<br>    \"layer_0_conv2d_filters\": 4,<br>    \"layer_0_conv2d_fsize\": 4,<br>    \"layer_0_conv2d_ssize\": 5,<br>    \"activation_0\": \"relu\",<br>    \"layer_1\": \"Conv2D\",<br>    \"layer_1_conv2d_filters\": 32,<br>    \"layer_1_conv2d_fsize\": 3,<br>    \"layer_1_conv2d_ssize\": 4,<br>    \"activation_1\": \"linear\",<br>    \"pre_GAP_layer_fsize\": 3,<br>    \"pre_GAP_layer_act\": \"relu\",<br>    \"lr_inicial\": 0.0012224879656041656<br>  }<br>}",
          "{<br>  \"number\": 451,<br>  \"values\": [<br>    0.5,<br>    4173.0<br>  ],<br>  \"params\": {<br>    \"batchsize\": 32,<br>    \"brightness_factor\": 0.022035098816554875,<br>    \"gaussian_noise_factor\": 0.02764464003440053,<br>    \"translate_factor\": 0.1903134561925707,<br>    \"num_layers\": 2,<br>    \"output_layer\": \"pooling\",<br>    \"layer_0\": \"Conv2D\",<br>    \"layer_0_conv2d_filters\": 4,<br>    \"layer_0_conv2d_fsize\": 4,<br>    \"layer_0_conv2d_ssize\": 6,<br>    \"activation_0\": \"relu\",<br>    \"layer_1\": \"Conv2D\",<br>    \"layer_1_conv2d_filters\": 16,<br>    \"layer_1_conv2d_fsize\": 3,<br>    \"layer_1_conv2d_ssize\": 4,<br>    \"activation_1\": \"relu\",<br>    \"pre_GAP_layer_fsize\": 3,<br>    \"pre_GAP_layer_act\": \"tanh\",<br>    \"lr_inicial\": 0.0013392510964419374<br>  }<br>}",
          "{<br>  \"number\": 452,<br>  \"values\": [<br>    0.6800000071525574,<br>    973.0<br>  ],<br>  \"params\": {<br>    \"batchsize\": 32,<br>    \"brightness_factor\": 0.11783981915125599,<br>    \"gaussian_noise_factor\": 0.08480241752307935,<br>    \"translate_factor\": 0.18677685589402282,<br>    \"num_layers\": 1,<br>    \"output_layer\": \"pooling\",<br>    \"layer_0\": \"Conv2D\",<br>    \"layer_0_conv2d_filters\": 4,<br>    \"layer_0_conv2d_fsize\": 5,<br>    \"layer_0_conv2d_ssize\": 9,<br>    \"activation_0\": \"relu\",<br>    \"pre_GAP_layer_fsize\": 3,<br>    \"pre_GAP_layer_act\": \"relu\",<br>    \"lr_inicial\": 0.0015226118859747984<br>  }<br>}",
          "{<br>  \"number\": 453,<br>  \"values\": [<br>    0.8199999928474426,<br>    3229.0<br>  ],<br>  \"params\": {<br>    \"batchsize\": 32,<br>    \"brightness_factor\": 0.0427154360866163,<br>    \"gaussian_noise_factor\": 0.024307135202179673,<br>    \"translate_factor\": 0.19120421986465574,<br>    \"num_layers\": 2,<br>    \"output_layer\": \"pooling\",<br>    \"layer_0\": \"Conv2D\",<br>    \"layer_0_conv2d_filters\": 4,<br>    \"layer_0_conv2d_fsize\": 4,<br>    \"layer_0_conv2d_ssize\": 2,<br>    \"activation_0\": \"relu\",<br>    \"layer_1\": \"Conv2D\",<br>    \"layer_1_conv2d_filters\": 12,<br>    \"layer_1_conv2d_fsize\": 3,<br>    \"layer_1_conv2d_ssize\": 4,<br>    \"activation_1\": \"relu\",<br>    \"pre_GAP_layer_fsize\": 3,<br>    \"pre_GAP_layer_act\": \"relu\",<br>    \"lr_inicial\": 0.001603785904261342<br>  }<br>}",
          "{<br>  \"number\": 454,<br>  \"values\": [<br>    0.4399999976158142,<br>    1253.0<br>  ],<br>  \"params\": {<br>    \"batchsize\": 32,<br>    \"brightness_factor\": 0.04093897495146215,<br>    \"gaussian_noise_factor\": 0.023716029832768017,<br>    \"translate_factor\": 0.18265661996782495,<br>    \"num_layers\": 1,<br>    \"output_layer\": \"pooling\",<br>    \"layer_0\": \"Conv2D\",<br>    \"layer_0_conv2d_filters\": 4,<br>    \"layer_0_conv2d_fsize\": 5,<br>    \"layer_0_conv2d_ssize\": 15,<br>    \"activation_0\": \"tanh\",<br>    \"pre_GAP_layer_fsize\": 4,<br>    \"pre_GAP_layer_act\": \"tanh\",<br>    \"lr_inicial\": 0.0016479731887868343<br>  }<br>}",
          "{<br>  \"number\": 455,<br>  \"values\": [<br>    0.699999988079071,<br>    5725.0<br>  ],<br>  \"params\": {<br>    \"batchsize\": 32,<br>    \"brightness_factor\": 0.11030508351935586,<br>    \"gaussian_noise_factor\": 0.10063596099346782,<br>    \"translate_factor\": 0.1905443441949796,<br>    \"num_layers\": 3,<br>    \"output_layer\": \"pooling\",<br>    \"layer_0\": \"Conv2D\",<br>    \"layer_0_conv2d_filters\": 4,<br>    \"layer_0_conv2d_fsize\": 5,<br>    \"layer_0_conv2d_ssize\": 2,<br>    \"activation_0\": \"tanh\",<br>    \"layer_1\": \"Conv2D\",<br>    \"layer_1_conv2d_filters\": 12,<br>    \"layer_1_conv2d_fsize\": 3,<br>    \"layer_1_conv2d_ssize\": 4,<br>    \"activation_1\": \"linear\",<br>    \"layer_2\": \"Pointwise2D\",<br>    \"layer_2_pwconv2d_filters\": 24,<br>    \"layer_2_pwconv2d_ssize\": 2,<br>    \"activation_2\": \"linear\",<br>    \"pre_GAP_layer_fsize\": 3,<br>    \"pre_GAP_layer_act\": \"relu\",<br>    \"lr_inicial\": 0.0016044476368154514<br>  }<br>}",
          "{<br>  \"number\": 456,<br>  \"values\": [<br>    0.7200000286102295,<br>    3901.0<br>  ],<br>  \"params\": {<br>    \"batchsize\": 32,<br>    \"brightness_factor\": 0.11436564700750355,<br>    \"gaussian_noise_factor\": 0.014813867995557034,<br>    \"translate_factor\": 0.020790108072288288,<br>    \"num_layers\": 2,<br>    \"output_layer\": \"pooling\",<br>    \"layer_0\": \"Conv2D\",<br>    \"layer_0_conv2d_filters\": 4,<br>    \"layer_0_conv2d_fsize\": 3,<br>    \"layer_0_conv2d_ssize\": 2,<br>    \"activation_0\": \"tanh\",<br>    \"layer_1\": \"Conv2D\",<br>    \"layer_1_conv2d_filters\": 12,<br>    \"layer_1_conv2d_fsize\": 3,<br>    \"layer_1_conv2d_ssize\": 4,<br>    \"activation_1\": \"relu\",<br>    \"pre_GAP_layer_fsize\": 4,<br>    \"pre_GAP_layer_act\": \"relu\",<br>    \"lr_inicial\": 0.0012829335011076658<br>  }<br>}",
          "{<br>  \"number\": 457,<br>  \"values\": [<br>    0.7400000095367432,<br>    3445.0<br>  ],<br>  \"params\": {<br>    \"batchsize\": 32,<br>    \"brightness_factor\": 0.18269546298055261,<br>    \"gaussian_noise_factor\": 0.020055526543938218,<br>    \"translate_factor\": 0.10450989715268956,<br>    \"num_layers\": 2,<br>    \"output_layer\": \"pooling\",<br>    \"layer_0\": \"Conv2D\",<br>    \"layer_0_conv2d_filters\": 4,<br>    \"layer_0_conv2d_fsize\": 5,<br>    \"layer_0_conv2d_ssize\": 2,<br>    \"activation_0\": \"linear\",<br>    \"layer_1\": \"Conv2D\",<br>    \"layer_1_conv2d_filters\": 12,<br>    \"layer_1_conv2d_fsize\": 3,<br>    \"layer_1_conv2d_ssize\": 4,<br>    \"activation_1\": \"relu\",<br>    \"pre_GAP_layer_fsize\": 3,<br>    \"pre_GAP_layer_act\": \"relu\",<br>    \"lr_inicial\": 0.0014338752226777485<br>  }<br>}",
          "{<br>  \"number\": 458,<br>  \"values\": [<br>    0.4000000059604645,<br>    3445.0<br>  ],<br>  \"params\": {<br>    \"batchsize\": 32,<br>    \"brightness_factor\": 0.17751573570341997,<br>    \"gaussian_noise_factor\": 0.024874574326521147,<br>    \"translate_factor\": 0.04003916767766519,<br>    \"num_layers\": 2,<br>    \"output_layer\": \"pooling\",<br>    \"layer_0\": \"Conv2D\",<br>    \"layer_0_conv2d_filters\": 4,<br>    \"layer_0_conv2d_fsize\": 5,<br>    \"layer_0_conv2d_ssize\": 2,<br>    \"activation_0\": \"tanh\",<br>    \"layer_1\": \"Conv2D\",<br>    \"layer_1_conv2d_filters\": 12,<br>    \"layer_1_conv2d_fsize\": 3,<br>    \"layer_1_conv2d_ssize\": 4,<br>    \"activation_1\": \"relu\",<br>    \"pre_GAP_layer_fsize\": 3,<br>    \"pre_GAP_layer_act\": \"relu\",<br>    \"lr_inicial\": 0.0015525030329129879<br>  }<br>}",
          "{<br>  \"number\": 459,<br>  \"values\": [<br>    0.800000011920929,<br>    22227.0<br>  ],<br>  \"params\": {<br>    \"batchsize\": 32,<br>    \"brightness_factor\": 0.04783026513492472,<br>    \"gaussian_noise_factor\": 0.030336996041065257,<br>    \"translate_factor\": 0.18559629842107622,<br>    \"num_layers\": 3,<br>    \"output_layer\": \"dense\",<br>    \"layer_0\": \"Conv2D\",<br>    \"layer_0_conv2d_filters\": 4,<br>    \"layer_0_conv2d_fsize\": 4,<br>    \"layer_0_conv2d_ssize\": 2,<br>    \"activation_0\": \"relu\",<br>    \"layer_1\": \"Conv2D\",<br>    \"layer_1_conv2d_filters\": 28,<br>    \"layer_1_conv2d_fsize\": 3,<br>    \"layer_1_conv2d_ssize\": 4,<br>    \"activation_1\": \"linear\",<br>    \"layer_2\": \"Pointwise2D\",<br>    \"layer_2_pwconv2d_filters\": 16,<br>    \"layer_2_pwconv2d_ssize\": 3,<br>    \"activation_2\": \"relu\",<br>    \"output_dropout\": 0.4006185489481355,<br>    \"lr_inicial\": 0.0016433110711184188<br>  }<br>}",
          "{<br>  \"number\": 460,<br>  \"values\": [<br>    0.6600000262260437,<br>    6277.0<br>  ],<br>  \"params\": {<br>    \"batchsize\": 32,<br>    \"brightness_factor\": 0.02701646103360536,<br>    \"gaussian_noise_factor\": 0.017277714597166954,<br>    \"translate_factor\": 0.18206636097203827,<br>    \"num_layers\": 2,<br>    \"output_layer\": \"pooling\",<br>    \"layer_0\": \"Conv2D\",<br>    \"layer_0_conv2d_filters\": 4,<br>    \"layer_0_conv2d_fsize\": 5,<br>    \"layer_0_conv2d_ssize\": 2,<br>    \"activation_0\": \"tanh\",<br>    \"layer_1\": \"Conv2D\",<br>    \"layer_1_conv2d_filters\": 24,<br>    \"layer_1_conv2d_fsize\": 3,<br>    \"layer_1_conv2d_ssize\": 4,<br>    \"activation_1\": \"relu\",<br>    \"pre_GAP_layer_fsize\": 3,<br>    \"pre_GAP_layer_act\": \"tanh\",<br>    \"lr_inicial\": 0.0013404926651364403<br>  }<br>}",
          "{<br>  \"number\": 461,<br>  \"values\": [<br>    0.6600000262260437,<br>    757.0<br>  ],<br>  \"params\": {<br>    \"batchsize\": 32,<br>    \"brightness_factor\": 0.03071778353322248,<br>    \"gaussian_noise_factor\": 0.12765865082229821,<br>    \"translate_factor\": 0.09716683298033059,<br>    \"num_layers\": 1,<br>    \"output_layer\": \"pooling\",<br>    \"layer_0\": \"Conv2D\",<br>    \"layer_0_conv2d_filters\": 4,<br>    \"layer_0_conv2d_fsize\": 4,<br>    \"layer_0_conv2d_ssize\": 5,<br>    \"activation_0\": \"relu\",<br>    \"pre_GAP_layer_fsize\": 3,<br>    \"pre_GAP_layer_act\": \"relu\",<br>    \"lr_inicial\": 0.0013988615557423943<br>  }<br>}",
          "{<br>  \"number\": 462,<br>  \"values\": [<br>    0.7400000095367432,<br>    18024.0<br>  ],<br>  \"params\": {<br>    \"batchsize\": 32,<br>    \"brightness_factor\": 0.11817585863256112,<br>    \"gaussian_noise_factor\": 0.1356139489804841,<br>    \"translate_factor\": 0.10119908282143539,<br>    \"num_layers\": 2,<br>    \"output_layer\": \"dense\",<br>    \"layer_0\": \"Conv2D\",<br>    \"layer_0_conv2d_filters\": 8,<br>    \"layer_0_conv2d_fsize\": 3,<br>    \"layer_0_conv2d_ssize\": 2,<br>    \"activation_0\": \"tanh\",<br>    \"layer_1\": \"Conv2D\",<br>    \"layer_1_conv2d_filters\": 32,<br>    \"layer_1_conv2d_fsize\": 3,<br>    \"layer_1_conv2d_ssize\": 4,<br>    \"activation_1\": \"relu\",<br>    \"output_dropout\": 0.42356256408258164,<br>    \"lr_inicial\": 0.001246874067040493<br>  }<br>}",
          "{<br>  \"number\": 463,<br>  \"values\": [<br>    0.6399999856948853,<br>    10141.0<br>  ],<br>  \"params\": {<br>    \"batchsize\": 32,<br>    \"brightness_factor\": 0.19085020384799223,<br>    \"gaussian_noise_factor\": 0.11285327535951396,<br>    \"translate_factor\": 0.11406861180761703,<br>    \"num_layers\": 2,<br>    \"output_layer\": \"pooling\",<br>    \"layer_0\": \"Conv2D\",<br>    \"layer_0_conv2d_filters\": 4,<br>    \"layer_0_conv2d_fsize\": 4,<br>    \"layer_0_conv2d_ssize\": 7,<br>    \"activation_0\": \"relu\",<br>    \"layer_1\": \"Conv2D\",<br>    \"layer_1_conv2d_filters\": 28,<br>    \"layer_1_conv2d_fsize\": 4,<br>    \"layer_1_conv2d_ssize\": 4,<br>    \"activation_1\": \"relu\",<br>    \"pre_GAP_layer_fsize\": 3,<br>    \"pre_GAP_layer_act\": \"relu\",<br>    \"lr_inicial\": 0.0015313961442447563<br>  }<br>}",
          "{<br>  \"number\": 464,<br>  \"values\": [<br>    0.8600000143051147,<br>    22755.0<br>  ],<br>  \"params\": {<br>    \"batchsize\": 32,<br>    \"brightness_factor\": 0.18546527239873634,<br>    \"gaussian_noise_factor\": 0.02478886103432587,<br>    \"translate_factor\": 0.11795811256859773,<br>    \"num_layers\": 3,<br>    \"output_layer\": \"dense\",<br>    \"layer_0\": \"Conv2D\",<br>    \"layer_0_conv2d_filters\": 4,<br>    \"layer_0_conv2d_fsize\": 5,<br>    \"layer_0_conv2d_ssize\": 2,<br>    \"activation_0\": \"tanh\",<br>    \"layer_1\": \"Conv2D\",<br>    \"layer_1_conv2d_filters\": 12,<br>    \"layer_1_conv2d_fsize\": 3,<br>    \"layer_1_conv2d_ssize\": 4,<br>    \"activation_1\": \"relu\",<br>    \"layer_2\": \"Pointwise2D\",<br>    \"layer_2_pwconv2d_filters\": 28,<br>    \"layer_2_pwconv2d_ssize\": 4,<br>    \"activation_2\": \"linear\",<br>    \"output_dropout\": 0.3908617461205701,<br>    \"lr_inicial\": 0.001466016326967182<br>  }<br>}",
          "{<br>  \"number\": 465,<br>  \"values\": [<br>    0.7400000095367432,<br>    4069.0<br>  ],<br>  \"params\": {<br>    \"batchsize\": 32,<br>    \"brightness_factor\": 0.12705449013522604,<br>    \"gaussian_noise_factor\": 0.1495247601548745,<br>    \"translate_factor\": 0.011837630492951924,<br>    \"num_layers\": 2,<br>    \"output_layer\": \"pooling\",<br>    \"layer_0\": \"Conv2D\",<br>    \"layer_0_conv2d_filters\": 4,<br>    \"layer_0_conv2d_fsize\": 4,<br>    \"layer_0_conv2d_ssize\": 6,<br>    \"activation_0\": \"relu\",<br>    \"layer_1\": \"Conv2D\",<br>    \"layer_1_conv2d_filters\": 12,<br>    \"layer_1_conv2d_fsize\": 3,<br>    \"layer_1_conv2d_ssize\": 4,<br>    \"activation_1\": \"linear\",<br>    \"pre_GAP_layer_fsize\": 4,<br>    \"pre_GAP_layer_act\": \"relu\",<br>    \"lr_inicial\": 0.0016010665443881634<br>  }<br>}",
          "{<br>  \"number\": 466,<br>  \"values\": [<br>    0.7400000095367432,<br>    24263.0<br>  ],<br>  \"params\": {<br>    \"batchsize\": 32,<br>    \"brightness_factor\": 0.12164687552350699,<br>    \"gaussian_noise_factor\": 0.1168576732381097,<br>    \"translate_factor\": 0.1570669567677655,<br>    \"num_layers\": 2,<br>    \"output_layer\": \"dense\",<br>    \"layer_0\": \"Conv2D\",<br>    \"layer_0_conv2d_filters\": 4,<br>    \"layer_0_conv2d_fsize\": 5,<br>    \"layer_0_conv2d_ssize\": 7,<br>    \"activation_0\": \"linear\",<br>    \"layer_1\": \"Conv2D\",<br>    \"layer_1_conv2d_filters\": 20,<br>    \"layer_1_conv2d_fsize\": 3,<br>    \"layer_1_conv2d_ssize\": 8,<br>    \"activation_1\": \"relu\",<br>    \"output_dropout\": 0.5493598420785656,<br>    \"lr_inicial\": 0.0013048417498265567<br>  }<br>}",
          "{<br>  \"number\": 467,<br>  \"values\": [<br>    0.6399999856948853,<br>    757.0<br>  ],<br>  \"params\": {<br>    \"batchsize\": 32,<br>    \"brightness_factor\": 0.1288440177947402,<br>    \"gaussian_noise_factor\": 0.020316981815696983,<br>    \"translate_factor\": 0.19299855417630807,<br>    \"num_layers\": 1,<br>    \"output_layer\": \"pooling\",<br>    \"layer_0\": \"Conv2D\",<br>    \"layer_0_conv2d_filters\": 4,<br>    \"layer_0_conv2d_fsize\": 4,<br>    \"layer_0_conv2d_ssize\": 14,<br>    \"activation_0\": \"tanh\",<br>    \"pre_GAP_layer_fsize\": 3,<br>    \"pre_GAP_layer_act\": \"relu\",<br>    \"lr_inicial\": 0.0012495074066715065<br>  }<br>}",
          "{<br>  \"number\": 468,<br>  \"values\": [<br>    0.7400000095367432,<br>    6277.0<br>  ],<br>  \"params\": {<br>    \"batchsize\": 32,<br>    \"brightness_factor\": 0.037362706847853616,<br>    \"gaussian_noise_factor\": 0.009116210937203523,<br>    \"translate_factor\": 0.04389385825206096,<br>    \"num_layers\": 2,<br>    \"output_layer\": \"pooling\",<br>    \"layer_0\": \"Conv2D\",<br>    \"layer_0_conv2d_filters\": 4,<br>    \"layer_0_conv2d_fsize\": 5,<br>    \"layer_0_conv2d_ssize\": 2,<br>    \"activation_0\": \"relu\",<br>    \"layer_1\": \"Conv2D\",<br>    \"layer_1_conv2d_filters\": 24,<br>    \"layer_1_conv2d_fsize\": 3,<br>    \"layer_1_conv2d_ssize\": 4,<br>    \"activation_1\": \"relu\",<br>    \"pre_GAP_layer_fsize\": 3,<br>    \"pre_GAP_layer_act\": \"relu\",<br>    \"lr_inicial\": 0.0011542447026384698<br>  }<br>}",
          "{<br>  \"number\": 469,<br>  \"values\": [<br>    0.8600000143051147,<br>    25567.0<br>  ],<br>  \"params\": {<br>    \"batchsize\": 32,<br>    \"brightness_factor\": 0.05281206717043599,<br>    \"gaussian_noise_factor\": 0.02881212851584623,<br>    \"translate_factor\": 0.09152815299787988,<br>    \"num_layers\": 3,<br>    \"output_layer\": \"dense\",<br>    \"layer_0\": \"Conv2D\",<br>    \"layer_0_conv2d_filters\": 8,<br>    \"layer_0_conv2d_fsize\": 4,<br>    \"layer_0_conv2d_ssize\": 2,<br>    \"activation_0\": \"tanh\",<br>    \"layer_1\": \"Conv2D\",<br>    \"layer_1_conv2d_filters\": 32,<br>    \"layer_1_conv2d_fsize\": 4,<br>    \"layer_1_conv2d_ssize\": 4,<br>    \"activation_1\": \"relu\",<br>    \"layer_2\": \"Pointwise2D\",<br>    \"layer_2_pwconv2d_filters\": 12,<br>    \"layer_2_pwconv2d_ssize\": 4,<br>    \"activation_2\": \"relu\",<br>    \"output_dropout\": 0.41820377236049133,<br>    \"lr_inicial\": 0.0013719320305450474<br>  }<br>}",
          "{<br>  \"number\": 470,<br>  \"values\": [<br>    0.5799999833106995,<br>    6837.0<br>  ],<br>  \"params\": {<br>    \"batchsize\": 32,<br>    \"brightness_factor\": 0.13422178262486245,<br>    \"gaussian_noise_factor\": 0.012144942933610884,<br>    \"translate_factor\": 0.029103065166394666,<br>    \"num_layers\": 2,<br>    \"output_layer\": \"pooling\",<br>    \"layer_0\": \"Conv2D\",<br>    \"layer_0_conv2d_filters\": 4,<br>    \"layer_0_conv2d_fsize\": 3,<br>    \"layer_0_conv2d_ssize\": 5,<br>    \"activation_0\": \"relu\",<br>    \"layer_1\": \"Conv2D\",<br>    \"layer_1_conv2d_filters\": 28,<br>    \"layer_1_conv2d_fsize\": 3,<br>    \"layer_1_conv2d_ssize\": 4,<br>    \"activation_1\": \"relu\",<br>    \"pre_GAP_layer_fsize\": 3,<br>    \"pre_GAP_layer_act\": \"tanh\",<br>    \"lr_inicial\": 0.001671272664480017<br>  }<br>}",
          "{<br>  \"number\": 471,<br>  \"values\": [<br>    0.7599999904632568,<br>    21039.0<br>  ],<br>  \"params\": {<br>    \"batchsize\": 32,<br>    \"brightness_factor\": 0.11503171643768775,<br>    \"gaussian_noise_factor\": 0.022452636308754215,<br>    \"translate_factor\": 0.18818029045111465,<br>    \"num_layers\": 2,<br>    \"output_layer\": \"dense\",<br>    \"layer_0\": \"Conv2D\",<br>    \"layer_0_conv2d_filters\": 4,<br>    \"layer_0_conv2d_fsize\": 4,<br>    \"layer_0_conv2d_ssize\": 6,<br>    \"activation_0\": \"relu\",<br>    \"layer_1\": \"Conv2D\",<br>    \"layer_1_conv2d_filters\": 12,<br>    \"layer_1_conv2d_fsize\": 3,<br>    \"layer_1_conv2d_ssize\": 4,<br>    \"activation_1\": \"linear\",<br>    \"output_dropout\": 0.5619329360304749,<br>    \"lr_inicial\": 0.0014340504686525543<br>  }<br>}",
          "{<br>  \"number\": 472,<br>  \"values\": [<br>    0.6399999856948853,<br>    5333.0<br>  ],<br>  \"params\": {<br>    \"batchsize\": 32,<br>    \"brightness_factor\": 0.19917925381915094,<br>    \"gaussian_noise_factor\": 0.015455510613819775,<br>    \"translate_factor\": 0.17998786763552568,<br>    \"num_layers\": 2,<br>    \"output_layer\": \"pooling\",<br>    \"layer_0\": \"Conv2D\",<br>    \"layer_0_conv2d_filters\": 4,<br>    \"layer_0_conv2d_fsize\": 5,<br>    \"layer_0_conv2d_ssize\": 4,<br>    \"activation_0\": \"tanh\",<br>    \"layer_1\": \"Conv2D\",<br>    \"layer_1_conv2d_filters\": 20,<br>    \"layer_1_conv2d_fsize\": 3,<br>    \"layer_1_conv2d_ssize\": 4,<br>    \"activation_1\": \"relu\",<br>    \"pre_GAP_layer_fsize\": 3,<br>    \"pre_GAP_layer_act\": \"relu\",<br>    \"lr_inicial\": 0.00031578842276141713<br>  }<br>}",
          "{<br>  \"number\": 473,<br>  \"values\": [<br>    0.7200000286102295,<br>    15576.0<br>  ],<br>  \"params\": {<br>    \"batchsize\": 32,<br>    \"brightness_factor\": 0.12731932080015348,<br>    \"gaussian_noise_factor\": 0.14322451123341684,<br>    \"translate_factor\": 0.04855640008823493,<br>    \"num_layers\": 1,<br>    \"output_layer\": \"dense\",<br>    \"layer_0\": \"Conv2D\",<br>    \"layer_0_conv2d_filters\": 4,<br>    \"layer_0_conv2d_fsize\": 4,<br>    \"layer_0_conv2d_ssize\": 8,<br>    \"activation_0\": \"relu\",<br>    \"output_dropout\": 0.3598889708773768,<br>    \"lr_inicial\": 0.0005511797135600943<br>  }<br>}",
          "{<br>  \"number\": 474,<br>  \"values\": [<br>    0.7799999713897705,<br>    21653.0<br>  ],<br>  \"params\": {<br>    \"batchsize\": 32,<br>    \"brightness_factor\": 0.11818295419022118,<br>    \"gaussian_noise_factor\": 0.19503415571816002,<br>    \"translate_factor\": 0.18468521805499258,<br>    \"num_layers\": 3,<br>    \"output_layer\": \"pooling\",<br>    \"layer_0\": \"Conv2D\",<br>    \"layer_0_conv2d_filters\": 4,<br>    \"layer_0_conv2d_fsize\": 5,<br>    \"layer_0_conv2d_ssize\": 4,<br>    \"activation_0\": \"tanh\",<br>    \"layer_1\": \"Conv2D\",<br>    \"layer_1_conv2d_filters\": 16,<br>    \"layer_1_conv2d_fsize\": 3,<br>    \"layer_1_conv2d_ssize\": 4,<br>    \"activation_1\": \"relu\",<br>    \"layer_2\": \"Conv2D\",<br>    \"layer_2_conv2d_filters\": 28,<br>    \"layer_2_conv2d_fsize\": 3,<br>    \"layer_2_conv2d_ssize\": 3,<br>    \"activation_2\": \"linear\",<br>    \"pre_GAP_layer_fsize\": 3,<br>    \"pre_GAP_layer_act\": \"relu\",<br>    \"lr_inicial\": 0.0012774017281685782<br>  }<br>}",
          "{<br>  \"number\": 475,<br>  \"values\": [<br>    0.25999999046325684,<br>    12101.0<br>  ],<br>  \"params\": {<br>    \"batchsize\": 32,<br>    \"brightness_factor\": 0.17601489952281735,<br>    \"gaussian_noise_factor\": 0.027607122618630697,<br>    \"translate_factor\": 0.19500929004690323,<br>    \"num_layers\": 2,<br>    \"output_layer\": \"pooling\",<br>    \"layer_0\": \"Conv2D\",<br>    \"layer_0_conv2d_filters\": 4,<br>    \"layer_0_conv2d_fsize\": 4,<br>    \"layer_0_conv2d_ssize\": 5,<br>    \"activation_0\": \"linear\",<br>    \"layer_1\": \"Conv2D\",<br>    \"layer_1_conv2d_filters\": 28,<br>    \"layer_1_conv2d_fsize\": 4,<br>    \"layer_1_conv2d_ssize\": 5,<br>    \"activation_1\": \"relu\",<br>    \"pre_GAP_layer_fsize\": 4,<br>    \"pre_GAP_layer_act\": \"relu\",<br>    \"lr_inicial\": 0.0013299648247513949<br>  }<br>}",
          "{<br>  \"number\": 476,<br>  \"values\": [<br>    0.7799999713897705,<br>    21127.0<br>  ],<br>  \"params\": {<br>    \"batchsize\": 32,<br>    \"brightness_factor\": 0.1335520488015129,<br>    \"gaussian_noise_factor\": 0.023554125565922162,<br>    \"translate_factor\": 0.19086310660612502,<br>    \"num_layers\": 2,<br>    \"output_layer\": \"dense\",<br>    \"layer_0\": \"Conv2D\",<br>    \"layer_0_conv2d_filters\": 4,<br>    \"layer_0_conv2d_fsize\": 4,<br>    \"layer_0_conv2d_ssize\": 7,<br>    \"activation_0\": \"relu\",<br>    \"layer_1\": \"Conv2D\",<br>    \"layer_1_conv2d_filters\": 12,<br>    \"layer_1_conv2d_fsize\": 3,<br>    \"layer_1_conv2d_ssize\": 4,<br>    \"activation_1\": \"relu\",<br>    \"output_dropout\": 0.5525109774257037,<br>    \"lr_inicial\": 0.0004982264261826301<br>  }<br>}",
          "{<br>  \"number\": 477,<br>  \"values\": [<br>    0.699999988079071,<br>    6277.0<br>  ],<br>  \"params\": {<br>    \"batchsize\": 32,<br>    \"brightness_factor\": 0.12391744159719181,<br>    \"gaussian_noise_factor\": 0.018984083944673193,<br>    \"translate_factor\": 0.10905507404990708,<br>    \"num_layers\": 2,<br>    \"output_layer\": \"pooling\",<br>    \"layer_0\": \"Conv2D\",<br>    \"layer_0_conv2d_filters\": 4,<br>    \"layer_0_conv2d_fsize\": 5,<br>    \"layer_0_conv2d_ssize\": 6,<br>    \"activation_0\": \"tanh\",<br>    \"layer_1\": \"Conv2D\",<br>    \"layer_1_conv2d_filters\": 24,<br>    \"layer_1_conv2d_fsize\": 3,<br>    \"layer_1_conv2d_ssize\": 4,<br>    \"activation_1\": \"linear\",<br>    \"pre_GAP_layer_fsize\": 3,<br>    \"pre_GAP_layer_act\": \"relu\",<br>    \"lr_inicial\": 0.0016191802213882589<br>  }<br>}",
          "{<br>  \"number\": 478,<br>  \"values\": [<br>    0.699999988079071,<br>    17041.0<br>  ],<br>  \"params\": {<br>    \"batchsize\": 32,<br>    \"brightness_factor\": 0.13733604804849217,<br>    \"gaussian_noise_factor\": 0.17880947374440695,<br>    \"translate_factor\": 0.18253289239658854,<br>    \"num_layers\": 1,<br>    \"output_layer\": \"dense\",<br>    \"layer_0\": \"Conv2D\",<br>    \"layer_0_conv2d_filters\": 4,<br>    \"layer_0_conv2d_fsize\": 4,<br>    \"layer_0_conv2d_ssize\": 9,<br>    \"activation_0\": \"relu\",<br>    \"output_dropout\": 0.5941672649252377,<br>    \"lr_inicial\": 0.0015154661440519952<br>  }<br>}",
          "{<br>  \"number\": 479,<br>  \"values\": [<br>    0.6200000047683716,<br>    12613.0<br>  ],<br>  \"params\": {<br>    \"batchsize\": 32,<br>    \"brightness_factor\": 0.08396773778729964,<br>    \"gaussian_noise_factor\": 0.03192929945976389,<br>    \"translate_factor\": 0.17760713474938533,<br>    \"num_layers\": 2,<br>    \"output_layer\": \"pooling\",<br>    \"layer_0\": \"Conv2D\",<br>    \"layer_0_conv2d_filters\": 8,<br>    \"layer_0_conv2d_fsize\": 3,<br>    \"layer_0_conv2d_ssize\": 4,<br>    \"activation_0\": \"tanh\",<br>    \"layer_1\": \"Conv2D\",<br>    \"layer_1_conv2d_filters\": 32,<br>    \"layer_1_conv2d_fsize\": 3,<br>    \"layer_1_conv2d_ssize\": 4,<br>    \"activation_1\": \"relu\",<br>    \"pre_GAP_layer_fsize\": 3,<br>    \"pre_GAP_layer_act\": \"relu\",<br>    \"lr_inicial\": 0.00046158169012474964<br>  }<br>}",
          "{<br>  \"number\": 480,<br>  \"values\": [<br>    0.47999998927116394,<br>    24120.0<br>  ],<br>  \"params\": {<br>    \"batchsize\": 32,<br>    \"brightness_factor\": 0.13171801922750165,<br>    \"gaussian_noise_factor\": 0.08116417548707142,<br>    \"translate_factor\": 0.18891402303195567,<br>    \"num_layers\": 3,<br>    \"output_layer\": \"dense\",<br>    \"layer_0\": \"Conv2D\",<br>    \"layer_0_conv2d_filters\": 4,<br>    \"layer_0_conv2d_fsize\": 5,<br>    \"layer_0_conv2d_ssize\": 2,<br>    \"activation_0\": \"relu\",<br>    \"layer_1\": \"Conv2D\",<br>    \"layer_1_conv2d_filters\": 16,<br>    \"layer_1_conv2d_fsize\": 3,<br>    \"layer_1_conv2d_ssize\": 4,<br>    \"activation_1\": \"relu\",<br>    \"layer_2\": \"Conv2D\",<br>    \"layer_2_conv2d_filters\": 20,<br>    \"layer_2_conv2d_fsize\": 3,<br>    \"layer_2_conv2d_ssize\": 3,<br>    \"activation_2\": \"relu\",<br>    \"output_dropout\": 0.5803709725629548,<br>    \"lr_inicial\": 0.0003995035600244517<br>  }<br>}",
          "{<br>  \"number\": 481,<br>  \"values\": [<br>    0.6000000238418579,<br>    6061.0<br>  ],<br>  \"params\": {<br>    \"batchsize\": 32,<br>    \"brightness_factor\": 0.11200557158455712,<br>    \"gaussian_noise_factor\": 0.10479676128447298,<br>    \"translate_factor\": 0.024475223737333976,<br>    \"num_layers\": 2,<br>    \"output_layer\": \"pooling\",<br>    \"layer_0\": \"Conv2D\",<br>    \"layer_0_conv2d_filters\": 4,<br>    \"layer_0_conv2d_fsize\": 4,<br>    \"layer_0_conv2d_ssize\": 5,<br>    \"activation_0\": \"tanh\",<br>    \"layer_1\": \"Conv2D\",<br>    \"layer_1_conv2d_filters\": 24,<br>    \"layer_1_conv2d_fsize\": 3,<br>    \"layer_1_conv2d_ssize\": 3,<br>    \"activation_1\": \"relu\",<br>    \"pre_GAP_layer_fsize\": 3,<br>    \"pre_GAP_layer_act\": \"tanh\",<br>    \"lr_inicial\": 0.0013859098837865924<br>  }<br>}",
          "{<br>  \"number\": 482,<br>  \"values\": [<br>    0.7400000095367432,<br>    10141.0<br>  ],<br>  \"params\": {<br>    \"batchsize\": 32,<br>    \"brightness_factor\": 0.12062179231240357,<br>    \"gaussian_noise_factor\": 0.02484796232644838,<br>    \"translate_factor\": 0.08684290591379834,<br>    \"num_layers\": 2,<br>    \"output_layer\": \"pooling\",<br>    \"layer_0\": \"Conv2D\",<br>    \"layer_0_conv2d_filters\": 4,<br>    \"layer_0_conv2d_fsize\": 4,<br>    \"layer_0_conv2d_ssize\": 4,<br>    \"activation_0\": \"relu\",<br>    \"layer_1\": \"Conv2D\",<br>    \"layer_1_conv2d_filters\": 28,<br>    \"layer_1_conv2d_fsize\": 4,<br>    \"layer_1_conv2d_ssize\": 7,<br>    \"activation_1\": \"relu\",<br>    \"pre_GAP_layer_fsize\": 3,<br>    \"pre_GAP_layer_act\": \"relu\",<br>    \"lr_inicial\": 0.0012332014847070323<br>  }<br>}",
          "{<br>  \"number\": 483,<br>  \"values\": [<br>    0.6800000071525574,<br>    21399.0<br>  ],<br>  \"params\": {<br>    \"batchsize\": 32,<br>    \"brightness_factor\": 0.1948484681369005,<br>    \"gaussian_noise_factor\": 0.07410260797204622,<br>    \"translate_factor\": 0.18817223529813734,<br>    \"num_layers\": 2,<br>    \"output_layer\": \"dense\",<br>    \"layer_0\": \"Conv2D\",<br>    \"layer_0_conv2d_filters\": 4,<br>    \"layer_0_conv2d_fsize\": 5,<br>    \"layer_0_conv2d_ssize\": 6,<br>    \"activation_0\": \"linear\",<br>    \"layer_1\": \"Conv2D\",<br>    \"layer_1_conv2d_filters\": 12,<br>    \"layer_1_conv2d_fsize\": 3,<br>    \"layer_1_conv2d_ssize\": 5,<br>    \"activation_1\": \"linear\",<br>    \"output_dropout\": 0.4263904560312343,<br>    \"lr_inicial\": 0.0017111075018261385<br>  }<br>}",
          "{<br>  \"number\": 484,<br>  \"values\": [<br>    0.8199999928474426,<br>    18541.0<br>  ],<br>  \"params\": {<br>    \"batchsize\": 32,<br>    \"brightness_factor\": 0.18117450815526515,<br>    \"gaussian_noise_factor\": 0.01849252810431165,<br>    \"translate_factor\": 0.03317482266792271,<br>    \"num_layers\": 3,<br>    \"output_layer\": \"pooling\",<br>    \"layer_0\": \"Conv2D\",<br>    \"layer_0_conv2d_filters\": 4,<br>    \"layer_0_conv2d_fsize\": 4,<br>    \"layer_0_conv2d_ssize\": 4,<br>    \"activation_0\": \"tanh\",<br>    \"layer_1\": \"Conv2D\",<br>    \"layer_1_conv2d_filters\": 32,<br>    \"layer_1_conv2d_fsize\": 5,<br>    \"layer_1_conv2d_ssize\": 4,<br>    \"activation_1\": \"relu\",<br>    \"layer_2\": \"Pointwise2D\",<br>    \"layer_2_pwconv2d_filters\": 24,<br>    \"layer_2_pwconv2d_ssize\": 2,<br>    \"activation_2\": \"linear\",<br>    \"pre_GAP_layer_fsize\": 3,<br>    \"pre_GAP_layer_act\": \"relu\",<br>    \"lr_inicial\": 0.0006995394997091638<br>  }<br>}",
          "{<br>  \"number\": 485,<br>  \"values\": [<br>    0.800000011920929,<br>    17234.0<br>  ],<br>  \"params\": {<br>    \"batchsize\": 32,<br>    \"brightness_factor\": 0.12811779752660504,<br>    \"gaussian_noise_factor\": 0.06592095023582047,<br>    \"translate_factor\": 0.17994293442368875,<br>    \"num_layers\": 1,<br>    \"output_layer\": \"dense\",<br>    \"layer_0\": \"Conv2D\",<br>    \"layer_0_conv2d_filters\": 4,<br>    \"layer_0_conv2d_fsize\": 5,<br>    \"layer_0_conv2d_ssize\": 10,<br>    \"activation_0\": \"relu\",<br>    \"output_dropout\": 0.43242331471498074,<br>    \"lr_inicial\": 0.0013024733155935272<br>  }<br>}",
          "{<br>  \"number\": 486,<br>  \"values\": [<br>    0.5400000214576721,<br>    7989.0<br>  ],<br>  \"params\": {<br>    \"batchsize\": 32,<br>    \"brightness_factor\": 0.02348586029510303,<br>    \"gaussian_noise_factor\": 0.18786826805962867,<br>    \"translate_factor\": 0.15179643521549468,<br>    \"num_layers\": 2,<br>    \"output_layer\": \"pooling\",<br>    \"layer_0\": \"Conv2D\",<br>    \"layer_0_conv2d_filters\": 8,<br>    \"layer_0_conv2d_fsize\": 4,<br>    \"layer_0_conv2d_ssize\": 4,<br>    \"activation_0\": \"tanh\",<br>    \"layer_1\": \"Conv2D\",<br>    \"layer_1_conv2d_filters\": 16,<br>    \"layer_1_conv2d_fsize\": 3,<br>    \"layer_1_conv2d_ssize\": 4,<br>    \"activation_1\": \"relu\",<br>    \"pre_GAP_layer_fsize\": 4,<br>    \"pre_GAP_layer_act\": \"relu\",<br>    \"lr_inicial\": 0.0005949697258528328<br>  }<br>}",
          "{<br>  \"number\": 487,<br>  \"values\": [<br>    0.8600000143051147,<br>    25267.0<br>  ],<br>  \"params\": {<br>    \"batchsize\": 32,<br>    \"brightness_factor\": 0.1366676667915647,<br>    \"gaussian_noise_factor\": 0.030349997451356386,<br>    \"translate_factor\": 0.005706404237730611,<br>    \"num_layers\": 2,<br>    \"output_layer\": \"dense\",<br>    \"layer_0\": \"Conv2D\",<br>    \"layer_0_conv2d_filters\": 32,<br>    \"layer_0_conv2d_fsize\": 3,<br>    \"layer_0_conv2d_ssize\": 5,<br>    \"activation_0\": \"relu\",<br>    \"layer_1\": \"Conv2D\",<br>    \"layer_1_conv2d_filters\": 12,<br>    \"layer_1_conv2d_fsize\": 3,<br>    \"layer_1_conv2d_ssize\": 8,<br>    \"activation_1\": \"relu\",<br>    \"output_dropout\": 0.3744215874889435,<br>    \"lr_inicial\": 0.000765043519993461<br>  }<br>}",
          "{<br>  \"number\": 488,<br>  \"values\": [<br>    0.47999998927116394,<br>    3229.0<br>  ],<br>  \"params\": {<br>    \"batchsize\": 32,<br>    \"brightness_factor\": 0.17341382084403448,<br>    \"gaussian_noise_factor\": 0.056853368192795,<br>    \"translate_factor\": 0.19333003502130486,<br>    \"num_layers\": 2,<br>    \"output_layer\": \"pooling\",<br>    \"layer_0\": \"Conv2D\",<br>    \"layer_0_conv2d_filters\": 4,<br>    \"layer_0_conv2d_fsize\": 4,<br>    \"layer_0_conv2d_ssize\": 4,<br>    \"activation_0\": \"relu\",<br>    \"layer_1\": \"Conv2D\",<br>    \"layer_1_conv2d_filters\": 12,<br>    \"layer_1_conv2d_fsize\": 3,<br>    \"layer_1_conv2d_ssize\": 5,<br>    \"activation_1\": \"relu\",<br>    \"pre_GAP_layer_fsize\": 3,<br>    \"pre_GAP_layer_act\": \"relu\",<br>    \"lr_inicial\": 0.0014886582670041236<br>  }<br>}",
          "{<br>  \"number\": 489,<br>  \"values\": [<br>    0.7200000286102295,<br>    47069.0<br>  ],<br>  \"params\": {<br>    \"batchsize\": 32,<br>    \"brightness_factor\": 0.18782727642815364,<br>    \"gaussian_noise_factor\": 0.035652236211033125,<br>    \"translate_factor\": 0.18477874936839533,<br>    \"num_layers\": 3,<br>    \"output_layer\": \"pooling\",<br>    \"layer_0\": \"Conv2D\",<br>    \"layer_0_conv2d_filters\": 4,<br>    \"layer_0_conv2d_fsize\": 5,<br>    \"layer_0_conv2d_ssize\": 2,<br>    \"activation_0\": \"tanh\",<br>    \"layer_1\": \"Conv2D\",<br>    \"layer_1_conv2d_filters\": 28,<br>    \"layer_1_conv2d_fsize\": 5,<br>    \"layer_1_conv2d_ssize\": 2,<br>    \"activation_1\": \"linear\",<br>    \"layer_2\": \"Conv2D\",<br>    \"layer_2_conv2d_filters\": 32,<br>    \"layer_2_conv2d_fsize\": 3,<br>    \"layer_2_conv2d_ssize\": 5,<br>    \"activation_2\": \"relu\",<br>    \"pre_GAP_layer_fsize\": 3,<br>    \"pre_GAP_layer_act\": \"relu\",<br>    \"lr_inicial\": 0.001588337952671207<br>  }<br>}",
          "{<br>  \"number\": 490,<br>  \"values\": [<br>    0.800000011920929,<br>    23947.0<br>  ],<br>  \"params\": {<br>    \"batchsize\": 32,<br>    \"brightness_factor\": 0.09062483696146294,<br>    \"gaussian_noise_factor\": 0.1229211497748602,<br>    \"translate_factor\": 0.09648960888669267,<br>    \"num_layers\": 2,<br>    \"output_layer\": \"dense\",<br>    \"layer_0\": \"Pointwise2D\",<br>    \"layer_0_pwconv2d_filters\": 12,<br>    \"layer_0_pwconv2d_ssize\": 3,<br>    \"activation_0\": \"relu\",<br>    \"layer_1\": \"Conv2D\",<br>    \"layer_1_conv2d_filters\": 20,<br>    \"layer_1_conv2d_fsize\": 4,<br>    \"layer_1_conv2d_ssize\": 4,<br>    \"activation_1\": \"relu\",<br>    \"output_dropout\": 0.41259989786389817,<br>    \"lr_inicial\": 0.001349735577598246<br>  }<br>}",
          "{<br>  \"number\": 491,<br>  \"values\": [<br>    0.5199999809265137,<br>    757.0<br>  ],<br>  \"params\": {<br>    \"batchsize\": 32,<br>    \"brightness_factor\": 0.12447682045171851,<br>    \"gaussian_noise_factor\": 0.013856853318932152,<br>    \"translate_factor\": 0.0180135972167611,<br>    \"num_layers\": 1,<br>    \"output_layer\": \"pooling\",<br>    \"layer_0\": \"Conv2D\",<br>    \"layer_0_conv2d_filters\": 4,<br>    \"layer_0_conv2d_fsize\": 4,<br>    \"layer_0_conv2d_ssize\": 16,<br>    \"activation_0\": \"tanh\",<br>    \"pre_GAP_layer_fsize\": 3,<br>    \"pre_GAP_layer_act\": \"tanh\",<br>    \"lr_inicial\": 0.00033058652969782435<br>  }<br>}",
          "{<br>  \"number\": 492,<br>  \"values\": [<br>    0.8600000143051147,<br>    21312.0<br>  ],<br>  \"params\": {<br>    \"batchsize\": 32,<br>    \"brightness_factor\": 0.15221110154724315,<br>    \"gaussian_noise_factor\": 0.022344428416043238,<br>    \"translate_factor\": 0.12619481111548828,<br>    \"num_layers\": 2,<br>    \"output_layer\": \"dense\",<br>    \"layer_0\": \"Conv2D\",<br>    \"layer_0_conv2d_filters\": 4,<br>    \"layer_0_conv2d_fsize\": 5,<br>    \"layer_0_conv2d_ssize\": 7,<br>    \"activation_0\": \"linear\",<br>    \"layer_1\": \"Conv2D\",<br>    \"layer_1_conv2d_filters\": 24,<br>    \"layer_1_conv2d_fsize\": 3,<br>    \"layer_1_conv2d_ssize\": 3,<br>    \"activation_1\": \"relu\",<br>    \"output_dropout\": 0.5728323632934817,<br>    \"lr_inicial\": 0.0011843268061004326<br>  }<br>}",
          "{<br>  \"number\": 493,<br>  \"values\": [<br>    0.6200000047683716,<br>    7005.0<br>  ],<br>  \"params\": {<br>    \"batchsize\": 32,<br>    \"brightness_factor\": 0.10365057509264503,<br>    \"gaussian_noise_factor\": 0.15942832856409703,<br>    \"translate_factor\": 0.18487842927460915,<br>    \"num_layers\": 2,<br>    \"output_layer\": \"pooling\",<br>    \"layer_0\": \"Conv2D\",<br>    \"layer_0_conv2d_filters\": 4,<br>    \"layer_0_conv2d_fsize\": 4,<br>    \"layer_0_conv2d_ssize\": 6,<br>    \"activation_0\": \"relu\",<br>    \"layer_1\": \"Conv2D\",<br>    \"layer_1_conv2d_filters\": 28,<br>    \"layer_1_conv2d_fsize\": 3,<br>    \"layer_1_conv2d_ssize\": 4,<br>    \"activation_1\": \"relu\",<br>    \"pre_GAP_layer_fsize\": 3,<br>    \"pre_GAP_layer_act\": \"relu\",<br>    \"lr_inicial\": 0.0004273358814435763<br>  }<br>}",
          "{<br>  \"number\": 494,<br>  \"values\": [<br>    0.7400000095367432,<br>    9917.0<br>  ],<br>  \"params\": {<br>    \"batchsize\": 32,<br>    \"brightness_factor\": 0.1311521436121999,<br>    \"gaussian_noise_factor\": 0.02628935421555406,<br>    \"translate_factor\": 0.12052979970418029,<br>    \"num_layers\": 3,<br>    \"output_layer\": \"pooling\",<br>    \"layer_0\": \"Conv2D\",<br>    \"layer_0_conv2d_filters\": 4,<br>    \"layer_0_conv2d_fsize\": 5,<br>    \"layer_0_conv2d_ssize\": 4,<br>    \"activation_0\": \"tanh\",<br>    \"layer_1\": \"Conv2D\",<br>    \"layer_1_conv2d_filters\": 12,<br>    \"layer_1_conv2d_fsize\": 5,<br>    \"layer_1_conv2d_ssize\": 4,<br>    \"activation_1\": \"relu\",<br>    \"layer_2\": \"Pointwise2D\",<br>    \"layer_2_pwconv2d_filters\": 32,<br>    \"layer_2_pwconv2d_ssize\": 5,<br>    \"activation_2\": \"linear\",<br>    \"pre_GAP_layer_fsize\": 3,<br>    \"pre_GAP_layer_act\": \"relu\",<br>    \"lr_inicial\": 0.0016680337620404244<br>  }<br>}",
          "{<br>  \"number\": 495,<br>  \"values\": [<br>    0.800000011920929,<br>    22259.0<br>  ],<br>  \"params\": {<br>    \"batchsize\": 32,<br>    \"brightness_factor\": 0.0453250456611618,<br>    \"gaussian_noise_factor\": 0.020249629523354296,<br>    \"translate_factor\": 0.03826273417815389,<br>    \"num_layers\": 2,<br>    \"output_layer\": \"dense\",<br>    \"layer_0\": \"Pointwise2D\",<br>    \"layer_0_pwconv2d_filters\": 4,<br>    \"layer_0_pwconv2d_ssize\": 6,<br>    \"activation_0\": \"relu\",<br>    \"layer_1\": \"Conv2D\",<br>    \"layer_1_conv2d_filters\": 32,<br>    \"layer_1_conv2d_fsize\": 3,<br>    \"layer_1_conv2d_ssize\": 4,<br>    \"activation_1\": \"linear\",<br>    \"output_dropout\": 0.588793824404823,<br>    \"lr_inicial\": 0.001268925167128917<br>  }<br>}",
          "{<br>  \"number\": 496,<br>  \"values\": [<br>    0.7400000095367432,<br>    21469.0<br>  ],<br>  \"params\": {<br>    \"batchsize\": 32,<br>    \"brightness_factor\": 0.07816246089417409,<br>    \"gaussian_noise_factor\": 0.06955045620997777,<br>    \"translate_factor\": 0.19500152758828415,<br>    \"num_layers\": 2,<br>    \"output_layer\": \"pooling\",<br>    \"layer_0\": \"Conv2D\",<br>    \"layer_0_conv2d_filters\": 28,<br>    \"layer_0_conv2d_fsize\": 4,<br>    \"layer_0_conv2d_ssize\": 5,<br>    \"activation_0\": \"tanh\",<br>    \"layer_1\": \"Conv2D\",<br>    \"layer_1_conv2d_filters\": 16,<br>    \"layer_1_conv2d_fsize\": 3,<br>    \"layer_1_conv2d_ssize\": 4,<br>    \"activation_1\": \"relu\",<br>    \"pre_GAP_layer_fsize\": 4,<br>    \"pre_GAP_layer_act\": \"relu\",<br>    \"lr_inicial\": 0.0014392075528064346<br>  }<br>}",
          "{<br>  \"number\": 497,<br>  \"values\": [<br>    0.6399999856948853,<br>    13211.0<br>  ],<br>  \"params\": {<br>    \"batchsize\": 32,<br>    \"brightness_factor\": 0.1173089012757887,<br>    \"gaussian_noise_factor\": 0.062337931069669575,<br>    \"translate_factor\": 0.17781367948990145,<br>    \"num_layers\": 1,<br>    \"output_layer\": \"dense\",<br>    \"layer_0\": \"Conv2D\",<br>    \"layer_0_conv2d_filters\": 4,<br>    \"layer_0_conv2d_fsize\": 4,<br>    \"layer_0_conv2d_ssize\": 5,<br>    \"activation_0\": \"relu\",<br>    \"output_dropout\": 0.4434894157190395,<br>    \"lr_inicial\": 0.0017557263199508854<br>  }<br>}",
          "{<br>  \"number\": 498,<br>  \"values\": [<br>    0.6600000262260437,<br>    3061.0<br>  ],<br>  \"params\": {<br>    \"batchsize\": 32,<br>    \"brightness_factor\": 0.13800420456432735,<br>    \"gaussian_noise_factor\": 0.07794795658717114,<br>    \"translate_factor\": 0.10246243221736279,<br>    \"num_layers\": 2,<br>    \"output_layer\": \"pooling\",<br>    \"layer_0\": \"Conv2D\",<br>    \"layer_0_conv2d_filters\": 4,<br>    \"layer_0_conv2d_fsize\": 3,<br>    \"layer_0_conv2d_ssize\": 4,<br>    \"activation_0\": \"tanh\",<br>    \"layer_1\": \"Conv2D\",<br>    \"layer_1_conv2d_filters\": 12,<br>    \"layer_1_conv2d_fsize\": 3,<br>    \"layer_1_conv2d_ssize\": 4,<br>    \"activation_1\": \"relu\",<br>    \"pre_GAP_layer_fsize\": 3,<br>    \"pre_GAP_layer_act\": \"relu\",<br>    \"lr_inicial\": 0.0012061274440679547<br>  }<br>}",
          "{<br>  \"number\": 499,<br>  \"values\": [<br>    0.8799999952316284,<br>    29684.0<br>  ],<br>  \"params\": {<br>    \"batchsize\": 32,<br>    \"brightness_factor\": 0.10797394040874025,<br>    \"gaussian_noise_factor\": 0.10975668293538311,<br>    \"translate_factor\": 0.1892138446599084,<br>    \"num_layers\": 3,<br>    \"output_layer\": \"dense\",<br>    \"layer_0\": \"Conv2D\",<br>    \"layer_0_conv2d_filters\": 4,<br>    \"layer_0_conv2d_fsize\": 5,<br>    \"layer_0_conv2d_ssize\": 2,<br>    \"activation_0\": \"relu\",<br>    \"layer_1\": \"Conv2D\",<br>    \"layer_1_conv2d_filters\": 28,<br>    \"layer_1_conv2d_fsize\": 5,<br>    \"layer_1_conv2d_ssize\": 4,<br>    \"activation_1\": \"relu\",<br>    \"layer_2\": \"Conv2D\",<br>    \"layer_2_conv2d_filters\": 24,<br>    \"layer_2_conv2d_fsize\": 3,<br>    \"layer_2_conv2d_ssize\": 3,<br>    \"activation_2\": \"relu\",<br>    \"output_dropout\": 0.34465263291007076,<br>    \"lr_inicial\": 0.001326993193714567<br>  }<br>}",
          "{<br>  \"number\": 500,<br>  \"values\": [<br>    0.5799999833106995,<br>    1789.0<br>  ],<br>  \"params\": {<br>    \"batchsize\": 32,<br>    \"brightness_factor\": 0.12517493435497404,<br>    \"gaussian_noise_factor\": 0.029182417170121926,<br>    \"translate_factor\": 0.18153709224724568,<br>    \"num_layers\": 2,<br>    \"output_layer\": \"pooling\",<br>    \"layer_0\": \"Conv2D\",<br>    \"layer_0_conv2d_filters\": 4,<br>    \"layer_0_conv2d_fsize\": 4,<br>    \"layer_0_conv2d_ssize\": 7,<br>    \"activation_0\": \"linear\",<br>    \"layer_1\": \"Conv2D\",<br>    \"layer_1_conv2d_filters\": 4,<br>    \"layer_1_conv2d_fsize\": 4,<br>    \"layer_1_conv2d_ssize\": 5,<br>    \"activation_1\": \"relu\",<br>    \"pre_GAP_layer_fsize\": 3,<br>    \"pre_GAP_layer_act\": \"relu\",<br>    \"lr_inicial\": 0.0006625047895887512<br>  }<br>}",
          "{<br>  \"number\": 501,<br>  \"values\": [<br>    0.47999998927116394,<br>    26629.0<br>  ],<br>  \"params\": {<br>    \"batchsize\": 32,<br>    \"brightness_factor\": 0.12104396471028639,<br>    \"gaussian_noise_factor\": 0.08447775954499015,<br>    \"translate_factor\": 0.1929077319096155,<br>    \"num_layers\": 2,<br>    \"output_layer\": \"pooling\",<br>    \"layer_0\": \"Pointwise2D\",<br>    \"layer_0_pwconv2d_filters\": 28,<br>    \"layer_0_pwconv2d_ssize\": 4,<br>    \"activation_0\": \"tanh\",<br>    \"layer_1\": \"Conv2D\",<br>    \"layer_1_conv2d_filters\": 24,<br>    \"layer_1_conv2d_fsize\": 3,<br>    \"layer_1_conv2d_ssize\": 4,<br>    \"activation_1\": \"linear\",<br>    \"pre_GAP_layer_fsize\": 3,<br>    \"pre_GAP_layer_act\": \"tanh\",<br>    \"lr_inicial\": 0.0016979523485838766<br>  }<br>}",
          "{<br>  \"number\": 502,<br>  \"values\": [<br>    0.8600000143051147,<br>    20148.0<br>  ],<br>  \"params\": {<br>    \"batchsize\": 32,<br>    \"brightness_factor\": 0.14957841133247193,<br>    \"gaussian_noise_factor\": 0.017195493238753162,<br>    \"translate_factor\": 0.18423024232960786,<br>    \"num_layers\": 2,<br>    \"output_layer\": \"dense\",<br>    \"layer_0\": \"Conv2D\",<br>    \"layer_0_conv2d_filters\": 4,<br>    \"layer_0_conv2d_fsize\": 5,<br>    \"layer_0_conv2d_ssize\": 4,<br>    \"activation_0\": \"relu\",<br>    \"layer_1\": \"Conv2D\",<br>    \"layer_1_conv2d_filters\": 12,<br>    \"layer_1_conv2d_fsize\": 3,<br>    \"layer_1_conv2d_ssize\": 4,<br>    \"activation_1\": \"relu\",<br>    \"output_dropout\": 0.5429614981875954,<br>    \"lr_inicial\": 0.0015281059590750517<br>  }<br>}",
          "{<br>  \"number\": 503,<br>  \"values\": [<br>    0.5199999809265137,<br>    757.0<br>  ],<br>  \"params\": {<br>    \"batchsize\": 32,<br>    \"brightness_factor\": 0.09918684016360615,<br>    \"gaussian_noise_factor\": 0.024846049686238256,<br>    \"translate_factor\": 0.05111735031105053,<br>    \"num_layers\": 1,<br>    \"output_layer\": \"pooling\",<br>    \"layer_0\": \"Conv2D\",<br>    \"layer_0_conv2d_filters\": 4,<br>    \"layer_0_conv2d_fsize\": 4,<br>    \"layer_0_conv2d_ssize\": 16,<br>    \"activation_0\": \"relu\",<br>    \"pre_GAP_layer_fsize\": 3,<br>    \"pre_GAP_layer_act\": \"relu\",<br>    \"lr_inicial\": 0.0013962085840093653<br>  }<br>}",
          "{<br>  \"number\": 504,<br>  \"values\": [<br>    0.7599999904632568,<br>    21763.0<br>  ],<br>  \"params\": {<br>    \"batchsize\": 128,<br>    \"brightness_factor\": 0.06341161895783384,<br>    \"gaussian_noise_factor\": 0.09799021633336238,<br>    \"translate_factor\": 0.17573450329178278,<br>    \"num_layers\": 3,<br>    \"output_layer\": \"dense\",<br>    \"layer_0\": \"Conv2D\",<br>    \"layer_0_conv2d_filters\": 8,<br>    \"layer_0_conv2d_fsize\": 4,<br>    \"layer_0_conv2d_ssize\": 2,<br>    \"activation_0\": \"tanh\",<br>    \"layer_1\": \"Conv2D\",<br>    \"layer_1_conv2d_filters\": 16,<br>    \"layer_1_conv2d_fsize\": 3,<br>    \"layer_1_conv2d_ssize\": 4,<br>    \"activation_1\": \"relu\",<br>    \"layer_2\": \"Pointwise2D\",<br>    \"layer_2_pwconv2d_filters\": 4,<br>    \"layer_2_pwconv2d_ssize\": 3,<br>    \"activation_2\": \"tanh\",<br>    \"output_dropout\": 0.3200586380693049,<br>    \"lr_inicial\": 0.001290464302508829<br>  }<br>}",
          "{<br>  \"number\": 505,<br>  \"values\": [<br>    0.4000000059604645,<br>    18597.0<br>  ],<br>  \"params\": {<br>    \"batchsize\": 32,<br>    \"brightness_factor\": 0.18487528101086276,<br>    \"gaussian_noise_factor\": 0.08999028978985753,<br>    \"translate_factor\": 0.15862799480553003,<br>    \"num_layers\": 2,<br>    \"output_layer\": \"pooling\",<br>    \"layer_0\": \"Conv2D\",<br>    \"layer_0_conv2d_filters\": 4,<br>    \"layer_0_conv2d_fsize\": 5,<br>    \"layer_0_conv2d_ssize\": 6,<br>    \"activation_0\": \"relu\",<br>    \"layer_1\": \"Conv2D\",<br>    \"layer_1_conv2d_filters\": 32,<br>    \"layer_1_conv2d_fsize\": 5,<br>    \"layer_1_conv2d_ssize\": 3,<br>    \"activation_1\": \"relu\",<br>    \"pre_GAP_layer_fsize\": 4,<br>    \"pre_GAP_layer_act\": \"relu\",<br>    \"lr_inicial\": 0.0017859961295145258<br>  }<br>}",
          "{<br>  \"number\": 506,<br>  \"values\": [<br>    0.6600000262260437,<br>    5117.0<br>  ],<br>  \"params\": {<br>    \"batchsize\": 32,<br>    \"brightness_factor\": 0.034144706750370096,<br>    \"gaussian_noise_factor\": 0.005838723204623392,<br>    \"translate_factor\": 0.14275984456627694,<br>    \"num_layers\": 2,<br>    \"output_layer\": \"pooling\",<br>    \"layer_0\": \"Conv2D\",<br>    \"layer_0_conv2d_filters\": 4,<br>    \"layer_0_conv2d_fsize\": 4,<br>    \"layer_0_conv2d_ssize\": 4,<br>    \"activation_0\": \"tanh\",<br>    \"layer_1\": \"Conv2D\",<br>    \"layer_1_conv2d_filters\": 20,<br>    \"layer_1_conv2d_fsize\": 3,<br>    \"layer_1_conv2d_ssize\": 3,<br>    \"activation_1\": \"relu\",<br>    \"pre_GAP_layer_fsize\": 3,<br>    \"pre_GAP_layer_act\": \"relu\",<br>    \"lr_inicial\": 0.0012391103684379343<br>  }<br>}",
          "{<br>  \"number\": 507,<br>  \"values\": [<br>    0.699999988079071,<br>    21811.0<br>  ],<br>  \"params\": {<br>    \"batchsize\": 32,<br>    \"brightness_factor\": 0.1793068956526889,<br>    \"gaussian_noise_factor\": 0.03499447165876605,<br>    \"translate_factor\": 0.18830948968241698,<br>    \"num_layers\": 2,<br>    \"output_layer\": \"dense\",<br>    \"layer_0\": \"Pointwise2D\",<br>    \"layer_0_pwconv2d_filters\": 8,<br>    \"layer_0_pwconv2d_ssize\": 7,<br>    \"activation_0\": \"relu\",<br>    \"layer_1\": \"Conv2D\",<br>    \"layer_1_conv2d_filters\": 12,<br>    \"layer_1_conv2d_fsize\": 3,<br>    \"layer_1_conv2d_ssize\": 5,<br>    \"activation_1\": \"linear\",<br>    \"output_dropout\": 0.5563778126275558,<br>    \"lr_inicial\": 0.0015643855691872207<br>  }<br>}",
          "{<br>  \"number\": 508,<br>  \"values\": [<br>    0.8999999761581421,<br>    21717.0<br>  ],<br>  \"params\": {<br>    \"batchsize\": 32,<br>    \"brightness_factor\": 0.13489827855461717,<br>    \"gaussian_noise_factor\": 0.020958049080167712,<br>    \"translate_factor\": 0.13215220786781331,<br>    \"num_layers\": 3,<br>    \"output_layer\": \"pooling\",<br>    \"layer_0\": \"Conv2D\",<br>    \"layer_0_conv2d_filters\": 4,<br>    \"layer_0_conv2d_fsize\": 3,<br>    \"layer_0_conv2d_ssize\": 4,<br>    \"activation_0\": \"tanh\",<br>    \"layer_1\": \"Conv2D\",<br>    \"layer_1_conv2d_filters\": 24,<br>    \"layer_1_conv2d_fsize\": 4,<br>    \"layer_1_conv2d_ssize\": 2,<br>    \"activation_1\": \"relu\",<br>    \"layer_2\": \"Conv2D\",<br>    \"layer_2_conv2d_filters\": 16,<br>    \"layer_2_conv2d_fsize\": 3,<br>    \"layer_2_conv2d_ssize\": 4,<br>    \"activation_2\": \"linear\",<br>    \"pre_GAP_layer_fsize\": 3,<br>    \"pre_GAP_layer_act\": \"relu\",<br>    \"lr_inicial\": 0.0014560101912120152<br>  }<br>}",
          "{<br>  \"number\": 509,<br>  \"values\": [<br>    0.699999988079071,<br>    17234.0<br>  ],<br>  \"params\": {<br>    \"batchsize\": 32,<br>    \"brightness_factor\": 0.028352752815454872,<br>    \"gaussian_noise_factor\": 0.05983103957538058,<br>    \"translate_factor\": 0.19060262367458894,<br>    \"num_layers\": 1,<br>    \"output_layer\": \"dense\",<br>    \"layer_0\": \"Conv2D\",<br>    \"layer_0_conv2d_filters\": 4,<br>    \"layer_0_conv2d_fsize\": 5,<br>    \"layer_0_conv2d_ssize\": 10,<br>    \"activation_0\": \"linear\",<br>    \"output_dropout\": 0.5221599128559948,<br>    \"lr_inicial\": 0.0016500546105913888<br>  }<br>}",
          "{<br>  \"number\": 510,<br>  \"values\": [<br>    0.6000000238418579,<br>    14173.0<br>  ],<br>  \"params\": {<br>    \"batchsize\": 96,<br>    \"brightness_factor\": 0.13965683266647247,<br>    \"gaussian_noise_factor\": 0.029391744899406613,<br>    \"translate_factor\": 0.18124882396031847,<br>    \"num_layers\": 2,<br>    \"output_layer\": \"pooling\",<br>    \"layer_0\": \"Conv2D\",<br>    \"layer_0_conv2d_filters\": 4,<br>    \"layer_0_conv2d_fsize\": 4,<br>    \"layer_0_conv2d_ssize\": 4,<br>    \"activation_0\": \"relu\",<br>    \"layer_1\": \"Conv2D\",<br>    \"layer_1_conv2d_filters\": 28,<br>    \"layer_1_conv2d_fsize\": 5,<br>    \"layer_1_conv2d_ssize\": 4,<br>    \"activation_1\": \"relu\",<br>    \"pre_GAP_layer_fsize\": 3,<br>    \"pre_GAP_layer_act\": \"tanh\",<br>    \"lr_inicial\": 0.001317935110338776<br>  }<br>}",
          "{<br>  \"number\": 511,<br>  \"values\": [<br>    0.8999999761581421,<br>    20379.0<br>  ],<br>  \"params\": {<br>    \"batchsize\": 32,<br>    \"brightness_factor\": 0.129215553697115,<br>    \"gaussian_noise_factor\": 0.014964147385267225,<br>    \"translate_factor\": 0.09019582612539555,<br>    \"num_layers\": 2,<br>    \"output_layer\": \"dense\",<br>    \"layer_0\": \"Conv2D\",<br>    \"layer_0_conv2d_filters\": 4,<br>    \"layer_0_conv2d_fsize\": 4,<br>    \"layer_0_conv2d_ssize\": 5,<br>    \"activation_0\": \"tanh\",<br>    \"layer_1\": \"Conv2D\",<br>    \"layer_1_conv2d_filters\": 12,<br>    \"layer_1_conv2d_fsize\": 3,<br>    \"layer_1_conv2d_ssize\": 4,<br>    \"activation_1\": \"relu\",<br>    \"output_dropout\": 0.3365420372568354,<br>    \"lr_inicial\": 0.0011504746924070586<br>  }<br>}",
          "{<br>  \"number\": 512,<br>  \"values\": [<br>    0.6800000071525574,<br>    1477.0<br>  ],<br>  \"params\": {<br>    \"batchsize\": 32,<br>    \"brightness_factor\": 0.17366278508609517,<br>    \"gaussian_noise_factor\": 0.11813181316656704,<br>    \"translate_factor\": 0.1857279068756104,<br>    \"num_layers\": 2,<br>    \"output_layer\": \"pooling\",<br>    \"layer_0\": \"Conv2D\",<br>    \"layer_0_conv2d_filters\": 4,<br>    \"layer_0_conv2d_fsize\": 5,<br>    \"layer_0_conv2d_ssize\": 4,<br>    \"activation_0\": \"relu\",<br>    \"layer_1\": \"Pointwise2D\",<br>    \"layer_1_pwconv2d_filters\": 8,<br>    \"layer_1_pwconv2d_ssize\": 3,<br>    \"activation_1\": \"linear\",<br>    \"pre_GAP_layer_fsize\": 3,<br>    \"pre_GAP_layer_act\": \"relu\",<br>    \"lr_inicial\": 0.0013910128556581453<br>  }<br>}",
          "{<br>  \"number\": 513,<br>  \"values\": [<br>    0.8399999737739563,<br>    5261.0<br>  ],<br>  \"params\": {<br>    \"batchsize\": 32,<br>    \"brightness_factor\": 0.15311645012947078,<br>    \"gaussian_noise_factor\": 0.022684278103078947,<br>    \"translate_factor\": 0.17686634551914884,<br>    \"num_layers\": 3,<br>    \"output_layer\": \"pooling\",<br>    \"layer_0\": \"Conv2D\",<br>    \"layer_0_conv2d_filters\": 4,<br>    \"layer_0_conv2d_fsize\": 4,<br>    \"layer_0_conv2d_ssize\": 2,<br>    \"activation_0\": \"tanh\",<br>    \"layer_1\": \"Conv2D\",<br>    \"layer_1_conv2d_filters\": 16,<br>    \"layer_1_conv2d_fsize\": 3,<br>    \"layer_1_conv2d_ssize\": 4,<br>    \"activation_1\": \"relu\",<br>    \"layer_2\": \"Pointwise2D\",<br>    \"layer_2_pwconv2d_filters\": 8,<br>    \"layer_2_pwconv2d_ssize\": 5,<br>    \"activation_2\": \"tanh\",<br>    \"pre_GAP_layer_fsize\": 5,<br>    \"pre_GAP_layer_act\": \"relu\",<br>    \"lr_inicial\": 0.0017590352563987717<br>  }<br>}",
          "{<br>  \"number\": 514,<br>  \"values\": [<br>    0.800000011920929,<br>    23144.0<br>  ],<br>  \"params\": {<br>    \"batchsize\": 32,<br>    \"brightness_factor\": 0.1467337525242716,<br>    \"gaussian_noise_factor\": 0.05336466037002177,<br>    \"translate_factor\": 0.19335671052429276,<br>    \"num_layers\": 2,<br>    \"output_layer\": \"dense\",<br>    \"layer_0\": \"Pointwise2D\",<br>    \"layer_0_pwconv2d_filters\": 20,<br>    \"layer_0_pwconv2d_ssize\": 5,<br>    \"activation_0\": \"tanh\",<br>    \"layer_1\": \"Conv2D\",<br>    \"layer_1_conv2d_filters\": 16,<br>    \"layer_1_conv2d_fsize\": 3,<br>    \"layer_1_conv2d_ssize\": 5,<br>    \"activation_1\": \"relu\",<br>    \"output_dropout\": 0.3021008537460823,<br>    \"lr_inicial\": 0.0017275757741536965<br>  }<br>}",
          "{<br>  \"number\": 515,<br>  \"values\": [<br>    0.6600000262260437,<br>    1613.0<br>  ],<br>  \"params\": {<br>    \"batchsize\": 32,<br>    \"brightness_factor\": 0.13978863085080073,<br>    \"gaussian_noise_factor\": 0.023661984713910258,<br>    \"translate_factor\": 0.10786307515713381,<br>    \"num_layers\": 1,<br>    \"output_layer\": \"pooling\",<br>    \"layer_0\": \"Conv2D\",<br>    \"layer_0_conv2d_filters\": 4,<br>    \"layer_0_conv2d_fsize\": 5,<br>    \"layer_0_conv2d_ssize\": 12,<br>    \"activation_0\": \"tanh\",<br>    \"pre_GAP_layer_fsize\": 5,<br>    \"pre_GAP_layer_act\": \"relu\",<br>    \"lr_inicial\": 0.0012551442106054627<br>  }<br>}",
          "{<br>  \"number\": 516,<br>  \"values\": [<br>    0.800000011920929,<br>    22159.0<br>  ],<br>  \"params\": {<br>    \"batchsize\": 32,<br>    \"brightness_factor\": 0.1476824304553469,<br>    \"gaussian_noise_factor\": 0.036746484064285906,<br>    \"translate_factor\": 0.14807539553593027,<br>    \"num_layers\": 2,<br>    \"output_layer\": \"dense\",<br>    \"layer_0\": \"Conv2D\",<br>    \"layer_0_conv2d_filters\": 4,<br>    \"layer_0_conv2d_fsize\": 4,<br>    \"layer_0_conv2d_ssize\": 6,<br>    \"activation_0\": \"relu\",<br>    \"layer_1\": \"Conv2D\",<br>    \"layer_1_conv2d_filters\": 28,<br>    \"layer_1_conv2d_fsize\": 3,<br>    \"layer_1_conv2d_ssize\": 4,<br>    \"activation_1\": \"relu\",<br>    \"output_dropout\": 0.5345859141833862,<br>    \"lr_inicial\": 0.001843416288445768<br>  }<br>}",
          "{<br>  \"number\": 517,<br>  \"values\": [<br>    0.6200000047683716,<br>    2845.0<br>  ],<br>  \"params\": {<br>    \"batchsize\": 32,<br>    \"brightness_factor\": 0.14292491706447252,<br>    \"gaussian_noise_factor\": 0.01092777751370713,<br>    \"translate_factor\": 0.04684720589289333,<br>    \"num_layers\": 2,<br>    \"output_layer\": \"pooling\",<br>    \"layer_0\": \"Conv2D\",<br>    \"layer_0_conv2d_filters\": 4,<br>    \"layer_0_conv2d_fsize\": 4,<br>    \"layer_0_conv2d_ssize\": 2,<br>    \"activation_0\": \"linear\",<br>    \"layer_1\": \"Conv2D\",<br>    \"layer_1_conv2d_filters\": 8,<br>    \"layer_1_conv2d_fsize\": 3,<br>    \"layer_1_conv2d_ssize\": 6,<br>    \"activation_1\": \"relu\",<br>    \"pre_GAP_layer_fsize\": 4,<br>    \"pre_GAP_layer_act\": \"relu\",<br>    \"lr_inicial\": 0.0015140463167763458<br>  }<br>}",
          "{<br>  \"number\": 518,<br>  \"values\": [<br>    0.6000000238418579,<br>    1165.0<br>  ],<br>  \"params\": {<br>    \"batchsize\": 128,<br>    \"brightness_factor\": 0.020449906019946257,<br>    \"gaussian_noise_factor\": 0.01929154992303151,<br>    \"translate_factor\": 0.009226508078786194,<br>    \"num_layers\": 3,<br>    \"output_layer\": \"pooling\",<br>    \"layer_0\": \"Conv2D\",<br>    \"layer_0_conv2d_filters\": 4,<br>    \"layer_0_conv2d_fsize\": 3,<br>    \"layer_0_conv2d_ssize\": 4,<br>    \"activation_0\": \"tanh\",<br>    \"layer_1\": \"Pointwise2D\",<br>    \"layer_1_pwconv2d_filters\": 4,<br>    \"layer_1_pwconv2d_ssize\": 2,<br>    \"activation_1\": \"tanh\",<br>    \"layer_2\": \"Pointwise2D\",<br>    \"layer_2_pwconv2d_filters\": 8,<br>    \"layer_2_pwconv2d_ssize\": 5,<br>    \"activation_2\": \"relu\",<br>    \"pre_GAP_layer_fsize\": 3,<br>    \"pre_GAP_layer_act\": \"relu\",<br>    \"lr_inicial\": 0.0008120470726427955<br>  }<br>}",
          "{<br>  \"number\": 519,<br>  \"values\": [<br>    0.800000011920929,<br>    22955.0<br>  ],<br>  \"params\": {<br>    \"batchsize\": 32,<br>    \"brightness_factor\": 0.15186317541546998,<br>    \"gaussian_noise_factor\": 0.06696937642149393,<br>    \"translate_factor\": 0.18502102242901475,<br>    \"num_layers\": 2,<br>    \"output_layer\": \"dense\",<br>    \"layer_0\": \"Conv2D\",<br>    \"layer_0_conv2d_filters\": 4,<br>    \"layer_0_conv2d_fsize\": 5,<br>    \"layer_0_conv2d_ssize\": 7,<br>    \"activation_0\": \"relu\",<br>    \"layer_1\": \"Conv2D\",<br>    \"layer_1_conv2d_filters\": 32,<br>    \"layer_1_conv2d_fsize\": 3,<br>    \"layer_1_conv2d_ssize\": 4,<br>    \"activation_1\": \"relu\",<br>    \"output_dropout\": 0.39493460857095775,<br>    \"lr_inicial\": 0.0003663460356249446<br>  }<br>}",
          "{<br>  \"number\": 520,<br>  \"values\": [<br>    0.5400000214576721,<br>    13525.0<br>  ],<br>  \"params\": {<br>    \"batchsize\": 32,<br>    \"brightness_factor\": 0.1128496759216548,<br>    \"gaussian_noise_factor\": 0.02525610928815177,<br>    \"translate_factor\": 0.11307329535982431,<br>    \"num_layers\": 2,<br>    \"output_layer\": \"pooling\",<br>    \"layer_0\": \"Pointwise2D\",<br>    \"layer_0_pwconv2d_filters\": 16,<br>    \"layer_0_pwconv2d_ssize\": 2,<br>    \"activation_0\": \"relu\",<br>    \"layer_1\": \"Conv2D\",<br>    \"layer_1_conv2d_filters\": 12,<br>    \"layer_1_conv2d_fsize\": 4,<br>    \"layer_1_conv2d_ssize\": 4,<br>    \"activation_1\": \"linear\",<br>    \"pre_GAP_layer_fsize\": 3,<br>    \"pre_GAP_layer_act\": \"tanh\",<br>    \"lr_inicial\": 0.0016125888377497505<br>  }<br>}",
          "{<br>  \"number\": 521,<br>  \"values\": [<br>    0.7400000095367432,<br>    21903.0<br>  ],<br>  \"params\": {<br>    \"batchsize\": 96,<br>    \"brightness_factor\": 0.13307896757960222,<br>    \"gaussian_noise_factor\": 0.03313566351872931,<br>    \"translate_factor\": 0.02287405060068657,<br>    \"num_layers\": 1,<br>    \"output_layer\": \"dense\",<br>    \"layer_0\": \"Conv2D\",<br>    \"layer_0_conv2d_filters\": 32,<br>    \"layer_0_conv2d_fsize\": 4,<br>    \"layer_0_conv2d_ssize\": 13,<br>    \"activation_0\": \"tanh\",<br>    \"output_dropout\": 0.408328547822134,<br>    \"lr_inicial\": 0.0013513674470983466<br>  }<br>}",
          "{<br>  \"number\": 522,<br>  \"values\": [<br>    0.6600000262260437,<br>    7221.0<br>  ],<br>  \"params\": {<br>    \"batchsize\": 32,<br>    \"brightness_factor\": 0.1382517480203285,<br>    \"gaussian_noise_factor\": 0.16890686830738405,<br>    \"translate_factor\": 0.19685343361923902,<br>    \"num_layers\": 2,<br>    \"output_layer\": \"pooling\",<br>    \"layer_0\": \"Conv2D\",<br>    \"layer_0_conv2d_filters\": 4,<br>    \"layer_0_conv2d_fsize\": 5,<br>    \"layer_0_conv2d_ssize\": 4,<br>    \"activation_0\": \"relu\",<br>    \"layer_1\": \"Conv2D\",<br>    \"layer_1_conv2d_filters\": 28,<br>    \"layer_1_conv2d_fsize\": 3,<br>    \"layer_1_conv2d_ssize\": 8,<br>    \"activation_1\": \"relu\",<br>    \"pre_GAP_layer_fsize\": 3,<br>    \"pre_GAP_layer_act\": \"relu\",<br>    \"lr_inicial\": 0.001790578320736952<br>  }<br>}",
          "{<br>  \"number\": 523,<br>  \"values\": [<br>    0.7599999904632568,<br>    28991.0<br>  ],<br>  \"params\": {<br>    \"batchsize\": 32,<br>    \"brightness_factor\": 0.14407409674845514,<br>    \"gaussian_noise_factor\": 0.11407693176739105,<br>    \"translate_factor\": 0.18028068563293054,<br>    \"num_layers\": 3,<br>    \"output_layer\": \"dense\",<br>    \"layer_0\": \"Conv2D\",<br>    \"layer_0_conv2d_filters\": 4,<br>    \"layer_0_conv2d_fsize\": 4,<br>    \"layer_0_conv2d_ssize\": 2,<br>    \"activation_0\": \"tanh\",<br>    \"layer_1\": \"Conv2D\",<br>    \"layer_1_conv2d_filters\": 24,<br>    \"layer_1_conv2d_fsize\": 5,<br>    \"layer_1_conv2d_ssize\": 2,<br>    \"activation_1\": \"relu\",<br>    \"layer_2\": \"Conv2D\",<br>    \"layer_2_conv2d_filters\": 28,<br>    \"layer_2_conv2d_fsize\": 3,<br>    \"layer_2_conv2d_ssize\": 3,<br>    \"activation_2\": \"tanh\",<br>    \"output_dropout\": 0.435759210213446,<br>    \"lr_inicial\": 0.0003485065376689702<br>  }<br>}",
          "{<br>  \"number\": 524,<br>  \"values\": [<br>    0.6800000071525574,<br>    3613.0<br>  ],<br>  \"params\": {<br>    \"batchsize\": 32,<br>    \"brightness_factor\": 0.054862347713647286,<br>    \"gaussian_noise_factor\": 0.07213398412602891,<br>    \"translate_factor\": 0.1370728617656109,<br>    \"num_layers\": 2,<br>    \"output_layer\": \"pooling\",<br>    \"layer_0\": \"Conv2D\",<br>    \"layer_0_conv2d_filters\": 4,<br>    \"layer_0_conv2d_fsize\": 4,<br>    \"layer_0_conv2d_ssize\": 5,<br>    \"activation_0\": \"relu\",<br>    \"layer_1\": \"Pointwise2D\",<br>    \"layer_1_pwconv2d_filters\": 12,<br>    \"layer_1_pwconv2d_ssize\": 5,<br>    \"activation_1\": \"relu\",<br>    \"pre_GAP_layer_fsize\": 5,<br>    \"pre_GAP_layer_act\": \"relu\",<br>    \"lr_inicial\": 0.0012203142326702961<br>  }<br>}",
          "{<br>  \"number\": 525,<br>  \"values\": [<br>    0.5799999833106995,<br>    10213.0<br>  ],<br>  \"params\": {<br>    \"batchsize\": 32,<br>    \"brightness_factor\": 0.11971098942160237,<br>    \"gaussian_noise_factor\": 0.016875111798439674,<br>    \"translate_factor\": 0.09421368215459047,<br>    \"num_layers\": 2,<br>    \"output_layer\": \"pooling\",<br>    \"layer_0\": \"Conv2D\",<br>    \"layer_0_conv2d_filters\": 12,<br>    \"layer_0_conv2d_fsize\": 5,<br>    \"layer_0_conv2d_ssize\": 6,<br>    \"activation_0\": \"tanh\",<br>    \"layer_1\": \"Conv2D\",<br>    \"layer_1_conv2d_filters\": 16,<br>    \"layer_1_conv2d_fsize\": 3,<br>    \"layer_1_conv2d_ssize\": 3,<br>    \"activation_1\": \"relu\",<br>    \"pre_GAP_layer_fsize\": 3,<br>    \"pre_GAP_layer_act\": \"relu\",<br>    \"lr_inicial\": 0.0012792035498587237<br>  }<br>}",
          "{<br>  \"number\": 526,<br>  \"values\": [<br>    0.7599999904632568,<br>    25831.0<br>  ],<br>  \"params\": {<br>    \"batchsize\": 32,<br>    \"brightness_factor\": 0.014339646534266712,<br>    \"gaussian_noise_factor\": 0.05632521953678704,<br>    \"translate_factor\": 0.190328824657863,<br>    \"num_layers\": 2,<br>    \"output_layer\": \"dense\",<br>    \"layer_0\": \"Pointwise2D\",<br>    \"layer_0_pwconv2d_filters\": 32,<br>    \"layer_0_pwconv2d_ssize\": 5,<br>    \"activation_0\": \"linear\",<br>    \"layer_1\": \"Conv2D\",<br>    \"layer_1_conv2d_filters\": 20,<br>    \"layer_1_conv2d_fsize\": 3,<br>    \"layer_1_conv2d_ssize\": 4,<br>    \"activation_1\": \"linear\",<br>    \"output_dropout\": 0.38182229511431603,<br>    \"lr_inicial\": 0.0016483182496245111<br>  }<br>}",
          "{<br>  \"number\": 527,<br>  \"values\": [<br>    0.41999998688697815,<br>    5269.0<br>  ],<br>  \"params\": {<br>    \"batchsize\": 32,<br>    \"brightness_factor\": 0.0495126337808423,<br>    \"gaussian_noise_factor\": 0.021819516392235005,<br>    \"translate_factor\": 0.16672197455396565,<br>    \"num_layers\": 1,<br>    \"output_layer\": \"pooling\",<br>    \"layer_0\": \"Conv2D\",<br>    \"layer_0_conv2d_filters\": 28,<br>    \"layer_0_conv2d_fsize\": 4,<br>    \"layer_0_conv2d_ssize\": 8,<br>    \"activation_0\": \"relu\",<br>    \"pre_GAP_layer_fsize\": 3,<br>    \"pre_GAP_layer_act\": \"relu\",<br>    \"lr_inicial\": 0.0017170362613496413<br>  }<br>}",
          "{<br>  \"number\": 528,<br>  \"values\": [<br>    0.699999988079071,<br>    22755.0<br>  ],<br>  \"params\": {<br>    \"batchsize\": 32,<br>    \"brightness_factor\": 0.14962605265421336,<br>    \"gaussian_noise_factor\": 0.16423180204764348,<br>    \"translate_factor\": 0.1869180823408587,<br>    \"num_layers\": 3,<br>    \"output_layer\": \"dense\",<br>    \"layer_0\": \"Conv2D\",<br>    \"layer_0_conv2d_filters\": 4,<br>    \"layer_0_conv2d_fsize\": 5,<br>    \"layer_0_conv2d_ssize\": 4,<br>    \"activation_0\": \"tanh\",<br>    \"layer_1\": \"Conv2D\",<br>    \"layer_1_conv2d_filters\": 12,<br>    \"layer_1_conv2d_fsize\": 3,<br>    \"layer_1_conv2d_ssize\": 4,<br>    \"activation_1\": \"tanh\",<br>    \"layer_2\": \"Pointwise2D\",<br>    \"layer_2_pwconv2d_filters\": 28,<br>    \"layer_2_pwconv2d_ssize\": 2,<br>    \"activation_2\": \"linear\",<br>    \"output_dropout\": 0.5867892108749381,<br>    \"lr_inicial\": 0.0015653795577938786<br>  }<br>}",
          "{<br>  \"number\": 529,<br>  \"values\": [<br>    0.7200000286102295,<br>    2477.0<br>  ],<br>  \"params\": {<br>    \"batchsize\": 32,<br>    \"brightness_factor\": 0.12599597300620013,<br>    \"gaussian_noise_factor\": 0.13126175036339194,<br>    \"translate_factor\": 0.084598994999487,<br>    \"num_layers\": 2,<br>    \"output_layer\": \"pooling\",<br>    \"layer_0\": \"Conv2D\",<br>    \"layer_0_conv2d_filters\": 4,<br>    \"layer_0_conv2d_fsize\": 3,<br>    \"layer_0_conv2d_ssize\": 4,<br>    \"activation_0\": \"relu\",<br>    \"layer_1\": \"Conv2D\",<br>    \"layer_1_conv2d_filters\": 4,<br>    \"layer_1_conv2d_fsize\": 5,<br>    \"layer_1_conv2d_ssize\": 5,<br>    \"activation_1\": \"relu\",<br>    \"pre_GAP_layer_fsize\": 4,<br>    \"pre_GAP_layer_act\": \"relu\",<br>    \"lr_inicial\": 0.0013442253297006278<br>  }<br>}",
          "{<br>  \"number\": 530,<br>  \"values\": [<br>    0.5600000023841858,<br>    3181.0<br>  ],<br>  \"params\": {<br>    \"batchsize\": 128,<br>    \"brightness_factor\": 0.14260841221359627,<br>    \"gaussian_noise_factor\": 0.026584605180464592,<br>    \"translate_factor\": 0.09970063283825469,<br>    \"num_layers\": 2,<br>    \"output_layer\": \"pooling\",<br>    \"layer_0\": \"Conv2D\",<br>    \"layer_0_conv2d_filters\": 4,<br>    \"layer_0_conv2d_fsize\": 4,<br>    \"layer_0_conv2d_ssize\": 5,<br>    \"activation_0\": \"tanh\",<br>    \"layer_1\": \"Conv2D\",<br>    \"layer_1_conv2d_filters\": 8,<br>    \"layer_1_conv2d_fsize\": 4,<br>    \"layer_1_conv2d_ssize\": 7,<br>    \"activation_1\": \"relu\",<br>    \"pre_GAP_layer_fsize\": 3,<br>    \"pre_GAP_layer_act\": \"tanh\",<br>    \"lr_inicial\": 0.0014846246593430226<br>  }<br>}",
          "{<br>  \"number\": 531,<br>  \"values\": [<br>    0.800000011920929,<br>    17640.0<br>  ],<br>  \"params\": {<br>    \"batchsize\": 32,<br>    \"brightness_factor\": 0.15284913145809184,<br>    \"gaussian_noise_factor\": 0.020992643698910733,<br>    \"translate_factor\": 0.04304954267934932,<br>    \"num_layers\": 2,<br>    \"output_layer\": \"dense\",<br>    \"layer_0\": \"Conv2D\",<br>    \"layer_0_conv2d_filters\": 24,<br>    \"layer_0_conv2d_fsize\": 5,<br>    \"layer_0_conv2d_ssize\": 4,<br>    \"activation_0\": \"relu\",<br>    \"layer_1\": \"Pointwise2D\",<br>    \"layer_1_pwconv2d_filters\": 16,<br>    \"layer_1_pwconv2d_ssize\": 2,<br>    \"activation_1\": \"relu\",<br>    \"output_dropout\": 0.37589027967187966,<br>    \"lr_inicial\": 0.001846027376546301<br>  }<br>}",
          "{<br>  \"number\": 532,<br>  \"values\": [<br>    0.6600000262260437,<br>    48149.0<br>  ],<br>  \"params\": {<br>    \"batchsize\": 32,<br>    \"brightness_factor\": 0.06819064089894075,<br>    \"gaussian_noise_factor\": 0.03177691764742846,<br>    \"translate_factor\": 0.03257198444557807,<br>    \"num_layers\": 3,<br>    \"output_layer\": \"pooling\",<br>    \"layer_0\": \"Pointwise2D\",<br>    \"layer_0_pwconv2d_filters\": 20,<br>    \"layer_0_pwconv2d_ssize\": 3,<br>    \"activation_0\": \"tanh\",<br>    \"layer_1\": \"Conv2D\",<br>    \"layer_1_conv2d_filters\": 32,<br>    \"layer_1_conv2d_fsize\": 3,<br>    \"layer_1_conv2d_ssize\": 4,<br>    \"activation_1\": \"linear\",<br>    \"layer_2\": \"Conv2D\",<br>    \"layer_2_conv2d_filters\": 20,<br>    \"layer_2_conv2d_fsize\": 3,<br>    \"layer_2_conv2d_ssize\": 4,<br>    \"activation_2\": \"relu\",<br>    \"pre_GAP_layer_fsize\": 3,<br>    \"pre_GAP_layer_act\": \"relu\",<br>    \"lr_inicial\": 0.0012055741840344063<br>  }<br>}",
          "{<br>  \"number\": 533,<br>  \"values\": [<br>    0.7799999713897705,<br>    16672.0<br>  ],<br>  \"params\": {<br>    \"batchsize\": 32,<br>    \"brightness_factor\": 0.13932654149466922,<br>    \"gaussian_noise_factor\": 0.10516852018802675,<br>    \"translate_factor\": 0.1761428739324741,<br>    \"num_layers\": 2,<br>    \"output_layer\": \"dense\",<br>    \"layer_0\": \"Conv2D\",<br>    \"layer_0_conv2d_filters\": 8,<br>    \"layer_0_conv2d_fsize\": 4,<br>    \"layer_0_conv2d_ssize\": 2,<br>    \"activation_0\": \"relu\",<br>    \"layer_1\": \"Conv2D\",<br>    \"layer_1_conv2d_filters\": 12,<br>    \"layer_1_conv2d_fsize\": 3,<br>    \"layer_1_conv2d_ssize\": 4,<br>    \"activation_1\": \"relu\",<br>    \"output_dropout\": 0.36187213102905846,<br>    \"lr_inicial\": 0.0013016039097357667<br>  }<br>}",
          "{<br>  \"number\": 534,<br>  \"values\": [<br>    0.6200000047683716,<br>    757.0<br>  ],<br>  \"params\": {<br>    \"batchsize\": 32,<br>    \"brightness_factor\": 0.19191316464556016,<br>    \"gaussian_noise_factor\": 0.1398674695161875,<br>    \"translate_factor\": 0.1819068719609433,<br>    \"num_layers\": 1,<br>    \"output_layer\": \"pooling\",<br>    \"layer_0\": \"Conv2D\",<br>    \"layer_0_conv2d_filters\": 4,<br>    \"layer_0_conv2d_fsize\": 4,<br>    \"layer_0_conv2d_ssize\": 8,<br>    \"activation_0\": \"linear\",<br>    \"pre_GAP_layer_fsize\": 3,<br>    \"pre_GAP_layer_act\": \"relu\",<br>    \"lr_inicial\": 0.0007327112489457472<br>  }<br>}",
          "{<br>  \"number\": 535,<br>  \"values\": [<br>    0.8799999952316284,<br>    23427.0<br>  ],<br>  \"params\": {<br>    \"batchsize\": 96,<br>    \"brightness_factor\": 0.11548774794176081,<br>    \"gaussian_noise_factor\": 0.07603541879173528,<br>    \"translate_factor\": 0.016112769496865617,<br>    \"num_layers\": 2,<br>    \"output_layer\": \"dense\",<br>    \"layer_0\": \"Conv2D\",<br>    \"layer_0_conv2d_filters\": 4,<br>    \"layer_0_conv2d_fsize\": 5,<br>    \"layer_0_conv2d_ssize\": 4,<br>    \"activation_0\": \"relu\",<br>    \"layer_1\": \"Conv2D\",<br>    \"layer_1_conv2d_filters\": 28,<br>    \"layer_1_conv2d_fsize\": 5,<br>    \"layer_1_conv2d_ssize\": 3,<br>    \"activation_1\": \"relu\",<br>    \"output_dropout\": 0.38881931736245884,<br>    \"lr_inicial\": 0.0017906521213333132<br>  }<br>}",
          "{<br>  \"number\": 536,<br>  \"values\": [<br>    0.6800000071525574,<br>    6733.0<br>  ],<br>  \"params\": {<br>    \"batchsize\": 32,<br>    \"brightness_factor\": 0.13416916661241796,<br>    \"gaussian_noise_factor\": 0.061471938755676525,<br>    \"translate_factor\": 0.12282520385382914,<br>    \"num_layers\": 2,<br>    \"output_layer\": \"pooling\",<br>    \"layer_0\": \"Conv2D\",<br>    \"layer_0_conv2d_filters\": 4,<br>    \"layer_0_conv2d_fsize\": 4,<br>    \"layer_0_conv2d_ssize\": 7,<br>    \"activation_0\": \"tanh\",<br>    \"layer_1\": \"Conv2D\",<br>    \"layer_1_conv2d_filters\": 16,<br>    \"layer_1_conv2d_fsize\": 3,<br>    \"layer_1_conv2d_ssize\": 4,<br>    \"activation_1\": \"tanh\",<br>    \"pre_GAP_layer_fsize\": 5,<br>    \"pre_GAP_layer_act\": \"relu\",<br>    \"lr_inicial\": 0.0006248671930058428<br>  }<br>}",
          "{<br>  \"number\": 537,<br>  \"values\": [<br>    0.7400000095367432,<br>    3733.0<br>  ],<br>  \"params\": {<br>    \"batchsize\": 32,<br>    \"brightness_factor\": 0.04159637312120226,<br>    \"gaussian_noise_factor\": 0.05016782846499978,<br>    \"translate_factor\": 0.17237123935139548,<br>    \"num_layers\": 3,<br>    \"output_layer\": \"pooling\",<br>    \"layer_0\": \"Conv2D\",<br>    \"layer_0_conv2d_filters\": 4,<br>    \"layer_0_conv2d_fsize\": 5,<br>    \"layer_0_conv2d_ssize\": 2,<br>    \"activation_0\": \"relu\",<br>    \"layer_1\": \"Pointwise2D\",<br>    \"layer_1_pwconv2d_filters\": 8,<br>    \"layer_1_pwconv2d_ssize\": 3,<br>    \"activation_1\": \"relu\",<br>    \"layer_2\": \"Pointwise2D\",<br>    \"layer_2_pwconv2d_filters\": 24,<br>    \"layer_2_pwconv2d_ssize\": 4,<br>    \"activation_2\": \"tanh\",<br>    \"pre_GAP_layer_fsize\": 3,<br>    \"pre_GAP_layer_act\": \"linear\",<br>    \"lr_inicial\": 0.0014267722256156492<br>  }<br>}",
          "{<br>  \"number\": 538,<br>  \"values\": [<br>    0.8399999737739563,<br>    26099.0<br>  ],<br>  \"params\": {<br>    \"batchsize\": 32,<br>    \"brightness_factor\": 0.14466028446697368,<br>    \"gaussian_noise_factor\": 0.02760096353765014,<br>    \"translate_factor\": 0.1179046016923364,<br>    \"num_layers\": 2,<br>    \"output_layer\": \"dense\",<br>    \"layer_0\": \"Pointwise2D\",<br>    \"layer_0_pwconv2d_filters\": 24,<br>    \"layer_0_pwconv2d_ssize\": 6,<br>    \"activation_0\": \"tanh\",<br>    \"layer_1\": \"Conv2D\",<br>    \"layer_1_conv2d_filters\": 24,<br>    \"layer_1_conv2d_fsize\": 3,<br>    \"layer_1_conv2d_ssize\": 4,<br>    \"activation_1\": \"relu\",<br>    \"output_dropout\": 0.45433865853603694,<br>    \"lr_inicial\": 0.0008684347708813936<br>  }<br>}",
          "{<br>  \"number\": 539,<br>  \"values\": [<br>    0.6399999856948853,<br>    8053.0<br>  ],<br>  \"params\": {<br>    \"batchsize\": 32,<br>    \"brightness_factor\": 0.1767686430750465,<br>    \"gaussian_noise_factor\": 0.17362097480052532,<br>    \"translate_factor\": 0.19161194010853633,<br>    \"num_layers\": 2,<br>    \"output_layer\": \"pooling\",<br>    \"layer_0\": \"Conv2D\",<br>    \"layer_0_conv2d_filters\": 8,<br>    \"layer_0_conv2d_fsize\": 3,<br>    \"layer_0_conv2d_ssize\": 6,<br>    \"activation_0\": \"relu\",<br>    \"layer_1\": \"Conv2D\",<br>    \"layer_1_conv2d_filters\": 20,<br>    \"layer_1_conv2d_fsize\": 3,<br>    \"layer_1_conv2d_ssize\": 4,<br>    \"activation_1\": \"linear\",<br>    \"pre_GAP_layer_fsize\": 3,<br>    \"pre_GAP_layer_act\": \"relu\",<br>    \"lr_inicial\": 0.0003016695750207321<br>  }<br>}",
          "{<br>  \"number\": 540,<br>  \"values\": [<br>    0.7200000286102295,<br>    19051.0<br>  ],<br>  \"params\": {<br>    \"batchsize\": 32,<br>    \"brightness_factor\": 0.13023259049973182,<br>    \"gaussian_noise_factor\": 0.03935074168541276,<br>    \"translate_factor\": 0.05313093156614171,<br>    \"num_layers\": 1,<br>    \"output_layer\": \"dense\",<br>    \"layer_0\": \"Conv2D\",<br>    \"layer_0_conv2d_filters\": 4,<br>    \"layer_0_conv2d_fsize\": 4,<br>    \"layer_0_conv2d_ssize\": 15,<br>    \"activation_0\": \"tanh\",<br>    \"output_dropout\": 0.5640089397785688,<br>    \"lr_inicial\": 0.00044127319845873025<br>  }<br>}",
          "{<br>  \"number\": 541,<br>  \"values\": [<br>    0.6800000071525574,<br>    3741.0<br>  ],<br>  \"params\": {<br>    \"batchsize\": 32,<br>    \"brightness_factor\": 0.19739602741507023,<br>    \"gaussian_noise_factor\": 0.011605117721340532,<br>    \"translate_factor\": 0.18650524557436665,<br>    \"num_layers\": 2,<br>    \"output_layer\": \"pooling\",<br>    \"layer_0\": \"Conv2D\",<br>    \"layer_0_conv2d_filters\": 4,<br>    \"layer_0_conv2d_fsize\": 4,<br>    \"layer_0_conv2d_ssize\": 4,<br>    \"activation_0\": \"relu\",<br>    \"layer_1\": \"Conv2D\",<br>    \"layer_1_conv2d_filters\": 8,<br>    \"layer_1_conv2d_fsize\": 4,<br>    \"layer_1_conv2d_ssize\": 7,<br>    \"activation_1\": \"relu\",<br>    \"pre_GAP_layer_fsize\": 4,<br>    \"pre_GAP_layer_act\": \"relu\",<br>    \"lr_inicial\": 0.0016914081043254777<br>  }<br>}",
          "{<br>  \"number\": 542,<br>  \"values\": [<br>    0.6000000238418579,<br>    16357.0<br>  ],<br>  \"params\": {<br>    \"batchsize\": 32,<br>    \"brightness_factor\": 0.14744834317754207,<br>    \"gaussian_noise_factor\": 0.02401309340186562,<br>    \"translate_factor\": 0.19512640855737232,<br>    \"num_layers\": 2,<br>    \"output_layer\": \"pooling\",<br>    \"layer_0\": \"Conv2D\",<br>    \"layer_0_conv2d_filters\": 4,<br>    \"layer_0_conv2d_fsize\": 5,<br>    \"layer_0_conv2d_ssize\": 5,<br>    \"activation_0\": \"tanh\",<br>    \"layer_1\": \"Conv2D\",<br>    \"layer_1_conv2d_filters\": 32,<br>    \"layer_1_conv2d_fsize\": 5,<br>    \"layer_1_conv2d_ssize\": 3,<br>    \"activation_1\": \"relu\",<br>    \"pre_GAP_layer_fsize\": 3,<br>    \"pre_GAP_layer_act\": \"tanh\",<br>    \"lr_inicial\": 0.000567539996856697<br>  }<br>}",
          "{<br>  \"number\": 543,<br>  \"values\": [<br>    0.8399999737739563,<br>    28032.0<br>  ],<br>  \"params\": {<br>    \"batchsize\": 128,<br>    \"brightness_factor\": 0.1365704689083034,<br>    \"gaussian_noise_factor\": 0.014526103868918293,<br>    \"translate_factor\": 0.1795910653481807,<br>    \"num_layers\": 3,<br>    \"output_layer\": \"dense\",<br>    \"layer_0\": \"Conv2D\",<br>    \"layer_0_conv2d_filters\": 4,<br>    \"layer_0_conv2d_fsize\": 4,<br>    \"layer_0_conv2d_ssize\": 4,<br>    \"activation_0\": \"relu\",<br>    \"layer_1\": \"Conv2D\",<br>    \"layer_1_conv2d_filters\": 12,<br>    \"layer_1_conv2d_fsize\": 3,<br>    \"layer_1_conv2d_ssize\": 2,<br>    \"activation_1\": \"relu\",<br>    \"layer_2\": \"Conv2D\",<br>    \"layer_2_conv2d_filters\": 24,<br>    \"layer_2_conv2d_fsize\": 4,<br>    \"layer_2_conv2d_ssize\": 5,<br>    \"activation_2\": \"linear\",<br>    \"output_dropout\": 0.4469144397295977,<br>    \"lr_inicial\": 0.0012503838212457557<br>  }<br>}",
          "{<br>  \"number\": 544,<br>  \"values\": [<br>    0.6399999856948853,<br>    2341.0<br>  ],<br>  \"params\": {<br>    \"batchsize\": 32,<br>    \"brightness_factor\": 0.18147302158740494,<br>    \"gaussian_noise_factor\": 0.06477836568110068,<br>    \"translate_factor\": 0.0033290901223072267,<br>    \"num_layers\": 2,<br>    \"output_layer\": \"pooling\",<br>    \"layer_0\": \"Pointwise2D\",<br>    \"layer_0_pwconv2d_filters\": 12,<br>    \"layer_0_pwconv2d_ssize\": 7,<br>    \"activation_0\": \"linear\",<br>    \"layer_1\": \"Pointwise2D\",<br>    \"layer_1_pwconv2d_filters\": 16,<br>    \"layer_1_pwconv2d_ssize\": 4,<br>    \"activation_1\": \"relu\",<br>    \"pre_GAP_layer_fsize\": 3,<br>    \"pre_GAP_layer_act\": \"relu\",<br>    \"lr_inicial\": 0.001388224948911858<br>  }<br>}",
          "{<br>  \"number\": 545,<br>  \"values\": [<br>    0.6600000262260437,<br>    13319.0<br>  ],<br>  \"params\": {<br>    \"batchsize\": 32,<br>    \"brightness_factor\": 0.12286459589459825,<br>    \"gaussian_noise_factor\": 0.018805217496473882,<br>    \"translate_factor\": 0.18903736295342036,<br>    \"num_layers\": 1,<br>    \"output_layer\": \"dense\",<br>    \"layer_0\": \"Conv2D\",<br>    \"layer_0_conv2d_filters\": 4,<br>    \"layer_0_conv2d_fsize\": 5,<br>    \"layer_0_conv2d_ssize\": 5,<br>    \"activation_0\": \"tanh\",<br>    \"output_dropout\": 0.5518573364774354,<br>    \"lr_inicial\": 0.0011250737440947091<br>  }<br>}",
          "{<br>  \"number\": 546,<br>  \"values\": [<br>    0.6600000262260437,<br>    15949.0<br>  ],<br>  \"params\": {<br>    \"batchsize\": 32,<br>    \"brightness_factor\": 0.07303641151478962,<br>    \"gaussian_noise_factor\": 0.028065229344455985,<br>    \"translate_factor\": 0.1819323923782296,<br>    \"num_layers\": 2,<br>    \"output_layer\": \"pooling\",<br>    \"layer_0\": \"Conv2D\",<br>    \"layer_0_conv2d_filters\": 28,<br>    \"layer_0_conv2d_fsize\": 4,<br>    \"layer_0_conv2d_ssize\": 7,<br>    \"activation_0\": \"relu\",<br>    \"layer_1\": \"Conv2D\",<br>    \"layer_1_conv2d_filters\": 12,<br>    \"layer_1_conv2d_fsize\": 3,<br>    \"layer_1_conv2d_ssize\": 5,<br>    \"activation_1\": \"tanh\",<br>    \"pre_GAP_layer_fsize\": 3,<br>    \"pre_GAP_layer_act\": \"relu\",<br>    \"lr_inicial\": 0.0018682665730050763<br>  }<br>}",
          "{<br>  \"number\": 547,<br>  \"values\": [<br>    0.6800000071525574,<br>    20248.0<br>  ],<br>  \"params\": {<br>    \"batchsize\": 96,<br>    \"brightness_factor\": 0.15122147591049667,<br>    \"gaussian_noise_factor\": 0.10017974753185241,<br>    \"translate_factor\": 0.1269885954430213,<br>    \"num_layers\": 2,<br>    \"output_layer\": \"dense\",<br>    \"layer_0\": \"Conv2D\",<br>    \"layer_0_conv2d_filters\": 4,<br>    \"layer_0_conv2d_fsize\": 4,<br>    \"layer_0_conv2d_ssize\": 4,<br>    \"activation_0\": \"tanh\",<br>    \"layer_1\": \"Conv2D\",<br>    \"layer_1_conv2d_filters\": 16,<br>    \"layer_1_conv2d_fsize\": 3,<br>    \"layer_1_conv2d_ssize\": 4,<br>    \"activation_1\": \"linear\",<br>    \"output_dropout\": 0.5747493825052697,<br>    \"lr_inicial\": 0.0017474889748137778<br>  }<br>}",
          "{<br>  \"number\": 548,<br>  \"values\": [<br>    0.800000011920929,<br>    8557.0<br>  ],<br>  \"params\": {<br>    \"batchsize\": 32,<br>    \"brightness_factor\": 0.11035552024842933,<br>    \"gaussian_noise_factor\": 0.03314793036955413,<br>    \"translate_factor\": 0.03704650964869935,<br>    \"num_layers\": 3,<br>    \"output_layer\": \"pooling\",<br>    \"layer_0\": \"Conv2D\",<br>    \"layer_0_conv2d_filters\": 4,<br>    \"layer_0_conv2d_fsize\": 5,<br>    \"layer_0_conv2d_ssize\": 2,<br>    \"activation_0\": \"relu\",<br>    \"layer_1\": \"Conv2D\",<br>    \"layer_1_conv2d_filters\": 4,<br>    \"layer_1_conv2d_fsize\": 5,<br>    \"layer_1_conv2d_ssize\": 4,<br>    \"activation_1\": \"relu\",<br>    \"layer_2\": \"Conv2D\",<br>    \"layer_2_conv2d_filters\": 16,<br>    \"layer_2_conv2d_fsize\": 3,<br>    \"layer_2_conv2d_ssize\": 3,<br>    \"activation_2\": \"tanh\",<br>    \"pre_GAP_layer_fsize\": 5,<br>    \"pre_GAP_layer_act\": \"linear\",<br>    \"lr_inicial\": 0.0005252743306278966<br>  }<br>}",
          "{<br>  \"number\": 549,<br>  \"values\": [<br>    0.6399999856948853,<br>    36629.0<br>  ],<br>  \"params\": {<br>    \"batchsize\": 32,<br>    \"brightness_factor\": 0.11961081589666248,<br>    \"gaussian_noise_factor\": 0.023333560767675145,<br>    \"translate_factor\": 0.16156338127882086,<br>    \"num_layers\": 2,<br>    \"output_layer\": \"pooling\",<br>    \"layer_0\": \"Conv2D\",<br>    \"layer_0_conv2d_filters\": 32,<br>    \"layer_0_conv2d_fsize\": 3,<br>    \"layer_0_conv2d_ssize\": 6,<br>    \"activation_0\": \"tanh\",<br>    \"layer_1\": \"Conv2D\",<br>    \"layer_1_conv2d_filters\": 28,<br>    \"layer_1_conv2d_fsize\": 3,<br>    \"layer_1_conv2d_ssize\": 4,<br>    \"activation_1\": \"relu\",<br>    \"pre_GAP_layer_fsize\": 3,<br>    \"pre_GAP_layer_act\": \"relu\",<br>    \"lr_inicial\": 0.0011731859197792983<br>  }<br>}",
          "{<br>  \"number\": 550,<br>  \"values\": [<br>    0.7599999904632568,<br>    19725.0<br>  ],<br>  \"params\": {<br>    \"batchsize\": 32,<br>    \"brightness_factor\": 0.14169321717357775,<br>    \"gaussian_noise_factor\": 0.19211841653247008,<br>    \"translate_factor\": 0.10394011103457737,<br>    \"num_layers\": 2,<br>    \"output_layer\": \"dense\",<br>    \"layer_0\": \"Conv2D\",<br>    \"layer_0_conv2d_filters\": 4,<br>    \"layer_0_conv2d_fsize\": 4,<br>    \"layer_0_conv2d_ssize\": 4,<br>    \"activation_0\": \"relu\",<br>    \"layer_1\": \"Pointwise2D\",<br>    \"layer_1_pwconv2d_filters\": 12,<br>    \"layer_1_pwconv2d_ssize\": 3,<br>    \"activation_1\": \"relu\",<br>    \"output_dropout\": 0.3293886622328666,<br>    \"lr_inicial\": 0.0013483773125030644<br>  }<br>}",
          "{<br>  \"number\": 551,<br>  \"values\": [<br>    0.47999998927116394,<br>    789.0<br>  ],<br>  \"params\": {<br>    \"batchsize\": 32,<br>    \"brightness_factor\": 0.12659220031317428,<br>    \"gaussian_noise_factor\": 0.0931181454734861,<br>    \"translate_factor\": 0.18514760033663907,<br>    \"num_layers\": 1,<br>    \"output_layer\": \"pooling\",<br>    \"layer_0\": \"Pointwise2D\",<br>    \"layer_0_pwconv2d_filters\": 8,<br>    \"layer_0_pwconv2d_ssize\": 16,<br>    \"activation_0\": \"relu\",<br>    \"pre_GAP_layer_fsize\": 3,<br>    \"pre_GAP_layer_act\": \"relu\",<br>    \"lr_inicial\": 0.0016046550930340418<br>  }<br>}",
          "{<br>  \"number\": 552,<br>  \"values\": [<br>    0.8199999928474426,<br>    19940.0<br>  ],<br>  \"params\": {<br>    \"batchsize\": 32,<br>    \"brightness_factor\": 0.0930159855203545,<br>    \"gaussian_noise_factor\": 0.05421323499307462,<br>    \"translate_factor\": 0.19231536348287628,<br>    \"num_layers\": 2,<br>    \"output_layer\": \"dense\",<br>    \"layer_0\": \"Conv2D\",<br>    \"layer_0_conv2d_filters\": 4,<br>    \"layer_0_conv2d_fsize\": 5,<br>    \"layer_0_conv2d_ssize\": 4,<br>    \"activation_0\": \"linear\",<br>    \"layer_1\": \"Conv2D\",<br>    \"layer_1_conv2d_filters\": 8,<br>    \"layer_1_conv2d_fsize\": 3,<br>    \"layer_1_conv2d_ssize\": 4,<br>    \"activation_1\": \"relu\",<br>    \"output_dropout\": 0.5448887106759738,<br>    \"lr_inicial\": 0.001496995820421817<br>  }<br>}",
          "{<br>  \"number\": 553,<br>  \"values\": [<br>    0.6800000071525574,<br>    5509.0<br>  ],<br>  \"params\": {<br>    \"batchsize\": 32,<br>    \"brightness_factor\": 0.1536733340050488,<br>    \"gaussian_noise_factor\": 0.14580596894703915,<br>    \"translate_factor\": 0.155215453445958,<br>    \"num_layers\": 3,<br>    \"output_layer\": \"pooling\",<br>    \"layer_0\": \"Conv2D\",<br>    \"layer_0_conv2d_filters\": 4,<br>    \"layer_0_conv2d_fsize\": 4,<br>    \"layer_0_conv2d_ssize\": 2,<br>    \"activation_0\": \"tanh\",<br>    \"layer_1\": \"Conv2D\",<br>    \"layer_1_conv2d_filters\": 12,<br>    \"layer_1_conv2d_fsize\": 3,<br>    \"layer_1_conv2d_ssize\": 4,<br>    \"activation_1\": \"linear\",<br>    \"layer_2\": \"Pointwise2D\",<br>    \"layer_2_pwconv2d_filters\": 16,<br>    \"layer_2_pwconv2d_ssize\": 3,<br>    \"activation_2\": \"relu\",<br>    \"pre_GAP_layer_fsize\": 4,<br>    \"pre_GAP_layer_act\": \"relu\",<br>    \"lr_inicial\": 0.0004927168650170257<br>  }<br>}",
          "{<br>  \"number\": 554,<br>  \"values\": [<br>    0.5600000023841858,<br>    10141.0<br>  ],<br>  \"params\": {<br>    \"batchsize\": 32,<br>    \"brightness_factor\": 0.17119401899466752,<br>    \"gaussian_noise_factor\": 0.018475718421615515,<br>    \"translate_factor\": 0.1761229618825117,<br>    \"num_layers\": 2,<br>    \"output_layer\": \"pooling\",<br>    \"layer_0\": \"Conv2D\",<br>    \"layer_0_conv2d_filters\": 4,<br>    \"layer_0_conv2d_fsize\": 4,<br>    \"layer_0_conv2d_ssize\": 7,<br>    \"activation_0\": \"relu\",<br>    \"layer_1\": \"Conv2D\",<br>    \"layer_1_conv2d_filters\": 28,<br>    \"layer_1_conv2d_fsize\": 4,<br>    \"layer_1_conv2d_ssize\": 5,<br>    \"activation_1\": \"relu\",<br>    \"pre_GAP_layer_fsize\": 3,<br>    \"pre_GAP_layer_act\": \"tanh\",<br>    \"lr_inicial\": 0.0012940407097309546<br>  }<br>}",
          "{<br>  \"number\": 555,<br>  \"values\": [<br>    0.7200000286102295,<br>    36728.0<br>  ],<br>  \"params\": {<br>    \"batchsize\": 128,<br>    \"brightness_factor\": 0.13259011725370318,<br>    \"gaussian_noise_factor\": 0.03071880210514085,<br>    \"translate_factor\": 0.18742727624994018,<br>    \"num_layers\": 2,<br>    \"output_layer\": \"dense\",<br>    \"layer_0\": \"Conv2D\",<br>    \"layer_0_conv2d_filters\": 24,<br>    \"layer_0_conv2d_fsize\": 5,<br>    \"layer_0_conv2d_ssize\": 6,<br>    \"activation_0\": \"tanh\",<br>    \"layer_1\": \"Conv2D\",<br>    \"layer_1_conv2d_filters\": 24,<br>    \"layer_1_conv2d_fsize\": 5,<br>    \"layer_1_conv2d_ssize\": 4,<br>    \"activation_1\": \"tanh\",<br>    \"output_dropout\": 0.40154413808450456,<br>    \"lr_inicial\": 0.0017786099481476969<br>  }<br>}",
          "{<br>  \"number\": 556,<br>  \"values\": [<br>    0.699999988079071,<br>    7949.0<br>  ],<br>  \"params\": {<br>    \"batchsize\": 32,<br>    \"brightness_factor\": 0.14788403394145502,<br>    \"gaussian_noise_factor\": 0.07017664844598877,<br>    \"translate_factor\": 0.19573370707259616,<br>    \"num_layers\": 2,<br>    \"output_layer\": \"pooling\",<br>    \"layer_0\": \"Conv2D\",<br>    \"layer_0_conv2d_filters\": 4,<br>    \"layer_0_conv2d_fsize\": 4,<br>    \"layer_0_conv2d_ssize\": 4,<br>    \"activation_0\": \"relu\",<br>    \"layer_1\": \"Conv2D\",<br>    \"layer_1_conv2d_filters\": 32,<br>    \"layer_1_conv2d_fsize\": 3,<br>    \"layer_1_conv2d_ssize\": 4,<br>    \"activation_1\": \"relu\",<br>    \"pre_GAP_layer_fsize\": 3,<br>    \"pre_GAP_layer_act\": \"relu\",<br>    \"lr_inicial\": 0.0015498974532914124<br>  }<br>}",
          "{<br>  \"number\": 557,<br>  \"values\": [<br>    0.7400000095367432,<br>    21555.0<br>  ],<br>  \"params\": {<br>    \"batchsize\": 96,<br>    \"brightness_factor\": 0.10172134207525739,<br>    \"gaussian_noise_factor\": 0.1557364325956936,<br>    \"translate_factor\": 0.04151623464773593,<br>    \"num_layers\": 3,<br>    \"output_layer\": \"dense\",<br>    \"layer_0\": \"Pointwise2D\",<br>    \"layer_0_pwconv2d_filters\": 4,<br>    \"layer_0_pwconv2d_ssize\": 2,<br>    \"activation_0\": \"tanh\",<br>    \"layer_1\": \"Pointwise2D\",<br>    \"layer_1_pwconv2d_filters\": 8,<br>    \"layer_1_pwconv2d_ssize\": 2,<br>    \"activation_1\": \"relu\",<br>    \"layer_2\": \"Conv2D\",<br>    \"layer_2_conv2d_filters\": 20,<br>    \"layer_2_conv2d_fsize\": 3,<br>    \"layer_2_conv2d_ssize\": 3,<br>    \"activation_2\": \"tanh\",<br>    \"output_dropout\": 0.5371444332168286,<br>    \"lr_inicial\": 0.0010027339445261088<br>  }<br>}",
          "{<br>  \"number\": 558,<br>  \"values\": [<br>    0.6399999856948853,<br>    1613.0<br>  ],<br>  \"params\": {<br>    \"batchsize\": 32,<br>    \"brightness_factor\": 0.13901589447430585,<br>    \"gaussian_noise_factor\": 0.08229597503326733,<br>    \"translate_factor\": 0.026062990790079087,<br>    \"num_layers\": 1,<br>    \"output_layer\": \"pooling\",<br>    \"layer_0\": \"Conv2D\",<br>    \"layer_0_conv2d_filters\": 4,<br>    \"layer_0_conv2d_fsize\": 5,<br>    \"layer_0_conv2d_ssize\": 11,<br>    \"activation_0\": \"relu\",<br>    \"pre_GAP_layer_fsize\": 5,<br>    \"pre_GAP_layer_act\": \"relu\",<br>    \"lr_inicial\": 0.0016551520999601756<br>  }<br>}",
          "{<br>  \"number\": 559,<br>  \"values\": [<br>    0.800000011920929,<br>    20747.0<br>  ],<br>  \"params\": {<br>    \"batchsize\": 32,<br>    \"brightness_factor\": 0.14419223776282444,<br>    \"gaussian_noise_factor\": 0.05806246258378792,<br>    \"translate_factor\": 0.09148938015622829,<br>    \"num_layers\": 2,<br>    \"output_layer\": \"dense\",<br>    \"layer_0\": \"Conv2D\",<br>    \"layer_0_conv2d_filters\": 8,<br>    \"layer_0_conv2d_fsize\": 3,<br>    \"layer_0_conv2d_ssize\": 5,<br>    \"activation_0\": \"tanh\",<br>    \"layer_1\": \"Conv2D\",<br>    \"layer_1_conv2d_filters\": 20,<br>    \"layer_1_conv2d_fsize\": 3,<br>    \"layer_1_conv2d_ssize\": 3,<br>    \"activation_1\": \"relu\",<br>    \"output_dropout\": 0.4290929568405225,<br>    \"lr_inicial\": 0.0012381242245893414<br>  }<br>}",
          "{<br>  \"number\": 560,<br>  \"values\": [<br>    0.699999988079071,<br>    6061.0<br>  ],<br>  \"params\": {<br>    \"batchsize\": 32,<br>    \"brightness_factor\": 0.12973423113660604,<br>    \"gaussian_noise_factor\": 0.1266003414594249,<br>    \"translate_factor\": 0.04892831022303141,<br>    \"num_layers\": 2,<br>    \"output_layer\": \"pooling\",<br>    \"layer_0\": \"Conv2D\",<br>    \"layer_0_conv2d_filters\": 4,<br>    \"layer_0_conv2d_fsize\": 4,<br>    \"layer_0_conv2d_ssize\": 4,<br>    \"activation_0\": \"relu\",<br>    \"layer_1\": \"Conv2D\",<br>    \"layer_1_conv2d_filters\": 24,<br>    \"layer_1_conv2d_fsize\": 3,<br>    \"layer_1_conv2d_ssize\": 6,<br>    \"activation_1\": \"linear\",<br>    \"pre_GAP_layer_fsize\": 3,<br>    \"pre_GAP_layer_act\": \"linear\",<br>    \"lr_inicial\": 0.0014535811637203867<br>  }<br>}",
          "{<br>  \"number\": 561,<br>  \"values\": [<br>    0.6600000262260437,<br>    15973.0<br>  ],<br>  \"params\": {<br>    \"batchsize\": 32,<br>    \"brightness_factor\": 0.0001256624949350551,<br>    \"gaussian_noise_factor\": 0.10757448847682083,<br>    \"translate_factor\": 0.18188435607366782,<br>    \"num_layers\": 2,<br>    \"output_layer\": \"pooling\",<br>    \"layer_0\": \"Conv2D\",<br>    \"layer_0_conv2d_filters\": 16,<br>    \"layer_0_conv2d_fsize\": 5,<br>    \"layer_0_conv2d_ssize\": 4,<br>    \"activation_0\": \"linear\",<br>    \"layer_1\": \"Conv2D\",<br>    \"layer_1_conv2d_filters\": 8,<br>    \"layer_1_conv2d_fsize\": 5,<br>    \"layer_1_conv2d_ssize\": 8,<br>    \"activation_1\": \"relu\",<br>    \"pre_GAP_layer_fsize\": 3,<br>    \"pre_GAP_layer_act\": \"relu\",<br>    \"lr_inicial\": 0.0009058944683209964<br>  }<br>}",
          "{<br>  \"number\": 562,<br>  \"values\": [<br>    0.7400000095367432,<br>    23911.0<br>  ],<br>  \"params\": {<br>    \"batchsize\": 32,<br>    \"brightness_factor\": 0.059034110979323456,<br>    \"gaussian_noise_factor\": 0.18307137753512345,<br>    \"translate_factor\": 0.1152341512991245,<br>    \"num_layers\": 3,<br>    \"output_layer\": \"dense\",<br>    \"layer_0\": \"Conv2D\",<br>    \"layer_0_conv2d_filters\": 12,<br>    \"layer_0_conv2d_fsize\": 4,<br>    \"layer_0_conv2d_ssize\": 2,<br>    \"activation_0\": \"tanh\",<br>    \"layer_1\": \"Conv2D\",<br>    \"layer_1_conv2d_filters\": 28,<br>    \"layer_1_conv2d_fsize\": 3,<br>    \"layer_1_conv2d_ssize\": 4,<br>    \"activation_1\": \"relu\",<br>    \"layer_2\": \"Pointwise2D\",<br>    \"layer_2_pwconv2d_filters\": 4,<br>    \"layer_2_pwconv2d_ssize\": 4,<br>    \"activation_2\": \"linear\",<br>    \"output_dropout\": 0.5254236907281917,<br>    \"lr_inicial\": 0.001880472465302595<br>  }<br>}",
          "{<br>  \"number\": 563,<br>  \"values\": [<br>    0.6800000071525574,<br>    1037.0<br>  ],<br>  \"params\": {<br>    \"batchsize\": 32,<br>    \"brightness_factor\": 0.18449354062776585,<br>    \"gaussian_noise_factor\": 0.03749859219340074,<br>    \"translate_factor\": 0.17223414448224617,<br>    \"num_layers\": 2,<br>    \"output_layer\": \"pooling\",<br>    \"layer_0\": \"Pointwise2D\",<br>    \"layer_0_pwconv2d_filters\": 16,<br>    \"layer_0_pwconv2d_ssize\": 3,<br>    \"activation_0\": \"relu\",<br>    \"layer_1\": \"Pointwise2D\",<br>    \"layer_1_pwconv2d_filters\": 4,<br>    \"layer_1_pwconv2d_ssize\": 4,<br>    \"activation_1\": \"tanh\",<br>    \"pre_GAP_layer_fsize\": 4,<br>    \"pre_GAP_layer_act\": \"relu\",<br>    \"lr_inicial\": 0.0017013413360344749<br>  }<br>}",
          "{<br>  \"number\": 564,<br>  \"values\": [<br>    0.7400000095367432,<br>    20111.0<br>  ],<br>  \"params\": {<br>    \"batchsize\": 32,<br>    \"brightness_factor\": 0.1170058266511665,<br>    \"gaussian_noise_factor\": 0.08780555575018344,<br>    \"translate_factor\": 0.1891777753646472,<br>    \"num_layers\": 1,<br>    \"output_layer\": \"dense\",<br>    \"layer_0\": \"Conv2D\",<br>    \"layer_0_conv2d_filters\": 4,<br>    \"layer_0_conv2d_fsize\": 4,<br>    \"layer_0_conv2d_ssize\": 14,<br>    \"activation_0\": \"tanh\",<br>    \"output_dropout\": 0.417747755714361,<br>    \"lr_inicial\": 0.0013041766803886924<br>  }<br>}",
          "{<br>  \"number\": 565,<br>  \"values\": [<br>    0.46000000834465027,<br>    4789.0<br>  ],<br>  \"params\": {<br>    \"batchsize\": 32,<br>    \"brightness_factor\": 0.01844523812926767,<br>    \"gaussian_noise_factor\": 0.02227097525357601,<br>    \"translate_factor\": 0.13937616046473306,<br>    \"num_layers\": 2,<br>    \"output_layer\": \"pooling\",<br>    \"layer_0\": \"Conv2D\",<br>    \"layer_0_conv2d_filters\": 4,<br>    \"layer_0_conv2d_fsize\": 5,<br>    \"layer_0_conv2d_ssize\": 5,<br>    \"activation_0\": \"relu\",<br>    \"layer_1\": \"Conv2D\",<br>    \"layer_1_conv2d_filters\": 12,<br>    \"layer_1_conv2d_fsize\": 4,<br>    \"layer_1_conv2d_ssize\": 4,<br>    \"activation_1\": \"relu\",<br>    \"pre_GAP_layer_fsize\": 3,<br>    \"pre_GAP_layer_act\": \"tanh\",<br>    \"lr_inicial\": 0.0013665148850912643<br>  }<br>}",
          "{<br>  \"number\": 566,<br>  \"values\": [<br>    0.6399999856948853,<br>    4173.0<br>  ],<br>  \"params\": {<br>    \"batchsize\": 32,<br>    \"brightness_factor\": 0.08130480783521599,<br>    \"gaussian_noise_factor\": 0.02683601966435889,<br>    \"translate_factor\": 0.1844310785054997,<br>    \"num_layers\": 2,<br>    \"output_layer\": \"pooling\",<br>    \"layer_0\": \"Conv2D\",<br>    \"layer_0_conv2d_filters\": 4,<br>    \"layer_0_conv2d_fsize\": 4,<br>    \"layer_0_conv2d_ssize\": 6,<br>    \"activation_0\": \"tanh\",<br>    \"layer_1\": \"Conv2D\",<br>    \"layer_1_conv2d_filters\": 16,<br>    \"layer_1_conv2d_fsize\": 3,<br>    \"layer_1_conv2d_ssize\": 4,<br>    \"activation_1\": \"relu\",<br>    \"pre_GAP_layer_fsize\": 3,<br>    \"pre_GAP_layer_act\": \"relu\",<br>    \"lr_inicial\": 0.00040818375661893347<br>  }<br>}",
          "{<br>  \"number\": 567,<br>  \"values\": [<br>    0.7400000095367432,<br>    35066.0<br>  ],<br>  \"params\": {<br>    \"batchsize\": 32,<br>    \"brightness_factor\": 0.08728285448486695,<br>    \"gaussian_noise_factor\": 0.12112652734033372,<br>    \"translate_factor\": 0.1782230999713493,<br>    \"num_layers\": 3,<br>    \"output_layer\": \"dense\",<br>    \"layer_0\": \"Conv2D\",<br>    \"layer_0_conv2d_filters\": 4,<br>    \"layer_0_conv2d_fsize\": 5,<br>    \"layer_0_conv2d_ssize\": 4,<br>    \"activation_0\": \"relu\",<br>    \"layer_1\": \"Conv2D\",<br>    \"layer_1_conv2d_filters\": 12,<br>    \"layer_1_conv2d_fsize\": 3,<br>    \"layer_1_conv2d_ssize\": 4,<br>    \"activation_1\": \"linear\",<br>    \"layer_2\": \"Conv2D\",<br>    \"layer_2_conv2d_filters\": 32,<br>    \"layer_2_conv2d_fsize\": 4,<br>    \"layer_2_conv2d_ssize\": 4,<br>    \"activation_2\": \"tanh\",<br>    \"output_dropout\": 0.4653749613333251,<br>    \"lr_inicial\": 0.0017485889564802014<br>  }<br>}",
          "{<br>  \"number\": 568,<br>  \"values\": [<br>    0.7400000095367432,<br>    16141.0<br>  ],<br>  \"params\": {<br>    \"batchsize\": 96,<br>    \"brightness_factor\": 0.15554204064356408,<br>    \"gaussian_noise_factor\": 0.003983947207535005,<br>    \"translate_factor\": 0.11143948589835678,<br>    \"num_layers\": 2,<br>    \"output_layer\": \"pooling\",<br>    \"layer_0\": \"Conv2D\",<br>    \"layer_0_conv2d_filters\": 4,<br>    \"layer_0_conv2d_fsize\": 4,<br>    \"layer_0_conv2d_ssize\": 4,<br>    \"activation_0\": \"relu\",<br>    \"layer_1\": \"Conv2D\",<br>    \"layer_1_conv2d_filters\": 32,<br>    \"layer_1_conv2d_fsize\": 5,<br>    \"layer_1_conv2d_ssize\": 5,<br>    \"activation_1\": \"relu\",<br>    \"pre_GAP_layer_fsize\": 3,<br>    \"pre_GAP_layer_act\": \"relu\",<br>    \"lr_inicial\": 0.001276324291753466<br>  }<br>}",
          "{<br>  \"number\": 569,<br>  \"values\": [<br>    0.7799999713897705,<br>    21179.0<br>  ],<br>  \"params\": {<br>    \"batchsize\": 128,<br>    \"brightness_factor\": 0.12389549239595483,<br>    \"gaussian_noise_factor\": 0.04730015961308485,<br>    \"translate_factor\": 0.013505162871661522,<br>    \"num_layers\": 2,<br>    \"output_layer\": \"dense\",<br>    \"layer_0\": \"Pointwise2D\",<br>    \"layer_0_pwconv2d_filters\": 32,<br>    \"layer_0_pwconv2d_ssize\": 4,<br>    \"activation_0\": \"tanh\",<br>    \"layer_1\": \"Conv2D\",<br>    \"layer_1_conv2d_filters\": 4,<br>    \"layer_1_conv2d_fsize\": 3,<br>    \"layer_1_conv2d_ssize\": 3,<br>    \"activation_1\": \"relu\",<br>    \"output_dropout\": 0.5554899928123396,<br>    \"lr_inicial\": 0.0018098012971205534<br>  }<br>}",
          "{<br>  \"number\": 570,<br>  \"values\": [<br>    0.6200000047683716,<br>    1229.0<br>  ],<br>  \"params\": {<br>    \"batchsize\": 32,<br>    \"brightness_factor\": 0.13537145143000343,<br>    \"gaussian_noise_factor\": 0.015436789145219777,<br>    \"translate_factor\": 0.08607353066254113,<br>    \"num_layers\": 1,<br>    \"output_layer\": \"pooling\",<br>    \"layer_0\": \"Conv2D\",<br>    \"layer_0_conv2d_filters\": 4,<br>    \"layer_0_conv2d_fsize\": 3,<br>    \"layer_0_conv2d_ssize\": 9,<br>    \"activation_0\": \"linear\",<br>    \"pre_GAP_layer_fsize\": 5,<br>    \"pre_GAP_layer_act\": \"linear\",<br>    \"lr_inicial\": 0.0014011957842504851<br>  }<br>}",
          "{<br>  \"number\": 571,<br>  \"values\": [<br>    0.7599999904632568,<br>    21151.0<br>  ],<br>  \"params\": {<br>    \"batchsize\": 32,<br>    \"brightness_factor\": 0.1471973960533816,<br>    \"gaussian_noise_factor\": 0.021414846444421504,<br>    \"translate_factor\": 0.19584382996145958,<br>    \"num_layers\": 2,<br>    \"output_layer\": \"dense\",<br>    \"layer_0\": \"Conv2D\",<br>    \"layer_0_conv2d_filters\": 8,<br>    \"layer_0_conv2d_fsize\": 4,<br>    \"layer_0_conv2d_ssize\": 7,<br>    \"activation_0\": \"relu\",<br>    \"layer_1\": \"Pointwise2D\",<br>    \"layer_1_pwconv2d_filters\": 12,<br>    \"layer_1_pwconv2d_ssize\": 5,<br>    \"activation_1\": \"relu\",<br>    \"output_dropout\": 0.37149800696631524,<br>    \"lr_inicial\": 0.0012064471576675952<br>  }<br>}",
          "{<br>  \"number\": 572,<br>  \"values\": [<br>    0.7400000095367432,<br>    4821.0<br>  ],<br>  \"params\": {<br>    \"batchsize\": 32,<br>    \"brightness_factor\": 0.0369696406973159,<br>    \"gaussian_noise_factor\": 0.024976630367998336,<br>    \"translate_factor\": 0.14630246917329556,<br>    \"num_layers\": 3,<br>    \"output_layer\": \"pooling\",<br>    \"layer_0\": \"Conv2D\",<br>    \"layer_0_conv2d_filters\": 4,<br>    \"layer_0_conv2d_fsize\": 5,<br>    \"layer_0_conv2d_ssize\": 4,<br>    \"activation_0\": \"tanh\",<br>    \"layer_1\": \"Conv2D\",<br>    \"layer_1_conv2d_filters\": 8,<br>    \"layer_1_conv2d_fsize\": 3,<br>    \"layer_1_conv2d_ssize\": 2,<br>    \"activation_1\": \"tanh\",<br>    \"layer_2\": \"Conv2D\",<br>    \"layer_2_conv2d_filters\": 8,<br>    \"layer_2_conv2d_fsize\": 3,<br>    \"layer_2_conv2d_ssize\": 5,<br>    \"activation_2\": \"relu\",<br>    \"pre_GAP_layer_fsize\": 3,<br>    \"pre_GAP_layer_act\": \"relu\",<br>    \"lr_inicial\": 0.0015607693543430719<br>  }<br>}",
          "{<br>  \"number\": 573,<br>  \"values\": [<br>    0.699999988079071,<br>    4573.0<br>  ],<br>  \"params\": {<br>    \"batchsize\": 32,<br>    \"brightness_factor\": 0.1933762958717726,<br>    \"gaussian_noise_factor\": 0.009883349921719183,<br>    \"translate_factor\": 0.1911020232129503,<br>    \"num_layers\": 2,<br>    \"output_layer\": \"pooling\",<br>    \"layer_0\": \"Conv2D\",<br>    \"layer_0_conv2d_filters\": 4,<br>    \"layer_0_conv2d_fsize\": 4,<br>    \"layer_0_conv2d_ssize\": 6,<br>    \"activation_0\": \"relu\",<br>    \"layer_1\": \"Conv2D\",<br>    \"layer_1_conv2d_filters\": 12,<br>    \"layer_1_conv2d_fsize\": 4,<br>    \"layer_1_conv2d_ssize\": 4,<br>    \"activation_1\": \"relu\",<br>    \"pre_GAP_layer_fsize\": 3,<br>    \"pre_GAP_layer_act\": \"relu\",<br>    \"lr_inicial\": 0.0013192849014932518<br>  }<br>}",
          "{<br>  \"number\": 574,<br>  \"values\": [<br>    0.800000011920929,<br>    20727.0<br>  ],<br>  \"params\": {<br>    \"batchsize\": 32,<br>    \"brightness_factor\": 0.13985350367148225,<br>    \"gaussian_noise_factor\": 0.0317781437815835,<br>    \"translate_factor\": 0.030084155584087023,<br>    \"num_layers\": 2,<br>    \"output_layer\": \"dense\",<br>    \"layer_0\": \"Conv2D\",<br>    \"layer_0_conv2d_filters\": 4,<br>    \"layer_0_conv2d_fsize\": 5,<br>    \"layer_0_conv2d_ssize\": 5,<br>    \"activation_0\": \"tanh\",<br>    \"layer_1\": \"Conv2D\",<br>    \"layer_1_conv2d_filters\": 16,<br>    \"layer_1_conv2d_fsize\": 3,<br>    \"layer_1_conv2d_ssize\": 4,<br>    \"activation_1\": \"linear\",<br>    \"output_dropout\": 0.4127839794979018,<br>    \"lr_inicial\": 0.001492331015365656<br>  }<br>}",
          "{<br>  \"number\": 575,<br>  \"values\": [<br>    0.3799999952316284,<br>    4037.0<br>  ],<br>  \"params\": {<br>    \"batchsize\": 32,<br>    \"brightness_factor\": 0.10705046937304444,<br>    \"gaussian_noise_factor\": 0.05078274498517235,<br>    \"translate_factor\": 0.18554403825477958,<br>    \"num_layers\": 1,<br>    \"output_layer\": \"pooling\",<br>    \"layer_0\": \"Pointwise2D\",<br>    \"layer_0_pwconv2d_filters\": 24,<br>    \"layer_0_pwconv2d_ssize\": 15,<br>    \"activation_0\": \"relu\",<br>    \"pre_GAP_layer_fsize\": 4,<br>    \"pre_GAP_layer_act\": \"relu\",<br>    \"lr_inicial\": 0.0018838512354437701<br>  }<br>}",
          "{<br>  \"number\": 576,<br>  \"values\": [<br>    0.800000011920929,<br>    23252.0<br>  ],<br>  \"params\": {<br>    \"batchsize\": 32,<br>    \"brightness_factor\": 0.0077985789892146065,<br>    \"gaussian_noise_factor\": 0.06648889141968876,<br>    \"translate_factor\": 0.18164041140525108,<br>    \"num_layers\": 2,<br>    \"output_layer\": \"dense\",<br>    \"layer_0\": \"Conv2D\",<br>    \"layer_0_conv2d_filters\": 4,<br>    \"layer_0_conv2d_fsize\": 4,<br>    \"layer_0_conv2d_ssize\": 4,<br>    \"activation_0\": \"tanh\",<br>    \"layer_1\": \"Conv2D\",<br>    \"layer_1_conv2d_filters\": 28,<br>    \"layer_1_conv2d_fsize\": 5,<br>    \"layer_1_conv2d_ssize\": 5,<br>    \"activation_1\": \"relu\",<br>    \"output_dropout\": 0.36464215951857326,<br>    \"lr_inicial\": 0.001602375121944202<br>  }<br>}",
          "{<br>  \"number\": 577,<br>  \"values\": [<br>    0.41999998688697815,<br>    2629.0<br>  ],<br>  \"params\": {<br>    \"batchsize\": 32,<br>    \"brightness_factor\": 0.1764609629848285,<br>    \"gaussian_noise_factor\": 0.11336331155732149,<br>    \"translate_factor\": 0.1307770278098017,<br>    \"num_layers\": 3,<br>    \"output_layer\": \"pooling\",<br>    \"layer_0\": \"Conv2D\",<br>    \"layer_0_conv2d_filters\": 4,<br>    \"layer_0_conv2d_fsize\": 4,<br>    \"layer_0_conv2d_ssize\": 2,<br>    \"activation_0\": \"relu\",<br>    \"layer_1\": \"Pointwise2D\",<br>    \"layer_1_pwconv2d_filters\": 4,<br>    \"layer_1_pwconv2d_ssize\": 2,<br>    \"activation_1\": \"relu\",<br>    \"layer_2\": \"Pointwise2D\",<br>    \"layer_2_pwconv2d_filters\": 20,<br>    \"layer_2_pwconv2d_ssize\": 5,<br>    \"activation_2\": \"tanh\",<br>    \"pre_GAP_layer_fsize\": 3,<br>    \"pre_GAP_layer_act\": \"tanh\",<br>    \"lr_inicial\": 0.0012395353351459372<br>  }<br>}",
          "{<br>  \"number\": 578,<br>  \"values\": [<br>    0.8199999928474426,<br>    8821.0<br>  ],<br>  \"params\": {<br>    \"batchsize\": 32,<br>    \"brightness_factor\": 0.12784984797694052,<br>    \"gaussian_noise_factor\": 0.016160795988302,<br>    \"translate_factor\": 0.09654904998737075,<br>    \"num_layers\": 2,<br>    \"output_layer\": \"pooling\",<br>    \"layer_0\": \"Conv2D\",<br>    \"layer_0_conv2d_filters\": 8,<br>    \"layer_0_conv2d_fsize\": 5,<br>    \"layer_0_conv2d_ssize\": 6,<br>    \"activation_0\": \"linear\",<br>    \"layer_1\": \"Conv2D\",<br>    \"layer_1_conv2d_filters\": 20,<br>    \"layer_1_conv2d_fsize\": 3,<br>    \"layer_1_conv2d_ssize\": 4,<br>    \"activation_1\": \"relu\",<br>    \"pre_GAP_layer_fsize\": 3,<br>    \"pre_GAP_layer_act\": \"relu\",<br>    \"lr_inicial\": 0.0017960718515073072<br>  }<br>}",
          "{<br>  \"number\": 579,<br>  \"values\": [<br>    0.7400000095367432,<br>    28640.0<br>  ],<br>  \"params\": {<br>    \"batchsize\": 32,<br>    \"brightness_factor\": 0.031871173452896716,<br>    \"gaussian_noise_factor\": 0.074752555817436,<br>    \"translate_factor\": 0.16854196430155127,<br>    \"num_layers\": 2,<br>    \"output_layer\": \"dense\",<br>    \"layer_0\": \"Conv2D\",<br>    \"layer_0_conv2d_filters\": 24,<br>    \"layer_0_conv2d_fsize\": 3,<br>    \"layer_0_conv2d_ssize\": 7,<br>    \"activation_0\": \"tanh\",<br>    \"layer_1\": \"Conv2D\",<br>    \"layer_1_conv2d_filters\": 24,<br>    \"layer_1_conv2d_fsize\": 3,<br>    \"layer_1_conv2d_ssize\": 6,<br>    \"activation_1\": \"relu\",<br>    \"output_dropout\": 0.45929827424597114,<br>    \"lr_inicial\": 0.000338479652221194<br>  }<br>}",
          "{<br>  \"number\": 580,<br>  \"values\": [<br>    0.8199999928474426,<br>    2285.0<br>  ],<br>  \"params\": {<br>    \"batchsize\": 32,<br>    \"brightness_factor\": 0.1494960723849072,<br>    \"gaussian_noise_factor\": 0.02708494321604473,<br>    \"translate_factor\": 0.10526292814709051,<br>    \"num_layers\": 2,<br>    \"output_layer\": \"pooling\",<br>    \"layer_0\": \"Conv2D\",<br>    \"layer_0_conv2d_filters\": 4,<br>    \"layer_0_conv2d_fsize\": 4,<br>    \"layer_0_conv2d_ssize\": 4,<br>    \"activation_0\": \"relu\",<br>    \"layer_1\": \"Conv2D\",<br>    \"layer_1_conv2d_filters\": 8,<br>    \"layer_1_conv2d_fsize\": 3,<br>    \"layer_1_conv2d_ssize\": 4,<br>    \"activation_1\": \"linear\",<br>    \"pre_GAP_layer_fsize\": 3,<br>    \"pre_GAP_layer_act\": \"relu\",<br>    \"lr_inicial\": 0.0013700127745858144<br>  }<br>}",
          "{<br>  \"number\": 581,<br>  \"values\": [<br>    0.699999988079071,<br>    27346.0<br>  ],<br>  \"params\": {<br>    \"batchsize\": 96,<br>    \"brightness_factor\": 0.1450221413626689,<br>    \"gaussian_noise_factor\": 0.062129050597453855,<br>    \"translate_factor\": 0.10241442482552798,<br>    \"num_layers\": 3,<br>    \"output_layer\": \"dense\",<br>    \"layer_0\": \"Pointwise2D\",<br>    \"layer_0_pwconv2d_filters\": 28,<br>    \"layer_0_pwconv2d_ssize\": 2,<br>    \"activation_0\": \"tanh\",<br>    \"layer_1\": \"Conv2D\",<br>    \"layer_1_conv2d_filters\": 12,<br>    \"layer_1_conv2d_fsize\": 5,<br>    \"layer_1_conv2d_ssize\": 2,<br>    \"activation_1\": \"relu\",<br>    \"layer_2\": \"Conv2D\",<br>    \"layer_2_conv2d_filters\": 4,<br>    \"layer_2_conv2d_fsize\": 4,<br>    \"layer_2_conv2d_ssize\": 3,<br>    \"activation_2\": \"linear\",<br>    \"output_dropout\": 0.3122766133015386,<br>    \"lr_inicial\": 0.001426205951189487<br>  }<br>}",
          "{<br>  \"number\": 582,<br>  \"values\": [<br>    0.7400000095367432,<br>    16316.0<br>  ],<br>  \"params\": {<br>    \"batchsize\": 128,<br>    \"brightness_factor\": 0.14824311531255932,<br>    \"gaussian_noise_factor\": 0.03665077557753536,<br>    \"translate_factor\": 0.08860259000361506,<br>    \"num_layers\": 1,<br>    \"output_layer\": \"dense\",<br>    \"layer_0\": \"Conv2D\",<br>    \"layer_0_conv2d_filters\": 12,<br>    \"layer_0_conv2d_fsize\": 5,<br>    \"layer_0_conv2d_ssize\": 8,<br>    \"activation_0\": \"tanh\",<br>    \"output_dropout\": 0.35380122234903477,<br>    \"lr_inicial\": 0.0016607015839001297<br>  }<br>}",
          "{<br>  \"number\": 583,<br>  \"values\": [<br>    0.7400000095367432,<br>    20442.0<br>  ],<br>  \"params\": {<br>    \"batchsize\": 32,<br>    \"brightness_factor\": 0.14231594577039336,<br>    \"gaussian_noise_factor\": 0.029961434613737757,<br>    \"translate_factor\": 0.12137838422143521,<br>    \"num_layers\": 2,<br>    \"output_layer\": \"dense\",<br>    \"layer_0\": \"Conv2D\",<br>    \"layer_0_conv2d_filters\": 8,<br>    \"layer_0_conv2d_fsize\": 5,<br>    \"layer_0_conv2d_ssize\": 3,<br>    \"activation_0\": \"tanh\",<br>    \"layer_1\": \"Pointwise2D\",<br>    \"layer_1_pwconv2d_filters\": 16,<br>    \"layer_1_pwconv2d_ssize\": 3,<br>    \"activation_1\": \"tanh\",<br>    \"output_dropout\": 0.5948776867151089,<br>    \"lr_inicial\": 0.0014754283703281477<br>  }<br>}",
          "{<br>  \"number\": 584,<br>  \"values\": [<br>    0.7799999713897705,<br>    61269.0<br>  ],<br>  \"params\": {<br>    \"batchsize\": 96,<br>    \"brightness_factor\": 0.14578758815624485,<br>    \"gaussian_noise_factor\": 0.040737462874388466,<br>    \"translate_factor\": 0.08081222958269821,<br>    \"num_layers\": 3,<br>    \"output_layer\": \"pooling\",<br>    \"layer_0\": \"Conv2D\",<br>    \"layer_0_conv2d_filters\": 28,<br>    \"layer_0_conv2d_fsize\": 4,<br>    \"layer_0_conv2d_ssize\": 3,<br>    \"activation_0\": \"relu\",<br>    \"layer_1\": \"Conv2D\",<br>    \"layer_1_conv2d_filters\": 28,<br>    \"layer_1_conv2d_fsize\": 3,<br>    \"layer_1_conv2d_ssize\": 4,<br>    \"activation_1\": \"relu\",<br>    \"layer_2\": \"Conv2D\",<br>    \"layer_2_conv2d_filters\": 24,<br>    \"layer_2_conv2d_fsize\": 3,<br>    \"layer_2_conv2d_ssize\": 4,<br>    \"activation_2\": \"tanh\",<br>    \"pre_GAP_layer_fsize\": 5,<br>    \"pre_GAP_layer_act\": \"linear\",<br>    \"lr_inicial\": 0.00174029589836518<br>  }<br>}",
          "{<br>  \"number\": 585,<br>  \"values\": [<br>    0.7200000286102295,<br>    17411.0<br>  ],<br>  \"params\": {<br>    \"batchsize\": 32,<br>    \"brightness_factor\": 0.1437648562787322,<br>    \"gaussian_noise_factor\": 0.05616495523920312,<br>    \"translate_factor\": 0.10519489734146067,<br>    \"num_layers\": 1,<br>    \"output_layer\": \"dense\",<br>    \"layer_0\": \"Pointwise2D\",<br>    \"layer_0_pwconv2d_filters\": 12,<br>    \"layer_0_pwconv2d_ssize\": 11,<br>    \"activation_0\": \"tanh\",<br>    \"output_dropout\": 0.5290671974238683,<br>    \"lr_inicial\": 0.0004666378443693838<br>  }<br>}",
          "{<br>  \"number\": 586,<br>  \"values\": [<br>    0.20000000298023224,<br>    15621.0<br>  ],<br>  \"params\": {<br>    \"batchsize\": 32,<br>    \"brightness_factor\": 0.15164189068663617,<br>    \"gaussian_noise_factor\": 0.026381543915164844,<br>    \"translate_factor\": 0.11640880232378141,<br>    \"num_layers\": 2,<br>    \"output_layer\": \"pooling\",<br>    \"layer_0\": \"Conv2D\",<br>    \"layer_0_conv2d_filters\": 8,<br>    \"layer_0_conv2d_fsize\": 5,<br>    \"layer_0_conv2d_ssize\": 3,<br>    \"activation_0\": \"linear\",<br>    \"layer_1\": \"Conv2D\",<br>    \"layer_1_conv2d_filters\": 32,<br>    \"layer_1_conv2d_fsize\": 3,<br>    \"layer_1_conv2d_ssize\": 4,<br>    \"activation_1\": \"relu\",<br>    \"pre_GAP_layer_fsize\": 4,<br>    \"pre_GAP_layer_act\": \"relu\",<br>    \"lr_inicial\": 0.001368961279192768<br>  }<br>}",
          "{<br>  \"number\": 587,<br>  \"values\": [<br>    0.7799999713897705,<br>    21127.0<br>  ],<br>  \"params\": {<br>    \"batchsize\": 32,<br>    \"brightness_factor\": 0.1500818679344635,<br>    \"gaussian_noise_factor\": 0.03548345880833075,<br>    \"translate_factor\": 0.11075691952261567,<br>    \"num_layers\": 2,<br>    \"output_layer\": \"dense\",<br>    \"layer_0\": \"Conv2D\",<br>    \"layer_0_conv2d_filters\": 4,<br>    \"layer_0_conv2d_fsize\": 4,<br>    \"layer_0_conv2d_ssize\": 4,<br>    \"activation_0\": \"relu\",<br>    \"layer_1\": \"Conv2D\",<br>    \"layer_1_conv2d_filters\": 12,<br>    \"layer_1_conv2d_fsize\": 3,<br>    \"layer_1_conv2d_ssize\": 7,<br>    \"activation_1\": \"relu\",<br>    \"output_dropout\": 0.42172553940401414,<br>    \"lr_inicial\": 0.0007942522255381484<br>  }<br>}",
          "{<br>  \"number\": 588,<br>  \"values\": [<br>    0.6399999856948853,<br>    8965.0<br>  ],<br>  \"params\": {<br>    \"batchsize\": 32,<br>    \"brightness_factor\": 0.14294683255998591,<br>    \"gaussian_noise_factor\": 0.029209128126829544,<br>    \"translate_factor\": 0.09435484789353005,<br>    \"num_layers\": 2,<br>    \"output_layer\": \"pooling\",<br>    \"layer_0\": \"Conv2D\",<br>    \"layer_0_conv2d_filters\": 4,<br>    \"layer_0_conv2d_fsize\": 5,<br>    \"layer_0_conv2d_ssize\": 3,<br>    \"activation_0\": \"tanh\",<br>    \"layer_1\": \"Conv2D\",<br>    \"layer_1_conv2d_filters\": 24,<br>    \"layer_1_conv2d_fsize\": 4,<br>    \"layer_1_conv2d_ssize\": 4,<br>    \"activation_1\": \"relu\",<br>    \"pre_GAP_layer_fsize\": 3,<br>    \"pre_GAP_layer_act\": \"tanh\",<br>    \"lr_inicial\": 0.0018449105768655841<br>  }<br>}",
          "{<br>  \"number\": 589,<br>  \"values\": [<br>    0.6000000238418579,<br>    2293.0<br>  ],<br>  \"params\": {<br>    \"batchsize\": 128,<br>    \"brightness_factor\": 0.14677161999828922,<br>    \"gaussian_noise_factor\": 0.02241979547202391,<br>    \"translate_factor\": 0.1281002112097503,<br>    \"num_layers\": 3,<br>    \"output_layer\": \"pooling\",<br>    \"layer_0\": \"Conv2D\",<br>    \"layer_0_conv2d_filters\": 4,<br>    \"layer_0_conv2d_fsize\": 4,<br>    \"layer_0_conv2d_ssize\": 3,<br>    \"activation_0\": \"relu\",<br>    \"layer_1\": \"Pointwise2D\",<br>    \"layer_1_pwconv2d_filters\": 12,<br>    \"layer_1_pwconv2d_ssize\": 4,<br>    \"activation_1\": \"relu\",<br>    \"layer_2\": \"Pointwise2D\",<br>    \"layer_2_pwconv2d_filters\": 12,<br>    \"layer_2_pwconv2d_ssize\": 3,<br>    \"activation_2\": \"relu\",<br>    \"pre_GAP_layer_fsize\": 3,<br>    \"pre_GAP_layer_act\": \"relu\",<br>    \"lr_inicial\": 0.00037700987432881213<br>  }<br>}",
          "{<br>  \"number\": 590,<br>  \"values\": [<br>    0.8199999928474426,<br>    22563.0<br>  ],<br>  \"params\": {<br>    \"batchsize\": 32,<br>    \"brightness_factor\": 0.14957908277887186,<br>    \"gaussian_noise_factor\": 0.07072666392859028,<br>    \"translate_factor\": 0.053520972588410126,<br>    \"num_layers\": 2,<br>    \"output_layer\": \"dense\",<br>    \"layer_0\": \"Conv2D\",<br>    \"layer_0_conv2d_filters\": 4,<br>    \"layer_0_conv2d_fsize\": 3,<br>    \"layer_0_conv2d_ssize\": 4,<br>    \"activation_0\": \"tanh\",<br>    \"layer_1\": \"Conv2D\",<br>    \"layer_1_conv2d_filters\": 28,<br>    \"layer_1_conv2d_fsize\": 5,<br>    \"layer_1_conv2d_ssize\": 4,<br>    \"activation_1\": \"relu\",<br>    \"output_dropout\": 0.43487298060506213,<br>    \"lr_inicial\": 0.0015463929419947283<br>  }<br>}",
          "{<br>  \"number\": 591,<br>  \"values\": [<br>    0.5799999833106995,<br>    789.0<br>  ],<br>  \"params\": {<br>    \"batchsize\": 32,<br>    \"brightness_factor\": 0.14005159419779373,<br>    \"gaussian_noise_factor\": 0.0780672110559899,<br>    \"translate_factor\": 0.0009094671973383373,<br>    \"num_layers\": 1,<br>    \"output_layer\": \"pooling\",<br>    \"layer_0\": \"Pointwise2D\",<br>    \"layer_0_pwconv2d_filters\": 8,<br>    \"layer_0_pwconv2d_ssize\": 13,<br>    \"activation_0\": \"relu\",<br>    \"pre_GAP_layer_fsize\": 3,<br>    \"pre_GAP_layer_act\": \"relu\",<br>    \"lr_inicial\": 0.00168080604100062<br>  }<br>}",
          "{<br>  \"number\": 592,<br>  \"values\": [<br>    0.7400000095367432,<br>    22335.0<br>  ],<br>  \"params\": {<br>    \"batchsize\": 32,<br>    \"brightness_factor\": 0.14566380020185746,<br>    \"gaussian_noise_factor\": 0.0266109553294484,<br>    \"translate_factor\": 0.10778403893424915,<br>    \"num_layers\": 2,<br>    \"output_layer\": \"dense\",<br>    \"layer_0\": \"Conv2D\",<br>    \"layer_0_conv2d_filters\": 12,<br>    \"layer_0_conv2d_fsize\": 4,<br>    \"layer_0_conv2d_ssize\": 4,<br>    \"activation_0\": \"tanh\",<br>    \"layer_1\": \"Conv2D\",<br>    \"layer_1_conv2d_filters\": 16,<br>    \"layer_1_conv2d_fsize\": 3,<br>    \"layer_1_conv2d_ssize\": 3,<br>    \"activation_1\": \"tanh\",<br>    \"output_dropout\": 0.5077152068350016,<br>    \"lr_inicial\": 0.0014365143038278555<br>  }<br>}",
          "{<br>  \"number\": 593,<br>  \"values\": [<br>    0.7599999904632568,<br>    7701.0<br>  ],<br>  \"params\": {<br>    \"batchsize\": 96,<br>    \"brightness_factor\": 0.15427810924917718,<br>    \"gaussian_noise_factor\": 0.05902769769362366,<br>    \"translate_factor\": 0.10020252895595376,<br>    \"num_layers\": 2,<br>    \"output_layer\": \"pooling\",<br>    \"layer_0\": \"Conv2D\",<br>    \"layer_0_conv2d_filters\": 8,<br>    \"layer_0_conv2d_fsize\": 5,<br>    \"layer_0_conv2d_ssize\": 4,<br>    \"activation_0\": \"relu\",<br>    \"layer_1\": \"Conv2D\",<br>    \"layer_1_conv2d_filters\": 12,<br>    \"layer_1_conv2d_fsize\": 3,<br>    \"layer_1_conv2d_ssize\": 4,<br>    \"activation_1\": \"relu\",<br>    \"pre_GAP_layer_fsize\": 5,<br>    \"pre_GAP_layer_act\": \"relu\",<br>    \"lr_inicial\": 0.0016164906634560218<br>  }<br>}",
          "{<br>  \"number\": 594,<br>  \"values\": [<br>    0.8999999761581421,<br>    37387.0<br>  ],<br>  \"params\": {<br>    \"batchsize\": 32,<br>    \"brightness_factor\": 0.14064604725370772,<br>    \"gaussian_noise_factor\": 0.10275812824143027,<br>    \"translate_factor\": 0.03457017181604001,<br>    \"num_layers\": 3,<br>    \"output_layer\": \"dense\",<br>    \"layer_0\": \"Conv2D\",<br>    \"layer_0_conv2d_filters\": 4,<br>    \"layer_0_conv2d_fsize\": 4,<br>    \"layer_0_conv2d_ssize\": 3,<br>    \"activation_0\": \"linear\",<br>    \"layer_1\": \"Conv2D\",<br>    \"layer_1_conv2d_filters\": 32,<br>    \"layer_1_conv2d_fsize\": 3,<br>    \"layer_1_conv2d_ssize\": 2,<br>    \"activation_1\": \"relu\",<br>    \"layer_2\": \"Conv2D\",<br>    \"layer_2_conv2d_filters\": 28,<br>    \"layer_2_conv2d_fsize\": 4,<br>    \"layer_2_conv2d_ssize\": 5,<br>    \"activation_2\": \"tanh\",<br>    \"output_dropout\": 0.4438188593102618,<br>    \"lr_inicial\": 0.0013402073898313072<br>  }<br>}",
          "{<br>  \"number\": 595,<br>  \"values\": [<br>    0.7200000286102295,<br>    31205.0<br>  ],<br>  \"params\": {<br>    \"batchsize\": 32,<br>    \"brightness_factor\": 0.14307779918941696,<br>    \"gaussian_noise_factor\": 0.15190244952077592,<br>    \"translate_factor\": 0.1533942620081777,<br>    \"num_layers\": 2,<br>    \"output_layer\": \"pooling\",<br>    \"layer_0\": \"Conv2D\",<br>    \"layer_0_conv2d_filters\": 32,<br>    \"layer_0_conv2d_fsize\": 5,<br>    \"layer_0_conv2d_ssize\": 4,<br>    \"activation_0\": \"tanh\",<br>    \"layer_1\": \"Conv2D\",<br>    \"layer_1_conv2d_filters\": 8,<br>    \"layer_1_conv2d_fsize\": 5,<br>    \"layer_1_conv2d_ssize\": 4,<br>    \"activation_1\": \"relu\",<br>    \"pre_GAP_layer_fsize\": 3,<br>    \"pre_GAP_layer_act\": \"linear\",<br>    \"lr_inicial\": 0.000689897424579867<br>  }<br>}",
          "{<br>  \"number\": 596,<br>  \"values\": [<br>    0.5,<br>    1821.0<br>  ],<br>  \"params\": {<br>    \"batchsize\": 32,<br>    \"brightness_factor\": 0.1492274447035066,<br>    \"gaussian_noise_factor\": 0.11039342596851906,<br>    \"translate_factor\": 0.08421019343188786,<br>    \"num_layers\": 2,<br>    \"output_layer\": \"pooling\",<br>    \"layer_0\": \"Conv2D\",<br>    \"layer_0_conv2d_filters\": 4,<br>    \"layer_0_conv2d_fsize\": 4,<br>    \"layer_0_conv2d_ssize\": 4,<br>    \"activation_0\": \"relu\",<br>    \"layer_1\": \"Pointwise2D\",<br>    \"layer_1_pwconv2d_filters\": 8,<br>    \"layer_1_pwconv2d_ssize\": 5,<br>    \"activation_1\": \"relu\",<br>    \"pre_GAP_layer_fsize\": 4,<br>    \"pre_GAP_layer_act\": \"relu\",<br>    \"lr_inicial\": 0.0017501003541202642<br>  }<br>}",
          "{<br>  \"number\": 597,<br>  \"values\": [<br>    0.7200000286102295,<br>    15396.0<br>  ],<br>  \"params\": {<br>    \"batchsize\": 32,<br>    \"brightness_factor\": 0.025262419486541912,<br>    \"gaussian_noise_factor\": 0.047027299434889674,<br>    \"translate_factor\": 0.13433966781769321,<br>    \"num_layers\": 1,<br>    \"output_layer\": \"dense\",<br>    \"layer_0\": \"Pointwise2D\",<br>    \"layer_0_pwconv2d_filters\": 4,<br>    \"layer_0_pwconv2d_ssize\": 8,<br>    \"activation_0\": \"tanh\",<br>    \"output_dropout\": 0.5998341401307292,<br>    \"lr_inicial\": 0.0018225861630149897<br>  }<br>}",
          "{<br>  \"number\": 598,<br>  \"values\": [<br>    0.20000000298023224,<br>    7221.0<br>  ],<br>  \"params\": {<br>    \"batchsize\": 32,<br>    \"brightness_factor\": 0.13833214388318138,<br>    \"gaussian_noise_factor\": 0.09507911095774352,<br>    \"translate_factor\": 0.021283497898030114,<br>    \"num_layers\": 2,<br>    \"output_layer\": \"pooling\",<br>    \"layer_0\": \"Conv2D\",<br>    \"layer_0_conv2d_filters\": 4,<br>    \"layer_0_conv2d_fsize\": 5,<br>    \"layer_0_conv2d_ssize\": 4,<br>    \"activation_0\": \"relu\",<br>    \"layer_1\": \"Conv2D\",<br>    \"layer_1_conv2d_filters\": 28,<br>    \"layer_1_conv2d_fsize\": 3,<br>    \"layer_1_conv2d_ssize\": 4,<br>    \"activation_1\": \"relu\",<br>    \"pre_GAP_layer_fsize\": 3,<br>    \"pre_GAP_layer_act\": \"relu\",<br>    \"lr_inicial\": 0.0015205874801299092<br>  }<br>}",
          "{<br>  \"number\": 599,<br>  \"values\": [<br>    0.8799999952316284,<br>    23383.0<br>  ],<br>  \"params\": {<br>    \"batchsize\": 32,<br>    \"brightness_factor\": 0.17122332307814883,<br>    \"gaussian_noise_factor\": 0.01936912107191049,<br>    \"translate_factor\": 0.04486627603002205,<br>    \"num_layers\": 3,<br>    \"output_layer\": \"dense\",<br>    \"layer_0\": \"Conv2D\",<br>    \"layer_0_conv2d_filters\": 4,<br>    \"layer_0_conv2d_fsize\": 4,<br>    \"layer_0_conv2d_ssize\": 3,<br>    \"activation_0\": \"relu\",<br>    \"layer_1\": \"Conv2D\",<br>    \"layer_1_conv2d_filters\": 24,<br>    \"layer_1_conv2d_fsize\": 4,<br>    \"layer_1_conv2d_ssize\": 4,<br>    \"activation_1\": \"tanh\",<br>    \"layer_2\": \"Pointwise2D\",<br>    \"layer_2_pwconv2d_filters\": 28,<br>    \"layer_2_pwconv2d_ssize\": 2,<br>    \"activation_2\": \"linear\",<br>    \"output_dropout\": 0.5788032411169243,<br>    \"lr_inicial\": 0.0017052051980859853<br>  }<br>}",
          "{<br>  \"number\": 600,<br>  \"values\": [<br>    0.6000000238418579,<br>    4949.0<br>  ],<br>  \"params\": {<br>    \"batchsize\": 64,<br>    \"brightness_factor\": 0.14538765859692898,<br>    \"gaussian_noise_factor\": 0.02431429372169931,<br>    \"translate_factor\": 0.19432655723301245,<br>    \"num_layers\": 2,<br>    \"output_layer\": \"pooling\",<br>    \"layer_0\": \"Conv2D\",<br>    \"layer_0_conv2d_filters\": 4,<br>    \"layer_0_conv2d_fsize\": 3,<br>    \"layer_0_conv2d_ssize\": 7,<br>    \"activation_0\": \"tanh\",<br>    \"layer_1\": \"Conv2D\",<br>    \"layer_1_conv2d_filters\": 20,<br>    \"layer_1_conv2d_fsize\": 3,<br>    \"layer_1_conv2d_ssize\": 8,<br>    \"activation_1\": \"relu\",<br>    \"pre_GAP_layer_fsize\": 3,<br>    \"pre_GAP_layer_act\": \"tanh\",<br>    \"lr_inicial\": 0.0014019257091905598<br>  }<br>}",
          "{<br>  \"number\": 601,<br>  \"values\": [<br>    0.8199999928474426,<br>    3229.0<br>  ],<br>  \"params\": {<br>    \"batchsize\": 32,<br>    \"brightness_factor\": 0.1501727859708724,<br>    \"gaussian_noise_factor\": 0.03344251343237114,<br>    \"translate_factor\": 0.006997303037632463,<br>    \"num_layers\": 2,<br>    \"output_layer\": \"pooling\",<br>    \"layer_0\": \"Conv2D\",<br>    \"layer_0_conv2d_filters\": 4,<br>    \"layer_0_conv2d_fsize\": 4,<br>    \"layer_0_conv2d_ssize\": 4,<br>    \"activation_0\": \"relu\",<br>    \"layer_1\": \"Conv2D\",<br>    \"layer_1_conv2d_filters\": 12,<br>    \"layer_1_conv2d_fsize\": 3,<br>    \"layer_1_conv2d_ssize\": 5,<br>    \"activation_1\": \"linear\",<br>    \"pre_GAP_layer_fsize\": 3,<br>    \"pre_GAP_layer_act\": \"relu\",<br>    \"lr_inicial\": 0.0014598036688269536<br>  }<br>}",
          "{<br>  \"number\": 602,<br>  \"values\": [<br>    0.7400000095367432,<br>    15800.0<br>  ],<br>  \"params\": {<br>    \"batchsize\": 32,<br>    \"brightness_factor\": 0.15435477059581612,<br>    \"gaussian_noise_factor\": 0.134904862762028,<br>    \"translate_factor\": 0.18873394285108858,<br>    \"num_layers\": 2,<br>    \"output_layer\": \"dense\",<br>    \"layer_0\": \"Conv2D\",<br>    \"layer_0_conv2d_filters\": 4,<br>    \"layer_0_conv2d_fsize\": 5,<br>    \"layer_0_conv2d_ssize\": 4,<br>    \"activation_0\": \"tanh\",<br>    \"layer_1\": \"Pointwise2D\",<br>    \"layer_1_pwconv2d_filters\": 16,<br>    \"layer_1_pwconv2d_ssize\": 2,<br>    \"activation_1\": \"linear\",<br>    \"output_dropout\": 0.4683603453002817,<br>    \"lr_inicial\": 0.0018869205650909038<br>  }<br>}",
          "{<br>  \"number\": 603,<br>  \"values\": [<br>    0.20000000298023224,<br>    20389.0<br>  ],<br>  \"params\": {<br>    \"batchsize\": 32,<br>    \"brightness_factor\": 0.149506895789492,<br>    \"gaussian_noise_factor\": 0.05208628823962161,<br>    \"translate_factor\": 0.19940236676276327,<br>    \"num_layers\": 2,<br>    \"output_layer\": \"pooling\",<br>    \"layer_0\": \"Pointwise2D\",<br>    \"layer_0_pwconv2d_filters\": 28,<br>    \"layer_0_pwconv2d_ssize\": 6,<br>    \"activation_0\": \"linear\",<br>    \"layer_1\": \"Conv2D\",<br>    \"layer_1_conv2d_filters\": 16,<br>    \"layer_1_conv2d_fsize\": 3,<br>    \"layer_1_conv2d_ssize\": 5,<br>    \"activation_1\": \"relu\",<br>    \"pre_GAP_layer_fsize\": 5,<br>    \"pre_GAP_layer_act\": \"relu\",<br>    \"lr_inicial\": 0.0014689455018788206<br>  }<br>}",
          "{<br>  \"number\": 604,<br>  \"values\": [<br>    0.7599999904632568,<br>    17041.0<br>  ],<br>  \"params\": {<br>    \"batchsize\": 32,<br>    \"brightness_factor\": 0.1861855007067098,<br>    \"gaussian_noise_factor\": 0.030443023597099456,<br>    \"translate_factor\": 0.009949431998115557,<br>    \"num_layers\": 1,<br>    \"output_layer\": \"dense\",<br>    \"layer_0\": \"Conv2D\",<br>    \"layer_0_conv2d_filters\": 4,<br>    \"layer_0_conv2d_fsize\": 4,<br>    \"layer_0_conv2d_ssize\": 9,<br>    \"activation_0\": \"relu\",<br>    \"output_dropout\": 0.5696378261896882,<br>    \"lr_inicial\": 0.0011569304475330835<br>  }<br>}",
          "{<br>  \"number\": 605,<br>  \"values\": [<br>    0.5,<br>    3445.0<br>  ],<br>  \"params\": {<br>    \"batchsize\": 32,<br>    \"brightness_factor\": 0.14279360396101978,<br>    \"gaussian_noise_factor\": 0.06471523278079695,<br>    \"translate_factor\": 0.09210390858251483,<br>    \"num_layers\": 2,<br>    \"output_layer\": \"pooling\",<br>    \"layer_0\": \"Conv2D\",<br>    \"layer_0_conv2d_filters\": 4,<br>    \"layer_0_conv2d_fsize\": 5,<br>    \"layer_0_conv2d_ssize\": 4,<br>    \"activation_0\": \"tanh\",<br>    \"layer_1\": \"Conv2D\",<br>    \"layer_1_conv2d_filters\": 12,<br>    \"layer_1_conv2d_fsize\": 3,<br>    \"layer_1_conv2d_ssize\": 3,<br>    \"activation_1\": \"relu\",<br>    \"pre_GAP_layer_fsize\": 3,<br>    \"pre_GAP_layer_act\": \"relu\",<br>    \"lr_inicial\": 0.0017917649864097347<br>  }<br>}",
          "{<br>  \"number\": 606,<br>  \"values\": [<br>    0.8199999928474426,<br>    55717.0<br>  ],<br>  \"params\": {<br>    \"batchsize\": 32,<br>    \"brightness_factor\": 0.01564115523676029,<br>    \"gaussian_noise_factor\": 0.03377979516292749,<br>    \"translate_factor\": 0.1918734506275183,<br>    \"num_layers\": 2,<br>    \"output_layer\": \"pooling\",<br>    \"layer_0\": \"Conv2D\",<br>    \"layer_0_conv2d_filters\": 16,<br>    \"layer_0_conv2d_fsize\": 4,<br>    \"layer_0_conv2d_ssize\": 4,<br>    \"activation_0\": \"relu\",<br>    \"layer_1\": \"Conv2D\",<br>    \"layer_1_conv2d_filters\": 32,<br>    \"layer_1_conv2d_fsize\": 5,<br>    \"layer_1_conv2d_ssize\": 4,<br>    \"activation_1\": \"relu\",<br>    \"pre_GAP_layer_fsize\": 3,<br>    \"pre_GAP_layer_act\": \"linear\",<br>    \"lr_inicial\": 0.0013431067628394224<br>  }<br>}",
          "{<br>  \"number\": 607,<br>  \"values\": [<br>    0.8199999928474426,<br>    29255.0<br>  ],<br>  \"params\": {<br>    \"batchsize\": 32,<br>    \"brightness_factor\": 0.1998519697353923,<br>    \"gaussian_noise_factor\": 0.04045875465333484,<br>    \"translate_factor\": 0.12412294961874631,<br>    \"num_layers\": 3,<br>    \"output_layer\": \"dense\",<br>    \"layer_0\": \"Conv2D\",<br>    \"layer_0_conv2d_filters\": 4,<br>    \"layer_0_conv2d_fsize\": 4,<br>    \"layer_0_conv2d_ssize\": 4,<br>    \"activation_0\": \"tanh\",<br>    \"layer_1\": \"Conv2D\",<br>    \"layer_1_conv2d_filters\": 12,<br>    \"layer_1_conv2d_fsize\": 3,<br>    \"layer_1_conv2d_ssize\": 4,<br>    \"activation_1\": \"tanh\",<br>    \"layer_2\": \"Conv2D\",<br>    \"layer_2_conv2d_filters\": 32,<br>    \"layer_2_conv2d_fsize\": 3,<br>    \"layer_2_conv2d_ssize\": 3,<br>    \"activation_2\": \"relu\",<br>    \"output_dropout\": 0.5201602070218108,<br>    \"lr_inicial\": 0.0019132780350679009<br>  }<br>}",
          "{<br>  \"number\": 608,<br>  \"values\": [<br>    0.7799999713897705,<br>    3061.0<br>  ],<br>  \"params\": {<br>    \"batchsize\": 32,<br>    \"brightness_factor\": 0.1784316031733024,<br>    \"gaussian_noise_factor\": 0.019568354231690656,<br>    \"translate_factor\": 0.1419557197668998,<br>    \"num_layers\": 2,<br>    \"output_layer\": \"pooling\",<br>    \"layer_0\": \"Conv2D\",<br>    \"layer_0_conv2d_filters\": 4,<br>    \"layer_0_conv2d_fsize\": 5,<br>    \"layer_0_conv2d_ssize\": 4,<br>    \"activation_0\": \"relu\",<br>    \"layer_1\": \"Conv2D\",<br>    \"layer_1_conv2d_filters\": 8,<br>    \"layer_1_conv2d_fsize\": 3,<br>    \"layer_1_conv2d_ssize\": 7,<br>    \"activation_1\": \"relu\",<br>    \"pre_GAP_layer_fsize\": 4,<br>    \"pre_GAP_layer_act\": \"relu\",<br>    \"lr_inicial\": 0.0009419463730918704<br>  }<br>}",
          "{<br>  \"number\": 609,<br>  \"values\": [<br>    0.7400000095367432,<br>    20171.0<br>  ],<br>  \"params\": {<br>    \"batchsize\": 32,<br>    \"brightness_factor\": 0.15275546152430639,<br>    \"gaussian_noise_factor\": 0.11933027101366814,<br>    \"translate_factor\": 0.18788209809971998,<br>    \"num_layers\": 1,<br>    \"output_layer\": \"dense\",<br>    \"layer_0\": \"Pointwise2D\",<br>    \"layer_0_pwconv2d_filters\": 20,<br>    \"layer_0_pwconv2d_ssize\": 14,<br>    \"activation_0\": \"tanh\",<br>    \"output_dropout\": 0.3408780453618472,<br>    \"lr_inicial\": 0.0012658947941261234<br>  }<br>}",
          "{<br>  \"number\": 610,<br>  \"values\": [<br>    0.699999988079071,<br>    3861.0<br>  ],<br>  \"params\": {<br>    \"batchsize\": 128,<br>    \"brightness_factor\": 0.11214241687327546,<br>    \"gaussian_noise_factor\": 0.0824104995563504,<br>    \"translate_factor\": 0.1848033183454637,<br>    \"num_layers\": 2,<br>    \"output_layer\": \"pooling\",<br>    \"layer_0\": \"Conv2D\",<br>    \"layer_0_conv2d_filters\": 24,<br>    \"layer_0_conv2d_fsize\": 4,<br>    \"layer_0_conv2d_ssize\": 4,<br>    \"activation_0\": \"relu\",<br>    \"layer_1\": \"Pointwise2D\",<br>    \"layer_1_pwconv2d_filters\": 8,<br>    \"layer_1_pwconv2d_ssize\": 6,<br>    \"activation_1\": \"linear\",<br>    \"pre_GAP_layer_fsize\": 3,<br>    \"pre_GAP_layer_act\": \"relu\",<br>    \"lr_inicial\": 0.0015600121583477168<br>  }<br>}",
          "{<br>  \"number\": 611,<br>  \"values\": [<br>    0.8799999952316284,<br>    22859.0<br>  ],<br>  \"params\": {<br>    \"batchsize\": 32,<br>    \"brightness_factor\": 0.09784152383204364,<br>    \"gaussian_noise_factor\": 0.012674764999664299,<br>    \"translate_factor\": 0.10710582050303091,<br>    \"num_layers\": 2,<br>    \"output_layer\": \"dense\",<br>    \"layer_0\": \"Conv2D\",<br>    \"layer_0_conv2d_filters\": 4,<br>    \"layer_0_conv2d_fsize\": 3,<br>    \"layer_0_conv2d_ssize\": 4,<br>    \"activation_0\": \"tanh\",<br>    \"layer_1\": \"Conv2D\",<br>    \"layer_1_conv2d_filters\": 28,<br>    \"layer_1_conv2d_fsize\": 4,<br>    \"layer_1_conv2d_ssize\": 6,<br>    \"activation_1\": \"relu\",<br>    \"output_dropout\": 0.45289669057031556,<br>    \"lr_inicial\": 0.0016260151412487655<br>  }<br>}",
          "{<br>  \"number\": 612,<br>  \"values\": [<br>    0.5199999809265137,<br>    6845.0<br>  ],<br>  \"params\": {<br>    \"batchsize\": 32,<br>    \"brightness_factor\": 0.1484194430712825,<br>    \"gaussian_noise_factor\": 0.06066864489503281,<br>    \"translate_factor\": 0.04914018746664506,<br>    \"num_layers\": 3,<br>    \"output_layer\": \"pooling\",<br>    \"layer_0\": \"Conv2D\",<br>    \"layer_0_conv2d_filters\": 4,<br>    \"layer_0_conv2d_fsize\": 5,<br>    \"layer_0_conv2d_ssize\": 4,<br>    \"activation_0\": \"linear\",<br>    \"layer_1\": \"Conv2D\",<br>    \"layer_1_conv2d_filters\": 12,<br>    \"layer_1_conv2d_fsize\": 3,<br>    \"layer_1_conv2d_ssize\": 4,<br>    \"activation_1\": \"relu\",<br>    \"layer_2\": \"Pointwise2D\",<br>    \"layer_2_pwconv2d_filters\": 32,<br>    \"layer_2_pwconv2d_ssize\": 4,<br>    \"activation_2\": \"tanh\",<br>    \"pre_GAP_layer_fsize\": 3,<br>    \"pre_GAP_layer_act\": \"tanh\",<br>    \"lr_inicial\": 0.0014210247546067145<br>  }<br>}",
          "{<br>  \"number\": 613,<br>  \"values\": [<br>    0.5799999833106995,<br>    8269.0<br>  ],<br>  \"params\": {<br>    \"batchsize\": 32,<br>    \"brightness_factor\": 0.0446474163956988,<br>    \"gaussian_noise_factor\": 0.19645686572226684,<br>    \"translate_factor\": 0.09879509506931958,<br>    \"num_layers\": 2,<br>    \"output_layer\": \"pooling\",<br>    \"layer_0\": \"Conv2D\",<br>    \"layer_0_conv2d_filters\": 4,<br>    \"layer_0_conv2d_fsize\": 4,<br>    \"layer_0_conv2d_ssize\": 4,<br>    \"activation_0\": \"relu\",<br>    \"layer_1\": \"Conv2D\",<br>    \"layer_1_conv2d_filters\": 16,<br>    \"layer_1_conv2d_fsize\": 5,<br>    \"layer_1_conv2d_ssize\": 5,<br>    \"activation_1\": \"relu\",<br>    \"pre_GAP_layer_fsize\": 3,<br>    \"pre_GAP_layer_act\": \"relu\",<br>    \"lr_inicial\": 0.0005075757401749942<br>  }<br>}",
          "{<br>  \"number\": 614,<br>  \"values\": [<br>    0.7599999904632568,<br>    20239.0<br>  ],<br>  \"params\": {<br>    \"batchsize\": 32,<br>    \"brightness_factor\": 0.14027270533266306,<br>    \"gaussian_noise_factor\": 0.04418782389123706,<br>    \"translate_factor\": 0.040410440159202504,<br>    \"num_layers\": 2,<br>    \"output_layer\": \"dense\",<br>    \"layer_0\": \"Conv2D\",<br>    \"layer_0_conv2d_filters\": 4,<br>    \"layer_0_conv2d_fsize\": 4,<br>    \"layer_0_conv2d_ssize\": 4,<br>    \"activation_0\": \"relu\",<br>    \"layer_1\": \"Conv2D\",<br>    \"layer_1_conv2d_filters\": 4,<br>    \"layer_1_conv2d_fsize\": 3,<br>    \"layer_1_conv2d_ssize\": 3,<br>    \"activation_1\": \"relu\",<br>    \"output_dropout\": 0.49538635013705545,<br>    \"lr_inicial\": 0.0013133971870957595<br>  }<br>}",
          "{<br>  \"number\": 615,<br>  \"values\": [<br>    0.6600000262260437,<br>    1613.0<br>  ],<br>  \"params\": {<br>    \"batchsize\": 32,<br>    \"brightness_factor\": 0.18159773879090102,<br>    \"gaussian_noise_factor\": 0.03213255212815402,<br>    \"translate_factor\": 0.11733324614127118,<br>    \"num_layers\": 1,<br>    \"output_layer\": \"pooling\",<br>    \"layer_0\": \"Conv2D\",<br>    \"layer_0_conv2d_filters\": 4,<br>    \"layer_0_conv2d_fsize\": 5,<br>    \"layer_0_conv2d_ssize\": 12,<br>    \"activation_0\": \"tanh\",<br>    \"pre_GAP_layer_fsize\": 5,<br>    \"pre_GAP_layer_act\": \"relu\",<br>    \"lr_inicial\": 0.0016796515679688051<br>  }<br>}",
          "{<br>  \"number\": 616,<br>  \"values\": [<br>    0.7799999713897705,<br>    19815.0<br>  ],<br>  \"params\": {<br>    \"batchsize\": 32,<br>    \"brightness_factor\": 0.004268512987102892,<br>    \"gaussian_noise_factor\": 0.022411835279300213,<br>    \"translate_factor\": 0.02937195068357415,<br>    \"num_layers\": 2,<br>    \"output_layer\": \"dense\",<br>    \"layer_0\": \"Pointwise2D\",<br>    \"layer_0_pwconv2d_filters\": 32,<br>    \"layer_0_pwconv2d_ssize\": 5,<br>    \"activation_0\": \"relu\",<br>    \"layer_1\": \"Pointwise2D\",<br>    \"layer_1_pwconv2d_filters\": 4,<br>    \"layer_1_pwconv2d_ssize\": 4,<br>    \"activation_1\": \"linear\",<br>    \"output_dropout\": 0.40440167085937273,<br>    \"lr_inicial\": 0.0010667758376008308<br>  }<br>}",
          "{<br>  \"number\": 618,<br>  \"values\": [<br>    0.699999988079071,<br>    21575.0<br>  ],<br>  \"params\": {<br>    \"batchsize\": 96,<br>    \"brightness_factor\": 0.155480877759386,<br>    \"gaussian_noise_factor\": 0.05516835439453303,<br>    \"translate_factor\": 0.07990147904619194,<br>    \"num_layers\": 3,<br>    \"output_layer\": \"dense\",<br>    \"layer_0\": \"Pointwise2D\",<br>    \"layer_0_pwconv2d_filters\": 24,<br>    \"layer_0_pwconv2d_ssize\": 3,<br>    \"activation_0\": \"tanh\",<br>    \"layer_1\": \"Pointwise2D\",<br>    \"layer_1_pwconv2d_filters\": 20,<br>    \"layer_1_pwconv2d_ssize\": 3,<br>    \"activation_1\": \"tanh\",<br>    \"layer_2\": \"Conv2D\",<br>    \"layer_2_conv2d_filters\": 4,<br>    \"layer_2_conv2d_fsize\": 3,<br>    \"layer_2_conv2d_ssize\": 4,<br>    \"activation_2\": \"linear\",<br>    \"output_dropout\": 0.389638138754165,<br>    \"lr_inicial\": 0.0017225851367856724<br>  }<br>}",
          "{<br>  \"number\": 619,<br>  \"values\": [<br>    0.7200000286102295,<br>    25582.0<br>  ],<br>  \"params\": {<br>    \"batchsize\": 128,<br>    \"brightness_factor\": 0.14672209953384607,<br>    \"gaussian_noise_factor\": 0.051360306257377815,<br>    \"translate_factor\": 0.08816129097372247,<br>    \"num_layers\": 3,<br>    \"output_layer\": \"dense\",<br>    \"layer_0\": \"Pointwise2D\",<br>    \"layer_0_pwconv2d_filters\": 16,<br>    \"layer_0_pwconv2d_ssize\": 4,<br>    \"activation_0\": \"tanh\",<br>    \"layer_1\": \"Conv2D\",<br>    \"layer_1_conv2d_filters\": 24,<br>    \"layer_1_conv2d_fsize\": 3,<br>    \"layer_1_conv2d_ssize\": 4,<br>    \"activation_1\": \"linear\",<br>    \"layer_2\": \"Conv2D\",<br>    \"layer_2_conv2d_filters\": 4,<br>    \"layer_2_conv2d_fsize\": 3,<br>    \"layer_2_conv2d_ssize\": 4,<br>    \"activation_2\": \"linear\",<br>    \"output_dropout\": 0.34504548351842007,<br>    \"lr_inicial\": 0.001783908536888071<br>  }<br>}",
          "{<br>  \"number\": 620,<br>  \"values\": [<br>    0.699999988079071,<br>    32591.0<br>  ],<br>  \"params\": {<br>    \"batchsize\": 64,<br>    \"brightness_factor\": 0.0694672011241802,<br>    \"gaussian_noise_factor\": 0.04750932106531044,<br>    \"translate_factor\": 0.09502941088315056,<br>    \"num_layers\": 3,<br>    \"output_layer\": \"dense\",<br>    \"layer_0\": \"Conv2D\",<br>    \"layer_0_conv2d_filters\": 28,<br>    \"layer_0_conv2d_fsize\": 5,<br>    \"layer_0_conv2d_ssize\": 3,<br>    \"activation_0\": \"tanh\",<br>    \"layer_1\": \"Conv2D\",<br>    \"layer_1_conv2d_filters\": 24,<br>    \"layer_1_conv2d_fsize\": 3,<br>    \"layer_1_conv2d_ssize\": 4,<br>    \"activation_1\": \"tanh\",<br>    \"layer_2\": \"Conv2D\",<br>    \"layer_2_conv2d_filters\": 8,<br>    \"layer_2_conv2d_fsize\": 4,<br>    \"layer_2_conv2d_ssize\": 4,<br>    \"activation_2\": \"linear\",<br>    \"output_dropout\": 0.5115477890237627,<br>    \"lr_inicial\": 0.0018355053865489741<br>  }<br>}",
          "{<br>  \"number\": 621,<br>  \"values\": [<br>    0.800000011920929,<br>    20391.0<br>  ],<br>  \"params\": {<br>    \"batchsize\": 64,<br>    \"brightness_factor\": 0.15747671694875615,<br>    \"gaussian_noise_factor\": 0.059186257581796034,<br>    \"translate_factor\": 0.08868701400099166,<br>    \"num_layers\": 3,<br>    \"output_layer\": \"dense\",<br>    \"layer_0\": \"Pointwise2D\",<br>    \"layer_0_pwconv2d_filters\": 12,<br>    \"layer_0_pwconv2d_ssize\": 2,<br>    \"activation_0\": \"tanh\",<br>    \"layer_1\": \"Pointwise2D\",<br>    \"layer_1_pwconv2d_filters\": 16,<br>    \"layer_1_pwconv2d_ssize\": 2,<br>    \"activation_1\": \"relu\",<br>    \"layer_2\": \"Conv2D\",<br>    \"layer_2_conv2d_filters\": 4,<br>    \"layer_2_conv2d_fsize\": 3,<br>    \"layer_2_conv2d_ssize\": 5,<br>    \"activation_2\": \"linear\",<br>    \"output_dropout\": 0.3962636831385816,<br>    \"lr_inicial\": 0.0018950984326801797<br>  }<br>}",
          "{<br>  \"number\": 622,<br>  \"values\": [<br>    0.7200000286102295,<br>    23151.0<br>  ],<br>  \"params\": {<br>    \"batchsize\": 64,<br>    \"brightness_factor\": 0.15184620648533131,<br>    \"gaussian_noise_factor\": 0.0540581330477019,<br>    \"translate_factor\": 0.10002538054225542,<br>    \"num_layers\": 3,<br>    \"output_layer\": \"dense\",<br>    \"layer_0\": \"Conv2D\",<br>    \"layer_0_conv2d_filters\": 8,<br>    \"layer_0_conv2d_fsize\": 5,<br>    \"layer_0_conv2d_ssize\": 3,<br>    \"activation_0\": \"tanh\",<br>    \"layer_1\": \"Conv2D\",<br>    \"layer_1_conv2d_filters\": 28,<br>    \"layer_1_conv2d_fsize\": 3,<br>    \"layer_1_conv2d_ssize\": 4,<br>    \"activation_1\": \"linear\",<br>    \"layer_2\": \"Pointwise2D\",<br>    \"layer_2_pwconv2d_filters\": 8,<br>    \"layer_2_pwconv2d_ssize\": 2,<br>    \"activation_2\": \"linear\",<br>    \"output_dropout\": 0.3811798854283872,<br>    \"lr_inicial\": 0.0017817614493943104<br>  }<br>}",
          "{<br>  \"number\": 623,<br>  \"values\": [<br>    0.800000011920929,<br>    26367.0<br>  ],<br>  \"params\": {<br>    \"batchsize\": 64,<br>    \"brightness_factor\": 0.1458925089362719,<br>    \"gaussian_noise_factor\": 0.06255668107580285,<br>    \"translate_factor\": 0.08507039253113008,<br>    \"num_layers\": 3,<br>    \"output_layer\": \"dense\",<br>    \"layer_0\": \"Conv2D\",<br>    \"layer_0_conv2d_filters\": 8,<br>    \"layer_0_conv2d_fsize\": 3,<br>    \"layer_0_conv2d_ssize\": 3,<br>    \"activation_0\": \"tanh\",<br>    \"layer_1\": \"Conv2D\",<br>    \"layer_1_conv2d_filters\": 24,<br>    \"layer_1_conv2d_fsize\": 3,<br>    \"layer_1_conv2d_ssize\": 4,<br>    \"activation_1\": \"relu\",<br>    \"layer_2\": \"Conv2D\",<br>    \"layer_2_conv2d_filters\": 8,<br>    \"layer_2_conv2d_fsize\": 4,<br>    \"layer_2_conv2d_ssize\": 4,<br>    \"activation_2\": \"linear\",<br>    \"output_dropout\": 0.5394078126076062,<br>    \"lr_inicial\": 0.0017238801343559048<br>  }<br>}",
          "{<br>  \"number\": 624,<br>  \"values\": [<br>    0.699999988079071,<br>    20513.0<br>  ],<br>  \"params\": {<br>    \"batchsize\": 96,<br>    \"brightness_factor\": 0.172598137809922,<br>    \"gaussian_noise_factor\": 0.06673635151970757,<br>    \"translate_factor\": 0.08186327671667003,<br>    \"num_layers\": 1,<br>    \"output_layer\": \"dense\",<br>    \"layer_0\": \"Conv2D\",<br>    \"layer_0_conv2d_filters\": 12,<br>    \"layer_0_conv2d_fsize\": 5,<br>    \"layer_0_conv2d_ssize\": 14,<br>    \"activation_0\": \"tanh\",<br>    \"output_dropout\": 0.5847562408464985,<br>    \"lr_inicial\": 0.00182318616827489<br>  }<br>}",
          "{<br>  \"number\": 625,<br>  \"values\": [<br>    0.7599999904632568,<br>    31406.0<br>  ],<br>  \"params\": {<br>    \"batchsize\": 64,<br>    \"brightness_factor\": 0.18819006157356086,<br>    \"gaussian_noise_factor\": 0.05553208715630264,<br>    \"translate_factor\": 0.09339612461291248,<br>    \"num_layers\": 3,<br>    \"output_layer\": \"dense\",<br>    \"layer_0\": \"Conv2D\",<br>    \"layer_0_conv2d_filters\": 32,<br>    \"layer_0_conv2d_fsize\": 5,<br>    \"layer_0_conv2d_ssize\": 3,<br>    \"activation_0\": \"tanh\",<br>    \"layer_1\": \"Conv2D\",<br>    \"layer_1_conv2d_filters\": 24,<br>    \"layer_1_conv2d_fsize\": 3,<br>    \"layer_1_conv2d_ssize\": 4,<br>    \"activation_1\": \"relu\",<br>    \"layer_2\": \"Conv2D\",<br>    \"layer_2_conv2d_filters\": 4,<br>    \"layer_2_conv2d_fsize\": 3,<br>    \"layer_2_conv2d_ssize\": 5,<br>    \"activation_2\": \"linear\",<br>    \"output_dropout\": 0.5639080948452437,<br>    \"lr_inicial\": 0.0017471306055443037<br>  }<br>}",
          "{<br>  \"number\": 626,<br>  \"values\": [<br>    0.7200000286102295,<br>    19191.0<br>  ],<br>  \"params\": {<br>    \"batchsize\": 128,<br>    \"brightness_factor\": 0.1501068810526737,<br>    \"gaussian_noise_factor\": 0.05053926426311696,<br>    \"translate_factor\": 0.08545245652794886,<br>    \"num_layers\": 1,<br>    \"output_layer\": \"dense\",<br>    \"layer_0\": \"Conv2D\",<br>    \"layer_0_conv2d_filters\": 8,<br>    \"layer_0_conv2d_fsize\": 5,<br>    \"layer_0_conv2d_ssize\": 11,<br>    \"activation_0\": \"tanh\",<br>    \"output_dropout\": 0.42710364497330366,<br>    \"lr_inicial\": 0.0019151771629667329<br>  }<br>}",
          "{<br>  \"number\": 627,<br>  \"values\": [<br>    0.7799999713897705,<br>    28604.0<br>  ],<br>  \"params\": {<br>    \"batchsize\": 96,<br>    \"brightness_factor\": 0.14174431454205955,<br>    \"gaussian_noise_factor\": 0.06952838766672743,<br>    \"translate_factor\": 0.09722359504369311,<br>    \"num_layers\": 3,<br>    \"output_layer\": \"dense\",<br>    \"layer_0\": \"Pointwise2D\",<br>    \"layer_0_pwconv2d_filters\": 20,<br>    \"layer_0_pwconv2d_ssize\": 4,<br>    \"activation_0\": \"tanh\",<br>    \"layer_1\": \"Conv2D\",<br>    \"layer_1_conv2d_filters\": 28,<br>    \"layer_1_conv2d_fsize\": 3,<br>    \"layer_1_conv2d_ssize\": 4,<br>    \"activation_1\": \"relu\",<br>    \"layer_2\": \"Pointwise2D\",<br>    \"layer_2_pwconv2d_filters\": 24,<br>    \"layer_2_pwconv2d_ssize\": 3,<br>    \"activation_2\": \"linear\",<br>    \"output_dropout\": 0.3239276611324241,<br>    \"lr_inicial\": 0.0018095648735800688<br>  }<br>}",
          "{<br>  \"number\": 628,<br>  \"values\": [<br>    0.7599999904632568,<br>    21783.0<br>  ],<br>  \"params\": {<br>    \"batchsize\": 96,<br>    \"brightness_factor\": 0.1945756186812787,<br>    \"gaussian_noise_factor\": 0.057859745785508544,<br>    \"translate_factor\": 0.14909419042544053,<br>    \"num_layers\": 3,<br>    \"output_layer\": \"dense\",<br>    \"layer_0\": \"Conv2D\",<br>    \"layer_0_conv2d_filters\": 8,<br>    \"layer_0_conv2d_fsize\": 3,<br>    \"layer_0_conv2d_ssize\": 3,<br>    \"activation_0\": \"tanh\",<br>    \"layer_1\": \"Pointwise2D\",<br>    \"layer_1_pwconv2d_filters\": 12,<br>    \"layer_1_pwconv2d_ssize\": 3,<br>    \"activation_1\": \"relu\",<br>    \"layer_2\": \"Conv2D\",<br>    \"layer_2_conv2d_filters\": 8,<br>    \"layer_2_conv2d_fsize\": 3,<br>    \"layer_2_conv2d_ssize\": 4,<br>    \"activation_2\": \"linear\",<br>    \"output_dropout\": 0.47348600635292754,<br>    \"lr_inicial\": 0.0018840860232385767<br>  }<br>}",
          "{<br>  \"number\": 629,<br>  \"values\": [<br>    0.6200000047683716,<br>    2501.0<br>  ],<br>  \"params\": {<br>    \"batchsize\": 64,<br>    \"brightness_factor\": 0.06441995283420099,<br>    \"gaussian_noise_factor\": 0.04846381164908203,<br>    \"translate_factor\": 0.09045965225232781,<br>    \"num_layers\": 1,<br>    \"output_layer\": \"pooling\",<br>    \"layer_0\": \"Conv2D\",<br>    \"layer_0_conv2d_filters\": 8,<br>    \"layer_0_conv2d_fsize\": 5,<br>    \"layer_0_conv2d_ssize\": 9,<br>    \"activation_0\": \"tanh\",<br>    \"pre_GAP_layer_fsize\": 4,<br>    \"pre_GAP_layer_act\": \"linear\",<br>    \"lr_inicial\": 0.0016948982553982022<br>  }<br>}",
          "{<br>  \"number\": 630,<br>  \"values\": [<br>    0.699999988079071,<br>    28199.0<br>  ],<br>  \"params\": {<br>    \"batchsize\": 128,<br>    \"brightness_factor\": 0.07730639314114193,<br>    \"gaussian_noise_factor\": 0.04570733245548621,<br>    \"translate_factor\": 0.0862523486224625,<br>    \"num_layers\": 3,<br>    \"output_layer\": \"dense\",<br>    \"layer_0\": \"Conv2D\",<br>    \"layer_0_conv2d_filters\": 16,<br>    \"layer_0_conv2d_fsize\": 5,<br>    \"layer_0_conv2d_ssize\": 3,<br>    \"activation_0\": \"tanh\",<br>    \"layer_1\": \"Conv2D\",<br>    \"layer_1_conv2d_filters\": 32,<br>    \"layer_1_conv2d_fsize\": 3,<br>    \"layer_1_conv2d_ssize\": 4,<br>    \"activation_1\": \"linear\",<br>    \"layer_2\": \"Pointwise2D\",<br>    \"layer_2_pwconv2d_filters\": 12,<br>    \"layer_2_pwconv2d_ssize\": 5,<br>    \"activation_2\": \"linear\",<br>    \"output_dropout\": 0.5481791794252482,<br>    \"lr_inicial\": 0.0017702731484437316<br>  }<br>}",
          "{<br>  \"number\": 631,<br>  \"values\": [<br>    0.46000000834465027,<br>    7493.0<br>  ],<br>  \"params\": {<br>    \"batchsize\": 96,<br>    \"brightness_factor\": 0.1534916645763863,<br>    \"gaussian_noise_factor\": 0.06398253246156546,<br>    \"translate_factor\": 0.1011242760913966,<br>    \"num_layers\": 1,<br>    \"output_layer\": \"pooling\",<br>    \"layer_0\": \"Conv2D\",<br>    \"layer_0_conv2d_filters\": 24,<br>    \"layer_0_conv2d_fsize\": 5,<br>    \"layer_0_conv2d_ssize\": 16,<br>    \"activation_0\": \"tanh\",<br>    \"pre_GAP_layer_fsize\": 4,<br>    \"pre_GAP_layer_act\": \"tanh\",<br>    \"lr_inicial\": 0.0006313934017277362<br>  }<br>}",
          "{<br>  \"number\": 632,<br>  \"values\": [<br>    0.7599999904632568,<br>    27451.0<br>  ],<br>  \"params\": {<br>    \"batchsize\": 64,<br>    \"brightness_factor\": 0.021256916122666385,<br>    \"gaussian_noise_factor\": 0.04290148681053525,<br>    \"translate_factor\": 0.10527437486732663,<br>    \"num_layers\": 2,<br>    \"output_layer\": \"dense\",<br>    \"layer_0\": \"Conv2D\",<br>    \"layer_0_conv2d_filters\": 32,<br>    \"layer_0_conv2d_fsize\": 3,<br>    \"layer_0_conv2d_ssize\": 3,<br>    \"activation_0\": \"tanh\",<br>    \"layer_1\": \"Conv2D\",<br>    \"layer_1_conv2d_filters\": 12,<br>    \"layer_1_conv2d_fsize\": 4,<br>    \"layer_1_conv2d_ssize\": 8,<br>    \"activation_1\": \"tanh\",<br>    \"output_dropout\": 0.4390497838674287,<br>    \"lr_inicial\": 0.0007602048501174058<br>  }<br>}",
          "{<br>  \"number\": 633,<br>  \"values\": [<br>    0.800000011920929,<br>    46277.0<br>  ],<br>  \"params\": {<br>    \"batchsize\": 32,<br>    \"brightness_factor\": 0.14584239755885625,<br>    \"gaussian_noise_factor\": 0.06113508798236945,<br>    \"translate_factor\": 0.08248781359203,<br>    \"num_layers\": 3,<br>    \"output_layer\": \"pooling\",<br>    \"layer_0\": \"Pointwise2D\",<br>    \"layer_0_pwconv2d_filters\": 12,<br>    \"layer_0_pwconv2d_ssize\": 3,<br>    \"activation_0\": \"tanh\",<br>    \"layer_1\": \"Conv2D\",<br>    \"layer_1_conv2d_filters\": 24,<br>    \"layer_1_conv2d_fsize\": 3,<br>    \"layer_1_conv2d_ssize\": 4,<br>    \"activation_1\": \"relu\",<br>    \"layer_2\": \"Conv2D\",<br>    \"layer_2_conv2d_filters\": 20,<br>    \"layer_2_conv2d_fsize\": 4,<br>    \"layer_2_conv2d_ssize\": 4,<br>    \"activation_2\": \"relu\",<br>    \"pre_GAP_layer_fsize\": 5,<br>    \"pre_GAP_layer_act\": \"linear\",<br>    \"lr_inicial\": 0.001816545473628368<br>  }<br>}",
          "{<br>  \"number\": 634,<br>  \"values\": [<br>    0.8199999928474426,<br>    23603.0<br>  ],<br>  \"params\": {<br>    \"batchsize\": 32,<br>    \"brightness_factor\": 0.13664200183195396,<br>    \"gaussian_noise_factor\": 0.07406616387693231,<br>    \"translate_factor\": 0.006199209266132565,<br>    \"num_layers\": 2,<br>    \"output_layer\": \"dense\",<br>    \"layer_0\": \"Conv2D\",<br>    \"layer_0_conv2d_filters\": 12,<br>    \"layer_0_conv2d_fsize\": 5,<br>    \"layer_0_conv2d_ssize\": 3,<br>    \"activation_0\": \"tanh\",<br>    \"layer_1\": \"Conv2D\",<br>    \"layer_1_conv2d_filters\": 24,<br>    \"layer_1_conv2d_fsize\": 3,<br>    \"layer_1_conv2d_ssize\": 4,<br>    \"activation_1\": \"relu\",<br>    \"output_dropout\": 0.4600373265634821,<br>    \"lr_inicial\": 0.0006053275604873795<br>  }<br>}",
          "{<br>  \"number\": 635,<br>  \"values\": [<br>    0.46000000834465027,<br>    17869.0<br>  ],<br>  \"params\": {<br>    \"batchsize\": 32,<br>    \"brightness_factor\": 0.054719048241820015,<br>    \"gaussian_noise_factor\": 0.05277754631418768,<br>    \"translate_factor\": 0.09549228468425577,<br>    \"num_layers\": 2,<br>    \"output_layer\": \"pooling\",<br>    \"layer_0\": \"Conv2D\",<br>    \"layer_0_conv2d_filters\": 28,<br>    \"layer_0_conv2d_fsize\": 4,<br>    \"layer_0_conv2d_ssize\": 4,<br>    \"activation_0\": \"tanh\",<br>    \"layer_1\": \"Conv2D\",<br>    \"layer_1_conv2d_filters\": 12,<br>    \"layer_1_conv2d_fsize\": 3,<br>    \"layer_1_conv2d_ssize\": 4,<br>    \"activation_1\": \"relu\",<br>    \"pre_GAP_layer_fsize\": 5,<br>    \"pre_GAP_layer_act\": \"tanh\",<br>    \"lr_inicial\": 0.0008375489698743468<br>  }<br>}",
          "{<br>  \"number\": 636,<br>  \"values\": [<br>    0.6600000262260437,<br>    973.0<br>  ],<br>  \"params\": {<br>    \"batchsize\": 32,<br>    \"brightness_factor\": 0.15813300425243,<br>    \"gaussian_noise_factor\": 0.06761619625985095,<br>    \"translate_factor\": 0.10938787368105203,<br>    \"num_layers\": 1,<br>    \"output_layer\": \"pooling\",<br>    \"layer_0\": \"Conv2D\",<br>    \"layer_0_conv2d_filters\": 4,<br>    \"layer_0_conv2d_fsize\": 5,<br>    \"layer_0_conv2d_ssize\": 13,<br>    \"activation_0\": \"tanh\",<br>    \"pre_GAP_layer_fsize\": 3,<br>    \"pre_GAP_layer_act\": \"linear\",<br>    \"lr_inicial\": 0.0016783041357395086<br>  }<br>}",
          "{<br>  \"number\": 637,<br>  \"values\": [<br>    0.8199999928474426,<br>    19071.0<br>  ],<br>  \"params\": {<br>    \"batchsize\": 32,<br>    \"brightness_factor\": 0.15022240443708373,<br>    \"gaussian_noise_factor\": 0.03991066743433273,<br>    \"translate_factor\": 0.11368689896852417,<br>    \"num_layers\": 2,<br>    \"output_layer\": \"dense\",<br>    \"layer_0\": \"Conv2D\",<br>    \"layer_0_conv2d_filters\": 4,<br>    \"layer_0_conv2d_fsize\": 4,<br>    \"layer_0_conv2d_ssize\": 3,<br>    \"activation_0\": \"tanh\",<br>    \"layer_1\": \"Pointwise2D\",<br>    \"layer_1_pwconv2d_filters\": 4,<br>    \"layer_1_pwconv2d_ssize\": 5,<br>    \"activation_1\": \"relu\",<br>    \"output_dropout\": 0.4861186778038191,<br>    \"lr_inicial\": 0.0017483690914550656<br>  }<br>}",
          "{<br>  \"number\": 638,<br>  \"values\": [<br>    0.7200000286102295,<br>    18525.0<br>  ],<br>  \"params\": {<br>    \"batchsize\": 64,<br>    \"brightness_factor\": 0.14288775772792164,<br>    \"gaussian_noise_factor\": 0.056159011306847195,<br>    \"translate_factor\": 0.05648091078898958,<br>    \"num_layers\": 3,<br>    \"output_layer\": \"pooling\",<br>    \"layer_0\": \"Conv2D\",<br>    \"layer_0_conv2d_filters\": 4,<br>    \"layer_0_conv2d_fsize\": 4,<br>    \"layer_0_conv2d_ssize\": 3,<br>    \"activation_0\": \"tanh\",<br>    \"layer_1\": \"Conv2D\",<br>    \"layer_1_conv2d_filters\": 28,<br>    \"layer_1_conv2d_fsize\": 3,<br>    \"layer_1_conv2d_ssize\": 4,<br>    \"activation_1\": \"linear\",<br>    \"layer_2\": \"Conv2D\",<br>    \"layer_2_conv2d_filters\": 12,<br>    \"layer_2_conv2d_fsize\": 3,<br>    \"layer_2_conv2d_ssize\": 3,<br>    \"activation_2\": \"linear\",<br>    \"pre_GAP_layer_fsize\": 4,<br>    \"pre_GAP_layer_act\": \"relu\",<br>    \"lr_inicial\": 0.0018409242521440741<br>  }<br>}",
          "{<br>  \"number\": 639,<br>  \"values\": [<br>    0.7799999713897705,<br>    25280.0<br>  ],<br>  \"params\": {<br>    \"batchsize\": 32,<br>    \"brightness_factor\": 0.17526699880753616,<br>    \"gaussian_noise_factor\": 0.06097578165317308,<br>    \"translate_factor\": 0.13661217759700792,<br>    \"num_layers\": 2,<br>    \"output_layer\": \"dense\",<br>    \"layer_0\": \"Pointwise2D\",<br>    \"layer_0_pwconv2d_filters\": 8,<br>    \"layer_0_pwconv2d_ssize\": 7,<br>    \"activation_0\": \"linear\",<br>    \"layer_1\": \"Conv2D\",<br>    \"layer_1_conv2d_filters\": 28,<br>    \"layer_1_conv2d_fsize\": 3,<br>    \"layer_1_conv2d_ssize\": 6,<br>    \"activation_1\": \"relu\",<br>    \"output_dropout\": 0.33334198619672695,<br>    \"lr_inicial\": 0.0004823044911410556<br>  }<br>}",
          "{<br>  \"number\": 640,<br>  \"values\": [<br>    0.5799999833106995,<br>    15829.0<br>  ],<br>  \"params\": {<br>    \"batchsize\": 32,<br>    \"brightness_factor\": 0.14635680166166523,<br>    \"gaussian_noise_factor\": 0.11573466643087027,<br>    \"translate_factor\": 0.01962942218313888,<br>    \"num_layers\": 2,<br>    \"output_layer\": \"pooling\",<br>    \"layer_0\": \"Conv2D\",<br>    \"layer_0_conv2d_filters\": 16,<br>    \"layer_0_conv2d_fsize\": 5,<br>    \"layer_0_conv2d_ssize\": 4,<br>    \"activation_0\": \"tanh\",<br>    \"layer_1\": \"Conv2D\",<br>    \"layer_1_conv2d_filters\": 12,<br>    \"layer_1_conv2d_fsize\": 4,<br>    \"layer_1_conv2d_ssize\": 4,<br>    \"activation_1\": \"relu\",<br>    \"pre_GAP_layer_fsize\": 3,<br>    \"pre_GAP_layer_act\": \"relu\",<br>    \"lr_inicial\": 0.0006649662011624155<br>  }<br>}",
          "{<br>  \"number\": 641,<br>  \"values\": [<br>    0.800000011920929,<br>    20456.0<br>  ],<br>  \"params\": {<br>    \"batchsize\": 32,<br>    \"brightness_factor\": 0.13889428378384236,<br>    \"gaussian_noise_factor\": 0.04654507338576593,<br>    \"translate_factor\": 0.1312545428725601,<br>    \"num_layers\": 2,<br>    \"output_layer\": \"dense\",<br>    \"layer_0\": \"Conv2D\",<br>    \"layer_0_conv2d_filters\": 4,<br>    \"layer_0_conv2d_fsize\": 4,<br>    \"layer_0_conv2d_ssize\": 4,<br>    \"activation_0\": \"tanh\",<br>    \"layer_1\": \"Conv2D\",<br>    \"layer_1_conv2d_filters\": 20,<br>    \"layer_1_conv2d_fsize\": 3,<br>    \"layer_1_conv2d_ssize\": 4,<br>    \"activation_1\": \"tanh\",<br>    \"output_dropout\": 0.5012793237217928,<br>    \"lr_inicial\": 0.0019236182455266081<br>  }<br>}",
          "{<br>  \"number\": 642,<br>  \"values\": [<br>    0.47999998927116394,<br>    589.0<br>  ],<br>  \"params\": {<br>    \"batchsize\": 32,<br>    \"brightness_factor\": 0.030318930383281553,<br>    \"gaussian_noise_factor\": 0.07736682436624295,<br>    \"translate_factor\": 0.1593502846726385,<br>    \"num_layers\": 1,<br>    \"output_layer\": \"pooling\",<br>    \"layer_0\": \"Conv2D\",<br>    \"layer_0_conv2d_filters\": 4,<br>    \"layer_0_conv2d_fsize\": 3,<br>    \"layer_0_conv2d_ssize\": 8,<br>    \"activation_0\": \"tanh\",<br>    \"pre_GAP_layer_fsize\": 3,<br>    \"pre_GAP_layer_act\": \"tanh\",<br>    \"lr_inicial\": 0.0016688557669522893<br>  }<br>}",
          "{<br>  \"number\": 643,<br>  \"values\": [<br>    0.6800000071525574,<br>    3765.0<br>  ],<br>  \"params\": {<br>    \"batchsize\": 32,<br>    \"brightness_factor\": 0.008980118131220583,<br>    \"gaussian_noise_factor\": 0.1297946121894657,<br>    \"translate_factor\": 0.08016855111395009,<br>    \"num_layers\": 3,<br>    \"output_layer\": \"pooling\",<br>    \"layer_0\": \"Conv2D\",<br>    \"layer_0_conv2d_filters\": 8,<br>    \"layer_0_conv2d_fsize\": 5,<br>    \"layer_0_conv2d_ssize\": 3,<br>    \"activation_0\": \"linear\",<br>    \"layer_1\": \"Pointwise2D\",<br>    \"layer_1_pwconv2d_filters\": 8,<br>    \"layer_1_pwconv2d_ssize\": 4,<br>    \"activation_1\": \"relu\",<br>    \"layer_2\": \"Pointwise2D\",<br>    \"layer_2_pwconv2d_filters\": 8,<br>    \"layer_2_pwconv2d_ssize\": 4,<br>    \"activation_2\": \"relu\",<br>    \"pre_GAP_layer_fsize\": 5,<br>    \"pre_GAP_layer_act\": \"relu\",<br>    \"lr_inicial\": 0.0018625037549790107<br>  }<br>}",
          "{<br>  \"number\": 644,<br>  \"values\": [<br>    0.7799999713897705,<br>    21080.0<br>  ],<br>  \"params\": {<br>    \"batchsize\": 32,<br>    \"brightness_factor\": 0.16803155461745256,<br>    \"gaussian_noise_factor\": 0.05311723870405818,<br>    \"translate_factor\": 0.12196288419470068,<br>    \"num_layers\": 2,<br>    \"output_layer\": \"dense\",<br>    \"layer_0\": \"Conv2D\",<br>    \"layer_0_conv2d_filters\": 4,<br>    \"layer_0_conv2d_fsize\": 4,<br>    \"layer_0_conv2d_ssize\": 4,<br>    \"activation_0\": \"tanh\",<br>    \"layer_1\": \"Conv2D\",<br>    \"layer_1_conv2d_filters\": 32,<br>    \"layer_1_conv2d_fsize\": 3,<br>    \"layer_1_conv2d_ssize\": 4,<br>    \"activation_1\": \"relu\",<br>    \"output_dropout\": 0.5262180239788767,<br>    \"lr_inicial\": 0.0007246010437931392<br>  }<br>}",
          "{<br>  \"number\": 645,<br>  \"values\": [<br>    0.2199999988079071,<br>    35093.0<br>  ],<br>  \"params\": {<br>    \"batchsize\": 128,<br>    \"brightness_factor\": 0.049331128717986755,<br>    \"gaussian_noise_factor\": 0.07149215793440858,<br>    \"translate_factor\": 0.051392011243881604,<br>    \"num_layers\": 2,<br>    \"output_layer\": \"pooling\",<br>    \"layer_0\": \"Pointwise2D\",<br>    \"layer_0_pwconv2d_filters\": 32,<br>    \"layer_0_pwconv2d_ssize\": 6,<br>    \"activation_0\": \"tanh\",<br>    \"layer_1\": \"Conv2D\",<br>    \"layer_1_conv2d_filters\": 28,<br>    \"layer_1_conv2d_fsize\": 3,<br>    \"layer_1_conv2d_ssize\": 4,<br>    \"activation_1\": \"relu\",<br>    \"pre_GAP_layer_fsize\": 3,<br>    \"pre_GAP_layer_act\": \"relu\",<br>    \"lr_inicial\": 0.0003551864332804716<br>  }<br>}",
          "{<br>  \"number\": 646,<br>  \"values\": [<br>    0.7400000095367432,<br>    20148.0<br>  ],<br>  \"params\": {<br>    \"batchsize\": 64,<br>    \"brightness_factor\": 0.011457373630854426,<br>    \"gaussian_noise_factor\": 0.06592991407108993,<br>    \"translate_factor\": 0.03735277223614088,<br>    \"num_layers\": 2,<br>    \"output_layer\": \"dense\",<br>    \"layer_0\": \"Conv2D\",<br>    \"layer_0_conv2d_filters\": 4,<br>    \"layer_0_conv2d_fsize\": 5,<br>    \"layer_0_conv2d_ssize\": 4,<br>    \"activation_0\": \"tanh\",<br>    \"layer_1\": \"Conv2D\",<br>    \"layer_1_conv2d_filters\": 12,<br>    \"layer_1_conv2d_fsize\": 3,<br>    \"layer_1_conv2d_ssize\": 4,<br>    \"activation_1\": \"linear\",<br>    \"output_dropout\": 0.30810917327447307,<br>    \"lr_inicial\": 0.0017496383693220562<br>  }<br>}",
          "{<br>  \"number\": 647,<br>  \"values\": [<br>    0.7599999904632568,<br>    49485.0<br>  ],<br>  \"params\": {<br>    \"batchsize\": 32,<br>    \"brightness_factor\": 0.08445201493943429,<br>    \"gaussian_noise_factor\": 0.13985999579954184,<br>    \"translate_factor\": 0.16318752872859404,<br>    \"num_layers\": 3,<br>    \"output_layer\": \"pooling\",<br>    \"layer_0\": \"Conv2D\",<br>    \"layer_0_conv2d_filters\": 4,<br>    \"layer_0_conv2d_fsize\": 4,<br>    \"layer_0_conv2d_ssize\": 3,<br>    \"activation_0\": \"tanh\",<br>    \"layer_1\": \"Conv2D\",<br>    \"layer_1_conv2d_filters\": 24,<br>    \"layer_1_conv2d_fsize\": 3,<br>    \"layer_1_conv2d_ssize\": 4,<br>    \"activation_1\": \"relu\",<br>    \"layer_2\": \"Conv2D\",<br>    \"layer_2_conv2d_filters\": 28,<br>    \"layer_2_conv2d_fsize\": 4,<br>    \"layer_2_conv2d_ssize\": 5,<br>    \"activation_2\": \"linear\",<br>    \"pre_GAP_layer_fsize\": 3,<br>    \"pre_GAP_layer_act\": \"linear\",<br>    \"lr_inicial\": 0.0003914819568840951<br>  }<br>}",
          "{<br>  \"number\": 648,<br>  \"values\": [<br>    0.7200000286102295,<br>    19051.0<br>  ],<br>  \"params\": {<br>    \"batchsize\": 32,<br>    \"brightness_factor\": 0.15471463413768138,<br>    \"gaussian_noise_factor\": 0.05042985050618076,<br>    \"translate_factor\": 0.0907750560501891,<br>    \"num_layers\": 1,<br>    \"output_layer\": \"dense\",<br>    \"layer_0\": \"Conv2D\",<br>    \"layer_0_conv2d_filters\": 4,<br>    \"layer_0_conv2d_fsize\": 4,<br>    \"layer_0_conv2d_ssize\": 15,<br>    \"activation_0\": \"linear\",<br>    \"output_dropout\": 0.5185022998972342,<br>    \"lr_inicial\": 0.0016147037154465645<br>  }<br>}",
          "{<br>  \"number\": 649,<br>  \"values\": [<br>    0.3799999952316284,<br>    6309.0<br>  ],<br>  \"params\": {<br>    \"batchsize\": 32,<br>    \"brightness_factor\": 0.1481753080619577,<br>    \"gaussian_noise_factor\": 0.18579723649223165,<br>    \"translate_factor\": 0.09544575227824162,<br>    \"num_layers\": 2,<br>    \"output_layer\": \"pooling\",<br>    \"layer_0\": \"Conv2D\",<br>    \"layer_0_conv2d_filters\": 4,<br>    \"layer_0_conv2d_fsize\": 5,<br>    \"layer_0_conv2d_ssize\": 4,<br>    \"activation_0\": \"tanh\",<br>    \"layer_1\": \"Pointwise2D\",<br>    \"layer_1_pwconv2d_filters\": 32,<br>    \"layer_1_pwconv2d_ssize\": 6,<br>    \"activation_1\": \"relu\",<br>    \"pre_GAP_layer_fsize\": 4,<br>    \"pre_GAP_layer_act\": \"relu\",<br>    \"lr_inicial\": 0.001731753429000091<br>  }<br>}",
          "{<br>  \"number\": 650,<br>  \"values\": [<br>    0.7200000286102295,<br>    20376.0<br>  ],<br>  \"params\": {<br>    \"batchsize\": 96,<br>    \"brightness_factor\": 0.1363085141549179,<br>    \"gaussian_noise_factor\": 0.039566976063041076,<br>    \"translate_factor\": 0.11961081519487303,<br>    \"num_layers\": 2,<br>    \"output_layer\": \"dense\",<br>    \"layer_0\": \"Conv2D\",<br>    \"layer_0_conv2d_filters\": 4,<br>    \"layer_0_conv2d_fsize\": 4,<br>    \"layer_0_conv2d_ssize\": 4,<br>    \"activation_0\": \"tanh\",<br>    \"layer_1\": \"Conv2D\",<br>    \"layer_1_conv2d_filters\": 12,<br>    \"layer_1_conv2d_fsize\": 4,<br>    \"layer_1_conv2d_ssize\": 4,<br>    \"activation_1\": \"tanh\",<br>    \"output_dropout\": 0.4508696084097056,<br>    \"lr_inicial\": 0.0018271601291519877<br>  }<br>}",
          "{<br>  \"number\": 651,<br>  \"values\": [<br>    0.47999998927116394,<br>    21509.0<br>  ],<br>  \"params\": {<br>    \"batchsize\": 32,<br>    \"brightness_factor\": 0.14231151893206614,<br>    \"gaussian_noise_factor\": 0.10822544551780287,<br>    \"translate_factor\": 0.044374581371334806,<br>    \"num_layers\": 2,<br>    \"output_layer\": \"pooling\",<br>    \"layer_0\": \"Pointwise2D\",<br>    \"layer_0_pwconv2d_filters\": 16,<br>    \"layer_0_pwconv2d_ssize\": 7,<br>    \"activation_0\": \"tanh\",<br>    \"layer_1\": \"Conv2D\",<br>    \"layer_1_conv2d_filters\": 32,<br>    \"layer_1_conv2d_fsize\": 3,<br>    \"layer_1_conv2d_ssize\": 4,<br>    \"activation_1\": \"relu\",<br>    \"pre_GAP_layer_fsize\": 3,<br>    \"pre_GAP_layer_act\": \"tanh\",<br>    \"lr_inicial\": 0.0016517099084297473<br>  }<br>}",
          "{<br>  \"number\": 652,<br>  \"values\": [<br>    0.5799999833106995,<br>    7965.0<br>  ],<br>  \"params\": {<br>    \"batchsize\": 32,<br>    \"brightness_factor\": 0.0946758819089995,<br>    \"gaussian_noise_factor\": 0.1004185415553084,<br>    \"translate_factor\": 0.08675955083088928,<br>    \"num_layers\": 3,<br>    \"output_layer\": \"pooling\",<br>    \"layer_0\": \"Conv2D\",<br>    \"layer_0_conv2d_filters\": 4,<br>    \"layer_0_conv2d_fsize\": 5,<br>    \"layer_0_conv2d_ssize\": 3,<br>    \"activation_0\": \"tanh\",<br>    \"layer_1\": \"Conv2D\",<br>    \"layer_1_conv2d_filters\": 28,<br>    \"layer_1_conv2d_fsize\": 3,<br>    \"layer_1_conv2d_ssize\": 4,<br>    \"activation_1\": \"relu\",<br>    \"layer_2\": \"Pointwise2D\",<br>    \"layer_2_pwconv2d_filters\": 16,<br>    \"layer_2_pwconv2d_ssize\": 2,<br>    \"activation_2\": \"relu\",<br>    \"pre_GAP_layer_fsize\": 3,<br>    \"pre_GAP_layer_act\": \"relu\",<br>    \"lr_inicial\": 0.00042449026400172475<br>  }<br>}",
          "{<br>  \"number\": 653,<br>  \"values\": [<br>    0.7400000095367432,<br>    21043.0<br>  ],<br>  \"params\": {<br>    \"batchsize\": 32,<br>    \"brightness_factor\": 0.038817274755713754,<br>    \"gaussian_noise_factor\": 0.056864359690734216,<br>    \"translate_factor\": 0.015905431570484366,<br>    \"num_layers\": 2,<br>    \"output_layer\": \"dense\",<br>    \"layer_0\": \"Conv2D\",<br>    \"layer_0_conv2d_filters\": 4,<br>    \"layer_0_conv2d_fsize\": 3,<br>    \"layer_0_conv2d_ssize\": 4,<br>    \"activation_0\": \"linear\",<br>    \"layer_1\": \"Conv2D\",<br>    \"layer_1_conv2d_filters\": 12,<br>    \"layer_1_conv2d_fsize\": 3,<br>    \"layer_1_conv2d_ssize\": 7,<br>    \"activation_1\": \"linear\",<br>    \"output_dropout\": 0.4317948881203254,<br>    \"lr_inicial\": 0.001899950114286285<br>  }<br>}",
          "{<br>  \"number\": 654,<br>  \"values\": [<br>    0.5,<br>    757.0<br>  ],<br>  \"params\": {<br>    \"batchsize\": 32,<br>    \"brightness_factor\": 0.17927381697705566,<br>    \"gaussian_noise_factor\": 0.04344612106856621,<br>    \"translate_factor\": 0.026691251358581733,<br>    \"num_layers\": 1,<br>    \"output_layer\": \"pooling\",<br>    \"layer_0\": \"Conv2D\",<br>    \"layer_0_conv2d_filters\": 4,<br>    \"layer_0_conv2d_fsize\": 4,<br>    \"layer_0_conv2d_ssize\": 12,<br>    \"activation_0\": \"tanh\",<br>    \"pre_GAP_layer_fsize\": 3,<br>    \"pre_GAP_layer_act\": \"relu\",<br>    \"lr_inicial\": 0.0005891796327283798<br>  }<br>}",
          "{<br>  \"number\": 655,<br>  \"values\": [<br>    0.8799999952316284,<br>    22375.0<br>  ],<br>  \"params\": {<br>    \"batchsize\": 32,<br>    \"brightness_factor\": 0.15201091104588466,<br>    \"gaussian_noise_factor\": 0.049801570221294326,<br>    \"translate_factor\": 0.034189785471518366,<br>    \"num_layers\": 2,<br>    \"output_layer\": \"dense\",<br>    \"layer_0\": \"Conv2D\",<br>    \"layer_0_conv2d_filters\": 8,<br>    \"layer_0_conv2d_fsize\": 5,<br>    \"layer_0_conv2d_ssize\": 4,<br>    \"activation_0\": \"tanh\",<br>    \"layer_1\": \"Conv2D\",<br>    \"layer_1_conv2d_filters\": 24,<br>    \"layer_1_conv2d_fsize\": 3,<br>    \"layer_1_conv2d_ssize\": 5,<br>    \"activation_1\": \"relu\",<br>    \"output_dropout\": 0.4082464180112092,<br>    \"lr_inicial\": 0.0017571492389081482<br>  }<br>}",
          "{<br>  \"number\": 656,<br>  \"values\": [<br>    0.7200000286102295,<br>    7621.0<br>  ],<br>  \"params\": {<br>    \"batchsize\": 32,<br>    \"brightness_factor\": 0.19229020058854218,<br>    \"gaussian_noise_factor\": 0.16273188410609665,<br>    \"translate_factor\": 0.14389987837758764,<br>    \"num_layers\": 3,<br>    \"output_layer\": \"pooling\",<br>    \"layer_0\": \"Conv2D\",<br>    \"layer_0_conv2d_filters\": 12,<br>    \"layer_0_conv2d_fsize\": 4,<br>    \"layer_0_conv2d_ssize\": 3,<br>    \"activation_0\": \"tanh\",<br>    \"layer_1\": \"Pointwise2D\",<br>    \"layer_1_pwconv2d_filters\": 28,<br>    \"layer_1_pwconv2d_ssize\": 2,<br>    \"activation_1\": \"relu\",<br>    \"layer_2\": \"Conv2D\",<br>    \"layer_2_conv2d_filters\": 4,<br>    \"layer_2_conv2d_fsize\": 3,<br>    \"layer_2_conv2d_ssize\": 4,<br>    \"activation_2\": \"linear\",<br>    \"pre_GAP_layer_fsize\": 5,<br>    \"pre_GAP_layer_act\": \"relu\",<br>    \"lr_inicial\": 0.0004546841934094497<br>  }<br>}",
          "{<br>  \"number\": 657,<br>  \"values\": [<br>    0.800000011920929,<br>    32763.0<br>  ],<br>  \"params\": {<br>    \"batchsize\": 64,<br>    \"brightness_factor\": 0.1838413925339602,<br>    \"gaussian_noise_factor\": 0.06387673387112104,<br>    \"translate_factor\": 0.0995996927069182,<br>    \"num_layers\": 2,<br>    \"output_layer\": \"dense\",<br>    \"layer_0\": \"Pointwise2D\",<br>    \"layer_0_pwconv2d_filters\": 28,<br>    \"layer_0_pwconv2d_ssize\": 5,<br>    \"activation_0\": \"tanh\",<br>    \"layer_1\": \"Conv2D\",<br>    \"layer_1_conv2d_filters\": 24,<br>    \"layer_1_conv2d_fsize\": 4,<br>    \"layer_1_conv2d_ssize\": 8,<br>    \"activation_1\": \"relu\",<br>    \"output_dropout\": 0.5373578397148657,<br>    \"lr_inicial\": 0.001687628526586252<br>  }<br>}",
          "{<br>  \"number\": 658,<br>  \"values\": [<br>    0.6200000047683716,<br>    3229.0<br>  ],<br>  \"params\": {<br>    \"batchsize\": 96,<br>    \"brightness_factor\": 0.14249158810027537,<br>    \"gaussian_noise_factor\": 0.17626468205406198,<br>    \"translate_factor\": 0.10539071215994816,<br>    \"num_layers\": 2,<br>    \"output_layer\": \"pooling\",<br>    \"layer_0\": \"Conv2D\",<br>    \"layer_0_conv2d_filters\": 4,<br>    \"layer_0_conv2d_fsize\": 4,<br>    \"layer_0_conv2d_ssize\": 4,<br>    \"activation_0\": \"linear\",<br>    \"layer_1\": \"Conv2D\",<br>    \"layer_1_conv2d_filters\": 12,<br>    \"layer_1_conv2d_fsize\": 3,<br>    \"layer_1_conv2d_ssize\": 3,<br>    \"activation_1\": \"tanh\",<br>    \"pre_GAP_layer_fsize\": 3,<br>    \"pre_GAP_layer_act\": \"linear\",<br>    \"lr_inicial\": 0.0003115540055506874<br>  }<br>}",
          "{<br>  \"number\": 659,<br>  \"values\": [<br>    0.7400000095367432,<br>    17234.0<br>  ],<br>  \"params\": {<br>    \"batchsize\": 32,<br>    \"brightness_factor\": 0.14753553883218073,<br>    \"gaussian_noise_factor\": 0.08550301830611413,<br>    \"translate_factor\": 0.05410672280326056,<br>    \"num_layers\": 1,<br>    \"output_layer\": \"dense\",<br>    \"layer_0\": \"Conv2D\",<br>    \"layer_0_conv2d_filters\": 4,<br>    \"layer_0_conv2d_fsize\": 5,<br>    \"layer_0_conv2d_ssize\": 10,<br>    \"activation_0\": \"tanh\",<br>    \"output_dropout\": 0.5326397842582585,<br>    \"lr_inicial\": 0.0018293478576245322<br>  }<br>}",
          "{<br>  \"number\": 660,<br>  \"values\": [<br>    0.2199999988079071,<br>    7005.0<br>  ],<br>  \"params\": {<br>    \"batchsize\": 32,<br>    \"brightness_factor\": 0.15701274312780028,<br>    \"gaussian_noise_factor\": 0.03707444552351496,<br>    \"translate_factor\": 0.0808297712784597,<br>    \"num_layers\": 2,<br>    \"output_layer\": \"pooling\",<br>    \"layer_0\": \"Conv2D\",<br>    \"layer_0_conv2d_filters\": 4,<br>    \"layer_0_conv2d_fsize\": 4,<br>    \"layer_0_conv2d_ssize\": 4,<br>    \"activation_0\": \"tanh\",<br>    \"layer_1\": \"Conv2D\",<br>    \"layer_1_conv2d_filters\": 28,<br>    \"layer_1_conv2d_fsize\": 3,<br>    \"layer_1_conv2d_ssize\": 4,<br>    \"activation_1\": \"relu\",<br>    \"pre_GAP_layer_fsize\": 3,<br>    \"pre_GAP_layer_act\": \"relu\",<br>    \"lr_inicial\": 0.0019348546480209214<br>  }<br>}",
          "{<br>  \"number\": 661,<br>  \"values\": [<br>    0.699999988079071,<br>    17645.0<br>  ],<br>  \"params\": {<br>    \"batchsize\": 32,<br>    \"brightness_factor\": 0.17198907694916454,<br>    \"gaussian_noise_factor\": 0.057847128123817974,<br>    \"translate_factor\": 0.023550164968731267,<br>    \"num_layers\": 3,<br>    \"output_layer\": \"pooling\",<br>    \"layer_0\": \"Conv2D\",<br>    \"layer_0_conv2d_filters\": 4,<br>    \"layer_0_conv2d_fsize\": 5,<br>    \"layer_0_conv2d_ssize\": 3,<br>    \"activation_0\": \"tanh\",<br>    \"layer_1\": \"Conv2D\",<br>    \"layer_1_conv2d_filters\": 20,<br>    \"layer_1_conv2d_fsize\": 3,<br>    \"layer_1_conv2d_ssize\": 2,<br>    \"activation_1\": \"linear\",<br>    \"layer_2\": \"Conv2D\",<br>    \"layer_2_conv2d_filters\": 16,<br>    \"layer_2_conv2d_fsize\": 3,<br>    \"layer_2_conv2d_ssize\": 3,<br>    \"activation_2\": \"linear\",<br>    \"pre_GAP_layer_fsize\": 4,<br>    \"pre_GAP_layer_act\": \"relu\",<br>    \"lr_inicial\": 0.0017166468857552943<br>  }<br>}",
          "{<br>  \"number\": 662,<br>  \"values\": [<br>    0.8199999928474426,<br>    21763.0<br>  ],<br>  \"params\": {<br>    \"batchsize\": 32,<br>    \"brightness_factor\": 0.14390557625612743,<br>    \"gaussian_noise_factor\": 0.07240597389601189,<br>    \"translate_factor\": 0.11303616631127145,<br>    \"num_layers\": 2,<br>    \"output_layer\": \"dense\",<br>    \"layer_0\": \"Conv2D\",<br>    \"layer_0_conv2d_filters\": 4,<br>    \"layer_0_conv2d_fsize\": 3,<br>    \"layer_0_conv2d_ssize\": 5,<br>    \"activation_0\": \"tanh\",<br>    \"layer_1\": \"Pointwise2D\",<br>    \"layer_1_pwconv2d_filters\": 20,<br>    \"layer_1_pwconv2d_ssize\": 8,<br>    \"activation_1\": \"relu\",<br>    \"output_dropout\": 0.5588439688001722,<br>    \"lr_inicial\": 0.001622852962779872<br>  }<br>}",
          "{<br>  \"number\": 663,<br>  \"values\": [<br>    0.5,<br>    7589.0<br>  ],<br>  \"params\": {<br>    \"batchsize\": 32,<br>    \"brightness_factor\": 0.16232704817249113,<br>    \"gaussian_noise_factor\": 0.19037391304526513,<br>    \"translate_factor\": 0.07754057969193447,<br>    \"num_layers\": 2,<br>    \"output_layer\": \"pooling\",<br>    \"layer_0\": \"Pointwise2D\",<br>    \"layer_0_pwconv2d_filters\": 4,<br>    \"layer_0_pwconv2d_ssize\": 6,<br>    \"activation_0\": \"linear\",<br>    \"layer_1\": \"Conv2D\",<br>    \"layer_1_conv2d_filters\": 32,<br>    \"layer_1_conv2d_fsize\": 3,<br>    \"layer_1_conv2d_ssize\": 6,<br>    \"activation_1\": \"relu\",<br>    \"pre_GAP_layer_fsize\": 3,<br>    \"pre_GAP_layer_act\": \"tanh\",<br>    \"lr_inicial\": 0.0018334741692345635<br>  }<br>}",
          "{<br>  \"number\": 664,<br>  \"values\": [<br>    0.800000011920929,<br>    20040.0<br>  ],<br>  \"params\": {<br>    \"batchsize\": 128,<br>    \"brightness_factor\": 0.025889046011200262,<br>    \"gaussian_noise_factor\": 0.06838872527293749,<br>    \"translate_factor\": 0.011916642463498953,<br>    \"num_layers\": 2,<br>    \"output_layer\": \"dense\",<br>    \"layer_0\": \"Conv2D\",<br>    \"layer_0_conv2d_filters\": 4,<br>    \"layer_0_conv2d_fsize\": 4,<br>    \"layer_0_conv2d_ssize\": 4,<br>    \"activation_0\": \"tanh\",<br>    \"layer_1\": \"Conv2D\",<br>    \"layer_1_conv2d_filters\": 12,<br>    \"layer_1_conv2d_fsize\": 3,<br>    \"layer_1_conv2d_ssize\": 4,<br>    \"activation_1\": \"relu\",<br>    \"output_dropout\": 0.46500136655258884,<br>    \"lr_inicial\": 0.0017852667958706998<br>  }<br>}",
          "{<br>  \"number\": 665,<br>  \"values\": [<br>    0.6600000262260437,<br>    22069.0<br>  ],<br>  \"params\": {<br>    \"batchsize\": 32,<br>    \"brightness_factor\": 0.1510941694239382,<br>    \"gaussian_noise_factor\": 0.12470514225769673,<br>    \"translate_factor\": 0.09283202933526571,<br>    \"num_layers\": 3,<br>    \"output_layer\": \"pooling\",<br>    \"layer_0\": \"Conv2D\",<br>    \"layer_0_conv2d_filters\": 8,<br>    \"layer_0_conv2d_fsize\": 5,<br>    \"layer_0_conv2d_ssize\": 3,<br>    \"activation_0\": \"tanh\",<br>    \"layer_1\": \"Conv2D\",<br>    \"layer_1_conv2d_filters\": 32,<br>    \"layer_1_conv2d_fsize\": 4,<br>    \"layer_1_conv2d_ssize\": 4,<br>    \"activation_1\": \"relu\",<br>    \"layer_2\": \"Pointwise2D\",<br>    \"layer_2_pwconv2d_filters\": 20,<br>    \"layer_2_pwconv2d_ssize\": 3,<br>    \"activation_2\": \"relu\",<br>    \"pre_GAP_layer_fsize\": 3,<br>    \"pre_GAP_layer_act\": \"relu\",<br>    \"lr_inicial\": 0.0005348540456295025<br>  }<br>}",
          "{<br>  \"number\": 666,<br>  \"values\": [<br>    0.7599999904632568,<br>    18101.0<br>  ],<br>  \"params\": {<br>    \"batchsize\": 32,<br>    \"brightness_factor\": 0.1348611727619308,<br>    \"gaussian_noise_factor\": 0.14782680368899986,<br>    \"translate_factor\": 0.10289091822719694,<br>    \"num_layers\": 1,<br>    \"output_layer\": \"dense\",<br>    \"layer_0\": \"Conv2D\",<br>    \"layer_0_conv2d_filters\": 24,<br>    \"layer_0_conv2d_fsize\": 4,<br>    \"layer_0_conv2d_ssize\": 9,<br>    \"activation_0\": \"tanh\",<br>    \"output_dropout\": 0.4140547753517967,<br>    \"lr_inicial\": 0.0017705430753002613<br>  }<br>}",
          "{<br>  \"number\": 667,<br>  \"values\": [<br>    0.699999988079071,<br>    11701.0<br>  ],<br>  \"params\": {<br>    \"batchsize\": 32,<br>    \"brightness_factor\": 0.14597320289417928,<br>    \"gaussian_noise_factor\": 0.04787146229128073,<br>    \"translate_factor\": 0.12695958861429013,<br>    \"num_layers\": 2,<br>    \"output_layer\": \"pooling\",<br>    \"layer_0\": \"Conv2D\",<br>    \"layer_0_conv2d_filters\": 4,<br>    \"layer_0_conv2d_fsize\": 5,<br>    \"layer_0_conv2d_ssize\": 4,<br>    \"activation_0\": \"tanh\",<br>    \"layer_1\": \"Conv2D\",<br>    \"layer_1_conv2d_filters\": 28,<br>    \"layer_1_conv2d_fsize\": 3,<br>    \"layer_1_conv2d_ssize\": 4,<br>    \"activation_1\": \"tanh\",<br>    \"pre_GAP_layer_fsize\": 5,<br>    \"pre_GAP_layer_act\": \"relu\",<br>    \"lr_inicial\": 0.0019046472616961508<br>  }<br>}",
          "{<br>  \"number\": 668,<br>  \"values\": [<br>    0.6800000071525574,<br>    20887.0<br>  ],<br>  \"params\": {<br>    \"batchsize\": 64,<br>    \"brightness_factor\": 0.15383784081907967,<br>    \"gaussian_noise_factor\": 0.11150414679815798,<br>    \"translate_factor\": 0.10879210377033707,<br>    \"num_layers\": 2,<br>    \"output_layer\": \"dense\",<br>    \"layer_0\": \"Conv2D\",<br>    \"layer_0_conv2d_filters\": 16,<br>    \"layer_0_conv2d_fsize\": 4,<br>    \"layer_0_conv2d_ssize\": 4,<br>    \"activation_0\": \"tanh\",<br>    \"layer_1\": \"Pointwise2D\",<br>    \"layer_1_pwconv2d_filters\": 16,<br>    \"layer_1_pwconv2d_ssize\": 5,<br>    \"activation_1\": \"linear\",<br>    \"output_dropout\": 0.48301609545073704,<br>    \"lr_inicial\": 0.0015804713641210386<br>  }<br>}",
          "{<br>  \"number\": 669,<br>  \"values\": [<br>    0.7599999904632568,<br>    8805.0<br>  ],<br>  \"params\": {<br>    \"batchsize\": 32,<br>    \"brightness_factor\": 0.14023894410457657,<br>    \"gaussian_noise_factor\": 0.06126469089844774,<br>    \"translate_factor\": 0.13910551369070928,<br>    \"num_layers\": 3,<br>    \"output_layer\": \"pooling\",<br>    \"layer_0\": \"Conv2D\",<br>    \"layer_0_conv2d_filters\": 4,<br>    \"layer_0_conv2d_fsize\": 4,<br>    \"layer_0_conv2d_ssize\": 3,<br>    \"activation_0\": \"linear\",<br>    \"layer_1\": \"Conv2D\",<br>    \"layer_1_conv2d_filters\": 20,<br>    \"layer_1_conv2d_fsize\": 3,<br>    \"layer_1_conv2d_ssize\": 2,<br>    \"activation_1\": \"relu\",<br>    \"layer_2\": \"Conv2D\",<br>    \"layer_2_conv2d_filters\": 4,<br>    \"layer_2_conv2d_fsize\": 4,<br>    \"layer_2_conv2d_ssize\": 4,<br>    \"activation_2\": \"linear\",<br>    \"pre_GAP_layer_fsize\": 3,<br>    \"pre_GAP_layer_act\": \"linear\",<br>    \"lr_inicial\": 0.0016780357636827722<br>  }<br>}",
          "{<br>  \"number\": 670,<br>  \"values\": [<br>    0.699999988079071,<br>    11669.0<br>  ],<br>  \"params\": {<br>    \"batchsize\": 32,<br>    \"brightness_factor\": 0.18952384589402058,<br>    \"gaussian_noise_factor\": 0.07985345717245595,<br>    \"translate_factor\": 0.08262805208751922,<br>    \"num_layers\": 2,<br>    \"output_layer\": \"pooling\",<br>    \"layer_0\": \"Pointwise2D\",<br>    \"layer_0_pwconv2d_filters\": 24,<br>    \"layer_0_pwconv2d_ssize\": 5,<br>    \"activation_0\": \"tanh\",<br>    \"layer_1\": \"Conv2D\",<br>    \"layer_1_conv2d_filters\": 12,<br>    \"layer_1_conv2d_fsize\": 3,<br>    \"layer_1_conv2d_ssize\": 5,<br>    \"activation_1\": \"relu\",<br>    \"pre_GAP_layer_fsize\": 3,<br>    \"pre_GAP_layer_act\": \"relu\",<br>    \"lr_inicial\": 0.0008958048729121679<br>  }<br>}",
          "{<br>  \"number\": 671,<br>  \"values\": [<br>    0.699999988079071,<br>    18859.0<br>  ],<br>  \"params\": {<br>    \"batchsize\": 96,<br>    \"brightness_factor\": 0.03426115524871241,<br>    \"gaussian_noise_factor\": 0.17152827221938344,<br>    \"translate_factor\": 0.03991967085629762,<br>    \"num_layers\": 1,<br>    \"output_layer\": \"dense\",<br>    \"layer_0\": \"Conv2D\",<br>    \"layer_0_conv2d_filters\": 4,<br>    \"layer_0_conv2d_fsize\": 5,<br>    \"layer_0_conv2d_ssize\": 11,<br>    \"activation_0\": \"tanh\",<br>    \"output_dropout\": 0.57708149075633,<br>    \"lr_inicial\": 0.0013802225310101848<br>  }<br>}",
          "{<br>  \"number\": 672,<br>  \"values\": [<br>    0.5799999833106995,<br>    8797.0<br>  ],<br>  \"params\": {<br>    \"batchsize\": 128,<br>    \"brightness_factor\": 0.10339466227578187,<br>    \"gaussian_noise_factor\": 0.10382018005306815,<br>    \"translate_factor\": 0.19681422109651298,<br>    \"num_layers\": 2,<br>    \"output_layer\": \"pooling\",<br>    \"layer_0\": \"Conv2D\",<br>    \"layer_0_conv2d_filters\": 4,<br>    \"layer_0_conv2d_fsize\": 3,<br>    \"layer_0_conv2d_ssize\": 4,<br>    \"activation_0\": \"tanh\",<br>    \"layer_1\": \"Conv2D\",<br>    \"layer_1_conv2d_filters\": 28,<br>    \"layer_1_conv2d_fsize\": 3,<br>    \"layer_1_conv2d_ssize\": 7,<br>    \"activation_1\": \"relu\",<br>    \"pre_GAP_layer_fsize\": 4,<br>    \"pre_GAP_layer_act\": \"relu\",<br>    \"lr_inicial\": 0.0005521711279629235<br>  }<br>}",
          "{<br>  \"number\": 673,<br>  \"values\": [<br>    0.800000011920929,<br>    20379.0<br>  ],<br>  \"params\": {<br>    \"batchsize\": 32,<br>    \"brightness_factor\": 0.1395255251141008,<br>    \"gaussian_noise_factor\": 0.043056399150109746,<br>    \"translate_factor\": 0.15404414604641514,<br>    \"num_layers\": 2,<br>    \"output_layer\": \"dense\",<br>    \"layer_0\": \"Conv2D\",<br>    \"layer_0_conv2d_filters\": 4,<br>    \"layer_0_conv2d_fsize\": 4,<br>    \"layer_0_conv2d_ssize\": 5,<br>    \"activation_0\": \"tanh\",<br>    \"layer_1\": \"Conv2D\",<br>    \"layer_1_conv2d_filters\": 12,<br>    \"layer_1_conv2d_fsize\": 3,<br>    \"layer_1_conv2d_ssize\": 4,<br>    \"activation_1\": \"relu\",<br>    \"output_dropout\": 0.49420493137415067,<br>    \"lr_inicial\": 0.001801541713923343<br>  }<br>}",
          "{<br>  \"number\": 674,<br>  \"values\": [<br>    0.47999998927116394,<br>    3381.0<br>  ],<br>  \"params\": {<br>    \"batchsize\": 32,<br>    \"brightness_factor\": 0.06100340147002249,<br>    \"gaussian_noise_factor\": 0.052666935555801805,<br>    \"translate_factor\": 0.08847343293190307,<br>    \"num_layers\": 3,<br>    \"output_layer\": \"pooling\",<br>    \"layer_0\": \"Pointwise2D\",<br>    \"layer_0_pwconv2d_filters\": 8,<br>    \"layer_0_pwconv2d_ssize\": 3,<br>    \"activation_0\": \"linear\",<br>    \"layer_1\": \"Pointwise2D\",<br>    \"layer_1_pwconv2d_filters\": 8,<br>    \"layer_1_pwconv2d_ssize\": 3,<br>    \"activation_1\": \"linear\",<br>    \"layer_2\": \"Conv2D\",<br>    \"layer_2_conv2d_filters\": 8,<br>    \"layer_2_conv2d_fsize\": 3,<br>    \"layer_2_conv2d_ssize\": 3,<br>    \"activation_2\": \"relu\",<br>    \"pre_GAP_layer_fsize\": 3,<br>    \"pre_GAP_layer_act\": \"tanh\",<br>    \"lr_inicial\": 0.0010381151581230462<br>  }<br>}",
          "{<br>  \"number\": 675,<br>  \"values\": [<br>    0.800000011920929,<br>    36419.0<br>  ],<br>  \"params\": {<br>    \"batchsize\": 32,<br>    \"brightness_factor\": 0.15922932909152748,<br>    \"gaussian_noise_factor\": 0.18073467611219368,<br>    \"translate_factor\": 0.047337860032826695,<br>    \"num_layers\": 2,<br>    \"output_layer\": \"dense\",<br>    \"layer_0\": \"Conv2D\",<br>    \"layer_0_conv2d_filters\": 32,<br>    \"layer_0_conv2d_fsize\": 5,<br>    \"layer_0_conv2d_ssize\": 4,<br>    \"activation_0\": \"tanh\",<br>    \"layer_1\": \"Conv2D\",<br>    \"layer_1_conv2d_filters\": 28,<br>    \"layer_1_conv2d_fsize\": 4,<br>    \"layer_1_conv2d_ssize\": 4,<br>    \"activation_1\": \"relu\",<br>    \"output_dropout\": 0.31702855911393324,<br>    \"lr_inicial\": 0.0017371571977221468<br>  }<br>}",
          "{<br>  \"number\": 676,<br>  \"values\": [<br>    0.20000000298023224,<br>    29333.0<br>  ],<br>  \"params\": {<br>    \"batchsize\": 32,<br>    \"brightness_factor\": 0.15089513962043782,<br>    \"gaussian_noise_factor\": 0.16653367602163566,<br>    \"translate_factor\": 0.09887060290112151,<br>    \"num_layers\": 2,<br>    \"output_layer\": \"pooling\",<br>    \"layer_0\": \"Conv2D\",<br>    \"layer_0_conv2d_filters\": 8,<br>    \"layer_0_conv2d_fsize\": 4,<br>    \"layer_0_conv2d_ssize\": 4,<br>    \"activation_0\": \"tanh\",<br>    \"layer_1\": \"Conv2D\",<br>    \"layer_1_conv2d_filters\": 32,<br>    \"layer_1_conv2d_fsize\": 5,<br>    \"layer_1_conv2d_ssize\": 3,<br>    \"activation_1\": \"tanh\",<br>    \"pre_GAP_layer_fsize\": 3,<br>    \"pre_GAP_layer_act\": \"relu\",<br>    \"lr_inicial\": 0.0018698160484954464<br>  }<br>}",
          "{<br>  \"number\": 677,<br>  \"values\": [<br>    0.6399999856948853,<br>    19809.0<br>  ],<br>  \"params\": {<br>    \"batchsize\": 32,<br>    \"brightness_factor\": 0.16532886774779396,<br>    \"gaussian_noise_factor\": 0.05611543681765953,<br>    \"translate_factor\": 0.05678942233490366,<br>    \"num_layers\": 1,<br>    \"output_layer\": \"dense\",<br>    \"layer_0\": \"Conv2D\",<br>    \"layer_0_conv2d_filters\": 4,<br>    \"layer_0_conv2d_fsize\": 5,<br>    \"layer_0_conv2d_ssize\": 14,<br>    \"activation_0\": \"tanh\",<br>    \"output_dropout\": 0.5139215151132894,<br>    \"lr_inicial\": 0.0003242205453499598<br>  }<br>}",
          "{<br>  \"number\": 678,<br>  \"values\": [<br>    0.5600000023841858,<br>    27741.0<br>  ],<br>  \"params\": {<br>    \"batchsize\": 32,<br>    \"brightness_factor\": 0.19685253143087994,<br>    \"gaussian_noise_factor\": 0.03456428044139448,<br>    \"translate_factor\": 0.19302073760665145,<br>    \"num_layers\": 3,<br>    \"output_layer\": \"pooling\",<br>    \"layer_0\": \"Conv2D\",<br>    \"layer_0_conv2d_filters\": 28,<br>    \"layer_0_conv2d_fsize\": 4,<br>    \"layer_0_conv2d_ssize\": 3,<br>    \"activation_0\": \"tanh\",<br>    \"layer_1\": \"Conv2D\",<br>    \"layer_1_conv2d_filters\": 24,<br>    \"layer_1_conv2d_fsize\": 3,<br>    \"layer_1_conv2d_ssize\": 4,<br>    \"activation_1\": \"relu\",<br>    \"layer_2\": \"Pointwise2D\",<br>    \"layer_2_pwconv2d_filters\": 4,<br>    \"layer_2_pwconv2d_ssize\": 5,<br>    \"activation_2\": \"tanh\",<br>    \"pre_GAP_layer_fsize\": 3,<br>    \"pre_GAP_layer_act\": \"relu\",<br>    \"lr_inicial\": 0.0011166910383820108<br>  }<br>}",
          "{<br>  \"number\": 679,<br>  \"values\": [<br>    0.6000000238418579,<br>    5149.0<br>  ],<br>  \"params\": {<br>    \"batchsize\": 32,<br>    \"brightness_factor\": 0.01779874880029829,<br>    \"gaussian_noise_factor\": 0.11767077930531361,<br>    \"translate_factor\": 0.11661068254237862,<br>    \"num_layers\": 2,<br>    \"output_layer\": \"pooling\",<br>    \"layer_0\": \"Conv2D\",<br>    \"layer_0_conv2d_filters\": 4,<br>    \"layer_0_conv2d_fsize\": 4,<br>    \"layer_0_conv2d_ssize\": 4,<br>    \"activation_0\": \"linear\",<br>    \"layer_1\": \"Conv2D\",<br>    \"layer_1_conv2d_filters\": 12,<br>    \"layer_1_conv2d_fsize\": 3,<br>    \"layer_1_conv2d_ssize\": 5,<br>    \"activation_1\": \"relu\",<br>    \"pre_GAP_layer_fsize\": 5,<br>    \"pre_GAP_layer_act\": \"relu\",<br>    \"lr_inicial\": 0.001632401994191708<br>  }<br>}",
          "{<br>  \"number\": 680,<br>  \"values\": [<br>    0.7400000095367432,<br>    25764.0<br>  ],<br>  \"params\": {<br>    \"batchsize\": 96,<br>    \"brightness_factor\": 0.14495690012979706,<br>    \"gaussian_noise_factor\": 0.09646700700352251,<br>    \"translate_factor\": 0.12585728559144818,<br>    \"num_layers\": 2,<br>    \"output_layer\": \"dense\",<br>    \"layer_0\": \"Pointwise2D\",<br>    \"layer_0_pwconv2d_filters\": 28,<br>    \"layer_0_pwconv2d_ssize\": 4,<br>    \"activation_0\": \"tanh\",<br>    \"layer_1\": \"Conv2D\",<br>    \"layer_1_conv2d_filters\": 24,<br>    \"layer_1_conv2d_fsize\": 3,<br>    \"layer_1_conv2d_ssize\": 4,<br>    \"activation_1\": \"relu\",<br>    \"output_dropout\": 0.5683549038624983,<br>    \"lr_inicial\": 0.0011869080101766774<br>  }<br>}",
          "{<br>  \"number\": 681,<br>  \"values\": [<br>    0.6399999856948853,<br>    3637.0<br>  ],<br>  \"params\": {<br>    \"batchsize\": 64,<br>    \"brightness_factor\": 0.14844436171507902,<br>    \"gaussian_noise_factor\": 0.008183765682654578,<br>    \"translate_factor\": 0.09380636435490051,<br>    \"num_layers\": 2,<br>    \"output_layer\": \"pooling\",<br>    \"layer_0\": \"Conv2D\",<br>    \"layer_0_conv2d_filters\": 4,<br>    \"layer_0_conv2d_fsize\": 5,<br>    \"layer_0_conv2d_ssize\": 5,<br>    \"activation_0\": \"tanh\",<br>    \"layer_1\": \"Pointwise2D\",<br>    \"layer_1_pwconv2d_filters\": 28,<br>    \"layer_1_pwconv2d_ssize\": 8,<br>    \"activation_1\": \"linear\",<br>    \"pre_GAP_layer_fsize\": 3,<br>    \"pre_GAP_layer_act\": \"linear\",<br>    \"lr_inicial\": 0.00149304907367699<br>  }<br>}",
          "{<br>  \"number\": 682,<br>  \"values\": [<br>    0.800000011920929,<br>    17570.0<br>  ],<br>  \"params\": {<br>    \"batchsize\": 32,<br>    \"brightness_factor\": 0.17003135117573792,<br>    \"gaussian_noise_factor\": 0.07414615912620609,<br>    \"translate_factor\": 0.19105293071244142,<br>    \"num_layers\": 1,<br>    \"output_layer\": \"dense\",<br>    \"layer_0\": \"Conv2D\",<br>    \"layer_0_conv2d_filters\": 20,<br>    \"layer_0_conv2d_fsize\": 3,<br>    \"layer_0_conv2d_ssize\": 10,<br>    \"activation_0\": \"relu\",<br>    \"output_dropout\": 0.5914005801923842,<br>    \"lr_inicial\": 0.0019303234726412385<br>  }<br>}",
          "{<br>  \"number\": 683,<br>  \"values\": [<br>    0.20000000298023224,<br>    11653.0<br>  ],<br>  \"params\": {<br>    \"batchsize\": 32,<br>    \"brightness_factor\": 0.13472299187094694,<br>    \"gaussian_noise_factor\": 0.03828785090217232,<br>    \"translate_factor\": 0.08321797648368254,<br>    \"num_layers\": 3,<br>    \"output_layer\": \"pooling\",<br>    \"layer_0\": \"Conv2D\",<br>    \"layer_0_conv2d_filters\": 4,<br>    \"layer_0_conv2d_fsize\": 4,<br>    \"layer_0_conv2d_ssize\": 2,<br>    \"activation_0\": \"tanh\",<br>    \"layer_1\": \"Conv2D\",<br>    \"layer_1_conv2d_filters\": 12,<br>    \"layer_1_conv2d_fsize\": 3,<br>    \"layer_1_conv2d_ssize\": 4,<br>    \"activation_1\": \"relu\",<br>    \"layer_2\": \"Conv2D\",<br>    \"layer_2_conv2d_filters\": 16,<br>    \"layer_2_conv2d_fsize\": 3,<br>    \"layer_2_conv2d_ssize\": 5,<br>    \"activation_2\": \"linear\",<br>    \"pre_GAP_layer_fsize\": 4,<br>    \"pre_GAP_layer_act\": \"relu\",<br>    \"lr_inicial\": 0.0009759190177773098<br>  }<br>}",
          "{<br>  \"number\": 684,<br>  \"values\": [<br>    0.7599999904632568,<br>    22755.0<br>  ],<br>  \"params\": {<br>    \"batchsize\": 32,<br>    \"brightness_factor\": 0.1426172404749295,<br>    \"gaussian_noise_factor\": 0.06385900233015954,<br>    \"translate_factor\": 0.15052292719100496,<br>    \"num_layers\": 2,<br>    \"output_layer\": \"dense\",<br>    \"layer_0\": \"Conv2D\",<br>    \"layer_0_conv2d_filters\": 4,<br>    \"layer_0_conv2d_fsize\": 5,<br>    \"layer_0_conv2d_ssize\": 4,<br>    \"activation_0\": \"relu\",<br>    \"layer_1\": \"Conv2D\",<br>    \"layer_1_conv2d_filters\": 28,<br>    \"layer_1_conv2d_fsize\": 5,<br>    \"layer_1_conv2d_ssize\": 4,<br>    \"activation_1\": \"relu\",<br>    \"output_dropout\": 0.35876585716250203,<br>    \"lr_inicial\": 0.0012694605451979148<br>  }<br>}",
          "{<br>  \"number\": 685,<br>  \"values\": [<br>    0.6800000071525574,<br>    21477.0<br>  ],<br>  \"params\": {<br>    \"batchsize\": 128,<br>    \"brightness_factor\": 0.18115437461010447,<br>    \"gaussian_noise_factor\": 0.05923434946632839,<br>    \"translate_factor\": 0.110210563166901,<br>    \"num_layers\": 2,<br>    \"output_layer\": \"pooling\",<br>    \"layer_0\": \"Conv2D\",<br>    \"layer_0_conv2d_filters\": 24,<br>    \"layer_0_conv2d_fsize\": 4,<br>    \"layer_0_conv2d_ssize\": 6,<br>    \"activation_0\": \"tanh\",<br>    \"layer_1\": \"Conv2D\",<br>    \"layer_1_conv2d_filters\": 20,<br>    \"layer_1_conv2d_fsize\": 3,<br>    \"layer_1_conv2d_ssize\": 4,<br>    \"activation_1\": \"tanh\",<br>    \"pre_GAP_layer_fsize\": 3,<br>    \"pre_GAP_layer_act\": \"relu\",<br>    \"lr_inicial\": 0.0013646189090617679<br>  }<br>}",
          "{<br>  \"number\": 686,<br>  \"values\": [<br>    0.8600000143051147,<br>    29755.0<br>  ],<br>  \"params\": {<br>    \"batchsize\": 32,<br>    \"brightness_factor\": 0.15463097076150456,<br>    \"gaussian_noise_factor\": 0.04588024782100706,<br>    \"translate_factor\": 0.03150125898378517,<br>    \"num_layers\": 2,<br>    \"output_layer\": \"dense\",<br>    \"layer_0\": \"Pointwise2D\",<br>    \"layer_0_pwconv2d_filters\": 16,<br>    \"layer_0_pwconv2d_ssize\": 7,<br>    \"activation_0\": \"linear\",<br>    \"layer_1\": \"Conv2D\",<br>    \"layer_1_conv2d_filters\": 32,<br>    \"layer_1_conv2d_fsize\": 4,<br>    \"layer_1_conv2d_ssize\": 4,<br>    \"activation_1\": \"relu\",<br>    \"output_dropout\": 0.5058529784614075,<br>    \"lr_inicial\": 0.001708728503731173<br>  }<br>}",
          "{<br>  \"number\": 687,<br>  \"values\": [<br>    0.5,<br>    6349.0<br>  ],<br>  \"params\": {<br>    \"batchsize\": 32,<br>    \"brightness_factor\": 0.13763746185602657,<br>    \"gaussian_noise_factor\": 0.12230412500809035,<br>    \"translate_factor\": 0.10250957105344803,<br>    \"num_layers\": 3,<br>    \"output_layer\": \"pooling\",<br>    \"layer_0\": \"Conv2D\",<br>    \"layer_0_conv2d_filters\": 12,<br>    \"layer_0_conv2d_fsize\": 5,<br>    \"layer_0_conv2d_ssize\": 3,<br>    \"activation_0\": \"tanh\",<br>    \"layer_1\": \"Pointwise2D\",<br>    \"layer_1_pwconv2d_filters\": 12,<br>    \"layer_1_pwconv2d_ssize\": 4,<br>    \"activation_1\": \"relu\",<br>    \"layer_2\": \"Pointwise2D\",<br>    \"layer_2_pwconv2d_filters\": 28,<br>    \"layer_2_pwconv2d_ssize\": 4,<br>    \"activation_2\": \"tanh\",<br>    \"pre_GAP_layer_fsize\": 3,<br>    \"pre_GAP_layer_act\": \"tanh\",<br>    \"lr_inicial\": 0.001846117850378143<br>  }<br>}",
          "{<br>  \"number\": 688,<br>  \"values\": [<br>    0.7400000095367432,<br>    7005.0<br>  ],<br>  \"params\": {<br>    \"batchsize\": 32,<br>    \"brightness_factor\": 0.1751942430317235,<br>    \"gaussian_noise_factor\": 0.053317854655112684,<br>    \"translate_factor\": 0.1350321588620586,<br>    \"num_layers\": 2,<br>    \"output_layer\": \"pooling\",<br>    \"layer_0\": \"Conv2D\",<br>    \"layer_0_conv2d_filters\": 4,<br>    \"layer_0_conv2d_fsize\": 4,<br>    \"layer_0_conv2d_ssize\": 4,<br>    \"activation_0\": \"relu\",<br>    \"layer_1\": \"Conv2D\",<br>    \"layer_1_conv2d_filters\": 28,<br>    \"layer_1_conv2d_fsize\": 3,<br>    \"layer_1_conv2d_ssize\": 3,<br>    \"activation_1\": \"linear\",<br>    \"pre_GAP_layer_fsize\": 3,<br>    \"pre_GAP_layer_act\": \"relu\",<br>    \"lr_inicial\": 0.0017789172322209047<br>  }<br>}",
          "{<br>  \"number\": 689,<br>  \"values\": [<br>    0.7200000286102295,<br>    15684.0<br>  ],<br>  \"params\": {<br>    \"batchsize\": 32,<br>    \"brightness_factor\": 0.07263095030147315,<br>    \"gaussian_noise_factor\": 0.047894680163830965,<br>    \"translate_factor\": 0.1885488651811634,<br>    \"num_layers\": 1,<br>    \"output_layer\": \"dense\",<br>    \"layer_0\": \"Conv2D\",<br>    \"layer_0_conv2d_filters\": 4,<br>    \"layer_0_conv2d_fsize\": 5,<br>    \"layer_0_conv2d_ssize\": 8,<br>    \"activation_0\": \"tanh\",<br>    \"output_dropout\": 0.44593511495647364,<br>    \"lr_inicial\": 0.0015770822130669216<br>  }<br>}",
          "{<br>  \"number\": 690,<br>  \"values\": [<br>    0.5199999809265137,<br>    13749.0<br>  ],<br>  \"params\": {<br>    \"batchsize\": 32,<br>    \"brightness_factor\": 0.005802553168019434,<br>    \"gaussian_noise_factor\": 0.15642905672749025,<br>    \"translate_factor\": 0.09029237834755927,<br>    \"num_layers\": 2,<br>    \"output_layer\": \"pooling\",<br>    \"layer_0\": \"Conv2D\",<br>    \"layer_0_conv2d_filters\": 8,<br>    \"layer_0_conv2d_fsize\": 4,<br>    \"layer_0_conv2d_ssize\": 7,<br>    \"activation_0\": \"relu\",<br>    \"layer_1\": \"Conv2D\",<br>    \"layer_1_conv2d_filters\": 24,<br>    \"layer_1_conv2d_fsize\": 3,<br>    \"layer_1_conv2d_ssize\": 4,<br>    \"activation_1\": \"relu\",<br>    \"pre_GAP_layer_fsize\": 5,<br>    \"pre_GAP_layer_act\": \"relu\",<br>    \"lr_inicial\": 0.0014482758832933778<br>  }<br>}",
          "{<br>  \"number\": 691,<br>  \"values\": [<br>    0.9200000166893005,<br>    28403.0<br>  ],<br>  \"params\": {<br>    \"batchsize\": 32,<br>    \"brightness_factor\": 0.00030127751464838464,<br>    \"gaussian_noise_factor\": 0.0012431541528066248,<br>    \"translate_factor\": 0.0002146140731916768,<br>    \"num_layers\": 3,<br>    \"output_layer\": \"dense\",<br>    \"layer_0\": \"Conv2D\",<br>    \"layer_0_conv2d_filters\": 4,<br>    \"layer_0_conv2d_fsize\": 3,<br>    \"layer_0_conv2d_ssize\": 3,<br>    \"activation_0\": \"tanh\",<br>    \"layer_1\": \"Conv2D\",<br>    \"layer_1_conv2d_filters\": 12,<br>    \"layer_1_conv2d_fsize\": 5,<br>    \"layer_1_conv2d_ssize\": 4,<br>    \"activation_1\": \"relu\",<br>    \"layer_2\": \"Conv2D\",<br>    \"layer_2_conv2d_filters\": 20,<br>    \"layer_2_conv2d_fsize\": 4,<br>    \"layer_2_conv2d_ssize\": 4,<br>    \"activation_2\": \"relu\",<br>    \"output_dropout\": 0.34966939836451194,<br>    \"lr_inicial\": 0.0013059247123120702<br>  }<br>}",
          "{<br>  \"number\": 692,<br>  \"values\": [<br>    0.699999988079071,<br>    9909.0<br>  ],<br>  \"params\": {<br>    \"batchsize\": 32,<br>    \"brightness_factor\": 0.012884980863103274,<br>    \"gaussian_noise_factor\": 0.06641399011652907,<br>    \"translate_factor\": 0.1968553258667384,<br>    \"num_layers\": 2,<br>    \"output_layer\": \"pooling\",<br>    \"layer_0\": \"Pointwise2D\",<br>    \"layer_0_pwconv2d_filters\": 20,<br>    \"layer_0_pwconv2d_ssize\": 6,<br>    \"activation_0\": \"relu\",<br>    \"layer_1\": \"Conv2D\",<br>    \"layer_1_conv2d_filters\": 12,<br>    \"layer_1_conv2d_fsize\": 3,<br>    \"layer_1_conv2d_ssize\": 4,<br>    \"activation_1\": \"relu\",<br>    \"pre_GAP_layer_fsize\": 3,<br>    \"pre_GAP_layer_act\": \"linear\",<br>    \"lr_inicial\": 0.0017046380894675272<br>  }<br>}",
          "{<br>  \"number\": 693,<br>  \"values\": [<br>    0.699999988079071,<br>    22615.0<br>  ],<br>  \"params\": {<br>    \"batchsize\": 64,<br>    \"brightness_factor\": 0.0914036531556175,<br>    \"gaussian_noise_factor\": 0.10674324139072267,<br>    \"translate_factor\": 0.16551427047905024,<br>    \"num_layers\": 2,<br>    \"output_layer\": \"dense\",<br>    \"layer_0\": \"Conv2D\",<br>    \"layer_0_conv2d_filters\": 28,<br>    \"layer_0_conv2d_fsize\": 4,<br>    \"layer_0_conv2d_ssize\": 4,<br>    \"activation_0\": \"tanh\",<br>    \"layer_1\": \"Pointwise2D\",<br>    \"layer_1_pwconv2d_filters\": 20,<br>    \"layer_1_pwconv2d_ssize\": 6,<br>    \"activation_1\": \"tanh\",<br>    \"output_dropout\": 0.55148752841111,<br>    \"lr_inicial\": 0.0012293338222944<br>  }<br>}",
          "{<br>  \"number\": 694,<br>  \"values\": [<br>    0.6600000262260437,<br>    973.0<br>  ],<br>  \"params\": {<br>    \"batchsize\": 32,<br>    \"brightness_factor\": 0.148776174592576,<br>    \"gaussian_noise_factor\": 0.19985235114013394,<br>    \"translate_factor\": 0.12058397303796134,<br>    \"num_layers\": 1,<br>    \"output_layer\": \"pooling\",<br>    \"layer_0\": \"Conv2D\",<br>    \"layer_0_conv2d_filters\": 4,<br>    \"layer_0_conv2d_fsize\": 5,<br>    \"layer_0_conv2d_ssize\": 10,<br>    \"activation_0\": \"linear\",<br>    \"pre_GAP_layer_fsize\": 3,<br>    \"pre_GAP_layer_act\": \"relu\",<br>    \"lr_inicial\": 0.0015282691635137308<br>  }<br>}",
          "{<br>  \"number\": 695,<br>  \"values\": [<br>    0.8600000143051147,<br>    21099.0<br>  ],<br>  \"params\": {<br>    \"batchsize\": 32,<br>    \"brightness_factor\": 0.04509923519244197,<br>    \"gaussian_noise_factor\": 0.03001184893649629,<br>    \"translate_factor\": 0.12977269163612448,<br>    \"num_layers\": 2,<br>    \"output_layer\": \"dense\",<br>    \"layer_0\": \"Conv2D\",<br>    \"layer_0_conv2d_filters\": 4,<br>    \"layer_0_conv2d_fsize\": 4,<br>    \"layer_0_conv2d_ssize\": 4,<br>    \"activation_0\": \"relu\",<br>    \"layer_1\": \"Conv2D\",<br>    \"layer_1_conv2d_filters\": 24,<br>    \"layer_1_conv2d_fsize\": 3,<br>    \"layer_1_conv2d_ssize\": 5,<br>    \"activation_1\": \"relu\",<br>    \"output_dropout\": 0.4211418211216804,<br>    \"lr_inicial\": 0.001637795191821291<br>  }<br>}",
          "{<br>  \"number\": 696,<br>  \"values\": [<br>    0.6800000071525574,<br>    21373.0<br>  ],<br>  \"params\": {<br>    \"batchsize\": 32,<br>    \"brightness_factor\": 0.1430603569534999,<br>    \"gaussian_noise_factor\": 0.041440792010457944,<br>    \"translate_factor\": 0.05001631829559329,<br>    \"num_layers\": 3,<br>    \"output_layer\": \"pooling\",<br>    \"layer_0\": \"Conv2D\",<br>    \"layer_0_conv2d_filters\": 4,<br>    \"layer_0_conv2d_fsize\": 5,<br>    \"layer_0_conv2d_ssize\": 2,<br>    \"activation_0\": \"tanh\",<br>    \"layer_1\": \"Conv2D\",<br>    \"layer_1_conv2d_filters\": 12,<br>    \"layer_1_conv2d_fsize\": 3,<br>    \"layer_1_conv2d_ssize\": 2,<br>    \"activation_1\": \"linear\",<br>    \"layer_2\": \"Conv2D\",<br>    \"layer_2_conv2d_filters\": 32,<br>    \"layer_2_conv2d_fsize\": 3,<br>    \"layer_2_conv2d_ssize\": 5,<br>    \"activation_2\": \"linear\",<br>    \"pre_GAP_layer_fsize\": 4,<br>    \"pre_GAP_layer_act\": \"relu\",<br>    \"lr_inicial\": 0.0019857355247855884<br>  }<br>}",
          "{<br>  \"number\": 697,<br>  \"values\": [<br>    0.5400000214576721,<br>    10141.0<br>  ],<br>  \"params\": {<br>    \"batchsize\": 96,<br>    \"brightness_factor\": 0.15677773844319995,<br>    \"gaussian_noise_factor\": 0.03421566949813272,<br>    \"translate_factor\": 0.04365362423156427,<br>    \"num_layers\": 2,<br>    \"output_layer\": \"pooling\",<br>    \"layer_0\": \"Conv2D\",<br>    \"layer_0_conv2d_filters\": 4,<br>    \"layer_0_conv2d_fsize\": 4,<br>    \"layer_0_conv2d_ssize\": 5,<br>    \"activation_0\": \"tanh\",<br>    \"layer_1\": \"Conv2D\",<br>    \"layer_1_conv2d_filters\": 28,<br>    \"layer_1_conv2d_fsize\": 4,<br>    \"layer_1_conv2d_ssize\": 6,<br>    \"activation_1\": \"relu\",<br>    \"pre_GAP_layer_fsize\": 3,<br>    \"pre_GAP_layer_act\": \"tanh\",<br>    \"lr_inicial\": 0.0007863573333173175<br>  }<br>}",
          "{<br>  \"number\": 698,<br>  \"values\": [<br>    0.7599999904632568,<br>    23723.0<br>  ],<br>  \"params\": {<br>    \"batchsize\": 32,<br>    \"brightness_factor\": 0.14633403291943806,<br>    \"gaussian_noise_factor\": 0.0712163089434284,<br>    \"translate_factor\": 0.14556723368495816,<br>    \"num_layers\": 2,<br>    \"output_layer\": \"dense\",<br>    \"layer_0\": \"Pointwise2D\",<br>    \"layer_0_pwconv2d_filters\": 4,<br>    \"layer_0_pwconv2d_ssize\": 5,<br>    \"activation_0\": \"relu\",<br>    \"layer_1\": \"Conv2D\",<br>    \"layer_1_conv2d_filters\": 32,<br>    \"layer_1_conv2d_fsize\": 3,<br>    \"layer_1_conv2d_ssize\": 8,<br>    \"activation_1\": \"relu\",<br>    \"output_dropout\": 0.47154009989084855,<br>    \"lr_inicial\": 0.001794637063935682<br>  }<br>}",
          "{<br>  \"number\": 699,<br>  \"values\": [<br>    0.6600000262260437,<br>    973.0<br>  ],<br>  \"params\": {<br>    \"batchsize\": 32,<br>    \"brightness_factor\": 0.15085291577515378,<br>    \"gaussian_noise_factor\": 0.05974202975249588,<br>    \"translate_factor\": 0.0859177390886388,<br>    \"num_layers\": 1,<br>    \"output_layer\": \"pooling\",<br>    \"layer_0\": \"Conv2D\",<br>    \"layer_0_conv2d_filters\": 4,<br>    \"layer_0_conv2d_fsize\": 5,<br>    \"layer_0_conv2d_ssize\": 9,<br>    \"activation_0\": \"tanh\",<br>    \"pre_GAP_layer_fsize\": 3,<br>    \"pre_GAP_layer_act\": \"relu\",<br>    \"lr_inicial\": 0.0013920747268270793<br>  }<br>}",
          "{<br>  \"number\": 700,<br>  \"values\": [<br>    0.7200000286102295,<br>    21295.0<br>  ],<br>  \"params\": {<br>    \"batchsize\": 128,<br>    \"brightness_factor\": 0.13956163118232812,<br>    \"gaussian_noise_factor\": 0.05001152078601245,<br>    \"translate_factor\": 0.01780611527851149,<br>    \"num_layers\": 2,<br>    \"output_layer\": \"dense\",<br>    \"layer_0\": \"Conv2D\",<br>    \"layer_0_conv2d_filters\": 4,<br>    \"layer_0_conv2d_fsize\": 4,<br>    \"layer_0_conv2d_ssize\": 7,<br>    \"activation_0\": \"relu\",<br>    \"layer_1\": \"Conv2D\",<br>    \"layer_1_conv2d_filters\": 8,<br>    \"layer_1_conv2d_fsize\": 5,<br>    \"layer_1_conv2d_ssize\": 4,<br>    \"activation_1\": \"relu\",<br>    \"output_dropout\": 0.3758965206793131,<br>    \"lr_inicial\": 0.0018623734424919871<br>  }<br>}",
          "{<br>  \"number\": 701,<br>  \"values\": [<br>    0.7400000095367432,<br>    9925.0<br>  ],<br>  \"params\": {<br>    \"batchsize\": 64,<br>    \"brightness_factor\": 0.18604945342188053,<br>    \"gaussian_noise_factor\": 0.11401607034807187,<br>    \"translate_factor\": 0.03688421986570501,<br>    \"num_layers\": 3,<br>    \"output_layer\": \"pooling\",<br>    \"layer_0\": \"Conv2D\",<br>    \"layer_0_conv2d_filters\": 4,<br>    \"layer_0_conv2d_fsize\": 3,<br>    \"layer_0_conv2d_ssize\": 4,<br>    \"activation_0\": \"tanh\",<br>    \"layer_1\": \"Pointwise2D\",<br>    \"layer_1_pwconv2d_filters\": 32,<br>    \"layer_1_pwconv2d_ssize\": 2,<br>    \"activation_1\": \"relu\",<br>    \"layer_2\": \"Pointwise2D\",<br>    \"layer_2_pwconv2d_filters\": 24,<br>    \"layer_2_pwconv2d_ssize\": 3,<br>    \"activation_2\": \"tanh\",<br>    \"pre_GAP_layer_fsize\": 5,<br>    \"pre_GAP_layer_act\": \"relu\",<br>    \"lr_inicial\": 0.001173657548321844<br>  }<br>}",
          "{<br>  \"number\": 702,<br>  \"values\": [<br>    0.7799999713897705,<br>    21924.0<br>  ],<br>  \"params\": {<br>    \"batchsize\": 32,<br>    \"brightness_factor\": 0.023082422089068827,<br>    \"gaussian_noise_factor\": 0.017351441524360044,<br>    \"translate_factor\": 0.09734029381200346,<br>    \"num_layers\": 2,<br>    \"output_layer\": \"dense\",<br>    \"layer_0\": \"Conv2D\",<br>    \"layer_0_conv2d_filters\": 16,<br>    \"layer_0_conv2d_fsize\": 4,<br>    \"layer_0_conv2d_ssize\": 4,<br>    \"activation_0\": \"linear\",<br>    \"layer_1\": \"Conv2D\",<br>    \"layer_1_conv2d_filters\": 12,<br>    \"layer_1_conv2d_fsize\": 3,<br>    \"layer_1_conv2d_ssize\": 4,<br>    \"activation_1\": \"tanh\",<br>    \"output_dropout\": 0.4000259730365753,<br>    \"lr_inicial\": 0.0012747702766585242<br>  }<br>}",
          "{<br>  \"number\": 703,<br>  \"values\": [<br>    0.7599999904632568,<br>    5333.0<br>  ],<br>  \"params\": {<br>    \"batchsize\": 32,<br>    \"brightness_factor\": 0.13603297757027322,<br>    \"gaussian_noise_factor\": 0.02602530373349151,<br>    \"translate_factor\": 0.19997008744490735,<br>    \"num_layers\": 2,<br>    \"output_layer\": \"pooling\",<br>    \"layer_0\": \"Conv2D\",<br>    \"layer_0_conv2d_filters\": 4,<br>    \"layer_0_conv2d_fsize\": 5,<br>    \"layer_0_conv2d_ssize\": 7,<br>    \"activation_0\": \"relu\",<br>    \"layer_1\": \"Conv2D\",<br>    \"layer_1_conv2d_filters\": 20,<br>    \"layer_1_conv2d_fsize\": 3,<br>    \"layer_1_conv2d_ssize\": 3,<br>    \"activation_1\": \"relu\",<br>    \"pre_GAP_layer_fsize\": 3,<br>    \"pre_GAP_layer_act\": \"linear\",<br>    \"lr_inicial\": 0.0013487568430871138<br>  }<br>}",
          "{<br>  \"number\": 704,<br>  \"values\": [<br>    0.6800000071525574,<br>    28845.0<br>  ],<br>  \"params\": {<br>    \"batchsize\": 32,<br>    \"brightness_factor\": 0.16511037001511408,<br>    \"gaussian_noise_factor\": 0.07681608416267977,<br>    \"translate_factor\": 0.1921304030851106,<br>    \"num_layers\": 3,<br>    \"output_layer\": \"pooling\",<br>    \"layer_0\": \"Pointwise2D\",<br>    \"layer_0_pwconv2d_filters\": 24,<br>    \"layer_0_pwconv2d_ssize\": 2,<br>    \"activation_0\": \"tanh\",<br>    \"layer_1\": \"Conv2D\",<br>    \"layer_1_conv2d_filters\": 28,<br>    \"layer_1_conv2d_fsize\": 3,<br>    \"layer_1_conv2d_ssize\": 4,<br>    \"activation_1\": \"linear\",<br>    \"layer_2\": \"Conv2D\",<br>    \"layer_2_conv2d_filters\": 4,<br>    \"layer_2_conv2d_fsize\": 3,<br>    \"layer_2_conv2d_ssize\": 3,<br>    \"activation_2\": \"linear\",<br>    \"pre_GAP_layer_fsize\": 3,<br>    \"pre_GAP_layer_act\": \"relu\",<br>    \"lr_inicial\": 0.0017513320504312228<br>  }<br>}",
          "{<br>  \"number\": 705,<br>  \"values\": [<br>    0.8199999928474426,<br>    25696.0<br>  ],<br>  \"params\": {<br>    \"batchsize\": 32,<br>    \"brightness_factor\": 0.160020459787601,<br>    \"gaussian_noise_factor\": 0.05509092135936948,<br>    \"translate_factor\": 0.18431158029645323,<br>    \"num_layers\": 2,<br>    \"output_layer\": \"dense\",<br>    \"layer_0\": \"Conv2D\",<br>    \"layer_0_conv2d_filters\": 8,<br>    \"layer_0_conv2d_fsize\": 4,<br>    \"layer_0_conv2d_ssize\": 6,<br>    \"activation_0\": \"relu\",<br>    \"layer_1\": \"Conv2D\",<br>    \"layer_1_conv2d_filters\": 24,<br>    \"layer_1_conv2d_fsize\": 5,<br>    \"layer_1_conv2d_ssize\": 4,<br>    \"activation_1\": \"relu\",<br>    \"output_dropout\": 0.3693799582252278,<br>    \"lr_inicial\": 0.0016674671754205634<br>  }<br>}",
          "{<br>  \"number\": 706,<br>  \"values\": [<br>    0.6800000071525574,<br>    1253.0<br>  ],<br>  \"params\": {<br>    \"batchsize\": 32,<br>    \"brightness_factor\": 0.10590710973939939,<br>    \"gaussian_noise_factor\": 0.13697223680093767,<br>    \"translate_factor\": 0.0529993638823919,<br>    \"num_layers\": 1,<br>    \"output_layer\": \"pooling\",<br>    \"layer_0\": \"Conv2D\",<br>    \"layer_0_conv2d_filters\": 4,<br>    \"layer_0_conv2d_fsize\": 5,<br>    \"layer_0_conv2d_ssize\": 11,<br>    \"activation_0\": \"tanh\",<br>    \"pre_GAP_layer_fsize\": 4,<br>    \"pre_GAP_layer_act\": \"relu\",<br>    \"lr_inicial\": 0.001928883756644872<br>  }<br>}",
          "{<br>  \"number\": 707,<br>  \"values\": [<br>    0.699999988079071,<br>    21255.0<br>  ],<br>  \"params\": {<br>    \"batchsize\": 64,<br>    \"brightness_factor\": 0.1459405963277531,<br>    \"gaussian_noise_factor\": 0.09185413837018087,<br>    \"translate_factor\": 0.07894826378480503,<br>    \"num_layers\": 2,<br>    \"output_layer\": \"dense\",<br>    \"layer_0\": \"Conv2D\",<br>    \"layer_0_conv2d_filters\": 32,<br>    \"layer_0_conv2d_fsize\": 4,<br>    \"layer_0_conv2d_ssize\": 4,<br>    \"activation_0\": \"tanh\",<br>    \"layer_1\": \"Pointwise2D\",<br>    \"layer_1_pwconv2d_filters\": 4,<br>    \"layer_1_pwconv2d_ssize\": 5,<br>    \"activation_1\": \"relu\",<br>    \"output_dropout\": 0.456100933165157,<br>    \"lr_inicial\": 0.00043935722813067844<br>  }<br>}",
          "{<br>  \"number\": 708,<br>  \"values\": [<br>    0.5799999833106995,<br>    3445.0<br>  ],<br>  \"params\": {<br>    \"batchsize\": 32,<br>    \"brightness_factor\": 0.08089571129536899,<br>    \"gaussian_noise_factor\": 0.03777056715639127,<br>    \"translate_factor\": 0.10397044494507163,<br>    \"num_layers\": 2,<br>    \"output_layer\": \"pooling\",<br>    \"layer_0\": \"Conv2D\",<br>    \"layer_0_conv2d_filters\": 4,<br>    \"layer_0_conv2d_fsize\": 5,<br>    \"layer_0_conv2d_ssize\": 4,<br>    \"activation_0\": \"relu\",<br>    \"layer_1\": \"Conv2D\",<br>    \"layer_1_conv2d_filters\": 12,<br>    \"layer_1_conv2d_fsize\": 3,<br>    \"layer_1_conv2d_ssize\": 4,<br>    \"activation_1\": \"relu\",<br>    \"pre_GAP_layer_fsize\": 3,<br>    \"pre_GAP_layer_act\": \"tanh\",<br>    \"lr_inicial\": 0.0014398563376899671<br>  }<br>}",
          "{<br>  \"number\": 709,<br>  \"values\": [<br>    0.7799999713897705,<br>    36828.0<br>  ],<br>  \"params\": {<br>    \"batchsize\": 96,<br>    \"brightness_factor\": 0.05172359423316092,<br>    \"gaussian_noise_factor\": 0.028552508545676203,<br>    \"translate_factor\": 0.059251988072661445,<br>    \"num_layers\": 3,<br>    \"output_layer\": \"dense\",<br>    \"layer_0\": \"Pointwise2D\",<br>    \"layer_0_pwconv2d_filters\": 32,<br>    \"layer_0_pwconv2d_ssize\": 3,<br>    \"activation_0\": \"tanh\",<br>    \"layer_1\": \"Conv2D\",<br>    \"layer_1_conv2d_filters\": 28,<br>    \"layer_1_conv2d_fsize\": 4,<br>    \"layer_1_conv2d_ssize\": 4,<br>    \"activation_1\": \"relu\",<br>    \"layer_2\": \"Pointwise2D\",<br>    \"layer_2_pwconv2d_filters\": 16,<br>    \"layer_2_pwconv2d_ssize\": 4,<br>    \"activation_2\": \"relu\",<br>    \"output_dropout\": 0.5432732651476462,<br>    \"lr_inicial\": 0.0017850713849775369<br>  }<br>}",
          "{<br>  \"number\": 710,<br>  \"values\": [<br>    0.6399999856948853,<br>    6061.0<br>  ],<br>  \"params\": {<br>    \"batchsize\": 32,<br>    \"brightness_factor\": 0.14200974167613623,<br>    \"gaussian_noise_factor\": 0.06764915840901084,<br>    \"translate_factor\": 0.009296549148810312,<br>    \"num_layers\": 2,<br>    \"output_layer\": \"pooling\",<br>    \"layer_0\": \"Conv2D\",<br>    \"layer_0_conv2d_filters\": 4,<br>    \"layer_0_conv2d_fsize\": 4,<br>    \"layer_0_conv2d_ssize\": 4,<br>    \"activation_0\": \"linear\",<br>    \"layer_1\": \"Conv2D\",<br>    \"layer_1_conv2d_filters\": 24,<br>    \"layer_1_conv2d_fsize\": 3,<br>    \"layer_1_conv2d_ssize\": 7,<br>    \"activation_1\": \"linear\",<br>    \"pre_GAP_layer_fsize\": 3,<br>    \"pre_GAP_layer_act\": \"relu\",<br>    \"lr_inicial\": 0.0003411605460201829<br>  }<br>}",
          "{<br>  \"number\": 711,<br>  \"values\": [<br>    0.7400000095367432,<br>    20471.0<br>  ],<br>  \"params\": {<br>    \"batchsize\": 32,<br>    \"brightness_factor\": 0.15165079808324458,<br>    \"gaussian_noise_factor\": 0.08733099868345703,<br>    \"translate_factor\": 0.17944839179348773,<br>    \"num_layers\": 1,<br>    \"output_layer\": \"dense\",<br>    \"layer_0\": \"Conv2D\",<br>    \"layer_0_conv2d_filters\": 12,<br>    \"layer_0_conv2d_fsize\": 3,<br>    \"layer_0_conv2d_ssize\": 13,<br>    \"activation_0\": \"relu\",<br>    \"output_dropout\": 0.43907110723160153,<br>    \"lr_inicial\": 0.0006522671504142811<br>  }<br>}",
          "{<br>  \"number\": 712,<br>  \"values\": [<br>    0.6600000262260437,<br>    13285.0<br>  ],<br>  \"params\": {<br>    \"batchsize\": 32,<br>    \"brightness_factor\": 0.133410904650129,<br>    \"gaussian_noise_factor\": 0.017323121681211865,<br>    \"translate_factor\": 0.02807932763202941,<br>    \"num_layers\": 2,<br>    \"output_layer\": \"pooling\",<br>    \"layer_0\": \"Conv2D\",<br>    \"layer_0_conv2d_filters\": 4,<br>    \"layer_0_conv2d_fsize\": 5,<br>    \"layer_0_conv2d_ssize\": 4,<br>    \"activation_0\": \"tanh\",<br>    \"layer_1\": \"Conv2D\",<br>    \"layer_1_conv2d_filters\": 32,<br>    \"layer_1_conv2d_fsize\": 3,<br>    \"layer_1_conv2d_ssize\": 5,<br>    \"activation_1\": \"tanh\",<br>    \"pre_GAP_layer_fsize\": 5,<br>    \"pre_GAP_layer_act\": \"relu\",<br>    \"lr_inicial\": 0.0013298533677617752<br>  }<br>}",
          "{<br>  \"number\": 713,<br>  \"values\": [<br>    0.6600000262260437,<br>    5365.0<br>  ],<br>  \"params\": {<br>    \"batchsize\": 128,<br>    \"brightness_factor\": 0.042466400367456664,<br>    \"gaussian_noise_factor\": 0.0628278490723913,<br>    \"translate_factor\": 0.1876129381917083,<br>    \"num_layers\": 2,<br>    \"output_layer\": \"pooling\",<br>    \"layer_0\": \"Conv2D\",<br>    \"layer_0_conv2d_filters\": 24,<br>    \"layer_0_conv2d_fsize\": 4,<br>    \"layer_0_conv2d_ssize\": 5,<br>    \"activation_0\": \"relu\",<br>    \"layer_1\": \"Pointwise2D\",<br>    \"layer_1_pwconv2d_filters\": 16,<br>    \"layer_1_pwconv2d_ssize\": 8,<br>    \"activation_1\": \"relu\",<br>    \"pre_GAP_layer_fsize\": 3,<br>    \"pre_GAP_layer_act\": \"relu\",<br>    \"lr_inicial\": 0.0018586653340289848<br>  }<br>}",
          "{<br>  \"number\": 714,<br>  \"values\": [<br>    0.8199999928474426,<br>    25531.0<br>  ],<br>  \"params\": {<br>    \"batchsize\": 32,<br>    \"brightness_factor\": 0.029555873947747377,<br>    \"gaussian_noise_factor\": 0.0424253446248976,<br>    \"translate_factor\": 0.19445604715306203,<br>    \"num_layers\": 3,<br>    \"output_layer\": \"dense\",<br>    \"layer_0\": \"Conv2D\",<br>    \"layer_0_conv2d_filters\": 8,<br>    \"layer_0_conv2d_fsize\": 4,<br>    \"layer_0_conv2d_ssize\": 3,<br>    \"activation_0\": \"tanh\",<br>    \"layer_1\": \"Conv2D\",<br>    \"layer_1_conv2d_filters\": 12,<br>    \"layer_1_conv2d_fsize\": 3,<br>    \"layer_1_conv2d_ssize\": 4,<br>    \"activation_1\": \"relu\",<br>    \"layer_2\": \"Conv2D\",<br>    \"layer_2_conv2d_filters\": 12,<br>    \"layer_2_conv2d_fsize\": 4,<br>    \"layer_2_conv2d_ssize\": 4,<br>    \"activation_2\": \"tanh\",<br>    \"output_dropout\": 0.47808434380522563,<br>    \"lr_inicial\": 0.0015704226722818482<br>  }<br>}",
          "{<br>  \"number\": 715,<br>  \"values\": [<br>    0.699999988079071,<br>    10437.0<br>  ],<br>  \"params\": {<br>    \"batchsize\": 32,<br>    \"brightness_factor\": 0.17639043730371046,<br>    \"gaussian_noise_factor\": 0.13305873856775535,<br>    \"translate_factor\": 0.15806386206696288,<br>    \"num_layers\": 2,<br>    \"output_layer\": \"pooling\",<br>    \"layer_0\": \"Pointwise2D\",<br>    \"layer_0_pwconv2d_filters\": 12,<br>    \"layer_0_pwconv2d_ssize\": 4,<br>    \"activation_0\": \"tanh\",<br>    \"layer_1\": \"Conv2D\",<br>    \"layer_1_conv2d_filters\": 8,<br>    \"layer_1_conv2d_fsize\": 5,<br>    \"layer_1_conv2d_ssize\": 3,<br>    \"activation_1\": \"relu\",<br>    \"pre_GAP_layer_fsize\": 3,<br>    \"pre_GAP_layer_act\": \"linear\",<br>    \"lr_inicial\": 0.0015054933039506024<br>  }<br>}",
          "{<br>  \"number\": 716,<br>  \"values\": [<br>    0.8600000143051147,<br>    21976.0<br>  ],<br>  \"params\": {<br>    \"batchsize\": 32,<br>    \"brightness_factor\": 0.1471868635394481,<br>    \"gaussian_noise_factor\": 0.02510150813966663,<br>    \"translate_factor\": 0.07672665424974558,<br>    \"num_layers\": 2,<br>    \"output_layer\": \"dense\",<br>    \"layer_0\": \"Conv2D\",<br>    \"layer_0_conv2d_filters\": 4,<br>    \"layer_0_conv2d_fsize\": 5,<br>    \"layer_0_conv2d_ssize\": 6,<br>    \"activation_0\": \"relu\",<br>    \"layer_1\": \"Conv2D\",<br>    \"layer_1_conv2d_filters\": 28,<br>    \"layer_1_conv2d_fsize\": 3,<br>    \"layer_1_conv2d_ssize\": 4,<br>    \"activation_1\": \"relu\",<br>    \"output_dropout\": 0.385800777611885,<br>    \"lr_inicial\": 0.0005818067980355433<br>  }<br>}",
          "{<br>  \"number\": 717,<br>  \"values\": [<br>    0.6800000071525574,<br>    1037.0<br>  ],<br>  \"params\": {<br>    \"batchsize\": 32,<br>    \"brightness_factor\": 0.169847902918287,<br>    \"gaussian_noise_factor\": 0.012334045381647056,<br>    \"translate_factor\": 0.024388197897285996,<br>    \"num_layers\": 1,<br>    \"output_layer\": \"pooling\",<br>    \"layer_0\": \"Conv2D\",<br>    \"layer_0_conv2d_filters\": 4,<br>    \"layer_0_conv2d_fsize\": 4,<br>    \"layer_0_conv2d_ssize\": 8,<br>    \"activation_0\": \"tanh\",<br>    \"pre_GAP_layer_fsize\": 4,<br>    \"pre_GAP_layer_act\": \"relu\",<br>    \"lr_inicial\": 0.0016888328119213903<br>  }<br>}",
          "{<br>  \"number\": 718,<br>  \"values\": [<br>    0.7400000095367432,<br>    25868.0<br>  ],<br>  \"params\": {<br>    \"batchsize\": 32,<br>    \"brightness_factor\": 0.13894364612497614,<br>    \"gaussian_noise_factor\": 0.08060297506002477,<br>    \"translate_factor\": 0.004515107694724324,<br>    \"num_layers\": 3,<br>    \"output_layer\": \"dense\",<br>    \"layer_0\": \"Conv2D\",<br>    \"layer_0_conv2d_filters\": 4,<br>    \"layer_0_conv2d_fsize\": 5,<br>    \"layer_0_conv2d_ssize\": 2,<br>    \"activation_0\": \"relu\",<br>    \"layer_1\": \"Conv2D\",<br>    \"layer_1_conv2d_filters\": 20,<br>    \"layer_1_conv2d_fsize\": 3,<br>    \"layer_1_conv2d_ssize\": 4,<br>    \"activation_1\": \"linear\",<br>    \"layer_2\": \"Conv2D\",<br>    \"layer_2_conv2d_filters\": 24,<br>    \"layer_2_conv2d_fsize\": 3,<br>    \"layer_2_conv2d_ssize\": 3,<br>    \"activation_2\": \"linear\",<br>    \"output_dropout\": 0.5824487910998332,<br>    \"lr_inicial\": 0.0017335115647998162<br>  }<br>}",
          "{<br>  \"number\": 720,<br>  \"values\": [<br>    0.7200000286102295,<br>    20007.0<br>  ],<br>  \"params\": {<br>    \"batchsize\": 64,<br>    \"brightness_factor\": 0.16249398099990847,<br>    \"gaussian_noise_factor\": 0.05154946933338052,<br>    \"translate_factor\": 0.16557553288101545,<br>    \"num_layers\": 2,<br>    \"output_layer\": \"dense\",<br>    \"layer_0\": \"Pointwise2D\",<br>    \"layer_0_pwconv2d_filters\": 16,<br>    \"layer_0_pwconv2d_ssize\": 7,<br>    \"activation_0\": \"linear\",<br>    \"layer_1\": \"Pointwise2D\",<br>    \"layer_1_pwconv2d_filters\": 12,<br>    \"layer_1_pwconv2d_ssize\": 3,<br>    \"activation_1\": \"relu\",<br>    \"output_dropout\": 0.4891442037192723,<br>    \"lr_inicial\": 0.0010982929035928172<br>  }<br>}",
          "{<br>  \"number\": 721,<br>  \"values\": [<br>    0.7799999713897705,<br>    19587.0<br>  ],<br>  \"params\": {<br>    \"batchsize\": 64,<br>    \"brightness_factor\": 0.1609360074373109,<br>    \"gaussian_noise_factor\": 0.04962862458937498,<br>    \"translate_factor\": 0.17043087345800687,<br>    \"num_layers\": 2,<br>    \"output_layer\": \"dense\",<br>    \"layer_0\": \"Conv2D\",<br>    \"layer_0_conv2d_filters\": 8,<br>    \"layer_0_conv2d_fsize\": 5,<br>    \"layer_0_conv2d_ssize\": 5,<br>    \"activation_0\": \"linear\",<br>    \"layer_1\": \"Pointwise2D\",<br>    \"layer_1_pwconv2d_filters\": 8,<br>    \"layer_1_pwconv2d_ssize\": 3,<br>    \"activation_1\": \"relu\",<br>    \"output_dropout\": 0.500456779050276,<br>    \"lr_inicial\": 0.0010674084892893544<br>  }<br>}",
          "{<br>  \"number\": 722,<br>  \"values\": [<br>    0.800000011920929,<br>    20583.0<br>  ],<br>  \"params\": {<br>    \"batchsize\": 64,<br>    \"brightness_factor\": 0.15960168384739862,<br>    \"gaussian_noise_factor\": 0.052281698006125824,<br>    \"translate_factor\": 0.1637357168871987,<br>    \"num_layers\": 2,<br>    \"output_layer\": \"dense\",<br>    \"layer_0\": \"Conv2D\",<br>    \"layer_0_conv2d_filters\": 8,<br>    \"layer_0_conv2d_fsize\": 5,<br>    \"layer_0_conv2d_ssize\": 5,<br>    \"activation_0\": \"linear\",<br>    \"layer_1\": \"Pointwise2D\",<br>    \"layer_1_pwconv2d_filters\": 16,<br>    \"layer_1_pwconv2d_ssize\": 4,<br>    \"activation_1\": \"relu\",<br>    \"output_dropout\": 0.5309032451808302,<br>    \"lr_inicial\": 0.0011469978429567375<br>  }<br>}",
          "{<br>  \"number\": 723,<br>  \"values\": [<br>    0.6000000238418579,<br>    1941.0<br>  ],<br>  \"params\": {<br>    \"batchsize\": 64,<br>    \"brightness_factor\": 0.16404487240903767,<br>    \"gaussian_noise_factor\": 0.04709641803389465,<br>    \"translate_factor\": 0.16975759369995913,<br>    \"num_layers\": 2,<br>    \"output_layer\": \"pooling\",<br>    \"layer_0\": \"Conv2D\",<br>    \"layer_0_conv2d_filters\": 8,<br>    \"layer_0_conv2d_fsize\": 3,<br>    \"layer_0_conv2d_ssize\": 5,<br>    \"activation_0\": \"linear\",<br>    \"layer_1\": \"Pointwise2D\",<br>    \"layer_1_pwconv2d_filters\": 12,<br>    \"layer_1_pwconv2d_ssize\": 4,<br>    \"activation_1\": \"relu\",<br>    \"pre_GAP_layer_fsize\": 3,<br>    \"pre_GAP_layer_act\": \"tanh\",<br>    \"lr_inicial\": 0.001151208735253531<br>  }<br>}",
          "{<br>  \"number\": 724,<br>  \"values\": [<br>    0.6200000047683716,<br>    2213.0<br>  ],<br>  \"params\": {<br>    \"batchsize\": 96,<br>    \"brightness_factor\": 0.16106181619385546,<br>    \"gaussian_noise_factor\": 0.05455345242155208,<br>    \"translate_factor\": 0.1725269189011302,<br>    \"num_layers\": 2,<br>    \"output_layer\": \"pooling\",<br>    \"layer_0\": \"Conv2D\",<br>    \"layer_0_conv2d_filters\": 8,<br>    \"layer_0_conv2d_fsize\": 5,<br>    \"layer_0_conv2d_ssize\": 5,<br>    \"activation_0\": \"linear\",<br>    \"layer_1\": \"Pointwise2D\",<br>    \"layer_1_pwconv2d_filters\": 8,<br>    \"layer_1_pwconv2d_ssize\": 3,<br>    \"activation_1\": \"relu\",<br>    \"pre_GAP_layer_fsize\": 3,<br>    \"pre_GAP_layer_act\": \"relu\",<br>    \"lr_inicial\": 0.0011139642082626689<br>  }<br>}",
          "{<br>  \"number\": 725,<br>  \"values\": [<br>    0.8199999928474426,<br>    17526.0<br>  ],<br>  \"params\": {<br>    \"batchsize\": 64,<br>    \"brightness_factor\": 0.15888553022018553,<br>    \"gaussian_noise_factor\": 0.05052563422965568,<br>    \"translate_factor\": 0.16591095829624022,<br>    \"num_layers\": 2,<br>    \"output_layer\": \"dense\",<br>    \"layer_0\": \"Conv2D\",<br>    \"layer_0_conv2d_filters\": 8,<br>    \"layer_0_conv2d_fsize\": 4,<br>    \"layer_0_conv2d_ssize\": 5,<br>    \"activation_0\": \"linear\",<br>    \"layer_1\": \"Pointwise2D\",<br>    \"layer_1_pwconv2d_filters\": 16,<br>    \"layer_1_pwconv2d_ssize\": 2,<br>    \"activation_1\": \"relu\",<br>    \"output_dropout\": 0.5206172273147204,<br>    \"lr_inicial\": 0.0011480049214570914<br>  }<br>}",
          "{<br>  \"number\": 726,<br>  \"values\": [<br>    0.5799999833106995,<br>    1133.0<br>  ],<br>  \"params\": {<br>    \"batchsize\": 64,<br>    \"brightness_factor\": 0.16507897450825174,<br>    \"gaussian_noise_factor\": 0.05472363323283839,<br>    \"translate_factor\": 0.16715081775151422,<br>    \"num_layers\": 2,<br>    \"output_layer\": \"pooling\",<br>    \"layer_0\": \"Pointwise2D\",<br>    \"layer_0_pwconv2d_filters\": 20,<br>    \"layer_0_pwconv2d_ssize\": 2,<br>    \"activation_0\": \"linear\",<br>    \"layer_1\": \"Pointwise2D\",<br>    \"layer_1_pwconv2d_filters\": 4,<br>    \"layer_1_pwconv2d_ssize\": 3,<br>    \"activation_1\": \"tanh\",<br>    \"pre_GAP_layer_fsize\": 4,<br>    \"pre_GAP_layer_act\": \"linear\",<br>    \"lr_inicial\": 0.0011639346400086736<br>  }<br>}",
          "{<br>  \"number\": 727,<br>  \"values\": [<br>    0.7599999904632568,<br>    17966.0<br>  ],<br>  \"params\": {<br>    \"batchsize\": 96,<br>    \"brightness_factor\": 0.1597933578364159,<br>    \"gaussian_noise_factor\": 0.0499972496124053,<br>    \"translate_factor\": 0.16031533303647869,<br>    \"num_layers\": 2,<br>    \"output_layer\": \"dense\",<br>    \"layer_0\": \"Conv2D\",<br>    \"layer_0_conv2d_filters\": 12,<br>    \"layer_0_conv2d_fsize\": 5,<br>    \"layer_0_conv2d_ssize\": 5,<br>    \"activation_0\": \"linear\",<br>    \"layer_1\": \"Pointwise2D\",<br>    \"layer_1_pwconv2d_filters\": 8,<br>    \"layer_1_pwconv2d_ssize\": 2,<br>    \"activation_1\": \"relu\",<br>    \"output_dropout\": 0.46233717266562785,<br>    \"lr_inicial\": 0.001185125299821279<br>  }<br>}",
          "{<br>  \"number\": 728,<br>  \"values\": [<br>    0.6000000238418579,<br>    2277.0<br>  ],<br>  \"params\": {<br>    \"batchsize\": 64,<br>    \"brightness_factor\": 0.1580793026376025,<br>    \"gaussian_noise_factor\": 0.04713281201203064,<br>    \"translate_factor\": 0.16287405063432855,<br>    \"num_layers\": 2,<br>    \"output_layer\": \"pooling\",<br>    \"layer_0\": \"Conv2D\",<br>    \"layer_0_conv2d_filters\": 8,<br>    \"layer_0_conv2d_fsize\": 4,<br>    \"layer_0_conv2d_ssize\": 5,<br>    \"activation_0\": \"linear\",<br>    \"layer_1\": \"Pointwise2D\",<br>    \"layer_1_pwconv2d_filters\": 12,<br>    \"layer_1_pwconv2d_ssize\": 4,<br>    \"activation_1\": \"relu\",<br>    \"pre_GAP_layer_fsize\": 3,<br>    \"pre_GAP_layer_act\": \"tanh\",<br>    \"lr_inicial\": 0.0012005461438448597<br>  }<br>}",
          "{<br>  \"number\": 729,<br>  \"values\": [<br>    0.7799999713897705,<br>    24667.0<br>  ],<br>  \"params\": {<br>    \"batchsize\": 96,<br>    \"brightness_factor\": 0.16384367345622905,<br>    \"gaussian_noise_factor\": 0.05381270365659579,<br>    \"translate_factor\": 0.16637342979102687,<br>    \"num_layers\": 3,<br>    \"output_layer\": \"dense\",<br>    \"layer_0\": \"Conv2D\",<br>    \"layer_0_conv2d_filters\": 8,<br>    \"layer_0_conv2d_fsize\": 5,<br>    \"layer_0_conv2d_ssize\": 4,<br>    \"activation_0\": \"linear\",<br>    \"layer_1\": \"Pointwise2D\",<br>    \"layer_1_pwconv2d_filters\": 20,<br>    \"layer_1_pwconv2d_ssize\": 3,<br>    \"activation_1\": \"relu\",<br>    \"layer_2\": \"Conv2D\",<br>    \"layer_2_conv2d_filters\": 8,<br>    \"layer_2_conv2d_fsize\": 4,<br>    \"layer_2_conv2d_ssize\": 4,<br>    \"activation_2\": \"relu\",<br>    \"output_dropout\": 0.4781478866341956,<br>    \"lr_inicial\": 0.0011119024626460928<br>  }<br>}",
          "{<br>  \"number\": 730,<br>  \"values\": [<br>    0.6000000238418579,<br>    2381.0<br>  ],<br>  \"params\": {<br>    \"batchsize\": 64,<br>    \"brightness_factor\": 0.15687505013319047,<br>    \"gaussian_noise_factor\": 0.05746809504981381,<br>    \"translate_factor\": 0.1678959008278658,<br>    \"num_layers\": 2,<br>    \"output_layer\": \"pooling\",<br>    \"layer_0\": \"Conv2D\",<br>    \"layer_0_conv2d_filters\": 12,<br>    \"layer_0_conv2d_fsize\": 4,<br>    \"layer_0_conv2d_ssize\": 5,<br>    \"activation_0\": \"linear\",<br>    \"layer_1\": \"Pointwise2D\",<br>    \"layer_1_pwconv2d_filters\": 4,<br>    \"layer_1_pwconv2d_ssize\": 4,<br>    \"activation_1\": \"relu\",<br>    \"pre_GAP_layer_fsize\": 5,<br>    \"pre_GAP_layer_act\": \"relu\",<br>    \"lr_inicial\": 0.0012055257011191144<br>  }<br>}",
          "{<br>  \"number\": 731,<br>  \"values\": [<br>    0.7200000286102295,<br>    20859.0<br>  ],<br>  \"params\": {<br>    \"batchsize\": 96,<br>    \"brightness_factor\": 0.16206901086873698,<br>    \"gaussian_noise_factor\": 0.04640621287816861,<br>    \"translate_factor\": 0.17029462157306555,<br>    \"num_layers\": 2,<br>    \"output_layer\": \"dense\",<br>    \"layer_0\": \"Pointwise2D\",<br>    \"layer_0_pwconv2d_filters\": 28,<br>    \"layer_0_pwconv2d_ssize\": 5,<br>    \"activation_0\": \"linear\",<br>    \"layer_1\": \"Pointwise2D\",<br>    \"layer_1_pwconv2d_filters\": 12,<br>    \"layer_1_pwconv2d_ssize\": 5,<br>    \"activation_1\": \"relu\",<br>    \"output_dropout\": 0.4968467473795585,<br>    \"lr_inicial\": 0.001149329809512222<br>  }<br>}",
          "{<br>  \"number\": 732,<br>  \"values\": [<br>    0.5799999833106995,<br>    2437.0<br>  ],<br>  \"params\": {<br>    \"batchsize\": 64,<br>    \"brightness_factor\": 0.1645343990782285,<br>    \"gaussian_noise_factor\": 0.052168318756460545,<br>    \"translate_factor\": 0.17216796897529277,<br>    \"num_layers\": 2,<br>    \"output_layer\": \"pooling\",<br>    \"layer_0\": \"Conv2D\",<br>    \"layer_0_conv2d_filters\": 8,<br>    \"layer_0_conv2d_fsize\": 3,<br>    \"layer_0_conv2d_ssize\": 5,<br>    \"activation_0\": \"linear\",<br>    \"layer_1\": \"Pointwise2D\",<br>    \"layer_1_pwconv2d_filters\": 16,<br>    \"layer_1_pwconv2d_ssize\": 2,<br>    \"activation_1\": \"tanh\",<br>    \"pre_GAP_layer_fsize\": 3,<br>    \"pre_GAP_layer_act\": \"relu\",<br>    \"lr_inicial\": 0.0011149608901997463<br>  }<br>}",
          "{<br>  \"number\": 733,<br>  \"values\": [<br>    0.6399999856948853,<br>    6109.0<br>  ],<br>  \"params\": {<br>    \"batchsize\": 96,<br>    \"brightness_factor\": 0.16704583788164398,<br>    \"gaussian_noise_factor\": 0.04944037822334961,<br>    \"translate_factor\": 0.16072676279040668,<br>    \"num_layers\": 3,<br>    \"output_layer\": \"pooling\",<br>    \"layer_0\": \"Conv2D\",<br>    \"layer_0_conv2d_filters\": 8,<br>    \"layer_0_conv2d_fsize\": 5,<br>    \"layer_0_conv2d_ssize\": 2,<br>    \"activation_0\": \"linear\",<br>    \"layer_1\": \"Pointwise2D\",<br>    \"layer_1_pwconv2d_filters\": 12,<br>    \"layer_1_pwconv2d_ssize\": 3,<br>    \"activation_1\": \"relu\",<br>    \"layer_2\": \"Pointwise2D\",<br>    \"layer_2_pwconv2d_filters\": 32,<br>    \"layer_2_pwconv2d_ssize\": 2,<br>    \"activation_2\": \"tanh\",<br>    \"pre_GAP_layer_fsize\": 3,<br>    \"pre_GAP_layer_act\": \"relu\",<br>    \"lr_inicial\": 0.001185057652923083<br>  }<br>}",
          "{<br>  \"number\": 734,<br>  \"values\": [<br>    0.7799999713897705,<br>    20563.0<br>  ],<br>  \"params\": {<br>    \"batchsize\": 64,<br>    \"brightness_factor\": 0.1588020234745808,<br>    \"gaussian_noise_factor\": 0.052583471829189744,<br>    \"translate_factor\": 0.16889435368480957,<br>    \"num_layers\": 2,<br>    \"output_layer\": \"dense\",<br>    \"layer_0\": \"Conv2D\",<br>    \"layer_0_conv2d_filters\": 8,<br>    \"layer_0_conv2d_fsize\": 4,<br>    \"layer_0_conv2d_ssize\": 5,<br>    \"activation_0\": \"linear\",<br>    \"layer_1\": \"Pointwise2D\",<br>    \"layer_1_pwconv2d_filters\": 4,<br>    \"layer_1_pwconv2d_ssize\": 5,<br>    \"activation_1\": \"relu\",<br>    \"output_dropout\": 0.471095281302598,<br>    \"lr_inicial\": 0.001198757167252073<br>  }<br>}",
          "{<br>  \"number\": 735,<br>  \"values\": [<br>    0.6399999856948853,<br>    3981.0<br>  ],<br>  \"params\": {<br>    \"batchsize\": 64,<br>    \"brightness_factor\": 0.1584580789900479,<br>    \"gaussian_noise_factor\": 0.05645588154636565,<br>    \"translate_factor\": 0.16325018052662155,<br>    \"num_layers\": 2,<br>    \"output_layer\": \"pooling\",<br>    \"layer_0\": \"Conv2D\",<br>    \"layer_0_conv2d_filters\": 12,<br>    \"layer_0_conv2d_fsize\": 4,<br>    \"layer_0_conv2d_ssize\": 5,<br>    \"activation_0\": \"linear\",<br>    \"layer_1\": \"Pointwise2D\",<br>    \"layer_1_pwconv2d_filters\": 20,<br>    \"layer_1_pwconv2d_ssize\": 2,<br>    \"activation_1\": \"relu\",<br>    \"pre_GAP_layer_fsize\": 3,<br>    \"pre_GAP_layer_act\": \"relu\",<br>    \"lr_inicial\": 0.0011448246559085749<br>  }<br>}",
          "{<br>  \"number\": 736,<br>  \"values\": [<br>    0.7599999904632568,<br>    20327.0<br>  ],<br>  \"params\": {<br>    \"batchsize\": 96,<br>    \"brightness_factor\": 0.1623148114930986,<br>    \"gaussian_noise_factor\": 0.046845736010879754,<br>    \"translate_factor\": 0.1700095259141603,<br>    \"num_layers\": 2,<br>    \"output_layer\": \"dense\",<br>    \"layer_0\": \"Conv2D\",<br>    \"layer_0_conv2d_filters\": 8,<br>    \"layer_0_conv2d_fsize\": 5,<br>    \"layer_0_conv2d_ssize\": 5,<br>    \"activation_0\": \"linear\",<br>    \"layer_1\": \"Pointwise2D\",<br>    \"layer_1_pwconv2d_filters\": 8,<br>    \"layer_1_pwconv2d_ssize\": 4,<br>    \"activation_1\": \"relu\",<br>    \"output_dropout\": 0.30014699715424037,<br>    \"lr_inicial\": 0.0012140733786798923<br>  }<br>}",
          "{<br>  \"number\": 737,<br>  \"values\": [<br>    0.6600000262260437,<br>    21277.0<br>  ],<br>  \"params\": {<br>    \"batchsize\": 96,<br>    \"brightness_factor\": 0.15700194478865576,<br>    \"gaussian_noise_factor\": 0.05716359605895184,<br>    \"translate_factor\": 0.16579676905063556,<br>    \"num_layers\": 3,<br>    \"output_layer\": \"pooling\",<br>    \"layer_0\": \"Pointwise2D\",<br>    \"layer_0_pwconv2d_filters\": 8,<br>    \"layer_0_pwconv2d_ssize\": 2,<br>    \"activation_0\": \"linear\",<br>    \"layer_1\": \"Pointwise2D\",<br>    \"layer_1_pwconv2d_filters\": 16,<br>    \"layer_1_pwconv2d_ssize\": 3,<br>    \"activation_1\": \"relu\",<br>    \"layer_2\": \"Conv2D\",<br>    \"layer_2_conv2d_filters\": 28,<br>    \"layer_2_conv2d_fsize\": 3,<br>    \"layer_2_conv2d_ssize\": 3,<br>    \"activation_2\": \"linear\",<br>    \"pre_GAP_layer_fsize\": 4,<br>    \"pre_GAP_layer_act\": \"linear\",<br>    \"lr_inicial\": 0.0011075574895040026<br>  }<br>}",
          "{<br>  \"number\": 738,<br>  \"values\": [<br>    0.8199999928474426,<br>    21231.0<br>  ],<br>  \"params\": {<br>    \"batchsize\": 64,<br>    \"brightness_factor\": 0.166830299310793,<br>    \"gaussian_noise_factor\": 0.05073944978077858,<br>    \"translate_factor\": 0.16311853813482496,<br>    \"num_layers\": 2,<br>    \"output_layer\": \"dense\",<br>    \"layer_0\": \"Conv2D\",<br>    \"layer_0_conv2d_filters\": 12,<br>    \"layer_0_conv2d_fsize\": 4,<br>    \"layer_0_conv2d_ssize\": 5,<br>    \"activation_0\": \"linear\",<br>    \"layer_1\": \"Pointwise2D\",<br>    \"layer_1_pwconv2d_filters\": 12,<br>    \"layer_1_pwconv2d_ssize\": 6,<br>    \"activation_1\": \"relu\",<br>    \"output_dropout\": 0.4300803019794382,<br>    \"lr_inicial\": 0.0011953069263834822<br>  }<br>}",
          "{<br>  \"number\": 739,<br>  \"values\": [<br>    0.6399999856948853,<br>    2213.0<br>  ],<br>  \"params\": {<br>    \"batchsize\": 64,<br>    \"brightness_factor\": 0.15651621681157823,<br>    \"gaussian_noise_factor\": 0.04782803645834705,<br>    \"translate_factor\": 0.17287868668864265,<br>    \"num_layers\": 2,<br>    \"output_layer\": \"pooling\",<br>    \"layer_0\": \"Conv2D\",<br>    \"layer_0_conv2d_filters\": 8,<br>    \"layer_0_conv2d_fsize\": 5,<br>    \"layer_0_conv2d_ssize\": 5,<br>    \"activation_0\": \"linear\",<br>    \"layer_1\": \"Pointwise2D\",<br>    \"layer_1_pwconv2d_filters\": 8,<br>    \"layer_1_pwconv2d_ssize\": 5,<br>    \"activation_1\": \"tanh\",<br>    \"pre_GAP_layer_fsize\": 3,<br>    \"pre_GAP_layer_act\": \"relu\",<br>    \"lr_inicial\": 0.0010698762690278796<br>  }<br>}",
          "{<br>  \"number\": 740,<br>  \"values\": [<br>    0.7599999904632568,<br>    20091.0<br>  ],<br>  \"params\": {<br>    \"batchsize\": 96,<br>    \"brightness_factor\": 0.161026028206416,<br>    \"gaussian_noise_factor\": 0.044810457039072764,<br>    \"translate_factor\": 0.168497871126336,<br>    \"num_layers\": 3,<br>    \"output_layer\": \"dense\",<br>    \"layer_0\": \"Conv2D\",<br>    \"layer_0_conv2d_filters\": 8,<br>    \"layer_0_conv2d_fsize\": 4,<br>    \"layer_0_conv2d_ssize\": 2,<br>    \"activation_0\": \"linear\",<br>    \"layer_1\": \"Pointwise2D\",<br>    \"layer_1_pwconv2d_filters\": 16,<br>    \"layer_1_pwconv2d_ssize\": 3,<br>    \"activation_1\": \"relu\",<br>    \"layer_2\": \"Pointwise2D\",<br>    \"layer_2_pwconv2d_filters\": 12,<br>    \"layer_2_pwconv2d_ssize\": 3,<br>    \"activation_2\": \"relu\",<br>    \"output_dropout\": 0.507919061219353,<br>    \"lr_inicial\": 0.001202577958203258<br>  }<br>}",
          "{<br>  \"number\": 741,<br>  \"values\": [<br>    0.5799999833106995,<br>    6133.0<br>  ],<br>  \"params\": {<br>    \"batchsize\": 64,<br>    \"brightness_factor\": 0.15660100484504577,<br>    \"gaussian_noise_factor\": 0.05482404327143611,<br>    \"translate_factor\": 0.1727146337238581,<br>    \"num_layers\": 2,<br>    \"output_layer\": \"pooling\",<br>    \"layer_0\": \"Conv2D\",<br>    \"layer_0_conv2d_filters\": 8,<br>    \"layer_0_conv2d_fsize\": 3,<br>    \"layer_0_conv2d_ssize\": 5,<br>    \"activation_0\": \"linear\",<br>    \"layer_1\": \"Pointwise2D\",<br>    \"layer_1_pwconv2d_filters\": 20,<br>    \"layer_1_pwconv2d_ssize\": 4,<br>    \"activation_1\": \"relu\",<br>    \"pre_GAP_layer_fsize\": 5,<br>    \"pre_GAP_layer_act\": \"tanh\",<br>    \"lr_inicial\": 0.001138315164714484<br>  }<br>}",
          "{<br>  \"number\": 742,<br>  \"values\": [<br>    0.5799999833106995,<br>    1717.0<br>  ],<br>  \"params\": {<br>    \"batchsize\": 64,<br>    \"brightness_factor\": 0.16295319740897926,<br>    \"gaussian_noise_factor\": 0.059488650734779824,<br>    \"translate_factor\": 0.16740134456004144,<br>    \"num_layers\": 2,<br>    \"output_layer\": \"pooling\",<br>    \"layer_0\": \"Conv2D\",<br>    \"layer_0_conv2d_filters\": 8,<br>    \"layer_0_conv2d_fsize\": 5,<br>    \"layer_0_conv2d_ssize\": 5,<br>    \"activation_0\": \"linear\",<br>    \"layer_1\": \"Pointwise2D\",<br>    \"layer_1_pwconv2d_filters\": 4,<br>    \"layer_1_pwconv2d_ssize\": 2,<br>    \"activation_1\": \"relu\",<br>    \"pre_GAP_layer_fsize\": 3,<br>    \"pre_GAP_layer_act\": \"relu\",<br>    \"lr_inicial\": 0.0010254530981063672<br>  }<br>}",
          "{<br>  \"number\": 743,<br>  \"values\": [<br>    0.7599999904632568,<br>    20459.0<br>  ],<br>  \"params\": {<br>    \"batchsize\": 96,<br>    \"brightness_factor\": 0.1607161053791532,<br>    \"gaussian_noise_factor\": 0.05384647834857055,<br>    \"translate_factor\": 0.1593440641830037,<br>    \"num_layers\": 2,<br>    \"output_layer\": \"dense\",<br>    \"layer_0\": \"Pointwise2D\",<br>    \"layer_0_pwconv2d_filters\": 4,<br>    \"layer_0_pwconv2d_ssize\": 6,<br>    \"activation_0\": \"linear\",<br>    \"layer_1\": \"Pointwise2D\",<br>    \"layer_1_pwconv2d_filters\": 8,<br>    \"layer_1_pwconv2d_ssize\": 6,<br>    \"activation_1\": \"relu\",<br>    \"output_dropout\": 0.44989108974218806,<br>    \"lr_inicial\": 0.001245807279221327<br>  }<br>}",
          "{<br>  \"number\": 744,<br>  \"values\": [<br>    0.6600000262260437,<br>    10541.0<br>  ],<br>  \"params\": {<br>    \"batchsize\": 128,<br>    \"brightness_factor\": 0.15586297726255904,<br>    \"gaussian_noise_factor\": 0.05159612209294691,<br>    \"translate_factor\": 0.16928484925257353,<br>    \"num_layers\": 3,<br>    \"output_layer\": \"pooling\",<br>    \"layer_0\": \"Conv2D\",<br>    \"layer_0_conv2d_filters\": 8,<br>    \"layer_0_conv2d_fsize\": 4,<br>    \"layer_0_conv2d_ssize\": 4,<br>    \"activation_0\": \"linear\",<br>    \"layer_1\": \"Pointwise2D\",<br>    \"layer_1_pwconv2d_filters\": 28,<br>    \"layer_1_pwconv2d_ssize\": 3,<br>    \"activation_1\": \"tanh\",<br>    \"layer_2\": \"Conv2D\",<br>    \"layer_2_conv2d_filters\": 8,<br>    \"layer_2_conv2d_fsize\": 3,<br>    \"layer_2_conv2d_ssize\": 5,<br>    \"activation_2\": \"tanh\",<br>    \"pre_GAP_layer_fsize\": 3,<br>    \"pre_GAP_layer_act\": \"relu\",<br>    \"lr_inicial\": 0.0011738729242132789<br>  }<br>}",
          "{<br>  \"number\": 745,<br>  \"values\": [<br>    0.8199999928474426,<br>    21323.0<br>  ],<br>  \"params\": {<br>    \"batchsize\": 64,<br>    \"brightness_factor\": 0.1652186594434778,<br>    \"gaussian_noise_factor\": 0.044762905816837964,<br>    \"translate_factor\": 0.1743088514422701,<br>    \"num_layers\": 2,<br>    \"output_layer\": \"dense\",<br>    \"layer_0\": \"Conv2D\",<br>    \"layer_0_conv2d_filters\": 20,<br>    \"layer_0_conv2d_fsize\": 4,<br>    \"layer_0_conv2d_ssize\": 5,<br>    \"activation_0\": \"linear\",<br>    \"layer_1\": \"Pointwise2D\",<br>    \"layer_1_pwconv2d_filters\": 20,<br>    \"layer_1_pwconv2d_ssize\": 4,<br>    \"activation_1\": \"relu\",<br>    \"output_dropout\": 0.4870322743136742,<br>    \"lr_inicial\": 0.001153047857937543<br>  }<br>}",
          "{<br>  \"number\": 746,<br>  \"values\": [<br>    0.6399999856948853,<br>    4309.0<br>  ],<br>  \"params\": {<br>    \"batchsize\": 96,<br>    \"brightness_factor\": 0.15620160752338294,<br>    \"gaussian_noise_factor\": 0.058781691655474116,<br>    \"translate_factor\": 0.16367919202037293,<br>    \"num_layers\": 2,<br>    \"output_layer\": \"pooling\",<br>    \"layer_0\": \"Conv2D\",<br>    \"layer_0_conv2d_filters\": 16,<br>    \"layer_0_conv2d_fsize\": 5,<br>    \"layer_0_conv2d_ssize\": 5,<br>    \"activation_0\": \"linear\",<br>    \"layer_1\": \"Pointwise2D\",<br>    \"layer_1_pwconv2d_filters\": 12,<br>    \"layer_1_pwconv2d_ssize\": 5,<br>    \"activation_1\": \"relu\",<br>    \"pre_GAP_layer_fsize\": 3,<br>    \"pre_GAP_layer_act\": \"relu\",<br>    \"lr_inicial\": 0.00122716944453599<br>  }<br>}",
          "{<br>  \"number\": 747,<br>  \"values\": [<br>    0.7799999713897705,<br>    17582.0<br>  ],<br>  \"params\": {<br>    \"batchsize\": 128,<br>    \"brightness_factor\": 0.16013854550032539,<br>    \"gaussian_noise_factor\": 0.049068885161864764,<br>    \"translate_factor\": 0.15724634115347083,<br>    \"num_layers\": 2,<br>    \"output_layer\": \"dense\",<br>    \"layer_0\": \"Conv2D\",<br>    \"layer_0_conv2d_filters\": 8,<br>    \"layer_0_conv2d_fsize\": 4,<br>    \"layer_0_conv2d_ssize\": 5,<br>    \"activation_0\": \"linear\",<br>    \"layer_1\": \"Pointwise2D\",<br>    \"layer_1_pwconv2d_filters\": 20,<br>    \"layer_1_pwconv2d_ssize\": 2,<br>    \"activation_1\": \"relu\",<br>    \"output_dropout\": 0.5160028420325419,<br>    \"lr_inicial\": 0.0012192548305902731<br>  }<br>}",
          "{<br>  \"number\": 748,<br>  \"values\": [<br>    0.7799999713897705,<br>    13773.0<br>  ],<br>  \"params\": {<br>    \"batchsize\": 64,<br>    \"brightness_factor\": 0.16771268471563336,<br>    \"gaussian_noise_factor\": 0.04454524987681332,<br>    \"translate_factor\": 0.1731813111878057,<br>    \"num_layers\": 3,<br>    \"output_layer\": \"pooling\",<br>    \"layer_0\": \"Conv2D\",<br>    \"layer_0_conv2d_filters\": 12,<br>    \"layer_0_conv2d_fsize\": 5,<br>    \"layer_0_conv2d_ssize\": 4,<br>    \"activation_0\": \"linear\",<br>    \"layer_1\": \"Pointwise2D\",<br>    \"layer_1_pwconv2d_filters\": 8,<br>    \"layer_1_pwconv2d_ssize\": 3,<br>    \"activation_1\": \"relu\",<br>    \"layer_2\": \"Conv2D\",<br>    \"layer_2_conv2d_filters\": 12,<br>    \"layer_2_conv2d_fsize\": 5,<br>    \"layer_2_conv2d_ssize\": 4,<br>    \"activation_2\": \"linear\",<br>    \"pre_GAP_layer_fsize\": 4,<br>    \"pre_GAP_layer_act\": \"linear\",<br>    \"lr_inicial\": 0.0011289333386652737<br>  }<br>}",
          "{<br>  \"number\": 749,<br>  \"values\": [<br>    0.6800000071525574,<br>    20327.0<br>  ],<br>  \"params\": {<br>    \"batchsize\": 96,<br>    \"brightness_factor\": 0.15532182598658656,<br>    \"gaussian_noise_factor\": 0.05604173320303778,<br>    \"translate_factor\": 0.16833667692023152,<br>    \"num_layers\": 2,<br>    \"output_layer\": \"dense\",<br>    \"layer_0\": \"Pointwise2D\",<br>    \"layer_0_pwconv2d_filters\": 24,<br>    \"layer_0_pwconv2d_ssize\": 4,<br>    \"activation_0\": \"linear\",<br>    \"layer_1\": \"Pointwise2D\",<br>    \"layer_1_pwconv2d_filters\": 16,<br>    \"layer_1_pwconv2d_ssize\": 5,<br>    \"activation_1\": \"relu\",<br>    \"output_dropout\": 0.5263994641801394,<br>    \"lr_inicial\": 0.000709645211561295<br>  }<br>}",
          "{<br>  \"number\": 750,<br>  \"values\": [<br>    0.6399999856948853,<br>    1741.0<br>  ],<br>  \"params\": {<br>    \"batchsize\": 64,<br>    \"brightness_factor\": 0.16346107398988785,<br>    \"gaussian_noise_factor\": 0.05019360764039016,<br>    \"translate_factor\": 0.1717761794677486,<br>    \"num_layers\": 2,<br>    \"output_layer\": \"pooling\",<br>    \"layer_0\": \"Conv2D\",<br>    \"layer_0_conv2d_filters\": 12,<br>    \"layer_0_conv2d_fsize\": 4,<br>    \"layer_0_conv2d_ssize\": 5,<br>    \"activation_0\": \"linear\",<br>    \"layer_1\": \"Pointwise2D\",<br>    \"layer_1_pwconv2d_filters\": 4,<br>    \"layer_1_pwconv2d_ssize\": 6,<br>    \"activation_1\": \"relu\",<br>    \"pre_GAP_layer_fsize\": 3,<br>    \"pre_GAP_layer_act\": \"relu\",<br>    \"lr_inicial\": 0.001227044268816129<br>  }<br>}",
          "{<br>  \"number\": 751,<br>  \"values\": [<br>    0.5,<br>    9517.0<br>  ],<br>  \"params\": {<br>    \"batchsize\": 128,<br>    \"brightness_factor\": 0.15923543346724084,<br>    \"gaussian_noise_factor\": 0.05415334959723415,<br>    \"translate_factor\": 0.16530502045611675,<br>    \"num_layers\": 3,<br>    \"output_layer\": \"pooling\",<br>    \"layer_0\": \"Conv2D\",<br>    \"layer_0_conv2d_filters\": 32,<br>    \"layer_0_conv2d_fsize\": 3,<br>    \"layer_0_conv2d_ssize\": 2,<br>    \"activation_0\": \"linear\",<br>    \"layer_1\": \"Pointwise2D\",<br>    \"layer_1_pwconv2d_filters\": 28,<br>    \"layer_1_pwconv2d_ssize\": 2,<br>    \"activation_1\": \"tanh\",<br>    \"layer_2\": \"Pointwise2D\",<br>    \"layer_2_pwconv2d_filters\": 20,<br>    \"layer_2_pwconv2d_ssize\": 4,<br>    \"activation_2\": \"tanh\",<br>    \"pre_GAP_layer_fsize\": 3,<br>    \"pre_GAP_layer_act\": \"tanh\",<br>    \"lr_inicial\": 0.0011712879976045283<br>  }<br>}",
          "{<br>  \"number\": 752,<br>  \"values\": [<br>    0.8399999737739563,<br>    22039.0<br>  ],<br>  \"params\": {<br>    \"batchsize\": 64,<br>    \"brightness_factor\": 0.16321979628188674,<br>    \"gaussian_noise_factor\": 0.044234636375273785,<br>    \"translate_factor\": 0.16261096240483547,<br>    \"num_layers\": 2,<br>    \"output_layer\": \"dense\",<br>    \"layer_0\": \"Conv2D\",<br>    \"layer_0_conv2d_filters\": 20,<br>    \"layer_0_conv2d_fsize\": 5,<br>    \"layer_0_conv2d_ssize\": 5,<br>    \"activation_0\": \"linear\",<br>    \"layer_1\": \"Pointwise2D\",<br>    \"layer_1_pwconv2d_filters\": 24,<br>    \"layer_1_pwconv2d_ssize\": 4,<br>    \"activation_1\": \"relu\",<br>    \"output_dropout\": 0.5547803869146806,<br>    \"lr_inicial\": 0.0011981127902700602<br>  }<br>}",
          "{<br>  \"number\": 753,<br>  \"values\": [<br>    0.6200000047683716,<br>    7117.0<br>  ],<br>  \"params\": {<br>    \"batchsize\": 96,<br>    \"brightness_factor\": 0.15554143859506675,<br>    \"gaussian_noise_factor\": 0.05827731942906137,<br>    \"translate_factor\": 0.17467744780066255,<br>    \"num_layers\": 2,<br>    \"output_layer\": \"pooling\",<br>    \"layer_0\": \"Conv2D\",<br>    \"layer_0_conv2d_filters\": 28,<br>    \"layer_0_conv2d_fsize\": 4,<br>    \"layer_0_conv2d_ssize\": 5,<br>    \"activation_0\": \"linear\",<br>    \"layer_1\": \"Pointwise2D\",<br>    \"layer_1_pwconv2d_filters\": 12,<br>    \"layer_1_pwconv2d_ssize\": 4,<br>    \"activation_1\": \"relu\",<br>    \"pre_GAP_layer_fsize\": 5,<br>    \"pre_GAP_layer_act\": \"relu\",<br>    \"lr_inicial\": 0.0012308373940945261<br>  }<br>}",
          "{<br>  \"number\": 754,<br>  \"values\": [<br>    0.800000011920929,<br>    20739.0<br>  ],<br>  \"params\": {<br>    \"batchsize\": 64,<br>    \"brightness_factor\": 0.16638292910730848,<br>    \"gaussian_noise_factor\": 0.04990764119998306,<br>    \"translate_factor\": 0.16022933997871167,<br>    \"num_layers\": 2,<br>    \"output_layer\": \"dense\",<br>    \"layer_0\": \"Conv2D\",<br>    \"layer_0_conv2d_filters\": 8,<br>    \"layer_0_conv2d_fsize\": 5,<br>    \"layer_0_conv2d_ssize\": 5,<br>    \"activation_0\": \"linear\",<br>    \"layer_1\": \"Pointwise2D\",<br>    \"layer_1_pwconv2d_filters\": 4,<br>    \"layer_1_pwconv2d_ssize\": 6,<br>    \"activation_1\": \"relu\",<br>    \"output_dropout\": 0.45673365879746475,<br>    \"lr_inicial\": 0.0011450506041522717<br>  }<br>}",
          "{<br>  \"number\": 755,<br>  \"values\": [<br>    0.6600000262260437,<br>    55237.0<br>  ],<br>  \"params\": {<br>    \"batchsize\": 128,<br>    \"brightness_factor\": 0.15854994429116032,<br>    \"gaussian_noise_factor\": 0.060398323446234164,<br>    \"translate_factor\": 0.16730970624078392,<br>    \"num_layers\": 3,<br>    \"output_layer\": \"pooling\",<br>    \"layer_0\": \"Pointwise2D\",<br>    \"layer_0_pwconv2d_filters\": 28,<br>    \"layer_0_pwconv2d_ssize\": 3,<br>    \"activation_0\": \"linear\",<br>    \"layer_1\": \"Pointwise2D\",<br>    \"layer_1_pwconv2d_filters\": 32,<br>    \"layer_1_pwconv2d_ssize\": 3,<br>    \"activation_1\": \"relu\",<br>    \"layer_2\": \"Conv2D\",<br>    \"layer_2_conv2d_filters\": 24,<br>    \"layer_2_conv2d_fsize\": 4,<br>    \"layer_2_conv2d_ssize\": 3,<br>    \"activation_2\": \"relu\",<br>    \"pre_GAP_layer_fsize\": 3,<br>    \"pre_GAP_layer_act\": \"relu\",<br>    \"lr_inicial\": 0.0011105529908472108<br>  }<br>}",
          "{<br>  \"number\": 756,<br>  \"values\": [<br>    0.8199999928474426,<br>    21327.0<br>  ],<br>  \"params\": {<br>    \"batchsize\": 64,<br>    \"brightness_factor\": 0.15472205645621934,<br>    \"gaussian_noise_factor\": 0.05444306517412723,<br>    \"translate_factor\": 0.17056407496598336,<br>    \"num_layers\": 2,<br>    \"output_layer\": \"dense\",<br>    \"layer_0\": \"Conv2D\",<br>    \"layer_0_conv2d_filters\": 12,<br>    \"layer_0_conv2d_fsize\": 4,<br>    \"layer_0_conv2d_ssize\": 5,<br>    \"activation_0\": \"linear\",<br>    \"layer_1\": \"Pointwise2D\",<br>    \"layer_1_pwconv2d_filters\": 16,<br>    \"layer_1_pwconv2d_ssize\": 5,<br>    \"activation_1\": \"relu\",<br>    \"output_dropout\": 0.4423949435700615,<br>    \"lr_inicial\": 0.0012459112995178258<br>  }<br>}",
          "{<br>  \"number\": 757,<br>  \"values\": [<br>    0.6399999856948853,<br>    2277.0<br>  ],<br>  \"params\": {<br>    \"batchsize\": 96,<br>    \"brightness_factor\": 0.16214280922670604,<br>    \"gaussian_noise_factor\": 0.04783322425922112,<br>    \"translate_factor\": 0.17437258654262636,<br>    \"num_layers\": 2,<br>    \"output_layer\": \"pooling\",<br>    \"layer_0\": \"Conv2D\",<br>    \"layer_0_conv2d_filters\": 8,<br>    \"layer_0_conv2d_fsize\": 4,<br>    \"layer_0_conv2d_ssize\": 5,<br>    \"activation_0\": \"linear\",<br>    \"layer_1\": \"Pointwise2D\",<br>    \"layer_1_pwconv2d_filters\": 12,<br>    \"layer_1_pwconv2d_ssize\": 7,<br>    \"activation_1\": \"tanh\",<br>    \"pre_GAP_layer_fsize\": 3,<br>    \"pre_GAP_layer_act\": \"relu\",<br>    \"lr_inicial\": 0.0011718377922664543<br>  }<br>}",
          "{<br>  \"number\": 758,<br>  \"values\": [<br>    0.7400000095367432,<br>    17798.0<br>  ],<br>  \"params\": {<br>    \"batchsize\": 128,<br>    \"brightness_factor\": 0.16661564910103424,<br>    \"gaussian_noise_factor\": 0.05173403697137993,<br>    \"translate_factor\": 0.15566586015680883,<br>    \"num_layers\": 2,<br>    \"output_layer\": \"dense\",<br>    \"layer_0\": \"Conv2D\",<br>    \"layer_0_conv2d_filters\": 8,<br>    \"layer_0_conv2d_fsize\": 5,<br>    \"layer_0_conv2d_ssize\": 5,<br>    \"activation_0\": \"linear\",<br>    \"layer_1\": \"Pointwise2D\",<br>    \"layer_1_pwconv2d_filters\": 20,<br>    \"layer_1_pwconv2d_ssize\": 2,<br>    \"activation_1\": \"relu\",<br>    \"output_dropout\": 0.49176291111053966,<br>    \"lr_inicial\": 0.0004028074335644514<br>  }<br>}",
          "{<br>  \"number\": 759,<br>  \"values\": [<br>    0.7799999713897705,<br>    23821.0<br>  ],<br>  \"params\": {<br>    \"batchsize\": 64,<br>    \"brightness_factor\": 0.1603895821914852,<br>    \"gaussian_noise_factor\": 0.04293917100503401,<br>    \"translate_factor\": 0.16616346289214318,<br>    \"num_layers\": 3,<br>    \"output_layer\": \"pooling\",<br>    \"layer_0\": \"Conv2D\",<br>    \"layer_0_conv2d_filters\": 24,<br>    \"layer_0_conv2d_fsize\": 4,<br>    \"layer_0_conv2d_ssize\": 4,<br>    \"activation_0\": \"linear\",<br>    \"layer_1\": \"Pointwise2D\",<br>    \"layer_1_pwconv2d_filters\": 28,<br>    \"layer_1_pwconv2d_ssize\": 3,<br>    \"activation_1\": \"relu\",<br>    \"layer_2\": \"Conv2D\",<br>    \"layer_2_conv2d_filters\": 16,<br>    \"layer_2_conv2d_fsize\": 3,<br>    \"layer_2_conv2d_ssize\": 4,<br>    \"activation_2\": \"linear\",<br>    \"pre_GAP_layer_fsize\": 4,<br>    \"pre_GAP_layer_act\": \"linear\",<br>    \"lr_inicial\": 0.00199998202188164<br>  }<br>}",
          "{<br>  \"number\": 760,<br>  \"values\": [<br>    0.6000000238418579,<br>    1173.0<br>  ],<br>  \"params\": {<br>    \"batchsize\": 96,<br>    \"brightness_factor\": 0.15515279918176816,<br>    \"gaussian_noise_factor\": 0.057173953503287155,<br>    \"translate_factor\": 0.16266584133884973,<br>    \"num_layers\": 1,<br>    \"output_layer\": \"pooling\",<br>    \"layer_0\": \"Conv2D\",<br>    \"layer_0_conv2d_filters\": 8,<br>    \"layer_0_conv2d_fsize\": 3,<br>    \"layer_0_conv2d_ssize\": 14,<br>    \"activation_0\": \"linear\",<br>    \"pre_GAP_layer_fsize\": 3,<br>    \"pre_GAP_layer_act\": \"relu\",<br>    \"lr_inicial\": 0.0008678691847575883<br>  }<br>}",
          "{<br>  \"number\": 761,<br>  \"values\": [<br>    0.7799999713897705,<br>    20840.0<br>  ],<br>  \"params\": {<br>    \"batchsize\": 64,<br>    \"brightness_factor\": 0.15844097894239112,<br>    \"gaussian_noise_factor\": 0.047293359452596655,<br>    \"translate_factor\": 0.17003709701498262,<br>    \"num_layers\": 2,<br>    \"output_layer\": \"dense\",<br>    \"layer_0\": \"Pointwise2D\",<br>    \"layer_0_pwconv2d_filters\": 12,<br>    \"layer_0_pwconv2d_ssize\": 7,<br>    \"activation_0\": \"linear\",<br>    \"layer_1\": \"Pointwise2D\",<br>    \"layer_1_pwconv2d_filters\": 24,<br>    \"layer_1_pwconv2d_ssize\": 4,<br>    \"activation_1\": \"relu\",<br>    \"output_dropout\": 0.42439859073376923,<br>    \"lr_inicial\": 0.001909153783055741<br>  }<br>}",
          "{<br>  \"number\": 762,<br>  \"values\": [<br>    0.5400000214576721,<br>    3685.0<br>  ],<br>  \"params\": {<br>    \"batchsize\": 96,<br>    \"brightness_factor\": 0.16753731106433448,<br>    \"gaussian_noise_factor\": 0.05250499481822317,<br>    \"translate_factor\": 0.1762758602299866,<br>    \"num_layers\": 2,<br>    \"output_layer\": \"pooling\",<br>    \"layer_0\": \"Conv2D\",<br>    \"layer_0_conv2d_filters\": 16,<br>    \"layer_0_conv2d_fsize\": 5,<br>    \"layer_0_conv2d_ssize\": 5,<br>    \"activation_0\": \"linear\",<br>    \"layer_1\": \"Pointwise2D\",<br>    \"layer_1_pwconv2d_filters\": 8,<br>    \"layer_1_pwconv2d_ssize\": 2,<br>    \"activation_1\": \"relu\",<br>    \"pre_GAP_layer_fsize\": 3,<br>    \"pre_GAP_layer_act\": \"tanh\",<br>    \"lr_inicial\": 0.001068951606773221<br>  }<br>}",
          "{<br>  \"number\": 763,<br>  \"values\": [<br>    0.8399999737739563,<br>    22567.0<br>  ],<br>  \"params\": {<br>    \"batchsize\": 128,<br>    \"brightness_factor\": 0.1547645778261451,<br>    \"gaussian_noise_factor\": 0.056749904619416223,<br>    \"translate_factor\": 0.16868670540055092,<br>    \"num_layers\": 3,<br>    \"output_layer\": \"dense\",<br>    \"layer_0\": \"Conv2D\",<br>    \"layer_0_conv2d_filters\": 28,<br>    \"layer_0_conv2d_fsize\": 4,<br>    \"layer_0_conv2d_ssize\": 4,<br>    \"activation_0\": \"linear\",<br>    \"layer_1\": \"Pointwise2D\",<br>    \"layer_1_pwconv2d_filters\": 32,<br>    \"layer_1_pwconv2d_ssize\": 3,<br>    \"activation_1\": \"relu\",<br>    \"layer_2\": \"Pointwise2D\",<br>    \"layer_2_pwconv2d_filters\": 4,<br>    \"layer_2_pwconv2d_ssize\": 2,<br>    \"activation_2\": \"tanh\",<br>    \"output_dropout\": 0.4818772231290525,<br>    \"lr_inicial\": 0.0018528269207457248<br>  }<br>}",
          "{<br>  \"number\": 764,<br>  \"values\": [<br>    0.5799999833106995,<br>    3829.0<br>  ],<br>  \"params\": {<br>    \"batchsize\": 64,<br>    \"brightness_factor\": 0.16419942655282352,<br>    \"gaussian_noise_factor\": 0.06215155425622262,<br>    \"translate_factor\": 0.17353005229426832,<br>    \"num_layers\": 2,<br>    \"output_layer\": \"pooling\",<br>    \"layer_0\": \"Conv2D\",<br>    \"layer_0_conv2d_filters\": 4,<br>    \"layer_0_conv2d_fsize\": 5,<br>    \"layer_0_conv2d_ssize\": 5,<br>    \"activation_0\": \"linear\",<br>    \"layer_1\": \"Pointwise2D\",<br>    \"layer_1_pwconv2d_filters\": 12,<br>    \"layer_1_pwconv2d_ssize\": 7,<br>    \"activation_1\": \"tanh\",<br>    \"pre_GAP_layer_fsize\": 5,<br>    \"pre_GAP_layer_act\": \"relu\",<br>    \"lr_inicial\": 0.0012439601710454691<br>  }<br>}",
          "{<br>  \"number\": 765,<br>  \"values\": [<br>    0.7200000286102295,<br>    20807.0<br>  ],<br>  \"params\": {<br>    \"batchsize\": 96,<br>    \"brightness_factor\": 0.1608679871226886,<br>    \"gaussian_noise_factor\": 0.049243577754094596,<br>    \"translate_factor\": 0.16443313485326347,<br>    \"num_layers\": 2,<br>    \"output_layer\": \"dense\",<br>    \"layer_0\": \"Conv2D\",<br>    \"layer_0_conv2d_filters\": 4,<br>    \"layer_0_conv2d_fsize\": 4,<br>    \"layer_0_conv2d_ssize\": 5,<br>    \"activation_0\": \"linear\",<br>    \"layer_1\": \"Pointwise2D\",<br>    \"layer_1_pwconv2d_filters\": 16,<br>    \"layer_1_pwconv2d_ssize\": 5,<br>    \"activation_1\": \"relu\",<br>    \"output_dropout\": 0.46451866097293437,<br>    \"lr_inicial\": 0.00038309310023738007<br>  }<br>}",
          "{<br>  \"number\": 766,<br>  \"values\": [<br>    0.4000000059604645,<br>    3141.0<br>  ],<br>  \"params\": {<br>    \"batchsize\": 64,<br>    \"brightness_factor\": 0.15528938057328526,<br>    \"gaussian_noise_factor\": 0.05501318895367189,<br>    \"translate_factor\": 0.16086662316064942,<br>    \"num_layers\": 1,<br>    \"output_layer\": \"pooling\",<br>    \"layer_0\": \"Pointwise2D\",<br>    \"layer_0_pwconv2d_filters\": 32,<br>    \"layer_0_pwconv2d_ssize\": 10,<br>    \"activation_0\": \"linear\",<br>    \"pre_GAP_layer_fsize\": 3,<br>    \"pre_GAP_layer_act\": \"relu\",<br>    \"lr_inicial\": 0.0010862170800369092<br>  }<br>}",
          "{<br>  \"number\": 767,<br>  \"values\": [<br>    0.699999988079071,<br>    20419.0<br>  ],<br>  \"params\": {<br>    \"batchsize\": 128,<br>    \"brightness_factor\": 0.16915649555266848,<br>    \"gaussian_noise_factor\": 0.042950244887888844,<br>    \"translate_factor\": 0.17321449603543043,<br>    \"num_layers\": 2,<br>    \"output_layer\": \"dense\",<br>    \"layer_0\": \"Conv2D\",<br>    \"layer_0_conv2d_filters\": 4,<br>    \"layer_0_conv2d_fsize\": 5,<br>    \"layer_0_conv2d_ssize\": 5,<br>    \"activation_0\": \"linear\",<br>    \"layer_1\": \"Pointwise2D\",<br>    \"layer_1_pwconv2d_filters\": 4,<br>    \"layer_1_pwconv2d_ssize\": 6,<br>    \"activation_1\": \"relu\",<br>    \"output_dropout\": 0.5433754548794985,<br>    \"lr_inicial\": 0.0011897901770605303<br>  }<br>}",
          "{<br>  \"number\": 768,<br>  \"values\": [<br>    0.7799999713897705,<br>    50669.0<br>  ],<br>  \"params\": {<br>    \"batchsize\": 64,<br>    \"brightness_factor\": 0.15864555601422983,<br>    \"gaussian_noise_factor\": 0.060250243367419694,<br>    \"translate_factor\": 0.16464687226025287,<br>    \"num_layers\": 3,<br>    \"output_layer\": \"pooling\",<br>    \"layer_0\": \"Conv2D\",<br>    \"layer_0_conv2d_filters\": 4,<br>    \"layer_0_conv2d_fsize\": 4,<br>    \"layer_0_conv2d_ssize\": 4,<br>    \"activation_0\": \"linear\",<br>    \"layer_1\": \"Pointwise2D\",<br>    \"layer_1_pwconv2d_filters\": 24,<br>    \"layer_1_pwconv2d_ssize\": 2,<br>    \"activation_1\": \"relu\",<br>    \"layer_2\": \"Conv2D\",<br>    \"layer_2_conv2d_filters\": 20,<br>    \"layer_2_conv2d_fsize\": 5,<br>    \"layer_2_conv2d_ssize\": 5,<br>    \"activation_2\": \"linear\",<br>    \"pre_GAP_layer_fsize\": 3,<br>    \"pre_GAP_layer_act\": \"relu\",<br>    \"lr_inicial\": 0.0019219207394443026<br>  }<br>}",
          "{<br>  \"number\": 769,<br>  \"values\": [<br>    0.6399999856948853,<br>    4901.0<br>  ],<br>  \"params\": {<br>    \"batchsize\": 96,<br>    \"brightness_factor\": 0.15335225119067003,<br>    \"gaussian_noise_factor\": 0.04743752514851506,<br>    \"translate_factor\": 0.17148056702261097,<br>    \"num_layers\": 2,<br>    \"output_layer\": \"pooling\",<br>    \"layer_0\": \"Conv2D\",<br>    \"layer_0_conv2d_filters\": 32,<br>    \"layer_0_conv2d_fsize\": 4,<br>    \"layer_0_conv2d_ssize\": 5,<br>    \"activation_0\": \"linear\",<br>    \"layer_1\": \"Pointwise2D\",<br>    \"layer_1_pwconv2d_filters\": 8,<br>    \"layer_1_pwconv2d_ssize\": 4,<br>    \"activation_1\": \"relu\",<br>    \"pre_GAP_layer_fsize\": 3,<br>    \"pre_GAP_layer_act\": \"relu\",<br>    \"lr_inicial\": 0.0016504369654310764<br>  }<br>}",
          "{<br>  \"number\": 770,<br>  \"values\": [<br>    0.7200000286102295,<br>    22339.0<br>  ],<br>  \"params\": {<br>    \"batchsize\": 64,<br>    \"brightness_factor\": 0.162813512686606,<br>    \"gaussian_noise_factor\": 0.051909341396705486,<br>    \"translate_factor\": 0.1684201589682195,<br>    \"num_layers\": 2,<br>    \"output_layer\": \"dense\",<br>    \"layer_0\": \"Conv2D\",<br>    \"layer_0_conv2d_filters\": 8,<br>    \"layer_0_conv2d_fsize\": 5,<br>    \"layer_0_conv2d_ssize\": 5,<br>    \"activation_0\": \"linear\",<br>    \"layer_1\": \"Pointwise2D\",<br>    \"layer_1_pwconv2d_filters\": 20,<br>    \"layer_1_pwconv2d_ssize\": 8,<br>    \"activation_1\": \"relu\",<br>    \"output_dropout\": 0.5715460420564387,<br>    \"lr_inicial\": 0.00041752935007876023<br>  }<br>}",
          "{<br>  \"number\": 771,<br>  \"values\": [<br>    0.6399999856948853,<br>    3077.0<br>  ],<br>  \"params\": {<br>    \"batchsize\": 96,<br>    \"brightness_factor\": 0.15711772955303163,<br>    \"gaussian_noise_factor\": 0.04497055127005062,<br>    \"translate_factor\": 0.15808149546067157,<br>    \"num_layers\": 2,<br>    \"output_layer\": \"pooling\",<br>    \"layer_0\": \"Conv2D\",<br>    \"layer_0_conv2d_filters\": 4,<br>    \"layer_0_conv2d_fsize\": 3,<br>    \"layer_0_conv2d_ssize\": 5,<br>    \"activation_0\": \"linear\",<br>    \"layer_1\": \"Pointwise2D\",<br>    \"layer_1_pwconv2d_filters\": 16,<br>    \"layer_1_pwconv2d_ssize\": 5,<br>    \"activation_1\": \"tanh\",<br>    \"pre_GAP_layer_fsize\": 4,<br>    \"pre_GAP_layer_act\": \"linear\",<br>    \"lr_inicial\": 0.0018042966256701252<br>  }<br>}",
          "{<br>  \"number\": 772,<br>  \"values\": [<br>    0.6000000238418579,<br>    19565.0<br>  ],<br>  \"params\": {<br>    \"batchsize\": 128,<br>    \"brightness_factor\": 0.16084230384909698,<br>    \"gaussian_noise_factor\": 0.05646815390430055,<br>    \"translate_factor\": 0.17551625184968506,<br>    \"num_layers\": 1,<br>    \"output_layer\": \"dense\",<br>    \"layer_0\": \"Pointwise2D\",<br>    \"layer_0_pwconv2d_filters\": 16,<br>    \"layer_0_pwconv2d_ssize\": 12,<br>    \"activation_0\": \"linear\",<br>    \"output_dropout\": 0.5128735147620223,<br>    \"lr_inicial\": 0.00036468502950047385<br>  }<br>}",
          "{<br>  \"number\": 773,<br>  \"values\": [<br>    0.5799999833106995,<br>    5549.0<br>  ],<br>  \"params\": {<br>    \"batchsize\": 64,<br>    \"brightness_factor\": 0.1691884377977002,<br>    \"gaussian_noise_factor\": 0.0627039373819914,<br>    \"translate_factor\": 0.16569626545700256,<br>    \"num_layers\": 3,<br>    \"output_layer\": \"pooling\",<br>    \"layer_0\": \"Conv2D\",<br>    \"layer_0_conv2d_filters\": 12,<br>    \"layer_0_conv2d_fsize\": 4,<br>    \"layer_0_conv2d_ssize\": 2,<br>    \"activation_0\": \"linear\",<br>    \"layer_1\": \"Pointwise2D\",<br>    \"layer_1_pwconv2d_filters\": 8,<br>    \"layer_1_pwconv2d_ssize\": 3,<br>    \"activation_1\": \"relu\",<br>    \"layer_2\": \"Pointwise2D\",<br>    \"layer_2_pwconv2d_filters\": 32,<br>    \"layer_2_pwconv2d_ssize\": 5,<br>    \"activation_2\": \"relu\",<br>    \"pre_GAP_layer_fsize\": 3,<br>    \"pre_GAP_layer_act\": \"tanh\",<br>    \"lr_inicial\": 0.0004759531160455535<br>  }<br>}",
          "{<br>  \"number\": 774,<br>  \"values\": [<br>    0.800000011920929,<br>    21907.0<br>  ],<br>  \"params\": {<br>    \"batchsize\": 96,<br>    \"brightness_factor\": 0.15433360584060798,<br>    \"gaussian_noise_factor\": 0.05199264117455332,<br>    \"translate_factor\": 0.1532681770004428,<br>    \"num_layers\": 2,<br>    \"output_layer\": \"dense\",<br>    \"layer_0\": \"Conv2D\",<br>    \"layer_0_conv2d_filters\": 16,<br>    \"layer_0_conv2d_fsize\": 5,<br>    \"layer_0_conv2d_ssize\": 5,<br>    \"activation_0\": \"linear\",<br>    \"layer_1\": \"Pointwise2D\",<br>    \"layer_1_pwconv2d_filters\": 12,<br>    \"layer_1_pwconv2d_ssize\": 6,<br>    \"activation_1\": \"relu\",<br>    \"output_dropout\": 0.5020272157128165,<br>    \"lr_inicial\": 0.0009465182776333738<br>  }<br>}",
          "{<br>  \"number\": 775,<br>  \"values\": [<br>    0.5799999833106995,<br>    5757.0<br>  ],<br>  \"params\": {<br>    \"batchsize\": 64,<br>    \"brightness_factor\": 0.16466207597947324,<br>    \"gaussian_noise_factor\": 0.041147240415924824,<br>    \"translate_factor\": 0.1687161761959475,<br>    \"num_layers\": 2,<br>    \"output_layer\": \"pooling\",<br>    \"layer_0\": \"Conv2D\",<br>    \"layer_0_conv2d_filters\": 4,<br>    \"layer_0_conv2d_fsize\": 4,<br>    \"layer_0_conv2d_ssize\": 5,<br>    \"activation_0\": \"linear\",<br>    \"layer_1\": \"Pointwise2D\",<br>    \"layer_1_pwconv2d_filters\": 20,<br>    \"layer_1_pwconv2d_ssize\": 4,<br>    \"activation_1\": \"relu\",<br>    \"pre_GAP_layer_fsize\": 5,<br>    \"pre_GAP_layer_act\": \"relu\",<br>    \"lr_inicial\": 0.001174322063598657<br>  }<br>}",
          "{<br>  \"number\": 776,<br>  \"values\": [<br>    0.7200000286102295,<br>    22087.0<br>  ],<br>  \"params\": {<br>    \"batchsize\": 128,<br>    \"brightness_factor\": 0.15863756938402515,<br>    \"gaussian_noise_factor\": 0.04915814942486812,<br>    \"translate_factor\": 0.08951232728477025,<br>    \"num_layers\": 2,<br>    \"output_layer\": \"dense\",<br>    \"layer_0\": \"Conv2D\",<br>    \"layer_0_conv2d_filters\": 4,<br>    \"layer_0_conv2d_fsize\": 5,<br>    \"layer_0_conv2d_ssize\": 5,<br>    \"activation_0\": \"linear\",<br>    \"layer_1\": \"Pointwise2D\",<br>    \"layer_1_pwconv2d_filters\": 28,<br>    \"layer_1_pwconv2d_ssize\": 7,<br>    \"activation_1\": \"relu\",<br>    \"output_dropout\": 0.4359652217183013,<br>    \"lr_inicial\": 0.0008149451228463137<br>  }<br>}",
          "{<br>  \"number\": 777,<br>  \"values\": [<br>    0.6800000071525574,<br>    9845.0<br>  ],<br>  \"params\": {<br>    \"batchsize\": 96,<br>    \"brightness_factor\": 0.15401574234313037,<br>    \"gaussian_noise_factor\": 0.05838403517370721,<br>    \"translate_factor\": 0.17689920436424453,<br>    \"num_layers\": 3,<br>    \"output_layer\": \"pooling\",<br>    \"layer_0\": \"Conv2D\",<br>    \"layer_0_conv2d_filters\": 20,<br>    \"layer_0_conv2d_fsize\": 4,<br>    \"layer_0_conv2d_ssize\": 4,<br>    \"activation_0\": \"linear\",<br>    \"layer_1\": \"Pointwise2D\",<br>    \"layer_1_pwconv2d_filters\": 4,<br>    \"layer_1_pwconv2d_ssize\": 3,<br>    \"activation_1\": \"relu\",<br>    \"layer_2\": \"Conv2D\",<br>    \"layer_2_conv2d_filters\": 32,<br>    \"layer_2_conv2d_fsize\": 3,<br>    \"layer_2_conv2d_ssize\": 3,<br>    \"activation_2\": \"tanh\",<br>    \"pre_GAP_layer_fsize\": 3,<br>    \"pre_GAP_layer_act\": \"relu\",<br>    \"lr_inicial\": 0.0010214541318767788<br>  }<br>}",
          "{<br>  \"number\": 778,<br>  \"values\": [<br>    0.47999998927116394,<br>    1765.0<br>  ],<br>  \"params\": {<br>    \"batchsize\": 64,<br>    \"brightness_factor\": 0.15732192611654053,<br>    \"gaussian_noise_factor\": 0.05590350469856302,<br>    \"translate_factor\": 0.1622145943246626,<br>    \"num_layers\": 2,<br>    \"output_layer\": \"pooling\",<br>    \"layer_0\": \"Pointwise2D\",<br>    \"layer_0_pwconv2d_filters\": 4,<br>    \"layer_0_pwconv2d_ssize\": 6,<br>    \"activation_0\": \"linear\",<br>    \"layer_1\": \"Pointwise2D\",<br>    \"layer_1_pwconv2d_filters\": 16,<br>    \"layer_1_pwconv2d_ssize\": 5,<br>    \"activation_1\": \"relu\",<br>    \"pre_GAP_layer_fsize\": 3,<br>    \"pre_GAP_layer_act\": \"relu\",<br>    \"lr_inicial\": 0.0006732327204027177<br>  }<br>}",
          "{<br>  \"number\": 779,<br>  \"values\": [<br>    0.6600000262260437,<br>    20331.0<br>  ],<br>  \"params\": {<br>    \"batchsize\": 64,<br>    \"brightness_factor\": 0.16323791478888852,<br>    \"gaussian_noise_factor\": 0.04676792730647013,<br>    \"translate_factor\": 0.1710364139674453,<br>    \"num_layers\": 2,<br>    \"output_layer\": \"dense\",<br>    \"layer_0\": \"Conv2D\",<br>    \"layer_0_conv2d_filters\": 4,<br>    \"layer_0_conv2d_fsize\": 4,<br>    \"layer_0_conv2d_ssize\": 5,<br>    \"activation_0\": \"linear\",<br>    \"layer_1\": \"Pointwise2D\",<br>    \"layer_1_pwconv2d_filters\": 24,<br>    \"layer_1_pwconv2d_ssize\": 4,<br>    \"activation_1\": \"tanh\",<br>    \"output_dropout\": 0.4169059963897715,<br>    \"lr_inicial\": 0.0005615260578840516<br>  }<br>}",
          "{<br>  \"number\": 780,<br>  \"values\": [<br>    0.6200000047683716,<br>    973.0<br>  ],<br>  \"params\": {<br>    \"batchsize\": 96,<br>    \"brightness_factor\": 0.15348778018735715,<br>    \"gaussian_noise_factor\": 0.05292608667085936,<br>    \"translate_factor\": 0.17557462015694558,<br>    \"num_layers\": 1,<br>    \"output_layer\": \"pooling\",<br>    \"layer_0\": \"Conv2D\",<br>    \"layer_0_conv2d_filters\": 4,<br>    \"layer_0_conv2d_fsize\": 5,<br>    \"layer_0_conv2d_ssize\": 16,<br>    \"activation_0\": \"linear\",<br>    \"pre_GAP_layer_fsize\": 3,<br>    \"pre_GAP_layer_act\": \"relu\",<br>    \"lr_inicial\": 0.001850650662727182<br>  }<br>}",
          "{<br>  \"number\": 781,<br>  \"values\": [<br>    0.8600000143051147,<br>    41611.0<br>  ],<br>  \"params\": {<br>    \"batchsize\": 128,<br>    \"brightness_factor\": 0.1663422760237995,<br>    \"gaussian_noise_factor\": 0.06110015967955667,<br>    \"translate_factor\": 0.16991562625757753,<br>    \"num_layers\": 3,<br>    \"output_layer\": \"dense\",<br>    \"layer_0\": \"Conv2D\",<br>    \"layer_0_conv2d_filters\": 8,<br>    \"layer_0_conv2d_fsize\": 3,<br>    \"layer_0_conv2d_ssize\": 4,<br>    \"activation_0\": \"linear\",<br>    \"layer_1\": \"Pointwise2D\",<br>    \"layer_1_pwconv2d_filters\": 32,<br>    \"layer_1_pwconv2d_ssize\": 2,<br>    \"activation_1\": \"relu\",<br>    \"layer_2\": \"Conv2D\",<br>    \"layer_2_conv2d_filters\": 24,<br>    \"layer_2_conv2d_fsize\": 5,<br>    \"layer_2_conv2d_ssize\": 4,<br>    \"activation_2\": \"linear\",<br>    \"output_dropout\": 0.3916522573778226,<br>    \"lr_inicial\": 0.0012460540218494358<br>  }<br>}",
          "{<br>  \"number\": 782,<br>  \"values\": [<br>    0.7400000095367432,<br>    1821.0<br>  ],<br>  \"params\": {<br>    \"batchsize\": 64,<br>    \"brightness_factor\": 0.16196442483406545,<br>    \"gaussian_noise_factor\": 0.044039691784828396,<br>    \"translate_factor\": 0.16150338054858437,<br>    \"num_layers\": 2,<br>    \"output_layer\": \"pooling\",<br>    \"layer_0\": \"Conv2D\",<br>    \"layer_0_conv2d_filters\": 4,<br>    \"layer_0_conv2d_fsize\": 4,<br>    \"layer_0_conv2d_ssize\": 5,<br>    \"activation_0\": \"linear\",<br>    \"layer_1\": \"Pointwise2D\",<br>    \"layer_1_pwconv2d_filters\": 8,<br>    \"layer_1_pwconv2d_ssize\": 8,<br>    \"activation_1\": \"relu\",<br>    \"pre_GAP_layer_fsize\": 4,<br>    \"pre_GAP_layer_act\": \"linear\",<br>    \"lr_inicial\": 0.0017285960808536176<br>  }<br>}",
          "{<br>  \"number\": 783,<br>  \"values\": [<br>    0.7799999713897705,<br>    20932.0<br>  ],<br>  \"params\": {<br>    \"batchsize\": 32,<br>    \"brightness_factor\": 0.16243461562899442,<br>    \"gaussian_noise_factor\": 0.043361659528774785,<br>    \"translate_factor\": 0.013587972100912594,<br>    \"num_layers\": 3,<br>    \"output_layer\": \"dense\",<br>    \"layer_0\": \"Pointwise2D\",<br>    \"layer_0_pwconv2d_filters\": 8,<br>    \"layer_0_pwconv2d_ssize\": 3,<br>    \"activation_0\": \"linear\",<br>    \"layer_1\": \"Pointwise2D\",<br>    \"layer_1_pwconv2d_filters\": 12,<br>    \"layer_1_pwconv2d_ssize\": 3,<br>    \"activation_1\": \"tanh\",<br>    \"layer_2\": \"Pointwise2D\",<br>    \"layer_2_pwconv2d_filters\": 24,<br>    \"layer_2_pwconv2d_ssize\": 3,<br>    \"activation_2\": \"tanh\",<br>    \"output_dropout\": 0.5336617662789263,<br>    \"lr_inicial\": 0.0017637786657886893<br>  }<br>}",
          "{<br>  \"number\": 784,<br>  \"values\": [<br>    0.7799999713897705,<br>    19777.0<br>  ],<br>  \"params\": {<br>    \"batchsize\": 32,<br>    \"brightness_factor\": 0.15888862291262995,<br>    \"gaussian_noise_factor\": 0.06582325911389596,<br>    \"translate_factor\": 0.04084026532731198,<br>    \"num_layers\": 1,<br>    \"output_layer\": \"dense\",<br>    \"layer_0\": \"Pointwise2D\",<br>    \"layer_0_pwconv2d_filters\": 20,<br>    \"layer_0_pwconv2d_ssize\": 15,<br>    \"activation_0\": \"linear\",<br>    \"output_dropout\": 0.559693086529467,<br>    \"lr_inicial\": 0.0017056130687806204<br>  }<br>}",
          "{<br>  \"number\": 785,<br>  \"values\": [<br>    0.7400000095367432,<br>    22495.0<br>  ],<br>  \"params\": {<br>    \"batchsize\": 32,<br>    \"brightness_factor\": 0.16104243368076512,<br>    \"gaussian_noise_factor\": 0.060047543674587464,<br>    \"translate_factor\": 0.032428037668058726,<br>    \"num_layers\": 3,<br>    \"output_layer\": \"dense\",<br>    \"layer_0\": \"Pointwise2D\",<br>    \"layer_0_pwconv2d_filters\": 24,<br>    \"layer_0_pwconv2d_ssize\": 2,<br>    \"activation_0\": \"linear\",<br>    \"layer_1\": \"Pointwise2D\",<br>    \"layer_1_pwconv2d_filters\": 8,<br>    \"layer_1_pwconv2d_ssize\": 3,<br>    \"activation_1\": \"relu\",<br>    \"layer_2\": \"Conv2D\",<br>    \"layer_2_conv2d_filters\": 12,<br>    \"layer_2_conv2d_fsize\": 4,<br>    \"layer_2_conv2d_ssize\": 5,<br>    \"activation_2\": \"relu\",<br>    \"output_dropout\": 0.4082435029874977,<br>    \"lr_inicial\": 0.0005088787688223959<br>  }<br>}",
          "{<br>  \"number\": 786,<br>  \"values\": [<br>    0.8199999928474426,<br>    21655.0<br>  ],<br>  \"params\": {<br>    \"batchsize\": 32,<br>    \"brightness_factor\": 0.16828221681760605,<br>    \"gaussian_noise_factor\": 0.049681599226610994,<br>    \"translate_factor\": 0.1572567994366354,<br>    \"num_layers\": 3,<br>    \"output_layer\": \"dense\",<br>    \"layer_0\": \"Conv2D\",<br>    \"layer_0_conv2d_filters\": 4,<br>    \"layer_0_conv2d_fsize\": 5,<br>    \"layer_0_conv2d_ssize\": 4,<br>    \"activation_0\": \"linear\",<br>    \"layer_1\": \"Pointwise2D\",<br>    \"layer_1_pwconv2d_filters\": 12,<br>    \"layer_1_pwconv2d_ssize\": 3,<br>    \"activation_1\": \"relu\",<br>    \"layer_2\": \"Pointwise2D\",<br>    \"layer_2_pwconv2d_filters\": 28,<br>    \"layer_2_pwconv2d_ssize\": 2,<br>    \"activation_2\": \"linear\",<br>    \"output_dropout\": 0.333347016660451,<br>    \"lr_inicial\": 0.0018316494464723446<br>  }<br>}",
          "{<br>  \"number\": 787,<br>  \"values\": [<br>    0.7799999713897705,<br>    18354.0<br>  ],<br>  \"params\": {<br>    \"batchsize\": 32,<br>    \"brightness_factor\": 0.1655796517570527,<br>    \"gaussian_noise_factor\": 0.053783411974501594,<br>    \"translate_factor\": 0.045861124812366906,<br>    \"num_layers\": 1,<br>    \"output_layer\": \"dense\",<br>    \"layer_0\": \"Conv2D\",<br>    \"layer_0_conv2d_filters\": 4,<br>    \"layer_0_conv2d_fsize\": 5,<br>    \"layer_0_conv2d_ssize\": 13,<br>    \"activation_0\": \"linear\",<br>    \"output_dropout\": 0.5259132865544891,<br>    \"lr_inicial\": 0.0017105450117944542<br>  }<br>}",
          "{<br>  \"number\": 788,<br>  \"values\": [<br>    0.8199999928474426,<br>    22123.0<br>  ],<br>  \"params\": {<br>    \"batchsize\": 32,<br>    \"brightness_factor\": 0.15334124064512064,<br>    \"gaussian_noise_factor\": 0.06277845777595423,<br>    \"translate_factor\": 0.166305567248851,<br>    \"num_layers\": 3,<br>    \"output_layer\": \"dense\",<br>    \"layer_0\": \"Conv2D\",<br>    \"layer_0_conv2d_filters\": 4,<br>    \"layer_0_conv2d_fsize\": 5,<br>    \"layer_0_conv2d_ssize\": 4,<br>    \"activation_0\": \"linear\",<br>    \"layer_1\": \"Pointwise2D\",<br>    \"layer_1_pwconv2d_filters\": 16,<br>    \"layer_1_pwconv2d_ssize\": 3,<br>    \"activation_1\": \"relu\",<br>    \"layer_2\": \"Conv2D\",<br>    \"layer_2_conv2d_filters\": 8,<br>    \"layer_2_conv2d_fsize\": 3,<br>    \"layer_2_conv2d_ssize\": 3,<br>    \"activation_2\": \"tanh\",<br>    \"output_dropout\": 0.4763769091543525,<br>    \"lr_inicial\": 0.0018118379242568344<br>  }<br>}",
          "{<br>  \"number\": 789,<br>  \"values\": [<br>    0.7799999713897705,<br>    17334.0<br>  ],<br>  \"params\": {<br>    \"batchsize\": 32,<br>    \"brightness_factor\": 0.16976199056029329,<br>    \"gaussian_noise_factor\": 0.03987397001413196,<br>    \"translate_factor\": 0.02210288540130545,<br>    \"num_layers\": 2,<br>    \"output_layer\": \"dense\",<br>    \"layer_0\": \"Conv2D\",<br>    \"layer_0_conv2d_filters\": 4,<br>    \"layer_0_conv2d_fsize\": 5,<br>    \"layer_0_conv2d_ssize\": 5,<br>    \"activation_0\": \"linear\",<br>    \"layer_1\": \"Pointwise2D\",<br>    \"layer_1_pwconv2d_filters\": 12,<br>    \"layer_1_pwconv2d_ssize\": 2,<br>    \"activation_1\": \"relu\",<br>    \"output_dropout\": 0.4960052750707116,<br>    \"lr_inicial\": 0.0017302313964731154<br>  }<br>}",
          "{<br>  \"number\": 790,<br>  \"values\": [<br>    0.7799999713897705,<br>    20463.0<br>  ],<br>  \"params\": {<br>    \"batchsize\": 32,<br>    \"brightness_factor\": 0.15765928592017334,<br>    \"gaussian_noise_factor\": 0.0458328956805234,<br>    \"translate_factor\": 0.05672846525014635,<br>    \"num_layers\": 1,<br>    \"output_layer\": \"dense\",<br>    \"layer_0\": \"Pointwise2D\",<br>    \"layer_0_pwconv2d_filters\": 32,<br>    \"layer_0_pwconv2d_ssize\": 13,<br>    \"activation_0\": \"linear\",<br>    \"output_dropout\": 0.5060011864596612,<br>    \"lr_inicial\": 0.0016356672162860099<br>  }<br>}",
          "{<br>  \"number\": 791,<br>  \"values\": [<br>    0.7599999904632568,<br>    20144.0<br>  ],<br>  \"params\": {<br>    \"batchsize\": 32,<br>    \"brightness_factor\": 0.16298074248240682,<br>    \"gaussian_noise_factor\": 0.05655134812804089,<br>    \"translate_factor\": 0.1740314294145169,<br>    \"num_layers\": 3,<br>    \"output_layer\": \"dense\",<br>    \"layer_0\": \"Conv2D\",<br>    \"layer_0_conv2d_filters\": 4,<br>    \"layer_0_conv2d_fsize\": 3,<br>    \"layer_0_conv2d_ssize\": 4,<br>    \"activation_0\": \"linear\",<br>    \"layer_1\": \"Pointwise2D\",<br>    \"layer_1_pwconv2d_filters\": 8,<br>    \"layer_1_pwconv2d_ssize\": 3,<br>    \"activation_1\": \"relu\",<br>    \"layer_2\": \"Conv2D\",<br>    \"layer_2_conv2d_filters\": 4,<br>    \"layer_2_conv2d_fsize\": 3,<br>    \"layer_2_conv2d_ssize\": 2,<br>    \"activation_2\": \"linear\",<br>    \"output_dropout\": 0.46897211540595823,<br>    \"lr_inicial\": 0.0007412049155097925<br>  }<br>}",
          "{<br>  \"number\": 792,<br>  \"values\": [<br>    0.7400000095367432,<br>    19879.0<br>  ],<br>  \"params\": {<br>    \"batchsize\": 32,<br>    \"brightness_factor\": 0.15339004818979726,<br>    \"gaussian_noise_factor\": 0.05162480858755465,<br>    \"translate_factor\": 0.162531068745618,<br>    \"num_layers\": 2,<br>    \"output_layer\": \"dense\",<br>    \"layer_0\": \"Conv2D\",<br>    \"layer_0_conv2d_filters\": 4,<br>    \"layer_0_conv2d_fsize\": 5,<br>    \"layer_0_conv2d_ssize\": 5,<br>    \"activation_0\": \"tanh\",<br>    \"layer_1\": \"Pointwise2D\",<br>    \"layer_1_pwconv2d_filters\": 4,<br>    \"layer_1_pwconv2d_ssize\": 4,<br>    \"activation_1\": \"linear\",<br>    \"output_dropout\": 0.547379925267733,<br>    \"lr_inicial\": 0.001789319767163782<br>  }<br>}",
          "{<br>  \"number\": 793,<br>  \"values\": [<br>    0.7400000095367432,<br>    21067.0<br>  ],<br>  \"params\": {<br>    \"batchsize\": 32,<br>    \"brightness_factor\": 0.1596627709010707,<br>    \"gaussian_noise_factor\": 0.04934866280623162,<br>    \"translate_factor\": 0.14898693586300898,<br>    \"num_layers\": 2,<br>    \"output_layer\": \"dense\",<br>    \"layer_0\": \"Conv2D\",<br>    \"layer_0_conv2d_filters\": 4,<br>    \"layer_0_conv2d_fsize\": 5,<br>    \"layer_0_conv2d_ssize\": 5,<br>    \"activation_0\": \"linear\",<br>    \"layer_1\": \"Pointwise2D\",<br>    \"layer_1_pwconv2d_filters\": 16,<br>    \"layer_1_pwconv2d_ssize\": 6,<br>    \"activation_1\": \"tanh\",<br>    \"output_dropout\": 0.448813980253019,<br>    \"lr_inicial\": 0.001851956384049342<br>  }<br>}",
          "{<br>  \"number\": 794,<br>  \"values\": [<br>    0.8199999928474426,<br>    21955.0<br>  ],<br>  \"params\": {<br>    \"batchsize\": 32,<br>    \"brightness_factor\": 0.1715814392048245,<br>    \"gaussian_noise_factor\": 0.05856306321434375,<br>    \"translate_factor\": 0.08142946678024919,<br>    \"num_layers\": 2,<br>    \"output_layer\": \"dense\",<br>    \"layer_0\": \"Conv2D\",<br>    \"layer_0_conv2d_filters\": 4,<br>    \"layer_0_conv2d_fsize\": 5,<br>    \"layer_0_conv2d_ssize\": 5,<br>    \"activation_0\": \"tanh\",<br>    \"layer_1\": \"Pointwise2D\",<br>    \"layer_1_pwconv2d_filters\": 20,<br>    \"layer_1_pwconv2d_ssize\": 8,<br>    \"activation_1\": \"relu\",<br>    \"output_dropout\": 0.4843646031781619,<br>    \"lr_inicial\": 0.0019150870456383488<br>  }<br>}",
          "{<br>  \"number\": 795,<br>  \"values\": [<br>    0.7200000286102295,<br>    2965.0<br>  ],<br>  \"params\": {<br>    \"batchsize\": 32,<br>    \"brightness_factor\": 0.15711028990942014,<br>    \"gaussian_noise_factor\": 0.06360470975985286,<br>    \"translate_factor\": 0.160557609644446,<br>    \"num_layers\": 3,<br>    \"output_layer\": \"pooling\",<br>    \"layer_0\": \"Conv2D\",<br>    \"layer_0_conv2d_filters\": 4,<br>    \"layer_0_conv2d_fsize\": 3,<br>    \"layer_0_conv2d_ssize\": 4,<br>    \"activation_0\": \"tanh\",<br>    \"layer_1\": \"Pointwise2D\",<br>    \"layer_1_pwconv2d_filters\": 12,<br>    \"layer_1_pwconv2d_ssize\": 2,<br>    \"activation_1\": \"relu\",<br>    \"layer_2\": \"Pointwise2D\",<br>    \"layer_2_pwconv2d_filters\": 12,<br>    \"layer_2_pwconv2d_ssize\": 4,<br>    \"activation_2\": \"relu\",<br>    \"pre_GAP_layer_fsize\": 4,<br>    \"pre_GAP_layer_act\": \"linear\",<br>    \"lr_inicial\": 0.0017490097142627407<br>  }<br>}",
          "{<br>  \"number\": 796,<br>  \"values\": [<br>    0.47999998927116394,<br>    2661.0<br>  ],<br>  \"params\": {<br>    \"batchsize\": 32,<br>    \"brightness_factor\": 0.15198302580898407,<br>    \"gaussian_noise_factor\": 0.04239505189012475,<br>    \"translate_factor\": 0.05168815637862138,<br>    \"num_layers\": 2,<br>    \"output_layer\": \"pooling\",<br>    \"layer_0\": \"Pointwise2D\",<br>    \"layer_0_pwconv2d_filters\": 16,<br>    \"layer_0_pwconv2d_ssize\": 4,<br>    \"activation_0\": \"linear\",<br>    \"layer_1\": \"Pointwise2D\",<br>    \"layer_1_pwconv2d_filters\": 8,<br>    \"layer_1_pwconv2d_ssize\": 5,<br>    \"activation_1\": \"relu\",<br>    \"pre_GAP_layer_fsize\": 5,<br>    \"pre_GAP_layer_act\": \"tanh\",<br>    \"lr_inicial\": 0.001653226083737508<br>  }<br>}",
          "{<br>  \"number\": 797,<br>  \"values\": [<br>    0.699999988079071,<br>    17234.0<br>  ],<br>  \"params\": {<br>    \"batchsize\": 32,<br>    \"brightness_factor\": 0.1644453848699117,<br>    \"gaussian_noise_factor\": 0.054450827026200764,<br>    \"translate_factor\": 0.16982528886145382,<br>    \"num_layers\": 1,<br>    \"output_layer\": \"dense\",<br>    \"layer_0\": \"Conv2D\",<br>    \"layer_0_conv2d_filters\": 4,<br>    \"layer_0_conv2d_fsize\": 5,<br>    \"layer_0_conv2d_ssize\": 10,<br>    \"activation_0\": \"tanh\",<br>    \"output_dropout\": 0.5388059205502795,<br>    \"lr_inicial\": 0.001781065671818163<br>  }<br>}",
          "{<br>  \"number\": 798,<br>  \"values\": [<br>    0.6399999856948853,<br>    3461.0<br>  ],<br>  \"params\": {<br>    \"batchsize\": 32,<br>    \"brightness_factor\": 0.16008672788094688,<br>    \"gaussian_noise_factor\": 0.1418330132349009,<br>    \"translate_factor\": 0.0766383814323583,<br>    \"num_layers\": 2,<br>    \"output_layer\": \"pooling\",<br>    \"layer_0\": \"Conv2D\",<br>    \"layer_0_conv2d_filters\": 4,<br>    \"layer_0_conv2d_fsize\": 5,<br>    \"layer_0_conv2d_ssize\": 5,<br>    \"activation_0\": \"tanh\",<br>    \"layer_1\": \"Pointwise2D\",<br>    \"layer_1_pwconv2d_filters\": 16,<br>    \"layer_1_pwconv2d_ssize\": 8,<br>    \"activation_1\": \"relu\",<br>    \"pre_GAP_layer_fsize\": 4,<br>    \"pre_GAP_layer_act\": \"linear\",<br>    \"lr_inicial\": 0.00031354869484384986<br>  }<br>}",
          "{<br>  \"number\": 799,<br>  \"values\": [<br>    0.8199999928474426,<br>    20219.0<br>  ],<br>  \"params\": {<br>    \"batchsize\": 32,<br>    \"brightness_factor\": 0.155412149070823,<br>    \"gaussian_noise_factor\": 0.04793704129341838,<br>    \"translate_factor\": 0.17506137077874956,<br>    \"num_layers\": 2,<br>    \"output_layer\": \"dense\",<br>    \"layer_0\": \"Conv2D\",<br>    \"layer_0_conv2d_filters\": 4,<br>    \"layer_0_conv2d_fsize\": 4,<br>    \"layer_0_conv2d_ssize\": 5,<br>    \"activation_0\": \"linear\",<br>    \"layer_1\": \"Pointwise2D\",<br>    \"layer_1_pwconv2d_filters\": 20,<br>    \"layer_1_pwconv2d_ssize\": 4,<br>    \"activation_1\": \"relu\",<br>    \"output_dropout\": 0.3982019807393252,<br>    \"lr_inicial\": 0.0017107816087214276<br>  }<br>}"
         ],
         "type": "scatter",
         "x": [
          0.7200000286102295,
          0.7799999713897705,
          0.46000000834465027,
          0.6800000071525574,
          0.47999998927116394,
          0.7200000286102295,
          0.6200000047683716,
          0.47999998927116394,
          0.6600000262260437,
          0.8199999928474426,
          0.6399999856948853,
          0.6399999856948853,
          0.6200000047683716,
          0.7799999713897705,
          0.6600000262260437,
          0.7200000286102295,
          0.6800000071525574,
          0.6200000047683716,
          0.5799999833106995,
          0.7599999904632568,
          0.6000000238418579,
          0.5600000023841858,
          0.5799999833106995,
          0.6200000047683716,
          0.6200000047683716,
          0.7799999713897705,
          0.699999988079071,
          0.47999998927116394,
          0.6200000047683716,
          0.7400000095367432,
          0.7200000286102295,
          0.7200000286102295,
          0.7599999904632568,
          0.7599999904632568,
          0.7400000095367432,
          0.6000000238418579,
          0.7400000095367432,
          0.6600000262260437,
          0.6800000071525574,
          0.6800000071525574,
          0.6399999856948853,
          0.6800000071525574,
          0.699999988079071,
          0.5,
          0.46000000834465027,
          0.8199999928474426,
          0.4000000059604645,
          0.5799999833106995,
          0.7200000286102295,
          0.6399999856948853,
          0.5199999809265137,
          0.7599999904632568,
          0.6800000071525574,
          0.6600000262260437,
          0.7400000095367432,
          0.5400000214576721,
          0.7799999713897705,
          0.7799999713897705,
          0.7799999713897705,
          0.699999988079071,
          0.7400000095367432,
          0.5,
          0.5600000023841858,
          0.6600000262260437,
          0.6399999856948853,
          0.6399999856948853,
          0.6399999856948853,
          0.699999988079071,
          0.47999998927116394,
          0.6600000262260437,
          0.20000000298023224,
          0.8199999928474426,
          0.6800000071525574,
          0.699999988079071,
          0.6000000238418579,
          0.5199999809265137,
          0.7400000095367432,
          0.46000000834465027,
          0.6800000071525574,
          0.7400000095367432,
          0.47999998927116394,
          0.7200000286102295,
          0.6200000047683716,
          0.6200000047683716,
          0.6800000071525574,
          0.6200000047683716,
          0.20000000298023224,
          0.7400000095367432,
          0.5799999833106995,
          0.6000000238418579,
          0.47999998927116394,
          0.7200000286102295,
          0.699999988079071,
          0.6800000071525574,
          0.6600000262260437,
          0.699999988079071,
          0.699999988079071,
          0.7400000095367432,
          0.800000011920929,
          0.699999988079071,
          0.7599999904632568,
          0.7400000095367432,
          0.7400000095367432,
          0.8199999928474426,
          0.7799999713897705,
          0.7400000095367432,
          0.6399999856948853,
          0.6800000071525574,
          0.800000011920929,
          0.6800000071525574,
          0.41999998688697815,
          0.7599999904632568,
          0.7799999713897705,
          0.7400000095367432,
          0.699999988079071,
          0.6800000071525574,
          0.699999988079071,
          0.699999988079071,
          0.6800000071525574,
          0.6800000071525574,
          0.699999988079071,
          0.699999988079071,
          0.699999988079071,
          0.6600000262260437,
          0.6800000071525574,
          0.8399999737739563,
          0.8399999737739563,
          0.6600000262260437,
          0.6600000262260437,
          0.5199999809265137,
          0.5799999833106995,
          0.6200000047683716,
          0.6200000047683716,
          0.6800000071525574,
          0.5199999809265137,
          0.6000000238418579,
          0.5199999809265137,
          0.6200000047683716,
          0.6399999856948853,
          0.5600000023841858,
          0.5600000023841858,
          0.4399999976158142,
          0.6600000262260437,
          0.4000000059604645,
          0.3799999952316284,
          0.47999998927116394,
          0.5199999809265137,
          0.7200000286102295,
          0.6000000238418579,
          0.699999988079071,
          0.7400000095367432,
          0.6200000047683716,
          0.5400000214576721,
          0.5799999833106995,
          0.6000000238418579,
          0.7200000286102295,
          0.5600000023841858,
          0.6000000238418579,
          0.7599999904632568,
          0.6000000238418579,
          0.25999999046325684,
          0.6399999856948853,
          0.7200000286102295,
          0.6600000262260437,
          0.7200000286102295,
          0.699999988079071,
          0.5600000023841858,
          0.7799999713897705,
          0.7400000095367432,
          0.5799999833106995,
          0.7599999904632568,
          0.6000000238418579,
          0.5799999833106995,
          0.7400000095367432,
          0.5600000023841858,
          0.699999988079071,
          0.8199999928474426,
          0.699999988079071,
          0.699999988079071,
          0.6800000071525574,
          0.5199999809265137,
          0.5799999833106995,
          0.7200000286102295,
          0.6800000071525574,
          0.5799999833106995,
          0.8600000143051147,
          0.800000011920929,
          0.7799999713897705,
          0.8199999928474426,
          0.8799999952316284,
          0.7799999713897705,
          0.8399999737739563,
          0.8799999952316284,
          0.7799999713897705,
          0.7799999713897705,
          0.8999999761581421,
          0.7799999713897705,
          0.7599999904632568,
          0.7200000286102295,
          0.7799999713897705,
          0.9200000166893005,
          0.8399999737739563,
          0.9200000166893005,
          0.8199999928474426,
          0.699999988079071,
          0.8399999737739563,
          0.7799999713897705,
          0.8199999928474426,
          0.9399999976158142,
          0.8600000143051147,
          0.7200000286102295,
          0.7599999904632568,
          0.8399999737739563,
          0.7799999713897705,
          0.7799999713897705,
          0.7799999713897705,
          0.7400000095367432,
          0.8399999737739563,
          0.8999999761581421,
          0.8399999737739563,
          0.7599999904632568,
          0.699999988079071,
          0.7599999904632568,
          0.6000000238418579,
          0.7799999713897705,
          0.699999988079071,
          0.8799999952316284,
          0.6800000071525574,
          0.7799999713897705,
          0.7400000095367432,
          0.7400000095367432,
          0.7799999713897705,
          0.6800000071525574,
          0.8199999928474426,
          0.800000011920929,
          0.7400000095367432,
          0.800000011920929,
          0.7200000286102295,
          0.800000011920929,
          0.7200000286102295,
          0.7799999713897705,
          0.8199999928474426,
          0.7599999904632568,
          0.7599999904632568,
          0.7599999904632568,
          0.7799999713897705,
          0.699999988079071,
          0.8600000143051147,
          0.800000011920929,
          0.7200000286102295,
          0.699999988079071,
          0.8600000143051147,
          0.800000011920929,
          0.8600000143051147,
          0.699999988079071,
          0.7200000286102295,
          0.9200000166893005,
          0.8199999928474426,
          0.800000011920929,
          0.9200000166893005,
          0.7599999904632568,
          0.7400000095367432,
          0.800000011920929,
          0.7599999904632568,
          0.6600000262260437,
          0.7799999713897705,
          0.7799999713897705,
          0.800000011920929,
          0.7599999904632568,
          0.7599999904632568,
          0.8799999952316284,
          0.7799999713897705,
          0.7799999713897705,
          0.7599999904632568,
          0.7400000095367432,
          0.7400000095367432,
          0.47999998927116394,
          0.8399999737739563,
          0.6399999856948853,
          0.5,
          0.7400000095367432,
          0.7400000095367432,
          0.5799999833106995,
          0.7400000095367432,
          0.7599999904632568,
          0.5199999809265137,
          0.7599999904632568,
          0.7200000286102295,
          0.7799999713897705,
          0.7599999904632568,
          0.7799999713897705,
          0.7799999713897705,
          0.699999988079071,
          0.699999988079071,
          0.5400000214576721,
          0.8600000143051147,
          0.7599999904632568,
          0.6200000047683716,
          0.8399999737739563,
          0.800000011920929,
          0.7200000286102295,
          0.800000011920929,
          0.6600000262260437,
          0.8600000143051147,
          0.5,
          0.6800000071525574,
          0.699999988079071,
          0.8199999928474426,
          0.7599999904632568,
          0.7400000095367432,
          0.7400000095367432,
          0.7599999904632568,
          0.699999988079071,
          0.7599999904632568,
          0.7799999713897705,
          0.699999988079071,
          0.7799999713897705,
          0.7799999713897705,
          0.8399999737739563,
          0.7200000286102295,
          0.6800000071525574,
          0.699999988079071,
          0.7200000286102295,
          0.7799999713897705,
          0.7599999904632568,
          0.7599999904632568,
          0.800000011920929,
          0.7799999713897705,
          0.7599999904632568,
          0.7599999904632568,
          0.8399999737739563,
          0.7200000286102295,
          0.7400000095367432,
          0.7599999904632568,
          0.7400000095367432,
          0.7200000286102295,
          0.800000011920929,
          0.7400000095367432,
          0.6200000047683716,
          0.8399999737739563,
          0.7599999904632568,
          0.800000011920929,
          0.7200000286102295,
          0.7400000095367432,
          0.7799999713897705,
          0.7400000095367432,
          0.6600000262260437,
          0.7200000286102295,
          0.8199999928474426,
          0.6399999856948853,
          0.7400000095367432,
          0.5,
          0.800000011920929,
          0.7400000095367432,
          0.5600000023841858,
          0.8399999737739563,
          0.7799999713897705,
          0.47999998927116394,
          0.7599999904632568,
          0.9399999976158142,
          0.5400000214576721,
          0.5799999833106995,
          0.800000011920929,
          0.7400000095367432,
          0.7799999713897705,
          0.47999998927116394,
          0.699999988079071,
          0.7400000095367432,
          0.5600000023841858,
          0.5600000023841858,
          0.5799999833106995,
          0.5600000023841858,
          0.7799999713897705,
          0.7599999904632568,
          0.5600000023841858,
          0.8600000143051147,
          0.7200000286102295,
          0.6000000238418579,
          0.5799999833106995,
          0.6600000262260437,
          0.699999988079071,
          0.6600000262260437,
          0.7200000286102295,
          0.7400000095367432,
          0.699999988079071,
          0.6200000047683716,
          0.5799999833106995,
          0.6800000071525574,
          0.6200000047683716,
          0.6600000262260437,
          0.7799999713897705,
          0.6600000262260437,
          0.699999988079071,
          0.5199999809265137,
          0.6399999856948853,
          0.6399999856948853,
          0.800000011920929,
          0.5799999833106995,
          0.6000000238418579,
          0.7599999904632568,
          0.5799999833106995,
          0.41999998688697815,
          0.5400000214576721,
          0.8999999761581421,
          0.7599999904632568,
          0.9200000166893005,
          0.800000011920929,
          0.36000001430511475,
          0.8399999737739563,
          0.8399999737739563,
          0.800000011920929,
          0.8399999737739563,
          0.8399999737739563,
          0.8799999952316284,
          0.800000011920929,
          0.7799999713897705,
          0.7599999904632568,
          0.8199999928474426,
          0.8199999928474426,
          0.7799999713897705,
          0.8600000143051147,
          0.7400000095367432,
          0.8399999737739563,
          0.8199999928474426,
          0.8600000143051147,
          0.8399999737739563,
          0.8999999761581421,
          0.6000000238418579,
          0.6800000071525574,
          0.6600000262260437,
          0.6399999856948853,
          0.7400000095367432,
          0.5799999833106995,
          0.6200000047683716,
          0.6000000238418579,
          0.4000000059604645,
          0.5600000023841858,
          0.7799999713897705,
          0.6399999856948853,
          0.7200000286102295,
          0.6600000262260437,
          0.4000000059604645,
          0.699999988079071,
          0.800000011920929,
          0.5,
          0.6800000071525574,
          0.8199999928474426,
          0.4399999976158142,
          0.699999988079071,
          0.7200000286102295,
          0.7400000095367432,
          0.4000000059604645,
          0.800000011920929,
          0.6600000262260437,
          0.6600000262260437,
          0.7400000095367432,
          0.6399999856948853,
          0.8600000143051147,
          0.7400000095367432,
          0.7400000095367432,
          0.6399999856948853,
          0.7400000095367432,
          0.8600000143051147,
          0.5799999833106995,
          0.7599999904632568,
          0.6399999856948853,
          0.7200000286102295,
          0.7799999713897705,
          0.25999999046325684,
          0.7799999713897705,
          0.699999988079071,
          0.699999988079071,
          0.6200000047683716,
          0.47999998927116394,
          0.6000000238418579,
          0.7400000095367432,
          0.6800000071525574,
          0.8199999928474426,
          0.800000011920929,
          0.5400000214576721,
          0.8600000143051147,
          0.47999998927116394,
          0.7200000286102295,
          0.800000011920929,
          0.5199999809265137,
          0.8600000143051147,
          0.6200000047683716,
          0.7400000095367432,
          0.800000011920929,
          0.7400000095367432,
          0.6399999856948853,
          0.6600000262260437,
          0.8799999952316284,
          0.5799999833106995,
          0.47999998927116394,
          0.8600000143051147,
          0.5199999809265137,
          0.7599999904632568,
          0.4000000059604645,
          0.6600000262260437,
          0.699999988079071,
          0.8999999761581421,
          0.699999988079071,
          0.6000000238418579,
          0.8999999761581421,
          0.6800000071525574,
          0.8399999737739563,
          0.800000011920929,
          0.6600000262260437,
          0.800000011920929,
          0.6200000047683716,
          0.6000000238418579,
          0.800000011920929,
          0.5400000214576721,
          0.7400000095367432,
          0.6600000262260437,
          0.7599999904632568,
          0.6800000071525574,
          0.5799999833106995,
          0.7599999904632568,
          0.41999998688697815,
          0.699999988079071,
          0.7200000286102295,
          0.5600000023841858,
          0.800000011920929,
          0.6600000262260437,
          0.7799999713897705,
          0.6200000047683716,
          0.8799999952316284,
          0.6800000071525574,
          0.7400000095367432,
          0.8399999737739563,
          0.6399999856948853,
          0.7200000286102295,
          0.6800000071525574,
          0.6000000238418579,
          0.8399999737739563,
          0.6399999856948853,
          0.6600000262260437,
          0.6600000262260437,
          0.6800000071525574,
          0.800000011920929,
          0.6399999856948853,
          0.7599999904632568,
          0.47999998927116394,
          0.8199999928474426,
          0.6800000071525574,
          0.5600000023841858,
          0.7200000286102295,
          0.699999988079071,
          0.7400000095367432,
          0.6399999856948853,
          0.800000011920929,
          0.699999988079071,
          0.6600000262260437,
          0.7400000095367432,
          0.6800000071525574,
          0.7400000095367432,
          0.46000000834465027,
          0.6399999856948853,
          0.7400000095367432,
          0.7400000095367432,
          0.7799999713897705,
          0.6200000047683716,
          0.7599999904632568,
          0.7400000095367432,
          0.699999988079071,
          0.800000011920929,
          0.3799999952316284,
          0.800000011920929,
          0.41999998688697815,
          0.8199999928474426,
          0.7400000095367432,
          0.8199999928474426,
          0.699999988079071,
          0.7400000095367432,
          0.7400000095367432,
          0.7799999713897705,
          0.7200000286102295,
          0.20000000298023224,
          0.7799999713897705,
          0.6399999856948853,
          0.6000000238418579,
          0.8199999928474426,
          0.5799999833106995,
          0.7400000095367432,
          0.7599999904632568,
          0.8999999761581421,
          0.7200000286102295,
          0.5,
          0.7200000286102295,
          0.20000000298023224,
          0.8799999952316284,
          0.6000000238418579,
          0.8199999928474426,
          0.7400000095367432,
          0.20000000298023224,
          0.7599999904632568,
          0.5,
          0.8199999928474426,
          0.8199999928474426,
          0.7799999713897705,
          0.7400000095367432,
          0.699999988079071,
          0.8799999952316284,
          0.5199999809265137,
          0.5799999833106995,
          0.7599999904632568,
          0.6600000262260437,
          0.7799999713897705,
          0.699999988079071,
          0.7200000286102295,
          0.699999988079071,
          0.800000011920929,
          0.7200000286102295,
          0.800000011920929,
          0.699999988079071,
          0.7599999904632568,
          0.7200000286102295,
          0.7799999713897705,
          0.7599999904632568,
          0.6200000047683716,
          0.699999988079071,
          0.46000000834465027,
          0.7599999904632568,
          0.800000011920929,
          0.8199999928474426,
          0.46000000834465027,
          0.6600000262260437,
          0.8199999928474426,
          0.7200000286102295,
          0.7799999713897705,
          0.5799999833106995,
          0.800000011920929,
          0.47999998927116394,
          0.6800000071525574,
          0.7799999713897705,
          0.2199999988079071,
          0.7400000095367432,
          0.7599999904632568,
          0.7200000286102295,
          0.3799999952316284,
          0.7200000286102295,
          0.47999998927116394,
          0.5799999833106995,
          0.7400000095367432,
          0.5,
          0.8799999952316284,
          0.7200000286102295,
          0.800000011920929,
          0.6200000047683716,
          0.7400000095367432,
          0.2199999988079071,
          0.699999988079071,
          0.8199999928474426,
          0.5,
          0.800000011920929,
          0.6600000262260437,
          0.7599999904632568,
          0.699999988079071,
          0.6800000071525574,
          0.7599999904632568,
          0.699999988079071,
          0.699999988079071,
          0.5799999833106995,
          0.800000011920929,
          0.47999998927116394,
          0.800000011920929,
          0.20000000298023224,
          0.6399999856948853,
          0.5600000023841858,
          0.6000000238418579,
          0.7400000095367432,
          0.6399999856948853,
          0.800000011920929,
          0.20000000298023224,
          0.7599999904632568,
          0.6800000071525574,
          0.8600000143051147,
          0.5,
          0.7400000095367432,
          0.7200000286102295,
          0.5199999809265137,
          0.9200000166893005,
          0.699999988079071,
          0.699999988079071,
          0.6600000262260437,
          0.8600000143051147,
          0.6800000071525574,
          0.5400000214576721,
          0.7599999904632568,
          0.6600000262260437,
          0.7200000286102295,
          0.7400000095367432,
          0.7799999713897705,
          0.7599999904632568,
          0.6800000071525574,
          0.8199999928474426,
          0.6800000071525574,
          0.699999988079071,
          0.5799999833106995,
          0.7799999713897705,
          0.6399999856948853,
          0.7400000095367432,
          0.6600000262260437,
          0.6600000262260437,
          0.8199999928474426,
          0.699999988079071,
          0.8600000143051147,
          0.6800000071525574,
          0.7400000095367432,
          0.7200000286102295,
          0.7799999713897705,
          0.800000011920929,
          0.6000000238418579,
          0.6200000047683716,
          0.8199999928474426,
          0.5799999833106995,
          0.7599999904632568,
          0.6000000238418579,
          0.7799999713897705,
          0.6000000238418579,
          0.7200000286102295,
          0.5799999833106995,
          0.6399999856948853,
          0.7799999713897705,
          0.6399999856948853,
          0.7599999904632568,
          0.6600000262260437,
          0.8199999928474426,
          0.6399999856948853,
          0.7599999904632568,
          0.5799999833106995,
          0.5799999833106995,
          0.7599999904632568,
          0.6600000262260437,
          0.8199999928474426,
          0.6399999856948853,
          0.7799999713897705,
          0.7799999713897705,
          0.6800000071525574,
          0.6399999856948853,
          0.5,
          0.8399999737739563,
          0.6200000047683716,
          0.800000011920929,
          0.6600000262260437,
          0.8199999928474426,
          0.6399999856948853,
          0.7400000095367432,
          0.7799999713897705,
          0.6000000238418579,
          0.7799999713897705,
          0.5400000214576721,
          0.8399999737739563,
          0.5799999833106995,
          0.7200000286102295,
          0.4000000059604645,
          0.699999988079071,
          0.7799999713897705,
          0.6399999856948853,
          0.7200000286102295,
          0.6399999856948853,
          0.6000000238418579,
          0.5799999833106995,
          0.800000011920929,
          0.5799999833106995,
          0.7200000286102295,
          0.6800000071525574,
          0.47999998927116394,
          0.6600000262260437,
          0.6200000047683716,
          0.8600000143051147,
          0.7400000095367432,
          0.7799999713897705,
          0.7799999713897705,
          0.7400000095367432,
          0.8199999928474426,
          0.7799999713897705,
          0.8199999928474426,
          0.7799999713897705,
          0.7799999713897705,
          0.7599999904632568,
          0.7400000095367432,
          0.7400000095367432,
          0.8199999928474426,
          0.7200000286102295,
          0.47999998927116394,
          0.699999988079071,
          0.6399999856948853,
          0.8199999928474426
         ],
         "y": [
          41791,
          21935,
          31493,
          19801,
          4037,
          20223,
          18197,
          7093,
          10181,
          24635,
          4677,
          4677,
          2925,
          20187,
          8045,
          20187,
          6437,
          4829,
          6437,
          21899,
          1613,
          1613,
          9653,
          4829,
          1613,
          22807,
          6437,
          6053,
          22859,
          29403,
          11189,
          11189,
          42597,
          12829,
          19781,
          1397,
          24899,
          9541,
          3733,
          3733,
          3637,
          23491,
          36295,
          7325,
          2861,
          24719,
          5557,
          19285,
          25719,
          65749,
          6557,
          17196,
          17959,
          4845,
          13197,
          2341,
          18530,
          16000,
          16000,
          19764,
          17558,
          789,
          3141,
          32757,
          1509,
          6021,
          757,
          15605,
          3101,
          19925,
          11429,
          23047,
          7357,
          18701,
          757,
          3741,
          19469,
          1509,
          2557,
          17531,
          869,
          24023,
          2789,
          5757,
          35203,
          1573,
          33661,
          31192,
          589,
          1965,
          589,
          5405,
          4717,
          4029,
          6117,
          4029,
          4613,
          11261,
          30868,
          5925,
          23211,
          6093,
          2989,
          20331,
          2989,
          20151,
          3461,
          6421,
          19812,
          6389,
          2821,
          2389,
          2389,
          19517,
          13817,
          13817,
          15492,
          18617,
          18162,
          20111,
          15784,
          17041,
          18967,
          18701,
          757,
          19972,
          20212,
          4093,
          1173,
          1173,
          589,
          4037,
          1965,
          27325,
          2389,
          2749,
          5317,
          869,
          1173,
          46621,
          661,
          589,
          3781,
          869,
          15973,
          5269,
          1685,
          25026,
          757,
          6309,
          20219,
          13211,
          1381,
          589,
          589,
          38431,
          2789,
          1397,
          19841,
          589,
          3853,
          4677,
          25236,
          6029,
          16946,
          3181,
          589,
          21955,
          31605,
          789,
          22015,
          3461,
          757,
          20571,
          2749,
          3349,
          25479,
          20139,
          5757,
          17959,
          2645,
          20765,
          16925,
          6661,
          3509,
          20727,
          20727,
          19940,
          21235,
          21207,
          21207,
          23672,
          25051,
          20970,
          28939,
          24075,
          22187,
          24751,
          24231,
          24771,
          29383,
          25255,
          28215,
          24027,
          31327,
          29319,
          26337,
          27241,
          30235,
          31075,
          27851,
          29179,
          23108,
          34643,
          56777,
          30403,
          44199,
          25491,
          22719,
          27070,
          18758,
          20189,
          33024,
          22077,
          45088,
          20107,
          25924,
          20867,
          21839,
          24507,
          25424,
          22720,
          22124,
          26699,
          23115,
          21267,
          20867,
          27423,
          23324,
          22011,
          22267,
          30631,
          27259,
          19681,
          21451,
          29531,
          20419,
          27931,
          23827,
          21015,
          27627,
          21159,
          21863,
          25075,
          20763,
          27320,
          23155,
          20747,
          19713,
          32511,
          20579,
          23851,
          26007,
          21339,
          20408,
          21267,
          21557,
          28013,
          34480,
          21795,
          21043,
          27699,
          20287,
          14101,
          19191,
          32763,
          1965,
          21811,
          19141,
          5165,
          23971,
          21443,
          74197,
          15480,
          21207,
          11261,
          20800,
          17531,
          21549,
          21931,
          26483,
          16349,
          19969,
          23975,
          3429,
          21339,
          30003,
          1253,
          21619,
          22148,
          149029,
          20879,
          19215,
          33728,
          8157,
          23831,
          18967,
          11261,
          11261,
          11261,
          11261,
          12589,
          11261,
          11261,
          12589,
          12589,
          9933,
          9933,
          9933,
          9933,
          8605,
          9933,
          9933,
          9317,
          9317,
          7893,
          10709,
          10709,
          9157,
          10709,
          9157,
          20295,
          17126,
          27020,
          16861,
          28430,
          21047,
          25075,
          21396,
          24275,
          20676,
          22147,
          24665,
          7957,
          38464,
          17558,
          9181,
          39990,
          25395,
          18597,
          20963,
          8341,
          25929,
          22495,
          3901,
          22247,
          20879,
          24861,
          21687,
          26389,
          1733,
          5573,
          4173,
          4173,
          3229,
          4173,
          4173,
          3229,
          4173,
          4173,
          5117,
          4173,
          3229,
          4173,
          5117,
          3229,
          21917,
          11093,
          7205,
          55453,
          3229,
          15301,
          3229,
          25885,
          6629,
          3229,
          9061,
          1341,
          8117,
          5349,
          8661,
          1925,
          3229,
          3181,
          1341,
          26989,
          2285,
          2285,
          4173,
          5621,
          4173,
          5269,
          12509,
          17885,
          9877,
          25021,
          25021,
          17885,
          14317,
          3973,
          3973,
          3973,
          5965,
          10749,
          10749,
          7181,
          7909,
          10749,
          17885,
          3973,
          14317,
          10749,
          14317,
          10749,
          14317,
          14317,
          10749,
          3229,
          3229,
          757,
          757,
          3229,
          4173,
          6061,
          5117,
          757,
          4069,
          4173,
          7005,
          3229,
          757,
          8965,
          9573,
          7949,
          4173,
          973,
          3229,
          1253,
          5725,
          3901,
          3445,
          3445,
          22227,
          6277,
          757,
          18024,
          10141,
          22755,
          4069,
          24263,
          757,
          6277,
          25567,
          6837,
          21039,
          5333,
          15576,
          21653,
          12101,
          21127,
          6277,
          17041,
          12613,
          24120,
          6061,
          10141,
          21399,
          18541,
          17234,
          7989,
          25267,
          3229,
          47069,
          23947,
          757,
          21312,
          7005,
          9917,
          22259,
          21469,
          13211,
          3061,
          29684,
          1789,
          26629,
          20148,
          757,
          21763,
          18597,
          5117,
          21811,
          21717,
          17234,
          14173,
          20379,
          1477,
          5261,
          23144,
          1613,
          22159,
          2845,
          1165,
          22955,
          13525,
          21903,
          7221,
          28991,
          3613,
          10213,
          25831,
          5269,
          22755,
          2477,
          3181,
          17640,
          48149,
          16672,
          757,
          23427,
          6733,
          3733,
          26099,
          8053,
          19051,
          3741,
          16357,
          28032,
          2341,
          13319,
          15949,
          20248,
          8557,
          36629,
          19725,
          789,
          19940,
          5509,
          10141,
          36728,
          7949,
          21555,
          1613,
          20747,
          6061,
          15973,
          23911,
          1037,
          20111,
          4789,
          4173,
          35066,
          16141,
          21179,
          1229,
          21151,
          4821,
          4573,
          20727,
          4037,
          23252,
          2629,
          8821,
          28640,
          2285,
          27346,
          16316,
          20442,
          61269,
          17411,
          15621,
          21127,
          8965,
          2293,
          22563,
          789,
          22335,
          7701,
          37387,
          31205,
          1821,
          15396,
          7221,
          23383,
          4949,
          3229,
          15800,
          20389,
          17041,
          3445,
          55717,
          29255,
          3061,
          20171,
          3861,
          22859,
          6845,
          8269,
          20239,
          1613,
          19815,
          21575,
          25582,
          32591,
          20391,
          23151,
          26367,
          20513,
          31406,
          19191,
          28604,
          21783,
          2501,
          28199,
          7493,
          27451,
          46277,
          23603,
          17869,
          973,
          19071,
          18525,
          25280,
          15829,
          20456,
          589,
          3765,
          21080,
          35093,
          20148,
          49485,
          19051,
          6309,
          20376,
          21509,
          7965,
          21043,
          757,
          22375,
          7621,
          32763,
          3229,
          17234,
          7005,
          17645,
          21763,
          7589,
          20040,
          22069,
          18101,
          11701,
          20887,
          8805,
          11669,
          18859,
          8797,
          20379,
          3381,
          36419,
          29333,
          19809,
          27741,
          5149,
          25764,
          3637,
          17570,
          11653,
          22755,
          21477,
          29755,
          6349,
          7005,
          15684,
          13749,
          28403,
          9909,
          22615,
          973,
          21099,
          21373,
          10141,
          23723,
          973,
          21295,
          9925,
          21924,
          5333,
          28845,
          25696,
          1253,
          21255,
          3445,
          36828,
          6061,
          20471,
          13285,
          5365,
          25531,
          10437,
          21976,
          1037,
          25868,
          20007,
          19587,
          20583,
          1941,
          2213,
          17526,
          1133,
          17966,
          2277,
          24667,
          2381,
          20859,
          2437,
          6109,
          20563,
          3981,
          20327,
          21277,
          21231,
          2213,
          20091,
          6133,
          1717,
          20459,
          10541,
          21323,
          4309,
          17582,
          13773,
          20327,
          1741,
          9517,
          22039,
          7117,
          20739,
          55237,
          21327,
          2277,
          17798,
          23821,
          1173,
          20840,
          3685,
          22567,
          3829,
          20807,
          3141,
          20419,
          50669,
          4901,
          22339,
          3077,
          19565,
          5549,
          21907,
          5757,
          22087,
          9845,
          1765,
          20331,
          973,
          41611,
          1821,
          20932,
          19777,
          22495,
          21655,
          18354,
          22123,
          17334,
          20463,
          20144,
          19879,
          21067,
          21955,
          2965,
          2661,
          17234,
          3461,
          20219
         ]
        },
        {
         "hovertemplate": "%{text}<extra>Best Trial</extra>",
         "marker": {
          "color": [
           61,
           154,
           166,
           167,
           181,
           196,
           433,
           617,
           719
          ],
          "colorbar": {
           "title": {
            "text": "Best Trial"
           },
           "x": 1.1,
           "xpad": 40
          },
          "colorscale": [
           [
            0,
            "rgb(255,245,240)"
           ],
           [
            0.125,
            "rgb(254,224,210)"
           ],
           [
            0.25,
            "rgb(252,187,161)"
           ],
           [
            0.375,
            "rgb(252,146,114)"
           ],
           [
            0.5,
            "rgb(251,106,74)"
           ],
           [
            0.625,
            "rgb(239,59,44)"
           ],
           [
            0.75,
            "rgb(203,24,29)"
           ],
           [
            0.875,
            "rgb(165,15,21)"
           ],
           [
            1,
            "rgb(103,0,13)"
           ]
          ],
          "line": {
           "color": "Grey",
           "width": 0.5
          }
         },
         "mode": "markers",
         "showlegend": false,
         "text": [
          "{<br>  \"number\": 61,<br>  \"values\": [<br>    0.699999988079071,<br>    757.0<br>  ],<br>  \"params\": {<br>    \"batchsize\": 32,<br>    \"brightness_factor\": 0.00799756351779848,<br>    \"gaussian_noise_factor\": 0.1102945836448109,<br>    \"translate_factor\": 0.1301138361256372,<br>    \"num_layers\": 1,<br>    \"output_layer\": \"pooling\",<br>    \"layer_0\": \"Conv2D\",<br>    \"layer_0_conv2d_filters\": 4,<br>    \"layer_0_conv2d_fsize\": 4,<br>    \"layer_0_conv2d_ssize\": 5,<br>    \"activation_0\": \"tanh\",<br>    \"pre_GAP_layer_fsize\": 3,<br>    \"pre_GAP_layer_act\": \"relu\",<br>    \"lr_inicial\": 0.00149283809509308<br>  }<br>}",
          "{<br>  \"number\": 154,<br>  \"values\": [<br>    0.6200000047683716,<br>    589.0<br>  ],<br>  \"params\": {<br>    \"batchsize\": 32,<br>    \"brightness_factor\": 0.06853943597312165,<br>    \"gaussian_noise_factor\": 0.03364490222343767,<br>    \"translate_factor\": 0.16287056293797378,<br>    \"num_layers\": 1,<br>    \"output_layer\": \"pooling\",<br>    \"layer_0\": \"Conv2D\",<br>    \"layer_0_conv2d_filters\": 4,<br>    \"layer_0_conv2d_fsize\": 3,<br>    \"layer_0_conv2d_ssize\": 14,<br>    \"activation_0\": \"tanh\",<br>    \"pre_GAP_layer_fsize\": 3,<br>    \"pre_GAP_layer_act\": \"relu\",<br>    \"lr_inicial\": 0.0015473652021179673<br>  }<br>}",
          "{<br>  \"number\": 166,<br>  \"values\": [<br>    0.5600000023841858,<br>    397.0<br>  ],<br>  \"params\": {<br>    \"batchsize\": 32,<br>    \"brightness_factor\": 0.1558162222600031,<br>    \"gaussian_noise_factor\": 0.03870054385216477,<br>    \"translate_factor\": 0.1680374893018587,<br>    \"num_layers\": 1,<br>    \"output_layer\": \"pooling\",<br>    \"layer_0\": \"Pointwise2D\",<br>    \"layer_0_pwconv2d_filters\": 4,<br>    \"layer_0_pwconv2d_ssize\": 10,<br>    \"activation_0\": \"tanh\",<br>    \"pre_GAP_layer_fsize\": 3,<br>    \"pre_GAP_layer_act\": \"linear\",<br>    \"lr_inicial\": 0.001220267072259485<br>  }<br>}",
          "{<br>  \"number\": 167,<br>  \"values\": [<br>    0.5600000023841858,<br>    397.0<br>  ],<br>  \"params\": {<br>    \"batchsize\": 32,<br>    \"brightness_factor\": 0.15855952299880727,<br>    \"gaussian_noise_factor\": 0.03803632192677203,<br>    \"translate_factor\": 0.1652503622703608,<br>    \"num_layers\": 1,<br>    \"output_layer\": \"pooling\",<br>    \"layer_0\": \"Pointwise2D\",<br>    \"layer_0_pwconv2d_filters\": 4,<br>    \"layer_0_pwconv2d_ssize\": 10,<br>    \"activation_0\": \"tanh\",<br>    \"pre_GAP_layer_fsize\": 3,<br>    \"pre_GAP_layer_act\": \"linear\",<br>    \"lr_inicial\": 0.001212931385017907<br>  }<br>}",
          "{<br>  \"number\": 181,<br>  \"values\": [<br>    0.6200000047683716,<br>    589.0<br>  ],<br>  \"params\": {<br>    \"batchsize\": 32,<br>    \"brightness_factor\": 0.12242363928459127,<br>    \"gaussian_noise_factor\": 0.028210929799954355,<br>    \"translate_factor\": 0.127315407283203,<br>    \"num_layers\": 1,<br>    \"output_layer\": \"pooling\",<br>    \"layer_0\": \"Conv2D\",<br>    \"layer_0_conv2d_filters\": 4,<br>    \"layer_0_conv2d_fsize\": 3,<br>    \"layer_0_conv2d_ssize\": 9,<br>    \"activation_0\": \"linear\",<br>    \"pre_GAP_layer_fsize\": 3,<br>    \"pre_GAP_layer_act\": \"relu\",<br>    \"lr_inicial\": 0.001444416133846353<br>  }<br>}",
          "{<br>  \"number\": 196,<br>  \"values\": [<br>    0.9399999976158142,<br>    20980.0<br>  ],<br>  \"params\": {<br>    \"batchsize\": 32,<br>    \"brightness_factor\": 0.16118583968468672,<br>    \"gaussian_noise_factor\": 0.0559278738671822,<br>    \"translate_factor\": 0.06801591849263956,<br>    \"num_layers\": 2,<br>    \"output_layer\": \"dense\",<br>    \"layer_0\": \"Conv2D\",<br>    \"layer_0_conv2d_filters\": 4,<br>    \"layer_0_conv2d_fsize\": 5,<br>    \"layer_0_conv2d_ssize\": 4,<br>    \"activation_0\": \"tanh\",<br>    \"layer_1\": \"Conv2D\",<br>    \"layer_1_conv2d_filters\": 28,<br>    \"layer_1_conv2d_fsize\": 3,<br>    \"layer_1_conv2d_ssize\": 4,<br>    \"activation_1\": \"relu\",<br>    \"output_dropout\": 0.488971259960289,<br>    \"lr_inicial\": 0.001787325036542011<br>  }<br>}",
          "{<br>  \"number\": 433,<br>  \"values\": [<br>    0.8999999761581421,<br>    9413.0<br>  ],<br>  \"params\": {<br>    \"batchsize\": 32,<br>    \"brightness_factor\": 0.12115673946991046,<br>    \"gaussian_noise_factor\": 0.02519219294377687,<br>    \"translate_factor\": 0.18051170944703326,<br>    \"num_layers\": 3,<br>    \"output_layer\": \"pooling\",<br>    \"layer_0\": \"Conv2D\",<br>    \"layer_0_conv2d_filters\": 4,<br>    \"layer_0_conv2d_fsize\": 4,<br>    \"layer_0_conv2d_ssize\": 2,<br>    \"activation_0\": \"relu\",<br>    \"layer_1\": \"Conv2D\",<br>    \"layer_1_conv2d_filters\": 12,<br>    \"layer_1_conv2d_fsize\": 5,<br>    \"layer_1_conv2d_ssize\": 4,<br>    \"activation_1\": \"relu\",<br>    \"layer_2\": \"Conv2D\",<br>    \"layer_2_conv2d_filters\": 8,<br>    \"layer_2_conv2d_fsize\": 3,<br>    \"layer_2_conv2d_ssize\": 3,<br>    \"activation_2\": \"tanh\",<br>    \"pre_GAP_layer_fsize\": 3,<br>    \"pre_GAP_layer_act\": \"relu\",<br>    \"lr_inicial\": 0.0015317067667799437<br>  }<br>}",
          "{<br>  \"number\": 617,<br>  \"values\": [<br>    0.8799999952316284,<br>    7725.0<br>  ],<br>  \"params\": {<br>    \"batchsize\": 32,<br>    \"brightness_factor\": 0.14654605210326505,<br>    \"gaussian_noise_factor\": 0.0533903276355356,<br>    \"translate_factor\": 0.08891190810606427,<br>    \"num_layers\": 3,<br>    \"output_layer\": \"pooling\",<br>    \"layer_0\": \"Conv2D\",<br>    \"layer_0_conv2d_filters\": 4,<br>    \"layer_0_conv2d_fsize\": 4,<br>    \"layer_0_conv2d_ssize\": 3,<br>    \"activation_0\": \"tanh\",<br>    \"layer_1\": \"Conv2D\",<br>    \"layer_1_conv2d_filters\": 24,<br>    \"layer_1_conv2d_fsize\": 3,<br>    \"layer_1_conv2d_ssize\": 4,<br>    \"activation_1\": \"relu\",<br>    \"layer_2\": \"Conv2D\",<br>    \"layer_2_conv2d_filters\": 4,<br>    \"layer_2_conv2d_fsize\": 3,<br>    \"layer_2_conv2d_ssize\": 4,<br>    \"activation_2\": \"linear\",<br>    \"pre_GAP_layer_fsize\": 3,<br>    \"pre_GAP_layer_act\": \"relu\",<br>    \"lr_inicial\": 0.0017665928516202294<br>  }<br>}",
          "{<br>  \"number\": 719,<br>  \"values\": [<br>    0.8600000143051147,<br>    1693.0<br>  ],<br>  \"params\": {<br>    \"batchsize\": 32,<br>    \"brightness_factor\": 0.15490522700871479,<br>    \"gaussian_noise_factor\": 0.05136801758694156,<br>    \"translate_factor\": 0.16895762455061555,<br>    \"num_layers\": 2,<br>    \"output_layer\": \"pooling\",<br>    \"layer_0\": \"Conv2D\",<br>    \"layer_0_conv2d_filters\": 4,<br>    \"layer_0_conv2d_fsize\": 4,<br>    \"layer_0_conv2d_ssize\": 5,<br>    \"activation_0\": \"linear\",<br>    \"layer_1\": \"Pointwise2D\",<br>    \"layer_1_pwconv2d_filters\": 12,<br>    \"layer_1_pwconv2d_ssize\": 3,<br>    \"activation_1\": \"relu\",<br>    \"pre_GAP_layer_fsize\": 3,<br>    \"pre_GAP_layer_act\": \"relu\",<br>    \"lr_inicial\": 0.001215697993203115<br>  }<br>}"
         ],
         "type": "scatter",
         "x": [
          0.699999988079071,
          0.6200000047683716,
          0.5600000023841858,
          0.5600000023841858,
          0.6200000047683716,
          0.9399999976158142,
          0.8999999761581421,
          0.8799999952316284,
          0.8600000143051147
         ],
         "y": [
          757,
          589,
          397,
          397,
          589,
          20980,
          9413,
          7725,
          1693
         ]
        }
       ],
       "layout": {
        "template": {
         "data": {
          "bar": [
           {
            "error_x": {
             "color": "#2a3f5f"
            },
            "error_y": {
             "color": "#2a3f5f"
            },
            "marker": {
             "line": {
              "color": "#E5ECF6",
              "width": 0.5
             },
             "pattern": {
              "fillmode": "overlay",
              "size": 10,
              "solidity": 0.2
             }
            },
            "type": "bar"
           }
          ],
          "barpolar": [
           {
            "marker": {
             "line": {
              "color": "#E5ECF6",
              "width": 0.5
             },
             "pattern": {
              "fillmode": "overlay",
              "size": 10,
              "solidity": 0.2
             }
            },
            "type": "barpolar"
           }
          ],
          "carpet": [
           {
            "aaxis": {
             "endlinecolor": "#2a3f5f",
             "gridcolor": "white",
             "linecolor": "white",
             "minorgridcolor": "white",
             "startlinecolor": "#2a3f5f"
            },
            "baxis": {
             "endlinecolor": "#2a3f5f",
             "gridcolor": "white",
             "linecolor": "white",
             "minorgridcolor": "white",
             "startlinecolor": "#2a3f5f"
            },
            "type": "carpet"
           }
          ],
          "choropleth": [
           {
            "colorbar": {
             "outlinewidth": 0,
             "ticks": ""
            },
            "type": "choropleth"
           }
          ],
          "contour": [
           {
            "colorbar": {
             "outlinewidth": 0,
             "ticks": ""
            },
            "colorscale": [
             [
              0,
              "#0d0887"
             ],
             [
              0.1111111111111111,
              "#46039f"
             ],
             [
              0.2222222222222222,
              "#7201a8"
             ],
             [
              0.3333333333333333,
              "#9c179e"
             ],
             [
              0.4444444444444444,
              "#bd3786"
             ],
             [
              0.5555555555555556,
              "#d8576b"
             ],
             [
              0.6666666666666666,
              "#ed7953"
             ],
             [
              0.7777777777777778,
              "#fb9f3a"
             ],
             [
              0.8888888888888888,
              "#fdca26"
             ],
             [
              1,
              "#f0f921"
             ]
            ],
            "type": "contour"
           }
          ],
          "contourcarpet": [
           {
            "colorbar": {
             "outlinewidth": 0,
             "ticks": ""
            },
            "type": "contourcarpet"
           }
          ],
          "heatmap": [
           {
            "colorbar": {
             "outlinewidth": 0,
             "ticks": ""
            },
            "colorscale": [
             [
              0,
              "#0d0887"
             ],
             [
              0.1111111111111111,
              "#46039f"
             ],
             [
              0.2222222222222222,
              "#7201a8"
             ],
             [
              0.3333333333333333,
              "#9c179e"
             ],
             [
              0.4444444444444444,
              "#bd3786"
             ],
             [
              0.5555555555555556,
              "#d8576b"
             ],
             [
              0.6666666666666666,
              "#ed7953"
             ],
             [
              0.7777777777777778,
              "#fb9f3a"
             ],
             [
              0.8888888888888888,
              "#fdca26"
             ],
             [
              1,
              "#f0f921"
             ]
            ],
            "type": "heatmap"
           }
          ],
          "heatmapgl": [
           {
            "colorbar": {
             "outlinewidth": 0,
             "ticks": ""
            },
            "colorscale": [
             [
              0,
              "#0d0887"
             ],
             [
              0.1111111111111111,
              "#46039f"
             ],
             [
              0.2222222222222222,
              "#7201a8"
             ],
             [
              0.3333333333333333,
              "#9c179e"
             ],
             [
              0.4444444444444444,
              "#bd3786"
             ],
             [
              0.5555555555555556,
              "#d8576b"
             ],
             [
              0.6666666666666666,
              "#ed7953"
             ],
             [
              0.7777777777777778,
              "#fb9f3a"
             ],
             [
              0.8888888888888888,
              "#fdca26"
             ],
             [
              1,
              "#f0f921"
             ]
            ],
            "type": "heatmapgl"
           }
          ],
          "histogram": [
           {
            "marker": {
             "pattern": {
              "fillmode": "overlay",
              "size": 10,
              "solidity": 0.2
             }
            },
            "type": "histogram"
           }
          ],
          "histogram2d": [
           {
            "colorbar": {
             "outlinewidth": 0,
             "ticks": ""
            },
            "colorscale": [
             [
              0,
              "#0d0887"
             ],
             [
              0.1111111111111111,
              "#46039f"
             ],
             [
              0.2222222222222222,
              "#7201a8"
             ],
             [
              0.3333333333333333,
              "#9c179e"
             ],
             [
              0.4444444444444444,
              "#bd3786"
             ],
             [
              0.5555555555555556,
              "#d8576b"
             ],
             [
              0.6666666666666666,
              "#ed7953"
             ],
             [
              0.7777777777777778,
              "#fb9f3a"
             ],
             [
              0.8888888888888888,
              "#fdca26"
             ],
             [
              1,
              "#f0f921"
             ]
            ],
            "type": "histogram2d"
           }
          ],
          "histogram2dcontour": [
           {
            "colorbar": {
             "outlinewidth": 0,
             "ticks": ""
            },
            "colorscale": [
             [
              0,
              "#0d0887"
             ],
             [
              0.1111111111111111,
              "#46039f"
             ],
             [
              0.2222222222222222,
              "#7201a8"
             ],
             [
              0.3333333333333333,
              "#9c179e"
             ],
             [
              0.4444444444444444,
              "#bd3786"
             ],
             [
              0.5555555555555556,
              "#d8576b"
             ],
             [
              0.6666666666666666,
              "#ed7953"
             ],
             [
              0.7777777777777778,
              "#fb9f3a"
             ],
             [
              0.8888888888888888,
              "#fdca26"
             ],
             [
              1,
              "#f0f921"
             ]
            ],
            "type": "histogram2dcontour"
           }
          ],
          "mesh3d": [
           {
            "colorbar": {
             "outlinewidth": 0,
             "ticks": ""
            },
            "type": "mesh3d"
           }
          ],
          "parcoords": [
           {
            "line": {
             "colorbar": {
              "outlinewidth": 0,
              "ticks": ""
             }
            },
            "type": "parcoords"
           }
          ],
          "pie": [
           {
            "automargin": true,
            "type": "pie"
           }
          ],
          "scatter": [
           {
            "fillpattern": {
             "fillmode": "overlay",
             "size": 10,
             "solidity": 0.2
            },
            "type": "scatter"
           }
          ],
          "scatter3d": [
           {
            "line": {
             "colorbar": {
              "outlinewidth": 0,
              "ticks": ""
             }
            },
            "marker": {
             "colorbar": {
              "outlinewidth": 0,
              "ticks": ""
             }
            },
            "type": "scatter3d"
           }
          ],
          "scattercarpet": [
           {
            "marker": {
             "colorbar": {
              "outlinewidth": 0,
              "ticks": ""
             }
            },
            "type": "scattercarpet"
           }
          ],
          "scattergeo": [
           {
            "marker": {
             "colorbar": {
              "outlinewidth": 0,
              "ticks": ""
             }
            },
            "type": "scattergeo"
           }
          ],
          "scattergl": [
           {
            "marker": {
             "colorbar": {
              "outlinewidth": 0,
              "ticks": ""
             }
            },
            "type": "scattergl"
           }
          ],
          "scattermapbox": [
           {
            "marker": {
             "colorbar": {
              "outlinewidth": 0,
              "ticks": ""
             }
            },
            "type": "scattermapbox"
           }
          ],
          "scatterpolar": [
           {
            "marker": {
             "colorbar": {
              "outlinewidth": 0,
              "ticks": ""
             }
            },
            "type": "scatterpolar"
           }
          ],
          "scatterpolargl": [
           {
            "marker": {
             "colorbar": {
              "outlinewidth": 0,
              "ticks": ""
             }
            },
            "type": "scatterpolargl"
           }
          ],
          "scatterternary": [
           {
            "marker": {
             "colorbar": {
              "outlinewidth": 0,
              "ticks": ""
             }
            },
            "type": "scatterternary"
           }
          ],
          "surface": [
           {
            "colorbar": {
             "outlinewidth": 0,
             "ticks": ""
            },
            "colorscale": [
             [
              0,
              "#0d0887"
             ],
             [
              0.1111111111111111,
              "#46039f"
             ],
             [
              0.2222222222222222,
              "#7201a8"
             ],
             [
              0.3333333333333333,
              "#9c179e"
             ],
             [
              0.4444444444444444,
              "#bd3786"
             ],
             [
              0.5555555555555556,
              "#d8576b"
             ],
             [
              0.6666666666666666,
              "#ed7953"
             ],
             [
              0.7777777777777778,
              "#fb9f3a"
             ],
             [
              0.8888888888888888,
              "#fdca26"
             ],
             [
              1,
              "#f0f921"
             ]
            ],
            "type": "surface"
           }
          ],
          "table": [
           {
            "cells": {
             "fill": {
              "color": "#EBF0F8"
             },
             "line": {
              "color": "white"
             }
            },
            "header": {
             "fill": {
              "color": "#C8D4E3"
             },
             "line": {
              "color": "white"
             }
            },
            "type": "table"
           }
          ]
         },
         "layout": {
          "annotationdefaults": {
           "arrowcolor": "#2a3f5f",
           "arrowhead": 0,
           "arrowwidth": 1
          },
          "autotypenumbers": "strict",
          "coloraxis": {
           "colorbar": {
            "outlinewidth": 0,
            "ticks": ""
           }
          },
          "colorscale": {
           "diverging": [
            [
             0,
             "#8e0152"
            ],
            [
             0.1,
             "#c51b7d"
            ],
            [
             0.2,
             "#de77ae"
            ],
            [
             0.3,
             "#f1b6da"
            ],
            [
             0.4,
             "#fde0ef"
            ],
            [
             0.5,
             "#f7f7f7"
            ],
            [
             0.6,
             "#e6f5d0"
            ],
            [
             0.7,
             "#b8e186"
            ],
            [
             0.8,
             "#7fbc41"
            ],
            [
             0.9,
             "#4d9221"
            ],
            [
             1,
             "#276419"
            ]
           ],
           "sequential": [
            [
             0,
             "#0d0887"
            ],
            [
             0.1111111111111111,
             "#46039f"
            ],
            [
             0.2222222222222222,
             "#7201a8"
            ],
            [
             0.3333333333333333,
             "#9c179e"
            ],
            [
             0.4444444444444444,
             "#bd3786"
            ],
            [
             0.5555555555555556,
             "#d8576b"
            ],
            [
             0.6666666666666666,
             "#ed7953"
            ],
            [
             0.7777777777777778,
             "#fb9f3a"
            ],
            [
             0.8888888888888888,
             "#fdca26"
            ],
            [
             1,
             "#f0f921"
            ]
           ],
           "sequentialminus": [
            [
             0,
             "#0d0887"
            ],
            [
             0.1111111111111111,
             "#46039f"
            ],
            [
             0.2222222222222222,
             "#7201a8"
            ],
            [
             0.3333333333333333,
             "#9c179e"
            ],
            [
             0.4444444444444444,
             "#bd3786"
            ],
            [
             0.5555555555555556,
             "#d8576b"
            ],
            [
             0.6666666666666666,
             "#ed7953"
            ],
            [
             0.7777777777777778,
             "#fb9f3a"
            ],
            [
             0.8888888888888888,
             "#fdca26"
            ],
            [
             1,
             "#f0f921"
            ]
           ]
          },
          "colorway": [
           "#636efa",
           "#EF553B",
           "#00cc96",
           "#ab63fa",
           "#FFA15A",
           "#19d3f3",
           "#FF6692",
           "#B6E880",
           "#FF97FF",
           "#FECB52"
          ],
          "font": {
           "color": "#2a3f5f"
          },
          "geo": {
           "bgcolor": "white",
           "lakecolor": "white",
           "landcolor": "#E5ECF6",
           "showlakes": true,
           "showland": true,
           "subunitcolor": "white"
          },
          "hoverlabel": {
           "align": "left"
          },
          "hovermode": "closest",
          "mapbox": {
           "style": "light"
          },
          "paper_bgcolor": "white",
          "plot_bgcolor": "#E5ECF6",
          "polar": {
           "angularaxis": {
            "gridcolor": "white",
            "linecolor": "white",
            "ticks": ""
           },
           "bgcolor": "#E5ECF6",
           "radialaxis": {
            "gridcolor": "white",
            "linecolor": "white",
            "ticks": ""
           }
          },
          "scene": {
           "xaxis": {
            "backgroundcolor": "#E5ECF6",
            "gridcolor": "white",
            "gridwidth": 2,
            "linecolor": "white",
            "showbackground": true,
            "ticks": "",
            "zerolinecolor": "white"
           },
           "yaxis": {
            "backgroundcolor": "#E5ECF6",
            "gridcolor": "white",
            "gridwidth": 2,
            "linecolor": "white",
            "showbackground": true,
            "ticks": "",
            "zerolinecolor": "white"
           },
           "zaxis": {
            "backgroundcolor": "#E5ECF6",
            "gridcolor": "white",
            "gridwidth": 2,
            "linecolor": "white",
            "showbackground": true,
            "ticks": "",
            "zerolinecolor": "white"
           }
          },
          "shapedefaults": {
           "line": {
            "color": "#2a3f5f"
           }
          },
          "ternary": {
           "aaxis": {
            "gridcolor": "white",
            "linecolor": "white",
            "ticks": ""
           },
           "baxis": {
            "gridcolor": "white",
            "linecolor": "white",
            "ticks": ""
           },
           "bgcolor": "#E5ECF6",
           "caxis": {
            "gridcolor": "white",
            "linecolor": "white",
            "ticks": ""
           }
          },
          "title": {
           "x": 0.05
          },
          "xaxis": {
           "automargin": true,
           "gridcolor": "white",
           "linecolor": "white",
           "ticks": "",
           "title": {
            "standoff": 15
           },
           "zerolinecolor": "white",
           "zerolinewidth": 2
          },
          "yaxis": {
           "automargin": true,
           "gridcolor": "white",
           "linecolor": "white",
           "ticks": "",
           "title": {
            "standoff": 15
           },
           "zerolinecolor": "white",
           "zerolinewidth": 2
          }
         }
        },
        "title": {
         "text": "Pareto-front Plot"
        },
        "xaxis": {
         "title": {
          "text": "accuracy"
         }
        },
        "yaxis": {
         "title": {
          "text": "model_size"
         }
        }
       }
      }
     },
     "metadata": {},
     "output_type": "display_data"
    }
   ],
   "source": [
    "optuna.visualization.plot_pareto_front(study, target_names=[\"accuracy\", \"model_size\"])"
   ]
  },
  {
   "cell_type": "code",
   "execution_count": 18,
   "metadata": {},
   "outputs": [],
   "source": [
    "study_name = \"2024:02:02:14:37:58.pkl\"\n",
    "study_2 = joblib.load(\n",
    "    f\"/home/webphy/Desktop/dnn_processor/neural_network/automl/saved_studies/{study_name}\"\n",
    ")"
   ]
  },
  {
   "cell_type": "code",
   "execution_count": 19,
   "metadata": {},
   "outputs": [],
   "source": [
    "from optuna.visualization import plot_optimization_history\n",
    "from optuna.visualization import plot_parallel_coordinate\n",
    "from optuna.visualization import plot_param_importances"
   ]
  },
  {
   "cell_type": "code",
   "execution_count": null,
   "metadata": {},
   "outputs": [],
   "source": [
    "plot_optimization_history(study_2)"
   ]
  },
  {
   "cell_type": "code",
   "execution_count": null,
   "metadata": {},
   "outputs": [
    {
     "data": {
      "application/vnd.plotly.v1+json": {
       "config": {
        "plotlyServerURL": "https://plot.ly"
       },
       "data": [
        {
         "cliponaxis": false,
         "hovertemplate": [
          "layer_0 (CategoricalDistribution): 0.0030773553358989045<extra></extra>",
          "batchsize (IntDistribution): 0.009673853719855931<extra></extra>",
          "activation_0 (CategoricalDistribution): 0.013315422388033614<extra></extra>",
          "brightness_factor (FloatDistribution): 0.024085980106813003<extra></extra>",
          "num_layers (CategoricalDistribution): 0.041593999384623256<extra></extra>",
          "gaussian_noise_factor (FloatDistribution): 0.04247238242585224<extra></extra>",
          "translate_factor (FloatDistribution): 0.04283716822516141<extra></extra>",
          "lr_inicial (FloatDistribution): 0.06243974788680579<extra></extra>",
          "output_layer (CategoricalDistribution): 0.7605040905269559<extra></extra>"
         ],
         "name": "Objective Value 0",
         "orientation": "h",
         "text": [
          "<0.01",
          "<0.01",
          "0.01",
          "0.02",
          "0.04",
          "0.04",
          "0.04",
          "0.06",
          "0.76"
         ],
         "textposition": "outside",
         "type": "bar",
         "x": [
          0.0030773553358989045,
          0.009673853719855931,
          0.013315422388033614,
          0.024085980106813003,
          0.041593999384623256,
          0.04247238242585224,
          0.04283716822516141,
          0.06243974788680579,
          0.7605040905269559
         ],
         "y": [
          "layer_0",
          "batchsize",
          "activation_0",
          "brightness_factor",
          "num_layers",
          "gaussian_noise_factor",
          "translate_factor",
          "lr_inicial",
          "output_layer"
         ]
        },
        {
         "cliponaxis": false,
         "hovertemplate": [
          "batchsize (IntDistribution): 0.0066889952786380906<extra></extra>",
          "activation_0 (CategoricalDistribution): 0.009992006042440436<extra></extra>",
          "gaussian_noise_factor (FloatDistribution): 0.03555250819348748<extra></extra>",
          "translate_factor (FloatDistribution): 0.05537558458215107<extra></extra>",
          "brightness_factor (FloatDistribution): 0.07385009611289968<extra></extra>",
          "lr_inicial (FloatDistribution): 0.08517575581425815<extra></extra>",
          "layer_0 (CategoricalDistribution): 0.10636983574180445<extra></extra>",
          "output_layer (CategoricalDistribution): 0.14121911258170408<extra></extra>",
          "num_layers (CategoricalDistribution): 0.48577610565261664<extra></extra>"
         ],
         "name": "Objective Value 1",
         "orientation": "h",
         "text": [
          "<0.01",
          "<0.01",
          "0.04",
          "0.06",
          "0.07",
          "0.09",
          "0.11",
          "0.14",
          "0.49"
         ],
         "textposition": "outside",
         "type": "bar",
         "x": [
          0.0066889952786380906,
          0.009992006042440436,
          0.03555250819348748,
          0.05537558458215107,
          0.07385009611289968,
          0.08517575581425815,
          0.10636983574180445,
          0.14121911258170408,
          0.48577610565261664
         ],
         "y": [
          "batchsize",
          "activation_0",
          "gaussian_noise_factor",
          "translate_factor",
          "brightness_factor",
          "lr_inicial",
          "layer_0",
          "output_layer",
          "num_layers"
         ]
        }
       ],
       "layout": {
        "template": {
         "data": {
          "bar": [
           {
            "error_x": {
             "color": "#2a3f5f"
            },
            "error_y": {
             "color": "#2a3f5f"
            },
            "marker": {
             "line": {
              "color": "#E5ECF6",
              "width": 0.5
             },
             "pattern": {
              "fillmode": "overlay",
              "size": 10,
              "solidity": 0.2
             }
            },
            "type": "bar"
           }
          ],
          "barpolar": [
           {
            "marker": {
             "line": {
              "color": "#E5ECF6",
              "width": 0.5
             },
             "pattern": {
              "fillmode": "overlay",
              "size": 10,
              "solidity": 0.2
             }
            },
            "type": "barpolar"
           }
          ],
          "carpet": [
           {
            "aaxis": {
             "endlinecolor": "#2a3f5f",
             "gridcolor": "white",
             "linecolor": "white",
             "minorgridcolor": "white",
             "startlinecolor": "#2a3f5f"
            },
            "baxis": {
             "endlinecolor": "#2a3f5f",
             "gridcolor": "white",
             "linecolor": "white",
             "minorgridcolor": "white",
             "startlinecolor": "#2a3f5f"
            },
            "type": "carpet"
           }
          ],
          "choropleth": [
           {
            "colorbar": {
             "outlinewidth": 0,
             "ticks": ""
            },
            "type": "choropleth"
           }
          ],
          "contour": [
           {
            "colorbar": {
             "outlinewidth": 0,
             "ticks": ""
            },
            "colorscale": [
             [
              0,
              "#0d0887"
             ],
             [
              0.1111111111111111,
              "#46039f"
             ],
             [
              0.2222222222222222,
              "#7201a8"
             ],
             [
              0.3333333333333333,
              "#9c179e"
             ],
             [
              0.4444444444444444,
              "#bd3786"
             ],
             [
              0.5555555555555556,
              "#d8576b"
             ],
             [
              0.6666666666666666,
              "#ed7953"
             ],
             [
              0.7777777777777778,
              "#fb9f3a"
             ],
             [
              0.8888888888888888,
              "#fdca26"
             ],
             [
              1,
              "#f0f921"
             ]
            ],
            "type": "contour"
           }
          ],
          "contourcarpet": [
           {
            "colorbar": {
             "outlinewidth": 0,
             "ticks": ""
            },
            "type": "contourcarpet"
           }
          ],
          "heatmap": [
           {
            "colorbar": {
             "outlinewidth": 0,
             "ticks": ""
            },
            "colorscale": [
             [
              0,
              "#0d0887"
             ],
             [
              0.1111111111111111,
              "#46039f"
             ],
             [
              0.2222222222222222,
              "#7201a8"
             ],
             [
              0.3333333333333333,
              "#9c179e"
             ],
             [
              0.4444444444444444,
              "#bd3786"
             ],
             [
              0.5555555555555556,
              "#d8576b"
             ],
             [
              0.6666666666666666,
              "#ed7953"
             ],
             [
              0.7777777777777778,
              "#fb9f3a"
             ],
             [
              0.8888888888888888,
              "#fdca26"
             ],
             [
              1,
              "#f0f921"
             ]
            ],
            "type": "heatmap"
           }
          ],
          "heatmapgl": [
           {
            "colorbar": {
             "outlinewidth": 0,
             "ticks": ""
            },
            "colorscale": [
             [
              0,
              "#0d0887"
             ],
             [
              0.1111111111111111,
              "#46039f"
             ],
             [
              0.2222222222222222,
              "#7201a8"
             ],
             [
              0.3333333333333333,
              "#9c179e"
             ],
             [
              0.4444444444444444,
              "#bd3786"
             ],
             [
              0.5555555555555556,
              "#d8576b"
             ],
             [
              0.6666666666666666,
              "#ed7953"
             ],
             [
              0.7777777777777778,
              "#fb9f3a"
             ],
             [
              0.8888888888888888,
              "#fdca26"
             ],
             [
              1,
              "#f0f921"
             ]
            ],
            "type": "heatmapgl"
           }
          ],
          "histogram": [
           {
            "marker": {
             "pattern": {
              "fillmode": "overlay",
              "size": 10,
              "solidity": 0.2
             }
            },
            "type": "histogram"
           }
          ],
          "histogram2d": [
           {
            "colorbar": {
             "outlinewidth": 0,
             "ticks": ""
            },
            "colorscale": [
             [
              0,
              "#0d0887"
             ],
             [
              0.1111111111111111,
              "#46039f"
             ],
             [
              0.2222222222222222,
              "#7201a8"
             ],
             [
              0.3333333333333333,
              "#9c179e"
             ],
             [
              0.4444444444444444,
              "#bd3786"
             ],
             [
              0.5555555555555556,
              "#d8576b"
             ],
             [
              0.6666666666666666,
              "#ed7953"
             ],
             [
              0.7777777777777778,
              "#fb9f3a"
             ],
             [
              0.8888888888888888,
              "#fdca26"
             ],
             [
              1,
              "#f0f921"
             ]
            ],
            "type": "histogram2d"
           }
          ],
          "histogram2dcontour": [
           {
            "colorbar": {
             "outlinewidth": 0,
             "ticks": ""
            },
            "colorscale": [
             [
              0,
              "#0d0887"
             ],
             [
              0.1111111111111111,
              "#46039f"
             ],
             [
              0.2222222222222222,
              "#7201a8"
             ],
             [
              0.3333333333333333,
              "#9c179e"
             ],
             [
              0.4444444444444444,
              "#bd3786"
             ],
             [
              0.5555555555555556,
              "#d8576b"
             ],
             [
              0.6666666666666666,
              "#ed7953"
             ],
             [
              0.7777777777777778,
              "#fb9f3a"
             ],
             [
              0.8888888888888888,
              "#fdca26"
             ],
             [
              1,
              "#f0f921"
             ]
            ],
            "type": "histogram2dcontour"
           }
          ],
          "mesh3d": [
           {
            "colorbar": {
             "outlinewidth": 0,
             "ticks": ""
            },
            "type": "mesh3d"
           }
          ],
          "parcoords": [
           {
            "line": {
             "colorbar": {
              "outlinewidth": 0,
              "ticks": ""
             }
            },
            "type": "parcoords"
           }
          ],
          "pie": [
           {
            "automargin": true,
            "type": "pie"
           }
          ],
          "scatter": [
           {
            "fillpattern": {
             "fillmode": "overlay",
             "size": 10,
             "solidity": 0.2
            },
            "type": "scatter"
           }
          ],
          "scatter3d": [
           {
            "line": {
             "colorbar": {
              "outlinewidth": 0,
              "ticks": ""
             }
            },
            "marker": {
             "colorbar": {
              "outlinewidth": 0,
              "ticks": ""
             }
            },
            "type": "scatter3d"
           }
          ],
          "scattercarpet": [
           {
            "marker": {
             "colorbar": {
              "outlinewidth": 0,
              "ticks": ""
             }
            },
            "type": "scattercarpet"
           }
          ],
          "scattergeo": [
           {
            "marker": {
             "colorbar": {
              "outlinewidth": 0,
              "ticks": ""
             }
            },
            "type": "scattergeo"
           }
          ],
          "scattergl": [
           {
            "marker": {
             "colorbar": {
              "outlinewidth": 0,
              "ticks": ""
             }
            },
            "type": "scattergl"
           }
          ],
          "scattermapbox": [
           {
            "marker": {
             "colorbar": {
              "outlinewidth": 0,
              "ticks": ""
             }
            },
            "type": "scattermapbox"
           }
          ],
          "scatterpolar": [
           {
            "marker": {
             "colorbar": {
              "outlinewidth": 0,
              "ticks": ""
             }
            },
            "type": "scatterpolar"
           }
          ],
          "scatterpolargl": [
           {
            "marker": {
             "colorbar": {
              "outlinewidth": 0,
              "ticks": ""
             }
            },
            "type": "scatterpolargl"
           }
          ],
          "scatterternary": [
           {
            "marker": {
             "colorbar": {
              "outlinewidth": 0,
              "ticks": ""
             }
            },
            "type": "scatterternary"
           }
          ],
          "surface": [
           {
            "colorbar": {
             "outlinewidth": 0,
             "ticks": ""
            },
            "colorscale": [
             [
              0,
              "#0d0887"
             ],
             [
              0.1111111111111111,
              "#46039f"
             ],
             [
              0.2222222222222222,
              "#7201a8"
             ],
             [
              0.3333333333333333,
              "#9c179e"
             ],
             [
              0.4444444444444444,
              "#bd3786"
             ],
             [
              0.5555555555555556,
              "#d8576b"
             ],
             [
              0.6666666666666666,
              "#ed7953"
             ],
             [
              0.7777777777777778,
              "#fb9f3a"
             ],
             [
              0.8888888888888888,
              "#fdca26"
             ],
             [
              1,
              "#f0f921"
             ]
            ],
            "type": "surface"
           }
          ],
          "table": [
           {
            "cells": {
             "fill": {
              "color": "#EBF0F8"
             },
             "line": {
              "color": "white"
             }
            },
            "header": {
             "fill": {
              "color": "#C8D4E3"
             },
             "line": {
              "color": "white"
             }
            },
            "type": "table"
           }
          ]
         },
         "layout": {
          "annotationdefaults": {
           "arrowcolor": "#2a3f5f",
           "arrowhead": 0,
           "arrowwidth": 1
          },
          "autotypenumbers": "strict",
          "coloraxis": {
           "colorbar": {
            "outlinewidth": 0,
            "ticks": ""
           }
          },
          "colorscale": {
           "diverging": [
            [
             0,
             "#8e0152"
            ],
            [
             0.1,
             "#c51b7d"
            ],
            [
             0.2,
             "#de77ae"
            ],
            [
             0.3,
             "#f1b6da"
            ],
            [
             0.4,
             "#fde0ef"
            ],
            [
             0.5,
             "#f7f7f7"
            ],
            [
             0.6,
             "#e6f5d0"
            ],
            [
             0.7,
             "#b8e186"
            ],
            [
             0.8,
             "#7fbc41"
            ],
            [
             0.9,
             "#4d9221"
            ],
            [
             1,
             "#276419"
            ]
           ],
           "sequential": [
            [
             0,
             "#0d0887"
            ],
            [
             0.1111111111111111,
             "#46039f"
            ],
            [
             0.2222222222222222,
             "#7201a8"
            ],
            [
             0.3333333333333333,
             "#9c179e"
            ],
            [
             0.4444444444444444,
             "#bd3786"
            ],
            [
             0.5555555555555556,
             "#d8576b"
            ],
            [
             0.6666666666666666,
             "#ed7953"
            ],
            [
             0.7777777777777778,
             "#fb9f3a"
            ],
            [
             0.8888888888888888,
             "#fdca26"
            ],
            [
             1,
             "#f0f921"
            ]
           ],
           "sequentialminus": [
            [
             0,
             "#0d0887"
            ],
            [
             0.1111111111111111,
             "#46039f"
            ],
            [
             0.2222222222222222,
             "#7201a8"
            ],
            [
             0.3333333333333333,
             "#9c179e"
            ],
            [
             0.4444444444444444,
             "#bd3786"
            ],
            [
             0.5555555555555556,
             "#d8576b"
            ],
            [
             0.6666666666666666,
             "#ed7953"
            ],
            [
             0.7777777777777778,
             "#fb9f3a"
            ],
            [
             0.8888888888888888,
             "#fdca26"
            ],
            [
             1,
             "#f0f921"
            ]
           ]
          },
          "colorway": [
           "#636efa",
           "#EF553B",
           "#00cc96",
           "#ab63fa",
           "#FFA15A",
           "#19d3f3",
           "#FF6692",
           "#B6E880",
           "#FF97FF",
           "#FECB52"
          ],
          "font": {
           "color": "#2a3f5f"
          },
          "geo": {
           "bgcolor": "white",
           "lakecolor": "white",
           "landcolor": "#E5ECF6",
           "showlakes": true,
           "showland": true,
           "subunitcolor": "white"
          },
          "hoverlabel": {
           "align": "left"
          },
          "hovermode": "closest",
          "mapbox": {
           "style": "light"
          },
          "paper_bgcolor": "white",
          "plot_bgcolor": "#E5ECF6",
          "polar": {
           "angularaxis": {
            "gridcolor": "white",
            "linecolor": "white",
            "ticks": ""
           },
           "bgcolor": "#E5ECF6",
           "radialaxis": {
            "gridcolor": "white",
            "linecolor": "white",
            "ticks": ""
           }
          },
          "scene": {
           "xaxis": {
            "backgroundcolor": "#E5ECF6",
            "gridcolor": "white",
            "gridwidth": 2,
            "linecolor": "white",
            "showbackground": true,
            "ticks": "",
            "zerolinecolor": "white"
           },
           "yaxis": {
            "backgroundcolor": "#E5ECF6",
            "gridcolor": "white",
            "gridwidth": 2,
            "linecolor": "white",
            "showbackground": true,
            "ticks": "",
            "zerolinecolor": "white"
           },
           "zaxis": {
            "backgroundcolor": "#E5ECF6",
            "gridcolor": "white",
            "gridwidth": 2,
            "linecolor": "white",
            "showbackground": true,
            "ticks": "",
            "zerolinecolor": "white"
           }
          },
          "shapedefaults": {
           "line": {
            "color": "#2a3f5f"
           }
          },
          "ternary": {
           "aaxis": {
            "gridcolor": "white",
            "linecolor": "white",
            "ticks": ""
           },
           "baxis": {
            "gridcolor": "white",
            "linecolor": "white",
            "ticks": ""
           },
           "bgcolor": "#E5ECF6",
           "caxis": {
            "gridcolor": "white",
            "linecolor": "white",
            "ticks": ""
           }
          },
          "title": {
           "x": 0.05
          },
          "xaxis": {
           "automargin": true,
           "gridcolor": "white",
           "linecolor": "white",
           "ticks": "",
           "title": {
            "standoff": 15
           },
           "zerolinecolor": "white",
           "zerolinewidth": 2
          },
          "yaxis": {
           "automargin": true,
           "gridcolor": "white",
           "linecolor": "white",
           "ticks": "",
           "title": {
            "standoff": 15
           },
           "zerolinecolor": "white",
           "zerolinewidth": 2
          }
         }
        },
        "title": {
         "text": "Hyperparameter Importances"
        },
        "xaxis": {
         "title": {
          "text": "Hyperparameter Importance"
         }
        },
        "yaxis": {
         "title": {
          "text": "Hyperparameter"
         }
        }
       }
      }
     },
     "metadata": {},
     "output_type": "display_data"
    }
   ],
   "source": [
    "plot_param_importances(study_2, target_names=[\"accuracy\", \"model_size\"])"
   ]
  },
  {
   "cell_type": "code",
   "execution_count": 24,
   "metadata": {},
   "outputs": [
    {
     "ename": "ValueError",
     "evalue": "If the `study` is being used for multi-objective optimization, please specify the `target`.",
     "output_type": "error",
     "traceback": [
      "\u001b[0;31m---------------------------------------------------------------------------\u001b[0m",
      "\u001b[0;31mValueError\u001b[0m                                Traceback (most recent call last)",
      "Cell \u001b[0;32mIn[24], line 1\u001b[0m\n\u001b[0;32m----> 1\u001b[0m \u001b[43mplot_parallel_coordinate\u001b[49m\u001b[43m(\u001b[49m\n\u001b[1;32m      2\u001b[0m \u001b[43m    \u001b[49m\u001b[43mstudy_2\u001b[49m\u001b[43m,\u001b[49m\n\u001b[1;32m      3\u001b[0m \u001b[43m    \u001b[49m\u001b[43m[\u001b[49m\n\u001b[1;32m      4\u001b[0m \u001b[43m        \u001b[49m\u001b[38;5;124;43m\"\u001b[39;49m\u001b[38;5;124;43mlr_inicial\u001b[39;49m\u001b[38;5;124;43m\"\u001b[39;49m\u001b[43m,\u001b[49m\n\u001b[1;32m      5\u001b[0m \u001b[43m        \u001b[49m\u001b[38;5;124;43m\"\u001b[39;49m\u001b[38;5;124;43mnum_layers\u001b[39;49m\u001b[38;5;124;43m\"\u001b[39;49m\u001b[43m,\u001b[49m\n\u001b[1;32m      6\u001b[0m \u001b[43m        \u001b[49m\u001b[38;5;124;43m\"\u001b[39;49m\u001b[38;5;124;43mlayer_0\u001b[39;49m\u001b[38;5;124;43m\"\u001b[39;49m\u001b[43m,\u001b[49m\n\u001b[1;32m      7\u001b[0m \u001b[43m        \u001b[49m\u001b[38;5;124;43m\"\u001b[39;49m\u001b[38;5;124;43mactivation_0\u001b[39;49m\u001b[38;5;124;43m\"\u001b[39;49m\u001b[43m,\u001b[49m\n\u001b[1;32m      8\u001b[0m \u001b[43m    \u001b[49m\u001b[43m]\u001b[49m\u001b[43m,\u001b[49m\n\u001b[1;32m      9\u001b[0m \u001b[43m)\u001b[49m\n",
      "File \u001b[0;32m~/Desktop/dnn_processor/.venv/lib/python3.10/site-packages/optuna/visualization/_parallel_coordinate.py:106\u001b[0m, in \u001b[0;36mplot_parallel_coordinate\u001b[0;34m(study, params, target, target_name)\u001b[0m\n\u001b[1;32m     57\u001b[0m \u001b[38;5;250m\u001b[39m\u001b[38;5;124;03m\"\"\"Plot the high-dimensional parameter relationships in a study.\u001b[39;00m\n\u001b[1;32m     58\u001b[0m \n\u001b[1;32m     59\u001b[0m \u001b[38;5;124;03mNote that, if a parameter contains missing values, a trial with missing values is not plotted.\u001b[39;00m\n\u001b[0;32m   (...)\u001b[0m\n\u001b[1;32m    102\u001b[0m \u001b[38;5;124;03m    of :class:`~optuna.study.Study` is ``minimize``.\u001b[39;00m\n\u001b[1;32m    103\u001b[0m \u001b[38;5;124;03m\"\"\"\u001b[39;00m\n\u001b[1;32m    105\u001b[0m _imports\u001b[38;5;241m.\u001b[39mcheck()\n\u001b[0;32m--> 106\u001b[0m info \u001b[38;5;241m=\u001b[39m \u001b[43m_get_parallel_coordinate_info\u001b[49m\u001b[43m(\u001b[49m\u001b[43mstudy\u001b[49m\u001b[43m,\u001b[49m\u001b[43m \u001b[49m\u001b[43mparams\u001b[49m\u001b[43m,\u001b[49m\u001b[43m \u001b[49m\u001b[43mtarget\u001b[49m\u001b[43m,\u001b[49m\u001b[43m \u001b[49m\u001b[43mtarget_name\u001b[49m\u001b[43m)\u001b[49m\n\u001b[1;32m    107\u001b[0m \u001b[38;5;28;01mreturn\u001b[39;00m _get_parallel_coordinate_plot(info)\n",
      "File \u001b[0;32m~/Desktop/dnn_processor/.venv/lib/python3.10/site-packages/optuna/visualization/_parallel_coordinate.py:146\u001b[0m, in \u001b[0;36m_get_parallel_coordinate_info\u001b[0;34m(study, params, target, target_name)\u001b[0m\n\u001b[1;32m    140\u001b[0m \u001b[38;5;28;01mdef\u001b[39;00m \u001b[38;5;21m_get_parallel_coordinate_info\u001b[39m(\n\u001b[1;32m    141\u001b[0m     study: Study,\n\u001b[1;32m    142\u001b[0m     params: \u001b[38;5;28mlist\u001b[39m[\u001b[38;5;28mstr\u001b[39m] \u001b[38;5;241m|\u001b[39m \u001b[38;5;28;01mNone\u001b[39;00m \u001b[38;5;241m=\u001b[39m \u001b[38;5;28;01mNone\u001b[39;00m,\n\u001b[1;32m    143\u001b[0m     target: Callable[[FrozenTrial], \u001b[38;5;28mfloat\u001b[39m] \u001b[38;5;241m|\u001b[39m \u001b[38;5;28;01mNone\u001b[39;00m \u001b[38;5;241m=\u001b[39m \u001b[38;5;28;01mNone\u001b[39;00m,\n\u001b[1;32m    144\u001b[0m     target_name: \u001b[38;5;28mstr\u001b[39m \u001b[38;5;241m=\u001b[39m \u001b[38;5;124m\"\u001b[39m\u001b[38;5;124mObjective Value\u001b[39m\u001b[38;5;124m\"\u001b[39m,\n\u001b[1;32m    145\u001b[0m ) \u001b[38;5;241m-\u001b[39m\u001b[38;5;241m>\u001b[39m _ParallelCoordinateInfo:\n\u001b[0;32m--> 146\u001b[0m     \u001b[43m_check_plot_args\u001b[49m\u001b[43m(\u001b[49m\u001b[43mstudy\u001b[49m\u001b[43m,\u001b[49m\u001b[43m \u001b[49m\u001b[43mtarget\u001b[49m\u001b[43m,\u001b[49m\u001b[43m \u001b[49m\u001b[43mtarget_name\u001b[49m\u001b[43m)\u001b[49m\n\u001b[1;32m    148\u001b[0m     reverse_scale \u001b[38;5;241m=\u001b[39m _is_reverse_scale(study, target)\n\u001b[1;32m    150\u001b[0m     trials \u001b[38;5;241m=\u001b[39m _filter_nonfinite(\n\u001b[1;32m    151\u001b[0m         study\u001b[38;5;241m.\u001b[39mget_trials(deepcopy\u001b[38;5;241m=\u001b[39m\u001b[38;5;28;01mFalse\u001b[39;00m, states\u001b[38;5;241m=\u001b[39m(TrialState\u001b[38;5;241m.\u001b[39mCOMPLETE,)), target\u001b[38;5;241m=\u001b[39mtarget\n\u001b[1;32m    152\u001b[0m     )\n",
      "File \u001b[0;32m~/Desktop/dnn_processor/.venv/lib/python3.10/site-packages/optuna/visualization/_utils.py:61\u001b[0m, in \u001b[0;36m_check_plot_args\u001b[0;34m(study, target, target_name)\u001b[0m\n\u001b[1;32m     58\u001b[0m     studies \u001b[38;5;241m=\u001b[39m study\n\u001b[1;32m     60\u001b[0m \u001b[38;5;28;01mif\u001b[39;00m target \u001b[38;5;129;01mis\u001b[39;00m \u001b[38;5;28;01mNone\u001b[39;00m \u001b[38;5;129;01mand\u001b[39;00m \u001b[38;5;28many\u001b[39m(study\u001b[38;5;241m.\u001b[39m_is_multi_objective() \u001b[38;5;28;01mfor\u001b[39;00m study \u001b[38;5;129;01min\u001b[39;00m studies):\n\u001b[0;32m---> 61\u001b[0m     \u001b[38;5;28;01mraise\u001b[39;00m \u001b[38;5;167;01mValueError\u001b[39;00m(\n\u001b[1;32m     62\u001b[0m         \u001b[38;5;124m\"\u001b[39m\u001b[38;5;124mIf the `study` is being used for multi-objective optimization, \u001b[39m\u001b[38;5;124m\"\u001b[39m\n\u001b[1;32m     63\u001b[0m         \u001b[38;5;124m\"\u001b[39m\u001b[38;5;124mplease specify the `target`.\u001b[39m\u001b[38;5;124m\"\u001b[39m\n\u001b[1;32m     64\u001b[0m     )\n\u001b[1;32m     66\u001b[0m \u001b[38;5;28;01mif\u001b[39;00m target \u001b[38;5;129;01mis\u001b[39;00m \u001b[38;5;129;01mnot\u001b[39;00m \u001b[38;5;28;01mNone\u001b[39;00m \u001b[38;5;129;01mand\u001b[39;00m target_name \u001b[38;5;241m==\u001b[39m \u001b[38;5;124m\"\u001b[39m\u001b[38;5;124mObjective Value\u001b[39m\u001b[38;5;124m\"\u001b[39m:\n\u001b[1;32m     67\u001b[0m     warnings\u001b[38;5;241m.\u001b[39mwarn(\n\u001b[1;32m     68\u001b[0m         \u001b[38;5;124m\"\u001b[39m\u001b[38;5;124m`target` is specified, but `target_name` is the default value, \u001b[39m\u001b[38;5;124m'\u001b[39m\u001b[38;5;124mObjective Value\u001b[39m\u001b[38;5;124m'\u001b[39m\u001b[38;5;124m.\u001b[39m\u001b[38;5;124m\"\u001b[39m\n\u001b[1;32m     69\u001b[0m     )\n",
      "\u001b[0;31mValueError\u001b[0m: If the `study` is being used for multi-objective optimization, please specify the `target`."
     ]
    }
   ],
   "source": [
    "plot_parallel_coordinate(\n",
    "    study_2,\n",
    "    [\n",
    "        \"lr_inicial\",\n",
    "        \"num_layers\",\n",
    "        \"layer_0\",\n",
    "        \"activation_0\",\n",
    "    ],\n",
    ")"
   ]
  },
  {
   "cell_type": "code",
   "execution_count": null,
   "metadata": {},
   "outputs": [],
   "source": []
  }
 ],
 "metadata": {
  "kernelspec": {
   "display_name": ".venv",
   "language": "python",
   "name": "python3"
  },
  "language_info": {
   "codemirror_mode": {
    "name": "ipython",
    "version": 3
   },
   "file_extension": ".py",
   "mimetype": "text/x-python",
   "name": "python",
   "nbconvert_exporter": "python",
   "pygments_lexer": "ipython3",
   "version": "3.10.12"
  }
 },
 "nbformat": 4,
 "nbformat_minor": 2
}
