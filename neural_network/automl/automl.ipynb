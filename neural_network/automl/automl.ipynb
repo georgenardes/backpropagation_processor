{
 "cells": [
  {
   "cell_type": "markdown",
   "metadata": {},
   "source": [
    "# import libs"
   ]
  },
  {
   "cell_type": "code",
   "execution_count": 1,
   "metadata": {},
   "outputs": [
    {
     "name": "stdout",
     "output_type": "stream",
     "text": [
      "Using TensorFlow backend\n"
     ]
    },
    {
     "name": "stderr",
     "output_type": "stream",
     "text": [
      "/home/webphy/Desktop/dnn_processor/.venv/lib/python3.10/site-packages/tqdm/auto.py:21: TqdmWarning: IProgress not found. Please update jupyter and ipywidgets. See https://ipywidgets.readthedocs.io/en/stable/user_install.html\n",
      "  from .autonotebook import tqdm as notebook_tqdm\n"
     ]
    }
   ],
   "source": [
    "import sys\n",
    "import os\n",
    "os.environ['TF_CPP_MIN_LOG_LEVEL'] = '3'\n",
    "\n",
    "sys.path.append(\"/home/webphy/Desktop/dnn_processor/\")  # just to enable `dataset`\n",
    "sys.path.append(\n",
    "    \"/home/webphy/Desktop/dnn_processor/dataset/\"\n",
    ")  # just to enable `dataset`\n",
    "\n",
    "import tensorflow as tf\n",
    "import optuna\n",
    "import dataset\n",
    "import numpy as np\n",
    "import keras\n",
    "import joblib\n",
    "from datetime import datetime\n",
    "from keras import layers\n",
    "import keras_cv"
   ]
  },
  {
   "cell_type": "markdown",
   "metadata": {},
   "source": [
    "##  define constants and create dataset\n"
   ]
  },
  {
   "cell_type": "code",
   "execution_count": 2,
   "metadata": {},
   "outputs": [],
   "source": [
    "NTRIALS = 300\n",
    "BATCH_SIZE = 64\n",
    "EPOCHS = 100\n",
    "\n",
    "train_images_rgx = \"../../dataset/resized_dataset_texturas_v2/*/*.jpeg\"\n",
    "valid_images_rgx = \"../../dataset/resized_dataset_texturas_v2_test/*/*.jpeg\"\n",
    "\n",
    "layer_options = [\"Conv2D\", \"Depthwise2D\", \"Pointwise2D\"]\n",
    "activation_options = [\"linear\", \"relu\", \"tanh\"]\n",
    "filter_size_options = [3, 4, 5, 8, 16]\n",
    "\n",
    "train_dataset, val_dataset, num_classes = dataset.create_datasets(\n",
    "    train_images_rgx, valid_images_rgx, BATCH_SIZE\n",
    ")"
   ]
  },
  {
   "cell_type": "markdown",
   "metadata": {},
   "source": [
    "## define create model function\n"
   ]
  },
  {
   "cell_type": "code",
   "execution_count": 3,
   "metadata": {},
   "outputs": [],
   "source": [
    "def clip_filter_size(fs, ih):\n",
    "    return min(fs, ih)\n",
    "\n",
    "\n",
    "def create_layer(trial, layer_type, layer_id, max_stride, input_h_size):\n",
    "    if layer_type == \"Conv2D\":\n",
    "        num_filters = trial.suggest_int(\n",
    "            f\"layer_{layer_id}_conv2d_filters\", 4, 32, step=4\n",
    "        )\n",
    "        filter_size = trial.suggest_categorical(\n",
    "            f\"layer_{layer_id}_conv2d_fsize\", filter_size_options\n",
    "        )\n",
    "\n",
    "        stride_size = trial.suggest_int(f\"layer_{layer_id}_conv2d_ssize\", 1, max_stride)\n",
    "        layer = layers.Conv2D(\n",
    "            num_filters, clip_filter_size(filter_size, input_h_size), stride_size\n",
    "        )\n",
    "\n",
    "    elif layer_type == \"Depthwise2D\":\n",
    "        filter_size = trial.suggest_categorical(\n",
    "            f\"layer_{layer_id}_dwconv2d_fsize\", filter_size_options\n",
    "        )\n",
    "        stride_size = trial.suggest_int(\n",
    "            f\"layer_{layer_id}_dwconv2d_ssize\", 1, max_stride\n",
    "        )\n",
    "        layer = layers.DepthwiseConv2D(\n",
    "            clip_filter_size(filter_size, input_h_size), stride_size\n",
    "        )\n",
    "\n",
    "    elif layer_type == \"Pointwise2D\":\n",
    "        num_filters = trial.suggest_int(\n",
    "            f\"layer_{layer_id}_pwconv2d_filters\", 4, 32, step=4\n",
    "        )\n",
    "        stride_size = trial.suggest_int(\n",
    "            f\"layer_{layer_id}_pwconv2d_ssize\", 1, max_stride\n",
    "        )\n",
    "        layer = layers.Conv2D(num_filters, 1, stride_size)\n",
    "\n",
    "    return layer\n",
    "\n",
    "\n",
    "def create_augmentation_layers(trial, x):\n",
    "    # augmix_severity = trial.suggest_float(\"augmix_severity\", 0.0, 0.5)\n",
    "    brightness_factor = trial.suggest_float(\"brightness_factor\", 0, 0.2)\n",
    "    gaussian_noise_factor = trial.suggest_float(\"gaussian_noise_factor\", 0, 0.2)\n",
    "    translate_factor = trial.suggest_float(\"translate_factor\", 0, 0.2)\n",
    "\n",
    "    # x = keras_cv.layers.AugMix(value_range=(0, 1), severity=augmix_severity)(x)\n",
    "    x = layers.RandomBrightness(brightness_factor, (0, 1.0))(x)\n",
    "    x = layers.RandomFlip()(x)\n",
    "    x = layers.RandomTranslation(translate_factor, translate_factor)(x)\n",
    "    x = layers.GaussianNoise(gaussian_noise_factor)(x)\n",
    "\n",
    "    return x\n",
    "\n",
    "\n",
    "def create_model(trial):\n",
    "    # add the input layer\n",
    "    x = x_in = layers.Input(shape=(256, 256, 3))\n",
    "\n",
    "    x = create_augmentation_layers(trial, x)\n",
    "\n",
    "    # suggent a number of layer\n",
    "    num_layers = trial.suggest_categorical(\"num_layers\", [1, 2, 4])\n",
    "\n",
    "    # limits the stride\n",
    "    max_stride = 16 // num_layers\n",
    "\n",
    "    # convolutional layers\n",
    "    for i in range(num_layers):\n",
    "        layer_selected = trial.suggest_categorical(f\"layer_{i}\", layer_options)\n",
    "        layer = create_layer(\n",
    "            trial, layer_selected, i, max_stride, input_h_size=x.shape[1]\n",
    "        )\n",
    "        x = layer(x)\n",
    "        act_selected = trial.suggest_categorical(f\"activation_{i}\", activation_options)\n",
    "        x = layers.Activation(act_selected)(x)\n",
    "\n",
    "    # output layer\n",
    "    x = layers.Flatten()(x)\n",
    "    x = layers.Dropout(trial.suggest_float(\"output_dropout\", 0.3, 0.6))(x)\n",
    "    x = layers.Dense(num_classes, activation=\"softmax\")(x)\n",
    "\n",
    "    return keras.Model(x_in, x)"
   ]
  },
  {
   "cell_type": "markdown",
   "metadata": {},
   "source": [
    "# if testing"
   ]
  },
  {
   "cell_type": "markdown",
   "metadata": {},
   "source": [
    "\n",
    "```\n",
    "class MockTrial:\n",
    "    def suggest_int(self, name, min, max, step=None, log=False):\n",
    "        return np.random.randint(min, max)\n",
    "\n",
    "    def suggest_float(self, name, min, max, step=None, log=False):\n",
    "        return np.random.uniform(min, max)\n",
    "\n",
    "    def suggest_categorical(self, name, options):\n",
    "        print(name)\n",
    "        return options[np.random.randint(0, len(options) - 1)]\n",
    "\n",
    "    def suggest_discrete_uniform(self, name, min, max, q):\n",
    "        return (np.random.randint(min, max) // q) * q\n",
    "\n",
    "model = create_model(MockTrial())\n",
    "model.build(input_shape=(BATCH_SIZE, 256, 256, 3))\n",
    "model.summary()\n",
    "model.save(\"saved_models/test/\")\n",
    "```"
   ]
  },
  {
   "cell_type": "code",
   "execution_count": 4,
   "metadata": {},
   "outputs": [],
   "source": [
    "def create_optimizer(trial):\n",
    "    lr = trial.suggest_float(\"lr_inicial\", 1e-4, 2e-3, log=True)\n",
    "    optimizer = keras.optimizers.Adam(lr)\n",
    "    return optimizer\n",
    "\n",
    "\n",
    "def create_model_checkpointer(save_path):\n",
    "    return keras.callbacks.ModelCheckpoint(\n",
    "        save_path + \"weights/\",\n",
    "        \"val_accuracy\",\n",
    "        mode=\"max\",\n",
    "        save_best_only=True,\n",
    "        save_weights_only=True,\n",
    "    )\n",
    "\n",
    "\n",
    "def crate_early_stopper():\n",
    "    return keras.callbacks.EarlyStopping(\n",
    "        monitor=\"val_accuracy\",\n",
    "        min_delta=0.1,\n",
    "        patience=20,\n",
    "        verbose=0,\n",
    "        mode=\"max\",\n",
    "        start_from_epoch=50,\n",
    "    )\n",
    "\n",
    "\n",
    "\n",
    "def objective(trial):\n",
    "    BATCH_SIZE = trial.suggest_int(\"batchsize\", 32, 128, step=32)\n",
    "    \n",
    "    # load data\n",
    "    train_dataset, val_dataset, num_classes = dataset.create_datasets(\n",
    "        train_images_rgx, valid_images_rgx, BATCH_SIZE\n",
    "    )\n",
    "\n",
    "    # Build model and optimizer.\n",
    "    model = create_model(trial)\n",
    "    assert isinstance(model, keras.Model), \"model is not a model\"\n",
    "\n",
    "    optimizer = create_optimizer(trial)\n",
    "\n",
    "    # compile the model\n",
    "    model.compile(\n",
    "        optimizer, loss=keras.losses.categorical_crossentropy, metrics=[\"accuracy\"]\n",
    "    )\n",
    "\n",
    "    # crate model checkpointer\n",
    "    saved_best_model_path = f\"saved_models/{EXP_ID}/best_model_t{trial._trial_id}/\"\n",
    "    model.save(saved_best_model_path, True, \"tf\")  # save all model\n",
    "\n",
    "    model_chkp = create_model_checkpointer(saved_best_model_path)\n",
    "    early_stopper = crate_early_stopper()\n",
    "\n",
    "    # Training and validating cycle.\n",
    "    history = model.fit(\n",
    "        train_dataset,\n",
    "        validation_data=val_dataset,\n",
    "        epochs=EPOCHS,\n",
    "        callbacks=[model_chkp, early_stopper],\n",
    "        verbose=\"auto\",\n",
    "    )\n",
    "    \n",
    "    # load best model\n",
    "    model.load_weights(saved_best_model_path + \"weights/\")    \n",
    "\n",
    "    # Evaluate the model accuracy on the validation set.\n",
    "    score = model.evaluate(val_dataset, verbose=0)\n",
    "    \n",
    "    # Return best model validation accuracy.\n",
    "    return score[1]\n",
    "\n",
    "\n",
    "def search():\n",
    "    study = optuna.create_study(\n",
    "        direction=\"maximize\",\n",
    "        sampler=optuna.samplers.TPESampler(),\n",
    "    )\n",
    "    study.optimize(objective, n_trials=NTRIALS)\n",
    "    return study"
   ]
  },
  {
   "cell_type": "markdown",
   "metadata": {},
   "source": [
    "# start search"
   ]
  },
  {
   "cell_type": "code",
   "execution_count": 5,
   "metadata": {},
   "outputs": [
    {
     "name": "stderr",
     "output_type": "stream",
     "text": [
      "[I 2024-01-30 21:11:15,213] A new study created in memory with name: no-name-c9c47ad8-82dc-4da8-81af-197baebf7937\n"
     ]
    },
    {
     "name": "stdout",
     "output_type": "stream",
     "text": [
      "INFO:tensorflow:Assets written to: saved_models/exp4_with_aug/best_model_t0/assets\n"
     ]
    },
    {
     "name": "stderr",
     "output_type": "stream",
     "text": [
      "INFO:tensorflow:Assets written to: saved_models/exp4_with_aug/best_model_t0/assets\n",
      "WARNING: All log messages before absl::InitializeLog() is called are written to STDERR\n",
      "I0000 00:00:1706659878.687900 3088249 device_compiler.h:186] Compiled cluster using XLA!  This line is logged at most once for the lifetime of the process.\n",
      "[I 2024-01-30 21:11:32,964] Trial 0 finished with value: 0.699999988079071 and parameters: {'batchsize': 128, 'brightness_factor': 0.014321297262167399, 'gaussian_noise_factor': 0.11424661493919946, 'translate_factor': 0.053700753742687235, 'num_layers': 2, 'layer_0': 'Conv2D', 'layer_0_conv2d_filters': 16, 'layer_0_conv2d_fsize': 8, 'layer_0_conv2d_ssize': 7, 'activation_0': 'linear', 'layer_1': 'Conv2D', 'layer_1_conv2d_filters': 12, 'layer_1_conv2d_fsize': 4, 'layer_1_conv2d_ssize': 2, 'activation_1': 'linear', 'output_dropout': 0.3086555258231815, 'lr_inicial': 0.0008812211746603344}. Best is trial 0 with value: 0.699999988079071.\n"
     ]
    },
    {
     "name": "stdout",
     "output_type": "stream",
     "text": [
      "INFO:tensorflow:Assets written to: saved_models/exp4_with_aug/best_model_t1/assets\n"
     ]
    },
    {
     "name": "stderr",
     "output_type": "stream",
     "text": [
      "INFO:tensorflow:Assets written to: saved_models/exp4_with_aug/best_model_t1/assets\n",
      "[I 2024-01-30 21:11:46,295] Trial 1 finished with value: 0.6000000238418579 and parameters: {'batchsize': 96, 'brightness_factor': 0.06562384780797118, 'gaussian_noise_factor': 0.052522566217725886, 'translate_factor': 0.030106894776780947, 'num_layers': 2, 'layer_0': 'Pointwise2D', 'layer_0_pwconv2d_filters': 12, 'layer_0_pwconv2d_ssize': 5, 'activation_0': 'linear', 'layer_1': 'Pointwise2D', 'layer_1_pwconv2d_filters': 8, 'layer_1_pwconv2d_ssize': 5, 'activation_1': 'relu', 'output_dropout': 0.4164676880457159, 'lr_inicial': 0.0002584176626691037}. Best is trial 0 with value: 0.699999988079071.\n"
     ]
    },
    {
     "name": "stdout",
     "output_type": "stream",
     "text": [
      "INFO:tensorflow:Assets written to: saved_models/exp4_with_aug/best_model_t2/assets\n"
     ]
    },
    {
     "name": "stderr",
     "output_type": "stream",
     "text": [
      "INFO:tensorflow:Assets written to: saved_models/exp4_with_aug/best_model_t2/assets\n",
      "[I 2024-01-30 21:12:17,975] Trial 2 finished with value: 0.8399999737739563 and parameters: {'batchsize': 64, 'brightness_factor': 0.07674263568570235, 'gaussian_noise_factor': 0.02641496660277989, 'translate_factor': 0.14503548610128283, 'num_layers': 4, 'layer_0': 'Pointwise2D', 'layer_0_pwconv2d_filters': 28, 'layer_0_pwconv2d_ssize': 2, 'activation_0': 'tanh', 'layer_1': 'Depthwise2D', 'layer_1_dwconv2d_fsize': 4, 'layer_1_dwconv2d_ssize': 1, 'activation_1': 'relu', 'layer_2': 'Pointwise2D', 'layer_2_pwconv2d_filters': 12, 'layer_2_pwconv2d_ssize': 3, 'activation_2': 'linear', 'layer_3': 'Depthwise2D', 'layer_3_dwconv2d_fsize': 16, 'layer_3_dwconv2d_ssize': 2, 'activation_3': 'linear', 'output_dropout': 0.5869944632151431, 'lr_inicial': 0.0016448642379370349}. Best is trial 2 with value: 0.8399999737739563.\n"
     ]
    },
    {
     "name": "stdout",
     "output_type": "stream",
     "text": [
      "INFO:tensorflow:Assets written to: saved_models/exp4_with_aug/best_model_t3/assets\n"
     ]
    },
    {
     "name": "stderr",
     "output_type": "stream",
     "text": [
      "INFO:tensorflow:Assets written to: saved_models/exp4_with_aug/best_model_t3/assets\n",
      "[I 2024-01-30 21:12:31,569] Trial 3 finished with value: 0.6600000262260437 and parameters: {'batchsize': 128, 'brightness_factor': 0.013940856153400571, 'gaussian_noise_factor': 0.038410447224794475, 'translate_factor': 0.11954515558448714, 'num_layers': 1, 'layer_0': 'Depthwise2D', 'layer_0_dwconv2d_fsize': 5, 'layer_0_dwconv2d_ssize': 6, 'activation_0': 'linear', 'output_dropout': 0.5900219089855547, 'lr_inicial': 0.0005084900524443756}. Best is trial 2 with value: 0.8399999737739563.\n"
     ]
    },
    {
     "name": "stdout",
     "output_type": "stream",
     "text": [
      "INFO:tensorflow:Assets written to: saved_models/exp4_with_aug/best_model_t4/assets\n"
     ]
    },
    {
     "name": "stderr",
     "output_type": "stream",
     "text": [
      "INFO:tensorflow:Assets written to: saved_models/exp4_with_aug/best_model_t4/assets\n",
      "[I 2024-01-30 21:12:47,716] Trial 4 finished with value: 0.7200000286102295 and parameters: {'batchsize': 96, 'brightness_factor': 0.05451739461486445, 'gaussian_noise_factor': 0.059260870730380714, 'translate_factor': 0.12713245788451613, 'num_layers': 4, 'layer_0': 'Pointwise2D', 'layer_0_pwconv2d_filters': 8, 'layer_0_pwconv2d_ssize': 2, 'activation_0': 'tanh', 'layer_1': 'Depthwise2D', 'layer_1_dwconv2d_fsize': 5, 'layer_1_dwconv2d_ssize': 3, 'activation_1': 'linear', 'layer_2': 'Pointwise2D', 'layer_2_pwconv2d_filters': 20, 'layer_2_pwconv2d_ssize': 3, 'activation_2': 'linear', 'layer_3': 'Conv2D', 'layer_3_conv2d_filters': 32, 'layer_3_conv2d_fsize': 5, 'layer_3_conv2d_ssize': 3, 'activation_3': 'relu', 'output_dropout': 0.4035183014712884, 'lr_inicial': 0.0015959264708258218}. Best is trial 2 with value: 0.8399999737739563.\n"
     ]
    },
    {
     "name": "stdout",
     "output_type": "stream",
     "text": [
      "INFO:tensorflow:Assets written to: saved_models/exp4_with_aug/best_model_t5/assets\n"
     ]
    },
    {
     "name": "stderr",
     "output_type": "stream",
     "text": [
      "INFO:tensorflow:Assets written to: saved_models/exp4_with_aug/best_model_t5/assets\n",
      "[I 2024-01-30 21:13:10,836] Trial 5 finished with value: 0.6800000071525574 and parameters: {'batchsize': 64, 'brightness_factor': 0.07411665032254203, 'gaussian_noise_factor': 0.15941754362291616, 'translate_factor': 0.08113021618904717, 'num_layers': 4, 'layer_0': 'Pointwise2D', 'layer_0_pwconv2d_filters': 12, 'layer_0_pwconv2d_ssize': 1, 'activation_0': 'linear', 'layer_1': 'Depthwise2D', 'layer_1_dwconv2d_fsize': 4, 'layer_1_dwconv2d_ssize': 3, 'activation_1': 'linear', 'layer_2': 'Pointwise2D', 'layer_2_pwconv2d_filters': 4, 'layer_2_pwconv2d_ssize': 1, 'activation_2': 'tanh', 'layer_3': 'Pointwise2D', 'layer_3_pwconv2d_filters': 12, 'layer_3_pwconv2d_ssize': 3, 'activation_3': 'relu', 'output_dropout': 0.5609383488052462, 'lr_inicial': 0.00029277954019384767}. Best is trial 2 with value: 0.8399999737739563.\n"
     ]
    },
    {
     "name": "stdout",
     "output_type": "stream",
     "text": [
      "INFO:tensorflow:Assets written to: saved_models/exp4_with_aug/best_model_t6/assets\n"
     ]
    },
    {
     "name": "stderr",
     "output_type": "stream",
     "text": [
      "INFO:tensorflow:Assets written to: saved_models/exp4_with_aug/best_model_t6/assets\n",
      "[I 2024-01-30 21:13:23,800] Trial 6 finished with value: 0.6000000238418579 and parameters: {'batchsize': 64, 'brightness_factor': 0.10797851283410519, 'gaussian_noise_factor': 0.17787870684011886, 'translate_factor': 0.19731479518955808, 'num_layers': 1, 'layer_0': 'Depthwise2D', 'layer_0_dwconv2d_fsize': 4, 'layer_0_dwconv2d_ssize': 13, 'activation_0': 'relu', 'output_dropout': 0.36067540921369734, 'lr_inicial': 0.000879759050692179}. Best is trial 2 with value: 0.8399999737739563.\n"
     ]
    },
    {
     "name": "stdout",
     "output_type": "stream",
     "text": [
      "INFO:tensorflow:Assets written to: saved_models/exp4_with_aug/best_model_t7/assets\n"
     ]
    },
    {
     "name": "stderr",
     "output_type": "stream",
     "text": [
      "INFO:tensorflow:Assets written to: saved_models/exp4_with_aug/best_model_t7/assets\n",
      "[I 2024-01-30 21:13:40,306] Trial 7 finished with value: 0.6200000047683716 and parameters: {'batchsize': 32, 'brightness_factor': 0.019605936801136425, 'gaussian_noise_factor': 0.061765337183550886, 'translate_factor': 0.14159978966836204, 'num_layers': 4, 'layer_0': 'Depthwise2D', 'layer_0_dwconv2d_fsize': 5, 'layer_0_dwconv2d_ssize': 2, 'activation_0': 'relu', 'layer_1': 'Depthwise2D', 'layer_1_dwconv2d_fsize': 4, 'layer_1_dwconv2d_ssize': 3, 'activation_1': 'linear', 'layer_2': 'Pointwise2D', 'layer_2_pwconv2d_filters': 24, 'layer_2_pwconv2d_ssize': 4, 'activation_2': 'tanh', 'layer_3': 'Conv2D', 'layer_3_conv2d_filters': 8, 'layer_3_conv2d_fsize': 8, 'layer_3_conv2d_ssize': 3, 'activation_3': 'tanh', 'output_dropout': 0.32625326016326, 'lr_inicial': 0.0003357839612489136}. Best is trial 2 with value: 0.8399999737739563.\n"
     ]
    },
    {
     "name": "stdout",
     "output_type": "stream",
     "text": [
      "INFO:tensorflow:Assets written to: saved_models/exp4_with_aug/best_model_t8/assets\n"
     ]
    },
    {
     "name": "stderr",
     "output_type": "stream",
     "text": [
      "INFO:tensorflow:Assets written to: saved_models/exp4_with_aug/best_model_t8/assets\n",
      "[I 2024-01-30 21:13:53,446] Trial 8 finished with value: 0.7200000286102295 and parameters: {'batchsize': 64, 'brightness_factor': 0.013210334968727366, 'gaussian_noise_factor': 0.09143578398803337, 'translate_factor': 0.1616875727791261, 'num_layers': 1, 'layer_0': 'Pointwise2D', 'layer_0_pwconv2d_filters': 12, 'layer_0_pwconv2d_ssize': 16, 'activation_0': 'linear', 'output_dropout': 0.3447773840077358, 'lr_inicial': 0.0014255698799415708}. Best is trial 2 with value: 0.8399999737739563.\n"
     ]
    },
    {
     "name": "stdout",
     "output_type": "stream",
     "text": [
      "INFO:tensorflow:Assets written to: saved_models/exp4_with_aug/best_model_t9/assets\n"
     ]
    },
    {
     "name": "stderr",
     "output_type": "stream",
     "text": [
      "INFO:tensorflow:Assets written to: saved_models/exp4_with_aug/best_model_t9/assets\n",
      "[I 2024-01-30 21:14:26,372] Trial 9 finished with value: 0.699999988079071 and parameters: {'batchsize': 64, 'brightness_factor': 0.09269550148336055, 'gaussian_noise_factor': 0.05605554538684576, 'translate_factor': 0.16124373284107524, 'num_layers': 4, 'layer_0': 'Pointwise2D', 'layer_0_pwconv2d_filters': 8, 'layer_0_pwconv2d_ssize': 1, 'activation_0': 'linear', 'layer_1': 'Pointwise2D', 'layer_1_pwconv2d_filters': 20, 'layer_1_pwconv2d_ssize': 1, 'activation_1': 'linear', 'layer_2': 'Pointwise2D', 'layer_2_pwconv2d_filters': 4, 'layer_2_pwconv2d_ssize': 4, 'activation_2': 'tanh', 'layer_3': 'Pointwise2D', 'layer_3_pwconv2d_filters': 16, 'layer_3_pwconv2d_ssize': 2, 'activation_3': 'linear', 'output_dropout': 0.539194998485428, 'lr_inicial': 0.00020763512881247288}. Best is trial 2 with value: 0.8399999737739563.\n"
     ]
    },
    {
     "name": "stdout",
     "output_type": "stream",
     "text": [
      "INFO:tensorflow:Assets written to: saved_models/exp4_with_aug/best_model_t10/assets\n"
     ]
    },
    {
     "name": "stderr",
     "output_type": "stream",
     "text": [
      "INFO:tensorflow:Assets written to: saved_models/exp4_with_aug/best_model_t10/assets\n",
      "[I 2024-01-30 21:15:33,208] Trial 10 finished with value: 0.8999999761581421 and parameters: {'batchsize': 32, 'brightness_factor': 0.16565594571071973, 'gaussian_noise_factor': 0.008225741437286254, 'translate_factor': 0.0001225650753476637, 'num_layers': 4, 'layer_0': 'Conv2D', 'layer_0_conv2d_filters': 32, 'layer_0_conv2d_fsize': 4, 'layer_0_conv2d_ssize': 1, 'activation_0': 'tanh', 'layer_1': 'Conv2D', 'layer_1_conv2d_filters': 32, 'layer_1_conv2d_fsize': 5, 'layer_1_conv2d_ssize': 4, 'activation_1': 'relu', 'layer_2': 'Conv2D', 'layer_2_conv2d_filters': 16, 'layer_2_conv2d_fsize': 16, 'layer_2_conv2d_ssize': 2, 'activation_2': 'linear', 'layer_3': 'Depthwise2D', 'layer_3_dwconv2d_fsize': 16, 'layer_3_dwconv2d_ssize': 2, 'activation_3': 'linear', 'output_dropout': 0.5151823078033876, 'lr_inicial': 0.00011289151314212741}. Best is trial 10 with value: 0.8999999761581421.\n"
     ]
    },
    {
     "name": "stdout",
     "output_type": "stream",
     "text": [
      "INFO:tensorflow:Assets written to: saved_models/exp4_with_aug/best_model_t11/assets\n"
     ]
    },
    {
     "name": "stderr",
     "output_type": "stream",
     "text": [
      "INFO:tensorflow:Assets written to: saved_models/exp4_with_aug/best_model_t11/assets\n",
      "[I 2024-01-30 21:16:23,304] Trial 11 finished with value: 0.8600000143051147 and parameters: {'batchsize': 32, 'brightness_factor': 0.16836474629044487, 'gaussian_noise_factor': 0.007901686754830954, 'translate_factor': 0.022352384884601388, 'num_layers': 4, 'layer_0': 'Conv2D', 'layer_0_conv2d_filters': 32, 'layer_0_conv2d_fsize': 4, 'layer_0_conv2d_ssize': 1, 'activation_0': 'tanh', 'layer_1': 'Conv2D', 'layer_1_conv2d_filters': 32, 'layer_1_conv2d_fsize': 5, 'layer_1_conv2d_ssize': 4, 'activation_1': 'relu', 'layer_2': 'Conv2D', 'layer_2_conv2d_filters': 16, 'layer_2_conv2d_fsize': 16, 'layer_2_conv2d_ssize': 2, 'activation_2': 'linear', 'layer_3': 'Depthwise2D', 'layer_3_dwconv2d_fsize': 16, 'layer_3_dwconv2d_ssize': 2, 'activation_3': 'linear', 'output_dropout': 0.4999222712614719, 'lr_inicial': 0.00011158957052940774}. Best is trial 10 with value: 0.8999999761581421.\n"
     ]
    },
    {
     "name": "stdout",
     "output_type": "stream",
     "text": [
      "INFO:tensorflow:Assets written to: saved_models/exp4_with_aug/best_model_t12/assets\n"
     ]
    },
    {
     "name": "stderr",
     "output_type": "stream",
     "text": [
      "INFO:tensorflow:Assets written to: saved_models/exp4_with_aug/best_model_t12/assets\n",
      "[I 2024-01-30 21:17:14,314] Trial 12 finished with value: 0.699999988079071 and parameters: {'batchsize': 32, 'brightness_factor': 0.17337241200271158, 'gaussian_noise_factor': 0.001711332878553769, 'translate_factor': 0.01102717977013902, 'num_layers': 4, 'layer_0': 'Conv2D', 'layer_0_conv2d_filters': 32, 'layer_0_conv2d_fsize': 4, 'layer_0_conv2d_ssize': 1, 'activation_0': 'tanh', 'layer_1': 'Conv2D', 'layer_1_conv2d_filters': 32, 'layer_1_conv2d_fsize': 5, 'layer_1_conv2d_ssize': 4, 'activation_1': 'tanh', 'layer_2': 'Conv2D', 'layer_2_conv2d_filters': 16, 'layer_2_conv2d_fsize': 16, 'layer_2_conv2d_ssize': 2, 'activation_2': 'linear', 'layer_3': 'Depthwise2D', 'layer_3_dwconv2d_fsize': 16, 'layer_3_dwconv2d_ssize': 2, 'activation_3': 'linear', 'output_dropout': 0.4996342797577558, 'lr_inicial': 0.00010017076795168331}. Best is trial 10 with value: 0.8999999761581421.\n"
     ]
    },
    {
     "name": "stdout",
     "output_type": "stream",
     "text": [
      "INFO:tensorflow:Assets written to: saved_models/exp4_with_aug/best_model_t13/assets\n"
     ]
    },
    {
     "name": "stderr",
     "output_type": "stream",
     "text": [
      "INFO:tensorflow:Assets written to: saved_models/exp4_with_aug/best_model_t13/assets\n",
      "[I 2024-01-30 21:18:05,168] Trial 13 finished with value: 0.8799999952316284 and parameters: {'batchsize': 32, 'brightness_factor': 0.19978552217844947, 'gaussian_noise_factor': 0.00028535727780654163, 'translate_factor': 0.0008376843744933408, 'num_layers': 4, 'layer_0': 'Conv2D', 'layer_0_conv2d_filters': 32, 'layer_0_conv2d_fsize': 4, 'layer_0_conv2d_ssize': 1, 'activation_0': 'tanh', 'layer_1': 'Conv2D', 'layer_1_conv2d_filters': 32, 'layer_1_conv2d_fsize': 5, 'layer_1_conv2d_ssize': 4, 'activation_1': 'relu', 'layer_2': 'Conv2D', 'layer_2_conv2d_filters': 16, 'layer_2_conv2d_fsize': 16, 'layer_2_conv2d_ssize': 2, 'activation_2': 'relu', 'layer_3': 'Depthwise2D', 'layer_3_dwconv2d_fsize': 8, 'layer_3_dwconv2d_ssize': 2, 'activation_3': 'linear', 'output_dropout': 0.48532038372654973, 'lr_inicial': 0.00010235360051643825}. Best is trial 10 with value: 0.8999999761581421.\n"
     ]
    },
    {
     "name": "stdout",
     "output_type": "stream",
     "text": [
      "INFO:tensorflow:Assets written to: saved_models/exp4_with_aug/best_model_t14/assets\n"
     ]
    },
    {
     "name": "stderr",
     "output_type": "stream",
     "text": [
      "INFO:tensorflow:Assets written to: saved_models/exp4_with_aug/best_model_t14/assets\n",
      "[I 2024-01-30 21:19:48,738] Trial 14 finished with value: 0.8600000143051147 and parameters: {'batchsize': 32, 'brightness_factor': 0.19867284019815298, 'gaussian_noise_factor': 0.09729976029204167, 'translate_factor': 0.05306712061483156, 'num_layers': 4, 'layer_0': 'Conv2D', 'layer_0_conv2d_filters': 32, 'layer_0_conv2d_fsize': 5, 'layer_0_conv2d_ssize': 1, 'activation_0': 'tanh', 'layer_1': 'Conv2D', 'layer_1_conv2d_filters': 24, 'layer_1_conv2d_fsize': 16, 'layer_1_conv2d_ssize': 4, 'activation_1': 'relu', 'layer_2': 'Depthwise2D', 'layer_2_dwconv2d_fsize': 3, 'layer_2_dwconv2d_ssize': 1, 'activation_2': 'relu', 'layer_3': 'Depthwise2D', 'layer_3_dwconv2d_fsize': 8, 'layer_3_dwconv2d_ssize': 4, 'activation_3': 'linear', 'output_dropout': 0.4633420737543492, 'lr_inicial': 0.00015667824683814207}. Best is trial 10 with value: 0.8999999761581421.\n"
     ]
    },
    {
     "name": "stdout",
     "output_type": "stream",
     "text": [
      "INFO:tensorflow:Assets written to: saved_models/exp4_with_aug/best_model_t15/assets\n"
     ]
    },
    {
     "name": "stderr",
     "output_type": "stream",
     "text": [
      "INFO:tensorflow:Assets written to: saved_models/exp4_with_aug/best_model_t15/assets\n",
      "[I 2024-01-30 21:20:06,622] Trial 15 finished with value: 0.7200000286102295 and parameters: {'batchsize': 32, 'brightness_factor': 0.13661877438374048, 'gaussian_noise_factor': 0.13306193629006602, 'translate_factor': 7.389794590006993e-05, 'num_layers': 2, 'layer_0': 'Conv2D', 'layer_0_conv2d_filters': 24, 'layer_0_conv2d_fsize': 16, 'layer_0_conv2d_ssize': 4, 'activation_0': 'tanh', 'layer_1': 'Conv2D', 'layer_1_conv2d_filters': 24, 'layer_1_conv2d_fsize': 5, 'layer_1_conv2d_ssize': 8, 'activation_1': 'relu', 'output_dropout': 0.48733143227594783, 'lr_inicial': 0.00014877355693241974}. Best is trial 10 with value: 0.8999999761581421.\n"
     ]
    },
    {
     "name": "stdout",
     "output_type": "stream",
     "text": [
      "INFO:tensorflow:Assets written to: saved_models/exp4_with_aug/best_model_t16/assets\n"
     ]
    },
    {
     "name": "stderr",
     "output_type": "stream",
     "text": [
      "INFO:tensorflow:Assets written to: saved_models/exp4_with_aug/best_model_t16/assets\n",
      "[I 2024-01-30 21:20:24,226] Trial 16 finished with value: 0.800000011920929 and parameters: {'batchsize': 32, 'brightness_factor': 0.19961547705743282, 'gaussian_noise_factor': 0.02395565611927806, 'translate_factor': 0.050944054939684805, 'num_layers': 4, 'layer_0': 'Conv2D', 'layer_0_conv2d_filters': 4, 'layer_0_conv2d_fsize': 3, 'layer_0_conv2d_ssize': 2, 'activation_0': 'tanh', 'layer_1': 'Conv2D', 'layer_1_conv2d_filters': 32, 'layer_1_conv2d_fsize': 3, 'layer_1_conv2d_ssize': 3, 'activation_1': 'tanh', 'layer_2': 'Conv2D', 'layer_2_conv2d_filters': 12, 'layer_2_conv2d_fsize': 5, 'layer_2_conv2d_ssize': 2, 'activation_2': 'relu', 'layer_3': 'Depthwise2D', 'layer_3_dwconv2d_fsize': 5, 'layer_3_dwconv2d_ssize': 1, 'activation_3': 'tanh', 'output_dropout': 0.5353460941719282, 'lr_inicial': 0.00016760772281814684}. Best is trial 10 with value: 0.8999999761581421.\n"
     ]
    },
    {
     "name": "stdout",
     "output_type": "stream",
     "text": [
      "INFO:tensorflow:Assets written to: saved_models/exp4_with_aug/best_model_t17/assets\n"
     ]
    },
    {
     "name": "stderr",
     "output_type": "stream",
     "text": [
      "INFO:tensorflow:Assets written to: saved_models/exp4_with_aug/best_model_t17/assets\n",
      "[I 2024-01-30 21:20:49,111] Trial 17 finished with value: 0.7200000286102295 and parameters: {'batchsize': 96, 'brightness_factor': 0.15498043213988486, 'gaussian_noise_factor': 0.001824365333455473, 'translate_factor': 0.0922374883435103, 'num_layers': 4, 'layer_0': 'Conv2D', 'layer_0_conv2d_filters': 24, 'layer_0_conv2d_fsize': 4, 'layer_0_conv2d_ssize': 2, 'activation_0': 'tanh', 'layer_1': 'Conv2D', 'layer_1_conv2d_filters': 24, 'layer_1_conv2d_fsize': 8, 'layer_1_conv2d_ssize': 3, 'activation_1': 'relu', 'layer_2': 'Conv2D', 'layer_2_conv2d_filters': 32, 'layer_2_conv2d_fsize': 8, 'layer_2_conv2d_ssize': 4, 'activation_2': 'relu', 'layer_3': 'Depthwise2D', 'layer_3_dwconv2d_fsize': 3, 'layer_3_dwconv2d_ssize': 3, 'activation_3': 'linear', 'output_dropout': 0.441836607189104, 'lr_inicial': 0.00046398906218002214}. Best is trial 10 with value: 0.8999999761581421.\n"
     ]
    },
    {
     "name": "stdout",
     "output_type": "stream",
     "text": [
      "INFO:tensorflow:Assets written to: saved_models/exp4_with_aug/best_model_t18/assets\n"
     ]
    },
    {
     "name": "stderr",
     "output_type": "stream",
     "text": [
      "INFO:tensorflow:Assets written to: saved_models/exp4_with_aug/best_model_t18/assets\n",
      "[I 2024-01-30 21:21:02,456] Trial 18 finished with value: 0.7200000286102295 and parameters: {'batchsize': 32, 'brightness_factor': 0.124306448231115, 'gaussian_noise_factor': 0.0788600076984381, 'translate_factor': 0.03421104570830817, 'num_layers': 1, 'layer_0': 'Conv2D', 'layer_0_conv2d_filters': 24, 'layer_0_conv2d_fsize': 4, 'layer_0_conv2d_ssize': 16, 'activation_0': 'relu', 'output_dropout': 0.5249445128179536, 'lr_inicial': 0.00011320935893711201}. Best is trial 10 with value: 0.8999999761581421.\n"
     ]
    },
    {
     "name": "stdout",
     "output_type": "stream",
     "text": [
      "INFO:tensorflow:Assets written to: saved_models/exp4_with_aug/best_model_t19/assets\n"
     ]
    },
    {
     "name": "stderr",
     "output_type": "stream",
     "text": [
      "INFO:tensorflow:Assets written to: saved_models/exp4_with_aug/best_model_t19/assets\n",
      "[I 2024-01-30 21:21:17,046] Trial 19 finished with value: 0.5799999833106995 and parameters: {'batchsize': 64, 'brightness_factor': 0.17913400212549238, 'gaussian_noise_factor': 0.02861576010539384, 'translate_factor': 0.07609723120162287, 'num_layers': 2, 'layer_0': 'Conv2D', 'layer_0_conv2d_filters': 16, 'layer_0_conv2d_fsize': 4, 'layer_0_conv2d_ssize': 4, 'activation_0': 'tanh', 'layer_1': 'Conv2D', 'layer_1_conv2d_filters': 4, 'layer_1_conv2d_fsize': 5, 'layer_1_conv2d_ssize': 6, 'activation_1': 'relu', 'output_dropout': 0.4450287248047239, 'lr_inicial': 0.00020754677580124884}. Best is trial 10 with value: 0.8999999761581421.\n"
     ]
    },
    {
     "name": "stdout",
     "output_type": "stream",
     "text": [
      "INFO:tensorflow:Assets written to: saved_models/exp4_with_aug/best_model_t20/assets\n"
     ]
    },
    {
     "name": "stderr",
     "output_type": "stream",
     "text": [
      "INFO:tensorflow:Assets written to: saved_models/exp4_with_aug/best_model_t20/assets\n",
      "[I 2024-01-30 21:21:37,350] Trial 20 finished with value: 0.800000011920929 and parameters: {'batchsize': 32, 'brightness_factor': 0.14361286876070328, 'gaussian_noise_factor': 0.12836143703536326, 'translate_factor': 0.0023710605289280207, 'num_layers': 4, 'layer_0': 'Conv2D', 'layer_0_conv2d_filters': 28, 'layer_0_conv2d_fsize': 3, 'layer_0_conv2d_ssize': 2, 'activation_0': 'tanh', 'layer_1': 'Pointwise2D', 'layer_1_pwconv2d_filters': 32, 'layer_1_pwconv2d_ssize': 4, 'activation_1': 'relu', 'layer_2': 'Conv2D', 'layer_2_conv2d_filters': 4, 'layer_2_conv2d_fsize': 3, 'layer_2_conv2d_ssize': 1, 'activation_2': 'relu', 'layer_3': 'Depthwise2D', 'layer_3_dwconv2d_fsize': 4, 'layer_3_dwconv2d_ssize': 1, 'activation_3': 'linear', 'output_dropout': 0.3891562320947778, 'lr_inicial': 0.0006236894407302873}. Best is trial 10 with value: 0.8999999761581421.\n"
     ]
    },
    {
     "name": "stdout",
     "output_type": "stream",
     "text": [
      "INFO:tensorflow:Assets written to: saved_models/exp4_with_aug/best_model_t21/assets\n"
     ]
    },
    {
     "name": "stderr",
     "output_type": "stream",
     "text": [
      "INFO:tensorflow:Assets written to: saved_models/exp4_with_aug/best_model_t21/assets\n",
      "[I 2024-01-30 21:22:37,015] Trial 21 finished with value: 0.8799999952316284 and parameters: {'batchsize': 32, 'brightness_factor': 0.17173486694718842, 'gaussian_noise_factor': 0.012371719208584634, 'translate_factor': 0.020980077207377473, 'num_layers': 4, 'layer_0': 'Conv2D', 'layer_0_conv2d_filters': 32, 'layer_0_conv2d_fsize': 4, 'layer_0_conv2d_ssize': 1, 'activation_0': 'tanh', 'layer_1': 'Conv2D', 'layer_1_conv2d_filters': 32, 'layer_1_conv2d_fsize': 5, 'layer_1_conv2d_ssize': 4, 'activation_1': 'relu', 'layer_2': 'Conv2D', 'layer_2_conv2d_filters': 20, 'layer_2_conv2d_fsize': 16, 'layer_2_conv2d_ssize': 2, 'activation_2': 'linear', 'layer_3': 'Depthwise2D', 'layer_3_dwconv2d_fsize': 16, 'layer_3_dwconv2d_ssize': 2, 'activation_3': 'linear', 'output_dropout': 0.49775626370832815, 'lr_inicial': 0.0001247661726285493}. Best is trial 10 with value: 0.8999999761581421.\n"
     ]
    },
    {
     "name": "stdout",
     "output_type": "stream",
     "text": [
      "INFO:tensorflow:Assets written to: saved_models/exp4_with_aug/best_model_t22/assets\n"
     ]
    },
    {
     "name": "stderr",
     "output_type": "stream",
     "text": [
      "INFO:tensorflow:Assets written to: saved_models/exp4_with_aug/best_model_t22/assets\n",
      "[I 2024-01-30 21:23:23,622] Trial 22 finished with value: 0.8399999737739563 and parameters: {'batchsize': 32, 'brightness_factor': 0.1818329805750079, 'gaussian_noise_factor': 0.016812692370216827, 'translate_factor': 0.020393549576800646, 'num_layers': 4, 'layer_0': 'Conv2D', 'layer_0_conv2d_filters': 28, 'layer_0_conv2d_fsize': 4, 'layer_0_conv2d_ssize': 1, 'activation_0': 'tanh', 'layer_1': 'Conv2D', 'layer_1_conv2d_filters': 28, 'layer_1_conv2d_fsize': 5, 'layer_1_conv2d_ssize': 4, 'activation_1': 'relu', 'layer_2': 'Conv2D', 'layer_2_conv2d_filters': 24, 'layer_2_conv2d_fsize': 16, 'layer_2_conv2d_ssize': 3, 'activation_2': 'linear', 'layer_3': 'Depthwise2D', 'layer_3_dwconv2d_fsize': 8, 'layer_3_dwconv2d_ssize': 3, 'activation_3': 'linear', 'output_dropout': 0.47326539521871325, 'lr_inicial': 0.00012742191714514587}. Best is trial 10 with value: 0.8999999761581421.\n"
     ]
    },
    {
     "name": "stdout",
     "output_type": "stream",
     "text": [
      "INFO:tensorflow:Assets written to: saved_models/exp4_with_aug/best_model_t23/assets\n"
     ]
    },
    {
     "name": "stderr",
     "output_type": "stream",
     "text": [
      "INFO:tensorflow:Assets written to: saved_models/exp4_with_aug/best_model_t23/assets\n",
      "[I 2024-01-30 21:32:28,447] Trial 23 finished with value: 0.9599999785423279 and parameters: {'batchsize': 32, 'brightness_factor': 0.1565784550449861, 'gaussian_noise_factor': 0.03855771126652721, 'translate_factor': 0.0414684577628674, 'num_layers': 4, 'layer_0': 'Conv2D', 'layer_0_conv2d_filters': 32, 'layer_0_conv2d_fsize': 4, 'layer_0_conv2d_ssize': 1, 'activation_0': 'tanh', 'layer_1': 'Conv2D', 'layer_1_conv2d_filters': 32, 'layer_1_conv2d_fsize': 5, 'layer_1_conv2d_ssize': 1, 'activation_1': 'relu', 'layer_2': 'Conv2D', 'layer_2_conv2d_filters': 24, 'layer_2_conv2d_fsize': 16, 'layer_2_conv2d_ssize': 1, 'activation_2': 'linear', 'layer_3': 'Depthwise2D', 'layer_3_dwconv2d_fsize': 16, 'layer_3_dwconv2d_ssize': 2, 'activation_3': 'linear', 'output_dropout': 0.5153720758016752, 'lr_inicial': 0.00018708494306257783}. Best is trial 23 with value: 0.9599999785423279.\n"
     ]
    },
    {
     "name": "stdout",
     "output_type": "stream",
     "text": [
      "INFO:tensorflow:Assets written to: saved_models/exp4_with_aug/best_model_t24/assets\n"
     ]
    },
    {
     "name": "stderr",
     "output_type": "stream",
     "text": [
      "INFO:tensorflow:Assets written to: saved_models/exp4_with_aug/best_model_t24/assets\n",
      "[I 2024-01-30 21:35:26,736] Trial 24 finished with value: 0.7200000286102295 and parameters: {'batchsize': 64, 'brightness_factor': 0.15092663683824387, 'gaussian_noise_factor': 0.03414534608182562, 'translate_factor': 0.04148526801392875, 'num_layers': 4, 'layer_0': 'Conv2D', 'layer_0_conv2d_filters': 28, 'layer_0_conv2d_fsize': 5, 'layer_0_conv2d_ssize': 1, 'activation_0': 'tanh', 'layer_1': 'Conv2D', 'layer_1_conv2d_filters': 16, 'layer_1_conv2d_fsize': 5, 'layer_1_conv2d_ssize': 1, 'activation_1': 'tanh', 'layer_2': 'Conv2D', 'layer_2_conv2d_filters': 24, 'layer_2_conv2d_fsize': 4, 'layer_2_conv2d_ssize': 1, 'activation_2': 'linear', 'layer_3': 'Depthwise2D', 'layer_3_dwconv2d_fsize': 8, 'layer_3_dwconv2d_ssize': 2, 'activation_3': 'linear', 'output_dropout': 0.5561956841686025, 'lr_inicial': 0.0002032483649232902}. Best is trial 23 with value: 0.9599999785423279.\n"
     ]
    },
    {
     "name": "stdout",
     "output_type": "stream",
     "text": [
      "INFO:tensorflow:Assets written to: saved_models/exp4_with_aug/best_model_t25/assets\n"
     ]
    },
    {
     "name": "stderr",
     "output_type": "stream",
     "text": [
      "INFO:tensorflow:Assets written to: saved_models/exp4_with_aug/best_model_t25/assets\n",
      "[I 2024-01-30 21:37:12,369] Trial 25 finished with value: 0.699999988079071 and parameters: {'batchsize': 32, 'brightness_factor': 0.12005958850781553, 'gaussian_noise_factor': 0.07057919356203506, 'translate_factor': 0.06920553972182536, 'num_layers': 4, 'layer_0': 'Depthwise2D', 'layer_0_dwconv2d_fsize': 8, 'layer_0_dwconv2d_ssize': 1, 'activation_0': 'relu', 'layer_1': 'Conv2D', 'layer_1_conv2d_filters': 28, 'layer_1_conv2d_fsize': 16, 'layer_1_conv2d_ssize': 1, 'activation_1': 'relu', 'layer_2': 'Depthwise2D', 'layer_2_dwconv2d_fsize': 4, 'layer_2_dwconv2d_ssize': 4, 'activation_2': 'relu', 'layer_3': 'Pointwise2D', 'layer_3_pwconv2d_filters': 32, 'layer_3_pwconv2d_ssize': 4, 'activation_3': 'tanh', 'output_dropout': 0.5171361548704306, 'lr_inicial': 0.00017136191731820146}. Best is trial 23 with value: 0.9599999785423279.\n"
     ]
    },
    {
     "name": "stdout",
     "output_type": "stream",
     "text": [
      "INFO:tensorflow:Assets written to: saved_models/exp4_with_aug/best_model_t26/assets\n"
     ]
    },
    {
     "name": "stderr",
     "output_type": "stream",
     "text": [
      "INFO:tensorflow:Assets written to: saved_models/exp4_with_aug/best_model_t26/assets\n",
      "[I 2024-01-30 21:38:03,866] Trial 26 finished with value: 0.8399999737739563 and parameters: {'batchsize': 64, 'brightness_factor': 0.18801794612799747, 'gaussian_noise_factor': 0.044653957412486164, 'translate_factor': 0.011562829319208741, 'num_layers': 4, 'layer_0': 'Conv2D', 'layer_0_conv2d_filters': 20, 'layer_0_conv2d_fsize': 16, 'layer_0_conv2d_ssize': 2, 'activation_0': 'tanh', 'layer_1': 'Conv2D', 'layer_1_conv2d_filters': 28, 'layer_1_conv2d_fsize': 3, 'layer_1_conv2d_ssize': 2, 'activation_1': 'relu', 'layer_2': 'Conv2D', 'layer_2_conv2d_filters': 8, 'layer_2_conv2d_fsize': 16, 'layer_2_conv2d_ssize': 1, 'activation_2': 'linear', 'layer_3': 'Conv2D', 'layer_3_conv2d_filters': 28, 'layer_3_conv2d_fsize': 16, 'layer_3_conv2d_ssize': 1, 'activation_3': 'relu', 'output_dropout': 0.5631794543354152, 'lr_inicial': 0.00013797466007530671}. Best is trial 23 with value: 0.9599999785423279.\n"
     ]
    },
    {
     "name": "stdout",
     "output_type": "stream",
     "text": [
      "INFO:tensorflow:Assets written to: saved_models/exp4_with_aug/best_model_t27/assets\n"
     ]
    },
    {
     "name": "stderr",
     "output_type": "stream",
     "text": [
      "INFO:tensorflow:Assets written to: saved_models/exp4_with_aug/best_model_t27/assets\n",
      "[I 2024-01-30 21:38:52,118] Trial 27 finished with value: 0.9599999785423279 and parameters: {'batchsize': 32, 'brightness_factor': 0.16191606996686955, 'gaussian_noise_factor': 0.00028664382725067383, 'translate_factor': 0.038904025387969984, 'num_layers': 4, 'layer_0': 'Conv2D', 'layer_0_conv2d_filters': 4, 'layer_0_conv2d_fsize': 8, 'layer_0_conv2d_ssize': 1, 'activation_0': 'tanh', 'layer_1': 'Pointwise2D', 'layer_1_pwconv2d_filters': 4, 'layer_1_pwconv2d_ssize': 1, 'activation_1': 'relu', 'layer_2': 'Conv2D', 'layer_2_conv2d_filters': 24, 'layer_2_conv2d_fsize': 16, 'layer_2_conv2d_ssize': 3, 'activation_2': 'relu', 'layer_3': 'Depthwise2D', 'layer_3_dwconv2d_fsize': 16, 'layer_3_dwconv2d_ssize': 3, 'activation_3': 'linear', 'output_dropout': 0.42678105679327427, 'lr_inicial': 0.00035923631017559655}. Best is trial 23 with value: 0.9599999785423279.\n"
     ]
    },
    {
     "name": "stdout",
     "output_type": "stream",
     "text": [
      "INFO:tensorflow:Assets written to: saved_models/exp4_with_aug/best_model_t28/assets\n"
     ]
    },
    {
     "name": "stderr",
     "output_type": "stream",
     "text": [
      "INFO:tensorflow:Assets written to: saved_models/exp4_with_aug/best_model_t28/assets\n",
      "[I 2024-01-30 21:39:07,703] Trial 28 finished with value: 0.699999988079071 and parameters: {'batchsize': 96, 'brightness_factor': 0.1557029656110926, 'gaussian_noise_factor': 0.04281500687986735, 'translate_factor': 0.06631807349448282, 'num_layers': 2, 'layer_0': 'Conv2D', 'layer_0_conv2d_filters': 4, 'layer_0_conv2d_fsize': 8, 'layer_0_conv2d_ssize': 3, 'activation_0': 'tanh', 'layer_1': 'Pointwise2D', 'layer_1_pwconv2d_filters': 4, 'layer_1_pwconv2d_ssize': 1, 'activation_1': 'tanh', 'output_dropout': 0.42853164574608976, 'lr_inicial': 0.0003127892962043563}. Best is trial 23 with value: 0.9599999785423279.\n"
     ]
    },
    {
     "name": "stdout",
     "output_type": "stream",
     "text": [
      "INFO:tensorflow:Assets written to: saved_models/exp4_with_aug/best_model_t29/assets\n"
     ]
    },
    {
     "name": "stderr",
     "output_type": "stream",
     "text": [
      "INFO:tensorflow:Assets written to: saved_models/exp4_with_aug/best_model_t29/assets\n",
      "[I 2024-01-30 21:39:21,634] Trial 29 finished with value: 0.8199999928474426 and parameters: {'batchsize': 128, 'brightness_factor': 0.1313625388961798, 'gaussian_noise_factor': 0.018195696761657915, 'translate_factor': 0.042762318835194844, 'num_layers': 1, 'layer_0': 'Conv2D', 'layer_0_conv2d_filters': 8, 'layer_0_conv2d_fsize': 8, 'layer_0_conv2d_ssize': 7, 'activation_0': 'relu', 'output_dropout': 0.38426587888576635, 'lr_inicial': 0.00038434464030246844}. Best is trial 23 with value: 0.9599999785423279.\n"
     ]
    },
    {
     "name": "stdout",
     "output_type": "stream",
     "text": [
      "INFO:tensorflow:Assets written to: saved_models/exp4_with_aug/best_model_t30/assets\n"
     ]
    },
    {
     "name": "stderr",
     "output_type": "stream",
     "text": [
      "INFO:tensorflow:Assets written to: saved_models/exp4_with_aug/best_model_t30/assets\n",
      "[I 2024-01-30 21:39:36,691] Trial 30 finished with value: 0.5799999833106995 and parameters: {'batchsize': 32, 'brightness_factor': 0.162774684919408, 'gaussian_noise_factor': 0.08370780593191343, 'translate_factor': 0.10148230867125944, 'num_layers': 2, 'layer_0': 'Depthwise2D', 'layer_0_dwconv2d_fsize': 16, 'layer_0_dwconv2d_ssize': 7, 'activation_0': 'tanh', 'layer_1': 'Pointwise2D', 'layer_1_pwconv2d_filters': 16, 'layer_1_pwconv2d_ssize': 8, 'activation_1': 'relu', 'output_dropout': 0.46123595400504913, 'lr_inicial': 0.0002612211076137204}. Best is trial 23 with value: 0.9599999785423279.\n"
     ]
    },
    {
     "name": "stdout",
     "output_type": "stream",
     "text": [
      "INFO:tensorflow:Assets written to: saved_models/exp4_with_aug/best_model_t31/assets\n"
     ]
    },
    {
     "name": "stderr",
     "output_type": "stream",
     "text": [
      "INFO:tensorflow:Assets written to: saved_models/exp4_with_aug/best_model_t31/assets\n",
      "[I 2024-01-30 21:40:23,644] Trial 31 finished with value: 0.8600000143051147 and parameters: {'batchsize': 32, 'brightness_factor': 0.18824951506305837, 'gaussian_noise_factor': 0.003478615577384317, 'translate_factor': 0.014143927119953523, 'num_layers': 4, 'layer_0': 'Conv2D', 'layer_0_conv2d_filters': 12, 'layer_0_conv2d_fsize': 8, 'layer_0_conv2d_ssize': 1, 'activation_0': 'tanh', 'layer_1': 'Pointwise2D', 'layer_1_pwconv2d_filters': 12, 'layer_1_pwconv2d_ssize': 2, 'activation_1': 'relu', 'layer_2': 'Conv2D', 'layer_2_conv2d_filters': 24, 'layer_2_conv2d_fsize': 16, 'layer_2_conv2d_ssize': 3, 'activation_2': 'relu', 'layer_3': 'Depthwise2D', 'layer_3_dwconv2d_fsize': 16, 'layer_3_dwconv2d_ssize': 3, 'activation_3': 'linear', 'output_dropout': 0.4788735347622412, 'lr_inicial': 0.00010305604360679958}. Best is trial 23 with value: 0.9599999785423279.\n"
     ]
    },
    {
     "name": "stdout",
     "output_type": "stream",
     "text": [
      "INFO:tensorflow:Assets written to: saved_models/exp4_with_aug/best_model_t32/assets\n"
     ]
    },
    {
     "name": "stderr",
     "output_type": "stream",
     "text": [
      "INFO:tensorflow:Assets written to: saved_models/exp4_with_aug/best_model_t32/assets\n",
      "[I 2024-01-30 21:41:19,602] Trial 32 finished with value: 0.8999999761581421 and parameters: {'batchsize': 32, 'brightness_factor': 0.14576729051476675, 'gaussian_noise_factor': 0.016291792029448835, 'translate_factor': 0.035461875567283224, 'num_layers': 4, 'layer_0': 'Conv2D', 'layer_0_conv2d_filters': 28, 'layer_0_conv2d_fsize': 4, 'layer_0_conv2d_ssize': 1, 'activation_0': 'tanh', 'layer_1': 'Pointwise2D', 'layer_1_pwconv2d_filters': 24, 'layer_1_pwconv2d_ssize': 2, 'activation_1': 'relu', 'layer_2': 'Conv2D', 'layer_2_conv2d_filters': 20, 'layer_2_conv2d_fsize': 16, 'layer_2_conv2d_ssize': 3, 'activation_2': 'relu', 'layer_3': 'Depthwise2D', 'layer_3_dwconv2d_fsize': 16, 'layer_3_dwconv2d_ssize': 3, 'activation_3': 'linear', 'output_dropout': 0.5119108330071018, 'lr_inicial': 0.0006483092634144089}. Best is trial 23 with value: 0.9599999785423279.\n"
     ]
    },
    {
     "name": "stdout",
     "output_type": "stream",
     "text": [
      "INFO:tensorflow:Assets written to: saved_models/exp4_with_aug/best_model_t33/assets\n"
     ]
    },
    {
     "name": "stderr",
     "output_type": "stream",
     "text": [
      "INFO:tensorflow:Assets written to: saved_models/exp4_with_aug/best_model_t33/assets\n",
      "[I 2024-01-30 21:42:15,886] Trial 33 finished with value: 0.9599999785423279 and parameters: {'batchsize': 32, 'brightness_factor': 0.1443642599686418, 'gaussian_noise_factor': 0.023383295841000854, 'translate_factor': 0.036191159387843425, 'num_layers': 4, 'layer_0': 'Conv2D', 'layer_0_conv2d_filters': 28, 'layer_0_conv2d_fsize': 4, 'layer_0_conv2d_ssize': 1, 'activation_0': 'tanh', 'layer_1': 'Pointwise2D', 'layer_1_pwconv2d_filters': 24, 'layer_1_pwconv2d_ssize': 2, 'activation_1': 'relu', 'layer_2': 'Conv2D', 'layer_2_conv2d_filters': 28, 'layer_2_conv2d_fsize': 16, 'layer_2_conv2d_ssize': 3, 'activation_2': 'relu', 'layer_3': 'Depthwise2D', 'layer_3_dwconv2d_fsize': 16, 'layer_3_dwconv2d_ssize': 3, 'activation_3': 'linear', 'output_dropout': 0.5152771239600159, 'lr_inicial': 0.0006976573824895696}. Best is trial 23 with value: 0.9599999785423279.\n"
     ]
    },
    {
     "name": "stdout",
     "output_type": "stream",
     "text": [
      "INFO:tensorflow:Assets written to: saved_models/exp4_with_aug/best_model_t34/assets\n"
     ]
    },
    {
     "name": "stderr",
     "output_type": "stream",
     "text": [
      "INFO:tensorflow:Assets written to: saved_models/exp4_with_aug/best_model_t34/assets\n",
      "[I 2024-01-30 21:43:06,779] Trial 34 finished with value: 0.7400000095367432 and parameters: {'batchsize': 64, 'brightness_factor': 0.11276690665080889, 'gaussian_noise_factor': 0.11001608547979887, 'translate_factor': 0.057469672824036026, 'num_layers': 4, 'layer_0': 'Conv2D', 'layer_0_conv2d_filters': 20, 'layer_0_conv2d_fsize': 8, 'layer_0_conv2d_ssize': 2, 'activation_0': 'tanh', 'layer_1': 'Pointwise2D', 'layer_1_pwconv2d_filters': 28, 'layer_1_pwconv2d_ssize': 1, 'activation_1': 'relu', 'layer_2': 'Depthwise2D', 'layer_2_dwconv2d_fsize': 5, 'layer_2_dwconv2d_ssize': 1, 'activation_2': 'linear', 'layer_3': 'Depthwise2D', 'layer_3_dwconv2d_fsize': 16, 'layer_3_dwconv2d_ssize': 4, 'activation_3': 'linear', 'output_dropout': 0.4215617355871567, 'lr_inicial': 0.0010357847045338853}. Best is trial 23 with value: 0.9599999785423279.\n"
     ]
    },
    {
     "name": "stdout",
     "output_type": "stream",
     "text": [
      "INFO:tensorflow:Assets written to: saved_models/exp4_with_aug/best_model_t35/assets\n"
     ]
    },
    {
     "name": "stderr",
     "output_type": "stream",
     "text": [
      "INFO:tensorflow:Assets written to: saved_models/exp4_with_aug/best_model_t35/assets\n",
      "[I 2024-01-30 21:43:45,762] Trial 35 finished with value: 0.8999999761581421 and parameters: {'batchsize': 32, 'brightness_factor': 0.1333335561790928, 'gaussian_noise_factor': 0.028369147401979232, 'translate_factor': 0.028375344132583618, 'num_layers': 4, 'layer_0': 'Conv2D', 'layer_0_conv2d_filters': 12, 'layer_0_conv2d_fsize': 4, 'layer_0_conv2d_ssize': 1, 'activation_0': 'linear', 'layer_1': 'Pointwise2D', 'layer_1_pwconv2d_filters': 20, 'layer_1_pwconv2d_ssize': 2, 'activation_1': 'relu', 'layer_2': 'Conv2D', 'layer_2_conv2d_filters': 32, 'layer_2_conv2d_fsize': 16, 'layer_2_conv2d_ssize': 4, 'activation_2': 'relu', 'layer_3': 'Depthwise2D', 'layer_3_dwconv2d_fsize': 16, 'layer_3_dwconv2d_ssize': 3, 'activation_3': 'linear', 'output_dropout': 0.5779486874000876, 'lr_inicial': 0.0006799691540656603}. Best is trial 23 with value: 0.9599999785423279.\n"
     ]
    },
    {
     "name": "stdout",
     "output_type": "stream",
     "text": [
      "INFO:tensorflow:Assets written to: saved_models/exp4_with_aug/best_model_t36/assets\n"
     ]
    },
    {
     "name": "stderr",
     "output_type": "stream",
     "text": [
      "INFO:tensorflow:Assets written to: saved_models/exp4_with_aug/best_model_t36/assets\n",
      "[I 2024-01-30 21:44:01,647] Trial 36 finished with value: 0.6399999856948853 and parameters: {'batchsize': 64, 'brightness_factor': 0.163269820142134, 'gaussian_noise_factor': 0.046026888400752, 'translate_factor': 0.04815923904523184, 'num_layers': 4, 'layer_0': 'Pointwise2D', 'layer_0_pwconv2d_filters': 32, 'layer_0_pwconv2d_ssize': 4, 'activation_0': 'tanh', 'layer_1': 'Pointwise2D', 'layer_1_pwconv2d_filters': 4, 'layer_1_pwconv2d_ssize': 3, 'activation_1': 'relu', 'layer_2': 'Conv2D', 'layer_2_conv2d_filters': 28, 'layer_2_conv2d_fsize': 8, 'layer_2_conv2d_ssize': 3, 'activation_2': 'linear', 'layer_3': 'Depthwise2D', 'layer_3_dwconv2d_fsize': 16, 'layer_3_dwconv2d_ssize': 3, 'activation_3': 'linear', 'output_dropout': 0.5485267270721368, 'lr_inicial': 0.0005305273997446473}. Best is trial 23 with value: 0.9599999785423279.\n"
     ]
    },
    {
     "name": "stdout",
     "output_type": "stream",
     "text": [
      "INFO:tensorflow:Assets written to: saved_models/exp4_with_aug/best_model_t37/assets\n"
     ]
    },
    {
     "name": "stderr",
     "output_type": "stream",
     "text": [
      "INFO:tensorflow:Assets written to: saved_models/exp4_with_aug/best_model_t37/assets\n",
      "[I 2024-01-30 21:44:22,755] Trial 37 finished with value: 0.7599999904632568 and parameters: {'batchsize': 32, 'brightness_factor': 0.09765306901355003, 'gaussian_noise_factor': 0.036129050093070644, 'translate_factor': 0.0623278000434502, 'num_layers': 2, 'layer_0': 'Conv2D', 'layer_0_conv2d_filters': 28, 'layer_0_conv2d_fsize': 16, 'layer_0_conv2d_ssize': 3, 'activation_0': 'tanh', 'layer_1': 'Pointwise2D', 'layer_1_pwconv2d_filters': 12, 'layer_1_pwconv2d_ssize': 6, 'activation_1': 'relu', 'output_dropout': 0.5223924448171867, 'lr_inicial': 0.0008393184390339557}. Best is trial 23 with value: 0.9599999785423279.\n"
     ]
    },
    {
     "name": "stdout",
     "output_type": "stream",
     "text": [
      "INFO:tensorflow:Assets written to: saved_models/exp4_with_aug/best_model_t38/assets\n"
     ]
    },
    {
     "name": "stderr",
     "output_type": "stream",
     "text": [
      "INFO:tensorflow:Assets written to: saved_models/exp4_with_aug/best_model_t38/assets\n",
      "[I 2024-01-30 21:44:35,937] Trial 38 finished with value: 0.5799999833106995 and parameters: {'batchsize': 128, 'brightness_factor': 0.14286941936080308, 'gaussian_noise_factor': 0.19397131555713196, 'translate_factor': 0.08909834702733752, 'num_layers': 1, 'layer_0': 'Depthwise2D', 'layer_0_dwconv2d_fsize': 3, 'layer_0_dwconv2d_ssize': 16, 'activation_0': 'linear', 'output_dropout': 0.4000919923357198, 'lr_inicial': 0.00036961535177473153}. Best is trial 23 with value: 0.9599999785423279.\n"
     ]
    },
    {
     "name": "stdout",
     "output_type": "stream",
     "text": [
      "INFO:tensorflow:Assets written to: saved_models/exp4_with_aug/best_model_t39/assets\n"
     ]
    },
    {
     "name": "stderr",
     "output_type": "stream",
     "text": [
      "INFO:tensorflow:Assets written to: saved_models/exp4_with_aug/best_model_t39/assets\n",
      "[I 2024-01-30 21:44:55,734] Trial 39 finished with value: 0.6600000262260437 and parameters: {'batchsize': 64, 'brightness_factor': 0.1634830707430265, 'gaussian_noise_factor': 0.06634030821524342, 'translate_factor': 0.10940301383720602, 'num_layers': 4, 'layer_0': 'Pointwise2D', 'layer_0_pwconv2d_filters': 24, 'layer_0_pwconv2d_ssize': 3, 'activation_0': 'tanh', 'layer_1': 'Pointwise2D', 'layer_1_pwconv2d_filters': 24, 'layer_1_pwconv2d_ssize': 1, 'activation_1': 'relu', 'layer_2': 'Conv2D', 'layer_2_conv2d_filters': 28, 'layer_2_conv2d_fsize': 3, 'layer_2_conv2d_ssize': 3, 'activation_2': 'relu', 'layer_3': 'Conv2D', 'layer_3_conv2d_filters': 4, 'layer_3_conv2d_fsize': 3, 'layer_3_conv2d_ssize': 1, 'activation_3': 'relu', 'output_dropout': 0.5933422246000569, 'lr_inicial': 0.0010864391471044127}. Best is trial 23 with value: 0.9599999785423279.\n"
     ]
    },
    {
     "name": "stdout",
     "output_type": "stream",
     "text": [
      "INFO:tensorflow:Assets written to: saved_models/exp4_with_aug/best_model_t40/assets\n"
     ]
    },
    {
     "name": "stderr",
     "output_type": "stream",
     "text": [
      "INFO:tensorflow:Assets written to: saved_models/exp4_with_aug/best_model_t40/assets\n",
      "[I 2024-01-30 21:46:10,232] Trial 40 finished with value: 0.800000011920929 and parameters: {'batchsize': 32, 'brightness_factor': 0.031204834289962777, 'gaussian_noise_factor': 0.051030329588751464, 'translate_factor': 0.03216471047415755, 'num_layers': 4, 'layer_0': 'Conv2D', 'layer_0_conv2d_filters': 32, 'layer_0_conv2d_fsize': 3, 'layer_0_conv2d_ssize': 1, 'activation_0': 'relu', 'layer_1': 'Depthwise2D', 'layer_1_dwconv2d_fsize': 3, 'layer_1_dwconv2d_ssize': 1, 'activation_1': 'linear', 'layer_2': 'Conv2D', 'layer_2_conv2d_filters': 28, 'layer_2_conv2d_fsize': 5, 'layer_2_conv2d_ssize': 3, 'activation_2': 'tanh', 'layer_3': 'Pointwise2D', 'layer_3_pwconv2d_filters': 4, 'layer_3_pwconv2d_ssize': 1, 'activation_3': 'tanh', 'output_dropout': 0.46015525299779764, 'lr_inicial': 0.00024153849205823925}. Best is trial 23 with value: 0.9599999785423279.\n"
     ]
    },
    {
     "name": "stdout",
     "output_type": "stream",
     "text": [
      "INFO:tensorflow:Assets written to: saved_models/exp4_with_aug/best_model_t41/assets\n"
     ]
    },
    {
     "name": "stderr",
     "output_type": "stream",
     "text": [
      "INFO:tensorflow:Assets written to: saved_models/exp4_with_aug/best_model_t41/assets\n",
      "[I 2024-01-30 21:47:09,888] Trial 41 finished with value: 0.8999999761581421 and parameters: {'batchsize': 32, 'brightness_factor': 0.14630345213042523, 'gaussian_noise_factor': 0.018779370435859248, 'translate_factor': 0.03993266056956084, 'num_layers': 4, 'layer_0': 'Conv2D', 'layer_0_conv2d_filters': 28, 'layer_0_conv2d_fsize': 4, 'layer_0_conv2d_ssize': 1, 'activation_0': 'tanh', 'layer_1': 'Pointwise2D', 'layer_1_pwconv2d_filters': 24, 'layer_1_pwconv2d_ssize': 2, 'activation_1': 'relu', 'layer_2': 'Conv2D', 'layer_2_conv2d_filters': 20, 'layer_2_conv2d_fsize': 16, 'layer_2_conv2d_ssize': 3, 'activation_2': 'relu', 'layer_3': 'Depthwise2D', 'layer_3_dwconv2d_fsize': 16, 'layer_3_dwconv2d_ssize': 3, 'activation_3': 'linear', 'output_dropout': 0.5127738695602652, 'lr_inicial': 0.0007134768025215441}. Best is trial 23 with value: 0.9599999785423279.\n"
     ]
    },
    {
     "name": "stdout",
     "output_type": "stream",
     "text": [
      "INFO:tensorflow:Assets written to: saved_models/exp4_with_aug/best_model_t42/assets\n"
     ]
    },
    {
     "name": "stderr",
     "output_type": "stream",
     "text": [
      "INFO:tensorflow:Assets written to: saved_models/exp4_with_aug/best_model_t42/assets\n",
      "[I 2024-01-30 21:48:09,597] Trial 42 finished with value: 0.8399999737739563 and parameters: {'batchsize': 32, 'brightness_factor': 0.08347120826401307, 'gaussian_noise_factor': 0.014650992581400603, 'translate_factor': 0.029788083685174212, 'num_layers': 4, 'layer_0': 'Conv2D', 'layer_0_conv2d_filters': 28, 'layer_0_conv2d_fsize': 4, 'layer_0_conv2d_ssize': 1, 'activation_0': 'tanh', 'layer_1': 'Pointwise2D', 'layer_1_pwconv2d_filters': 28, 'layer_1_pwconv2d_ssize': 2, 'activation_1': 'relu', 'layer_2': 'Conv2D', 'layer_2_conv2d_filters': 20, 'layer_2_conv2d_fsize': 16, 'layer_2_conv2d_ssize': 3, 'activation_2': 'relu', 'layer_3': 'Depthwise2D', 'layer_3_dwconv2d_fsize': 16, 'layer_3_dwconv2d_ssize': 3, 'activation_3': 'linear', 'output_dropout': 0.5378183469624592, 'lr_inicial': 0.0006026721469940198}. Best is trial 23 with value: 0.9599999785423279.\n"
     ]
    },
    {
     "name": "stdout",
     "output_type": "stream",
     "text": [
      "INFO:tensorflow:Assets written to: saved_models/exp4_with_aug/best_model_t43/assets\n"
     ]
    },
    {
     "name": "stderr",
     "output_type": "stream",
     "text": [
      "INFO:tensorflow:Assets written to: saved_models/exp4_with_aug/best_model_t43/assets\n",
      "[I 2024-01-30 21:48:50,538] Trial 43 finished with value: 0.7599999904632568 and parameters: {'batchsize': 32, 'brightness_factor': 0.053590740227403615, 'gaussian_noise_factor': 0.0269378818105961, 'translate_factor': 0.011836402619482184, 'num_layers': 4, 'layer_0': 'Conv2D', 'layer_0_conv2d_filters': 24, 'layer_0_conv2d_fsize': 4, 'layer_0_conv2d_ssize': 1, 'activation_0': 'tanh', 'layer_1': 'Pointwise2D', 'layer_1_pwconv2d_filters': 24, 'layer_1_pwconv2d_ssize': 3, 'activation_1': 'relu', 'layer_2': 'Conv2D', 'layer_2_conv2d_filters': 24, 'layer_2_conv2d_fsize': 16, 'layer_2_conv2d_ssize': 4, 'activation_2': 'relu', 'layer_3': 'Depthwise2D', 'layer_3_dwconv2d_fsize': 16, 'layer_3_dwconv2d_ssize': 4, 'activation_3': 'linear', 'output_dropout': 0.5737461652492613, 'lr_inicial': 0.00042957210388512503}. Best is trial 23 with value: 0.9599999785423279.\n"
     ]
    },
    {
     "name": "stdout",
     "output_type": "stream",
     "text": [
      "INFO:tensorflow:Assets written to: saved_models/exp4_with_aug/best_model_t44/assets\n"
     ]
    },
    {
     "name": "stderr",
     "output_type": "stream",
     "text": [
      "INFO:tensorflow:Assets written to: saved_models/exp4_with_aug/best_model_t44/assets\n",
      "[I 2024-01-30 21:50:07,781] Trial 44 finished with value: 0.7400000095367432 and parameters: {'batchsize': 32, 'brightness_factor': 0.10937167044681699, 'gaussian_noise_factor': 0.008425503360944367, 'translate_factor': 0.07886875819437689, 'num_layers': 4, 'layer_0': 'Conv2D', 'layer_0_conv2d_filters': 32, 'layer_0_conv2d_fsize': 4, 'layer_0_conv2d_ssize': 1, 'activation_0': 'tanh', 'layer_1': 'Depthwise2D', 'layer_1_dwconv2d_fsize': 16, 'layer_1_dwconv2d_ssize': 4, 'activation_1': 'relu', 'layer_2': 'Conv2D', 'layer_2_conv2d_filters': 20, 'layer_2_conv2d_fsize': 4, 'layer_2_conv2d_ssize': 3, 'activation_2': 'relu', 'layer_3': 'Depthwise2D', 'layer_3_dwconv2d_fsize': 5, 'layer_3_dwconv2d_ssize': 3, 'activation_3': 'linear', 'output_dropout': 0.50611043700397, 'lr_inicial': 0.00197647716339019}. Best is trial 23 with value: 0.9599999785423279.\n"
     ]
    },
    {
     "name": "stdout",
     "output_type": "stream",
     "text": [
      "INFO:tensorflow:Assets written to: saved_models/exp4_with_aug/best_model_t45/assets\n"
     ]
    },
    {
     "name": "stderr",
     "output_type": "stream",
     "text": [
      "INFO:tensorflow:Assets written to: saved_models/exp4_with_aug/best_model_t45/assets\n",
      "[I 2024-01-30 21:50:26,984] Trial 45 finished with value: 0.8199999928474426 and parameters: {'batchsize': 32, 'brightness_factor': 0.1255293718307275, 'gaussian_noise_factor': 0.039027002762207316, 'translate_factor': 0.04552335367670006, 'num_layers': 4, 'layer_0': 'Pointwise2D', 'layer_0_pwconv2d_filters': 20, 'layer_0_pwconv2d_ssize': 3, 'activation_0': 'linear', 'layer_1': 'Pointwise2D', 'layer_1_pwconv2d_filters': 16, 'layer_1_pwconv2d_ssize': 2, 'activation_1': 'linear', 'layer_2': 'Conv2D', 'layer_2_conv2d_filters': 28, 'layer_2_conv2d_fsize': 16, 'layer_2_conv2d_ssize': 1, 'activation_2': 'linear', 'layer_3': 'Depthwise2D', 'layer_3_dwconv2d_fsize': 3, 'layer_3_dwconv2d_ssize': 2, 'activation_3': 'linear', 'output_dropout': 0.3012503360477996, 'lr_inicial': 0.000819645452783817}. Best is trial 23 with value: 0.9599999785423279.\n"
     ]
    },
    {
     "name": "stdout",
     "output_type": "stream",
     "text": [
      "INFO:tensorflow:Assets written to: saved_models/exp4_with_aug/best_model_t46/assets\n"
     ]
    },
    {
     "name": "stderr",
     "output_type": "stream",
     "text": [
      "INFO:tensorflow:Assets written to: saved_models/exp4_with_aug/best_model_t46/assets\n",
      "[I 2024-01-30 21:54:38,845] Trial 46 finished with value: 0.8799999952316284 and parameters: {'batchsize': 32, 'brightness_factor': 0.15629841937896669, 'gaussian_noise_factor': 0.011840884788267829, 'translate_factor': 0.19336115353047753, 'num_layers': 4, 'layer_0': 'Depthwise2D', 'layer_0_dwconv2d_fsize': 8, 'layer_0_dwconv2d_ssize': 1, 'activation_0': 'tanh', 'layer_1': 'Pointwise2D', 'layer_1_pwconv2d_filters': 28, 'layer_1_pwconv2d_ssize': 1, 'activation_1': 'relu', 'layer_2': 'Conv2D', 'layer_2_conv2d_filters': 24, 'layer_2_conv2d_fsize': 16, 'layer_2_conv2d_ssize': 2, 'activation_2': 'linear', 'layer_3': 'Depthwise2D', 'layer_3_dwconv2d_fsize': 4, 'layer_3_dwconv2d_ssize': 3, 'activation_3': 'linear', 'output_dropout': 0.4905472585250939, 'lr_inicial': 0.0010580257909253358}. Best is trial 23 with value: 0.9599999785423279.\n"
     ]
    },
    {
     "name": "stdout",
     "output_type": "stream",
     "text": [
      "INFO:tensorflow:Assets written to: saved_models/exp4_with_aug/best_model_t47/assets\n"
     ]
    },
    {
     "name": "stderr",
     "output_type": "stream",
     "text": [
      "INFO:tensorflow:Assets written to: saved_models/exp4_with_aug/best_model_t47/assets\n",
      "[I 2024-01-30 21:54:53,632] Trial 47 finished with value: 0.7200000286102295 and parameters: {'batchsize': 64, 'brightness_factor': 0.13900146256879825, 'gaussian_noise_factor': 0.05550520359868369, 'translate_factor': 0.058015642289533896, 'num_layers': 1, 'layer_0': 'Conv2D', 'layer_0_conv2d_filters': 28, 'layer_0_conv2d_fsize': 8, 'layer_0_conv2d_ssize': 11, 'activation_0': 'tanh', 'output_dropout': 0.5330528414616866, 'lr_inicial': 0.0005539482591709313}. Best is trial 23 with value: 0.9599999785423279.\n"
     ]
    },
    {
     "name": "stdout",
     "output_type": "stream",
     "text": [
      "INFO:tensorflow:Assets written to: saved_models/exp4_with_aug/best_model_t48/assets\n"
     ]
    },
    {
     "name": "stderr",
     "output_type": "stream",
     "text": [
      "INFO:tensorflow:Assets written to: saved_models/exp4_with_aug/best_model_t48/assets\n",
      "[I 2024-01-30 21:55:15,646] Trial 48 finished with value: 0.7200000286102295 and parameters: {'batchsize': 32, 'brightness_factor': 0.17633215393366675, 'gaussian_noise_factor': 0.02396978953929617, 'translate_factor': 0.02307528822649811, 'num_layers': 4, 'layer_0': 'Conv2D', 'layer_0_conv2d_filters': 12, 'layer_0_conv2d_fsize': 5, 'layer_0_conv2d_ssize': 2, 'activation_0': 'tanh', 'layer_1': 'Depthwise2D', 'layer_1_dwconv2d_fsize': 8, 'layer_1_dwconv2d_ssize': 2, 'activation_1': 'tanh', 'layer_2': 'Depthwise2D', 'layer_2_dwconv2d_fsize': 8, 'layer_2_dwconv2d_ssize': 4, 'activation_2': 'relu', 'layer_3': 'Depthwise2D', 'layer_3_dwconv2d_fsize': 16, 'layer_3_dwconv2d_ssize': 2, 'activation_3': 'relu', 'output_dropout': 0.43501602992475774, 'lr_inicial': 0.001266812263777345}. Best is trial 23 with value: 0.9599999785423279.\n"
     ]
    },
    {
     "name": "stdout",
     "output_type": "stream",
     "text": [
      "INFO:tensorflow:Assets written to: saved_models/exp4_with_aug/best_model_t49/assets\n"
     ]
    },
    {
     "name": "stderr",
     "output_type": "stream",
     "text": [
      "INFO:tensorflow:Assets written to: saved_models/exp4_with_aug/best_model_t49/assets\n",
      "[I 2024-01-30 21:55:52,651] Trial 49 finished with value: 0.7200000286102295 and parameters: {'batchsize': 64, 'brightness_factor': 0.18778160472506275, 'gaussian_noise_factor': 0.03254768020053239, 'translate_factor': 0.13183131775032889, 'num_layers': 4, 'layer_0': 'Conv2D', 'layer_0_conv2d_filters': 20, 'layer_0_conv2d_fsize': 4, 'layer_0_conv2d_ssize': 1, 'activation_0': 'tanh', 'layer_1': 'Pointwise2D', 'layer_1_pwconv2d_filters': 20, 'layer_1_pwconv2d_ssize': 3, 'activation_1': 'linear', 'layer_2': 'Pointwise2D', 'layer_2_pwconv2d_filters': 32, 'layer_2_pwconv2d_ssize': 1, 'activation_2': 'tanh', 'layer_3': 'Conv2D', 'layer_3_conv2d_filters': 16, 'layer_3_conv2d_fsize': 4, 'layer_3_conv2d_ssize': 4, 'activation_3': 'linear', 'output_dropout': 0.4740383516605836, 'lr_inicial': 0.00045890355581716707}. Best is trial 23 with value: 0.9599999785423279.\n"
     ]
    },
    {
     "name": "stdout",
     "output_type": "stream",
     "text": [
      "INFO:tensorflow:Assets written to: saved_models/exp4_with_aug/best_model_t50/assets\n"
     ]
    },
    {
     "name": "stderr",
     "output_type": "stream",
     "text": [
      "INFO:tensorflow:Assets written to: saved_models/exp4_with_aug/best_model_t50/assets\n",
      "[I 2024-01-30 21:56:34,631] Trial 50 finished with value: 0.800000011920929 and parameters: {'batchsize': 32, 'brightness_factor': 0.14993537749638375, 'gaussian_noise_factor': 0.15064152194899624, 'translate_factor': 0.038098357545638485, 'num_layers': 4, 'layer_0': 'Conv2D', 'layer_0_conv2d_filters': 32, 'layer_0_conv2d_fsize': 4, 'layer_0_conv2d_ssize': 1, 'activation_0': 'linear', 'layer_1': 'Pointwise2D', 'layer_1_pwconv2d_filters': 32, 'layer_1_pwconv2d_ssize': 2, 'activation_1': 'relu', 'layer_2': 'Pointwise2D', 'layer_2_pwconv2d_filters': 32, 'layer_2_pwconv2d_ssize': 2, 'activation_2': 'linear', 'layer_3': 'Pointwise2D', 'layer_3_pwconv2d_filters': 32, 'layer_3_pwconv2d_ssize': 1, 'activation_3': 'linear', 'output_dropout': 0.5516886645172044, 'lr_inicial': 0.00028042123485875434}. Best is trial 23 with value: 0.9599999785423279.\n"
     ]
    },
    {
     "name": "stdout",
     "output_type": "stream",
     "text": [
      "INFO:tensorflow:Assets written to: saved_models/exp4_with_aug/best_model_t51/assets\n"
     ]
    },
    {
     "name": "stderr",
     "output_type": "stream",
     "text": [
      "INFO:tensorflow:Assets written to: saved_models/exp4_with_aug/best_model_t51/assets\n",
      "[I 2024-01-30 21:57:13,476] Trial 51 finished with value: 0.8999999761581421 and parameters: {'batchsize': 32, 'brightness_factor': 0.13525715054801005, 'gaussian_noise_factor': 0.019788680881333374, 'translate_factor': 0.027100818776958496, 'num_layers': 4, 'layer_0': 'Conv2D', 'layer_0_conv2d_filters': 8, 'layer_0_conv2d_fsize': 4, 'layer_0_conv2d_ssize': 1, 'activation_0': 'linear', 'layer_1': 'Pointwise2D', 'layer_1_pwconv2d_filters': 20, 'layer_1_pwconv2d_ssize': 2, 'activation_1': 'relu', 'layer_2': 'Conv2D', 'layer_2_conv2d_filters': 32, 'layer_2_conv2d_fsize': 16, 'layer_2_conv2d_ssize': 4, 'activation_2': 'relu', 'layer_3': 'Depthwise2D', 'layer_3_dwconv2d_fsize': 16, 'layer_3_dwconv2d_ssize': 3, 'activation_3': 'linear', 'output_dropout': 0.5724164072715415, 'lr_inicial': 0.0006681245847976434}. Best is trial 23 with value: 0.9599999785423279.\n"
     ]
    },
    {
     "name": "stdout",
     "output_type": "stream",
     "text": [
      "INFO:tensorflow:Assets written to: saved_models/exp4_with_aug/best_model_t52/assets\n"
     ]
    },
    {
     "name": "stderr",
     "output_type": "stream",
     "text": [
      "INFO:tensorflow:Assets written to: saved_models/exp4_with_aug/best_model_t52/assets\n",
      "[I 2024-01-30 21:57:56,939] Trial 52 finished with value: 0.9399999976158142 and parameters: {'batchsize': 32, 'brightness_factor': 0.1291749134322424, 'gaussian_noise_factor': 0.007587836901924218, 'translate_factor': 0.008861321848832888, 'num_layers': 4, 'layer_0': 'Conv2D', 'layer_0_conv2d_filters': 8, 'layer_0_conv2d_fsize': 4, 'layer_0_conv2d_ssize': 1, 'activation_0': 'linear', 'layer_1': 'Pointwise2D', 'layer_1_pwconv2d_filters': 24, 'layer_1_pwconv2d_ssize': 2, 'activation_1': 'relu', 'layer_2': 'Conv2D', 'layer_2_conv2d_filters': 32, 'layer_2_conv2d_fsize': 16, 'layer_2_conv2d_ssize': 4, 'activation_2': 'relu', 'layer_3': 'Depthwise2D', 'layer_3_dwconv2d_fsize': 16, 'layer_3_dwconv2d_ssize': 3, 'activation_3': 'linear', 'output_dropout': 0.5855052979615376, 'lr_inicial': 0.0007301648513265689}. Best is trial 23 with value: 0.9599999785423279.\n"
     ]
    },
    {
     "name": "stdout",
     "output_type": "stream",
     "text": [
      "INFO:tensorflow:Assets written to: saved_models/exp4_with_aug/best_model_t53/assets\n"
     ]
    },
    {
     "name": "stderr",
     "output_type": "stream",
     "text": [
      "INFO:tensorflow:Assets written to: saved_models/exp4_with_aug/best_model_t53/assets\n",
      "[I 2024-01-30 21:58:42,143] Trial 53 finished with value: 0.41999998688697815 and parameters: {'batchsize': 32, 'brightness_factor': 0.1669312674710095, 'gaussian_noise_factor': 0.0007709211536082823, 'translate_factor': 0.007060687470201491, 'num_layers': 4, 'layer_0': 'Conv2D', 'layer_0_conv2d_filters': 4, 'layer_0_conv2d_fsize': 4, 'layer_0_conv2d_ssize': 1, 'activation_0': 'linear', 'layer_1': 'Pointwise2D', 'layer_1_pwconv2d_filters': 24, 'layer_1_pwconv2d_ssize': 2, 'activation_1': 'relu', 'layer_2': 'Conv2D', 'layer_2_conv2d_filters': 28, 'layer_2_conv2d_fsize': 16, 'layer_2_conv2d_ssize': 4, 'activation_2': 'relu', 'layer_3': 'Depthwise2D', 'layer_3_dwconv2d_fsize': 16, 'layer_3_dwconv2d_ssize': 3, 'activation_3': 'linear', 'output_dropout': 0.4097636224409685, 'lr_inicial': 0.0007377367549091152}. Best is trial 23 with value: 0.9599999785423279.\n"
     ]
    },
    {
     "name": "stdout",
     "output_type": "stream",
     "text": [
      "INFO:tensorflow:Assets written to: saved_models/exp4_with_aug/best_model_t54/assets\n"
     ]
    },
    {
     "name": "stderr",
     "output_type": "stream",
     "text": [
      "INFO:tensorflow:Assets written to: saved_models/exp4_with_aug/best_model_t54/assets\n",
      "[I 2024-01-30 22:00:21,393] Trial 54 finished with value: 0.9800000190734863 and parameters: {'batchsize': 32, 'brightness_factor': 0.11978636788991759, 'gaussian_noise_factor': 0.009020043008073015, 'translate_factor': 0.017709188049915777, 'num_layers': 4, 'layer_0': 'Conv2D', 'layer_0_conv2d_filters': 8, 'layer_0_conv2d_fsize': 4, 'layer_0_conv2d_ssize': 1, 'activation_0': 'linear', 'layer_1': 'Conv2D', 'layer_1_conv2d_filters': 20, 'layer_1_conv2d_fsize': 4, 'layer_1_conv2d_ssize': 1, 'activation_1': 'relu', 'layer_2': 'Conv2D', 'layer_2_conv2d_filters': 24, 'layer_2_conv2d_fsize': 16, 'layer_2_conv2d_ssize': 3, 'activation_2': 'relu', 'layer_3': 'Depthwise2D', 'layer_3_dwconv2d_fsize': 16, 'layer_3_dwconv2d_ssize': 3, 'activation_3': 'linear', 'output_dropout': 0.5051633261919694, 'lr_inicial': 0.0007637999926365245}. Best is trial 54 with value: 0.9800000190734863.\n"
     ]
    },
    {
     "name": "stdout",
     "output_type": "stream",
     "text": [
      "INFO:tensorflow:Assets written to: saved_models/exp4_with_aug/best_model_t55/assets\n"
     ]
    },
    {
     "name": "stderr",
     "output_type": "stream",
     "text": [
      "INFO:tensorflow:Assets written to: saved_models/exp4_with_aug/best_model_t55/assets\n",
      "[I 2024-01-30 22:01:55,555] Trial 55 finished with value: 0.9800000190734863 and parameters: {'batchsize': 32, 'brightness_factor': 0.11840117462315945, 'gaussian_noise_factor': 0.00784573696766906, 'translate_factor': 0.01605761180208846, 'num_layers': 4, 'layer_0': 'Conv2D', 'layer_0_conv2d_filters': 8, 'layer_0_conv2d_fsize': 4, 'layer_0_conv2d_ssize': 1, 'activation_0': 'linear', 'layer_1': 'Conv2D', 'layer_1_conv2d_filters': 16, 'layer_1_conv2d_fsize': 4, 'layer_1_conv2d_ssize': 1, 'activation_1': 'relu', 'layer_2': 'Conv2D', 'layer_2_conv2d_filters': 32, 'layer_2_conv2d_fsize': 16, 'layer_2_conv2d_ssize': 3, 'activation_2': 'tanh', 'layer_3': 'Depthwise2D', 'layer_3_dwconv2d_fsize': 16, 'layer_3_dwconv2d_ssize': 2, 'activation_3': 'linear', 'output_dropout': 0.45166417034595613, 'lr_inicial': 0.0009758292569512181}. Best is trial 54 with value: 0.9800000190734863.\n"
     ]
    },
    {
     "name": "stdout",
     "output_type": "stream",
     "text": [
      "INFO:tensorflow:Assets written to: saved_models/exp4_with_aug/best_model_t56/assets\n"
     ]
    },
    {
     "name": "stderr",
     "output_type": "stream",
     "text": [
      "INFO:tensorflow:Assets written to: saved_models/exp4_with_aug/best_model_t56/assets\n",
      "[I 2024-01-30 22:02:38,553] Trial 56 finished with value: 0.8999999761581421 and parameters: {'batchsize': 32, 'brightness_factor': 0.12097400050641836, 'gaussian_noise_factor': 0.009783552745344799, 'translate_factor': 0.016972953291953856, 'num_layers': 4, 'layer_0': 'Pointwise2D', 'layer_0_pwconv2d_filters': 4, 'layer_0_pwconv2d_ssize': 1, 'activation_0': 'linear', 'layer_1': 'Conv2D', 'layer_1_conv2d_filters': 16, 'layer_1_conv2d_fsize': 4, 'layer_1_conv2d_ssize': 1, 'activation_1': 'relu', 'layer_2': 'Pointwise2D', 'layer_2_pwconv2d_filters': 12, 'layer_2_pwconv2d_ssize': 2, 'activation_2': 'tanh', 'layer_3': 'Depthwise2D', 'layer_3_dwconv2d_fsize': 16, 'layer_3_dwconv2d_ssize': 3, 'activation_3': 'tanh', 'output_dropout': 0.3691931274780198, 'lr_inicial': 0.0009537396374676904}. Best is trial 54 with value: 0.9800000190734863.\n"
     ]
    },
    {
     "name": "stdout",
     "output_type": "stream",
     "text": [
      "INFO:tensorflow:Assets written to: saved_models/exp4_with_aug/best_model_t57/assets\n"
     ]
    },
    {
     "name": "stderr",
     "output_type": "stream",
     "text": [
      "INFO:tensorflow:Assets written to: saved_models/exp4_with_aug/best_model_t57/assets\n",
      "[I 2024-01-30 22:03:51,401] Trial 57 finished with value: 0.30000001192092896 and parameters: {'batchsize': 32, 'brightness_factor': 0.10019608546103183, 'gaussian_noise_factor': 0.008221681538384207, 'translate_factor': 0.007377782219037071, 'num_layers': 4, 'layer_0': 'Conv2D', 'layer_0_conv2d_filters': 8, 'layer_0_conv2d_fsize': 8, 'layer_0_conv2d_ssize': 1, 'activation_0': 'linear', 'layer_1': 'Conv2D', 'layer_1_conv2d_filters': 8, 'layer_1_conv2d_fsize': 4, 'layer_1_conv2d_ssize': 1, 'activation_1': 'relu', 'layer_2': 'Conv2D', 'layer_2_conv2d_filters': 32, 'layer_2_conv2d_fsize': 16, 'layer_2_conv2d_ssize': 3, 'activation_2': 'tanh', 'layer_3': 'Conv2D', 'layer_3_conv2d_filters': 20, 'layer_3_conv2d_fsize': 4, 'layer_3_conv2d_ssize': 2, 'activation_3': 'relu', 'output_dropout': 0.450631075256591, 'lr_inicial': 0.0012292298673119574}. Best is trial 54 with value: 0.9800000190734863.\n"
     ]
    },
    {
     "name": "stdout",
     "output_type": "stream",
     "text": [
      "INFO:tensorflow:Assets written to: saved_models/exp4_with_aug/best_model_t58/assets\n"
     ]
    },
    {
     "name": "stderr",
     "output_type": "stream",
     "text": [
      "INFO:tensorflow:Assets written to: saved_models/exp4_with_aug/best_model_t58/assets\n",
      "[I 2024-01-30 22:04:09,647] Trial 58 finished with value: 0.9800000190734863 and parameters: {'batchsize': 32, 'brightness_factor': 0.11402736642918004, 'gaussian_noise_factor': 2.869335922332794e-05, 'translate_factor': 0.018910564879381773, 'num_layers': 2, 'layer_0': 'Conv2D', 'layer_0_conv2d_filters': 8, 'layer_0_conv2d_fsize': 4, 'layer_0_conv2d_ssize': 2, 'activation_0': 'linear', 'layer_1': 'Conv2D', 'layer_1_conv2d_filters': 20, 'layer_1_conv2d_fsize': 4, 'layer_1_conv2d_ssize': 2, 'activation_1': 'relu', 'output_dropout': 0.4521805503539993, 'lr_inicial': 0.0008542485298142853}. Best is trial 54 with value: 0.9800000190734863.\n"
     ]
    },
    {
     "name": "stdout",
     "output_type": "stream",
     "text": [
      "INFO:tensorflow:Assets written to: saved_models/exp4_with_aug/best_model_t59/assets\n"
     ]
    },
    {
     "name": "stderr",
     "output_type": "stream",
     "text": [
      "INFO:tensorflow:Assets written to: saved_models/exp4_with_aug/best_model_t59/assets\n",
      "[I 2024-01-30 22:04:28,092] Trial 59 finished with value: 0.8199999928474426 and parameters: {'batchsize': 32, 'brightness_factor': 0.11298515748570012, 'gaussian_noise_factor': 0.024882571326096038, 'translate_factor': 0.020477553887503386, 'num_layers': 2, 'layer_0': 'Conv2D', 'layer_0_conv2d_filters': 4, 'layer_0_conv2d_fsize': 4, 'layer_0_conv2d_ssize': 2, 'activation_0': 'linear', 'layer_1': 'Conv2D', 'layer_1_conv2d_filters': 20, 'layer_1_conv2d_fsize': 4, 'layer_1_conv2d_ssize': 2, 'activation_1': 'linear', 'output_dropout': 0.45235542962651065, 'lr_inicial': 0.000946461147858844}. Best is trial 54 with value: 0.9800000190734863.\n"
     ]
    },
    {
     "name": "stdout",
     "output_type": "stream",
     "text": [
      "INFO:tensorflow:Assets written to: saved_models/exp4_with_aug/best_model_t60/assets\n"
     ]
    },
    {
     "name": "stderr",
     "output_type": "stream",
     "text": [
      "INFO:tensorflow:Assets written to: saved_models/exp4_with_aug/best_model_t60/assets\n",
      "[I 2024-01-30 22:04:42,656] Trial 60 finished with value: 0.7200000286102295 and parameters: {'batchsize': 96, 'brightness_factor': 0.08054617373371589, 'gaussian_noise_factor': 0.00016336918466591452, 'translate_factor': 0.051583364501495005, 'num_layers': 2, 'layer_0': 'Depthwise2D', 'layer_0_dwconv2d_fsize': 4, 'layer_0_dwconv2d_ssize': 4, 'activation_0': 'linear', 'layer_1': 'Conv2D', 'layer_1_conv2d_filters': 20, 'layer_1_conv2d_fsize': 4, 'layer_1_conv2d_ssize': 2, 'activation_1': 'tanh', 'output_dropout': 0.4334515598442528, 'lr_inicial': 0.0015144021170347228}. Best is trial 54 with value: 0.9800000190734863.\n"
     ]
    },
    {
     "name": "stdout",
     "output_type": "stream",
     "text": [
      "INFO:tensorflow:Assets written to: saved_models/exp4_with_aug/best_model_t61/assets\n"
     ]
    },
    {
     "name": "stderr",
     "output_type": "stream",
     "text": [
      "INFO:tensorflow:Assets written to: saved_models/exp4_with_aug/best_model_t61/assets\n",
      "[I 2024-01-30 22:05:06,746] Trial 61 finished with value: 0.9200000166893005 and parameters: {'batchsize': 32, 'brightness_factor': 0.12670663400949234, 'gaussian_noise_factor': 0.004698097816523389, 'translate_factor': 0.02587468382906666, 'num_layers': 2, 'layer_0': 'Conv2D', 'layer_0_conv2d_filters': 8, 'layer_0_conv2d_fsize': 4, 'layer_0_conv2d_ssize': 2, 'activation_0': 'linear', 'layer_1': 'Conv2D', 'layer_1_conv2d_filters': 12, 'layer_1_conv2d_fsize': 4, 'layer_1_conv2d_ssize': 1, 'activation_1': 'relu', 'output_dropout': 0.41779617032838134, 'lr_inicial': 0.0007825784247752699}. Best is trial 54 with value: 0.9800000190734863.\n"
     ]
    },
    {
     "name": "stdout",
     "output_type": "stream",
     "text": [
      "INFO:tensorflow:Assets written to: saved_models/exp4_with_aug/best_model_t62/assets\n"
     ]
    },
    {
     "name": "stderr",
     "output_type": "stream",
     "text": [
      "INFO:tensorflow:Assets written to: saved_models/exp4_with_aug/best_model_t62/assets\n",
      "[I 2024-01-30 22:05:22,145] Trial 62 finished with value: 0.9599999785423279 and parameters: {'batchsize': 32, 'brightness_factor': 0.11666364636095918, 'gaussian_noise_factor': 0.0213094730153772, 'translate_factor': 0.0044651585310677665, 'num_layers': 2, 'layer_0': 'Conv2D', 'layer_0_conv2d_filters': 8, 'layer_0_conv2d_fsize': 4, 'layer_0_conv2d_ssize': 3, 'activation_0': 'linear', 'layer_1': 'Conv2D', 'layer_1_conv2d_filters': 16, 'layer_1_conv2d_fsize': 4, 'layer_1_conv2d_ssize': 2, 'activation_1': 'relu', 'output_dropout': 0.46726717285480335, 'lr_inicial': 0.0009282560491034133}. Best is trial 54 with value: 0.9800000190734863.\n"
     ]
    },
    {
     "name": "stdout",
     "output_type": "stream",
     "text": [
      "INFO:tensorflow:Assets written to: saved_models/exp4_with_aug/best_model_t63/assets\n"
     ]
    },
    {
     "name": "stderr",
     "output_type": "stream",
     "text": [
      "INFO:tensorflow:Assets written to: saved_models/exp4_with_aug/best_model_t63/assets\n",
      "[I 2024-01-30 22:05:38,089] Trial 63 finished with value: 0.9599999785423279 and parameters: {'batchsize': 32, 'brightness_factor': 0.08755159935625263, 'gaussian_noise_factor': 0.031972446196094954, 'translate_factor': 0.01626074089631701, 'num_layers': 2, 'layer_0': 'Conv2D', 'layer_0_conv2d_filters': 12, 'layer_0_conv2d_fsize': 4, 'layer_0_conv2d_ssize': 3, 'activation_0': 'linear', 'layer_1': 'Conv2D', 'layer_1_conv2d_filters': 16, 'layer_1_conv2d_fsize': 4, 'layer_1_conv2d_ssize': 2, 'activation_1': 'relu', 'output_dropout': 0.46566723658490927, 'lr_inicial': 0.0012012795349950573}. Best is trial 54 with value: 0.9800000190734863.\n"
     ]
    },
    {
     "name": "stdout",
     "output_type": "stream",
     "text": [
      "INFO:tensorflow:Assets written to: saved_models/exp4_with_aug/best_model_t64/assets\n"
     ]
    },
    {
     "name": "stderr",
     "output_type": "stream",
     "text": [
      "INFO:tensorflow:Assets written to: saved_models/exp4_with_aug/best_model_t64/assets\n",
      "[I 2024-01-30 22:06:01,909] Trial 64 finished with value: 0.9599999785423279 and parameters: {'batchsize': 32, 'brightness_factor': 0.10393374530672492, 'gaussian_noise_factor': 0.021220954157900006, 'translate_factor': 0.034233100283035375, 'num_layers': 2, 'layer_0': 'Conv2D', 'layer_0_conv2d_filters': 4, 'layer_0_conv2d_fsize': 4, 'layer_0_conv2d_ssize': 2, 'activation_0': 'linear', 'layer_1': 'Conv2D', 'layer_1_conv2d_filters': 20, 'layer_1_conv2d_fsize': 4, 'layer_1_conv2d_ssize': 1, 'activation_1': 'relu', 'output_dropout': 0.48786765396743587, 'lr_inicial': 0.0009031997189393487}. Best is trial 54 with value: 0.9800000190734863.\n"
     ]
    },
    {
     "name": "stdout",
     "output_type": "stream",
     "text": [
      "INFO:tensorflow:Assets written to: saved_models/exp4_with_aug/best_model_t65/assets\n"
     ]
    },
    {
     "name": "stderr",
     "output_type": "stream",
     "text": [
      "INFO:tensorflow:Assets written to: saved_models/exp4_with_aug/best_model_t65/assets\n",
      "[I 2024-01-30 22:06:16,750] Trial 65 finished with value: 0.9200000166893005 and parameters: {'batchsize': 32, 'brightness_factor': 0.1180435614624263, 'gaussian_noise_factor': 0.012202044645602178, 'translate_factor': 0.00311104899259784, 'num_layers': 2, 'layer_0': 'Conv2D', 'layer_0_conv2d_filters': 8, 'layer_0_conv2d_fsize': 3, 'layer_0_conv2d_ssize': 3, 'activation_0': 'linear', 'layer_1': 'Conv2D', 'layer_1_conv2d_filters': 16, 'layer_1_conv2d_fsize': 4, 'layer_1_conv2d_ssize': 3, 'activation_1': 'relu', 'output_dropout': 0.4986301666149887, 'lr_inicial': 0.0013441280519733403}. Best is trial 54 with value: 0.9800000190734863.\n"
     ]
    },
    {
     "name": "stdout",
     "output_type": "stream",
     "text": [
      "INFO:tensorflow:Assets written to: saved_models/exp4_with_aug/best_model_t66/assets\n"
     ]
    },
    {
     "name": "stderr",
     "output_type": "stream",
     "text": [
      "INFO:tensorflow:Assets written to: saved_models/exp4_with_aug/best_model_t66/assets\n",
      "[I 2024-01-30 22:06:40,370] Trial 66 finished with value: 0.9200000166893005 and parameters: {'batchsize': 32, 'brightness_factor': 0.09616352184806644, 'gaussian_noise_factor': 0.050504168195678295, 'translate_factor': 0.0166789324242246, 'num_layers': 2, 'layer_0': 'Conv2D', 'layer_0_conv2d_filters': 16, 'layer_0_conv2d_fsize': 5, 'layer_0_conv2d_ssize': 2, 'activation_0': 'linear', 'layer_1': 'Conv2D', 'layer_1_conv2d_filters': 12, 'layer_1_conv2d_fsize': 8, 'layer_1_conv2d_ssize': 2, 'activation_1': 'relu', 'output_dropout': 0.4428405512306347, 'lr_inicial': 0.0005876539313273365}. Best is trial 54 with value: 0.9800000190734863.\n"
     ]
    },
    {
     "name": "stdout",
     "output_type": "stream",
     "text": [
      "INFO:tensorflow:Assets written to: saved_models/exp4_with_aug/best_model_t67/assets\n"
     ]
    },
    {
     "name": "stderr",
     "output_type": "stream",
     "text": [
      "INFO:tensorflow:Assets written to: saved_models/exp4_with_aug/best_model_t67/assets\n",
      "[I 2024-01-30 22:07:08,198] Trial 67 finished with value: 0.9800000190734863 and parameters: {'batchsize': 32, 'brightness_factor': 0.06927205287797614, 'gaussian_noise_factor': 0.03834017875507761, 'translate_factor': 0.04454823910455287, 'num_layers': 2, 'layer_0': 'Conv2D', 'layer_0_conv2d_filters': 8, 'layer_0_conv2d_fsize': 4, 'layer_0_conv2d_ssize': 2, 'activation_0': 'linear', 'layer_1': 'Conv2D', 'layer_1_conv2d_filters': 20, 'layer_1_conv2d_fsize': 4, 'layer_1_conv2d_ssize': 1, 'activation_1': 'relu', 'output_dropout': 0.4811616239327618, 'lr_inicial': 0.0011320850294603865}. Best is trial 54 with value: 0.9800000190734863.\n"
     ]
    },
    {
     "name": "stdout",
     "output_type": "stream",
     "text": [
      "INFO:tensorflow:Assets written to: saved_models/exp4_with_aug/best_model_t68/assets\n"
     ]
    },
    {
     "name": "stderr",
     "output_type": "stream",
     "text": [
      "INFO:tensorflow:Assets written to: saved_models/exp4_with_aug/best_model_t68/assets\n",
      "[I 2024-01-30 22:07:25,208] Trial 68 finished with value: 0.20000000298023224 and parameters: {'batchsize': 64, 'brightness_factor': 0.05322363458110835, 'gaussian_noise_factor': 0.04023300077611325, 'translate_factor': 0.04790080281703481, 'num_layers': 2, 'layer_0': 'Conv2D', 'layer_0_conv2d_filters': 4, 'layer_0_conv2d_fsize': 16, 'layer_0_conv2d_ssize': 5, 'activation_0': 'relu', 'layer_1': 'Conv2D', 'layer_1_conv2d_filters': 20, 'layer_1_conv2d_fsize': 4, 'layer_1_conv2d_ssize': 1, 'activation_1': 'relu', 'output_dropout': 0.5280046189287199, 'lr_inicial': 0.0017835809347026528}. Best is trial 54 with value: 0.9800000190734863.\n"
     ]
    },
    {
     "name": "stdout",
     "output_type": "stream",
     "text": [
      "INFO:tensorflow:Assets written to: saved_models/exp4_with_aug/best_model_t69/assets\n"
     ]
    },
    {
     "name": "stderr",
     "output_type": "stream",
     "text": [
      "INFO:tensorflow:Assets written to: saved_models/exp4_with_aug/best_model_t69/assets\n",
      "[I 2024-01-30 22:07:39,484] Trial 69 finished with value: 0.7799999713897705 and parameters: {'batchsize': 32, 'brightness_factor': 0.07268922374782602, 'gaussian_noise_factor': 0.06010831028429524, 'translate_factor': 0.06603649936189346, 'num_layers': 1, 'layer_0': 'Conv2D', 'layer_0_conv2d_filters': 12, 'layer_0_conv2d_fsize': 4, 'layer_0_conv2d_ssize': 4, 'activation_0': 'linear', 'output_dropout': 0.5051183941379032, 'lr_inicial': 0.0010923261533793503}. Best is trial 54 with value: 0.9800000190734863.\n"
     ]
    },
    {
     "name": "stdout",
     "output_type": "stream",
     "text": [
      "INFO:tensorflow:Assets written to: saved_models/exp4_with_aug/best_model_t70/assets\n"
     ]
    },
    {
     "name": "stderr",
     "output_type": "stream",
     "text": [
      "INFO:tensorflow:Assets written to: saved_models/exp4_with_aug/best_model_t70/assets\n",
      "[I 2024-01-30 22:08:08,510] Trial 70 finished with value: 0.8799999952316284 and parameters: {'batchsize': 32, 'brightness_factor': 0.0298554788229307, 'gaussian_noise_factor': 0.07481898647802855, 'translate_factor': 0.07245114526984148, 'num_layers': 2, 'layer_0': 'Conv2D', 'layer_0_conv2d_filters': 8, 'layer_0_conv2d_fsize': 4, 'layer_0_conv2d_ssize': 2, 'activation_0': 'linear', 'layer_1': 'Conv2D', 'layer_1_conv2d_filters': 24, 'layer_1_conv2d_fsize': 4, 'layer_1_conv2d_ssize': 1, 'activation_1': 'relu', 'output_dropout': 0.47899881835036423, 'lr_inicial': 0.0007964674875913153}. Best is trial 54 with value: 0.9800000190734863.\n"
     ]
    },
    {
     "name": "stdout",
     "output_type": "stream",
     "text": [
      "INFO:tensorflow:Assets written to: saved_models/exp4_with_aug/best_model_t71/assets\n"
     ]
    },
    {
     "name": "stderr",
     "output_type": "stream",
     "text": [
      "INFO:tensorflow:Assets written to: saved_models/exp4_with_aug/best_model_t71/assets\n",
      "[I 2024-01-30 22:08:23,332] Trial 71 finished with value: 0.9800000190734863 and parameters: {'batchsize': 32, 'brightness_factor': 0.0006119999183485381, 'gaussian_noise_factor': 0.03094741914174875, 'translate_factor': 0.025250277269127045, 'num_layers': 2, 'layer_0': 'Conv2D', 'layer_0_conv2d_filters': 8, 'layer_0_conv2d_fsize': 4, 'layer_0_conv2d_ssize': 3, 'activation_0': 'linear', 'layer_1': 'Conv2D', 'layer_1_conv2d_filters': 16, 'layer_1_conv2d_fsize': 4, 'layer_1_conv2d_ssize': 2, 'activation_1': 'relu', 'output_dropout': 0.4678286591475835, 'lr_inicial': 0.0009402556487186385}. Best is trial 54 with value: 0.9800000190734863.\n"
     ]
    },
    {
     "name": "stdout",
     "output_type": "stream",
     "text": [
      "INFO:tensorflow:Assets written to: saved_models/exp4_with_aug/best_model_t72/assets\n"
     ]
    },
    {
     "name": "stderr",
     "output_type": "stream",
     "text": [
      "INFO:tensorflow:Assets written to: saved_models/exp4_with_aug/best_model_t72/assets\n",
      "[I 2024-01-30 22:08:46,162] Trial 72 finished with value: 0.9399999976158142 and parameters: {'batchsize': 32, 'brightness_factor': 0.006618413971357831, 'gaussian_noise_factor': 0.0305550941986552, 'translate_factor': 0.04181707475546573, 'num_layers': 2, 'layer_0': 'Conv2D', 'layer_0_conv2d_filters': 4, 'layer_0_conv2d_fsize': 4, 'layer_0_conv2d_ssize': 2, 'activation_0': 'linear', 'layer_1': 'Conv2D', 'layer_1_conv2d_filters': 20, 'layer_1_conv2d_fsize': 4, 'layer_1_conv2d_ssize': 1, 'activation_1': 'relu', 'output_dropout': 0.4928821424308625, 'lr_inicial': 0.001014652535685188}. Best is trial 54 with value: 0.9800000190734863.\n"
     ]
    },
    {
     "name": "stdout",
     "output_type": "stream",
     "text": [
      "INFO:tensorflow:Assets written to: saved_models/exp4_with_aug/best_model_t73/assets\n"
     ]
    },
    {
     "name": "stderr",
     "output_type": "stream",
     "text": [
      "INFO:tensorflow:Assets written to: saved_models/exp4_with_aug/best_model_t73/assets\n",
      "[I 2024-01-30 22:09:03,189] Trial 73 finished with value: 0.9599999785423279 and parameters: {'batchsize': 32, 'brightness_factor': 0.061824100899780667, 'gaussian_noise_factor': 0.014624148252633973, 'translate_factor': 0.031019847140000674, 'num_layers': 2, 'layer_0': 'Conv2D', 'layer_0_conv2d_filters': 8, 'layer_0_conv2d_fsize': 4, 'layer_0_conv2d_ssize': 2, 'activation_0': 'linear', 'layer_1': 'Conv2D', 'layer_1_conv2d_filters': 12, 'layer_1_conv2d_fsize': 4, 'layer_1_conv2d_ssize': 2, 'activation_1': 'relu', 'output_dropout': 0.45780794519535045, 'lr_inicial': 0.0011567629350167001}. Best is trial 54 with value: 0.9800000190734863.\n"
     ]
    },
    {
     "name": "stdout",
     "output_type": "stream",
     "text": [
      "INFO:tensorflow:Assets written to: saved_models/exp4_with_aug/best_model_t74/assets\n"
     ]
    },
    {
     "name": "stderr",
     "output_type": "stream",
     "text": [
      "INFO:tensorflow:Assets written to: saved_models/exp4_with_aug/best_model_t74/assets\n",
      "[I 2024-01-30 22:09:20,548] Trial 74 finished with value: 0.7599999904632568 and parameters: {'batchsize': 32, 'brightness_factor': 0.026103753615932822, 'gaussian_noise_factor': 0.04657748488617813, 'translate_factor': 0.05596288059223213, 'num_layers': 2, 'layer_0': 'Conv2D', 'layer_0_conv2d_filters': 12, 'layer_0_conv2d_fsize': 8, 'layer_0_conv2d_ssize': 3, 'activation_0': 'linear', 'layer_1': 'Conv2D', 'layer_1_conv2d_filters': 16, 'layer_1_conv2d_fsize': 4, 'layer_1_conv2d_ssize': 3, 'activation_1': 'relu', 'output_dropout': 0.4814022128236714, 'lr_inicial': 0.0014208019113360014}. Best is trial 54 with value: 0.9800000190734863.\n"
     ]
    },
    {
     "name": "stdout",
     "output_type": "stream",
     "text": [
      "INFO:tensorflow:Assets written to: saved_models/exp4_with_aug/best_model_t75/assets\n"
     ]
    },
    {
     "name": "stderr",
     "output_type": "stream",
     "text": [
      "INFO:tensorflow:Assets written to: saved_models/exp4_with_aug/best_model_t75/assets\n",
      "[I 2024-01-30 22:09:37,345] Trial 75 finished with value: 0.9200000166893005 and parameters: {'batchsize': 32, 'brightness_factor': 0.043780347926470564, 'gaussian_noise_factor': 0.03555297493300095, 'translate_factor': 0.022909725642547896, 'num_layers': 2, 'layer_0': 'Conv2D', 'layer_0_conv2d_filters': 4, 'layer_0_conv2d_fsize': 4, 'layer_0_conv2d_ssize': 2, 'activation_0': 'linear', 'layer_1': 'Conv2D', 'layer_1_conv2d_filters': 20, 'layer_1_conv2d_fsize': 4, 'layer_1_conv2d_ssize': 2, 'activation_1': 'relu', 'output_dropout': 0.46920705107226635, 'lr_inicial': 0.0008348802726299308}. Best is trial 54 with value: 0.9800000190734863.\n"
     ]
    },
    {
     "name": "stdout",
     "output_type": "stream",
     "text": [
      "INFO:tensorflow:Assets written to: saved_models/exp4_with_aug/best_model_t76/assets\n"
     ]
    },
    {
     "name": "stderr",
     "output_type": "stream",
     "text": [
      "INFO:tensorflow:Assets written to: saved_models/exp4_with_aug/best_model_t76/assets\n",
      "[I 2024-01-30 22:09:50,950] Trial 76 finished with value: 0.7799999713897705 and parameters: {'batchsize': 32, 'brightness_factor': 0.10673817858982411, 'gaussian_noise_factor': 0.02693042166908908, 'translate_factor': 0.03656369086967064, 'num_layers': 1, 'layer_0': 'Pointwise2D', 'layer_0_pwconv2d_filters': 20, 'layer_0_pwconv2d_ssize': 13, 'activation_0': 'relu', 'output_dropout': 0.3278761157747423, 'lr_inicial': 0.0004956615404541839}. Best is trial 54 with value: 0.9800000190734863.\n"
     ]
    },
    {
     "name": "stdout",
     "output_type": "stream",
     "text": [
      "INFO:tensorflow:Assets written to: saved_models/exp4_with_aug/best_model_t77/assets\n"
     ]
    },
    {
     "name": "stderr",
     "output_type": "stream",
     "text": [
      "INFO:tensorflow:Assets written to: saved_models/exp4_with_aug/best_model_t77/assets\n",
      "[I 2024-01-30 22:10:10,923] Trial 77 finished with value: 0.6800000071525574 and parameters: {'batchsize': 96, 'brightness_factor': 0.15887986593118963, 'gaussian_noise_factor': 0.004308230196917602, 'translate_factor': 0.027572912885263597, 'num_layers': 4, 'layer_0': 'Depthwise2D', 'layer_0_dwconv2d_fsize': 3, 'layer_0_dwconv2d_ssize': 2, 'activation_0': 'linear', 'layer_1': 'Conv2D', 'layer_1_conv2d_filters': 8, 'layer_1_conv2d_fsize': 3, 'layer_1_conv2d_ssize': 1, 'activation_1': 'tanh', 'layer_2': 'Depthwise2D', 'layer_2_dwconv2d_fsize': 16, 'layer_2_dwconv2d_ssize': 3, 'activation_2': 'tanh', 'layer_3': 'Pointwise2D', 'layer_3_pwconv2d_filters': 24, 'layer_3_pwconv2d_ssize': 4, 'activation_3': 'tanh', 'output_dropout': 0.5205321847514155, 'lr_inicial': 0.00035709697399070937}. Best is trial 54 with value: 0.9800000190734863.\n"
     ]
    },
    {
     "name": "stdout",
     "output_type": "stream",
     "text": [
      "INFO:tensorflow:Assets written to: saved_models/exp4_with_aug/best_model_t78/assets\n"
     ]
    },
    {
     "name": "stderr",
     "output_type": "stream",
     "text": [
      "INFO:tensorflow:Assets written to: saved_models/exp4_with_aug/best_model_t78/assets\n",
      "[I 2024-01-30 22:10:28,869] Trial 78 finished with value: 0.7599999904632568 and parameters: {'batchsize': 32, 'brightness_factor': 9.544323477905792e-05, 'gaussian_noise_factor': 0.015349442395661283, 'translate_factor': 0.04481761168392344, 'num_layers': 2, 'layer_0': 'Conv2D', 'layer_0_conv2d_filters': 8, 'layer_0_conv2d_fsize': 4, 'layer_0_conv2d_ssize': 2, 'activation_0': 'linear', 'layer_1': 'Conv2D', 'layer_1_conv2d_filters': 24, 'layer_1_conv2d_fsize': 16, 'layer_1_conv2d_ssize': 5, 'activation_1': 'relu', 'output_dropout': 0.42636739543232427, 'lr_inicial': 0.00019647026153977984}. Best is trial 54 with value: 0.9800000190734863.\n"
     ]
    },
    {
     "name": "stdout",
     "output_type": "stream",
     "text": [
      "INFO:tensorflow:Assets written to: saved_models/exp4_with_aug/best_model_t79/assets\n"
     ]
    },
    {
     "name": "stderr",
     "output_type": "stream",
     "text": [
      "INFO:tensorflow:Assets written to: saved_models/exp4_with_aug/best_model_t79/assets\n",
      "[I 2024-01-30 22:10:54,133] Trial 79 finished with value: 0.800000011920929 and parameters: {'batchsize': 64, 'brightness_factor': 0.13986514099383635, 'gaussian_noise_factor': 0.08798169923445381, 'translate_factor': 0.017317180025111657, 'num_layers': 4, 'layer_0': 'Conv2D', 'layer_0_conv2d_filters': 8, 'layer_0_conv2d_fsize': 4, 'layer_0_conv2d_ssize': 1, 'activation_0': 'linear', 'layer_1': 'Depthwise2D', 'layer_1_dwconv2d_fsize': 5, 'layer_1_dwconv2d_ssize': 4, 'activation_1': 'relu', 'layer_2': 'Pointwise2D', 'layer_2_pwconv2d_filters': 24, 'layer_2_pwconv2d_ssize': 4, 'activation_2': 'tanh', 'layer_3': 'Depthwise2D', 'layer_3_dwconv2d_fsize': 3, 'layer_3_dwconv2d_ssize': 1, 'activation_3': 'linear', 'output_dropout': 0.4465711400875619, 'lr_inicial': 0.0008741061137835351}. Best is trial 54 with value: 0.9800000190734863.\n"
     ]
    },
    {
     "name": "stdout",
     "output_type": "stream",
     "text": [
      "INFO:tensorflow:Assets written to: saved_models/exp4_with_aug/best_model_t80/assets\n"
     ]
    },
    {
     "name": "stderr",
     "output_type": "stream",
     "text": [
      "INFO:tensorflow:Assets written to: saved_models/exp4_with_aug/best_model_t80/assets\n",
      "[I 2024-01-30 22:12:29,195] Trial 80 finished with value: 0.9399999976158142 and parameters: {'batchsize': 32, 'brightness_factor': 0.1517175269223963, 'gaussian_noise_factor': 0.004840194429941131, 'translate_factor': 0.0117189509479529, 'num_layers': 4, 'layer_0': 'Conv2D', 'layer_0_conv2d_filters': 16, 'layer_0_conv2d_fsize': 3, 'layer_0_conv2d_ssize': 1, 'activation_0': 'relu', 'layer_1': 'Conv2D', 'layer_1_conv2d_filters': 20, 'layer_1_conv2d_fsize': 8, 'layer_1_conv2d_ssize': 1, 'activation_1': 'relu', 'layer_2': 'Conv2D', 'layer_2_conv2d_filters': 28, 'layer_2_conv2d_fsize': 3, 'layer_2_conv2d_ssize': 3, 'activation_2': 'tanh', 'layer_3': 'Depthwise2D', 'layer_3_dwconv2d_fsize': 5, 'layer_3_dwconv2d_ssize': 2, 'activation_3': 'linear', 'output_dropout': 0.4393310680173411, 'lr_inicial': 0.0003985519223314238}. Best is trial 54 with value: 0.9800000190734863.\n"
     ]
    },
    {
     "name": "stdout",
     "output_type": "stream",
     "text": [
      "INFO:tensorflow:Assets written to: saved_models/exp4_with_aug/best_model_t81/assets\n"
     ]
    },
    {
     "name": "stderr",
     "output_type": "stream",
     "text": [
      "INFO:tensorflow:Assets written to: saved_models/exp4_with_aug/best_model_t81/assets\n",
      "[I 2024-01-30 22:12:44,825] Trial 81 finished with value: 0.9200000166893005 and parameters: {'batchsize': 32, 'brightness_factor': 0.11593842518306564, 'gaussian_noise_factor': 0.020866457642273344, 'translate_factor': 0.002044054100760827, 'num_layers': 2, 'layer_0': 'Conv2D', 'layer_0_conv2d_filters': 8, 'layer_0_conv2d_fsize': 4, 'layer_0_conv2d_ssize': 3, 'activation_0': 'linear', 'layer_1': 'Conv2D', 'layer_1_conv2d_filters': 16, 'layer_1_conv2d_fsize': 4, 'layer_1_conv2d_ssize': 2, 'activation_1': 'relu', 'output_dropout': 0.47187690125140963, 'lr_inicial': 0.0009788840610110577}. Best is trial 54 with value: 0.9800000190734863.\n"
     ]
    },
    {
     "name": "stdout",
     "output_type": "stream",
     "text": [
      "INFO:tensorflow:Assets written to: saved_models/exp4_with_aug/best_model_t82/assets\n"
     ]
    },
    {
     "name": "stderr",
     "output_type": "stream",
     "text": [
      "INFO:tensorflow:Assets written to: saved_models/exp4_with_aug/best_model_t82/assets\n",
      "[I 2024-01-30 22:12:59,649] Trial 82 finished with value: 0.8999999761581421 and parameters: {'batchsize': 32, 'brightness_factor': 0.0920576646454298, 'gaussian_noise_factor': 0.02235655763756562, 'translate_factor': 0.023100047111310164, 'num_layers': 2, 'layer_0': 'Conv2D', 'layer_0_conv2d_filters': 12, 'layer_0_conv2d_fsize': 4, 'layer_0_conv2d_ssize': 5, 'activation_0': 'linear', 'layer_1': 'Conv2D', 'layer_1_conv2d_filters': 16, 'layer_1_conv2d_fsize': 4, 'layer_1_conv2d_ssize': 2, 'activation_1': 'relu', 'output_dropout': 0.45490612662741203, 'lr_inicial': 0.0009136749585859358}. Best is trial 54 with value: 0.9800000190734863.\n"
     ]
    },
    {
     "name": "stdout",
     "output_type": "stream",
     "text": [
      "INFO:tensorflow:Assets written to: saved_models/exp4_with_aug/best_model_t83/assets\n"
     ]
    },
    {
     "name": "stderr",
     "output_type": "stream",
     "text": [
      "INFO:tensorflow:Assets written to: saved_models/exp4_with_aug/best_model_t83/assets\n",
      "[I 2024-01-30 22:13:14,727] Trial 83 finished with value: 0.8999999761581421 and parameters: {'batchsize': 32, 'brightness_factor': 0.12376950202544078, 'gaussian_noise_factor': 0.03774215345639126, 'translate_factor': 0.032412587286535816, 'num_layers': 2, 'layer_0': 'Conv2D', 'layer_0_conv2d_filters': 8, 'layer_0_conv2d_fsize': 4, 'layer_0_conv2d_ssize': 3, 'activation_0': 'linear', 'layer_1': 'Conv2D', 'layer_1_conv2d_filters': 12, 'layer_1_conv2d_fsize': 4, 'layer_1_conv2d_ssize': 3, 'activation_1': 'relu', 'output_dropout': 0.4642068862461038, 'lr_inicial': 0.0011214679945829732}. Best is trial 54 with value: 0.9800000190734863.\n"
     ]
    },
    {
     "name": "stdout",
     "output_type": "stream",
     "text": [
      "INFO:tensorflow:Assets written to: saved_models/exp4_with_aug/best_model_t84/assets\n"
     ]
    },
    {
     "name": "stderr",
     "output_type": "stream",
     "text": [
      "INFO:tensorflow:Assets written to: saved_models/exp4_with_aug/best_model_t84/assets\n",
      "[I 2024-01-30 22:13:32,363] Trial 84 finished with value: 0.9399999976158142 and parameters: {'batchsize': 32, 'brightness_factor': 0.10344211466419655, 'gaussian_noise_factor': 0.10949211142197308, 'translate_factor': 0.00482963519367706, 'num_layers': 2, 'layer_0': 'Conv2D', 'layer_0_conv2d_filters': 4, 'layer_0_conv2d_fsize': 16, 'layer_0_conv2d_ssize': 4, 'activation_0': 'linear', 'layer_1': 'Conv2D', 'layer_1_conv2d_filters': 16, 'layer_1_conv2d_fsize': 4, 'layer_1_conv2d_ssize': 2, 'activation_1': 'relu', 'output_dropout': 0.48333206002873724, 'lr_inicial': 0.0007698060155787207}. Best is trial 54 with value: 0.9800000190734863.\n"
     ]
    },
    {
     "name": "stdout",
     "output_type": "stream",
     "text": [
      "INFO:tensorflow:Assets written to: saved_models/exp4_with_aug/best_model_t85/assets\n"
     ]
    },
    {
     "name": "stderr",
     "output_type": "stream",
     "text": [
      "INFO:tensorflow:Assets written to: saved_models/exp4_with_aug/best_model_t85/assets\n",
      "[I 2024-01-30 22:14:00,212] Trial 85 finished with value: 0.8600000143051147 and parameters: {'batchsize': 32, 'brightness_factor': 0.13195002549891963, 'gaussian_noise_factor': 0.011902289719052052, 'translate_factor': 0.03904237570796719, 'num_layers': 2, 'layer_0': 'Conv2D', 'layer_0_conv2d_filters': 8, 'layer_0_conv2d_fsize': 8, 'layer_0_conv2d_ssize': 1, 'activation_0': 'linear', 'layer_1': 'Conv2D', 'layer_1_conv2d_filters': 20, 'layer_1_conv2d_fsize': 4, 'layer_1_conv2d_ssize': 7, 'activation_1': 'relu', 'output_dropout': 0.5056315276875896, 'lr_inicial': 0.00022725371082196608}. Best is trial 54 with value: 0.9800000190734863.\n"
     ]
    },
    {
     "name": "stdout",
     "output_type": "stream",
     "text": [
      "INFO:tensorflow:Assets written to: saved_models/exp4_with_aug/best_model_t86/assets\n"
     ]
    },
    {
     "name": "stderr",
     "output_type": "stream",
     "text": [
      "INFO:tensorflow:Assets written to: saved_models/exp4_with_aug/best_model_t86/assets\n",
      "[I 2024-01-30 22:14:21,296] Trial 86 finished with value: 0.699999988079071 and parameters: {'batchsize': 32, 'brightness_factor': 0.17109902455118944, 'gaussian_noise_factor': 0.017801204917343858, 'translate_factor': 0.15965184393112555, 'num_layers': 4, 'layer_0': 'Conv2D', 'layer_0_conv2d_filters': 12, 'layer_0_conv2d_fsize': 4, 'layer_0_conv2d_ssize': 3, 'activation_0': 'tanh', 'layer_1': 'Conv2D', 'layer_1_conv2d_filters': 16, 'layer_1_conv2d_fsize': 5, 'layer_1_conv2d_ssize': 1, 'activation_1': 'linear', 'layer_2': 'Conv2D', 'layer_2_conv2d_filters': 24, 'layer_2_conv2d_fsize': 8, 'layer_2_conv2d_ssize': 3, 'activation_2': 'tanh', 'layer_3': 'Conv2D', 'layer_3_conv2d_filters': 16, 'layer_3_conv2d_fsize': 8, 'layer_3_conv2d_ssize': 4, 'activation_3': 'relu', 'output_dropout': 0.5465702414557069, 'lr_inicial': 0.0008691379773842003}. Best is trial 54 with value: 0.9800000190734863.\n"
     ]
    },
    {
     "name": "stdout",
     "output_type": "stream",
     "text": [
      "INFO:tensorflow:Assets written to: saved_models/exp4_with_aug/best_model_t87/assets\n"
     ]
    },
    {
     "name": "stderr",
     "output_type": "stream",
     "text": [
      "INFO:tensorflow:Assets written to: saved_models/exp4_with_aug/best_model_t87/assets\n",
      "[I 2024-01-30 22:14:36,111] Trial 87 finished with value: 0.8799999952316284 and parameters: {'batchsize': 32, 'brightness_factor': 0.03993745282263575, 'gaussian_noise_factor': 0.027495799973968695, 'translate_factor': 0.01289047385055619, 'num_layers': 2, 'layer_0': 'Conv2D', 'layer_0_conv2d_filters': 8, 'layer_0_conv2d_fsize': 5, 'layer_0_conv2d_ssize': 4, 'activation_0': 'linear', 'layer_1': 'Conv2D', 'layer_1_conv2d_filters': 24, 'layer_1_conv2d_fsize': 4, 'layer_1_conv2d_ssize': 3, 'activation_1': 'relu', 'output_dropout': 0.49686338164562344, 'lr_inicial': 0.0013091256680766842}. Best is trial 54 with value: 0.9800000190734863.\n"
     ]
    },
    {
     "name": "stdout",
     "output_type": "stream",
     "text": [
      "INFO:tensorflow:Assets written to: saved_models/exp4_with_aug/best_model_t88/assets\n"
     ]
    },
    {
     "name": "stderr",
     "output_type": "stream",
     "text": [
      "INFO:tensorflow:Assets written to: saved_models/exp4_with_aug/best_model_t88/assets\n",
      "[I 2024-01-30 22:15:01,188] Trial 88 finished with value: 0.8999999761581421 and parameters: {'batchsize': 32, 'brightness_factor': 0.11294447519804243, 'gaussian_noise_factor': 0.04220195033855258, 'translate_factor': 0.060078982810212775, 'num_layers': 4, 'layer_0': 'Conv2D', 'layer_0_conv2d_filters': 4, 'layer_0_conv2d_fsize': 4, 'layer_0_conv2d_ssize': 1, 'activation_0': 'tanh', 'layer_1': 'Depthwise2D', 'layer_1_dwconv2d_fsize': 8, 'layer_1_dwconv2d_ssize': 2, 'activation_1': 'relu', 'layer_2': 'Conv2D', 'layer_2_conv2d_filters': 28, 'layer_2_conv2d_fsize': 4, 'layer_2_conv2d_ssize': 3, 'activation_2': 'relu', 'layer_3': 'Depthwise2D', 'layer_3_dwconv2d_fsize': 4, 'layer_3_dwconv2d_ssize': 4, 'activation_3': 'linear', 'output_dropout': 0.47445188616673345, 'lr_inicial': 0.0006950125011048008}. Best is trial 54 with value: 0.9800000190734863.\n"
     ]
    },
    {
     "name": "stdout",
     "output_type": "stream",
     "text": [
      "INFO:tensorflow:Assets written to: saved_models/exp4_with_aug/best_model_t89/assets\n"
     ]
    },
    {
     "name": "stderr",
     "output_type": "stream",
     "text": [
      "INFO:tensorflow:Assets written to: saved_models/exp4_with_aug/best_model_t89/assets\n",
      "[I 2024-01-30 22:17:36,570] Trial 89 finished with value: 0.6800000071525574 and parameters: {'batchsize': 32, 'brightness_factor': 0.14125325109034095, 'gaussian_noise_factor': 0.06585451641017626, 'translate_factor': 0.05042802570252343, 'num_layers': 4, 'layer_0': 'Pointwise2D', 'layer_0_pwconv2d_filters': 32, 'layer_0_pwconv2d_ssize': 2, 'activation_0': 'linear', 'layer_1': 'Conv2D', 'layer_1_conv2d_filters': 8, 'layer_1_conv2d_fsize': 16, 'layer_1_conv2d_ssize': 1, 'activation_1': 'relu', 'layer_2': 'Depthwise2D', 'layer_2_dwconv2d_fsize': 4, 'layer_2_dwconv2d_ssize': 2, 'activation_2': 'relu', 'layer_3': 'Depthwise2D', 'layer_3_dwconv2d_fsize': 16, 'layer_3_dwconv2d_ssize': 2, 'activation_3': 'linear', 'output_dropout': 0.40758365552645626, 'lr_inicial': 0.000991732127788989}. Best is trial 54 with value: 0.9800000190734863.\n"
     ]
    },
    {
     "name": "stdout",
     "output_type": "stream",
     "text": [
      "INFO:tensorflow:Assets written to: saved_models/exp4_with_aug/best_model_t90/assets\n"
     ]
    },
    {
     "name": "stderr",
     "output_type": "stream",
     "text": [
      "INFO:tensorflow:Assets written to: saved_models/exp4_with_aug/best_model_t90/assets\n",
      "[I 2024-01-30 22:17:50,573] Trial 90 finished with value: 0.6800000071525574 and parameters: {'batchsize': 128, 'brightness_factor': 0.14695964079059892, 'gaussian_noise_factor': 0.008187000783762392, 'translate_factor': 0.01919095083129683, 'num_layers': 1, 'layer_0': 'Depthwise2D', 'layer_0_dwconv2d_fsize': 16, 'layer_0_dwconv2d_ssize': 11, 'activation_0': 'tanh', 'output_dropout': 0.4266756630299478, 'lr_inicial': 0.0006048105077831356}. Best is trial 54 with value: 0.9800000190734863.\n"
     ]
    },
    {
     "name": "stdout",
     "output_type": "stream",
     "text": [
      "INFO:tensorflow:Assets written to: saved_models/exp4_with_aug/best_model_t91/assets\n"
     ]
    },
    {
     "name": "stderr",
     "output_type": "stream",
     "text": [
      "INFO:tensorflow:Assets written to: saved_models/exp4_with_aug/best_model_t91/assets\n",
      "[I 2024-01-30 22:18:06,871] Trial 91 finished with value: 0.9599999785423279 and parameters: {'batchsize': 32, 'brightness_factor': 0.08783667416968557, 'gaussian_noise_factor': 0.031719930963702084, 'translate_factor': 0.014106072650963874, 'num_layers': 2, 'layer_0': 'Conv2D', 'layer_0_conv2d_filters': 12, 'layer_0_conv2d_fsize': 4, 'layer_0_conv2d_ssize': 3, 'activation_0': 'linear', 'layer_1': 'Conv2D', 'layer_1_conv2d_filters': 16, 'layer_1_conv2d_fsize': 4, 'layer_1_conv2d_ssize': 2, 'activation_1': 'relu', 'output_dropout': 0.465124449536298, 'lr_inicial': 0.0012011749724145089}. Best is trial 54 with value: 0.9800000190734863.\n"
     ]
    },
    {
     "name": "stdout",
     "output_type": "stream",
     "text": [
      "INFO:tensorflow:Assets written to: saved_models/exp4_with_aug/best_model_t92/assets\n"
     ]
    },
    {
     "name": "stderr",
     "output_type": "stream",
     "text": [
      "INFO:tensorflow:Assets written to: saved_models/exp4_with_aug/best_model_t92/assets\n",
      "[I 2024-01-30 22:18:21,862] Trial 92 finished with value: 0.9599999785423279 and parameters: {'batchsize': 32, 'brightness_factor': 0.07279043659288678, 'gaussian_noise_factor': 0.029054412394906463, 'translate_factor': 0.024643664447556467, 'num_layers': 2, 'layer_0': 'Conv2D', 'layer_0_conv2d_filters': 12, 'layer_0_conv2d_fsize': 4, 'layer_0_conv2d_ssize': 3, 'activation_0': 'linear', 'layer_1': 'Conv2D', 'layer_1_conv2d_filters': 16, 'layer_1_conv2d_fsize': 4, 'layer_1_conv2d_ssize': 2, 'activation_1': 'relu', 'output_dropout': 0.44911091905976736, 'lr_inicial': 0.0015533738205928578}. Best is trial 54 with value: 0.9800000190734863.\n"
     ]
    },
    {
     "name": "stdout",
     "output_type": "stream",
     "text": [
      "INFO:tensorflow:Assets written to: saved_models/exp4_with_aug/best_model_t93/assets\n"
     ]
    },
    {
     "name": "stderr",
     "output_type": "stream",
     "text": [
      "INFO:tensorflow:Assets written to: saved_models/exp4_with_aug/best_model_t93/assets\n",
      "[I 2024-01-30 22:18:39,533] Trial 93 finished with value: 0.9800000190734863 and parameters: {'batchsize': 32, 'brightness_factor': 0.08770665692669813, 'gaussian_noise_factor': 0.034685943361256036, 'translate_factor': 0.008624962777729658, 'num_layers': 2, 'layer_0': 'Conv2D', 'layer_0_conv2d_filters': 8, 'layer_0_conv2d_fsize': 4, 'layer_0_conv2d_ssize': 2, 'activation_0': 'linear', 'layer_1': 'Conv2D', 'layer_1_conv2d_filters': 12, 'layer_1_conv2d_fsize': 5, 'layer_1_conv2d_ssize': 2, 'activation_1': 'relu', 'output_dropout': 0.5151551092458554, 'lr_inicial': 0.0011800689998123712}. Best is trial 54 with value: 0.9800000190734863.\n"
     ]
    },
    {
     "name": "stdout",
     "output_type": "stream",
     "text": [
      "INFO:tensorflow:Assets written to: saved_models/exp4_with_aug/best_model_t94/assets\n"
     ]
    },
    {
     "name": "stderr",
     "output_type": "stream",
     "text": [
      "INFO:tensorflow:Assets written to: saved_models/exp4_with_aug/best_model_t94/assets\n",
      "[I 2024-01-30 22:18:55,797] Trial 94 finished with value: 0.8799999952316284 and parameters: {'batchsize': 32, 'brightness_factor': 0.10771528187065026, 'gaussian_noise_factor': 0.04668544289198119, 'translate_factor': 0.00700539040666881, 'num_layers': 2, 'layer_0': 'Conv2D', 'layer_0_conv2d_filters': 8, 'layer_0_conv2d_fsize': 4, 'layer_0_conv2d_ssize': 2, 'activation_0': 'linear', 'layer_1': 'Conv2D', 'layer_1_conv2d_filters': 12, 'layer_1_conv2d_fsize': 5, 'layer_1_conv2d_ssize': 3, 'activation_1': 'relu', 'output_dropout': 0.5299594627603615, 'lr_inicial': 0.0003144127437409626}. Best is trial 54 with value: 0.9800000190734863.\n"
     ]
    },
    {
     "name": "stdout",
     "output_type": "stream",
     "text": [
      "INFO:tensorflow:Assets written to: saved_models/exp4_with_aug/best_model_t95/assets\n"
     ]
    },
    {
     "name": "stderr",
     "output_type": "stream",
     "text": [
      "INFO:tensorflow:Assets written to: saved_models/exp4_with_aug/best_model_t95/assets\n",
      "[I 2024-01-30 22:19:16,594] Trial 95 finished with value: 0.8799999952316284 and parameters: {'batchsize': 32, 'brightness_factor': 0.12074903053125736, 'gaussian_noise_factor': 0.022255829537512716, 'translate_factor': 0.029268626683792064, 'num_layers': 2, 'layer_0': 'Conv2D', 'layer_0_conv2d_filters': 8, 'layer_0_conv2d_fsize': 4, 'layer_0_conv2d_ssize': 2, 'activation_0': 'linear', 'layer_1': 'Conv2D', 'layer_1_conv2d_filters': 4, 'layer_1_conv2d_fsize': 5, 'layer_1_conv2d_ssize': 1, 'activation_1': 'relu', 'output_dropout': 0.5150407172568999, 'lr_inicial': 0.0010820332408983905}. Best is trial 54 with value: 0.9800000190734863.\n"
     ]
    },
    {
     "name": "stdout",
     "output_type": "stream",
     "text": [
      "INFO:tensorflow:Assets written to: saved_models/exp4_with_aug/best_model_t96/assets\n"
     ]
    },
    {
     "name": "stderr",
     "output_type": "stream",
     "text": [
      "INFO:tensorflow:Assets written to: saved_models/exp4_with_aug/best_model_t96/assets\n",
      "[I 2024-01-30 22:21:01,234] Trial 96 finished with value: 0.8999999761581421 and parameters: {'batchsize': 32, 'brightness_factor': 0.15920272055635473, 'gaussian_noise_factor': 0.01643851080201044, 'translate_factor': 0.009705219899044455, 'num_layers': 4, 'layer_0': 'Conv2D', 'layer_0_conv2d_filters': 32, 'layer_0_conv2d_fsize': 8, 'layer_0_conv2d_ssize': 1, 'activation_0': 'tanh', 'layer_1': 'Conv2D', 'layer_1_conv2d_filters': 12, 'layer_1_conv2d_fsize': 5, 'layer_1_conv2d_ssize': 1, 'activation_1': 'relu', 'layer_2': 'Conv2D', 'layer_2_conv2d_filters': 24, 'layer_2_conv2d_fsize': 5, 'layer_2_conv2d_ssize': 2, 'activation_2': 'tanh', 'layer_3': 'Pointwise2D', 'layer_3_pwconv2d_filters': 4, 'layer_3_pwconv2d_ssize': 2, 'activation_3': 'linear', 'output_dropout': 0.4916571416809447, 'lr_inicial': 0.00018682910314770843}. Best is trial 54 with value: 0.9800000190734863.\n"
     ]
    },
    {
     "name": "stdout",
     "output_type": "stream",
     "text": [
      "INFO:tensorflow:Assets written to: saved_models/exp4_with_aug/best_model_t97/assets\n"
     ]
    },
    {
     "name": "stderr",
     "output_type": "stream",
     "text": [
      "INFO:tensorflow:Assets written to: saved_models/exp4_with_aug/best_model_t97/assets\n",
      "[I 2024-01-30 22:21:24,722] Trial 97 finished with value: 0.800000011920929 and parameters: {'batchsize': 32, 'brightness_factor': 0.10205293673435686, 'gaussian_noise_factor': 0.055810281539938104, 'translate_factor': 0.03629177985929692, 'num_layers': 2, 'layer_0': 'Conv2D', 'layer_0_conv2d_filters': 8, 'layer_0_conv2d_fsize': 4, 'layer_0_conv2d_ssize': 1, 'activation_0': 'linear', 'layer_1': 'Conv2D', 'layer_1_conv2d_filters': 28, 'layer_1_conv2d_fsize': 5, 'layer_1_conv2d_ssize': 5, 'activation_1': 'tanh', 'output_dropout': 0.542300024238659, 'lr_inicial': 0.0006405397018881527}. Best is trial 54 with value: 0.9800000190734863.\n"
     ]
    },
    {
     "name": "stdout",
     "output_type": "stream",
     "text": [
      "INFO:tensorflow:Assets written to: saved_models/exp4_with_aug/best_model_t98/assets\n"
     ]
    },
    {
     "name": "stderr",
     "output_type": "stream",
     "text": [
      "INFO:tensorflow:Assets written to: saved_models/exp4_with_aug/best_model_t98/assets\n",
      "[I 2024-01-30 22:22:26,952] Trial 98 finished with value: 0.9399999976158142 and parameters: {'batchsize': 32, 'brightness_factor': 0.09514282376115774, 'gaussian_noise_factor': 0.00013719830647706752, 'translate_factor': 0.02012164907366771, 'num_layers': 4, 'layer_0': 'Conv2D', 'layer_0_conv2d_filters': 24, 'layer_0_conv2d_fsize': 4, 'layer_0_conv2d_ssize': 1, 'activation_0': 'linear', 'layer_1': 'Conv2D', 'layer_1_conv2d_filters': 20, 'layer_1_conv2d_fsize': 3, 'layer_1_conv2d_ssize': 2, 'activation_1': 'relu', 'layer_2': 'Conv2D', 'layer_2_conv2d_filters': 28, 'layer_2_conv2d_fsize': 16, 'layer_2_conv2d_ssize': 2, 'activation_2': 'relu', 'layer_3': 'Depthwise2D', 'layer_3_dwconv2d_fsize': 16, 'layer_3_dwconv2d_ssize': 2, 'activation_3': 'tanh', 'output_dropout': 0.5055653224397101, 'lr_inicial': 0.0009161906768659626}. Best is trial 54 with value: 0.9800000190734863.\n"
     ]
    },
    {
     "name": "stdout",
     "output_type": "stream",
     "text": [
      "INFO:tensorflow:Assets written to: saved_models/exp4_with_aug/best_model_t99/assets\n"
     ]
    },
    {
     "name": "stderr",
     "output_type": "stream",
     "text": [
      "INFO:tensorflow:Assets written to: saved_models/exp4_with_aug/best_model_t99/assets\n",
      "[I 2024-01-30 22:23:20,444] Trial 99 finished with value: 0.6800000071525574 and parameters: {'batchsize': 32, 'brightness_factor': 0.01642521643730872, 'gaussian_noise_factor': 0.1326983895616234, 'translate_factor': 0.0002497688605616298, 'num_layers': 4, 'layer_0': 'Conv2D', 'layer_0_conv2d_filters': 4, 'layer_0_conv2d_fsize': 4, 'layer_0_conv2d_ssize': 1, 'activation_0': 'tanh', 'layer_1': 'Pointwise2D', 'layer_1_pwconv2d_filters': 8, 'layer_1_pwconv2d_ssize': 1, 'activation_1': 'relu', 'layer_2': 'Conv2D', 'layer_2_conv2d_filters': 16, 'layer_2_conv2d_fsize': 16, 'layer_2_conv2d_ssize': 3, 'activation_2': 'linear', 'layer_3': 'Depthwise2D', 'layer_3_dwconv2d_fsize': 16, 'layer_3_dwconv2d_ssize': 2, 'activation_3': 'linear', 'output_dropout': 0.5111289987984864, 'lr_inicial': 0.0007672258989050843}. Best is trial 54 with value: 0.9800000190734863.\n"
     ]
    },
    {
     "name": "stdout",
     "output_type": "stream",
     "text": [
      "INFO:tensorflow:Assets written to: saved_models/exp4_with_aug/best_model_t100/assets\n"
     ]
    },
    {
     "name": "stderr",
     "output_type": "stream",
     "text": [
      "INFO:tensorflow:Assets written to: saved_models/exp4_with_aug/best_model_t100/assets\n",
      "[I 2024-01-30 22:23:35,291] Trial 100 finished with value: 0.8600000143051147 and parameters: {'batchsize': 32, 'brightness_factor': 0.0660136577434203, 'gaussian_noise_factor': 0.035890924242873525, 'translate_factor': 0.026895184305823418, 'num_layers': 2, 'layer_0': 'Conv2D', 'layer_0_conv2d_filters': 8, 'layer_0_conv2d_fsize': 4, 'layer_0_conv2d_ssize': 2, 'activation_0': 'linear', 'layer_1': 'Depthwise2D', 'layer_1_dwconv2d_fsize': 3, 'layer_1_dwconv2d_ssize': 8, 'activation_1': 'relu', 'output_dropout': 0.5234735944786795, 'lr_inicial': 0.0010238902724816672}. Best is trial 54 with value: 0.9800000190734863.\n"
     ]
    },
    {
     "name": "stdout",
     "output_type": "stream",
     "text": [
      "INFO:tensorflow:Assets written to: saved_models/exp4_with_aug/best_model_t101/assets\n"
     ]
    },
    {
     "name": "stderr",
     "output_type": "stream",
     "text": [
      "INFO:tensorflow:Assets written to: saved_models/exp4_with_aug/best_model_t101/assets\n",
      "[I 2024-01-30 22:23:50,204] Trial 101 finished with value: 0.8999999761581421 and parameters: {'batchsize': 32, 'brightness_factor': 0.08915107784937085, 'gaussian_noise_factor': 0.005775434042814595, 'translate_factor': 0.015469816148937256, 'num_layers': 2, 'layer_0': 'Conv2D', 'layer_0_conv2d_filters': 8, 'layer_0_conv2d_fsize': 4, 'layer_0_conv2d_ssize': 3, 'activation_0': 'linear', 'layer_1': 'Conv2D', 'layer_1_conv2d_filters': 16, 'layer_1_conv2d_fsize': 4, 'layer_1_conv2d_ssize': 2, 'activation_1': 'relu', 'output_dropout': 0.43672227250149337, 'lr_inicial': 0.0014097884330772485}. Best is trial 54 with value: 0.9800000190734863.\n"
     ]
    },
    {
     "name": "stdout",
     "output_type": "stream",
     "text": [
      "INFO:tensorflow:Assets written to: saved_models/exp4_with_aug/best_model_t102/assets\n"
     ]
    },
    {
     "name": "stderr",
     "output_type": "stream",
     "text": [
      "INFO:tensorflow:Assets written to: saved_models/exp4_with_aug/best_model_t102/assets\n",
      "[I 2024-01-30 22:24:08,471] Trial 102 finished with value: 0.8799999952316284 and parameters: {'batchsize': 32, 'brightness_factor': 0.08768993493322527, 'gaussian_noise_factor': 0.03348190513878607, 'translate_factor': 0.00697079299745499, 'num_layers': 2, 'layer_0': 'Conv2D', 'layer_0_conv2d_filters': 12, 'layer_0_conv2d_fsize': 4, 'layer_0_conv2d_ssize': 2, 'activation_0': 'linear', 'layer_1': 'Conv2D', 'layer_1_conv2d_filters': 16, 'layer_1_conv2d_fsize': 4, 'layer_1_conv2d_ssize': 2, 'activation_1': 'relu', 'output_dropout': 0.4669389054344444, 'lr_inicial': 0.0012358596767644944}. Best is trial 54 with value: 0.9800000190734863.\n"
     ]
    },
    {
     "name": "stdout",
     "output_type": "stream",
     "text": [
      "INFO:tensorflow:Assets written to: saved_models/exp4_with_aug/best_model_t103/assets\n"
     ]
    },
    {
     "name": "stderr",
     "output_type": "stream",
     "text": [
      "INFO:tensorflow:Assets written to: saved_models/exp4_with_aug/best_model_t103/assets\n",
      "[I 2024-01-30 22:24:26,012] Trial 103 finished with value: 1.0 and parameters: {'batchsize': 32, 'brightness_factor': 0.07810315809868569, 'gaussian_noise_factor': 0.012366729993256585, 'translate_factor': 0.03243066408331395, 'num_layers': 2, 'layer_0': 'Conv2D', 'layer_0_conv2d_filters': 8, 'layer_0_conv2d_fsize': 4, 'layer_0_conv2d_ssize': 3, 'activation_0': 'linear', 'layer_1': 'Conv2D', 'layer_1_conv2d_filters': 8, 'layer_1_conv2d_fsize': 5, 'layer_1_conv2d_ssize': 1, 'activation_1': 'relu', 'output_dropout': 0.4566767363346691, 'lr_inicial': 0.0011698580163583688}. Best is trial 103 with value: 1.0.\n"
     ]
    },
    {
     "name": "stdout",
     "output_type": "stream",
     "text": [
      "INFO:tensorflow:Assets written to: saved_models/exp4_with_aug/best_model_t104/assets\n"
     ]
    },
    {
     "name": "stderr",
     "output_type": "stream",
     "text": [
      "INFO:tensorflow:Assets written to: saved_models/exp4_with_aug/best_model_t104/assets\n",
      "[I 2024-01-30 22:25:16,537] Trial 104 finished with value: 0.9399999976158142 and parameters: {'batchsize': 32, 'brightness_factor': 0.12857825353210361, 'gaussian_noise_factor': 0.010758635531834121, 'translate_factor': 0.04279471572618673, 'num_layers': 2, 'layer_0': 'Conv2D', 'layer_0_conv2d_filters': 8, 'layer_0_conv2d_fsize': 4, 'layer_0_conv2d_ssize': 1, 'activation_0': 'linear', 'layer_1': 'Conv2D', 'layer_1_conv2d_filters': 8, 'layer_1_conv2d_fsize': 5, 'layer_1_conv2d_ssize': 1, 'activation_1': 'relu', 'output_dropout': 0.4568894084247549, 'lr_inicial': 0.0011712374482876226}. Best is trial 103 with value: 1.0.\n"
     ]
    },
    {
     "name": "stdout",
     "output_type": "stream",
     "text": [
      "INFO:tensorflow:Assets written to: saved_models/exp4_with_aug/best_model_t105/assets\n"
     ]
    },
    {
     "name": "stderr",
     "output_type": "stream",
     "text": [
      "INFO:tensorflow:Assets written to: saved_models/exp4_with_aug/best_model_t105/assets\n",
      "[I 2024-01-30 22:25:43,408] Trial 105 finished with value: 0.8199999928474426 and parameters: {'batchsize': 32, 'brightness_factor': 0.07989224831339586, 'gaussian_noise_factor': 0.017997281060743518, 'translate_factor': 0.0332632715558501, 'num_layers': 2, 'layer_0': 'Conv2D', 'layer_0_conv2d_filters': 4, 'layer_0_conv2d_fsize': 8, 'layer_0_conv2d_ssize': 2, 'activation_0': 'linear', 'layer_1': 'Conv2D', 'layer_1_conv2d_filters': 12, 'layer_1_conv2d_fsize': 5, 'layer_1_conv2d_ssize': 1, 'activation_1': 'linear', 'output_dropout': 0.4772455150439475, 'lr_inicial': 0.0008417439819000397}. Best is trial 103 with value: 1.0.\n"
     ]
    },
    {
     "name": "stdout",
     "output_type": "stream",
     "text": [
      "INFO:tensorflow:Assets written to: saved_models/exp4_with_aug/best_model_t106/assets\n"
     ]
    },
    {
     "name": "stderr",
     "output_type": "stream",
     "text": [
      "INFO:tensorflow:Assets written to: saved_models/exp4_with_aug/best_model_t106/assets\n",
      "[I 2024-01-30 22:26:11,531] Trial 106 finished with value: 0.8600000143051147 and parameters: {'batchsize': 32, 'brightness_factor': 0.06431085437126666, 'gaussian_noise_factor': 0.010619891092721502, 'translate_factor': 0.047900900307639244, 'num_layers': 4, 'layer_0': 'Conv2D', 'layer_0_conv2d_filters': 8, 'layer_0_conv2d_fsize': 16, 'layer_0_conv2d_ssize': 3, 'activation_0': 'relu', 'layer_1': 'Conv2D', 'layer_1_conv2d_filters': 8, 'layer_1_conv2d_fsize': 5, 'layer_1_conv2d_ssize': 1, 'activation_1': 'relu', 'layer_2': 'Pointwise2D', 'layer_2_pwconv2d_filters': 12, 'layer_2_pwconv2d_ssize': 2, 'activation_2': 'relu', 'layer_3': 'Depthwise2D', 'layer_3_dwconv2d_fsize': 16, 'layer_3_dwconv2d_ssize': 1, 'activation_3': 'linear', 'output_dropout': 0.48870856918894795, 'lr_inicial': 0.0009461528852141466}. Best is trial 103 with value: 1.0.\n"
     ]
    },
    {
     "name": "stdout",
     "output_type": "stream",
     "text": [
      "INFO:tensorflow:Assets written to: saved_models/exp4_with_aug/best_model_t107/assets\n"
     ]
    },
    {
     "name": "stderr",
     "output_type": "stream",
     "text": [
      "INFO:tensorflow:Assets written to: saved_models/exp4_with_aug/best_model_t107/assets\n",
      "[I 2024-01-30 22:26:26,799] Trial 107 finished with value: 0.7200000286102295 and parameters: {'batchsize': 32, 'brightness_factor': 0.07728964362497609, 'gaussian_noise_factor': 0.14907310295239284, 'translate_factor': 0.12024046380742506, 'num_layers': 2, 'layer_0': 'Conv2D', 'layer_0_conv2d_filters': 24, 'layer_0_conv2d_fsize': 3, 'layer_0_conv2d_ssize': 4, 'activation_0': 'tanh', 'layer_1': 'Pointwise2D', 'layer_1_pwconv2d_filters': 12, 'layer_1_pwconv2d_ssize': 4, 'activation_1': 'relu', 'output_dropout': 0.43212044457568505, 'lr_inicial': 0.001126824057575812}. Best is trial 103 with value: 1.0.\n"
     ]
    },
    {
     "name": "stdout",
     "output_type": "stream",
     "text": [
      "INFO:tensorflow:Assets written to: saved_models/exp4_with_aug/best_model_t108/assets\n"
     ]
    },
    {
     "name": "stderr",
     "output_type": "stream",
     "text": [
      "INFO:tensorflow:Assets written to: saved_models/exp4_with_aug/best_model_t108/assets\n",
      "[I 2024-01-30 22:26:56,533] Trial 108 finished with value: 0.699999988079071 and parameters: {'batchsize': 32, 'brightness_factor': 0.1366171784794091, 'gaussian_noise_factor': 0.02377169690309323, 'translate_factor': 0.03878076932881807, 'num_layers': 4, 'layer_0': 'Pointwise2D', 'layer_0_pwconv2d_filters': 24, 'layer_0_pwconv2d_ssize': 3, 'activation_0': 'linear', 'layer_1': 'Conv2D', 'layer_1_conv2d_filters': 4, 'layer_1_conv2d_fsize': 8, 'layer_1_conv2d_ssize': 1, 'activation_1': 'relu', 'layer_2': 'Conv2D', 'layer_2_conv2d_filters': 32, 'layer_2_conv2d_fsize': 5, 'layer_2_conv2d_ssize': 2, 'activation_2': 'linear', 'layer_3': 'Depthwise2D', 'layer_3_dwconv2d_fsize': 5, 'layer_3_dwconv2d_ssize': 4, 'activation_3': 'linear', 'output_dropout': 0.4415725786797196, 'lr_inicial': 0.0010260525859820426}. Best is trial 103 with value: 1.0.\n"
     ]
    },
    {
     "name": "stdout",
     "output_type": "stream",
     "text": [
      "INFO:tensorflow:Assets written to: saved_models/exp4_with_aug/best_model_t109/assets\n"
     ]
    },
    {
     "name": "stderr",
     "output_type": "stream",
     "text": [
      "INFO:tensorflow:Assets written to: saved_models/exp4_with_aug/best_model_t109/assets\n",
      "[I 2024-01-30 22:27:33,276] Trial 109 finished with value: 0.5 and parameters: {'batchsize': 32, 'brightness_factor': 0.11075839845160784, 'gaussian_noise_factor': 0.013562449359460806, 'translate_factor': 0.0248819045320016, 'num_layers': 2, 'layer_0': 'Conv2D', 'layer_0_conv2d_filters': 32, 'layer_0_conv2d_fsize': 4, 'layer_0_conv2d_ssize': 2, 'activation_0': 'linear', 'layer_1': 'Conv2D', 'layer_1_conv2d_filters': 20, 'layer_1_conv2d_fsize': 5, 'layer_1_conv2d_ssize': 1, 'activation_1': 'relu', 'output_dropout': 0.42031374222357454, 'lr_inicial': 0.0016423276556116423}. Best is trial 103 with value: 1.0.\n"
     ]
    },
    {
     "name": "stdout",
     "output_type": "stream",
     "text": [
      "INFO:tensorflow:Assets written to: saved_models/exp4_with_aug/best_model_t110/assets\n"
     ]
    },
    {
     "name": "stderr",
     "output_type": "stream",
     "text": [
      "INFO:tensorflow:Assets written to: saved_models/exp4_with_aug/best_model_t110/assets\n",
      "[I 2024-01-30 22:27:47,040] Trial 110 finished with value: 0.6600000262260437 and parameters: {'batchsize': 32, 'brightness_factor': 0.09879713039659761, 'gaussian_noise_factor': 0.004945072088570618, 'translate_factor': 0.029727186607304303, 'num_layers': 1, 'layer_0': 'Depthwise2D', 'layer_0_dwconv2d_fsize': 16, 'layer_0_dwconv2d_ssize': 10, 'activation_0': 'tanh', 'output_dropout': 0.39516078320045145, 'lr_inicial': 0.00014185400068209955}. Best is trial 103 with value: 1.0.\n"
     ]
    },
    {
     "name": "stdout",
     "output_type": "stream",
     "text": [
      "INFO:tensorflow:Assets written to: saved_models/exp4_with_aug/best_model_t111/assets\n"
     ]
    },
    {
     "name": "stderr",
     "output_type": "stream",
     "text": [
      "INFO:tensorflow:Assets written to: saved_models/exp4_with_aug/best_model_t111/assets\n",
      "[I 2024-01-30 22:28:03,555] Trial 111 finished with value: 0.9599999785423279 and parameters: {'batchsize': 32, 'brightness_factor': 0.08218887664107846, 'gaussian_noise_factor': 0.040534798058277574, 'translate_factor': 0.0179755606123978, 'num_layers': 2, 'layer_0': 'Conv2D', 'layer_0_conv2d_filters': 16, 'layer_0_conv2d_fsize': 4, 'layer_0_conv2d_ssize': 3, 'activation_0': 'linear', 'layer_1': 'Conv2D', 'layer_1_conv2d_filters': 32, 'layer_1_conv2d_fsize': 4, 'layer_1_conv2d_ssize': 2, 'activation_1': 'relu', 'output_dropout': 0.4576218450142377, 'lr_inicial': 0.0013172640662754416}. Best is trial 103 with value: 1.0.\n"
     ]
    },
    {
     "name": "stdout",
     "output_type": "stream",
     "text": [
      "INFO:tensorflow:Assets written to: saved_models/exp4_with_aug/best_model_t112/assets\n"
     ]
    },
    {
     "name": "stderr",
     "output_type": "stream",
     "text": [
      "INFO:tensorflow:Assets written to: saved_models/exp4_with_aug/best_model_t112/assets\n",
      "[I 2024-01-30 22:28:18,222] Trial 112 finished with value: 0.9800000190734863 and parameters: {'batchsize': 32, 'brightness_factor': 0.08559723943092176, 'gaussian_noise_factor': 0.030870619955446883, 'translate_factor': 0.011270933543730405, 'num_layers': 2, 'layer_0': 'Conv2D', 'layer_0_conv2d_filters': 8, 'layer_0_conv2d_fsize': 4, 'layer_0_conv2d_ssize': 3, 'activation_0': 'linear', 'layer_1': 'Conv2D', 'layer_1_conv2d_filters': 16, 'layer_1_conv2d_fsize': 4, 'layer_1_conv2d_ssize': 2, 'activation_1': 'relu', 'output_dropout': 0.44834311379635994, 'lr_inicial': 0.001194053003988629}. Best is trial 103 with value: 1.0.\n"
     ]
    },
    {
     "name": "stdout",
     "output_type": "stream",
     "text": [
      "INFO:tensorflow:Assets written to: saved_models/exp4_with_aug/best_model_t113/assets\n"
     ]
    },
    {
     "name": "stderr",
     "output_type": "stream",
     "text": [
      "INFO:tensorflow:Assets written to: saved_models/exp4_with_aug/best_model_t113/assets\n",
      "[I 2024-01-30 22:28:32,295] Trial 113 finished with value: 0.8600000143051147 and parameters: {'batchsize': 32, 'brightness_factor': 0.0706242081253099, 'gaussian_noise_factor': 0.04968230410202694, 'translate_factor': 0.05419002488832822, 'num_layers': 2, 'layer_0': 'Conv2D', 'layer_0_conv2d_filters': 8, 'layer_0_conv2d_fsize': 4, 'layer_0_conv2d_ssize': 7, 'activation_0': 'linear', 'layer_1': 'Conv2D', 'layer_1_conv2d_filters': 20, 'layer_1_conv2d_fsize': 4, 'layer_1_conv2d_ssize': 3, 'activation_1': 'relu', 'output_dropout': 0.4483692629005979, 'lr_inicial': 0.0010503467900653829}. Best is trial 103 with value: 1.0.\n"
     ]
    },
    {
     "name": "stdout",
     "output_type": "stream",
     "text": [
      "INFO:tensorflow:Assets written to: saved_models/exp4_with_aug/best_model_t114/assets\n"
     ]
    },
    {
     "name": "stderr",
     "output_type": "stream",
     "text": [
      "INFO:tensorflow:Assets written to: saved_models/exp4_with_aug/best_model_t114/assets\n",
      "[I 2024-01-30 22:29:22,450] Trial 114 finished with value: 0.8999999761581421 and parameters: {'batchsize': 32, 'brightness_factor': 0.11618012130008597, 'gaussian_noise_factor': 0.026793263796163147, 'translate_factor': 0.009445027230554513, 'num_layers': 2, 'layer_0': 'Conv2D', 'layer_0_conv2d_filters': 8, 'layer_0_conv2d_fsize': 4, 'layer_0_conv2d_ssize': 1, 'activation_0': 'linear', 'layer_1': 'Conv2D', 'layer_1_conv2d_filters': 16, 'layer_1_conv2d_fsize': 4, 'layer_1_conv2d_ssize': 1, 'activation_1': 'relu', 'output_dropout': 0.4843205256705501, 'lr_inicial': 0.0005640117885333119}. Best is trial 103 with value: 1.0.\n"
     ]
    },
    {
     "name": "stdout",
     "output_type": "stream",
     "text": [
      "INFO:tensorflow:Assets written to: saved_models/exp4_with_aug/best_model_t115/assets\n"
     ]
    },
    {
     "name": "stderr",
     "output_type": "stream",
     "text": [
      "INFO:tensorflow:Assets written to: saved_models/exp4_with_aug/best_model_t115/assets\n",
      "[I 2024-01-30 22:29:37,788] Trial 115 finished with value: 0.8399999737739563 and parameters: {'batchsize': 32, 'brightness_factor': 0.09278374073531685, 'gaussian_noise_factor': 0.019998830820288964, 'translate_factor': 0.021892871696585492, 'num_layers': 2, 'layer_0': 'Conv2D', 'layer_0_conv2d_filters': 20, 'layer_0_conv2d_fsize': 5, 'layer_0_conv2d_ssize': 3, 'activation_0': 'linear', 'layer_1': 'Pointwise2D', 'layer_1_pwconv2d_filters': 8, 'layer_1_pwconv2d_ssize': 6, 'activation_1': 'relu', 'output_dropout': 0.4983690234928885, 'lr_inicial': 0.0007235496867095683}. Best is trial 103 with value: 1.0.\n"
     ]
    },
    {
     "name": "stdout",
     "output_type": "stream",
     "text": [
      "INFO:tensorflow:Assets written to: saved_models/exp4_with_aug/best_model_t116/assets\n"
     ]
    },
    {
     "name": "stderr",
     "output_type": "stream",
     "text": [
      "INFO:tensorflow:Assets written to: saved_models/exp4_with_aug/best_model_t116/assets\n",
      "[I 2024-01-30 22:29:55,842] Trial 116 finished with value: 0.6399999856948853 and parameters: {'batchsize': 32, 'brightness_factor': 0.058283630921481644, 'gaussian_noise_factor': 0.007740556289188392, 'translate_factor': 0.01246502746029534, 'num_layers': 4, 'layer_0': 'Conv2D', 'layer_0_conv2d_filters': 8, 'layer_0_conv2d_fsize': 4, 'layer_0_conv2d_ssize': 3, 'activation_0': 'linear', 'layer_1': 'Conv2D', 'layer_1_conv2d_filters': 12, 'layer_1_conv2d_fsize': 5, 'layer_1_conv2d_ssize': 2, 'activation_1': 'tanh', 'layer_2': 'Conv2D', 'layer_2_conv2d_filters': 24, 'layer_2_conv2d_fsize': 16, 'layer_2_conv2d_ssize': 3, 'activation_2': 'relu', 'layer_3': 'Conv2D', 'layer_3_conv2d_filters': 24, 'layer_3_conv2d_fsize': 16, 'layer_3_conv2d_ssize': 2, 'activation_3': 'relu', 'output_dropout': 0.4529325019292204, 'lr_inicial': 0.0014534950924909576}. Best is trial 103 with value: 1.0.\n"
     ]
    },
    {
     "name": "stdout",
     "output_type": "stream",
     "text": [
      "INFO:tensorflow:Assets written to: saved_models/exp4_with_aug/best_model_t117/assets\n"
     ]
    },
    {
     "name": "stderr",
     "output_type": "stream",
     "text": [
      "INFO:tensorflow:Assets written to: saved_models/exp4_with_aug/best_model_t117/assets\n",
      "[I 2024-01-30 22:30:10,669] Trial 117 finished with value: 0.9399999976158142 and parameters: {'batchsize': 32, 'brightness_factor': 0.10704481838024485, 'gaussian_noise_factor': 0.0026537799540194, 'translate_factor': 0.08634248450105286, 'num_layers': 2, 'layer_0': 'Conv2D', 'layer_0_conv2d_filters': 4, 'layer_0_conv2d_fsize': 4, 'layer_0_conv2d_ssize': 4, 'activation_0': 'linear', 'layer_1': 'Conv2D', 'layer_1_conv2d_filters': 24, 'layer_1_conv2d_fsize': 4, 'layer_1_conv2d_ssize': 2, 'activation_1': 'relu', 'output_dropout': 0.5195178713205275, 'lr_inicial': 0.0008770800648940736}. Best is trial 103 with value: 1.0.\n"
     ]
    },
    {
     "name": "stdout",
     "output_type": "stream",
     "text": [
      "INFO:tensorflow:Assets written to: saved_models/exp4_with_aug/best_model_t118/assets\n"
     ]
    },
    {
     "name": "stderr",
     "output_type": "stream",
     "text": [
      "INFO:tensorflow:Assets written to: saved_models/exp4_with_aug/best_model_t118/assets\n",
      "[I 2024-01-30 22:30:38,480] Trial 118 finished with value: 0.7799999713897705 and parameters: {'batchsize': 32, 'brightness_factor': 0.1833615548951583, 'gaussian_noise_factor': 0.015314128704049856, 'translate_factor': 0.0032036508303615527, 'num_layers': 4, 'layer_0': 'Conv2D', 'layer_0_conv2d_filters': 8, 'layer_0_conv2d_fsize': 4, 'layer_0_conv2d_ssize': 3, 'activation_0': 'tanh', 'layer_1': 'Conv2D', 'layer_1_conv2d_filters': 20, 'layer_1_conv2d_fsize': 16, 'layer_1_conv2d_ssize': 1, 'activation_1': 'relu', 'layer_2': 'Depthwise2D', 'layer_2_dwconv2d_fsize': 8, 'layer_2_dwconv2d_ssize': 3, 'activation_2': 'tanh', 'layer_3': 'Pointwise2D', 'layer_3_pwconv2d_filters': 24, 'layer_3_pwconv2d_ssize': 3, 'activation_3': 'linear', 'output_dropout': 0.47111152044896965, 'lr_inicial': 0.000501578172915629}. Best is trial 103 with value: 1.0.\n"
     ]
    },
    {
     "name": "stdout",
     "output_type": "stream",
     "text": [
      "INFO:tensorflow:Assets written to: saved_models/exp4_with_aug/best_model_t119/assets\n"
     ]
    },
    {
     "name": "stderr",
     "output_type": "stream",
     "text": [
      "INFO:tensorflow:Assets written to: saved_models/exp4_with_aug/best_model_t119/assets\n",
      "[I 2024-01-30 22:31:00,694] Trial 119 finished with value: 0.8799999952316284 and parameters: {'batchsize': 64, 'brightness_factor': 0.08419591415187601, 'gaussian_noise_factor': 0.030873349138146204, 'translate_factor': 0.032876157837914324, 'num_layers': 2, 'layer_0': 'Conv2D', 'layer_0_conv2d_filters': 8, 'layer_0_conv2d_fsize': 4, 'layer_0_conv2d_ssize': 1, 'activation_0': 'linear', 'layer_1': 'Pointwise2D', 'layer_1_pwconv2d_filters': 16, 'layer_1_pwconv2d_ssize': 8, 'activation_1': 'relu', 'output_dropout': 0.45941570249563474, 'lr_inicial': 0.0009692718299235235}. Best is trial 103 with value: 1.0.\n"
     ]
    },
    {
     "name": "stdout",
     "output_type": "stream",
     "text": [
      "INFO:tensorflow:Assets written to: saved_models/exp4_with_aug/best_model_t120/assets\n"
     ]
    },
    {
     "name": "stderr",
     "output_type": "stream",
     "text": [
      "INFO:tensorflow:Assets written to: saved_models/exp4_with_aug/best_model_t120/assets\n",
      "[I 2024-01-30 22:31:17,857] Trial 120 finished with value: 0.9399999976158142 and parameters: {'batchsize': 32, 'brightness_factor': 0.15351036648956068, 'gaussian_noise_factor': 0.02554808275015526, 'translate_factor': 0.0445427172489921, 'num_layers': 4, 'layer_0': 'Conv2D', 'layer_0_conv2d_filters': 4, 'layer_0_conv2d_fsize': 8, 'layer_0_conv2d_ssize': 3, 'activation_0': 'linear', 'layer_1': 'Conv2D', 'layer_1_conv2d_filters': 16, 'layer_1_conv2d_fsize': 3, 'layer_1_conv2d_ssize': 2, 'activation_1': 'relu', 'layer_2': 'Conv2D', 'layer_2_conv2d_filters': 28, 'layer_2_conv2d_fsize': 8, 'layer_2_conv2d_ssize': 2, 'activation_2': 'relu', 'layer_3': 'Depthwise2D', 'layer_3_dwconv2d_fsize': 3, 'layer_3_dwconv2d_ssize': 2, 'activation_3': 'linear', 'output_dropout': 0.44356714080727433, 'lr_inicial': 0.0017638220678731732}. Best is trial 103 with value: 1.0.\n"
     ]
    },
    {
     "name": "stdout",
     "output_type": "stream",
     "text": [
      "INFO:tensorflow:Assets written to: saved_models/exp4_with_aug/best_model_t121/assets\n"
     ]
    },
    {
     "name": "stderr",
     "output_type": "stream",
     "text": [
      "INFO:tensorflow:Assets written to: saved_models/exp4_with_aug/best_model_t121/assets\n",
      "[I 2024-01-30 22:31:36,601] Trial 121 finished with value: 0.9399999976158142 and parameters: {'batchsize': 32, 'brightness_factor': 0.07696969336660167, 'gaussian_noise_factor': 0.03655815864218759, 'translate_factor': 0.0159788051434644, 'num_layers': 2, 'layer_0': 'Conv2D', 'layer_0_conv2d_filters': 12, 'layer_0_conv2d_fsize': 4, 'layer_0_conv2d_ssize': 2, 'activation_0': 'linear', 'layer_1': 'Conv2D', 'layer_1_conv2d_filters': 16, 'layer_1_conv2d_fsize': 4, 'layer_1_conv2d_ssize': 2, 'activation_1': 'relu', 'output_dropout': 0.46198782974178787, 'lr_inicial': 0.00125617647004756}. Best is trial 103 with value: 1.0.\n"
     ]
    },
    {
     "name": "stdout",
     "output_type": "stream",
     "text": [
      "INFO:tensorflow:Assets written to: saved_models/exp4_with_aug/best_model_t122/assets\n"
     ]
    },
    {
     "name": "stderr",
     "output_type": "stream",
     "text": [
      "INFO:tensorflow:Assets written to: saved_models/exp4_with_aug/best_model_t122/assets\n",
      "[I 2024-01-30 22:31:50,923] Trial 122 finished with value: 0.9599999785423279 and parameters: {'batchsize': 32, 'brightness_factor': 0.08800398056255213, 'gaussian_noise_factor': 0.04238280913465967, 'translate_factor': 0.020571874882591056, 'num_layers': 2, 'layer_0': 'Conv2D', 'layer_0_conv2d_filters': 8, 'layer_0_conv2d_fsize': 4, 'layer_0_conv2d_ssize': 3, 'activation_0': 'linear', 'layer_1': 'Conv2D', 'layer_1_conv2d_filters': 16, 'layer_1_conv2d_fsize': 4, 'layer_1_conv2d_ssize': 3, 'activation_1': 'relu', 'output_dropout': 0.46584121497150216, 'lr_inicial': 0.001170858940973608}. Best is trial 103 with value: 1.0.\n"
     ]
    },
    {
     "name": "stdout",
     "output_type": "stream",
     "text": [
      "INFO:tensorflow:Assets written to: saved_models/exp4_with_aug/best_model_t123/assets\n"
     ]
    },
    {
     "name": "stderr",
     "output_type": "stream",
     "text": [
      "INFO:tensorflow:Assets written to: saved_models/exp4_with_aug/best_model_t123/assets\n",
      "[I 2024-01-30 22:32:44,971] Trial 123 finished with value: 0.9200000166893005 and parameters: {'batchsize': 32, 'brightness_factor': 0.12485469713576965, 'gaussian_noise_factor': 0.03259877454664602, 'translate_factor': 0.00602931638046858, 'num_layers': 2, 'layer_0': 'Conv2D', 'layer_0_conv2d_filters': 8, 'layer_0_conv2d_fsize': 4, 'layer_0_conv2d_ssize': 1, 'activation_0': 'linear', 'layer_1': 'Conv2D', 'layer_1_conv2d_filters': 12, 'layer_1_conv2d_fsize': 4, 'layer_1_conv2d_ssize': 1, 'activation_1': 'relu', 'output_dropout': 0.4771128384301291, 'lr_inicial': 0.0008050058069200678}. Best is trial 103 with value: 1.0.\n"
     ]
    },
    {
     "name": "stdout",
     "output_type": "stream",
     "text": [
      "INFO:tensorflow:Assets written to: saved_models/exp4_with_aug/best_model_t124/assets\n"
     ]
    },
    {
     "name": "stderr",
     "output_type": "stream",
     "text": [
      "INFO:tensorflow:Assets written to: saved_models/exp4_with_aug/best_model_t124/assets\n",
      "[I 2024-01-30 22:32:59,228] Trial 124 finished with value: 0.8799999952316284 and parameters: {'batchsize': 32, 'brightness_factor': 0.06984475953811867, 'gaussian_noise_factor': 0.19975888912933024, 'translate_factor': 0.014526272388908974, 'num_layers': 2, 'layer_0': 'Conv2D', 'layer_0_conv2d_filters': 12, 'layer_0_conv2d_fsize': 4, 'layer_0_conv2d_ssize': 6, 'activation_0': 'linear', 'layer_1': 'Conv2D', 'layer_1_conv2d_filters': 20, 'layer_1_conv2d_fsize': 4, 'layer_1_conv2d_ssize': 2, 'activation_1': 'relu', 'output_dropout': 0.5364009670651949, 'lr_inicial': 0.001319182507947143}. Best is trial 103 with value: 1.0.\n"
     ]
    },
    {
     "name": "stdout",
     "output_type": "stream",
     "text": [
      "INFO:tensorflow:Assets written to: saved_models/exp4_with_aug/best_model_t125/assets\n"
     ]
    },
    {
     "name": "stderr",
     "output_type": "stream",
     "text": [
      "INFO:tensorflow:Assets written to: saved_models/exp4_with_aug/best_model_t125/assets\n",
      "[I 2024-01-30 22:33:12,828] Trial 125 finished with value: 0.7200000286102295 and parameters: {'batchsize': 32, 'brightness_factor': 0.048151222855562205, 'gaussian_noise_factor': 0.0226827795513977, 'translate_factor': 0.02812235421321252, 'num_layers': 2, 'layer_0': 'Conv2D', 'layer_0_conv2d_filters': 8, 'layer_0_conv2d_fsize': 4, 'layer_0_conv2d_ssize': 8, 'activation_0': 'linear', 'layer_1': 'Conv2D', 'layer_1_conv2d_filters': 16, 'layer_1_conv2d_fsize': 4, 'layer_1_conv2d_ssize': 8, 'activation_1': 'relu', 'output_dropout': 0.43061251934983646, 'lr_inicial': 0.001082276862667994}. Best is trial 103 with value: 1.0.\n"
     ]
    },
    {
     "name": "stdout",
     "output_type": "stream",
     "text": [
      "INFO:tensorflow:Assets written to: saved_models/exp4_with_aug/best_model_t126/assets\n"
     ]
    },
    {
     "name": "stderr",
     "output_type": "stream",
     "text": [
      "INFO:tensorflow:Assets written to: saved_models/exp4_with_aug/best_model_t126/assets\n",
      "[I 2024-01-30 22:33:44,863] Trial 126 finished with value: 0.8799999952316284 and parameters: {'batchsize': 32, 'brightness_factor': 0.174395125762063, 'gaussian_noise_factor': 0.030266700485402483, 'translate_factor': 0.011424394297220284, 'num_layers': 2, 'layer_0': 'Conv2D', 'layer_0_conv2d_filters': 8, 'layer_0_conv2d_fsize': 4, 'layer_0_conv2d_ssize': 2, 'activation_0': 'relu', 'layer_1': 'Conv2D', 'layer_1_conv2d_filters': 24, 'layer_1_conv2d_fsize': 4, 'layer_1_conv2d_ssize': 1, 'activation_1': 'linear', 'output_dropout': 0.5101839887521941, 'lr_inicial': 0.001176048234885436}. Best is trial 103 with value: 1.0.\n"
     ]
    },
    {
     "name": "stdout",
     "output_type": "stream",
     "text": [
      "INFO:tensorflow:Assets written to: saved_models/exp4_with_aug/best_model_t127/assets\n"
     ]
    },
    {
     "name": "stderr",
     "output_type": "stream",
     "text": [
      "INFO:tensorflow:Assets written to: saved_models/exp4_with_aug/best_model_t127/assets\n",
      "[I 2024-01-30 22:34:04,929] Trial 127 finished with value: 0.7200000286102295 and parameters: {'batchsize': 32, 'brightness_factor': 0.16113582491255096, 'gaussian_noise_factor': 0.013954266394012812, 'translate_factor': 0.023467758991174183, 'num_layers': 4, 'layer_0': 'Conv2D', 'layer_0_conv2d_filters': 28, 'layer_0_conv2d_fsize': 4, 'layer_0_conv2d_ssize': 3, 'activation_0': 'tanh', 'layer_1': 'Depthwise2D', 'layer_1_dwconv2d_fsize': 16, 'layer_1_dwconv2d_ssize': 4, 'activation_1': 'relu', 'layer_2': 'Conv2D', 'layer_2_conv2d_filters': 32, 'layer_2_conv2d_fsize': 3, 'layer_2_conv2d_ssize': 3, 'activation_2': 'linear', 'layer_3': 'Depthwise2D', 'layer_3_dwconv2d_fsize': 16, 'layer_3_dwconv2d_ssize': 2, 'activation_3': 'tanh', 'output_dropout': 0.4127623610415464, 'lr_inicial': 0.0009817416636864042}. Best is trial 103 with value: 1.0.\n"
     ]
    },
    {
     "name": "stdout",
     "output_type": "stream",
     "text": [
      "INFO:tensorflow:Assets written to: saved_models/exp4_with_aug/best_model_t128/assets\n"
     ]
    },
    {
     "name": "stderr",
     "output_type": "stream",
     "text": [
      "INFO:tensorflow:Assets written to: saved_models/exp4_with_aug/best_model_t128/assets\n",
      "[I 2024-01-30 22:34:36,860] Trial 128 finished with value: 0.9599999785423279 and parameters: {'batchsize': 32, 'brightness_factor': 0.16613218183431847, 'gaussian_noise_factor': 0.01967413818909409, 'translate_factor': 0.039520983512027, 'num_layers': 2, 'layer_0': 'Conv2D', 'layer_0_conv2d_filters': 12, 'layer_0_conv2d_fsize': 3, 'layer_0_conv2d_ssize': 1, 'activation_0': 'linear', 'layer_1': 'Conv2D', 'layer_1_conv2d_filters': 12, 'layer_1_conv2d_fsize': 4, 'layer_1_conv2d_ssize': 2, 'activation_1': 'relu', 'output_dropout': 0.4512515210123538, 'lr_inicial': 0.0013759825218802274}. Best is trial 103 with value: 1.0.\n"
     ]
    },
    {
     "name": "stdout",
     "output_type": "stream",
     "text": [
      "INFO:tensorflow:Assets written to: saved_models/exp4_with_aug/best_model_t129/assets\n"
     ]
    },
    {
     "name": "stderr",
     "output_type": "stream",
     "text": [
      "INFO:tensorflow:Assets written to: saved_models/exp4_with_aug/best_model_t129/assets\n",
      "[I 2024-01-30 22:34:56,612] Trial 129 finished with value: 0.800000011920929 and parameters: {'batchsize': 32, 'brightness_factor': 0.09326204375774792, 'gaussian_noise_factor': 0.043864118143430816, 'translate_factor': 0.033876653917799385, 'num_layers': 4, 'layer_0': 'Pointwise2D', 'layer_0_pwconv2d_filters': 16, 'layer_0_pwconv2d_ssize': 4, 'activation_0': 'linear', 'layer_1': 'Pointwise2D', 'layer_1_pwconv2d_filters': 4, 'layer_1_pwconv2d_ssize': 1, 'activation_1': 'relu', 'layer_2': 'Conv2D', 'layer_2_conv2d_filters': 20, 'layer_2_conv2d_fsize': 16, 'layer_2_conv2d_ssize': 1, 'activation_2': 'relu', 'layer_3': 'Depthwise2D', 'layer_3_dwconv2d_fsize': 4, 'layer_3_dwconv2d_ssize': 1, 'activation_3': 'linear', 'output_dropout': 0.4700905269238901, 'lr_inicial': 0.00027919440879356266}. Best is trial 103 with value: 1.0.\n"
     ]
    },
    {
     "name": "stdout",
     "output_type": "stream",
     "text": [
      "INFO:tensorflow:Assets written to: saved_models/exp4_with_aug/best_model_t130/assets\n"
     ]
    },
    {
     "name": "stderr",
     "output_type": "stream",
     "text": [
      "INFO:tensorflow:Assets written to: saved_models/exp4_with_aug/best_model_t130/assets\n",
      "[I 2024-01-30 22:35:13,735] Trial 130 finished with value: 1.0 and parameters: {'batchsize': 32, 'brightness_factor': 0.0845349929023107, 'gaussian_noise_factor': 0.0003956220340646504, 'translate_factor': 0.019229493657535162, 'num_layers': 2, 'layer_0': 'Conv2D', 'layer_0_conv2d_filters': 4, 'layer_0_conv2d_fsize': 4, 'layer_0_conv2d_ssize': 4, 'activation_0': 'tanh', 'layer_1': 'Conv2D', 'layer_1_conv2d_filters': 28, 'layer_1_conv2d_fsize': 8, 'layer_1_conv2d_ssize': 1, 'activation_1': 'relu', 'output_dropout': 0.4928292596802679, 'lr_inicial': 0.0009145185624575497}. Best is trial 103 with value: 1.0.\n"
     ]
    },
    {
     "name": "stdout",
     "output_type": "stream",
     "text": [
      "INFO:tensorflow:Assets written to: saved_models/exp4_with_aug/best_model_t131/assets\n"
     ]
    },
    {
     "name": "stderr",
     "output_type": "stream",
     "text": [
      "INFO:tensorflow:Assets written to: saved_models/exp4_with_aug/best_model_t131/assets\n",
      "[I 2024-01-30 22:35:30,359] Trial 131 finished with value: 0.9200000166893005 and parameters: {'batchsize': 32, 'brightness_factor': 0.0846152345868365, 'gaussian_noise_factor': 0.0011194287201063613, 'translate_factor': 0.018446146326476502, 'num_layers': 2, 'layer_0': 'Conv2D', 'layer_0_conv2d_filters': 4, 'layer_0_conv2d_fsize': 4, 'layer_0_conv2d_ssize': 4, 'activation_0': 'tanh', 'layer_1': 'Conv2D', 'layer_1_conv2d_filters': 28, 'layer_1_conv2d_fsize': 8, 'layer_1_conv2d_ssize': 1, 'activation_1': 'relu', 'output_dropout': 0.49634989342021046, 'lr_inicial': 0.0009144035711225983}. Best is trial 103 with value: 1.0.\n"
     ]
    },
    {
     "name": "stdout",
     "output_type": "stream",
     "text": [
      "INFO:tensorflow:Assets written to: saved_models/exp4_with_aug/best_model_t132/assets\n"
     ]
    },
    {
     "name": "stderr",
     "output_type": "stream",
     "text": [
      "INFO:tensorflow:Assets written to: saved_models/exp4_with_aug/best_model_t132/assets\n",
      "[I 2024-01-30 22:35:46,800] Trial 132 finished with value: 0.9399999976158142 and parameters: {'batchsize': 32, 'brightness_factor': 0.07616514077731186, 'gaussian_noise_factor': 0.008550651734461264, 'translate_factor': 8.651743433613426e-05, 'num_layers': 2, 'layer_0': 'Conv2D', 'layer_0_conv2d_filters': 4, 'layer_0_conv2d_fsize': 4, 'layer_0_conv2d_ssize': 5, 'activation_0': 'tanh', 'layer_1': 'Conv2D', 'layer_1_conv2d_filters': 32, 'layer_1_conv2d_fsize': 8, 'layer_1_conv2d_ssize': 1, 'activation_1': 'relu', 'output_dropout': 0.5032782873780525, 'lr_inicial': 0.0011138377939142342}. Best is trial 103 with value: 1.0.\n"
     ]
    },
    {
     "name": "stdout",
     "output_type": "stream",
     "text": [
      "INFO:tensorflow:Assets written to: saved_models/exp4_with_aug/best_model_t133/assets\n"
     ]
    },
    {
     "name": "stderr",
     "output_type": "stream",
     "text": [
      "INFO:tensorflow:Assets written to: saved_models/exp4_with_aug/best_model_t133/assets\n",
      "[I 2024-01-30 22:36:04,211] Trial 133 finished with value: 0.9599999785423279 and parameters: {'batchsize': 32, 'brightness_factor': 0.10042699078945663, 'gaussian_noise_factor': 0.004047822219303242, 'translate_factor': 0.025613440955720518, 'num_layers': 2, 'layer_0': 'Conv2D', 'layer_0_conv2d_filters': 4, 'layer_0_conv2d_fsize': 4, 'layer_0_conv2d_ssize': 4, 'activation_0': 'tanh', 'layer_1': 'Conv2D', 'layer_1_conv2d_filters': 32, 'layer_1_conv2d_fsize': 8, 'layer_1_conv2d_ssize': 1, 'activation_1': 'relu', 'output_dropout': 0.48322720124961677, 'lr_inicial': 0.00084487367626216}. Best is trial 103 with value: 1.0.\n"
     ]
    },
    {
     "name": "stdout",
     "output_type": "stream",
     "text": [
      "INFO:tensorflow:Assets written to: saved_models/exp4_with_aug/best_model_t134/assets\n"
     ]
    },
    {
     "name": "stderr",
     "output_type": "stream",
     "text": [
      "INFO:tensorflow:Assets written to: saved_models/exp4_with_aug/best_model_t134/assets\n",
      "[I 2024-01-30 22:36:20,523] Trial 134 finished with value: 0.3199999928474426 and parameters: {'batchsize': 32, 'brightness_factor': 0.11904373864873685, 'gaussian_noise_factor': 0.01129846212623634, 'translate_factor': 0.01025167246778838, 'num_layers': 2, 'layer_0': 'Conv2D', 'layer_0_conv2d_filters': 8, 'layer_0_conv2d_fsize': 4, 'layer_0_conv2d_ssize': 3, 'activation_0': 'tanh', 'layer_1': 'Conv2D', 'layer_1_conv2d_filters': 20, 'layer_1_conv2d_fsize': 8, 'layer_1_conv2d_ssize': 2, 'activation_1': 'relu', 'output_dropout': 0.5276729600948177, 'lr_inicial': 0.0007664096358414814}. Best is trial 103 with value: 1.0.\n"
     ]
    },
    {
     "name": "stdout",
     "output_type": "stream",
     "text": [
      "INFO:tensorflow:Assets written to: saved_models/exp4_with_aug/best_model_t135/assets\n"
     ]
    },
    {
     "name": "stderr",
     "output_type": "stream",
     "text": [
      "INFO:tensorflow:Assets written to: saved_models/exp4_with_aug/best_model_t135/assets\n",
      "[I 2024-01-30 22:36:41,107] Trial 135 finished with value: 0.9399999976158142 and parameters: {'batchsize': 96, 'brightness_factor': 0.08007216332286271, 'gaussian_noise_factor': 0.017160466181753556, 'translate_factor': 0.005194679546750694, 'num_layers': 2, 'layer_0': 'Conv2D', 'layer_0_conv2d_filters': 8, 'layer_0_conv2d_fsize': 4, 'layer_0_conv2d_ssize': 2, 'activation_0': 'tanh', 'layer_1': 'Conv2D', 'layer_1_conv2d_filters': 28, 'layer_1_conv2d_fsize': 5, 'layer_1_conv2d_ssize': 2, 'activation_1': 'relu', 'output_dropout': 0.49272884395737154, 'lr_inicial': 0.0010172576110543984}. Best is trial 103 with value: 1.0.\n"
     ]
    },
    {
     "name": "stdout",
     "output_type": "stream",
     "text": [
      "INFO:tensorflow:Assets written to: saved_models/exp4_with_aug/best_model_t136/assets\n"
     ]
    },
    {
     "name": "stderr",
     "output_type": "stream",
     "text": [
      "INFO:tensorflow:Assets written to: saved_models/exp4_with_aug/best_model_t136/assets\n",
      "[I 2024-01-30 22:36:55,487] Trial 136 finished with value: 0.7200000286102295 and parameters: {'batchsize': 32, 'brightness_factor': 0.09718760090656506, 'gaussian_noise_factor': 0.006851150418025052, 'translate_factor': 0.015669850858986145, 'num_layers': 1, 'layer_0': 'Depthwise2D', 'layer_0_dwconv2d_fsize': 8, 'layer_0_dwconv2d_ssize': 16, 'activation_0': 'linear', 'output_dropout': 0.512266106397376, 'lr_inicial': 0.0012463464550057986}. Best is trial 103 with value: 1.0.\n"
     ]
    },
    {
     "name": "stdout",
     "output_type": "stream",
     "text": [
      "INFO:tensorflow:Assets written to: saved_models/exp4_with_aug/best_model_t137/assets\n"
     ]
    },
    {
     "name": "stderr",
     "output_type": "stream",
     "text": [
      "INFO:tensorflow:Assets written to: saved_models/exp4_with_aug/best_model_t137/assets\n",
      "[I 2024-01-30 22:37:18,583] Trial 137 finished with value: 0.8399999737739563 and parameters: {'batchsize': 32, 'brightness_factor': 0.09104192070186243, 'gaussian_noise_factor': 0.00024444728291891406, 'translate_factor': 0.029468610966773272, 'num_layers': 4, 'layer_0': 'Conv2D', 'layer_0_conv2d_filters': 4, 'layer_0_conv2d_fsize': 16, 'layer_0_conv2d_ssize': 3, 'activation_0': 'linear', 'layer_1': 'Conv2D', 'layer_1_conv2d_filters': 16, 'layer_1_conv2d_fsize': 4, 'layer_1_conv2d_ssize': 1, 'activation_1': 'relu', 'layer_2': 'Conv2D', 'layer_2_conv2d_filters': 12, 'layer_2_conv2d_fsize': 4, 'layer_2_conv2d_ssize': 3, 'activation_2': 'relu', 'layer_3': 'Depthwise2D', 'layer_3_dwconv2d_fsize': 8, 'layer_3_dwconv2d_ssize': 2, 'activation_3': 'linear', 'output_dropout': 0.48015854125494406, 'lr_inicial': 0.00012503158083188864}. Best is trial 103 with value: 1.0.\n"
     ]
    },
    {
     "name": "stdout",
     "output_type": "stream",
     "text": [
      "INFO:tensorflow:Assets written to: saved_models/exp4_with_aug/best_model_t138/assets\n"
     ]
    },
    {
     "name": "stderr",
     "output_type": "stream",
     "text": [
      "INFO:tensorflow:Assets written to: saved_models/exp4_with_aug/best_model_t138/assets\n",
      "[I 2024-01-30 22:37:48,072] Trial 138 finished with value: 0.800000011920929 and parameters: {'batchsize': 32, 'brightness_factor': 0.0850628967561995, 'gaussian_noise_factor': 0.028048646834295955, 'translate_factor': 0.020377119622310518, 'num_layers': 2, 'layer_0': 'Conv2D', 'layer_0_conv2d_filters': 8, 'layer_0_conv2d_fsize': 8, 'layer_0_conv2d_ssize': 1, 'activation_0': 'tanh', 'layer_1': 'Conv2D', 'layer_1_conv2d_filters': 8, 'layer_1_conv2d_fsize': 4, 'layer_1_conv2d_ssize': 7, 'activation_1': 'tanh', 'output_dropout': 0.5188389169468847, 'lr_inicial': 0.0009396317882774846}. Best is trial 103 with value: 1.0.\n"
     ]
    },
    {
     "name": "stdout",
     "output_type": "stream",
     "text": [
      "INFO:tensorflow:Assets written to: saved_models/exp4_with_aug/best_model_t139/assets\n"
     ]
    },
    {
     "name": "stderr",
     "output_type": "stream",
     "text": [
      "INFO:tensorflow:Assets written to: saved_models/exp4_with_aug/best_model_t139/assets\n",
      "[I 2024-01-30 22:38:04,260] Trial 139 finished with value: 0.7799999713897705 and parameters: {'batchsize': 32, 'brightness_factor': 0.14806828165262623, 'gaussian_noise_factor': 0.03688820426703943, 'translate_factor': 0.03552424281695963, 'num_layers': 2, 'layer_0': 'Conv2D', 'layer_0_conv2d_filters': 8, 'layer_0_conv2d_fsize': 4, 'layer_0_conv2d_ssize': 2, 'activation_0': 'linear', 'layer_1': 'Pointwise2D', 'layer_1_pwconv2d_filters': 8, 'layer_1_pwconv2d_ssize': 5, 'activation_1': 'relu', 'output_dropout': 0.44605680667436237, 'lr_inicial': 0.00016217966492949756}. Best is trial 103 with value: 1.0.\n"
     ]
    },
    {
     "name": "stdout",
     "output_type": "stream",
     "text": [
      "INFO:tensorflow:Assets written to: saved_models/exp4_with_aug/best_model_t140/assets\n"
     ]
    },
    {
     "name": "stderr",
     "output_type": "stream",
     "text": [
      "INFO:tensorflow:Assets written to: saved_models/exp4_with_aug/best_model_t140/assets\n",
      "[I 2024-01-30 22:38:24,146] Trial 140 finished with value: 0.7200000286102295 and parameters: {'batchsize': 32, 'brightness_factor': 0.11273191623289021, 'gaussian_noise_factor': 0.011978500027504098, 'translate_factor': 0.09839136479462632, 'num_layers': 4, 'layer_0': 'Conv2D', 'layer_0_conv2d_filters': 32, 'layer_0_conv2d_fsize': 5, 'layer_0_conv2d_ssize': 3, 'activation_0': 'linear', 'layer_1': 'Conv2D', 'layer_1_conv2d_filters': 20, 'layer_1_conv2d_fsize': 5, 'layer_1_conv2d_ssize': 2, 'activation_1': 'relu', 'layer_2': 'Pointwise2D', 'layer_2_pwconv2d_filters': 28, 'layer_2_pwconv2d_ssize': 3, 'activation_2': 'linear', 'layer_3': 'Depthwise2D', 'layer_3_dwconv2d_fsize': 16, 'layer_3_dwconv2d_ssize': 3, 'activation_3': 'linear', 'output_dropout': 0.48642425841400316, 'lr_inicial': 0.0006768467584230371}. Best is trial 103 with value: 1.0.\n"
     ]
    },
    {
     "name": "stdout",
     "output_type": "stream",
     "text": [
      "INFO:tensorflow:Assets written to: saved_models/exp4_with_aug/best_model_t141/assets\n"
     ]
    },
    {
     "name": "stderr",
     "output_type": "stream",
     "text": [
      "INFO:tensorflow:Assets written to: saved_models/exp4_with_aug/best_model_t141/assets\n",
      "[I 2024-01-30 22:38:46,765] Trial 141 finished with value: 0.9599999785423279 and parameters: {'batchsize': 32, 'brightness_factor': 0.1091328995134244, 'gaussian_noise_factor': 0.02152933958833956, 'translate_factor': 0.04195587486007933, 'num_layers': 2, 'layer_0': 'Conv2D', 'layer_0_conv2d_filters': 4, 'layer_0_conv2d_fsize': 4, 'layer_0_conv2d_ssize': 2, 'activation_0': 'linear', 'layer_1': 'Conv2D', 'layer_1_conv2d_filters': 20, 'layer_1_conv2d_fsize': 4, 'layer_1_conv2d_ssize': 1, 'activation_1': 'relu', 'output_dropout': 0.4628963585527361, 'lr_inicial': 0.0008784471201494019}. Best is trial 103 with value: 1.0.\n"
     ]
    },
    {
     "name": "stdout",
     "output_type": "stream",
     "text": [
      "INFO:tensorflow:Assets written to: saved_models/exp4_with_aug/best_model_t142/assets\n"
     ]
    },
    {
     "name": "stderr",
     "output_type": "stream",
     "text": [
      "INFO:tensorflow:Assets written to: saved_models/exp4_with_aug/best_model_t142/assets\n",
      "[I 2024-01-30 22:39:43,545] Trial 142 finished with value: 0.9599999785423279 and parameters: {'batchsize': 32, 'brightness_factor': 0.12255851199369576, 'gaussian_noise_factor': 0.02528823695311713, 'translate_factor': 0.03582165256538533, 'num_layers': 2, 'layer_0': 'Conv2D', 'layer_0_conv2d_filters': 4, 'layer_0_conv2d_fsize': 4, 'layer_0_conv2d_ssize': 1, 'activation_0': 'linear', 'layer_1': 'Conv2D', 'layer_1_conv2d_filters': 24, 'layer_1_conv2d_fsize': 4, 'layer_1_conv2d_ssize': 1, 'activation_1': 'relu', 'output_dropout': 0.501327253361521, 'lr_inicial': 0.0008989987042171144}. Best is trial 103 with value: 1.0.\n"
     ]
    },
    {
     "name": "stdout",
     "output_type": "stream",
     "text": [
      "INFO:tensorflow:Assets written to: saved_models/exp4_with_aug/best_model_t143/assets\n"
     ]
    },
    {
     "name": "stderr",
     "output_type": "stream",
     "text": [
      "INFO:tensorflow:Assets written to: saved_models/exp4_with_aug/best_model_t143/assets\n",
      "[I 2024-01-30 22:40:05,731] Trial 143 finished with value: 0.9800000190734863 and parameters: {'batchsize': 32, 'brightness_factor': 0.10182436422306776, 'gaussian_noise_factor': 0.038802735771680925, 'translate_factor': 0.02361986287030839, 'num_layers': 2, 'layer_0': 'Conv2D', 'layer_0_conv2d_filters': 4, 'layer_0_conv2d_fsize': 4, 'layer_0_conv2d_ssize': 2, 'activation_0': 'linear', 'layer_1': 'Conv2D', 'layer_1_conv2d_filters': 16, 'layer_1_conv2d_fsize': 4, 'layer_1_conv2d_ssize': 1, 'activation_1': 'relu', 'output_dropout': 0.472849979444723, 'lr_inicial': 0.0010594358043915432}. Best is trial 103 with value: 1.0.\n"
     ]
    },
    {
     "name": "stdout",
     "output_type": "stream",
     "text": [
      "INFO:tensorflow:Assets written to: saved_models/exp4_with_aug/best_model_t144/assets\n"
     ]
    },
    {
     "name": "stderr",
     "output_type": "stream",
     "text": [
      "INFO:tensorflow:Assets written to: saved_models/exp4_with_aug/best_model_t144/assets\n",
      "[I 2024-01-30 22:40:27,270] Trial 144 finished with value: 0.8999999761581421 and parameters: {'batchsize': 32, 'brightness_factor': 0.10433428284396885, 'gaussian_noise_factor': 0.04796204108810538, 'translate_factor': 0.0242699108887716, 'num_layers': 2, 'layer_0': 'Conv2D', 'layer_0_conv2d_filters': 4, 'layer_0_conv2d_fsize': 4, 'layer_0_conv2d_ssize': 2, 'activation_0': 'linear', 'layer_1': 'Conv2D', 'layer_1_conv2d_filters': 16, 'layer_1_conv2d_fsize': 4, 'layer_1_conv2d_ssize': 1, 'activation_1': 'relu', 'output_dropout': 0.4745749829246177, 'lr_inicial': 0.0010784431256179814}. Best is trial 103 with value: 1.0.\n"
     ]
    },
    {
     "name": "stdout",
     "output_type": "stream",
     "text": [
      "INFO:tensorflow:Assets written to: saved_models/exp4_with_aug/best_model_t145/assets\n"
     ]
    },
    {
     "name": "stderr",
     "output_type": "stream",
     "text": [
      "INFO:tensorflow:Assets written to: saved_models/exp4_with_aug/best_model_t145/assets\n",
      "[I 2024-01-30 22:41:17,717] Trial 145 finished with value: 0.7200000286102295 and parameters: {'batchsize': 32, 'brightness_factor': 0.11532919916122295, 'gaussian_noise_factor': 0.17462052284922203, 'translate_factor': 0.01238578297143111, 'num_layers': 2, 'layer_0': 'Conv2D', 'layer_0_conv2d_filters': 8, 'layer_0_conv2d_fsize': 4, 'layer_0_conv2d_ssize': 1, 'activation_0': 'linear', 'layer_1': 'Conv2D', 'layer_1_conv2d_filters': 16, 'layer_1_conv2d_fsize': 4, 'layer_1_conv2d_ssize': 1, 'activation_1': 'relu', 'output_dropout': 0.46894450786752273, 'lr_inicial': 0.0011295860538801858}. Best is trial 103 with value: 1.0.\n"
     ]
    },
    {
     "name": "stdout",
     "output_type": "stream",
     "text": [
      "INFO:tensorflow:Assets written to: saved_models/exp4_with_aug/best_model_t146/assets\n"
     ]
    },
    {
     "name": "stderr",
     "output_type": "stream",
     "text": [
      "INFO:tensorflow:Assets written to: saved_models/exp4_with_aug/best_model_t146/assets\n",
      "[I 2024-01-30 22:41:51,778] Trial 146 finished with value: 0.2800000011920929 and parameters: {'batchsize': 32, 'brightness_factor': 0.16974202057187704, 'gaussian_noise_factor': 0.05320366934289927, 'translate_factor': 0.00842906656818623, 'num_layers': 2, 'layer_0': 'Conv2D', 'layer_0_conv2d_filters': 16, 'layer_0_conv2d_fsize': 4, 'layer_0_conv2d_ssize': 2, 'activation_0': 'tanh', 'layer_1': 'Conv2D', 'layer_1_conv2d_filters': 16, 'layer_1_conv2d_fsize': 16, 'layer_1_conv2d_ssize': 2, 'activation_1': 'relu', 'output_dropout': 0.4388518916074093, 'lr_inicial': 0.0012260812563178475}. Best is trial 103 with value: 1.0.\n"
     ]
    },
    {
     "name": "stdout",
     "output_type": "stream",
     "text": [
      "INFO:tensorflow:Assets written to: saved_models/exp4_with_aug/best_model_t147/assets\n"
     ]
    },
    {
     "name": "stderr",
     "output_type": "stream",
     "text": [
      "INFO:tensorflow:Assets written to: saved_models/exp4_with_aug/best_model_t147/assets\n",
      "[I 2024-01-30 22:42:12,680] Trial 147 finished with value: 0.20000000298023224 and parameters: {'batchsize': 32, 'brightness_factor': 0.09563094004796809, 'gaussian_noise_factor': 0.10104816738552141, 'translate_factor': 0.01848279894971383, 'num_layers': 4, 'layer_0': 'Conv2D', 'layer_0_conv2d_filters': 4, 'layer_0_conv2d_fsize': 4, 'layer_0_conv2d_ssize': 3, 'activation_0': 'linear', 'layer_1': 'Conv2D', 'layer_1_conv2d_filters': 16, 'layer_1_conv2d_fsize': 4, 'layer_1_conv2d_ssize': 1, 'activation_1': 'relu', 'layer_2': 'Conv2D', 'layer_2_conv2d_filters': 24, 'layer_2_conv2d_fsize': 16, 'layer_2_conv2d_ssize': 4, 'activation_2': 'tanh', 'layer_3': 'Conv2D', 'layer_3_conv2d_filters': 8, 'layer_3_conv2d_fsize': 3, 'layer_3_conv2d_ssize': 4, 'activation_3': 'relu', 'output_dropout': 0.4551511046253278, 'lr_inicial': 0.0004252179341600417}. Best is trial 103 with value: 1.0.\n"
     ]
    },
    {
     "name": "stdout",
     "output_type": "stream",
     "text": [
      "INFO:tensorflow:Assets written to: saved_models/exp4_with_aug/best_model_t148/assets\n"
     ]
    },
    {
     "name": "stderr",
     "output_type": "stream",
     "text": [
      "INFO:tensorflow:Assets written to: saved_models/exp4_with_aug/best_model_t148/assets\n",
      "[I 2024-01-30 22:42:27,429] Trial 148 finished with value: 0.8999999761581421 and parameters: {'batchsize': 32, 'brightness_factor': 0.06778519913327115, 'gaussian_noise_factor': 0.03930098107209002, 'translate_factor': 0.029677659213061085, 'num_layers': 2, 'layer_0': 'Conv2D', 'layer_0_conv2d_filters': 8, 'layer_0_conv2d_fsize': 4, 'layer_0_conv2d_ssize': 4, 'activation_0': 'linear', 'layer_1': 'Conv2D', 'layer_1_conv2d_filters': 12, 'layer_1_conv2d_fsize': 5, 'layer_1_conv2d_ssize': 3, 'activation_1': 'relu', 'output_dropout': 0.46121029534692676, 'lr_inicial': 0.0014861207902675787}. Best is trial 103 with value: 1.0.\n"
     ]
    },
    {
     "name": "stdout",
     "output_type": "stream",
     "text": [
      "INFO:tensorflow:Assets written to: saved_models/exp4_with_aug/best_model_t149/assets\n"
     ]
    },
    {
     "name": "stderr",
     "output_type": "stream",
     "text": [
      "INFO:tensorflow:Assets written to: saved_models/exp4_with_aug/best_model_t149/assets\n",
      "[I 2024-01-30 22:42:56,250] Trial 149 finished with value: 0.8600000143051147 and parameters: {'batchsize': 32, 'brightness_factor': 0.1288708272251437, 'gaussian_noise_factor': 0.03423340729048157, 'translate_factor': 0.01542615988927597, 'num_layers': 2, 'layer_0': 'Conv2D', 'layer_0_conv2d_filters': 28, 'layer_0_conv2d_fsize': 4, 'layer_0_conv2d_ssize': 1, 'activation_0': 'relu', 'layer_1': 'Pointwise2D', 'layer_1_pwconv2d_filters': 12, 'layer_1_pwconv2d_ssize': 4, 'activation_1': 'linear', 'output_dropout': 0.49037234069495467, 'lr_inicial': 0.0010689967615544972}. Best is trial 103 with value: 1.0.\n"
     ]
    },
    {
     "name": "stdout",
     "output_type": "stream",
     "text": [
      "INFO:tensorflow:Assets written to: saved_models/exp4_with_aug/best_model_t150/assets\n"
     ]
    },
    {
     "name": "stderr",
     "output_type": "stream",
     "text": [
      "INFO:tensorflow:Assets written to: saved_models/exp4_with_aug/best_model_t150/assets\n",
      "[I 2024-01-30 22:43:21,013] Trial 150 finished with value: 0.7599999904632568 and parameters: {'batchsize': 32, 'brightness_factor': 0.10547104734914031, 'gaussian_noise_factor': 0.006184865830681291, 'translate_factor': 0.022527839274511796, 'num_layers': 4, 'layer_0': 'Conv2D', 'layer_0_conv2d_filters': 8, 'layer_0_conv2d_fsize': 8, 'layer_0_conv2d_ssize': 3, 'activation_0': 'linear', 'layer_1': 'Depthwise2D', 'layer_1_dwconv2d_fsize': 16, 'layer_1_dwconv2d_ssize': 1, 'activation_1': 'relu', 'layer_2': 'Depthwise2D', 'layer_2_dwconv2d_fsize': 5, 'layer_2_dwconv2d_ssize': 2, 'activation_2': 'relu', 'layer_3': 'Depthwise2D', 'layer_3_dwconv2d_fsize': 16, 'layer_3_dwconv2d_ssize': 3, 'activation_3': 'linear', 'output_dropout': 0.5096176527509613, 'lr_inicial': 0.0008209450870781619}. Best is trial 103 with value: 1.0.\n"
     ]
    },
    {
     "name": "stdout",
     "output_type": "stream",
     "text": [
      "INFO:tensorflow:Assets written to: saved_models/exp4_with_aug/best_model_t151/assets\n"
     ]
    },
    {
     "name": "stderr",
     "output_type": "stream",
     "text": [
      "INFO:tensorflow:Assets written to: saved_models/exp4_with_aug/best_model_t151/assets\n",
      "[I 2024-01-30 22:43:43,776] Trial 151 finished with value: 0.8999999761581421 and parameters: {'batchsize': 32, 'brightness_factor': 0.10202043091471588, 'gaussian_noise_factor': 0.030788163380038105, 'translate_factor': 0.03722773960431028, 'num_layers': 2, 'layer_0': 'Conv2D', 'layer_0_conv2d_filters': 4, 'layer_0_conv2d_fsize': 4, 'layer_0_conv2d_ssize': 2, 'activation_0': 'linear', 'layer_1': 'Conv2D', 'layer_1_conv2d_filters': 20, 'layer_1_conv2d_fsize': 4, 'layer_1_conv2d_ssize': 1, 'activation_1': 'relu', 'output_dropout': 0.47779043658182363, 'lr_inicial': 0.00022837173239183237}. Best is trial 103 with value: 1.0.\n"
     ]
    },
    {
     "name": "stdout",
     "output_type": "stream",
     "text": [
      "INFO:tensorflow:Assets written to: saved_models/exp4_with_aug/best_model_t152/assets\n"
     ]
    },
    {
     "name": "stderr",
     "output_type": "stream",
     "text": [
      "INFO:tensorflow:Assets written to: saved_models/exp4_with_aug/best_model_t152/assets\n",
      "[I 2024-01-30 22:44:06,666] Trial 152 finished with value: 0.9599999785423279 and parameters: {'batchsize': 32, 'brightness_factor': 0.1565639691297623, 'gaussian_noise_factor': 0.018753806952364782, 'translate_factor': 0.0329800768399674, 'num_layers': 2, 'layer_0': 'Conv2D', 'layer_0_conv2d_filters': 4, 'layer_0_conv2d_fsize': 4, 'layer_0_conv2d_ssize': 2, 'activation_0': 'linear', 'layer_1': 'Conv2D', 'layer_1_conv2d_filters': 20, 'layer_1_conv2d_fsize': 4, 'layer_1_conv2d_ssize': 1, 'activation_1': 'relu', 'output_dropout': 0.4885877439625168, 'lr_inicial': 0.0009873236867872267}. Best is trial 103 with value: 1.0.\n"
     ]
    },
    {
     "name": "stdout",
     "output_type": "stream",
     "text": [
      "INFO:tensorflow:Assets written to: saved_models/exp4_with_aug/best_model_t153/assets\n"
     ]
    },
    {
     "name": "stderr",
     "output_type": "stream",
     "text": [
      "INFO:tensorflow:Assets written to: saved_models/exp4_with_aug/best_model_t153/assets\n",
      "[I 2024-01-30 22:44:32,752] Trial 153 finished with value: 0.9399999976158142 and parameters: {'batchsize': 32, 'brightness_factor': 0.0893506141090013, 'gaussian_noise_factor': 0.039176326401189364, 'translate_factor': 0.0472477114219553, 'num_layers': 2, 'layer_0': 'Conv2D', 'layer_0_conv2d_filters': 4, 'layer_0_conv2d_fsize': 4, 'layer_0_conv2d_ssize': 2, 'activation_0': 'linear', 'layer_1': 'Conv2D', 'layer_1_conv2d_filters': 28, 'layer_1_conv2d_fsize': 4, 'layer_1_conv2d_ssize': 1, 'activation_1': 'relu', 'output_dropout': 0.46998260154686494, 'lr_inicial': 0.0009245785953294185}. Best is trial 103 with value: 1.0.\n"
     ]
    },
    {
     "name": "stdout",
     "output_type": "stream",
     "text": [
      "INFO:tensorflow:Assets written to: saved_models/exp4_with_aug/best_model_t154/assets\n"
     ]
    },
    {
     "name": "stderr",
     "output_type": "stream",
     "text": [
      "INFO:tensorflow:Assets written to: saved_models/exp4_with_aug/best_model_t154/assets\n",
      "[I 2024-01-30 22:44:49,335] Trial 154 finished with value: 0.8399999737739563 and parameters: {'batchsize': 32, 'brightness_factor': 0.07499816078385949, 'gaussian_noise_factor': 0.12211586994263132, 'translate_factor': 0.024783663013288555, 'num_layers': 2, 'layer_0': 'Conv2D', 'layer_0_conv2d_filters': 4, 'layer_0_conv2d_fsize': 4, 'layer_0_conv2d_ssize': 2, 'activation_0': 'linear', 'layer_1': 'Conv2D', 'layer_1_conv2d_filters': 16, 'layer_1_conv2d_fsize': 4, 'layer_1_conv2d_ssize': 2, 'activation_1': 'relu', 'output_dropout': 0.4945771884518349, 'lr_inicial': 0.0009984660978880186}. Best is trial 103 with value: 1.0.\n"
     ]
    },
    {
     "name": "stdout",
     "output_type": "stream",
     "text": [
      "INFO:tensorflow:Assets written to: saved_models/exp4_with_aug/best_model_t155/assets\n"
     ]
    },
    {
     "name": "stderr",
     "output_type": "stream",
     "text": [
      "INFO:tensorflow:Assets written to: saved_models/exp4_with_aug/best_model_t155/assets\n",
      "[I 2024-01-30 22:45:45,633] Trial 155 finished with value: 0.9599999785423279 and parameters: {'batchsize': 32, 'brightness_factor': 0.11078974566367993, 'gaussian_noise_factor': 0.025449217248980437, 'translate_factor': 0.00419799062253557, 'num_layers': 2, 'layer_0': 'Conv2D', 'layer_0_conv2d_filters': 8, 'layer_0_conv2d_fsize': 4, 'layer_0_conv2d_ssize': 1, 'activation_0': 'linear', 'layer_1': 'Conv2D', 'layer_1_conv2d_filters': 20, 'layer_1_conv2d_fsize': 4, 'layer_1_conv2d_ssize': 1, 'activation_1': 'relu', 'output_dropout': 0.4840282244159009, 'lr_inicial': 0.0007823298136029119}. Best is trial 103 with value: 1.0.\n"
     ]
    },
    {
     "name": "stdout",
     "output_type": "stream",
     "text": [
      "INFO:tensorflow:Assets written to: saved_models/exp4_with_aug/best_model_t156/assets\n"
     ]
    },
    {
     "name": "stderr",
     "output_type": "stream",
     "text": [
      "INFO:tensorflow:Assets written to: saved_models/exp4_with_aug/best_model_t156/assets\n",
      "[I 2024-01-30 22:46:00,855] Trial 156 finished with value: 0.8399999737739563 and parameters: {'batchsize': 32, 'brightness_factor': 0.008234460636718939, 'gaussian_noise_factor': 0.014736294739117587, 'translate_factor': 0.1828640352829741, 'num_layers': 2, 'layer_0': 'Conv2D', 'layer_0_conv2d_filters': 8, 'layer_0_conv2d_fsize': 4, 'layer_0_conv2d_ssize': 3, 'activation_0': 'tanh', 'layer_1': 'Conv2D', 'layer_1_conv2d_filters': 16, 'layer_1_conv2d_fsize': 3, 'layer_1_conv2d_ssize': 2, 'activation_1': 'relu', 'output_dropout': 0.4568122027136974, 'lr_inicial': 0.0007207529243089543}. Best is trial 103 with value: 1.0.\n"
     ]
    },
    {
     "name": "stdout",
     "output_type": "stream",
     "text": [
      "INFO:tensorflow:Assets written to: saved_models/exp4_with_aug/best_model_t157/assets\n"
     ]
    },
    {
     "name": "stderr",
     "output_type": "stream",
     "text": [
      "INFO:tensorflow:Assets written to: saved_models/exp4_with_aug/best_model_t157/assets\n",
      "[I 2024-01-30 22:46:24,573] Trial 157 finished with value: 0.6800000071525574 and parameters: {'batchsize': 32, 'brightness_factor': 0.09801129998204283, 'gaussian_noise_factor': 5.493438146976463e-05, 'translate_factor': 0.02753082241706386, 'num_layers': 4, 'layer_0': 'Conv2D', 'layer_0_conv2d_filters': 12, 'layer_0_conv2d_fsize': 4, 'layer_0_conv2d_ssize': 3, 'activation_0': 'linear', 'layer_1': 'Conv2D', 'layer_1_conv2d_filters': 16, 'layer_1_conv2d_fsize': 5, 'layer_1_conv2d_ssize': 1, 'activation_1': 'relu', 'layer_2': 'Conv2D', 'layer_2_conv2d_filters': 4, 'layer_2_conv2d_fsize': 16, 'layer_2_conv2d_ssize': 2, 'activation_2': 'linear', 'layer_3': 'Pointwise2D', 'layer_3_pwconv2d_filters': 12, 'layer_3_pwconv2d_ssize': 1, 'activation_3': 'linear', 'output_dropout': 0.4487343759380179, 'lr_inicial': 0.0010461555212516636}. Best is trial 103 with value: 1.0.\n"
     ]
    },
    {
     "name": "stdout",
     "output_type": "stream",
     "text": [
      "INFO:tensorflow:Assets written to: saved_models/exp4_with_aug/best_model_t158/assets\n"
     ]
    },
    {
     "name": "stderr",
     "output_type": "stream",
     "text": [
      "INFO:tensorflow:Assets written to: saved_models/exp4_with_aug/best_model_t158/assets\n",
      "[I 2024-01-30 22:46:38,876] Trial 158 finished with value: 0.800000011920929 and parameters: {'batchsize': 32, 'brightness_factor': 0.08032213940543147, 'gaussian_noise_factor': 0.03406157931650495, 'translate_factor': 0.05130512514303894, 'num_layers': 2, 'layer_0': 'Pointwise2D', 'layer_0_pwconv2d_filters': 4, 'layer_0_pwconv2d_ssize': 6, 'activation_0': 'linear', 'layer_1': 'Conv2D', 'layer_1_conv2d_filters': 24, 'layer_1_conv2d_fsize': 4, 'layer_1_conv2d_ssize': 4, 'activation_1': 'relu', 'output_dropout': 0.5015523104328664, 'lr_inicial': 0.0011669717267439878}. Best is trial 103 with value: 1.0.\n"
     ]
    },
    {
     "name": "stdout",
     "output_type": "stream",
     "text": [
      "INFO:tensorflow:Assets written to: saved_models/exp4_with_aug/best_model_t159/assets\n"
     ]
    },
    {
     "name": "stderr",
     "output_type": "stream",
     "text": [
      "INFO:tensorflow:Assets written to: saved_models/exp4_with_aug/best_model_t159/assets\n",
      "[I 2024-01-30 22:46:54,017] Trial 159 finished with value: 0.699999988079071 and parameters: {'batchsize': 32, 'brightness_factor': 0.11893638545108569, 'gaussian_noise_factor': 0.009349846106609877, 'translate_factor': 0.01885341962861771, 'num_layers': 1, 'layer_0': 'Conv2D', 'layer_0_conv2d_filters': 4, 'layer_0_conv2d_fsize': 4, 'layer_0_conv2d_ssize': 15, 'activation_0': 'linear', 'output_dropout': 0.47228218150820406, 'lr_inicial': 0.0008496886563099006}. Best is trial 103 with value: 1.0.\n"
     ]
    },
    {
     "name": "stdout",
     "output_type": "stream",
     "text": [
      "INFO:tensorflow:Assets written to: saved_models/exp4_with_aug/best_model_t160/assets\n"
     ]
    },
    {
     "name": "stderr",
     "output_type": "stream",
     "text": [
      "INFO:tensorflow:Assets written to: saved_models/exp4_with_aug/best_model_t160/assets\n",
      "[I 2024-01-30 22:47:08,174] Trial 160 finished with value: 0.800000011920929 and parameters: {'batchsize': 32, 'brightness_factor': 0.08485090247030691, 'gaussian_noise_factor': 0.022662080217453848, 'translate_factor': 0.04101254176420953, 'num_layers': 2, 'layer_0': 'Depthwise2D', 'layer_0_dwconv2d_fsize': 3, 'layer_0_dwconv2d_ssize': 4, 'activation_0': 'tanh', 'layer_1': 'Pointwise2D', 'layer_1_pwconv2d_filters': 32, 'layer_1_pwconv2d_ssize': 6, 'activation_1': 'relu', 'output_dropout': 0.5177677228651559, 'lr_inicial': 0.0013236256286989771}. Best is trial 103 with value: 1.0.\n"
     ]
    },
    {
     "name": "stdout",
     "output_type": "stream",
     "text": [
      "INFO:tensorflow:Assets written to: saved_models/exp4_with_aug/best_model_t161/assets\n"
     ]
    },
    {
     "name": "stderr",
     "output_type": "stream",
     "text": [
      "INFO:tensorflow:Assets written to: saved_models/exp4_with_aug/best_model_t161/assets\n",
      "[I 2024-01-30 22:47:24,854] Trial 161 finished with value: 0.9599999785423279 and parameters: {'batchsize': 32, 'brightness_factor': 0.09203601230166557, 'gaussian_noise_factor': 0.014309769060734175, 'translate_factor': 0.030831477016336, 'num_layers': 2, 'layer_0': 'Conv2D', 'layer_0_conv2d_filters': 8, 'layer_0_conv2d_fsize': 4, 'layer_0_conv2d_ssize': 2, 'activation_0': 'linear', 'layer_1': 'Conv2D', 'layer_1_conv2d_filters': 12, 'layer_1_conv2d_fsize': 4, 'layer_1_conv2d_ssize': 2, 'activation_1': 'relu', 'output_dropout': 0.4617004816227451, 'lr_inicial': 0.0011624694634992324}. Best is trial 103 with value: 1.0.\n"
     ]
    },
    {
     "name": "stdout",
     "output_type": "stream",
     "text": [
      "INFO:tensorflow:Assets written to: saved_models/exp4_with_aug/best_model_t162/assets\n"
     ]
    },
    {
     "name": "stderr",
     "output_type": "stream",
     "text": [
      "INFO:tensorflow:Assets written to: saved_models/exp4_with_aug/best_model_t162/assets\n",
      "[I 2024-01-30 22:47:45,015] Trial 162 finished with value: 0.9800000190734863 and parameters: {'batchsize': 32, 'brightness_factor': 0.06418422096946416, 'gaussian_noise_factor': 0.004588969392202429, 'translate_factor': 0.03162259205412712, 'num_layers': 2, 'layer_0': 'Conv2D', 'layer_0_conv2d_filters': 8, 'layer_0_conv2d_fsize': 4, 'layer_0_conv2d_ssize': 2, 'activation_0': 'linear', 'layer_1': 'Conv2D', 'layer_1_conv2d_filters': 8, 'layer_1_conv2d_fsize': 4, 'layer_1_conv2d_ssize': 2, 'activation_1': 'relu', 'output_dropout': 0.45322491353917693, 'lr_inicial': 0.0009477854692025027}. Best is trial 103 with value: 1.0.\n"
     ]
    },
    {
     "name": "stdout",
     "output_type": "stream",
     "text": [
      "INFO:tensorflow:Assets written to: saved_models/exp4_with_aug/best_model_t163/assets\n"
     ]
    },
    {
     "name": "stderr",
     "output_type": "stream",
     "text": [
      "INFO:tensorflow:Assets written to: saved_models/exp4_with_aug/best_model_t163/assets\n",
      "[I 2024-01-30 22:48:01,522] Trial 163 finished with value: 0.9200000166893005 and parameters: {'batchsize': 32, 'brightness_factor': 0.07151424879526846, 'gaussian_noise_factor': 0.0044755375084182805, 'translate_factor': 0.012927923377574809, 'num_layers': 2, 'layer_0': 'Conv2D', 'layer_0_conv2d_filters': 8, 'layer_0_conv2d_fsize': 4, 'layer_0_conv2d_ssize': 2, 'activation_0': 'linear', 'layer_1': 'Conv2D', 'layer_1_conv2d_filters': 8, 'layer_1_conv2d_fsize': 4, 'layer_1_conv2d_ssize': 2, 'activation_1': 'relu', 'output_dropout': 0.44503436504907345, 'lr_inicial': 0.0009063293147062331}. Best is trial 103 with value: 1.0.\n"
     ]
    },
    {
     "name": "stdout",
     "output_type": "stream",
     "text": [
      "INFO:tensorflow:Assets written to: saved_models/exp4_with_aug/best_model_t164/assets\n"
     ]
    },
    {
     "name": "stderr",
     "output_type": "stream",
     "text": [
      "INFO:tensorflow:Assets written to: saved_models/exp4_with_aug/best_model_t164/assets\n",
      "[I 2024-01-30 22:48:45,259] Trial 164 finished with value: 0.9399999976158142 and parameters: {'batchsize': 32, 'brightness_factor': 0.0775566554864057, 'gaussian_noise_factor': 0.004180244921724101, 'translate_factor': 0.03305833248130935, 'num_layers': 2, 'layer_0': 'Conv2D', 'layer_0_conv2d_filters': 8, 'layer_0_conv2d_fsize': 4, 'layer_0_conv2d_ssize': 1, 'activation_0': 'linear', 'layer_1': 'Conv2D', 'layer_1_conv2d_filters': 8, 'layer_1_conv2d_fsize': 4, 'layer_1_conv2d_ssize': 1, 'activation_1': 'relu', 'output_dropout': 0.4536270041049249, 'lr_inicial': 0.0009746437031771275}. Best is trial 103 with value: 1.0.\n"
     ]
    },
    {
     "name": "stdout",
     "output_type": "stream",
     "text": [
      "INFO:tensorflow:Assets written to: saved_models/exp4_with_aug/best_model_t165/assets\n"
     ]
    },
    {
     "name": "stderr",
     "output_type": "stream",
     "text": [
      "INFO:tensorflow:Assets written to: saved_models/exp4_with_aug/best_model_t165/assets\n",
      "[I 2024-01-30 22:49:11,820] Trial 165 finished with value: 0.8399999737739563 and parameters: {'batchsize': 32, 'brightness_factor': 0.023036899083658725, 'gaussian_noise_factor': 0.04416438912347133, 'translate_factor': 0.02622366081993804, 'num_layers': 2, 'layer_0': 'Conv2D', 'layer_0_conv2d_filters': 24, 'layer_0_conv2d_fsize': 3, 'layer_0_conv2d_ssize': 2, 'activation_0': 'linear', 'layer_1': 'Conv2D', 'layer_1_conv2d_filters': 8, 'layer_1_conv2d_fsize': 8, 'layer_1_conv2d_ssize': 2, 'activation_1': 'relu', 'output_dropout': 0.4660174697656171, 'lr_inicial': 0.0010390753604332629}. Best is trial 103 with value: 1.0.\n"
     ]
    },
    {
     "name": "stdout",
     "output_type": "stream",
     "text": [
      "INFO:tensorflow:Assets written to: saved_models/exp4_with_aug/best_model_t166/assets\n"
     ]
    },
    {
     "name": "stderr",
     "output_type": "stream",
     "text": [
      "INFO:tensorflow:Assets written to: saved_models/exp4_with_aug/best_model_t166/assets\n",
      "[I 2024-01-30 22:49:33,647] Trial 166 finished with value: 0.9800000190734863 and parameters: {'batchsize': 32, 'brightness_factor': 0.05835318624401412, 'gaussian_noise_factor': 0.008687313362729081, 'translate_factor': 0.02089331265839652, 'num_layers': 4, 'layer_0': 'Conv2D', 'layer_0_conv2d_filters': 8, 'layer_0_conv2d_fsize': 4, 'layer_0_conv2d_ssize': 2, 'activation_0': 'linear', 'layer_1': 'Conv2D', 'layer_1_conv2d_filters': 32, 'layer_1_conv2d_fsize': 4, 'layer_1_conv2d_ssize': 2, 'activation_1': 'relu', 'layer_2': 'Conv2D', 'layer_2_conv2d_filters': 16, 'layer_2_conv2d_fsize': 16, 'layer_2_conv2d_ssize': 3, 'activation_2': 'relu', 'layer_3': 'Depthwise2D', 'layer_3_dwconv2d_fsize': 8, 'layer_3_dwconv2d_ssize': 4, 'activation_3': 'tanh', 'output_dropout': 0.42478427948937153, 'lr_inicial': 0.0008786182264040069}. Best is trial 103 with value: 1.0.\n"
     ]
    },
    {
     "name": "stdout",
     "output_type": "stream",
     "text": [
      "INFO:tensorflow:Assets written to: saved_models/exp4_with_aug/best_model_t167/assets\n"
     ]
    },
    {
     "name": "stderr",
     "output_type": "stream",
     "text": [
      "INFO:tensorflow:Assets written to: saved_models/exp4_with_aug/best_model_t167/assets\n",
      "[I 2024-01-30 22:50:23,575] Trial 167 finished with value: 0.9599999785423279 and parameters: {'batchsize': 32, 'brightness_factor': 0.059860685299603575, 'gaussian_noise_factor': 0.009446431753432427, 'translate_factor': 0.02117496476801306, 'num_layers': 4, 'layer_0': 'Conv2D', 'layer_0_conv2d_filters': 8, 'layer_0_conv2d_fsize': 4, 'layer_0_conv2d_ssize': 1, 'activation_0': 'linear', 'layer_1': 'Conv2D', 'layer_1_conv2d_filters': 32, 'layer_1_conv2d_fsize': 4, 'layer_1_conv2d_ssize': 2, 'activation_1': 'relu', 'layer_2': 'Conv2D', 'layer_2_conv2d_filters': 12, 'layer_2_conv2d_fsize': 16, 'layer_2_conv2d_ssize': 3, 'activation_2': 'relu', 'layer_3': 'Depthwise2D', 'layer_3_dwconv2d_fsize': 8, 'layer_3_dwconv2d_ssize': 4, 'activation_3': 'tanh', 'output_dropout': 0.4264798959568487, 'lr_inicial': 0.000814978598368281}. Best is trial 103 with value: 1.0.\n"
     ]
    },
    {
     "name": "stdout",
     "output_type": "stream",
     "text": [
      "INFO:tensorflow:Assets written to: saved_models/exp4_with_aug/best_model_t168/assets\n"
     ]
    },
    {
     "name": "stderr",
     "output_type": "stream",
     "text": [
      "INFO:tensorflow:Assets written to: saved_models/exp4_with_aug/best_model_t168/assets\n",
      "[I 2024-01-30 22:50:57,450] Trial 168 finished with value: 0.20000000298023224 and parameters: {'batchsize': 32, 'brightness_factor': 0.06421611554316874, 'gaussian_noise_factor': 0.0037400885966909873, 'translate_factor': 0.008627634679062812, 'num_layers': 4, 'layer_0': 'Conv2D', 'layer_0_conv2d_filters': 8, 'layer_0_conv2d_fsize': 16, 'layer_0_conv2d_ssize': 2, 'activation_0': 'tanh', 'layer_1': 'Conv2D', 'layer_1_conv2d_filters': 32, 'layer_1_conv2d_fsize': 5, 'layer_1_conv2d_ssize': 2, 'activation_1': 'relu', 'layer_2': 'Conv2D', 'layer_2_conv2d_filters': 16, 'layer_2_conv2d_fsize': 16, 'layer_2_conv2d_ssize': 3, 'activation_2': 'relu', 'layer_3': 'Depthwise2D', 'layer_3_dwconv2d_fsize': 8, 'layer_3_dwconv2d_ssize': 4, 'activation_3': 'tanh', 'output_dropout': 0.41919218070220077, 'lr_inicial': 0.0009457699997818738}. Best is trial 103 with value: 1.0.\n"
     ]
    },
    {
     "name": "stdout",
     "output_type": "stream",
     "text": [
      "INFO:tensorflow:Assets written to: saved_models/exp4_with_aug/best_model_t169/assets\n"
     ]
    },
    {
     "name": "stderr",
     "output_type": "stream",
     "text": [
      "INFO:tensorflow:Assets written to: saved_models/exp4_with_aug/best_model_t169/assets\n",
      "[I 2024-01-30 22:51:16,381] Trial 169 finished with value: 0.6800000071525574 and parameters: {'batchsize': 128, 'brightness_factor': 0.054465884558322734, 'gaussian_noise_factor': 0.011708635548761748, 'translate_factor': 0.015833539782585327, 'num_layers': 4, 'layer_0': 'Conv2D', 'layer_0_conv2d_filters': 8, 'layer_0_conv2d_fsize': 4, 'layer_0_conv2d_ssize': 3, 'activation_0': 'linear', 'layer_1': 'Conv2D', 'layer_1_conv2d_filters': 32, 'layer_1_conv2d_fsize': 4, 'layer_1_conv2d_ssize': 2, 'activation_1': 'relu', 'layer_2': 'Conv2D', 'layer_2_conv2d_filters': 16, 'layer_2_conv2d_fsize': 16, 'layer_2_conv2d_ssize': 3, 'activation_2': 'relu', 'layer_3': 'Depthwise2D', 'layer_3_dwconv2d_fsize': 8, 'layer_3_dwconv2d_ssize': 4, 'activation_3': 'tanh', 'output_dropout': 0.43798622935044035, 'lr_inicial': 0.00017511520180496114}. Best is trial 103 with value: 1.0.\n"
     ]
    },
    {
     "name": "stdout",
     "output_type": "stream",
     "text": [
      "INFO:tensorflow:Assets written to: saved_models/exp4_with_aug/best_model_t170/assets\n"
     ]
    },
    {
     "name": "stderr",
     "output_type": "stream",
     "text": [
      "INFO:tensorflow:Assets written to: saved_models/exp4_with_aug/best_model_t170/assets\n",
      "[I 2024-01-30 22:51:38,168] Trial 170 finished with value: 0.7400000095367432 and parameters: {'batchsize': 32, 'brightness_factor': 0.14428833428779075, 'gaussian_noise_factor': 0.017634244897705587, 'translate_factor': 0.02063288303376041, 'num_layers': 4, 'layer_0': 'Conv2D', 'layer_0_conv2d_filters': 8, 'layer_0_conv2d_fsize': 8, 'layer_0_conv2d_ssize': 2, 'activation_0': 'linear', 'layer_1': 'Conv2D', 'layer_1_conv2d_filters': 4, 'layer_1_conv2d_fsize': 4, 'layer_1_conv2d_ssize': 2, 'activation_1': 'tanh', 'layer_2': 'Conv2D', 'layer_2_conv2d_filters': 20, 'layer_2_conv2d_fsize': 16, 'layer_2_conv2d_ssize': 3, 'activation_2': 'relu', 'layer_3': 'Depthwise2D', 'layer_3_dwconv2d_fsize': 8, 'layer_3_dwconv2d_ssize': 2, 'activation_3': 'tanh', 'output_dropout': 0.435050174497894, 'lr_inicial': 0.0003326433681962223}. Best is trial 103 with value: 1.0.\n"
     ]
    },
    {
     "name": "stdout",
     "output_type": "stream",
     "text": [
      "INFO:tensorflow:Assets written to: saved_models/exp4_with_aug/best_model_t171/assets\n"
     ]
    },
    {
     "name": "stderr",
     "output_type": "stream",
     "text": [
      "INFO:tensorflow:Assets written to: saved_models/exp4_with_aug/best_model_t171/assets\n",
      "[I 2024-01-30 22:52:01,703] Trial 171 finished with value: 0.5 and parameters: {'batchsize': 32, 'brightness_factor': 0.11601378718665481, 'gaussian_noise_factor': 0.028968495895194735, 'translate_factor': 0.03850814005195441, 'num_layers': 4, 'layer_0': 'Conv2D', 'layer_0_conv2d_filters': 8, 'layer_0_conv2d_fsize': 4, 'layer_0_conv2d_ssize': 2, 'activation_0': 'linear', 'layer_1': 'Conv2D', 'layer_1_conv2d_filters': 32, 'layer_1_conv2d_fsize': 4, 'layer_1_conv2d_ssize': 2, 'activation_1': 'relu', 'layer_2': 'Conv2D', 'layer_2_conv2d_filters': 24, 'layer_2_conv2d_fsize': 16, 'layer_2_conv2d_ssize': 3, 'activation_2': 'relu', 'layer_3': 'Depthwise2D', 'layer_3_dwconv2d_fsize': 16, 'layer_3_dwconv2d_ssize': 3, 'activation_3': 'tanh', 'output_dropout': 0.4792337819506366, 'lr_inicial': 0.0008741727756832056}. Best is trial 103 with value: 1.0.\n"
     ]
    },
    {
     "name": "stdout",
     "output_type": "stream",
     "text": [
      "INFO:tensorflow:Assets written to: saved_models/exp4_with_aug/best_model_t172/assets\n"
     ]
    },
    {
     "name": "stderr",
     "output_type": "stream",
     "text": [
      "INFO:tensorflow:Assets written to: saved_models/exp4_with_aug/best_model_t172/assets\n",
      "[I 2024-01-30 22:52:28,420] Trial 172 finished with value: 0.9599999785423279 and parameters: {'batchsize': 32, 'brightness_factor': 0.03390517139245974, 'gaussian_noise_factor': 0.005882151720637183, 'translate_factor': 0.028645348061456195, 'num_layers': 2, 'layer_0': 'Conv2D', 'layer_0_conv2d_filters': 8, 'layer_0_conv2d_fsize': 4, 'layer_0_conv2d_ssize': 2, 'activation_0': 'linear', 'layer_1': 'Conv2D', 'layer_1_conv2d_filters': 20, 'layer_1_conv2d_fsize': 4, 'layer_1_conv2d_ssize': 1, 'activation_1': 'relu', 'output_dropout': 0.45551159245202616, 'lr_inicial': 0.0007492582491166115}. Best is trial 103 with value: 1.0.\n"
     ]
    },
    {
     "name": "stdout",
     "output_type": "stream",
     "text": [
      "INFO:tensorflow:Assets written to: saved_models/exp4_with_aug/best_model_t173/assets\n"
     ]
    },
    {
     "name": "stderr",
     "output_type": "stream",
     "text": [
      "INFO:tensorflow:Assets written to: saved_models/exp4_with_aug/best_model_t173/assets\n",
      "[I 2024-01-30 22:53:11,333] Trial 173 finished with value: 1.0 and parameters: {'batchsize': 32, 'brightness_factor': 0.04970079223216862, 'gaussian_noise_factor': 0.020862188807289045, 'translate_factor': 0.012198484228692737, 'num_layers': 4, 'layer_0': 'Conv2D', 'layer_0_conv2d_filters': 4, 'layer_0_conv2d_fsize': 4, 'layer_0_conv2d_ssize': 2, 'activation_0': 'linear', 'layer_1': 'Conv2D', 'layer_1_conv2d_filters': 16, 'layer_1_conv2d_fsize': 4, 'layer_1_conv2d_ssize': 1, 'activation_1': 'relu', 'layer_2': 'Conv2D', 'layer_2_conv2d_filters': 28, 'layer_2_conv2d_fsize': 8, 'layer_2_conv2d_ssize': 1, 'activation_2': 'relu', 'layer_3': 'Depthwise2D', 'layer_3_dwconv2d_fsize': 16, 'layer_3_dwconv2d_ssize': 4, 'activation_3': 'linear', 'output_dropout': 0.5084122859243657, 'lr_inicial': 0.0011071799260154505}. Best is trial 103 with value: 1.0.\n"
     ]
    },
    {
     "name": "stdout",
     "output_type": "stream",
     "text": [
      "INFO:tensorflow:Assets written to: saved_models/exp4_with_aug/best_model_t174/assets\n"
     ]
    },
    {
     "name": "stderr",
     "output_type": "stream",
     "text": [
      "INFO:tensorflow:Assets written to: saved_models/exp4_with_aug/best_model_t174/assets\n",
      "[I 2024-01-30 22:53:34,716] Trial 174 finished with value: 0.9800000190734863 and parameters: {'batchsize': 32, 'brightness_factor': 0.046600076249667576, 'gaussian_noise_factor': 0.00919041129180193, 'translate_factor': 0.009421963201339593, 'num_layers': 4, 'layer_0': 'Conv2D', 'layer_0_conv2d_filters': 8, 'layer_0_conv2d_fsize': 4, 'layer_0_conv2d_ssize': 2, 'activation_0': 'linear', 'layer_1': 'Conv2D', 'layer_1_conv2d_filters': 16, 'layer_1_conv2d_fsize': 4, 'layer_1_conv2d_ssize': 2, 'activation_1': 'relu', 'layer_2': 'Conv2D', 'layer_2_conv2d_filters': 28, 'layer_2_conv2d_fsize': 8, 'layer_2_conv2d_ssize': 1, 'activation_2': 'relu', 'layer_3': 'Depthwise2D', 'layer_3_dwconv2d_fsize': 16, 'layer_3_dwconv2d_ssize': 4, 'activation_3': 'linear', 'output_dropout': 0.5098963988755382, 'lr_inicial': 0.001121231481037701}. Best is trial 103 with value: 1.0.\n"
     ]
    },
    {
     "name": "stdout",
     "output_type": "stream",
     "text": [
      "INFO:tensorflow:Assets written to: saved_models/exp4_with_aug/best_model_t175/assets\n"
     ]
    },
    {
     "name": "stderr",
     "output_type": "stream",
     "text": [
      "INFO:tensorflow:Assets written to: saved_models/exp4_with_aug/best_model_t175/assets\n",
      "[I 2024-01-30 22:54:18,006] Trial 175 finished with value: 0.9800000190734863 and parameters: {'batchsize': 32, 'brightness_factor': 0.048916514323918886, 'gaussian_noise_factor': 0.008908010305406288, 'translate_factor': 0.011388418375953318, 'num_layers': 4, 'layer_0': 'Conv2D', 'layer_0_conv2d_filters': 8, 'layer_0_conv2d_fsize': 4, 'layer_0_conv2d_ssize': 2, 'activation_0': 'linear', 'layer_1': 'Conv2D', 'layer_1_conv2d_filters': 16, 'layer_1_conv2d_fsize': 4, 'layer_1_conv2d_ssize': 1, 'activation_1': 'relu', 'layer_2': 'Conv2D', 'layer_2_conv2d_filters': 28, 'layer_2_conv2d_fsize': 8, 'layer_2_conv2d_ssize': 1, 'activation_2': 'relu', 'layer_3': 'Depthwise2D', 'layer_3_dwconv2d_fsize': 16, 'layer_3_dwconv2d_ssize': 4, 'activation_3': 'linear', 'output_dropout': 0.5158983000735677, 'lr_inicial': 0.0011073758678999237}. Best is trial 103 with value: 1.0.\n"
     ]
    },
    {
     "name": "stdout",
     "output_type": "stream",
     "text": [
      "INFO:tensorflow:Assets written to: saved_models/exp4_with_aug/best_model_t176/assets\n"
     ]
    },
    {
     "name": "stderr",
     "output_type": "stream",
     "text": [
      "INFO:tensorflow:Assets written to: saved_models/exp4_with_aug/best_model_t176/assets\n",
      "[I 2024-01-30 22:55:16,426] Trial 176 finished with value: 0.9800000190734863 and parameters: {'batchsize': 32, 'brightness_factor': 0.046085570694936746, 'gaussian_noise_factor': 0.010123580739556996, 'translate_factor': 0.012008223362872935, 'num_layers': 4, 'layer_0': 'Conv2D', 'layer_0_conv2d_filters': 8, 'layer_0_conv2d_fsize': 4, 'layer_0_conv2d_ssize': 2, 'activation_0': 'linear', 'layer_1': 'Pointwise2D', 'layer_1_pwconv2d_filters': 16, 'layer_1_pwconv2d_ssize': 1, 'activation_1': 'relu', 'layer_2': 'Conv2D', 'layer_2_conv2d_filters': 28, 'layer_2_conv2d_fsize': 8, 'layer_2_conv2d_ssize': 1, 'activation_2': 'relu', 'layer_3': 'Depthwise2D', 'layer_3_dwconv2d_fsize': 16, 'layer_3_dwconv2d_ssize': 4, 'activation_3': 'linear', 'output_dropout': 0.5257491996691949, 'lr_inicial': 0.001069404433093729}. Best is trial 103 with value: 1.0.\n"
     ]
    },
    {
     "name": "stdout",
     "output_type": "stream",
     "text": [
      "INFO:tensorflow:Assets written to: saved_models/exp4_with_aug/best_model_t177/assets\n"
     ]
    },
    {
     "name": "stderr",
     "output_type": "stream",
     "text": [
      "INFO:tensorflow:Assets written to: saved_models/exp4_with_aug/best_model_t177/assets\n",
      "[I 2024-01-30 22:55:58,493] Trial 177 finished with value: 0.2800000011920929 and parameters: {'batchsize': 32, 'brightness_factor': 0.04110742292829072, 'gaussian_noise_factor': 0.009151423281653045, 'translate_factor': 0.010554531300907414, 'num_layers': 4, 'layer_0': 'Conv2D', 'layer_0_conv2d_filters': 8, 'layer_0_conv2d_fsize': 4, 'layer_0_conv2d_ssize': 2, 'activation_0': 'linear', 'layer_1': 'Conv2D', 'layer_1_conv2d_filters': 16, 'layer_1_conv2d_fsize': 4, 'layer_1_conv2d_ssize': 1, 'activation_1': 'relu', 'layer_2': 'Conv2D', 'layer_2_conv2d_filters': 28, 'layer_2_conv2d_fsize': 8, 'layer_2_conv2d_ssize': 1, 'activation_2': 'relu', 'layer_3': 'Depthwise2D', 'layer_3_dwconv2d_fsize': 16, 'layer_3_dwconv2d_ssize': 4, 'activation_3': 'linear', 'output_dropout': 0.5267353795929074, 'lr_inicial': 0.001094934517422164}. Best is trial 103 with value: 1.0.\n"
     ]
    },
    {
     "name": "stdout",
     "output_type": "stream",
     "text": [
      "INFO:tensorflow:Assets written to: saved_models/exp4_with_aug/best_model_t178/assets\n"
     ]
    },
    {
     "name": "stderr",
     "output_type": "stream",
     "text": [
      "INFO:tensorflow:Assets written to: saved_models/exp4_with_aug/best_model_t178/assets\n",
      "[I 2024-01-30 22:56:40,722] Trial 178 finished with value: 0.9599999785423279 and parameters: {'batchsize': 32, 'brightness_factor': 0.04385625420383738, 'gaussian_noise_factor': 0.0011715472215180333, 'translate_factor': 0.01252233403495584, 'num_layers': 4, 'layer_0': 'Conv2D', 'layer_0_conv2d_filters': 8, 'layer_0_conv2d_fsize': 5, 'layer_0_conv2d_ssize': 2, 'activation_0': 'linear', 'layer_1': 'Pointwise2D', 'layer_1_pwconv2d_filters': 4, 'layer_1_pwconv2d_ssize': 1, 'activation_1': 'relu', 'layer_2': 'Conv2D', 'layer_2_conv2d_filters': 28, 'layer_2_conv2d_fsize': 8, 'layer_2_conv2d_ssize': 1, 'activation_2': 'relu', 'layer_3': 'Depthwise2D', 'layer_3_dwconv2d_fsize': 16, 'layer_3_dwconv2d_ssize': 4, 'activation_3': 'linear', 'output_dropout': 0.5063021388341893, 'lr_inicial': 0.001267056029071031}. Best is trial 103 with value: 1.0.\n"
     ]
    },
    {
     "name": "stdout",
     "output_type": "stream",
     "text": [
      "INFO:tensorflow:Assets written to: saved_models/exp4_with_aug/best_model_t179/assets\n"
     ]
    },
    {
     "name": "stderr",
     "output_type": "stream",
     "text": [
      "INFO:tensorflow:Assets written to: saved_models/exp4_with_aug/best_model_t179/assets\n",
      "[I 2024-01-30 22:57:29,841] Trial 179 finished with value: 0.7400000095367432 and parameters: {'batchsize': 32, 'brightness_factor': 0.04790515191909041, 'gaussian_noise_factor': 0.008331560883549124, 'translate_factor': 0.006709794630630841, 'num_layers': 4, 'layer_0': 'Conv2D', 'layer_0_conv2d_filters': 8, 'layer_0_conv2d_fsize': 4, 'layer_0_conv2d_ssize': 2, 'activation_0': 'linear', 'layer_1': 'Conv2D', 'layer_1_conv2d_filters': 16, 'layer_1_conv2d_fsize': 5, 'layer_1_conv2d_ssize': 1, 'activation_1': 'relu', 'layer_2': 'Conv2D', 'layer_2_conv2d_filters': 28, 'layer_2_conv2d_fsize': 8, 'layer_2_conv2d_ssize': 1, 'activation_2': 'relu', 'layer_3': 'Depthwise2D', 'layer_3_dwconv2d_fsize': 16, 'layer_3_dwconv2d_ssize': 4, 'activation_3': 'linear', 'output_dropout': 0.5337005576149096, 'lr_inicial': 0.0011218502471500818}. Best is trial 103 with value: 1.0.\n"
     ]
    },
    {
     "name": "stdout",
     "output_type": "stream",
     "text": [
      "INFO:tensorflow:Assets written to: saved_models/exp4_with_aug/best_model_t180/assets\n"
     ]
    },
    {
     "name": "stderr",
     "output_type": "stream",
     "text": [
      "INFO:tensorflow:Assets written to: saved_models/exp4_with_aug/best_model_t180/assets\n",
      "[I 2024-01-30 22:58:12,588] Trial 180 finished with value: 1.0 and parameters: {'batchsize': 32, 'brightness_factor': 0.04874832436390381, 'gaussian_noise_factor': 0.01472096472504498, 'translate_factor': 0.01685540157796917, 'num_layers': 4, 'layer_0': 'Conv2D', 'layer_0_conv2d_filters': 8, 'layer_0_conv2d_fsize': 4, 'layer_0_conv2d_ssize': 2, 'activation_0': 'linear', 'layer_1': 'Conv2D', 'layer_1_conv2d_filters': 16, 'layer_1_conv2d_fsize': 4, 'layer_1_conv2d_ssize': 1, 'activation_1': 'relu', 'layer_2': 'Conv2D', 'layer_2_conv2d_filters': 24, 'layer_2_conv2d_fsize': 8, 'layer_2_conv2d_ssize': 1, 'activation_2': 'relu', 'layer_3': 'Depthwise2D', 'layer_3_dwconv2d_fsize': 16, 'layer_3_dwconv2d_ssize': 4, 'activation_3': 'linear', 'output_dropout': 0.5217843811617771, 'lr_inicial': 0.0010292392389913434}. Best is trial 103 with value: 1.0.\n"
     ]
    },
    {
     "name": "stdout",
     "output_type": "stream",
     "text": [
      "INFO:tensorflow:Assets written to: saved_models/exp4_with_aug/best_model_t181/assets\n"
     ]
    },
    {
     "name": "stderr",
     "output_type": "stream",
     "text": [
      "INFO:tensorflow:Assets written to: saved_models/exp4_with_aug/best_model_t181/assets\n",
      "[I 2024-01-30 22:58:52,632] Trial 181 finished with value: 0.9800000190734863 and parameters: {'batchsize': 32, 'brightness_factor': 0.05087068040199168, 'gaussian_noise_factor': 0.013206696305500483, 'translate_factor': 0.01675494017368481, 'num_layers': 4, 'layer_0': 'Conv2D', 'layer_0_conv2d_filters': 8, 'layer_0_conv2d_fsize': 4, 'layer_0_conv2d_ssize': 2, 'activation_0': 'linear', 'layer_1': 'Conv2D', 'layer_1_conv2d_filters': 16, 'layer_1_conv2d_fsize': 4, 'layer_1_conv2d_ssize': 1, 'activation_1': 'relu', 'layer_2': 'Conv2D', 'layer_2_conv2d_filters': 24, 'layer_2_conv2d_fsize': 8, 'layer_2_conv2d_ssize': 1, 'activation_2': 'relu', 'layer_3': 'Depthwise2D', 'layer_3_dwconv2d_fsize': 16, 'layer_3_dwconv2d_ssize': 4, 'activation_3': 'linear', 'output_dropout': 0.5222651405801343, 'lr_inicial': 0.001036311339490899}. Best is trial 103 with value: 1.0.\n"
     ]
    },
    {
     "name": "stdout",
     "output_type": "stream",
     "text": [
      "INFO:tensorflow:Assets written to: saved_models/exp4_with_aug/best_model_t182/assets\n"
     ]
    },
    {
     "name": "stderr",
     "output_type": "stream",
     "text": [
      "INFO:tensorflow:Assets written to: saved_models/exp4_with_aug/best_model_t182/assets\n",
      "[I 2024-01-30 22:59:34,111] Trial 182 finished with value: 0.9800000190734863 and parameters: {'batchsize': 32, 'brightness_factor': 0.04799116495426632, 'gaussian_noise_factor': 0.014061540179002234, 'translate_factor': 0.015614831641814205, 'num_layers': 4, 'layer_0': 'Conv2D', 'layer_0_conv2d_filters': 8, 'layer_0_conv2d_fsize': 4, 'layer_0_conv2d_ssize': 2, 'activation_0': 'linear', 'layer_1': 'Conv2D', 'layer_1_conv2d_filters': 16, 'layer_1_conv2d_fsize': 4, 'layer_1_conv2d_ssize': 1, 'activation_1': 'relu', 'layer_2': 'Conv2D', 'layer_2_conv2d_filters': 24, 'layer_2_conv2d_fsize': 8, 'layer_2_conv2d_ssize': 1, 'activation_2': 'relu', 'layer_3': 'Depthwise2D', 'layer_3_dwconv2d_fsize': 16, 'layer_3_dwconv2d_ssize': 4, 'activation_3': 'linear', 'output_dropout': 0.5239141089101977, 'lr_inicial': 0.0010412216492603113}. Best is trial 103 with value: 1.0.\n"
     ]
    },
    {
     "name": "stdout",
     "output_type": "stream",
     "text": [
      "INFO:tensorflow:Assets written to: saved_models/exp4_with_aug/best_model_t183/assets\n"
     ]
    },
    {
     "name": "stderr",
     "output_type": "stream",
     "text": [
      "INFO:tensorflow:Assets written to: saved_models/exp4_with_aug/best_model_t183/assets\n",
      "[I 2024-01-30 23:00:14,335] Trial 183 finished with value: 0.9800000190734863 and parameters: {'batchsize': 32, 'brightness_factor': 0.04677699907464224, 'gaussian_noise_factor': 0.013649775845716805, 'translate_factor': 0.013547826533657978, 'num_layers': 4, 'layer_0': 'Conv2D', 'layer_0_conv2d_filters': 8, 'layer_0_conv2d_fsize': 4, 'layer_0_conv2d_ssize': 2, 'activation_0': 'linear', 'layer_1': 'Conv2D', 'layer_1_conv2d_filters': 16, 'layer_1_conv2d_fsize': 4, 'layer_1_conv2d_ssize': 1, 'activation_1': 'relu', 'layer_2': 'Conv2D', 'layer_2_conv2d_filters': 24, 'layer_2_conv2d_fsize': 8, 'layer_2_conv2d_ssize': 1, 'activation_2': 'relu', 'layer_3': 'Depthwise2D', 'layer_3_dwconv2d_fsize': 16, 'layer_3_dwconv2d_ssize': 4, 'activation_3': 'linear', 'output_dropout': 0.5207724123332752, 'lr_inicial': 0.001005900402579538}. Best is trial 103 with value: 1.0.\n"
     ]
    },
    {
     "name": "stdout",
     "output_type": "stream",
     "text": [
      "INFO:tensorflow:Assets written to: saved_models/exp4_with_aug/best_model_t184/assets\n"
     ]
    },
    {
     "name": "stderr",
     "output_type": "stream",
     "text": [
      "INFO:tensorflow:Assets written to: saved_models/exp4_with_aug/best_model_t184/assets\n",
      "[I 2024-01-30 23:00:54,827] Trial 184 finished with value: 1.0 and parameters: {'batchsize': 32, 'brightness_factor': 0.05229660440527443, 'gaussian_noise_factor': 0.01655356307981653, 'translate_factor': 0.01719574707310007, 'num_layers': 4, 'layer_0': 'Conv2D', 'layer_0_conv2d_filters': 8, 'layer_0_conv2d_fsize': 4, 'layer_0_conv2d_ssize': 2, 'activation_0': 'linear', 'layer_1': 'Conv2D', 'layer_1_conv2d_filters': 16, 'layer_1_conv2d_fsize': 4, 'layer_1_conv2d_ssize': 1, 'activation_1': 'relu', 'layer_2': 'Conv2D', 'layer_2_conv2d_filters': 24, 'layer_2_conv2d_fsize': 8, 'layer_2_conv2d_ssize': 1, 'activation_2': 'relu', 'layer_3': 'Depthwise2D', 'layer_3_dwconv2d_fsize': 16, 'layer_3_dwconv2d_ssize': 4, 'activation_3': 'linear', 'output_dropout': 0.5300734137494613, 'lr_inicial': 0.001059229801575658}. Best is trial 103 with value: 1.0.\n"
     ]
    },
    {
     "name": "stdout",
     "output_type": "stream",
     "text": [
      "INFO:tensorflow:Assets written to: saved_models/exp4_with_aug/best_model_t185/assets\n"
     ]
    },
    {
     "name": "stderr",
     "output_type": "stream",
     "text": [
      "INFO:tensorflow:Assets written to: saved_models/exp4_with_aug/best_model_t185/assets\n",
      "[I 2024-01-30 23:01:42,195] Trial 185 finished with value: 0.9800000190734863 and parameters: {'batchsize': 32, 'brightness_factor': 0.05174213168318203, 'gaussian_noise_factor': 0.017317090046116933, 'translate_factor': 0.018355236159437564, 'num_layers': 4, 'layer_0': 'Conv2D', 'layer_0_conv2d_filters': 8, 'layer_0_conv2d_fsize': 4, 'layer_0_conv2d_ssize': 2, 'activation_0': 'linear', 'layer_1': 'Conv2D', 'layer_1_conv2d_filters': 16, 'layer_1_conv2d_fsize': 4, 'layer_1_conv2d_ssize': 1, 'activation_1': 'relu', 'layer_2': 'Conv2D', 'layer_2_conv2d_filters': 32, 'layer_2_conv2d_fsize': 8, 'layer_2_conv2d_ssize': 1, 'activation_2': 'relu', 'layer_3': 'Depthwise2D', 'layer_3_dwconv2d_fsize': 16, 'layer_3_dwconv2d_ssize': 4, 'activation_3': 'linear', 'output_dropout': 0.5145559869536414, 'lr_inicial': 0.0011973864694273147}. Best is trial 103 with value: 1.0.\n"
     ]
    },
    {
     "name": "stdout",
     "output_type": "stream",
     "text": [
      "INFO:tensorflow:Assets written to: saved_models/exp4_with_aug/best_model_t186/assets\n"
     ]
    },
    {
     "name": "stderr",
     "output_type": "stream",
     "text": [
      "INFO:tensorflow:Assets written to: saved_models/exp4_with_aug/best_model_t186/assets\n",
      "[I 2024-01-30 23:02:24,527] Trial 186 finished with value: 0.9800000190734863 and parameters: {'batchsize': 32, 'brightness_factor': 0.037122099554864285, 'gaussian_noise_factor': 0.010913375297329204, 'translate_factor': 0.00952604731693463, 'num_layers': 4, 'layer_0': 'Conv2D', 'layer_0_conv2d_filters': 8, 'layer_0_conv2d_fsize': 4, 'layer_0_conv2d_ssize': 2, 'activation_0': 'linear', 'layer_1': 'Conv2D', 'layer_1_conv2d_filters': 16, 'layer_1_conv2d_fsize': 4, 'layer_1_conv2d_ssize': 1, 'activation_1': 'relu', 'layer_2': 'Conv2D', 'layer_2_conv2d_filters': 28, 'layer_2_conv2d_fsize': 8, 'layer_2_conv2d_ssize': 1, 'activation_2': 'relu', 'layer_3': 'Depthwise2D', 'layer_3_dwconv2d_fsize': 16, 'layer_3_dwconv2d_ssize': 4, 'activation_3': 'linear', 'output_dropout': 0.5443744434411586, 'lr_inicial': 0.001099133092237562}. Best is trial 103 with value: 1.0.\n"
     ]
    },
    {
     "name": "stdout",
     "output_type": "stream",
     "text": [
      "INFO:tensorflow:Assets written to: saved_models/exp4_with_aug/best_model_t187/assets\n"
     ]
    },
    {
     "name": "stderr",
     "output_type": "stream",
     "text": [
      "INFO:tensorflow:Assets written to: saved_models/exp4_with_aug/best_model_t187/assets\n",
      "[I 2024-01-30 23:03:04,617] Trial 187 finished with value: 0.9800000190734863 and parameters: {'batchsize': 32, 'brightness_factor': 0.059736141377656454, 'gaussian_noise_factor': 0.006996831206581691, 'translate_factor': 0.020953208308159933, 'num_layers': 4, 'layer_0': 'Conv2D', 'layer_0_conv2d_filters': 8, 'layer_0_conv2d_fsize': 4, 'layer_0_conv2d_ssize': 2, 'activation_0': 'linear', 'layer_1': 'Conv2D', 'layer_1_conv2d_filters': 16, 'layer_1_conv2d_fsize': 4, 'layer_1_conv2d_ssize': 1, 'activation_1': 'relu', 'layer_2': 'Conv2D', 'layer_2_conv2d_filters': 24, 'layer_2_conv2d_fsize': 8, 'layer_2_conv2d_ssize': 1, 'activation_2': 'relu', 'layer_3': 'Depthwise2D', 'layer_3_dwconv2d_fsize': 16, 'layer_3_dwconv2d_ssize': 4, 'activation_3': 'linear', 'output_dropout': 0.5330699051544971, 'lr_inicial': 0.0011283126446006639}. Best is trial 103 with value: 1.0.\n"
     ]
    },
    {
     "name": "stdout",
     "output_type": "stream",
     "text": [
      "INFO:tensorflow:Assets written to: saved_models/exp4_with_aug/best_model_t188/assets\n"
     ]
    },
    {
     "name": "stderr",
     "output_type": "stream",
     "text": [
      "INFO:tensorflow:Assets written to: saved_models/exp4_with_aug/best_model_t188/assets\n",
      "[I 2024-01-30 23:03:46,836] Trial 188 finished with value: 1.0 and parameters: {'batchsize': 32, 'brightness_factor': 0.05705795876672931, 'gaussian_noise_factor': 0.01776717962553686, 'translate_factor': 0.003971437095632238, 'num_layers': 4, 'layer_0': 'Conv2D', 'layer_0_conv2d_filters': 8, 'layer_0_conv2d_fsize': 4, 'layer_0_conv2d_ssize': 2, 'activation_0': 'linear', 'layer_1': 'Conv2D', 'layer_1_conv2d_filters': 16, 'layer_1_conv2d_fsize': 4, 'layer_1_conv2d_ssize': 1, 'activation_1': 'relu', 'layer_2': 'Conv2D', 'layer_2_conv2d_filters': 28, 'layer_2_conv2d_fsize': 8, 'layer_2_conv2d_ssize': 1, 'activation_2': 'relu', 'layer_3': 'Depthwise2D', 'layer_3_dwconv2d_fsize': 16, 'layer_3_dwconv2d_ssize': 4, 'activation_3': 'linear', 'output_dropout': 0.5280024402471155, 'lr_inicial': 0.0009590522731077811}. Best is trial 103 with value: 1.0.\n"
     ]
    },
    {
     "name": "stdout",
     "output_type": "stream",
     "text": [
      "INFO:tensorflow:Assets written to: saved_models/exp4_with_aug/best_model_t189/assets\n"
     ]
    },
    {
     "name": "stderr",
     "output_type": "stream",
     "text": [
      "INFO:tensorflow:Assets written to: saved_models/exp4_with_aug/best_model_t189/assets\n",
      "[I 2024-01-30 23:04:39,892] Trial 189 finished with value: 0.8999999761581421 and parameters: {'batchsize': 32, 'brightness_factor': 0.05675531040092904, 'gaussian_noise_factor': 0.01954768188481499, 'translate_factor': 0.0034010091441658095, 'num_layers': 4, 'layer_0': 'Conv2D', 'layer_0_conv2d_filters': 8, 'layer_0_conv2d_fsize': 4, 'layer_0_conv2d_ssize': 2, 'activation_0': 'linear', 'layer_1': 'Conv2D', 'layer_1_conv2d_filters': 16, 'layer_1_conv2d_fsize': 4, 'layer_1_conv2d_ssize': 1, 'activation_1': 'relu', 'layer_2': 'Conv2D', 'layer_2_conv2d_filters': 28, 'layer_2_conv2d_fsize': 8, 'layer_2_conv2d_ssize': 1, 'activation_2': 'relu', 'layer_3': 'Depthwise2D', 'layer_3_dwconv2d_fsize': 16, 'layer_3_dwconv2d_ssize': 4, 'activation_3': 'linear', 'output_dropout': 0.5090419700262395, 'lr_inicial': 0.0009604600572674695}. Best is trial 103 with value: 1.0.\n"
     ]
    },
    {
     "name": "stdout",
     "output_type": "stream",
     "text": [
      "INFO:tensorflow:Assets written to: saved_models/exp4_with_aug/best_model_t190/assets\n"
     ]
    },
    {
     "name": "stderr",
     "output_type": "stream",
     "text": [
      "INFO:tensorflow:Assets written to: saved_models/exp4_with_aug/best_model_t190/assets\n",
      "[I 2024-01-30 23:05:24,357] Trial 190 finished with value: 0.8600000143051147 and parameters: {'batchsize': 32, 'brightness_factor': 0.06249917604387806, 'gaussian_noise_factor': 0.004019193510181104, 'translate_factor': 0.007184788514210401, 'num_layers': 4, 'layer_0': 'Conv2D', 'layer_0_conv2d_filters': 8, 'layer_0_conv2d_fsize': 4, 'layer_0_conv2d_ssize': 2, 'activation_0': 'linear', 'layer_1': 'Conv2D', 'layer_1_conv2d_filters': 16, 'layer_1_conv2d_fsize': 4, 'layer_1_conv2d_ssize': 1, 'activation_1': 'linear', 'layer_2': 'Conv2D', 'layer_2_conv2d_filters': 32, 'layer_2_conv2d_fsize': 8, 'layer_2_conv2d_ssize': 1, 'activation_2': 'relu', 'layer_3': 'Depthwise2D', 'layer_3_dwconv2d_fsize': 16, 'layer_3_dwconv2d_ssize': 4, 'activation_3': 'linear', 'output_dropout': 0.5301124644861221, 'lr_inicial': 0.001221980260985336}. Best is trial 103 with value: 1.0.\n"
     ]
    },
    {
     "name": "stdout",
     "output_type": "stream",
     "text": [
      "INFO:tensorflow:Assets written to: saved_models/exp4_with_aug/best_model_t191/assets\n"
     ]
    },
    {
     "name": "stderr",
     "output_type": "stream",
     "text": [
      "INFO:tensorflow:Assets written to: saved_models/exp4_with_aug/best_model_t191/assets\n",
      "[I 2024-01-30 23:06:08,341] Trial 191 finished with value: 0.9599999785423279 and parameters: {'batchsize': 32, 'brightness_factor': 0.05278868528985298, 'gaussian_noise_factor': 0.012916382497830291, 'translate_factor': 0.016629635233565376, 'num_layers': 4, 'layer_0': 'Conv2D', 'layer_0_conv2d_filters': 8, 'layer_0_conv2d_fsize': 4, 'layer_0_conv2d_ssize': 2, 'activation_0': 'linear', 'layer_1': 'Conv2D', 'layer_1_conv2d_filters': 16, 'layer_1_conv2d_fsize': 4, 'layer_1_conv2d_ssize': 1, 'activation_1': 'relu', 'layer_2': 'Conv2D', 'layer_2_conv2d_filters': 28, 'layer_2_conv2d_fsize': 8, 'layer_2_conv2d_ssize': 1, 'activation_2': 'relu', 'layer_3': 'Depthwise2D', 'layer_3_dwconv2d_fsize': 16, 'layer_3_dwconv2d_ssize': 4, 'activation_3': 'linear', 'output_dropout': 0.5260268414922338, 'lr_inicial': 0.0010250191502492927}. Best is trial 103 with value: 1.0.\n"
     ]
    },
    {
     "name": "stdout",
     "output_type": "stream",
     "text": [
      "INFO:tensorflow:Assets written to: saved_models/exp4_with_aug/best_model_t192/assets\n"
     ]
    },
    {
     "name": "stderr",
     "output_type": "stream",
     "text": [
      "INFO:tensorflow:Assets written to: saved_models/exp4_with_aug/best_model_t192/assets\n",
      "[I 2024-01-30 23:06:50,515] Trial 192 finished with value: 1.0 and parameters: {'batchsize': 32, 'brightness_factor': 0.05177965224670958, 'gaussian_noise_factor': 0.016409824281405673, 'translate_factor': 0.011235426464510362, 'num_layers': 4, 'layer_0': 'Conv2D', 'layer_0_conv2d_filters': 8, 'layer_0_conv2d_fsize': 4, 'layer_0_conv2d_ssize': 2, 'activation_0': 'linear', 'layer_1': 'Conv2D', 'layer_1_conv2d_filters': 16, 'layer_1_conv2d_fsize': 4, 'layer_1_conv2d_ssize': 1, 'activation_1': 'relu', 'layer_2': 'Conv2D', 'layer_2_conv2d_filters': 28, 'layer_2_conv2d_fsize': 8, 'layer_2_conv2d_ssize': 1, 'activation_2': 'relu', 'layer_3': 'Depthwise2D', 'layer_3_dwconv2d_fsize': 16, 'layer_3_dwconv2d_ssize': 4, 'activation_3': 'linear', 'output_dropout': 0.5389515559210749, 'lr_inicial': 0.0010513317982539661}. Best is trial 103 with value: 1.0.\n"
     ]
    },
    {
     "name": "stdout",
     "output_type": "stream",
     "text": [
      "INFO:tensorflow:Assets written to: saved_models/exp4_with_aug/best_model_t193/assets\n"
     ]
    },
    {
     "name": "stderr",
     "output_type": "stream",
     "text": [
      "INFO:tensorflow:Assets written to: saved_models/exp4_with_aug/best_model_t193/assets\n",
      "[I 2024-01-30 23:07:34,675] Trial 193 finished with value: 0.9800000190734863 and parameters: {'batchsize': 32, 'brightness_factor': 0.055686645747705814, 'gaussian_noise_factor': 0.00826714667045381, 'translate_factor': 0.011012623447022928, 'num_layers': 4, 'layer_0': 'Conv2D', 'layer_0_conv2d_filters': 8, 'layer_0_conv2d_fsize': 4, 'layer_0_conv2d_ssize': 2, 'activation_0': 'linear', 'layer_1': 'Conv2D', 'layer_1_conv2d_filters': 16, 'layer_1_conv2d_fsize': 4, 'layer_1_conv2d_ssize': 1, 'activation_1': 'relu', 'layer_2': 'Conv2D', 'layer_2_conv2d_filters': 28, 'layer_2_conv2d_fsize': 8, 'layer_2_conv2d_ssize': 1, 'activation_2': 'relu', 'layer_3': 'Depthwise2D', 'layer_3_dwconv2d_fsize': 16, 'layer_3_dwconv2d_ssize': 4, 'activation_3': 'linear', 'output_dropout': 0.5341389603942733, 'lr_inicial': 0.0010820885283855605}. Best is trial 103 with value: 1.0.\n"
     ]
    },
    {
     "name": "stdout",
     "output_type": "stream",
     "text": [
      "INFO:tensorflow:Assets written to: saved_models/exp4_with_aug/best_model_t194/assets\n"
     ]
    },
    {
     "name": "stderr",
     "output_type": "stream",
     "text": [
      "INFO:tensorflow:Assets written to: saved_models/exp4_with_aug/best_model_t194/assets\n",
      "[I 2024-01-30 23:08:17,222] Trial 194 finished with value: 0.9399999976158142 and parameters: {'batchsize': 32, 'brightness_factor': 0.044441804150323824, 'gaussian_noise_factor': 0.017291184628253665, 'translate_factor': 0.002532247499127718, 'num_layers': 4, 'layer_0': 'Conv2D', 'layer_0_conv2d_filters': 8, 'layer_0_conv2d_fsize': 4, 'layer_0_conv2d_ssize': 2, 'activation_0': 'linear', 'layer_1': 'Conv2D', 'layer_1_conv2d_filters': 16, 'layer_1_conv2d_fsize': 4, 'layer_1_conv2d_ssize': 1, 'activation_1': 'relu', 'layer_2': 'Conv2D', 'layer_2_conv2d_filters': 28, 'layer_2_conv2d_fsize': 8, 'layer_2_conv2d_ssize': 1, 'activation_2': 'relu', 'layer_3': 'Depthwise2D', 'layer_3_dwconv2d_fsize': 16, 'layer_3_dwconv2d_ssize': 4, 'activation_3': 'linear', 'output_dropout': 0.5423843468850511, 'lr_inicial': 0.0009695144726083783}. Best is trial 103 with value: 1.0.\n"
     ]
    },
    {
     "name": "stdout",
     "output_type": "stream",
     "text": [
      "INFO:tensorflow:Assets written to: saved_models/exp4_with_aug/best_model_t195/assets\n"
     ]
    },
    {
     "name": "stderr",
     "output_type": "stream",
     "text": [
      "INFO:tensorflow:Assets written to: saved_models/exp4_with_aug/best_model_t195/assets\n",
      "[I 2024-01-30 23:08:57,569] Trial 195 finished with value: 0.9599999785423279 and parameters: {'batchsize': 32, 'brightness_factor': 0.05848093192638176, 'gaussian_noise_factor': 0.021300696665721593, 'translate_factor': 0.008653862439299014, 'num_layers': 4, 'layer_0': 'Conv2D', 'layer_0_conv2d_filters': 8, 'layer_0_conv2d_fsize': 4, 'layer_0_conv2d_ssize': 2, 'activation_0': 'linear', 'layer_1': 'Conv2D', 'layer_1_conv2d_filters': 8, 'layer_1_conv2d_fsize': 4, 'layer_1_conv2d_ssize': 1, 'activation_1': 'relu', 'layer_2': 'Conv2D', 'layer_2_conv2d_filters': 32, 'layer_2_conv2d_fsize': 8, 'layer_2_conv2d_ssize': 1, 'activation_2': 'relu', 'layer_3': 'Depthwise2D', 'layer_3_dwconv2d_fsize': 16, 'layer_3_dwconv2d_ssize': 4, 'activation_3': 'linear', 'output_dropout': 0.554475599271715, 'lr_inicial': 0.0011597504195027773}. Best is trial 103 with value: 1.0.\n"
     ]
    },
    {
     "name": "stdout",
     "output_type": "stream",
     "text": [
      "INFO:tensorflow:Assets written to: saved_models/exp4_with_aug/best_model_t196/assets\n"
     ]
    },
    {
     "name": "stderr",
     "output_type": "stream",
     "text": [
      "INFO:tensorflow:Assets written to: saved_models/exp4_with_aug/best_model_t196/assets\n",
      "[I 2024-01-30 23:10:32,448] Trial 196 finished with value: 0.699999988079071 and parameters: {'batchsize': 32, 'brightness_factor': 0.0379994513005494, 'gaussian_noise_factor': 2.5517821380865308e-05, 'translate_factor': 0.013610918477029478, 'num_layers': 4, 'layer_0': 'Conv2D', 'layer_0_conv2d_filters': 8, 'layer_0_conv2d_fsize': 4, 'layer_0_conv2d_ssize': 2, 'activation_0': 'linear', 'layer_1': 'Conv2D', 'layer_1_conv2d_filters': 16, 'layer_1_conv2d_fsize': 16, 'layer_1_conv2d_ssize': 1, 'activation_1': 'relu', 'layer_2': 'Conv2D', 'layer_2_conv2d_filters': 28, 'layer_2_conv2d_fsize': 8, 'layer_2_conv2d_ssize': 1, 'activation_2': 'relu', 'layer_3': 'Depthwise2D', 'layer_3_dwconv2d_fsize': 16, 'layer_3_dwconv2d_ssize': 4, 'activation_3': 'linear', 'output_dropout': 0.539931133448765, 'lr_inicial': 0.0012847694920676033}. Best is trial 103 with value: 1.0.\n"
     ]
    },
    {
     "name": "stdout",
     "output_type": "stream",
     "text": [
      "INFO:tensorflow:Assets written to: saved_models/exp4_with_aug/best_model_t197/assets\n"
     ]
    },
    {
     "name": "stderr",
     "output_type": "stream",
     "text": [
      "INFO:tensorflow:Assets written to: saved_models/exp4_with_aug/best_model_t197/assets\n",
      "[I 2024-01-30 23:11:26,330] Trial 197 finished with value: 0.9800000190734863 and parameters: {'batchsize': 32, 'brightness_factor': 0.05041245598621261, 'gaussian_noise_factor': 0.010457500270699246, 'translate_factor': 0.021814259929429265, 'num_layers': 4, 'layer_0': 'Conv2D', 'layer_0_conv2d_filters': 8, 'layer_0_conv2d_fsize': 4, 'layer_0_conv2d_ssize': 2, 'activation_0': 'linear', 'layer_1': 'Conv2D', 'layer_1_conv2d_filters': 12, 'layer_1_conv2d_fsize': 8, 'layer_1_conv2d_ssize': 1, 'activation_1': 'relu', 'layer_2': 'Conv2D', 'layer_2_conv2d_filters': 28, 'layer_2_conv2d_fsize': 8, 'layer_2_conv2d_ssize': 1, 'activation_2': 'relu', 'layer_3': 'Depthwise2D', 'layer_3_dwconv2d_fsize': 3, 'layer_3_dwconv2d_ssize': 4, 'activation_3': 'linear', 'output_dropout': 0.5170417553516734, 'lr_inicial': 0.0008960767284053835}. Best is trial 103 with value: 1.0.\n"
     ]
    },
    {
     "name": "stdout",
     "output_type": "stream",
     "text": [
      "INFO:tensorflow:Assets written to: saved_models/exp4_with_aug/best_model_t198/assets\n"
     ]
    },
    {
     "name": "stderr",
     "output_type": "stream",
     "text": [
      "INFO:tensorflow:Assets written to: saved_models/exp4_with_aug/best_model_t198/assets\n",
      "[I 2024-01-30 23:11:46,694] Trial 198 finished with value: 0.9599999785423279 and parameters: {'batchsize': 32, 'brightness_factor': 0.06433001902683796, 'gaussian_noise_factor': 0.006081678142676643, 'translate_factor': 0.005498986893755498, 'num_layers': 4, 'layer_0': 'Conv2D', 'layer_0_conv2d_filters': 8, 'layer_0_conv2d_fsize': 4, 'layer_0_conv2d_ssize': 2, 'activation_0': 'linear', 'layer_1': 'Depthwise2D', 'layer_1_dwconv2d_fsize': 3, 'layer_1_dwconv2d_ssize': 2, 'activation_1': 'relu', 'layer_2': 'Conv2D', 'layer_2_conv2d_filters': 32, 'layer_2_conv2d_fsize': 8, 'layer_2_conv2d_ssize': 1, 'activation_2': 'relu', 'layer_3': 'Depthwise2D', 'layer_3_dwconv2d_fsize': 5, 'layer_3_dwconv2d_ssize': 4, 'activation_3': 'linear', 'output_dropout': 0.5481688743224783, 'lr_inicial': 0.0010691715987478092}. Best is trial 103 with value: 1.0.\n"
     ]
    },
    {
     "name": "stdout",
     "output_type": "stream",
     "text": [
      "INFO:tensorflow:Assets written to: saved_models/exp4_with_aug/best_model_t199/assets\n"
     ]
    },
    {
     "name": "stderr",
     "output_type": "stream",
     "text": [
      "INFO:tensorflow:Assets written to: saved_models/exp4_with_aug/best_model_t199/assets\n",
      "[I 2024-01-30 23:12:46,365] Trial 199 finished with value: 0.8399999737739563 and parameters: {'batchsize': 32, 'brightness_factor': 0.06645096144276444, 'gaussian_noise_factor': 0.017558627881681763, 'translate_factor': 0.024317247340941782, 'num_layers': 4, 'layer_0': 'Pointwise2D', 'layer_0_pwconv2d_filters': 28, 'layer_0_pwconv2d_ssize': 2, 'activation_0': 'linear', 'layer_1': 'Conv2D', 'layer_1_conv2d_filters': 16, 'layer_1_conv2d_fsize': 4, 'layer_1_conv2d_ssize': 1, 'activation_1': 'relu', 'layer_2': 'Conv2D', 'layer_2_conv2d_filters': 20, 'layer_2_conv2d_fsize': 8, 'layer_2_conv2d_ssize': 1, 'activation_2': 'relu', 'layer_3': 'Depthwise2D', 'layer_3_dwconv2d_fsize': 4, 'layer_3_dwconv2d_ssize': 4, 'activation_3': 'linear', 'output_dropout': 0.515185554535208, 'lr_inicial': 0.0009738413915444913}. Best is trial 103 with value: 1.0.\n"
     ]
    },
    {
     "name": "stdout",
     "output_type": "stream",
     "text": [
      "INFO:tensorflow:Assets written to: saved_models/exp4_with_aug/best_model_t200/assets\n"
     ]
    },
    {
     "name": "stderr",
     "output_type": "stream",
     "text": [
      "INFO:tensorflow:Assets written to: saved_models/exp4_with_aug/best_model_t200/assets\n",
      "[I 2024-01-30 23:13:25,966] Trial 200 finished with value: 0.9800000190734863 and parameters: {'batchsize': 32, 'brightness_factor': 0.05610912713440013, 'gaussian_noise_factor': 0.015285170293153858, 'translate_factor': 0.0008360332765524094, 'num_layers': 4, 'layer_0': 'Depthwise2D', 'layer_0_dwconv2d_fsize': 4, 'layer_0_dwconv2d_ssize': 2, 'activation_0': 'linear', 'layer_1': 'Conv2D', 'layer_1_conv2d_filters': 16, 'layer_1_conv2d_fsize': 4, 'layer_1_conv2d_ssize': 1, 'activation_1': 'relu', 'layer_2': 'Conv2D', 'layer_2_conv2d_filters': 28, 'layer_2_conv2d_fsize': 8, 'layer_2_conv2d_ssize': 1, 'activation_2': 'relu', 'layer_3': 'Depthwise2D', 'layer_3_dwconv2d_fsize': 16, 'layer_3_dwconv2d_ssize': 4, 'activation_3': 'linear', 'output_dropout': 0.5629673124443357, 'lr_inicial': 0.0011918381365329078}. Best is trial 103 with value: 1.0.\n"
     ]
    },
    {
     "name": "stdout",
     "output_type": "stream",
     "text": [
      "INFO:tensorflow:Assets written to: saved_models/exp4_with_aug/best_model_t201/assets\n"
     ]
    },
    {
     "name": "stderr",
     "output_type": "stream",
     "text": [
      "INFO:tensorflow:Assets written to: saved_models/exp4_with_aug/best_model_t201/assets\n",
      "[I 2024-01-30 23:14:06,068] Trial 201 finished with value: 1.0 and parameters: {'batchsize': 32, 'brightness_factor': 0.051333266036185723, 'gaussian_noise_factor': 0.01199516908243574, 'translate_factor': 0.017010141784314408, 'num_layers': 4, 'layer_0': 'Conv2D', 'layer_0_conv2d_filters': 8, 'layer_0_conv2d_fsize': 4, 'layer_0_conv2d_ssize': 2, 'activation_0': 'linear', 'layer_1': 'Conv2D', 'layer_1_conv2d_filters': 16, 'layer_1_conv2d_fsize': 4, 'layer_1_conv2d_ssize': 1, 'activation_1': 'relu', 'layer_2': 'Conv2D', 'layer_2_conv2d_filters': 24, 'layer_2_conv2d_fsize': 8, 'layer_2_conv2d_ssize': 1, 'activation_2': 'relu', 'layer_3': 'Depthwise2D', 'layer_3_dwconv2d_fsize': 16, 'layer_3_dwconv2d_ssize': 4, 'activation_3': 'linear', 'output_dropout': 0.5235849278788905, 'lr_inicial': 0.0010549835520767762}. Best is trial 103 with value: 1.0.\n"
     ]
    },
    {
     "name": "stdout",
     "output_type": "stream",
     "text": [
      "INFO:tensorflow:Assets written to: saved_models/exp4_with_aug/best_model_t202/assets\n"
     ]
    },
    {
     "name": "stderr",
     "output_type": "stream",
     "text": [
      "INFO:tensorflow:Assets written to: saved_models/exp4_with_aug/best_model_t202/assets\n",
      "[I 2024-01-30 23:14:46,077] Trial 202 finished with value: 1.0 and parameters: {'batchsize': 32, 'brightness_factor': 0.05091833375580082, 'gaussian_noise_factor': 0.00924097469247577, 'translate_factor': 0.012286247098050112, 'num_layers': 4, 'layer_0': 'Conv2D', 'layer_0_conv2d_filters': 8, 'layer_0_conv2d_fsize': 4, 'layer_0_conv2d_ssize': 2, 'activation_0': 'linear', 'layer_1': 'Conv2D', 'layer_1_conv2d_filters': 16, 'layer_1_conv2d_fsize': 4, 'layer_1_conv2d_ssize': 1, 'activation_1': 'relu', 'layer_2': 'Conv2D', 'layer_2_conv2d_filters': 24, 'layer_2_conv2d_fsize': 8, 'layer_2_conv2d_ssize': 1, 'activation_2': 'relu', 'layer_3': 'Depthwise2D', 'layer_3_dwconv2d_fsize': 16, 'layer_3_dwconv2d_ssize': 4, 'activation_3': 'linear', 'output_dropout': 0.5241503264728676, 'lr_inicial': 0.0011270016414214388}. Best is trial 103 with value: 1.0.\n"
     ]
    },
    {
     "name": "stdout",
     "output_type": "stream",
     "text": [
      "INFO:tensorflow:Assets written to: saved_models/exp4_with_aug/best_model_t203/assets\n"
     ]
    },
    {
     "name": "stderr",
     "output_type": "stream",
     "text": [
      "INFO:tensorflow:Assets written to: saved_models/exp4_with_aug/best_model_t203/assets\n",
      "[I 2024-01-30 23:15:26,087] Trial 203 finished with value: 1.0 and parameters: {'batchsize': 32, 'brightness_factor': 0.052421294980661275, 'gaussian_noise_factor': 0.0035313609249617082, 'translate_factor': 0.01840549609247884, 'num_layers': 4, 'layer_0': 'Conv2D', 'layer_0_conv2d_filters': 8, 'layer_0_conv2d_fsize': 4, 'layer_0_conv2d_ssize': 2, 'activation_0': 'linear', 'layer_1': 'Conv2D', 'layer_1_conv2d_filters': 16, 'layer_1_conv2d_fsize': 4, 'layer_1_conv2d_ssize': 1, 'activation_1': 'relu', 'layer_2': 'Conv2D', 'layer_2_conv2d_filters': 24, 'layer_2_conv2d_fsize': 8, 'layer_2_conv2d_ssize': 1, 'activation_2': 'relu', 'layer_3': 'Depthwise2D', 'layer_3_dwconv2d_fsize': 16, 'layer_3_dwconv2d_ssize': 4, 'activation_3': 'linear', 'output_dropout': 0.5102916541638218, 'lr_inicial': 0.001127793866979869}. Best is trial 103 with value: 1.0.\n"
     ]
    },
    {
     "name": "stdout",
     "output_type": "stream",
     "text": [
      "INFO:tensorflow:Assets written to: saved_models/exp4_with_aug/best_model_t204/assets\n"
     ]
    },
    {
     "name": "stderr",
     "output_type": "stream",
     "text": [
      "INFO:tensorflow:Assets written to: saved_models/exp4_with_aug/best_model_t204/assets\n",
      "[I 2024-01-30 23:16:06,048] Trial 204 finished with value: 1.0 and parameters: {'batchsize': 32, 'brightness_factor': 0.06085566637386435, 'gaussian_noise_factor': 0.003911737763491749, 'translate_factor': 0.018099747726754423, 'num_layers': 4, 'layer_0': 'Conv2D', 'layer_0_conv2d_filters': 8, 'layer_0_conv2d_fsize': 4, 'layer_0_conv2d_ssize': 2, 'activation_0': 'linear', 'layer_1': 'Conv2D', 'layer_1_conv2d_filters': 16, 'layer_1_conv2d_fsize': 4, 'layer_1_conv2d_ssize': 1, 'activation_1': 'relu', 'layer_2': 'Conv2D', 'layer_2_conv2d_filters': 24, 'layer_2_conv2d_fsize': 8, 'layer_2_conv2d_ssize': 1, 'activation_2': 'relu', 'layer_3': 'Depthwise2D', 'layer_3_dwconv2d_fsize': 16, 'layer_3_dwconv2d_ssize': 4, 'activation_3': 'linear', 'output_dropout': 0.5056339834835645, 'lr_inicial': 0.0011519912521192103}. Best is trial 103 with value: 1.0.\n"
     ]
    },
    {
     "name": "stdout",
     "output_type": "stream",
     "text": [
      "INFO:tensorflow:Assets written to: saved_models/exp4_with_aug/best_model_t205/assets\n"
     ]
    },
    {
     "name": "stderr",
     "output_type": "stream",
     "text": [
      "INFO:tensorflow:Assets written to: saved_models/exp4_with_aug/best_model_t205/assets\n",
      "[I 2024-01-30 23:16:47,221] Trial 205 finished with value: 0.9800000190734863 and parameters: {'batchsize': 32, 'brightness_factor': 0.061014012745574074, 'gaussian_noise_factor': 0.005024832066379457, 'translate_factor': 0.019169170421925192, 'num_layers': 4, 'layer_0': 'Conv2D', 'layer_0_conv2d_filters': 8, 'layer_0_conv2d_fsize': 4, 'layer_0_conv2d_ssize': 2, 'activation_0': 'linear', 'layer_1': 'Conv2D', 'layer_1_conv2d_filters': 16, 'layer_1_conv2d_fsize': 4, 'layer_1_conv2d_ssize': 1, 'activation_1': 'relu', 'layer_2': 'Conv2D', 'layer_2_conv2d_filters': 24, 'layer_2_conv2d_fsize': 5, 'layer_2_conv2d_ssize': 1, 'activation_2': 'relu', 'layer_3': 'Depthwise2D', 'layer_3_dwconv2d_fsize': 16, 'layer_3_dwconv2d_ssize': 4, 'activation_3': 'linear', 'output_dropout': 0.5007543237657657, 'lr_inicial': 0.0013833325064265957}. Best is trial 103 with value: 1.0.\n"
     ]
    },
    {
     "name": "stdout",
     "output_type": "stream",
     "text": [
      "INFO:tensorflow:Assets written to: saved_models/exp4_with_aug/best_model_t206/assets\n"
     ]
    },
    {
     "name": "stderr",
     "output_type": "stream",
     "text": [
      "INFO:tensorflow:Assets written to: saved_models/exp4_with_aug/best_model_t206/assets\n",
      "[I 2024-01-30 23:17:17,154] Trial 206 finished with value: 0.9800000190734863 and parameters: {'batchsize': 32, 'brightness_factor': 0.0531489258292603, 'gaussian_noise_factor': 0.0031071352464113067, 'translate_factor': 0.023906086659967678, 'num_layers': 4, 'layer_0': 'Conv2D', 'layer_0_conv2d_filters': 8, 'layer_0_conv2d_fsize': 4, 'layer_0_conv2d_ssize': 2, 'activation_0': 'linear', 'layer_1': 'Conv2D', 'layer_1_conv2d_filters': 16, 'layer_1_conv2d_fsize': 4, 'layer_1_conv2d_ssize': 1, 'activation_1': 'relu', 'layer_2': 'Conv2D', 'layer_2_conv2d_filters': 24, 'layer_2_conv2d_fsize': 3, 'layer_2_conv2d_ssize': 1, 'activation_2': 'relu', 'layer_3': 'Depthwise2D', 'layer_3_dwconv2d_fsize': 8, 'layer_3_dwconv2d_ssize': 4, 'activation_3': 'linear', 'output_dropout': 0.5040835902078112, 'lr_inicial': 0.0010032832758830866}. Best is trial 103 with value: 1.0.\n"
     ]
    },
    {
     "name": "stdout",
     "output_type": "stream",
     "text": [
      "INFO:tensorflow:Assets written to: saved_models/exp4_with_aug/best_model_t207/assets\n"
     ]
    },
    {
     "name": "stderr",
     "output_type": "stream",
     "text": [
      "INFO:tensorflow:Assets written to: saved_models/exp4_with_aug/best_model_t207/assets\n",
      "[I 2024-01-30 23:17:51,501] Trial 207 finished with value: 0.9399999976158142 and parameters: {'batchsize': 32, 'brightness_factor': 0.06813952194199016, 'gaussian_noise_factor': 0.02528062561015471, 'translate_factor': 0.017829189193368816, 'num_layers': 4, 'layer_0': 'Conv2D', 'layer_0_conv2d_filters': 8, 'layer_0_conv2d_fsize': 4, 'layer_0_conv2d_ssize': 2, 'activation_0': 'linear', 'layer_1': 'Conv2D', 'layer_1_conv2d_filters': 16, 'layer_1_conv2d_fsize': 4, 'layer_1_conv2d_ssize': 1, 'activation_1': 'relu', 'layer_2': 'Pointwise2D', 'layer_2_pwconv2d_filters': 16, 'layer_2_pwconv2d_ssize': 1, 'activation_2': 'tanh', 'layer_3': 'Depthwise2D', 'layer_3_dwconv2d_fsize': 16, 'layer_3_dwconv2d_ssize': 4, 'activation_3': 'linear', 'output_dropout': 0.5290007838371702, 'lr_inicial': 0.0009221747504325836}. Best is trial 103 with value: 1.0.\n"
     ]
    },
    {
     "name": "stdout",
     "output_type": "stream",
     "text": [
      "INFO:tensorflow:Assets written to: saved_models/exp4_with_aug/best_model_t208/assets\n"
     ]
    },
    {
     "name": "stderr",
     "output_type": "stream",
     "text": [
      "INFO:tensorflow:Assets written to: saved_models/exp4_with_aug/best_model_t208/assets\n",
      "[I 2024-01-30 23:18:49,998] Trial 208 finished with value: 1.0 and parameters: {'batchsize': 32, 'brightness_factor': 0.06009234396822561, 'gaussian_noise_factor': 0.003136784516562985, 'translate_factor': 0.015134308608870068, 'num_layers': 4, 'layer_0': 'Conv2D', 'layer_0_conv2d_filters': 8, 'layer_0_conv2d_fsize': 4, 'layer_0_conv2d_ssize': 2, 'activation_0': 'linear', 'layer_1': 'Conv2D', 'layer_1_conv2d_filters': 16, 'layer_1_conv2d_fsize': 3, 'layer_1_conv2d_ssize': 1, 'activation_1': 'relu', 'layer_2': 'Conv2D', 'layer_2_conv2d_filters': 24, 'layer_2_conv2d_fsize': 8, 'layer_2_conv2d_ssize': 1, 'activation_2': 'relu', 'layer_3': 'Conv2D', 'layer_3_conv2d_filters': 32, 'layer_3_conv2d_fsize': 5, 'layer_3_conv2d_ssize': 2, 'activation_3': 'relu', 'output_dropout': 0.5352444873068988, 'lr_inicial': 0.0012428328675483614}. Best is trial 103 with value: 1.0.\n"
     ]
    },
    {
     "name": "stdout",
     "output_type": "stream",
     "text": [
      "INFO:tensorflow:Assets written to: saved_models/exp4_with_aug/best_model_t209/assets\n"
     ]
    },
    {
     "name": "stderr",
     "output_type": "stream",
     "text": [
      "INFO:tensorflow:Assets written to: saved_models/exp4_with_aug/best_model_t209/assets\n",
      "[I 2024-01-30 23:19:10,351] Trial 209 finished with value: 0.9399999976158142 and parameters: {'batchsize': 32, 'brightness_factor': 0.07246828943401991, 'gaussian_noise_factor': 0.0029027993447976017, 'translate_factor': 0.13886657965004218, 'num_layers': 4, 'layer_0': 'Conv2D', 'layer_0_conv2d_filters': 8, 'layer_0_conv2d_fsize': 4, 'layer_0_conv2d_ssize': 2, 'activation_0': 'relu', 'layer_1': 'Conv2D', 'layer_1_conv2d_filters': 16, 'layer_1_conv2d_fsize': 3, 'layer_1_conv2d_ssize': 1, 'activation_1': 'relu', 'layer_2': 'Depthwise2D', 'layer_2_dwconv2d_fsize': 3, 'layer_2_dwconv2d_ssize': 4, 'activation_2': 'relu', 'layer_3': 'Conv2D', 'layer_3_conv2d_filters': 32, 'layer_3_conv2d_fsize': 5, 'layer_3_conv2d_ssize': 2, 'activation_3': 'relu', 'output_dropout': 0.5372275949494469, 'lr_inicial': 0.0013292184386582899}. Best is trial 103 with value: 1.0.\n"
     ]
    },
    {
     "name": "stdout",
     "output_type": "stream",
     "text": [
      "INFO:tensorflow:Assets written to: saved_models/exp4_with_aug/best_model_t210/assets\n"
     ]
    },
    {
     "name": "stderr",
     "output_type": "stream",
     "text": [
      "INFO:tensorflow:Assets written to: saved_models/exp4_with_aug/best_model_t210/assets\n",
      "[I 2024-01-30 23:20:19,221] Trial 210 finished with value: 0.9200000166893005 and parameters: {'batchsize': 32, 'brightness_factor': 0.05563471288506605, 'gaussian_noise_factor': 0.0003040352592755158, 'translate_factor': 0.014017508745767168, 'num_layers': 4, 'layer_0': 'Conv2D', 'layer_0_conv2d_filters': 12, 'layer_0_conv2d_fsize': 4, 'layer_0_conv2d_ssize': 2, 'activation_0': 'linear', 'layer_1': 'Conv2D', 'layer_1_conv2d_filters': 16, 'layer_1_conv2d_fsize': 3, 'layer_1_conv2d_ssize': 1, 'activation_1': 'tanh', 'layer_2': 'Conv2D', 'layer_2_conv2d_filters': 24, 'layer_2_conv2d_fsize': 8, 'layer_2_conv2d_ssize': 1, 'activation_2': 'relu', 'layer_3': 'Conv2D', 'layer_3_conv2d_filters': 24, 'layer_3_conv2d_fsize': 5, 'layer_3_conv2d_ssize': 1, 'activation_3': 'relu', 'output_dropout': 0.5232438226728715, 'lr_inicial': 0.0012551310507912057}. Best is trial 103 with value: 1.0.\n"
     ]
    },
    {
     "name": "stdout",
     "output_type": "stream",
     "text": [
      "INFO:tensorflow:Assets written to: saved_models/exp4_with_aug/best_model_t211/assets\n"
     ]
    },
    {
     "name": "stderr",
     "output_type": "stream",
     "text": [
      "INFO:tensorflow:Assets written to: saved_models/exp4_with_aug/best_model_t211/assets\n",
      "[I 2024-01-30 23:21:07,201] Trial 211 finished with value: 0.9800000190734863 and parameters: {'batchsize': 32, 'brightness_factor': 0.060608894973884206, 'gaussian_noise_factor': 0.0062094881894352565, 'translate_factor': 0.021320705296750085, 'num_layers': 4, 'layer_0': 'Conv2D', 'layer_0_conv2d_filters': 8, 'layer_0_conv2d_fsize': 4, 'layer_0_conv2d_ssize': 2, 'activation_0': 'linear', 'layer_1': 'Conv2D', 'layer_1_conv2d_filters': 16, 'layer_1_conv2d_fsize': 3, 'layer_1_conv2d_ssize': 1, 'activation_1': 'relu', 'layer_2': 'Conv2D', 'layer_2_conv2d_filters': 20, 'layer_2_conv2d_fsize': 8, 'layer_2_conv2d_ssize': 1, 'activation_2': 'relu', 'layer_3': 'Conv2D', 'layer_3_conv2d_filters': 28, 'layer_3_conv2d_fsize': 5, 'layer_3_conv2d_ssize': 3, 'activation_3': 'relu', 'output_dropout': 0.5347909991735378, 'lr_inicial': 0.001181951125211698}. Best is trial 103 with value: 1.0.\n"
     ]
    },
    {
     "name": "stdout",
     "output_type": "stream",
     "text": [
      "INFO:tensorflow:Assets written to: saved_models/exp4_with_aug/best_model_t212/assets\n"
     ]
    },
    {
     "name": "stderr",
     "output_type": "stream",
     "text": [
      "INFO:tensorflow:Assets written to: saved_models/exp4_with_aug/best_model_t212/assets\n",
      "[I 2024-01-30 23:21:44,683] Trial 212 finished with value: 0.9800000190734863 and parameters: {'batchsize': 32, 'brightness_factor': 0.05758064126806568, 'gaussian_noise_factor': 0.012948573542031657, 'translate_factor': 0.017504651763202976, 'num_layers': 4, 'layer_0': 'Conv2D', 'layer_0_conv2d_filters': 8, 'layer_0_conv2d_fsize': 4, 'layer_0_conv2d_ssize': 2, 'activation_0': 'linear', 'layer_1': 'Conv2D', 'layer_1_conv2d_filters': 12, 'layer_1_conv2d_fsize': 4, 'layer_1_conv2d_ssize': 1, 'activation_1': 'relu', 'layer_2': 'Conv2D', 'layer_2_conv2d_filters': 24, 'layer_2_conv2d_fsize': 8, 'layer_2_conv2d_ssize': 1, 'activation_2': 'relu', 'layer_3': 'Conv2D', 'layer_3_conv2d_filters': 12, 'layer_3_conv2d_fsize': 5, 'layer_3_conv2d_ssize': 2, 'activation_3': 'relu', 'output_dropout': 0.5394205458143285, 'lr_inicial': 0.0010190822566034398}. Best is trial 103 with value: 1.0.\n"
     ]
    },
    {
     "name": "stdout",
     "output_type": "stream",
     "text": [
      "INFO:tensorflow:Assets written to: saved_models/exp4_with_aug/best_model_t213/assets\n"
     ]
    },
    {
     "name": "stderr",
     "output_type": "stream",
     "text": [
      "INFO:tensorflow:Assets written to: saved_models/exp4_with_aug/best_model_t213/assets\n",
      "[I 2024-01-30 23:22:24,784] Trial 213 finished with value: 1.0 and parameters: {'batchsize': 32, 'brightness_factor': 0.06223451494796931, 'gaussian_noise_factor': 0.0040463462502125895, 'translate_factor': 0.026381090336392733, 'num_layers': 4, 'layer_0': 'Conv2D', 'layer_0_conv2d_filters': 8, 'layer_0_conv2d_fsize': 4, 'layer_0_conv2d_ssize': 2, 'activation_0': 'linear', 'layer_1': 'Conv2D', 'layer_1_conv2d_filters': 16, 'layer_1_conv2d_fsize': 4, 'layer_1_conv2d_ssize': 1, 'activation_1': 'relu', 'layer_2': 'Conv2D', 'layer_2_conv2d_filters': 24, 'layer_2_conv2d_fsize': 8, 'layer_2_conv2d_ssize': 1, 'activation_2': 'relu', 'layer_3': 'Depthwise2D', 'layer_3_dwconv2d_fsize': 16, 'layer_3_dwconv2d_ssize': 4, 'activation_3': 'linear', 'output_dropout': 0.510466319025953, 'lr_inicial': 0.0012237703956371805}. Best is trial 103 with value: 1.0.\n"
     ]
    },
    {
     "name": "stdout",
     "output_type": "stream",
     "text": [
      "INFO:tensorflow:Assets written to: saved_models/exp4_with_aug/best_model_t214/assets\n"
     ]
    },
    {
     "name": "stderr",
     "output_type": "stream",
     "text": [
      "INFO:tensorflow:Assets written to: saved_models/exp4_with_aug/best_model_t214/assets\n",
      "[I 2024-01-30 23:23:12,206] Trial 214 finished with value: 0.9800000190734863 and parameters: {'batchsize': 32, 'brightness_factor': 0.06474018609570835, 'gaussian_noise_factor': 0.004377791033609373, 'translate_factor': 0.027064659231715308, 'num_layers': 4, 'layer_0': 'Conv2D', 'layer_0_conv2d_filters': 8, 'layer_0_conv2d_fsize': 4, 'layer_0_conv2d_ssize': 2, 'activation_0': 'linear', 'layer_1': 'Conv2D', 'layer_1_conv2d_filters': 16, 'layer_1_conv2d_fsize': 3, 'layer_1_conv2d_ssize': 1, 'activation_1': 'relu', 'layer_2': 'Conv2D', 'layer_2_conv2d_filters': 24, 'layer_2_conv2d_fsize': 8, 'layer_2_conv2d_ssize': 1, 'activation_2': 'relu', 'layer_3': 'Pointwise2D', 'layer_3_pwconv2d_filters': 24, 'layer_3_pwconv2d_ssize': 3, 'activation_3': 'linear', 'output_dropout': 0.5107346558337399, 'lr_inicial': 0.001223102505390999}. Best is trial 103 with value: 1.0.\n"
     ]
    },
    {
     "name": "stdout",
     "output_type": "stream",
     "text": [
      "INFO:tensorflow:Assets written to: saved_models/exp4_with_aug/best_model_t215/assets\n"
     ]
    },
    {
     "name": "stderr",
     "output_type": "stream",
     "text": [
      "INFO:tensorflow:Assets written to: saved_models/exp4_with_aug/best_model_t215/assets\n",
      "[I 2024-01-30 23:23:25,569] Trial 215 finished with value: 0.7400000095367432 and parameters: {'batchsize': 32, 'brightness_factor': 0.04180499721954638, 'gaussian_noise_factor': 0.0003922088095846426, 'translate_factor': 0.014569163057842779, 'num_layers': 1, 'layer_0': 'Conv2D', 'layer_0_conv2d_filters': 8, 'layer_0_conv2d_fsize': 3, 'layer_0_conv2d_ssize': 11, 'activation_0': 'linear', 'output_dropout': 0.497382848541904, 'lr_inicial': 0.001151417684819587}. Best is trial 103 with value: 1.0.\n"
     ]
    },
    {
     "name": "stdout",
     "output_type": "stream",
     "text": [
      "INFO:tensorflow:Assets written to: saved_models/exp4_with_aug/best_model_t216/assets\n"
     ]
    },
    {
     "name": "stderr",
     "output_type": "stream",
     "text": [
      "INFO:tensorflow:Assets written to: saved_models/exp4_with_aug/best_model_t216/assets\n",
      "[I 2024-01-30 23:24:11,369] Trial 216 finished with value: 0.9800000190734863 and parameters: {'batchsize': 32, 'brightness_factor': 0.05152379622837874, 'gaussian_noise_factor': 0.005616268504774355, 'translate_factor': 0.023483008449702705, 'num_layers': 4, 'layer_0': 'Conv2D', 'layer_0_conv2d_filters': 8, 'layer_0_conv2d_fsize': 4, 'layer_0_conv2d_ssize': 2, 'activation_0': 'linear', 'layer_1': 'Conv2D', 'layer_1_conv2d_filters': 16, 'layer_1_conv2d_fsize': 4, 'layer_1_conv2d_ssize': 1, 'activation_1': 'relu', 'layer_2': 'Conv2D', 'layer_2_conv2d_filters': 24, 'layer_2_conv2d_fsize': 4, 'layer_2_conv2d_ssize': 1, 'activation_2': 'relu', 'layer_3': 'Conv2D', 'layer_3_conv2d_filters': 20, 'layer_3_conv2d_fsize': 16, 'layer_3_conv2d_ssize': 3, 'activation_3': 'linear', 'output_dropout': 0.5101253079392029, 'lr_inicial': 0.0012831582544487663}. Best is trial 103 with value: 1.0.\n"
     ]
    },
    {
     "name": "stdout",
     "output_type": "stream",
     "text": [
      "INFO:tensorflow:Assets written to: saved_models/exp4_with_aug/best_model_t217/assets\n"
     ]
    },
    {
     "name": "stderr",
     "output_type": "stream",
     "text": [
      "INFO:tensorflow:Assets written to: saved_models/exp4_with_aug/best_model_t217/assets\n",
      "[I 2024-01-30 23:24:53,073] Trial 217 finished with value: 0.9800000190734863 and parameters: {'batchsize': 32, 'brightness_factor': 0.06863620794835545, 'gaussian_noise_factor': 0.014843945634561857, 'translate_factor': 0.01638673282976604, 'num_layers': 4, 'layer_0': 'Conv2D', 'layer_0_conv2d_filters': 8, 'layer_0_conv2d_fsize': 4, 'layer_0_conv2d_ssize': 2, 'activation_0': 'linear', 'layer_1': 'Conv2D', 'layer_1_conv2d_filters': 16, 'layer_1_conv2d_fsize': 4, 'layer_1_conv2d_ssize': 1, 'activation_1': 'relu', 'layer_2': 'Conv2D', 'layer_2_conv2d_filters': 24, 'layer_2_conv2d_fsize': 8, 'layer_2_conv2d_ssize': 1, 'activation_2': 'tanh', 'layer_3': 'Depthwise2D', 'layer_3_dwconv2d_fsize': 16, 'layer_3_dwconv2d_ssize': 4, 'activation_3': 'linear', 'output_dropout': 0.5158571663132308, 'lr_inicial': 0.0011448491042017528}. Best is trial 103 with value: 1.0.\n"
     ]
    },
    {
     "name": "stdout",
     "output_type": "stream",
     "text": [
      "INFO:tensorflow:Assets written to: saved_models/exp4_with_aug/best_model_t218/assets\n"
     ]
    },
    {
     "name": "stderr",
     "output_type": "stream",
     "text": [
      "INFO:tensorflow:Assets written to: saved_models/exp4_with_aug/best_model_t218/assets\n",
      "[I 2024-01-30 23:25:45,771] Trial 218 finished with value: 0.6800000071525574 and parameters: {'batchsize': 32, 'brightness_factor': 0.05398325069373874, 'gaussian_noise_factor': 0.02113742305182273, 'translate_factor': 0.024871445888201213, 'num_layers': 4, 'layer_0': 'Conv2D', 'layer_0_conv2d_filters': 8, 'layer_0_conv2d_fsize': 16, 'layer_0_conv2d_ssize': 2, 'activation_0': 'linear', 'layer_1': 'Conv2D', 'layer_1_conv2d_filters': 16, 'layer_1_conv2d_fsize': 4, 'layer_1_conv2d_ssize': 1, 'activation_1': 'relu', 'layer_2': 'Conv2D', 'layer_2_conv2d_filters': 24, 'layer_2_conv2d_fsize': 8, 'layer_2_conv2d_ssize': 1, 'activation_2': 'relu', 'layer_3': 'Depthwise2D', 'layer_3_dwconv2d_fsize': 16, 'layer_3_dwconv2d_ssize': 4, 'activation_3': 'linear', 'output_dropout': 0.5302362757569228, 'lr_inicial': 0.0010857199186747367}. Best is trial 103 with value: 1.0.\n"
     ]
    },
    {
     "name": "stdout",
     "output_type": "stream",
     "text": [
      "INFO:tensorflow:Assets written to: saved_models/exp4_with_aug/best_model_t219/assets\n"
     ]
    },
    {
     "name": "stderr",
     "output_type": "stream",
     "text": [
      "INFO:tensorflow:Assets written to: saved_models/exp4_with_aug/best_model_t219/assets\n",
      "[I 2024-01-30 23:26:24,890] Trial 219 finished with value: 0.9599999785423279 and parameters: {'batchsize': 32, 'brightness_factor': 0.06266798239767325, 'gaussian_noise_factor': 0.010465734887064168, 'translate_factor': 0.007805293378009214, 'num_layers': 4, 'layer_0': 'Conv2D', 'layer_0_conv2d_filters': 4, 'layer_0_conv2d_fsize': 4, 'layer_0_conv2d_ssize': 2, 'activation_0': 'linear', 'layer_1': 'Conv2D', 'layer_1_conv2d_filters': 16, 'layer_1_conv2d_fsize': 4, 'layer_1_conv2d_ssize': 1, 'activation_1': 'relu', 'layer_2': 'Conv2D', 'layer_2_conv2d_filters': 20, 'layer_2_conv2d_fsize': 8, 'layer_2_conv2d_ssize': 1, 'activation_2': 'relu', 'layer_3': 'Depthwise2D', 'layer_3_dwconv2d_fsize': 16, 'layer_3_dwconv2d_ssize': 4, 'activation_3': 'linear', 'output_dropout': 0.5227996064700493, 'lr_inicial': 0.001417737097203328}. Best is trial 103 with value: 1.0.\n"
     ]
    },
    {
     "name": "stdout",
     "output_type": "stream",
     "text": [
      "INFO:tensorflow:Assets written to: saved_models/exp4_with_aug/best_model_t220/assets\n"
     ]
    },
    {
     "name": "stderr",
     "output_type": "stream",
     "text": [
      "INFO:tensorflow:Assets written to: saved_models/exp4_with_aug/best_model_t220/assets\n",
      "[I 2024-01-30 23:28:04,313] Trial 220 finished with value: 0.9800000190734863 and parameters: {'batchsize': 32, 'brightness_factor': 0.07496957541997668, 'gaussian_noise_factor': 0.006904003189705514, 'translate_factor': 0.019454247402784477, 'num_layers': 4, 'layer_0': 'Conv2D', 'layer_0_conv2d_filters': 8, 'layer_0_conv2d_fsize': 4, 'layer_0_conv2d_ssize': 2, 'activation_0': 'linear', 'layer_1': 'Conv2D', 'layer_1_conv2d_filters': 20, 'layer_1_conv2d_fsize': 8, 'layer_1_conv2d_ssize': 1, 'activation_1': 'relu', 'layer_2': 'Conv2D', 'layer_2_conv2d_filters': 24, 'layer_2_conv2d_fsize': 8, 'layer_2_conv2d_ssize': 1, 'activation_2': 'relu', 'layer_3': 'Depthwise2D', 'layer_3_dwconv2d_fsize': 16, 'layer_3_dwconv2d_ssize': 4, 'activation_3': 'relu', 'output_dropout': 0.5010398473116653, 'lr_inicial': 0.0012134416469429346}. Best is trial 103 with value: 1.0.\n"
     ]
    },
    {
     "name": "stdout",
     "output_type": "stream",
     "text": [
      "INFO:tensorflow:Assets written to: saved_models/exp4_with_aug/best_model_t221/assets\n"
     ]
    },
    {
     "name": "stderr",
     "output_type": "stream",
     "text": [
      "INFO:tensorflow:Assets written to: saved_models/exp4_with_aug/best_model_t221/assets\n",
      "[I 2024-01-30 23:28:37,165] Trial 221 finished with value: 0.9800000190734863 and parameters: {'batchsize': 32, 'brightness_factor': 0.059454018263210895, 'gaussian_noise_factor': 0.010854936263018495, 'translate_factor': 0.020541602679395785, 'num_layers': 4, 'layer_0': 'Conv2D', 'layer_0_conv2d_filters': 8, 'layer_0_conv2d_fsize': 4, 'layer_0_conv2d_ssize': 2, 'activation_0': 'linear', 'layer_1': 'Conv2D', 'layer_1_conv2d_filters': 8, 'layer_1_conv2d_fsize': 4, 'layer_1_conv2d_ssize': 1, 'activation_1': 'relu', 'layer_2': 'Conv2D', 'layer_2_conv2d_filters': 16, 'layer_2_conv2d_fsize': 8, 'layer_2_conv2d_ssize': 1, 'activation_2': 'relu', 'layer_3': 'Depthwise2D', 'layer_3_dwconv2d_fsize': 16, 'layer_3_dwconv2d_ssize': 4, 'activation_3': 'tanh', 'output_dropout': 0.5063147095829442, 'lr_inicial': 0.0009599157271877509}. Best is trial 103 with value: 1.0.\n"
     ]
    },
    {
     "name": "stdout",
     "output_type": "stream",
     "text": [
      "INFO:tensorflow:Assets written to: saved_models/exp4_with_aug/best_model_t222/assets\n"
     ]
    },
    {
     "name": "stderr",
     "output_type": "stream",
     "text": [
      "INFO:tensorflow:Assets written to: saved_models/exp4_with_aug/best_model_t222/assets\n",
      "[I 2024-01-30 23:29:13,641] Trial 222 finished with value: 0.9599999785423279 and parameters: {'batchsize': 32, 'brightness_factor': 0.05543419391315133, 'gaussian_noise_factor': 0.0036836752277070693, 'translate_factor': 0.013409262261520285, 'num_layers': 4, 'layer_0': 'Conv2D', 'layer_0_conv2d_filters': 8, 'layer_0_conv2d_fsize': 4, 'layer_0_conv2d_ssize': 2, 'activation_0': 'linear', 'layer_1': 'Conv2D', 'layer_1_conv2d_filters': 16, 'layer_1_conv2d_fsize': 4, 'layer_1_conv2d_ssize': 1, 'activation_1': 'relu', 'layer_2': 'Conv2D', 'layer_2_conv2d_filters': 24, 'layer_2_conv2d_fsize': 8, 'layer_2_conv2d_ssize': 1, 'activation_2': 'relu', 'layer_3': 'Depthwise2D', 'layer_3_dwconv2d_fsize': 8, 'layer_3_dwconv2d_ssize': 4, 'activation_3': 'linear', 'output_dropout': 0.5184524444804678, 'lr_inicial': 0.0010355416417429748}. Best is trial 103 with value: 1.0.\n"
     ]
    },
    {
     "name": "stdout",
     "output_type": "stream",
     "text": [
      "INFO:tensorflow:Assets written to: saved_models/exp4_with_aug/best_model_t223/assets\n"
     ]
    },
    {
     "name": "stderr",
     "output_type": "stream",
     "text": [
      "INFO:tensorflow:Assets written to: saved_models/exp4_with_aug/best_model_t223/assets\n",
      "[I 2024-01-30 23:29:57,600] Trial 223 finished with value: 1.0 and parameters: {'batchsize': 32, 'brightness_factor': 0.06146946042936124, 'gaussian_noise_factor': 0.0076976235937593895, 'translate_factor': 0.026827976165900325, 'num_layers': 4, 'layer_0': 'Conv2D', 'layer_0_conv2d_filters': 8, 'layer_0_conv2d_fsize': 4, 'layer_0_conv2d_ssize': 2, 'activation_0': 'linear', 'layer_1': 'Conv2D', 'layer_1_conv2d_filters': 16, 'layer_1_conv2d_fsize': 4, 'layer_1_conv2d_ssize': 1, 'activation_1': 'relu', 'layer_2': 'Conv2D', 'layer_2_conv2d_filters': 24, 'layer_2_conv2d_fsize': 8, 'layer_2_conv2d_ssize': 1, 'activation_2': 'relu', 'layer_3': 'Depthwise2D', 'layer_3_dwconv2d_fsize': 16, 'layer_3_dwconv2d_ssize': 4, 'activation_3': 'linear', 'output_dropout': 0.38663421621562394, 'lr_inicial': 0.0008842455770472078}. Best is trial 103 with value: 1.0.\n"
     ]
    },
    {
     "name": "stdout",
     "output_type": "stream",
     "text": [
      "INFO:tensorflow:Assets written to: saved_models/exp4_with_aug/best_model_t224/assets\n"
     ]
    },
    {
     "name": "stderr",
     "output_type": "stream",
     "text": [
      "INFO:tensorflow:Assets written to: saved_models/exp4_with_aug/best_model_t224/assets\n",
      "[I 2024-01-30 23:30:37,630] Trial 224 finished with value: 0.9800000190734863 and parameters: {'batchsize': 32, 'brightness_factor': 0.06845863769266702, 'gaussian_noise_factor': 1.7635519184192386e-05, 'translate_factor': 0.026321660706403946, 'num_layers': 4, 'layer_0': 'Conv2D', 'layer_0_conv2d_filters': 8, 'layer_0_conv2d_fsize': 4, 'layer_0_conv2d_ssize': 2, 'activation_0': 'linear', 'layer_1': 'Conv2D', 'layer_1_conv2d_filters': 16, 'layer_1_conv2d_fsize': 4, 'layer_1_conv2d_ssize': 1, 'activation_1': 'relu', 'layer_2': 'Conv2D', 'layer_2_conv2d_filters': 24, 'layer_2_conv2d_fsize': 8, 'layer_2_conv2d_ssize': 1, 'activation_2': 'relu', 'layer_3': 'Depthwise2D', 'layer_3_dwconv2d_fsize': 16, 'layer_3_dwconv2d_ssize': 4, 'activation_3': 'linear', 'output_dropout': 0.5301582394937918, 'lr_inicial': 0.0009248138031526415}. Best is trial 103 with value: 1.0.\n"
     ]
    },
    {
     "name": "stdout",
     "output_type": "stream",
     "text": [
      "INFO:tensorflow:Assets written to: saved_models/exp4_with_aug/best_model_t225/assets\n"
     ]
    },
    {
     "name": "stderr",
     "output_type": "stream",
     "text": [
      "INFO:tensorflow:Assets written to: saved_models/exp4_with_aug/best_model_t225/assets\n",
      "[I 2024-01-30 23:31:17,644] Trial 225 finished with value: 1.0 and parameters: {'batchsize': 32, 'brightness_factor': 0.05166265190779849, 'gaussian_noise_factor': 0.016723685922114838, 'translate_factor': 0.029874518388924423, 'num_layers': 4, 'layer_0': 'Conv2D', 'layer_0_conv2d_filters': 8, 'layer_0_conv2d_fsize': 4, 'layer_0_conv2d_ssize': 2, 'activation_0': 'linear', 'layer_1': 'Conv2D', 'layer_1_conv2d_filters': 16, 'layer_1_conv2d_fsize': 4, 'layer_1_conv2d_ssize': 1, 'activation_1': 'relu', 'layer_2': 'Conv2D', 'layer_2_conv2d_filters': 24, 'layer_2_conv2d_fsize': 8, 'layer_2_conv2d_ssize': 1, 'activation_2': 'relu', 'layer_3': 'Depthwise2D', 'layer_3_dwconv2d_fsize': 16, 'layer_3_dwconv2d_ssize': 4, 'activation_3': 'linear', 'output_dropout': 0.35354363706217445, 'lr_inicial': 0.0011279512385255121}. Best is trial 103 with value: 1.0.\n"
     ]
    },
    {
     "name": "stdout",
     "output_type": "stream",
     "text": [
      "INFO:tensorflow:Assets written to: saved_models/exp4_with_aug/best_model_t226/assets\n"
     ]
    },
    {
     "name": "stderr",
     "output_type": "stream",
     "text": [
      "INFO:tensorflow:Assets written to: saved_models/exp4_with_aug/best_model_t226/assets\n",
      "[I 2024-01-30 23:31:57,635] Trial 226 finished with value: 1.0 and parameters: {'batchsize': 32, 'brightness_factor': 0.05079822769712183, 'gaussian_noise_factor': 0.016919472677667344, 'translate_factor': 0.027986562634032222, 'num_layers': 4, 'layer_0': 'Conv2D', 'layer_0_conv2d_filters': 8, 'layer_0_conv2d_fsize': 4, 'layer_0_conv2d_ssize': 2, 'activation_0': 'linear', 'layer_1': 'Conv2D', 'layer_1_conv2d_filters': 16, 'layer_1_conv2d_fsize': 4, 'layer_1_conv2d_ssize': 1, 'activation_1': 'relu', 'layer_2': 'Conv2D', 'layer_2_conv2d_filters': 24, 'layer_2_conv2d_fsize': 8, 'layer_2_conv2d_ssize': 1, 'activation_2': 'relu', 'layer_3': 'Depthwise2D', 'layer_3_dwconv2d_fsize': 16, 'layer_3_dwconv2d_ssize': 4, 'activation_3': 'linear', 'output_dropout': 0.3733700640671047, 'lr_inicial': 0.0011352621945568458}. Best is trial 103 with value: 1.0.\n"
     ]
    },
    {
     "name": "stdout",
     "output_type": "stream",
     "text": [
      "INFO:tensorflow:Assets written to: saved_models/exp4_with_aug/best_model_t227/assets\n"
     ]
    },
    {
     "name": "stderr",
     "output_type": "stream",
     "text": [
      "INFO:tensorflow:Assets written to: saved_models/exp4_with_aug/best_model_t227/assets\n",
      "[I 2024-01-30 23:32:37,669] Trial 227 finished with value: 0.9800000190734863 and parameters: {'batchsize': 32, 'brightness_factor': 0.05050283601547022, 'gaussian_noise_factor': 0.016618142820426687, 'translate_factor': 0.017031507110560506, 'num_layers': 4, 'layer_0': 'Conv2D', 'layer_0_conv2d_filters': 8, 'layer_0_conv2d_fsize': 4, 'layer_0_conv2d_ssize': 2, 'activation_0': 'linear', 'layer_1': 'Conv2D', 'layer_1_conv2d_filters': 16, 'layer_1_conv2d_fsize': 4, 'layer_1_conv2d_ssize': 1, 'activation_1': 'relu', 'layer_2': 'Conv2D', 'layer_2_conv2d_filters': 24, 'layer_2_conv2d_fsize': 8, 'layer_2_conv2d_ssize': 1, 'activation_2': 'relu', 'layer_3': 'Depthwise2D', 'layer_3_dwconv2d_fsize': 16, 'layer_3_dwconv2d_ssize': 4, 'activation_3': 'linear', 'output_dropout': 0.36964723860734433, 'lr_inicial': 0.0011463780707449873}. Best is trial 103 with value: 1.0.\n"
     ]
    },
    {
     "name": "stdout",
     "output_type": "stream",
     "text": [
      "INFO:tensorflow:Assets written to: saved_models/exp4_with_aug/best_model_t228/assets\n"
     ]
    },
    {
     "name": "stderr",
     "output_type": "stream",
     "text": [
      "INFO:tensorflow:Assets written to: saved_models/exp4_with_aug/best_model_t228/assets\n",
      "[I 2024-01-30 23:33:30,568] Trial 228 finished with value: 0.9599999785423279 and parameters: {'batchsize': 32, 'brightness_factor': 0.053037748040277305, 'gaussian_noise_factor': 0.019307641270873786, 'translate_factor': 0.02741946763906961, 'num_layers': 4, 'layer_0': 'Conv2D', 'layer_0_conv2d_filters': 8, 'layer_0_conv2d_fsize': 5, 'layer_0_conv2d_ssize': 2, 'activation_0': 'linear', 'layer_1': 'Conv2D', 'layer_1_conv2d_filters': 16, 'layer_1_conv2d_fsize': 4, 'layer_1_conv2d_ssize': 1, 'activation_1': 'relu', 'layer_2': 'Conv2D', 'layer_2_conv2d_filters': 24, 'layer_2_conv2d_fsize': 8, 'layer_2_conv2d_ssize': 1, 'activation_2': 'relu', 'layer_3': 'Depthwise2D', 'layer_3_dwconv2d_fsize': 16, 'layer_3_dwconv2d_ssize': 4, 'activation_3': 'linear', 'output_dropout': 0.5222677976543832, 'lr_inicial': 0.001339472223955601}. Best is trial 103 with value: 1.0.\n"
     ]
    },
    {
     "name": "stdout",
     "output_type": "stream",
     "text": [
      "INFO:tensorflow:Assets written to: saved_models/exp4_with_aug/best_model_t229/assets\n"
     ]
    },
    {
     "name": "stderr",
     "output_type": "stream",
     "text": [
      "INFO:tensorflow:Assets written to: saved_models/exp4_with_aug/best_model_t229/assets\n",
      "[I 2024-01-30 23:34:17,846] Trial 229 finished with value: 0.9399999976158142 and parameters: {'batchsize': 96, 'brightness_factor': 0.043985394709835215, 'gaussian_noise_factor': 0.024456223859496917, 'translate_factor': 0.00905004958260122, 'num_layers': 4, 'layer_0': 'Conv2D', 'layer_0_conv2d_filters': 8, 'layer_0_conv2d_fsize': 4, 'layer_0_conv2d_ssize': 2, 'activation_0': 'linear', 'layer_1': 'Conv2D', 'layer_1_conv2d_filters': 16, 'layer_1_conv2d_fsize': 4, 'layer_1_conv2d_ssize': 1, 'activation_1': 'relu', 'layer_2': 'Conv2D', 'layer_2_conv2d_filters': 24, 'layer_2_conv2d_fsize': 8, 'layer_2_conv2d_ssize': 1, 'activation_2': 'relu', 'layer_3': 'Depthwise2D', 'layer_3_dwconv2d_fsize': 16, 'layer_3_dwconv2d_ssize': 4, 'activation_3': 'linear', 'output_dropout': 0.36895576787835327, 'lr_inicial': 0.0012104739829105573}. Best is trial 103 with value: 1.0.\n"
     ]
    },
    {
     "name": "stdout",
     "output_type": "stream",
     "text": [
      "INFO:tensorflow:Assets written to: saved_models/exp4_with_aug/best_model_t230/assets\n"
     ]
    },
    {
     "name": "stderr",
     "output_type": "stream",
     "text": [
      "INFO:tensorflow:Assets written to: saved_models/exp4_with_aug/best_model_t230/assets\n",
      "[I 2024-01-30 23:34:58,341] Trial 230 finished with value: 0.9800000190734863 and parameters: {'batchsize': 32, 'brightness_factor': 0.05009493186941725, 'gaussian_noise_factor': 0.014332758407894414, 'translate_factor': 0.030375879808264748, 'num_layers': 4, 'layer_0': 'Conv2D', 'layer_0_conv2d_filters': 8, 'layer_0_conv2d_fsize': 4, 'layer_0_conv2d_ssize': 2, 'activation_0': 'linear', 'layer_1': 'Conv2D', 'layer_1_conv2d_filters': 16, 'layer_1_conv2d_fsize': 4, 'layer_1_conv2d_ssize': 1, 'activation_1': 'relu', 'layer_2': 'Conv2D', 'layer_2_conv2d_filters': 24, 'layer_2_conv2d_fsize': 8, 'layer_2_conv2d_ssize': 1, 'activation_2': 'relu', 'layer_3': 'Depthwise2D', 'layer_3_dwconv2d_fsize': 16, 'layer_3_dwconv2d_ssize': 4, 'activation_3': 'linear', 'output_dropout': 0.34267568753708577, 'lr_inicial': 0.0012504149374291161}. Best is trial 103 with value: 1.0.\n"
     ]
    },
    {
     "name": "stdout",
     "output_type": "stream",
     "text": [
      "INFO:tensorflow:Assets written to: saved_models/exp4_with_aug/best_model_t231/assets\n"
     ]
    },
    {
     "name": "stderr",
     "output_type": "stream",
     "text": [
      "INFO:tensorflow:Assets written to: saved_models/exp4_with_aug/best_model_t231/assets\n",
      "[I 2024-01-30 23:35:38,294] Trial 231 finished with value: 0.9800000190734863 and parameters: {'batchsize': 32, 'brightness_factor': 0.05698344253603201, 'gaussian_noise_factor': 0.013099439665803493, 'translate_factor': 0.023437538997032274, 'num_layers': 4, 'layer_0': 'Conv2D', 'layer_0_conv2d_filters': 8, 'layer_0_conv2d_fsize': 4, 'layer_0_conv2d_ssize': 2, 'activation_0': 'linear', 'layer_1': 'Conv2D', 'layer_1_conv2d_filters': 16, 'layer_1_conv2d_fsize': 4, 'layer_1_conv2d_ssize': 1, 'activation_1': 'relu', 'layer_2': 'Conv2D', 'layer_2_conv2d_filters': 24, 'layer_2_conv2d_fsize': 8, 'layer_2_conv2d_ssize': 1, 'activation_2': 'relu', 'layer_3': 'Depthwise2D', 'layer_3_dwconv2d_fsize': 16, 'layer_3_dwconv2d_ssize': 4, 'activation_3': 'linear', 'output_dropout': 0.35018482614754454, 'lr_inicial': 0.0011089114991660583}. Best is trial 103 with value: 1.0.\n"
     ]
    },
    {
     "name": "stdout",
     "output_type": "stream",
     "text": [
      "INFO:tensorflow:Assets written to: saved_models/exp4_with_aug/best_model_t232/assets\n"
     ]
    },
    {
     "name": "stderr",
     "output_type": "stream",
     "text": [
      "INFO:tensorflow:Assets written to: saved_models/exp4_with_aug/best_model_t232/assets\n",
      "[I 2024-01-30 23:36:20,550] Trial 232 finished with value: 1.0 and parameters: {'batchsize': 32, 'brightness_factor': 0.047183959579059104, 'gaussian_noise_factor': 0.01912230297744148, 'translate_factor': 0.014814580081079519, 'num_layers': 4, 'layer_0': 'Conv2D', 'layer_0_conv2d_filters': 8, 'layer_0_conv2d_fsize': 4, 'layer_0_conv2d_ssize': 2, 'activation_0': 'linear', 'layer_1': 'Conv2D', 'layer_1_conv2d_filters': 16, 'layer_1_conv2d_fsize': 4, 'layer_1_conv2d_ssize': 1, 'activation_1': 'relu', 'layer_2': 'Conv2D', 'layer_2_conv2d_filters': 24, 'layer_2_conv2d_fsize': 8, 'layer_2_conv2d_ssize': 1, 'activation_2': 'relu', 'layer_3': 'Depthwise2D', 'layer_3_dwconv2d_fsize': 16, 'layer_3_dwconv2d_ssize': 4, 'activation_3': 'linear', 'output_dropout': 0.38490592612787466, 'lr_inicial': 0.0010534640673101102}. Best is trial 103 with value: 1.0.\n"
     ]
    },
    {
     "name": "stdout",
     "output_type": "stream",
     "text": [
      "INFO:tensorflow:Assets written to: saved_models/exp4_with_aug/best_model_t233/assets\n"
     ]
    },
    {
     "name": "stderr",
     "output_type": "stream",
     "text": [
      "INFO:tensorflow:Assets written to: saved_models/exp4_with_aug/best_model_t233/assets\n",
      "[I 2024-01-30 23:37:00,385] Trial 233 finished with value: 1.0 and parameters: {'batchsize': 32, 'brightness_factor': 0.04679879038584982, 'gaussian_noise_factor': 0.019176007455303398, 'translate_factor': 0.01383982759394899, 'num_layers': 4, 'layer_0': 'Conv2D', 'layer_0_conv2d_filters': 8, 'layer_0_conv2d_fsize': 4, 'layer_0_conv2d_ssize': 2, 'activation_0': 'linear', 'layer_1': 'Conv2D', 'layer_1_conv2d_filters': 16, 'layer_1_conv2d_fsize': 4, 'layer_1_conv2d_ssize': 1, 'activation_1': 'linear', 'layer_2': 'Conv2D', 'layer_2_conv2d_filters': 24, 'layer_2_conv2d_fsize': 8, 'layer_2_conv2d_ssize': 1, 'activation_2': 'relu', 'layer_3': 'Depthwise2D', 'layer_3_dwconv2d_fsize': 16, 'layer_3_dwconv2d_ssize': 4, 'activation_3': 'linear', 'output_dropout': 0.3523005156602132, 'lr_inicial': 0.0010217192340984786}. Best is trial 103 with value: 1.0.\n"
     ]
    },
    {
     "name": "stdout",
     "output_type": "stream",
     "text": [
      "INFO:tensorflow:Assets written to: saved_models/exp4_with_aug/best_model_t234/assets\n"
     ]
    },
    {
     "name": "stderr",
     "output_type": "stream",
     "text": [
      "INFO:tensorflow:Assets written to: saved_models/exp4_with_aug/best_model_t234/assets\n",
      "[I 2024-01-30 23:37:40,143] Trial 234 finished with value: 0.8600000143051147 and parameters: {'batchsize': 32, 'brightness_factor': 0.04737414104679714, 'gaussian_noise_factor': 0.01985209928602094, 'translate_factor': 0.014107014269722367, 'num_layers': 4, 'layer_0': 'Conv2D', 'layer_0_conv2d_filters': 8, 'layer_0_conv2d_fsize': 4, 'layer_0_conv2d_ssize': 2, 'activation_0': 'linear', 'layer_1': 'Conv2D', 'layer_1_conv2d_filters': 16, 'layer_1_conv2d_fsize': 4, 'layer_1_conv2d_ssize': 1, 'activation_1': 'linear', 'layer_2': 'Conv2D', 'layer_2_conv2d_filters': 24, 'layer_2_conv2d_fsize': 8, 'layer_2_conv2d_ssize': 1, 'activation_2': 'relu', 'layer_3': 'Depthwise2D', 'layer_3_dwconv2d_fsize': 16, 'layer_3_dwconv2d_ssize': 4, 'activation_3': 'linear', 'output_dropout': 0.3799943857867052, 'lr_inicial': 0.0010198522134657237}. Best is trial 103 with value: 1.0.\n"
     ]
    },
    {
     "name": "stdout",
     "output_type": "stream",
     "text": [
      "INFO:tensorflow:Assets written to: saved_models/exp4_with_aug/best_model_t235/assets\n"
     ]
    },
    {
     "name": "stderr",
     "output_type": "stream",
     "text": [
      "INFO:tensorflow:Assets written to: saved_models/exp4_with_aug/best_model_t235/assets\n",
      "[I 2024-01-30 23:38:28,026] Trial 235 finished with value: 0.9800000190734863 and parameters: {'batchsize': 32, 'brightness_factor': 0.035791405792156845, 'gaussian_noise_factor': 0.017539812213447283, 'translate_factor': 0.10897656031073814, 'num_layers': 4, 'layer_0': 'Conv2D', 'layer_0_conv2d_filters': 8, 'layer_0_conv2d_fsize': 4, 'layer_0_conv2d_ssize': 2, 'activation_0': 'linear', 'layer_1': 'Conv2D', 'layer_1_conv2d_filters': 16, 'layer_1_conv2d_fsize': 4, 'layer_1_conv2d_ssize': 1, 'activation_1': 'linear', 'layer_2': 'Conv2D', 'layer_2_conv2d_filters': 24, 'layer_2_conv2d_fsize': 8, 'layer_2_conv2d_ssize': 1, 'activation_2': 'relu', 'layer_3': 'Depthwise2D', 'layer_3_dwconv2d_fsize': 16, 'layer_3_dwconv2d_ssize': 4, 'activation_3': 'linear', 'output_dropout': 0.3559908616670127, 'lr_inicial': 0.001066593080708859}. Best is trial 103 with value: 1.0.\n"
     ]
    },
    {
     "name": "stdout",
     "output_type": "stream",
     "text": [
      "INFO:tensorflow:Assets written to: saved_models/exp4_with_aug/best_model_t236/assets\n"
     ]
    },
    {
     "name": "stderr",
     "output_type": "stream",
     "text": [
      "INFO:tensorflow:Assets written to: saved_models/exp4_with_aug/best_model_t236/assets\n",
      "[I 2024-01-30 23:39:45,310] Trial 236 finished with value: 0.7400000095367432 and parameters: {'batchsize': 32, 'brightness_factor': 0.04078016883870278, 'gaussian_noise_factor': 0.02133779764499844, 'translate_factor': 0.018849051874935036, 'num_layers': 4, 'layer_0': 'Conv2D', 'layer_0_conv2d_filters': 8, 'layer_0_conv2d_fsize': 4, 'layer_0_conv2d_ssize': 2, 'activation_0': 'linear', 'layer_1': 'Conv2D', 'layer_1_conv2d_filters': 20, 'layer_1_conv2d_fsize': 4, 'layer_1_conv2d_ssize': 1, 'activation_1': 'linear', 'layer_2': 'Conv2D', 'layer_2_conv2d_filters': 24, 'layer_2_conv2d_fsize': 8, 'layer_2_conv2d_ssize': 1, 'activation_2': 'relu', 'layer_3': 'Depthwise2D', 'layer_3_dwconv2d_fsize': 16, 'layer_3_dwconv2d_ssize': 4, 'activation_3': 'linear', 'output_dropout': 0.3364596952699643, 'lr_inicial': 0.0009975103264884381}. Best is trial 103 with value: 1.0.\n"
     ]
    },
    {
     "name": "stdout",
     "output_type": "stream",
     "text": [
      "INFO:tensorflow:Assets written to: saved_models/exp4_with_aug/best_model_t237/assets\n"
     ]
    },
    {
     "name": "stderr",
     "output_type": "stream",
     "text": [
      "INFO:tensorflow:Assets written to: saved_models/exp4_with_aug/best_model_t237/assets\n",
      "[I 2024-01-30 23:40:28,768] Trial 237 finished with value: 0.6800000071525574 and parameters: {'batchsize': 32, 'brightness_factor': 0.05255393170239149, 'gaussian_noise_factor': 0.015530214709851735, 'translate_factor': 0.015099076586937482, 'num_layers': 4, 'layer_0': 'Conv2D', 'layer_0_conv2d_filters': 8, 'layer_0_conv2d_fsize': 4, 'layer_0_conv2d_ssize': 2, 'activation_0': 'linear', 'layer_1': 'Conv2D', 'layer_1_conv2d_filters': 16, 'layer_1_conv2d_fsize': 5, 'layer_1_conv2d_ssize': 1, 'activation_1': 'linear', 'layer_2': 'Conv2D', 'layer_2_conv2d_filters': 24, 'layer_2_conv2d_fsize': 8, 'layer_2_conv2d_ssize': 1, 'activation_2': 'relu', 'layer_3': 'Depthwise2D', 'layer_3_dwconv2d_fsize': 16, 'layer_3_dwconv2d_ssize': 4, 'activation_3': 'linear', 'output_dropout': 0.3751863294886102, 'lr_inicial': 0.001147283794436366}. Best is trial 103 with value: 1.0.\n"
     ]
    },
    {
     "name": "stdout",
     "output_type": "stream",
     "text": [
      "INFO:tensorflow:Assets written to: saved_models/exp4_with_aug/best_model_t238/assets\n"
     ]
    },
    {
     "name": "stderr",
     "output_type": "stream",
     "text": [
      "INFO:tensorflow:Assets written to: saved_models/exp4_with_aug/best_model_t238/assets\n",
      "[I 2024-01-30 23:42:55,731] Trial 238 finished with value: 0.6399999856948853 and parameters: {'batchsize': 32, 'brightness_factor': 0.04394222962032676, 'gaussian_noise_factor': 0.010281309056977665, 'translate_factor': 0.0116420944328577, 'num_layers': 4, 'layer_0': 'Pointwise2D', 'layer_0_pwconv2d_filters': 16, 'layer_0_pwconv2d_ssize': 1, 'activation_0': 'linear', 'layer_1': 'Conv2D', 'layer_1_conv2d_filters': 16, 'layer_1_conv2d_fsize': 4, 'layer_1_conv2d_ssize': 1, 'activation_1': 'linear', 'layer_2': 'Conv2D', 'layer_2_conv2d_filters': 24, 'layer_2_conv2d_fsize': 8, 'layer_2_conv2d_ssize': 1, 'activation_2': 'relu', 'layer_3': 'Depthwise2D', 'layer_3_dwconv2d_fsize': 16, 'layer_3_dwconv2d_ssize': 4, 'activation_3': 'linear', 'output_dropout': 0.3642739015103576, 'lr_inicial': 0.0008563231707963853}. Best is trial 103 with value: 1.0.\n"
     ]
    },
    {
     "name": "stdout",
     "output_type": "stream",
     "text": [
      "INFO:tensorflow:Assets written to: saved_models/exp4_with_aug/best_model_t239/assets\n"
     ]
    },
    {
     "name": "stderr",
     "output_type": "stream",
     "text": [
      "INFO:tensorflow:Assets written to: saved_models/exp4_with_aug/best_model_t239/assets\n",
      "[I 2024-01-30 23:44:30,456] Trial 239 finished with value: 0.8799999952316284 and parameters: {'batchsize': 32, 'brightness_factor': 0.04932431037115677, 'gaussian_noise_factor': 0.0233365539072379, 'translate_factor': 0.02096153688431373, 'num_layers': 4, 'layer_0': 'Conv2D', 'layer_0_conv2d_filters': 8, 'layer_0_conv2d_fsize': 4, 'layer_0_conv2d_ssize': 2, 'activation_0': 'linear', 'layer_1': 'Conv2D', 'layer_1_conv2d_filters': 16, 'layer_1_conv2d_fsize': 16, 'layer_1_conv2d_ssize': 1, 'activation_1': 'relu', 'layer_2': 'Conv2D', 'layer_2_conv2d_filters': 24, 'layer_2_conv2d_fsize': 8, 'layer_2_conv2d_ssize': 1, 'activation_2': 'relu', 'layer_3': 'Depthwise2D', 'layer_3_dwconv2d_fsize': 16, 'layer_3_dwconv2d_ssize': 4, 'activation_3': 'linear', 'output_dropout': 0.38683641297417026, 'lr_inicial': 0.0010862307300116088}. Best is trial 103 with value: 1.0.\n"
     ]
    },
    {
     "name": "stdout",
     "output_type": "stream",
     "text": [
      "INFO:tensorflow:Assets written to: saved_models/exp4_with_aug/best_model_t240/assets\n"
     ]
    },
    {
     "name": "stderr",
     "output_type": "stream",
     "text": [
      "INFO:tensorflow:Assets written to: saved_models/exp4_with_aug/best_model_t240/assets\n",
      "[I 2024-01-30 23:45:24,185] Trial 240 finished with value: 0.9200000166893005 and parameters: {'batchsize': 32, 'brightness_factor': 0.060132016422042765, 'gaussian_noise_factor': 0.012242472790093242, 'translate_factor': 0.005940498783927295, 'num_layers': 4, 'layer_0': 'Conv2D', 'layer_0_conv2d_filters': 8, 'layer_0_conv2d_fsize': 4, 'layer_0_conv2d_ssize': 2, 'activation_0': 'linear', 'layer_1': 'Conv2D', 'layer_1_conv2d_filters': 16, 'layer_1_conv2d_fsize': 8, 'layer_1_conv2d_ssize': 1, 'activation_1': 'relu', 'layer_2': 'Conv2D', 'layer_2_conv2d_filters': 24, 'layer_2_conv2d_fsize': 8, 'layer_2_conv2d_ssize': 1, 'activation_2': 'relu', 'layer_3': 'Depthwise2D', 'layer_3_dwconv2d_fsize': 16, 'layer_3_dwconv2d_ssize': 4, 'activation_3': 'linear', 'output_dropout': 0.3925414473807031, 'lr_inicial': 0.0009728986289407385}. Best is trial 103 with value: 1.0.\n"
     ]
    },
    {
     "name": "stdout",
     "output_type": "stream",
     "text": [
      "INFO:tensorflow:Assets written to: saved_models/exp4_with_aug/best_model_t241/assets\n"
     ]
    },
    {
     "name": "stderr",
     "output_type": "stream",
     "text": [
      "INFO:tensorflow:Assets written to: saved_models/exp4_with_aug/best_model_t241/assets\n",
      "[I 2024-01-30 23:46:04,209] Trial 241 finished with value: 0.9800000190734863 and parameters: {'batchsize': 32, 'brightness_factor': 0.05501593557945254, 'gaussian_noise_factor': 0.02854617701344926, 'translate_factor': 0.01103125597977597, 'num_layers': 4, 'layer_0': 'Conv2D', 'layer_0_conv2d_filters': 8, 'layer_0_conv2d_fsize': 4, 'layer_0_conv2d_ssize': 2, 'activation_0': 'linear', 'layer_1': 'Conv2D', 'layer_1_conv2d_filters': 16, 'layer_1_conv2d_fsize': 4, 'layer_1_conv2d_ssize': 1, 'activation_1': 'relu', 'layer_2': 'Conv2D', 'layer_2_conv2d_filters': 24, 'layer_2_conv2d_fsize': 8, 'layer_2_conv2d_ssize': 1, 'activation_2': 'relu', 'layer_3': 'Depthwise2D', 'layer_3_dwconv2d_fsize': 16, 'layer_3_dwconv2d_ssize': 4, 'activation_3': 'linear', 'output_dropout': 0.3980393173905446, 'lr_inicial': 0.001160019438248259}. Best is trial 103 with value: 1.0.\n"
     ]
    },
    {
     "name": "stdout",
     "output_type": "stream",
     "text": [
      "INFO:tensorflow:Assets written to: saved_models/exp4_with_aug/best_model_t242/assets\n"
     ]
    },
    {
     "name": "stderr",
     "output_type": "stream",
     "text": [
      "INFO:tensorflow:Assets written to: saved_models/exp4_with_aug/best_model_t242/assets\n",
      "[I 2024-01-30 23:46:41,794] Trial 242 finished with value: 0.9800000190734863 and parameters: {'batchsize': 32, 'brightness_factor': 0.047911876707774234, 'gaussian_noise_factor': 0.0073693483418896906, 'translate_factor': 0.016820922137827165, 'num_layers': 4, 'layer_0': 'Conv2D', 'layer_0_conv2d_filters': 8, 'layer_0_conv2d_fsize': 4, 'layer_0_conv2d_ssize': 2, 'activation_0': 'linear', 'layer_1': 'Conv2D', 'layer_1_conv2d_filters': 16, 'layer_1_conv2d_fsize': 4, 'layer_1_conv2d_ssize': 1, 'activation_1': 'relu', 'layer_2': 'Conv2D', 'layer_2_conv2d_filters': 20, 'layer_2_conv2d_fsize': 5, 'layer_2_conv2d_ssize': 1, 'activation_2': 'relu', 'layer_3': 'Depthwise2D', 'layer_3_dwconv2d_fsize': 16, 'layer_3_dwconv2d_ssize': 4, 'activation_3': 'linear', 'output_dropout': 0.3572998684676224, 'lr_inicial': 0.0010519814678297918}. Best is trial 103 with value: 1.0.\n"
     ]
    },
    {
     "name": "stdout",
     "output_type": "stream",
     "text": [
      "INFO:tensorflow:Assets written to: saved_models/exp4_with_aug/best_model_t243/assets\n"
     ]
    },
    {
     "name": "stderr",
     "output_type": "stream",
     "text": [
      "INFO:tensorflow:Assets written to: saved_models/exp4_with_aug/best_model_t243/assets\n",
      "[I 2024-01-30 23:47:10,483] Trial 243 finished with value: 0.9599999785423279 and parameters: {'batchsize': 32, 'brightness_factor': 0.08249480220865081, 'gaussian_noise_factor': 0.017249934846296736, 'translate_factor': 0.01292196094024736, 'num_layers': 4, 'layer_0': 'Conv2D', 'layer_0_conv2d_filters': 8, 'layer_0_conv2d_fsize': 4, 'layer_0_conv2d_ssize': 2, 'activation_0': 'linear', 'layer_1': 'Conv2D', 'layer_1_conv2d_filters': 16, 'layer_1_conv2d_fsize': 4, 'layer_1_conv2d_ssize': 1, 'activation_1': 'relu', 'layer_2': 'Conv2D', 'layer_2_conv2d_filters': 24, 'layer_2_conv2d_fsize': 3, 'layer_2_conv2d_ssize': 1, 'activation_2': 'relu', 'layer_3': 'Depthwise2D', 'layer_3_dwconv2d_fsize': 5, 'layer_3_dwconv2d_ssize': 4, 'activation_3': 'linear', 'output_dropout': 0.36167371345641564, 'lr_inicial': 0.0011954627923066758}. Best is trial 103 with value: 1.0.\n"
     ]
    },
    {
     "name": "stdout",
     "output_type": "stream",
     "text": [
      "INFO:tensorflow:Assets written to: saved_models/exp4_with_aug/best_model_t244/assets\n"
     ]
    },
    {
     "name": "stderr",
     "output_type": "stream",
     "text": [
      "INFO:tensorflow:Assets written to: saved_models/exp4_with_aug/best_model_t244/assets\n",
      "[I 2024-01-30 23:47:45,726] Trial 244 finished with value: 1.0 and parameters: {'batchsize': 32, 'brightness_factor': 0.0010935357504099875, 'gaussian_noise_factor': 0.024477907832499247, 'translate_factor': 0.005293325372588994, 'num_layers': 4, 'layer_0': 'Conv2D', 'layer_0_conv2d_filters': 8, 'layer_0_conv2d_fsize': 4, 'layer_0_conv2d_ssize': 2, 'activation_0': 'linear', 'layer_1': 'Conv2D', 'layer_1_conv2d_filters': 16, 'layer_1_conv2d_fsize': 4, 'layer_1_conv2d_ssize': 1, 'activation_1': 'relu', 'layer_2': 'Conv2D', 'layer_2_conv2d_filters': 24, 'layer_2_conv2d_fsize': 8, 'layer_2_conv2d_ssize': 1, 'activation_2': 'relu', 'layer_3': 'Depthwise2D', 'layer_3_dwconv2d_fsize': 3, 'layer_3_dwconv2d_ssize': 4, 'activation_3': 'linear', 'output_dropout': 0.3242969248474926, 'lr_inicial': 0.0011095882192873566}. Best is trial 103 with value: 1.0.\n"
     ]
    },
    {
     "name": "stdout",
     "output_type": "stream",
     "text": [
      "INFO:tensorflow:Assets written to: saved_models/exp4_with_aug/best_model_t245/assets\n"
     ]
    },
    {
     "name": "stderr",
     "output_type": "stream",
     "text": [
      "INFO:tensorflow:Assets written to: saved_models/exp4_with_aug/best_model_t245/assets\n",
      "[I 2024-01-30 23:48:27,977] Trial 245 finished with value: 0.9200000166893005 and parameters: {'batchsize': 32, 'brightness_factor': 0.05255106546062598, 'gaussian_noise_factor': 0.0259894052447163, 'translate_factor': 0.005028522844419509, 'num_layers': 4, 'layer_0': 'Conv2D', 'layer_0_conv2d_filters': 8, 'layer_0_conv2d_fsize': 4, 'layer_0_conv2d_ssize': 2, 'activation_0': 'linear', 'layer_1': 'Conv2D', 'layer_1_conv2d_filters': 16, 'layer_1_conv2d_fsize': 4, 'layer_1_conv2d_ssize': 1, 'activation_1': 'relu', 'layer_2': 'Conv2D', 'layer_2_conv2d_filters': 24, 'layer_2_conv2d_fsize': 8, 'layer_2_conv2d_ssize': 1, 'activation_2': 'relu', 'layer_3': 'Depthwise2D', 'layer_3_dwconv2d_fsize': 3, 'layer_3_dwconv2d_ssize': 4, 'activation_3': 'linear', 'output_dropout': 0.3792738857889775, 'lr_inicial': 0.0011134549819223159}. Best is trial 103 with value: 1.0.\n"
     ]
    },
    {
     "name": "stdout",
     "output_type": "stream",
     "text": [
      "INFO:tensorflow:Assets written to: saved_models/exp4_with_aug/best_model_t246/assets\n"
     ]
    },
    {
     "name": "stderr",
     "output_type": "stream",
     "text": [
      "INFO:tensorflow:Assets written to: saved_models/exp4_with_aug/best_model_t246/assets\n",
      "[I 2024-01-30 23:48:56,529] Trial 246 finished with value: 0.9200000166893005 and parameters: {'batchsize': 32, 'brightness_factor': 0.010577788673761572, 'gaussian_noise_factor': 0.02131613981018954, 'translate_factor': 0.008115084576354452, 'num_layers': 4, 'layer_0': 'Depthwise2D', 'layer_0_dwconv2d_fsize': 5, 'layer_0_dwconv2d_ssize': 1, 'activation_0': 'linear', 'layer_1': 'Depthwise2D', 'layer_1_dwconv2d_fsize': 5, 'layer_1_dwconv2d_ssize': 4, 'activation_1': 'relu', 'layer_2': 'Conv2D', 'layer_2_conv2d_filters': 24, 'layer_2_conv2d_fsize': 8, 'layer_2_conv2d_ssize': 1, 'activation_2': 'relu', 'layer_3': 'Depthwise2D', 'layer_3_dwconv2d_fsize': 3, 'layer_3_dwconv2d_ssize': 4, 'activation_3': 'linear', 'output_dropout': 0.3249720356529343, 'lr_inicial': 0.001006483267713742}. Best is trial 103 with value: 1.0.\n"
     ]
    },
    {
     "name": "stdout",
     "output_type": "stream",
     "text": [
      "INFO:tensorflow:Assets written to: saved_models/exp4_with_aug/best_model_t247/assets\n"
     ]
    },
    {
     "name": "stderr",
     "output_type": "stream",
     "text": [
      "INFO:tensorflow:Assets written to: saved_models/exp4_with_aug/best_model_t247/assets\n",
      "[I 2024-01-30 23:50:05,452] Trial 247 finished with value: 0.9599999785423279 and parameters: {'batchsize': 32, 'brightness_factor': 0.06067110000032388, 'gaussian_noise_factor': 0.01575598895754862, 'translate_factor': 0.02717675151287588, 'num_layers': 4, 'layer_0': 'Conv2D', 'layer_0_conv2d_filters': 8, 'layer_0_conv2d_fsize': 4, 'layer_0_conv2d_ssize': 2, 'activation_0': 'linear', 'layer_1': 'Conv2D', 'layer_1_conv2d_filters': 20, 'layer_1_conv2d_fsize': 4, 'layer_1_conv2d_ssize': 1, 'activation_1': 'relu', 'layer_2': 'Conv2D', 'layer_2_conv2d_filters': 24, 'layer_2_conv2d_fsize': 8, 'layer_2_conv2d_ssize': 1, 'activation_2': 'relu', 'layer_3': 'Depthwise2D', 'layer_3_dwconv2d_fsize': 3, 'layer_3_dwconv2d_ssize': 4, 'activation_3': 'linear', 'output_dropout': 0.34159471138955894, 'lr_inicial': 0.0010750719279778544}. Best is trial 103 with value: 1.0.\n"
     ]
    },
    {
     "name": "stdout",
     "output_type": "stream",
     "text": [
      "INFO:tensorflow:Assets written to: saved_models/exp4_with_aug/best_model_t248/assets\n"
     ]
    },
    {
     "name": "stderr",
     "output_type": "stream",
     "text": [
      "INFO:tensorflow:Assets written to: saved_models/exp4_with_aug/best_model_t248/assets\n",
      "[I 2024-01-30 23:50:57,979] Trial 248 finished with value: 0.9399999976158142 and parameters: {'batchsize': 32, 'brightness_factor': 0.004184606268137249, 'gaussian_noise_factor': 0.007601738684831997, 'translate_factor': 0.018287317649130115, 'num_layers': 4, 'layer_0': 'Conv2D', 'layer_0_conv2d_filters': 8, 'layer_0_conv2d_fsize': 4, 'layer_0_conv2d_ssize': 2, 'activation_0': 'linear', 'layer_1': 'Conv2D', 'layer_1_conv2d_filters': 16, 'layer_1_conv2d_fsize': 3, 'layer_1_conv2d_ssize': 1, 'activation_1': 'relu', 'layer_2': 'Conv2D', 'layer_2_conv2d_filters': 24, 'layer_2_conv2d_fsize': 8, 'layer_2_conv2d_ssize': 1, 'activation_2': 'relu', 'layer_3': 'Depthwise2D', 'layer_3_dwconv2d_fsize': 16, 'layer_3_dwconv2d_ssize': 4, 'activation_3': 'linear', 'output_dropout': 0.37409007639463776, 'lr_inicial': 0.0008951920445102636}. Best is trial 103 with value: 1.0.\n"
     ]
    },
    {
     "name": "stdout",
     "output_type": "stream",
     "text": [
      "INFO:tensorflow:Assets written to: saved_models/exp4_with_aug/best_model_t249/assets\n"
     ]
    },
    {
     "name": "stderr",
     "output_type": "stream",
     "text": [
      "INFO:tensorflow:Assets written to: saved_models/exp4_with_aug/best_model_t249/assets\n",
      "[I 2024-01-30 23:51:35,656] Trial 249 finished with value: 0.8399999737739563 and parameters: {'batchsize': 32, 'brightness_factor': 0.0454668247042517, 'gaussian_noise_factor': 0.011968215108046295, 'translate_factor': 0.023354086614214252, 'num_layers': 4, 'layer_0': 'Conv2D', 'layer_0_conv2d_filters': 8, 'layer_0_conv2d_fsize': 4, 'layer_0_conv2d_ssize': 2, 'activation_0': 'relu', 'layer_1': 'Conv2D', 'layer_1_conv2d_filters': 16, 'layer_1_conv2d_fsize': 4, 'layer_1_conv2d_ssize': 1, 'activation_1': 'tanh', 'layer_2': 'Conv2D', 'layer_2_conv2d_filters': 20, 'layer_2_conv2d_fsize': 8, 'layer_2_conv2d_ssize': 1, 'activation_2': 'tanh', 'layer_3': 'Depthwise2D', 'layer_3_dwconv2d_fsize': 4, 'layer_3_dwconv2d_ssize': 4, 'activation_3': 'linear', 'output_dropout': 0.32405783069997546, 'lr_inicial': 0.0011208920554186034}. Best is trial 103 with value: 1.0.\n"
     ]
    },
    {
     "name": "stdout",
     "output_type": "stream",
     "text": [
      "INFO:tensorflow:Assets written to: saved_models/exp4_with_aug/best_model_t250/assets\n"
     ]
    },
    {
     "name": "stderr",
     "output_type": "stream",
     "text": [
      "INFO:tensorflow:Assets written to: saved_models/exp4_with_aug/best_model_t250/assets\n",
      "[I 2024-01-30 23:51:58,254] Trial 250 finished with value: 0.8999999761581421 and parameters: {'batchsize': 32, 'brightness_factor': 0.0002830683446798825, 'gaussian_noise_factor': 0.018944407280985082, 'translate_factor': 0.000766985416069987, 'num_layers': 4, 'layer_0': 'Conv2D', 'layer_0_conv2d_filters': 8, 'layer_0_conv2d_fsize': 4, 'layer_0_conv2d_ssize': 2, 'activation_0': 'linear', 'layer_1': 'Conv2D', 'layer_1_conv2d_filters': 16, 'layer_1_conv2d_fsize': 4, 'layer_1_conv2d_ssize': 1, 'activation_1': 'relu', 'layer_2': 'Pointwise2D', 'layer_2_pwconv2d_filters': 8, 'layer_2_pwconv2d_ssize': 3, 'activation_2': 'relu', 'layer_3': 'Depthwise2D', 'layer_3_dwconv2d_fsize': 16, 'layer_3_dwconv2d_ssize': 4, 'activation_3': 'linear', 'output_dropout': 0.4020328423943876, 'lr_inicial': 0.0012790613516555308}. Best is trial 103 with value: 1.0.\n"
     ]
    },
    {
     "name": "stdout",
     "output_type": "stream",
     "text": [
      "INFO:tensorflow:Assets written to: saved_models/exp4_with_aug/best_model_t251/assets\n"
     ]
    },
    {
     "name": "stderr",
     "output_type": "stream",
     "text": [
      "INFO:tensorflow:Assets written to: saved_models/exp4_with_aug/best_model_t251/assets\n",
      "[I 2024-01-30 23:52:42,232] Trial 251 finished with value: 0.9800000190734863 and parameters: {'batchsize': 32, 'brightness_factor': 0.0037678117774582833, 'gaussian_noise_factor': 0.024895974774012883, 'translate_factor': 0.014664689409492419, 'num_layers': 4, 'layer_0': 'Conv2D', 'layer_0_conv2d_filters': 8, 'layer_0_conv2d_fsize': 4, 'layer_0_conv2d_ssize': 2, 'activation_0': 'linear', 'layer_1': 'Conv2D', 'layer_1_conv2d_filters': 16, 'layer_1_conv2d_fsize': 4, 'layer_1_conv2d_ssize': 1, 'activation_1': 'relu', 'layer_2': 'Conv2D', 'layer_2_conv2d_filters': 24, 'layer_2_conv2d_fsize': 8, 'layer_2_conv2d_ssize': 1, 'activation_2': 'relu', 'layer_3': 'Depthwise2D', 'layer_3_dwconv2d_fsize': 16, 'layer_3_dwconv2d_ssize': 4, 'activation_3': 'linear', 'output_dropout': 0.3185316254976173, 'lr_inicial': 0.0009524213444316697}. Best is trial 103 with value: 1.0.\n"
     ]
    },
    {
     "name": "stdout",
     "output_type": "stream",
     "text": [
      "INFO:tensorflow:Assets written to: saved_models/exp4_with_aug/best_model_t252/assets\n"
     ]
    },
    {
     "name": "stderr",
     "output_type": "stream",
     "text": [
      "INFO:tensorflow:Assets written to: saved_models/exp4_with_aug/best_model_t252/assets\n",
      "[I 2024-01-30 23:53:31,632] Trial 252 finished with value: 0.9200000166893005 and parameters: {'batchsize': 32, 'brightness_factor': 0.05541322974257096, 'gaussian_noise_factor': 0.0031759920773399585, 'translate_factor': 0.020414139061418625, 'num_layers': 4, 'layer_0': 'Conv2D', 'layer_0_conv2d_filters': 8, 'layer_0_conv2d_fsize': 4, 'layer_0_conv2d_ssize': 2, 'activation_0': 'linear', 'layer_1': 'Conv2D', 'layer_1_conv2d_filters': 16, 'layer_1_conv2d_fsize': 5, 'layer_1_conv2d_ssize': 1, 'activation_1': 'relu', 'layer_2': 'Conv2D', 'layer_2_conv2d_filters': 24, 'layer_2_conv2d_fsize': 8, 'layer_2_conv2d_ssize': 1, 'activation_2': 'relu', 'layer_3': 'Depthwise2D', 'layer_3_dwconv2d_fsize': 16, 'layer_3_dwconv2d_ssize': 4, 'activation_3': 'linear', 'output_dropout': 0.33360108593051596, 'lr_inicial': 0.0010321791669146237}. Best is trial 103 with value: 1.0.\n"
     ]
    },
    {
     "name": "stdout",
     "output_type": "stream",
     "text": [
      "INFO:tensorflow:Assets written to: saved_models/exp4_with_aug/best_model_t253/assets\n"
     ]
    },
    {
     "name": "stderr",
     "output_type": "stream",
     "text": [
      "INFO:tensorflow:Assets written to: saved_models/exp4_with_aug/best_model_t253/assets\n",
      "[I 2024-01-30 23:54:00,603] Trial 253 finished with value: 0.8799999952316284 and parameters: {'batchsize': 32, 'brightness_factor': 0.020125421657823536, 'gaussian_noise_factor': 0.012083255449398634, 'translate_factor': 0.004986700087769065, 'num_layers': 4, 'layer_0': 'Conv2D', 'layer_0_conv2d_filters': 8, 'layer_0_conv2d_fsize': 4, 'layer_0_conv2d_ssize': 2, 'activation_0': 'linear', 'layer_1': 'Conv2D', 'layer_1_conv2d_filters': 12, 'layer_1_conv2d_fsize': 4, 'layer_1_conv2d_ssize': 1, 'activation_1': 'relu', 'layer_2': 'Depthwise2D', 'layer_2_dwconv2d_fsize': 16, 'layer_2_dwconv2d_ssize': 2, 'activation_2': 'relu', 'layer_3': 'Depthwise2D', 'layer_3_dwconv2d_fsize': 3, 'layer_3_dwconv2d_ssize': 4, 'activation_3': 'linear', 'output_dropout': 0.3542272649327545, 'lr_inicial': 0.0008368301078019181}. Best is trial 103 with value: 1.0.\n"
     ]
    },
    {
     "name": "stdout",
     "output_type": "stream",
     "text": [
      "INFO:tensorflow:Assets written to: saved_models/exp4_with_aug/best_model_t254/assets\n"
     ]
    },
    {
     "name": "stderr",
     "output_type": "stream",
     "text": [
      "INFO:tensorflow:Assets written to: saved_models/exp4_with_aug/best_model_t254/assets\n",
      "[I 2024-01-30 23:54:35,819] Trial 254 finished with value: 0.9599999785423279 and parameters: {'batchsize': 32, 'brightness_factor': 0.05044147182379917, 'gaussian_noise_factor': 0.007976245499898225, 'translate_factor': 0.009527081640801616, 'num_layers': 4, 'layer_0': 'Conv2D', 'layer_0_conv2d_filters': 8, 'layer_0_conv2d_fsize': 4, 'layer_0_conv2d_ssize': 2, 'activation_0': 'linear', 'layer_1': 'Conv2D', 'layer_1_conv2d_filters': 20, 'layer_1_conv2d_fsize': 4, 'layer_1_conv2d_ssize': 1, 'activation_1': 'relu', 'layer_2': 'Conv2D', 'layer_2_conv2d_filters': 24, 'layer_2_conv2d_fsize': 4, 'layer_2_conv2d_ssize': 1, 'activation_2': 'relu', 'layer_3': 'Pointwise2D', 'layer_3_pwconv2d_filters': 8, 'layer_3_pwconv2d_ssize': 2, 'activation_3': 'linear', 'output_dropout': 0.3047305125110543, 'lr_inicial': 0.0011722289041270167}. Best is trial 103 with value: 1.0.\n"
     ]
    },
    {
     "name": "stdout",
     "output_type": "stream",
     "text": [
      "INFO:tensorflow:Assets written to: saved_models/exp4_with_aug/best_model_t255/assets\n"
     ]
    },
    {
     "name": "stderr",
     "output_type": "stream",
     "text": [
      "INFO:tensorflow:Assets written to: saved_models/exp4_with_aug/best_model_t255/assets\n",
      "[I 2024-01-30 23:55:21,578] Trial 255 finished with value: 0.9599999785423279 and parameters: {'batchsize': 32, 'brightness_factor': 0.05874148248371325, 'gaussian_noise_factor': 0.015504627918201834, 'translate_factor': 0.02944728740763801, 'num_layers': 4, 'layer_0': 'Conv2D', 'layer_0_conv2d_filters': 8, 'layer_0_conv2d_fsize': 4, 'layer_0_conv2d_ssize': 2, 'activation_0': 'linear', 'layer_1': 'Conv2D', 'layer_1_conv2d_filters': 16, 'layer_1_conv2d_fsize': 4, 'layer_1_conv2d_ssize': 1, 'activation_1': 'linear', 'layer_2': 'Conv2D', 'layer_2_conv2d_filters': 24, 'layer_2_conv2d_fsize': 8, 'layer_2_conv2d_ssize': 1, 'activation_2': 'relu', 'layer_3': 'Conv2D', 'layer_3_conv2d_filters': 28, 'layer_3_conv2d_fsize': 3, 'layer_3_conv2d_ssize': 1, 'activation_3': 'linear', 'output_dropout': 0.3847099947617944, 'lr_inicial': 0.0009820328096886376}. Best is trial 103 with value: 1.0.\n"
     ]
    },
    {
     "name": "stdout",
     "output_type": "stream",
     "text": [
      "INFO:tensorflow:Assets written to: saved_models/exp4_with_aug/best_model_t256/assets\n"
     ]
    },
    {
     "name": "stderr",
     "output_type": "stream",
     "text": [
      "INFO:tensorflow:Assets written to: saved_models/exp4_with_aug/best_model_t256/assets\n",
      "[I 2024-01-30 23:56:07,405] Trial 256 finished with value: 0.7799999713897705 and parameters: {'batchsize': 32, 'brightness_factor': 0.12289626565695218, 'gaussian_noise_factor': 0.0232965173164301, 'translate_factor': 0.017631505546380197, 'num_layers': 4, 'layer_0': 'Conv2D', 'layer_0_conv2d_filters': 12, 'layer_0_conv2d_fsize': 4, 'layer_0_conv2d_ssize': 2, 'activation_0': 'linear', 'layer_1': 'Conv2D', 'layer_1_conv2d_filters': 16, 'layer_1_conv2d_fsize': 4, 'layer_1_conv2d_ssize': 1, 'activation_1': 'relu', 'layer_2': 'Conv2D', 'layer_2_conv2d_filters': 24, 'layer_2_conv2d_fsize': 8, 'layer_2_conv2d_ssize': 1, 'activation_2': 'relu', 'layer_3': 'Depthwise2D', 'layer_3_dwconv2d_fsize': 16, 'layer_3_dwconv2d_ssize': 4, 'activation_3': 'linear', 'output_dropout': 0.3506829127267068, 'lr_inicial': 0.001086143112073674}. Best is trial 103 with value: 1.0.\n"
     ]
    },
    {
     "name": "stdout",
     "output_type": "stream",
     "text": [
      "INFO:tensorflow:Assets written to: saved_models/exp4_with_aug/best_model_t257/assets\n"
     ]
    },
    {
     "name": "stderr",
     "output_type": "stream",
     "text": [
      "INFO:tensorflow:Assets written to: saved_models/exp4_with_aug/best_model_t257/assets\n",
      "[I 2024-01-30 23:56:34,722] Trial 257 finished with value: 0.8399999737739563 and parameters: {'batchsize': 32, 'brightness_factor': 0.02891791676284837, 'gaussian_noise_factor': 0.005863696945937075, 'translate_factor': 0.024761900619634736, 'num_layers': 1, 'layer_0': 'Conv2D', 'layer_0_conv2d_filters': 8, 'layer_0_conv2d_fsize': 3, 'layer_0_conv2d_ssize': 1, 'activation_0': 'linear', 'output_dropout': 0.31752308372275084, 'lr_inicial': 0.0012612224789368088}. Best is trial 103 with value: 1.0.\n"
     ]
    },
    {
     "name": "stdout",
     "output_type": "stream",
     "text": [
      "INFO:tensorflow:Assets written to: saved_models/exp4_with_aug/best_model_t258/assets\n"
     ]
    },
    {
     "name": "stderr",
     "output_type": "stream",
     "text": [
      "INFO:tensorflow:Assets written to: saved_models/exp4_with_aug/best_model_t258/assets\n",
      "[I 2024-01-30 23:57:22,771] Trial 258 finished with value: 0.8399999737739563 and parameters: {'batchsize': 32, 'brightness_factor': 0.06370067853311692, 'gaussian_noise_factor': 0.07490152646887796, 'translate_factor': 0.013890236849384785, 'num_layers': 4, 'layer_0': 'Conv2D', 'layer_0_conv2d_filters': 8, 'layer_0_conv2d_fsize': 16, 'layer_0_conv2d_ssize': 2, 'activation_0': 'linear', 'layer_1': 'Conv2D', 'layer_1_conv2d_filters': 16, 'layer_1_conv2d_fsize': 4, 'layer_1_conv2d_ssize': 1, 'activation_1': 'relu', 'layer_2': 'Conv2D', 'layer_2_conv2d_filters': 24, 'layer_2_conv2d_fsize': 8, 'layer_2_conv2d_ssize': 1, 'activation_2': 'tanh', 'layer_3': 'Depthwise2D', 'layer_3_dwconv2d_fsize': 16, 'layer_3_dwconv2d_ssize': 4, 'activation_3': 'relu', 'output_dropout': 0.512426605188253, 'lr_inicial': 0.0009335964446569988}. Best is trial 103 with value: 1.0.\n"
     ]
    },
    {
     "name": "stdout",
     "output_type": "stream",
     "text": [
      "INFO:tensorflow:Assets written to: saved_models/exp4_with_aug/best_model_t259/assets\n"
     ]
    },
    {
     "name": "stderr",
     "output_type": "stream",
     "text": [
      "INFO:tensorflow:Assets written to: saved_models/exp4_with_aug/best_model_t259/assets\n",
      "[I 2024-01-30 23:58:11,955] Trial 259 finished with value: 0.6800000071525574 and parameters: {'batchsize': 32, 'brightness_factor': 0.04287266966340828, 'gaussian_noise_factor': 0.017107578761263176, 'translate_factor': 0.010112512904391342, 'num_layers': 4, 'layer_0': 'Conv2D', 'layer_0_conv2d_filters': 8, 'layer_0_conv2d_fsize': 4, 'layer_0_conv2d_ssize': 2, 'activation_0': 'linear', 'layer_1': 'Conv2D', 'layer_1_conv2d_filters': 16, 'layer_1_conv2d_fsize': 8, 'layer_1_conv2d_ssize': 1, 'activation_1': 'relu', 'layer_2': 'Conv2D', 'layer_2_conv2d_filters': 24, 'layer_2_conv2d_fsize': 8, 'layer_2_conv2d_ssize': 1, 'activation_2': 'relu', 'layer_3': 'Depthwise2D', 'layer_3_dwconv2d_fsize': 16, 'layer_3_dwconv2d_ssize': 4, 'activation_3': 'linear', 'output_dropout': 0.5049759475036182, 'lr_inicial': 0.0010303200271617376}. Best is trial 103 with value: 1.0.\n"
     ]
    },
    {
     "name": "stdout",
     "output_type": "stream",
     "text": [
      "INFO:tensorflow:Assets written to: saved_models/exp4_with_aug/best_model_t260/assets\n"
     ]
    },
    {
     "name": "stderr",
     "output_type": "stream",
     "text": [
      "INFO:tensorflow:Assets written to: saved_models/exp4_with_aug/best_model_t260/assets\n",
      "[I 2024-01-31 00:00:15,473] Trial 260 finished with value: 0.3799999952316284 and parameters: {'batchsize': 32, 'brightness_factor': 0.049210949311666474, 'gaussian_noise_factor': 0.00019841082706960298, 'translate_factor': 0.021711362417708664, 'num_layers': 4, 'layer_0': 'Conv2D', 'layer_0_conv2d_filters': 8, 'layer_0_conv2d_fsize': 4, 'layer_0_conv2d_ssize': 2, 'activation_0': 'linear', 'layer_1': 'Conv2D', 'layer_1_conv2d_filters': 24, 'layer_1_conv2d_fsize': 4, 'layer_1_conv2d_ssize': 1, 'activation_1': 'relu', 'layer_2': 'Conv2D', 'layer_2_conv2d_filters': 28, 'layer_2_conv2d_fsize': 8, 'layer_2_conv2d_ssize': 1, 'activation_2': 'relu', 'layer_3': 'Depthwise2D', 'layer_3_dwconv2d_fsize': 16, 'layer_3_dwconv2d_ssize': 1, 'activation_3': 'linear', 'output_dropout': 0.5192162111324433, 'lr_inicial': 0.0011232785450290348}. Best is trial 103 with value: 1.0.\n"
     ]
    },
    {
     "name": "stdout",
     "output_type": "stream",
     "text": [
      "INFO:tensorflow:Assets written to: saved_models/exp4_with_aug/best_model_t261/assets\n"
     ]
    },
    {
     "name": "stderr",
     "output_type": "stream",
     "text": [
      "INFO:tensorflow:Assets written to: saved_models/exp4_with_aug/best_model_t261/assets\n",
      "[I 2024-01-31 00:01:09,117] Trial 261 finished with value: 0.8600000143051147 and parameters: {'batchsize': 32, 'brightness_factor': 0.01626108052435876, 'gaussian_noise_factor': 0.011054852096532918, 'translate_factor': 0.016356543304441112, 'num_layers': 4, 'layer_0': 'Conv2D', 'layer_0_conv2d_filters': 8, 'layer_0_conv2d_fsize': 4, 'layer_0_conv2d_ssize': 2, 'activation_0': 'linear', 'layer_1': 'Conv2D', 'layer_1_conv2d_filters': 12, 'layer_1_conv2d_fsize': 3, 'layer_1_conv2d_ssize': 1, 'activation_1': 'relu', 'layer_2': 'Conv2D', 'layer_2_conv2d_filters': 24, 'layer_2_conv2d_fsize': 8, 'layer_2_conv2d_ssize': 1, 'activation_2': 'relu', 'layer_3': 'Depthwise2D', 'layer_3_dwconv2d_fsize': 16, 'layer_3_dwconv2d_ssize': 4, 'activation_3': 'linear', 'output_dropout': 0.5326111986593417, 'lr_inicial': 0.0012071597929277527}. Best is trial 103 with value: 1.0.\n"
     ]
    },
    {
     "name": "stdout",
     "output_type": "stream",
     "text": [
      "INFO:tensorflow:Assets written to: saved_models/exp4_with_aug/best_model_t262/assets\n"
     ]
    },
    {
     "name": "stderr",
     "output_type": "stream",
     "text": [
      "INFO:tensorflow:Assets written to: saved_models/exp4_with_aug/best_model_t262/assets\n",
      "[I 2024-01-31 00:02:13,791] Trial 262 finished with value: 0.800000011920929 and parameters: {'batchsize': 32, 'brightness_factor': 0.055086382322872975, 'gaussian_noise_factor': 0.019542870315538727, 'translate_factor': 0.032080988323157714, 'num_layers': 4, 'layer_0': 'Conv2D', 'layer_0_conv2d_filters': 8, 'layer_0_conv2d_fsize': 4, 'layer_0_conv2d_ssize': 2, 'activation_0': 'linear', 'layer_1': 'Conv2D', 'layer_1_conv2d_filters': 20, 'layer_1_conv2d_fsize': 5, 'layer_1_conv2d_ssize': 1, 'activation_1': 'relu', 'layer_2': 'Conv2D', 'layer_2_conv2d_filters': 20, 'layer_2_conv2d_fsize': 8, 'layer_2_conv2d_ssize': 1, 'activation_2': 'relu', 'layer_3': 'Depthwise2D', 'layer_3_dwconv2d_fsize': 16, 'layer_3_dwconv2d_ssize': 4, 'activation_3': 'linear', 'output_dropout': 0.4930780758880877, 'lr_inicial': 0.001065956944697743}. Best is trial 103 with value: 1.0.\n"
     ]
    },
    {
     "name": "stdout",
     "output_type": "stream",
     "text": [
      "INFO:tensorflow:Assets written to: saved_models/exp4_with_aug/best_model_t263/assets\n"
     ]
    },
    {
     "name": "stderr",
     "output_type": "stream",
     "text": [
      "INFO:tensorflow:Assets written to: saved_models/exp4_with_aug/best_model_t263/assets\n",
      "[I 2024-01-31 00:02:59,123] Trial 263 finished with value: 0.9599999785423279 and parameters: {'batchsize': 32, 'brightness_factor': 0.03970417437146465, 'gaussian_noise_factor': 0.006883610229098918, 'translate_factor': 0.004992129520505914, 'num_layers': 4, 'layer_0': 'Conv2D', 'layer_0_conv2d_filters': 12, 'layer_0_conv2d_fsize': 4, 'layer_0_conv2d_ssize': 2, 'activation_0': 'linear', 'layer_1': 'Conv2D', 'layer_1_conv2d_filters': 16, 'layer_1_conv2d_fsize': 4, 'layer_1_conv2d_ssize': 1, 'activation_1': 'relu', 'layer_2': 'Conv2D', 'layer_2_conv2d_filters': 28, 'layer_2_conv2d_fsize': 8, 'layer_2_conv2d_ssize': 1, 'activation_2': 'relu', 'layer_3': 'Depthwise2D', 'layer_3_dwconv2d_fsize': 16, 'layer_3_dwconv2d_ssize': 4, 'activation_3': 'linear', 'output_dropout': 0.3926370785938422, 'lr_inicial': 0.0008880064314091863}. Best is trial 103 with value: 1.0.\n"
     ]
    },
    {
     "name": "stdout",
     "output_type": "stream",
     "text": [
      "INFO:tensorflow:Assets written to: saved_models/exp4_with_aug/best_model_t264/assets\n"
     ]
    },
    {
     "name": "stderr",
     "output_type": "stream",
     "text": [
      "INFO:tensorflow:Assets written to: saved_models/exp4_with_aug/best_model_t264/assets\n",
      "[I 2024-01-31 00:03:38,629] Trial 264 finished with value: 0.9800000190734863 and parameters: {'batchsize': 32, 'brightness_factor': 0.0001701589180107494, 'gaussian_noise_factor': 0.029075361612010495, 'translate_factor': 0.026001610798990632, 'num_layers': 4, 'layer_0': 'Conv2D', 'layer_0_conv2d_filters': 8, 'layer_0_conv2d_fsize': 5, 'layer_0_conv2d_ssize': 2, 'activation_0': 'linear', 'layer_1': 'Conv2D', 'layer_1_conv2d_filters': 16, 'layer_1_conv2d_fsize': 4, 'layer_1_conv2d_ssize': 1, 'activation_1': 'relu', 'layer_2': 'Conv2D', 'layer_2_conv2d_filters': 24, 'layer_2_conv2d_fsize': 8, 'layer_2_conv2d_ssize': 1, 'activation_2': 'relu', 'layer_3': 'Conv2D', 'layer_3_conv2d_filters': 24, 'layer_3_conv2d_fsize': 4, 'layer_3_conv2d_ssize': 2, 'activation_3': 'linear', 'output_dropout': 0.5259662683277281, 'lr_inicial': 0.0010001963355417962}. Best is trial 103 with value: 1.0.\n"
     ]
    },
    {
     "name": "stdout",
     "output_type": "stream",
     "text": [
      "INFO:tensorflow:Assets written to: saved_models/exp4_with_aug/best_model_t265/assets\n"
     ]
    },
    {
     "name": "stderr",
     "output_type": "stream",
     "text": [
      "INFO:tensorflow:Assets written to: saved_models/exp4_with_aug/best_model_t265/assets\n",
      "[I 2024-01-31 00:04:18,907] Trial 265 finished with value: 0.9800000190734863 and parameters: {'batchsize': 32, 'brightness_factor': 0.0656921140341831, 'gaussian_noise_factor': 0.0037716043460156883, 'translate_factor': 0.02003868324804975, 'num_layers': 4, 'layer_0': 'Conv2D', 'layer_0_conv2d_filters': 8, 'layer_0_conv2d_fsize': 4, 'layer_0_conv2d_ssize': 2, 'activation_0': 'linear', 'layer_1': 'Conv2D', 'layer_1_conv2d_filters': 16, 'layer_1_conv2d_fsize': 4, 'layer_1_conv2d_ssize': 1, 'activation_1': 'relu', 'layer_2': 'Conv2D', 'layer_2_conv2d_filters': 24, 'layer_2_conv2d_fsize': 8, 'layer_2_conv2d_ssize': 1, 'activation_2': 'relu', 'layer_3': 'Depthwise2D', 'layer_3_dwconv2d_fsize': 16, 'layer_3_dwconv2d_ssize': 4, 'activation_3': 'linear', 'output_dropout': 0.5394241994442678, 'lr_inicial': 0.0013486739068590977}. Best is trial 103 with value: 1.0.\n"
     ]
    },
    {
     "name": "stdout",
     "output_type": "stream",
     "text": [
      "INFO:tensorflow:Assets written to: saved_models/exp4_with_aug/best_model_t266/assets\n"
     ]
    },
    {
     "name": "stderr",
     "output_type": "stream",
     "text": [
      "INFO:tensorflow:Assets written to: saved_models/exp4_with_aug/best_model_t266/assets\n",
      "[I 2024-01-31 00:04:40,129] Trial 266 finished with value: 0.9399999976158142 and parameters: {'batchsize': 32, 'brightness_factor': 0.05346375486069566, 'gaussian_noise_factor': 0.012357084121826846, 'translate_factor': 0.011926755569388322, 'num_layers': 4, 'layer_0': 'Pointwise2D', 'layer_0_pwconv2d_filters': 24, 'layer_0_pwconv2d_ssize': 4, 'activation_0': 'linear', 'layer_1': 'Conv2D', 'layer_1_conv2d_filters': 4, 'layer_1_conv2d_fsize': 4, 'layer_1_conv2d_ssize': 1, 'activation_1': 'relu', 'layer_2': 'Conv2D', 'layer_2_conv2d_filters': 32, 'layer_2_conv2d_fsize': 3, 'layer_2_conv2d_ssize': 1, 'activation_2': 'relu', 'layer_3': 'Depthwise2D', 'layer_3_dwconv2d_fsize': 16, 'layer_3_dwconv2d_ssize': 4, 'activation_3': 'relu', 'output_dropout': 0.3477406621969303, 'lr_inicial': 0.0011460636688944063}. Best is trial 103 with value: 1.0.\n"
     ]
    },
    {
     "name": "stdout",
     "output_type": "stream",
     "text": [
      "INFO:tensorflow:Assets written to: saved_models/exp4_with_aug/best_model_t267/assets\n"
     ]
    },
    {
     "name": "stderr",
     "output_type": "stream",
     "text": [
      "INFO:tensorflow:Assets written to: saved_models/exp4_with_aug/best_model_t267/assets\n",
      "[I 2024-01-31 00:05:11,486] Trial 267 finished with value: 0.9399999976158142 and parameters: {'batchsize': 32, 'brightness_factor': 0.07113626345464723, 'gaussian_noise_factor': 0.02113023385043257, 'translate_factor': 0.008044092567935982, 'num_layers': 4, 'layer_0': 'Conv2D', 'layer_0_conv2d_filters': 8, 'layer_0_conv2d_fsize': 4, 'layer_0_conv2d_ssize': 2, 'activation_0': 'linear', 'layer_1': 'Conv2D', 'layer_1_conv2d_filters': 16, 'layer_1_conv2d_fsize': 4, 'layer_1_conv2d_ssize': 1, 'activation_1': 'relu', 'layer_2': 'Conv2D', 'layer_2_conv2d_filters': 8, 'layer_2_conv2d_fsize': 5, 'layer_2_conv2d_ssize': 1, 'activation_2': 'tanh', 'layer_3': 'Depthwise2D', 'layer_3_dwconv2d_fsize': 16, 'layer_3_dwconv2d_ssize': 4, 'activation_3': 'linear', 'output_dropout': 0.5484003874618223, 'lr_inicial': 0.0008108153522338332}. Best is trial 103 with value: 1.0.\n"
     ]
    },
    {
     "name": "stdout",
     "output_type": "stream",
     "text": [
      "INFO:tensorflow:Assets written to: saved_models/exp4_with_aug/best_model_t268/assets\n"
     ]
    },
    {
     "name": "stderr",
     "output_type": "stream",
     "text": [
      "INFO:tensorflow:Assets written to: saved_models/exp4_with_aug/best_model_t268/assets\n",
      "[I 2024-01-31 00:05:31,215] Trial 268 finished with value: 0.8600000143051147 and parameters: {'batchsize': 32, 'brightness_factor': 0.0619877656621364, 'gaussian_noise_factor': 0.014624452273793788, 'translate_factor': 0.016021697541208354, 'num_layers': 4, 'layer_0': 'Depthwise2D', 'layer_0_dwconv2d_fsize': 4, 'layer_0_dwconv2d_ssize': 3, 'activation_0': 'relu', 'layer_1': 'Conv2D', 'layer_1_conv2d_filters': 16, 'layer_1_conv2d_fsize': 4, 'layer_1_conv2d_ssize': 1, 'activation_1': 'relu', 'layer_2': 'Pointwise2D', 'layer_2_pwconv2d_filters': 20, 'layer_2_pwconv2d_ssize': 2, 'activation_2': 'relu', 'layer_3': 'Depthwise2D', 'layer_3_dwconv2d_fsize': 3, 'layer_3_dwconv2d_ssize': 4, 'activation_3': 'linear', 'output_dropout': 0.5141618531117372, 'lr_inicial': 0.001255031273119683}. Best is trial 103 with value: 1.0.\n"
     ]
    },
    {
     "name": "stdout",
     "output_type": "stream",
     "text": [
      "INFO:tensorflow:Assets written to: saved_models/exp4_with_aug/best_model_t269/assets\n"
     ]
    },
    {
     "name": "stderr",
     "output_type": "stream",
     "text": [
      "INFO:tensorflow:Assets written to: saved_models/exp4_with_aug/best_model_t269/assets\n",
      "[I 2024-01-31 00:05:53,697] Trial 269 finished with value: 0.9599999785423279 and parameters: {'batchsize': 64, 'brightness_factor': 0.010831872614349465, 'gaussian_noise_factor': 0.009072409148311754, 'translate_factor': 0.0001093514333481739, 'num_layers': 4, 'layer_0': 'Conv2D', 'layer_0_conv2d_filters': 8, 'layer_0_conv2d_fsize': 4, 'layer_0_conv2d_ssize': 2, 'activation_0': 'linear', 'layer_1': 'Depthwise2D', 'layer_1_dwconv2d_fsize': 8, 'layer_1_dwconv2d_ssize': 2, 'activation_1': 'relu', 'layer_2': 'Conv2D', 'layer_2_conv2d_filters': 24, 'layer_2_conv2d_fsize': 8, 'layer_2_conv2d_ssize': 1, 'activation_2': 'relu', 'layer_3': 'Depthwise2D', 'layer_3_dwconv2d_fsize': 16, 'layer_3_dwconv2d_ssize': 4, 'activation_3': 'linear', 'output_dropout': 0.5074760600049123, 'lr_inicial': 0.000943832775437003}. Best is trial 103 with value: 1.0.\n"
     ]
    },
    {
     "name": "stdout",
     "output_type": "stream",
     "text": [
      "INFO:tensorflow:Assets written to: saved_models/exp4_with_aug/best_model_t270/assets\n"
     ]
    },
    {
     "name": "stderr",
     "output_type": "stream",
     "text": [
      "INFO:tensorflow:Assets written to: saved_models/exp4_with_aug/best_model_t270/assets\n",
      "[I 2024-01-31 00:06:21,714] Trial 270 finished with value: 0.8199999928474426 and parameters: {'batchsize': 32, 'brightness_factor': 0.0573009047396176, 'gaussian_noise_factor': 0.0033215783964907447, 'translate_factor': 0.022492489986210996, 'num_layers': 4, 'layer_0': 'Conv2D', 'layer_0_conv2d_filters': 8, 'layer_0_conv2d_fsize': 4, 'layer_0_conv2d_ssize': 2, 'activation_0': 'linear', 'layer_1': 'Conv2D', 'layer_1_conv2d_filters': 12, 'layer_1_conv2d_fsize': 4, 'layer_1_conv2d_ssize': 1, 'activation_1': 'linear', 'layer_2': 'Conv2D', 'layer_2_conv2d_filters': 28, 'layer_2_conv2d_fsize': 16, 'layer_2_conv2d_ssize': 3, 'activation_2': 'relu', 'layer_3': 'Depthwise2D', 'layer_3_dwconv2d_fsize': 5, 'layer_3_dwconv2d_ssize': 2, 'activation_3': 'linear', 'output_dropout': 0.4965243630457174, 'lr_inicial': 0.0010536195703003395}. Best is trial 103 with value: 1.0.\n"
     ]
    },
    {
     "name": "stdout",
     "output_type": "stream",
     "text": [
      "INFO:tensorflow:Assets written to: saved_models/exp4_with_aug/best_model_t271/assets\n"
     ]
    },
    {
     "name": "stderr",
     "output_type": "stream",
     "text": [
      "INFO:tensorflow:Assets written to: saved_models/exp4_with_aug/best_model_t271/assets\n",
      "[I 2024-01-31 00:07:02,099] Trial 271 finished with value: 0.9599999785423279 and parameters: {'batchsize': 32, 'brightness_factor': 0.04624309626332511, 'gaussian_noise_factor': 0.0261590002902019, 'translate_factor': 0.018543178269247906, 'num_layers': 4, 'layer_0': 'Conv2D', 'layer_0_conv2d_filters': 8, 'layer_0_conv2d_fsize': 4, 'layer_0_conv2d_ssize': 2, 'activation_0': 'linear', 'layer_1': 'Conv2D', 'layer_1_conv2d_filters': 28, 'layer_1_conv2d_fsize': 5, 'layer_1_conv2d_ssize': 1, 'activation_1': 'relu', 'layer_2': 'Depthwise2D', 'layer_2_dwconv2d_fsize': 16, 'layer_2_dwconv2d_ssize': 3, 'activation_2': 'relu', 'layer_3': 'Pointwise2D', 'layer_3_pwconv2d_filters': 20, 'layer_3_pwconv2d_ssize': 4, 'activation_3': 'linear', 'output_dropout': 0.3326195828787123, 'lr_inicial': 0.0011186718333278044}. Best is trial 103 with value: 1.0.\n"
     ]
    },
    {
     "name": "stdout",
     "output_type": "stream",
     "text": [
      "INFO:tensorflow:Assets written to: saved_models/exp4_with_aug/best_model_t272/assets\n"
     ]
    },
    {
     "name": "stderr",
     "output_type": "stream",
     "text": [
      "INFO:tensorflow:Assets written to: saved_models/exp4_with_aug/best_model_t272/assets\n",
      "[I 2024-01-31 00:08:06,160] Trial 272 finished with value: 0.9200000166893005 and parameters: {'batchsize': 32, 'brightness_factor': 0.050455106715471036, 'gaussian_noise_factor': 0.017604588950081317, 'translate_factor': 0.07422923843590234, 'num_layers': 4, 'layer_0': 'Conv2D', 'layer_0_conv2d_filters': 4, 'layer_0_conv2d_fsize': 4, 'layer_0_conv2d_ssize': 2, 'activation_0': 'linear', 'layer_1': 'Conv2D', 'layer_1_conv2d_filters': 16, 'layer_1_conv2d_fsize': 16, 'layer_1_conv2d_ssize': 1, 'activation_1': 'relu', 'layer_2': 'Conv2D', 'layer_2_conv2d_filters': 24, 'layer_2_conv2d_fsize': 8, 'layer_2_conv2d_ssize': 2, 'activation_2': 'relu', 'layer_3': 'Depthwise2D', 'layer_3_dwconv2d_fsize': 16, 'layer_3_dwconv2d_ssize': 4, 'activation_3': 'linear', 'output_dropout': 0.5209504683414398, 'lr_inicial': 0.001211060752042785}. Best is trial 103 with value: 1.0.\n"
     ]
    },
    {
     "name": "stdout",
     "output_type": "stream",
     "text": [
      "INFO:tensorflow:Assets written to: saved_models/exp4_with_aug/best_model_t273/assets\n"
     ]
    },
    {
     "name": "stderr",
     "output_type": "stream",
     "text": [
      "INFO:tensorflow:Assets written to: saved_models/exp4_with_aug/best_model_t273/assets\n",
      "[I 2024-01-31 00:08:36,688] Trial 273 finished with value: 0.9800000190734863 and parameters: {'batchsize': 32, 'brightness_factor': 0.0572077778665634, 'gaussian_noise_factor': 0.009789975283513056, 'translate_factor': 0.02845800972973448, 'num_layers': 4, 'layer_0': 'Conv2D', 'layer_0_conv2d_filters': 8, 'layer_0_conv2d_fsize': 4, 'layer_0_conv2d_ssize': 2, 'activation_0': 'linear', 'layer_1': 'Conv2D', 'layer_1_conv2d_filters': 16, 'layer_1_conv2d_fsize': 4, 'layer_1_conv2d_ssize': 1, 'activation_1': 'tanh', 'layer_2': 'Conv2D', 'layer_2_conv2d_filters': 20, 'layer_2_conv2d_fsize': 4, 'layer_2_conv2d_ssize': 1, 'activation_2': 'relu', 'layer_3': 'Depthwise2D', 'layer_3_dwconv2d_fsize': 4, 'layer_3_dwconv2d_ssize': 4, 'activation_3': 'linear', 'output_dropout': 0.5286962291962555, 'lr_inicial': 0.0009121780824065821}. Best is trial 103 with value: 1.0.\n"
     ]
    },
    {
     "name": "stdout",
     "output_type": "stream",
     "text": [
      "INFO:tensorflow:Assets written to: saved_models/exp4_with_aug/best_model_t274/assets\n"
     ]
    },
    {
     "name": "stderr",
     "output_type": "stream",
     "text": [
      "INFO:tensorflow:Assets written to: saved_models/exp4_with_aug/best_model_t274/assets\n",
      "[I 2024-01-31 00:09:03,279] Trial 274 finished with value: 0.8399999737739563 and parameters: {'batchsize': 32, 'brightness_factor': 0.04680019166290841, 'gaussian_noise_factor': 0.09216552213924437, 'translate_factor': 0.011999495657547685, 'num_layers': 1, 'layer_0': 'Conv2D', 'layer_0_conv2d_filters': 8, 'layer_0_conv2d_fsize': 4, 'layer_0_conv2d_ssize': 1, 'activation_0': 'linear', 'output_dropout': 0.36822223972699497, 'lr_inicial': 0.0010058696799194104}. Best is trial 103 with value: 1.0.\n"
     ]
    },
    {
     "name": "stdout",
     "output_type": "stream",
     "text": [
      "INFO:tensorflow:Assets written to: saved_models/exp4_with_aug/best_model_t275/assets\n"
     ]
    },
    {
     "name": "stderr",
     "output_type": "stream",
     "text": [
      "INFO:tensorflow:Assets written to: saved_models/exp4_with_aug/best_model_t275/assets\n",
      "[I 2024-01-31 00:10:02,769] Trial 275 finished with value: 0.9399999976158142 and parameters: {'batchsize': 96, 'brightness_factor': 0.07861927064335048, 'gaussian_noise_factor': 0.033004378282560684, 'translate_factor': 0.034707940044949336, 'num_layers': 4, 'layer_0': 'Conv2D', 'layer_0_conv2d_filters': 8, 'layer_0_conv2d_fsize': 4, 'layer_0_conv2d_ssize': 2, 'activation_0': 'linear', 'layer_1': 'Conv2D', 'layer_1_conv2d_filters': 20, 'layer_1_conv2d_fsize': 4, 'layer_1_conv2d_ssize': 1, 'activation_1': 'relu', 'layer_2': 'Conv2D', 'layer_2_conv2d_filters': 24, 'layer_2_conv2d_fsize': 8, 'layer_2_conv2d_ssize': 1, 'activation_2': 'linear', 'layer_3': 'Conv2D', 'layer_3_conv2d_filters': 32, 'layer_3_conv2d_fsize': 8, 'layer_3_conv2d_ssize': 3, 'activation_3': 'linear', 'output_dropout': 0.38209964143679404, 'lr_inicial': 0.001152898524008695}. Best is trial 103 with value: 1.0.\n"
     ]
    },
    {
     "name": "stdout",
     "output_type": "stream",
     "text": [
      "INFO:tensorflow:Assets written to: saved_models/exp4_with_aug/best_model_t276/assets\n"
     ]
    },
    {
     "name": "stderr",
     "output_type": "stream",
     "text": [
      "INFO:tensorflow:Assets written to: saved_models/exp4_with_aug/best_model_t276/assets\n",
      "[I 2024-01-31 00:10:59,498] Trial 276 finished with value: 0.9200000166893005 and parameters: {'batchsize': 32, 'brightness_factor': 0.06674625734054723, 'gaussian_noise_factor': 0.013097171645605648, 'translate_factor': 0.014877404011069306, 'num_layers': 4, 'layer_0': 'Conv2D', 'layer_0_conv2d_filters': 8, 'layer_0_conv2d_fsize': 4, 'layer_0_conv2d_ssize': 2, 'activation_0': 'linear', 'layer_1': 'Conv2D', 'layer_1_conv2d_filters': 16, 'layer_1_conv2d_fsize': 8, 'layer_1_conv2d_ssize': 1, 'activation_1': 'relu', 'layer_2': 'Conv2D', 'layer_2_conv2d_filters': 24, 'layer_2_conv2d_fsize': 8, 'layer_2_conv2d_ssize': 1, 'activation_2': 'relu', 'layer_3': 'Depthwise2D', 'layer_3_dwconv2d_fsize': 16, 'layer_3_dwconv2d_ssize': 4, 'activation_3': 'relu', 'output_dropout': 0.5006099458406352, 'lr_inicial': 0.0010673683519499173}. Best is trial 103 with value: 1.0.\n"
     ]
    },
    {
     "name": "stdout",
     "output_type": "stream",
     "text": [
      "INFO:tensorflow:Assets written to: saved_models/exp4_with_aug/best_model_t277/assets\n"
     ]
    },
    {
     "name": "stderr",
     "output_type": "stream",
     "text": [
      "INFO:tensorflow:Assets written to: saved_models/exp4_with_aug/best_model_t277/assets\n",
      "[I 2024-01-31 00:11:41,932] Trial 277 finished with value: 0.9599999785423279 and parameters: {'batchsize': 32, 'brightness_factor': 0.12028910125091427, 'gaussian_noise_factor': 0.005728377711643612, 'translate_factor': 0.006114204436826871, 'num_layers': 4, 'layer_0': 'Conv2D', 'layer_0_conv2d_filters': 8, 'layer_0_conv2d_fsize': 4, 'layer_0_conv2d_ssize': 2, 'activation_0': 'linear', 'layer_1': 'Conv2D', 'layer_1_conv2d_filters': 16, 'layer_1_conv2d_fsize': 4, 'layer_1_conv2d_ssize': 1, 'activation_1': 'relu', 'layer_2': 'Conv2D', 'layer_2_conv2d_filters': 28, 'layer_2_conv2d_fsize': 8, 'layer_2_conv2d_ssize': 1, 'activation_2': 'relu', 'layer_3': 'Depthwise2D', 'layer_3_dwconv2d_fsize': 16, 'layer_3_dwconv2d_ssize': 4, 'activation_3': 'linear', 'output_dropout': 0.5144327555252024, 'lr_inicial': 0.0009866474742112694}. Best is trial 103 with value: 1.0.\n"
     ]
    },
    {
     "name": "stdout",
     "output_type": "stream",
     "text": [
      "INFO:tensorflow:Assets written to: saved_models/exp4_with_aug/best_model_t278/assets\n"
     ]
    },
    {
     "name": "stderr",
     "output_type": "stream",
     "text": [
      "INFO:tensorflow:Assets written to: saved_models/exp4_with_aug/best_model_t278/assets\n",
      "[I 2024-01-31 00:12:04,059] Trial 278 finished with value: 0.9200000166893005 and parameters: {'batchsize': 32, 'brightness_factor': 0.052437833090689154, 'gaussian_noise_factor': 0.022790548554410043, 'translate_factor': 0.023881562921345207, 'num_layers': 4, 'layer_0': 'Conv2D', 'layer_0_conv2d_filters': 8, 'layer_0_conv2d_fsize': 4, 'layer_0_conv2d_ssize': 2, 'activation_0': 'linear', 'layer_1': 'Conv2D', 'layer_1_conv2d_filters': 16, 'layer_1_conv2d_fsize': 3, 'layer_1_conv2d_ssize': 3, 'activation_1': 'relu', 'layer_2': 'Conv2D', 'layer_2_conv2d_filters': 24, 'layer_2_conv2d_fsize': 8, 'layer_2_conv2d_ssize': 1, 'activation_2': 'tanh', 'layer_3': 'Depthwise2D', 'layer_3_dwconv2d_fsize': 16, 'layer_3_dwconv2d_ssize': 4, 'activation_3': 'linear', 'output_dropout': 0.5087706836515118, 'lr_inicial': 0.0011977762813880318}. Best is trial 103 with value: 1.0.\n"
     ]
    },
    {
     "name": "stdout",
     "output_type": "stream",
     "text": [
      "INFO:tensorflow:Assets written to: saved_models/exp4_with_aug/best_model_t279/assets\n"
     ]
    },
    {
     "name": "stderr",
     "output_type": "stream",
     "text": [
      "INFO:tensorflow:Assets written to: saved_models/exp4_with_aug/best_model_t279/assets\n",
      "[I 2024-01-31 00:13:08,026] Trial 279 finished with value: 0.30000001192092896 and parameters: {'batchsize': 32, 'brightness_factor': 0.06232241043079144, 'gaussian_noise_factor': 0.014914784014563174, 'translate_factor': 0.019009085391956938, 'num_layers': 4, 'layer_0': 'Conv2D', 'layer_0_conv2d_filters': 8, 'layer_0_conv2d_fsize': 4, 'layer_0_conv2d_ssize': 2, 'activation_0': 'linear', 'layer_1': 'Conv2D', 'layer_1_conv2d_filters': 16, 'layer_1_conv2d_fsize': 4, 'layer_1_conv2d_ssize': 1, 'activation_1': 'relu', 'layer_2': 'Conv2D', 'layer_2_conv2d_filters': 24, 'layer_2_conv2d_fsize': 16, 'layer_2_conv2d_ssize': 1, 'activation_2': 'relu', 'layer_3': 'Depthwise2D', 'layer_3_dwconv2d_fsize': 16, 'layer_3_dwconv2d_ssize': 3, 'activation_3': 'linear', 'output_dropout': 0.5342230504286507, 'lr_inicial': 0.0010744254835808047}. Best is trial 103 with value: 1.0.\n"
     ]
    },
    {
     "name": "stdout",
     "output_type": "stream",
     "text": [
      "INFO:tensorflow:Assets written to: saved_models/exp4_with_aug/best_model_t280/assets\n"
     ]
    },
    {
     "name": "stderr",
     "output_type": "stream",
     "text": [
      "INFO:tensorflow:Assets written to: saved_models/exp4_with_aug/best_model_t280/assets\n",
      "[I 2024-01-31 00:13:41,878] Trial 280 finished with value: 0.9599999785423279 and parameters: {'batchsize': 32, 'brightness_factor': 0.12612541058943144, 'gaussian_noise_factor': 0.0002895925426419681, 'translate_factor': 0.08005026831512507, 'num_layers': 4, 'layer_0': 'Conv2D', 'layer_0_conv2d_filters': 12, 'layer_0_conv2d_fsize': 4, 'layer_0_conv2d_ssize': 2, 'activation_0': 'linear', 'layer_1': 'Conv2D', 'layer_1_conv2d_filters': 16, 'layer_1_conv2d_fsize': 4, 'layer_1_conv2d_ssize': 1, 'activation_1': 'relu', 'layer_2': 'Conv2D', 'layer_2_conv2d_filters': 24, 'layer_2_conv2d_fsize': 8, 'layer_2_conv2d_ssize': 2, 'activation_2': 'relu', 'layer_3': 'Depthwise2D', 'layer_3_dwconv2d_fsize': 16, 'layer_3_dwconv2d_ssize': 4, 'activation_3': 'linear', 'output_dropout': 0.52446028679748, 'lr_inicial': 0.001295668460069674}. Best is trial 103 with value: 1.0.\n"
     ]
    },
    {
     "name": "stdout",
     "output_type": "stream",
     "text": [
      "INFO:tensorflow:Assets written to: saved_models/exp4_with_aug/best_model_t281/assets\n"
     ]
    },
    {
     "name": "stderr",
     "output_type": "stream",
     "text": [
      "INFO:tensorflow:Assets written to: saved_models/exp4_with_aug/best_model_t281/assets\n",
      "[I 2024-01-31 00:14:22,332] Trial 281 finished with value: 1.0 and parameters: {'batchsize': 32, 'brightness_factor': 0.058518258153676984, 'gaussian_noise_factor': 0.007542646601276071, 'translate_factor': 0.010646361198933637, 'num_layers': 4, 'layer_0': 'Conv2D', 'layer_0_conv2d_filters': 4, 'layer_0_conv2d_fsize': 3, 'layer_0_conv2d_ssize': 2, 'activation_0': 'linear', 'layer_1': 'Conv2D', 'layer_1_conv2d_filters': 12, 'layer_1_conv2d_fsize': 4, 'layer_1_conv2d_ssize': 1, 'activation_1': 'relu', 'layer_2': 'Conv2D', 'layer_2_conv2d_filters': 28, 'layer_2_conv2d_fsize': 8, 'layer_2_conv2d_ssize': 1, 'activation_2': 'relu', 'layer_3': 'Depthwise2D', 'layer_3_dwconv2d_fsize': 16, 'layer_3_dwconv2d_ssize': 4, 'activation_3': 'linear', 'output_dropout': 0.37641789570066886, 'lr_inicial': 0.0009425941309142666}. Best is trial 103 with value: 1.0.\n"
     ]
    },
    {
     "name": "stdout",
     "output_type": "stream",
     "text": [
      "INFO:tensorflow:Assets written to: saved_models/exp4_with_aug/best_model_t282/assets\n"
     ]
    },
    {
     "name": "stderr",
     "output_type": "stream",
     "text": [
      "INFO:tensorflow:Assets written to: saved_models/exp4_with_aug/best_model_t282/assets\n",
      "[I 2024-01-31 00:15:02,260] Trial 282 finished with value: 0.9599999785423279 and parameters: {'batchsize': 32, 'brightness_factor': 0.05969838189585063, 'gaussian_noise_factor': 0.008089047350059253, 'translate_factor': 0.02995039355797731, 'num_layers': 4, 'layer_0': 'Conv2D', 'layer_0_conv2d_filters': 4, 'layer_0_conv2d_fsize': 3, 'layer_0_conv2d_ssize': 2, 'activation_0': 'linear', 'layer_1': 'Conv2D', 'layer_1_conv2d_filters': 16, 'layer_1_conv2d_fsize': 4, 'layer_1_conv2d_ssize': 1, 'activation_1': 'relu', 'layer_2': 'Conv2D', 'layer_2_conv2d_filters': 28, 'layer_2_conv2d_fsize': 8, 'layer_2_conv2d_ssize': 1, 'activation_2': 'relu', 'layer_3': 'Depthwise2D', 'layer_3_dwconv2d_fsize': 16, 'layer_3_dwconv2d_ssize': 4, 'activation_3': 'linear', 'output_dropout': 0.5415203252587063, 'lr_inicial': 0.000858193992939857}. Best is trial 103 with value: 1.0.\n"
     ]
    },
    {
     "name": "stdout",
     "output_type": "stream",
     "text": [
      "INFO:tensorflow:Assets written to: saved_models/exp4_with_aug/best_model_t283/assets\n"
     ]
    },
    {
     "name": "stderr",
     "output_type": "stream",
     "text": [
      "INFO:tensorflow:Assets written to: saved_models/exp4_with_aug/best_model_t283/assets\n",
      "[I 2024-01-31 00:15:47,376] Trial 283 finished with value: 0.9800000190734863 and parameters: {'batchsize': 32, 'brightness_factor': 0.05551652467314313, 'gaussian_noise_factor': 0.004051629727648318, 'translate_factor': 0.013235813880662875, 'num_layers': 4, 'layer_0': 'Conv2D', 'layer_0_conv2d_filters': 4, 'layer_0_conv2d_fsize': 3, 'layer_0_conv2d_ssize': 2, 'activation_0': 'linear', 'layer_1': 'Conv2D', 'layer_1_conv2d_filters': 20, 'layer_1_conv2d_fsize': 4, 'layer_1_conv2d_ssize': 1, 'activation_1': 'relu', 'layer_2': 'Conv2D', 'layer_2_conv2d_filters': 28, 'layer_2_conv2d_fsize': 8, 'layer_2_conv2d_ssize': 1, 'activation_2': 'relu', 'layer_3': 'Depthwise2D', 'layer_3_dwconv2d_fsize': 16, 'layer_3_dwconv2d_ssize': 4, 'activation_3': 'linear', 'output_dropout': 0.37596070743756105, 'lr_inicial': 0.0009180717445012982}. Best is trial 103 with value: 1.0.\n"
     ]
    },
    {
     "name": "stdout",
     "output_type": "stream",
     "text": [
      "INFO:tensorflow:Assets written to: saved_models/exp4_with_aug/best_model_t284/assets\n"
     ]
    },
    {
     "name": "stderr",
     "output_type": "stream",
     "text": [
      "INFO:tensorflow:Assets written to: saved_models/exp4_with_aug/best_model_t284/assets\n",
      "[I 2024-01-31 00:16:37,645] Trial 284 finished with value: 0.9399999976158142 and parameters: {'batchsize': 32, 'brightness_factor': 0.04288563967169862, 'gaussian_noise_factor': 0.010765313214778404, 'translate_factor': 0.021419693808885622, 'num_layers': 4, 'layer_0': 'Conv2D', 'layer_0_conv2d_filters': 4, 'layer_0_conv2d_fsize': 3, 'layer_0_conv2d_ssize': 2, 'activation_0': 'linear', 'layer_1': 'Conv2D', 'layer_1_conv2d_filters': 16, 'layer_1_conv2d_fsize': 4, 'layer_1_conv2d_ssize': 1, 'activation_1': 'linear', 'layer_2': 'Conv2D', 'layer_2_conv2d_filters': 28, 'layer_2_conv2d_fsize': 8, 'layer_2_conv2d_ssize': 1, 'activation_2': 'relu', 'layer_3': 'Depthwise2D', 'layer_3_dwconv2d_fsize': 16, 'layer_3_dwconv2d_ssize': 4, 'activation_3': 'linear', 'output_dropout': 0.5291597197173861, 'lr_inicial': 0.0009757891004498741}. Best is trial 103 with value: 1.0.\n"
     ]
    },
    {
     "name": "stdout",
     "output_type": "stream",
     "text": [
      "INFO:tensorflow:Assets written to: saved_models/exp4_with_aug/best_model_t285/assets\n"
     ]
    },
    {
     "name": "stderr",
     "output_type": "stream",
     "text": [
      "INFO:tensorflow:Assets written to: saved_models/exp4_with_aug/best_model_t285/assets\n",
      "[I 2024-01-31 00:17:24,727] Trial 285 finished with value: 0.9599999785423279 and parameters: {'batchsize': 32, 'brightness_factor': 0.04969381111002825, 'gaussian_noise_factor': 0.019023006819679764, 'translate_factor': 0.01727869823875681, 'num_layers': 4, 'layer_0': 'Conv2D', 'layer_0_conv2d_filters': 4, 'layer_0_conv2d_fsize': 3, 'layer_0_conv2d_ssize': 2, 'activation_0': 'linear', 'layer_1': 'Conv2D', 'layer_1_conv2d_filters': 16, 'layer_1_conv2d_fsize': 4, 'layer_1_conv2d_ssize': 1, 'activation_1': 'relu', 'layer_2': 'Conv2D', 'layer_2_conv2d_filters': 32, 'layer_2_conv2d_fsize': 8, 'layer_2_conv2d_ssize': 1, 'activation_2': 'relu', 'layer_3': 'Depthwise2D', 'layer_3_dwconv2d_fsize': 16, 'layer_3_dwconv2d_ssize': 4, 'activation_3': 'linear', 'output_dropout': 0.3843956333129969, 'lr_inicial': 0.000952253196409722}. Best is trial 103 with value: 1.0.\n"
     ]
    },
    {
     "name": "stdout",
     "output_type": "stream",
     "text": [
      "INFO:tensorflow:Assets written to: saved_models/exp4_with_aug/best_model_t286/assets\n"
     ]
    },
    {
     "name": "stderr",
     "output_type": "stream",
     "text": [
      "INFO:tensorflow:Assets written to: saved_models/exp4_with_aug/best_model_t286/assets\n",
      "[I 2024-01-31 00:18:02,538] Trial 286 finished with value: 0.9399999976158142 and parameters: {'batchsize': 32, 'brightness_factor': 0.06165021746627669, 'gaussian_noise_factor': 0.007455176538815616, 'translate_factor': 0.1675458515331537, 'num_layers': 4, 'layer_0': 'Conv2D', 'layer_0_conv2d_filters': 4, 'layer_0_conv2d_fsize': 3, 'layer_0_conv2d_ssize': 2, 'activation_0': 'linear', 'layer_1': 'Conv2D', 'layer_1_conv2d_filters': 16, 'layer_1_conv2d_fsize': 4, 'layer_1_conv2d_ssize': 1, 'activation_1': 'relu', 'layer_2': 'Conv2D', 'layer_2_conv2d_filters': 24, 'layer_2_conv2d_fsize': 8, 'layer_2_conv2d_ssize': 1, 'activation_2': 'relu', 'layer_3': 'Depthwise2D', 'layer_3_dwconv2d_fsize': 16, 'layer_3_dwconv2d_ssize': 4, 'activation_3': 'linear', 'output_dropout': 0.35909600849603396, 'lr_inicial': 0.0008005097872431817}. Best is trial 103 with value: 1.0.\n"
     ]
    },
    {
     "name": "stdout",
     "output_type": "stream",
     "text": [
      "INFO:tensorflow:Assets written to: saved_models/exp4_with_aug/best_model_t287/assets\n"
     ]
    },
    {
     "name": "stderr",
     "output_type": "stream",
     "text": [
      "INFO:tensorflow:Assets written to: saved_models/exp4_with_aug/best_model_t287/assets\n",
      "[I 2024-01-31 00:18:36,380] Trial 287 finished with value: 0.8799999952316284 and parameters: {'batchsize': 32, 'brightness_factor': 0.05746629503014952, 'gaussian_noise_factor': 0.01395455749185055, 'translate_factor': 0.009712399662060911, 'num_layers': 4, 'layer_0': 'Conv2D', 'layer_0_conv2d_filters': 8, 'layer_0_conv2d_fsize': 16, 'layer_0_conv2d_ssize': 2, 'activation_0': 'linear', 'layer_1': 'Conv2D', 'layer_1_conv2d_filters': 16, 'layer_1_conv2d_fsize': 4, 'layer_1_conv2d_ssize': 1, 'activation_1': 'relu', 'layer_2': 'Conv2D', 'layer_2_conv2d_filters': 28, 'layer_2_conv2d_fsize': 8, 'layer_2_conv2d_ssize': 3, 'activation_2': 'relu', 'layer_3': 'Depthwise2D', 'layer_3_dwconv2d_fsize': 16, 'layer_3_dwconv2d_ssize': 4, 'activation_3': 'linear', 'output_dropout': 0.34228578002467314, 'lr_inicial': 0.0008626277089752954}. Best is trial 103 with value: 1.0.\n"
     ]
    },
    {
     "name": "stdout",
     "output_type": "stream",
     "text": [
      "INFO:tensorflow:Assets written to: saved_models/exp4_with_aug/best_model_t288/assets\n"
     ]
    },
    {
     "name": "stderr",
     "output_type": "stream",
     "text": [
      "INFO:tensorflow:Assets written to: saved_models/exp4_with_aug/best_model_t288/assets\n",
      "[I 2024-01-31 00:19:10,002] Trial 288 finished with value: 0.9200000166893005 and parameters: {'batchsize': 32, 'brightness_factor': 0.005748806908809051, 'gaussian_noise_factor': 0.004092181939889692, 'translate_factor': 0.025533403321176772, 'num_layers': 4, 'layer_0': 'Pointwise2D', 'layer_0_pwconv2d_filters': 28, 'layer_0_pwconv2d_ssize': 3, 'activation_0': 'relu', 'layer_1': 'Conv2D', 'layer_1_conv2d_filters': 16, 'layer_1_conv2d_fsize': 4, 'layer_1_conv2d_ssize': 1, 'activation_1': 'relu', 'layer_2': 'Conv2D', 'layer_2_conv2d_filters': 24, 'layer_2_conv2d_fsize': 8, 'layer_2_conv2d_ssize': 1, 'activation_2': 'relu', 'layer_3': 'Depthwise2D', 'layer_3_dwconv2d_fsize': 3, 'layer_3_dwconv2d_ssize': 4, 'activation_3': 'linear', 'output_dropout': 0.31186729506327715, 'lr_inicial': 0.0010559553191583652}. Best is trial 103 with value: 1.0.\n"
     ]
    },
    {
     "name": "stdout",
     "output_type": "stream",
     "text": [
      "INFO:tensorflow:Assets written to: saved_models/exp4_with_aug/best_model_t289/assets\n"
     ]
    },
    {
     "name": "stderr",
     "output_type": "stream",
     "text": [
      "INFO:tensorflow:Assets written to: saved_models/exp4_with_aug/best_model_t289/assets\n",
      "[I 2024-01-31 00:22:01,517] Trial 289 finished with value: 0.8399999737739563 and parameters: {'batchsize': 32, 'brightness_factor': 0.06880164111059836, 'gaussian_noise_factor': 0.1534340276168925, 'translate_factor': 0.015441116343556719, 'num_layers': 4, 'layer_0': 'Conv2D', 'layer_0_conv2d_filters': 4, 'layer_0_conv2d_fsize': 4, 'layer_0_conv2d_ssize': 2, 'activation_0': 'linear', 'layer_1': 'Conv2D', 'layer_1_conv2d_filters': 20, 'layer_1_conv2d_fsize': 4, 'layer_1_conv2d_ssize': 1, 'activation_1': 'relu', 'layer_2': 'Conv2D', 'layer_2_conv2d_filters': 24, 'layer_2_conv2d_fsize': 16, 'layer_2_conv2d_ssize': 1, 'activation_2': 'relu', 'layer_3': 'Depthwise2D', 'layer_3_dwconv2d_fsize': 16, 'layer_3_dwconv2d_ssize': 4, 'activation_3': 'linear', 'output_dropout': 0.37738925599394396, 'lr_inicial': 0.0010054916772897868}. Best is trial 103 with value: 1.0.\n"
     ]
    },
    {
     "name": "stdout",
     "output_type": "stream",
     "text": [
      "INFO:tensorflow:Assets written to: saved_models/exp4_with_aug/best_model_t290/assets\n"
     ]
    },
    {
     "name": "stderr",
     "output_type": "stream",
     "text": [
      "INFO:tensorflow:Assets written to: saved_models/exp4_with_aug/best_model_t290/assets\n",
      "[I 2024-01-31 00:22:53,956] Trial 290 finished with value: 0.4399999976158142 and parameters: {'batchsize': 32, 'brightness_factor': 0.05109423158076423, 'gaussian_noise_factor': 0.010561772098745285, 'translate_factor': 0.012175130303445048, 'num_layers': 4, 'layer_0': 'Conv2D', 'layer_0_conv2d_filters': 20, 'layer_0_conv2d_fsize': 4, 'layer_0_conv2d_ssize': 2, 'activation_0': 'linear', 'layer_1': 'Conv2D', 'layer_1_conv2d_filters': 16, 'layer_1_conv2d_fsize': 4, 'layer_1_conv2d_ssize': 1, 'activation_1': 'relu', 'layer_2': 'Conv2D', 'layer_2_conv2d_filters': 24, 'layer_2_conv2d_fsize': 8, 'layer_2_conv2d_ssize': 1, 'activation_2': 'relu', 'layer_3': 'Conv2D', 'layer_3_conv2d_filters': 12, 'layer_3_conv2d_fsize': 5, 'layer_3_conv2d_ssize': 1, 'activation_3': 'linear', 'output_dropout': 0.36847313274116833, 'lr_inicial': 0.0011153476467765466}. Best is trial 103 with value: 1.0.\n"
     ]
    },
    {
     "name": "stdout",
     "output_type": "stream",
     "text": [
      "INFO:tensorflow:Assets written to: saved_models/exp4_with_aug/best_model_t291/assets\n"
     ]
    },
    {
     "name": "stderr",
     "output_type": "stream",
     "text": [
      "INFO:tensorflow:Assets written to: saved_models/exp4_with_aug/best_model_t291/assets\n",
      "[I 2024-01-31 00:23:20,410] Trial 291 finished with value: 0.9800000190734863 and parameters: {'batchsize': 32, 'brightness_factor': 0.052782469630633835, 'gaussian_noise_factor': 1.341693331726422e-05, 'translate_factor': 0.003726084531541722, 'num_layers': 4, 'layer_0': 'Depthwise2D', 'layer_0_dwconv2d_fsize': 3, 'layer_0_dwconv2d_ssize': 3, 'activation_0': 'linear', 'layer_1': 'Conv2D', 'layer_1_conv2d_filters': 16, 'layer_1_conv2d_fsize': 4, 'layer_1_conv2d_ssize': 1, 'activation_1': 'relu', 'layer_2': 'Conv2D', 'layer_2_conv2d_filters': 24, 'layer_2_conv2d_fsize': 8, 'layer_2_conv2d_ssize': 1, 'activation_2': 'relu', 'layer_3': 'Depthwise2D', 'layer_3_dwconv2d_fsize': 16, 'layer_3_dwconv2d_ssize': 4, 'activation_3': 'relu', 'output_dropout': 0.4888782104561939, 'lr_inicial': 0.000905223405908623}. Best is trial 103 with value: 1.0.\n"
     ]
    },
    {
     "name": "stdout",
     "output_type": "stream",
     "text": [
      "INFO:tensorflow:Assets written to: saved_models/exp4_with_aug/best_model_t292/assets\n"
     ]
    },
    {
     "name": "stderr",
     "output_type": "stream",
     "text": [
      "INFO:tensorflow:Assets written to: saved_models/exp4_with_aug/best_model_t292/assets\n",
      "[I 2024-01-31 00:23:43,664] Trial 292 finished with value: 0.7599999904632568 and parameters: {'batchsize': 32, 'brightness_factor': 0.04622788823954328, 'gaussian_noise_factor': 0.17722528354345174, 'translate_factor': 0.02130316541616676, 'num_layers': 4, 'layer_0': 'Conv2D', 'layer_0_conv2d_filters': 8, 'layer_0_conv2d_fsize': 5, 'layer_0_conv2d_ssize': 2, 'activation_0': 'linear', 'layer_1': 'Conv2D', 'layer_1_conv2d_filters': 12, 'layer_1_conv2d_fsize': 4, 'layer_1_conv2d_ssize': 1, 'activation_1': 'relu', 'layer_2': 'Pointwise2D', 'layer_2_pwconv2d_filters': 28, 'layer_2_pwconv2d_ssize': 4, 'activation_2': 'relu', 'layer_3': 'Depthwise2D', 'layer_3_dwconv2d_fsize': 16, 'layer_3_dwconv2d_ssize': 2, 'activation_3': 'linear', 'output_dropout': 0.38857440702094503, 'lr_inicial': 0.001023697294708575}. Best is trial 103 with value: 1.0.\n"
     ]
    },
    {
     "name": "stdout",
     "output_type": "stream",
     "text": [
      "INFO:tensorflow:Assets written to: saved_models/exp4_with_aug/best_model_t293/assets\n"
     ]
    },
    {
     "name": "stderr",
     "output_type": "stream",
     "text": [
      "INFO:tensorflow:Assets written to: saved_models/exp4_with_aug/best_model_t293/assets\n",
      "[I 2024-01-31 00:24:01,804] Trial 293 finished with value: 0.9399999976158142 and parameters: {'batchsize': 32, 'brightness_factor': 0.03250976023916774, 'gaussian_noise_factor': 0.01749490207141163, 'translate_factor': 0.031071958889267812, 'num_layers': 4, 'layer_0': 'Conv2D', 'layer_0_conv2d_filters': 8, 'layer_0_conv2d_fsize': 8, 'layer_0_conv2d_ssize': 2, 'activation_0': 'linear', 'layer_1': 'Depthwise2D', 'layer_1_dwconv2d_fsize': 3, 'layer_1_dwconv2d_ssize': 3, 'activation_1': 'relu', 'layer_2': 'Conv2D', 'layer_2_conv2d_filters': 24, 'layer_2_conv2d_fsize': 8, 'layer_2_conv2d_ssize': 4, 'activation_2': 'tanh', 'layer_3': 'Depthwise2D', 'layer_3_dwconv2d_fsize': 16, 'layer_3_dwconv2d_ssize': 4, 'activation_3': 'linear', 'output_dropout': 0.45950355998688835, 'lr_inicial': 0.0009477971185955605}. Best is trial 103 with value: 1.0.\n"
     ]
    },
    {
     "name": "stdout",
     "output_type": "stream",
     "text": [
      "INFO:tensorflow:Assets written to: saved_models/exp4_with_aug/best_model_t294/assets\n"
     ]
    },
    {
     "name": "stderr",
     "output_type": "stream",
     "text": [
      "INFO:tensorflow:Assets written to: saved_models/exp4_with_aug/best_model_t294/assets\n",
      "[I 2024-01-31 00:24:55,750] Trial 294 finished with value: 0.9800000190734863 and parameters: {'batchsize': 32, 'brightness_factor': 0.07387372575577203, 'gaussian_noise_factor': 0.007397541276350915, 'translate_factor': 0.026323268853061542, 'num_layers': 4, 'layer_0': 'Conv2D', 'layer_0_conv2d_filters': 8, 'layer_0_conv2d_fsize': 4, 'layer_0_conv2d_ssize': 2, 'activation_0': 'linear', 'layer_1': 'Conv2D', 'layer_1_conv2d_filters': 16, 'layer_1_conv2d_fsize': 8, 'layer_1_conv2d_ssize': 1, 'activation_1': 'relu', 'layer_2': 'Conv2D', 'layer_2_conv2d_filters': 28, 'layer_2_conv2d_fsize': 8, 'layer_2_conv2d_ssize': 1, 'activation_2': 'relu', 'layer_3': 'Depthwise2D', 'layer_3_dwconv2d_fsize': 16, 'layer_3_dwconv2d_ssize': 4, 'activation_3': 'linear', 'output_dropout': 0.5039080044553249, 'lr_inicial': 0.0011266225301814511}. Best is trial 103 with value: 1.0.\n"
     ]
    },
    {
     "name": "stdout",
     "output_type": "stream",
     "text": [
      "INFO:tensorflow:Assets written to: saved_models/exp4_with_aug/best_model_t295/assets\n"
     ]
    },
    {
     "name": "stderr",
     "output_type": "stream",
     "text": [
      "INFO:tensorflow:Assets written to: saved_models/exp4_with_aug/best_model_t295/assets\n",
      "[I 2024-01-31 00:25:16,013] Trial 295 finished with value: 0.9599999785423279 and parameters: {'batchsize': 32, 'brightness_factor': 0.11440625225558836, 'gaussian_noise_factor': 0.02075241009918287, 'translate_factor': 0.008644620138870934, 'num_layers': 4, 'layer_0': 'Conv2D', 'layer_0_conv2d_filters': 4, 'layer_0_conv2d_fsize': 4, 'layer_0_conv2d_ssize': 4, 'activation_0': 'linear', 'layer_1': 'Conv2D', 'layer_1_conv2d_filters': 20, 'layer_1_conv2d_fsize': 4, 'layer_1_conv2d_ssize': 1, 'activation_1': 'relu', 'layer_2': 'Depthwise2D', 'layer_2_dwconv2d_fsize': 3, 'layer_2_dwconv2d_ssize': 1, 'activation_2': 'relu', 'layer_3': 'Depthwise2D', 'layer_3_dwconv2d_fsize': 16, 'layer_3_dwconv2d_ssize': 4, 'activation_3': 'linear', 'output_dropout': 0.37358408776323315, 'lr_inicial': 0.0008416682331009084}. Best is trial 103 with value: 1.0.\n"
     ]
    },
    {
     "name": "stdout",
     "output_type": "stream",
     "text": [
      "INFO:tensorflow:Assets written to: saved_models/exp4_with_aug/best_model_t296/assets\n"
     ]
    },
    {
     "name": "stderr",
     "output_type": "stream",
     "text": [
      "INFO:tensorflow:Assets written to: saved_models/exp4_with_aug/best_model_t296/assets\n",
      "[I 2024-01-31 00:26:19,763] Trial 296 finished with value: 0.699999988079071 and parameters: {'batchsize': 128, 'brightness_factor': 0.06463851503068092, 'gaussian_noise_factor': 0.01501413278266243, 'translate_factor': 0.01849528562139026, 'num_layers': 4, 'layer_0': 'Conv2D', 'layer_0_conv2d_filters': 8, 'layer_0_conv2d_fsize': 4, 'layer_0_conv2d_ssize': 2, 'activation_0': 'linear', 'layer_1': 'Conv2D', 'layer_1_conv2d_filters': 16, 'layer_1_conv2d_fsize': 3, 'layer_1_conv2d_ssize': 1, 'activation_1': 'linear', 'layer_2': 'Conv2D', 'layer_2_conv2d_filters': 24, 'layer_2_conv2d_fsize': 8, 'layer_2_conv2d_ssize': 1, 'activation_2': 'relu', 'layer_3': 'Pointwise2D', 'layer_3_pwconv2d_filters': 28, 'layer_3_pwconv2d_ssize': 2, 'activation_3': 'linear', 'output_dropout': 0.5384256216266949, 'lr_inicial': 0.0010485032073604648}. Best is trial 103 with value: 1.0.\n"
     ]
    },
    {
     "name": "stdout",
     "output_type": "stream",
     "text": [
      "INFO:tensorflow:Assets written to: saved_models/exp4_with_aug/best_model_t297/assets\n"
     ]
    },
    {
     "name": "stderr",
     "output_type": "stream",
     "text": [
      "INFO:tensorflow:Assets written to: saved_models/exp4_with_aug/best_model_t297/assets\n",
      "[I 2024-01-31 00:26:59,120] Trial 297 finished with value: 0.6800000071525574 and parameters: {'batchsize': 32, 'brightness_factor': 0.03948304715246247, 'gaussian_noise_factor': 0.003913200317964137, 'translate_factor': 0.013139988896486928, 'num_layers': 4, 'layer_0': 'Conv2D', 'layer_0_conv2d_filters': 8, 'layer_0_conv2d_fsize': 4, 'layer_0_conv2d_ssize': 2, 'activation_0': 'linear', 'layer_1': 'Conv2D', 'layer_1_conv2d_filters': 16, 'layer_1_conv2d_fsize': 4, 'layer_1_conv2d_ssize': 1, 'activation_1': 'tanh', 'layer_2': 'Conv2D', 'layer_2_conv2d_filters': 24, 'layer_2_conv2d_fsize': 5, 'layer_2_conv2d_ssize': 1, 'activation_2': 'linear', 'layer_3': 'Depthwise2D', 'layer_3_dwconv2d_fsize': 16, 'layer_3_dwconv2d_ssize': 4, 'activation_3': 'linear', 'output_dropout': 0.40879022508520985, 'lr_inicial': 0.0011818497917260062}. Best is trial 103 with value: 1.0.\n"
     ]
    },
    {
     "name": "stdout",
     "output_type": "stream",
     "text": [
      "INFO:tensorflow:Assets written to: saved_models/exp4_with_aug/best_model_t298/assets\n"
     ]
    },
    {
     "name": "stderr",
     "output_type": "stream",
     "text": [
      "INFO:tensorflow:Assets written to: saved_models/exp4_with_aug/best_model_t298/assets\n",
      "[I 2024-01-31 00:27:13,592] Trial 298 finished with value: 0.8199999928474426 and parameters: {'batchsize': 32, 'brightness_factor': 0.05945385647687181, 'gaussian_noise_factor': 0.01242114951052122, 'translate_factor': 0.022156819639210474, 'num_layers': 1, 'layer_0': 'Conv2D', 'layer_0_conv2d_filters': 8, 'layer_0_conv2d_fsize': 4, 'layer_0_conv2d_ssize': 3, 'activation_0': 'linear', 'output_dropout': 0.4447693382258449, 'lr_inicial': 0.0009814101544450638}. Best is trial 103 with value: 1.0.\n"
     ]
    },
    {
     "name": "stdout",
     "output_type": "stream",
     "text": [
      "INFO:tensorflow:Assets written to: saved_models/exp4_with_aug/best_model_t299/assets\n"
     ]
    },
    {
     "name": "stderr",
     "output_type": "stream",
     "text": [
      "INFO:tensorflow:Assets written to: saved_models/exp4_with_aug/best_model_t299/assets\n",
      "[I 2024-01-31 00:27:42,374] Trial 299 finished with value: 0.9800000190734863 and parameters: {'batchsize': 32, 'brightness_factor': 0.05497898531177192, 'gaussian_noise_factor': 0.023892401548890496, 'translate_factor': 0.015405942561736413, 'num_layers': 4, 'layer_0': 'Conv2D', 'layer_0_conv2d_filters': 8, 'layer_0_conv2d_fsize': 4, 'layer_0_conv2d_ssize': 2, 'activation_0': 'linear', 'layer_1': 'Conv2D', 'layer_1_conv2d_filters': 16, 'layer_1_conv2d_fsize': 4, 'layer_1_conv2d_ssize': 1, 'activation_1': 'relu', 'layer_2': 'Conv2D', 'layer_2_conv2d_filters': 20, 'layer_2_conv2d_fsize': 3, 'layer_2_conv2d_ssize': 1, 'activation_2': 'relu', 'layer_3': 'Depthwise2D', 'layer_3_dwconv2d_fsize': 5, 'layer_3_dwconv2d_ssize': 4, 'activation_3': 'linear', 'output_dropout': 0.5191597951901296, 'lr_inicial': 0.0013615855713598232}. Best is trial 103 with value: 1.0.\n"
     ]
    },
    {
     "data": {
      "text/plain": [
       "['saved_studies/2024:01:31:00:27:42.pkl']"
      ]
     },
     "execution_count": 5,
     "metadata": {},
     "output_type": "execute_result"
    }
   ],
   "source": [
    "EXP_ID = \"exp4_with_aug\"\n",
    "keras.utils.disable_interactive_logging()\n",
    "\n",
    "# start searching for a model\n",
    "study = search()\n",
    "\n",
    "# save the study\n",
    "now = datetime.now()\n",
    "joblib.dump(study, \"saved_studies/\" + now.strftime(\"%Y:%m:%d:%H:%M:%S\") + \".pkl\")"
   ]
  },
  {
   "cell_type": "markdown",
   "metadata": {},
   "source": [
    "# visualizations"
   ]
  },
  {
   "cell_type": "code",
   "execution_count": 6,
   "metadata": {},
   "outputs": [
    {
     "name": "stdout",
     "output_type": "stream",
     "text": [
      "Number of finished trials:  300\n",
      "Best trial id: 103\n",
      "  Value:  1.0\n",
      "  Params: \n",
      "    batchsize: 32\n",
      "    brightness_factor: 0.07810315809868569\n",
      "    gaussian_noise_factor: 0.012366729993256585\n",
      "    translate_factor: 0.03243066408331395\n",
      "    num_layers: 2\n",
      "    layer_0: Conv2D\n",
      "    layer_0_conv2d_filters: 8\n",
      "    layer_0_conv2d_fsize: 4\n",
      "    layer_0_conv2d_ssize: 3\n",
      "    activation_0: linear\n",
      "    layer_1: Conv2D\n",
      "    layer_1_conv2d_filters: 8\n",
      "    layer_1_conv2d_fsize: 5\n",
      "    layer_1_conv2d_ssize: 1\n",
      "    activation_1: relu\n",
      "    output_dropout: 0.4566767363346691\n",
      "    lr_inicial: 0.0011698580163583688\n"
     ]
    }
   ],
   "source": [
    "print(\"Number of finished trials: \", len(study.trials))\n",
    "\n",
    "trial = study.best_trial\n",
    "print(f\"Best trial id: {trial._trial_id}\")\n",
    "\n",
    "print(\"  Value: \", trial.value)\n",
    "\n",
    "print(\"  Params: \")\n",
    "for key, value in trial.params.items():\n",
    "    print(\"    {}: {}\".format(key, value))"
   ]
  },
  {
   "cell_type": "code",
   "execution_count": 7,
   "metadata": {},
   "outputs": [],
   "source": [
    "from optuna.visualization import plot_optimization_history\n",
    "from optuna.visualization import plot_parallel_coordinate\n",
    "from optuna.visualization import plot_param_importances"
   ]
  },
  {
   "cell_type": "code",
   "execution_count": 8,
   "metadata": {},
   "outputs": [
    {
     "data": {
      "application/vnd.plotly.v1+json": {
       "config": {
        "plotlyServerURL": "https://plot.ly"
       },
       "data": [
        {
         "mode": "markers",
         "name": "Objective Value",
         "type": "scatter",
         "x": [
          0,
          1,
          2,
          3,
          4,
          5,
          6,
          7,
          8,
          9,
          10,
          11,
          12,
          13,
          14,
          15,
          16,
          17,
          18,
          19,
          20,
          21,
          22,
          23,
          24,
          25,
          26,
          27,
          28,
          29,
          30,
          31,
          32,
          33,
          34,
          35,
          36,
          37,
          38,
          39,
          40,
          41,
          42,
          43,
          44,
          45,
          46,
          47,
          48,
          49,
          50,
          51,
          52,
          53,
          54,
          55,
          56,
          57,
          58,
          59,
          60,
          61,
          62,
          63,
          64,
          65,
          66,
          67,
          68,
          69,
          70,
          71,
          72,
          73,
          74,
          75,
          76,
          77,
          78,
          79,
          80,
          81,
          82,
          83,
          84,
          85,
          86,
          87,
          88,
          89,
          90,
          91,
          92,
          93,
          94,
          95,
          96,
          97,
          98,
          99,
          100,
          101,
          102,
          103,
          104,
          105,
          106,
          107,
          108,
          109,
          110,
          111,
          112,
          113,
          114,
          115,
          116,
          117,
          118,
          119,
          120,
          121,
          122,
          123,
          124,
          125,
          126,
          127,
          128,
          129,
          130,
          131,
          132,
          133,
          134,
          135,
          136,
          137,
          138,
          139,
          140,
          141,
          142,
          143,
          144,
          145,
          146,
          147,
          148,
          149,
          150,
          151,
          152,
          153,
          154,
          155,
          156,
          157,
          158,
          159,
          160,
          161,
          162,
          163,
          164,
          165,
          166,
          167,
          168,
          169,
          170,
          171,
          172,
          173,
          174,
          175,
          176,
          177,
          178,
          179,
          180,
          181,
          182,
          183,
          184,
          185,
          186,
          187,
          188,
          189,
          190,
          191,
          192,
          193,
          194,
          195,
          196,
          197,
          198,
          199,
          200,
          201,
          202,
          203,
          204,
          205,
          206,
          207,
          208,
          209,
          210,
          211,
          212,
          213,
          214,
          215,
          216,
          217,
          218,
          219,
          220,
          221,
          222,
          223,
          224,
          225,
          226,
          227,
          228,
          229,
          230,
          231,
          232,
          233,
          234,
          235,
          236,
          237,
          238,
          239,
          240,
          241,
          242,
          243,
          244,
          245,
          246,
          247,
          248,
          249,
          250,
          251,
          252,
          253,
          254,
          255,
          256,
          257,
          258,
          259,
          260,
          261,
          262,
          263,
          264,
          265,
          266,
          267,
          268,
          269,
          270,
          271,
          272,
          273,
          274,
          275,
          276,
          277,
          278,
          279,
          280,
          281,
          282,
          283,
          284,
          285,
          286,
          287,
          288,
          289,
          290,
          291,
          292,
          293,
          294,
          295,
          296,
          297,
          298,
          299
         ],
         "y": [
          0.699999988079071,
          0.6000000238418579,
          0.8399999737739563,
          0.6600000262260437,
          0.7200000286102295,
          0.6800000071525574,
          0.6000000238418579,
          0.6200000047683716,
          0.7200000286102295,
          0.699999988079071,
          0.8999999761581421,
          0.8600000143051147,
          0.699999988079071,
          0.8799999952316284,
          0.8600000143051147,
          0.7200000286102295,
          0.800000011920929,
          0.7200000286102295,
          0.7200000286102295,
          0.5799999833106995,
          0.800000011920929,
          0.8799999952316284,
          0.8399999737739563,
          0.9599999785423279,
          0.7200000286102295,
          0.699999988079071,
          0.8399999737739563,
          0.9599999785423279,
          0.699999988079071,
          0.8199999928474426,
          0.5799999833106995,
          0.8600000143051147,
          0.8999999761581421,
          0.9599999785423279,
          0.7400000095367432,
          0.8999999761581421,
          0.6399999856948853,
          0.7599999904632568,
          0.5799999833106995,
          0.6600000262260437,
          0.800000011920929,
          0.8999999761581421,
          0.8399999737739563,
          0.7599999904632568,
          0.7400000095367432,
          0.8199999928474426,
          0.8799999952316284,
          0.7200000286102295,
          0.7200000286102295,
          0.7200000286102295,
          0.800000011920929,
          0.8999999761581421,
          0.9399999976158142,
          0.41999998688697815,
          0.9800000190734863,
          0.9800000190734863,
          0.8999999761581421,
          0.30000001192092896,
          0.9800000190734863,
          0.8199999928474426,
          0.7200000286102295,
          0.9200000166893005,
          0.9599999785423279,
          0.9599999785423279,
          0.9599999785423279,
          0.9200000166893005,
          0.9200000166893005,
          0.9800000190734863,
          0.20000000298023224,
          0.7799999713897705,
          0.8799999952316284,
          0.9800000190734863,
          0.9399999976158142,
          0.9599999785423279,
          0.7599999904632568,
          0.9200000166893005,
          0.7799999713897705,
          0.6800000071525574,
          0.7599999904632568,
          0.800000011920929,
          0.9399999976158142,
          0.9200000166893005,
          0.8999999761581421,
          0.8999999761581421,
          0.9399999976158142,
          0.8600000143051147,
          0.699999988079071,
          0.8799999952316284,
          0.8999999761581421,
          0.6800000071525574,
          0.6800000071525574,
          0.9599999785423279,
          0.9599999785423279,
          0.9800000190734863,
          0.8799999952316284,
          0.8799999952316284,
          0.8999999761581421,
          0.800000011920929,
          0.9399999976158142,
          0.6800000071525574,
          0.8600000143051147,
          0.8999999761581421,
          0.8799999952316284,
          1,
          0.9399999976158142,
          0.8199999928474426,
          0.8600000143051147,
          0.7200000286102295,
          0.699999988079071,
          0.5,
          0.6600000262260437,
          0.9599999785423279,
          0.9800000190734863,
          0.8600000143051147,
          0.8999999761581421,
          0.8399999737739563,
          0.6399999856948853,
          0.9399999976158142,
          0.7799999713897705,
          0.8799999952316284,
          0.9399999976158142,
          0.9399999976158142,
          0.9599999785423279,
          0.9200000166893005,
          0.8799999952316284,
          0.7200000286102295,
          0.8799999952316284,
          0.7200000286102295,
          0.9599999785423279,
          0.800000011920929,
          1,
          0.9200000166893005,
          0.9399999976158142,
          0.9599999785423279,
          0.3199999928474426,
          0.9399999976158142,
          0.7200000286102295,
          0.8399999737739563,
          0.800000011920929,
          0.7799999713897705,
          0.7200000286102295,
          0.9599999785423279,
          0.9599999785423279,
          0.9800000190734863,
          0.8999999761581421,
          0.7200000286102295,
          0.2800000011920929,
          0.20000000298023224,
          0.8999999761581421,
          0.8600000143051147,
          0.7599999904632568,
          0.8999999761581421,
          0.9599999785423279,
          0.9399999976158142,
          0.8399999737739563,
          0.9599999785423279,
          0.8399999737739563,
          0.6800000071525574,
          0.800000011920929,
          0.699999988079071,
          0.800000011920929,
          0.9599999785423279,
          0.9800000190734863,
          0.9200000166893005,
          0.9399999976158142,
          0.8399999737739563,
          0.9800000190734863,
          0.9599999785423279,
          0.20000000298023224,
          0.6800000071525574,
          0.7400000095367432,
          0.5,
          0.9599999785423279,
          1,
          0.9800000190734863,
          0.9800000190734863,
          0.9800000190734863,
          0.2800000011920929,
          0.9599999785423279,
          0.7400000095367432,
          1,
          0.9800000190734863,
          0.9800000190734863,
          0.9800000190734863,
          1,
          0.9800000190734863,
          0.9800000190734863,
          0.9800000190734863,
          1,
          0.8999999761581421,
          0.8600000143051147,
          0.9599999785423279,
          1,
          0.9800000190734863,
          0.9399999976158142,
          0.9599999785423279,
          0.699999988079071,
          0.9800000190734863,
          0.9599999785423279,
          0.8399999737739563,
          0.9800000190734863,
          1,
          1,
          1,
          1,
          0.9800000190734863,
          0.9800000190734863,
          0.9399999976158142,
          1,
          0.9399999976158142,
          0.9200000166893005,
          0.9800000190734863,
          0.9800000190734863,
          1,
          0.9800000190734863,
          0.7400000095367432,
          0.9800000190734863,
          0.9800000190734863,
          0.6800000071525574,
          0.9599999785423279,
          0.9800000190734863,
          0.9800000190734863,
          0.9599999785423279,
          1,
          0.9800000190734863,
          1,
          1,
          0.9800000190734863,
          0.9599999785423279,
          0.9399999976158142,
          0.9800000190734863,
          0.9800000190734863,
          1,
          1,
          0.8600000143051147,
          0.9800000190734863,
          0.7400000095367432,
          0.6800000071525574,
          0.6399999856948853,
          0.8799999952316284,
          0.9200000166893005,
          0.9800000190734863,
          0.9800000190734863,
          0.9599999785423279,
          1,
          0.9200000166893005,
          0.9200000166893005,
          0.9599999785423279,
          0.9399999976158142,
          0.8399999737739563,
          0.8999999761581421,
          0.9800000190734863,
          0.9200000166893005,
          0.8799999952316284,
          0.9599999785423279,
          0.9599999785423279,
          0.7799999713897705,
          0.8399999737739563,
          0.8399999737739563,
          0.6800000071525574,
          0.3799999952316284,
          0.8600000143051147,
          0.800000011920929,
          0.9599999785423279,
          0.9800000190734863,
          0.9800000190734863,
          0.9399999976158142,
          0.9399999976158142,
          0.8600000143051147,
          0.9599999785423279,
          0.8199999928474426,
          0.9599999785423279,
          0.9200000166893005,
          0.9800000190734863,
          0.8399999737739563,
          0.9399999976158142,
          0.9200000166893005,
          0.9599999785423279,
          0.9200000166893005,
          0.30000001192092896,
          0.9599999785423279,
          1,
          0.9599999785423279,
          0.9800000190734863,
          0.9399999976158142,
          0.9599999785423279,
          0.9399999976158142,
          0.8799999952316284,
          0.9200000166893005,
          0.8399999737739563,
          0.4399999976158142,
          0.9800000190734863,
          0.7599999904632568,
          0.9399999976158142,
          0.9800000190734863,
          0.9599999785423279,
          0.699999988079071,
          0.6800000071525574,
          0.8199999928474426,
          0.9800000190734863
         ]
        },
        {
         "mode": "lines",
         "name": "Best Value",
         "type": "scatter",
         "x": [
          0,
          1,
          2,
          3,
          4,
          5,
          6,
          7,
          8,
          9,
          10,
          11,
          12,
          13,
          14,
          15,
          16,
          17,
          18,
          19,
          20,
          21,
          22,
          23,
          24,
          25,
          26,
          27,
          28,
          29,
          30,
          31,
          32,
          33,
          34,
          35,
          36,
          37,
          38,
          39,
          40,
          41,
          42,
          43,
          44,
          45,
          46,
          47,
          48,
          49,
          50,
          51,
          52,
          53,
          54,
          55,
          56,
          57,
          58,
          59,
          60,
          61,
          62,
          63,
          64,
          65,
          66,
          67,
          68,
          69,
          70,
          71,
          72,
          73,
          74,
          75,
          76,
          77,
          78,
          79,
          80,
          81,
          82,
          83,
          84,
          85,
          86,
          87,
          88,
          89,
          90,
          91,
          92,
          93,
          94,
          95,
          96,
          97,
          98,
          99,
          100,
          101,
          102,
          103,
          104,
          105,
          106,
          107,
          108,
          109,
          110,
          111,
          112,
          113,
          114,
          115,
          116,
          117,
          118,
          119,
          120,
          121,
          122,
          123,
          124,
          125,
          126,
          127,
          128,
          129,
          130,
          131,
          132,
          133,
          134,
          135,
          136,
          137,
          138,
          139,
          140,
          141,
          142,
          143,
          144,
          145,
          146,
          147,
          148,
          149,
          150,
          151,
          152,
          153,
          154,
          155,
          156,
          157,
          158,
          159,
          160,
          161,
          162,
          163,
          164,
          165,
          166,
          167,
          168,
          169,
          170,
          171,
          172,
          173,
          174,
          175,
          176,
          177,
          178,
          179,
          180,
          181,
          182,
          183,
          184,
          185,
          186,
          187,
          188,
          189,
          190,
          191,
          192,
          193,
          194,
          195,
          196,
          197,
          198,
          199,
          200,
          201,
          202,
          203,
          204,
          205,
          206,
          207,
          208,
          209,
          210,
          211,
          212,
          213,
          214,
          215,
          216,
          217,
          218,
          219,
          220,
          221,
          222,
          223,
          224,
          225,
          226,
          227,
          228,
          229,
          230,
          231,
          232,
          233,
          234,
          235,
          236,
          237,
          238,
          239,
          240,
          241,
          242,
          243,
          244,
          245,
          246,
          247,
          248,
          249,
          250,
          251,
          252,
          253,
          254,
          255,
          256,
          257,
          258,
          259,
          260,
          261,
          262,
          263,
          264,
          265,
          266,
          267,
          268,
          269,
          270,
          271,
          272,
          273,
          274,
          275,
          276,
          277,
          278,
          279,
          280,
          281,
          282,
          283,
          284,
          285,
          286,
          287,
          288,
          289,
          290,
          291,
          292,
          293,
          294,
          295,
          296,
          297,
          298,
          299
         ],
         "y": [
          0.699999988079071,
          0.699999988079071,
          0.8399999737739563,
          0.8399999737739563,
          0.8399999737739563,
          0.8399999737739563,
          0.8399999737739563,
          0.8399999737739563,
          0.8399999737739563,
          0.8399999737739563,
          0.8999999761581421,
          0.8999999761581421,
          0.8999999761581421,
          0.8999999761581421,
          0.8999999761581421,
          0.8999999761581421,
          0.8999999761581421,
          0.8999999761581421,
          0.8999999761581421,
          0.8999999761581421,
          0.8999999761581421,
          0.8999999761581421,
          0.8999999761581421,
          0.9599999785423279,
          0.9599999785423279,
          0.9599999785423279,
          0.9599999785423279,
          0.9599999785423279,
          0.9599999785423279,
          0.9599999785423279,
          0.9599999785423279,
          0.9599999785423279,
          0.9599999785423279,
          0.9599999785423279,
          0.9599999785423279,
          0.9599999785423279,
          0.9599999785423279,
          0.9599999785423279,
          0.9599999785423279,
          0.9599999785423279,
          0.9599999785423279,
          0.9599999785423279,
          0.9599999785423279,
          0.9599999785423279,
          0.9599999785423279,
          0.9599999785423279,
          0.9599999785423279,
          0.9599999785423279,
          0.9599999785423279,
          0.9599999785423279,
          0.9599999785423279,
          0.9599999785423279,
          0.9599999785423279,
          0.9599999785423279,
          0.9800000190734863,
          0.9800000190734863,
          0.9800000190734863,
          0.9800000190734863,
          0.9800000190734863,
          0.9800000190734863,
          0.9800000190734863,
          0.9800000190734863,
          0.9800000190734863,
          0.9800000190734863,
          0.9800000190734863,
          0.9800000190734863,
          0.9800000190734863,
          0.9800000190734863,
          0.9800000190734863,
          0.9800000190734863,
          0.9800000190734863,
          0.9800000190734863,
          0.9800000190734863,
          0.9800000190734863,
          0.9800000190734863,
          0.9800000190734863,
          0.9800000190734863,
          0.9800000190734863,
          0.9800000190734863,
          0.9800000190734863,
          0.9800000190734863,
          0.9800000190734863,
          0.9800000190734863,
          0.9800000190734863,
          0.9800000190734863,
          0.9800000190734863,
          0.9800000190734863,
          0.9800000190734863,
          0.9800000190734863,
          0.9800000190734863,
          0.9800000190734863,
          0.9800000190734863,
          0.9800000190734863,
          0.9800000190734863,
          0.9800000190734863,
          0.9800000190734863,
          0.9800000190734863,
          0.9800000190734863,
          0.9800000190734863,
          0.9800000190734863,
          0.9800000190734863,
          0.9800000190734863,
          0.9800000190734863,
          1,
          1,
          1,
          1,
          1,
          1,
          1,
          1,
          1,
          1,
          1,
          1,
          1,
          1,
          1,
          1,
          1,
          1,
          1,
          1,
          1,
          1,
          1,
          1,
          1,
          1,
          1,
          1,
          1,
          1,
          1,
          1,
          1,
          1,
          1,
          1,
          1,
          1,
          1,
          1,
          1,
          1,
          1,
          1,
          1,
          1,
          1,
          1,
          1,
          1,
          1,
          1,
          1,
          1,
          1,
          1,
          1,
          1,
          1,
          1,
          1,
          1,
          1,
          1,
          1,
          1,
          1,
          1,
          1,
          1,
          1,
          1,
          1,
          1,
          1,
          1,
          1,
          1,
          1,
          1,
          1,
          1,
          1,
          1,
          1,
          1,
          1,
          1,
          1,
          1,
          1,
          1,
          1,
          1,
          1,
          1,
          1,
          1,
          1,
          1,
          1,
          1,
          1,
          1,
          1,
          1,
          1,
          1,
          1,
          1,
          1,
          1,
          1,
          1,
          1,
          1,
          1,
          1,
          1,
          1,
          1,
          1,
          1,
          1,
          1,
          1,
          1,
          1,
          1,
          1,
          1,
          1,
          1,
          1,
          1,
          1,
          1,
          1,
          1,
          1,
          1,
          1,
          1,
          1,
          1,
          1,
          1,
          1,
          1,
          1,
          1,
          1,
          1,
          1,
          1,
          1,
          1,
          1,
          1,
          1,
          1,
          1,
          1,
          1,
          1,
          1,
          1,
          1,
          1,
          1,
          1,
          1,
          1,
          1,
          1,
          1,
          1,
          1,
          1,
          1,
          1,
          1,
          1,
          1,
          1,
          1,
          1,
          1,
          1,
          1,
          1,
          1,
          1,
          1,
          1,
          1,
          1
         ]
        },
        {
         "marker": {
          "color": "#cccccc"
         },
         "mode": "markers",
         "name": "Infeasible Trial",
         "showlegend": false,
         "type": "scatter",
         "x": [],
         "y": []
        }
       ],
       "layout": {
        "template": {
         "data": {
          "bar": [
           {
            "error_x": {
             "color": "#2a3f5f"
            },
            "error_y": {
             "color": "#2a3f5f"
            },
            "marker": {
             "line": {
              "color": "#E5ECF6",
              "width": 0.5
             },
             "pattern": {
              "fillmode": "overlay",
              "size": 10,
              "solidity": 0.2
             }
            },
            "type": "bar"
           }
          ],
          "barpolar": [
           {
            "marker": {
             "line": {
              "color": "#E5ECF6",
              "width": 0.5
             },
             "pattern": {
              "fillmode": "overlay",
              "size": 10,
              "solidity": 0.2
             }
            },
            "type": "barpolar"
           }
          ],
          "carpet": [
           {
            "aaxis": {
             "endlinecolor": "#2a3f5f",
             "gridcolor": "white",
             "linecolor": "white",
             "minorgridcolor": "white",
             "startlinecolor": "#2a3f5f"
            },
            "baxis": {
             "endlinecolor": "#2a3f5f",
             "gridcolor": "white",
             "linecolor": "white",
             "minorgridcolor": "white",
             "startlinecolor": "#2a3f5f"
            },
            "type": "carpet"
           }
          ],
          "choropleth": [
           {
            "colorbar": {
             "outlinewidth": 0,
             "ticks": ""
            },
            "type": "choropleth"
           }
          ],
          "contour": [
           {
            "colorbar": {
             "outlinewidth": 0,
             "ticks": ""
            },
            "colorscale": [
             [
              0,
              "#0d0887"
             ],
             [
              0.1111111111111111,
              "#46039f"
             ],
             [
              0.2222222222222222,
              "#7201a8"
             ],
             [
              0.3333333333333333,
              "#9c179e"
             ],
             [
              0.4444444444444444,
              "#bd3786"
             ],
             [
              0.5555555555555556,
              "#d8576b"
             ],
             [
              0.6666666666666666,
              "#ed7953"
             ],
             [
              0.7777777777777778,
              "#fb9f3a"
             ],
             [
              0.8888888888888888,
              "#fdca26"
             ],
             [
              1,
              "#f0f921"
             ]
            ],
            "type": "contour"
           }
          ],
          "contourcarpet": [
           {
            "colorbar": {
             "outlinewidth": 0,
             "ticks": ""
            },
            "type": "contourcarpet"
           }
          ],
          "heatmap": [
           {
            "colorbar": {
             "outlinewidth": 0,
             "ticks": ""
            },
            "colorscale": [
             [
              0,
              "#0d0887"
             ],
             [
              0.1111111111111111,
              "#46039f"
             ],
             [
              0.2222222222222222,
              "#7201a8"
             ],
             [
              0.3333333333333333,
              "#9c179e"
             ],
             [
              0.4444444444444444,
              "#bd3786"
             ],
             [
              0.5555555555555556,
              "#d8576b"
             ],
             [
              0.6666666666666666,
              "#ed7953"
             ],
             [
              0.7777777777777778,
              "#fb9f3a"
             ],
             [
              0.8888888888888888,
              "#fdca26"
             ],
             [
              1,
              "#f0f921"
             ]
            ],
            "type": "heatmap"
           }
          ],
          "heatmapgl": [
           {
            "colorbar": {
             "outlinewidth": 0,
             "ticks": ""
            },
            "colorscale": [
             [
              0,
              "#0d0887"
             ],
             [
              0.1111111111111111,
              "#46039f"
             ],
             [
              0.2222222222222222,
              "#7201a8"
             ],
             [
              0.3333333333333333,
              "#9c179e"
             ],
             [
              0.4444444444444444,
              "#bd3786"
             ],
             [
              0.5555555555555556,
              "#d8576b"
             ],
             [
              0.6666666666666666,
              "#ed7953"
             ],
             [
              0.7777777777777778,
              "#fb9f3a"
             ],
             [
              0.8888888888888888,
              "#fdca26"
             ],
             [
              1,
              "#f0f921"
             ]
            ],
            "type": "heatmapgl"
           }
          ],
          "histogram": [
           {
            "marker": {
             "pattern": {
              "fillmode": "overlay",
              "size": 10,
              "solidity": 0.2
             }
            },
            "type": "histogram"
           }
          ],
          "histogram2d": [
           {
            "colorbar": {
             "outlinewidth": 0,
             "ticks": ""
            },
            "colorscale": [
             [
              0,
              "#0d0887"
             ],
             [
              0.1111111111111111,
              "#46039f"
             ],
             [
              0.2222222222222222,
              "#7201a8"
             ],
             [
              0.3333333333333333,
              "#9c179e"
             ],
             [
              0.4444444444444444,
              "#bd3786"
             ],
             [
              0.5555555555555556,
              "#d8576b"
             ],
             [
              0.6666666666666666,
              "#ed7953"
             ],
             [
              0.7777777777777778,
              "#fb9f3a"
             ],
             [
              0.8888888888888888,
              "#fdca26"
             ],
             [
              1,
              "#f0f921"
             ]
            ],
            "type": "histogram2d"
           }
          ],
          "histogram2dcontour": [
           {
            "colorbar": {
             "outlinewidth": 0,
             "ticks": ""
            },
            "colorscale": [
             [
              0,
              "#0d0887"
             ],
             [
              0.1111111111111111,
              "#46039f"
             ],
             [
              0.2222222222222222,
              "#7201a8"
             ],
             [
              0.3333333333333333,
              "#9c179e"
             ],
             [
              0.4444444444444444,
              "#bd3786"
             ],
             [
              0.5555555555555556,
              "#d8576b"
             ],
             [
              0.6666666666666666,
              "#ed7953"
             ],
             [
              0.7777777777777778,
              "#fb9f3a"
             ],
             [
              0.8888888888888888,
              "#fdca26"
             ],
             [
              1,
              "#f0f921"
             ]
            ],
            "type": "histogram2dcontour"
           }
          ],
          "mesh3d": [
           {
            "colorbar": {
             "outlinewidth": 0,
             "ticks": ""
            },
            "type": "mesh3d"
           }
          ],
          "parcoords": [
           {
            "line": {
             "colorbar": {
              "outlinewidth": 0,
              "ticks": ""
             }
            },
            "type": "parcoords"
           }
          ],
          "pie": [
           {
            "automargin": true,
            "type": "pie"
           }
          ],
          "scatter": [
           {
            "fillpattern": {
             "fillmode": "overlay",
             "size": 10,
             "solidity": 0.2
            },
            "type": "scatter"
           }
          ],
          "scatter3d": [
           {
            "line": {
             "colorbar": {
              "outlinewidth": 0,
              "ticks": ""
             }
            },
            "marker": {
             "colorbar": {
              "outlinewidth": 0,
              "ticks": ""
             }
            },
            "type": "scatter3d"
           }
          ],
          "scattercarpet": [
           {
            "marker": {
             "colorbar": {
              "outlinewidth": 0,
              "ticks": ""
             }
            },
            "type": "scattercarpet"
           }
          ],
          "scattergeo": [
           {
            "marker": {
             "colorbar": {
              "outlinewidth": 0,
              "ticks": ""
             }
            },
            "type": "scattergeo"
           }
          ],
          "scattergl": [
           {
            "marker": {
             "colorbar": {
              "outlinewidth": 0,
              "ticks": ""
             }
            },
            "type": "scattergl"
           }
          ],
          "scattermapbox": [
           {
            "marker": {
             "colorbar": {
              "outlinewidth": 0,
              "ticks": ""
             }
            },
            "type": "scattermapbox"
           }
          ],
          "scatterpolar": [
           {
            "marker": {
             "colorbar": {
              "outlinewidth": 0,
              "ticks": ""
             }
            },
            "type": "scatterpolar"
           }
          ],
          "scatterpolargl": [
           {
            "marker": {
             "colorbar": {
              "outlinewidth": 0,
              "ticks": ""
             }
            },
            "type": "scatterpolargl"
           }
          ],
          "scatterternary": [
           {
            "marker": {
             "colorbar": {
              "outlinewidth": 0,
              "ticks": ""
             }
            },
            "type": "scatterternary"
           }
          ],
          "surface": [
           {
            "colorbar": {
             "outlinewidth": 0,
             "ticks": ""
            },
            "colorscale": [
             [
              0,
              "#0d0887"
             ],
             [
              0.1111111111111111,
              "#46039f"
             ],
             [
              0.2222222222222222,
              "#7201a8"
             ],
             [
              0.3333333333333333,
              "#9c179e"
             ],
             [
              0.4444444444444444,
              "#bd3786"
             ],
             [
              0.5555555555555556,
              "#d8576b"
             ],
             [
              0.6666666666666666,
              "#ed7953"
             ],
             [
              0.7777777777777778,
              "#fb9f3a"
             ],
             [
              0.8888888888888888,
              "#fdca26"
             ],
             [
              1,
              "#f0f921"
             ]
            ],
            "type": "surface"
           }
          ],
          "table": [
           {
            "cells": {
             "fill": {
              "color": "#EBF0F8"
             },
             "line": {
              "color": "white"
             }
            },
            "header": {
             "fill": {
              "color": "#C8D4E3"
             },
             "line": {
              "color": "white"
             }
            },
            "type": "table"
           }
          ]
         },
         "layout": {
          "annotationdefaults": {
           "arrowcolor": "#2a3f5f",
           "arrowhead": 0,
           "arrowwidth": 1
          },
          "autotypenumbers": "strict",
          "coloraxis": {
           "colorbar": {
            "outlinewidth": 0,
            "ticks": ""
           }
          },
          "colorscale": {
           "diverging": [
            [
             0,
             "#8e0152"
            ],
            [
             0.1,
             "#c51b7d"
            ],
            [
             0.2,
             "#de77ae"
            ],
            [
             0.3,
             "#f1b6da"
            ],
            [
             0.4,
             "#fde0ef"
            ],
            [
             0.5,
             "#f7f7f7"
            ],
            [
             0.6,
             "#e6f5d0"
            ],
            [
             0.7,
             "#b8e186"
            ],
            [
             0.8,
             "#7fbc41"
            ],
            [
             0.9,
             "#4d9221"
            ],
            [
             1,
             "#276419"
            ]
           ],
           "sequential": [
            [
             0,
             "#0d0887"
            ],
            [
             0.1111111111111111,
             "#46039f"
            ],
            [
             0.2222222222222222,
             "#7201a8"
            ],
            [
             0.3333333333333333,
             "#9c179e"
            ],
            [
             0.4444444444444444,
             "#bd3786"
            ],
            [
             0.5555555555555556,
             "#d8576b"
            ],
            [
             0.6666666666666666,
             "#ed7953"
            ],
            [
             0.7777777777777778,
             "#fb9f3a"
            ],
            [
             0.8888888888888888,
             "#fdca26"
            ],
            [
             1,
             "#f0f921"
            ]
           ],
           "sequentialminus": [
            [
             0,
             "#0d0887"
            ],
            [
             0.1111111111111111,
             "#46039f"
            ],
            [
             0.2222222222222222,
             "#7201a8"
            ],
            [
             0.3333333333333333,
             "#9c179e"
            ],
            [
             0.4444444444444444,
             "#bd3786"
            ],
            [
             0.5555555555555556,
             "#d8576b"
            ],
            [
             0.6666666666666666,
             "#ed7953"
            ],
            [
             0.7777777777777778,
             "#fb9f3a"
            ],
            [
             0.8888888888888888,
             "#fdca26"
            ],
            [
             1,
             "#f0f921"
            ]
           ]
          },
          "colorway": [
           "#636efa",
           "#EF553B",
           "#00cc96",
           "#ab63fa",
           "#FFA15A",
           "#19d3f3",
           "#FF6692",
           "#B6E880",
           "#FF97FF",
           "#FECB52"
          ],
          "font": {
           "color": "#2a3f5f"
          },
          "geo": {
           "bgcolor": "white",
           "lakecolor": "white",
           "landcolor": "#E5ECF6",
           "showlakes": true,
           "showland": true,
           "subunitcolor": "white"
          },
          "hoverlabel": {
           "align": "left"
          },
          "hovermode": "closest",
          "mapbox": {
           "style": "light"
          },
          "paper_bgcolor": "white",
          "plot_bgcolor": "#E5ECF6",
          "polar": {
           "angularaxis": {
            "gridcolor": "white",
            "linecolor": "white",
            "ticks": ""
           },
           "bgcolor": "#E5ECF6",
           "radialaxis": {
            "gridcolor": "white",
            "linecolor": "white",
            "ticks": ""
           }
          },
          "scene": {
           "xaxis": {
            "backgroundcolor": "#E5ECF6",
            "gridcolor": "white",
            "gridwidth": 2,
            "linecolor": "white",
            "showbackground": true,
            "ticks": "",
            "zerolinecolor": "white"
           },
           "yaxis": {
            "backgroundcolor": "#E5ECF6",
            "gridcolor": "white",
            "gridwidth": 2,
            "linecolor": "white",
            "showbackground": true,
            "ticks": "",
            "zerolinecolor": "white"
           },
           "zaxis": {
            "backgroundcolor": "#E5ECF6",
            "gridcolor": "white",
            "gridwidth": 2,
            "linecolor": "white",
            "showbackground": true,
            "ticks": "",
            "zerolinecolor": "white"
           }
          },
          "shapedefaults": {
           "line": {
            "color": "#2a3f5f"
           }
          },
          "ternary": {
           "aaxis": {
            "gridcolor": "white",
            "linecolor": "white",
            "ticks": ""
           },
           "baxis": {
            "gridcolor": "white",
            "linecolor": "white",
            "ticks": ""
           },
           "bgcolor": "#E5ECF6",
           "caxis": {
            "gridcolor": "white",
            "linecolor": "white",
            "ticks": ""
           }
          },
          "title": {
           "x": 0.05
          },
          "xaxis": {
           "automargin": true,
           "gridcolor": "white",
           "linecolor": "white",
           "ticks": "",
           "title": {
            "standoff": 15
           },
           "zerolinecolor": "white",
           "zerolinewidth": 2
          },
          "yaxis": {
           "automargin": true,
           "gridcolor": "white",
           "linecolor": "white",
           "ticks": "",
           "title": {
            "standoff": 15
           },
           "zerolinecolor": "white",
           "zerolinewidth": 2
          }
         }
        },
        "title": {
         "text": "Optimization History Plot"
        },
        "xaxis": {
         "title": {
          "text": "Trial"
         }
        },
        "yaxis": {
         "title": {
          "text": "Objective Value"
         }
        }
       }
      }
     },
     "metadata": {},
     "output_type": "display_data"
    }
   ],
   "source": [
    "plot_optimization_history(study)"
   ]
  },
  {
   "cell_type": "code",
   "execution_count": 20,
   "metadata": {},
   "outputs": [
    {
     "data": {
      "application/vnd.plotly.v1+json": {
       "config": {
        "plotlyServerURL": "https://plot.ly"
       },
       "data": [
        {
         "dimensions": [
          {
           "label": "Objective Value",
           "range": [
            0.20000000298023224,
            1
           ],
           "values": [
            0.6600000262260437,
            0.6000000238418579,
            0.7200000286102295,
            0.7200000286102295,
            0.8199999928474426,
            0.5799999833106995,
            0.7200000286102295,
            0.7799999713897705,
            0.7799999713897705,
            0.6800000071525574,
            0.6600000262260437,
            0.7200000286102295,
            0.699999988079071,
            0.7400000095367432,
            0.8399999737739563,
            0.8399999737739563,
            0.8199999928474426,
            0.699999988079071,
            0.6000000238418579,
            0.7200000286102295,
            0.5799999833106995,
            0.699999988079071,
            0.5799999833106995,
            0.7599999904632568,
            0.9800000190734863,
            0.8199999928474426,
            0.7200000286102295,
            0.9200000166893005,
            0.9599999785423279,
            0.9599999785423279,
            0.9599999785423279,
            0.9200000166893005,
            0.9200000166893005,
            0.9800000190734863,
            0.20000000298023224,
            0.8799999952316284,
            0.9800000190734863,
            0.9399999976158142,
            0.9599999785423279,
            0.7599999904632568,
            0.9200000166893005,
            0.7599999904632568,
            0.9200000166893005,
            0.8999999761581421,
            0.8999999761581421,
            0.9399999976158142,
            0.8600000143051147,
            0.8799999952316284,
            0.9599999785423279,
            0.9599999785423279,
            0.9800000190734863,
            0.8799999952316284,
            0.8799999952316284,
            0.800000011920929,
            0.8600000143051147,
            0.8999999761581421,
            0.8799999952316284,
            1,
            0.9399999976158142,
            0.8199999928474426,
            0.7200000286102295,
            0.5,
            0.9599999785423279,
            0.9800000190734863,
            0.8600000143051147,
            0.8999999761581421,
            0.8399999737739563,
            0.9399999976158142,
            0.8799999952316284,
            0.9399999976158142,
            0.9599999785423279,
            0.9200000166893005,
            0.8799999952316284,
            0.7200000286102295,
            0.8799999952316284,
            0.9599999785423279,
            1,
            0.9200000166893005,
            0.9399999976158142,
            0.9599999785423279,
            0.3199999928474426,
            0.9399999976158142,
            0.800000011920929,
            0.7799999713897705,
            0.9599999785423279,
            0.9599999785423279,
            0.9800000190734863,
            0.8999999761581421,
            0.7200000286102295,
            0.2800000011920929,
            0.8999999761581421,
            0.8600000143051147,
            0.8999999761581421,
            0.9599999785423279,
            0.9399999976158142,
            0.8399999737739563,
            0.9599999785423279,
            0.8399999737739563,
            0.800000011920929,
            0.800000011920929,
            0.9599999785423279,
            0.9800000190734863,
            0.9200000166893005,
            0.9399999976158142,
            0.8399999737739563,
            0.9599999785423279,
            0.8399999737739563,
            0.7200000286102295,
            0.6800000071525574,
            0.6200000047683716,
            0.699999988079071,
            0.8999999761581421,
            0.8600000143051147,
            0.699999988079071,
            0.8799999952316284,
            0.8600000143051147,
            0.800000011920929,
            0.7200000286102295,
            0.800000011920929,
            0.8799999952316284,
            0.8399999737739563,
            0.9599999785423279,
            0.7200000286102295,
            0.699999988079071,
            0.8399999737739563,
            0.9599999785423279,
            0.8600000143051147,
            0.8999999761581421,
            0.9599999785423279,
            0.7400000095367432,
            0.8999999761581421,
            0.6399999856948853,
            0.6600000262260437,
            0.800000011920929,
            0.8999999761581421,
            0.8399999737739563,
            0.7599999904632568,
            0.7400000095367432,
            0.8199999928474426,
            0.8799999952316284,
            0.7200000286102295,
            0.7200000286102295,
            0.800000011920929,
            0.8999999761581421,
            0.9399999976158142,
            0.41999998688697815,
            0.9800000190734863,
            0.9800000190734863,
            0.8999999761581421,
            0.30000001192092896,
            0.6800000071525574,
            0.800000011920929,
            0.9399999976158142,
            0.699999988079071,
            0.8999999761581421,
            0.6800000071525574,
            0.8999999761581421,
            0.9399999976158142,
            0.6800000071525574,
            0.8600000143051147,
            0.699999988079071,
            0.6399999856948853,
            0.7799999713897705,
            0.9399999976158142,
            0.7200000286102295,
            0.800000011920929,
            0.8399999737739563,
            0.7200000286102295,
            0.20000000298023224,
            0.7599999904632568,
            0.6800000071525574,
            0.9800000190734863,
            0.9599999785423279,
            0.20000000298023224,
            0.6800000071525574,
            0.7400000095367432,
            0.5,
            1,
            0.9800000190734863,
            0.9800000190734863,
            0.9800000190734863,
            0.2800000011920929,
            0.9599999785423279,
            0.7400000095367432,
            1,
            0.9800000190734863,
            0.9800000190734863,
            0.9800000190734863,
            1,
            0.9800000190734863,
            0.9800000190734863,
            0.9800000190734863,
            1,
            0.8999999761581421,
            0.8600000143051147,
            0.9599999785423279,
            1,
            0.9800000190734863,
            0.9399999976158142,
            0.9599999785423279,
            0.699999988079071,
            0.9800000190734863,
            0.9599999785423279,
            0.8399999737739563,
            0.9800000190734863,
            1,
            1,
            1,
            1,
            0.9800000190734863,
            0.9800000190734863,
            0.9399999976158142,
            1,
            0.9399999976158142,
            0.9200000166893005,
            0.9800000190734863,
            0.9800000190734863,
            1,
            0.9800000190734863,
            0.9800000190734863,
            0.9800000190734863,
            0.6800000071525574,
            0.9599999785423279,
            0.9800000190734863,
            0.9800000190734863,
            0.9599999785423279,
            1,
            0.9800000190734863,
            1,
            1,
            0.9800000190734863,
            0.9599999785423279,
            0.9399999976158142,
            0.9800000190734863,
            0.9800000190734863,
            1,
            1,
            0.8600000143051147,
            0.9800000190734863,
            0.7400000095367432,
            0.6800000071525574,
            0.6399999856948853,
            0.8799999952316284,
            0.9200000166893005,
            0.9800000190734863,
            0.9800000190734863,
            0.9599999785423279,
            1,
            0.9200000166893005,
            0.9200000166893005,
            0.9599999785423279,
            0.9399999976158142,
            0.8399999737739563,
            0.8999999761581421,
            0.9800000190734863,
            0.9200000166893005,
            0.8799999952316284,
            0.9599999785423279,
            0.9599999785423279,
            0.7799999713897705,
            0.8399999737739563,
            0.6800000071525574,
            0.3799999952316284,
            0.8600000143051147,
            0.800000011920929,
            0.9599999785423279,
            0.9800000190734863,
            0.9800000190734863,
            0.9399999976158142,
            0.9399999976158142,
            0.8600000143051147,
            0.9599999785423279,
            0.8199999928474426,
            0.9599999785423279,
            0.9200000166893005,
            0.9800000190734863,
            0.9399999976158142,
            0.9200000166893005,
            0.9599999785423279,
            0.9200000166893005,
            0.30000001192092896,
            0.9599999785423279,
            1,
            0.9599999785423279,
            0.9800000190734863,
            0.9399999976158142,
            0.9599999785423279,
            0.9399999976158142,
            0.8799999952316284,
            0.9200000166893005,
            0.8399999737739563,
            0.4399999976158142,
            0.9800000190734863,
            0.7599999904632568,
            0.9399999976158142,
            0.9800000190734863,
            0.9599999785423279,
            0.699999988079071,
            0.6800000071525574,
            0.9800000190734863
           ]
          },
          {
           "label": "activation_0",
           "range": [
            0,
            2
           ],
           "ticktext": [
            "linear",
            "tanh",
            "relu"
           ],
           "tickvals": [
            0,
            1,
            2
           ],
           "values": [
            0,
            2,
            0,
            2,
            2,
            0,
            1,
            0,
            2,
            1,
            1,
            0,
            0,
            0,
            0,
            0,
            0,
            0,
            0,
            1,
            1,
            1,
            1,
            1,
            0,
            0,
            0,
            0,
            0,
            0,
            0,
            0,
            0,
            0,
            2,
            0,
            0,
            0,
            0,
            0,
            0,
            0,
            0,
            0,
            0,
            0,
            0,
            0,
            0,
            0,
            0,
            0,
            0,
            0,
            0,
            0,
            0,
            0,
            0,
            0,
            1,
            0,
            0,
            0,
            0,
            0,
            0,
            0,
            0,
            0,
            0,
            0,
            0,
            0,
            2,
            0,
            1,
            1,
            1,
            1,
            1,
            1,
            1,
            0,
            0,
            0,
            0,
            0,
            0,
            1,
            0,
            2,
            0,
            0,
            0,
            0,
            0,
            1,
            0,
            1,
            0,
            0,
            0,
            0,
            0,
            0,
            1,
            1,
            0,
            2,
            0,
            1,
            1,
            1,
            1,
            1,
            1,
            1,
            1,
            1,
            1,
            1,
            1,
            2,
            1,
            1,
            1,
            1,
            1,
            1,
            0,
            1,
            1,
            2,
            1,
            1,
            1,
            1,
            0,
            1,
            1,
            1,
            0,
            0,
            0,
            0,
            0,
            0,
            0,
            0,
            0,
            0,
            2,
            1,
            1,
            0,
            1,
            0,
            1,
            2,
            0,
            0,
            1,
            0,
            1,
            0,
            0,
            0,
            0,
            0,
            0,
            0,
            0,
            1,
            0,
            0,
            0,
            0,
            0,
            0,
            0,
            0,
            0,
            0,
            0,
            0,
            0,
            0,
            0,
            0,
            0,
            0,
            0,
            0,
            0,
            0,
            0,
            0,
            0,
            0,
            0,
            0,
            0,
            0,
            0,
            0,
            0,
            0,
            0,
            0,
            0,
            0,
            0,
            2,
            0,
            0,
            0,
            0,
            0,
            0,
            0,
            0,
            0,
            0,
            0,
            0,
            0,
            0,
            0,
            0,
            0,
            0,
            0,
            0,
            0,
            0,
            0,
            0,
            0,
            0,
            0,
            0,
            0,
            0,
            0,
            0,
            0,
            0,
            0,
            0,
            0,
            0,
            2,
            0,
            0,
            0,
            0,
            0,
            0,
            0,
            0,
            0,
            0,
            0,
            0,
            0,
            0,
            0,
            0,
            0,
            2,
            0,
            0,
            0,
            0,
            0,
            0,
            0,
            0,
            0,
            0,
            0,
            0,
            0,
            0,
            0,
            0,
            0,
            0,
            2,
            0,
            0,
            0,
            0,
            0,
            0,
            0,
            0,
            0,
            0
           ]
          },
          {
           "label": "layer_0",
           "range": [
            0,
            2
           ],
           "ticktext": [
            "Conv2D",
            "Pointwise2D",
            "Depthwise2D"
           ],
           "tickvals": [
            0,
            1,
            2
           ],
           "values": [
            2,
            2,
            1,
            0,
            0,
            2,
            0,
            0,
            1,
            2,
            2,
            2,
            0,
            0,
            0,
            0,
            0,
            0,
            1,
            0,
            0,
            0,
            2,
            0,
            0,
            0,
            2,
            0,
            0,
            0,
            0,
            0,
            0,
            0,
            0,
            0,
            0,
            0,
            0,
            0,
            0,
            0,
            0,
            0,
            0,
            0,
            0,
            0,
            0,
            0,
            0,
            0,
            0,
            0,
            0,
            0,
            0,
            0,
            0,
            0,
            0,
            0,
            0,
            0,
            0,
            0,
            0,
            0,
            0,
            0,
            0,
            0,
            0,
            0,
            0,
            0,
            0,
            0,
            0,
            0,
            0,
            0,
            0,
            0,
            0,
            0,
            0,
            0,
            0,
            0,
            0,
            0,
            0,
            0,
            0,
            0,
            0,
            0,
            1,
            2,
            0,
            0,
            0,
            0,
            0,
            0,
            1,
            1,
            1,
            2,
            1,
            0,
            0,
            0,
            0,
            0,
            0,
            0,
            0,
            0,
            0,
            0,
            0,
            2,
            0,
            0,
            0,
            0,
            0,
            0,
            0,
            1,
            1,
            0,
            0,
            0,
            0,
            0,
            1,
            2,
            0,
            0,
            0,
            0,
            0,
            0,
            0,
            0,
            1,
            0,
            2,
            0,
            0,
            0,
            0,
            1,
            0,
            0,
            0,
            0,
            1,
            0,
            0,
            0,
            0,
            1,
            0,
            0,
            0,
            0,
            0,
            0,
            0,
            0,
            0,
            0,
            0,
            0,
            0,
            0,
            0,
            0,
            0,
            0,
            0,
            0,
            0,
            0,
            0,
            0,
            0,
            0,
            0,
            0,
            0,
            0,
            0,
            0,
            0,
            0,
            0,
            0,
            0,
            1,
            2,
            0,
            0,
            0,
            0,
            0,
            0,
            0,
            0,
            0,
            0,
            0,
            0,
            0,
            0,
            0,
            0,
            0,
            0,
            0,
            0,
            0,
            0,
            0,
            0,
            0,
            0,
            0,
            0,
            0,
            0,
            0,
            0,
            0,
            0,
            0,
            0,
            1,
            0,
            0,
            0,
            0,
            0,
            0,
            0,
            2,
            0,
            0,
            0,
            0,
            0,
            0,
            0,
            0,
            0,
            0,
            0,
            0,
            0,
            0,
            0,
            0,
            0,
            0,
            1,
            0,
            2,
            0,
            0,
            0,
            0,
            0,
            0,
            0,
            0,
            0,
            0,
            0,
            0,
            0,
            0,
            0,
            0,
            0,
            0,
            1,
            0,
            0,
            2,
            0,
            0,
            0,
            0,
            0,
            0,
            0
           ]
          },
          {
           "label": "lr_inicial",
           "range": [
            -3.999258996727115,
            -2.7041081992167464
           ],
           "ticktext": [
            "0.0001",
            "0.001",
            "0.00198"
           ],
           "tickvals": [
            -3.999258996727115,
            -3,
            -2.7041081992167464
           ],
           "values": [
            -3.293717538730958,
            -3.0556362565809185,
            -2.846011489172352,
            -3.9461176688479815,
            -3.415279170802057,
            -3.432249998889722,
            -3.2565307980981895,
            -2.961647667982978,
            -3.3048147777188377,
            -3.2183806721487307,
            -3.8481584113685967,
            -2.904361217241335,
            -3.0707401797166884,
            -2.938767104427022,
            -2.8992082973665565,
            -2.997458282657909,
            -3.008149452777925,
            -3.0549150758339643,
            -3.587677805934018,
            -3.82747425359435,
            -3.682884008913274,
            -3.504748117117692,
            -3.5829917334084693,
            -3.0760732357422094,
            -3.0684157599615585,
            -3.023897209081941,
            -2.8197587919286655,
            -3.106472129512527,
            -3.032332211955105,
            -2.9203559215063803,
            -3.044216206228249,
            -2.871559355079583,
            -3.2308783541291217,
            -2.9461209526189402,
            -2.7487071786176127,
            -3.0988319477321213,
            -3.0267540488122737,
            -2.9936826549621403,
            -2.9367556354848903,
            -2.8474664673297476,
            -3.0783758007611026,
            -3.706703176721503,
            -3.0092687429719813,
            -3.0392082777882172,
            -2.950213116173163,
            -3.113618699473649,
            -3.643489016460911,
            -2.883018661827667,
            -2.9203937253038172,
            -2.8087240183960254,
            -2.928092598319578,
            -3.5024998595021755,
            -2.9657593971619867,
            -3.1934539466740506,
            -2.989746583017523,
            -2.850846057019195,
            -2.9080308375534156,
            -2.931866844624674,
            -2.9313550502502763,
            -3.074819979943672,
            -2.948143889445503,
            -2.7845401938497436,
            -2.880327155159282,
            -2.9229763944555116,
            -2.9786672874577196,
            -3.2487118186381774,
            -3.140531640187154,
            -3.056960759935487,
            -3.013554409037735,
            -2.900949345802357,
            -2.931495423328021,
            -3.0942009868318254,
            -2.8796951159690547,
            -2.9656616259687714,
            -2.9295748655770684,
            -2.861387082597005,
            -3.038807474997768,
            -3.03886208651062,
            -2.9531780500394276,
            -3.07320822099525,
            -3.115539043639224,
            -2.992569052099832,
            -3.0270422992167236,
            -3.7900036011886913,
            -3.0562843765915995,
            -3.0462409342420353,
            -2.974925353859439,
            -2.967202753557797,
            -2.947080678155115,
            -2.9114807467824715,
            -2.827945890161761,
            -2.9710236104517853,
            -3.641357653604808,
            -3.005540443744003,
            -3.034056165016392,
            -3.0006666766622,
            -3.10661011902342,
            -3.142213586874315,
            -2.9329396658636413,
            -2.8782348324046088,
            -2.934618446616902,
            -3.0232899538910445,
            -3.0427139727718573,
            -3.0111541186851496,
            -2.983352953469342,
            -3.1253684668993635,
            -2.7838699415729424,
            -2.796987121788689,
            -3.5334592756033087,
            -3.473940051817522,
            -3.682699168363207,
            -3.947338705852561,
            -3.952376393867874,
            -3.999258996727115,
            -3.989896875454648,
            -3.8049912966645123,
            -3.7757059743690204,
            -3.333492257140916,
            -3.205031608636681,
            -3.9039031472829295,
            -3.894755864963487,
            -3.7279611639055,
            -3.691972939498464,
            -3.7660856872915343,
            -3.8602006672217524,
            -3.4446197730294488,
            -3.9869265344221687,
            -3.1882177729042387,
            -3.1563578057795105,
            -2.9847305065113843,
            -3.167510788062763,
            -3.275292181507001,
            -2.963994594071375,
            -3.6170136493580127,
            -3.146620142662388,
            -3.219918879357242,
            -3.3669639291756384,
            -2.7041081992167464,
            -3.0863739661494924,
            -2.975503745608927,
            -2.897287740954493,
            -3.3382785771587042,
            -3.552189102571292,
            -3.175142547336985,
            -3.1365790769495914,
            -3.132098578942907,
            -3.117020350149552,
            -3.0106261651723134,
            -3.0205701676898014,
            -2.9103668959822175,
            -3.4472138299660116,
            -3.058435842155913,
            -3.3995150918008425,
            -3.0609112729645664,
            -3.1580073837379357,
            -3.0036056172945074,
            -3.728555470975499,
            -3.0380141319075316,
            -3.115076745303346,
            -3.0240386819490057,
            -2.9888303807285017,
            -2.837586430221517,
            -3.2996613708785993,
            -2.7535452280695063,
            -3.0080027777890086,
            -3.5540932832351833,
            -3.902980277802005,
            -3.16950964668348,
            -3.3713884267863428,
            -3.0856858918166488,
            -2.9804037485463963,
            -3.056199791800744,
            -3.0888537958398983,
            -3.024214466103874,
            -3.7566761510414093,
            -3.4780211305209408,
            -3.0584027228459805,
            -2.9557817968935955,
            -2.950304716968637,
            -2.955704944931088,
            -2.970858019913859,
            -2.960611853036271,
            -2.8972041802401867,
            -2.9500651120432924,
            -2.9874836649873724,
            -2.98450974969715,
            -2.982456810543071,
            -2.9974450180389747,
            -2.9750098087977035,
            -2.921765653728546,
            -2.958949716380251,
            -2.9475705448460414,
            -3.018157720979945,
            -3.017520691467596,
            -2.9129358093261843,
            -2.98926802068637,
            -2.978260199852002,
            -2.9657372070514834,
            -3.01344570352489,
            -2.9356354617169775,
            -2.891174784630776,
            -3.047654801391045,
            -2.9709525862706534,
            -3.0115117704172123,
            -2.9237827220990034,
            -2.9767543112648465,
            -2.948075451425274,
            -2.9477702714643197,
            -2.938550818804109,
            -2.8590734176132133,
            -2.9985764271159323,
            -3.0351867731358277,
            -2.905587270056474,
            -2.8764036429034023,
            -2.901310926243437,
            -2.9274004815678905,
            -2.9917907599119284,
            -2.91230005707737,
            -2.9125371442227754,
            -2.891719777923265,
            -2.941251751342525,
            -2.9642821945096416,
            -2.8484042965292815,
            -2.915981103567745,
            -3.017766892818603,
            -2.984832432342167,
            -3.05342710382737,
            -3.0339456968860365,
            -2.9477096745521725,
            -2.9449038243749777,
            -2.9406721302219596,
            -2.8730662877354165,
            -2.9170445405467476,
            -2.90294584688563,
            -2.9551031129649297,
            -2.977380273188371,
            -2.9906684308489884,
            -2.9914627571856056,
            -2.972001238035205,
            -3.0010825996875976,
            -2.9403291408496277,
            -3.067362304474228,
            -2.964077914961097,
            -3.0119324086372665,
            -2.9355347333134034,
            -2.9779919108383166,
            -2.922463936359048,
            -2.9548381628987714,
            -2.9533273372271176,
            -2.9971934406461602,
            -2.9685624781866435,
            -3.0480837859978536,
            -2.9504362089869134,
            -2.8931086235851295,
            -3.021170880313544,
            -2.9862449108011635,
            -3.07736270297846,
            -2.9309875742458984,
            -3.0078740022041957,
            -2.964112947593367,
            -3.0298408108495614,
            -2.987027858359898,
            -2.949512536197143,
            -2.9182352381102064,
            -2.9722603366394775,
            -3.0515838888211673,
            -2.9999147409270157,
            -2.870093044821322,
            -2.940791254723405,
            -3.0910780368323625,
            -2.9013454522115545,
            -3.0251049454670236,
            -2.9773161712329546,
            -2.9512972967400795,
            -2.916834070221803,
            -3.039920367092048,
            -2.9382089168184953,
            -2.9716856784082784,
            -3.005837991557894,
            -2.921624291155204,
            -2.968823699476281,
            -2.887506112958097,
            -3.025675268713327,
            -3.0664145297033736,
            -3.0371233786859815,
            -3.0106440372597354,
            -3.021247560876757,
            -3.096633353913673,
            -3.0641765957358653,
            -2.976354457799838,
            -2.997621519818188,
            -2.9525897446836775,
            -3.043244225237038,
            -2.989828444407556,
            -3.023284615936207,
            -2.9482215679989086,
            -3.0748590639959352,
            -2.9794302366942778,
            -2.9274377169995036,
            -2.8659550594275336
           ]
          },
          {
           "label": "num_layers",
           "range": [
            0,
            2
           ],
           "ticktext": [
            "1",
            "2",
            "4"
           ],
           "tickvals": [
            0,
            1,
            2
           ],
           "values": [
            0,
            0,
            0,
            0,
            0,
            0,
            0,
            0,
            0,
            0,
            0,
            0,
            0,
            0,
            0,
            0,
            0,
            1,
            1,
            1,
            1,
            1,
            1,
            1,
            1,
            1,
            1,
            1,
            1,
            1,
            1,
            1,
            1,
            1,
            1,
            1,
            1,
            1,
            1,
            1,
            1,
            1,
            1,
            1,
            1,
            1,
            1,
            1,
            1,
            1,
            1,
            1,
            1,
            1,
            1,
            1,
            1,
            1,
            1,
            1,
            1,
            1,
            1,
            1,
            1,
            1,
            1,
            1,
            1,
            1,
            1,
            1,
            1,
            1,
            1,
            1,
            1,
            1,
            1,
            1,
            1,
            1,
            1,
            1,
            1,
            1,
            1,
            1,
            1,
            1,
            1,
            1,
            1,
            1,
            1,
            1,
            1,
            1,
            1,
            1,
            1,
            1,
            1,
            1,
            1,
            1,
            2,
            2,
            2,
            2,
            2,
            2,
            2,
            2,
            2,
            2,
            2,
            2,
            2,
            2,
            2,
            2,
            2,
            2,
            2,
            2,
            2,
            2,
            2,
            2,
            2,
            2,
            2,
            2,
            2,
            2,
            2,
            2,
            2,
            2,
            2,
            2,
            2,
            2,
            2,
            2,
            2,
            2,
            2,
            2,
            2,
            2,
            2,
            2,
            2,
            2,
            2,
            2,
            2,
            2,
            2,
            2,
            2,
            2,
            2,
            2,
            2,
            2,
            2,
            2,
            2,
            2,
            2,
            2,
            2,
            2,
            2,
            2,
            2,
            2,
            2,
            2,
            2,
            2,
            2,
            2,
            2,
            2,
            2,
            2,
            2,
            2,
            2,
            2,
            2,
            2,
            2,
            2,
            2,
            2,
            2,
            2,
            2,
            2,
            2,
            2,
            2,
            2,
            2,
            2,
            2,
            2,
            2,
            2,
            2,
            2,
            2,
            2,
            2,
            2,
            2,
            2,
            2,
            2,
            2,
            2,
            2,
            2,
            2,
            2,
            2,
            2,
            2,
            2,
            2,
            2,
            2,
            2,
            2,
            2,
            2,
            2,
            2,
            2,
            2,
            2,
            2,
            2,
            2,
            2,
            2,
            2,
            2,
            2,
            2,
            2,
            2,
            2,
            2,
            2,
            2,
            2,
            2,
            2,
            2,
            2,
            2,
            2,
            2,
            2,
            2,
            2,
            2,
            2,
            2,
            2,
            2,
            2,
            2,
            2,
            2,
            2,
            2,
            2,
            2,
            2,
            2,
            2,
            2,
            2,
            2,
            2,
            2,
            2,
            2,
            2,
            2,
            2,
            2,
            2
           ]
          }
         ],
         "labelangle": 30,
         "labelside": "bottom",
         "line": {
          "color": [
           0.6600000262260437,
           0.6000000238418579,
           0.7200000286102295,
           0.7200000286102295,
           0.8199999928474426,
           0.5799999833106995,
           0.7200000286102295,
           0.7799999713897705,
           0.7799999713897705,
           0.6800000071525574,
           0.6600000262260437,
           0.7200000286102295,
           0.699999988079071,
           0.7400000095367432,
           0.8399999737739563,
           0.8399999737739563,
           0.8199999928474426,
           0.699999988079071,
           0.6000000238418579,
           0.7200000286102295,
           0.5799999833106995,
           0.699999988079071,
           0.5799999833106995,
           0.7599999904632568,
           0.9800000190734863,
           0.8199999928474426,
           0.7200000286102295,
           0.9200000166893005,
           0.9599999785423279,
           0.9599999785423279,
           0.9599999785423279,
           0.9200000166893005,
           0.9200000166893005,
           0.9800000190734863,
           0.20000000298023224,
           0.8799999952316284,
           0.9800000190734863,
           0.9399999976158142,
           0.9599999785423279,
           0.7599999904632568,
           0.9200000166893005,
           0.7599999904632568,
           0.9200000166893005,
           0.8999999761581421,
           0.8999999761581421,
           0.9399999976158142,
           0.8600000143051147,
           0.8799999952316284,
           0.9599999785423279,
           0.9599999785423279,
           0.9800000190734863,
           0.8799999952316284,
           0.8799999952316284,
           0.800000011920929,
           0.8600000143051147,
           0.8999999761581421,
           0.8799999952316284,
           1,
           0.9399999976158142,
           0.8199999928474426,
           0.7200000286102295,
           0.5,
           0.9599999785423279,
           0.9800000190734863,
           0.8600000143051147,
           0.8999999761581421,
           0.8399999737739563,
           0.9399999976158142,
           0.8799999952316284,
           0.9399999976158142,
           0.9599999785423279,
           0.9200000166893005,
           0.8799999952316284,
           0.7200000286102295,
           0.8799999952316284,
           0.9599999785423279,
           1,
           0.9200000166893005,
           0.9399999976158142,
           0.9599999785423279,
           0.3199999928474426,
           0.9399999976158142,
           0.800000011920929,
           0.7799999713897705,
           0.9599999785423279,
           0.9599999785423279,
           0.9800000190734863,
           0.8999999761581421,
           0.7200000286102295,
           0.2800000011920929,
           0.8999999761581421,
           0.8600000143051147,
           0.8999999761581421,
           0.9599999785423279,
           0.9399999976158142,
           0.8399999737739563,
           0.9599999785423279,
           0.8399999737739563,
           0.800000011920929,
           0.800000011920929,
           0.9599999785423279,
           0.9800000190734863,
           0.9200000166893005,
           0.9399999976158142,
           0.8399999737739563,
           0.9599999785423279,
           0.8399999737739563,
           0.7200000286102295,
           0.6800000071525574,
           0.6200000047683716,
           0.699999988079071,
           0.8999999761581421,
           0.8600000143051147,
           0.699999988079071,
           0.8799999952316284,
           0.8600000143051147,
           0.800000011920929,
           0.7200000286102295,
           0.800000011920929,
           0.8799999952316284,
           0.8399999737739563,
           0.9599999785423279,
           0.7200000286102295,
           0.699999988079071,
           0.8399999737739563,
           0.9599999785423279,
           0.8600000143051147,
           0.8999999761581421,
           0.9599999785423279,
           0.7400000095367432,
           0.8999999761581421,
           0.6399999856948853,
           0.6600000262260437,
           0.800000011920929,
           0.8999999761581421,
           0.8399999737739563,
           0.7599999904632568,
           0.7400000095367432,
           0.8199999928474426,
           0.8799999952316284,
           0.7200000286102295,
           0.7200000286102295,
           0.800000011920929,
           0.8999999761581421,
           0.9399999976158142,
           0.41999998688697815,
           0.9800000190734863,
           0.9800000190734863,
           0.8999999761581421,
           0.30000001192092896,
           0.6800000071525574,
           0.800000011920929,
           0.9399999976158142,
           0.699999988079071,
           0.8999999761581421,
           0.6800000071525574,
           0.8999999761581421,
           0.9399999976158142,
           0.6800000071525574,
           0.8600000143051147,
           0.699999988079071,
           0.6399999856948853,
           0.7799999713897705,
           0.9399999976158142,
           0.7200000286102295,
           0.800000011920929,
           0.8399999737739563,
           0.7200000286102295,
           0.20000000298023224,
           0.7599999904632568,
           0.6800000071525574,
           0.9800000190734863,
           0.9599999785423279,
           0.20000000298023224,
           0.6800000071525574,
           0.7400000095367432,
           0.5,
           1,
           0.9800000190734863,
           0.9800000190734863,
           0.9800000190734863,
           0.2800000011920929,
           0.9599999785423279,
           0.7400000095367432,
           1,
           0.9800000190734863,
           0.9800000190734863,
           0.9800000190734863,
           1,
           0.9800000190734863,
           0.9800000190734863,
           0.9800000190734863,
           1,
           0.8999999761581421,
           0.8600000143051147,
           0.9599999785423279,
           1,
           0.9800000190734863,
           0.9399999976158142,
           0.9599999785423279,
           0.699999988079071,
           0.9800000190734863,
           0.9599999785423279,
           0.8399999737739563,
           0.9800000190734863,
           1,
           1,
           1,
           1,
           0.9800000190734863,
           0.9800000190734863,
           0.9399999976158142,
           1,
           0.9399999976158142,
           0.9200000166893005,
           0.9800000190734863,
           0.9800000190734863,
           1,
           0.9800000190734863,
           0.9800000190734863,
           0.9800000190734863,
           0.6800000071525574,
           0.9599999785423279,
           0.9800000190734863,
           0.9800000190734863,
           0.9599999785423279,
           1,
           0.9800000190734863,
           1,
           1,
           0.9800000190734863,
           0.9599999785423279,
           0.9399999976158142,
           0.9800000190734863,
           0.9800000190734863,
           1,
           1,
           0.8600000143051147,
           0.9800000190734863,
           0.7400000095367432,
           0.6800000071525574,
           0.6399999856948853,
           0.8799999952316284,
           0.9200000166893005,
           0.9800000190734863,
           0.9800000190734863,
           0.9599999785423279,
           1,
           0.9200000166893005,
           0.9200000166893005,
           0.9599999785423279,
           0.9399999976158142,
           0.8399999737739563,
           0.8999999761581421,
           0.9800000190734863,
           0.9200000166893005,
           0.8799999952316284,
           0.9599999785423279,
           0.9599999785423279,
           0.7799999713897705,
           0.8399999737739563,
           0.6800000071525574,
           0.3799999952316284,
           0.8600000143051147,
           0.800000011920929,
           0.9599999785423279,
           0.9800000190734863,
           0.9800000190734863,
           0.9399999976158142,
           0.9399999976158142,
           0.8600000143051147,
           0.9599999785423279,
           0.8199999928474426,
           0.9599999785423279,
           0.9200000166893005,
           0.9800000190734863,
           0.9399999976158142,
           0.9200000166893005,
           0.9599999785423279,
           0.9200000166893005,
           0.30000001192092896,
           0.9599999785423279,
           1,
           0.9599999785423279,
           0.9800000190734863,
           0.9399999976158142,
           0.9599999785423279,
           0.9399999976158142,
           0.8799999952316284,
           0.9200000166893005,
           0.8399999737739563,
           0.4399999976158142,
           0.9800000190734863,
           0.7599999904632568,
           0.9399999976158142,
           0.9800000190734863,
           0.9599999785423279,
           0.699999988079071,
           0.6800000071525574,
           0.9800000190734863
          ],
          "colorbar": {
           "title": {
            "text": "Objective Value"
           }
          },
          "colorscale": [
           [
            0,
            "rgb(247,251,255)"
           ],
           [
            0.125,
            "rgb(222,235,247)"
           ],
           [
            0.25,
            "rgb(198,219,239)"
           ],
           [
            0.375,
            "rgb(158,202,225)"
           ],
           [
            0.5,
            "rgb(107,174,214)"
           ],
           [
            0.625,
            "rgb(66,146,198)"
           ],
           [
            0.75,
            "rgb(33,113,181)"
           ],
           [
            0.875,
            "rgb(8,81,156)"
           ],
           [
            1,
            "rgb(8,48,107)"
           ]
          ],
          "reversescale": false,
          "showscale": true
         },
         "type": "parcoords"
        }
       ],
       "layout": {
        "template": {
         "data": {
          "bar": [
           {
            "error_x": {
             "color": "#2a3f5f"
            },
            "error_y": {
             "color": "#2a3f5f"
            },
            "marker": {
             "line": {
              "color": "#E5ECF6",
              "width": 0.5
             },
             "pattern": {
              "fillmode": "overlay",
              "size": 10,
              "solidity": 0.2
             }
            },
            "type": "bar"
           }
          ],
          "barpolar": [
           {
            "marker": {
             "line": {
              "color": "#E5ECF6",
              "width": 0.5
             },
             "pattern": {
              "fillmode": "overlay",
              "size": 10,
              "solidity": 0.2
             }
            },
            "type": "barpolar"
           }
          ],
          "carpet": [
           {
            "aaxis": {
             "endlinecolor": "#2a3f5f",
             "gridcolor": "white",
             "linecolor": "white",
             "minorgridcolor": "white",
             "startlinecolor": "#2a3f5f"
            },
            "baxis": {
             "endlinecolor": "#2a3f5f",
             "gridcolor": "white",
             "linecolor": "white",
             "minorgridcolor": "white",
             "startlinecolor": "#2a3f5f"
            },
            "type": "carpet"
           }
          ],
          "choropleth": [
           {
            "colorbar": {
             "outlinewidth": 0,
             "ticks": ""
            },
            "type": "choropleth"
           }
          ],
          "contour": [
           {
            "colorbar": {
             "outlinewidth": 0,
             "ticks": ""
            },
            "colorscale": [
             [
              0,
              "#0d0887"
             ],
             [
              0.1111111111111111,
              "#46039f"
             ],
             [
              0.2222222222222222,
              "#7201a8"
             ],
             [
              0.3333333333333333,
              "#9c179e"
             ],
             [
              0.4444444444444444,
              "#bd3786"
             ],
             [
              0.5555555555555556,
              "#d8576b"
             ],
             [
              0.6666666666666666,
              "#ed7953"
             ],
             [
              0.7777777777777778,
              "#fb9f3a"
             ],
             [
              0.8888888888888888,
              "#fdca26"
             ],
             [
              1,
              "#f0f921"
             ]
            ],
            "type": "contour"
           }
          ],
          "contourcarpet": [
           {
            "colorbar": {
             "outlinewidth": 0,
             "ticks": ""
            },
            "type": "contourcarpet"
           }
          ],
          "heatmap": [
           {
            "colorbar": {
             "outlinewidth": 0,
             "ticks": ""
            },
            "colorscale": [
             [
              0,
              "#0d0887"
             ],
             [
              0.1111111111111111,
              "#46039f"
             ],
             [
              0.2222222222222222,
              "#7201a8"
             ],
             [
              0.3333333333333333,
              "#9c179e"
             ],
             [
              0.4444444444444444,
              "#bd3786"
             ],
             [
              0.5555555555555556,
              "#d8576b"
             ],
             [
              0.6666666666666666,
              "#ed7953"
             ],
             [
              0.7777777777777778,
              "#fb9f3a"
             ],
             [
              0.8888888888888888,
              "#fdca26"
             ],
             [
              1,
              "#f0f921"
             ]
            ],
            "type": "heatmap"
           }
          ],
          "heatmapgl": [
           {
            "colorbar": {
             "outlinewidth": 0,
             "ticks": ""
            },
            "colorscale": [
             [
              0,
              "#0d0887"
             ],
             [
              0.1111111111111111,
              "#46039f"
             ],
             [
              0.2222222222222222,
              "#7201a8"
             ],
             [
              0.3333333333333333,
              "#9c179e"
             ],
             [
              0.4444444444444444,
              "#bd3786"
             ],
             [
              0.5555555555555556,
              "#d8576b"
             ],
             [
              0.6666666666666666,
              "#ed7953"
             ],
             [
              0.7777777777777778,
              "#fb9f3a"
             ],
             [
              0.8888888888888888,
              "#fdca26"
             ],
             [
              1,
              "#f0f921"
             ]
            ],
            "type": "heatmapgl"
           }
          ],
          "histogram": [
           {
            "marker": {
             "pattern": {
              "fillmode": "overlay",
              "size": 10,
              "solidity": 0.2
             }
            },
            "type": "histogram"
           }
          ],
          "histogram2d": [
           {
            "colorbar": {
             "outlinewidth": 0,
             "ticks": ""
            },
            "colorscale": [
             [
              0,
              "#0d0887"
             ],
             [
              0.1111111111111111,
              "#46039f"
             ],
             [
              0.2222222222222222,
              "#7201a8"
             ],
             [
              0.3333333333333333,
              "#9c179e"
             ],
             [
              0.4444444444444444,
              "#bd3786"
             ],
             [
              0.5555555555555556,
              "#d8576b"
             ],
             [
              0.6666666666666666,
              "#ed7953"
             ],
             [
              0.7777777777777778,
              "#fb9f3a"
             ],
             [
              0.8888888888888888,
              "#fdca26"
             ],
             [
              1,
              "#f0f921"
             ]
            ],
            "type": "histogram2d"
           }
          ],
          "histogram2dcontour": [
           {
            "colorbar": {
             "outlinewidth": 0,
             "ticks": ""
            },
            "colorscale": [
             [
              0,
              "#0d0887"
             ],
             [
              0.1111111111111111,
              "#46039f"
             ],
             [
              0.2222222222222222,
              "#7201a8"
             ],
             [
              0.3333333333333333,
              "#9c179e"
             ],
             [
              0.4444444444444444,
              "#bd3786"
             ],
             [
              0.5555555555555556,
              "#d8576b"
             ],
             [
              0.6666666666666666,
              "#ed7953"
             ],
             [
              0.7777777777777778,
              "#fb9f3a"
             ],
             [
              0.8888888888888888,
              "#fdca26"
             ],
             [
              1,
              "#f0f921"
             ]
            ],
            "type": "histogram2dcontour"
           }
          ],
          "mesh3d": [
           {
            "colorbar": {
             "outlinewidth": 0,
             "ticks": ""
            },
            "type": "mesh3d"
           }
          ],
          "parcoords": [
           {
            "line": {
             "colorbar": {
              "outlinewidth": 0,
              "ticks": ""
             }
            },
            "type": "parcoords"
           }
          ],
          "pie": [
           {
            "automargin": true,
            "type": "pie"
           }
          ],
          "scatter": [
           {
            "fillpattern": {
             "fillmode": "overlay",
             "size": 10,
             "solidity": 0.2
            },
            "type": "scatter"
           }
          ],
          "scatter3d": [
           {
            "line": {
             "colorbar": {
              "outlinewidth": 0,
              "ticks": ""
             }
            },
            "marker": {
             "colorbar": {
              "outlinewidth": 0,
              "ticks": ""
             }
            },
            "type": "scatter3d"
           }
          ],
          "scattercarpet": [
           {
            "marker": {
             "colorbar": {
              "outlinewidth": 0,
              "ticks": ""
             }
            },
            "type": "scattercarpet"
           }
          ],
          "scattergeo": [
           {
            "marker": {
             "colorbar": {
              "outlinewidth": 0,
              "ticks": ""
             }
            },
            "type": "scattergeo"
           }
          ],
          "scattergl": [
           {
            "marker": {
             "colorbar": {
              "outlinewidth": 0,
              "ticks": ""
             }
            },
            "type": "scattergl"
           }
          ],
          "scattermapbox": [
           {
            "marker": {
             "colorbar": {
              "outlinewidth": 0,
              "ticks": ""
             }
            },
            "type": "scattermapbox"
           }
          ],
          "scatterpolar": [
           {
            "marker": {
             "colorbar": {
              "outlinewidth": 0,
              "ticks": ""
             }
            },
            "type": "scatterpolar"
           }
          ],
          "scatterpolargl": [
           {
            "marker": {
             "colorbar": {
              "outlinewidth": 0,
              "ticks": ""
             }
            },
            "type": "scatterpolargl"
           }
          ],
          "scatterternary": [
           {
            "marker": {
             "colorbar": {
              "outlinewidth": 0,
              "ticks": ""
             }
            },
            "type": "scatterternary"
           }
          ],
          "surface": [
           {
            "colorbar": {
             "outlinewidth": 0,
             "ticks": ""
            },
            "colorscale": [
             [
              0,
              "#0d0887"
             ],
             [
              0.1111111111111111,
              "#46039f"
             ],
             [
              0.2222222222222222,
              "#7201a8"
             ],
             [
              0.3333333333333333,
              "#9c179e"
             ],
             [
              0.4444444444444444,
              "#bd3786"
             ],
             [
              0.5555555555555556,
              "#d8576b"
             ],
             [
              0.6666666666666666,
              "#ed7953"
             ],
             [
              0.7777777777777778,
              "#fb9f3a"
             ],
             [
              0.8888888888888888,
              "#fdca26"
             ],
             [
              1,
              "#f0f921"
             ]
            ],
            "type": "surface"
           }
          ],
          "table": [
           {
            "cells": {
             "fill": {
              "color": "#EBF0F8"
             },
             "line": {
              "color": "white"
             }
            },
            "header": {
             "fill": {
              "color": "#C8D4E3"
             },
             "line": {
              "color": "white"
             }
            },
            "type": "table"
           }
          ]
         },
         "layout": {
          "annotationdefaults": {
           "arrowcolor": "#2a3f5f",
           "arrowhead": 0,
           "arrowwidth": 1
          },
          "autotypenumbers": "strict",
          "coloraxis": {
           "colorbar": {
            "outlinewidth": 0,
            "ticks": ""
           }
          },
          "colorscale": {
           "diverging": [
            [
             0,
             "#8e0152"
            ],
            [
             0.1,
             "#c51b7d"
            ],
            [
             0.2,
             "#de77ae"
            ],
            [
             0.3,
             "#f1b6da"
            ],
            [
             0.4,
             "#fde0ef"
            ],
            [
             0.5,
             "#f7f7f7"
            ],
            [
             0.6,
             "#e6f5d0"
            ],
            [
             0.7,
             "#b8e186"
            ],
            [
             0.8,
             "#7fbc41"
            ],
            [
             0.9,
             "#4d9221"
            ],
            [
             1,
             "#276419"
            ]
           ],
           "sequential": [
            [
             0,
             "#0d0887"
            ],
            [
             0.1111111111111111,
             "#46039f"
            ],
            [
             0.2222222222222222,
             "#7201a8"
            ],
            [
             0.3333333333333333,
             "#9c179e"
            ],
            [
             0.4444444444444444,
             "#bd3786"
            ],
            [
             0.5555555555555556,
             "#d8576b"
            ],
            [
             0.6666666666666666,
             "#ed7953"
            ],
            [
             0.7777777777777778,
             "#fb9f3a"
            ],
            [
             0.8888888888888888,
             "#fdca26"
            ],
            [
             1,
             "#f0f921"
            ]
           ],
           "sequentialminus": [
            [
             0,
             "#0d0887"
            ],
            [
             0.1111111111111111,
             "#46039f"
            ],
            [
             0.2222222222222222,
             "#7201a8"
            ],
            [
             0.3333333333333333,
             "#9c179e"
            ],
            [
             0.4444444444444444,
             "#bd3786"
            ],
            [
             0.5555555555555556,
             "#d8576b"
            ],
            [
             0.6666666666666666,
             "#ed7953"
            ],
            [
             0.7777777777777778,
             "#fb9f3a"
            ],
            [
             0.8888888888888888,
             "#fdca26"
            ],
            [
             1,
             "#f0f921"
            ]
           ]
          },
          "colorway": [
           "#636efa",
           "#EF553B",
           "#00cc96",
           "#ab63fa",
           "#FFA15A",
           "#19d3f3",
           "#FF6692",
           "#B6E880",
           "#FF97FF",
           "#FECB52"
          ],
          "font": {
           "color": "#2a3f5f"
          },
          "geo": {
           "bgcolor": "white",
           "lakecolor": "white",
           "landcolor": "#E5ECF6",
           "showlakes": true,
           "showland": true,
           "subunitcolor": "white"
          },
          "hoverlabel": {
           "align": "left"
          },
          "hovermode": "closest",
          "mapbox": {
           "style": "light"
          },
          "paper_bgcolor": "white",
          "plot_bgcolor": "#E5ECF6",
          "polar": {
           "angularaxis": {
            "gridcolor": "white",
            "linecolor": "white",
            "ticks": ""
           },
           "bgcolor": "#E5ECF6",
           "radialaxis": {
            "gridcolor": "white",
            "linecolor": "white",
            "ticks": ""
           }
          },
          "scene": {
           "xaxis": {
            "backgroundcolor": "#E5ECF6",
            "gridcolor": "white",
            "gridwidth": 2,
            "linecolor": "white",
            "showbackground": true,
            "ticks": "",
            "zerolinecolor": "white"
           },
           "yaxis": {
            "backgroundcolor": "#E5ECF6",
            "gridcolor": "white",
            "gridwidth": 2,
            "linecolor": "white",
            "showbackground": true,
            "ticks": "",
            "zerolinecolor": "white"
           },
           "zaxis": {
            "backgroundcolor": "#E5ECF6",
            "gridcolor": "white",
            "gridwidth": 2,
            "linecolor": "white",
            "showbackground": true,
            "ticks": "",
            "zerolinecolor": "white"
           }
          },
          "shapedefaults": {
           "line": {
            "color": "#2a3f5f"
           }
          },
          "ternary": {
           "aaxis": {
            "gridcolor": "white",
            "linecolor": "white",
            "ticks": ""
           },
           "baxis": {
            "gridcolor": "white",
            "linecolor": "white",
            "ticks": ""
           },
           "bgcolor": "#E5ECF6",
           "caxis": {
            "gridcolor": "white",
            "linecolor": "white",
            "ticks": ""
           }
          },
          "title": {
           "x": 0.05
          },
          "xaxis": {
           "automargin": true,
           "gridcolor": "white",
           "linecolor": "white",
           "ticks": "",
           "title": {
            "standoff": 15
           },
           "zerolinecolor": "white",
           "zerolinewidth": 2
          },
          "yaxis": {
           "automargin": true,
           "gridcolor": "white",
           "linecolor": "white",
           "ticks": "",
           "title": {
            "standoff": 15
           },
           "zerolinecolor": "white",
           "zerolinewidth": 2
          }
         }
        },
        "title": {
         "text": "Parallel Coordinate Plot"
        }
       }
      }
     },
     "metadata": {},
     "output_type": "display_data"
    }
   ],
   "source": [
    "plot_parallel_coordinate(\n",
    "    study,\n",
    "    [\n",
    "        \"lr_inicial\",\n",
    "        \"num_layers\",\n",
    "        \"layer_0\",\n",
    "        \"activation_0\",\n",
    "    ],\n",
    ")"
   ]
  },
  {
   "cell_type": "code",
   "execution_count": 12,
   "metadata": {},
   "outputs": [
    {
     "data": {
      "application/vnd.plotly.v1+json": {
       "config": {
        "plotlyServerURL": "https://plot.ly"
       },
       "data": [
        {
         "cliponaxis": false,
         "hovertemplate": [
          "num_layers (CategoricalDistribution): 0.008267107513906212<extra></extra>",
          "batchsize (IntDistribution): 0.011931018247219118<extra></extra>",
          "layer_0 (CategoricalDistribution): 0.04796394661592363<extra></extra>",
          "activation_0 (CategoricalDistribution): 0.04969744245193281<extra></extra>",
          "translate_factor (FloatDistribution): 0.09667260304638078<extra></extra>",
          "output_dropout (FloatDistribution): 0.10177895145044097<extra></extra>",
          "brightness_factor (FloatDistribution): 0.12674490801284963<extra></extra>",
          "gaussian_noise_factor (FloatDistribution): 0.135166121292762<extra></extra>",
          "lr_inicial (FloatDistribution): 0.42177790136858484<extra></extra>"
         ],
         "name": "Objective Value",
         "orientation": "h",
         "text": [
          "<0.01",
          "0.01",
          "0.05",
          "0.05",
          "0.10",
          "0.10",
          "0.13",
          "0.14",
          "0.42"
         ],
         "textposition": "outside",
         "type": "bar",
         "x": [
          0.008267107513906212,
          0.011931018247219118,
          0.04796394661592363,
          0.04969744245193281,
          0.09667260304638078,
          0.10177895145044097,
          0.12674490801284963,
          0.135166121292762,
          0.42177790136858484
         ],
         "y": [
          "num_layers",
          "batchsize",
          "layer_0",
          "activation_0",
          "translate_factor",
          "output_dropout",
          "brightness_factor",
          "gaussian_noise_factor",
          "lr_inicial"
         ]
        }
       ],
       "layout": {
        "template": {
         "data": {
          "bar": [
           {
            "error_x": {
             "color": "#2a3f5f"
            },
            "error_y": {
             "color": "#2a3f5f"
            },
            "marker": {
             "line": {
              "color": "#E5ECF6",
              "width": 0.5
             },
             "pattern": {
              "fillmode": "overlay",
              "size": 10,
              "solidity": 0.2
             }
            },
            "type": "bar"
           }
          ],
          "barpolar": [
           {
            "marker": {
             "line": {
              "color": "#E5ECF6",
              "width": 0.5
             },
             "pattern": {
              "fillmode": "overlay",
              "size": 10,
              "solidity": 0.2
             }
            },
            "type": "barpolar"
           }
          ],
          "carpet": [
           {
            "aaxis": {
             "endlinecolor": "#2a3f5f",
             "gridcolor": "white",
             "linecolor": "white",
             "minorgridcolor": "white",
             "startlinecolor": "#2a3f5f"
            },
            "baxis": {
             "endlinecolor": "#2a3f5f",
             "gridcolor": "white",
             "linecolor": "white",
             "minorgridcolor": "white",
             "startlinecolor": "#2a3f5f"
            },
            "type": "carpet"
           }
          ],
          "choropleth": [
           {
            "colorbar": {
             "outlinewidth": 0,
             "ticks": ""
            },
            "type": "choropleth"
           }
          ],
          "contour": [
           {
            "colorbar": {
             "outlinewidth": 0,
             "ticks": ""
            },
            "colorscale": [
             [
              0,
              "#0d0887"
             ],
             [
              0.1111111111111111,
              "#46039f"
             ],
             [
              0.2222222222222222,
              "#7201a8"
             ],
             [
              0.3333333333333333,
              "#9c179e"
             ],
             [
              0.4444444444444444,
              "#bd3786"
             ],
             [
              0.5555555555555556,
              "#d8576b"
             ],
             [
              0.6666666666666666,
              "#ed7953"
             ],
             [
              0.7777777777777778,
              "#fb9f3a"
             ],
             [
              0.8888888888888888,
              "#fdca26"
             ],
             [
              1,
              "#f0f921"
             ]
            ],
            "type": "contour"
           }
          ],
          "contourcarpet": [
           {
            "colorbar": {
             "outlinewidth": 0,
             "ticks": ""
            },
            "type": "contourcarpet"
           }
          ],
          "heatmap": [
           {
            "colorbar": {
             "outlinewidth": 0,
             "ticks": ""
            },
            "colorscale": [
             [
              0,
              "#0d0887"
             ],
             [
              0.1111111111111111,
              "#46039f"
             ],
             [
              0.2222222222222222,
              "#7201a8"
             ],
             [
              0.3333333333333333,
              "#9c179e"
             ],
             [
              0.4444444444444444,
              "#bd3786"
             ],
             [
              0.5555555555555556,
              "#d8576b"
             ],
             [
              0.6666666666666666,
              "#ed7953"
             ],
             [
              0.7777777777777778,
              "#fb9f3a"
             ],
             [
              0.8888888888888888,
              "#fdca26"
             ],
             [
              1,
              "#f0f921"
             ]
            ],
            "type": "heatmap"
           }
          ],
          "heatmapgl": [
           {
            "colorbar": {
             "outlinewidth": 0,
             "ticks": ""
            },
            "colorscale": [
             [
              0,
              "#0d0887"
             ],
             [
              0.1111111111111111,
              "#46039f"
             ],
             [
              0.2222222222222222,
              "#7201a8"
             ],
             [
              0.3333333333333333,
              "#9c179e"
             ],
             [
              0.4444444444444444,
              "#bd3786"
             ],
             [
              0.5555555555555556,
              "#d8576b"
             ],
             [
              0.6666666666666666,
              "#ed7953"
             ],
             [
              0.7777777777777778,
              "#fb9f3a"
             ],
             [
              0.8888888888888888,
              "#fdca26"
             ],
             [
              1,
              "#f0f921"
             ]
            ],
            "type": "heatmapgl"
           }
          ],
          "histogram": [
           {
            "marker": {
             "pattern": {
              "fillmode": "overlay",
              "size": 10,
              "solidity": 0.2
             }
            },
            "type": "histogram"
           }
          ],
          "histogram2d": [
           {
            "colorbar": {
             "outlinewidth": 0,
             "ticks": ""
            },
            "colorscale": [
             [
              0,
              "#0d0887"
             ],
             [
              0.1111111111111111,
              "#46039f"
             ],
             [
              0.2222222222222222,
              "#7201a8"
             ],
             [
              0.3333333333333333,
              "#9c179e"
             ],
             [
              0.4444444444444444,
              "#bd3786"
             ],
             [
              0.5555555555555556,
              "#d8576b"
             ],
             [
              0.6666666666666666,
              "#ed7953"
             ],
             [
              0.7777777777777778,
              "#fb9f3a"
             ],
             [
              0.8888888888888888,
              "#fdca26"
             ],
             [
              1,
              "#f0f921"
             ]
            ],
            "type": "histogram2d"
           }
          ],
          "histogram2dcontour": [
           {
            "colorbar": {
             "outlinewidth": 0,
             "ticks": ""
            },
            "colorscale": [
             [
              0,
              "#0d0887"
             ],
             [
              0.1111111111111111,
              "#46039f"
             ],
             [
              0.2222222222222222,
              "#7201a8"
             ],
             [
              0.3333333333333333,
              "#9c179e"
             ],
             [
              0.4444444444444444,
              "#bd3786"
             ],
             [
              0.5555555555555556,
              "#d8576b"
             ],
             [
              0.6666666666666666,
              "#ed7953"
             ],
             [
              0.7777777777777778,
              "#fb9f3a"
             ],
             [
              0.8888888888888888,
              "#fdca26"
             ],
             [
              1,
              "#f0f921"
             ]
            ],
            "type": "histogram2dcontour"
           }
          ],
          "mesh3d": [
           {
            "colorbar": {
             "outlinewidth": 0,
             "ticks": ""
            },
            "type": "mesh3d"
           }
          ],
          "parcoords": [
           {
            "line": {
             "colorbar": {
              "outlinewidth": 0,
              "ticks": ""
             }
            },
            "type": "parcoords"
           }
          ],
          "pie": [
           {
            "automargin": true,
            "type": "pie"
           }
          ],
          "scatter": [
           {
            "fillpattern": {
             "fillmode": "overlay",
             "size": 10,
             "solidity": 0.2
            },
            "type": "scatter"
           }
          ],
          "scatter3d": [
           {
            "line": {
             "colorbar": {
              "outlinewidth": 0,
              "ticks": ""
             }
            },
            "marker": {
             "colorbar": {
              "outlinewidth": 0,
              "ticks": ""
             }
            },
            "type": "scatter3d"
           }
          ],
          "scattercarpet": [
           {
            "marker": {
             "colorbar": {
              "outlinewidth": 0,
              "ticks": ""
             }
            },
            "type": "scattercarpet"
           }
          ],
          "scattergeo": [
           {
            "marker": {
             "colorbar": {
              "outlinewidth": 0,
              "ticks": ""
             }
            },
            "type": "scattergeo"
           }
          ],
          "scattergl": [
           {
            "marker": {
             "colorbar": {
              "outlinewidth": 0,
              "ticks": ""
             }
            },
            "type": "scattergl"
           }
          ],
          "scattermapbox": [
           {
            "marker": {
             "colorbar": {
              "outlinewidth": 0,
              "ticks": ""
             }
            },
            "type": "scattermapbox"
           }
          ],
          "scatterpolar": [
           {
            "marker": {
             "colorbar": {
              "outlinewidth": 0,
              "ticks": ""
             }
            },
            "type": "scatterpolar"
           }
          ],
          "scatterpolargl": [
           {
            "marker": {
             "colorbar": {
              "outlinewidth": 0,
              "ticks": ""
             }
            },
            "type": "scatterpolargl"
           }
          ],
          "scatterternary": [
           {
            "marker": {
             "colorbar": {
              "outlinewidth": 0,
              "ticks": ""
             }
            },
            "type": "scatterternary"
           }
          ],
          "surface": [
           {
            "colorbar": {
             "outlinewidth": 0,
             "ticks": ""
            },
            "colorscale": [
             [
              0,
              "#0d0887"
             ],
             [
              0.1111111111111111,
              "#46039f"
             ],
             [
              0.2222222222222222,
              "#7201a8"
             ],
             [
              0.3333333333333333,
              "#9c179e"
             ],
             [
              0.4444444444444444,
              "#bd3786"
             ],
             [
              0.5555555555555556,
              "#d8576b"
             ],
             [
              0.6666666666666666,
              "#ed7953"
             ],
             [
              0.7777777777777778,
              "#fb9f3a"
             ],
             [
              0.8888888888888888,
              "#fdca26"
             ],
             [
              1,
              "#f0f921"
             ]
            ],
            "type": "surface"
           }
          ],
          "table": [
           {
            "cells": {
             "fill": {
              "color": "#EBF0F8"
             },
             "line": {
              "color": "white"
             }
            },
            "header": {
             "fill": {
              "color": "#C8D4E3"
             },
             "line": {
              "color": "white"
             }
            },
            "type": "table"
           }
          ]
         },
         "layout": {
          "annotationdefaults": {
           "arrowcolor": "#2a3f5f",
           "arrowhead": 0,
           "arrowwidth": 1
          },
          "autotypenumbers": "strict",
          "coloraxis": {
           "colorbar": {
            "outlinewidth": 0,
            "ticks": ""
           }
          },
          "colorscale": {
           "diverging": [
            [
             0,
             "#8e0152"
            ],
            [
             0.1,
             "#c51b7d"
            ],
            [
             0.2,
             "#de77ae"
            ],
            [
             0.3,
             "#f1b6da"
            ],
            [
             0.4,
             "#fde0ef"
            ],
            [
             0.5,
             "#f7f7f7"
            ],
            [
             0.6,
             "#e6f5d0"
            ],
            [
             0.7,
             "#b8e186"
            ],
            [
             0.8,
             "#7fbc41"
            ],
            [
             0.9,
             "#4d9221"
            ],
            [
             1,
             "#276419"
            ]
           ],
           "sequential": [
            [
             0,
             "#0d0887"
            ],
            [
             0.1111111111111111,
             "#46039f"
            ],
            [
             0.2222222222222222,
             "#7201a8"
            ],
            [
             0.3333333333333333,
             "#9c179e"
            ],
            [
             0.4444444444444444,
             "#bd3786"
            ],
            [
             0.5555555555555556,
             "#d8576b"
            ],
            [
             0.6666666666666666,
             "#ed7953"
            ],
            [
             0.7777777777777778,
             "#fb9f3a"
            ],
            [
             0.8888888888888888,
             "#fdca26"
            ],
            [
             1,
             "#f0f921"
            ]
           ],
           "sequentialminus": [
            [
             0,
             "#0d0887"
            ],
            [
             0.1111111111111111,
             "#46039f"
            ],
            [
             0.2222222222222222,
             "#7201a8"
            ],
            [
             0.3333333333333333,
             "#9c179e"
            ],
            [
             0.4444444444444444,
             "#bd3786"
            ],
            [
             0.5555555555555556,
             "#d8576b"
            ],
            [
             0.6666666666666666,
             "#ed7953"
            ],
            [
             0.7777777777777778,
             "#fb9f3a"
            ],
            [
             0.8888888888888888,
             "#fdca26"
            ],
            [
             1,
             "#f0f921"
            ]
           ]
          },
          "colorway": [
           "#636efa",
           "#EF553B",
           "#00cc96",
           "#ab63fa",
           "#FFA15A",
           "#19d3f3",
           "#FF6692",
           "#B6E880",
           "#FF97FF",
           "#FECB52"
          ],
          "font": {
           "color": "#2a3f5f"
          },
          "geo": {
           "bgcolor": "white",
           "lakecolor": "white",
           "landcolor": "#E5ECF6",
           "showlakes": true,
           "showland": true,
           "subunitcolor": "white"
          },
          "hoverlabel": {
           "align": "left"
          },
          "hovermode": "closest",
          "mapbox": {
           "style": "light"
          },
          "paper_bgcolor": "white",
          "plot_bgcolor": "#E5ECF6",
          "polar": {
           "angularaxis": {
            "gridcolor": "white",
            "linecolor": "white",
            "ticks": ""
           },
           "bgcolor": "#E5ECF6",
           "radialaxis": {
            "gridcolor": "white",
            "linecolor": "white",
            "ticks": ""
           }
          },
          "scene": {
           "xaxis": {
            "backgroundcolor": "#E5ECF6",
            "gridcolor": "white",
            "gridwidth": 2,
            "linecolor": "white",
            "showbackground": true,
            "ticks": "",
            "zerolinecolor": "white"
           },
           "yaxis": {
            "backgroundcolor": "#E5ECF6",
            "gridcolor": "white",
            "gridwidth": 2,
            "linecolor": "white",
            "showbackground": true,
            "ticks": "",
            "zerolinecolor": "white"
           },
           "zaxis": {
            "backgroundcolor": "#E5ECF6",
            "gridcolor": "white",
            "gridwidth": 2,
            "linecolor": "white",
            "showbackground": true,
            "ticks": "",
            "zerolinecolor": "white"
           }
          },
          "shapedefaults": {
           "line": {
            "color": "#2a3f5f"
           }
          },
          "ternary": {
           "aaxis": {
            "gridcolor": "white",
            "linecolor": "white",
            "ticks": ""
           },
           "baxis": {
            "gridcolor": "white",
            "linecolor": "white",
            "ticks": ""
           },
           "bgcolor": "#E5ECF6",
           "caxis": {
            "gridcolor": "white",
            "linecolor": "white",
            "ticks": ""
           }
          },
          "title": {
           "x": 0.05
          },
          "xaxis": {
           "automargin": true,
           "gridcolor": "white",
           "linecolor": "white",
           "ticks": "",
           "title": {
            "standoff": 15
           },
           "zerolinecolor": "white",
           "zerolinewidth": 2
          },
          "yaxis": {
           "automargin": true,
           "gridcolor": "white",
           "linecolor": "white",
           "ticks": "",
           "title": {
            "standoff": 15
           },
           "zerolinecolor": "white",
           "zerolinewidth": 2
          }
         }
        },
        "title": {
         "text": "Hyperparameter Importances"
        },
        "xaxis": {
         "title": {
          "text": "Hyperparameter Importance"
         }
        },
        "yaxis": {
         "title": {
          "text": "Hyperparameter"
         }
        }
       }
      }
     },
     "metadata": {},
     "output_type": "display_data"
    }
   ],
   "source": [
    "plot_param_importances(study)"
   ]
  },
  {
   "cell_type": "code",
   "execution_count": null,
   "metadata": {},
   "outputs": [],
   "source": []
  },
  {
   "cell_type": "code",
   "execution_count": null,
   "metadata": {},
   "outputs": [],
   "source": [
    "import keras\n",
    "\n",
    "model = keras.models.load_model(\"/home/webphy/Desktop/dnn_processor/neural_network/automl/saved_models/exp2_with_aug/best_model_t185\")\n",
    "\n",
    "for l in model.layers:\n",
    "    print(l.get_config())"
   ]
  }
 ],
 "metadata": {
  "kernelspec": {
   "display_name": ".venv",
   "language": "python",
   "name": "python3"
  },
  "language_info": {
   "codemirror_mode": {
    "name": "ipython",
    "version": 3
   },
   "file_extension": ".py",
   "mimetype": "text/x-python",
   "name": "python",
   "nbconvert_exporter": "python",
   "pygments_lexer": "ipython3",
   "version": "3.10.12"
  }
 },
 "nbformat": 4,
 "nbformat_minor": 2
}
