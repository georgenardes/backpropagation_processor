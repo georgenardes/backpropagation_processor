{
 "cells": [
  {
   "cell_type": "markdown",
   "metadata": {},
   "source": [
    "# import libs"
   ]
  },
  {
   "cell_type": "code",
   "execution_count": 1,
   "metadata": {},
   "outputs": [
    {
     "name": "stdout",
     "output_type": "stream",
     "text": [
      "Using TensorFlow backend\n"
     ]
    },
    {
     "name": "stderr",
     "output_type": "stream",
     "text": [
      "/home/webphy/Desktop/dnn_processor/.venv/lib/python3.10/site-packages/tqdm/auto.py:21: TqdmWarning: IProgress not found. Please update jupyter and ipywidgets. See https://ipywidgets.readthedocs.io/en/stable/user_install.html\n",
      "  from .autonotebook import tqdm as notebook_tqdm\n"
     ]
    }
   ],
   "source": [
    "import sys\n",
    "import os\n",
    "os.environ['TF_CPP_MIN_LOG_LEVEL'] = '3'\n",
    "\n",
    "sys.path.append(\"/home/webphy/Desktop/dnn_processor/\")  # just to enable `dataset`\n",
    "sys.path.append(\n",
    "    \"/home/webphy/Desktop/dnn_processor/dataset/\"\n",
    ")  # just to enable `dataset`\n",
    "\n",
    "import tensorflow as tf\n",
    "import optuna\n",
    "import dataset\n",
    "import numpy as np\n",
    "import keras\n",
    "import joblib\n",
    "from datetime import datetime\n",
    "from keras import layers\n",
    "import keras_cv"
   ]
  },
  {
   "cell_type": "markdown",
   "metadata": {},
   "source": [
    "##  define constants and create dataset\n"
   ]
  },
  {
   "cell_type": "code",
   "execution_count": 2,
   "metadata": {},
   "outputs": [],
   "source": [
    "NTRIALS = 300\n",
    "BATCH_SIZE = 64\n",
    "EPOCHS = 100\n",
    "\n",
    "train_images_rgx = \"../../dataset/resized_dataset_texturas_v2/*/*.jpeg\"\n",
    "valid_images_rgx = \"../../dataset/resized_dataset_texturas_v2_test/*/*.jpeg\"\n",
    "\n",
    "layer_options = [\"Conv2D\", \"Depthwise2D\", \"Pointwise2D\"]\n",
    "activation_options = [\"linear\", \"relu\", \"tanh\"]\n",
    "filter_size_options = [3, 4, 5]\n",
    "\n",
    "train_dataset, val_dataset, num_classes = dataset.create_datasets(\n",
    "    train_images_rgx, valid_images_rgx, BATCH_SIZE\n",
    ")"
   ]
  },
  {
   "cell_type": "markdown",
   "metadata": {},
   "source": [
    "## define create model function\n"
   ]
  },
  {
   "cell_type": "code",
   "execution_count": 3,
   "metadata": {},
   "outputs": [],
   "source": [
    "def clip_filter_size(fs, ih):\n",
    "    return min(fs, ih)\n",
    "\n",
    "\n",
    "def create_layer(trial, layer_type, layer_id, max_stride, input_h_size):\n",
    "    if layer_type == \"Conv2D\":\n",
    "        num_filters = trial.suggest_int(\n",
    "            f\"layer_{layer_id}_conv2d_filters\", 4, 32, step=4\n",
    "        )\n",
    "        filter_size = trial.suggest_categorical(\n",
    "            f\"layer_{layer_id}_conv2d_fsize\", filter_size_options\n",
    "        )\n",
    "\n",
    "        stride_size = trial.suggest_int(f\"layer_{layer_id}_conv2d_ssize\", 2, max_stride)\n",
    "        layer = layers.Conv2D(\n",
    "            num_filters, clip_filter_size(filter_size, input_h_size), stride_size\n",
    "        )\n",
    "\n",
    "    elif layer_type == \"Depthwise2D\":\n",
    "        filter_size = trial.suggest_categorical(\n",
    "            f\"layer_{layer_id}_dwconv2d_fsize\", filter_size_options\n",
    "        )\n",
    "        stride_size = trial.suggest_int(\n",
    "            f\"layer_{layer_id}_dwconv2d_ssize\", 2, max_stride\n",
    "        )\n",
    "        layer = layers.DepthwiseConv2D(\n",
    "            clip_filter_size(filter_size, input_h_size), stride_size\n",
    "        )\n",
    "\n",
    "    elif layer_type == \"Pointwise2D\":\n",
    "        num_filters = trial.suggest_int(\n",
    "            f\"layer_{layer_id}_pwconv2d_filters\", 4, 32, step=4\n",
    "        )\n",
    "        stride_size = trial.suggest_int(\n",
    "            f\"layer_{layer_id}_pwconv2d_ssize\", 2, max_stride\n",
    "        )\n",
    "        layer = layers.Conv2D(num_filters, 1, stride_size)\n",
    "\n",
    "    return layer\n",
    "\n",
    "\n",
    "def create_augmentation_layers(trial, x):\n",
    "    # augmix_severity = trial.suggest_float(\"augmix_severity\", 0.0, 0.5)\n",
    "    brightness_factor = trial.suggest_float(\"brightness_factor\", 0, 0.2)\n",
    "    gaussian_noise_factor = trial.suggest_float(\"gaussian_noise_factor\", 0, 0.2)\n",
    "    translate_factor = trial.suggest_float(\"translate_factor\", 0, 0.2)\n",
    "\n",
    "    # x = keras_cv.layers.AugMix(value_range=(0, 1), severity=augmix_severity)(x)\n",
    "    x = layers.RandomBrightness(brightness_factor, (0, 1.0))(x)\n",
    "    x = layers.RandomFlip()(x)\n",
    "    x = layers.RandomTranslation(translate_factor, translate_factor)(x)\n",
    "    x = layers.GaussianNoise(gaussian_noise_factor)(x)\n",
    "\n",
    "    return x\n",
    "\n",
    "\n",
    "def calibrate_channel(input_shape, s):\n",
    "    HLS_DENSE_LIMIT = 4096\n",
    "\n",
    "    x_shape = input_shape[1:]\n",
    "    h, w, c = x_shape    \n",
    "    h = h//s\n",
    "    w = w//s\n",
    "\n",
    "    new_shape = [h, w, c]\n",
    "    if np.prod(new_shape) > HLS_DENSE_LIMIT:\n",
    "        # diminui o numero de canais\n",
    "        while np.prod(new_shape) > HLS_DENSE_LIMIT:\n",
    "            c -= 1\n",
    "            new_shape = [h, w, c]\n",
    "    else:\n",
    "        # aumenta o numero de canais\n",
    "        while np.prod(new_shape) < HLS_DENSE_LIMIT:\n",
    "            c += 1\n",
    "            new_shape = [h, w, c]\n",
    "        c -= 1\n",
    "\n",
    "    if c <= 0:\n",
    "        c = 1\n",
    "        new_shape = [None, h, w, c]        \n",
    "        h, w, c, s = calibrate_channel(new_shape, s+1)            \n",
    "        new_shape = [h, w, c]\n",
    "\n",
    "    return h, w, c, s\n",
    "\n",
    "\n",
    "def create_model(trial):\n",
    "    # add the input layer\n",
    "    x = x_in = layers.Input(shape=(256, 256, 3))\n",
    "\n",
    "    x = create_augmentation_layers(trial, x)\n",
    "\n",
    "    # suggent a number of layer\n",
    "    num_layers = trial.suggest_categorical(\"num_layers\", [1, 2, 3])\n",
    "\n",
    "    # limits the stride\n",
    "    max_stride = 16 // num_layers\n",
    "\n",
    "    # convolutional layers\n",
    "    for i in range(num_layers):\n",
    "        layer_selected = trial.suggest_categorical(f\"layer_{i}\", layer_options)\n",
    "        layer = create_layer(\n",
    "            trial, layer_selected, i, max_stride, input_h_size=x.shape[1]\n",
    "        )\n",
    "        x = layer(x)\n",
    "        act_selected = trial.suggest_categorical(f\"activation_{i}\", activation_options)\n",
    "        x = layers.Activation(act_selected)(x)\n",
    "\n",
    "    h, w, c, s = calibrate_channel(x.shape, 1)\n",
    "\n",
    "    # tinsmith layer\n",
    "    x = layers.Conv2D(c, 1, strides=s)(x)\n",
    "\n",
    "    # output layer\n",
    "    x = layers.Flatten()(x)\n",
    "    x = layers.Dropout(trial.suggest_float(\"output_dropout\", 0.3, 0.6))(x)\n",
    "    x = layers.Dense(num_classes, activation=\"softmax\")(x)\n",
    "\n",
    "    return keras.Model(x_in, x)"
   ]
  },
  {
   "cell_type": "markdown",
   "metadata": {},
   "source": [
    "# if testing"
   ]
  },
  {
   "cell_type": "markdown",
   "metadata": {},
   "source": [
    "\n",
    "```\n",
    "h, w, c, s = calibrate_channel([None, 84,84,20], 1)\n",
    "\n",
    "class MockTrial:\n",
    "    def suggest_int(self, name, min, max, step=None, log=False):\n",
    "        return np.random.randint(min, max)\n",
    "\n",
    "    def suggest_float(self, name, min, max, step=None, log=False):\n",
    "        return np.random.uniform(min, max)\n",
    "\n",
    "    def suggest_categorical(self, name, options):\n",
    "        print(name)\n",
    "        return options[np.random.randint(0, len(options) - 1)]\n",
    "\n",
    "    def suggest_discrete_uniform(self, name, min, max, q):\n",
    "        return (np.random.randint(min, max) // q) * q\n",
    "\n",
    "model = create_model(MockTrial())\n",
    "model.build(input_shape=(BATCH_SIZE, 256, 256, 3))\n",
    "model.summary()\n",
    "model.save(\"saved_models/test/\")\n",
    "\n",
    "\n",
    "\n",
    "```"
   ]
  },
  {
   "cell_type": "code",
   "execution_count": 4,
   "metadata": {},
   "outputs": [],
   "source": [
    "def create_optimizer(trial):\n",
    "    lr = trial.suggest_float(\"lr_inicial\", 3e-4, 2e-3, log=True)\n",
    "    optimizer = keras.optimizers.Adam(lr)\n",
    "    return optimizer\n",
    "\n",
    "\n",
    "def create_model_checkpointer(save_path):\n",
    "    return keras.callbacks.ModelCheckpoint(\n",
    "        save_path + \"weights/\",\n",
    "        \"val_accuracy\",\n",
    "        mode=\"max\",\n",
    "        save_best_only=True,\n",
    "        save_weights_only=True,\n",
    "    )\n",
    "\n",
    "\n",
    "def crate_early_stopper():\n",
    "    return keras.callbacks.EarlyStopping(\n",
    "        monitor=\"val_accuracy\",\n",
    "        min_delta=0.1,\n",
    "        patience=20,\n",
    "        verbose=0,\n",
    "        mode=\"max\",\n",
    "        start_from_epoch=50,\n",
    "    )\n",
    "\n",
    "\n",
    "\n",
    "def objective(trial):\n",
    "    BATCH_SIZE = trial.suggest_int(\"batchsize\", 32, 128, step=32)\n",
    "    \n",
    "    # load data\n",
    "    train_dataset, val_dataset, num_classes = dataset.create_datasets(\n",
    "        train_images_rgx, valid_images_rgx, BATCH_SIZE\n",
    "    )\n",
    "\n",
    "    # Build model and optimizer.\n",
    "    model = create_model(trial)\n",
    "    assert isinstance(model, keras.Model), \"model is not a model\"\n",
    "\n",
    "    optimizer = create_optimizer(trial)\n",
    "\n",
    "    # compile the model\n",
    "    model.compile(\n",
    "        optimizer, loss=keras.losses.categorical_crossentropy, metrics=[\"accuracy\"]\n",
    "    )\n",
    "\n",
    "    # crate model checkpointer\n",
    "    saved_best_model_path = f\"saved_models/{EXP_ID}/best_model_t{trial._trial_id}/\"\n",
    "    model.save(saved_best_model_path, True, \"tf\")  # save all model\n",
    "\n",
    "    model_chkp = create_model_checkpointer(saved_best_model_path)\n",
    "    early_stopper = crate_early_stopper()\n",
    "\n",
    "    # Training and validating cycle.\n",
    "    history = model.fit(\n",
    "        train_dataset,\n",
    "        validation_data=val_dataset,\n",
    "        epochs=EPOCHS,\n",
    "        callbacks=[model_chkp, early_stopper],\n",
    "        verbose=\"auto\",\n",
    "    )\n",
    "    \n",
    "    # load best model\n",
    "    model.load_weights(saved_best_model_path + \"weights/\")    \n",
    "\n",
    "    # Evaluate the model accuracy on the validation set.\n",
    "    score = model.evaluate(val_dataset, verbose=0)\n",
    "    \n",
    "    # Return best model validation accuracy.\n",
    "    return score[1]\n",
    "\n",
    "\n",
    "def search():\n",
    "    study = optuna.create_study(\n",
    "        direction=\"maximize\",\n",
    "        sampler=optuna.samplers.TPESampler(),\n",
    "    )\n",
    "    study.optimize(objective, n_trials=NTRIALS)\n",
    "    return study"
   ]
  },
  {
   "cell_type": "markdown",
   "metadata": {},
   "source": [
    "# start search"
   ]
  },
  {
   "cell_type": "code",
   "execution_count": 5,
   "metadata": {},
   "outputs": [
    {
     "name": "stderr",
     "output_type": "stream",
     "text": [
      "[I 2024-02-01 14:31:51,589] A new study created in memory with name: no-name-1c7e2b9e-b8ee-4dd4-906b-66fe48cda6cc\n"
     ]
    },
    {
     "name": "stdout",
     "output_type": "stream",
     "text": [
      "INFO:tensorflow:Assets written to: saved_models/exp6_aug_calib/best_model_t0/assets\n"
     ]
    },
    {
     "name": "stderr",
     "output_type": "stream",
     "text": [
      "INFO:tensorflow:Assets written to: saved_models/exp6_aug_calib/best_model_t0/assets\n",
      "WARNING: All log messages before absl::InitializeLog() is called are written to STDERR\n",
      "I0000 00:00:1706808714.879535 4096958 device_compiler.h:186] Compiled cluster using XLA!  This line is logged at most once for the lifetime of the process.\n",
      "[I 2024-02-01 14:32:07,545] Trial 0 finished with value: 0.6800000071525574 and parameters: {'batchsize': 32, 'brightness_factor': 0.012177987073748354, 'gaussian_noise_factor': 0.12321480363136894, 'translate_factor': 0.18408030115464427, 'num_layers': 1, 'layer_0': 'Depthwise2D', 'layer_0_dwconv2d_fsize': 3, 'layer_0_dwconv2d_ssize': 15, 'activation_0': 'relu', 'output_dropout': 0.5789116351965652, 'lr_inicial': 0.0003016800832011265}. Best is trial 0 with value: 0.6800000071525574.\n"
     ]
    },
    {
     "name": "stdout",
     "output_type": "stream",
     "text": [
      "INFO:tensorflow:Assets written to: saved_models/exp6_aug_calib/best_model_t1/assets\n"
     ]
    },
    {
     "name": "stderr",
     "output_type": "stream",
     "text": [
      "INFO:tensorflow:Assets written to: saved_models/exp6_aug_calib/best_model_t1/assets\n",
      "[I 2024-02-01 14:32:21,481] Trial 1 finished with value: 0.699999988079071 and parameters: {'batchsize': 64, 'brightness_factor': 0.13776367850825771, 'gaussian_noise_factor': 0.17357461542801864, 'translate_factor': 0.0917444188163728, 'num_layers': 1, 'layer_0': 'Pointwise2D', 'layer_0_pwconv2d_filters': 28, 'layer_0_pwconv2d_ssize': 12, 'activation_0': 'tanh', 'output_dropout': 0.49699128438366247, 'lr_inicial': 0.00045741691344391685}. Best is trial 1 with value: 0.699999988079071.\n"
     ]
    },
    {
     "name": "stdout",
     "output_type": "stream",
     "text": [
      "INFO:tensorflow:Assets written to: saved_models/exp6_aug_calib/best_model_t2/assets\n"
     ]
    },
    {
     "name": "stderr",
     "output_type": "stream",
     "text": [
      "INFO:tensorflow:Assets written to: saved_models/exp6_aug_calib/best_model_t2/assets\n",
      "[I 2024-02-01 14:32:36,887] Trial 2 finished with value: 0.8199999928474426 and parameters: {'batchsize': 96, 'brightness_factor': 0.09795166463938386, 'gaussian_noise_factor': 0.0248386138847404, 'translate_factor': 0.0947279019165763, 'num_layers': 2, 'layer_0': 'Pointwise2D', 'layer_0_pwconv2d_filters': 28, 'layer_0_pwconv2d_ssize': 3, 'activation_0': 'relu', 'layer_1': 'Depthwise2D', 'layer_1_dwconv2d_fsize': 3, 'layer_1_dwconv2d_ssize': 4, 'activation_1': 'relu', 'output_dropout': 0.4481164398418074, 'lr_inicial': 0.0013759250241941136}. Best is trial 2 with value: 0.8199999928474426.\n"
     ]
    },
    {
     "name": "stdout",
     "output_type": "stream",
     "text": [
      "INFO:tensorflow:Assets written to: saved_models/exp6_aug_calib/best_model_t3/assets\n"
     ]
    },
    {
     "name": "stderr",
     "output_type": "stream",
     "text": [
      "INFO:tensorflow:Assets written to: saved_models/exp6_aug_calib/best_model_t3/assets\n",
      "[I 2024-02-01 14:32:50,292] Trial 3 finished with value: 0.6399999856948853 and parameters: {'batchsize': 96, 'brightness_factor': 0.035503773359730297, 'gaussian_noise_factor': 0.1738037507722708, 'translate_factor': 0.007990833633063854, 'num_layers': 1, 'layer_0': 'Conv2D', 'layer_0_conv2d_filters': 4, 'layer_0_conv2d_fsize': 3, 'layer_0_conv2d_ssize': 4, 'activation_0': 'linear', 'output_dropout': 0.5370020117217182, 'lr_inicial': 0.0008479345557611232}. Best is trial 2 with value: 0.8199999928474426.\n"
     ]
    },
    {
     "name": "stdout",
     "output_type": "stream",
     "text": [
      "INFO:tensorflow:Assets written to: saved_models/exp6_aug_calib/best_model_t4/assets\n"
     ]
    },
    {
     "name": "stderr",
     "output_type": "stream",
     "text": [
      "INFO:tensorflow:Assets written to: saved_models/exp6_aug_calib/best_model_t4/assets\n",
      "[I 2024-02-01 14:33:04,442] Trial 4 finished with value: 0.6200000047683716 and parameters: {'batchsize': 96, 'brightness_factor': 0.1438755672039905, 'gaussian_noise_factor': 0.15939797783946574, 'translate_factor': 0.06039365628222513, 'num_layers': 2, 'layer_0': 'Pointwise2D', 'layer_0_pwconv2d_filters': 4, 'layer_0_pwconv2d_ssize': 4, 'activation_0': 'relu', 'layer_1': 'Depthwise2D', 'layer_1_dwconv2d_fsize': 5, 'layer_1_dwconv2d_ssize': 5, 'activation_1': 'linear', 'output_dropout': 0.5548519723805954, 'lr_inicial': 0.0009082137287437839}. Best is trial 2 with value: 0.8199999928474426.\n"
     ]
    },
    {
     "name": "stdout",
     "output_type": "stream",
     "text": [
      "INFO:tensorflow:Assets written to: saved_models/exp6_aug_calib/best_model_t5/assets\n"
     ]
    },
    {
     "name": "stderr",
     "output_type": "stream",
     "text": [
      "INFO:tensorflow:Assets written to: saved_models/exp6_aug_calib/best_model_t5/assets\n",
      "[I 2024-02-01 14:33:22,741] Trial 5 finished with value: 0.6200000047683716 and parameters: {'batchsize': 64, 'brightness_factor': 0.0020932591816304135, 'gaussian_noise_factor': 0.08651064779838274, 'translate_factor': 0.19071036342887857, 'num_layers': 1, 'layer_0': 'Conv2D', 'layer_0_conv2d_filters': 8, 'layer_0_conv2d_fsize': 3, 'layer_0_conv2d_ssize': 2, 'activation_0': 'relu', 'output_dropout': 0.3724252899295138, 'lr_inicial': 0.000798591120121946}. Best is trial 2 with value: 0.8199999928474426.\n"
     ]
    },
    {
     "name": "stdout",
     "output_type": "stream",
     "text": [
      "INFO:tensorflow:Assets written to: saved_models/exp6_aug_calib/best_model_t6/assets\n"
     ]
    },
    {
     "name": "stderr",
     "output_type": "stream",
     "text": [
      "INFO:tensorflow:Assets written to: saved_models/exp6_aug_calib/best_model_t6/assets\n",
      "[I 2024-02-01 14:33:36,901] Trial 6 finished with value: 0.7200000286102295 and parameters: {'batchsize': 32, 'brightness_factor': 0.07332733444495243, 'gaussian_noise_factor': 0.09935518934946681, 'translate_factor': 0.0038965665649184134, 'num_layers': 1, 'layer_0': 'Conv2D', 'layer_0_conv2d_filters': 28, 'layer_0_conv2d_fsize': 3, 'layer_0_conv2d_ssize': 6, 'activation_0': 'relu', 'output_dropout': 0.46965410424010845, 'lr_inicial': 0.0004184579538282438}. Best is trial 2 with value: 0.8199999928474426.\n"
     ]
    },
    {
     "name": "stdout",
     "output_type": "stream",
     "text": [
      "INFO:tensorflow:Assets written to: saved_models/exp6_aug_calib/best_model_t7/assets\n"
     ]
    },
    {
     "name": "stderr",
     "output_type": "stream",
     "text": [
      "INFO:tensorflow:Assets written to: saved_models/exp6_aug_calib/best_model_t7/assets\n",
      "[I 2024-02-01 14:33:54,361] Trial 7 finished with value: 0.7400000095367432 and parameters: {'batchsize': 32, 'brightness_factor': 0.06834870244192395, 'gaussian_noise_factor': 0.13148344275163956, 'translate_factor': 0.19973900157393465, 'num_layers': 2, 'layer_0': 'Pointwise2D', 'layer_0_pwconv2d_filters': 24, 'layer_0_pwconv2d_ssize': 7, 'activation_0': 'tanh', 'layer_1': 'Conv2D', 'layer_1_conv2d_filters': 24, 'layer_1_conv2d_fsize': 4, 'layer_1_conv2d_ssize': 2, 'activation_1': 'tanh', 'output_dropout': 0.3743276773957312, 'lr_inicial': 0.0006921582083962937}. Best is trial 2 with value: 0.8199999928474426.\n"
     ]
    },
    {
     "name": "stdout",
     "output_type": "stream",
     "text": [
      "INFO:tensorflow:Assets written to: saved_models/exp6_aug_calib/best_model_t8/assets\n"
     ]
    },
    {
     "name": "stderr",
     "output_type": "stream",
     "text": [
      "INFO:tensorflow:Assets written to: saved_models/exp6_aug_calib/best_model_t8/assets\n",
      "[I 2024-02-01 14:34:09,343] Trial 8 finished with value: 0.7599999904632568 and parameters: {'batchsize': 128, 'brightness_factor': 0.14892224700172169, 'gaussian_noise_factor': 0.1178726207467378, 'translate_factor': 0.006156838626629591, 'num_layers': 2, 'layer_0': 'Conv2D', 'layer_0_conv2d_filters': 12, 'layer_0_conv2d_fsize': 4, 'layer_0_conv2d_ssize': 5, 'activation_0': 'relu', 'layer_1': 'Depthwise2D', 'layer_1_dwconv2d_fsize': 5, 'layer_1_dwconv2d_ssize': 5, 'activation_1': 'tanh', 'output_dropout': 0.3496058147478566, 'lr_inicial': 0.0011265760705040189}. Best is trial 2 with value: 0.8199999928474426.\n"
     ]
    },
    {
     "name": "stdout",
     "output_type": "stream",
     "text": [
      "INFO:tensorflow:Assets written to: saved_models/exp6_aug_calib/best_model_t9/assets\n"
     ]
    },
    {
     "name": "stderr",
     "output_type": "stream",
     "text": [
      "INFO:tensorflow:Assets written to: saved_models/exp6_aug_calib/best_model_t9/assets\n",
      "[I 2024-02-01 14:34:25,798] Trial 9 finished with value: 0.8199999928474426 and parameters: {'batchsize': 96, 'brightness_factor': 0.16972817607954108, 'gaussian_noise_factor': 0.012864528787840413, 'translate_factor': 0.020439973589298013, 'num_layers': 3, 'layer_0': 'Conv2D', 'layer_0_conv2d_filters': 24, 'layer_0_conv2d_fsize': 5, 'layer_0_conv2d_ssize': 3, 'activation_0': 'linear', 'layer_1': 'Pointwise2D', 'layer_1_pwconv2d_filters': 12, 'layer_1_pwconv2d_ssize': 2, 'activation_1': 'relu', 'layer_2': 'Conv2D', 'layer_2_conv2d_filters': 24, 'layer_2_conv2d_fsize': 5, 'layer_2_conv2d_ssize': 5, 'activation_2': 'linear', 'output_dropout': 0.4600809720669863, 'lr_inicial': 0.0008321172875239715}. Best is trial 2 with value: 0.8199999928474426.\n"
     ]
    },
    {
     "name": "stdout",
     "output_type": "stream",
     "text": [
      "INFO:tensorflow:Assets written to: saved_models/exp6_aug_calib/best_model_t10/assets\n"
     ]
    },
    {
     "name": "stderr",
     "output_type": "stream",
     "text": [
      "INFO:tensorflow:Assets written to: saved_models/exp6_aug_calib/best_model_t10/assets\n",
      "[I 2024-02-01 14:34:41,250] Trial 10 finished with value: 0.5199999809265137 and parameters: {'batchsize': 128, 'brightness_factor': 0.10278968550215081, 'gaussian_noise_factor': 0.006431791633892809, 'translate_factor': 0.13849888329677817, 'num_layers': 3, 'layer_0': 'Depthwise2D', 'layer_0_dwconv2d_fsize': 5, 'layer_0_dwconv2d_ssize': 2, 'activation_0': 'linear', 'layer_1': 'Depthwise2D', 'layer_1_dwconv2d_fsize': 3, 'layer_1_dwconv2d_ssize': 2, 'activation_1': 'relu', 'layer_2': 'Depthwise2D', 'layer_2_dwconv2d_fsize': 4, 'layer_2_dwconv2d_ssize': 3, 'activation_2': 'relu', 'output_dropout': 0.4113635047417379, 'lr_inicial': 0.0019118305799635023}. Best is trial 2 with value: 0.8199999928474426.\n"
     ]
    },
    {
     "name": "stdout",
     "output_type": "stream",
     "text": [
      "INFO:tensorflow:Assets written to: saved_models/exp6_aug_calib/best_model_t11/assets\n"
     ]
    },
    {
     "name": "stderr",
     "output_type": "stream",
     "text": [
      "INFO:tensorflow:Assets written to: saved_models/exp6_aug_calib/best_model_t11/assets\n",
      "[I 2024-02-01 14:35:00,885] Trial 11 finished with value: 0.8199999928474426 and parameters: {'batchsize': 96, 'brightness_factor': 0.19801829959749662, 'gaussian_noise_factor': 0.009011812688179226, 'translate_factor': 0.0559540990140862, 'num_layers': 3, 'layer_0': 'Pointwise2D', 'layer_0_pwconv2d_filters': 32, 'layer_0_pwconv2d_ssize': 2, 'activation_0': 'linear', 'layer_1': 'Pointwise2D', 'layer_1_pwconv2d_filters': 12, 'layer_1_pwconv2d_ssize': 2, 'activation_1': 'relu', 'layer_2': 'Conv2D', 'layer_2_conv2d_filters': 24, 'layer_2_conv2d_fsize': 5, 'layer_2_conv2d_ssize': 5, 'activation_2': 'linear', 'output_dropout': 0.447405472648195, 'lr_inicial': 0.0014607304921588056}. Best is trial 2 with value: 0.8199999928474426.\n"
     ]
    },
    {
     "name": "stdout",
     "output_type": "stream",
     "text": [
      "INFO:tensorflow:Assets written to: saved_models/exp6_aug_calib/best_model_t12/assets\n"
     ]
    },
    {
     "name": "stderr",
     "output_type": "stream",
     "text": [
      "INFO:tensorflow:Assets written to: saved_models/exp6_aug_calib/best_model_t12/assets\n",
      "[I 2024-02-01 14:35:15,873] Trial 12 finished with value: 0.7200000286102295 and parameters: {'batchsize': 96, 'brightness_factor': 0.1882966797449931, 'gaussian_noise_factor': 0.04952637889198876, 'translate_factor': 0.12521851264212985, 'num_layers': 3, 'layer_0': 'Pointwise2D', 'layer_0_pwconv2d_filters': 16, 'layer_0_pwconv2d_ssize': 3, 'activation_0': 'linear', 'layer_1': 'Pointwise2D', 'layer_1_pwconv2d_filters': 20, 'layer_1_pwconv2d_ssize': 5, 'activation_1': 'relu', 'layer_2': 'Conv2D', 'layer_2_conv2d_filters': 20, 'layer_2_conv2d_fsize': 3, 'layer_2_conv2d_ssize': 5, 'activation_2': 'tanh', 'output_dropout': 0.30345579989846094, 'lr_inicial': 0.001301742324577594}. Best is trial 2 with value: 0.8199999928474426.\n"
     ]
    },
    {
     "name": "stdout",
     "output_type": "stream",
     "text": [
      "INFO:tensorflow:Assets written to: saved_models/exp6_aug_calib/best_model_t13/assets\n"
     ]
    },
    {
     "name": "stderr",
     "output_type": "stream",
     "text": [
      "INFO:tensorflow:Assets written to: saved_models/exp6_aug_calib/best_model_t13/assets\n",
      "[I 2024-02-01 14:35:37,431] Trial 13 finished with value: 0.699999988079071 and parameters: {'batchsize': 128, 'brightness_factor': 0.09887220283128892, 'gaussian_noise_factor': 0.04631280370911761, 'translate_factor': 0.05379320589196426, 'num_layers': 3, 'layer_0': 'Conv2D', 'layer_0_conv2d_filters': 28, 'layer_0_conv2d_fsize': 5, 'layer_0_conv2d_ssize': 2, 'activation_0': 'linear', 'layer_1': 'Pointwise2D', 'layer_1_pwconv2d_filters': 4, 'layer_1_pwconv2d_ssize': 2, 'activation_1': 'relu', 'layer_2': 'Pointwise2D', 'layer_2_pwconv2d_filters': 8, 'layer_2_pwconv2d_ssize': 3, 'activation_2': 'linear', 'output_dropout': 0.43394817851456013, 'lr_inicial': 0.001956187127229598}. Best is trial 2 with value: 0.8199999928474426.\n"
     ]
    },
    {
     "name": "stdout",
     "output_type": "stream",
     "text": [
      "INFO:tensorflow:Assets written to: saved_models/exp6_aug_calib/best_model_t14/assets\n"
     ]
    },
    {
     "name": "stderr",
     "output_type": "stream",
     "text": [
      "INFO:tensorflow:Assets written to: saved_models/exp6_aug_calib/best_model_t14/assets\n",
      "[I 2024-02-01 14:35:51,755] Trial 14 finished with value: 0.699999988079071 and parameters: {'batchsize': 64, 'brightness_factor': 0.16845421198848096, 'gaussian_noise_factor': 0.04202940036403291, 'translate_factor': 0.09432566750671016, 'num_layers': 2, 'layer_0': 'Depthwise2D', 'layer_0_dwconv2d_fsize': 4, 'layer_0_dwconv2d_ssize': 7, 'activation_0': 'tanh', 'layer_1': 'Conv2D', 'layer_1_conv2d_filters': 4, 'layer_1_conv2d_fsize': 3, 'layer_1_conv2d_ssize': 8, 'activation_1': 'relu', 'output_dropout': 0.5015225809890915, 'lr_inicial': 0.0006132359028747114}. Best is trial 2 with value: 0.8199999928474426.\n"
     ]
    },
    {
     "name": "stdout",
     "output_type": "stream",
     "text": [
      "INFO:tensorflow:Assets written to: saved_models/exp6_aug_calib/best_model_t15/assets\n"
     ]
    },
    {
     "name": "stderr",
     "output_type": "stream",
     "text": [
      "INFO:tensorflow:Assets written to: saved_models/exp6_aug_calib/best_model_t15/assets\n",
      "[I 2024-02-01 14:36:07,731] Trial 15 finished with value: 0.7599999904632568 and parameters: {'batchsize': 96, 'brightness_factor': 0.11617441887419716, 'gaussian_noise_factor': 0.06883325093246326, 'translate_factor': 0.1533271437765985, 'num_layers': 3, 'layer_0': 'Conv2D', 'layer_0_conv2d_filters': 20, 'layer_0_conv2d_fsize': 5, 'layer_0_conv2d_ssize': 3, 'activation_0': 'relu', 'layer_1': 'Pointwise2D', 'layer_1_pwconv2d_filters': 32, 'layer_1_pwconv2d_ssize': 3, 'activation_1': 'linear', 'layer_2': 'Conv2D', 'layer_2_conv2d_filters': 4, 'layer_2_conv2d_fsize': 5, 'layer_2_conv2d_ssize': 2, 'activation_2': 'linear', 'output_dropout': 0.49557195638202123, 'lr_inicial': 0.0011254434562443117}. Best is trial 2 with value: 0.8199999928474426.\n"
     ]
    },
    {
     "name": "stdout",
     "output_type": "stream",
     "text": [
      "INFO:tensorflow:Assets written to: saved_models/exp6_aug_calib/best_model_t16/assets\n"
     ]
    },
    {
     "name": "stderr",
     "output_type": "stream",
     "text": [
      "INFO:tensorflow:Assets written to: saved_models/exp6_aug_calib/best_model_t16/assets\n",
      "[I 2024-02-01 14:36:21,954] Trial 16 finished with value: 0.7599999904632568 and parameters: {'batchsize': 64, 'brightness_factor': 0.06472132704800018, 'gaussian_noise_factor': 0.022724629609257377, 'translate_factor': 0.033715381389892565, 'num_layers': 2, 'layer_0': 'Pointwise2D', 'layer_0_pwconv2d_filters': 16, 'layer_0_pwconv2d_ssize': 6, 'activation_0': 'linear', 'layer_1': 'Depthwise2D', 'layer_1_dwconv2d_fsize': 3, 'layer_1_dwconv2d_ssize': 8, 'activation_1': 'relu', 'output_dropout': 0.41636251840896327, 'lr_inicial': 0.000549257065726765}. Best is trial 2 with value: 0.8199999928474426.\n"
     ]
    },
    {
     "name": "stdout",
     "output_type": "stream",
     "text": [
      "INFO:tensorflow:Assets written to: saved_models/exp6_aug_calib/best_model_t17/assets\n"
     ]
    },
    {
     "name": "stderr",
     "output_type": "stream",
     "text": [
      "INFO:tensorflow:Assets written to: saved_models/exp6_aug_calib/best_model_t17/assets\n",
      "[I 2024-02-01 14:36:36,703] Trial 17 finished with value: 0.7799999713897705 and parameters: {'batchsize': 128, 'brightness_factor': 0.12068367921650683, 'gaussian_noise_factor': 0.028162216231894705, 'translate_factor': 0.07843170585943668, 'num_layers': 2, 'layer_0': 'Conv2D', 'layer_0_conv2d_filters': 20, 'layer_0_conv2d_fsize': 5, 'layer_0_conv2d_ssize': 7, 'activation_0': 'relu', 'layer_1': 'Pointwise2D', 'layer_1_pwconv2d_filters': 16, 'layer_1_pwconv2d_ssize': 8, 'activation_1': 'relu', 'output_dropout': 0.46239825813193136, 'lr_inicial': 0.0016386722358041558}. Best is trial 2 with value: 0.8199999928474426.\n"
     ]
    },
    {
     "name": "stdout",
     "output_type": "stream",
     "text": [
      "INFO:tensorflow:Assets written to: saved_models/exp6_aug_calib/best_model_t18/assets\n"
     ]
    },
    {
     "name": "stderr",
     "output_type": "stream",
     "text": [
      "INFO:tensorflow:Assets written to: saved_models/exp6_aug_calib/best_model_t18/assets\n",
      "[I 2024-02-01 14:36:52,112] Trial 18 finished with value: 0.7799999713897705 and parameters: {'batchsize': 96, 'brightness_factor': 0.16722937435489374, 'gaussian_noise_factor': 0.0645284890115596, 'translate_factor': 0.11530147463856823, 'num_layers': 3, 'layer_0': 'Pointwise2D', 'layer_0_pwconv2d_filters': 24, 'layer_0_pwconv2d_ssize': 3, 'activation_0': 'linear', 'layer_1': 'Depthwise2D', 'layer_1_dwconv2d_fsize': 4, 'layer_1_dwconv2d_ssize': 4, 'activation_1': 'relu', 'layer_2': 'Depthwise2D', 'layer_2_dwconv2d_fsize': 5, 'layer_2_dwconv2d_ssize': 5, 'activation_2': 'relu', 'output_dropout': 0.5197292324290128, 'lr_inicial': 0.0010648346404422131}. Best is trial 2 with value: 0.8199999928474426.\n"
     ]
    },
    {
     "name": "stdout",
     "output_type": "stream",
     "text": [
      "INFO:tensorflow:Assets written to: saved_models/exp6_aug_calib/best_model_t19/assets\n"
     ]
    },
    {
     "name": "stderr",
     "output_type": "stream",
     "text": [
      "INFO:tensorflow:Assets written to: saved_models/exp6_aug_calib/best_model_t19/assets\n",
      "[I 2024-02-01 14:37:06,258] Trial 19 finished with value: 0.7599999904632568 and parameters: {'batchsize': 64, 'brightness_factor': 0.08813081630470726, 'gaussian_noise_factor': 0.07491634097616755, 'translate_factor': 0.028441014587713948, 'num_layers': 2, 'layer_0': 'Depthwise2D', 'layer_0_dwconv2d_fsize': 5, 'layer_0_dwconv2d_ssize': 6, 'activation_0': 'tanh', 'layer_1': 'Conv2D', 'layer_1_conv2d_filters': 32, 'layer_1_conv2d_fsize': 5, 'layer_1_conv2d_ssize': 5, 'activation_1': 'tanh', 'output_dropout': 0.5961973691259211, 'lr_inicial': 0.000961694187980772}. Best is trial 2 with value: 0.8199999928474426.\n"
     ]
    },
    {
     "name": "stdout",
     "output_type": "stream",
     "text": [
      "INFO:tensorflow:Assets written to: saved_models/exp6_aug_calib/best_model_t20/assets\n"
     ]
    },
    {
     "name": "stderr",
     "output_type": "stream",
     "text": [
      "INFO:tensorflow:Assets written to: saved_models/exp6_aug_calib/best_model_t20/assets\n",
      "[I 2024-02-01 14:37:22,974] Trial 20 finished with value: 0.6600000262260437 and parameters: {'batchsize': 128, 'brightness_factor': 0.1742861110906626, 'gaussian_noise_factor': 0.002507737570978502, 'translate_factor': 0.16317330609428188, 'num_layers': 3, 'layer_0': 'Pointwise2D', 'layer_0_pwconv2d_filters': 8, 'layer_0_pwconv2d_ssize': 2, 'activation_0': 'linear', 'layer_1': 'Pointwise2D', 'layer_1_pwconv2d_filters': 4, 'layer_1_pwconv2d_ssize': 4, 'activation_1': 'linear', 'layer_2': 'Pointwise2D', 'layer_2_pwconv2d_filters': 32, 'layer_2_pwconv2d_ssize': 5, 'activation_2': 'tanh', 'output_dropout': 0.389541846904179, 'lr_inicial': 0.001343277049855515}. Best is trial 2 with value: 0.8199999928474426.\n"
     ]
    },
    {
     "name": "stdout",
     "output_type": "stream",
     "text": [
      "INFO:tensorflow:Assets written to: saved_models/exp6_aug_calib/best_model_t21/assets\n"
     ]
    },
    {
     "name": "stderr",
     "output_type": "stream",
     "text": [
      "INFO:tensorflow:Assets written to: saved_models/exp6_aug_calib/best_model_t21/assets\n",
      "[I 2024-02-01 14:37:41,530] Trial 21 finished with value: 0.7799999713897705 and parameters: {'batchsize': 96, 'brightness_factor': 0.19104558417860573, 'gaussian_noise_factor': 0.020770726809949094, 'translate_factor': 0.06460433436184816, 'num_layers': 3, 'layer_0': 'Pointwise2D', 'layer_0_pwconv2d_filters': 32, 'layer_0_pwconv2d_ssize': 2, 'activation_0': 'linear', 'layer_1': 'Pointwise2D', 'layer_1_pwconv2d_filters': 16, 'layer_1_pwconv2d_ssize': 2, 'activation_1': 'relu', 'layer_2': 'Conv2D', 'layer_2_conv2d_filters': 32, 'layer_2_conv2d_fsize': 5, 'layer_2_conv2d_ssize': 5, 'activation_2': 'linear', 'output_dropout': 0.4443704689932196, 'lr_inicial': 0.0014785512465969716}. Best is trial 2 with value: 0.8199999928474426.\n"
     ]
    },
    {
     "name": "stdout",
     "output_type": "stream",
     "text": [
      "INFO:tensorflow:Assets written to: saved_models/exp6_aug_calib/best_model_t22/assets\n"
     ]
    },
    {
     "name": "stderr",
     "output_type": "stream",
     "text": [
      "INFO:tensorflow:Assets written to: saved_models/exp6_aug_calib/best_model_t22/assets\n",
      "[I 2024-02-01 14:37:59,315] Trial 22 finished with value: 0.8199999928474426 and parameters: {'batchsize': 96, 'brightness_factor': 0.19333234971406996, 'gaussian_noise_factor': 0.005164529117081321, 'translate_factor': 0.03577747378714222, 'num_layers': 3, 'layer_0': 'Pointwise2D', 'layer_0_pwconv2d_filters': 32, 'layer_0_pwconv2d_ssize': 2, 'activation_0': 'linear', 'layer_1': 'Pointwise2D', 'layer_1_pwconv2d_filters': 12, 'layer_1_pwconv2d_ssize': 2, 'activation_1': 'relu', 'layer_2': 'Conv2D', 'layer_2_conv2d_filters': 24, 'layer_2_conv2d_fsize': 4, 'layer_2_conv2d_ssize': 5, 'activation_2': 'linear', 'output_dropout': 0.4756083984271938, 'lr_inicial': 0.0015740992832095173}. Best is trial 2 with value: 0.8199999928474426.\n"
     ]
    },
    {
     "name": "stdout",
     "output_type": "stream",
     "text": [
      "INFO:tensorflow:Assets written to: saved_models/exp6_aug_calib/best_model_t23/assets\n"
     ]
    },
    {
     "name": "stderr",
     "output_type": "stream",
     "text": [
      "INFO:tensorflow:Assets written to: saved_models/exp6_aug_calib/best_model_t23/assets\n",
      "[I 2024-02-01 14:38:14,028] Trial 23 finished with value: 0.800000011920929 and parameters: {'batchsize': 96, 'brightness_factor': 0.1986922695682982, 'gaussian_noise_factor': 0.030318852154243278, 'translate_factor': 0.04661412304367618, 'num_layers': 3, 'layer_0': 'Pointwise2D', 'layer_0_pwconv2d_filters': 24, 'layer_0_pwconv2d_ssize': 3, 'activation_0': 'linear', 'layer_1': 'Pointwise2D', 'layer_1_pwconv2d_filters': 12, 'layer_1_pwconv2d_ssize': 3, 'activation_1': 'relu', 'layer_2': 'Conv2D', 'layer_2_conv2d_filters': 28, 'layer_2_conv2d_fsize': 5, 'layer_2_conv2d_ssize': 4, 'activation_2': 'linear', 'output_dropout': 0.4307878204313886, 'lr_inicial': 0.0013078634728912895}. Best is trial 2 with value: 0.8199999928474426.\n"
     ]
    },
    {
     "name": "stdout",
     "output_type": "stream",
     "text": [
      "INFO:tensorflow:Assets written to: saved_models/exp6_aug_calib/best_model_t24/assets\n"
     ]
    },
    {
     "name": "stderr",
     "output_type": "stream",
     "text": [
      "INFO:tensorflow:Assets written to: saved_models/exp6_aug_calib/best_model_t24/assets\n",
      "[I 2024-02-01 14:38:28,788] Trial 24 finished with value: 0.800000011920929 and parameters: {'batchsize': 96, 'brightness_factor': 0.15525169884919118, 'gaussian_noise_factor': 0.19634566425612607, 'translate_factor': 0.08455126566065492, 'num_layers': 3, 'layer_0': 'Pointwise2D', 'layer_0_pwconv2d_filters': 32, 'layer_0_pwconv2d_ssize': 4, 'activation_0': 'linear', 'layer_1': 'Depthwise2D', 'layer_1_dwconv2d_fsize': 3, 'layer_1_dwconv2d_ssize': 3, 'activation_1': 'relu', 'layer_2': 'Conv2D', 'layer_2_conv2d_filters': 12, 'layer_2_conv2d_fsize': 5, 'layer_2_conv2d_ssize': 4, 'activation_2': 'linear', 'output_dropout': 0.40114989899893627, 'lr_inicial': 0.001646863283121859}. Best is trial 2 with value: 0.8199999928474426.\n"
     ]
    },
    {
     "name": "stdout",
     "output_type": "stream",
     "text": [
      "INFO:tensorflow:Assets written to: saved_models/exp6_aug_calib/best_model_t25/assets\n"
     ]
    },
    {
     "name": "stderr",
     "output_type": "stream",
     "text": [
      "INFO:tensorflow:Assets written to: saved_models/exp6_aug_calib/best_model_t25/assets\n",
      "[I 2024-02-01 14:38:48,166] Trial 25 finished with value: 0.800000011920929 and parameters: {'batchsize': 64, 'brightness_factor': 0.13349808423718204, 'gaussian_noise_factor': 0.018926215098089814, 'translate_factor': 0.11116119052848332, 'num_layers': 3, 'layer_0': 'Conv2D', 'layer_0_conv2d_filters': 32, 'layer_0_conv2d_fsize': 4, 'layer_0_conv2d_ssize': 3, 'activation_0': 'relu', 'layer_1': 'Pointwise2D', 'layer_1_pwconv2d_filters': 24, 'layer_1_pwconv2d_ssize': 2, 'activation_1': 'relu', 'layer_2': 'Conv2D', 'layer_2_conv2d_filters': 16, 'layer_2_conv2d_fsize': 5, 'layer_2_conv2d_ssize': 3, 'activation_2': 'linear', 'output_dropout': 0.4540113791921592, 'lr_inicial': 0.0006839270080901617}. Best is trial 2 with value: 0.8199999928474426.\n"
     ]
    },
    {
     "name": "stdout",
     "output_type": "stream",
     "text": [
      "INFO:tensorflow:Assets written to: saved_models/exp6_aug_calib/best_model_t26/assets\n"
     ]
    },
    {
     "name": "stderr",
     "output_type": "stream",
     "text": [
      "INFO:tensorflow:Assets written to: saved_models/exp6_aug_calib/best_model_t26/assets\n",
      "[I 2024-02-01 14:39:02,568] Trial 26 finished with value: 0.7200000286102295 and parameters: {'batchsize': 96, 'brightness_factor': 0.04366778701780688, 'gaussian_noise_factor': 0.05667971003794022, 'translate_factor': 0.02839081629375198, 'num_layers': 2, 'layer_0': 'Pointwise2D', 'layer_0_pwconv2d_filters': 20, 'layer_0_pwconv2d_ssize': 5, 'activation_0': 'linear', 'layer_1': 'Pointwise2D', 'layer_1_pwconv2d_filters': 8, 'layer_1_pwconv2d_ssize': 7, 'activation_1': 'relu', 'output_dropout': 0.481989903422962, 'lr_inicial': 0.001017276553086898}. Best is trial 2 with value: 0.8199999928474426.\n"
     ]
    },
    {
     "name": "stdout",
     "output_type": "stream",
     "text": [
      "INFO:tensorflow:Assets written to: saved_models/exp6_aug_calib/best_model_t27/assets\n"
     ]
    },
    {
     "name": "stderr",
     "output_type": "stream",
     "text": [
      "INFO:tensorflow:Assets written to: saved_models/exp6_aug_calib/best_model_t27/assets\n",
      "[I 2024-02-01 14:39:21,775] Trial 27 finished with value: 0.7200000286102295 and parameters: {'batchsize': 128, 'brightness_factor': 0.18058359640224234, 'gaussian_noise_factor': 0.038564634254561116, 'translate_factor': 0.07614200353965211, 'num_layers': 3, 'layer_0': 'Pointwise2D', 'layer_0_pwconv2d_filters': 28, 'layer_0_pwconv2d_ssize': 2, 'activation_0': 'linear', 'layer_1': 'Depthwise2D', 'layer_1_dwconv2d_fsize': 4, 'layer_1_dwconv2d_ssize': 4, 'activation_1': 'tanh', 'layer_2': 'Conv2D', 'layer_2_conv2d_filters': 24, 'layer_2_conv2d_fsize': 3, 'layer_2_conv2d_ssize': 5, 'activation_2': 'linear', 'output_dropout': 0.33984936628914675, 'lr_inicial': 0.001231373765975882}. Best is trial 2 with value: 0.8199999928474426.\n"
     ]
    },
    {
     "name": "stdout",
     "output_type": "stream",
     "text": [
      "INFO:tensorflow:Assets written to: saved_models/exp6_aug_calib/best_model_t28/assets\n"
     ]
    },
    {
     "name": "stderr",
     "output_type": "stream",
     "text": [
      "INFO:tensorflow:Assets written to: saved_models/exp6_aug_calib/best_model_t28/assets\n",
      "[I 2024-02-01 14:39:38,995] Trial 28 finished with value: 0.7599999904632568 and parameters: {'batchsize': 96, 'brightness_factor': 0.15804514309828682, 'gaussian_noise_factor': 0.009433571783281282, 'translate_factor': 0.01958150988868601, 'num_layers': 3, 'layer_0': 'Depthwise2D', 'layer_0_dwconv2d_fsize': 3, 'layer_0_dwconv2d_ssize': 2, 'activation_0': 'tanh', 'layer_1': 'Conv2D', 'layer_1_conv2d_filters': 4, 'layer_1_conv2d_fsize': 5, 'layer_1_conv2d_ssize': 2, 'activation_1': 'linear', 'layer_2': 'Pointwise2D', 'layer_2_pwconv2d_filters': 28, 'layer_2_pwconv2d_ssize': 2, 'activation_2': 'tanh', 'output_dropout': 0.5215546511251158, 'lr_inicial': 0.0017418566265625143}. Best is trial 2 with value: 0.8199999928474426.\n"
     ]
    },
    {
     "name": "stdout",
     "output_type": "stream",
     "text": [
      "INFO:tensorflow:Assets written to: saved_models/exp6_aug_calib/best_model_t29/assets\n"
     ]
    },
    {
     "name": "stderr",
     "output_type": "stream",
     "text": [
      "INFO:tensorflow:Assets written to: saved_models/exp6_aug_calib/best_model_t29/assets\n",
      "[I 2024-02-01 14:39:53,802] Trial 29 finished with value: 0.699999988079071 and parameters: {'batchsize': 64, 'brightness_factor': 0.11510118315793733, 'gaussian_noise_factor': 0.08321052304759359, 'translate_factor': 0.047098938099525305, 'num_layers': 2, 'layer_0': 'Conv2D', 'layer_0_conv2d_filters': 16, 'layer_0_conv2d_fsize': 5, 'layer_0_conv2d_ssize': 8, 'activation_0': 'relu', 'layer_1': 'Pointwise2D', 'layer_1_pwconv2d_filters': 24, 'layer_1_pwconv2d_ssize': 4, 'activation_1': 'relu', 'output_dropout': 0.4396672763506588, 'lr_inicial': 0.0003350472277555562}. Best is trial 2 with value: 0.8199999928474426.\n"
     ]
    },
    {
     "name": "stdout",
     "output_type": "stream",
     "text": [
      "INFO:tensorflow:Assets written to: saved_models/exp6_aug_calib/best_model_t30/assets\n"
     ]
    },
    {
     "name": "stderr",
     "output_type": "stream",
     "text": [
      "INFO:tensorflow:Assets written to: saved_models/exp6_aug_calib/best_model_t30/assets\n",
      "[I 2024-02-01 14:40:08,149] Trial 30 finished with value: 0.7799999713897705 and parameters: {'batchsize': 128, 'brightness_factor': 0.0367488281696408, 'gaussian_noise_factor': 0.01763045280217878, 'translate_factor': 0.10814084822936483, 'num_layers': 1, 'layer_0': 'Depthwise2D', 'layer_0_dwconv2d_fsize': 4, 'layer_0_dwconv2d_ssize': 16, 'activation_0': 'relu', 'output_dropout': 0.41475089541623106, 'lr_inicial': 0.0014498271244433414}. Best is trial 2 with value: 0.8199999928474426.\n"
     ]
    },
    {
     "name": "stdout",
     "output_type": "stream",
     "text": [
      "INFO:tensorflow:Assets written to: saved_models/exp6_aug_calib/best_model_t31/assets\n"
     ]
    },
    {
     "name": "stderr",
     "output_type": "stream",
     "text": [
      "INFO:tensorflow:Assets written to: saved_models/exp6_aug_calib/best_model_t31/assets\n",
      "[I 2024-02-01 14:40:24,824] Trial 31 finished with value: 0.7799999713897705 and parameters: {'batchsize': 96, 'brightness_factor': 0.1974934771870519, 'gaussian_noise_factor': 0.0013940008285985937, 'translate_factor': 0.0370301266422933, 'num_layers': 3, 'layer_0': 'Pointwise2D', 'layer_0_pwconv2d_filters': 32, 'layer_0_pwconv2d_ssize': 2, 'activation_0': 'linear', 'layer_1': 'Pointwise2D', 'layer_1_pwconv2d_filters': 12, 'layer_1_pwconv2d_ssize': 2, 'activation_1': 'relu', 'layer_2': 'Conv2D', 'layer_2_conv2d_filters': 24, 'layer_2_conv2d_fsize': 4, 'layer_2_conv2d_ssize': 5, 'activation_2': 'linear', 'output_dropout': 0.47223873029448776, 'lr_inicial': 0.0015911172033073605}. Best is trial 2 with value: 0.8199999928474426.\n"
     ]
    },
    {
     "name": "stdout",
     "output_type": "stream",
     "text": [
      "INFO:tensorflow:Assets written to: saved_models/exp6_aug_calib/best_model_t32/assets\n"
     ]
    },
    {
     "name": "stderr",
     "output_type": "stream",
     "text": [
      "INFO:tensorflow:Assets written to: saved_models/exp6_aug_calib/best_model_t32/assets\n",
      "[I 2024-02-01 14:40:42,762] Trial 32 finished with value: 0.7599999904632568 and parameters: {'batchsize': 96, 'brightness_factor': 0.1836890269860537, 'gaussian_noise_factor': 0.0346697252245271, 'translate_factor': 0.0703386893004557, 'num_layers': 3, 'layer_0': 'Pointwise2D', 'layer_0_pwconv2d_filters': 28, 'layer_0_pwconv2d_ssize': 2, 'activation_0': 'linear', 'layer_1': 'Pointwise2D', 'layer_1_pwconv2d_filters': 12, 'layer_1_pwconv2d_ssize': 3, 'activation_1': 'relu', 'layer_2': 'Conv2D', 'layer_2_conv2d_filters': 24, 'layer_2_conv2d_fsize': 4, 'layer_2_conv2d_ssize': 4, 'activation_2': 'linear', 'output_dropout': 0.4848600281008753, 'lr_inicial': 0.001468400701298219}. Best is trial 2 with value: 0.8199999928474426.\n"
     ]
    },
    {
     "name": "stdout",
     "output_type": "stream",
     "text": [
      "INFO:tensorflow:Assets written to: saved_models/exp6_aug_calib/best_model_t33/assets\n"
     ]
    },
    {
     "name": "stderr",
     "output_type": "stream",
     "text": [
      "INFO:tensorflow:Assets written to: saved_models/exp6_aug_calib/best_model_t33/assets\n",
      "[I 2024-02-01 14:40:58,937] Trial 33 finished with value: 0.7599999904632568 and parameters: {'batchsize': 96, 'brightness_factor': 0.13066349599722554, 'gaussian_noise_factor': 0.012713306890289003, 'translate_factor': 0.02226408135846859, 'num_layers': 3, 'layer_0': 'Pointwise2D', 'layer_0_pwconv2d_filters': 32, 'layer_0_pwconv2d_ssize': 3, 'activation_0': 'linear', 'layer_1': 'Pointwise2D', 'layer_1_pwconv2d_filters': 8, 'layer_1_pwconv2d_ssize': 2, 'activation_1': 'relu', 'layer_2': 'Conv2D', 'layer_2_conv2d_filters': 28, 'layer_2_conv2d_fsize': 4, 'layer_2_conv2d_ssize': 5, 'activation_2': 'linear', 'output_dropout': 0.4582265944204143, 'lr_inicial': 0.0011876857856559669}. Best is trial 2 with value: 0.8199999928474426.\n"
     ]
    },
    {
     "name": "stdout",
     "output_type": "stream",
     "text": [
      "INFO:tensorflow:Assets written to: saved_models/exp6_aug_calib/best_model_t34/assets\n"
     ]
    },
    {
     "name": "stderr",
     "output_type": "stream",
     "text": [
      "INFO:tensorflow:Assets written to: saved_models/exp6_aug_calib/best_model_t34/assets\n",
      "[I 2024-02-01 14:41:16,605] Trial 34 finished with value: 0.800000011920929 and parameters: {'batchsize': 96, 'brightness_factor': 0.16635619028724521, 'gaussian_noise_factor': 0.056216155236909364, 'translate_factor': 0.014677573850063866, 'num_layers': 3, 'layer_0': 'Pointwise2D', 'layer_0_pwconv2d_filters': 28, 'layer_0_pwconv2d_ssize': 2, 'activation_0': 'linear', 'layer_1': 'Pointwise2D', 'layer_1_pwconv2d_filters': 8, 'layer_1_pwconv2d_ssize': 2, 'activation_1': 'relu', 'layer_2': 'Depthwise2D', 'layer_2_dwconv2d_fsize': 3, 'layer_2_dwconv2d_ssize': 2, 'activation_2': 'relu', 'output_dropout': 0.5609005913827053, 'lr_inicial': 0.0018183017422638932}. Best is trial 2 with value: 0.8199999928474426.\n"
     ]
    },
    {
     "name": "stdout",
     "output_type": "stream",
     "text": [
      "INFO:tensorflow:Assets written to: saved_models/exp6_aug_calib/best_model_t35/assets\n"
     ]
    },
    {
     "name": "stderr",
     "output_type": "stream",
     "text": [
      "INFO:tensorflow:Assets written to: saved_models/exp6_aug_calib/best_model_t35/assets\n",
      "[I 2024-02-01 14:41:29,537] Trial 35 finished with value: 0.699999988079071 and parameters: {'batchsize': 96, 'brightness_factor': 0.17906293405326806, 'gaussian_noise_factor': 0.002530438434822129, 'translate_factor': 0.04187188181896262, 'num_layers': 1, 'layer_0': 'Pointwise2D', 'layer_0_pwconv2d_filters': 32, 'layer_0_pwconv2d_ssize': 16, 'activation_0': 'linear', 'output_dropout': 0.5109079772095392, 'lr_inicial': 0.0007816932571564121}. Best is trial 2 with value: 0.8199999928474426.\n"
     ]
    },
    {
     "name": "stdout",
     "output_type": "stream",
     "text": [
      "INFO:tensorflow:Assets written to: saved_models/exp6_aug_calib/best_model_t36/assets\n"
     ]
    },
    {
     "name": "stderr",
     "output_type": "stream",
     "text": [
      "INFO:tensorflow:Assets written to: saved_models/exp6_aug_calib/best_model_t36/assets\n",
      "[I 2024-02-01 14:41:45,365] Trial 36 finished with value: 0.8600000143051147 and parameters: {'batchsize': 64, 'brightness_factor': 0.08111987697893051, 'gaussian_noise_factor': 0.03142055558013325, 'translate_factor': 0.06393895781252326, 'num_layers': 3, 'layer_0': 'Conv2D', 'layer_0_conv2d_filters': 24, 'layer_0_conv2d_fsize': 5, 'layer_0_conv2d_ssize': 4, 'activation_0': 'relu', 'layer_1': 'Pointwise2D', 'layer_1_pwconv2d_filters': 16, 'layer_1_pwconv2d_ssize': 3, 'activation_1': 'relu', 'layer_2': 'Conv2D', 'layer_2_conv2d_filters': 20, 'layer_2_conv2d_fsize': 4, 'layer_2_conv2d_ssize': 4, 'activation_2': 'linear', 'output_dropout': 0.48646679844250174, 'lr_inicial': 0.0008835436763151613}. Best is trial 36 with value: 0.8600000143051147.\n"
     ]
    },
    {
     "name": "stdout",
     "output_type": "stream",
     "text": [
      "INFO:tensorflow:Assets written to: saved_models/exp6_aug_calib/best_model_t37/assets\n"
     ]
    },
    {
     "name": "stderr",
     "output_type": "stream",
     "text": [
      "INFO:tensorflow:Assets written to: saved_models/exp6_aug_calib/best_model_t37/assets\n",
      "[I 2024-02-01 14:41:59,269] Trial 37 finished with value: 0.8199999928474426 and parameters: {'batchsize': 32, 'brightness_factor': 0.08590395186131854, 'gaussian_noise_factor': 0.032083054220269004, 'translate_factor': 0.056523224504575593, 'num_layers': 1, 'layer_0': 'Conv2D', 'layer_0_conv2d_filters': 24, 'layer_0_conv2d_fsize': 5, 'layer_0_conv2d_ssize': 12, 'activation_0': 'relu', 'output_dropout': 0.42500345229733405, 'lr_inicial': 0.0008771063870078392}. Best is trial 36 with value: 0.8600000143051147.\n"
     ]
    },
    {
     "name": "stdout",
     "output_type": "stream",
     "text": [
      "INFO:tensorflow:Assets written to: saved_models/exp6_aug_calib/best_model_t38/assets\n"
     ]
    },
    {
     "name": "stderr",
     "output_type": "stream",
     "text": [
      "INFO:tensorflow:Assets written to: saved_models/exp6_aug_calib/best_model_t38/assets\n",
      "[I 2024-02-01 14:42:14,081] Trial 38 finished with value: 0.7200000286102295 and parameters: {'batchsize': 64, 'brightness_factor': 0.06312669454917108, 'gaussian_noise_factor': 0.10399004302030568, 'translate_factor': 0.08396187554651023, 'num_layers': 2, 'layer_0': 'Conv2D', 'layer_0_conv2d_filters': 24, 'layer_0_conv2d_fsize': 5, 'layer_0_conv2d_ssize': 4, 'activation_0': 'relu', 'layer_1': 'Depthwise2D', 'layer_1_dwconv2d_fsize': 3, 'layer_1_dwconv2d_ssize': 7, 'activation_1': 'linear', 'output_dropout': 0.5480337519761377, 'lr_inicial': 0.0005100624722357066}. Best is trial 36 with value: 0.8600000143051147.\n"
     ]
    },
    {
     "name": "stdout",
     "output_type": "stream",
     "text": [
      "INFO:tensorflow:Assets written to: saved_models/exp6_aug_calib/best_model_t39/assets\n"
     ]
    },
    {
     "name": "stderr",
     "output_type": "stream",
     "text": [
      "INFO:tensorflow:Assets written to: saved_models/exp6_aug_calib/best_model_t39/assets\n",
      "[I 2024-02-01 14:42:32,071] Trial 39 finished with value: 0.7599999904632568 and parameters: {'batchsize': 64, 'brightness_factor': 0.022020915086528037, 'gaussian_noise_factor': 0.1583093634486853, 'translate_factor': 0.1007950814529136, 'num_layers': 3, 'layer_0': 'Conv2D', 'layer_0_conv2d_filters': 32, 'layer_0_conv2d_fsize': 5, 'layer_0_conv2d_ssize': 3, 'activation_0': 'relu', 'layer_1': 'Depthwise2D', 'layer_1_dwconv2d_fsize': 3, 'layer_1_dwconv2d_ssize': 3, 'activation_1': 'relu', 'layer_2': 'Conv2D', 'layer_2_conv2d_filters': 16, 'layer_2_conv2d_fsize': 5, 'layer_2_conv2d_ssize': 4, 'activation_2': 'linear', 'output_dropout': 0.5337769081943572, 'lr_inicial': 0.0007154498637270781}. Best is trial 36 with value: 0.8600000143051147.\n"
     ]
    },
    {
     "name": "stdout",
     "output_type": "stream",
     "text": [
      "INFO:tensorflow:Assets written to: saved_models/exp6_aug_calib/best_model_t40/assets\n"
     ]
    },
    {
     "name": "stderr",
     "output_type": "stream",
     "text": [
      "INFO:tensorflow:Assets written to: saved_models/exp6_aug_calib/best_model_t40/assets\n",
      "[I 2024-02-01 14:42:46,022] Trial 40 finished with value: 0.7799999713897705 and parameters: {'batchsize': 32, 'brightness_factor': 0.05003053457180509, 'gaussian_noise_factor': 0.13565654862296417, 'translate_factor': 0.0699392168662705, 'num_layers': 1, 'layer_0': 'Conv2D', 'layer_0_conv2d_filters': 16, 'layer_0_conv2d_fsize': 5, 'layer_0_conv2d_ssize': 10, 'activation_0': 'relu', 'output_dropout': 0.39223443165927474, 'lr_inicial': 0.0008875183584996118}. Best is trial 36 with value: 0.8600000143051147.\n"
     ]
    },
    {
     "name": "stdout",
     "output_type": "stream",
     "text": [
      "INFO:tensorflow:Assets written to: saved_models/exp6_aug_calib/best_model_t41/assets\n"
     ]
    },
    {
     "name": "stderr",
     "output_type": "stream",
     "text": [
      "INFO:tensorflow:Assets written to: saved_models/exp6_aug_calib/best_model_t41/assets\n",
      "[I 2024-02-01 14:43:01,940] Trial 41 finished with value: 0.8199999928474426 and parameters: {'batchsize': 96, 'brightness_factor': 0.08610127122898217, 'gaussian_noise_factor': 0.012690518516029975, 'translate_factor': 0.05580286155132181, 'num_layers': 3, 'layer_0': 'Conv2D', 'layer_0_conv2d_filters': 24, 'layer_0_conv2d_fsize': 4, 'layer_0_conv2d_ssize': 4, 'activation_0': 'relu', 'layer_1': 'Pointwise2D', 'layer_1_pwconv2d_filters': 16, 'layer_1_pwconv2d_ssize': 3, 'activation_1': 'relu', 'layer_2': 'Conv2D', 'layer_2_conv2d_filters': 20, 'layer_2_conv2d_fsize': 4, 'layer_2_conv2d_ssize': 5, 'activation_2': 'linear', 'output_dropout': 0.452317644818175, 'lr_inicial': 0.0009705245836193052}. Best is trial 36 with value: 0.8600000143051147.\n"
     ]
    },
    {
     "name": "stdout",
     "output_type": "stream",
     "text": [
      "INFO:tensorflow:Assets written to: saved_models/exp6_aug_calib/best_model_t42/assets\n"
     ]
    },
    {
     "name": "stderr",
     "output_type": "stream",
     "text": [
      "INFO:tensorflow:Assets written to: saved_models/exp6_aug_calib/best_model_t42/assets\n",
      "[I 2024-02-01 14:43:17,715] Trial 42 finished with value: 0.800000011920929 and parameters: {'batchsize': 96, 'brightness_factor': 0.07540208273169015, 'gaussian_noise_factor': 0.02577065518918195, 'translate_factor': 0.009899922762349083, 'num_layers': 3, 'layer_0': 'Pointwise2D', 'layer_0_pwconv2d_filters': 20, 'layer_0_pwconv2d_ssize': 3, 'activation_0': 'tanh', 'layer_1': 'Pointwise2D', 'layer_1_pwconv2d_filters': 12, 'layer_1_pwconv2d_ssize': 2, 'activation_1': 'relu', 'layer_2': 'Conv2D', 'layer_2_conv2d_filters': 24, 'layer_2_conv2d_fsize': 4, 'layer_2_conv2d_ssize': 5, 'activation_2': 'linear', 'output_dropout': 0.47717340214056514, 'lr_inicial': 0.001447117003122841}. Best is trial 36 with value: 0.8600000143051147.\n"
     ]
    },
    {
     "name": "stdout",
     "output_type": "stream",
     "text": [
      "INFO:tensorflow:Assets written to: saved_models/exp6_aug_calib/best_model_t43/assets\n"
     ]
    },
    {
     "name": "stderr",
     "output_type": "stream",
     "text": [
      "INFO:tensorflow:Assets written to: saved_models/exp6_aug_calib/best_model_t43/assets\n",
      "[I 2024-02-01 14:43:34,851] Trial 43 finished with value: 0.7200000286102295 and parameters: {'batchsize': 64, 'brightness_factor': 0.14309242722160687, 'gaussian_noise_factor': 0.048932637857247524, 'translate_factor': 0.04773735450344053, 'num_layers': 3, 'layer_0': 'Conv2D', 'layer_0_conv2d_filters': 28, 'layer_0_conv2d_fsize': 5, 'layer_0_conv2d_ssize': 3, 'activation_0': 'linear', 'layer_1': 'Pointwise2D', 'layer_1_pwconv2d_filters': 20, 'layer_1_pwconv2d_ssize': 3, 'activation_1': 'tanh', 'layer_2': 'Conv2D', 'layer_2_conv2d_filters': 28, 'layer_2_conv2d_fsize': 4, 'layer_2_conv2d_ssize': 3, 'activation_2': 'linear', 'output_dropout': 0.4662620753688458, 'lr_inicial': 0.0006047705656353406}. Best is trial 36 with value: 0.8600000143051147.\n"
     ]
    },
    {
     "name": "stdout",
     "output_type": "stream",
     "text": [
      "INFO:tensorflow:Assets written to: saved_models/exp6_aug_calib/best_model_t44/assets\n"
     ]
    },
    {
     "name": "stderr",
     "output_type": "stream",
     "text": [
      "INFO:tensorflow:Assets written to: saved_models/exp6_aug_calib/best_model_t44/assets\n",
      "[I 2024-02-01 14:43:56,661] Trial 44 finished with value: 0.9200000166893005 and parameters: {'batchsize': 96, 'brightness_factor': 0.0982124340462891, 'gaussian_noise_factor': 0.014851222192665062, 'translate_factor': 0.0032776547735968303, 'num_layers': 3, 'layer_0': 'Pointwise2D', 'layer_0_pwconv2d_filters': 28, 'layer_0_pwconv2d_ssize': 2, 'activation_0': 'relu', 'layer_1': 'Conv2D', 'layer_1_conv2d_filters': 16, 'layer_1_conv2d_fsize': 3, 'layer_1_conv2d_ssize': 4, 'activation_1': 'relu', 'layer_2': 'Conv2D', 'layer_2_conv2d_filters': 20, 'layer_2_conv2d_fsize': 5, 'layer_2_conv2d_ssize': 4, 'activation_2': 'linear', 'output_dropout': 0.49257849798481657, 'lr_inicial': 0.0010970673585063608}. Best is trial 44 with value: 0.9200000166893005.\n"
     ]
    },
    {
     "name": "stdout",
     "output_type": "stream",
     "text": [
      "INFO:tensorflow:Assets written to: saved_models/exp6_aug_calib/best_model_t45/assets\n"
     ]
    },
    {
     "name": "stderr",
     "output_type": "stream",
     "text": [
      "INFO:tensorflow:Assets written to: saved_models/exp6_aug_calib/best_model_t45/assets\n",
      "[I 2024-02-01 14:44:11,640] Trial 45 finished with value: 0.8199999928474426 and parameters: {'batchsize': 64, 'brightness_factor': 0.09849922219757774, 'gaussian_noise_factor': 0.03965120950109942, 'translate_factor': 0.005842802331894503, 'num_layers': 2, 'layer_0': 'Conv2D', 'layer_0_conv2d_filters': 20, 'layer_0_conv2d_fsize': 5, 'layer_0_conv2d_ssize': 5, 'activation_0': 'relu', 'layer_1': 'Conv2D', 'layer_1_conv2d_filters': 16, 'layer_1_conv2d_fsize': 3, 'layer_1_conv2d_ssize': 5, 'activation_1': 'relu', 'output_dropout': 0.5117103222603724, 'lr_inicial': 0.0008018271981744617}. Best is trial 44 with value: 0.9200000166893005.\n"
     ]
    },
    {
     "name": "stdout",
     "output_type": "stream",
     "text": [
      "INFO:tensorflow:Assets written to: saved_models/exp6_aug_calib/best_model_t46/assets\n"
     ]
    },
    {
     "name": "stderr",
     "output_type": "stream",
     "text": [
      "INFO:tensorflow:Assets written to: saved_models/exp6_aug_calib/best_model_t46/assets\n",
      "[I 2024-02-01 14:44:27,329] Trial 46 finished with value: 0.8799999952316284 and parameters: {'batchsize': 96, 'brightness_factor': 0.10762668494937452, 'gaussian_noise_factor': 0.014772209161668302, 'translate_factor': 0.0031953585464450174, 'num_layers': 3, 'layer_0': 'Pointwise2D', 'layer_0_pwconv2d_filters': 24, 'layer_0_pwconv2d_ssize': 3, 'activation_0': 'relu', 'layer_1': 'Conv2D', 'layer_1_conv2d_filters': 16, 'layer_1_conv2d_fsize': 3, 'layer_1_conv2d_ssize': 4, 'activation_1': 'relu', 'layer_2': 'Conv2D', 'layer_2_conv2d_filters': 20, 'layer_2_conv2d_fsize': 5, 'layer_2_conv2d_ssize': 4, 'activation_2': 'linear', 'output_dropout': 0.5026355000016557, 'lr_inicial': 0.0010730800091823033}. Best is trial 44 with value: 0.9200000166893005.\n"
     ]
    },
    {
     "name": "stdout",
     "output_type": "stream",
     "text": [
      "INFO:tensorflow:Assets written to: saved_models/exp6_aug_calib/best_model_t47/assets\n"
     ]
    },
    {
     "name": "stderr",
     "output_type": "stream",
     "text": [
      "INFO:tensorflow:Assets written to: saved_models/exp6_aug_calib/best_model_t47/assets\n",
      "[I 2024-02-01 14:44:41,852] Trial 47 finished with value: 0.7200000286102295 and parameters: {'batchsize': 96, 'brightness_factor': 0.10451475740672815, 'gaussian_noise_factor': 0.014444502421658761, 'translate_factor': 0.0019120202417499677, 'num_layers': 3, 'layer_0': 'Depthwise2D', 'layer_0_dwconv2d_fsize': 4, 'layer_0_dwconv2d_ssize': 4, 'activation_0': 'relu', 'layer_1': 'Conv2D', 'layer_1_conv2d_filters': 16, 'layer_1_conv2d_fsize': 3, 'layer_1_conv2d_ssize': 4, 'activation_1': 'tanh', 'layer_2': 'Depthwise2D', 'layer_2_dwconv2d_fsize': 3, 'layer_2_dwconv2d_ssize': 5, 'activation_2': 'relu', 'output_dropout': 0.4946820366192177, 'lr_inicial': 0.0011164426014684482}. Best is trial 44 with value: 0.9200000166893005.\n"
     ]
    },
    {
     "name": "stdout",
     "output_type": "stream",
     "text": [
      "INFO:tensorflow:Assets written to: saved_models/exp6_aug_calib/best_model_t48/assets\n"
     ]
    },
    {
     "name": "stderr",
     "output_type": "stream",
     "text": [
      "INFO:tensorflow:Assets written to: saved_models/exp6_aug_calib/best_model_t48/assets\n",
      "[I 2024-02-01 14:44:55,782] Trial 48 finished with value: 0.7799999713897705 and parameters: {'batchsize': 96, 'brightness_factor': 0.10836746421618576, 'gaussian_noise_factor': 0.05699875383179851, 'translate_factor': 4.3887025451060796e-05, 'num_layers': 2, 'layer_0': 'Conv2D', 'layer_0_conv2d_filters': 24, 'layer_0_conv2d_fsize': 4, 'layer_0_conv2d_ssize': 4, 'activation_0': 'relu', 'layer_1': 'Conv2D', 'layer_1_conv2d_filters': 12, 'layer_1_conv2d_fsize': 3, 'layer_1_conv2d_ssize': 4, 'activation_1': 'relu', 'output_dropout': 0.5344436070840324, 'lr_inicial': 0.0009824898520368014}. Best is trial 44 with value: 0.9200000166893005.\n"
     ]
    },
    {
     "name": "stdout",
     "output_type": "stream",
     "text": [
      "INFO:tensorflow:Assets written to: saved_models/exp6_aug_calib/best_model_t49/assets\n"
     ]
    },
    {
     "name": "stderr",
     "output_type": "stream",
     "text": [
      "INFO:tensorflow:Assets written to: saved_models/exp6_aug_calib/best_model_t49/assets\n",
      "[I 2024-02-01 14:45:14,732] Trial 49 finished with value: 0.800000011920929 and parameters: {'batchsize': 128, 'brightness_factor': 0.12569762419292363, 'gaussian_noise_factor': 0.025966033000879175, 'translate_factor': 0.015969937469331827, 'num_layers': 3, 'layer_0': 'Pointwise2D', 'layer_0_pwconv2d_filters': 24, 'layer_0_pwconv2d_ssize': 3, 'activation_0': 'relu', 'layer_1': 'Conv2D', 'layer_1_conv2d_filters': 24, 'layer_1_conv2d_fsize': 3, 'layer_1_conv2d_ssize': 3, 'activation_1': 'relu', 'layer_2': 'Pointwise2D', 'layer_2_pwconv2d_filters': 8, 'layer_2_pwconv2d_ssize': 5, 'activation_2': 'tanh', 'output_dropout': 0.49250973357454214, 'lr_inicial': 0.0008372344181669522}. Best is trial 44 with value: 0.9200000166893005.\n"
     ]
    },
    {
     "name": "stdout",
     "output_type": "stream",
     "text": [
      "INFO:tensorflow:Assets written to: saved_models/exp6_aug_calib/best_model_t50/assets\n"
     ]
    },
    {
     "name": "stderr",
     "output_type": "stream",
     "text": [
      "INFO:tensorflow:Assets written to: saved_models/exp6_aug_calib/best_model_t50/assets\n",
      "[I 2024-02-01 14:45:31,176] Trial 50 finished with value: 0.8399999737739563 and parameters: {'batchsize': 64, 'brightness_factor': 0.07709396965849874, 'gaussian_noise_factor': 0.04172177951067539, 'translate_factor': 0.12354239295016342, 'num_layers': 3, 'layer_0': 'Pointwise2D', 'layer_0_pwconv2d_filters': 20, 'layer_0_pwconv2d_ssize': 4, 'activation_0': 'relu', 'layer_1': 'Conv2D', 'layer_1_conv2d_filters': 12, 'layer_1_conv2d_fsize': 4, 'layer_1_conv2d_ssize': 4, 'activation_1': 'relu', 'layer_2': 'Conv2D', 'layer_2_conv2d_filters': 16, 'layer_2_conv2d_fsize': 5, 'layer_2_conv2d_ssize': 4, 'activation_2': 'linear', 'output_dropout': 0.507618095933047, 'lr_inicial': 0.0007245321484949382}. Best is trial 44 with value: 0.9200000166893005.\n"
     ]
    },
    {
     "name": "stdout",
     "output_type": "stream",
     "text": [
      "INFO:tensorflow:Assets written to: saved_models/exp6_aug_calib/best_model_t51/assets\n"
     ]
    },
    {
     "name": "stderr",
     "output_type": "stream",
     "text": [
      "INFO:tensorflow:Assets written to: saved_models/exp6_aug_calib/best_model_t51/assets\n",
      "[I 2024-02-01 14:45:45,810] Trial 51 finished with value: 0.7599999904632568 and parameters: {'batchsize': 64, 'brightness_factor': 0.07410517184270445, 'gaussian_noise_factor': 0.04371949327331427, 'translate_factor': 0.12511091085445677, 'num_layers': 3, 'layer_0': 'Pointwise2D', 'layer_0_pwconv2d_filters': 20, 'layer_0_pwconv2d_ssize': 4, 'activation_0': 'relu', 'layer_1': 'Conv2D', 'layer_1_conv2d_filters': 12, 'layer_1_conv2d_fsize': 4, 'layer_1_conv2d_ssize': 4, 'activation_1': 'relu', 'layer_2': 'Conv2D', 'layer_2_conv2d_filters': 16, 'layer_2_conv2d_fsize': 5, 'layer_2_conv2d_ssize': 4, 'activation_2': 'linear', 'output_dropout': 0.5076520856382363, 'lr_inicial': 0.0006947262683460531}. Best is trial 44 with value: 0.9200000166893005.\n"
     ]
    },
    {
     "name": "stdout",
     "output_type": "stream",
     "text": [
      "INFO:tensorflow:Assets written to: saved_models/exp6_aug_calib/best_model_t52/assets\n"
     ]
    },
    {
     "name": "stderr",
     "output_type": "stream",
     "text": [
      "INFO:tensorflow:Assets written to: saved_models/exp6_aug_calib/best_model_t52/assets\n",
      "[I 2024-02-01 14:46:02,315] Trial 52 finished with value: 0.7400000095367432 and parameters: {'batchsize': 64, 'brightness_factor': 0.05350820971039257, 'gaussian_noise_factor': 0.03373927527494579, 'translate_factor': 0.14079653659343566, 'num_layers': 3, 'layer_0': 'Pointwise2D', 'layer_0_pwconv2d_filters': 24, 'layer_0_pwconv2d_ssize': 4, 'activation_0': 'relu', 'layer_1': 'Conv2D', 'layer_1_conv2d_filters': 12, 'layer_1_conv2d_fsize': 4, 'layer_1_conv2d_ssize': 4, 'activation_1': 'relu', 'layer_2': 'Conv2D', 'layer_2_conv2d_filters': 20, 'layer_2_conv2d_fsize': 5, 'layer_2_conv2d_ssize': 4, 'activation_2': 'linear', 'output_dropout': 0.5221310513714457, 'lr_inicial': 0.0009230414340539406}. Best is trial 44 with value: 0.9200000166893005.\n"
     ]
    },
    {
     "name": "stdout",
     "output_type": "stream",
     "text": [
      "INFO:tensorflow:Assets written to: saved_models/exp6_aug_calib/best_model_t53/assets\n"
     ]
    },
    {
     "name": "stderr",
     "output_type": "stream",
     "text": [
      "INFO:tensorflow:Assets written to: saved_models/exp6_aug_calib/best_model_t53/assets\n",
      "[I 2024-02-01 14:46:18,622] Trial 53 finished with value: 0.8600000143051147 and parameters: {'batchsize': 64, 'brightness_factor': 0.08635485971689678, 'gaussian_noise_factor': 0.020205818413357876, 'translate_factor': 0.12468352074275998, 'num_layers': 3, 'layer_0': 'Pointwise2D', 'layer_0_pwconv2d_filters': 12, 'layer_0_pwconv2d_ssize': 3, 'activation_0': 'relu', 'layer_1': 'Conv2D', 'layer_1_conv2d_filters': 20, 'layer_1_conv2d_fsize': 4, 'layer_1_conv2d_ssize': 3, 'activation_1': 'relu', 'layer_2': 'Conv2D', 'layer_2_conv2d_filters': 12, 'layer_2_conv2d_fsize': 5, 'layer_2_conv2d_ssize': 3, 'activation_2': 'linear', 'output_dropout': 0.572960897419263, 'lr_inicial': 0.0007502371634928513}. Best is trial 44 with value: 0.9200000166893005.\n"
     ]
    },
    {
     "name": "stdout",
     "output_type": "stream",
     "text": [
      "INFO:tensorflow:Assets written to: saved_models/exp6_aug_calib/best_model_t54/assets\n"
     ]
    },
    {
     "name": "stderr",
     "output_type": "stream",
     "text": [
      "INFO:tensorflow:Assets written to: saved_models/exp6_aug_calib/best_model_t54/assets\n",
      "[I 2024-02-01 14:46:35,404] Trial 54 finished with value: 0.8199999928474426 and parameters: {'batchsize': 32, 'brightness_factor': 0.093860050423212, 'gaussian_noise_factor': 0.025213574627238805, 'translate_factor': 0.13312584290667637, 'num_layers': 3, 'layer_0': 'Pointwise2D', 'layer_0_pwconv2d_filters': 12, 'layer_0_pwconv2d_ssize': 3, 'activation_0': 'relu', 'layer_1': 'Conv2D', 'layer_1_conv2d_filters': 20, 'layer_1_conv2d_fsize': 4, 'layer_1_conv2d_ssize': 3, 'activation_1': 'relu', 'layer_2': 'Conv2D', 'layer_2_conv2d_filters': 12, 'layer_2_conv2d_fsize': 5, 'layer_2_conv2d_ssize': 3, 'activation_2': 'linear', 'output_dropout': 0.5737217459282604, 'lr_inicial': 0.000625502008365492}. Best is trial 44 with value: 0.9200000166893005.\n"
     ]
    },
    {
     "name": "stdout",
     "output_type": "stream",
     "text": [
      "INFO:tensorflow:Assets written to: saved_models/exp6_aug_calib/best_model_t55/assets\n"
     ]
    },
    {
     "name": "stderr",
     "output_type": "stream",
     "text": [
      "INFO:tensorflow:Assets written to: saved_models/exp6_aug_calib/best_model_t55/assets\n",
      "[I 2024-02-01 14:46:52,142] Trial 55 finished with value: 0.8799999952316284 and parameters: {'batchsize': 64, 'brightness_factor': 0.11121958228002227, 'gaussian_noise_factor': 0.020059854736636733, 'translate_factor': 0.09741183418483908, 'num_layers': 3, 'layer_0': 'Pointwise2D', 'layer_0_pwconv2d_filters': 12, 'layer_0_pwconv2d_ssize': 3, 'activation_0': 'relu', 'layer_1': 'Conv2D', 'layer_1_conv2d_filters': 20, 'layer_1_conv2d_fsize': 4, 'layer_1_conv2d_ssize': 3, 'activation_1': 'relu', 'layer_2': 'Conv2D', 'layer_2_conv2d_filters': 12, 'layer_2_conv2d_fsize': 5, 'layer_2_conv2d_ssize': 3, 'activation_2': 'linear', 'output_dropout': 0.5897160190953531, 'lr_inicial': 0.0007458560444008806}. Best is trial 44 with value: 0.9200000166893005.\n"
     ]
    },
    {
     "name": "stdout",
     "output_type": "stream",
     "text": [
      "INFO:tensorflow:Assets written to: saved_models/exp6_aug_calib/best_model_t56/assets\n"
     ]
    },
    {
     "name": "stderr",
     "output_type": "stream",
     "text": [
      "INFO:tensorflow:Assets written to: saved_models/exp6_aug_calib/best_model_t56/assets\n",
      "[I 2024-02-01 14:47:07,769] Trial 56 finished with value: 0.8399999737739563 and parameters: {'batchsize': 64, 'brightness_factor': 0.08058600494735997, 'gaussian_noise_factor': 0.019652326591055563, 'translate_factor': 0.14698639684262294, 'num_layers': 3, 'layer_0': 'Pointwise2D', 'layer_0_pwconv2d_filters': 12, 'layer_0_pwconv2d_ssize': 4, 'activation_0': 'relu', 'layer_1': 'Conv2D', 'layer_1_conv2d_filters': 20, 'layer_1_conv2d_fsize': 4, 'layer_1_conv2d_ssize': 3, 'activation_1': 'relu', 'layer_2': 'Conv2D', 'layer_2_conv2d_filters': 12, 'layer_2_conv2d_fsize': 5, 'layer_2_conv2d_ssize': 3, 'activation_2': 'linear', 'output_dropout': 0.5974491910999716, 'lr_inicial': 0.0007288980113179913}. Best is trial 44 with value: 0.9200000166893005.\n"
     ]
    },
    {
     "name": "stdout",
     "output_type": "stream",
     "text": [
      "INFO:tensorflow:Assets written to: saved_models/exp6_aug_calib/best_model_t57/assets\n"
     ]
    },
    {
     "name": "stderr",
     "output_type": "stream",
     "text": [
      "INFO:tensorflow:Assets written to: saved_models/exp6_aug_calib/best_model_t57/assets\n",
      "[I 2024-02-01 14:47:23,522] Trial 57 finished with value: 0.699999988079071 and parameters: {'batchsize': 64, 'brightness_factor': 0.09322254151712484, 'gaussian_noise_factor': 0.050479724801016736, 'translate_factor': 0.17415938305777656, 'num_layers': 3, 'layer_0': 'Pointwise2D', 'layer_0_pwconv2d_filters': 12, 'layer_0_pwconv2d_ssize': 3, 'activation_0': 'relu', 'layer_1': 'Conv2D', 'layer_1_conv2d_filters': 16, 'layer_1_conv2d_fsize': 4, 'layer_1_conv2d_ssize': 3, 'activation_1': 'linear', 'layer_2': 'Conv2D', 'layer_2_conv2d_filters': 8, 'layer_2_conv2d_fsize': 5, 'layer_2_conv2d_ssize': 3, 'activation_2': 'linear', 'output_dropout': 0.5704874841428716, 'lr_inicial': 0.0006451093895505591}. Best is trial 44 with value: 0.9200000166893005.\n"
     ]
    },
    {
     "name": "stdout",
     "output_type": "stream",
     "text": [
      "INFO:tensorflow:Assets written to: saved_models/exp6_aug_calib/best_model_t58/assets\n"
     ]
    },
    {
     "name": "stderr",
     "output_type": "stream",
     "text": [
      "INFO:tensorflow:Assets written to: saved_models/exp6_aug_calib/best_model_t58/assets\n",
      "[I 2024-02-01 14:47:39,114] Trial 58 finished with value: 0.8199999928474426 and parameters: {'batchsize': 64, 'brightness_factor': 0.11131447635316208, 'gaussian_noise_factor': 0.06420408988904755, 'translate_factor': 0.12041604382256711, 'num_layers': 3, 'layer_0': 'Pointwise2D', 'layer_0_pwconv2d_filters': 8, 'layer_0_pwconv2d_ssize': 4, 'activation_0': 'relu', 'layer_1': 'Conv2D', 'layer_1_conv2d_filters': 20, 'layer_1_conv2d_fsize': 4, 'layer_1_conv2d_ssize': 4, 'activation_1': 'relu', 'layer_2': 'Conv2D', 'layer_2_conv2d_filters': 16, 'layer_2_conv2d_fsize': 5, 'layer_2_conv2d_ssize': 4, 'activation_2': 'linear', 'output_dropout': 0.5486388001497733, 'lr_inicial': 0.000767546517552211}. Best is trial 44 with value: 0.9200000166893005.\n"
     ]
    },
    {
     "name": "stdout",
     "output_type": "stream",
     "text": [
      "INFO:tensorflow:Assets written to: saved_models/exp6_aug_calib/best_model_t59/assets\n"
     ]
    },
    {
     "name": "stderr",
     "output_type": "stream",
     "text": [
      "INFO:tensorflow:Assets written to: saved_models/exp6_aug_calib/best_model_t59/assets\n",
      "[I 2024-02-01 14:47:57,922] Trial 59 finished with value: 0.800000011920929 and parameters: {'batchsize': 64, 'brightness_factor': 0.06056654542497661, 'gaussian_noise_factor': 0.03579684283075956, 'translate_factor': 0.10535513474020095, 'num_layers': 3, 'layer_0': 'Pointwise2D', 'layer_0_pwconv2d_filters': 16, 'layer_0_pwconv2d_ssize': 3, 'activation_0': 'relu', 'layer_1': 'Conv2D', 'layer_1_conv2d_filters': 12, 'layer_1_conv2d_fsize': 3, 'layer_1_conv2d_ssize': 3, 'activation_1': 'relu', 'layer_2': 'Conv2D', 'layer_2_conv2d_filters': 12, 'layer_2_conv2d_fsize': 5, 'layer_2_conv2d_ssize': 4, 'activation_2': 'linear', 'output_dropout': 0.5827887399877822, 'lr_inicial': 0.0010442565804786492}. Best is trial 44 with value: 0.9200000166893005.\n"
     ]
    },
    {
     "name": "stdout",
     "output_type": "stream",
     "text": [
      "INFO:tensorflow:Assets written to: saved_models/exp6_aug_calib/best_model_t60/assets\n"
     ]
    },
    {
     "name": "stderr",
     "output_type": "stream",
     "text": [
      "INFO:tensorflow:Assets written to: saved_models/exp6_aug_calib/best_model_t60/assets\n",
      "[I 2024-02-01 14:48:14,835] Trial 60 finished with value: 0.7200000286102295 and parameters: {'batchsize': 64, 'brightness_factor': 0.08082765681349545, 'gaussian_noise_factor': 0.09737529244176235, 'translate_factor': 0.0947522016659969, 'num_layers': 3, 'layer_0': 'Pointwise2D', 'layer_0_pwconv2d_filters': 8, 'layer_0_pwconv2d_ssize': 3, 'activation_0': 'relu', 'layer_1': 'Conv2D', 'layer_1_conv2d_filters': 24, 'layer_1_conv2d_fsize': 4, 'layer_1_conv2d_ssize': 4, 'activation_1': 'relu', 'layer_2': 'Conv2D', 'layer_2_conv2d_filters': 20, 'layer_2_conv2d_fsize': 3, 'layer_2_conv2d_ssize': 2, 'activation_2': 'linear', 'output_dropout': 0.558263627093391, 'lr_inicial': 0.0005600204027416614}. Best is trial 44 with value: 0.9200000166893005.\n"
     ]
    },
    {
     "name": "stdout",
     "output_type": "stream",
     "text": [
      "INFO:tensorflow:Assets written to: saved_models/exp6_aug_calib/best_model_t61/assets\n"
     ]
    },
    {
     "name": "stderr",
     "output_type": "stream",
     "text": [
      "INFO:tensorflow:Assets written to: saved_models/exp6_aug_calib/best_model_t61/assets\n",
      "[I 2024-02-01 14:48:29,317] Trial 61 finished with value: 0.800000011920929 and parameters: {'batchsize': 64, 'brightness_factor': 0.06977827348353231, 'gaussian_noise_factor': 0.008907796209549483, 'translate_factor': 0.14507534479338702, 'num_layers': 3, 'layer_0': 'Pointwise2D', 'layer_0_pwconv2d_filters': 12, 'layer_0_pwconv2d_ssize': 4, 'activation_0': 'relu', 'layer_1': 'Conv2D', 'layer_1_conv2d_filters': 20, 'layer_1_conv2d_fsize': 4, 'layer_1_conv2d_ssize': 3, 'activation_1': 'relu', 'layer_2': 'Conv2D', 'layer_2_conv2d_filters': 12, 'layer_2_conv2d_fsize': 5, 'layer_2_conv2d_ssize': 3, 'activation_2': 'linear', 'output_dropout': 0.5944490636609076, 'lr_inicial': 0.0007352452790435295}. Best is trial 44 with value: 0.9200000166893005.\n"
     ]
    },
    {
     "name": "stdout",
     "output_type": "stream",
     "text": [
      "INFO:tensorflow:Assets written to: saved_models/exp6_aug_calib/best_model_t62/assets\n"
     ]
    },
    {
     "name": "stderr",
     "output_type": "stream",
     "text": [
      "INFO:tensorflow:Assets written to: saved_models/exp6_aug_calib/best_model_t62/assets\n",
      "[I 2024-02-01 14:48:44,324] Trial 62 finished with value: 0.8399999737739563 and parameters: {'batchsize': 64, 'brightness_factor': 0.09321612598316807, 'gaussian_noise_factor': 0.019409537069557035, 'translate_factor': 0.151913382610067, 'num_layers': 3, 'layer_0': 'Pointwise2D', 'layer_0_pwconv2d_filters': 12, 'layer_0_pwconv2d_ssize': 4, 'activation_0': 'relu', 'layer_1': 'Conv2D', 'layer_1_conv2d_filters': 20, 'layer_1_conv2d_fsize': 4, 'layer_1_conv2d_ssize': 3, 'activation_1': 'relu', 'layer_2': 'Conv2D', 'layer_2_conv2d_filters': 8, 'layer_2_conv2d_fsize': 5, 'layer_2_conv2d_ssize': 3, 'activation_2': 'linear', 'output_dropout': 0.5825565037621911, 'lr_inicial': 0.0007416476065490357}. Best is trial 44 with value: 0.9200000166893005.\n"
     ]
    },
    {
     "name": "stdout",
     "output_type": "stream",
     "text": [
      "INFO:tensorflow:Assets written to: saved_models/exp6_aug_calib/best_model_t63/assets\n"
     ]
    },
    {
     "name": "stderr",
     "output_type": "stream",
     "text": [
      "INFO:tensorflow:Assets written to: saved_models/exp6_aug_calib/best_model_t63/assets\n",
      "[I 2024-02-01 14:48:59,027] Trial 63 finished with value: 0.800000011920929 and parameters: {'batchsize': 64, 'brightness_factor': 0.07742167810293284, 'gaussian_noise_factor': 0.01971356107868499, 'translate_factor': 0.13159543612169358, 'num_layers': 3, 'layer_0': 'Pointwise2D', 'layer_0_pwconv2d_filters': 4, 'layer_0_pwconv2d_ssize': 4, 'activation_0': 'relu', 'layer_1': 'Conv2D', 'layer_1_conv2d_filters': 16, 'layer_1_conv2d_fsize': 4, 'layer_1_conv2d_ssize': 3, 'activation_1': 'relu', 'layer_2': 'Conv2D', 'layer_2_conv2d_filters': 8, 'layer_2_conv2d_fsize': 5, 'layer_2_conv2d_ssize': 3, 'activation_2': 'linear', 'output_dropout': 0.5692923146392004, 'lr_inicial': 0.0008325448975708444}. Best is trial 44 with value: 0.9200000166893005.\n"
     ]
    },
    {
     "name": "stdout",
     "output_type": "stream",
     "text": [
      "INFO:tensorflow:Assets written to: saved_models/exp6_aug_calib/best_model_t64/assets\n"
     ]
    },
    {
     "name": "stderr",
     "output_type": "stream",
     "text": [
      "INFO:tensorflow:Assets written to: saved_models/exp6_aug_calib/best_model_t64/assets\n",
      "[I 2024-02-01 14:49:14,666] Trial 64 finished with value: 0.8600000143051147 and parameters: {'batchsize': 32, 'brightness_factor': 0.12139923757350736, 'gaussian_noise_factor': 0.02902291666124997, 'translate_factor': 0.16652903728576426, 'num_layers': 3, 'layer_0': 'Pointwise2D', 'layer_0_pwconv2d_filters': 16, 'layer_0_pwconv2d_ssize': 4, 'activation_0': 'relu', 'layer_1': 'Conv2D', 'layer_1_conv2d_filters': 20, 'layer_1_conv2d_fsize': 4, 'layer_1_conv2d_ssize': 4, 'activation_1': 'relu', 'layer_2': 'Depthwise2D', 'layer_2_dwconv2d_fsize': 5, 'layer_2_dwconv2d_ssize': 2, 'activation_2': 'relu', 'output_dropout': 0.5844453352907234, 'lr_inicial': 0.0006583592588383239}. Best is trial 44 with value: 0.9200000166893005.\n"
     ]
    },
    {
     "name": "stdout",
     "output_type": "stream",
     "text": [
      "INFO:tensorflow:Assets written to: saved_models/exp6_aug_calib/best_model_t65/assets\n"
     ]
    },
    {
     "name": "stderr",
     "output_type": "stream",
     "text": [
      "INFO:tensorflow:Assets written to: saved_models/exp6_aug_calib/best_model_t65/assets\n",
      "[I 2024-02-01 14:49:31,282] Trial 65 finished with value: 0.8600000143051147 and parameters: {'batchsize': 32, 'brightness_factor': 0.1217431978260331, 'gaussian_noise_factor': 0.028125876853819357, 'translate_factor': 0.1985050982201172, 'num_layers': 3, 'layer_0': 'Pointwise2D', 'layer_0_pwconv2d_filters': 16, 'layer_0_pwconv2d_ssize': 3, 'activation_0': 'relu', 'layer_1': 'Conv2D', 'layer_1_conv2d_filters': 16, 'layer_1_conv2d_fsize': 3, 'layer_1_conv2d_ssize': 4, 'activation_1': 'relu', 'layer_2': 'Depthwise2D', 'layer_2_dwconv2d_fsize': 5, 'layer_2_dwconv2d_ssize': 2, 'activation_2': 'relu', 'output_dropout': 0.5848401352643516, 'lr_inicial': 0.0006706642572576945}. Best is trial 44 with value: 0.9200000166893005.\n"
     ]
    },
    {
     "name": "stdout",
     "output_type": "stream",
     "text": [
      "INFO:tensorflow:Assets written to: saved_models/exp6_aug_calib/best_model_t66/assets\n"
     ]
    },
    {
     "name": "stderr",
     "output_type": "stream",
     "text": [
      "INFO:tensorflow:Assets written to: saved_models/exp6_aug_calib/best_model_t66/assets\n",
      "[I 2024-02-01 14:49:47,916] Trial 66 finished with value: 0.7400000095367432 and parameters: {'batchsize': 32, 'brightness_factor': 0.12221176218746095, 'gaussian_noise_factor': 0.027379666479579966, 'translate_factor': 0.18683810644403084, 'num_layers': 3, 'layer_0': 'Pointwise2D', 'layer_0_pwconv2d_filters': 16, 'layer_0_pwconv2d_ssize': 3, 'activation_0': 'tanh', 'layer_1': 'Conv2D', 'layer_1_conv2d_filters': 16, 'layer_1_conv2d_fsize': 3, 'layer_1_conv2d_ssize': 5, 'activation_1': 'tanh', 'layer_2': 'Depthwise2D', 'layer_2_dwconv2d_fsize': 5, 'layer_2_dwconv2d_ssize': 2, 'activation_2': 'relu', 'output_dropout': 0.5849260415368295, 'lr_inicial': 0.0006552664982342297}. Best is trial 44 with value: 0.9200000166893005.\n"
     ]
    },
    {
     "name": "stdout",
     "output_type": "stream",
     "text": [
      "INFO:tensorflow:Assets written to: saved_models/exp6_aug_calib/best_model_t67/assets\n"
     ]
    },
    {
     "name": "stderr",
     "output_type": "stream",
     "text": [
      "INFO:tensorflow:Assets written to: saved_models/exp6_aug_calib/best_model_t67/assets\n",
      "[I 2024-02-01 14:50:03,893] Trial 67 finished with value: 0.8399999737739563 and parameters: {'batchsize': 32, 'brightness_factor': 0.10642530130987574, 'gaussian_noise_factor': 0.0092163268552121, 'translate_factor': 0.19460880317553092, 'num_layers': 3, 'layer_0': 'Pointwise2D', 'layer_0_pwconv2d_filters': 16, 'layer_0_pwconv2d_ssize': 3, 'activation_0': 'relu', 'layer_1': 'Conv2D', 'layer_1_conv2d_filters': 24, 'layer_1_conv2d_fsize': 3, 'layer_1_conv2d_ssize': 4, 'activation_1': 'relu', 'layer_2': 'Depthwise2D', 'layer_2_dwconv2d_fsize': 5, 'layer_2_dwconv2d_ssize': 3, 'activation_2': 'relu', 'output_dropout': 0.5889215665251224, 'lr_inicial': 0.0005762593636912351}. Best is trial 44 with value: 0.9200000166893005.\n"
     ]
    },
    {
     "name": "stdout",
     "output_type": "stream",
     "text": [
      "INFO:tensorflow:Assets written to: saved_models/exp6_aug_calib/best_model_t68/assets\n"
     ]
    },
    {
     "name": "stderr",
     "output_type": "stream",
     "text": [
      "INFO:tensorflow:Assets written to: saved_models/exp6_aug_calib/best_model_t68/assets\n",
      "[I 2024-02-01 14:50:20,459] Trial 68 finished with value: 0.8999999761581421 and parameters: {'batchsize': 32, 'brightness_factor': 0.1156167517355434, 'gaussian_noise_factor': 0.03364150994272701, 'translate_factor': 0.16788715934740253, 'num_layers': 3, 'layer_0': 'Pointwise2D', 'layer_0_pwconv2d_filters': 16, 'layer_0_pwconv2d_ssize': 3, 'activation_0': 'relu', 'layer_1': 'Conv2D', 'layer_1_conv2d_filters': 20, 'layer_1_conv2d_fsize': 3, 'layer_1_conv2d_ssize': 4, 'activation_1': 'relu', 'layer_2': 'Depthwise2D', 'layer_2_dwconv2d_fsize': 5, 'layer_2_dwconv2d_ssize': 2, 'activation_2': 'relu', 'output_dropout': 0.5474506145385872, 'lr_inicial': 0.0005023818580279053}. Best is trial 44 with value: 0.9200000166893005.\n"
     ]
    },
    {
     "name": "stdout",
     "output_type": "stream",
     "text": [
      "INFO:tensorflow:Assets written to: saved_models/exp6_aug_calib/best_model_t69/assets\n"
     ]
    },
    {
     "name": "stderr",
     "output_type": "stream",
     "text": [
      "INFO:tensorflow:Assets written to: saved_models/exp6_aug_calib/best_model_t69/assets\n",
      "[I 2024-02-01 14:50:34,087] Trial 69 finished with value: 0.6800000071525574 and parameters: {'batchsize': 32, 'brightness_factor': 0.1146310289103455, 'gaussian_noise_factor': 0.0008579191924335747, 'translate_factor': 0.16602180222550345, 'num_layers': 1, 'layer_0': 'Depthwise2D', 'layer_0_dwconv2d_fsize': 5, 'layer_0_dwconv2d_ssize': 11, 'activation_0': 'relu', 'output_dropout': 0.5476162622755092, 'lr_inicial': 0.00041014821479922804}. Best is trial 44 with value: 0.9200000166893005.\n"
     ]
    },
    {
     "name": "stdout",
     "output_type": "stream",
     "text": [
      "INFO:tensorflow:Assets written to: saved_models/exp6_aug_calib/best_model_t70/assets\n"
     ]
    },
    {
     "name": "stderr",
     "output_type": "stream",
     "text": [
      "INFO:tensorflow:Assets written to: saved_models/exp6_aug_calib/best_model_t70/assets\n",
      "[I 2024-02-01 14:50:49,341] Trial 70 finished with value: 0.8199999928474426 and parameters: {'batchsize': 32, 'brightness_factor': 0.1401838740675748, 'gaussian_noise_factor': 0.014841750651792385, 'translate_factor': 0.18088118666677197, 'num_layers': 3, 'layer_0': 'Pointwise2D', 'layer_0_pwconv2d_filters': 12, 'layer_0_pwconv2d_ssize': 3, 'activation_0': 'relu', 'layer_1': 'Conv2D', 'layer_1_conv2d_filters': 20, 'layer_1_conv2d_fsize': 3, 'layer_1_conv2d_ssize': 4, 'activation_1': 'linear', 'layer_2': 'Depthwise2D', 'layer_2_dwconv2d_fsize': 5, 'layer_2_dwconv2d_ssize': 3, 'activation_2': 'relu', 'output_dropout': 0.563989546060213, 'lr_inicial': 0.00048052259665172915}. Best is trial 44 with value: 0.9200000166893005.\n"
     ]
    },
    {
     "name": "stdout",
     "output_type": "stream",
     "text": [
      "INFO:tensorflow:Assets written to: saved_models/exp6_aug_calib/best_model_t71/assets\n"
     ]
    },
    {
     "name": "stderr",
     "output_type": "stream",
     "text": [
      "INFO:tensorflow:Assets written to: saved_models/exp6_aug_calib/best_model_t71/assets\n",
      "[I 2024-02-01 14:51:05,380] Trial 71 finished with value: 0.7799999713897705 and parameters: {'batchsize': 32, 'brightness_factor': 0.12624082188345742, 'gaussian_noise_factor': 0.030755901156974477, 'translate_factor': 0.16366322890324586, 'num_layers': 3, 'layer_0': 'Pointwise2D', 'layer_0_pwconv2d_filters': 16, 'layer_0_pwconv2d_ssize': 3, 'activation_0': 'relu', 'layer_1': 'Conv2D', 'layer_1_conv2d_filters': 16, 'layer_1_conv2d_fsize': 3, 'layer_1_conv2d_ssize': 4, 'activation_1': 'relu', 'layer_2': 'Depthwise2D', 'layer_2_dwconv2d_fsize': 5, 'layer_2_dwconv2d_ssize': 2, 'activation_2': 'relu', 'output_dropout': 0.5416070858364949, 'lr_inicial': 0.00040852975726863265}. Best is trial 44 with value: 0.9200000166893005.\n"
     ]
    },
    {
     "name": "stdout",
     "output_type": "stream",
     "text": [
      "INFO:tensorflow:Assets written to: saved_models/exp6_aug_calib/best_model_t72/assets\n"
     ]
    },
    {
     "name": "stderr",
     "output_type": "stream",
     "text": [
      "INFO:tensorflow:Assets written to: saved_models/exp6_aug_calib/best_model_t72/assets\n",
      "[I 2024-02-01 14:51:21,424] Trial 72 finished with value: 0.8600000143051147 and parameters: {'batchsize': 32, 'brightness_factor': 0.13612244558964273, 'gaussian_noise_factor': 0.03701452364127833, 'translate_factor': 0.17045386230940962, 'num_layers': 3, 'layer_0': 'Pointwise2D', 'layer_0_pwconv2d_filters': 16, 'layer_0_pwconv2d_ssize': 3, 'activation_0': 'relu', 'layer_1': 'Conv2D', 'layer_1_conv2d_filters': 20, 'layer_1_conv2d_fsize': 3, 'layer_1_conv2d_ssize': 4, 'activation_1': 'relu', 'layer_2': 'Depthwise2D', 'layer_2_dwconv2d_fsize': 5, 'layer_2_dwconv2d_ssize': 2, 'activation_2': 'relu', 'output_dropout': 0.5737248085593102, 'lr_inicial': 0.0005337576758020509}. Best is trial 44 with value: 0.9200000166893005.\n"
     ]
    },
    {
     "name": "stdout",
     "output_type": "stream",
     "text": [
      "INFO:tensorflow:Assets written to: saved_models/exp6_aug_calib/best_model_t73/assets\n"
     ]
    },
    {
     "name": "stderr",
     "output_type": "stream",
     "text": [
      "INFO:tensorflow:Assets written to: saved_models/exp6_aug_calib/best_model_t73/assets\n",
      "[I 2024-02-01 14:51:38,168] Trial 73 finished with value: 0.8799999952316284 and parameters: {'batchsize': 32, 'brightness_factor': 0.10168685565403386, 'gaussian_noise_factor': 0.023609966202933666, 'translate_factor': 0.17839985909139852, 'num_layers': 3, 'layer_0': 'Pointwise2D', 'layer_0_pwconv2d_filters': 16, 'layer_0_pwconv2d_ssize': 3, 'activation_0': 'relu', 'layer_1': 'Conv2D', 'layer_1_conv2d_filters': 16, 'layer_1_conv2d_fsize': 3, 'layer_1_conv2d_ssize': 4, 'activation_1': 'relu', 'layer_2': 'Depthwise2D', 'layer_2_dwconv2d_fsize': 5, 'layer_2_dwconv2d_ssize': 2, 'activation_2': 'relu', 'output_dropout': 0.5993707493201915, 'lr_inicial': 0.0011028973965311296}. Best is trial 44 with value: 0.9200000166893005.\n"
     ]
    },
    {
     "name": "stdout",
     "output_type": "stream",
     "text": [
      "INFO:tensorflow:Assets written to: saved_models/exp6_aug_calib/best_model_t74/assets\n"
     ]
    },
    {
     "name": "stderr",
     "output_type": "stream",
     "text": [
      "INFO:tensorflow:Assets written to: saved_models/exp6_aug_calib/best_model_t74/assets\n",
      "[I 2024-02-01 14:51:56,607] Trial 74 finished with value: 0.9599999785423279 and parameters: {'batchsize': 32, 'brightness_factor': 0.10116270782369718, 'gaussian_noise_factor': 0.008887100622155832, 'translate_factor': 0.15279945004348258, 'num_layers': 3, 'layer_0': 'Pointwise2D', 'layer_0_pwconv2d_filters': 20, 'layer_0_pwconv2d_ssize': 3, 'activation_0': 'relu', 'layer_1': 'Conv2D', 'layer_1_conv2d_filters': 24, 'layer_1_conv2d_fsize': 5, 'layer_1_conv2d_ssize': 2, 'activation_1': 'relu', 'layer_2': 'Depthwise2D', 'layer_2_dwconv2d_fsize': 4, 'layer_2_dwconv2d_ssize': 4, 'activation_2': 'relu', 'output_dropout': 0.5992602488386076, 'lr_inicial': 0.0012387633200411782}. Best is trial 74 with value: 0.9599999785423279.\n"
     ]
    },
    {
     "name": "stdout",
     "output_type": "stream",
     "text": [
      "INFO:tensorflow:Assets written to: saved_models/exp6_aug_calib/best_model_t75/assets\n"
     ]
    },
    {
     "name": "stderr",
     "output_type": "stream",
     "text": [
      "INFO:tensorflow:Assets written to: saved_models/exp6_aug_calib/best_model_t75/assets\n",
      "[I 2024-02-01 14:52:15,490] Trial 75 finished with value: 0.8799999952316284 and parameters: {'batchsize': 32, 'brightness_factor': 0.09875029543488135, 'gaussian_noise_factor': 0.008337897550423365, 'translate_factor': 0.15898763942251712, 'num_layers': 3, 'layer_0': 'Pointwise2D', 'layer_0_pwconv2d_filters': 24, 'layer_0_pwconv2d_ssize': 3, 'activation_0': 'relu', 'layer_1': 'Conv2D', 'layer_1_conv2d_filters': 28, 'layer_1_conv2d_fsize': 5, 'layer_1_conv2d_ssize': 2, 'activation_1': 'relu', 'layer_2': 'Depthwise2D', 'layer_2_dwconv2d_fsize': 4, 'layer_2_dwconv2d_ssize': 4, 'activation_2': 'relu', 'output_dropout': 0.59664798752618, 'lr_inicial': 0.0012506305397650163}. Best is trial 74 with value: 0.9599999785423279.\n"
     ]
    },
    {
     "name": "stdout",
     "output_type": "stream",
     "text": [
      "INFO:tensorflow:Assets written to: saved_models/exp6_aug_calib/best_model_t76/assets\n"
     ]
    },
    {
     "name": "stderr",
     "output_type": "stream",
     "text": [
      "INFO:tensorflow:Assets written to: saved_models/exp6_aug_calib/best_model_t76/assets\n",
      "[I 2024-02-01 14:52:33,241] Trial 76 finished with value: 0.800000011920929 and parameters: {'batchsize': 32, 'brightness_factor': 0.10229239225682016, 'gaussian_noise_factor': 0.007704329967836556, 'translate_factor': 0.1560922094506678, 'num_layers': 3, 'layer_0': 'Pointwise2D', 'layer_0_pwconv2d_filters': 24, 'layer_0_pwconv2d_ssize': 3, 'activation_0': 'tanh', 'layer_1': 'Conv2D', 'layer_1_conv2d_filters': 28, 'layer_1_conv2d_fsize': 5, 'layer_1_conv2d_ssize': 2, 'activation_1': 'relu', 'layer_2': 'Depthwise2D', 'layer_2_dwconv2d_fsize': 4, 'layer_2_dwconv2d_ssize': 4, 'activation_2': 'relu', 'output_dropout': 0.5997566738446586, 'lr_inicial': 0.0012206120030849037}. Best is trial 74 with value: 0.9599999785423279.\n"
     ]
    },
    {
     "name": "stdout",
     "output_type": "stream",
     "text": [
      "INFO:tensorflow:Assets written to: saved_models/exp6_aug_calib/best_model_t77/assets\n"
     ]
    },
    {
     "name": "stderr",
     "output_type": "stream",
     "text": [
      "INFO:tensorflow:Assets written to: saved_models/exp6_aug_calib/best_model_t77/assets\n",
      "[I 2024-02-01 14:52:56,080] Trial 77 finished with value: 0.8399999737739563 and parameters: {'batchsize': 32, 'brightness_factor': 0.09715128772487315, 'gaussian_noise_factor': 0.006526918112893215, 'translate_factor': 0.1585833289956444, 'num_layers': 3, 'layer_0': 'Pointwise2D', 'layer_0_pwconv2d_filters': 20, 'layer_0_pwconv2d_ssize': 2, 'activation_0': 'relu', 'layer_1': 'Conv2D', 'layer_1_conv2d_filters': 28, 'layer_1_conv2d_fsize': 5, 'layer_1_conv2d_ssize': 2, 'activation_1': 'relu', 'layer_2': 'Depthwise2D', 'layer_2_dwconv2d_fsize': 4, 'layer_2_dwconv2d_ssize': 4, 'activation_2': 'relu', 'output_dropout': 0.5932720037222242, 'lr_inicial': 0.0011463005854981815}. Best is trial 74 with value: 0.9599999785423279.\n"
     ]
    },
    {
     "name": "stdout",
     "output_type": "stream",
     "text": [
      "INFO:tensorflow:Assets written to: saved_models/exp6_aug_calib/best_model_t78/assets\n"
     ]
    },
    {
     "name": "stderr",
     "output_type": "stream",
     "text": [
      "INFO:tensorflow:Assets written to: saved_models/exp6_aug_calib/best_model_t78/assets\n",
      "[I 2024-02-01 14:53:11,742] Trial 78 finished with value: 0.8600000143051147 and parameters: {'batchsize': 32, 'brightness_factor': 0.11122829548651322, 'gaussian_noise_factor': 0.01403613658630001, 'translate_factor': 0.18382361177032985, 'num_layers': 3, 'layer_0': 'Depthwise2D', 'layer_0_dwconv2d_fsize': 3, 'layer_0_dwconv2d_ssize': 3, 'activation_0': 'relu', 'layer_1': 'Conv2D', 'layer_1_conv2d_filters': 28, 'layer_1_conv2d_fsize': 5, 'layer_1_conv2d_ssize': 2, 'activation_1': 'relu', 'layer_2': 'Depthwise2D', 'layer_2_dwconv2d_fsize': 4, 'layer_2_dwconv2d_ssize': 4, 'activation_2': 'relu', 'output_dropout': 0.5637481096972327, 'lr_inicial': 0.0010694431840930197}. Best is trial 74 with value: 0.9599999785423279.\n"
     ]
    },
    {
     "name": "stdout",
     "output_type": "stream",
     "text": [
      "INFO:tensorflow:Assets written to: saved_models/exp6_aug_calib/best_model_t79/assets\n"
     ]
    },
    {
     "name": "stderr",
     "output_type": "stream",
     "text": [
      "INFO:tensorflow:Assets written to: saved_models/exp6_aug_calib/best_model_t79/assets\n",
      "[I 2024-02-01 14:53:31,147] Trial 79 finished with value: 0.7799999713897705 and parameters: {'batchsize': 32, 'brightness_factor': 0.10221632964525561, 'gaussian_noise_factor': 0.023377763062731798, 'translate_factor': 0.17623435310589033, 'num_layers': 3, 'layer_0': 'Pointwise2D', 'layer_0_pwconv2d_filters': 24, 'layer_0_pwconv2d_ssize': 3, 'activation_0': 'relu', 'layer_1': 'Conv2D', 'layer_1_conv2d_filters': 32, 'layer_1_conv2d_fsize': 5, 'layer_1_conv2d_ssize': 2, 'activation_1': 'relu', 'layer_2': 'Pointwise2D', 'layer_2_pwconv2d_filters': 20, 'layer_2_pwconv2d_ssize': 2, 'activation_2': 'tanh', 'output_dropout': 0.5774475002933708, 'lr_inicial': 0.0013745768169589711}. Best is trial 74 with value: 0.9599999785423279.\n"
     ]
    },
    {
     "name": "stdout",
     "output_type": "stream",
     "text": [
      "INFO:tensorflow:Assets written to: saved_models/exp6_aug_calib/best_model_t80/assets\n"
     ]
    },
    {
     "name": "stderr",
     "output_type": "stream",
     "text": [
      "INFO:tensorflow:Assets written to: saved_models/exp6_aug_calib/best_model_t80/assets\n",
      "[I 2024-02-01 14:53:45,202] Trial 80 finished with value: 0.7799999713897705 and parameters: {'batchsize': 32, 'brightness_factor': 0.1147531155942382, 'gaussian_noise_factor': 0.0026515122861230575, 'translate_factor': 0.027612136847146314, 'num_layers': 1, 'layer_0': 'Pointwise2D', 'layer_0_pwconv2d_filters': 28, 'layer_0_pwconv2d_ssize': 9, 'activation_0': 'relu', 'output_dropout': 0.5226632108721028, 'lr_inicial': 0.0012590435473769693}. Best is trial 74 with value: 0.9599999785423279.\n"
     ]
    },
    {
     "name": "stdout",
     "output_type": "stream",
     "text": [
      "INFO:tensorflow:Assets written to: saved_models/exp6_aug_calib/best_model_t81/assets\n"
     ]
    },
    {
     "name": "stderr",
     "output_type": "stream",
     "text": [
      "INFO:tensorflow:Assets written to: saved_models/exp6_aug_calib/best_model_t81/assets\n",
      "[I 2024-02-01 14:54:02,453] Trial 81 finished with value: 0.8999999761581421 and parameters: {'batchsize': 32, 'brightness_factor': 0.09100069752508898, 'gaussian_noise_factor': 0.016502261906823763, 'translate_factor': 0.15904589213981726, 'num_layers': 3, 'layer_0': 'Pointwise2D', 'layer_0_pwconv2d_filters': 20, 'layer_0_pwconv2d_ssize': 3, 'activation_0': 'relu', 'layer_1': 'Conv2D', 'layer_1_conv2d_filters': 24, 'layer_1_conv2d_fsize': 5, 'layer_1_conv2d_ssize': 2, 'activation_1': 'relu', 'layer_2': 'Depthwise2D', 'layer_2_dwconv2d_fsize': 4, 'layer_2_dwconv2d_ssize': 4, 'activation_2': 'relu', 'output_dropout': 0.5906393165275163, 'lr_inicial': 0.0009391554531045789}. Best is trial 74 with value: 0.9599999785423279.\n"
     ]
    },
    {
     "name": "stdout",
     "output_type": "stream",
     "text": [
      "INFO:tensorflow:Assets written to: saved_models/exp6_aug_calib/best_model_t82/assets\n"
     ]
    },
    {
     "name": "stderr",
     "output_type": "stream",
     "text": [
      "INFO:tensorflow:Assets written to: saved_models/exp6_aug_calib/best_model_t82/assets\n",
      "[I 2024-02-01 14:54:19,677] Trial 82 finished with value: 0.9200000166893005 and parameters: {'batchsize': 32, 'brightness_factor': 0.09127131972364244, 'gaussian_noise_factor': 0.014286793848703377, 'translate_factor': 0.159217248303504, 'num_layers': 3, 'layer_0': 'Pointwise2D', 'layer_0_pwconv2d_filters': 20, 'layer_0_pwconv2d_ssize': 3, 'activation_0': 'relu', 'layer_1': 'Conv2D', 'layer_1_conv2d_filters': 24, 'layer_1_conv2d_fsize': 5, 'layer_1_conv2d_ssize': 2, 'activation_1': 'relu', 'layer_2': 'Depthwise2D', 'layer_2_dwconv2d_fsize': 4, 'layer_2_dwconv2d_ssize': 4, 'activation_2': 'relu', 'output_dropout': 0.5907121436218624, 'lr_inicial': 0.000943074080992536}. Best is trial 74 with value: 0.9599999785423279.\n"
     ]
    },
    {
     "name": "stdout",
     "output_type": "stream",
     "text": [
      "INFO:tensorflow:Assets written to: saved_models/exp6_aug_calib/best_model_t83/assets\n"
     ]
    },
    {
     "name": "stderr",
     "output_type": "stream",
     "text": [
      "INFO:tensorflow:Assets written to: saved_models/exp6_aug_calib/best_model_t83/assets\n",
      "[I 2024-02-01 14:54:38,307] Trial 83 finished with value: 0.8999999761581421 and parameters: {'batchsize': 32, 'brightness_factor': 0.09037157820472981, 'gaussian_noise_factor': 0.012442869295256743, 'translate_factor': 0.16008594425359174, 'num_layers': 3, 'layer_0': 'Pointwise2D', 'layer_0_pwconv2d_filters': 20, 'layer_0_pwconv2d_ssize': 3, 'activation_0': 'relu', 'layer_1': 'Conv2D', 'layer_1_conv2d_filters': 24, 'layer_1_conv2d_fsize': 5, 'layer_1_conv2d_ssize': 2, 'activation_1': 'relu', 'layer_2': 'Depthwise2D', 'layer_2_dwconv2d_fsize': 4, 'layer_2_dwconv2d_ssize': 4, 'activation_2': 'relu', 'output_dropout': 0.5916479470270556, 'lr_inicial': 0.0010909553600006508}. Best is trial 74 with value: 0.9599999785423279.\n"
     ]
    },
    {
     "name": "stdout",
     "output_type": "stream",
     "text": [
      "INFO:tensorflow:Assets written to: saved_models/exp6_aug_calib/best_model_t84/assets\n"
     ]
    },
    {
     "name": "stderr",
     "output_type": "stream",
     "text": [
      "INFO:tensorflow:Assets written to: saved_models/exp6_aug_calib/best_model_t84/assets\n",
      "[I 2024-02-01 14:54:55,525] Trial 84 finished with value: 0.8799999952316284 and parameters: {'batchsize': 32, 'brightness_factor': 0.08966299305579828, 'gaussian_noise_factor': 0.014763311305102146, 'translate_factor': 0.14961508675347224, 'num_layers': 3, 'layer_0': 'Pointwise2D', 'layer_0_pwconv2d_filters': 20, 'layer_0_pwconv2d_ssize': 3, 'activation_0': 'relu', 'layer_1': 'Conv2D', 'layer_1_conv2d_filters': 24, 'layer_1_conv2d_fsize': 5, 'layer_1_conv2d_ssize': 2, 'activation_1': 'relu', 'layer_2': 'Depthwise2D', 'layer_2_dwconv2d_fsize': 4, 'layer_2_dwconv2d_ssize': 4, 'activation_2': 'relu', 'output_dropout': 0.5891640955376642, 'lr_inicial': 0.000935247280931429}. Best is trial 74 with value: 0.9599999785423279.\n"
     ]
    },
    {
     "name": "stdout",
     "output_type": "stream",
     "text": [
      "INFO:tensorflow:Assets written to: saved_models/exp6_aug_calib/best_model_t85/assets\n"
     ]
    },
    {
     "name": "stderr",
     "output_type": "stream",
     "text": [
      "INFO:tensorflow:Assets written to: saved_models/exp6_aug_calib/best_model_t85/assets\n",
      "[I 2024-02-01 14:55:13,192] Trial 85 finished with value: 0.9800000190734863 and parameters: {'batchsize': 32, 'brightness_factor': 0.11014907799381678, 'gaussian_noise_factor': 0.00012251879039760355, 'translate_factor': 0.17819308851542753, 'num_layers': 3, 'layer_0': 'Pointwise2D', 'layer_0_pwconv2d_filters': 20, 'layer_0_pwconv2d_ssize': 3, 'activation_0': 'relu', 'layer_1': 'Conv2D', 'layer_1_conv2d_filters': 24, 'layer_1_conv2d_fsize': 5, 'layer_1_conv2d_ssize': 2, 'activation_1': 'tanh', 'layer_2': 'Depthwise2D', 'layer_2_dwconv2d_fsize': 4, 'layer_2_dwconv2d_ssize': 4, 'activation_2': 'relu', 'output_dropout': 0.5532897757283509, 'lr_inicial': 0.001110531777036327}. Best is trial 85 with value: 0.9800000190734863.\n"
     ]
    },
    {
     "name": "stdout",
     "output_type": "stream",
     "text": [
      "INFO:tensorflow:Assets written to: saved_models/exp6_aug_calib/best_model_t86/assets\n"
     ]
    },
    {
     "name": "stderr",
     "output_type": "stream",
     "text": [
      "INFO:tensorflow:Assets written to: saved_models/exp6_aug_calib/best_model_t86/assets\n",
      "[I 2024-02-01 14:55:31,160] Trial 86 finished with value: 0.9599999785423279 and parameters: {'batchsize': 32, 'brightness_factor': 0.1291393614921103, 'gaussian_noise_factor': 5.814739889597072e-05, 'translate_factor': 0.16882162068668297, 'num_layers': 3, 'layer_0': 'Pointwise2D', 'layer_0_pwconv2d_filters': 20, 'layer_0_pwconv2d_ssize': 3, 'activation_0': 'relu', 'layer_1': 'Conv2D', 'layer_1_conv2d_filters': 24, 'layer_1_conv2d_fsize': 5, 'layer_1_conv2d_ssize': 2, 'activation_1': 'tanh', 'layer_2': 'Depthwise2D', 'layer_2_dwconv2d_fsize': 4, 'layer_2_dwconv2d_ssize': 4, 'activation_2': 'relu', 'output_dropout': 0.5536737621771015, 'lr_inicial': 0.0010135751399300646}. Best is trial 85 with value: 0.9800000190734863.\n"
     ]
    },
    {
     "name": "stdout",
     "output_type": "stream",
     "text": [
      "INFO:tensorflow:Assets written to: saved_models/exp6_aug_calib/best_model_t87/assets\n"
     ]
    },
    {
     "name": "stderr",
     "output_type": "stream",
     "text": [
      "INFO:tensorflow:Assets written to: saved_models/exp6_aug_calib/best_model_t87/assets\n",
      "[I 2024-02-01 14:55:48,475] Trial 87 finished with value: 0.8799999952316284 and parameters: {'batchsize': 32, 'brightness_factor': 0.13082803146675273, 'gaussian_noise_factor': 0.0016760618778832864, 'translate_factor': 0.17150815715912535, 'num_layers': 3, 'layer_0': 'Pointwise2D', 'layer_0_pwconv2d_filters': 20, 'layer_0_pwconv2d_ssize': 3, 'activation_0': 'relu', 'layer_1': 'Conv2D', 'layer_1_conv2d_filters': 24, 'layer_1_conv2d_fsize': 5, 'layer_1_conv2d_ssize': 2, 'activation_1': 'tanh', 'layer_2': 'Depthwise2D', 'layer_2_dwconv2d_fsize': 4, 'layer_2_dwconv2d_ssize': 4, 'activation_2': 'relu', 'output_dropout': 0.5323286767224186, 'lr_inicial': 0.0010200977403611615}. Best is trial 85 with value: 0.9800000190734863.\n"
     ]
    },
    {
     "name": "stdout",
     "output_type": "stream",
     "text": [
      "INFO:tensorflow:Assets written to: saved_models/exp6_aug_calib/best_model_t88/assets\n"
     ]
    },
    {
     "name": "stderr",
     "output_type": "stream",
     "text": [
      "INFO:tensorflow:Assets written to: saved_models/exp6_aug_calib/best_model_t88/assets\n",
      "[I 2024-02-01 14:56:08,274] Trial 88 finished with value: 0.8600000143051147 and parameters: {'batchsize': 32, 'brightness_factor': 0.11806181639696195, 'gaussian_noise_factor': 0.011352545886623013, 'translate_factor': 0.16850034944258682, 'num_layers': 3, 'layer_0': 'Pointwise2D', 'layer_0_pwconv2d_filters': 20, 'layer_0_pwconv2d_ssize': 2, 'activation_0': 'relu', 'layer_1': 'Depthwise2D', 'layer_1_dwconv2d_fsize': 5, 'layer_1_dwconv2d_ssize': 2, 'activation_1': 'tanh', 'layer_2': 'Depthwise2D', 'layer_2_dwconv2d_fsize': 4, 'layer_2_dwconv2d_ssize': 4, 'activation_2': 'relu', 'output_dropout': 0.5524454232409897, 'lr_inicial': 0.0011694995567488916}. Best is trial 85 with value: 0.9800000190734863.\n"
     ]
    },
    {
     "name": "stdout",
     "output_type": "stream",
     "text": [
      "INFO:tensorflow:Assets written to: saved_models/exp6_aug_calib/best_model_t89/assets\n"
     ]
    },
    {
     "name": "stderr",
     "output_type": "stream",
     "text": [
      "INFO:tensorflow:Assets written to: saved_models/exp6_aug_calib/best_model_t89/assets\n",
      "[I 2024-02-01 14:56:25,372] Trial 89 finished with value: 0.9200000166893005 and parameters: {'batchsize': 32, 'brightness_factor': 0.15081864077002244, 'gaussian_noise_factor': 0.006071083859960614, 'translate_factor': 0.18953818501958053, 'num_layers': 3, 'layer_0': 'Pointwise2D', 'layer_0_pwconv2d_filters': 20, 'layer_0_pwconv2d_ssize': 3, 'activation_0': 'tanh', 'layer_1': 'Conv2D', 'layer_1_conv2d_filters': 24, 'layer_1_conv2d_fsize': 5, 'layer_1_conv2d_ssize': 2, 'activation_1': 'tanh', 'layer_2': 'Depthwise2D', 'layer_2_dwconv2d_fsize': 4, 'layer_2_dwconv2d_ssize': 4, 'activation_2': 'relu', 'output_dropout': 0.5282067832467715, 'lr_inicial': 0.001081326958782238}. Best is trial 85 with value: 0.9800000190734863.\n"
     ]
    },
    {
     "name": "stdout",
     "output_type": "stream",
     "text": [
      "INFO:tensorflow:Assets written to: saved_models/exp6_aug_calib/best_model_t90/assets\n"
     ]
    },
    {
     "name": "stderr",
     "output_type": "stream",
     "text": [
      "INFO:tensorflow:Assets written to: saved_models/exp6_aug_calib/best_model_t90/assets\n",
      "[I 2024-02-01 14:56:42,733] Trial 90 finished with value: 0.9599999785423279 and parameters: {'batchsize': 32, 'brightness_factor': 0.14764988247640515, 'gaussian_noise_factor': 0.005089864671395243, 'translate_factor': 0.1908183391353627, 'num_layers': 3, 'layer_0': 'Pointwise2D', 'layer_0_pwconv2d_filters': 20, 'layer_0_pwconv2d_ssize': 3, 'activation_0': 'tanh', 'layer_1': 'Conv2D', 'layer_1_conv2d_filters': 24, 'layer_1_conv2d_fsize': 5, 'layer_1_conv2d_ssize': 2, 'activation_1': 'tanh', 'layer_2': 'Depthwise2D', 'layer_2_dwconv2d_fsize': 4, 'layer_2_dwconv2d_ssize': 4, 'activation_2': 'relu', 'output_dropout': 0.5436210341557804, 'lr_inicial': 0.0013065822691448133}. Best is trial 85 with value: 0.9800000190734863.\n"
     ]
    },
    {
     "name": "stdout",
     "output_type": "stream",
     "text": [
      "INFO:tensorflow:Assets written to: saved_models/exp6_aug_calib/best_model_t91/assets\n"
     ]
    },
    {
     "name": "stderr",
     "output_type": "stream",
     "text": [
      "INFO:tensorflow:Assets written to: saved_models/exp6_aug_calib/best_model_t91/assets\n",
      "[I 2024-02-01 14:57:00,066] Trial 91 finished with value: 0.9399999976158142 and parameters: {'batchsize': 32, 'brightness_factor': 0.14705553260735893, 'gaussian_noise_factor': 0.0002192870430524664, 'translate_factor': 0.19186206357913102, 'num_layers': 3, 'layer_0': 'Pointwise2D', 'layer_0_pwconv2d_filters': 20, 'layer_0_pwconv2d_ssize': 3, 'activation_0': 'tanh', 'layer_1': 'Conv2D', 'layer_1_conv2d_filters': 24, 'layer_1_conv2d_fsize': 5, 'layer_1_conv2d_ssize': 2, 'activation_1': 'tanh', 'layer_2': 'Depthwise2D', 'layer_2_dwconv2d_fsize': 4, 'layer_2_dwconv2d_ssize': 4, 'activation_2': 'relu', 'output_dropout': 0.5423655820620255, 'lr_inicial': 0.0009927573536257167}. Best is trial 85 with value: 0.9800000190734863.\n"
     ]
    },
    {
     "name": "stdout",
     "output_type": "stream",
     "text": [
      "INFO:tensorflow:Assets written to: saved_models/exp6_aug_calib/best_model_t92/assets\n"
     ]
    },
    {
     "name": "stderr",
     "output_type": "stream",
     "text": [
      "INFO:tensorflow:Assets written to: saved_models/exp6_aug_calib/best_model_t92/assets\n",
      "[I 2024-02-01 14:57:17,290] Trial 92 finished with value: 0.9200000166893005 and parameters: {'batchsize': 32, 'brightness_factor': 0.1488978598231302, 'gaussian_noise_factor': 1.677816878028823e-05, 'translate_factor': 0.1900664738543871, 'num_layers': 3, 'layer_0': 'Pointwise2D', 'layer_0_pwconv2d_filters': 20, 'layer_0_pwconv2d_ssize': 3, 'activation_0': 'tanh', 'layer_1': 'Conv2D', 'layer_1_conv2d_filters': 24, 'layer_1_conv2d_fsize': 5, 'layer_1_conv2d_ssize': 2, 'activation_1': 'tanh', 'layer_2': 'Depthwise2D', 'layer_2_dwconv2d_fsize': 4, 'layer_2_dwconv2d_ssize': 4, 'activation_2': 'relu', 'output_dropout': 0.5422790194539793, 'lr_inicial': 0.0009923768003454816}. Best is trial 85 with value: 0.9800000190734863.\n"
     ]
    },
    {
     "name": "stdout",
     "output_type": "stream",
     "text": [
      "INFO:tensorflow:Assets written to: saved_models/exp6_aug_calib/best_model_t93/assets\n"
     ]
    },
    {
     "name": "stderr",
     "output_type": "stream",
     "text": [
      "INFO:tensorflow:Assets written to: saved_models/exp6_aug_calib/best_model_t93/assets\n",
      "[I 2024-02-01 14:57:34,277] Trial 93 finished with value: 0.8799999952316284 and parameters: {'batchsize': 32, 'brightness_factor': 0.15549715813286685, 'gaussian_noise_factor': 1.4163462584967367e-06, 'translate_factor': 0.19051041218054346, 'num_layers': 3, 'layer_0': 'Pointwise2D', 'layer_0_pwconv2d_filters': 20, 'layer_0_pwconv2d_ssize': 3, 'activation_0': 'tanh', 'layer_1': 'Conv2D', 'layer_1_conv2d_filters': 24, 'layer_1_conv2d_fsize': 5, 'layer_1_conv2d_ssize': 2, 'activation_1': 'tanh', 'layer_2': 'Depthwise2D', 'layer_2_dwconv2d_fsize': 4, 'layer_2_dwconv2d_ssize': 4, 'activation_2': 'relu', 'output_dropout': 0.5408620897096986, 'lr_inicial': 0.0009983833395269918}. Best is trial 85 with value: 0.9800000190734863.\n"
     ]
    },
    {
     "name": "stdout",
     "output_type": "stream",
     "text": [
      "INFO:tensorflow:Assets written to: saved_models/exp6_aug_calib/best_model_t94/assets\n"
     ]
    },
    {
     "name": "stderr",
     "output_type": "stream",
     "text": [
      "INFO:tensorflow:Assets written to: saved_models/exp6_aug_calib/best_model_t94/assets\n",
      "[I 2024-02-01 14:57:52,522] Trial 94 finished with value: 0.9399999976158142 and parameters: {'batchsize': 32, 'brightness_factor': 0.14921750648752122, 'gaussian_noise_factor': 0.004378432849787181, 'translate_factor': 0.19286003757532927, 'num_layers': 3, 'layer_0': 'Pointwise2D', 'layer_0_pwconv2d_filters': 20, 'layer_0_pwconv2d_ssize': 3, 'activation_0': 'tanh', 'layer_1': 'Conv2D', 'layer_1_conv2d_filters': 24, 'layer_1_conv2d_fsize': 5, 'layer_1_conv2d_ssize': 2, 'activation_1': 'tanh', 'layer_2': 'Depthwise2D', 'layer_2_dwconv2d_fsize': 4, 'layer_2_dwconv2d_ssize': 4, 'activation_2': 'relu', 'output_dropout': 0.5283573102419304, 'lr_inicial': 0.0013259416683064306}. Best is trial 85 with value: 0.9800000190734863.\n"
     ]
    },
    {
     "name": "stdout",
     "output_type": "stream",
     "text": [
      "INFO:tensorflow:Assets written to: saved_models/exp6_aug_calib/best_model_t95/assets\n"
     ]
    },
    {
     "name": "stderr",
     "output_type": "stream",
     "text": [
      "INFO:tensorflow:Assets written to: saved_models/exp6_aug_calib/best_model_t95/assets\n",
      "[I 2024-02-01 14:58:09,916] Trial 95 finished with value: 0.9399999976158142 and parameters: {'batchsize': 32, 'brightness_factor': 0.14918101802720043, 'gaussian_noise_factor': 0.005741903362837175, 'translate_factor': 0.1891517828515627, 'num_layers': 3, 'layer_0': 'Pointwise2D', 'layer_0_pwconv2d_filters': 20, 'layer_0_pwconv2d_ssize': 3, 'activation_0': 'tanh', 'layer_1': 'Conv2D', 'layer_1_conv2d_filters': 24, 'layer_1_conv2d_fsize': 5, 'layer_1_conv2d_ssize': 2, 'activation_1': 'tanh', 'layer_2': 'Depthwise2D', 'layer_2_dwconv2d_fsize': 4, 'layer_2_dwconv2d_ssize': 4, 'activation_2': 'relu', 'output_dropout': 0.5307471260061536, 'lr_inicial': 0.0013218790933426272}. Best is trial 85 with value: 0.9800000190734863.\n"
     ]
    },
    {
     "name": "stdout",
     "output_type": "stream",
     "text": [
      "INFO:tensorflow:Assets written to: saved_models/exp6_aug_calib/best_model_t96/assets\n"
     ]
    },
    {
     "name": "stderr",
     "output_type": "stream",
     "text": [
      "INFO:tensorflow:Assets written to: saved_models/exp6_aug_calib/best_model_t96/assets\n",
      "[I 2024-02-01 14:58:32,734] Trial 96 finished with value: 0.9599999785423279 and parameters: {'batchsize': 32, 'brightness_factor': 0.15050619001821255, 'gaussian_noise_factor': 0.00785023690819451, 'translate_factor': 0.19994246818052142, 'num_layers': 3, 'layer_0': 'Pointwise2D', 'layer_0_pwconv2d_filters': 20, 'layer_0_pwconv2d_ssize': 2, 'activation_0': 'tanh', 'layer_1': 'Conv2D', 'layer_1_conv2d_filters': 24, 'layer_1_conv2d_fsize': 5, 'layer_1_conv2d_ssize': 2, 'activation_1': 'tanh', 'layer_2': 'Depthwise2D', 'layer_2_dwconv2d_fsize': 4, 'layer_2_dwconv2d_ssize': 4, 'activation_2': 'relu', 'output_dropout': 0.5251568486893308, 'lr_inicial': 0.0015351134227704225}. Best is trial 85 with value: 0.9800000190734863.\n"
     ]
    },
    {
     "name": "stdout",
     "output_type": "stream",
     "text": [
      "INFO:tensorflow:Assets written to: saved_models/exp6_aug_calib/best_model_t97/assets\n"
     ]
    },
    {
     "name": "stderr",
     "output_type": "stream",
     "text": [
      "INFO:tensorflow:Assets written to: saved_models/exp6_aug_calib/best_model_t97/assets\n",
      "[I 2024-02-01 14:58:53,633] Trial 97 finished with value: 0.8199999928474426 and parameters: {'batchsize': 32, 'brightness_factor': 0.16259974255011092, 'gaussian_noise_factor': 0.005208416266931802, 'translate_factor': 0.19603655209028173, 'num_layers': 2, 'layer_0': 'Pointwise2D', 'layer_0_pwconv2d_filters': 20, 'layer_0_pwconv2d_ssize': 2, 'activation_0': 'tanh', 'layer_1': 'Conv2D', 'layer_1_conv2d_filters': 28, 'layer_1_conv2d_fsize': 5, 'layer_1_conv2d_ssize': 8, 'activation_1': 'tanh', 'output_dropout': 0.5159733238845831, 'lr_inicial': 0.0013139095434573373}. Best is trial 85 with value: 0.9800000190734863.\n"
     ]
    },
    {
     "name": "stdout",
     "output_type": "stream",
     "text": [
      "INFO:tensorflow:Assets written to: saved_models/exp6_aug_calib/best_model_t98/assets\n"
     ]
    },
    {
     "name": "stderr",
     "output_type": "stream",
     "text": [
      "INFO:tensorflow:Assets written to: saved_models/exp6_aug_calib/best_model_t98/assets\n",
      "[I 2024-02-01 14:59:08,178] Trial 98 finished with value: 0.7200000286102295 and parameters: {'batchsize': 32, 'brightness_factor': 0.147918440229332, 'gaussian_noise_factor': 0.004742895960972744, 'translate_factor': 0.18543540016320098, 'num_layers': 1, 'layer_0': 'Pointwise2D', 'layer_0_pwconv2d_filters': 24, 'layer_0_pwconv2d_ssize': 5, 'activation_0': 'tanh', 'output_dropout': 0.5285222490712694, 'lr_inicial': 0.0015241200182932165}. Best is trial 85 with value: 0.9800000190734863.\n"
     ]
    },
    {
     "name": "stdout",
     "output_type": "stream",
     "text": [
      "INFO:tensorflow:Assets written to: saved_models/exp6_aug_calib/best_model_t99/assets\n"
     ]
    },
    {
     "name": "stderr",
     "output_type": "stream",
     "text": [
      "INFO:tensorflow:Assets written to: saved_models/exp6_aug_calib/best_model_t99/assets\n",
      "[I 2024-02-01 14:59:24,923] Trial 99 finished with value: 0.6000000238418579 and parameters: {'batchsize': 32, 'brightness_factor': 0.14363906932572906, 'gaussian_noise_factor': 0.008325786193469485, 'translate_factor': 0.19973613410201352, 'num_layers': 3, 'layer_0': 'Depthwise2D', 'layer_0_dwconv2d_fsize': 3, 'layer_0_dwconv2d_ssize': 4, 'activation_0': 'tanh', 'layer_1': 'Depthwise2D', 'layer_1_dwconv2d_fsize': 4, 'layer_1_dwconv2d_ssize': 2, 'activation_1': 'tanh', 'layer_2': 'Depthwise2D', 'layer_2_dwconv2d_fsize': 4, 'layer_2_dwconv2d_ssize': 4, 'activation_2': 'relu', 'output_dropout': 0.5543789953203927, 'lr_inicial': 0.0013903545535264427}. Best is trial 85 with value: 0.9800000190734863.\n"
     ]
    },
    {
     "name": "stdout",
     "output_type": "stream",
     "text": [
      "INFO:tensorflow:Assets written to: saved_models/exp6_aug_calib/best_model_t100/assets\n"
     ]
    },
    {
     "name": "stderr",
     "output_type": "stream",
     "text": [
      "INFO:tensorflow:Assets written to: saved_models/exp6_aug_calib/best_model_t100/assets\n",
      "[I 2024-02-01 14:59:51,603] Trial 100 finished with value: 0.9599999785423279 and parameters: {'batchsize': 32, 'brightness_factor': 0.16047250078520614, 'gaussian_noise_factor': 0.011815414684521762, 'translate_factor': 0.18188909321599123, 'num_layers': 3, 'layer_0': 'Pointwise2D', 'layer_0_pwconv2d_filters': 20, 'layer_0_pwconv2d_ssize': 2, 'activation_0': 'tanh', 'layer_1': 'Conv2D', 'layer_1_conv2d_filters': 24, 'layer_1_conv2d_fsize': 5, 'layer_1_conv2d_ssize': 2, 'activation_1': 'tanh', 'layer_2': 'Depthwise2D', 'layer_2_dwconv2d_fsize': 4, 'layer_2_dwconv2d_ssize': 4, 'activation_2': 'relu', 'output_dropout': 0.5014992980972824, 'lr_inicial': 0.001197751214212173}. Best is trial 85 with value: 0.9800000190734863.\n"
     ]
    },
    {
     "name": "stdout",
     "output_type": "stream",
     "text": [
      "INFO:tensorflow:Assets written to: saved_models/exp6_aug_calib/best_model_t101/assets\n"
     ]
    },
    {
     "name": "stderr",
     "output_type": "stream",
     "text": [
      "INFO:tensorflow:Assets written to: saved_models/exp6_aug_calib/best_model_t101/assets\n",
      "[I 2024-02-01 15:00:13,029] Trial 101 finished with value: 0.9399999976158142 and parameters: {'batchsize': 32, 'brightness_factor': 0.16147195538195408, 'gaussian_noise_factor': 0.009975863611810782, 'translate_factor': 0.181923699405568, 'num_layers': 3, 'layer_0': 'Pointwise2D', 'layer_0_pwconv2d_filters': 20, 'layer_0_pwconv2d_ssize': 2, 'activation_0': 'tanh', 'layer_1': 'Conv2D', 'layer_1_conv2d_filters': 24, 'layer_1_conv2d_fsize': 5, 'layer_1_conv2d_ssize': 2, 'activation_1': 'tanh', 'layer_2': 'Depthwise2D', 'layer_2_dwconv2d_fsize': 4, 'layer_2_dwconv2d_ssize': 4, 'activation_2': 'relu', 'output_dropout': 0.5027738507958525, 'lr_inicial': 0.0011944447056856813}. Best is trial 85 with value: 0.9800000190734863.\n"
     ]
    },
    {
     "name": "stdout",
     "output_type": "stream",
     "text": [
      "INFO:tensorflow:Assets written to: saved_models/exp6_aug_calib/best_model_t102/assets\n"
     ]
    },
    {
     "name": "stderr",
     "output_type": "stream",
     "text": [
      "INFO:tensorflow:Assets written to: saved_models/exp6_aug_calib/best_model_t102/assets\n",
      "[I 2024-02-01 15:00:35,495] Trial 102 finished with value: 0.9399999976158142 and parameters: {'batchsize': 32, 'brightness_factor': 0.16283204146569139, 'gaussian_noise_factor': 0.004535403850256128, 'translate_factor': 0.1805237276708501, 'num_layers': 3, 'layer_0': 'Pointwise2D', 'layer_0_pwconv2d_filters': 20, 'layer_0_pwconv2d_ssize': 2, 'activation_0': 'tanh', 'layer_1': 'Conv2D', 'layer_1_conv2d_filters': 24, 'layer_1_conv2d_fsize': 5, 'layer_1_conv2d_ssize': 2, 'activation_1': 'tanh', 'layer_2': 'Depthwise2D', 'layer_2_dwconv2d_fsize': 4, 'layer_2_dwconv2d_ssize': 4, 'activation_2': 'relu', 'output_dropout': 0.5019501532279758, 'lr_inicial': 0.0012075367645230622}. Best is trial 85 with value: 0.9800000190734863.\n"
     ]
    },
    {
     "name": "stdout",
     "output_type": "stream",
     "text": [
      "INFO:tensorflow:Assets written to: saved_models/exp6_aug_calib/best_model_t103/assets\n"
     ]
    },
    {
     "name": "stderr",
     "output_type": "stream",
     "text": [
      "INFO:tensorflow:Assets written to: saved_models/exp6_aug_calib/best_model_t103/assets\n",
      "[I 2024-02-01 15:00:57,013] Trial 103 finished with value: 0.9599999785423279 and parameters: {'batchsize': 32, 'brightness_factor': 0.17346299407899402, 'gaussian_noise_factor': 0.005546689568269387, 'translate_factor': 0.1813439568868381, 'num_layers': 3, 'layer_0': 'Pointwise2D', 'layer_0_pwconv2d_filters': 20, 'layer_0_pwconv2d_ssize': 2, 'activation_0': 'tanh', 'layer_1': 'Conv2D', 'layer_1_conv2d_filters': 24, 'layer_1_conv2d_fsize': 5, 'layer_1_conv2d_ssize': 2, 'activation_1': 'tanh', 'layer_2': 'Depthwise2D', 'layer_2_dwconv2d_fsize': 4, 'layer_2_dwconv2d_ssize': 4, 'activation_2': 'relu', 'output_dropout': 0.5132119523034087, 'lr_inicial': 0.0012029515352540898}. Best is trial 85 with value: 0.9800000190734863.\n"
     ]
    },
    {
     "name": "stdout",
     "output_type": "stream",
     "text": [
      "INFO:tensorflow:Assets written to: saved_models/exp6_aug_calib/best_model_t104/assets\n"
     ]
    },
    {
     "name": "stderr",
     "output_type": "stream",
     "text": [
      "INFO:tensorflow:Assets written to: saved_models/exp6_aug_calib/best_model_t104/assets\n",
      "[I 2024-02-01 15:01:18,360] Trial 104 finished with value: 0.9399999976158142 and parameters: {'batchsize': 32, 'brightness_factor': 0.1719439866801316, 'gaussian_noise_factor': 0.01113309192015837, 'translate_factor': 0.19352047504945954, 'num_layers': 3, 'layer_0': 'Pointwise2D', 'layer_0_pwconv2d_filters': 20, 'layer_0_pwconv2d_ssize': 2, 'activation_0': 'tanh', 'layer_1': 'Conv2D', 'layer_1_conv2d_filters': 24, 'layer_1_conv2d_fsize': 5, 'layer_1_conv2d_ssize': 2, 'activation_1': 'tanh', 'layer_2': 'Depthwise2D', 'layer_2_dwconv2d_fsize': 4, 'layer_2_dwconv2d_ssize': 4, 'activation_2': 'relu', 'output_dropout': 0.526618566514301, 'lr_inicial': 0.0017103725118025525}. Best is trial 85 with value: 0.9800000190734863.\n"
     ]
    },
    {
     "name": "stdout",
     "output_type": "stream",
     "text": [
      "INFO:tensorflow:Assets written to: saved_models/exp6_aug_calib/best_model_t105/assets\n"
     ]
    },
    {
     "name": "stderr",
     "output_type": "stream",
     "text": [
      "INFO:tensorflow:Assets written to: saved_models/exp6_aug_calib/best_model_t105/assets\n",
      "[I 2024-02-01 15:01:39,599] Trial 105 finished with value: 0.8199999928474426 and parameters: {'batchsize': 32, 'brightness_factor': 0.17546704500269067, 'gaussian_noise_factor': 0.13984588452767882, 'translate_factor': 0.1745551522922727, 'num_layers': 3, 'layer_0': 'Pointwise2D', 'layer_0_pwconv2d_filters': 20, 'layer_0_pwconv2d_ssize': 2, 'activation_0': 'tanh', 'layer_1': 'Conv2D', 'layer_1_conv2d_filters': 24, 'layer_1_conv2d_fsize': 5, 'layer_1_conv2d_ssize': 2, 'activation_1': 'tanh', 'layer_2': 'Depthwise2D', 'layer_2_dwconv2d_fsize': 4, 'layer_2_dwconv2d_ssize': 4, 'activation_2': 'relu', 'output_dropout': 0.5371342123129742, 'lr_inicial': 0.0013774034769523625}. Best is trial 85 with value: 0.9800000190734863.\n"
     ]
    },
    {
     "name": "stdout",
     "output_type": "stream",
     "text": [
      "INFO:tensorflow:Assets written to: saved_models/exp6_aug_calib/best_model_t106/assets\n"
     ]
    },
    {
     "name": "stderr",
     "output_type": "stream",
     "text": [
      "INFO:tensorflow:Assets written to: saved_models/exp6_aug_calib/best_model_t106/assets\n",
      "[I 2024-02-01 15:02:01,921] Trial 106 finished with value: 0.8999999761581421 and parameters: {'batchsize': 32, 'brightness_factor': 0.1607642667626007, 'gaussian_noise_factor': 0.004706780113288651, 'translate_factor': 0.18434079632805628, 'num_layers': 3, 'layer_0': 'Pointwise2D', 'layer_0_pwconv2d_filters': 20, 'layer_0_pwconv2d_ssize': 2, 'activation_0': 'tanh', 'layer_1': 'Conv2D', 'layer_1_conv2d_filters': 28, 'layer_1_conv2d_fsize': 5, 'layer_1_conv2d_ssize': 2, 'activation_1': 'tanh', 'layer_2': 'Depthwise2D', 'layer_2_dwconv2d_fsize': 4, 'layer_2_dwconv2d_ssize': 5, 'activation_2': 'relu', 'output_dropout': 0.5153390747493036, 'lr_inicial': 0.0012931680935338715}. Best is trial 85 with value: 0.9800000190734863.\n"
     ]
    },
    {
     "name": "stdout",
     "output_type": "stream",
     "text": [
      "INFO:tensorflow:Assets written to: saved_models/exp6_aug_calib/best_model_t107/assets\n"
     ]
    },
    {
     "name": "stderr",
     "output_type": "stream",
     "text": [
      "INFO:tensorflow:Assets written to: saved_models/exp6_aug_calib/best_model_t107/assets\n",
      "[I 2024-02-01 15:02:23,215] Trial 107 finished with value: 0.9200000166893005 and parameters: {'batchsize': 32, 'brightness_factor': 0.15437726029030396, 'gaussian_noise_factor': 0.0001785832648737925, 'translate_factor': 0.18165108819467163, 'num_layers': 3, 'layer_0': 'Pointwise2D', 'layer_0_pwconv2d_filters': 20, 'layer_0_pwconv2d_ssize': 2, 'activation_0': 'tanh', 'layer_1': 'Conv2D', 'layer_1_conv2d_filters': 24, 'layer_1_conv2d_fsize': 5, 'layer_1_conv2d_ssize': 2, 'activation_1': 'tanh', 'layer_2': 'Depthwise2D', 'layer_2_dwconv2d_fsize': 4, 'layer_2_dwconv2d_ssize': 4, 'activation_2': 'relu', 'output_dropout': 0.5181620794931933, 'lr_inicial': 0.0012738744538904885}. Best is trial 85 with value: 0.9800000190734863.\n"
     ]
    },
    {
     "name": "stdout",
     "output_type": "stream",
     "text": [
      "INFO:tensorflow:Assets written to: saved_models/exp6_aug_calib/best_model_t108/assets\n"
     ]
    },
    {
     "name": "stderr",
     "output_type": "stream",
     "text": [
      "INFO:tensorflow:Assets written to: saved_models/exp6_aug_calib/best_model_t108/assets\n",
      "[I 2024-02-01 15:02:48,080] Trial 108 finished with value: 0.8199999928474426 and parameters: {'batchsize': 32, 'brightness_factor': 0.16597204361163098, 'gaussian_noise_factor': 0.010587921494758117, 'translate_factor': 0.18757239402297216, 'num_layers': 3, 'layer_0': 'Pointwise2D', 'layer_0_pwconv2d_filters': 24, 'layer_0_pwconv2d_ssize': 2, 'activation_0': 'tanh', 'layer_1': 'Conv2D', 'layer_1_conv2d_filters': 24, 'layer_1_conv2d_fsize': 5, 'layer_1_conv2d_ssize': 2, 'activation_1': 'tanh', 'layer_2': 'Pointwise2D', 'layer_2_pwconv2d_filters': 20, 'layer_2_pwconv2d_ssize': 4, 'activation_2': 'tanh', 'output_dropout': 0.5063298838123084, 'lr_inicial': 0.0015207039819383954}. Best is trial 85 with value: 0.9800000190734863.\n"
     ]
    },
    {
     "name": "stdout",
     "output_type": "stream",
     "text": [
      "INFO:tensorflow:Assets written to: saved_models/exp6_aug_calib/best_model_t109/assets\n"
     ]
    },
    {
     "name": "stderr",
     "output_type": "stream",
     "text": [
      "INFO:tensorflow:Assets written to: saved_models/exp6_aug_calib/best_model_t109/assets\n",
      "[I 2024-02-01 15:03:10,355] Trial 109 finished with value: 0.8199999928474426 and parameters: {'batchsize': 32, 'brightness_factor': 0.13853344374063745, 'gaussian_noise_factor': 0.18459547459467174, 'translate_factor': 0.19627981630155755, 'num_layers': 3, 'layer_0': 'Pointwise2D', 'layer_0_pwconv2d_filters': 24, 'layer_0_pwconv2d_ssize': 2, 'activation_0': 'tanh', 'layer_1': 'Conv2D', 'layer_1_conv2d_filters': 24, 'layer_1_conv2d_fsize': 5, 'layer_1_conv2d_ssize': 2, 'activation_1': 'tanh', 'layer_2': 'Depthwise2D', 'layer_2_dwconv2d_fsize': 3, 'layer_2_dwconv2d_ssize': 4, 'activation_2': 'relu', 'output_dropout': 0.5565532203884889, 'lr_inicial': 0.0011501186083369321}. Best is trial 85 with value: 0.9800000190734863.\n"
     ]
    },
    {
     "name": "stdout",
     "output_type": "stream",
     "text": [
      "INFO:tensorflow:Assets written to: saved_models/exp6_aug_calib/best_model_t110/assets\n"
     ]
    },
    {
     "name": "stderr",
     "output_type": "stream",
     "text": [
      "INFO:tensorflow:Assets written to: saved_models/exp6_aug_calib/best_model_t110/assets\n",
      "[I 2024-02-01 15:03:33,031] Trial 110 finished with value: 0.9399999976158142 and parameters: {'batchsize': 32, 'brightness_factor': 0.1595762241777322, 'gaussian_noise_factor': 0.022060614389995112, 'translate_factor': 0.19269635440593813, 'num_layers': 3, 'layer_0': 'Pointwise2D', 'layer_0_pwconv2d_filters': 20, 'layer_0_pwconv2d_ssize': 2, 'activation_0': 'tanh', 'layer_1': 'Conv2D', 'layer_1_conv2d_filters': 28, 'layer_1_conv2d_fsize': 5, 'layer_1_conv2d_ssize': 2, 'activation_1': 'tanh', 'layer_2': 'Depthwise2D', 'layer_2_dwconv2d_fsize': 4, 'layer_2_dwconv2d_ssize': 4, 'activation_2': 'relu', 'output_dropout': 0.49859960748461163, 'lr_inicial': 0.0013422792507839251}. Best is trial 85 with value: 0.9800000190734863.\n"
     ]
    },
    {
     "name": "stdout",
     "output_type": "stream",
     "text": [
      "INFO:tensorflow:Assets written to: saved_models/exp6_aug_calib/best_model_t111/assets\n"
     ]
    },
    {
     "name": "stderr",
     "output_type": "stream",
     "text": [
      "INFO:tensorflow:Assets written to: saved_models/exp6_aug_calib/best_model_t111/assets\n",
      "[I 2024-02-01 15:03:56,506] Trial 111 finished with value: 0.9599999785423279 and parameters: {'batchsize': 32, 'brightness_factor': 0.15209485264997097, 'gaussian_noise_factor': 0.004824663401374341, 'translate_factor': 0.17882754950421564, 'num_layers': 3, 'layer_0': 'Pointwise2D', 'layer_0_pwconv2d_filters': 20, 'layer_0_pwconv2d_ssize': 2, 'activation_0': 'tanh', 'layer_1': 'Conv2D', 'layer_1_conv2d_filters': 24, 'layer_1_conv2d_fsize': 5, 'layer_1_conv2d_ssize': 2, 'activation_1': 'tanh', 'layer_2': 'Depthwise2D', 'layer_2_dwconv2d_fsize': 4, 'layer_2_dwconv2d_ssize': 4, 'activation_2': 'relu', 'output_dropout': 0.5121419092578393, 'lr_inicial': 0.0012093011809412597}. Best is trial 85 with value: 0.9800000190734863.\n"
     ]
    },
    {
     "name": "stdout",
     "output_type": "stream",
     "text": [
      "INFO:tensorflow:Assets written to: saved_models/exp6_aug_calib/best_model_t112/assets\n"
     ]
    },
    {
     "name": "stderr",
     "output_type": "stream",
     "text": [
      "INFO:tensorflow:Assets written to: saved_models/exp6_aug_calib/best_model_t112/assets\n",
      "[I 2024-02-01 15:04:17,789] Trial 112 finished with value: 0.8999999761581421 and parameters: {'batchsize': 32, 'brightness_factor': 0.15264370361072174, 'gaussian_noise_factor': 0.01695500833964979, 'translate_factor': 0.17801029611468153, 'num_layers': 3, 'layer_0': 'Pointwise2D', 'layer_0_pwconv2d_filters': 20, 'layer_0_pwconv2d_ssize': 2, 'activation_0': 'tanh', 'layer_1': 'Conv2D', 'layer_1_conv2d_filters': 24, 'layer_1_conv2d_fsize': 5, 'layer_1_conv2d_ssize': 2, 'activation_1': 'tanh', 'layer_2': 'Depthwise2D', 'layer_2_dwconv2d_fsize': 4, 'layer_2_dwconv2d_ssize': 4, 'activation_2': 'relu', 'output_dropout': 0.5117894185523119, 'lr_inicial': 0.0011948622598017958}. Best is trial 85 with value: 0.9800000190734863.\n"
     ]
    },
    {
     "name": "stdout",
     "output_type": "stream",
     "text": [
      "INFO:tensorflow:Assets written to: saved_models/exp6_aug_calib/best_model_t113/assets\n"
     ]
    },
    {
     "name": "stderr",
     "output_type": "stream",
     "text": [
      "INFO:tensorflow:Assets written to: saved_models/exp6_aug_calib/best_model_t113/assets\n",
      "[I 2024-02-01 15:04:39,224] Trial 113 finished with value: 0.9599999785423279 and parameters: {'batchsize': 32, 'brightness_factor': 0.14498771944167094, 'gaussian_noise_factor': 0.006860034778605326, 'translate_factor': 0.17500174929626336, 'num_layers': 3, 'layer_0': 'Pointwise2D', 'layer_0_pwconv2d_filters': 20, 'layer_0_pwconv2d_ssize': 2, 'activation_0': 'tanh', 'layer_1': 'Conv2D', 'layer_1_conv2d_filters': 24, 'layer_1_conv2d_fsize': 5, 'layer_1_conv2d_ssize': 2, 'activation_1': 'tanh', 'layer_2': 'Depthwise2D', 'layer_2_dwconv2d_fsize': 4, 'layer_2_dwconv2d_ssize': 4, 'activation_2': 'relu', 'output_dropout': 0.5251517270263875, 'lr_inicial': 0.0014263984982700146}. Best is trial 85 with value: 0.9800000190734863.\n"
     ]
    },
    {
     "name": "stdout",
     "output_type": "stream",
     "text": [
      "INFO:tensorflow:Assets written to: saved_models/exp6_aug_calib/best_model_t114/assets\n"
     ]
    },
    {
     "name": "stderr",
     "output_type": "stream",
     "text": [
      "INFO:tensorflow:Assets written to: saved_models/exp6_aug_calib/best_model_t114/assets\n",
      "[I 2024-02-01 15:05:00,511] Trial 114 finished with value: 0.9599999785423279 and parameters: {'batchsize': 32, 'brightness_factor': 0.14633077734585861, 'gaussian_noise_factor': 0.004745506451318348, 'translate_factor': 0.1729423159114135, 'num_layers': 3, 'layer_0': 'Pointwise2D', 'layer_0_pwconv2d_filters': 20, 'layer_0_pwconv2d_ssize': 2, 'activation_0': 'tanh', 'layer_1': 'Conv2D', 'layer_1_conv2d_filters': 24, 'layer_1_conv2d_fsize': 5, 'layer_1_conv2d_ssize': 2, 'activation_1': 'tanh', 'layer_2': 'Depthwise2D', 'layer_2_dwconv2d_fsize': 4, 'layer_2_dwconv2d_ssize': 4, 'activation_2': 'relu', 'output_dropout': 0.5240358709797823, 'lr_inicial': 0.0014307057393043272}. Best is trial 85 with value: 0.9800000190734863.\n"
     ]
    },
    {
     "name": "stdout",
     "output_type": "stream",
     "text": [
      "INFO:tensorflow:Assets written to: saved_models/exp6_aug_calib/best_model_t115/assets\n"
     ]
    },
    {
     "name": "stderr",
     "output_type": "stream",
     "text": [
      "INFO:tensorflow:Assets written to: saved_models/exp6_aug_calib/best_model_t115/assets\n",
      "[I 2024-02-01 15:05:21,921] Trial 115 finished with value: 0.7799999713897705 and parameters: {'batchsize': 32, 'brightness_factor': 0.14536276082282584, 'gaussian_noise_factor': 0.11819390424636786, 'translate_factor': 0.17627957367677377, 'num_layers': 3, 'layer_0': 'Pointwise2D', 'layer_0_pwconv2d_filters': 20, 'layer_0_pwconv2d_ssize': 2, 'activation_0': 'tanh', 'layer_1': 'Conv2D', 'layer_1_conv2d_filters': 24, 'layer_1_conv2d_fsize': 5, 'layer_1_conv2d_ssize': 2, 'activation_1': 'tanh', 'layer_2': 'Depthwise2D', 'layer_2_dwconv2d_fsize': 4, 'layer_2_dwconv2d_ssize': 4, 'activation_2': 'relu', 'output_dropout': 0.5385808622624071, 'lr_inicial': 0.0014073442050491951}. Best is trial 85 with value: 0.9800000190734863.\n"
     ]
    },
    {
     "name": "stdout",
     "output_type": "stream",
     "text": [
      "INFO:tensorflow:Assets written to: saved_models/exp6_aug_calib/best_model_t116/assets\n"
     ]
    },
    {
     "name": "stderr",
     "output_type": "stream",
     "text": [
      "INFO:tensorflow:Assets written to: saved_models/exp6_aug_calib/best_model_t116/assets\n",
      "[I 2024-02-01 15:05:41,133] Trial 116 finished with value: 0.7599999904632568 and parameters: {'batchsize': 32, 'brightness_factor': 0.1334849996340619, 'gaussian_noise_factor': 0.004509456274439273, 'translate_factor': 0.17072896134261456, 'num_layers': 2, 'layer_0': 'Pointwise2D', 'layer_0_pwconv2d_filters': 20, 'layer_0_pwconv2d_ssize': 2, 'activation_0': 'tanh', 'layer_1': 'Conv2D', 'layer_1_conv2d_filters': 4, 'layer_1_conv2d_fsize': 5, 'layer_1_conv2d_ssize': 3, 'activation_1': 'tanh', 'output_dropout': 0.5237874223407554, 'lr_inicial': 0.0016491851400498385}. Best is trial 85 with value: 0.9800000190734863.\n"
     ]
    },
    {
     "name": "stdout",
     "output_type": "stream",
     "text": [
      "INFO:tensorflow:Assets written to: saved_models/exp6_aug_calib/best_model_t117/assets\n"
     ]
    },
    {
     "name": "stderr",
     "output_type": "stream",
     "text": [
      "INFO:tensorflow:Assets written to: saved_models/exp6_aug_calib/best_model_t117/assets\n",
      "[I 2024-02-01 15:06:02,667] Trial 117 finished with value: 0.9399999976158142 and parameters: {'batchsize': 32, 'brightness_factor': 0.14029366827196288, 'gaussian_noise_factor': 0.018595278628520666, 'translate_factor': 0.17285936405008803, 'num_layers': 3, 'layer_0': 'Pointwise2D', 'layer_0_pwconv2d_filters': 20, 'layer_0_pwconv2d_ssize': 2, 'activation_0': 'tanh', 'layer_1': 'Conv2D', 'layer_1_conv2d_filters': 24, 'layer_1_conv2d_fsize': 5, 'layer_1_conv2d_ssize': 2, 'activation_1': 'tanh', 'layer_2': 'Depthwise2D', 'layer_2_dwconv2d_fsize': 4, 'layer_2_dwconv2d_ssize': 4, 'activation_2': 'relu', 'output_dropout': 0.5474523125474567, 'lr_inicial': 0.0015186177796057006}. Best is trial 85 with value: 0.9800000190734863.\n"
     ]
    },
    {
     "name": "stdout",
     "output_type": "stream",
     "text": [
      "INFO:tensorflow:Assets written to: saved_models/exp6_aug_calib/best_model_t118/assets\n"
     ]
    },
    {
     "name": "stderr",
     "output_type": "stream",
     "text": [
      "INFO:tensorflow:Assets written to: saved_models/exp6_aug_calib/best_model_t118/assets\n",
      "[I 2024-02-01 15:06:25,075] Trial 118 finished with value: 0.8799999952316284 and parameters: {'batchsize': 32, 'brightness_factor': 0.18558011634298213, 'gaussian_noise_factor': 0.009345806910541836, 'translate_factor': 0.18557045463325117, 'num_layers': 3, 'layer_0': 'Pointwise2D', 'layer_0_pwconv2d_filters': 24, 'layer_0_pwconv2d_ssize': 2, 'activation_0': 'tanh', 'layer_1': 'Conv2D', 'layer_1_conv2d_filters': 8, 'layer_1_conv2d_fsize': 5, 'layer_1_conv2d_ssize': 2, 'activation_1': 'tanh', 'layer_2': 'Depthwise2D', 'layer_2_dwconv2d_fsize': 3, 'layer_2_dwconv2d_ssize': 4, 'activation_2': 'relu', 'output_dropout': 0.489952760089363, 'lr_inicial': 0.0015730619187466826}. Best is trial 85 with value: 0.9800000190734863.\n"
     ]
    },
    {
     "name": "stdout",
     "output_type": "stream",
     "text": [
      "INFO:tensorflow:Assets written to: saved_models/exp6_aug_calib/best_model_t119/assets\n"
     ]
    },
    {
     "name": "stderr",
     "output_type": "stream",
     "text": [
      "INFO:tensorflow:Assets written to: saved_models/exp6_aug_calib/best_model_t119/assets\n",
      "[I 2024-02-01 15:06:41,224] Trial 119 finished with value: 0.6800000071525574 and parameters: {'batchsize': 32, 'brightness_factor': 0.15548455759864063, 'gaussian_noise_factor': 7.704325661941729e-06, 'translate_factor': 0.1927732380285896, 'num_layers': 3, 'layer_0': 'Depthwise2D', 'layer_0_dwconv2d_fsize': 5, 'layer_0_dwconv2d_ssize': 3, 'activation_0': 'tanh', 'layer_1': 'Depthwise2D', 'layer_1_dwconv2d_fsize': 5, 'layer_1_dwconv2d_ssize': 3, 'activation_1': 'tanh', 'layer_2': 'Depthwise2D', 'layer_2_dwconv2d_fsize': 4, 'layer_2_dwconv2d_ssize': 3, 'activation_2': 'relu', 'output_dropout': 0.5354116321740641, 'lr_inicial': 0.0014642245585033845}. Best is trial 85 with value: 0.9800000190734863.\n"
     ]
    },
    {
     "name": "stdout",
     "output_type": "stream",
     "text": [
      "INFO:tensorflow:Assets written to: saved_models/exp6_aug_calib/best_model_t120/assets\n"
     ]
    },
    {
     "name": "stderr",
     "output_type": "stream",
     "text": [
      "INFO:tensorflow:Assets written to: saved_models/exp6_aug_calib/best_model_t120/assets\n",
      "[I 2024-02-01 15:06:55,716] Trial 120 finished with value: 0.6600000262260437 and parameters: {'batchsize': 32, 'brightness_factor': 0.14483351281850462, 'gaussian_noise_factor': 0.01200951825797734, 'translate_factor': 0.16294462902219606, 'num_layers': 1, 'layer_0': 'Pointwise2D', 'layer_0_pwconv2d_filters': 16, 'layer_0_pwconv2d_ssize': 5, 'activation_0': 'tanh', 'output_dropout': 0.5658969259852904, 'lr_inicial': 0.0014355327676986837}. Best is trial 85 with value: 0.9800000190734863.\n"
     ]
    },
    {
     "name": "stdout",
     "output_type": "stream",
     "text": [
      "INFO:tensorflow:Assets written to: saved_models/exp6_aug_calib/best_model_t121/assets\n"
     ]
    },
    {
     "name": "stderr",
     "output_type": "stream",
     "text": [
      "INFO:tensorflow:Assets written to: saved_models/exp6_aug_calib/best_model_t121/assets\n",
      "[I 2024-02-01 15:07:17,271] Trial 121 finished with value: 0.9399999976158142 and parameters: {'batchsize': 32, 'brightness_factor': 0.14815997678734805, 'gaussian_noise_factor': 0.005995170025990482, 'translate_factor': 0.18757320916497316, 'num_layers': 3, 'layer_0': 'Pointwise2D', 'layer_0_pwconv2d_filters': 20, 'layer_0_pwconv2d_ssize': 2, 'activation_0': 'tanh', 'layer_1': 'Conv2D', 'layer_1_conv2d_filters': 24, 'layer_1_conv2d_fsize': 5, 'layer_1_conv2d_ssize': 2, 'activation_1': 'tanh', 'layer_2': 'Depthwise2D', 'layer_2_dwconv2d_fsize': 4, 'layer_2_dwconv2d_ssize': 4, 'activation_2': 'relu', 'output_dropout': 0.528983819150753, 'lr_inicial': 0.0013377041162938015}. Best is trial 85 with value: 0.9800000190734863.\n"
     ]
    },
    {
     "name": "stdout",
     "output_type": "stream",
     "text": [
      "INFO:tensorflow:Assets written to: saved_models/exp6_aug_calib/best_model_t122/assets\n"
     ]
    },
    {
     "name": "stderr",
     "output_type": "stream",
     "text": [
      "INFO:tensorflow:Assets written to: saved_models/exp6_aug_calib/best_model_t122/assets\n",
      "[I 2024-02-01 15:07:38,997] Trial 122 finished with value: 0.9399999976158142 and parameters: {'batchsize': 32, 'brightness_factor': 0.13590621336076333, 'gaussian_noise_factor': 0.00459899394679837, 'translate_factor': 0.17884099828293137, 'num_layers': 3, 'layer_0': 'Pointwise2D', 'layer_0_pwconv2d_filters': 20, 'layer_0_pwconv2d_ssize': 2, 'activation_0': 'tanh', 'layer_1': 'Conv2D', 'layer_1_conv2d_filters': 24, 'layer_1_conv2d_fsize': 5, 'layer_1_conv2d_ssize': 2, 'activation_1': 'tanh', 'layer_2': 'Depthwise2D', 'layer_2_dwconv2d_fsize': 4, 'layer_2_dwconv2d_ssize': 4, 'activation_2': 'relu', 'output_dropout': 0.5150712378741128, 'lr_inicial': 0.0012486777432257332}. Best is trial 85 with value: 0.9800000190734863.\n"
     ]
    },
    {
     "name": "stdout",
     "output_type": "stream",
     "text": [
      "INFO:tensorflow:Assets written to: saved_models/exp6_aug_calib/best_model_t123/assets\n"
     ]
    },
    {
     "name": "stderr",
     "output_type": "stream",
     "text": [
      "INFO:tensorflow:Assets written to: saved_models/exp6_aug_calib/best_model_t123/assets\n",
      "[I 2024-02-01 15:08:03,711] Trial 123 finished with value: 0.9399999976158142 and parameters: {'batchsize': 32, 'brightness_factor': 0.1679396187031752, 'gaussian_noise_factor': 0.008535948659613182, 'translate_factor': 0.1973123222446673, 'num_layers': 3, 'layer_0': 'Pointwise2D', 'layer_0_pwconv2d_filters': 20, 'layer_0_pwconv2d_ssize': 2, 'activation_0': 'tanh', 'layer_1': 'Conv2D', 'layer_1_conv2d_filters': 24, 'layer_1_conv2d_fsize': 5, 'layer_1_conv2d_ssize': 2, 'activation_1': 'tanh', 'layer_2': 'Depthwise2D', 'layer_2_dwconv2d_fsize': 4, 'layer_2_dwconv2d_ssize': 4, 'activation_2': 'relu', 'output_dropout': 0.5315035507866283, 'lr_inicial': 0.0013030898024239818}. Best is trial 85 with value: 0.9800000190734863.\n"
     ]
    },
    {
     "name": "stdout",
     "output_type": "stream",
     "text": [
      "INFO:tensorflow:Assets written to: saved_models/exp6_aug_calib/best_model_t124/assets\n"
     ]
    },
    {
     "name": "stderr",
     "output_type": "stream",
     "text": [
      "INFO:tensorflow:Assets written to: saved_models/exp6_aug_calib/best_model_t124/assets\n",
      "[I 2024-02-01 15:08:21,787] Trial 124 finished with value: 0.9399999976158142 and parameters: {'batchsize': 32, 'brightness_factor': 0.15735693301934475, 'gaussian_noise_factor': 0.01589184478212336, 'translate_factor': 0.18999000803445426, 'num_layers': 3, 'layer_0': 'Pointwise2D', 'layer_0_pwconv2d_filters': 20, 'layer_0_pwconv2d_ssize': 3, 'activation_0': 'tanh', 'layer_1': 'Conv2D', 'layer_1_conv2d_filters': 28, 'layer_1_conv2d_fsize': 5, 'layer_1_conv2d_ssize': 2, 'activation_1': 'tanh', 'layer_2': 'Depthwise2D', 'layer_2_dwconv2d_fsize': 4, 'layer_2_dwconv2d_ssize': 4, 'activation_2': 'relu', 'output_dropout': 0.5224475743154284, 'lr_inicial': 0.0011270934800186717}. Best is trial 85 with value: 0.9800000190734863.\n"
     ]
    },
    {
     "name": "stdout",
     "output_type": "stream",
     "text": [
      "INFO:tensorflow:Assets written to: saved_models/exp6_aug_calib/best_model_t125/assets\n"
     ]
    },
    {
     "name": "stderr",
     "output_type": "stream",
     "text": [
      "INFO:tensorflow:Assets written to: saved_models/exp6_aug_calib/best_model_t125/assets\n",
      "[I 2024-02-01 15:08:39,029] Trial 125 finished with value: 0.9399999976158142 and parameters: {'batchsize': 32, 'brightness_factor': 0.12821656286649852, 'gaussian_noise_factor': 0.005640607895406291, 'translate_factor': 0.174748607223311, 'num_layers': 3, 'layer_0': 'Pointwise2D', 'layer_0_pwconv2d_filters': 20, 'layer_0_pwconv2d_ssize': 3, 'activation_0': 'tanh', 'layer_1': 'Conv2D', 'layer_1_conv2d_filters': 24, 'layer_1_conv2d_fsize': 5, 'layer_1_conv2d_ssize': 2, 'activation_1': 'tanh', 'layer_2': 'Depthwise2D', 'layer_2_dwconv2d_fsize': 4, 'layer_2_dwconv2d_ssize': 4, 'activation_2': 'relu', 'output_dropout': 0.3031912793816539, 'lr_inicial': 0.0012309018255124095}. Best is trial 85 with value: 0.9800000190734863.\n"
     ]
    },
    {
     "name": "stdout",
     "output_type": "stream",
     "text": [
      "INFO:tensorflow:Assets written to: saved_models/exp6_aug_calib/best_model_t126/assets\n"
     ]
    },
    {
     "name": "stderr",
     "output_type": "stream",
     "text": [
      "INFO:tensorflow:Assets written to: saved_models/exp6_aug_calib/best_model_t126/assets\n",
      "[I 2024-02-01 15:08:57,169] Trial 126 finished with value: 0.9399999976158142 and parameters: {'batchsize': 32, 'brightness_factor': 0.14086404498702332, 'gaussian_noise_factor': 8.163976058964822e-06, 'translate_factor': 0.18372021956209222, 'num_layers': 3, 'layer_0': 'Pointwise2D', 'layer_0_pwconv2d_filters': 20, 'layer_0_pwconv2d_ssize': 3, 'activation_0': 'tanh', 'layer_1': 'Conv2D', 'layer_1_conv2d_filters': 20, 'layer_1_conv2d_fsize': 5, 'layer_1_conv2d_ssize': 2, 'activation_1': 'tanh', 'layer_2': 'Depthwise2D', 'layer_2_dwconv2d_fsize': 4, 'layer_2_dwconv2d_ssize': 4, 'activation_2': 'relu', 'output_dropout': 0.5523624086410318, 'lr_inicial': 0.0011557207568763527}. Best is trial 85 with value: 0.9800000190734863.\n"
     ]
    },
    {
     "name": "stdout",
     "output_type": "stream",
     "text": [
      "INFO:tensorflow:Assets written to: saved_models/exp6_aug_calib/best_model_t127/assets\n"
     ]
    },
    {
     "name": "stderr",
     "output_type": "stream",
     "text": [
      "INFO:tensorflow:Assets written to: saved_models/exp6_aug_calib/best_model_t127/assets\n",
      "[I 2024-02-01 15:09:19,272] Trial 127 finished with value: 0.7799999713897705 and parameters: {'batchsize': 32, 'brightness_factor': 0.1504941071364161, 'gaussian_noise_factor': 0.021872526742096863, 'translate_factor': 0.1928956819316766, 'num_layers': 3, 'layer_0': 'Pointwise2D', 'layer_0_pwconv2d_filters': 16, 'layer_0_pwconv2d_ssize': 2, 'activation_0': 'tanh', 'layer_1': 'Conv2D', 'layer_1_conv2d_filters': 24, 'layer_1_conv2d_fsize': 5, 'layer_1_conv2d_ssize': 2, 'activation_1': 'tanh', 'layer_2': 'Pointwise2D', 'layer_2_pwconv2d_filters': 4, 'layer_2_pwconv2d_ssize': 3, 'activation_2': 'relu', 'output_dropout': 0.54409449386299, 'lr_inicial': 0.0018596372783391461}. Best is trial 85 with value: 0.9800000190734863.\n"
     ]
    },
    {
     "name": "stdout",
     "output_type": "stream",
     "text": [
      "INFO:tensorflow:Assets written to: saved_models/exp6_aug_calib/best_model_t128/assets\n"
     ]
    },
    {
     "name": "stderr",
     "output_type": "stream",
     "text": [
      "INFO:tensorflow:Assets written to: saved_models/exp6_aug_calib/best_model_t128/assets\n",
      "[I 2024-02-01 15:09:37,569] Trial 128 finished with value: 0.7400000095367432 and parameters: {'batchsize': 32, 'brightness_factor': 0.17626880524600627, 'gaussian_noise_factor': 0.011452093168800505, 'translate_factor': 0.19902852618179923, 'num_layers': 3, 'layer_0': 'Pointwise2D', 'layer_0_pwconv2d_filters': 24, 'layer_0_pwconv2d_ssize': 3, 'activation_0': 'tanh', 'layer_1': 'Conv2D', 'layer_1_conv2d_filters': 20, 'layer_1_conv2d_fsize': 5, 'layer_1_conv2d_ssize': 2, 'activation_1': 'tanh', 'layer_2': 'Depthwise2D', 'layer_2_dwconv2d_fsize': 4, 'layer_2_dwconv2d_ssize': 4, 'activation_2': 'tanh', 'output_dropout': 0.5597653732550225, 'lr_inicial': 0.001362809568416904}. Best is trial 85 with value: 0.9800000190734863.\n"
     ]
    },
    {
     "name": "stdout",
     "output_type": "stream",
     "text": [
      "INFO:tensorflow:Assets written to: saved_models/exp6_aug_calib/best_model_t129/assets\n"
     ]
    },
    {
     "name": "stderr",
     "output_type": "stream",
     "text": [
      "INFO:tensorflow:Assets written to: saved_models/exp6_aug_calib/best_model_t129/assets\n",
      "[I 2024-02-01 15:09:56,000] Trial 129 finished with value: 0.9399999976158142 and parameters: {'batchsize': 32, 'brightness_factor': 0.14548063038870657, 'gaussian_noise_factor': 0.017524739391465958, 'translate_factor': 0.17900710464972355, 'num_layers': 3, 'layer_0': 'Pointwise2D', 'layer_0_pwconv2d_filters': 20, 'layer_0_pwconv2d_ssize': 3, 'activation_0': 'tanh', 'layer_1': 'Conv2D', 'layer_1_conv2d_filters': 24, 'layer_1_conv2d_fsize': 5, 'layer_1_conv2d_ssize': 2, 'activation_1': 'tanh', 'layer_2': 'Depthwise2D', 'layer_2_dwconv2d_fsize': 4, 'layer_2_dwconv2d_ssize': 5, 'activation_2': 'relu', 'output_dropout': 0.48042834958577874, 'lr_inicial': 0.0016027257887678314}. Best is trial 85 with value: 0.9800000190734863.\n"
     ]
    },
    {
     "name": "stdout",
     "output_type": "stream",
     "text": [
      "INFO:tensorflow:Assets written to: saved_models/exp6_aug_calib/best_model_t130/assets\n"
     ]
    },
    {
     "name": "stderr",
     "output_type": "stream",
     "text": [
      "INFO:tensorflow:Assets written to: saved_models/exp6_aug_calib/best_model_t130/assets\n",
      "[I 2024-02-01 15:10:17,680] Trial 130 finished with value: 0.8600000143051147 and parameters: {'batchsize': 32, 'brightness_factor': 0.1328525390436503, 'gaussian_noise_factor': 0.07610280705992989, 'translate_factor': 0.1651661786733473, 'num_layers': 3, 'layer_0': 'Pointwise2D', 'layer_0_pwconv2d_filters': 20, 'layer_0_pwconv2d_ssize': 2, 'activation_0': 'tanh', 'layer_1': 'Conv2D', 'layer_1_conv2d_filters': 28, 'layer_1_conv2d_fsize': 5, 'layer_1_conv2d_ssize': 2, 'activation_1': 'tanh', 'layer_2': 'Depthwise2D', 'layer_2_dwconv2d_fsize': 4, 'layer_2_dwconv2d_ssize': 4, 'activation_2': 'relu', 'output_dropout': 0.35168831276732637, 'lr_inicial': 0.0012933091617744385}. Best is trial 85 with value: 0.9800000190734863.\n"
     ]
    },
    {
     "name": "stdout",
     "output_type": "stream",
     "text": [
      "INFO:tensorflow:Assets written to: saved_models/exp6_aug_calib/best_model_t131/assets\n"
     ]
    },
    {
     "name": "stderr",
     "output_type": "stream",
     "text": [
      "INFO:tensorflow:Assets written to: saved_models/exp6_aug_calib/best_model_t131/assets\n",
      "[I 2024-02-01 15:10:39,126] Trial 131 finished with value: 0.9200000166893005 and parameters: {'batchsize': 32, 'brightness_factor': 0.16545500112275838, 'gaussian_noise_factor': 0.008734134238180067, 'translate_factor': 0.18436170412871863, 'num_layers': 3, 'layer_0': 'Pointwise2D', 'layer_0_pwconv2d_filters': 20, 'layer_0_pwconv2d_ssize': 2, 'activation_0': 'tanh', 'layer_1': 'Conv2D', 'layer_1_conv2d_filters': 24, 'layer_1_conv2d_fsize': 5, 'layer_1_conv2d_ssize': 2, 'activation_1': 'tanh', 'layer_2': 'Depthwise2D', 'layer_2_dwconv2d_fsize': 4, 'layer_2_dwconv2d_ssize': 4, 'activation_2': 'relu', 'output_dropout': 0.5067581399929072, 'lr_inicial': 0.0011953804719764714}. Best is trial 85 with value: 0.9800000190734863.\n"
     ]
    },
    {
     "name": "stdout",
     "output_type": "stream",
     "text": [
      "INFO:tensorflow:Assets written to: saved_models/exp6_aug_calib/best_model_t132/assets\n"
     ]
    },
    {
     "name": "stderr",
     "output_type": "stream",
     "text": [
      "INFO:tensorflow:Assets written to: saved_models/exp6_aug_calib/best_model_t132/assets\n",
      "[I 2024-02-01 15:11:00,415] Trial 132 finished with value: 0.9399999976158142 and parameters: {'batchsize': 32, 'brightness_factor': 0.17172941471936914, 'gaussian_noise_factor': 0.002975029137305667, 'translate_factor': 0.18178371820666459, 'num_layers': 3, 'layer_0': 'Pointwise2D', 'layer_0_pwconv2d_filters': 20, 'layer_0_pwconv2d_ssize': 2, 'activation_0': 'tanh', 'layer_1': 'Conv2D', 'layer_1_conv2d_filters': 24, 'layer_1_conv2d_fsize': 5, 'layer_1_conv2d_ssize': 2, 'activation_1': 'tanh', 'layer_2': 'Depthwise2D', 'layer_2_dwconv2d_fsize': 4, 'layer_2_dwconv2d_ssize': 4, 'activation_2': 'relu', 'output_dropout': 0.49630023089671327, 'lr_inicial': 0.0010394209460171714}. Best is trial 85 with value: 0.9800000190734863.\n"
     ]
    },
    {
     "name": "stdout",
     "output_type": "stream",
     "text": [
      "INFO:tensorflow:Assets written to: saved_models/exp6_aug_calib/best_model_t133/assets\n"
     ]
    },
    {
     "name": "stderr",
     "output_type": "stream",
     "text": [
      "INFO:tensorflow:Assets written to: saved_models/exp6_aug_calib/best_model_t133/assets\n",
      "[I 2024-02-01 15:11:21,650] Trial 133 finished with value: 0.9599999785423279 and parameters: {'batchsize': 32, 'brightness_factor': 0.15172442442806597, 'gaussian_noise_factor': 0.008778390592045274, 'translate_factor': 0.18778365720190093, 'num_layers': 3, 'layer_0': 'Pointwise2D', 'layer_0_pwconv2d_filters': 20, 'layer_0_pwconv2d_ssize': 2, 'activation_0': 'tanh', 'layer_1': 'Conv2D', 'layer_1_conv2d_filters': 24, 'layer_1_conv2d_fsize': 5, 'layer_1_conv2d_ssize': 2, 'activation_1': 'tanh', 'layer_2': 'Depthwise2D', 'layer_2_dwconv2d_fsize': 4, 'layer_2_dwconv2d_ssize': 4, 'activation_2': 'relu', 'output_dropout': 0.5211541208165933, 'lr_inicial': 0.0014087270394156802}. Best is trial 85 with value: 0.9800000190734863.\n"
     ]
    },
    {
     "name": "stdout",
     "output_type": "stream",
     "text": [
      "INFO:tensorflow:Assets written to: saved_models/exp6_aug_calib/best_model_t134/assets\n"
     ]
    },
    {
     "name": "stderr",
     "output_type": "stream",
     "text": [
      "INFO:tensorflow:Assets written to: saved_models/exp6_aug_calib/best_model_t134/assets\n",
      "[I 2024-02-01 15:11:42,708] Trial 134 finished with value: 0.9599999785423279 and parameters: {'batchsize': 32, 'brightness_factor': 0.15107257625272136, 'gaussian_noise_factor': 0.012743625241912453, 'translate_factor': 0.18887879770405402, 'num_layers': 3, 'layer_0': 'Pointwise2D', 'layer_0_pwconv2d_filters': 20, 'layer_0_pwconv2d_ssize': 2, 'activation_0': 'tanh', 'layer_1': 'Conv2D', 'layer_1_conv2d_filters': 24, 'layer_1_conv2d_fsize': 5, 'layer_1_conv2d_ssize': 2, 'activation_1': 'linear', 'layer_2': 'Depthwise2D', 'layer_2_dwconv2d_fsize': 4, 'layer_2_dwconv2d_ssize': 4, 'activation_2': 'relu', 'output_dropout': 0.5329185566609372, 'lr_inicial': 0.0014206290603513176}. Best is trial 85 with value: 0.9800000190734863.\n"
     ]
    },
    {
     "name": "stdout",
     "output_type": "stream",
     "text": [
      "INFO:tensorflow:Assets written to: saved_models/exp6_aug_calib/best_model_t135/assets\n"
     ]
    },
    {
     "name": "stderr",
     "output_type": "stream",
     "text": [
      "INFO:tensorflow:Assets written to: saved_models/exp6_aug_calib/best_model_t135/assets\n",
      "[I 2024-02-01 15:12:02,235] Trial 135 finished with value: 0.9200000166893005 and parameters: {'batchsize': 32, 'brightness_factor': 0.15421400196187585, 'gaussian_noise_factor': 0.013367443711327445, 'translate_factor': 0.17049931112785605, 'num_layers': 3, 'layer_0': 'Pointwise2D', 'layer_0_pwconv2d_filters': 16, 'layer_0_pwconv2d_ssize': 2, 'activation_0': 'tanh', 'layer_1': 'Conv2D', 'layer_1_conv2d_filters': 24, 'layer_1_conv2d_fsize': 5, 'layer_1_conv2d_ssize': 2, 'activation_1': 'linear', 'layer_2': 'Depthwise2D', 'layer_2_dwconv2d_fsize': 4, 'layer_2_dwconv2d_ssize': 4, 'activation_2': 'relu', 'output_dropout': 0.5201833446352588, 'lr_inicial': 0.001424012867911639}. Best is trial 85 with value: 0.9800000190734863.\n"
     ]
    },
    {
     "name": "stdout",
     "output_type": "stream",
     "text": [
      "INFO:tensorflow:Assets written to: saved_models/exp6_aug_calib/best_model_t136/assets\n"
     ]
    },
    {
     "name": "stderr",
     "output_type": "stream",
     "text": [
      "INFO:tensorflow:Assets written to: saved_models/exp6_aug_calib/best_model_t136/assets\n",
      "[I 2024-02-01 15:12:23,273] Trial 136 finished with value: 0.9399999976158142 and parameters: {'batchsize': 32, 'brightness_factor': 0.15727871468431773, 'gaussian_noise_factor': 0.02419791106950797, 'translate_factor': 0.194297913964233, 'num_layers': 3, 'layer_0': 'Pointwise2D', 'layer_0_pwconv2d_filters': 20, 'layer_0_pwconv2d_ssize': 2, 'activation_0': 'tanh', 'layer_1': 'Conv2D', 'layer_1_conv2d_filters': 24, 'layer_1_conv2d_fsize': 5, 'layer_1_conv2d_ssize': 2, 'activation_1': 'linear', 'layer_2': 'Depthwise2D', 'layer_2_dwconv2d_fsize': 4, 'layer_2_dwconv2d_ssize': 4, 'activation_2': 'relu', 'output_dropout': 0.5356231208228438, 'lr_inicial': 0.0015132310450769657}. Best is trial 85 with value: 0.9800000190734863.\n"
     ]
    },
    {
     "name": "stdout",
     "output_type": "stream",
     "text": [
      "INFO:tensorflow:Assets written to: saved_models/exp6_aug_calib/best_model_t137/assets\n"
     ]
    },
    {
     "name": "stderr",
     "output_type": "stream",
     "text": [
      "INFO:tensorflow:Assets written to: saved_models/exp6_aug_calib/best_model_t137/assets\n",
      "[I 2024-02-01 15:12:45,250] Trial 137 finished with value: 0.9200000166893005 and parameters: {'batchsize': 32, 'brightness_factor': 0.13715044367407248, 'gaussian_noise_factor': 0.003435641396438153, 'translate_factor': 0.17586919750597604, 'num_layers': 3, 'layer_0': 'Pointwise2D', 'layer_0_pwconv2d_filters': 20, 'layer_0_pwconv2d_ssize': 2, 'activation_0': 'tanh', 'layer_1': 'Conv2D', 'layer_1_conv2d_filters': 20, 'layer_1_conv2d_fsize': 5, 'layer_1_conv2d_ssize': 2, 'activation_1': 'linear', 'layer_2': 'Depthwise2D', 'layer_2_dwconv2d_fsize': 4, 'layer_2_dwconv2d_ssize': 4, 'activation_2': 'relu', 'output_dropout': 0.5413448601585135, 'lr_inicial': 0.00141716299461837}. Best is trial 85 with value: 0.9800000190734863.\n"
     ]
    },
    {
     "name": "stdout",
     "output_type": "stream",
     "text": [
      "INFO:tensorflow:Assets written to: saved_models/exp6_aug_calib/best_model_t138/assets\n"
     ]
    },
    {
     "name": "stderr",
     "output_type": "stream",
     "text": [
      "INFO:tensorflow:Assets written to: saved_models/exp6_aug_calib/best_model_t138/assets\n",
      "[I 2024-02-01 15:13:02,034] Trial 138 finished with value: 0.7400000095367432 and parameters: {'batchsize': 32, 'brightness_factor': 0.14335066648833647, 'gaussian_noise_factor': 0.01700983862922199, 'translate_factor': 0.1861136884901823, 'num_layers': 2, 'layer_0': 'Pointwise2D', 'layer_0_pwconv2d_filters': 24, 'layer_0_pwconv2d_ssize': 6, 'activation_0': 'tanh', 'layer_1': 'Conv2D', 'layer_1_conv2d_filters': 24, 'layer_1_conv2d_fsize': 5, 'layer_1_conv2d_ssize': 3, 'activation_1': 'linear', 'output_dropout': 0.525692629184771, 'lr_inicial': 0.0017209193097688224}. Best is trial 85 with value: 0.9800000190734863.\n"
     ]
    },
    {
     "name": "stdout",
     "output_type": "stream",
     "text": [
      "INFO:tensorflow:Assets written to: saved_models/exp6_aug_calib/best_model_t139/assets\n"
     ]
    },
    {
     "name": "stderr",
     "output_type": "stream",
     "text": [
      "INFO:tensorflow:Assets written to: saved_models/exp6_aug_calib/best_model_t139/assets\n",
      "[I 2024-02-01 15:13:23,700] Trial 139 finished with value: 0.9599999785423279 and parameters: {'batchsize': 32, 'brightness_factor': 0.15357713877262447, 'gaussian_noise_factor': 0.008699472828429297, 'translate_factor': 0.1893188253877578, 'num_layers': 3, 'layer_0': 'Pointwise2D', 'layer_0_pwconv2d_filters': 20, 'layer_0_pwconv2d_ssize': 2, 'activation_0': 'tanh', 'layer_1': 'Conv2D', 'layer_1_conv2d_filters': 24, 'layer_1_conv2d_fsize': 5, 'layer_1_conv2d_ssize': 2, 'activation_1': 'tanh', 'layer_2': 'Depthwise2D', 'layer_2_dwconv2d_fsize': 4, 'layer_2_dwconv2d_ssize': 4, 'activation_2': 'relu', 'output_dropout': 0.5125564535767213, 'lr_inicial': 0.001245311171863683}. Best is trial 85 with value: 0.9800000190734863.\n"
     ]
    },
    {
     "name": "stdout",
     "output_type": "stream",
     "text": [
      "INFO:tensorflow:Assets written to: saved_models/exp6_aug_calib/best_model_t140/assets\n"
     ]
    },
    {
     "name": "stderr",
     "output_type": "stream",
     "text": [
      "INFO:tensorflow:Assets written to: saved_models/exp6_aug_calib/best_model_t140/assets\n",
      "[I 2024-02-01 15:13:45,632] Trial 140 finished with value: 0.9399999976158142 and parameters: {'batchsize': 32, 'brightness_factor': 0.1532737448689163, 'gaussian_noise_factor': 0.012586757451543185, 'translate_factor': 0.19960134969568388, 'num_layers': 3, 'layer_0': 'Pointwise2D', 'layer_0_pwconv2d_filters': 20, 'layer_0_pwconv2d_ssize': 2, 'activation_0': 'tanh', 'layer_1': 'Conv2D', 'layer_1_conv2d_filters': 28, 'layer_1_conv2d_fsize': 5, 'layer_1_conv2d_ssize': 2, 'activation_1': 'tanh', 'layer_2': 'Depthwise2D', 'layer_2_dwconv2d_fsize': 4, 'layer_2_dwconv2d_ssize': 4, 'activation_2': 'relu', 'output_dropout': 0.5116089582482147, 'lr_inicial': 0.0012667536406166019}. Best is trial 85 with value: 0.9800000190734863.\n"
     ]
    },
    {
     "name": "stdout",
     "output_type": "stream",
     "text": [
      "INFO:tensorflow:Assets written to: saved_models/exp6_aug_calib/best_model_t141/assets\n"
     ]
    },
    {
     "name": "stderr",
     "output_type": "stream",
     "text": [
      "INFO:tensorflow:Assets written to: saved_models/exp6_aug_calib/best_model_t141/assets\n",
      "[I 2024-02-01 15:14:07,168] Trial 141 finished with value: 0.9599999785423279 and parameters: {'batchsize': 32, 'brightness_factor': 0.1465901824259453, 'gaussian_noise_factor': 0.0067140184366365355, 'translate_factor': 0.19093766484723387, 'num_layers': 3, 'layer_0': 'Pointwise2D', 'layer_0_pwconv2d_filters': 20, 'layer_0_pwconv2d_ssize': 2, 'activation_0': 'tanh', 'layer_1': 'Conv2D', 'layer_1_conv2d_filters': 24, 'layer_1_conv2d_fsize': 5, 'layer_1_conv2d_ssize': 2, 'activation_1': 'tanh', 'layer_2': 'Depthwise2D', 'layer_2_dwconv2d_fsize': 4, 'layer_2_dwconv2d_ssize': 4, 'activation_2': 'relu', 'output_dropout': 0.5177709431672247, 'lr_inicial': 0.0014662452066845247}. Best is trial 85 with value: 0.9800000190734863.\n"
     ]
    },
    {
     "name": "stdout",
     "output_type": "stream",
     "text": [
      "INFO:tensorflow:Assets written to: saved_models/exp6_aug_calib/best_model_t142/assets\n"
     ]
    },
    {
     "name": "stderr",
     "output_type": "stream",
     "text": [
      "INFO:tensorflow:Assets written to: saved_models/exp6_aug_calib/best_model_t142/assets\n",
      "[I 2024-02-01 15:14:28,713] Trial 142 finished with value: 0.9200000166893005 and parameters: {'batchsize': 32, 'brightness_factor': 0.14642899369404333, 'gaussian_noise_factor': 0.008915084945203985, 'translate_factor': 0.18894447239529824, 'num_layers': 3, 'layer_0': 'Pointwise2D', 'layer_0_pwconv2d_filters': 20, 'layer_0_pwconv2d_ssize': 2, 'activation_0': 'tanh', 'layer_1': 'Conv2D', 'layer_1_conv2d_filters': 24, 'layer_1_conv2d_fsize': 5, 'layer_1_conv2d_ssize': 2, 'activation_1': 'tanh', 'layer_2': 'Depthwise2D', 'layer_2_dwconv2d_fsize': 4, 'layer_2_dwconv2d_ssize': 4, 'activation_2': 'relu', 'output_dropout': 0.5178057786066038, 'lr_inicial': 0.0014649381544728777}. Best is trial 85 with value: 0.9800000190734863.\n"
     ]
    },
    {
     "name": "stdout",
     "output_type": "stream",
     "text": [
      "INFO:tensorflow:Assets written to: saved_models/exp6_aug_calib/best_model_t143/assets\n"
     ]
    },
    {
     "name": "stderr",
     "output_type": "stream",
     "text": [
      "INFO:tensorflow:Assets written to: saved_models/exp6_aug_calib/best_model_t143/assets\n",
      "[I 2024-02-01 15:14:50,032] Trial 143 finished with value: 0.9599999785423279 and parameters: {'batchsize': 32, 'brightness_factor': 0.1588908967353814, 'gaussian_noise_factor': 0.0078496442558593, 'translate_factor': 0.17984804677753669, 'num_layers': 3, 'layer_0': 'Pointwise2D', 'layer_0_pwconv2d_filters': 20, 'layer_0_pwconv2d_ssize': 2, 'activation_0': 'tanh', 'layer_1': 'Conv2D', 'layer_1_conv2d_filters': 24, 'layer_1_conv2d_fsize': 5, 'layer_1_conv2d_ssize': 2, 'activation_1': 'tanh', 'layer_2': 'Depthwise2D', 'layer_2_dwconv2d_fsize': 4, 'layer_2_dwconv2d_ssize': 4, 'activation_2': 'relu', 'output_dropout': 0.5103804139519604, 'lr_inicial': 0.0013872795836329837}. Best is trial 85 with value: 0.9800000190734863.\n"
     ]
    },
    {
     "name": "stdout",
     "output_type": "stream",
     "text": [
      "INFO:tensorflow:Assets written to: saved_models/exp6_aug_calib/best_model_t144/assets\n"
     ]
    },
    {
     "name": "stderr",
     "output_type": "stream",
     "text": [
      "INFO:tensorflow:Assets written to: saved_models/exp6_aug_calib/best_model_t144/assets\n",
      "[I 2024-02-01 15:15:15,738] Trial 144 finished with value: 0.9399999976158142 and parameters: {'batchsize': 32, 'brightness_factor': 0.16284549543921956, 'gaussian_noise_factor': 0.00825521266411651, 'translate_factor': 0.1792744697352986, 'num_layers': 3, 'layer_0': 'Pointwise2D', 'layer_0_pwconv2d_filters': 20, 'layer_0_pwconv2d_ssize': 2, 'activation_0': 'tanh', 'layer_1': 'Conv2D', 'layer_1_conv2d_filters': 24, 'layer_1_conv2d_fsize': 5, 'layer_1_conv2d_ssize': 2, 'activation_1': 'tanh', 'layer_2': 'Depthwise2D', 'layer_2_dwconv2d_fsize': 4, 'layer_2_dwconv2d_ssize': 4, 'activation_2': 'relu', 'output_dropout': 0.5061965209735607, 'lr_inicial': 0.0016105441537777687}. Best is trial 85 with value: 0.9800000190734863.\n"
     ]
    },
    {
     "name": "stdout",
     "output_type": "stream",
     "text": [
      "INFO:tensorflow:Assets written to: saved_models/exp6_aug_calib/best_model_t145/assets\n"
     ]
    },
    {
     "name": "stderr",
     "output_type": "stream",
     "text": [
      "INFO:tensorflow:Assets written to: saved_models/exp6_aug_calib/best_model_t145/assets\n",
      "[I 2024-02-01 15:15:37,092] Trial 145 finished with value: 0.9399999976158142 and parameters: {'batchsize': 32, 'brightness_factor': 0.152459910301575, 'gaussian_noise_factor': 0.01569712864984891, 'translate_factor': 0.1741493783298751, 'num_layers': 3, 'layer_0': 'Pointwise2D', 'layer_0_pwconv2d_filters': 20, 'layer_0_pwconv2d_ssize': 2, 'activation_0': 'tanh', 'layer_1': 'Conv2D', 'layer_1_conv2d_filters': 24, 'layer_1_conv2d_fsize': 5, 'layer_1_conv2d_ssize': 2, 'activation_1': 'tanh', 'layer_2': 'Depthwise2D', 'layer_2_dwconv2d_fsize': 4, 'layer_2_dwconv2d_ssize': 4, 'activation_2': 'relu', 'output_dropout': 0.5122125574962233, 'lr_inicial': 0.001551050541441231}. Best is trial 85 with value: 0.9800000190734863.\n"
     ]
    },
    {
     "name": "stdout",
     "output_type": "stream",
     "text": [
      "INFO:tensorflow:Assets written to: saved_models/exp6_aug_calib/best_model_t146/assets\n"
     ]
    },
    {
     "name": "stderr",
     "output_type": "stream",
     "text": [
      "INFO:tensorflow:Assets written to: saved_models/exp6_aug_calib/best_model_t146/assets\n",
      "[I 2024-02-01 15:15:51,514] Trial 146 finished with value: 0.6399999856948853 and parameters: {'batchsize': 32, 'brightness_factor': 0.15952202514162497, 'gaussian_noise_factor': 0.013205085266572122, 'translate_factor': 0.16894741194327087, 'num_layers': 3, 'layer_0': 'Depthwise2D', 'layer_0_dwconv2d_fsize': 4, 'layer_0_dwconv2d_ssize': 3, 'activation_0': 'tanh', 'layer_1': 'Depthwise2D', 'layer_1_dwconv2d_fsize': 4, 'layer_1_dwconv2d_ssize': 5, 'activation_1': 'tanh', 'layer_2': 'Depthwise2D', 'layer_2_dwconv2d_fsize': 3, 'layer_2_dwconv2d_ssize': 4, 'activation_2': 'relu', 'output_dropout': 0.4892060710025336, 'lr_inicial': 0.0013842462593556455}. Best is trial 85 with value: 0.9800000190734863.\n"
     ]
    },
    {
     "name": "stdout",
     "output_type": "stream",
     "text": [
      "INFO:tensorflow:Assets written to: saved_models/exp6_aug_calib/best_model_t147/assets\n"
     ]
    },
    {
     "name": "stderr",
     "output_type": "stream",
     "text": [
      "INFO:tensorflow:Assets written to: saved_models/exp6_aug_calib/best_model_t147/assets\n",
      "[I 2024-02-01 15:16:13,862] Trial 147 finished with value: 0.9399999976158142 and parameters: {'batchsize': 32, 'brightness_factor': 0.14136420515005316, 'gaussian_noise_factor': 0.020816426241500388, 'translate_factor': 0.18367769174613402, 'num_layers': 3, 'layer_0': 'Pointwise2D', 'layer_0_pwconv2d_filters': 24, 'layer_0_pwconv2d_ssize': 2, 'activation_0': 'tanh', 'layer_1': 'Conv2D', 'layer_1_conv2d_filters': 24, 'layer_1_conv2d_fsize': 5, 'layer_1_conv2d_ssize': 2, 'activation_1': 'tanh', 'layer_2': 'Depthwise2D', 'layer_2_dwconv2d_fsize': 5, 'layer_2_dwconv2d_ssize': 4, 'activation_2': 'relu', 'output_dropout': 0.5210175995997415, 'lr_inicial': 0.0014702102293212176}. Best is trial 85 with value: 0.9800000190734863.\n"
     ]
    },
    {
     "name": "stdout",
     "output_type": "stream",
     "text": [
      "INFO:tensorflow:Assets written to: saved_models/exp6_aug_calib/best_model_t148/assets\n"
     ]
    },
    {
     "name": "stderr",
     "output_type": "stream",
     "text": [
      "INFO:tensorflow:Assets written to: saved_models/exp6_aug_calib/best_model_t148/assets\n",
      "[I 2024-02-01 15:16:31,918] Trial 148 finished with value: 0.8999999761581421 and parameters: {'batchsize': 32, 'brightness_factor': 0.17105548693379635, 'gaussian_noise_factor': 0.007561769216460377, 'translate_factor': 0.180558756827373, 'num_layers': 3, 'layer_0': 'Conv2D', 'layer_0_conv2d_filters': 4, 'layer_0_conv2d_fsize': 3, 'layer_0_conv2d_ssize': 2, 'activation_0': 'tanh', 'layer_1': 'Conv2D', 'layer_1_conv2d_filters': 20, 'layer_1_conv2d_fsize': 5, 'layer_1_conv2d_ssize': 2, 'activation_1': 'linear', 'layer_2': 'Depthwise2D', 'layer_2_dwconv2d_fsize': 4, 'layer_2_dwconv2d_ssize': 4, 'activation_2': 'relu', 'output_dropout': 0.49903701496743214, 'lr_inicial': 0.0016686826667429392}. Best is trial 85 with value: 0.9800000190734863.\n"
     ]
    },
    {
     "name": "stdout",
     "output_type": "stream",
     "text": [
      "INFO:tensorflow:Assets written to: saved_models/exp6_aug_calib/best_model_t149/assets\n"
     ]
    },
    {
     "name": "stderr",
     "output_type": "stream",
     "text": [
      "INFO:tensorflow:Assets written to: saved_models/exp6_aug_calib/best_model_t149/assets\n",
      "[I 2024-02-01 15:16:47,072] Trial 149 finished with value: 0.7400000095367432 and parameters: {'batchsize': 32, 'brightness_factor': 0.15704917009980962, 'gaussian_noise_factor': 0.0036336727861193286, 'translate_factor': 0.17273372879420196, 'num_layers': 1, 'layer_0': 'Pointwise2D', 'layer_0_pwconv2d_filters': 16, 'layer_0_pwconv2d_ssize': 10, 'activation_0': 'tanh', 'output_dropout': 0.5162812968521056, 'lr_inicial': 0.001255131835009895}. Best is trial 85 with value: 0.9800000190734863.\n"
     ]
    },
    {
     "name": "stdout",
     "output_type": "stream",
     "text": [
      "INFO:tensorflow:Assets written to: saved_models/exp6_aug_calib/best_model_t150/assets\n"
     ]
    },
    {
     "name": "stderr",
     "output_type": "stream",
     "text": [
      "INFO:tensorflow:Assets written to: saved_models/exp6_aug_calib/best_model_t150/assets\n",
      "[I 2024-02-01 15:17:08,891] Trial 150 finished with value: 0.8199999928474426 and parameters: {'batchsize': 32, 'brightness_factor': 0.011453892791176035, 'gaussian_noise_factor': 0.01122611492146098, 'translate_factor': 0.1881715312962816, 'num_layers': 3, 'layer_0': 'Pointwise2D', 'layer_0_pwconv2d_filters': 20, 'layer_0_pwconv2d_ssize': 2, 'activation_0': 'tanh', 'layer_1': 'Conv2D', 'layer_1_conv2d_filters': 24, 'layer_1_conv2d_fsize': 5, 'layer_1_conv2d_ssize': 2, 'activation_1': 'tanh', 'layer_2': 'Pointwise2D', 'layer_2_pwconv2d_filters': 16, 'layer_2_pwconv2d_ssize': 4, 'activation_2': 'tanh', 'output_dropout': 0.5083863517195583, 'lr_inicial': 0.0011685137830012783}. Best is trial 85 with value: 0.9800000190734863.\n"
     ]
    },
    {
     "name": "stdout",
     "output_type": "stream",
     "text": [
      "INFO:tensorflow:Assets written to: saved_models/exp6_aug_calib/best_model_t151/assets\n"
     ]
    },
    {
     "name": "stderr",
     "output_type": "stream",
     "text": [
      "INFO:tensorflow:Assets written to: saved_models/exp6_aug_calib/best_model_t151/assets\n",
      "[I 2024-02-01 15:17:30,432] Trial 151 finished with value: 0.9399999976158142 and parameters: {'batchsize': 32, 'brightness_factor': 0.15164477840178225, 'gaussian_noise_factor': 0.0003475654238121218, 'translate_factor': 0.19648650819005997, 'num_layers': 3, 'layer_0': 'Pointwise2D', 'layer_0_pwconv2d_filters': 20, 'layer_0_pwconv2d_ssize': 2, 'activation_0': 'tanh', 'layer_1': 'Conv2D', 'layer_1_conv2d_filters': 24, 'layer_1_conv2d_fsize': 5, 'layer_1_conv2d_ssize': 2, 'activation_1': 'tanh', 'layer_2': 'Depthwise2D', 'layer_2_dwconv2d_fsize': 4, 'layer_2_dwconv2d_ssize': 4, 'activation_2': 'relu', 'output_dropout': 0.5354206126432787, 'lr_inicial': 0.0013423962589692573}. Best is trial 85 with value: 0.9800000190734863.\n"
     ]
    },
    {
     "name": "stdout",
     "output_type": "stream",
     "text": [
      "INFO:tensorflow:Assets written to: saved_models/exp6_aug_calib/best_model_t152/assets\n"
     ]
    },
    {
     "name": "stderr",
     "output_type": "stream",
     "text": [
      "INFO:tensorflow:Assets written to: saved_models/exp6_aug_calib/best_model_t152/assets\n",
      "[I 2024-02-01 15:17:51,991] Trial 152 finished with value: 0.8999999761581421 and parameters: {'batchsize': 32, 'brightness_factor': 0.13810902976283665, 'gaussian_noise_factor': 0.0068456035499806335, 'translate_factor': 0.19089336150020134, 'num_layers': 3, 'layer_0': 'Pointwise2D', 'layer_0_pwconv2d_filters': 20, 'layer_0_pwconv2d_ssize': 2, 'activation_0': 'tanh', 'layer_1': 'Conv2D', 'layer_1_conv2d_filters': 24, 'layer_1_conv2d_fsize': 5, 'layer_1_conv2d_ssize': 2, 'activation_1': 'tanh', 'layer_2': 'Depthwise2D', 'layer_2_dwconv2d_fsize': 4, 'layer_2_dwconv2d_ssize': 4, 'activation_2': 'relu', 'output_dropout': 0.5243678157370815, 'lr_inicial': 0.001220969639180363}. Best is trial 85 with value: 0.9800000190734863.\n"
     ]
    },
    {
     "name": "stdout",
     "output_type": "stream",
     "text": [
      "INFO:tensorflow:Assets written to: saved_models/exp6_aug_calib/best_model_t153/assets\n"
     ]
    },
    {
     "name": "stderr",
     "output_type": "stream",
     "text": [
      "INFO:tensorflow:Assets written to: saved_models/exp6_aug_calib/best_model_t153/assets\n",
      "[I 2024-02-01 15:18:13,430] Trial 153 finished with value: 0.7799999713897705 and parameters: {'batchsize': 32, 'brightness_factor': 0.16509493929242341, 'gaussian_noise_factor': 0.14987771452389734, 'translate_factor': 0.17836985625463705, 'num_layers': 3, 'layer_0': 'Pointwise2D', 'layer_0_pwconv2d_filters': 20, 'layer_0_pwconv2d_ssize': 2, 'activation_0': 'tanh', 'layer_1': 'Conv2D', 'layer_1_conv2d_filters': 24, 'layer_1_conv2d_fsize': 5, 'layer_1_conv2d_ssize': 2, 'activation_1': 'tanh', 'layer_2': 'Depthwise2D', 'layer_2_dwconv2d_fsize': 4, 'layer_2_dwconv2d_ssize': 4, 'activation_2': 'relu', 'output_dropout': 0.5457839953900608, 'lr_inicial': 0.0011156268826861013}. Best is trial 85 with value: 0.9800000190734863.\n"
     ]
    },
    {
     "name": "stdout",
     "output_type": "stream",
     "text": [
      "INFO:tensorflow:Assets written to: saved_models/exp6_aug_calib/best_model_t154/assets\n"
     ]
    },
    {
     "name": "stderr",
     "output_type": "stream",
     "text": [
      "INFO:tensorflow:Assets written to: saved_models/exp6_aug_calib/best_model_t154/assets\n",
      "[I 2024-02-01 15:18:34,747] Trial 154 finished with value: 0.9399999976158142 and parameters: {'batchsize': 32, 'brightness_factor': 0.1471202587889959, 'gaussian_noise_factor': 0.0003554095337054714, 'translate_factor': 0.1859880943508629, 'num_layers': 3, 'layer_0': 'Pointwise2D', 'layer_0_pwconv2d_filters': 20, 'layer_0_pwconv2d_ssize': 2, 'activation_0': 'tanh', 'layer_1': 'Conv2D', 'layer_1_conv2d_filters': 24, 'layer_1_conv2d_fsize': 5, 'layer_1_conv2d_ssize': 2, 'activation_1': 'tanh', 'layer_2': 'Depthwise2D', 'layer_2_dwconv2d_fsize': 4, 'layer_2_dwconv2d_ssize': 4, 'activation_2': 'relu', 'output_dropout': 0.5509336430640952, 'lr_inicial': 0.0014259078993832937}. Best is trial 85 with value: 0.9800000190734863.\n"
     ]
    },
    {
     "name": "stdout",
     "output_type": "stream",
     "text": [
      "INFO:tensorflow:Assets written to: saved_models/exp6_aug_calib/best_model_t155/assets\n"
     ]
    },
    {
     "name": "stderr",
     "output_type": "stream",
     "text": [
      "INFO:tensorflow:Assets written to: saved_models/exp6_aug_calib/best_model_t155/assets\n",
      "[I 2024-02-01 15:19:00,179] Trial 155 finished with value: 0.8399999737739563 and parameters: {'batchsize': 32, 'brightness_factor': 0.1424916473053845, 'gaussian_noise_factor': 0.10703372836432672, 'translate_factor': 0.1944850846230773, 'num_layers': 3, 'layer_0': 'Pointwise2D', 'layer_0_pwconv2d_filters': 20, 'layer_0_pwconv2d_ssize': 2, 'activation_0': 'tanh', 'layer_1': 'Conv2D', 'layer_1_conv2d_filters': 24, 'layer_1_conv2d_fsize': 5, 'layer_1_conv2d_ssize': 2, 'activation_1': 'tanh', 'layer_2': 'Depthwise2D', 'layer_2_dwconv2d_fsize': 4, 'layer_2_dwconv2d_ssize': 4, 'activation_2': 'relu', 'output_dropout': 0.5378377140977392, 'lr_inicial': 0.0013743568503983765}. Best is trial 85 with value: 0.9800000190734863.\n"
     ]
    },
    {
     "name": "stdout",
     "output_type": "stream",
     "text": [
      "INFO:tensorflow:Assets written to: saved_models/exp6_aug_calib/best_model_t156/assets\n"
     ]
    },
    {
     "name": "stderr",
     "output_type": "stream",
     "text": [
      "INFO:tensorflow:Assets written to: saved_models/exp6_aug_calib/best_model_t156/assets\n",
      "[I 2024-02-01 15:19:17,872] Trial 156 finished with value: 0.8999999761581421 and parameters: {'batchsize': 32, 'brightness_factor': 0.1588176379910477, 'gaussian_noise_factor': 0.011130182298737691, 'translate_factor': 0.1833988434403474, 'num_layers': 3, 'layer_0': 'Pointwise2D', 'layer_0_pwconv2d_filters': 20, 'layer_0_pwconv2d_ssize': 2, 'activation_0': 'tanh', 'layer_1': 'Pointwise2D', 'layer_1_pwconv2d_filters': 28, 'layer_1_pwconv2d_ssize': 4, 'activation_1': 'tanh', 'layer_2': 'Depthwise2D', 'layer_2_dwconv2d_fsize': 4, 'layer_2_dwconv2d_ssize': 4, 'activation_2': 'relu', 'output_dropout': 0.31568648160734236, 'lr_inicial': 0.0017921537145828}. Best is trial 85 with value: 0.9800000190734863.\n"
     ]
    },
    {
     "name": "stdout",
     "output_type": "stream",
     "text": [
      "INFO:tensorflow:Assets written to: saved_models/exp6_aug_calib/best_model_t157/assets\n"
     ]
    },
    {
     "name": "stderr",
     "output_type": "stream",
     "text": [
      "INFO:tensorflow:Assets written to: saved_models/exp6_aug_calib/best_model_t157/assets\n",
      "[I 2024-02-01 15:19:39,274] Trial 157 finished with value: 0.9399999976158142 and parameters: {'batchsize': 32, 'brightness_factor': 0.12792174205812817, 'gaussian_noise_factor': 0.01761174570408379, 'translate_factor': 0.1767216747429329, 'num_layers': 3, 'layer_0': 'Pointwise2D', 'layer_0_pwconv2d_filters': 20, 'layer_0_pwconv2d_ssize': 2, 'activation_0': 'tanh', 'layer_1': 'Conv2D', 'layer_1_conv2d_filters': 28, 'layer_1_conv2d_fsize': 5, 'layer_1_conv2d_ssize': 2, 'activation_1': 'tanh', 'layer_2': 'Depthwise2D', 'layer_2_dwconv2d_fsize': 4, 'layer_2_dwconv2d_ssize': 4, 'activation_2': 'relu', 'output_dropout': 0.5317858682398087, 'lr_inicial': 0.001508024866341472}. Best is trial 85 with value: 0.9800000190734863.\n"
     ]
    },
    {
     "name": "stdout",
     "output_type": "stream",
     "text": [
      "INFO:tensorflow:Assets written to: saved_models/exp6_aug_calib/best_model_t158/assets\n"
     ]
    },
    {
     "name": "stderr",
     "output_type": "stream",
     "text": [
      "INFO:tensorflow:Assets written to: saved_models/exp6_aug_calib/best_model_t158/assets\n",
      "[I 2024-02-01 15:19:59,543] Trial 158 finished with value: 0.9399999976158142 and parameters: {'batchsize': 32, 'brightness_factor': 0.15172681949862604, 'gaussian_noise_factor': 0.0038283953128322038, 'translate_factor': 0.16300859742696844, 'num_layers': 3, 'layer_0': 'Pointwise2D', 'layer_0_pwconv2d_filters': 20, 'layer_0_pwconv2d_ssize': 2, 'activation_0': 'linear', 'layer_1': 'Conv2D', 'layer_1_conv2d_filters': 24, 'layer_1_conv2d_fsize': 5, 'layer_1_conv2d_ssize': 2, 'activation_1': 'tanh', 'layer_2': 'Depthwise2D', 'layer_2_dwconv2d_fsize': 4, 'layer_2_dwconv2d_ssize': 4, 'activation_2': 'relu', 'output_dropout': 0.5014751117094853, 'lr_inicial': 0.0010630542554424306}. Best is trial 85 with value: 0.9800000190734863.\n"
     ]
    },
    {
     "name": "stdout",
     "output_type": "stream",
     "text": [
      "INFO:tensorflow:Assets written to: saved_models/exp6_aug_calib/best_model_t159/assets\n"
     ]
    },
    {
     "name": "stderr",
     "output_type": "stream",
     "text": [
      "INFO:tensorflow:Assets written to: saved_models/exp6_aug_calib/best_model_t159/assets\n",
      "[I 2024-02-01 15:20:20,859] Trial 159 finished with value: 0.9399999976158142 and parameters: {'batchsize': 32, 'brightness_factor': 0.1482120800623294, 'gaussian_noise_factor': 0.007266866486458428, 'translate_factor': 0.1898285958278548, 'num_layers': 3, 'layer_0': 'Pointwise2D', 'layer_0_pwconv2d_filters': 20, 'layer_0_pwconv2d_ssize': 2, 'activation_0': 'tanh', 'layer_1': 'Conv2D', 'layer_1_conv2d_filters': 24, 'layer_1_conv2d_fsize': 5, 'layer_1_conv2d_ssize': 2, 'activation_1': 'tanh', 'layer_2': 'Depthwise2D', 'layer_2_dwconv2d_fsize': 4, 'layer_2_dwconv2d_ssize': 4, 'activation_2': 'relu', 'output_dropout': 0.5196950423021748, 'lr_inicial': 0.0012897424619182022}. Best is trial 85 with value: 0.9800000190734863.\n"
     ]
    },
    {
     "name": "stdout",
     "output_type": "stream",
     "text": [
      "INFO:tensorflow:Assets written to: saved_models/exp6_aug_calib/best_model_t160/assets\n"
     ]
    },
    {
     "name": "stderr",
     "output_type": "stream",
     "text": [
      "INFO:tensorflow:Assets written to: saved_models/exp6_aug_calib/best_model_t160/assets\n",
      "[I 2024-02-01 15:20:44,809] Trial 160 finished with value: 0.8600000143051147 and parameters: {'batchsize': 32, 'brightness_factor': 0.15477155608534643, 'gaussian_noise_factor': 0.014039949817735946, 'translate_factor': 0.16669743074673143, 'num_layers': 3, 'layer_0': 'Pointwise2D', 'layer_0_pwconv2d_filters': 20, 'layer_0_pwconv2d_ssize': 2, 'activation_0': 'tanh', 'layer_1': 'Conv2D', 'layer_1_conv2d_filters': 24, 'layer_1_conv2d_fsize': 5, 'layer_1_conv2d_ssize': 2, 'activation_1': 'tanh', 'layer_2': 'Depthwise2D', 'layer_2_dwconv2d_fsize': 4, 'layer_2_dwconv2d_ssize': 4, 'activation_2': 'relu', 'output_dropout': 0.5142942002098799, 'lr_inicial': 0.00032188107999471413}. Best is trial 85 with value: 0.9800000190734863.\n"
     ]
    },
    {
     "name": "stdout",
     "output_type": "stream",
     "text": [
      "INFO:tensorflow:Assets written to: saved_models/exp6_aug_calib/best_model_t161/assets\n"
     ]
    },
    {
     "name": "stderr",
     "output_type": "stream",
     "text": [
      "INFO:tensorflow:Assets written to: saved_models/exp6_aug_calib/best_model_t161/assets\n",
      "[I 2024-02-01 15:21:02,313] Trial 161 finished with value: 0.8999999761581421 and parameters: {'batchsize': 32, 'brightness_factor': 0.14868418980655146, 'gaussian_noise_factor': 0.005382790074376307, 'translate_factor': 0.19427115999025418, 'num_layers': 3, 'layer_0': 'Pointwise2D', 'layer_0_pwconv2d_filters': 20, 'layer_0_pwconv2d_ssize': 3, 'activation_0': 'tanh', 'layer_1': 'Conv2D', 'layer_1_conv2d_filters': 24, 'layer_1_conv2d_fsize': 5, 'layer_1_conv2d_ssize': 2, 'activation_1': 'tanh', 'layer_2': 'Depthwise2D', 'layer_2_dwconv2d_fsize': 4, 'layer_2_dwconv2d_ssize': 4, 'activation_2': 'relu', 'output_dropout': 0.5291512687857951, 'lr_inicial': 0.0013200061039642297}. Best is trial 85 with value: 0.9800000190734863.\n"
     ]
    },
    {
     "name": "stdout",
     "output_type": "stream",
     "text": [
      "INFO:tensorflow:Assets written to: saved_models/exp6_aug_calib/best_model_t162/assets\n"
     ]
    },
    {
     "name": "stderr",
     "output_type": "stream",
     "text": [
      "INFO:tensorflow:Assets written to: saved_models/exp6_aug_calib/best_model_t162/assets\n",
      "[I 2024-02-01 15:21:19,520] Trial 162 finished with value: 0.9599999785423279 and parameters: {'batchsize': 32, 'brightness_factor': 0.17943360972049044, 'gaussian_noise_factor': 0.003321389759884627, 'translate_factor': 0.19187699763052124, 'num_layers': 3, 'layer_0': 'Pointwise2D', 'layer_0_pwconv2d_filters': 20, 'layer_0_pwconv2d_ssize': 3, 'activation_0': 'tanh', 'layer_1': 'Conv2D', 'layer_1_conv2d_filters': 24, 'layer_1_conv2d_fsize': 5, 'layer_1_conv2d_ssize': 2, 'activation_1': 'tanh', 'layer_2': 'Depthwise2D', 'layer_2_dwconv2d_fsize': 4, 'layer_2_dwconv2d_ssize': 4, 'activation_2': 'relu', 'output_dropout': 0.5250857886608444, 'lr_inicial': 0.0012370184163145784}. Best is trial 85 with value: 0.9800000190734863.\n"
     ]
    },
    {
     "name": "stdout",
     "output_type": "stream",
     "text": [
      "INFO:tensorflow:Assets written to: saved_models/exp6_aug_calib/best_model_t163/assets\n"
     ]
    },
    {
     "name": "stderr",
     "output_type": "stream",
     "text": [
      "INFO:tensorflow:Assets written to: saved_models/exp6_aug_calib/best_model_t163/assets\n",
      "[I 2024-02-01 15:21:40,917] Trial 163 finished with value: 0.9599999785423279 and parameters: {'batchsize': 32, 'brightness_factor': 0.18625695668207187, 'gaussian_noise_factor': 0.01015461322011338, 'translate_factor': 0.18698273004131488, 'num_layers': 3, 'layer_0': 'Pointwise2D', 'layer_0_pwconv2d_filters': 20, 'layer_0_pwconv2d_ssize': 2, 'activation_0': 'tanh', 'layer_1': 'Conv2D', 'layer_1_conv2d_filters': 24, 'layer_1_conv2d_fsize': 5, 'layer_1_conv2d_ssize': 2, 'activation_1': 'tanh', 'layer_2': 'Depthwise2D', 'layer_2_dwconv2d_fsize': 4, 'layer_2_dwconv2d_ssize': 4, 'activation_2': 'relu', 'output_dropout': 0.5199359755027885, 'lr_inicial': 0.0011686503905771984}. Best is trial 85 with value: 0.9800000190734863.\n"
     ]
    },
    {
     "name": "stdout",
     "output_type": "stream",
     "text": [
      "INFO:tensorflow:Assets written to: saved_models/exp6_aug_calib/best_model_t164/assets\n"
     ]
    },
    {
     "name": "stderr",
     "output_type": "stream",
     "text": [
      "INFO:tensorflow:Assets written to: saved_models/exp6_aug_calib/best_model_t164/assets\n",
      "[I 2024-02-01 15:22:02,356] Trial 164 finished with value: 0.9599999785423279 and parameters: {'batchsize': 32, 'brightness_factor': 0.18288031702202945, 'gaussian_noise_factor': 0.010337639981738216, 'translate_factor': 0.1816385590730088, 'num_layers': 3, 'layer_0': 'Pointwise2D', 'layer_0_pwconv2d_filters': 20, 'layer_0_pwconv2d_ssize': 2, 'activation_0': 'tanh', 'layer_1': 'Conv2D', 'layer_1_conv2d_filters': 24, 'layer_1_conv2d_fsize': 5, 'layer_1_conv2d_ssize': 2, 'activation_1': 'tanh', 'layer_2': 'Depthwise2D', 'layer_2_dwconv2d_fsize': 4, 'layer_2_dwconv2d_ssize': 4, 'activation_2': 'relu', 'output_dropout': 0.5095933685983647, 'lr_inicial': 0.0011748674833703546}. Best is trial 85 with value: 0.9800000190734863.\n"
     ]
    },
    {
     "name": "stdout",
     "output_type": "stream",
     "text": [
      "INFO:tensorflow:Assets written to: saved_models/exp6_aug_calib/best_model_t165/assets\n"
     ]
    },
    {
     "name": "stderr",
     "output_type": "stream",
     "text": [
      "INFO:tensorflow:Assets written to: saved_models/exp6_aug_calib/best_model_t165/assets\n",
      "[I 2024-02-01 15:22:23,728] Trial 165 finished with value: 0.9399999976158142 and parameters: {'batchsize': 32, 'brightness_factor': 0.19473345614984647, 'gaussian_noise_factor': 0.018900996921116995, 'translate_factor': 0.1870524780449044, 'num_layers': 3, 'layer_0': 'Pointwise2D', 'layer_0_pwconv2d_filters': 20, 'layer_0_pwconv2d_ssize': 2, 'activation_0': 'tanh', 'layer_1': 'Conv2D', 'layer_1_conv2d_filters': 24, 'layer_1_conv2d_fsize': 5, 'layer_1_conv2d_ssize': 2, 'activation_1': 'tanh', 'layer_2': 'Depthwise2D', 'layer_2_dwconv2d_fsize': 4, 'layer_2_dwconv2d_ssize': 4, 'activation_2': 'relu', 'output_dropout': 0.5243099687140754, 'lr_inicial': 0.001240859589670955}. Best is trial 85 with value: 0.9800000190734863.\n"
     ]
    },
    {
     "name": "stdout",
     "output_type": "stream",
     "text": [
      "INFO:tensorflow:Assets written to: saved_models/exp6_aug_calib/best_model_t166/assets\n"
     ]
    },
    {
     "name": "stderr",
     "output_type": "stream",
     "text": [
      "INFO:tensorflow:Assets written to: saved_models/exp6_aug_calib/best_model_t166/assets\n",
      "[I 2024-02-01 15:22:43,789] Trial 166 finished with value: 0.8999999761581421 and parameters: {'batchsize': 32, 'brightness_factor': 0.18625519096279322, 'gaussian_noise_factor': 0.008359765939834184, 'translate_factor': 0.18160698160966846, 'num_layers': 3, 'layer_0': 'Pointwise2D', 'layer_0_pwconv2d_filters': 16, 'layer_0_pwconv2d_ssize': 2, 'activation_0': 'tanh', 'layer_1': 'Conv2D', 'layer_1_conv2d_filters': 24, 'layer_1_conv2d_fsize': 5, 'layer_1_conv2d_ssize': 2, 'activation_1': 'tanh', 'layer_2': 'Depthwise2D', 'layer_2_dwconv2d_fsize': 4, 'layer_2_dwconv2d_ssize': 4, 'activation_2': 'relu', 'output_dropout': 0.516034769180291, 'lr_inicial': 0.0011452780728333624}. Best is trial 85 with value: 0.9800000190734863.\n"
     ]
    },
    {
     "name": "stdout",
     "output_type": "stream",
     "text": [
      "INFO:tensorflow:Assets written to: saved_models/exp6_aug_calib/best_model_t167/assets\n"
     ]
    },
    {
     "name": "stderr",
     "output_type": "stream",
     "text": [
      "INFO:tensorflow:Assets written to: saved_models/exp6_aug_calib/best_model_t167/assets\n",
      "[I 2024-02-01 15:23:05,385] Trial 167 finished with value: 0.9200000166893005 and parameters: {'batchsize': 32, 'brightness_factor': 0.1777560368734506, 'gaussian_noise_factor': 0.0031810502533770554, 'translate_factor': 0.174068608783827, 'num_layers': 3, 'layer_0': 'Pointwise2D', 'layer_0_pwconv2d_filters': 20, 'layer_0_pwconv2d_ssize': 2, 'activation_0': 'tanh', 'layer_1': 'Conv2D', 'layer_1_conv2d_filters': 24, 'layer_1_conv2d_fsize': 5, 'layer_1_conv2d_ssize': 2, 'activation_1': 'linear', 'layer_2': 'Depthwise2D', 'layer_2_dwconv2d_fsize': 4, 'layer_2_dwconv2d_ssize': 4, 'activation_2': 'relu', 'output_dropout': 0.4946761808551215, 'lr_inicial': 0.0011942966155663263}. Best is trial 85 with value: 0.9800000190734863.\n"
     ]
    },
    {
     "name": "stdout",
     "output_type": "stream",
     "text": [
      "INFO:tensorflow:Assets written to: saved_models/exp6_aug_calib/best_model_t168/assets\n"
     ]
    },
    {
     "name": "stderr",
     "output_type": "stream",
     "text": [
      "INFO:tensorflow:Assets written to: saved_models/exp6_aug_calib/best_model_t168/assets\n",
      "[I 2024-02-01 15:23:23,361] Trial 168 finished with value: 0.800000011920929 and parameters: {'batchsize': 32, 'brightness_factor': 0.18126868149285855, 'gaussian_noise_factor': 0.014978615685698825, 'translate_factor': 0.18737487773889513, 'num_layers': 2, 'layer_0': 'Pointwise2D', 'layer_0_pwconv2d_filters': 20, 'layer_0_pwconv2d_ssize': 2, 'activation_0': 'tanh', 'layer_1': 'Conv2D', 'layer_1_conv2d_filters': 20, 'layer_1_conv2d_fsize': 5, 'layer_1_conv2d_ssize': 6, 'activation_1': 'tanh', 'output_dropout': 0.5029756471743079, 'lr_inicial': 0.0012654104723703727}. Best is trial 85 with value: 0.9800000190734863.\n"
     ]
    },
    {
     "name": "stdout",
     "output_type": "stream",
     "text": [
      "INFO:tensorflow:Assets written to: saved_models/exp6_aug_calib/best_model_t169/assets\n"
     ]
    },
    {
     "name": "stderr",
     "output_type": "stream",
     "text": [
      "INFO:tensorflow:Assets written to: saved_models/exp6_aug_calib/best_model_t169/assets\n",
      "[I 2024-02-01 15:23:48,038] Trial 169 finished with value: 0.9599999785423279 and parameters: {'batchsize': 32, 'brightness_factor': 0.17024010147655705, 'gaussian_noise_factor': 0.024437912560519078, 'translate_factor': 0.17028164563702125, 'num_layers': 3, 'layer_0': 'Pointwise2D', 'layer_0_pwconv2d_filters': 20, 'layer_0_pwconv2d_ssize': 2, 'activation_0': 'tanh', 'layer_1': 'Conv2D', 'layer_1_conv2d_filters': 24, 'layer_1_conv2d_fsize': 4, 'layer_1_conv2d_ssize': 2, 'activation_1': 'tanh', 'layer_2': 'Depthwise2D', 'layer_2_dwconv2d_fsize': 5, 'layer_2_dwconv2d_ssize': 4, 'activation_2': 'relu', 'output_dropout': 0.5247381479735692, 'lr_inicial': 0.0010992548603313977}. Best is trial 85 with value: 0.9800000190734863.\n"
     ]
    },
    {
     "name": "stdout",
     "output_type": "stream",
     "text": [
      "INFO:tensorflow:Assets written to: saved_models/exp6_aug_calib/best_model_t170/assets\n"
     ]
    },
    {
     "name": "stderr",
     "output_type": "stream",
     "text": [
      "INFO:tensorflow:Assets written to: saved_models/exp6_aug_calib/best_model_t170/assets\n",
      "[I 2024-02-01 15:24:09,661] Trial 170 finished with value: 0.9599999785423279 and parameters: {'batchsize': 32, 'brightness_factor': 0.16810489964436268, 'gaussian_noise_factor': 0.010997293844220952, 'translate_factor': 0.1967052161905435, 'num_layers': 3, 'layer_0': 'Pointwise2D', 'layer_0_pwconv2d_filters': 20, 'layer_0_pwconv2d_ssize': 2, 'activation_0': 'tanh', 'layer_1': 'Conv2D', 'layer_1_conv2d_filters': 28, 'layer_1_conv2d_fsize': 5, 'layer_1_conv2d_ssize': 2, 'activation_1': 'tanh', 'layer_2': 'Depthwise2D', 'layer_2_dwconv2d_fsize': 4, 'layer_2_dwconv2d_ssize': 4, 'activation_2': 'relu', 'output_dropout': 0.5326072962675226, 'lr_inicial': 0.0013979204903181387}. Best is trial 85 with value: 0.9800000190734863.\n"
     ]
    },
    {
     "name": "stdout",
     "output_type": "stream",
     "text": [
      "INFO:tensorflow:Assets written to: saved_models/exp6_aug_calib/best_model_t171/assets\n"
     ]
    },
    {
     "name": "stderr",
     "output_type": "stream",
     "text": [
      "INFO:tensorflow:Assets written to: saved_models/exp6_aug_calib/best_model_t171/assets\n",
      "[I 2024-02-01 15:24:32,839] Trial 171 finished with value: 0.8999999761581421 and parameters: {'batchsize': 32, 'brightness_factor': 0.19070077400153893, 'gaussian_noise_factor': 0.009919573091643812, 'translate_factor': 0.18196517152187455, 'num_layers': 3, 'layer_0': 'Pointwise2D', 'layer_0_pwconv2d_filters': 20, 'layer_0_pwconv2d_ssize': 2, 'activation_0': 'tanh', 'layer_1': 'Conv2D', 'layer_1_conv2d_filters': 24, 'layer_1_conv2d_fsize': 5, 'layer_1_conv2d_ssize': 2, 'activation_1': 'tanh', 'layer_2': 'Depthwise2D', 'layer_2_dwconv2d_fsize': 4, 'layer_2_dwconv2d_ssize': 4, 'activation_2': 'relu', 'output_dropout': 0.5108578376199286, 'lr_inicial': 0.001187572537774334}. Best is trial 85 with value: 0.9800000190734863.\n"
     ]
    },
    {
     "name": "stdout",
     "output_type": "stream",
     "text": [
      "INFO:tensorflow:Assets written to: saved_models/exp6_aug_calib/best_model_t172/assets\n"
     ]
    },
    {
     "name": "stderr",
     "output_type": "stream",
     "text": [
      "INFO:tensorflow:Assets written to: saved_models/exp6_aug_calib/best_model_t172/assets\n",
      "[I 2024-02-01 15:24:54,376] Trial 172 finished with value: 0.8999999761581421 and parameters: {'batchsize': 32, 'brightness_factor': 0.1837859200956923, 'gaussian_noise_factor': 0.005377211028961136, 'translate_factor': 0.17817115632732988, 'num_layers': 3, 'layer_0': 'Pointwise2D', 'layer_0_pwconv2d_filters': 20, 'layer_0_pwconv2d_ssize': 2, 'activation_0': 'tanh', 'layer_1': 'Conv2D', 'layer_1_conv2d_filters': 24, 'layer_1_conv2d_fsize': 5, 'layer_1_conv2d_ssize': 2, 'activation_1': 'tanh', 'layer_2': 'Depthwise2D', 'layer_2_dwconv2d_fsize': 4, 'layer_2_dwconv2d_ssize': 4, 'activation_2': 'relu', 'output_dropout': 0.5075576167442283, 'lr_inicial': 0.0011398240447979533}. Best is trial 85 with value: 0.9800000190734863.\n"
     ]
    },
    {
     "name": "stdout",
     "output_type": "stream",
     "text": [
      "INFO:tensorflow:Assets written to: saved_models/exp6_aug_calib/best_model_t173/assets\n"
     ]
    },
    {
     "name": "stderr",
     "output_type": "stream",
     "text": [
      "INFO:tensorflow:Assets written to: saved_models/exp6_aug_calib/best_model_t173/assets\n",
      "[I 2024-02-01 15:25:16,010] Trial 173 finished with value: 0.8999999761581421 and parameters: {'batchsize': 32, 'brightness_factor': 0.17308478978301403, 'gaussian_noise_factor': 0.012158691435437855, 'translate_factor': 0.19123901050800296, 'num_layers': 3, 'layer_0': 'Pointwise2D', 'layer_0_pwconv2d_filters': 20, 'layer_0_pwconv2d_ssize': 2, 'activation_0': 'tanh', 'layer_1': 'Conv2D', 'layer_1_conv2d_filters': 24, 'layer_1_conv2d_fsize': 5, 'layer_1_conv2d_ssize': 2, 'activation_1': 'tanh', 'layer_2': 'Depthwise2D', 'layer_2_dwconv2d_fsize': 4, 'layer_2_dwconv2d_ssize': 4, 'activation_2': 'relu', 'output_dropout': 0.5186423257653721, 'lr_inicial': 0.0012237552164987163}. Best is trial 85 with value: 0.9800000190734863.\n"
     ]
    },
    {
     "name": "stdout",
     "output_type": "stream",
     "text": [
      "INFO:tensorflow:Assets written to: saved_models/exp6_aug_calib/best_model_t174/assets\n"
     ]
    },
    {
     "name": "stderr",
     "output_type": "stream",
     "text": [
      "INFO:tensorflow:Assets written to: saved_models/exp6_aug_calib/best_model_t174/assets\n",
      "[I 2024-02-01 15:25:37,555] Trial 174 finished with value: 0.9200000166893005 and parameters: {'batchsize': 32, 'brightness_factor': 0.19078018764997084, 'gaussian_noise_factor': 0.007227564187877926, 'translate_factor': 0.18357971575300486, 'num_layers': 3, 'layer_0': 'Pointwise2D', 'layer_0_pwconv2d_filters': 20, 'layer_0_pwconv2d_ssize': 2, 'activation_0': 'tanh', 'layer_1': 'Conv2D', 'layer_1_conv2d_filters': 24, 'layer_1_conv2d_fsize': 5, 'layer_1_conv2d_ssize': 2, 'activation_1': 'tanh', 'layer_2': 'Depthwise2D', 'layer_2_dwconv2d_fsize': 4, 'layer_2_dwconv2d_ssize': 4, 'activation_2': 'relu', 'output_dropout': 0.5096371237894614, 'lr_inicial': 0.0013442589983362879}. Best is trial 85 with value: 0.9800000190734863.\n"
     ]
    },
    {
     "name": "stdout",
     "output_type": "stream",
     "text": [
      "INFO:tensorflow:Assets written to: saved_models/exp6_aug_calib/best_model_t175/assets\n"
     ]
    },
    {
     "name": "stderr",
     "output_type": "stream",
     "text": [
      "INFO:tensorflow:Assets written to: saved_models/exp6_aug_calib/best_model_t175/assets\n",
      "[I 2024-02-01 15:25:58,888] Trial 175 finished with value: 0.9399999976158142 and parameters: {'batchsize': 32, 'brightness_factor': 0.17906676043295672, 'gaussian_noise_factor': 0.003922448895631934, 'translate_factor': 0.17752296926772304, 'num_layers': 3, 'layer_0': 'Pointwise2D', 'layer_0_pwconv2d_filters': 20, 'layer_0_pwconv2d_ssize': 2, 'activation_0': 'tanh', 'layer_1': 'Conv2D', 'layer_1_conv2d_filters': 24, 'layer_1_conv2d_fsize': 5, 'layer_1_conv2d_ssize': 2, 'activation_1': 'tanh', 'layer_2': 'Depthwise2D', 'layer_2_dwconv2d_fsize': 3, 'layer_2_dwconv2d_ssize': 4, 'activation_2': 'relu', 'output_dropout': 0.5264557803399724, 'lr_inicial': 0.0012714939300395994}. Best is trial 85 with value: 0.9800000190734863.\n"
     ]
    },
    {
     "name": "stdout",
     "output_type": "stream",
     "text": [
      "INFO:tensorflow:Assets written to: saved_models/exp6_aug_calib/best_model_t176/assets\n"
     ]
    },
    {
     "name": "stderr",
     "output_type": "stream",
     "text": [
      "INFO:tensorflow:Assets written to: saved_models/exp6_aug_calib/best_model_t176/assets\n",
      "[I 2024-02-01 15:26:20,350] Trial 176 finished with value: 0.9599999785423279 and parameters: {'batchsize': 32, 'brightness_factor': 0.18271867777342382, 'gaussian_noise_factor': 0.00038203863132777556, 'translate_factor': 0.1867250096010841, 'num_layers': 3, 'layer_0': 'Pointwise2D', 'layer_0_pwconv2d_filters': 20, 'layer_0_pwconv2d_ssize': 2, 'activation_0': 'tanh', 'layer_1': 'Conv2D', 'layer_1_conv2d_filters': 24, 'layer_1_conv2d_fsize': 5, 'layer_1_conv2d_ssize': 2, 'activation_1': 'tanh', 'layer_2': 'Depthwise2D', 'layer_2_dwconv2d_fsize': 4, 'layer_2_dwconv2d_ssize': 4, 'activation_2': 'relu', 'output_dropout': 0.517231773999013, 'lr_inicial': 0.00115931904621953}. Best is trial 85 with value: 0.9800000190734863.\n"
     ]
    },
    {
     "name": "stdout",
     "output_type": "stream",
     "text": [
      "INFO:tensorflow:Assets written to: saved_models/exp6_aug_calib/best_model_t177/assets\n"
     ]
    },
    {
     "name": "stderr",
     "output_type": "stream",
     "text": [
      "INFO:tensorflow:Assets written to: saved_models/exp6_aug_calib/best_model_t177/assets\n",
      "[I 2024-02-01 15:26:35,003] Trial 177 finished with value: 0.7599999904632568 and parameters: {'batchsize': 32, 'brightness_factor': 0.16129222349343258, 'gaussian_noise_factor': 0.016577219077447004, 'translate_factor': 0.1724461951499248, 'num_layers': 3, 'layer_0': 'Depthwise2D', 'layer_0_dwconv2d_fsize': 5, 'layer_0_dwconv2d_ssize': 4, 'activation_0': 'tanh', 'layer_1': 'Depthwise2D', 'layer_1_dwconv2d_fsize': 4, 'layer_1_dwconv2d_ssize': 3, 'activation_1': 'tanh', 'layer_2': 'Depthwise2D', 'layer_2_dwconv2d_fsize': 4, 'layer_2_dwconv2d_ssize': 4, 'activation_2': 'relu', 'output_dropout': 0.48530650458205266, 'lr_inicial': 0.0014507866097399097}. Best is trial 85 with value: 0.9800000190734863.\n"
     ]
    },
    {
     "name": "stdout",
     "output_type": "stream",
     "text": [
      "INFO:tensorflow:Assets written to: saved_models/exp6_aug_calib/best_model_t178/assets\n"
     ]
    },
    {
     "name": "stderr",
     "output_type": "stream",
     "text": [
      "INFO:tensorflow:Assets written to: saved_models/exp6_aug_calib/best_model_t178/assets\n",
      "[I 2024-02-01 15:27:00,781] Trial 178 finished with value: 0.8799999952316284 and parameters: {'batchsize': 32, 'brightness_factor': 0.17756323445444352, 'gaussian_noise_factor': 0.010020903905109894, 'translate_factor': 0.19898830491535874, 'num_layers': 3, 'layer_0': 'Conv2D', 'layer_0_conv2d_filters': 8, 'layer_0_conv2d_fsize': 3, 'layer_0_conv2d_ssize': 2, 'activation_0': 'tanh', 'layer_1': 'Conv2D', 'layer_1_conv2d_filters': 32, 'layer_1_conv2d_fsize': 5, 'layer_1_conv2d_ssize': 2, 'activation_1': 'tanh', 'layer_2': 'Pointwise2D', 'layer_2_pwconv2d_filters': 28, 'layer_2_pwconv2d_ssize': 5, 'activation_2': 'tanh', 'output_dropout': 0.5365745917183921, 'lr_inicial': 0.0015628886582238703}. Best is trial 85 with value: 0.9800000190734863.\n"
     ]
    },
    {
     "name": "stdout",
     "output_type": "stream",
     "text": [
      "INFO:tensorflow:Assets written to: saved_models/exp6_aug_calib/best_model_t179/assets\n"
     ]
    },
    {
     "name": "stderr",
     "output_type": "stream",
     "text": [
      "INFO:tensorflow:Assets written to: saved_models/exp6_aug_calib/best_model_t179/assets\n",
      "[I 2024-02-01 15:27:15,736] Trial 179 finished with value: 0.699999988079071 and parameters: {'batchsize': 32, 'brightness_factor': 0.1890035836897154, 'gaussian_noise_factor': 0.021207687757619754, 'translate_factor': 0.19118949373420502, 'num_layers': 1, 'layer_0': 'Pointwise2D', 'layer_0_pwconv2d_filters': 20, 'layer_0_pwconv2d_ssize': 4, 'activation_0': 'linear', 'output_dropout': 0.5043571759767574, 'lr_inicial': 0.0013007936074837057}. Best is trial 85 with value: 0.9800000190734863.\n"
     ]
    },
    {
     "name": "stdout",
     "output_type": "stream",
     "text": [
      "INFO:tensorflow:Assets written to: saved_models/exp6_aug_calib/best_model_t180/assets\n"
     ]
    },
    {
     "name": "stderr",
     "output_type": "stream",
     "text": [
      "INFO:tensorflow:Assets written to: saved_models/exp6_aug_calib/best_model_t180/assets\n",
      "[I 2024-02-01 15:27:36,829] Trial 180 finished with value: 0.9599999785423279 and parameters: {'batchsize': 32, 'brightness_factor': 0.19694497871249925, 'gaussian_noise_factor': 0.01254585953879752, 'translate_factor': 0.18349982431489215, 'num_layers': 3, 'layer_0': 'Pointwise2D', 'layer_0_pwconv2d_filters': 20, 'layer_0_pwconv2d_ssize': 2, 'activation_0': 'tanh', 'layer_1': 'Conv2D', 'layer_1_conv2d_filters': 24, 'layer_1_conv2d_fsize': 5, 'layer_1_conv2d_ssize': 2, 'activation_1': 'linear', 'layer_2': 'Depthwise2D', 'layer_2_dwconv2d_fsize': 4, 'layer_2_dwconv2d_ssize': 4, 'activation_2': 'relu', 'output_dropout': 0.4697289239525452, 'lr_inicial': 0.001490102308768532}. Best is trial 85 with value: 0.9800000190734863.\n"
     ]
    },
    {
     "name": "stdout",
     "output_type": "stream",
     "text": [
      "INFO:tensorflow:Assets written to: saved_models/exp6_aug_calib/best_model_t181/assets\n"
     ]
    },
    {
     "name": "stderr",
     "output_type": "stream",
     "text": [
      "INFO:tensorflow:Assets written to: saved_models/exp6_aug_calib/best_model_t181/assets\n",
      "[I 2024-02-01 15:27:57,343] Trial 181 finished with value: 0.9200000166893005 and parameters: {'batchsize': 32, 'brightness_factor': 0.1734183261991232, 'gaussian_noise_factor': 0.0072683627859299205, 'translate_factor': 0.1696948647137408, 'num_layers': 3, 'layer_0': 'Pointwise2D', 'layer_0_pwconv2d_filters': 20, 'layer_0_pwconv2d_ssize': 2, 'activation_0': 'tanh', 'layer_1': 'Conv2D', 'layer_1_conv2d_filters': 24, 'layer_1_conv2d_fsize': 4, 'layer_1_conv2d_ssize': 2, 'activation_1': 'tanh', 'layer_2': 'Depthwise2D', 'layer_2_dwconv2d_fsize': 5, 'layer_2_dwconv2d_ssize': 3, 'activation_2': 'relu', 'output_dropout': 0.5249105745180042, 'lr_inicial': 0.0010939849627244868}. Best is trial 85 with value: 0.9800000190734863.\n"
     ]
    },
    {
     "name": "stdout",
     "output_type": "stream",
     "text": [
      "INFO:tensorflow:Assets written to: saved_models/exp6_aug_calib/best_model_t182/assets\n"
     ]
    },
    {
     "name": "stderr",
     "output_type": "stream",
     "text": [
      "INFO:tensorflow:Assets written to: saved_models/exp6_aug_calib/best_model_t182/assets\n",
      "[I 2024-02-01 15:28:17,343] Trial 182 finished with value: 0.9200000166893005 and parameters: {'batchsize': 32, 'brightness_factor': 0.16973942566202338, 'gaussian_noise_factor': 0.02525702488437253, 'translate_factor': 0.1797991823125856, 'num_layers': 3, 'layer_0': 'Pointwise2D', 'layer_0_pwconv2d_filters': 20, 'layer_0_pwconv2d_ssize': 2, 'activation_0': 'tanh', 'layer_1': 'Conv2D', 'layer_1_conv2d_filters': 24, 'layer_1_conv2d_fsize': 4, 'layer_1_conv2d_ssize': 2, 'activation_1': 'tanh', 'layer_2': 'Depthwise2D', 'layer_2_dwconv2d_fsize': 5, 'layer_2_dwconv2d_ssize': 4, 'activation_2': 'relu', 'output_dropout': 0.5241580507491208, 'lr_inicial': 0.0011087616493235767}. Best is trial 85 with value: 0.9800000190734863.\n"
     ]
    },
    {
     "name": "stdout",
     "output_type": "stream",
     "text": [
      "INFO:tensorflow:Assets written to: saved_models/exp6_aug_calib/best_model_t183/assets\n"
     ]
    },
    {
     "name": "stderr",
     "output_type": "stream",
     "text": [
      "INFO:tensorflow:Assets written to: saved_models/exp6_aug_calib/best_model_t183/assets\n",
      "[I 2024-02-01 15:28:37,588] Trial 183 finished with value: 0.9200000166893005 and parameters: {'batchsize': 32, 'brightness_factor': 0.15841858110797077, 'gaussian_noise_factor': 0.004315101783695055, 'translate_factor': 0.17402986067272952, 'num_layers': 3, 'layer_0': 'Pointwise2D', 'layer_0_pwconv2d_filters': 20, 'layer_0_pwconv2d_ssize': 2, 'activation_0': 'tanh', 'layer_1': 'Conv2D', 'layer_1_conv2d_filters': 24, 'layer_1_conv2d_fsize': 4, 'layer_1_conv2d_ssize': 2, 'activation_1': 'tanh', 'layer_2': 'Depthwise2D', 'layer_2_dwconv2d_fsize': 5, 'layer_2_dwconv2d_ssize': 4, 'activation_2': 'relu', 'output_dropout': 0.5127506939872754, 'lr_inicial': 0.0012202733424116772}. Best is trial 85 with value: 0.9800000190734863.\n"
     ]
    },
    {
     "name": "stdout",
     "output_type": "stream",
     "text": [
      "INFO:tensorflow:Assets written to: saved_models/exp6_aug_calib/best_model_t184/assets\n"
     ]
    },
    {
     "name": "stderr",
     "output_type": "stream",
     "text": [
      "INFO:tensorflow:Assets written to: saved_models/exp6_aug_calib/best_model_t184/assets\n",
      "[I 2024-02-01 15:29:00,497] Trial 184 finished with value: 0.9399999976158142 and parameters: {'batchsize': 32, 'brightness_factor': 0.1651185976343956, 'gaussian_noise_factor': 0.015484573735012552, 'translate_factor': 0.1679584155186576, 'num_layers': 3, 'layer_0': 'Pointwise2D', 'layer_0_pwconv2d_filters': 20, 'layer_0_pwconv2d_ssize': 2, 'activation_0': 'tanh', 'layer_1': 'Conv2D', 'layer_1_conv2d_filters': 24, 'layer_1_conv2d_fsize': 5, 'layer_1_conv2d_ssize': 2, 'activation_1': 'tanh', 'layer_2': 'Depthwise2D', 'layer_2_dwconv2d_fsize': 4, 'layer_2_dwconv2d_ssize': 4, 'activation_2': 'relu', 'output_dropout': 0.5209276046961848, 'lr_inicial': 0.0010316070622601698}. Best is trial 85 with value: 0.9800000190734863.\n"
     ]
    },
    {
     "name": "stdout",
     "output_type": "stream",
     "text": [
      "INFO:tensorflow:Assets written to: saved_models/exp6_aug_calib/best_model_t185/assets\n"
     ]
    },
    {
     "name": "stderr",
     "output_type": "stream",
     "text": [
      "INFO:tensorflow:Assets written to: saved_models/exp6_aug_calib/best_model_t185/assets\n",
      "[I 2024-02-01 15:29:20,841] Trial 185 finished with value: 0.9200000166893005 and parameters: {'batchsize': 32, 'brightness_factor': 0.1542892040604551, 'gaussian_noise_factor': 0.00011169818194321302, 'translate_factor': 0.15476671512573767, 'num_layers': 3, 'layer_0': 'Pointwise2D', 'layer_0_pwconv2d_filters': 20, 'layer_0_pwconv2d_ssize': 2, 'activation_0': 'tanh', 'layer_1': 'Conv2D', 'layer_1_conv2d_filters': 24, 'layer_1_conv2d_fsize': 4, 'layer_1_conv2d_ssize': 2, 'activation_1': 'tanh', 'layer_2': 'Depthwise2D', 'layer_2_dwconv2d_fsize': 4, 'layer_2_dwconv2d_ssize': 4, 'activation_2': 'relu', 'output_dropout': 0.5300943461066917, 'lr_inicial': 0.0010671099072030138}. Best is trial 85 with value: 0.9800000190734863.\n"
     ]
    },
    {
     "name": "stdout",
     "output_type": "stream",
     "text": [
      "INFO:tensorflow:Assets written to: saved_models/exp6_aug_calib/best_model_t186/assets\n"
     ]
    },
    {
     "name": "stderr",
     "output_type": "stream",
     "text": [
      "INFO:tensorflow:Assets written to: saved_models/exp6_aug_calib/best_model_t186/assets\n",
      "[I 2024-02-01 15:29:44,925] Trial 186 finished with value: 0.9200000166893005 and parameters: {'batchsize': 32, 'brightness_factor': 0.1813723132741217, 'gaussian_noise_factor': 0.0072727914978935135, 'translate_factor': 0.1870662033260533, 'num_layers': 3, 'layer_0': 'Pointwise2D', 'layer_0_pwconv2d_filters': 20, 'layer_0_pwconv2d_ssize': 2, 'activation_0': 'tanh', 'layer_1': 'Conv2D', 'layer_1_conv2d_filters': 24, 'layer_1_conv2d_fsize': 5, 'layer_1_conv2d_ssize': 2, 'activation_1': 'tanh', 'layer_2': 'Depthwise2D', 'layer_2_dwconv2d_fsize': 5, 'layer_2_dwconv2d_ssize': 4, 'activation_2': 'relu', 'output_dropout': 0.539522839814039, 'lr_inicial': 0.0011719290311890777}. Best is trial 85 with value: 0.9800000190734863.\n"
     ]
    },
    {
     "name": "stdout",
     "output_type": "stream",
     "text": [
      "INFO:tensorflow:Assets written to: saved_models/exp6_aug_calib/best_model_t187/assets\n"
     ]
    },
    {
     "name": "stderr",
     "output_type": "stream",
     "text": [
      "INFO:tensorflow:Assets written to: saved_models/exp6_aug_calib/best_model_t187/assets\n",
      "[I 2024-02-01 15:30:03,194] Trial 187 finished with value: 0.7799999713897705 and parameters: {'batchsize': 32, 'brightness_factor': 0.14461553397851334, 'gaussian_noise_factor': 0.08740798942189144, 'translate_factor': 0.18007163324491188, 'num_layers': 3, 'layer_0': 'Pointwise2D', 'layer_0_pwconv2d_filters': 20, 'layer_0_pwconv2d_ssize': 2, 'activation_0': 'tanh', 'layer_1': 'Pointwise2D', 'layer_1_pwconv2d_filters': 32, 'layer_1_pwconv2d_ssize': 5, 'activation_1': 'tanh', 'layer_2': 'Depthwise2D', 'layer_2_dwconv2d_fsize': 4, 'layer_2_dwconv2d_ssize': 4, 'activation_2': 'relu', 'output_dropout': 0.5573353714947447, 'lr_inicial': 0.0013335148874750432}. Best is trial 85 with value: 0.9800000190734863.\n"
     ]
    },
    {
     "name": "stdout",
     "output_type": "stream",
     "text": [
      "INFO:tensorflow:Assets written to: saved_models/exp6_aug_calib/best_model_t188/assets\n"
     ]
    },
    {
     "name": "stderr",
     "output_type": "stream",
     "text": [
      "INFO:tensorflow:Assets written to: saved_models/exp6_aug_calib/best_model_t188/assets\n",
      "[I 2024-02-01 15:30:20,424] Trial 188 finished with value: 0.8999999761581421 and parameters: {'batchsize': 32, 'brightness_factor': 0.16224222791752016, 'gaussian_noise_factor': 0.0109159668435305, 'translate_factor': 0.17533037508452104, 'num_layers': 3, 'layer_0': 'Pointwise2D', 'layer_0_pwconv2d_filters': 20, 'layer_0_pwconv2d_ssize': 3, 'activation_0': 'tanh', 'layer_1': 'Conv2D', 'layer_1_conv2d_filters': 24, 'layer_1_conv2d_fsize': 5, 'layer_1_conv2d_ssize': 2, 'activation_1': 'tanh', 'layer_2': 'Depthwise2D', 'layer_2_dwconv2d_fsize': 4, 'layer_2_dwconv2d_ssize': 4, 'activation_2': 'relu', 'output_dropout': 0.5189047273358578, 'lr_inicial': 0.0013978275783203106}. Best is trial 85 with value: 0.9800000190734863.\n"
     ]
    },
    {
     "name": "stdout",
     "output_type": "stream",
     "text": [
      "INFO:tensorflow:Assets written to: saved_models/exp6_aug_calib/best_model_t189/assets\n"
     ]
    },
    {
     "name": "stderr",
     "output_type": "stream",
     "text": [
      "INFO:tensorflow:Assets written to: saved_models/exp6_aug_calib/best_model_t189/assets\n",
      "[I 2024-02-01 15:30:41,542] Trial 189 finished with value: 0.9200000166893005 and parameters: {'batchsize': 32, 'brightness_factor': 0.13522350472298258, 'gaussian_noise_factor': 0.018827606159692496, 'translate_factor': 0.19515527864187715, 'num_layers': 3, 'layer_0': 'Pointwise2D', 'layer_0_pwconv2d_filters': 24, 'layer_0_pwconv2d_ssize': 2, 'activation_0': 'tanh', 'layer_1': 'Conv2D', 'layer_1_conv2d_filters': 24, 'layer_1_conv2d_fsize': 3, 'layer_1_conv2d_ssize': 2, 'activation_1': 'tanh', 'layer_2': 'Depthwise2D', 'layer_2_dwconv2d_fsize': 4, 'layer_2_dwconv2d_ssize': 4, 'activation_2': 'relu', 'output_dropout': 0.5104906085883774, 'lr_inicial': 0.0012207965457877797}. Best is trial 85 with value: 0.9800000190734863.\n"
     ]
    },
    {
     "name": "stdout",
     "output_type": "stream",
     "text": [
      "INFO:tensorflow:Assets written to: saved_models/exp6_aug_calib/best_model_t190/assets\n"
     ]
    },
    {
     "name": "stderr",
     "output_type": "stream",
     "text": [
      "INFO:tensorflow:Assets written to: saved_models/exp6_aug_calib/best_model_t190/assets\n",
      "[I 2024-02-01 15:31:03,149] Trial 190 finished with value: 0.8600000143051147 and parameters: {'batchsize': 32, 'brightness_factor': 0.10740835609741704, 'gaussian_noise_factor': 0.0035173349362120215, 'translate_factor': 0.19000320537177237, 'num_layers': 3, 'layer_0': 'Pointwise2D', 'layer_0_pwconv2d_filters': 20, 'layer_0_pwconv2d_ssize': 2, 'activation_0': 'tanh', 'layer_1': 'Conv2D', 'layer_1_conv2d_filters': 24, 'layer_1_conv2d_fsize': 5, 'layer_1_conv2d_ssize': 2, 'activation_1': 'tanh', 'layer_2': 'Depthwise2D', 'layer_2_dwconv2d_fsize': 4, 'layer_2_dwconv2d_ssize': 4, 'activation_2': 'relu', 'output_dropout': 0.49804221716636815, 'lr_inicial': 0.0011206879768897264}. Best is trial 85 with value: 0.9800000190734863.\n"
     ]
    },
    {
     "name": "stdout",
     "output_type": "stream",
     "text": [
      "INFO:tensorflow:Assets written to: saved_models/exp6_aug_calib/best_model_t191/assets\n"
     ]
    },
    {
     "name": "stderr",
     "output_type": "stream",
     "text": [
      "INFO:tensorflow:Assets written to: saved_models/exp6_aug_calib/best_model_t191/assets\n",
      "[I 2024-02-01 15:31:25,024] Trial 191 finished with value: 0.9399999976158142 and parameters: {'batchsize': 32, 'brightness_factor': 0.1685140542519742, 'gaussian_noise_factor': 0.011085195545465385, 'translate_factor': 0.19901537410742798, 'num_layers': 3, 'layer_0': 'Pointwise2D', 'layer_0_pwconv2d_filters': 20, 'layer_0_pwconv2d_ssize': 2, 'activation_0': 'tanh', 'layer_1': 'Conv2D', 'layer_1_conv2d_filters': 28, 'layer_1_conv2d_fsize': 5, 'layer_1_conv2d_ssize': 2, 'activation_1': 'tanh', 'layer_2': 'Depthwise2D', 'layer_2_dwconv2d_fsize': 4, 'layer_2_dwconv2d_ssize': 4, 'activation_2': 'relu', 'output_dropout': 0.5324602244603794, 'lr_inicial': 0.001398047066130236}. Best is trial 85 with value: 0.9800000190734863.\n"
     ]
    },
    {
     "name": "stdout",
     "output_type": "stream",
     "text": [
      "INFO:tensorflow:Assets written to: saved_models/exp6_aug_calib/best_model_t192/assets\n"
     ]
    },
    {
     "name": "stderr",
     "output_type": "stream",
     "text": [
      "INFO:tensorflow:Assets written to: saved_models/exp6_aug_calib/best_model_t192/assets\n",
      "[I 2024-02-01 15:31:46,716] Trial 192 finished with value: 0.9599999785423279 and parameters: {'batchsize': 32, 'brightness_factor': 0.16801163975272598, 'gaussian_noise_factor': 0.013571625651146486, 'translate_factor': 0.19581959851836722, 'num_layers': 3, 'layer_0': 'Pointwise2D', 'layer_0_pwconv2d_filters': 20, 'layer_0_pwconv2d_ssize': 2, 'activation_0': 'tanh', 'layer_1': 'Conv2D', 'layer_1_conv2d_filters': 28, 'layer_1_conv2d_fsize': 5, 'layer_1_conv2d_ssize': 2, 'activation_1': 'tanh', 'layer_2': 'Depthwise2D', 'layer_2_dwconv2d_fsize': 4, 'layer_2_dwconv2d_ssize': 4, 'activation_2': 'relu', 'output_dropout': 0.5331448957612837, 'lr_inicial': 0.0013613526355812145}. Best is trial 85 with value: 0.9800000190734863.\n"
     ]
    },
    {
     "name": "stdout",
     "output_type": "stream",
     "text": [
      "INFO:tensorflow:Assets written to: saved_models/exp6_aug_calib/best_model_t193/assets\n"
     ]
    },
    {
     "name": "stderr",
     "output_type": "stream",
     "text": [
      "INFO:tensorflow:Assets written to: saved_models/exp6_aug_calib/best_model_t193/assets\n",
      "[I 2024-02-01 15:32:07,968] Trial 193 finished with value: 0.9599999785423279 and parameters: {'batchsize': 32, 'brightness_factor': 0.17550722762777446, 'gaussian_noise_factor': 0.008406983349569366, 'translate_factor': 0.19320321910219262, 'num_layers': 3, 'layer_0': 'Pointwise2D', 'layer_0_pwconv2d_filters': 20, 'layer_0_pwconv2d_ssize': 2, 'activation_0': 'tanh', 'layer_1': 'Conv2D', 'layer_1_conv2d_filters': 20, 'layer_1_conv2d_fsize': 5, 'layer_1_conv2d_ssize': 2, 'activation_1': 'tanh', 'layer_2': 'Depthwise2D', 'layer_2_dwconv2d_fsize': 4, 'layer_2_dwconv2d_ssize': 4, 'activation_2': 'relu', 'output_dropout': 0.5447123476093919, 'lr_inicial': 0.0014507100717496182}. Best is trial 85 with value: 0.9800000190734863.\n"
     ]
    },
    {
     "name": "stdout",
     "output_type": "stream",
     "text": [
      "INFO:tensorflow:Assets written to: saved_models/exp6_aug_calib/best_model_t194/assets\n"
     ]
    },
    {
     "name": "stderr",
     "output_type": "stream",
     "text": [
      "INFO:tensorflow:Assets written to: saved_models/exp6_aug_calib/best_model_t194/assets\n",
      "[I 2024-02-01 15:32:30,993] Trial 194 finished with value: 0.9200000166893005 and parameters: {'batchsize': 32, 'brightness_factor': 0.15070767073720434, 'gaussian_noise_factor': 0.003350361733881235, 'translate_factor': 0.18485728844830118, 'num_layers': 3, 'layer_0': 'Pointwise2D', 'layer_0_pwconv2d_filters': 20, 'layer_0_pwconv2d_ssize': 2, 'activation_0': 'tanh', 'layer_1': 'Conv2D', 'layer_1_conv2d_filters': 32, 'layer_1_conv2d_fsize': 5, 'layer_1_conv2d_ssize': 2, 'activation_1': 'tanh', 'layer_2': 'Depthwise2D', 'layer_2_dwconv2d_fsize': 4, 'layer_2_dwconv2d_ssize': 4, 'activation_2': 'relu', 'output_dropout': 0.5264174266330129, 'lr_inicial': 0.0012792377831616652}. Best is trial 85 with value: 0.9800000190734863.\n"
     ]
    },
    {
     "name": "stdout",
     "output_type": "stream",
     "text": [
      "INFO:tensorflow:Assets written to: saved_models/exp6_aug_calib/best_model_t195/assets\n"
     ]
    },
    {
     "name": "stderr",
     "output_type": "stream",
     "text": [
      "INFO:tensorflow:Assets written to: saved_models/exp6_aug_calib/best_model_t195/assets\n",
      "[I 2024-02-01 15:32:52,393] Trial 195 finished with value: 0.9599999785423279 and parameters: {'batchsize': 32, 'brightness_factor': 0.15816588154951836, 'gaussian_noise_factor': 0.009556667499818726, 'translate_factor': 0.18947701170137793, 'num_layers': 3, 'layer_0': 'Pointwise2D', 'layer_0_pwconv2d_filters': 20, 'layer_0_pwconv2d_ssize': 2, 'activation_0': 'tanh', 'layer_1': 'Conv2D', 'layer_1_conv2d_filters': 24, 'layer_1_conv2d_fsize': 5, 'layer_1_conv2d_ssize': 2, 'activation_1': 'tanh', 'layer_2': 'Depthwise2D', 'layer_2_dwconv2d_fsize': 4, 'layer_2_dwconv2d_ssize': 5, 'activation_2': 'relu', 'output_dropout': 0.5165357837892401, 'lr_inicial': 0.0015471575062860165}. Best is trial 85 with value: 0.9800000190734863.\n"
     ]
    },
    {
     "name": "stdout",
     "output_type": "stream",
     "text": [
      "INFO:tensorflow:Assets written to: saved_models/exp6_aug_calib/best_model_t196/assets\n"
     ]
    },
    {
     "name": "stderr",
     "output_type": "stream",
     "text": [
      "INFO:tensorflow:Assets written to: saved_models/exp6_aug_calib/best_model_t196/assets\n",
      "[I 2024-02-01 15:33:09,709] Trial 196 finished with value: 0.9399999976158142 and parameters: {'batchsize': 32, 'brightness_factor': 0.16525426237303859, 'gaussian_noise_factor': 0.01654060585803109, 'translate_factor': 0.18186701613011313, 'num_layers': 3, 'layer_0': 'Pointwise2D', 'layer_0_pwconv2d_filters': 20, 'layer_0_pwconv2d_ssize': 3, 'activation_0': 'tanh', 'layer_1': 'Conv2D', 'layer_1_conv2d_filters': 28, 'layer_1_conv2d_fsize': 5, 'layer_1_conv2d_ssize': 2, 'activation_1': 'tanh', 'layer_2': 'Depthwise2D', 'layer_2_dwconv2d_fsize': 4, 'layer_2_dwconv2d_ssize': 4, 'activation_2': 'relu', 'output_dropout': 0.5311794091057241, 'lr_inicial': 0.0014087279072886973}. Best is trial 85 with value: 0.9800000190734863.\n"
     ]
    },
    {
     "name": "stdout",
     "output_type": "stream",
     "text": [
      "INFO:tensorflow:Assets written to: saved_models/exp6_aug_calib/best_model_t197/assets\n"
     ]
    },
    {
     "name": "stderr",
     "output_type": "stream",
     "text": [
      "INFO:tensorflow:Assets written to: saved_models/exp6_aug_calib/best_model_t197/assets\n",
      "[I 2024-02-01 15:33:31,300] Trial 197 finished with value: 0.8799999952316284 and parameters: {'batchsize': 32, 'brightness_factor': 0.14073259264380444, 'gaussian_noise_factor': 0.006424798602009055, 'translate_factor': 0.17125237652058695, 'num_layers': 3, 'layer_0': 'Pointwise2D', 'layer_0_pwconv2d_filters': 20, 'layer_0_pwconv2d_ssize': 2, 'activation_0': 'tanh', 'layer_1': 'Conv2D', 'layer_1_conv2d_filters': 24, 'layer_1_conv2d_fsize': 4, 'layer_1_conv2d_ssize': 2, 'activation_1': 'linear', 'layer_2': 'Depthwise2D', 'layer_2_dwconv2d_fsize': 4, 'layer_2_dwconv2d_ssize': 4, 'activation_2': 'relu', 'output_dropout': 0.5222512375703968, 'lr_inicial': 0.001180034253628908}. Best is trial 85 with value: 0.9800000190734863.\n"
     ]
    },
    {
     "name": "stdout",
     "output_type": "stream",
     "text": [
      "INFO:tensorflow:Assets written to: saved_models/exp6_aug_calib/best_model_t198/assets\n"
     ]
    },
    {
     "name": "stderr",
     "output_type": "stream",
     "text": [
      "INFO:tensorflow:Assets written to: saved_models/exp6_aug_calib/best_model_t198/assets\n",
      "[I 2024-02-01 15:33:48,782] Trial 198 finished with value: 0.9200000166893005 and parameters: {'batchsize': 32, 'brightness_factor': 0.15539664096072678, 'gaussian_noise_factor': 0.00010040987748579852, 'translate_factor': 0.19993695708288664, 'num_layers': 3, 'layer_0': 'Pointwise2D', 'layer_0_pwconv2d_filters': 20, 'layer_0_pwconv2d_ssize': 3, 'activation_0': 'tanh', 'layer_1': 'Conv2D', 'layer_1_conv2d_filters': 24, 'layer_1_conv2d_fsize': 5, 'layer_1_conv2d_ssize': 2, 'activation_1': 'tanh', 'layer_2': 'Depthwise2D', 'layer_2_dwconv2d_fsize': 4, 'layer_2_dwconv2d_ssize': 4, 'activation_2': 'relu', 'output_dropout': 0.5368257818180678, 'lr_inicial': 0.0013125215842127408}. Best is trial 85 with value: 0.9800000190734863.\n"
     ]
    },
    {
     "name": "stdout",
     "output_type": "stream",
     "text": [
      "INFO:tensorflow:Assets written to: saved_models/exp6_aug_calib/best_model_t199/assets\n"
     ]
    },
    {
     "name": "stderr",
     "output_type": "stream",
     "text": [
      "INFO:tensorflow:Assets written to: saved_models/exp6_aug_calib/best_model_t199/assets\n",
      "[I 2024-02-01 15:34:11,336] Trial 199 finished with value: 0.9399999976158142 and parameters: {'batchsize': 32, 'brightness_factor': 0.17040251622368174, 'gaussian_noise_factor': 0.012054786162754006, 'translate_factor': 0.17707268452627112, 'num_layers': 3, 'layer_0': 'Pointwise2D', 'layer_0_pwconv2d_filters': 24, 'layer_0_pwconv2d_ssize': 2, 'activation_0': 'tanh', 'layer_1': 'Conv2D', 'layer_1_conv2d_filters': 24, 'layer_1_conv2d_fsize': 5, 'layer_1_conv2d_ssize': 2, 'activation_1': 'tanh', 'layer_2': 'Depthwise2D', 'layer_2_dwconv2d_fsize': 4, 'layer_2_dwconv2d_ssize': 4, 'activation_2': 'relu', 'output_dropout': 0.5061768891704099, 'lr_inicial': 0.0012448718939713785}. Best is trial 85 with value: 0.9800000190734863.\n"
     ]
    },
    {
     "name": "stdout",
     "output_type": "stream",
     "text": [
      "INFO:tensorflow:Assets written to: saved_models/exp6_aug_calib/best_model_t200/assets\n"
     ]
    },
    {
     "name": "stderr",
     "output_type": "stream",
     "text": [
      "INFO:tensorflow:Assets written to: saved_models/exp6_aug_calib/best_model_t200/assets\n",
      "[I 2024-02-01 15:34:37,383] Trial 200 finished with value: 0.9200000166893005 and parameters: {'batchsize': 128, 'brightness_factor': 0.18557168132628568, 'gaussian_noise_factor': 0.021426067412186417, 'translate_factor': 0.16244924129893365, 'num_layers': 3, 'layer_0': 'Pointwise2D', 'layer_0_pwconv2d_filters': 20, 'layer_0_pwconv2d_ssize': 2, 'activation_0': 'tanh', 'layer_1': 'Conv2D', 'layer_1_conv2d_filters': 24, 'layer_1_conv2d_fsize': 5, 'layer_1_conv2d_ssize': 2, 'activation_1': 'tanh', 'layer_2': 'Depthwise2D', 'layer_2_dwconv2d_fsize': 4, 'layer_2_dwconv2d_ssize': 4, 'activation_2': 'relu', 'output_dropout': 0.5139604071216024, 'lr_inicial': 0.0013627917746805614}. Best is trial 85 with value: 0.9800000190734863.\n"
     ]
    },
    {
     "name": "stdout",
     "output_type": "stream",
     "text": [
      "INFO:tensorflow:Assets written to: saved_models/exp6_aug_calib/best_model_t201/assets\n"
     ]
    },
    {
     "name": "stderr",
     "output_type": "stream",
     "text": [
      "INFO:tensorflow:Assets written to: saved_models/exp6_aug_calib/best_model_t201/assets\n",
      "[I 2024-02-01 15:34:58,820] Trial 201 finished with value: 0.9200000166893005 and parameters: {'batchsize': 32, 'brightness_factor': 0.1826697110789501, 'gaussian_noise_factor': 0.00411676665291765, 'translate_factor': 0.1866247066319172, 'num_layers': 3, 'layer_0': 'Pointwise2D', 'layer_0_pwconv2d_filters': 20, 'layer_0_pwconv2d_ssize': 2, 'activation_0': 'tanh', 'layer_1': 'Conv2D', 'layer_1_conv2d_filters': 24, 'layer_1_conv2d_fsize': 5, 'layer_1_conv2d_ssize': 2, 'activation_1': 'tanh', 'layer_2': 'Depthwise2D', 'layer_2_dwconv2d_fsize': 4, 'layer_2_dwconv2d_ssize': 4, 'activation_2': 'relu', 'output_dropout': 0.5190063283727062, 'lr_inicial': 0.001149813924690114}. Best is trial 85 with value: 0.9800000190734863.\n"
     ]
    },
    {
     "name": "stdout",
     "output_type": "stream",
     "text": [
      "INFO:tensorflow:Assets written to: saved_models/exp6_aug_calib/best_model_t202/assets\n"
     ]
    },
    {
     "name": "stderr",
     "output_type": "stream",
     "text": [
      "INFO:tensorflow:Assets written to: saved_models/exp6_aug_calib/best_model_t202/assets\n",
      "[I 2024-02-01 15:35:20,200] Trial 202 finished with value: 0.9599999785423279 and parameters: {'batchsize': 32, 'brightness_factor': 0.1814364316864246, 'gaussian_noise_factor': 0.0025394107496183446, 'translate_factor': 0.18705951609490581, 'num_layers': 3, 'layer_0': 'Pointwise2D', 'layer_0_pwconv2d_filters': 20, 'layer_0_pwconv2d_ssize': 2, 'activation_0': 'tanh', 'layer_1': 'Conv2D', 'layer_1_conv2d_filters': 24, 'layer_1_conv2d_fsize': 5, 'layer_1_conv2d_ssize': 2, 'activation_1': 'tanh', 'layer_2': 'Depthwise2D', 'layer_2_dwconv2d_fsize': 4, 'layer_2_dwconv2d_ssize': 4, 'activation_2': 'relu', 'output_dropout': 0.5260118709305065, 'lr_inicial': 0.0011543454405493353}. Best is trial 85 with value: 0.9800000190734863.\n"
     ]
    },
    {
     "name": "stdout",
     "output_type": "stream",
     "text": [
      "INFO:tensorflow:Assets written to: saved_models/exp6_aug_calib/best_model_t203/assets\n"
     ]
    },
    {
     "name": "stderr",
     "output_type": "stream",
     "text": [
      "INFO:tensorflow:Assets written to: saved_models/exp6_aug_calib/best_model_t203/assets\n",
      "[I 2024-02-01 15:35:41,471] Trial 203 finished with value: 0.9200000166893005 and parameters: {'batchsize': 32, 'brightness_factor': 0.17622923267952567, 'gaussian_noise_factor': 0.0005352501147515617, 'translate_factor': 0.19355168305141843, 'num_layers': 3, 'layer_0': 'Pointwise2D', 'layer_0_pwconv2d_filters': 20, 'layer_0_pwconv2d_ssize': 2, 'activation_0': 'tanh', 'layer_1': 'Conv2D', 'layer_1_conv2d_filters': 24, 'layer_1_conv2d_fsize': 5, 'layer_1_conv2d_ssize': 2, 'activation_1': 'tanh', 'layer_2': 'Depthwise2D', 'layer_2_dwconv2d_fsize': 4, 'layer_2_dwconv2d_ssize': 4, 'activation_2': 'relu', 'output_dropout': 0.512045352601415, 'lr_inicial': 0.0011970001082067642}. Best is trial 85 with value: 0.9800000190734863.\n"
     ]
    },
    {
     "name": "stdout",
     "output_type": "stream",
     "text": [
      "INFO:tensorflow:Assets written to: saved_models/exp6_aug_calib/best_model_t204/assets\n"
     ]
    },
    {
     "name": "stderr",
     "output_type": "stream",
     "text": [
      "INFO:tensorflow:Assets written to: saved_models/exp6_aug_calib/best_model_t204/assets\n",
      "[I 2024-02-01 15:36:02,637] Trial 204 finished with value: 0.9200000166893005 and parameters: {'batchsize': 32, 'brightness_factor': 0.18590811315583997, 'gaussian_noise_factor': 0.007440288427477875, 'translate_factor': 0.18428338605642547, 'num_layers': 3, 'layer_0': 'Pointwise2D', 'layer_0_pwconv2d_filters': 20, 'layer_0_pwconv2d_ssize': 2, 'activation_0': 'tanh', 'layer_1': 'Conv2D', 'layer_1_conv2d_filters': 24, 'layer_1_conv2d_fsize': 5, 'layer_1_conv2d_ssize': 2, 'activation_1': 'tanh', 'layer_2': 'Depthwise2D', 'layer_2_dwconv2d_fsize': 4, 'layer_2_dwconv2d_ssize': 4, 'activation_2': 'relu', 'output_dropout': 0.5194223762558438, 'lr_inicial': 0.0014840484030455817}. Best is trial 85 with value: 0.9800000190734863.\n"
     ]
    },
    {
     "name": "stdout",
     "output_type": "stream",
     "text": [
      "INFO:tensorflow:Assets written to: saved_models/exp6_aug_calib/best_model_t205/assets\n"
     ]
    },
    {
     "name": "stderr",
     "output_type": "stream",
     "text": [
      "INFO:tensorflow:Assets written to: saved_models/exp6_aug_calib/best_model_t205/assets\n",
      "[I 2024-02-01 15:36:23,892] Trial 205 finished with value: 0.8999999761581421 and parameters: {'batchsize': 32, 'brightness_factor': 0.1502875840145083, 'gaussian_noise_factor': 0.01061502134949774, 'translate_factor': 0.19196321171346642, 'num_layers': 3, 'layer_0': 'Pointwise2D', 'layer_0_pwconv2d_filters': 20, 'layer_0_pwconv2d_ssize': 2, 'activation_0': 'tanh', 'layer_1': 'Conv2D', 'layer_1_conv2d_filters': 24, 'layer_1_conv2d_fsize': 5, 'layer_1_conv2d_ssize': 2, 'activation_1': 'tanh', 'layer_2': 'Depthwise2D', 'layer_2_dwconv2d_fsize': 4, 'layer_2_dwconv2d_ssize': 4, 'activation_2': 'relu', 'output_dropout': 0.5414476076439254, 'lr_inicial': 0.0010751520449990512}. Best is trial 85 with value: 0.9800000190734863.\n"
     ]
    },
    {
     "name": "stdout",
     "output_type": "stream",
     "text": [
      "INFO:tensorflow:Assets written to: saved_models/exp6_aug_calib/best_model_t206/assets\n"
     ]
    },
    {
     "name": "stderr",
     "output_type": "stream",
     "text": [
      "INFO:tensorflow:Assets written to: saved_models/exp6_aug_calib/best_model_t206/assets\n",
      "[I 2024-02-01 15:36:41,903] Trial 206 finished with value: 0.7599999904632568 and parameters: {'batchsize': 32, 'brightness_factor': 0.1440157105542323, 'gaussian_noise_factor': 0.006143126768289874, 'translate_factor': 0.1803063155695836, 'num_layers': 2, 'layer_0': 'Pointwise2D', 'layer_0_pwconv2d_filters': 20, 'layer_0_pwconv2d_ssize': 2, 'activation_0': 'tanh', 'layer_1': 'Conv2D', 'layer_1_conv2d_filters': 24, 'layer_1_conv2d_fsize': 5, 'layer_1_conv2d_ssize': 7, 'activation_1': 'tanh', 'output_dropout': 0.5294083311032893, 'lr_inicial': 0.00124868437832756}. Best is trial 85 with value: 0.9800000190734863.\n"
     ]
    },
    {
     "name": "stdout",
     "output_type": "stream",
     "text": [
      "INFO:tensorflow:Assets written to: saved_models/exp6_aug_calib/best_model_t207/assets\n"
     ]
    },
    {
     "name": "stderr",
     "output_type": "stream",
     "text": [
      "INFO:tensorflow:Assets written to: saved_models/exp6_aug_calib/best_model_t207/assets\n",
      "[I 2024-02-01 15:37:04,269] Trial 207 finished with value: 0.8999999761581421 and parameters: {'batchsize': 32, 'brightness_factor': 0.17968747928989726, 'gaussian_noise_factor': 0.013164568834018151, 'translate_factor': 0.18937472717266438, 'num_layers': 3, 'layer_0': 'Pointwise2D', 'layer_0_pwconv2d_filters': 20, 'layer_0_pwconv2d_ssize': 2, 'activation_0': 'tanh', 'layer_1': 'Conv2D', 'layer_1_conv2d_filters': 24, 'layer_1_conv2d_fsize': 5, 'layer_1_conv2d_ssize': 2, 'activation_1': 'tanh', 'layer_2': 'Depthwise2D', 'layer_2_dwconv2d_fsize': 4, 'layer_2_dwconv2d_ssize': 4, 'activation_2': 'relu', 'output_dropout': 0.5523862965330172, 'lr_inicial': 0.0011109275897134487}. Best is trial 85 with value: 0.9800000190734863.\n"
     ]
    },
    {
     "name": "stdout",
     "output_type": "stream",
     "text": [
      "INFO:tensorflow:Assets written to: saved_models/exp6_aug_calib/best_model_t208/assets\n"
     ]
    },
    {
     "name": "stderr",
     "output_type": "stream",
     "text": [
      "INFO:tensorflow:Assets written to: saved_models/exp6_aug_calib/best_model_t208/assets\n",
      "[I 2024-02-01 15:37:21,244] Trial 208 finished with value: 0.9200000166893005 and parameters: {'batchsize': 32, 'brightness_factor': 0.1607442176598537, 'gaussian_noise_factor': 0.003302701539075241, 'translate_factor': 0.19636024359114343, 'num_layers': 3, 'layer_0': 'Depthwise2D', 'layer_0_dwconv2d_fsize': 4, 'layer_0_dwconv2d_ssize': 2, 'activation_0': 'linear', 'layer_1': 'Conv2D', 'layer_1_conv2d_filters': 20, 'layer_1_conv2d_fsize': 5, 'layer_1_conv2d_ssize': 2, 'activation_1': 'tanh', 'layer_2': 'Depthwise2D', 'layer_2_dwconv2d_fsize': 3, 'layer_2_dwconv2d_ssize': 4, 'activation_2': 'relu', 'output_dropout': 0.5021462317629338, 'lr_inicial': 0.0014273827504322862}. Best is trial 85 with value: 0.9800000190734863.\n"
     ]
    },
    {
     "name": "stdout",
     "output_type": "stream",
     "text": [
      "INFO:tensorflow:Assets written to: saved_models/exp6_aug_calib/best_model_t209/assets\n"
     ]
    },
    {
     "name": "stderr",
     "output_type": "stream",
     "text": [
      "INFO:tensorflow:Assets written to: saved_models/exp6_aug_calib/best_model_t209/assets\n",
      "[I 2024-02-01 15:37:37,821] Trial 209 finished with value: 0.7599999904632568 and parameters: {'batchsize': 32, 'brightness_factor': 0.15365191973236003, 'gaussian_noise_factor': 0.00016765414915652886, 'translate_factor': 0.18492688970376284, 'num_layers': 3, 'layer_0': 'Pointwise2D', 'layer_0_pwconv2d_filters': 20, 'layer_0_pwconv2d_ssize': 3, 'activation_0': 'tanh', 'layer_1': 'Depthwise2D', 'layer_1_dwconv2d_fsize': 5, 'layer_1_dwconv2d_ssize': 2, 'activation_1': 'tanh', 'layer_2': 'Pointwise2D', 'layer_2_pwconv2d_filters': 16, 'layer_2_pwconv2d_ssize': 3, 'activation_2': 'tanh', 'output_dropout': 0.5128737540623571, 'lr_inicial': 0.0011792677474673917}. Best is trial 85 with value: 0.9800000190734863.\n"
     ]
    },
    {
     "name": "stdout",
     "output_type": "stream",
     "text": [
      "INFO:tensorflow:Assets written to: saved_models/exp6_aug_calib/best_model_t210/assets\n"
     ]
    },
    {
     "name": "stderr",
     "output_type": "stream",
     "text": [
      "INFO:tensorflow:Assets written to: saved_models/exp6_aug_calib/best_model_t210/assets\n",
      "[I 2024-02-01 15:38:00,009] Trial 210 finished with value: 0.9599999785423279 and parameters: {'batchsize': 32, 'brightness_factor': 0.1745710940295512, 'gaussian_noise_factor': 0.007693790704908195, 'translate_factor': 0.17653046473623027, 'num_layers': 3, 'layer_0': 'Pointwise2D', 'layer_0_pwconv2d_filters': 16, 'layer_0_pwconv2d_ssize': 2, 'activation_0': 'tanh', 'layer_1': 'Conv2D', 'layer_1_conv2d_filters': 24, 'layer_1_conv2d_fsize': 5, 'layer_1_conv2d_ssize': 2, 'activation_1': 'tanh', 'layer_2': 'Depthwise2D', 'layer_2_dwconv2d_fsize': 5, 'layer_2_dwconv2d_ssize': 4, 'activation_2': 'relu', 'output_dropout': 0.568123402990923, 'lr_inicial': 0.0013028454207190667}. Best is trial 85 with value: 0.9800000190734863.\n"
     ]
    },
    {
     "name": "stdout",
     "output_type": "stream",
     "text": [
      "INFO:tensorflow:Assets written to: saved_models/exp6_aug_calib/best_model_t211/assets\n"
     ]
    },
    {
     "name": "stderr",
     "output_type": "stream",
     "text": [
      "INFO:tensorflow:Assets written to: saved_models/exp6_aug_calib/best_model_t211/assets\n",
      "[I 2024-02-01 15:38:21,391] Trial 211 finished with value: 0.9200000166893005 and parameters: {'batchsize': 32, 'brightness_factor': 0.1506777315286673, 'gaussian_noise_factor': 0.01456933376262847, 'translate_factor': 0.18258506729993548, 'num_layers': 3, 'layer_0': 'Pointwise2D', 'layer_0_pwconv2d_filters': 20, 'layer_0_pwconv2d_ssize': 2, 'activation_0': 'tanh', 'layer_1': 'Conv2D', 'layer_1_conv2d_filters': 24, 'layer_1_conv2d_fsize': 5, 'layer_1_conv2d_ssize': 2, 'activation_1': 'linear', 'layer_2': 'Depthwise2D', 'layer_2_dwconv2d_fsize': 4, 'layer_2_dwconv2d_ssize': 4, 'activation_2': 'relu', 'output_dropout': 0.40561220309295853, 'lr_inicial': 0.0014752175812929901}. Best is trial 85 with value: 0.9800000190734863.\n"
     ]
    },
    {
     "name": "stdout",
     "output_type": "stream",
     "text": [
      "INFO:tensorflow:Assets written to: saved_models/exp6_aug_calib/best_model_t212/assets\n"
     ]
    },
    {
     "name": "stderr",
     "output_type": "stream",
     "text": [
      "INFO:tensorflow:Assets written to: saved_models/exp6_aug_calib/best_model_t212/assets\n",
      "[I 2024-02-01 15:38:42,616] Trial 212 finished with value: 0.9399999976158142 and parameters: {'batchsize': 32, 'brightness_factor': 0.19607304525410266, 'gaussian_noise_factor': 0.010973303782065718, 'translate_factor': 0.18596886495229756, 'num_layers': 3, 'layer_0': 'Pointwise2D', 'layer_0_pwconv2d_filters': 20, 'layer_0_pwconv2d_ssize': 2, 'activation_0': 'tanh', 'layer_1': 'Conv2D', 'layer_1_conv2d_filters': 24, 'layer_1_conv2d_fsize': 5, 'layer_1_conv2d_ssize': 2, 'activation_1': 'linear', 'layer_2': 'Depthwise2D', 'layer_2_dwconv2d_fsize': 4, 'layer_2_dwconv2d_ssize': 4, 'activation_2': 'relu', 'output_dropout': 0.45512833937300234, 'lr_inicial': 0.0015154422937181404}. Best is trial 85 with value: 0.9800000190734863.\n"
     ]
    },
    {
     "name": "stdout",
     "output_type": "stream",
     "text": [
      "INFO:tensorflow:Assets written to: saved_models/exp6_aug_calib/best_model_t213/assets\n"
     ]
    },
    {
     "name": "stderr",
     "output_type": "stream",
     "text": [
      "INFO:tensorflow:Assets written to: saved_models/exp6_aug_calib/best_model_t213/assets\n",
      "[I 2024-02-01 15:39:03,761] Trial 213 finished with value: 0.9200000166893005 and parameters: {'batchsize': 32, 'brightness_factor': 0.19265481233724568, 'gaussian_noise_factor': 0.01374662807532742, 'translate_factor': 0.1805380272993962, 'num_layers': 3, 'layer_0': 'Pointwise2D', 'layer_0_pwconv2d_filters': 20, 'layer_0_pwconv2d_ssize': 2, 'activation_0': 'tanh', 'layer_1': 'Conv2D', 'layer_1_conv2d_filters': 24, 'layer_1_conv2d_fsize': 5, 'layer_1_conv2d_ssize': 2, 'activation_1': 'linear', 'layer_2': 'Depthwise2D', 'layer_2_dwconv2d_fsize': 4, 'layer_2_dwconv2d_ssize': 4, 'activation_2': 'relu', 'output_dropout': 0.5233027459195739, 'lr_inicial': 0.0015626453827581952}. Best is trial 85 with value: 0.9800000190734863.\n"
     ]
    },
    {
     "name": "stdout",
     "output_type": "stream",
     "text": [
      "INFO:tensorflow:Assets written to: saved_models/exp6_aug_calib/best_model_t214/assets\n"
     ]
    },
    {
     "name": "stderr",
     "output_type": "stream",
     "text": [
      "INFO:tensorflow:Assets written to: saved_models/exp6_aug_calib/best_model_t214/assets\n",
      "[I 2024-02-01 15:39:24,824] Trial 214 finished with value: 0.9599999785423279 and parameters: {'batchsize': 32, 'brightness_factor': 0.19551670098024101, 'gaussian_noise_factor': 0.006727638309347833, 'translate_factor': 0.18964999410235672, 'num_layers': 3, 'layer_0': 'Pointwise2D', 'layer_0_pwconv2d_filters': 20, 'layer_0_pwconv2d_ssize': 2, 'activation_0': 'tanh', 'layer_1': 'Conv2D', 'layer_1_conv2d_filters': 24, 'layer_1_conv2d_fsize': 5, 'layer_1_conv2d_ssize': 2, 'activation_1': 'linear', 'layer_2': 'Depthwise2D', 'layer_2_dwconv2d_fsize': 4, 'layer_2_dwconv2d_ssize': 4, 'activation_2': 'relu', 'output_dropout': 0.5169465237908796, 'lr_inicial': 0.0013745132277679798}. Best is trial 85 with value: 0.9800000190734863.\n"
     ]
    },
    {
     "name": "stdout",
     "output_type": "stream",
     "text": [
      "INFO:tensorflow:Assets written to: saved_models/exp6_aug_calib/best_model_t215/assets\n"
     ]
    },
    {
     "name": "stderr",
     "output_type": "stream",
     "text": [
      "INFO:tensorflow:Assets written to: saved_models/exp6_aug_calib/best_model_t215/assets\n",
      "[I 2024-02-01 15:39:49,439] Trial 215 finished with value: 0.8799999952316284 and parameters: {'batchsize': 32, 'brightness_factor': 0.18803925879361608, 'gaussian_noise_factor': 0.010157301048899392, 'translate_factor': 0.11751634646684658, 'num_layers': 3, 'layer_0': 'Pointwise2D', 'layer_0_pwconv2d_filters': 20, 'layer_0_pwconv2d_ssize': 2, 'activation_0': 'tanh', 'layer_1': 'Conv2D', 'layer_1_conv2d_filters': 24, 'layer_1_conv2d_fsize': 5, 'layer_1_conv2d_ssize': 2, 'activation_1': 'linear', 'layer_2': 'Depthwise2D', 'layer_2_dwconv2d_fsize': 4, 'layer_2_dwconv2d_ssize': 4, 'activation_2': 'relu', 'output_dropout': 0.5081716927585613, 'lr_inicial': 0.001478153212282704}. Best is trial 85 with value: 0.9800000190734863.\n"
     ]
    },
    {
     "name": "stdout",
     "output_type": "stream",
     "text": [
      "INFO:tensorflow:Assets written to: saved_models/exp6_aug_calib/best_model_t216/assets\n"
     ]
    },
    {
     "name": "stderr",
     "output_type": "stream",
     "text": [
      "INFO:tensorflow:Assets written to: saved_models/exp6_aug_calib/best_model_t216/assets\n",
      "[I 2024-02-01 15:40:03,468] Trial 216 finished with value: 0.7599999904632568 and parameters: {'batchsize': 32, 'brightness_factor': 0.1994183651808088, 'gaussian_noise_factor': 0.018226015891324467, 'translate_factor': 0.17215695499874617, 'num_layers': 1, 'layer_0': 'Pointwise2D', 'layer_0_pwconv2d_filters': 20, 'layer_0_pwconv2d_ssize': 9, 'activation_0': 'relu', 'output_dropout': 0.5333944925585461, 'lr_inicial': 0.0012153583891864968}. Best is trial 85 with value: 0.9800000190734863.\n"
     ]
    },
    {
     "name": "stdout",
     "output_type": "stream",
     "text": [
      "INFO:tensorflow:Assets written to: saved_models/exp6_aug_calib/best_model_t217/assets\n"
     ]
    },
    {
     "name": "stderr",
     "output_type": "stream",
     "text": [
      "INFO:tensorflow:Assets written to: saved_models/exp6_aug_calib/best_model_t217/assets\n",
      "[I 2024-02-01 15:40:24,569] Trial 217 finished with value: 0.9399999976158142 and parameters: {'batchsize': 32, 'brightness_factor': 0.1561622471584411, 'gaussian_noise_factor': 0.003975588547544939, 'translate_factor': 0.1833622232645228, 'num_layers': 3, 'layer_0': 'Conv2D', 'layer_0_conv2d_filters': 12, 'layer_0_conv2d_fsize': 4, 'layer_0_conv2d_ssize': 2, 'activation_0': 'tanh', 'layer_1': 'Conv2D', 'layer_1_conv2d_filters': 24, 'layer_1_conv2d_fsize': 5, 'layer_1_conv2d_ssize': 2, 'activation_1': 'tanh', 'layer_2': 'Depthwise2D', 'layer_2_dwconv2d_fsize': 4, 'layer_2_dwconv2d_ssize': 4, 'activation_2': 'relu', 'output_dropout': 0.4267161034429291, 'lr_inicial': 0.0011281538661544852}. Best is trial 85 with value: 0.9800000190734863.\n"
     ]
    },
    {
     "name": "stdout",
     "output_type": "stream",
     "text": [
      "INFO:tensorflow:Assets written to: saved_models/exp6_aug_calib/best_model_t218/assets\n"
     ]
    },
    {
     "name": "stderr",
     "output_type": "stream",
     "text": [
      "INFO:tensorflow:Assets written to: saved_models/exp6_aug_calib/best_model_t218/assets\n",
      "[I 2024-02-01 15:40:47,257] Trial 218 finished with value: 0.9800000190734863 and parameters: {'batchsize': 32, 'brightness_factor': 0.1462412720038813, 'gaussian_noise_factor': 0.008282901504451922, 'translate_factor': 0.19527108113128655, 'num_layers': 3, 'layer_0': 'Pointwise2D', 'layer_0_pwconv2d_filters': 20, 'layer_0_pwconv2d_ssize': 2, 'activation_0': 'tanh', 'layer_1': 'Conv2D', 'layer_1_conv2d_filters': 28, 'layer_1_conv2d_fsize': 5, 'layer_1_conv2d_ssize': 2, 'activation_1': 'tanh', 'layer_2': 'Depthwise2D', 'layer_2_dwconv2d_fsize': 4, 'layer_2_dwconv2d_ssize': 4, 'activation_2': 'relu', 'output_dropout': 0.49202292986413815, 'lr_inicial': 0.0016220150663832716}. Best is trial 85 with value: 0.9800000190734863.\n"
     ]
    },
    {
     "name": "stdout",
     "output_type": "stream",
     "text": [
      "INFO:tensorflow:Assets written to: saved_models/exp6_aug_calib/best_model_t219/assets\n"
     ]
    },
    {
     "name": "stderr",
     "output_type": "stream",
     "text": [
      "INFO:tensorflow:Assets written to: saved_models/exp6_aug_calib/best_model_t219/assets\n",
      "[I 2024-02-01 15:41:05,831] Trial 219 finished with value: 0.8600000143051147 and parameters: {'batchsize': 32, 'brightness_factor': 0.14811952132546277, 'gaussian_noise_factor': 0.0057000837784116, 'translate_factor': 0.1963479887680309, 'num_layers': 3, 'layer_0': 'Pointwise2D', 'layer_0_pwconv2d_filters': 4, 'layer_0_pwconv2d_ssize': 2, 'activation_0': 'tanh', 'layer_1': 'Conv2D', 'layer_1_conv2d_filters': 28, 'layer_1_conv2d_fsize': 5, 'layer_1_conv2d_ssize': 2, 'activation_1': 'tanh', 'layer_2': 'Depthwise2D', 'layer_2_dwconv2d_fsize': 4, 'layer_2_dwconv2d_ssize': 4, 'activation_2': 'relu', 'output_dropout': 0.500157275674064, 'lr_inicial': 0.001267503222251963}. Best is trial 85 with value: 0.9800000190734863.\n"
     ]
    },
    {
     "name": "stdout",
     "output_type": "stream",
     "text": [
      "INFO:tensorflow:Assets written to: saved_models/exp6_aug_calib/best_model_t220/assets\n"
     ]
    },
    {
     "name": "stderr",
     "output_type": "stream",
     "text": [
      "INFO:tensorflow:Assets written to: saved_models/exp6_aug_calib/best_model_t220/assets\n",
      "[I 2024-02-01 15:41:23,558] Trial 220 finished with value: 0.8399999737739563 and parameters: {'batchsize': 32, 'brightness_factor': 0.1449826900302321, 'gaussian_noise_factor': 0.008201488354348098, 'translate_factor': 0.19434617660807707, 'num_layers': 3, 'layer_0': 'Pointwise2D', 'layer_0_pwconv2d_filters': 20, 'layer_0_pwconv2d_ssize': 2, 'activation_0': 'tanh', 'layer_1': 'Pointwise2D', 'layer_1_pwconv2d_filters': 28, 'layer_1_pwconv2d_ssize': 5, 'activation_1': 'tanh', 'layer_2': 'Depthwise2D', 'layer_2_dwconv2d_fsize': 4, 'layer_2_dwconv2d_ssize': 4, 'activation_2': 'relu', 'output_dropout': 0.49634889045331554, 'lr_inicial': 0.001046164296100258}. Best is trial 85 with value: 0.9800000190734863.\n"
     ]
    },
    {
     "name": "stdout",
     "output_type": "stream",
     "text": [
      "INFO:tensorflow:Assets written to: saved_models/exp6_aug_calib/best_model_t221/assets\n"
     ]
    },
    {
     "name": "stderr",
     "output_type": "stream",
     "text": [
      "INFO:tensorflow:Assets written to: saved_models/exp6_aug_calib/best_model_t221/assets\n",
      "[I 2024-02-01 15:41:45,033] Trial 221 finished with value: 0.9599999785423279 and parameters: {'batchsize': 32, 'brightness_factor': 0.1392471815652474, 'gaussian_noise_factor': 0.012028124415662709, 'translate_factor': 0.1901194623860677, 'num_layers': 3, 'layer_0': 'Pointwise2D', 'layer_0_pwconv2d_filters': 20, 'layer_0_pwconv2d_ssize': 2, 'activation_0': 'tanh', 'layer_1': 'Conv2D', 'layer_1_conv2d_filters': 28, 'layer_1_conv2d_fsize': 5, 'layer_1_conv2d_ssize': 2, 'activation_1': 'tanh', 'layer_2': 'Depthwise2D', 'layer_2_dwconv2d_fsize': 4, 'layer_2_dwconv2d_ssize': 4, 'activation_2': 'relu', 'output_dropout': 0.48673400843180836, 'lr_inicial': 0.0015956780403386444}. Best is trial 85 with value: 0.9800000190734863.\n"
     ]
    },
    {
     "name": "stdout",
     "output_type": "stream",
     "text": [
      "INFO:tensorflow:Assets written to: saved_models/exp6_aug_calib/best_model_t222/assets\n"
     ]
    },
    {
     "name": "stderr",
     "output_type": "stream",
     "text": [
      "INFO:tensorflow:Assets written to: saved_models/exp6_aug_calib/best_model_t222/assets\n",
      "[I 2024-02-01 15:42:06,740] Trial 222 finished with value: 0.8999999761581421 and parameters: {'batchsize': 32, 'brightness_factor': 0.14636145809896853, 'gaussian_noise_factor': 0.004281325637594875, 'translate_factor': 0.14123484756036053, 'num_layers': 3, 'layer_0': 'Pointwise2D', 'layer_0_pwconv2d_filters': 20, 'layer_0_pwconv2d_ssize': 2, 'activation_0': 'tanh', 'layer_1': 'Conv2D', 'layer_1_conv2d_filters': 28, 'layer_1_conv2d_fsize': 5, 'layer_1_conv2d_ssize': 2, 'activation_1': 'tanh', 'layer_2': 'Depthwise2D', 'layer_2_dwconv2d_fsize': 4, 'layer_2_dwconv2d_ssize': 4, 'activation_2': 'relu', 'output_dropout': 0.4726855564325975, 'lr_inicial': 0.0014263204561872512}. Best is trial 85 with value: 0.9800000190734863.\n"
     ]
    },
    {
     "name": "stdout",
     "output_type": "stream",
     "text": [
      "INFO:tensorflow:Assets written to: saved_models/exp6_aug_calib/best_model_t223/assets\n"
     ]
    },
    {
     "name": "stderr",
     "output_type": "stream",
     "text": [
      "INFO:tensorflow:Assets written to: saved_models/exp6_aug_calib/best_model_t223/assets\n",
      "[I 2024-02-01 15:42:28,102] Trial 223 finished with value: 0.9399999976158142 and parameters: {'batchsize': 32, 'brightness_factor': 0.16410321178462564, 'gaussian_noise_factor': 0.015707381230637377, 'translate_factor': 0.1768892322802956, 'num_layers': 3, 'layer_0': 'Pointwise2D', 'layer_0_pwconv2d_filters': 20, 'layer_0_pwconv2d_ssize': 2, 'activation_0': 'tanh', 'layer_1': 'Conv2D', 'layer_1_conv2d_filters': 24, 'layer_1_conv2d_fsize': 5, 'layer_1_conv2d_ssize': 2, 'activation_1': 'tanh', 'layer_2': 'Depthwise2D', 'layer_2_dwconv2d_fsize': 4, 'layer_2_dwconv2d_ssize': 4, 'activation_2': 'relu', 'output_dropout': 0.49193069105627246, 'lr_inicial': 0.0016015950096368327}. Best is trial 85 with value: 0.9800000190734863.\n"
     ]
    },
    {
     "name": "stdout",
     "output_type": "stream",
     "text": [
      "INFO:tensorflow:Assets written to: saved_models/exp6_aug_calib/best_model_t224/assets\n"
     ]
    },
    {
     "name": "stderr",
     "output_type": "stream",
     "text": [
      "INFO:tensorflow:Assets written to: saved_models/exp6_aug_calib/best_model_t224/assets\n",
      "[I 2024-02-01 15:42:49,555] Trial 224 finished with value: 0.9200000166893005 and parameters: {'batchsize': 32, 'brightness_factor': 0.17114595004618657, 'gaussian_noise_factor': 0.00028104859133456687, 'translate_factor': 0.18646401861524609, 'num_layers': 3, 'layer_0': 'Pointwise2D', 'layer_0_pwconv2d_filters': 20, 'layer_0_pwconv2d_ssize': 2, 'activation_0': 'tanh', 'layer_1': 'Conv2D', 'layer_1_conv2d_filters': 24, 'layer_1_conv2d_fsize': 5, 'layer_1_conv2d_ssize': 2, 'activation_1': 'tanh', 'layer_2': 'Depthwise2D', 'layer_2_dwconv2d_fsize': 4, 'layer_2_dwconv2d_ssize': 4, 'activation_2': 'relu', 'output_dropout': 0.46450079192473975, 'lr_inicial': 0.001638123105304944}. Best is trial 85 with value: 0.9800000190734863.\n"
     ]
    },
    {
     "name": "stdout",
     "output_type": "stream",
     "text": [
      "INFO:tensorflow:Assets written to: saved_models/exp6_aug_calib/best_model_t225/assets\n"
     ]
    },
    {
     "name": "stderr",
     "output_type": "stream",
     "text": [
      "INFO:tensorflow:Assets written to: saved_models/exp6_aug_calib/best_model_t225/assets\n",
      "[I 2024-02-01 15:43:08,844] Trial 225 finished with value: 0.8999999761581421 and parameters: {'batchsize': 32, 'brightness_factor': 0.1513020391544681, 'gaussian_noise_factor': 0.010377595029342506, 'translate_factor': 0.19306789218143297, 'num_layers': 3, 'layer_0': 'Pointwise2D', 'layer_0_pwconv2d_filters': 20, 'layer_0_pwconv2d_ssize': 3, 'activation_0': 'tanh', 'layer_1': 'Conv2D', 'layer_1_conv2d_filters': 24, 'layer_1_conv2d_fsize': 4, 'layer_1_conv2d_ssize': 2, 'activation_1': 'linear', 'layer_2': 'Depthwise2D', 'layer_2_dwconv2d_fsize': 4, 'layer_2_dwconv2d_ssize': 4, 'activation_2': 'relu', 'output_dropout': 0.5050698443433048, 'lr_inicial': 0.0014907954127928217}. Best is trial 85 with value: 0.9800000190734863.\n"
     ]
    },
    {
     "name": "stdout",
     "output_type": "stream",
     "text": [
      "INFO:tensorflow:Assets written to: saved_models/exp6_aug_calib/best_model_t226/assets\n"
     ]
    },
    {
     "name": "stderr",
     "output_type": "stream",
     "text": [
      "INFO:tensorflow:Assets written to: saved_models/exp6_aug_calib/best_model_t226/assets\n",
      "[I 2024-02-01 15:43:29,454] Trial 226 finished with value: 0.9599999785423279 and parameters: {'batchsize': 32, 'brightness_factor': 0.1586372786600971, 'gaussian_noise_factor': 0.006254079473370177, 'translate_factor': 0.19991190163443767, 'num_layers': 3, 'layer_0': 'Pointwise2D', 'layer_0_pwconv2d_filters': 20, 'layer_0_pwconv2d_ssize': 2, 'activation_0': 'relu', 'layer_1': 'Conv2D', 'layer_1_conv2d_filters': 24, 'layer_1_conv2d_fsize': 3, 'layer_1_conv2d_ssize': 2, 'activation_1': 'tanh', 'layer_2': 'Depthwise2D', 'layer_2_dwconv2d_fsize': 4, 'layer_2_dwconv2d_ssize': 4, 'activation_2': 'relu', 'output_dropout': 0.5152480701077431, 'lr_inicial': 0.0013405879608820537}. Best is trial 85 with value: 0.9800000190734863.\n"
     ]
    },
    {
     "name": "stdout",
     "output_type": "stream",
     "text": [
      "INFO:tensorflow:Assets written to: saved_models/exp6_aug_calib/best_model_t227/assets\n"
     ]
    },
    {
     "name": "stderr",
     "output_type": "stream",
     "text": [
      "INFO:tensorflow:Assets written to: saved_models/exp6_aug_calib/best_model_t227/assets\n",
      "[I 2024-02-01 15:43:50,946] Trial 227 finished with value: 0.9399999976158142 and parameters: {'batchsize': 32, 'brightness_factor': 0.1422703748810896, 'gaussian_noise_factor': 0.008825805599067333, 'translate_factor': 0.18146106716315635, 'num_layers': 3, 'layer_0': 'Pointwise2D', 'layer_0_pwconv2d_filters': 20, 'layer_0_pwconv2d_ssize': 2, 'activation_0': 'tanh', 'layer_1': 'Conv2D', 'layer_1_conv2d_filters': 24, 'layer_1_conv2d_fsize': 5, 'layer_1_conv2d_ssize': 2, 'activation_1': 'tanh', 'layer_2': 'Depthwise2D', 'layer_2_dwconv2d_fsize': 4, 'layer_2_dwconv2d_ssize': 4, 'activation_2': 'relu', 'output_dropout': 0.5221048424373969, 'lr_inicial': 0.0011655826786074065}. Best is trial 85 with value: 0.9800000190734863.\n"
     ]
    },
    {
     "name": "stdout",
     "output_type": "stream",
     "text": [
      "INFO:tensorflow:Assets written to: saved_models/exp6_aug_calib/best_model_t228/assets\n"
     ]
    },
    {
     "name": "stderr",
     "output_type": "stream",
     "text": [
      "INFO:tensorflow:Assets written to: saved_models/exp6_aug_calib/best_model_t228/assets\n",
      "[I 2024-02-01 15:44:12,420] Trial 228 finished with value: 0.7799999713897705 and parameters: {'batchsize': 32, 'brightness_factor': 0.12399837404912346, 'gaussian_noise_factor': 0.1689359669376766, 'translate_factor': 0.18790066274427988, 'num_layers': 3, 'layer_0': 'Pointwise2D', 'layer_0_pwconv2d_filters': 20, 'layer_0_pwconv2d_ssize': 2, 'activation_0': 'tanh', 'layer_1': 'Conv2D', 'layer_1_conv2d_filters': 24, 'layer_1_conv2d_fsize': 5, 'layer_1_conv2d_ssize': 2, 'activation_1': 'tanh', 'layer_2': 'Depthwise2D', 'layer_2_dwconv2d_fsize': 5, 'layer_2_dwconv2d_ssize': 4, 'activation_2': 'relu', 'output_dropout': 0.5098355440039292, 'lr_inicial': 0.0017022753004967439}. Best is trial 85 with value: 0.9800000190734863.\n"
     ]
    },
    {
     "name": "stdout",
     "output_type": "stream",
     "text": [
      "INFO:tensorflow:Assets written to: saved_models/exp6_aug_calib/best_model_t229/assets\n"
     ]
    },
    {
     "name": "stderr",
     "output_type": "stream",
     "text": [
      "INFO:tensorflow:Assets written to: saved_models/exp6_aug_calib/best_model_t229/assets\n",
      "[I 2024-02-01 15:44:29,916] Trial 229 finished with value: 0.9599999785423279 and parameters: {'batchsize': 32, 'brightness_factor': 0.188364703535761, 'gaussian_noise_factor': 0.013124953175896785, 'translate_factor': 0.16955125750143502, 'num_layers': 3, 'layer_0': 'Pointwise2D', 'layer_0_pwconv2d_filters': 20, 'layer_0_pwconv2d_ssize': 3, 'activation_0': 'tanh', 'layer_1': 'Conv2D', 'layer_1_conv2d_filters': 28, 'layer_1_conv2d_fsize': 5, 'layer_1_conv2d_ssize': 2, 'activation_1': 'tanh', 'layer_2': 'Depthwise2D', 'layer_2_dwconv2d_fsize': 4, 'layer_2_dwconv2d_ssize': 4, 'activation_2': 'relu', 'output_dropout': 0.47763624920862147, 'lr_inicial': 0.0015349320461504922}. Best is trial 85 with value: 0.9800000190734863.\n"
     ]
    },
    {
     "name": "stdout",
     "output_type": "stream",
     "text": [
      "INFO:tensorflow:Assets written to: saved_models/exp6_aug_calib/best_model_t230/assets\n"
     ]
    },
    {
     "name": "stderr",
     "output_type": "stream",
     "text": [
      "INFO:tensorflow:Assets written to: saved_models/exp6_aug_calib/best_model_t230/assets\n",
      "[I 2024-02-01 15:44:51,804] Trial 230 finished with value: 0.9399999976158142 and parameters: {'batchsize': 32, 'brightness_factor': 0.17872564644791897, 'gaussian_noise_factor': 0.003365063833918957, 'translate_factor': 0.08429447293142184, 'num_layers': 3, 'layer_0': 'Pointwise2D', 'layer_0_pwconv2d_filters': 20, 'layer_0_pwconv2d_ssize': 2, 'activation_0': 'tanh', 'layer_1': 'Conv2D', 'layer_1_conv2d_filters': 32, 'layer_1_conv2d_fsize': 5, 'layer_1_conv2d_ssize': 2, 'activation_1': 'tanh', 'layer_2': 'Depthwise2D', 'layer_2_dwconv2d_fsize': 4, 'layer_2_dwconv2d_ssize': 4, 'activation_2': 'relu', 'output_dropout': 0.5251933804653113, 'lr_inicial': 0.0014292614889116675}. Best is trial 85 with value: 0.9800000190734863.\n"
     ]
    },
    {
     "name": "stdout",
     "output_type": "stream",
     "text": [
      "INFO:tensorflow:Assets written to: saved_models/exp6_aug_calib/best_model_t231/assets\n"
     ]
    },
    {
     "name": "stderr",
     "output_type": "stream",
     "text": [
      "INFO:tensorflow:Assets written to: saved_models/exp6_aug_calib/best_model_t231/assets\n",
      "[I 2024-02-01 15:45:18,774] Trial 231 finished with value: 0.9399999976158142 and parameters: {'batchsize': 32, 'brightness_factor': 0.1703813844338027, 'gaussian_noise_factor': 0.014372790642826486, 'translate_factor': 0.19623090070812066, 'num_layers': 3, 'layer_0': 'Pointwise2D', 'layer_0_pwconv2d_filters': 20, 'layer_0_pwconv2d_ssize': 2, 'activation_0': 'tanh', 'layer_1': 'Conv2D', 'layer_1_conv2d_filters': 28, 'layer_1_conv2d_fsize': 5, 'layer_1_conv2d_ssize': 2, 'activation_1': 'tanh', 'layer_2': 'Depthwise2D', 'layer_2_dwconv2d_fsize': 4, 'layer_2_dwconv2d_ssize': 4, 'activation_2': 'relu', 'output_dropout': 0.5334948006707552, 'lr_inicial': 0.0013614519894986068}. Best is trial 85 with value: 0.9800000190734863.\n"
     ]
    },
    {
     "name": "stdout",
     "output_type": "stream",
     "text": [
      "INFO:tensorflow:Assets written to: saved_models/exp6_aug_calib/best_model_t232/assets\n"
     ]
    },
    {
     "name": "stderr",
     "output_type": "stream",
     "text": [
      "INFO:tensorflow:Assets written to: saved_models/exp6_aug_calib/best_model_t232/assets\n",
      "[I 2024-02-01 15:45:40,269] Trial 232 finished with value: 0.9599999785423279 and parameters: {'batchsize': 32, 'brightness_factor': 0.16513856117410464, 'gaussian_noise_factor': 0.010476550648773944, 'translate_factor': 0.19541046525729536, 'num_layers': 3, 'layer_0': 'Pointwise2D', 'layer_0_pwconv2d_filters': 20, 'layer_0_pwconv2d_ssize': 2, 'activation_0': 'tanh', 'layer_1': 'Conv2D', 'layer_1_conv2d_filters': 28, 'layer_1_conv2d_fsize': 5, 'layer_1_conv2d_ssize': 2, 'activation_1': 'tanh', 'layer_2': 'Depthwise2D', 'layer_2_dwconv2d_fsize': 4, 'layer_2_dwconv2d_ssize': 4, 'activation_2': 'relu', 'output_dropout': 0.4438346007457864, 'lr_inicial': 0.0013001179186693634}. Best is trial 85 with value: 0.9800000190734863.\n"
     ]
    },
    {
     "name": "stdout",
     "output_type": "stream",
     "text": [
      "INFO:tensorflow:Assets written to: saved_models/exp6_aug_calib/best_model_t233/assets\n"
     ]
    },
    {
     "name": "stderr",
     "output_type": "stream",
     "text": [
      "INFO:tensorflow:Assets written to: saved_models/exp6_aug_calib/best_model_t233/assets\n",
      "[I 2024-02-01 15:46:01,731] Trial 233 finished with value: 0.9399999976158142 and parameters: {'batchsize': 32, 'brightness_factor': 0.16906434146095095, 'gaussian_noise_factor': 0.01688899444214575, 'translate_factor': 0.19313766645827915, 'num_layers': 3, 'layer_0': 'Pointwise2D', 'layer_0_pwconv2d_filters': 20, 'layer_0_pwconv2d_ssize': 2, 'activation_0': 'tanh', 'layer_1': 'Conv2D', 'layer_1_conv2d_filters': 28, 'layer_1_conv2d_fsize': 5, 'layer_1_conv2d_ssize': 2, 'activation_1': 'tanh', 'layer_2': 'Depthwise2D', 'layer_2_dwconv2d_fsize': 4, 'layer_2_dwconv2d_ssize': 4, 'activation_2': 'relu', 'output_dropout': 0.5292971146440357, 'lr_inicial': 0.001386134720109671}. Best is trial 85 with value: 0.9800000190734863.\n"
     ]
    },
    {
     "name": "stdout",
     "output_type": "stream",
     "text": [
      "INFO:tensorflow:Assets written to: saved_models/exp6_aug_calib/best_model_t234/assets\n"
     ]
    },
    {
     "name": "stderr",
     "output_type": "stream",
     "text": [
      "INFO:tensorflow:Assets written to: saved_models/exp6_aug_calib/best_model_t234/assets\n",
      "[I 2024-02-01 15:46:23,160] Trial 234 finished with value: 0.8999999761581421 and parameters: {'batchsize': 32, 'brightness_factor': 0.18311762354526237, 'gaussian_noise_factor': 0.00019651414878112897, 'translate_factor': 0.18984000087656047, 'num_layers': 3, 'layer_0': 'Pointwise2D', 'layer_0_pwconv2d_filters': 20, 'layer_0_pwconv2d_ssize': 2, 'activation_0': 'tanh', 'layer_1': 'Conv2D', 'layer_1_conv2d_filters': 24, 'layer_1_conv2d_fsize': 5, 'layer_1_conv2d_ssize': 2, 'activation_1': 'tanh', 'layer_2': 'Depthwise2D', 'layer_2_dwconv2d_fsize': 4, 'layer_2_dwconv2d_ssize': 4, 'activation_2': 'relu', 'output_dropout': 0.537812863824467, 'lr_inicial': 0.0012137428386532723}. Best is trial 85 with value: 0.9800000190734863.\n"
     ]
    },
    {
     "name": "stdout",
     "output_type": "stream",
     "text": [
      "INFO:tensorflow:Assets written to: saved_models/exp6_aug_calib/best_model_t235/assets\n"
     ]
    },
    {
     "name": "stderr",
     "output_type": "stream",
     "text": [
      "INFO:tensorflow:Assets written to: saved_models/exp6_aug_calib/best_model_t235/assets\n",
      "[I 2024-02-01 15:46:44,482] Trial 235 finished with value: 0.9599999785423279 and parameters: {'batchsize': 32, 'brightness_factor': 0.17411646606370548, 'gaussian_noise_factor': 0.005594388424978608, 'translate_factor': 0.18431601698226988, 'num_layers': 3, 'layer_0': 'Pointwise2D', 'layer_0_pwconv2d_filters': 20, 'layer_0_pwconv2d_ssize': 2, 'activation_0': 'tanh', 'layer_1': 'Conv2D', 'layer_1_conv2d_filters': 24, 'layer_1_conv2d_fsize': 5, 'layer_1_conv2d_ssize': 2, 'activation_1': 'tanh', 'layer_2': 'Depthwise2D', 'layer_2_dwconv2d_fsize': 4, 'layer_2_dwconv2d_ssize': 4, 'activation_2': 'relu', 'output_dropout': 0.5184547915102353, 'lr_inicial': 0.0013551140591066663}. Best is trial 85 with value: 0.9800000190734863.\n"
     ]
    },
    {
     "name": "stdout",
     "output_type": "stream",
     "text": [
      "INFO:tensorflow:Assets written to: saved_models/exp6_aug_calib/best_model_t236/assets\n"
     ]
    },
    {
     "name": "stderr",
     "output_type": "stream",
     "text": [
      "INFO:tensorflow:Assets written to: saved_models/exp6_aug_calib/best_model_t236/assets\n",
      "[I 2024-02-01 15:47:06,081] Trial 236 finished with value: 0.8600000143051147 and parameters: {'batchsize': 32, 'brightness_factor': 0.15191187523000313, 'gaussian_noise_factor': 0.012711726755845365, 'translate_factor': 0.17765488799833204, 'num_layers': 3, 'layer_0': 'Pointwise2D', 'layer_0_pwconv2d_filters': 20, 'layer_0_pwconv2d_ssize': 2, 'activation_0': 'tanh', 'layer_1': 'Conv2D', 'layer_1_conv2d_filters': 28, 'layer_1_conv2d_fsize': 5, 'layer_1_conv2d_ssize': 2, 'activation_1': 'tanh', 'layer_2': 'Depthwise2D', 'layer_2_dwconv2d_fsize': 4, 'layer_2_dwconv2d_ssize': 4, 'activation_2': 'relu', 'output_dropout': 0.5300890208887831, 'lr_inicial': 0.001250746935240037}. Best is trial 85 with value: 0.9800000190734863.\n"
     ]
    },
    {
     "name": "stdout",
     "output_type": "stream",
     "text": [
      "INFO:tensorflow:Assets written to: saved_models/exp6_aug_calib/best_model_t237/assets\n"
     ]
    },
    {
     "name": "stderr",
     "output_type": "stream",
     "text": [
      "INFO:tensorflow:Assets written to: saved_models/exp6_aug_calib/best_model_t237/assets\n",
      "[I 2024-02-01 15:47:27,478] Trial 237 finished with value: 0.9399999976158142 and parameters: {'batchsize': 32, 'brightness_factor': 0.11823586737854122, 'gaussian_noise_factor': 0.008321872464661512, 'translate_factor': 0.19632596463568994, 'num_layers': 3, 'layer_0': 'Pointwise2D', 'layer_0_pwconv2d_filters': 20, 'layer_0_pwconv2d_ssize': 2, 'activation_0': 'relu', 'layer_1': 'Conv2D', 'layer_1_conv2d_filters': 24, 'layer_1_conv2d_fsize': 5, 'layer_1_conv2d_ssize': 2, 'activation_1': 'tanh', 'layer_2': 'Depthwise2D', 'layer_2_dwconv2d_fsize': 4, 'layer_2_dwconv2d_ssize': 4, 'activation_2': 'relu', 'output_dropout': 0.5214231268412953, 'lr_inicial': 0.001475476943314043}. Best is trial 85 with value: 0.9800000190734863.\n"
     ]
    },
    {
     "name": "stdout",
     "output_type": "stream",
     "text": [
      "INFO:tensorflow:Assets written to: saved_models/exp6_aug_calib/best_model_t238/assets\n"
     ]
    },
    {
     "name": "stderr",
     "output_type": "stream",
     "text": [
      "INFO:tensorflow:Assets written to: saved_models/exp6_aug_calib/best_model_t238/assets\n",
      "[I 2024-02-01 15:47:44,654] Trial 238 finished with value: 0.9200000166893005 and parameters: {'batchsize': 32, 'brightness_factor': 0.16716429883938944, 'gaussian_noise_factor': 0.0032394646786073214, 'translate_factor': 0.1905559747579842, 'num_layers': 3, 'layer_0': 'Pointwise2D', 'layer_0_pwconv2d_filters': 20, 'layer_0_pwconv2d_ssize': 3, 'activation_0': 'tanh', 'layer_1': 'Conv2D', 'layer_1_conv2d_filters': 24, 'layer_1_conv2d_fsize': 5, 'layer_1_conv2d_ssize': 2, 'activation_1': 'tanh', 'layer_2': 'Depthwise2D', 'layer_2_dwconv2d_fsize': 4, 'layer_2_dwconv2d_ssize': 4, 'activation_2': 'relu', 'output_dropout': 0.5455203431449941, 'lr_inicial': 0.0011470623817053992}. Best is trial 85 with value: 0.9800000190734863.\n"
     ]
    },
    {
     "name": "stdout",
     "output_type": "stream",
     "text": [
      "INFO:tensorflow:Assets written to: saved_models/exp6_aug_calib/best_model_t239/assets\n"
     ]
    },
    {
     "name": "stderr",
     "output_type": "stream",
     "text": [
      "INFO:tensorflow:Assets written to: saved_models/exp6_aug_calib/best_model_t239/assets\n",
      "[I 2024-02-01 15:48:05,642] Trial 239 finished with value: 0.9399999976158142 and parameters: {'batchsize': 32, 'brightness_factor': 0.15529237362460727, 'gaussian_noise_factor': 0.019631588676308348, 'translate_factor': 0.18161967610961907, 'num_layers': 3, 'layer_0': 'Pointwise2D', 'layer_0_pwconv2d_filters': 20, 'layer_0_pwconv2d_ssize': 2, 'activation_0': 'tanh', 'layer_1': 'Conv2D', 'layer_1_conv2d_filters': 24, 'layer_1_conv2d_fsize': 5, 'layer_1_conv2d_ssize': 2, 'activation_1': 'linear', 'layer_2': 'Depthwise2D', 'layer_2_dwconv2d_fsize': 4, 'layer_2_dwconv2d_ssize': 4, 'activation_2': 'relu', 'output_dropout': 0.514549862411825, 'lr_inicial': 0.001405893886481713}. Best is trial 85 with value: 0.9800000190734863.\n"
     ]
    },
    {
     "name": "stdout",
     "output_type": "stream",
     "text": [
      "INFO:tensorflow:Assets written to: saved_models/exp6_aug_calib/best_model_t240/assets\n"
     ]
    },
    {
     "name": "stderr",
     "output_type": "stream",
     "text": [
      "INFO:tensorflow:Assets written to: saved_models/exp6_aug_calib/best_model_t240/assets\n",
      "[I 2024-02-01 15:48:23,310] Trial 240 finished with value: 0.7799999713897705 and parameters: {'batchsize': 32, 'brightness_factor': 0.0958086595336581, 'gaussian_noise_factor': 0.008384667738294879, 'translate_factor': 0.17469998951767876, 'num_layers': 2, 'layer_0': 'Pointwise2D', 'layer_0_pwconv2d_filters': 20, 'layer_0_pwconv2d_ssize': 4, 'activation_0': 'tanh', 'layer_1': 'Conv2D', 'layer_1_conv2d_filters': 24, 'layer_1_conv2d_fsize': 4, 'layer_1_conv2d_ssize': 5, 'activation_1': 'tanh', 'output_dropout': 0.5069247031096489, 'lr_inicial': 0.0012908486389550068}. Best is trial 85 with value: 0.9800000190734863.\n"
     ]
    },
    {
     "name": "stdout",
     "output_type": "stream",
     "text": [
      "INFO:tensorflow:Assets written to: saved_models/exp6_aug_calib/best_model_t241/assets\n"
     ]
    },
    {
     "name": "stderr",
     "output_type": "stream",
     "text": [
      "INFO:tensorflow:Assets written to: saved_models/exp6_aug_calib/best_model_t241/assets\n",
      "[I 2024-02-01 15:48:44,885] Trial 241 finished with value: 0.9399999976158142 and parameters: {'batchsize': 32, 'brightness_factor': 0.17614856716884894, 'gaussian_noise_factor': 0.008122448563517312, 'translate_factor': 0.19206660179114876, 'num_layers': 3, 'layer_0': 'Pointwise2D', 'layer_0_pwconv2d_filters': 20, 'layer_0_pwconv2d_ssize': 2, 'activation_0': 'tanh', 'layer_1': 'Conv2D', 'layer_1_conv2d_filters': 20, 'layer_1_conv2d_fsize': 5, 'layer_1_conv2d_ssize': 2, 'activation_1': 'tanh', 'layer_2': 'Depthwise2D', 'layer_2_dwconv2d_fsize': 4, 'layer_2_dwconv2d_ssize': 4, 'activation_2': 'relu', 'output_dropout': 0.5458409535786254, 'lr_inicial': 0.0014540871100225767}. Best is trial 85 with value: 0.9800000190734863.\n"
     ]
    },
    {
     "name": "stdout",
     "output_type": "stream",
     "text": [
      "INFO:tensorflow:Assets written to: saved_models/exp6_aug_calib/best_model_t242/assets\n"
     ]
    },
    {
     "name": "stderr",
     "output_type": "stream",
     "text": [
      "INFO:tensorflow:Assets written to: saved_models/exp6_aug_calib/best_model_t242/assets\n",
      "[I 2024-02-01 15:49:06,809] Trial 242 finished with value: 0.9200000166893005 and parameters: {'batchsize': 32, 'brightness_factor': 0.17410006714374868, 'gaussian_noise_factor': 0.013222267408329722, 'translate_factor': 0.1319342897229323, 'num_layers': 3, 'layer_0': 'Pointwise2D', 'layer_0_pwconv2d_filters': 20, 'layer_0_pwconv2d_ssize': 2, 'activation_0': 'tanh', 'layer_1': 'Conv2D', 'layer_1_conv2d_filters': 16, 'layer_1_conv2d_fsize': 5, 'layer_1_conv2d_ssize': 2, 'activation_1': 'tanh', 'layer_2': 'Depthwise2D', 'layer_2_dwconv2d_fsize': 4, 'layer_2_dwconv2d_ssize': 4, 'activation_2': 'relu', 'output_dropout': 0.5510978592849581, 'lr_inicial': 0.0014469429676104318}. Best is trial 85 with value: 0.9800000190734863.\n"
     ]
    },
    {
     "name": "stdout",
     "output_type": "stream",
     "text": [
      "INFO:tensorflow:Assets written to: saved_models/exp6_aug_calib/best_model_t243/assets\n"
     ]
    },
    {
     "name": "stderr",
     "output_type": "stream",
     "text": [
      "INFO:tensorflow:Assets written to: saved_models/exp6_aug_calib/best_model_t243/assets\n",
      "[I 2024-02-01 15:49:28,176] Trial 243 finished with value: 0.9200000166893005 and parameters: {'batchsize': 32, 'brightness_factor': 0.1783354824094542, 'gaussian_noise_factor': 0.0039020658924750155, 'translate_factor': 0.19501473057199853, 'num_layers': 3, 'layer_0': 'Pointwise2D', 'layer_0_pwconv2d_filters': 20, 'layer_0_pwconv2d_ssize': 2, 'activation_0': 'tanh', 'layer_1': 'Conv2D', 'layer_1_conv2d_filters': 24, 'layer_1_conv2d_fsize': 5, 'layer_1_conv2d_ssize': 2, 'activation_1': 'tanh', 'layer_2': 'Depthwise2D', 'layer_2_dwconv2d_fsize': 4, 'layer_2_dwconv2d_ssize': 4, 'activation_2': 'relu', 'output_dropout': 0.5359490332257206, 'lr_inicial': 0.0014958501923658608}. Best is trial 85 with value: 0.9800000190734863.\n"
     ]
    },
    {
     "name": "stdout",
     "output_type": "stream",
     "text": [
      "INFO:tensorflow:Assets written to: saved_models/exp6_aug_calib/best_model_t244/assets\n"
     ]
    },
    {
     "name": "stderr",
     "output_type": "stream",
     "text": [
      "INFO:tensorflow:Assets written to: saved_models/exp6_aug_calib/best_model_t244/assets\n",
      "[I 2024-02-01 15:49:49,676] Trial 244 finished with value: 0.8799999952316284 and parameters: {'batchsize': 32, 'brightness_factor': 0.1611663110832658, 'gaussian_noise_factor': 0.009294660280484167, 'translate_factor': 0.18662237327317657, 'num_layers': 3, 'layer_0': 'Pointwise2D', 'layer_0_pwconv2d_filters': 20, 'layer_0_pwconv2d_ssize': 2, 'activation_0': 'tanh', 'layer_1': 'Conv2D', 'layer_1_conv2d_filters': 24, 'layer_1_conv2d_fsize': 5, 'layer_1_conv2d_ssize': 2, 'activation_1': 'tanh', 'layer_2': 'Depthwise2D', 'layer_2_dwconv2d_fsize': 4, 'layer_2_dwconv2d_ssize': 4, 'activation_2': 'relu', 'output_dropout': 0.5404465430537261, 'lr_inicial': 0.0013409620191838993}. Best is trial 85 with value: 0.9800000190734863.\n"
     ]
    },
    {
     "name": "stdout",
     "output_type": "stream",
     "text": [
      "INFO:tensorflow:Assets written to: saved_models/exp6_aug_calib/best_model_t245/assets\n"
     ]
    },
    {
     "name": "stderr",
     "output_type": "stream",
     "text": [
      "INFO:tensorflow:Assets written to: saved_models/exp6_aug_calib/best_model_t245/assets\n",
      "[I 2024-02-01 15:50:10,741] Trial 245 finished with value: 0.8799999952316284 and parameters: {'batchsize': 32, 'brightness_factor': 0.10358963870230224, 'gaussian_noise_factor': 0.006192571908374352, 'translate_factor': 0.19190848456931678, 'num_layers': 3, 'layer_0': 'Pointwise2D', 'layer_0_pwconv2d_filters': 20, 'layer_0_pwconv2d_ssize': 2, 'activation_0': 'tanh', 'layer_1': 'Conv2D', 'layer_1_conv2d_filters': 8, 'layer_1_conv2d_fsize': 5, 'layer_1_conv2d_ssize': 2, 'activation_1': 'tanh', 'layer_2': 'Depthwise2D', 'layer_2_dwconv2d_fsize': 3, 'layer_2_dwconv2d_ssize': 4, 'activation_2': 'relu', 'output_dropout': 0.5270245905702244, 'lr_inicial': 0.0011987416291174388}. Best is trial 85 with value: 0.9800000190734863.\n"
     ]
    },
    {
     "name": "stdout",
     "output_type": "stream",
     "text": [
      "INFO:tensorflow:Assets written to: saved_models/exp6_aug_calib/best_model_t246/assets\n"
     ]
    },
    {
     "name": "stderr",
     "output_type": "stream",
     "text": [
      "INFO:tensorflow:Assets written to: saved_models/exp6_aug_calib/best_model_t246/assets\n",
      "[I 2024-02-01 15:50:32,150] Trial 246 finished with value: 0.9399999976158142 and parameters: {'batchsize': 32, 'brightness_factor': 0.14862944068506512, 'gaussian_noise_factor': 0.013686741750171549, 'translate_factor': 0.19944173448789804, 'num_layers': 3, 'layer_0': 'Pointwise2D', 'layer_0_pwconv2d_filters': 20, 'layer_0_pwconv2d_ssize': 2, 'activation_0': 'tanh', 'layer_1': 'Conv2D', 'layer_1_conv2d_filters': 24, 'layer_1_conv2d_fsize': 5, 'layer_1_conv2d_ssize': 2, 'activation_1': 'tanh', 'layer_2': 'Depthwise2D', 'layer_2_dwconv2d_fsize': 4, 'layer_2_dwconv2d_ssize': 4, 'activation_2': 'relu', 'output_dropout': 0.544620736511213, 'lr_inicial': 0.0013910451054872338}. Best is trial 85 with value: 0.9800000190734863.\n"
     ]
    },
    {
     "name": "stdout",
     "output_type": "stream",
     "text": [
      "INFO:tensorflow:Assets written to: saved_models/exp6_aug_calib/best_model_t247/assets\n"
     ]
    },
    {
     "name": "stderr",
     "output_type": "stream",
     "text": [
      "INFO:tensorflow:Assets written to: saved_models/exp6_aug_calib/best_model_t247/assets\n",
      "[I 2024-02-01 15:50:53,288] Trial 247 finished with value: 0.9200000166893005 and parameters: {'batchsize': 32, 'brightness_factor': 0.16801261165314735, 'gaussian_noise_factor': 0.0031768993610286067, 'translate_factor': 0.1873726316471223, 'num_layers': 3, 'layer_0': 'Pointwise2D', 'layer_0_pwconv2d_filters': 20, 'layer_0_pwconv2d_ssize': 2, 'activation_0': 'tanh', 'layer_1': 'Conv2D', 'layer_1_conv2d_filters': 20, 'layer_1_conv2d_fsize': 5, 'layer_1_conv2d_ssize': 2, 'activation_1': 'tanh', 'layer_2': 'Depthwise2D', 'layer_2_dwconv2d_fsize': 4, 'layer_2_dwconv2d_ssize': 4, 'activation_2': 'relu', 'output_dropout': 0.5607894637263596, 'lr_inicial': 0.0011110710232710467}. Best is trial 85 with value: 0.9800000190734863.\n"
     ]
    },
    {
     "name": "stdout",
     "output_type": "stream",
     "text": [
      "INFO:tensorflow:Assets written to: saved_models/exp6_aug_calib/best_model_t248/assets\n"
     ]
    },
    {
     "name": "stderr",
     "output_type": "stream",
     "text": [
      "INFO:tensorflow:Assets written to: saved_models/exp6_aug_calib/best_model_t248/assets\n",
      "[I 2024-02-01 15:51:13,929] Trial 248 finished with value: 0.7599999904632568 and parameters: {'batchsize': 32, 'brightness_factor': 0.1823514917157472, 'gaussian_noise_factor': 0.010169644617642404, 'translate_factor': 0.17935647923426698, 'num_layers': 3, 'layer_0': 'Pointwise2D', 'layer_0_pwconv2d_filters': 20, 'layer_0_pwconv2d_ssize': 2, 'activation_0': 'linear', 'layer_1': 'Conv2D', 'layer_1_conv2d_filters': 24, 'layer_1_conv2d_fsize': 5, 'layer_1_conv2d_ssize': 2, 'activation_1': 'tanh', 'layer_2': 'Pointwise2D', 'layer_2_pwconv2d_filters': 12, 'layer_2_pwconv2d_ssize': 4, 'activation_2': 'tanh', 'output_dropout': 0.5218720516259158, 'lr_inicial': 0.0015478029611301408}. Best is trial 85 with value: 0.9800000190734863.\n"
     ]
    },
    {
     "name": "stdout",
     "output_type": "stream",
     "text": [
      "INFO:tensorflow:Assets written to: saved_models/exp6_aug_calib/best_model_t249/assets\n"
     ]
    },
    {
     "name": "stderr",
     "output_type": "stream",
     "text": [
      "INFO:tensorflow:Assets written to: saved_models/exp6_aug_calib/best_model_t249/assets\n",
      "[I 2024-02-01 15:51:33,697] Trial 249 finished with value: 0.8799999952316284 and parameters: {'batchsize': 32, 'brightness_factor': 0.14525697982017866, 'gaussian_noise_factor': 0.015758394468613025, 'translate_factor': 0.18335491064328008, 'num_layers': 3, 'layer_0': 'Pointwise2D', 'layer_0_pwconv2d_filters': 20, 'layer_0_pwconv2d_ssize': 3, 'activation_0': 'relu', 'layer_1': 'Conv2D', 'layer_1_conv2d_filters': 24, 'layer_1_conv2d_fsize': 5, 'layer_1_conv2d_ssize': 2, 'activation_1': 'tanh', 'layer_2': 'Depthwise2D', 'layer_2_dwconv2d_fsize': 5, 'layer_2_dwconv2d_ssize': 4, 'activation_2': 'relu', 'output_dropout': 0.513882098999715, 'lr_inicial': 0.0004338544114867917}. Best is trial 85 with value: 0.9800000190734863.\n"
     ]
    },
    {
     "name": "stdout",
     "output_type": "stream",
     "text": [
      "INFO:tensorflow:Assets written to: saved_models/exp6_aug_calib/best_model_t250/assets\n"
     ]
    },
    {
     "name": "stderr",
     "output_type": "stream",
     "text": [
      "INFO:tensorflow:Assets written to: saved_models/exp6_aug_calib/best_model_t250/assets\n",
      "[I 2024-02-01 15:51:50,160] Trial 250 finished with value: 0.8999999761581421 and parameters: {'batchsize': 32, 'brightness_factor': 0.15417794605125915, 'gaussian_noise_factor': 0.0073951807657766525, 'translate_factor': 0.19333840293117852, 'num_layers': 3, 'layer_0': 'Depthwise2D', 'layer_0_dwconv2d_fsize': 3, 'layer_0_dwconv2d_ssize': 5, 'activation_0': 'tanh', 'layer_1': 'Conv2D', 'layer_1_conv2d_filters': 24, 'layer_1_conv2d_fsize': 5, 'layer_1_conv2d_ssize': 2, 'activation_1': 'tanh', 'layer_2': 'Depthwise2D', 'layer_2_dwconv2d_fsize': 4, 'layer_2_dwconv2d_ssize': 4, 'activation_2': 'relu', 'output_dropout': 0.533651872185074, 'lr_inicial': 0.0012342965060968528}. Best is trial 85 with value: 0.9800000190734863.\n"
     ]
    },
    {
     "name": "stdout",
     "output_type": "stream",
     "text": [
      "INFO:tensorflow:Assets written to: saved_models/exp6_aug_calib/best_model_t251/assets\n"
     ]
    },
    {
     "name": "stderr",
     "output_type": "stream",
     "text": [
      "INFO:tensorflow:Assets written to: saved_models/exp6_aug_calib/best_model_t251/assets\n",
      "[I 2024-02-01 15:52:05,941] Trial 251 finished with value: 0.8399999737739563 and parameters: {'batchsize': 32, 'brightness_factor': 0.17236033271585458, 'gaussian_noise_factor': 0.0005463236762521043, 'translate_factor': 0.1963046320715682, 'num_layers': 3, 'layer_0': 'Conv2D', 'layer_0_conv2d_filters': 8, 'layer_0_conv2d_fsize': 3, 'layer_0_conv2d_ssize': 3, 'activation_0': 'tanh', 'layer_1': 'Depthwise2D', 'layer_1_dwconv2d_fsize': 5, 'layer_1_dwconv2d_ssize': 4, 'activation_1': 'linear', 'layer_2': 'Depthwise2D', 'layer_2_dwconv2d_fsize': 4, 'layer_2_dwconv2d_ssize': 4, 'activation_2': 'relu', 'output_dropout': 0.5259182699079635, 'lr_inicial': 0.0014321746381709332}. Best is trial 85 with value: 0.9800000190734863.\n"
     ]
    },
    {
     "name": "stdout",
     "output_type": "stream",
     "text": [
      "INFO:tensorflow:Assets written to: saved_models/exp6_aug_calib/best_model_t252/assets\n"
     ]
    },
    {
     "name": "stderr",
     "output_type": "stream",
     "text": [
      "INFO:tensorflow:Assets written to: saved_models/exp6_aug_calib/best_model_t252/assets\n",
      "[I 2024-02-01 15:52:21,315] Trial 252 finished with value: 0.6600000262260437 and parameters: {'batchsize': 32, 'brightness_factor': 0.15974060069119642, 'gaussian_noise_factor': 0.011818239939737078, 'translate_factor': 0.18828768955356134, 'num_layers': 1, 'layer_0': 'Pointwise2D', 'layer_0_pwconv2d_filters': 20, 'layer_0_pwconv2d_ssize': 3, 'activation_0': 'tanh', 'output_dropout': 0.5016921256879273, 'lr_inicial': 0.0013169757115318575}. Best is trial 85 with value: 0.9800000190734863.\n"
     ]
    },
    {
     "name": "stdout",
     "output_type": "stream",
     "text": [
      "INFO:tensorflow:Assets written to: saved_models/exp6_aug_calib/best_model_t253/assets\n"
     ]
    },
    {
     "name": "stderr",
     "output_type": "stream",
     "text": [
      "INFO:tensorflow:Assets written to: saved_models/exp6_aug_calib/best_model_t253/assets\n",
      "[I 2024-02-01 15:52:42,646] Trial 253 finished with value: 0.9399999976158142 and parameters: {'batchsize': 32, 'brightness_factor': 0.19131830562302676, 'gaussian_noise_factor': 0.0055502781479956995, 'translate_factor': 0.17403032167304744, 'num_layers': 3, 'layer_0': 'Pointwise2D', 'layer_0_pwconv2d_filters': 20, 'layer_0_pwconv2d_ssize': 2, 'activation_0': 'tanh', 'layer_1': 'Conv2D', 'layer_1_conv2d_filters': 28, 'layer_1_conv2d_fsize': 5, 'layer_1_conv2d_ssize': 2, 'activation_1': 'tanh', 'layer_2': 'Depthwise2D', 'layer_2_dwconv2d_fsize': 4, 'layer_2_dwconv2d_ssize': 4, 'activation_2': 'relu', 'output_dropout': 0.5194612304688115, 'lr_inicial': 0.001181141726841221}. Best is trial 85 with value: 0.9800000190734863.\n"
     ]
    },
    {
     "name": "stdout",
     "output_type": "stream",
     "text": [
      "INFO:tensorflow:Assets written to: saved_models/exp6_aug_calib/best_model_t254/assets\n"
     ]
    },
    {
     "name": "stderr",
     "output_type": "stream",
     "text": [
      "INFO:tensorflow:Assets written to: saved_models/exp6_aug_calib/best_model_t254/assets\n",
      "[I 2024-02-01 15:53:03,922] Trial 254 finished with value: 0.9399999976158142 and parameters: {'batchsize': 32, 'brightness_factor': 0.11203166394593767, 'gaussian_noise_factor': 0.018639464488854625, 'translate_factor': 0.16617480579251362, 'num_layers': 3, 'layer_0': 'Pointwise2D', 'layer_0_pwconv2d_filters': 20, 'layer_0_pwconv2d_ssize': 2, 'activation_0': 'tanh', 'layer_1': 'Conv2D', 'layer_1_conv2d_filters': 24, 'layer_1_conv2d_fsize': 5, 'layer_1_conv2d_ssize': 2, 'activation_1': 'tanh', 'layer_2': 'Depthwise2D', 'layer_2_dwconv2d_fsize': 4, 'layer_2_dwconv2d_ssize': 4, 'activation_2': 'relu', 'output_dropout': 0.5298216380657704, 'lr_inicial': 0.0012452935843353643}. Best is trial 85 with value: 0.9800000190734863.\n"
     ]
    },
    {
     "name": "stdout",
     "output_type": "stream",
     "text": [
      "INFO:tensorflow:Assets written to: saved_models/exp6_aug_calib/best_model_t255/assets\n"
     ]
    },
    {
     "name": "stderr",
     "output_type": "stream",
     "text": [
      "INFO:tensorflow:Assets written to: saved_models/exp6_aug_calib/best_model_t255/assets\n",
      "[I 2024-02-01 15:53:25,278] Trial 255 finished with value: 0.9399999976158142 and parameters: {'batchsize': 32, 'brightness_factor': 0.1766833984689966, 'gaussian_noise_factor': 0.0033779327006337677, 'translate_factor': 0.18437211157134484, 'num_layers': 3, 'layer_0': 'Pointwise2D', 'layer_0_pwconv2d_filters': 20, 'layer_0_pwconv2d_ssize': 2, 'activation_0': 'relu', 'layer_1': 'Conv2D', 'layer_1_conv2d_filters': 24, 'layer_1_conv2d_fsize': 5, 'layer_1_conv2d_ssize': 2, 'activation_1': 'tanh', 'layer_2': 'Depthwise2D', 'layer_2_dwconv2d_fsize': 4, 'layer_2_dwconv2d_ssize': 4, 'activation_2': 'relu', 'output_dropout': 0.5128803890836511, 'lr_inicial': 0.0016388635168819307}. Best is trial 85 with value: 0.9800000190734863.\n"
     ]
    },
    {
     "name": "stdout",
     "output_type": "stream",
     "text": [
      "INFO:tensorflow:Assets written to: saved_models/exp6_aug_calib/best_model_t256/assets\n"
     ]
    },
    {
     "name": "stderr",
     "output_type": "stream",
     "text": [
      "INFO:tensorflow:Assets written to: saved_models/exp6_aug_calib/best_model_t256/assets\n",
      "[I 2024-02-01 15:53:46,456] Trial 256 finished with value: 0.9399999976158142 and parameters: {'batchsize': 32, 'brightness_factor': 0.18450828122803614, 'gaussian_noise_factor': 0.009657627036852506, 'translate_factor': 0.1791659164966916, 'num_layers': 3, 'layer_0': 'Pointwise2D', 'layer_0_pwconv2d_filters': 20, 'layer_0_pwconv2d_ssize': 2, 'activation_0': 'tanh', 'layer_1': 'Conv2D', 'layer_1_conv2d_filters': 24, 'layer_1_conv2d_fsize': 5, 'layer_1_conv2d_ssize': 2, 'activation_1': 'tanh', 'layer_2': 'Depthwise2D', 'layer_2_dwconv2d_fsize': 4, 'layer_2_dwconv2d_ssize': 4, 'activation_2': 'relu', 'output_dropout': 0.5419281855204726, 'lr_inicial': 0.0013715259201738394}. Best is trial 85 with value: 0.9800000190734863.\n"
     ]
    },
    {
     "name": "stdout",
     "output_type": "stream",
     "text": [
      "INFO:tensorflow:Assets written to: saved_models/exp6_aug_calib/best_model_t257/assets\n"
     ]
    },
    {
     "name": "stderr",
     "output_type": "stream",
     "text": [
      "INFO:tensorflow:Assets written to: saved_models/exp6_aug_calib/best_model_t257/assets\n",
      "[I 2024-02-01 15:54:09,813] Trial 257 finished with value: 0.7799999713897705 and parameters: {'batchsize': 32, 'brightness_factor': 0.14787904123445234, 'gaussian_noise_factor': 0.12587541985085682, 'translate_factor': 0.1906303012134346, 'num_layers': 3, 'layer_0': 'Pointwise2D', 'layer_0_pwconv2d_filters': 20, 'layer_0_pwconv2d_ssize': 2, 'activation_0': 'tanh', 'layer_1': 'Conv2D', 'layer_1_conv2d_filters': 24, 'layer_1_conv2d_fsize': 5, 'layer_1_conv2d_ssize': 2, 'activation_1': 'tanh', 'layer_2': 'Depthwise2D', 'layer_2_dwconv2d_fsize': 4, 'layer_2_dwconv2d_ssize': 4, 'activation_2': 'relu', 'output_dropout': 0.5085394345359703, 'lr_inicial': 0.0014991954475407}. Best is trial 85 with value: 0.9800000190734863.\n"
     ]
    },
    {
     "name": "stdout",
     "output_type": "stream",
     "text": [
      "INFO:tensorflow:Assets written to: saved_models/exp6_aug_calib/best_model_t258/assets\n"
     ]
    },
    {
     "name": "stderr",
     "output_type": "stream",
     "text": [
      "INFO:tensorflow:Assets written to: saved_models/exp6_aug_calib/best_model_t258/assets\n",
      "[I 2024-02-01 15:54:27,137] Trial 258 finished with value: 0.8999999761581421 and parameters: {'batchsize': 32, 'brightness_factor': 0.14178015635487431, 'gaussian_noise_factor': 0.014532716531090555, 'translate_factor': 0.19981579355266726, 'num_layers': 3, 'layer_0': 'Pointwise2D', 'layer_0_pwconv2d_filters': 20, 'layer_0_pwconv2d_ssize': 2, 'activation_0': 'tanh', 'layer_1': 'Pointwise2D', 'layer_1_pwconv2d_filters': 28, 'layer_1_pwconv2d_ssize': 4, 'activation_1': 'tanh', 'layer_2': 'Depthwise2D', 'layer_2_dwconv2d_fsize': 4, 'layer_2_dwconv2d_ssize': 2, 'activation_2': 'relu', 'output_dropout': 0.5572123940727621, 'lr_inicial': 0.0011414976025561103}. Best is trial 85 with value: 0.9800000190734863.\n"
     ]
    },
    {
     "name": "stdout",
     "output_type": "stream",
     "text": [
      "INFO:tensorflow:Assets written to: saved_models/exp6_aug_calib/best_model_t259/assets\n"
     ]
    },
    {
     "name": "stderr",
     "output_type": "stream",
     "text": [
      "INFO:tensorflow:Assets written to: saved_models/exp6_aug_calib/best_model_t259/assets\n",
      "[I 2024-02-01 15:54:46,848] Trial 259 finished with value: 0.8999999761581421 and parameters: {'batchsize': 32, 'brightness_factor': 0.15229235733985644, 'gaussian_noise_factor': 0.023250411662170886, 'translate_factor': 0.1845841803381369, 'num_layers': 3, 'layer_0': 'Pointwise2D', 'layer_0_pwconv2d_filters': 20, 'layer_0_pwconv2d_ssize': 2, 'activation_0': 'tanh', 'layer_1': 'Conv2D', 'layer_1_conv2d_filters': 24, 'layer_1_conv2d_fsize': 3, 'layer_1_conv2d_ssize': 2, 'activation_1': 'tanh', 'layer_2': 'Depthwise2D', 'layer_2_dwconv2d_fsize': 4, 'layer_2_dwconv2d_ssize': 4, 'activation_2': 'relu', 'output_dropout': 0.4702663742306562, 'lr_inicial': 0.0010906625159331502}. Best is trial 85 with value: 0.9800000190734863.\n"
     ]
    },
    {
     "name": "stdout",
     "output_type": "stream",
     "text": [
      "INFO:tensorflow:Assets written to: saved_models/exp6_aug_calib/best_model_t260/assets\n"
     ]
    },
    {
     "name": "stderr",
     "output_type": "stream",
     "text": [
      "INFO:tensorflow:Assets written to: saved_models/exp6_aug_calib/best_model_t260/assets\n",
      "[I 2024-02-01 15:55:06,846] Trial 260 finished with value: 0.9200000166893005 and parameters: {'batchsize': 32, 'brightness_factor': 0.16478215127600707, 'gaussian_noise_factor': 0.006901576300950123, 'translate_factor': 0.19311723320350688, 'num_layers': 3, 'layer_0': 'Pointwise2D', 'layer_0_pwconv2d_filters': 20, 'layer_0_pwconv2d_ssize': 2, 'activation_0': 'tanh', 'layer_1': 'Conv2D', 'layer_1_conv2d_filters': 24, 'layer_1_conv2d_fsize': 4, 'layer_1_conv2d_ssize': 2, 'activation_1': 'linear', 'layer_2': 'Depthwise2D', 'layer_2_dwconv2d_fsize': 4, 'layer_2_dwconv2d_ssize': 3, 'activation_2': 'relu', 'output_dropout': 0.459182311874764, 'lr_inicial': 0.0012680695171679063}. Best is trial 85 with value: 0.9800000190734863.\n"
     ]
    },
    {
     "name": "stdout",
     "output_type": "stream",
     "text": [
      "INFO:tensorflow:Assets written to: saved_models/exp6_aug_calib/best_model_t261/assets\n"
     ]
    },
    {
     "name": "stderr",
     "output_type": "stream",
     "text": [
      "INFO:tensorflow:Assets written to: saved_models/exp6_aug_calib/best_model_t261/assets\n",
      "[I 2024-02-01 15:55:24,132] Trial 261 finished with value: 0.9200000166893005 and parameters: {'batchsize': 32, 'brightness_factor': 0.15723879602690913, 'gaussian_noise_factor': 0.00010740682342848772, 'translate_factor': 0.08990278041050356, 'num_layers': 3, 'layer_0': 'Pointwise2D', 'layer_0_pwconv2d_filters': 20, 'layer_0_pwconv2d_ssize': 3, 'activation_0': 'tanh', 'layer_1': 'Conv2D', 'layer_1_conv2d_filters': 28, 'layer_1_conv2d_fsize': 5, 'layer_1_conv2d_ssize': 2, 'activation_1': 'tanh', 'layer_2': 'Depthwise2D', 'layer_2_dwconv2d_fsize': 4, 'layer_2_dwconv2d_ssize': 4, 'activation_2': 'relu', 'output_dropout': 0.5186796303472705, 'lr_inicial': 0.001442649205513892}. Best is trial 85 with value: 0.9800000190734863.\n"
     ]
    },
    {
     "name": "stdout",
     "output_type": "stream",
     "text": [
      "INFO:tensorflow:Assets written to: saved_models/exp6_aug_calib/best_model_t262/assets\n"
     ]
    },
    {
     "name": "stderr",
     "output_type": "stream",
     "text": [
      "INFO:tensorflow:Assets written to: saved_models/exp6_aug_calib/best_model_t262/assets\n",
      "[I 2024-02-01 15:55:45,739] Trial 262 finished with value: 0.9399999976158142 and parameters: {'batchsize': 32, 'brightness_factor': 0.13066027064612645, 'gaussian_noise_factor': 0.012683610642197335, 'translate_factor': 0.187856664928548, 'num_layers': 3, 'layer_0': 'Pointwise2D', 'layer_0_pwconv2d_filters': 20, 'layer_0_pwconv2d_ssize': 2, 'activation_0': 'relu', 'layer_1': 'Conv2D', 'layer_1_conv2d_filters': 24, 'layer_1_conv2d_fsize': 5, 'layer_1_conv2d_ssize': 2, 'activation_1': 'tanh', 'layer_2': 'Depthwise2D', 'layer_2_dwconv2d_fsize': 5, 'layer_2_dwconv2d_ssize': 4, 'activation_2': 'relu', 'output_dropout': 0.5762975260944676, 'lr_inicial': 0.001550588515835478}. Best is trial 85 with value: 0.9800000190734863.\n"
     ]
    },
    {
     "name": "stdout",
     "output_type": "stream",
     "text": [
      "INFO:tensorflow:Assets written to: saved_models/exp6_aug_calib/best_model_t263/assets\n"
     ]
    },
    {
     "name": "stderr",
     "output_type": "stream",
     "text": [
      "INFO:tensorflow:Assets written to: saved_models/exp6_aug_calib/best_model_t263/assets\n",
      "[I 2024-02-01 15:56:06,850] Trial 263 finished with value: 0.8199999928474426 and parameters: {'batchsize': 32, 'brightness_factor': 0.18058070792520464, 'gaussian_noise_factor': 0.1947511410854392, 'translate_factor': 0.17326852491523026, 'num_layers': 3, 'layer_0': 'Pointwise2D', 'layer_0_pwconv2d_filters': 20, 'layer_0_pwconv2d_ssize': 2, 'activation_0': 'tanh', 'layer_1': 'Conv2D', 'layer_1_conv2d_filters': 20, 'layer_1_conv2d_fsize': 5, 'layer_1_conv2d_ssize': 2, 'activation_1': 'tanh', 'layer_2': 'Depthwise2D', 'layer_2_dwconv2d_fsize': 4, 'layer_2_dwconv2d_ssize': 4, 'activation_2': 'relu', 'output_dropout': 0.5349910877646642, 'lr_inicial': 0.0011816254105069088}. Best is trial 85 with value: 0.9800000190734863.\n"
     ]
    },
    {
     "name": "stdout",
     "output_type": "stream",
     "text": [
      "INFO:tensorflow:Assets written to: saved_models/exp6_aug_calib/best_model_t264/assets\n"
     ]
    },
    {
     "name": "stderr",
     "output_type": "stream",
     "text": [
      "INFO:tensorflow:Assets written to: saved_models/exp6_aug_calib/best_model_t264/assets\n",
      "[I 2024-02-01 15:56:29,153] Trial 264 finished with value: 0.7400000095367432 and parameters: {'batchsize': 32, 'brightness_factor': 0.16797207516362803, 'gaussian_noise_factor': 0.005450355187122004, 'translate_factor': 0.1794206552228363, 'num_layers': 3, 'layer_0': 'Pointwise2D', 'layer_0_pwconv2d_filters': 20, 'layer_0_pwconv2d_ssize': 2, 'activation_0': 'tanh', 'layer_1': 'Conv2D', 'layer_1_conv2d_filters': 24, 'layer_1_conv2d_fsize': 5, 'layer_1_conv2d_ssize': 2, 'activation_1': 'tanh', 'layer_2': 'Conv2D', 'layer_2_conv2d_filters': 4, 'layer_2_conv2d_fsize': 3, 'layer_2_conv2d_ssize': 2, 'activation_2': 'linear', 'output_dropout': 0.5233963882889828, 'lr_inicial': 0.0013602023963013939}. Best is trial 85 with value: 0.9800000190734863.\n"
     ]
    },
    {
     "name": "stdout",
     "output_type": "stream",
     "text": [
      "INFO:tensorflow:Assets written to: saved_models/exp6_aug_calib/best_model_t265/assets\n"
     ]
    },
    {
     "name": "stderr",
     "output_type": "stream",
     "text": [
      "INFO:tensorflow:Assets written to: saved_models/exp6_aug_calib/best_model_t265/assets\n",
      "[I 2024-02-01 15:56:50,468] Trial 265 finished with value: 0.9399999976158142 and parameters: {'batchsize': 32, 'brightness_factor': 0.03181961512969693, 'gaussian_noise_factor': 0.010097776313665116, 'translate_factor': 0.19604290003934322, 'num_layers': 3, 'layer_0': 'Pointwise2D', 'layer_0_pwconv2d_filters': 20, 'layer_0_pwconv2d_ssize': 2, 'activation_0': 'tanh', 'layer_1': 'Conv2D', 'layer_1_conv2d_filters': 24, 'layer_1_conv2d_fsize': 5, 'layer_1_conv2d_ssize': 2, 'activation_1': 'tanh', 'layer_2': 'Depthwise2D', 'layer_2_dwconv2d_fsize': 4, 'layer_2_dwconv2d_ssize': 4, 'activation_2': 'relu', 'output_dropout': 0.5494770824696663, 'lr_inicial': 0.0013102268045754948}. Best is trial 85 with value: 0.9800000190734863.\n"
     ]
    },
    {
     "name": "stdout",
     "output_type": "stream",
     "text": [
      "INFO:tensorflow:Assets written to: saved_models/exp6_aug_calib/best_model_t266/assets\n"
     ]
    },
    {
     "name": "stderr",
     "output_type": "stream",
     "text": [
      "INFO:tensorflow:Assets written to: saved_models/exp6_aug_calib/best_model_t266/assets\n",
      "[I 2024-02-01 15:57:11,597] Trial 266 finished with value: 0.9200000166893005 and parameters: {'batchsize': 32, 'brightness_factor': 0.14979751795433627, 'gaussian_noise_factor': 0.00012063061552697145, 'translate_factor': 0.16954237182121343, 'num_layers': 3, 'layer_0': 'Pointwise2D', 'layer_0_pwconv2d_filters': 20, 'layer_0_pwconv2d_ssize': 2, 'activation_0': 'tanh', 'layer_1': 'Conv2D', 'layer_1_conv2d_filters': 24, 'layer_1_conv2d_fsize': 5, 'layer_1_conv2d_ssize': 2, 'activation_1': 'tanh', 'layer_2': 'Depthwise2D', 'layer_2_dwconv2d_fsize': 4, 'layer_2_dwconv2d_ssize': 4, 'activation_2': 'relu', 'output_dropout': 0.49628533430949995, 'lr_inicial': 0.0012192815497414258}. Best is trial 85 with value: 0.9800000190734863.\n"
     ]
    },
    {
     "name": "stdout",
     "output_type": "stream",
     "text": [
      "INFO:tensorflow:Assets written to: saved_models/exp6_aug_calib/best_model_t267/assets\n"
     ]
    },
    {
     "name": "stderr",
     "output_type": "stream",
     "text": [
      "INFO:tensorflow:Assets written to: saved_models/exp6_aug_calib/best_model_t267/assets\n",
      "[I 2024-02-01 15:57:27,272] Trial 267 finished with value: 0.800000011920929 and parameters: {'batchsize': 32, 'brightness_factor': 0.1994248799592843, 'gaussian_noise_factor': 0.006855968138394982, 'translate_factor': 0.18250070552718695, 'num_layers': 2, 'layer_0': 'Pointwise2D', 'layer_0_pwconv2d_filters': 20, 'layer_0_pwconv2d_ssize': 5, 'activation_0': 'tanh', 'layer_1': 'Conv2D', 'layer_1_conv2d_filters': 28, 'layer_1_conv2d_fsize': 5, 'layer_1_conv2d_ssize': 3, 'activation_1': 'tanh', 'output_dropout': 0.5049981956665273, 'lr_inicial': 0.0014022291243997378}. Best is trial 85 with value: 0.9800000190734863.\n"
     ]
    },
    {
     "name": "stdout",
     "output_type": "stream",
     "text": [
      "INFO:tensorflow:Assets written to: saved_models/exp6_aug_calib/best_model_t268/assets\n"
     ]
    },
    {
     "name": "stderr",
     "output_type": "stream",
     "text": [
      "INFO:tensorflow:Assets written to: saved_models/exp6_aug_calib/best_model_t268/assets\n",
      "[I 2024-02-01 15:57:46,856] Trial 268 finished with value: 0.9599999785423279 and parameters: {'batchsize': 32, 'brightness_factor': 0.13840947987742458, 'gaussian_noise_factor': 0.017119556337469963, 'translate_factor': 0.19131438271148124, 'num_layers': 3, 'layer_0': 'Pointwise2D', 'layer_0_pwconv2d_filters': 16, 'layer_0_pwconv2d_ssize': 2, 'activation_0': 'relu', 'layer_1': 'Conv2D', 'layer_1_conv2d_filters': 24, 'layer_1_conv2d_fsize': 5, 'layer_1_conv2d_ssize': 2, 'activation_1': 'linear', 'layer_2': 'Depthwise2D', 'layer_2_dwconv2d_fsize': 4, 'layer_2_dwconv2d_ssize': 4, 'activation_2': 'relu', 'output_dropout': 0.5145784354584803, 'lr_inicial': 0.0014904100920672496}. Best is trial 85 with value: 0.9800000190734863.\n"
     ]
    },
    {
     "name": "stdout",
     "output_type": "stream",
     "text": [
      "INFO:tensorflow:Assets written to: saved_models/exp6_aug_calib/best_model_t269/assets\n"
     ]
    },
    {
     "name": "stderr",
     "output_type": "stream",
     "text": [
      "INFO:tensorflow:Assets written to: saved_models/exp6_aug_calib/best_model_t269/assets\n",
      "[I 2024-02-01 15:58:03,897] Trial 269 finished with value: 0.8999999761581421 and parameters: {'batchsize': 32, 'brightness_factor': 0.16226221754111783, 'gaussian_noise_factor': 0.0032096085841478595, 'translate_factor': 0.17669149362279213, 'num_layers': 3, 'layer_0': 'Pointwise2D', 'layer_0_pwconv2d_filters': 20, 'layer_0_pwconv2d_ssize': 3, 'activation_0': 'tanh', 'layer_1': 'Conv2D', 'layer_1_conv2d_filters': 20, 'layer_1_conv2d_fsize': 5, 'layer_1_conv2d_ssize': 2, 'activation_1': 'tanh', 'layer_2': 'Depthwise2D', 'layer_2_dwconv2d_fsize': 4, 'layer_2_dwconv2d_ssize': 5, 'activation_2': 'relu', 'output_dropout': 0.5275722152725334, 'lr_inicial': 0.0011319622324386675}. Best is trial 85 with value: 0.9800000190734863.\n"
     ]
    },
    {
     "name": "stdout",
     "output_type": "stream",
     "text": [
      "INFO:tensorflow:Assets written to: saved_models/exp6_aug_calib/best_model_t270/assets\n"
     ]
    },
    {
     "name": "stderr",
     "output_type": "stream",
     "text": [
      "INFO:tensorflow:Assets written to: saved_models/exp6_aug_calib/best_model_t270/assets\n",
      "[I 2024-02-01 15:58:24,175] Trial 270 finished with value: 0.9200000166893005 and parameters: {'batchsize': 32, 'brightness_factor': 0.14425447802736993, 'gaussian_noise_factor': 0.06641597406180841, 'translate_factor': 0.1868666349965445, 'num_layers': 3, 'layer_0': 'Pointwise2D', 'layer_0_pwconv2d_filters': 20, 'layer_0_pwconv2d_ssize': 2, 'activation_0': 'linear', 'layer_1': 'Conv2D', 'layer_1_conv2d_filters': 24, 'layer_1_conv2d_fsize': 5, 'layer_1_conv2d_ssize': 2, 'activation_1': 'tanh', 'layer_2': 'Depthwise2D', 'layer_2_dwconv2d_fsize': 3, 'layer_2_dwconv2d_ssize': 4, 'activation_2': 'relu', 'output_dropout': 0.4370448054779267, 'lr_inicial': 0.0012834260204075958}. Best is trial 85 with value: 0.9800000190734863.\n"
     ]
    },
    {
     "name": "stdout",
     "output_type": "stream",
     "text": [
      "INFO:tensorflow:Assets written to: saved_models/exp6_aug_calib/best_model_t271/assets\n"
     ]
    },
    {
     "name": "stderr",
     "output_type": "stream",
     "text": [
      "INFO:tensorflow:Assets written to: saved_models/exp6_aug_calib/best_model_t271/assets\n",
      "[I 2024-02-01 15:58:39,906] Trial 271 finished with value: 0.9399999976158142 and parameters: {'batchsize': 32, 'brightness_factor': 0.09996315610633416, 'gaussian_noise_factor': 0.01102385121252139, 'translate_factor': 0.19617473556204265, 'num_layers': 3, 'layer_0': 'Depthwise2D', 'layer_0_dwconv2d_fsize': 3, 'layer_0_dwconv2d_ssize': 3, 'activation_0': 'tanh', 'layer_1': 'Conv2D', 'layer_1_conv2d_filters': 24, 'layer_1_conv2d_fsize': 5, 'layer_1_conv2d_ssize': 2, 'activation_1': 'tanh', 'layer_2': 'Depthwise2D', 'layer_2_dwconv2d_fsize': 4, 'layer_2_dwconv2d_ssize': 4, 'activation_2': 'relu', 'output_dropout': 0.5399028383463549, 'lr_inicial': 0.0015725212498069862}. Best is trial 85 with value: 0.9800000190734863.\n"
     ]
    },
    {
     "name": "stdout",
     "output_type": "stream",
     "text": [
      "INFO:tensorflow:Assets written to: saved_models/exp6_aug_calib/best_model_t272/assets\n"
     ]
    },
    {
     "name": "stderr",
     "output_type": "stream",
     "text": [
      "INFO:tensorflow:Assets written to: saved_models/exp6_aug_calib/best_model_t272/assets\n",
      "[I 2024-02-01 15:58:57,349] Trial 272 finished with value: 0.8399999737739563 and parameters: {'batchsize': 32, 'brightness_factor': 0.17473608864235393, 'gaussian_noise_factor': 0.007428775483541602, 'translate_factor': 0.18219612041204294, 'num_layers': 3, 'layer_0': 'Pointwise2D', 'layer_0_pwconv2d_filters': 20, 'layer_0_pwconv2d_ssize': 2, 'activation_0': 'tanh', 'layer_1': 'Depthwise2D', 'layer_1_dwconv2d_fsize': 4, 'layer_1_dwconv2d_ssize': 5, 'activation_1': 'tanh', 'layer_2': 'Pointwise2D', 'layer_2_pwconv2d_filters': 24, 'layer_2_pwconv2d_ssize': 2, 'activation_2': 'relu', 'output_dropout': 0.5097911962289545, 'lr_inicial': 0.0010124461023713967}. Best is trial 85 with value: 0.9800000190734863.\n"
     ]
    },
    {
     "name": "stdout",
     "output_type": "stream",
     "text": [
      "INFO:tensorflow:Assets written to: saved_models/exp6_aug_calib/best_model_t273/assets\n"
     ]
    },
    {
     "name": "stderr",
     "output_type": "stream",
     "text": [
      "INFO:tensorflow:Assets written to: saved_models/exp6_aug_calib/best_model_t273/assets\n",
      "[I 2024-02-01 15:59:17,955] Trial 273 finished with value: 0.7599999904632568 and parameters: {'batchsize': 32, 'brightness_factor': 0.1867184721008599, 'gaussian_noise_factor': 0.014937753283672184, 'translate_factor': 0.1894145402431034, 'num_layers': 3, 'layer_0': 'Conv2D', 'layer_0_conv2d_filters': 12, 'layer_0_conv2d_fsize': 4, 'layer_0_conv2d_ssize': 2, 'activation_0': 'tanh', 'layer_1': 'Conv2D', 'layer_1_conv2d_filters': 24, 'layer_1_conv2d_fsize': 5, 'layer_1_conv2d_ssize': 2, 'activation_1': 'tanh', 'layer_2': 'Depthwise2D', 'layer_2_dwconv2d_fsize': 4, 'layer_2_dwconv2d_ssize': 4, 'activation_2': 'tanh', 'output_dropout': 0.5320497984419874, 'lr_inicial': 0.0010743840811414283}. Best is trial 85 with value: 0.9800000190734863.\n"
     ]
    },
    {
     "name": "stdout",
     "output_type": "stream",
     "text": [
      "INFO:tensorflow:Assets written to: saved_models/exp6_aug_calib/best_model_t274/assets\n"
     ]
    },
    {
     "name": "stderr",
     "output_type": "stream",
     "text": [
      "INFO:tensorflow:Assets written to: saved_models/exp6_aug_calib/best_model_t274/assets\n",
      "[I 2024-02-01 15:59:36,936] Trial 274 finished with value: 0.6200000047683716 and parameters: {'batchsize': 32, 'brightness_factor': 0.15481278553285815, 'gaussian_noise_factor': 0.003833968855430324, 'translate_factor': 0.19326527424000262, 'num_layers': 1, 'layer_0': 'Pointwise2D', 'layer_0_pwconv2d_filters': 24, 'layer_0_pwconv2d_ssize': 4, 'activation_0': 'tanh', 'output_dropout': 0.5192148708300457, 'lr_inicial': 0.0013422790855343446}. Best is trial 85 with value: 0.9800000190734863.\n"
     ]
    },
    {
     "name": "stdout",
     "output_type": "stream",
     "text": [
      "INFO:tensorflow:Assets written to: saved_models/exp6_aug_calib/best_model_t275/assets\n"
     ]
    },
    {
     "name": "stderr",
     "output_type": "stream",
     "text": [
      "INFO:tensorflow:Assets written to: saved_models/exp6_aug_calib/best_model_t275/assets\n",
      "[I 2024-02-01 15:59:57,031] Trial 275 finished with value: 0.9800000190734863 and parameters: {'batchsize': 32, 'brightness_factor': 0.17055393526144252, 'gaussian_noise_factor': 0.02016835292873876, 'translate_factor': 0.11130187127387012, 'num_layers': 3, 'layer_0': 'Pointwise2D', 'layer_0_pwconv2d_filters': 20, 'layer_0_pwconv2d_ssize': 2, 'activation_0': 'relu', 'layer_1': 'Conv2D', 'layer_1_conv2d_filters': 24, 'layer_1_conv2d_fsize': 4, 'layer_1_conv2d_ssize': 2, 'activation_1': 'tanh', 'layer_2': 'Depthwise2D', 'layer_2_dwconv2d_fsize': 4, 'layer_2_dwconv2d_ssize': 4, 'activation_2': 'relu', 'output_dropout': 0.5261448623571252, 'lr_inicial': 0.001439986057545666}. Best is trial 85 with value: 0.9800000190734863.\n"
     ]
    },
    {
     "name": "stdout",
     "output_type": "stream",
     "text": [
      "INFO:tensorflow:Assets written to: saved_models/exp6_aug_calib/best_model_t276/assets\n"
     ]
    },
    {
     "name": "stderr",
     "output_type": "stream",
     "text": [
      "INFO:tensorflow:Assets written to: saved_models/exp6_aug_calib/best_model_t276/assets\n",
      "[I 2024-02-01 16:00:17,282] Trial 276 finished with value: 0.9200000166893005 and parameters: {'batchsize': 32, 'brightness_factor': 0.15990476984643287, 'gaussian_noise_factor': 0.0265176433462141, 'translate_factor': 0.1027407006805629, 'num_layers': 3, 'layer_0': 'Pointwise2D', 'layer_0_pwconv2d_filters': 20, 'layer_0_pwconv2d_ssize': 2, 'activation_0': 'relu', 'layer_1': 'Conv2D', 'layer_1_conv2d_filters': 24, 'layer_1_conv2d_fsize': 4, 'layer_1_conv2d_ssize': 2, 'activation_1': 'tanh', 'layer_2': 'Depthwise2D', 'layer_2_dwconv2d_fsize': 4, 'layer_2_dwconv2d_ssize': 4, 'activation_2': 'relu', 'output_dropout': 0.5261542705308697, 'lr_inicial': 0.0011736810733015597}. Best is trial 85 with value: 0.9800000190734863.\n"
     ]
    },
    {
     "name": "stdout",
     "output_type": "stream",
     "text": [
      "INFO:tensorflow:Assets written to: saved_models/exp6_aug_calib/best_model_t277/assets\n"
     ]
    },
    {
     "name": "stderr",
     "output_type": "stream",
     "text": [
      "INFO:tensorflow:Assets written to: saved_models/exp6_aug_calib/best_model_t277/assets\n",
      "[I 2024-02-01 16:00:37,172] Trial 277 finished with value: 0.8999999761581421 and parameters: {'batchsize': 32, 'brightness_factor': 0.16847730812773942, 'gaussian_noise_factor': 0.022673322414876792, 'translate_factor': 0.17651237798190594, 'num_layers': 3, 'layer_0': 'Pointwise2D', 'layer_0_pwconv2d_filters': 20, 'layer_0_pwconv2d_ssize': 2, 'activation_0': 'relu', 'layer_1': 'Conv2D', 'layer_1_conv2d_filters': 24, 'layer_1_conv2d_fsize': 4, 'layer_1_conv2d_ssize': 2, 'activation_1': 'linear', 'layer_2': 'Depthwise2D', 'layer_2_dwconv2d_fsize': 4, 'layer_2_dwconv2d_ssize': 4, 'activation_2': 'relu', 'output_dropout': 0.5147147437994845, 'lr_inicial': 0.0012270180290615343}. Best is trial 85 with value: 0.9800000190734863.\n"
     ]
    },
    {
     "name": "stdout",
     "output_type": "stream",
     "text": [
      "INFO:tensorflow:Assets written to: saved_models/exp6_aug_calib/best_model_t278/assets\n"
     ]
    },
    {
     "name": "stderr",
     "output_type": "stream",
     "text": [
      "INFO:tensorflow:Assets written to: saved_models/exp6_aug_calib/best_model_t278/assets\n",
      "[I 2024-02-01 16:00:54,539] Trial 278 finished with value: 0.9200000166893005 and parameters: {'batchsize': 32, 'brightness_factor': 0.14642535961230563, 'gaussian_noise_factor': 0.01931201503786459, 'translate_factor': 0.17165047213132434, 'num_layers': 3, 'layer_0': 'Pointwise2D', 'layer_0_pwconv2d_filters': 20, 'layer_0_pwconv2d_ssize': 3, 'activation_0': 'relu', 'layer_1': 'Conv2D', 'layer_1_conv2d_filters': 28, 'layer_1_conv2d_fsize': 4, 'layer_1_conv2d_ssize': 2, 'activation_1': 'tanh', 'layer_2': 'Depthwise2D', 'layer_2_dwconv2d_fsize': 4, 'layer_2_dwconv2d_ssize': 4, 'activation_2': 'relu', 'output_dropout': 0.5236666080524502, 'lr_inicial': 0.0014051115418886651}. Best is trial 85 with value: 0.9800000190734863.\n"
     ]
    },
    {
     "name": "stdout",
     "output_type": "stream",
     "text": [
      "INFO:tensorflow:Assets written to: saved_models/exp6_aug_calib/best_model_t279/assets\n"
     ]
    },
    {
     "name": "stderr",
     "output_type": "stream",
     "text": [
      "INFO:tensorflow:Assets written to: saved_models/exp6_aug_calib/best_model_t279/assets\n",
      "[I 2024-02-01 16:01:14,483] Trial 279 finished with value: 0.8999999761581421 and parameters: {'batchsize': 32, 'brightness_factor': 0.15265429054719648, 'gaussian_noise_factor': 0.016384376761591154, 'translate_factor': 0.16303738867305265, 'num_layers': 3, 'layer_0': 'Pointwise2D', 'layer_0_pwconv2d_filters': 16, 'layer_0_pwconv2d_ssize': 2, 'activation_0': 'relu', 'layer_1': 'Conv2D', 'layer_1_conv2d_filters': 24, 'layer_1_conv2d_fsize': 4, 'layer_1_conv2d_ssize': 2, 'activation_1': 'tanh', 'layer_2': 'Depthwise2D', 'layer_2_dwconv2d_fsize': 5, 'layer_2_dwconv2d_ssize': 4, 'activation_2': 'relu', 'output_dropout': 0.5017135373381422, 'lr_inicial': 0.001756014149199077}. Best is trial 85 with value: 0.9800000190734863.\n"
     ]
    },
    {
     "name": "stdout",
     "output_type": "stream",
     "text": [
      "INFO:tensorflow:Assets written to: saved_models/exp6_aug_calib/best_model_t280/assets\n"
     ]
    },
    {
     "name": "stderr",
     "output_type": "stream",
     "text": [
      "INFO:tensorflow:Assets written to: saved_models/exp6_aug_calib/best_model_t280/assets\n",
      "[I 2024-02-01 16:01:34,493] Trial 280 finished with value: 0.9200000166893005 and parameters: {'batchsize': 32, 'brightness_factor': 0.1713852101397726, 'gaussian_noise_factor': 0.012026207825235207, 'translate_factor': 0.07735886540353512, 'num_layers': 3, 'layer_0': 'Pointwise2D', 'layer_0_pwconv2d_filters': 20, 'layer_0_pwconv2d_ssize': 2, 'activation_0': 'relu', 'layer_1': 'Conv2D', 'layer_1_conv2d_filters': 24, 'layer_1_conv2d_fsize': 4, 'layer_1_conv2d_ssize': 2, 'activation_1': 'tanh', 'layer_2': 'Depthwise2D', 'layer_2_dwconv2d_fsize': 4, 'layer_2_dwconv2d_ssize': 4, 'activation_2': 'relu', 'output_dropout': 0.5313201057388016, 'lr_inicial': 0.0012913018407438265}. Best is trial 85 with value: 0.9800000190734863.\n"
     ]
    },
    {
     "name": "stdout",
     "output_type": "stream",
     "text": [
      "INFO:tensorflow:Assets written to: saved_models/exp6_aug_calib/best_model_t281/assets\n"
     ]
    },
    {
     "name": "stderr",
     "output_type": "stream",
     "text": [
      "INFO:tensorflow:Assets written to: saved_models/exp6_aug_calib/best_model_t281/assets\n",
      "[I 2024-02-01 16:01:51,694] Trial 281 finished with value: 0.9200000166893005 and parameters: {'batchsize': 32, 'brightness_factor': 0.15614782539376396, 'gaussian_noise_factor': 0.012059418219875868, 'translate_factor': 0.15230992472339663, 'num_layers': 3, 'layer_0': 'Pointwise2D', 'layer_0_pwconv2d_filters': 20, 'layer_0_pwconv2d_ssize': 3, 'activation_0': 'relu', 'layer_1': 'Conv2D', 'layer_1_conv2d_filters': 24, 'layer_1_conv2d_fsize': 5, 'layer_1_conv2d_ssize': 2, 'activation_1': 'tanh', 'layer_2': 'Depthwise2D', 'layer_2_dwconv2d_fsize': 4, 'layer_2_dwconv2d_ssize': 4, 'activation_2': 'relu', 'output_dropout': 0.49226213908794736, 'lr_inicial': 0.0015159470587679687}. Best is trial 85 with value: 0.9800000190734863.\n"
     ]
    },
    {
     "name": "stdout",
     "output_type": "stream",
     "text": [
      "INFO:tensorflow:Assets written to: saved_models/exp6_aug_calib/best_model_t282/assets\n"
     ]
    },
    {
     "name": "stderr",
     "output_type": "stream",
     "text": [
      "INFO:tensorflow:Assets written to: saved_models/exp6_aug_calib/best_model_t282/assets\n",
      "[I 2024-02-01 16:02:12,330] Trial 282 finished with value: 0.8600000143051147 and parameters: {'batchsize': 32, 'brightness_factor': 0.16532941227784817, 'gaussian_noise_factor': 0.020338421506372155, 'translate_factor': 0.17986461987506044, 'num_layers': 3, 'layer_0': 'Pointwise2D', 'layer_0_pwconv2d_filters': 20, 'layer_0_pwconv2d_ssize': 2, 'activation_0': 'relu', 'layer_1': 'Pointwise2D', 'layer_1_pwconv2d_filters': 24, 'layer_1_pwconv2d_ssize': 5, 'activation_1': 'tanh', 'layer_2': 'Depthwise2D', 'layer_2_dwconv2d_fsize': 4, 'layer_2_dwconv2d_ssize': 4, 'activation_2': 'relu', 'output_dropout': 0.4827542927234169, 'lr_inicial': 0.0008776611050745923}. Best is trial 85 with value: 0.9800000190734863.\n"
     ]
    },
    {
     "name": "stdout",
     "output_type": "stream",
     "text": [
      "INFO:tensorflow:Assets written to: saved_models/exp6_aug_calib/best_model_t283/assets\n"
     ]
    },
    {
     "name": "stderr",
     "output_type": "stream",
     "text": [
      "INFO:tensorflow:Assets written to: saved_models/exp6_aug_calib/best_model_t283/assets\n",
      "[I 2024-02-01 16:02:33,441] Trial 283 finished with value: 0.9200000166893005 and parameters: {'batchsize': 32, 'brightness_factor': 0.14129466741191482, 'gaussian_noise_factor': 0.0046146690886194105, 'translate_factor': 0.12902651436041784, 'num_layers': 3, 'layer_0': 'Pointwise2D', 'layer_0_pwconv2d_filters': 20, 'layer_0_pwconv2d_ssize': 2, 'activation_0': 'tanh', 'layer_1': 'Conv2D', 'layer_1_conv2d_filters': 24, 'layer_1_conv2d_fsize': 5, 'layer_1_conv2d_ssize': 2, 'activation_1': 'tanh', 'layer_2': 'Depthwise2D', 'layer_2_dwconv2d_fsize': 4, 'layer_2_dwconv2d_ssize': 4, 'activation_2': 'relu', 'output_dropout': 0.5174671305828695, 'lr_inicial': 0.0012043215942186642}. Best is trial 85 with value: 0.9800000190734863.\n"
     ]
    },
    {
     "name": "stdout",
     "output_type": "stream",
     "text": [
      "INFO:tensorflow:Assets written to: saved_models/exp6_aug_calib/best_model_t284/assets\n"
     ]
    },
    {
     "name": "stderr",
     "output_type": "stream",
     "text": [
      "INFO:tensorflow:Assets written to: saved_models/exp6_aug_calib/best_model_t284/assets\n",
      "[I 2024-02-01 16:02:52,877] Trial 284 finished with value: 0.8999999761581421 and parameters: {'batchsize': 32, 'brightness_factor': 0.1492074289625254, 'gaussian_noise_factor': 0.00012215313414981054, 'translate_factor': 0.18663217280196837, 'num_layers': 3, 'layer_0': 'Pointwise2D', 'layer_0_pwconv2d_filters': 20, 'layer_0_pwconv2d_ssize': 2, 'activation_0': 'tanh', 'layer_1': 'Conv2D', 'layer_1_conv2d_filters': 24, 'layer_1_conv2d_fsize': 3, 'layer_1_conv2d_ssize': 2, 'activation_1': 'tanh', 'layer_2': 'Depthwise2D', 'layer_2_dwconv2d_fsize': 4, 'layer_2_dwconv2d_ssize': 4, 'activation_2': 'relu', 'output_dropout': 0.5094221290514033, 'lr_inicial': 0.0013289171725693947}. Best is trial 85 with value: 0.9800000190734863.\n"
     ]
    },
    {
     "name": "stdout",
     "output_type": "stream",
     "text": [
      "INFO:tensorflow:Assets written to: saved_models/exp6_aug_calib/best_model_t285/assets\n"
     ]
    },
    {
     "name": "stderr",
     "output_type": "stream",
     "text": [
      "INFO:tensorflow:Assets written to: saved_models/exp6_aug_calib/best_model_t285/assets\n",
      "[I 2024-02-01 16:03:13,869] Trial 285 finished with value: 0.8600000143051147 and parameters: {'batchsize': 32, 'brightness_factor': 0.13476528213693365, 'gaussian_noise_factor': 0.014859028173865474, 'translate_factor': 0.18453833216659113, 'num_layers': 3, 'layer_0': 'Pointwise2D', 'layer_0_pwconv2d_filters': 20, 'layer_0_pwconv2d_ssize': 2, 'activation_0': 'tanh', 'layer_1': 'Conv2D', 'layer_1_conv2d_filters': 28, 'layer_1_conv2d_fsize': 5, 'layer_1_conv2d_ssize': 2, 'activation_1': 'linear', 'layer_2': 'Depthwise2D', 'layer_2_dwconv2d_fsize': 4, 'layer_2_dwconv2d_ssize': 4, 'activation_2': 'relu', 'output_dropout': 0.5226523570771267, 'lr_inicial': 0.0011215652390351753}. Best is trial 85 with value: 0.9800000190734863.\n"
     ]
    },
    {
     "name": "stdout",
     "output_type": "stream",
     "text": [
      "INFO:tensorflow:Assets written to: saved_models/exp6_aug_calib/best_model_t286/assets\n"
     ]
    },
    {
     "name": "stderr",
     "output_type": "stream",
     "text": [
      "INFO:tensorflow:Assets written to: saved_models/exp6_aug_calib/best_model_t286/assets\n",
      "[I 2024-02-01 16:03:35,614] Trial 286 finished with value: 0.9200000166893005 and parameters: {'batchsize': 32, 'brightness_factor': 0.19338009974412693, 'gaussian_noise_factor': 0.008546649761249098, 'translate_factor': 0.13853333810502017, 'num_layers': 3, 'layer_0': 'Pointwise2D', 'layer_0_pwconv2d_filters': 20, 'layer_0_pwconv2d_ssize': 2, 'activation_0': 'tanh', 'layer_1': 'Conv2D', 'layer_1_conv2d_filters': 32, 'layer_1_conv2d_fsize': 5, 'layer_1_conv2d_ssize': 2, 'activation_1': 'tanh', 'layer_2': 'Depthwise2D', 'layer_2_dwconv2d_fsize': 4, 'layer_2_dwconv2d_ssize': 4, 'activation_2': 'relu', 'output_dropout': 0.5351668075871696, 'lr_inicial': 0.0014519876228898808}. Best is trial 85 with value: 0.9800000190734863.\n"
     ]
    },
    {
     "name": "stdout",
     "output_type": "stream",
     "text": [
      "INFO:tensorflow:Assets written to: saved_models/exp6_aug_calib/best_model_t287/assets\n"
     ]
    },
    {
     "name": "stderr",
     "output_type": "stream",
     "text": [
      "INFO:tensorflow:Assets written to: saved_models/exp6_aug_calib/best_model_t287/assets\n",
      "[I 2024-02-01 16:03:52,518] Trial 287 finished with value: 0.7799999713897705 and parameters: {'batchsize': 32, 'brightness_factor': 0.16214305505435836, 'gaussian_noise_factor': 0.09290845560956375, 'translate_factor': 0.17637414060443835, 'num_layers': 3, 'layer_0': 'Pointwise2D', 'layer_0_pwconv2d_filters': 20, 'layer_0_pwconv2d_ssize': 3, 'activation_0': 'tanh', 'layer_1': 'Conv2D', 'layer_1_conv2d_filters': 24, 'layer_1_conv2d_fsize': 5, 'layer_1_conv2d_ssize': 2, 'activation_1': 'tanh', 'layer_2': 'Depthwise2D', 'layer_2_dwconv2d_fsize': 4, 'layer_2_dwconv2d_ssize': 4, 'activation_2': 'relu', 'output_dropout': 0.5278418422554765, 'lr_inicial': 0.001269040292350215}. Best is trial 85 with value: 0.9800000190734863.\n"
     ]
    },
    {
     "name": "stdout",
     "output_type": "stream",
     "text": [
      "INFO:tensorflow:Assets written to: saved_models/exp6_aug_calib/best_model_t288/assets\n"
     ]
    },
    {
     "name": "stderr",
     "output_type": "stream",
     "text": [
      "INFO:tensorflow:Assets written to: saved_models/exp6_aug_calib/best_model_t288/assets\n",
      "[I 2024-02-01 16:04:17,011] Trial 288 finished with value: 0.800000011920929 and parameters: {'batchsize': 32, 'brightness_factor': 0.1790762545560898, 'gaussian_noise_factor': 0.00943143600139254, 'translate_factor': 0.16654768515321303, 'num_layers': 3, 'layer_0': 'Pointwise2D', 'layer_0_pwconv2d_filters': 24, 'layer_0_pwconv2d_ssize': 2, 'activation_0': 'relu', 'layer_1': 'Conv2D', 'layer_1_conv2d_filters': 24, 'layer_1_conv2d_fsize': 4, 'layer_1_conv2d_ssize': 2, 'activation_1': 'tanh', 'layer_2': 'Conv2D', 'layer_2_conv2d_filters': 32, 'layer_2_conv2d_fsize': 3, 'layer_2_conv2d_ssize': 2, 'activation_2': 'linear', 'output_dropout': 0.5181938428070568, 'lr_inicial': 0.0013905914930949865}. Best is trial 85 with value: 0.9800000190734863.\n"
     ]
    },
    {
     "name": "stdout",
     "output_type": "stream",
     "text": [
      "INFO:tensorflow:Assets written to: saved_models/exp6_aug_calib/best_model_t289/assets\n"
     ]
    },
    {
     "name": "stderr",
     "output_type": "stream",
     "text": [
      "INFO:tensorflow:Assets written to: saved_models/exp6_aug_calib/best_model_t289/assets\n",
      "[I 2024-02-01 16:04:42,176] Trial 289 finished with value: 0.8999999761581421 and parameters: {'batchsize': 32, 'brightness_factor': 0.14491417369362836, 'gaussian_noise_factor': 0.004587812402582344, 'translate_factor': 0.18095991946412374, 'num_layers': 3, 'layer_0': 'Pointwise2D', 'layer_0_pwconv2d_filters': 20, 'layer_0_pwconv2d_ssize': 2, 'activation_0': 'tanh', 'layer_1': 'Conv2D', 'layer_1_conv2d_filters': 24, 'layer_1_conv2d_fsize': 5, 'layer_1_conv2d_ssize': 2, 'activation_1': 'tanh', 'layer_2': 'Depthwise2D', 'layer_2_dwconv2d_fsize': 4, 'layer_2_dwconv2d_ssize': 4, 'activation_2': 'relu', 'output_dropout': 0.5118212043882933, 'lr_inicial': 0.0016417649473928892}. Best is trial 85 with value: 0.9800000190734863.\n"
     ]
    },
    {
     "name": "stdout",
     "output_type": "stream",
     "text": [
      "INFO:tensorflow:Assets written to: saved_models/exp6_aug_calib/best_model_t290/assets\n"
     ]
    },
    {
     "name": "stderr",
     "output_type": "stream",
     "text": [
      "INFO:tensorflow:Assets written to: saved_models/exp6_aug_calib/best_model_t290/assets\n",
      "[I 2024-02-01 16:04:58,206] Trial 290 finished with value: 0.7400000095367432 and parameters: {'batchsize': 32, 'brightness_factor': 0.15107866620102625, 'gaussian_noise_factor': 0.017403798267004607, 'translate_factor': 0.18908649323926252, 'num_layers': 2, 'layer_0': 'Pointwise2D', 'layer_0_pwconv2d_filters': 20, 'layer_0_pwconv2d_ssize': 5, 'activation_0': 'tanh', 'layer_1': 'Conv2D', 'layer_1_conv2d_filters': 24, 'layer_1_conv2d_fsize': 5, 'layer_1_conv2d_ssize': 6, 'activation_1': 'tanh', 'output_dropout': 0.505539571834468, 'lr_inicial': 0.0007912122942727772}. Best is trial 85 with value: 0.9800000190734863.\n"
     ]
    },
    {
     "name": "stdout",
     "output_type": "stream",
     "text": [
      "INFO:tensorflow:Assets written to: saved_models/exp6_aug_calib/best_model_t291/assets\n"
     ]
    },
    {
     "name": "stderr",
     "output_type": "stream",
     "text": [
      "INFO:tensorflow:Assets written to: saved_models/exp6_aug_calib/best_model_t291/assets\n",
      "[I 2024-02-01 16:05:19,345] Trial 291 finished with value: 0.8999999761581421 and parameters: {'batchsize': 32, 'brightness_factor': 0.17154156536090692, 'gaussian_noise_factor': 0.05644410879910047, 'translate_factor': 0.06881284824158182, 'num_layers': 3, 'layer_0': 'Pointwise2D', 'layer_0_pwconv2d_filters': 20, 'layer_0_pwconv2d_ssize': 2, 'activation_0': 'tanh', 'layer_1': 'Conv2D', 'layer_1_conv2d_filters': 24, 'layer_1_conv2d_fsize': 5, 'layer_1_conv2d_ssize': 2, 'activation_1': 'tanh', 'layer_2': 'Depthwise2D', 'layer_2_dwconv2d_fsize': 4, 'layer_2_dwconv2d_ssize': 4, 'activation_2': 'relu', 'output_dropout': 0.5244739557971455, 'lr_inicial': 0.001162306508627489}. Best is trial 85 with value: 0.9800000190734863.\n"
     ]
    },
    {
     "name": "stdout",
     "output_type": "stream",
     "text": [
      "INFO:tensorflow:Assets written to: saved_models/exp6_aug_calib/best_model_t292/assets\n"
     ]
    },
    {
     "name": "stderr",
     "output_type": "stream",
     "text": [
      "INFO:tensorflow:Assets written to: saved_models/exp6_aug_calib/best_model_t292/assets\n",
      "[I 2024-02-01 16:05:42,331] Trial 292 finished with value: 0.9200000166893005 and parameters: {'batchsize': 32, 'brightness_factor': 0.15972084330020989, 'gaussian_noise_factor': 0.011907601040244388, 'translate_factor': 0.14380657654475995, 'num_layers': 3, 'layer_0': 'Pointwise2D', 'layer_0_pwconv2d_filters': 20, 'layer_0_pwconv2d_ssize': 2, 'activation_0': 'linear', 'layer_1': 'Conv2D', 'layer_1_conv2d_filters': 24, 'layer_1_conv2d_fsize': 5, 'layer_1_conv2d_ssize': 2, 'activation_1': 'tanh', 'layer_2': 'Depthwise2D', 'layer_2_dwconv2d_fsize': 4, 'layer_2_dwconv2d_ssize': 4, 'activation_2': 'relu', 'output_dropout': 0.5379663289823108, 'lr_inicial': 0.0012338825513519404}. Best is trial 85 with value: 0.9800000190734863.\n"
     ]
    },
    {
     "name": "stdout",
     "output_type": "stream",
     "text": [
      "INFO:tensorflow:Assets written to: saved_models/exp6_aug_calib/best_model_t293/assets\n"
     ]
    },
    {
     "name": "stderr",
     "output_type": "stream",
     "text": [
      "INFO:tensorflow:Assets written to: saved_models/exp6_aug_calib/best_model_t293/assets\n",
      "[I 2024-02-01 16:05:59,792] Trial 293 finished with value: 0.8600000143051147 and parameters: {'batchsize': 32, 'brightness_factor': 0.0011940630025085996, 'gaussian_noise_factor': 0.003587627350501003, 'translate_factor': 0.17321197481111106, 'num_layers': 3, 'layer_0': 'Depthwise2D', 'layer_0_dwconv2d_fsize': 4, 'layer_0_dwconv2d_ssize': 2, 'activation_0': 'tanh', 'layer_1': 'Conv2D', 'layer_1_conv2d_filters': 28, 'layer_1_conv2d_fsize': 5, 'layer_1_conv2d_ssize': 2, 'activation_1': 'relu', 'layer_2': 'Depthwise2D', 'layer_2_dwconv2d_fsize': 5, 'layer_2_dwconv2d_ssize': 4, 'activation_2': 'relu', 'output_dropout': 0.44957965720463633, 'lr_inicial': 0.0013577857307481454}. Best is trial 85 with value: 0.9800000190734863.\n"
     ]
    },
    {
     "name": "stdout",
     "output_type": "stream",
     "text": [
      "INFO:tensorflow:Assets written to: saved_models/exp6_aug_calib/best_model_t294/assets\n"
     ]
    },
    {
     "name": "stderr",
     "output_type": "stream",
     "text": [
      "INFO:tensorflow:Assets written to: saved_models/exp6_aug_calib/best_model_t294/assets\n",
      "[I 2024-02-01 16:06:20,078] Trial 294 finished with value: 0.8600000143051147 and parameters: {'batchsize': 32, 'brightness_factor': 0.18344497783318095, 'gaussian_noise_factor': 0.007849386048456239, 'translate_factor': 0.1971870949321229, 'num_layers': 3, 'layer_0': 'Pointwise2D', 'layer_0_pwconv2d_filters': 20, 'layer_0_pwconv2d_ssize': 2, 'activation_0': 'tanh', 'layer_1': 'Conv2D', 'layer_1_conv2d_filters': 24, 'layer_1_conv2d_fsize': 5, 'layer_1_conv2d_ssize': 3, 'activation_1': 'linear', 'layer_2': 'Depthwise2D', 'layer_2_dwconv2d_fsize': 4, 'layer_2_dwconv2d_ssize': 4, 'activation_2': 'relu', 'output_dropout': 0.5192891156837072, 'lr_inicial': 0.0003567852301444102}. Best is trial 85 with value: 0.9800000190734863.\n"
     ]
    },
    {
     "name": "stdout",
     "output_type": "stream",
     "text": [
      "INFO:tensorflow:Assets written to: saved_models/exp6_aug_calib/best_model_t295/assets\n"
     ]
    },
    {
     "name": "stderr",
     "output_type": "stream",
     "text": [
      "INFO:tensorflow:Assets written to: saved_models/exp6_aug_calib/best_model_t295/assets\n",
      "[I 2024-02-01 16:06:37,257] Trial 295 finished with value: 0.9200000166893005 and parameters: {'batchsize': 32, 'brightness_factor': 0.15516803715145924, 'gaussian_noise_factor': 4.35371310981412e-05, 'translate_factor': 0.11481224191605251, 'num_layers': 3, 'layer_0': 'Pointwise2D', 'layer_0_pwconv2d_filters': 20, 'layer_0_pwconv2d_ssize': 3, 'activation_0': 'relu', 'layer_1': 'Conv2D', 'layer_1_conv2d_filters': 24, 'layer_1_conv2d_fsize': 5, 'layer_1_conv2d_ssize': 2, 'activation_1': 'tanh', 'layer_2': 'Depthwise2D', 'layer_2_dwconv2d_fsize': 4, 'layer_2_dwconv2d_ssize': 4, 'activation_2': 'relu', 'output_dropout': 0.5285981930104234, 'lr_inicial': 0.001048497636767866}. Best is trial 85 with value: 0.9800000190734863.\n"
     ]
    },
    {
     "name": "stdout",
     "output_type": "stream",
     "text": [
      "INFO:tensorflow:Assets written to: saved_models/exp6_aug_calib/best_model_t296/assets\n"
     ]
    },
    {
     "name": "stderr",
     "output_type": "stream",
     "text": [
      "INFO:tensorflow:Assets written to: saved_models/exp6_aug_calib/best_model_t296/assets\n",
      "[I 2024-02-01 16:06:52,098] Trial 296 finished with value: 0.6600000262260437 and parameters: {'batchsize': 32, 'brightness_factor': 0.16616187326656054, 'gaussian_noise_factor': 0.014281714558151217, 'translate_factor': 0.10858157181590594, 'num_layers': 1, 'layer_0': 'Pointwise2D', 'layer_0_pwconv2d_filters': 20, 'layer_0_pwconv2d_ssize': 3, 'activation_0': 'tanh', 'output_dropout': 0.3655331168290077, 'lr_inicial': 0.001526123635287084}. Best is trial 85 with value: 0.9800000190734863.\n"
     ]
    },
    {
     "name": "stdout",
     "output_type": "stream",
     "text": [
      "INFO:tensorflow:Assets written to: saved_models/exp6_aug_calib/best_model_t297/assets\n"
     ]
    },
    {
     "name": "stderr",
     "output_type": "stream",
     "text": [
      "INFO:tensorflow:Assets written to: saved_models/exp6_aug_calib/best_model_t297/assets\n",
      "[I 2024-02-01 16:07:07,489] Trial 297 finished with value: 0.7200000286102295 and parameters: {'batchsize': 32, 'brightness_factor': 0.10883761150673478, 'gaussian_noise_factor': 0.006664867623630549, 'translate_factor': 0.18465540486912088, 'num_layers': 3, 'layer_0': 'Conv2D', 'layer_0_conv2d_filters': 16, 'layer_0_conv2d_fsize': 4, 'layer_0_conv2d_ssize': 5, 'activation_0': 'tanh', 'layer_1': 'Depthwise2D', 'layer_1_dwconv2d_fsize': 5, 'layer_1_dwconv2d_ssize': 3, 'activation_1': 'tanh', 'layer_2': 'Depthwise2D', 'layer_2_dwconv2d_fsize': 4, 'layer_2_dwconv2d_ssize': 4, 'activation_2': 'tanh', 'output_dropout': 0.49942908325713115, 'lr_inicial': 0.0014425880460359694}. Best is trial 85 with value: 0.9800000190734863.\n"
     ]
    },
    {
     "name": "stdout",
     "output_type": "stream",
     "text": [
      "INFO:tensorflow:Assets written to: saved_models/exp6_aug_calib/best_model_t298/assets\n"
     ]
    },
    {
     "name": "stderr",
     "output_type": "stream",
     "text": [
      "INFO:tensorflow:Assets written to: saved_models/exp6_aug_calib/best_model_t298/assets\n",
      "[I 2024-02-01 16:07:28,526] Trial 298 finished with value: 0.8399999737739563 and parameters: {'batchsize': 128, 'brightness_factor': 0.14674797874756662, 'gaussian_noise_factor': 0.02309744622494604, 'translate_factor': 0.1997428823298305, 'num_layers': 3, 'layer_0': 'Pointwise2D', 'layer_0_pwconv2d_filters': 20, 'layer_0_pwconv2d_ssize': 2, 'activation_0': 'tanh', 'layer_1': 'Conv2D', 'layer_1_conv2d_filters': 24, 'layer_1_conv2d_fsize': 5, 'layer_1_conv2d_ssize': 2, 'activation_1': 'tanh', 'layer_2': 'Depthwise2D', 'layer_2_dwconv2d_fsize': 4, 'layer_2_dwconv2d_ssize': 4, 'activation_2': 'relu', 'output_dropout': 0.5131454503689198, 'lr_inicial': 0.0010994882619495187}. Best is trial 85 with value: 0.9800000190734863.\n"
     ]
    },
    {
     "name": "stdout",
     "output_type": "stream",
     "text": [
      "INFO:tensorflow:Assets written to: saved_models/exp6_aug_calib/best_model_t299/assets\n"
     ]
    },
    {
     "name": "stderr",
     "output_type": "stream",
     "text": [
      "INFO:tensorflow:Assets written to: saved_models/exp6_aug_calib/best_model_t299/assets\n",
      "[I 2024-02-01 16:07:50,149] Trial 299 finished with value: 0.7400000095367432 and parameters: {'batchsize': 32, 'brightness_factor': 0.18777975375933537, 'gaussian_noise_factor': 0.010220956974527066, 'translate_factor': 0.17869918811098756, 'num_layers': 3, 'layer_0': 'Pointwise2D', 'layer_0_pwconv2d_filters': 20, 'layer_0_pwconv2d_ssize': 2, 'activation_0': 'tanh', 'layer_1': 'Conv2D', 'layer_1_conv2d_filters': 24, 'layer_1_conv2d_fsize': 5, 'layer_1_conv2d_ssize': 2, 'activation_1': 'tanh', 'layer_2': 'Pointwise2D', 'layer_2_pwconv2d_filters': 4, 'layer_2_pwconv2d_ssize': 4, 'activation_2': 'relu', 'output_dropout': 0.5327841143916707, 'lr_inicial': 0.0009711985504487472}. Best is trial 85 with value: 0.9800000190734863.\n"
     ]
    },
    {
     "data": {
      "text/plain": [
       "['saved_studies/2024:02:01:16:07:50.pkl']"
      ]
     },
     "execution_count": 5,
     "metadata": {},
     "output_type": "execute_result"
    }
   ],
   "source": [
    "EXP_ID = \"exp6_aug_calib\"\n",
    "keras.utils.disable_interactive_logging()\n",
    "\n",
    "# start searching for a model\n",
    "study = search()\n",
    "\n",
    "# save the study\n",
    "now = datetime.now()\n",
    "joblib.dump(study, \"saved_studies/\" + now.strftime(\"%Y:%m:%d:%H:%M:%S\") + \".pkl\")"
   ]
  },
  {
   "cell_type": "markdown",
   "metadata": {},
   "source": [
    "# visualizations"
   ]
  },
  {
   "cell_type": "code",
   "execution_count": 6,
   "metadata": {},
   "outputs": [
    {
     "name": "stdout",
     "output_type": "stream",
     "text": [
      "Number of finished trials:  300\n",
      "Best trial id: 85\n",
      "  Value:  0.9800000190734863\n",
      "  Params: \n",
      "    batchsize: 32\n",
      "    brightness_factor: 0.11014907799381678\n",
      "    gaussian_noise_factor: 0.00012251879039760355\n",
      "    translate_factor: 0.17819308851542753\n",
      "    num_layers: 3\n",
      "    layer_0: Pointwise2D\n",
      "    layer_0_pwconv2d_filters: 20\n",
      "    layer_0_pwconv2d_ssize: 3\n",
      "    activation_0: relu\n",
      "    layer_1: Conv2D\n",
      "    layer_1_conv2d_filters: 24\n",
      "    layer_1_conv2d_fsize: 5\n",
      "    layer_1_conv2d_ssize: 2\n",
      "    activation_1: tanh\n",
      "    layer_2: Depthwise2D\n",
      "    layer_2_dwconv2d_fsize: 4\n",
      "    layer_2_dwconv2d_ssize: 4\n",
      "    activation_2: relu\n",
      "    output_dropout: 0.5532897757283509\n",
      "    lr_inicial: 0.001110531777036327\n"
     ]
    }
   ],
   "source": [
    "print(\"Number of finished trials: \", len(study.trials))\n",
    "\n",
    "trial = study.best_trial\n",
    "print(f\"Best trial id: {trial._trial_id}\")\n",
    "\n",
    "print(\"  Value: \", trial.value)\n",
    "\n",
    "print(\"  Params: \")\n",
    "for key, value in trial.params.items():\n",
    "    print(\"    {}: {}\".format(key, value))"
   ]
  },
  {
   "cell_type": "code",
   "execution_count": 12,
   "metadata": {},
   "outputs": [],
   "source": [
    "study_2 = joblib.load(\"/home/webphy/Desktop/dnn_processor/neural_network/automl/saved_studies/2024:02:01:16:07:50.pkl\")"
   ]
  },
  {
   "cell_type": "code",
   "execution_count": 13,
   "metadata": {},
   "outputs": [],
   "source": [
    "from optuna.visualization import plot_optimization_history\n",
    "from optuna.visualization import plot_parallel_coordinate\n",
    "from optuna.visualization import plot_param_importances"
   ]
  },
  {
   "cell_type": "code",
   "execution_count": 14,
   "metadata": {},
   "outputs": [
    {
     "data": {
      "application/vnd.plotly.v1+json": {
       "config": {
        "plotlyServerURL": "https://plot.ly"
       },
       "data": [
        {
         "mode": "markers",
         "name": "Objective Value",
         "type": "scatter",
         "x": [
          0,
          1,
          2,
          3,
          4,
          5,
          6,
          7,
          8,
          9,
          10,
          11,
          12,
          13,
          14,
          15,
          16,
          17,
          18,
          19,
          20,
          21,
          22,
          23,
          24,
          25,
          26,
          27,
          28,
          29,
          30,
          31,
          32,
          33,
          34,
          35,
          36,
          37,
          38,
          39,
          40,
          41,
          42,
          43,
          44,
          45,
          46,
          47,
          48,
          49,
          50,
          51,
          52,
          53,
          54,
          55,
          56,
          57,
          58,
          59,
          60,
          61,
          62,
          63,
          64,
          65,
          66,
          67,
          68,
          69,
          70,
          71,
          72,
          73,
          74,
          75,
          76,
          77,
          78,
          79,
          80,
          81,
          82,
          83,
          84,
          85,
          86,
          87,
          88,
          89,
          90,
          91,
          92,
          93,
          94,
          95,
          96,
          97,
          98,
          99,
          100,
          101,
          102,
          103,
          104,
          105,
          106,
          107,
          108,
          109,
          110,
          111,
          112,
          113,
          114,
          115,
          116,
          117,
          118,
          119,
          120,
          121,
          122,
          123,
          124,
          125,
          126,
          127,
          128,
          129,
          130,
          131,
          132,
          133,
          134,
          135,
          136,
          137,
          138,
          139,
          140,
          141,
          142,
          143,
          144,
          145,
          146,
          147,
          148,
          149,
          150,
          151,
          152,
          153,
          154,
          155,
          156,
          157,
          158,
          159,
          160,
          161,
          162,
          163,
          164,
          165,
          166,
          167,
          168,
          169,
          170,
          171,
          172,
          173,
          174,
          175,
          176,
          177,
          178,
          179,
          180,
          181,
          182,
          183,
          184,
          185,
          186,
          187,
          188,
          189,
          190,
          191,
          192,
          193,
          194,
          195,
          196,
          197,
          198,
          199,
          200,
          201,
          202,
          203,
          204,
          205,
          206,
          207,
          208,
          209,
          210,
          211,
          212,
          213,
          214,
          215,
          216,
          217,
          218,
          219,
          220,
          221,
          222,
          223,
          224,
          225,
          226,
          227,
          228,
          229,
          230,
          231,
          232,
          233,
          234,
          235,
          236,
          237,
          238,
          239,
          240,
          241,
          242,
          243,
          244,
          245,
          246,
          247,
          248,
          249,
          250,
          251,
          252,
          253,
          254,
          255,
          256,
          257,
          258,
          259,
          260,
          261,
          262,
          263,
          264,
          265,
          266,
          267,
          268,
          269,
          270,
          271,
          272,
          273,
          274,
          275,
          276,
          277,
          278,
          279,
          280,
          281,
          282,
          283,
          284,
          285,
          286,
          287,
          288,
          289,
          290,
          291,
          292,
          293,
          294,
          295,
          296,
          297,
          298,
          299
         ],
         "y": [
          0.6800000071525574,
          0.699999988079071,
          0.8199999928474426,
          0.6399999856948853,
          0.6200000047683716,
          0.6200000047683716,
          0.7200000286102295,
          0.7400000095367432,
          0.7599999904632568,
          0.8199999928474426,
          0.5199999809265137,
          0.8199999928474426,
          0.7200000286102295,
          0.699999988079071,
          0.699999988079071,
          0.7599999904632568,
          0.7599999904632568,
          0.7799999713897705,
          0.7799999713897705,
          0.7599999904632568,
          0.6600000262260437,
          0.7799999713897705,
          0.8199999928474426,
          0.800000011920929,
          0.800000011920929,
          0.800000011920929,
          0.7200000286102295,
          0.7200000286102295,
          0.7599999904632568,
          0.699999988079071,
          0.7799999713897705,
          0.7799999713897705,
          0.7599999904632568,
          0.7599999904632568,
          0.800000011920929,
          0.699999988079071,
          0.8600000143051147,
          0.8199999928474426,
          0.7200000286102295,
          0.7599999904632568,
          0.7799999713897705,
          0.8199999928474426,
          0.800000011920929,
          0.7200000286102295,
          0.9200000166893005,
          0.8199999928474426,
          0.8799999952316284,
          0.7200000286102295,
          0.7799999713897705,
          0.800000011920929,
          0.8399999737739563,
          0.7599999904632568,
          0.7400000095367432,
          0.8600000143051147,
          0.8199999928474426,
          0.8799999952316284,
          0.8399999737739563,
          0.699999988079071,
          0.8199999928474426,
          0.800000011920929,
          0.7200000286102295,
          0.800000011920929,
          0.8399999737739563,
          0.800000011920929,
          0.8600000143051147,
          0.8600000143051147,
          0.7400000095367432,
          0.8399999737739563,
          0.8999999761581421,
          0.6800000071525574,
          0.8199999928474426,
          0.7799999713897705,
          0.8600000143051147,
          0.8799999952316284,
          0.9599999785423279,
          0.8799999952316284,
          0.800000011920929,
          0.8399999737739563,
          0.8600000143051147,
          0.7799999713897705,
          0.7799999713897705,
          0.8999999761581421,
          0.9200000166893005,
          0.8999999761581421,
          0.8799999952316284,
          0.9800000190734863,
          0.9599999785423279,
          0.8799999952316284,
          0.8600000143051147,
          0.9200000166893005,
          0.9599999785423279,
          0.9399999976158142,
          0.9200000166893005,
          0.8799999952316284,
          0.9399999976158142,
          0.9399999976158142,
          0.9599999785423279,
          0.8199999928474426,
          0.7200000286102295,
          0.6000000238418579,
          0.9599999785423279,
          0.9399999976158142,
          0.9399999976158142,
          0.9599999785423279,
          0.9399999976158142,
          0.8199999928474426,
          0.8999999761581421,
          0.9200000166893005,
          0.8199999928474426,
          0.8199999928474426,
          0.9399999976158142,
          0.9599999785423279,
          0.8999999761581421,
          0.9599999785423279,
          0.9599999785423279,
          0.7799999713897705,
          0.7599999904632568,
          0.9399999976158142,
          0.8799999952316284,
          0.6800000071525574,
          0.6600000262260437,
          0.9399999976158142,
          0.9399999976158142,
          0.9399999976158142,
          0.9399999976158142,
          0.9399999976158142,
          0.9399999976158142,
          0.7799999713897705,
          0.7400000095367432,
          0.9399999976158142,
          0.8600000143051147,
          0.9200000166893005,
          0.9399999976158142,
          0.9599999785423279,
          0.9599999785423279,
          0.9200000166893005,
          0.9399999976158142,
          0.9200000166893005,
          0.7400000095367432,
          0.9599999785423279,
          0.9399999976158142,
          0.9599999785423279,
          0.9200000166893005,
          0.9599999785423279,
          0.9399999976158142,
          0.9399999976158142,
          0.6399999856948853,
          0.9399999976158142,
          0.8999999761581421,
          0.7400000095367432,
          0.8199999928474426,
          0.9399999976158142,
          0.8999999761581421,
          0.7799999713897705,
          0.9399999976158142,
          0.8399999737739563,
          0.8999999761581421,
          0.9399999976158142,
          0.9399999976158142,
          0.9399999976158142,
          0.8600000143051147,
          0.8999999761581421,
          0.9599999785423279,
          0.9599999785423279,
          0.9599999785423279,
          0.9399999976158142,
          0.8999999761581421,
          0.9200000166893005,
          0.800000011920929,
          0.9599999785423279,
          0.9599999785423279,
          0.8999999761581421,
          0.8999999761581421,
          0.8999999761581421,
          0.9200000166893005,
          0.9399999976158142,
          0.9599999785423279,
          0.7599999904632568,
          0.8799999952316284,
          0.699999988079071,
          0.9599999785423279,
          0.9200000166893005,
          0.9200000166893005,
          0.9200000166893005,
          0.9399999976158142,
          0.9200000166893005,
          0.9200000166893005,
          0.7799999713897705,
          0.8999999761581421,
          0.9200000166893005,
          0.8600000143051147,
          0.9399999976158142,
          0.9599999785423279,
          0.9599999785423279,
          0.9200000166893005,
          0.9599999785423279,
          0.9399999976158142,
          0.8799999952316284,
          0.9200000166893005,
          0.9399999976158142,
          0.9200000166893005,
          0.9200000166893005,
          0.9599999785423279,
          0.9200000166893005,
          0.9200000166893005,
          0.8999999761581421,
          0.7599999904632568,
          0.8999999761581421,
          0.9200000166893005,
          0.7599999904632568,
          0.9599999785423279,
          0.9200000166893005,
          0.9399999976158142,
          0.9200000166893005,
          0.9599999785423279,
          0.8799999952316284,
          0.7599999904632568,
          0.9399999976158142,
          0.9800000190734863,
          0.8600000143051147,
          0.8399999737739563,
          0.9599999785423279,
          0.8999999761581421,
          0.9399999976158142,
          0.9200000166893005,
          0.8999999761581421,
          0.9599999785423279,
          0.9399999976158142,
          0.7799999713897705,
          0.9599999785423279,
          0.9399999976158142,
          0.9399999976158142,
          0.9599999785423279,
          0.9399999976158142,
          0.8999999761581421,
          0.9599999785423279,
          0.8600000143051147,
          0.9399999976158142,
          0.9200000166893005,
          0.9399999976158142,
          0.7799999713897705,
          0.9399999976158142,
          0.9200000166893005,
          0.9200000166893005,
          0.8799999952316284,
          0.8799999952316284,
          0.9399999976158142,
          0.9200000166893005,
          0.7599999904632568,
          0.8799999952316284,
          0.8999999761581421,
          0.8399999737739563,
          0.6600000262260437,
          0.9399999976158142,
          0.9399999976158142,
          0.9399999976158142,
          0.9399999976158142,
          0.7799999713897705,
          0.8999999761581421,
          0.8999999761581421,
          0.9200000166893005,
          0.9200000166893005,
          0.9399999976158142,
          0.8199999928474426,
          0.7400000095367432,
          0.9399999976158142,
          0.9200000166893005,
          0.800000011920929,
          0.9599999785423279,
          0.8999999761581421,
          0.9200000166893005,
          0.9399999976158142,
          0.8399999737739563,
          0.7599999904632568,
          0.6200000047683716,
          0.9800000190734863,
          0.9200000166893005,
          0.8999999761581421,
          0.9200000166893005,
          0.8999999761581421,
          0.9200000166893005,
          0.9200000166893005,
          0.8600000143051147,
          0.9200000166893005,
          0.8999999761581421,
          0.8600000143051147,
          0.9200000166893005,
          0.7799999713897705,
          0.800000011920929,
          0.8999999761581421,
          0.7400000095367432,
          0.8999999761581421,
          0.9200000166893005,
          0.8600000143051147,
          0.8600000143051147,
          0.9200000166893005,
          0.6600000262260437,
          0.7200000286102295,
          0.8399999737739563,
          0.7400000095367432
         ]
        },
        {
         "mode": "lines",
         "name": "Best Value",
         "type": "scatter",
         "x": [
          0,
          1,
          2,
          3,
          4,
          5,
          6,
          7,
          8,
          9,
          10,
          11,
          12,
          13,
          14,
          15,
          16,
          17,
          18,
          19,
          20,
          21,
          22,
          23,
          24,
          25,
          26,
          27,
          28,
          29,
          30,
          31,
          32,
          33,
          34,
          35,
          36,
          37,
          38,
          39,
          40,
          41,
          42,
          43,
          44,
          45,
          46,
          47,
          48,
          49,
          50,
          51,
          52,
          53,
          54,
          55,
          56,
          57,
          58,
          59,
          60,
          61,
          62,
          63,
          64,
          65,
          66,
          67,
          68,
          69,
          70,
          71,
          72,
          73,
          74,
          75,
          76,
          77,
          78,
          79,
          80,
          81,
          82,
          83,
          84,
          85,
          86,
          87,
          88,
          89,
          90,
          91,
          92,
          93,
          94,
          95,
          96,
          97,
          98,
          99,
          100,
          101,
          102,
          103,
          104,
          105,
          106,
          107,
          108,
          109,
          110,
          111,
          112,
          113,
          114,
          115,
          116,
          117,
          118,
          119,
          120,
          121,
          122,
          123,
          124,
          125,
          126,
          127,
          128,
          129,
          130,
          131,
          132,
          133,
          134,
          135,
          136,
          137,
          138,
          139,
          140,
          141,
          142,
          143,
          144,
          145,
          146,
          147,
          148,
          149,
          150,
          151,
          152,
          153,
          154,
          155,
          156,
          157,
          158,
          159,
          160,
          161,
          162,
          163,
          164,
          165,
          166,
          167,
          168,
          169,
          170,
          171,
          172,
          173,
          174,
          175,
          176,
          177,
          178,
          179,
          180,
          181,
          182,
          183,
          184,
          185,
          186,
          187,
          188,
          189,
          190,
          191,
          192,
          193,
          194,
          195,
          196,
          197,
          198,
          199,
          200,
          201,
          202,
          203,
          204,
          205,
          206,
          207,
          208,
          209,
          210,
          211,
          212,
          213,
          214,
          215,
          216,
          217,
          218,
          219,
          220,
          221,
          222,
          223,
          224,
          225,
          226,
          227,
          228,
          229,
          230,
          231,
          232,
          233,
          234,
          235,
          236,
          237,
          238,
          239,
          240,
          241,
          242,
          243,
          244,
          245,
          246,
          247,
          248,
          249,
          250,
          251,
          252,
          253,
          254,
          255,
          256,
          257,
          258,
          259,
          260,
          261,
          262,
          263,
          264,
          265,
          266,
          267,
          268,
          269,
          270,
          271,
          272,
          273,
          274,
          275,
          276,
          277,
          278,
          279,
          280,
          281,
          282,
          283,
          284,
          285,
          286,
          287,
          288,
          289,
          290,
          291,
          292,
          293,
          294,
          295,
          296,
          297,
          298,
          299
         ],
         "y": [
          0.6800000071525574,
          0.699999988079071,
          0.8199999928474426,
          0.8199999928474426,
          0.8199999928474426,
          0.8199999928474426,
          0.8199999928474426,
          0.8199999928474426,
          0.8199999928474426,
          0.8199999928474426,
          0.8199999928474426,
          0.8199999928474426,
          0.8199999928474426,
          0.8199999928474426,
          0.8199999928474426,
          0.8199999928474426,
          0.8199999928474426,
          0.8199999928474426,
          0.8199999928474426,
          0.8199999928474426,
          0.8199999928474426,
          0.8199999928474426,
          0.8199999928474426,
          0.8199999928474426,
          0.8199999928474426,
          0.8199999928474426,
          0.8199999928474426,
          0.8199999928474426,
          0.8199999928474426,
          0.8199999928474426,
          0.8199999928474426,
          0.8199999928474426,
          0.8199999928474426,
          0.8199999928474426,
          0.8199999928474426,
          0.8199999928474426,
          0.8600000143051147,
          0.8600000143051147,
          0.8600000143051147,
          0.8600000143051147,
          0.8600000143051147,
          0.8600000143051147,
          0.8600000143051147,
          0.8600000143051147,
          0.9200000166893005,
          0.9200000166893005,
          0.9200000166893005,
          0.9200000166893005,
          0.9200000166893005,
          0.9200000166893005,
          0.9200000166893005,
          0.9200000166893005,
          0.9200000166893005,
          0.9200000166893005,
          0.9200000166893005,
          0.9200000166893005,
          0.9200000166893005,
          0.9200000166893005,
          0.9200000166893005,
          0.9200000166893005,
          0.9200000166893005,
          0.9200000166893005,
          0.9200000166893005,
          0.9200000166893005,
          0.9200000166893005,
          0.9200000166893005,
          0.9200000166893005,
          0.9200000166893005,
          0.9200000166893005,
          0.9200000166893005,
          0.9200000166893005,
          0.9200000166893005,
          0.9200000166893005,
          0.9200000166893005,
          0.9599999785423279,
          0.9599999785423279,
          0.9599999785423279,
          0.9599999785423279,
          0.9599999785423279,
          0.9599999785423279,
          0.9599999785423279,
          0.9599999785423279,
          0.9599999785423279,
          0.9599999785423279,
          0.9599999785423279,
          0.9800000190734863,
          0.9800000190734863,
          0.9800000190734863,
          0.9800000190734863,
          0.9800000190734863,
          0.9800000190734863,
          0.9800000190734863,
          0.9800000190734863,
          0.9800000190734863,
          0.9800000190734863,
          0.9800000190734863,
          0.9800000190734863,
          0.9800000190734863,
          0.9800000190734863,
          0.9800000190734863,
          0.9800000190734863,
          0.9800000190734863,
          0.9800000190734863,
          0.9800000190734863,
          0.9800000190734863,
          0.9800000190734863,
          0.9800000190734863,
          0.9800000190734863,
          0.9800000190734863,
          0.9800000190734863,
          0.9800000190734863,
          0.9800000190734863,
          0.9800000190734863,
          0.9800000190734863,
          0.9800000190734863,
          0.9800000190734863,
          0.9800000190734863,
          0.9800000190734863,
          0.9800000190734863,
          0.9800000190734863,
          0.9800000190734863,
          0.9800000190734863,
          0.9800000190734863,
          0.9800000190734863,
          0.9800000190734863,
          0.9800000190734863,
          0.9800000190734863,
          0.9800000190734863,
          0.9800000190734863,
          0.9800000190734863,
          0.9800000190734863,
          0.9800000190734863,
          0.9800000190734863,
          0.9800000190734863,
          0.9800000190734863,
          0.9800000190734863,
          0.9800000190734863,
          0.9800000190734863,
          0.9800000190734863,
          0.9800000190734863,
          0.9800000190734863,
          0.9800000190734863,
          0.9800000190734863,
          0.9800000190734863,
          0.9800000190734863,
          0.9800000190734863,
          0.9800000190734863,
          0.9800000190734863,
          0.9800000190734863,
          0.9800000190734863,
          0.9800000190734863,
          0.9800000190734863,
          0.9800000190734863,
          0.9800000190734863,
          0.9800000190734863,
          0.9800000190734863,
          0.9800000190734863,
          0.9800000190734863,
          0.9800000190734863,
          0.9800000190734863,
          0.9800000190734863,
          0.9800000190734863,
          0.9800000190734863,
          0.9800000190734863,
          0.9800000190734863,
          0.9800000190734863,
          0.9800000190734863,
          0.9800000190734863,
          0.9800000190734863,
          0.9800000190734863,
          0.9800000190734863,
          0.9800000190734863,
          0.9800000190734863,
          0.9800000190734863,
          0.9800000190734863,
          0.9800000190734863,
          0.9800000190734863,
          0.9800000190734863,
          0.9800000190734863,
          0.9800000190734863,
          0.9800000190734863,
          0.9800000190734863,
          0.9800000190734863,
          0.9800000190734863,
          0.9800000190734863,
          0.9800000190734863,
          0.9800000190734863,
          0.9800000190734863,
          0.9800000190734863,
          0.9800000190734863,
          0.9800000190734863,
          0.9800000190734863,
          0.9800000190734863,
          0.9800000190734863,
          0.9800000190734863,
          0.9800000190734863,
          0.9800000190734863,
          0.9800000190734863,
          0.9800000190734863,
          0.9800000190734863,
          0.9800000190734863,
          0.9800000190734863,
          0.9800000190734863,
          0.9800000190734863,
          0.9800000190734863,
          0.9800000190734863,
          0.9800000190734863,
          0.9800000190734863,
          0.9800000190734863,
          0.9800000190734863,
          0.9800000190734863,
          0.9800000190734863,
          0.9800000190734863,
          0.9800000190734863,
          0.9800000190734863,
          0.9800000190734863,
          0.9800000190734863,
          0.9800000190734863,
          0.9800000190734863,
          0.9800000190734863,
          0.9800000190734863,
          0.9800000190734863,
          0.9800000190734863,
          0.9800000190734863,
          0.9800000190734863,
          0.9800000190734863,
          0.9800000190734863,
          0.9800000190734863,
          0.9800000190734863,
          0.9800000190734863,
          0.9800000190734863,
          0.9800000190734863,
          0.9800000190734863,
          0.9800000190734863,
          0.9800000190734863,
          0.9800000190734863,
          0.9800000190734863,
          0.9800000190734863,
          0.9800000190734863,
          0.9800000190734863,
          0.9800000190734863,
          0.9800000190734863,
          0.9800000190734863,
          0.9800000190734863,
          0.9800000190734863,
          0.9800000190734863,
          0.9800000190734863,
          0.9800000190734863,
          0.9800000190734863,
          0.9800000190734863,
          0.9800000190734863,
          0.9800000190734863,
          0.9800000190734863,
          0.9800000190734863,
          0.9800000190734863,
          0.9800000190734863,
          0.9800000190734863,
          0.9800000190734863,
          0.9800000190734863,
          0.9800000190734863,
          0.9800000190734863,
          0.9800000190734863,
          0.9800000190734863,
          0.9800000190734863,
          0.9800000190734863,
          0.9800000190734863,
          0.9800000190734863,
          0.9800000190734863,
          0.9800000190734863,
          0.9800000190734863,
          0.9800000190734863,
          0.9800000190734863,
          0.9800000190734863,
          0.9800000190734863,
          0.9800000190734863,
          0.9800000190734863,
          0.9800000190734863,
          0.9800000190734863,
          0.9800000190734863,
          0.9800000190734863,
          0.9800000190734863,
          0.9800000190734863,
          0.9800000190734863,
          0.9800000190734863,
          0.9800000190734863,
          0.9800000190734863,
          0.9800000190734863,
          0.9800000190734863,
          0.9800000190734863,
          0.9800000190734863,
          0.9800000190734863,
          0.9800000190734863,
          0.9800000190734863,
          0.9800000190734863,
          0.9800000190734863,
          0.9800000190734863,
          0.9800000190734863,
          0.9800000190734863,
          0.9800000190734863,
          0.9800000190734863
         ]
        },
        {
         "marker": {
          "color": "#cccccc"
         },
         "mode": "markers",
         "name": "Infeasible Trial",
         "showlegend": false,
         "type": "scatter",
         "x": [],
         "y": []
        }
       ],
       "layout": {
        "template": {
         "data": {
          "bar": [
           {
            "error_x": {
             "color": "#2a3f5f"
            },
            "error_y": {
             "color": "#2a3f5f"
            },
            "marker": {
             "line": {
              "color": "#E5ECF6",
              "width": 0.5
             },
             "pattern": {
              "fillmode": "overlay",
              "size": 10,
              "solidity": 0.2
             }
            },
            "type": "bar"
           }
          ],
          "barpolar": [
           {
            "marker": {
             "line": {
              "color": "#E5ECF6",
              "width": 0.5
             },
             "pattern": {
              "fillmode": "overlay",
              "size": 10,
              "solidity": 0.2
             }
            },
            "type": "barpolar"
           }
          ],
          "carpet": [
           {
            "aaxis": {
             "endlinecolor": "#2a3f5f",
             "gridcolor": "white",
             "linecolor": "white",
             "minorgridcolor": "white",
             "startlinecolor": "#2a3f5f"
            },
            "baxis": {
             "endlinecolor": "#2a3f5f",
             "gridcolor": "white",
             "linecolor": "white",
             "minorgridcolor": "white",
             "startlinecolor": "#2a3f5f"
            },
            "type": "carpet"
           }
          ],
          "choropleth": [
           {
            "colorbar": {
             "outlinewidth": 0,
             "ticks": ""
            },
            "type": "choropleth"
           }
          ],
          "contour": [
           {
            "colorbar": {
             "outlinewidth": 0,
             "ticks": ""
            },
            "colorscale": [
             [
              0,
              "#0d0887"
             ],
             [
              0.1111111111111111,
              "#46039f"
             ],
             [
              0.2222222222222222,
              "#7201a8"
             ],
             [
              0.3333333333333333,
              "#9c179e"
             ],
             [
              0.4444444444444444,
              "#bd3786"
             ],
             [
              0.5555555555555556,
              "#d8576b"
             ],
             [
              0.6666666666666666,
              "#ed7953"
             ],
             [
              0.7777777777777778,
              "#fb9f3a"
             ],
             [
              0.8888888888888888,
              "#fdca26"
             ],
             [
              1,
              "#f0f921"
             ]
            ],
            "type": "contour"
           }
          ],
          "contourcarpet": [
           {
            "colorbar": {
             "outlinewidth": 0,
             "ticks": ""
            },
            "type": "contourcarpet"
           }
          ],
          "heatmap": [
           {
            "colorbar": {
             "outlinewidth": 0,
             "ticks": ""
            },
            "colorscale": [
             [
              0,
              "#0d0887"
             ],
             [
              0.1111111111111111,
              "#46039f"
             ],
             [
              0.2222222222222222,
              "#7201a8"
             ],
             [
              0.3333333333333333,
              "#9c179e"
             ],
             [
              0.4444444444444444,
              "#bd3786"
             ],
             [
              0.5555555555555556,
              "#d8576b"
             ],
             [
              0.6666666666666666,
              "#ed7953"
             ],
             [
              0.7777777777777778,
              "#fb9f3a"
             ],
             [
              0.8888888888888888,
              "#fdca26"
             ],
             [
              1,
              "#f0f921"
             ]
            ],
            "type": "heatmap"
           }
          ],
          "heatmapgl": [
           {
            "colorbar": {
             "outlinewidth": 0,
             "ticks": ""
            },
            "colorscale": [
             [
              0,
              "#0d0887"
             ],
             [
              0.1111111111111111,
              "#46039f"
             ],
             [
              0.2222222222222222,
              "#7201a8"
             ],
             [
              0.3333333333333333,
              "#9c179e"
             ],
             [
              0.4444444444444444,
              "#bd3786"
             ],
             [
              0.5555555555555556,
              "#d8576b"
             ],
             [
              0.6666666666666666,
              "#ed7953"
             ],
             [
              0.7777777777777778,
              "#fb9f3a"
             ],
             [
              0.8888888888888888,
              "#fdca26"
             ],
             [
              1,
              "#f0f921"
             ]
            ],
            "type": "heatmapgl"
           }
          ],
          "histogram": [
           {
            "marker": {
             "pattern": {
              "fillmode": "overlay",
              "size": 10,
              "solidity": 0.2
             }
            },
            "type": "histogram"
           }
          ],
          "histogram2d": [
           {
            "colorbar": {
             "outlinewidth": 0,
             "ticks": ""
            },
            "colorscale": [
             [
              0,
              "#0d0887"
             ],
             [
              0.1111111111111111,
              "#46039f"
             ],
             [
              0.2222222222222222,
              "#7201a8"
             ],
             [
              0.3333333333333333,
              "#9c179e"
             ],
             [
              0.4444444444444444,
              "#bd3786"
             ],
             [
              0.5555555555555556,
              "#d8576b"
             ],
             [
              0.6666666666666666,
              "#ed7953"
             ],
             [
              0.7777777777777778,
              "#fb9f3a"
             ],
             [
              0.8888888888888888,
              "#fdca26"
             ],
             [
              1,
              "#f0f921"
             ]
            ],
            "type": "histogram2d"
           }
          ],
          "histogram2dcontour": [
           {
            "colorbar": {
             "outlinewidth": 0,
             "ticks": ""
            },
            "colorscale": [
             [
              0,
              "#0d0887"
             ],
             [
              0.1111111111111111,
              "#46039f"
             ],
             [
              0.2222222222222222,
              "#7201a8"
             ],
             [
              0.3333333333333333,
              "#9c179e"
             ],
             [
              0.4444444444444444,
              "#bd3786"
             ],
             [
              0.5555555555555556,
              "#d8576b"
             ],
             [
              0.6666666666666666,
              "#ed7953"
             ],
             [
              0.7777777777777778,
              "#fb9f3a"
             ],
             [
              0.8888888888888888,
              "#fdca26"
             ],
             [
              1,
              "#f0f921"
             ]
            ],
            "type": "histogram2dcontour"
           }
          ],
          "mesh3d": [
           {
            "colorbar": {
             "outlinewidth": 0,
             "ticks": ""
            },
            "type": "mesh3d"
           }
          ],
          "parcoords": [
           {
            "line": {
             "colorbar": {
              "outlinewidth": 0,
              "ticks": ""
             }
            },
            "type": "parcoords"
           }
          ],
          "pie": [
           {
            "automargin": true,
            "type": "pie"
           }
          ],
          "scatter": [
           {
            "fillpattern": {
             "fillmode": "overlay",
             "size": 10,
             "solidity": 0.2
            },
            "type": "scatter"
           }
          ],
          "scatter3d": [
           {
            "line": {
             "colorbar": {
              "outlinewidth": 0,
              "ticks": ""
             }
            },
            "marker": {
             "colorbar": {
              "outlinewidth": 0,
              "ticks": ""
             }
            },
            "type": "scatter3d"
           }
          ],
          "scattercarpet": [
           {
            "marker": {
             "colorbar": {
              "outlinewidth": 0,
              "ticks": ""
             }
            },
            "type": "scattercarpet"
           }
          ],
          "scattergeo": [
           {
            "marker": {
             "colorbar": {
              "outlinewidth": 0,
              "ticks": ""
             }
            },
            "type": "scattergeo"
           }
          ],
          "scattergl": [
           {
            "marker": {
             "colorbar": {
              "outlinewidth": 0,
              "ticks": ""
             }
            },
            "type": "scattergl"
           }
          ],
          "scattermapbox": [
           {
            "marker": {
             "colorbar": {
              "outlinewidth": 0,
              "ticks": ""
             }
            },
            "type": "scattermapbox"
           }
          ],
          "scatterpolar": [
           {
            "marker": {
             "colorbar": {
              "outlinewidth": 0,
              "ticks": ""
             }
            },
            "type": "scatterpolar"
           }
          ],
          "scatterpolargl": [
           {
            "marker": {
             "colorbar": {
              "outlinewidth": 0,
              "ticks": ""
             }
            },
            "type": "scatterpolargl"
           }
          ],
          "scatterternary": [
           {
            "marker": {
             "colorbar": {
              "outlinewidth": 0,
              "ticks": ""
             }
            },
            "type": "scatterternary"
           }
          ],
          "surface": [
           {
            "colorbar": {
             "outlinewidth": 0,
             "ticks": ""
            },
            "colorscale": [
             [
              0,
              "#0d0887"
             ],
             [
              0.1111111111111111,
              "#46039f"
             ],
             [
              0.2222222222222222,
              "#7201a8"
             ],
             [
              0.3333333333333333,
              "#9c179e"
             ],
             [
              0.4444444444444444,
              "#bd3786"
             ],
             [
              0.5555555555555556,
              "#d8576b"
             ],
             [
              0.6666666666666666,
              "#ed7953"
             ],
             [
              0.7777777777777778,
              "#fb9f3a"
             ],
             [
              0.8888888888888888,
              "#fdca26"
             ],
             [
              1,
              "#f0f921"
             ]
            ],
            "type": "surface"
           }
          ],
          "table": [
           {
            "cells": {
             "fill": {
              "color": "#EBF0F8"
             },
             "line": {
              "color": "white"
             }
            },
            "header": {
             "fill": {
              "color": "#C8D4E3"
             },
             "line": {
              "color": "white"
             }
            },
            "type": "table"
           }
          ]
         },
         "layout": {
          "annotationdefaults": {
           "arrowcolor": "#2a3f5f",
           "arrowhead": 0,
           "arrowwidth": 1
          },
          "autotypenumbers": "strict",
          "coloraxis": {
           "colorbar": {
            "outlinewidth": 0,
            "ticks": ""
           }
          },
          "colorscale": {
           "diverging": [
            [
             0,
             "#8e0152"
            ],
            [
             0.1,
             "#c51b7d"
            ],
            [
             0.2,
             "#de77ae"
            ],
            [
             0.3,
             "#f1b6da"
            ],
            [
             0.4,
             "#fde0ef"
            ],
            [
             0.5,
             "#f7f7f7"
            ],
            [
             0.6,
             "#e6f5d0"
            ],
            [
             0.7,
             "#b8e186"
            ],
            [
             0.8,
             "#7fbc41"
            ],
            [
             0.9,
             "#4d9221"
            ],
            [
             1,
             "#276419"
            ]
           ],
           "sequential": [
            [
             0,
             "#0d0887"
            ],
            [
             0.1111111111111111,
             "#46039f"
            ],
            [
             0.2222222222222222,
             "#7201a8"
            ],
            [
             0.3333333333333333,
             "#9c179e"
            ],
            [
             0.4444444444444444,
             "#bd3786"
            ],
            [
             0.5555555555555556,
             "#d8576b"
            ],
            [
             0.6666666666666666,
             "#ed7953"
            ],
            [
             0.7777777777777778,
             "#fb9f3a"
            ],
            [
             0.8888888888888888,
             "#fdca26"
            ],
            [
             1,
             "#f0f921"
            ]
           ],
           "sequentialminus": [
            [
             0,
             "#0d0887"
            ],
            [
             0.1111111111111111,
             "#46039f"
            ],
            [
             0.2222222222222222,
             "#7201a8"
            ],
            [
             0.3333333333333333,
             "#9c179e"
            ],
            [
             0.4444444444444444,
             "#bd3786"
            ],
            [
             0.5555555555555556,
             "#d8576b"
            ],
            [
             0.6666666666666666,
             "#ed7953"
            ],
            [
             0.7777777777777778,
             "#fb9f3a"
            ],
            [
             0.8888888888888888,
             "#fdca26"
            ],
            [
             1,
             "#f0f921"
            ]
           ]
          },
          "colorway": [
           "#636efa",
           "#EF553B",
           "#00cc96",
           "#ab63fa",
           "#FFA15A",
           "#19d3f3",
           "#FF6692",
           "#B6E880",
           "#FF97FF",
           "#FECB52"
          ],
          "font": {
           "color": "#2a3f5f"
          },
          "geo": {
           "bgcolor": "white",
           "lakecolor": "white",
           "landcolor": "#E5ECF6",
           "showlakes": true,
           "showland": true,
           "subunitcolor": "white"
          },
          "hoverlabel": {
           "align": "left"
          },
          "hovermode": "closest",
          "mapbox": {
           "style": "light"
          },
          "paper_bgcolor": "white",
          "plot_bgcolor": "#E5ECF6",
          "polar": {
           "angularaxis": {
            "gridcolor": "white",
            "linecolor": "white",
            "ticks": ""
           },
           "bgcolor": "#E5ECF6",
           "radialaxis": {
            "gridcolor": "white",
            "linecolor": "white",
            "ticks": ""
           }
          },
          "scene": {
           "xaxis": {
            "backgroundcolor": "#E5ECF6",
            "gridcolor": "white",
            "gridwidth": 2,
            "linecolor": "white",
            "showbackground": true,
            "ticks": "",
            "zerolinecolor": "white"
           },
           "yaxis": {
            "backgroundcolor": "#E5ECF6",
            "gridcolor": "white",
            "gridwidth": 2,
            "linecolor": "white",
            "showbackground": true,
            "ticks": "",
            "zerolinecolor": "white"
           },
           "zaxis": {
            "backgroundcolor": "#E5ECF6",
            "gridcolor": "white",
            "gridwidth": 2,
            "linecolor": "white",
            "showbackground": true,
            "ticks": "",
            "zerolinecolor": "white"
           }
          },
          "shapedefaults": {
           "line": {
            "color": "#2a3f5f"
           }
          },
          "ternary": {
           "aaxis": {
            "gridcolor": "white",
            "linecolor": "white",
            "ticks": ""
           },
           "baxis": {
            "gridcolor": "white",
            "linecolor": "white",
            "ticks": ""
           },
           "bgcolor": "#E5ECF6",
           "caxis": {
            "gridcolor": "white",
            "linecolor": "white",
            "ticks": ""
           }
          },
          "title": {
           "x": 0.05
          },
          "xaxis": {
           "automargin": true,
           "gridcolor": "white",
           "linecolor": "white",
           "ticks": "",
           "title": {
            "standoff": 15
           },
           "zerolinecolor": "white",
           "zerolinewidth": 2
          },
          "yaxis": {
           "automargin": true,
           "gridcolor": "white",
           "linecolor": "white",
           "ticks": "",
           "title": {
            "standoff": 15
           },
           "zerolinecolor": "white",
           "zerolinewidth": 2
          }
         }
        },
        "title": {
         "text": "Optimization History Plot"
        },
        "xaxis": {
         "title": {
          "text": "Trial"
         }
        },
        "yaxis": {
         "title": {
          "text": "Objective Value"
         }
        }
       }
      }
     },
     "metadata": {},
     "output_type": "display_data"
    }
   ],
   "source": [
    "plot_optimization_history(study_2)"
   ]
  },
  {
   "cell_type": "code",
   "execution_count": 15,
   "metadata": {},
   "outputs": [
    {
     "data": {
      "application/vnd.plotly.v1+json": {
       "config": {
        "plotlyServerURL": "https://plot.ly"
       },
       "data": [
        {
         "cliponaxis": false,
         "hovertemplate": [
          "activation_0 (CategoricalDistribution): 0.01870551784180479<extra></extra>",
          "translate_factor (FloatDistribution): 0.034879076593751314<extra></extra>",
          "brightness_factor (FloatDistribution): 0.06298126317944443<extra></extra>",
          "layer_0 (CategoricalDistribution): 0.07114753063082352<extra></extra>",
          "gaussian_noise_factor (FloatDistribution): 0.12226689723518974<extra></extra>",
          "batchsize (IntDistribution): 0.1303845592503803<extra></extra>",
          "lr_inicial (FloatDistribution): 0.17097693627331742<extra></extra>",
          "output_dropout (FloatDistribution): 0.17860318316195822<extra></extra>",
          "num_layers (CategoricalDistribution): 0.21005503583333035<extra></extra>"
         ],
         "name": "Objective Value",
         "orientation": "h",
         "text": [
          "0.02",
          "0.03",
          "0.06",
          "0.07",
          "0.12",
          "0.13",
          "0.17",
          "0.18",
          "0.21"
         ],
         "textposition": "outside",
         "type": "bar",
         "x": [
          0.01870551784180479,
          0.034879076593751314,
          0.06298126317944443,
          0.07114753063082352,
          0.12226689723518974,
          0.1303845592503803,
          0.17097693627331742,
          0.17860318316195822,
          0.21005503583333035
         ],
         "y": [
          "activation_0",
          "translate_factor",
          "brightness_factor",
          "layer_0",
          "gaussian_noise_factor",
          "batchsize",
          "lr_inicial",
          "output_dropout",
          "num_layers"
         ]
        }
       ],
       "layout": {
        "template": {
         "data": {
          "bar": [
           {
            "error_x": {
             "color": "#2a3f5f"
            },
            "error_y": {
             "color": "#2a3f5f"
            },
            "marker": {
             "line": {
              "color": "#E5ECF6",
              "width": 0.5
             },
             "pattern": {
              "fillmode": "overlay",
              "size": 10,
              "solidity": 0.2
             }
            },
            "type": "bar"
           }
          ],
          "barpolar": [
           {
            "marker": {
             "line": {
              "color": "#E5ECF6",
              "width": 0.5
             },
             "pattern": {
              "fillmode": "overlay",
              "size": 10,
              "solidity": 0.2
             }
            },
            "type": "barpolar"
           }
          ],
          "carpet": [
           {
            "aaxis": {
             "endlinecolor": "#2a3f5f",
             "gridcolor": "white",
             "linecolor": "white",
             "minorgridcolor": "white",
             "startlinecolor": "#2a3f5f"
            },
            "baxis": {
             "endlinecolor": "#2a3f5f",
             "gridcolor": "white",
             "linecolor": "white",
             "minorgridcolor": "white",
             "startlinecolor": "#2a3f5f"
            },
            "type": "carpet"
           }
          ],
          "choropleth": [
           {
            "colorbar": {
             "outlinewidth": 0,
             "ticks": ""
            },
            "type": "choropleth"
           }
          ],
          "contour": [
           {
            "colorbar": {
             "outlinewidth": 0,
             "ticks": ""
            },
            "colorscale": [
             [
              0,
              "#0d0887"
             ],
             [
              0.1111111111111111,
              "#46039f"
             ],
             [
              0.2222222222222222,
              "#7201a8"
             ],
             [
              0.3333333333333333,
              "#9c179e"
             ],
             [
              0.4444444444444444,
              "#bd3786"
             ],
             [
              0.5555555555555556,
              "#d8576b"
             ],
             [
              0.6666666666666666,
              "#ed7953"
             ],
             [
              0.7777777777777778,
              "#fb9f3a"
             ],
             [
              0.8888888888888888,
              "#fdca26"
             ],
             [
              1,
              "#f0f921"
             ]
            ],
            "type": "contour"
           }
          ],
          "contourcarpet": [
           {
            "colorbar": {
             "outlinewidth": 0,
             "ticks": ""
            },
            "type": "contourcarpet"
           }
          ],
          "heatmap": [
           {
            "colorbar": {
             "outlinewidth": 0,
             "ticks": ""
            },
            "colorscale": [
             [
              0,
              "#0d0887"
             ],
             [
              0.1111111111111111,
              "#46039f"
             ],
             [
              0.2222222222222222,
              "#7201a8"
             ],
             [
              0.3333333333333333,
              "#9c179e"
             ],
             [
              0.4444444444444444,
              "#bd3786"
             ],
             [
              0.5555555555555556,
              "#d8576b"
             ],
             [
              0.6666666666666666,
              "#ed7953"
             ],
             [
              0.7777777777777778,
              "#fb9f3a"
             ],
             [
              0.8888888888888888,
              "#fdca26"
             ],
             [
              1,
              "#f0f921"
             ]
            ],
            "type": "heatmap"
           }
          ],
          "heatmapgl": [
           {
            "colorbar": {
             "outlinewidth": 0,
             "ticks": ""
            },
            "colorscale": [
             [
              0,
              "#0d0887"
             ],
             [
              0.1111111111111111,
              "#46039f"
             ],
             [
              0.2222222222222222,
              "#7201a8"
             ],
             [
              0.3333333333333333,
              "#9c179e"
             ],
             [
              0.4444444444444444,
              "#bd3786"
             ],
             [
              0.5555555555555556,
              "#d8576b"
             ],
             [
              0.6666666666666666,
              "#ed7953"
             ],
             [
              0.7777777777777778,
              "#fb9f3a"
             ],
             [
              0.8888888888888888,
              "#fdca26"
             ],
             [
              1,
              "#f0f921"
             ]
            ],
            "type": "heatmapgl"
           }
          ],
          "histogram": [
           {
            "marker": {
             "pattern": {
              "fillmode": "overlay",
              "size": 10,
              "solidity": 0.2
             }
            },
            "type": "histogram"
           }
          ],
          "histogram2d": [
           {
            "colorbar": {
             "outlinewidth": 0,
             "ticks": ""
            },
            "colorscale": [
             [
              0,
              "#0d0887"
             ],
             [
              0.1111111111111111,
              "#46039f"
             ],
             [
              0.2222222222222222,
              "#7201a8"
             ],
             [
              0.3333333333333333,
              "#9c179e"
             ],
             [
              0.4444444444444444,
              "#bd3786"
             ],
             [
              0.5555555555555556,
              "#d8576b"
             ],
             [
              0.6666666666666666,
              "#ed7953"
             ],
             [
              0.7777777777777778,
              "#fb9f3a"
             ],
             [
              0.8888888888888888,
              "#fdca26"
             ],
             [
              1,
              "#f0f921"
             ]
            ],
            "type": "histogram2d"
           }
          ],
          "histogram2dcontour": [
           {
            "colorbar": {
             "outlinewidth": 0,
             "ticks": ""
            },
            "colorscale": [
             [
              0,
              "#0d0887"
             ],
             [
              0.1111111111111111,
              "#46039f"
             ],
             [
              0.2222222222222222,
              "#7201a8"
             ],
             [
              0.3333333333333333,
              "#9c179e"
             ],
             [
              0.4444444444444444,
              "#bd3786"
             ],
             [
              0.5555555555555556,
              "#d8576b"
             ],
             [
              0.6666666666666666,
              "#ed7953"
             ],
             [
              0.7777777777777778,
              "#fb9f3a"
             ],
             [
              0.8888888888888888,
              "#fdca26"
             ],
             [
              1,
              "#f0f921"
             ]
            ],
            "type": "histogram2dcontour"
           }
          ],
          "mesh3d": [
           {
            "colorbar": {
             "outlinewidth": 0,
             "ticks": ""
            },
            "type": "mesh3d"
           }
          ],
          "parcoords": [
           {
            "line": {
             "colorbar": {
              "outlinewidth": 0,
              "ticks": ""
             }
            },
            "type": "parcoords"
           }
          ],
          "pie": [
           {
            "automargin": true,
            "type": "pie"
           }
          ],
          "scatter": [
           {
            "fillpattern": {
             "fillmode": "overlay",
             "size": 10,
             "solidity": 0.2
            },
            "type": "scatter"
           }
          ],
          "scatter3d": [
           {
            "line": {
             "colorbar": {
              "outlinewidth": 0,
              "ticks": ""
             }
            },
            "marker": {
             "colorbar": {
              "outlinewidth": 0,
              "ticks": ""
             }
            },
            "type": "scatter3d"
           }
          ],
          "scattercarpet": [
           {
            "marker": {
             "colorbar": {
              "outlinewidth": 0,
              "ticks": ""
             }
            },
            "type": "scattercarpet"
           }
          ],
          "scattergeo": [
           {
            "marker": {
             "colorbar": {
              "outlinewidth": 0,
              "ticks": ""
             }
            },
            "type": "scattergeo"
           }
          ],
          "scattergl": [
           {
            "marker": {
             "colorbar": {
              "outlinewidth": 0,
              "ticks": ""
             }
            },
            "type": "scattergl"
           }
          ],
          "scattermapbox": [
           {
            "marker": {
             "colorbar": {
              "outlinewidth": 0,
              "ticks": ""
             }
            },
            "type": "scattermapbox"
           }
          ],
          "scatterpolar": [
           {
            "marker": {
             "colorbar": {
              "outlinewidth": 0,
              "ticks": ""
             }
            },
            "type": "scatterpolar"
           }
          ],
          "scatterpolargl": [
           {
            "marker": {
             "colorbar": {
              "outlinewidth": 0,
              "ticks": ""
             }
            },
            "type": "scatterpolargl"
           }
          ],
          "scatterternary": [
           {
            "marker": {
             "colorbar": {
              "outlinewidth": 0,
              "ticks": ""
             }
            },
            "type": "scatterternary"
           }
          ],
          "surface": [
           {
            "colorbar": {
             "outlinewidth": 0,
             "ticks": ""
            },
            "colorscale": [
             [
              0,
              "#0d0887"
             ],
             [
              0.1111111111111111,
              "#46039f"
             ],
             [
              0.2222222222222222,
              "#7201a8"
             ],
             [
              0.3333333333333333,
              "#9c179e"
             ],
             [
              0.4444444444444444,
              "#bd3786"
             ],
             [
              0.5555555555555556,
              "#d8576b"
             ],
             [
              0.6666666666666666,
              "#ed7953"
             ],
             [
              0.7777777777777778,
              "#fb9f3a"
             ],
             [
              0.8888888888888888,
              "#fdca26"
             ],
             [
              1,
              "#f0f921"
             ]
            ],
            "type": "surface"
           }
          ],
          "table": [
           {
            "cells": {
             "fill": {
              "color": "#EBF0F8"
             },
             "line": {
              "color": "white"
             }
            },
            "header": {
             "fill": {
              "color": "#C8D4E3"
             },
             "line": {
              "color": "white"
             }
            },
            "type": "table"
           }
          ]
         },
         "layout": {
          "annotationdefaults": {
           "arrowcolor": "#2a3f5f",
           "arrowhead": 0,
           "arrowwidth": 1
          },
          "autotypenumbers": "strict",
          "coloraxis": {
           "colorbar": {
            "outlinewidth": 0,
            "ticks": ""
           }
          },
          "colorscale": {
           "diverging": [
            [
             0,
             "#8e0152"
            ],
            [
             0.1,
             "#c51b7d"
            ],
            [
             0.2,
             "#de77ae"
            ],
            [
             0.3,
             "#f1b6da"
            ],
            [
             0.4,
             "#fde0ef"
            ],
            [
             0.5,
             "#f7f7f7"
            ],
            [
             0.6,
             "#e6f5d0"
            ],
            [
             0.7,
             "#b8e186"
            ],
            [
             0.8,
             "#7fbc41"
            ],
            [
             0.9,
             "#4d9221"
            ],
            [
             1,
             "#276419"
            ]
           ],
           "sequential": [
            [
             0,
             "#0d0887"
            ],
            [
             0.1111111111111111,
             "#46039f"
            ],
            [
             0.2222222222222222,
             "#7201a8"
            ],
            [
             0.3333333333333333,
             "#9c179e"
            ],
            [
             0.4444444444444444,
             "#bd3786"
            ],
            [
             0.5555555555555556,
             "#d8576b"
            ],
            [
             0.6666666666666666,
             "#ed7953"
            ],
            [
             0.7777777777777778,
             "#fb9f3a"
            ],
            [
             0.8888888888888888,
             "#fdca26"
            ],
            [
             1,
             "#f0f921"
            ]
           ],
           "sequentialminus": [
            [
             0,
             "#0d0887"
            ],
            [
             0.1111111111111111,
             "#46039f"
            ],
            [
             0.2222222222222222,
             "#7201a8"
            ],
            [
             0.3333333333333333,
             "#9c179e"
            ],
            [
             0.4444444444444444,
             "#bd3786"
            ],
            [
             0.5555555555555556,
             "#d8576b"
            ],
            [
             0.6666666666666666,
             "#ed7953"
            ],
            [
             0.7777777777777778,
             "#fb9f3a"
            ],
            [
             0.8888888888888888,
             "#fdca26"
            ],
            [
             1,
             "#f0f921"
            ]
           ]
          },
          "colorway": [
           "#636efa",
           "#EF553B",
           "#00cc96",
           "#ab63fa",
           "#FFA15A",
           "#19d3f3",
           "#FF6692",
           "#B6E880",
           "#FF97FF",
           "#FECB52"
          ],
          "font": {
           "color": "#2a3f5f"
          },
          "geo": {
           "bgcolor": "white",
           "lakecolor": "white",
           "landcolor": "#E5ECF6",
           "showlakes": true,
           "showland": true,
           "subunitcolor": "white"
          },
          "hoverlabel": {
           "align": "left"
          },
          "hovermode": "closest",
          "mapbox": {
           "style": "light"
          },
          "paper_bgcolor": "white",
          "plot_bgcolor": "#E5ECF6",
          "polar": {
           "angularaxis": {
            "gridcolor": "white",
            "linecolor": "white",
            "ticks": ""
           },
           "bgcolor": "#E5ECF6",
           "radialaxis": {
            "gridcolor": "white",
            "linecolor": "white",
            "ticks": ""
           }
          },
          "scene": {
           "xaxis": {
            "backgroundcolor": "#E5ECF6",
            "gridcolor": "white",
            "gridwidth": 2,
            "linecolor": "white",
            "showbackground": true,
            "ticks": "",
            "zerolinecolor": "white"
           },
           "yaxis": {
            "backgroundcolor": "#E5ECF6",
            "gridcolor": "white",
            "gridwidth": 2,
            "linecolor": "white",
            "showbackground": true,
            "ticks": "",
            "zerolinecolor": "white"
           },
           "zaxis": {
            "backgroundcolor": "#E5ECF6",
            "gridcolor": "white",
            "gridwidth": 2,
            "linecolor": "white",
            "showbackground": true,
            "ticks": "",
            "zerolinecolor": "white"
           }
          },
          "shapedefaults": {
           "line": {
            "color": "#2a3f5f"
           }
          },
          "ternary": {
           "aaxis": {
            "gridcolor": "white",
            "linecolor": "white",
            "ticks": ""
           },
           "baxis": {
            "gridcolor": "white",
            "linecolor": "white",
            "ticks": ""
           },
           "bgcolor": "#E5ECF6",
           "caxis": {
            "gridcolor": "white",
            "linecolor": "white",
            "ticks": ""
           }
          },
          "title": {
           "x": 0.05
          },
          "xaxis": {
           "automargin": true,
           "gridcolor": "white",
           "linecolor": "white",
           "ticks": "",
           "title": {
            "standoff": 15
           },
           "zerolinecolor": "white",
           "zerolinewidth": 2
          },
          "yaxis": {
           "automargin": true,
           "gridcolor": "white",
           "linecolor": "white",
           "ticks": "",
           "title": {
            "standoff": 15
           },
           "zerolinecolor": "white",
           "zerolinewidth": 2
          }
         }
        },
        "title": {
         "text": "Hyperparameter Importances"
        },
        "xaxis": {
         "title": {
          "text": "Hyperparameter Importance"
         }
        },
        "yaxis": {
         "title": {
          "text": "Hyperparameter"
         }
        }
       }
      }
     },
     "metadata": {},
     "output_type": "display_data"
    }
   ],
   "source": [
    "plot_param_importances(study_2)"
   ]
  },
  {
   "cell_type": "code",
   "execution_count": 16,
   "metadata": {},
   "outputs": [
    {
     "data": {
      "application/vnd.plotly.v1+json": {
       "config": {
        "plotlyServerURL": "https://plot.ly"
       },
       "data": [
        {
         "dimensions": [
          {
           "label": "Objective Value",
           "range": [
            0.5199999809265137,
            0.9800000190734863
           ],
           "values": [
            0.6800000071525574,
            0.699999988079071,
            0.6399999856948853,
            0.6200000047683716,
            0.7200000286102295,
            0.7799999713897705,
            0.699999988079071,
            0.8199999928474426,
            0.7799999713897705,
            0.6800000071525574,
            0.7799999713897705,
            0.7200000286102295,
            0.6600000262260437,
            0.7400000095367432,
            0.699999988079071,
            0.7599999904632568,
            0.6600000262260437,
            0.6200000047683716,
            0.6600000262260437,
            0.8199999928474426,
            0.6200000047683716,
            0.7400000095367432,
            0.7599999904632568,
            0.699999988079071,
            0.7599999904632568,
            0.7799999713897705,
            0.7599999904632568,
            0.7200000286102295,
            0.699999988079071,
            0.7200000286102295,
            0.8199999928474426,
            0.7799999713897705,
            0.8199999928474426,
            0.7599999904632568,
            0.7400000095367432,
            0.800000011920929,
            0.7599999904632568,
            0.7799999713897705,
            0.800000011920929,
            0.7400000095367432,
            0.8199999928474426,
            0.5199999809265137,
            0.8199999928474426,
            0.7200000286102295,
            0.699999988079071,
            0.7599999904632568,
            0.7799999713897705,
            0.6600000262260437,
            0.7799999713897705,
            0.8199999928474426,
            0.800000011920929,
            0.800000011920929,
            0.800000011920929,
            0.7200000286102295,
            0.7599999904632568,
            0.7799999713897705,
            0.7599999904632568,
            0.7599999904632568,
            0.800000011920929,
            0.8600000143051147,
            0.7599999904632568,
            0.8199999928474426,
            0.800000011920929,
            0.7200000286102295,
            0.9200000166893005,
            0.8799999952316284,
            0.7200000286102295,
            0.800000011920929,
            0.8399999737739563,
            0.7599999904632568,
            0.7400000095367432,
            0.8600000143051147,
            0.8199999928474426,
            0.8799999952316284,
            0.8399999737739563,
            0.699999988079071,
            0.8199999928474426,
            0.800000011920929,
            0.7200000286102295,
            0.800000011920929,
            0.8399999737739563,
            0.800000011920929,
            0.8600000143051147,
            0.8600000143051147,
            0.7400000095367432,
            0.8399999737739563,
            0.8999999761581421,
            0.8199999928474426,
            0.7799999713897705,
            0.8600000143051147,
            0.8799999952316284,
            0.9599999785423279,
            0.8799999952316284,
            0.800000011920929,
            0.8399999737739563,
            0.8600000143051147,
            0.7799999713897705,
            0.8999999761581421,
            0.9200000166893005,
            0.8999999761581421,
            0.8799999952316284,
            0.9800000190734863,
            0.9599999785423279,
            0.8799999952316284,
            0.8600000143051147,
            0.9200000166893005,
            0.9599999785423279,
            0.9399999976158142,
            0.9200000166893005,
            0.8799999952316284,
            0.9399999976158142,
            0.9399999976158142,
            0.9599999785423279,
            0.6000000238418579,
            0.9599999785423279,
            0.9399999976158142,
            0.9399999976158142,
            0.9599999785423279,
            0.9399999976158142,
            0.8199999928474426,
            0.8999999761581421,
            0.9200000166893005,
            0.8199999928474426,
            0.8199999928474426,
            0.9399999976158142,
            0.9599999785423279,
            0.8999999761581421,
            0.9599999785423279,
            0.9599999785423279,
            0.7799999713897705,
            0.9399999976158142,
            0.8799999952316284,
            0.6800000071525574,
            0.9399999976158142,
            0.9399999976158142,
            0.9399999976158142,
            0.9399999976158142,
            0.9399999976158142,
            0.9399999976158142,
            0.7799999713897705,
            0.7400000095367432,
            0.9399999976158142,
            0.8600000143051147,
            0.9200000166893005,
            0.9399999976158142,
            0.9599999785423279,
            0.9599999785423279,
            0.9200000166893005,
            0.9399999976158142,
            0.9200000166893005,
            0.9599999785423279,
            0.9399999976158142,
            0.9599999785423279,
            0.9200000166893005,
            0.9599999785423279,
            0.9399999976158142,
            0.9399999976158142,
            0.6399999856948853,
            0.9399999976158142,
            0.8999999761581421,
            0.8199999928474426,
            0.9399999976158142,
            0.8999999761581421,
            0.7799999713897705,
            0.9399999976158142,
            0.8399999737739563,
            0.8999999761581421,
            0.9399999976158142,
            0.9399999976158142,
            0.9399999976158142,
            0.8600000143051147,
            0.8999999761581421,
            0.9599999785423279,
            0.9599999785423279,
            0.9599999785423279,
            0.9399999976158142,
            0.8999999761581421,
            0.9200000166893005,
            0.9599999785423279,
            0.9599999785423279,
            0.8999999761581421,
            0.8999999761581421,
            0.8999999761581421,
            0.9200000166893005,
            0.9399999976158142,
            0.9599999785423279,
            0.7599999904632568,
            0.8799999952316284,
            0.9599999785423279,
            0.9200000166893005,
            0.9200000166893005,
            0.9200000166893005,
            0.9399999976158142,
            0.9200000166893005,
            0.9200000166893005,
            0.7799999713897705,
            0.8999999761581421,
            0.9200000166893005,
            0.8600000143051147,
            0.9399999976158142,
            0.9599999785423279,
            0.9599999785423279,
            0.9200000166893005,
            0.9599999785423279,
            0.9399999976158142,
            0.8799999952316284,
            0.9200000166893005,
            0.9399999976158142,
            0.9200000166893005,
            0.9200000166893005,
            0.9599999785423279,
            0.9200000166893005,
            0.9200000166893005,
            0.8999999761581421,
            0.8999999761581421,
            0.9200000166893005,
            0.7599999904632568,
            0.9599999785423279,
            0.9200000166893005,
            0.9399999976158142,
            0.9200000166893005,
            0.9599999785423279,
            0.8799999952316284,
            0.9399999976158142,
            0.9800000190734863,
            0.8600000143051147,
            0.8399999737739563,
            0.9599999785423279,
            0.8999999761581421,
            0.9399999976158142,
            0.9200000166893005,
            0.8999999761581421,
            0.9599999785423279,
            0.9399999976158142,
            0.7799999713897705,
            0.9599999785423279,
            0.9399999976158142,
            0.9399999976158142,
            0.9599999785423279,
            0.9399999976158142,
            0.8999999761581421,
            0.9599999785423279,
            0.8600000143051147,
            0.9399999976158142,
            0.9200000166893005,
            0.9399999976158142,
            0.9399999976158142,
            0.9200000166893005,
            0.9200000166893005,
            0.8799999952316284,
            0.8799999952316284,
            0.9399999976158142,
            0.9200000166893005,
            0.7599999904632568,
            0.8799999952316284,
            0.8999999761581421,
            0.8399999737739563,
            0.9399999976158142,
            0.9399999976158142,
            0.9399999976158142,
            0.9399999976158142,
            0.7799999713897705,
            0.8999999761581421,
            0.8999999761581421,
            0.9200000166893005,
            0.9200000166893005,
            0.9399999976158142,
            0.8199999928474426,
            0.7400000095367432,
            0.9399999976158142,
            0.9200000166893005,
            0.9599999785423279,
            0.8999999761581421,
            0.9200000166893005,
            0.9399999976158142,
            0.8399999737739563,
            0.7599999904632568,
            0.9800000190734863,
            0.9200000166893005,
            0.8999999761581421,
            0.9200000166893005,
            0.8999999761581421,
            0.9200000166893005,
            0.9200000166893005,
            0.8600000143051147,
            0.9200000166893005,
            0.8999999761581421,
            0.8600000143051147,
            0.9200000166893005,
            0.7799999713897705,
            0.800000011920929,
            0.8999999761581421,
            0.8999999761581421,
            0.9200000166893005,
            0.8600000143051147,
            0.8600000143051147,
            0.9200000166893005,
            0.7200000286102295,
            0.8399999737739563,
            0.7400000095367432
           ]
          },
          {
           "label": "activation_0",
           "range": [
            0,
            2
           ],
           "ticktext": [
            "relu",
            "tanh",
            "linear"
           ],
           "tickvals": [
            0,
            1,
            2
           ],
           "values": [
            0,
            1,
            2,
            0,
            0,
            0,
            2,
            0,
            0,
            0,
            0,
            1,
            1,
            1,
            2,
            0,
            1,
            1,
            1,
            0,
            0,
            1,
            0,
            1,
            2,
            0,
            1,
            2,
            0,
            0,
            0,
            0,
            1,
            1,
            1,
            1,
            1,
            1,
            1,
            1,
            2,
            2,
            2,
            2,
            2,
            0,
            2,
            2,
            2,
            2,
            2,
            2,
            0,
            2,
            1,
            2,
            2,
            2,
            2,
            0,
            0,
            0,
            1,
            2,
            0,
            0,
            0,
            0,
            0,
            0,
            0,
            0,
            0,
            0,
            0,
            0,
            0,
            0,
            0,
            0,
            0,
            0,
            0,
            0,
            1,
            0,
            0,
            0,
            0,
            0,
            0,
            0,
            0,
            1,
            0,
            0,
            0,
            0,
            0,
            0,
            0,
            0,
            0,
            0,
            0,
            1,
            1,
            1,
            1,
            1,
            1,
            1,
            1,
            1,
            1,
            1,
            1,
            1,
            1,
            1,
            1,
            1,
            1,
            1,
            1,
            1,
            1,
            1,
            1,
            1,
            1,
            1,
            1,
            1,
            1,
            1,
            1,
            1,
            1,
            1,
            1,
            1,
            1,
            1,
            1,
            1,
            1,
            1,
            1,
            1,
            1,
            1,
            1,
            1,
            1,
            1,
            1,
            1,
            1,
            1,
            1,
            1,
            1,
            1,
            1,
            1,
            1,
            1,
            2,
            1,
            1,
            1,
            1,
            1,
            1,
            1,
            1,
            1,
            1,
            1,
            1,
            1,
            1,
            1,
            1,
            1,
            1,
            1,
            1,
            1,
            1,
            1,
            1,
            1,
            1,
            1,
            1,
            1,
            1,
            1,
            1,
            1,
            1,
            1,
            1,
            1,
            1,
            1,
            1,
            1,
            1,
            1,
            1,
            1,
            1,
            2,
            1,
            1,
            1,
            1,
            1,
            1,
            1,
            1,
            1,
            1,
            1,
            1,
            1,
            1,
            1,
            1,
            0,
            1,
            1,
            1,
            1,
            1,
            1,
            1,
            1,
            1,
            1,
            0,
            1,
            1,
            1,
            1,
            1,
            1,
            1,
            1,
            1,
            2,
            0,
            1,
            1,
            1,
            1,
            0,
            1,
            1,
            1,
            1,
            1,
            1,
            0,
            1,
            1,
            1,
            1,
            0,
            1,
            2,
            1,
            1,
            1,
            0,
            0,
            0,
            0,
            0,
            0,
            0,
            0,
            1,
            1,
            1,
            1,
            1,
            0,
            1,
            1,
            2,
            1,
            1,
            0,
            1,
            1,
            1
           ]
          },
          {
           "label": "layer_0",
           "range": [
            0,
            2
           ],
           "ticktext": [
            "Depthwise2D",
            "Pointwise2D",
            "Conv2D"
           ],
           "tickvals": [
            0,
            1,
            2
           ],
           "values": [
            0,
            1,
            2,
            2,
            2,
            0,
            1,
            2,
            2,
            0,
            1,
            1,
            1,
            1,
            1,
            1,
            1,
            1,
            1,
            1,
            1,
            1,
            2,
            0,
            1,
            2,
            0,
            1,
            2,
            2,
            2,
            2,
            1,
            1,
            1,
            1,
            1,
            1,
            1,
            1,
            2,
            0,
            1,
            1,
            2,
            2,
            1,
            1,
            1,
            1,
            1,
            1,
            2,
            1,
            0,
            1,
            1,
            1,
            1,
            2,
            2,
            2,
            1,
            2,
            1,
            1,
            0,
            1,
            1,
            1,
            1,
            1,
            1,
            1,
            1,
            1,
            1,
            1,
            1,
            1,
            1,
            1,
            1,
            1,
            1,
            1,
            1,
            1,
            1,
            1,
            1,
            1,
            1,
            1,
            1,
            0,
            1,
            1,
            1,
            1,
            1,
            1,
            1,
            1,
            1,
            1,
            1,
            1,
            1,
            1,
            1,
            1,
            1,
            0,
            1,
            1,
            1,
            1,
            1,
            1,
            1,
            1,
            1,
            1,
            1,
            1,
            1,
            1,
            1,
            1,
            1,
            1,
            0,
            1,
            1,
            1,
            1,
            1,
            1,
            1,
            1,
            1,
            1,
            1,
            1,
            1,
            1,
            1,
            1,
            1,
            1,
            1,
            1,
            1,
            1,
            1,
            1,
            0,
            1,
            2,
            1,
            1,
            1,
            1,
            1,
            1,
            1,
            1,
            1,
            1,
            1,
            1,
            1,
            1,
            1,
            1,
            1,
            1,
            1,
            1,
            1,
            1,
            1,
            1,
            1,
            1,
            0,
            2,
            1,
            1,
            1,
            1,
            1,
            1,
            1,
            1,
            1,
            1,
            1,
            1,
            1,
            1,
            1,
            1,
            1,
            1,
            1,
            1,
            1,
            1,
            1,
            1,
            1,
            1,
            1,
            0,
            1,
            1,
            1,
            1,
            1,
            1,
            1,
            2,
            1,
            1,
            1,
            1,
            1,
            1,
            1,
            1,
            1,
            1,
            1,
            1,
            1,
            1,
            1,
            1,
            1,
            1,
            1,
            1,
            1,
            1,
            1,
            1,
            1,
            1,
            1,
            1,
            1,
            1,
            1,
            0,
            2,
            1,
            1,
            1,
            1,
            1,
            1,
            1,
            1,
            1,
            1,
            1,
            1,
            1,
            1,
            1,
            1,
            1,
            0,
            1,
            2,
            1,
            1,
            1,
            1,
            1,
            1,
            1,
            1,
            1,
            1,
            1,
            1,
            1,
            1,
            1,
            1,
            1,
            0,
            1,
            1,
            2,
            1,
            1
           ]
          },
          {
           "label": "lr_inicial",
           "range": [
            -3.520453360827227,
            -2.7085896033132055
           ],
           "ticktext": [
            "0.000302",
            "0.001",
            "0.00196"
           ],
           "tickvals": [
            -3.520453360827227,
            -3,
            -2.7085896033132055
           ],
           "values": [
            -3.520453360827227,
            -3.33968778096329,
            -3.0716376656307944,
            -3.097675523221921,
            -3.3783481728863514,
            -2.838683779403847,
            -3.106963634227342,
            -3.0569477264877043,
            -3.051822654709358,
            -3.387059174408101,
            -2.8999592484001218,
            -2.8169808327141554,
            -2.8429868897795934,
            -2.9013106548918977,
            -2.8857916060069058,
            -2.915295636884578,
            -2.88042223448769,
            -2.8721571766363123,
            -2.8164102816183996,
            -2.8614052306832956,
            -3.041811937501552,
            -3.159794626380812,
            -2.9482394778107968,
            -3.2123724266097025,
            -3.260224347540985,
            -2.785507904523816,
            -3.016963008613882,
            -2.992560965314822,
            -3.4748939711482882,
            -3.2923766284399973,
            -3.095919216460714,
            -3.0076719266799454,
            -2.881434532896167,
            -2.7827305870549086,
            -2.764239492335824,
            -2.8977685756980764,
            -2.903547321491946,
            -2.88912467881834,
            -2.8531810168028358,
            -3.1017069730623645,
            -3.0798154552784323,
            -2.718550596080319,
            -2.8354299049179903,
            -2.8854749743616415,
            -2.7085896033132055,
            -2.9486763196398718,
            -2.972717829144765,
            -2.8718344051909055,
            -2.8301636182270906,
            -2.8029678788446706,
            -2.8834375893944846,
            -2.78334245295548,
            -3.1649902457582346,
            -2.9096101031509662,
            -2.758987594939878,
            -2.798297828603009,
            -2.833155416751901,
            -2.9252984411774703,
            -2.7403340451369984,
            -3.053771977097994,
            -3.145420794705848,
            -3.012993459353425,
            -2.839496353638152,
            -3.2184093542350665,
            -2.9597667064913398,
            -2.969367895693928,
            -2.952163599960485,
            -3.0771529264003163,
            -3.139942339517591,
            -3.158186279674574,
            -3.034778803657612,
            -3.1248014265887663,
            -3.2037712915330703,
            -3.1273449864083895,
            -3.137333234673046,
            -3.190366636914943,
            -3.114895294412289,
            -2.9811927793076953,
            -3.251796150428249,
            -3.1335677553852275,
            -3.1298024004952216,
            -3.0795923365105393,
            -3.1815370523540465,
            -3.173494838566738,
            -3.1835820356207587,
            -3.239382004654106,
            -3.2989660521940927,
            -3.318286184747967,
            -3.3887763040106798,
            -3.2726558664690173,
            -2.9574648884601022,
            -2.907011662646502,
            -2.9028709702743467,
            -2.9134223636536283,
            -2.940701485766434,
            -2.9708422830796617,
            -2.8618309849953394,
            -3.0272625154679362,
            -3.0254541909290524,
            -2.9621930196243285,
            -3.029073545763484,
            -2.9544690099258815,
            -2.994144049982938,
            -2.991358214448013,
            -2.9319999384564075,
            -2.9660429693906476,
            -2.8838632396597648,
            -3.0031568873139483,
            -3.00332339716052,
            -3.0007026748690473,
            -2.877475581278052,
            -2.8788082661026033,
            -2.813859530894605,
            -2.8568744364328498,
            -2.921633380206507,
            -2.9228339502016043,
            -2.9180996378961734,
            -2.9197518692484365,
            -2.7669092918291693,
            -2.860938825068341,
            -2.888345019319622,
            -2.8948733715840986,
            -2.8179553168624802,
            -2.939257369828945,
            -2.8721571231698033,
            -2.9174655230174524,
            -2.922682156017776,
            -2.845759127063064,
            -2.8444496806620854,
            -2.8515996708157862,
            -2.818551519814717,
            -2.803254182373049,
            -2.8343923132775215,
            -2.873639936546688,
            -2.9035496291974128,
            -2.885025653855106,
            -2.9480400625052177,
            -2.9097765842242396,
            -2.9371470866745724,
            -2.7305717565227674,
            -2.865564825870176,
            -2.7951407749707946,
            -2.888297645882732,
            -2.922493843183727,
            -2.9832085356870888,
            -2.851173149374468,
            -2.847519305656408,
            -2.8464860862344374,
            -2.820094757408826,
            -2.848580196617487,
            -2.904722115766761,
            -2.8973078388845943,
            -2.833793394630115,
            -2.8341807096020974,
            -2.857836005117821,
            -2.7930273643064556,
            -2.809374050341515,
            -2.858786641407069,
            -2.8326205598735186,
            -2.777626245217621,
            -2.9323661605964473,
            -2.872119266818766,
            -2.9132951351545193,
            -2.952481029309566,
            -2.8459085250320957,
            -2.861900488501232,
            -2.7466247432608935,
            -2.821591497175894,
            -2.9734445696837035,
            -2.8894970017426136,
            -3.4923045501717325,
            -2.8794240605275943,
            -2.907623834692414,
            -2.9323153914488223,
            -2.9300111159340125,
            -2.9062773586149375,
            -2.941089054079539,
            -2.9228877984112622,
            -2.9589016054804285,
            -2.854517529304266,
            -2.9253398538774134,
            -2.9431621857435486,
            -2.9123054439187106,
            -2.8715170477169645,
            -2.895685708753392,
            -2.935797029140019,
            -2.838396461461403,
            -2.806071960458978,
            -2.8267839123875524,
            -2.9609886475187315,
            -2.95516180417454,
            -2.913542876042983,
            -2.9864856933951676,
            -2.9717908480229362,
            -2.9310986872054543,
            -2.8750021314460437,
            -2.854546395401628,
            -2.913356708212449,
            -2.9505152872959037,
            -2.854478207548442,
            -2.8660293635180754,
            -2.838419373792862,
            -2.8930487218882353,
            -2.8104654712852026,
            -2.851172881819196,
            -2.928105385959885,
            -2.8818935459582624,
            -2.904875338209919,
            -2.8655704963410433,
            -2.939372436184512,
            -2.9376642080998643,
            -2.9219058103341085,
            -2.8285519340753265,
            -2.968530114692732,
            -2.9543142474612303,
            -2.8454595558888416,
            -2.928387579089759,
            -2.885107109161662,
            -2.8311439204410482,
            -2.819460596410799,
            -2.806139566948719,
            -2.8618510763232416,
            -2.8302805484849114,
            -2.947631663947792,
            -2.7899451160824906,
            -2.897050927927985,
            -2.9804001058257255,
            -2.7970547316630063,
            -2.845782889127572,
            -2.795447293068155,
            -2.7856534640251325,
            -2.826581952248913,
            -2.8727046850959317,
            -2.933456915116856,
            -2.7689702022901863,
            -2.81391084665919,
            -2.8448883080863077,
            -2.8659976690970357,
            -2.8860172560739716,
            -2.8581945580669985,
            -2.915873319508278,
            -2.8680241489549614,
            -2.9028305526140286,
            -2.8310675726565457,
            -2.9404129628365454,
            -2.852047457591144,
            -2.8374095754103252,
            -2.8395485866005306,
            -2.825111898374377,
            -2.872583522739337,
            -2.9212744125143337,
            -2.856658787515781,
            -2.95425817865695,
            -2.8102843268188122,
            -3.3626559822282402,
            -2.908580500356571,
            -2.8440040212952185,
            -2.9276979876598754,
            -2.9047282493505664,
            -2.7854572125875974,
            -2.862795980343742,
            -2.824141745233615,
            -2.942524996304929,
            -2.9623096125114152,
            -2.8968569372312167,
            -2.840839259087085,
            -2.809503436881248,
            -2.9275201782205884,
            -2.866396464382093,
            -2.882653520031426,
            -2.913895997925174,
            -2.8266942173480736,
            -2.9461680630038485,
            -2.891629159991937,
            -2.8034034771313032,
            -2.9946280871905553,
            -2.968840435115638,
            -2.841641712877178,
            -2.930449898763108,
            -2.9111490559654047,
            -2.8522891988165795,
            -2.755471989059571,
            -2.8889722298889366,
            -2.819315965251727,
            -3.0566731476565887,
            -2.919257526412839,
            -2.8765020864891993,
            -2.9501754593713105,
            -2.8380370856562673,
            -2.8965245887267583,
            -2.856800431726763,
            -2.7846890210030915,
            -2.9346793302483243,
            -2.9087261771968445,
            -2.8671687597284303,
            -3.447593132433665,
            -2.9794325440635223,
            -2.8408576708996787,
            -2.9588094027722804,
            -3.01269197446958
           ]
          },
          {
           "label": "num_layers",
           "range": [
            0,
            2
           ],
           "ticktext": [
            "1",
            "2",
            "3"
           ],
           "tickvals": [
            0,
            1,
            2
           ],
           "values": [
            0,
            0,
            0,
            0,
            0,
            0,
            0,
            0,
            0,
            0,
            0,
            0,
            0,
            0,
            0,
            0,
            0,
            0,
            0,
            1,
            1,
            1,
            1,
            1,
            1,
            1,
            1,
            1,
            1,
            1,
            1,
            1,
            1,
            1,
            1,
            1,
            1,
            1,
            1,
            1,
            2,
            2,
            2,
            2,
            2,
            2,
            2,
            2,
            2,
            2,
            2,
            2,
            2,
            2,
            2,
            2,
            2,
            2,
            2,
            2,
            2,
            2,
            2,
            2,
            2,
            2,
            2,
            2,
            2,
            2,
            2,
            2,
            2,
            2,
            2,
            2,
            2,
            2,
            2,
            2,
            2,
            2,
            2,
            2,
            2,
            2,
            2,
            2,
            2,
            2,
            2,
            2,
            2,
            2,
            2,
            2,
            2,
            2,
            2,
            2,
            2,
            2,
            2,
            2,
            2,
            2,
            2,
            2,
            2,
            2,
            2,
            2,
            2,
            2,
            2,
            2,
            2,
            2,
            2,
            2,
            2,
            2,
            2,
            2,
            2,
            2,
            2,
            2,
            2,
            2,
            2,
            2,
            2,
            2,
            2,
            2,
            2,
            2,
            2,
            2,
            2,
            2,
            2,
            2,
            2,
            2,
            2,
            2,
            2,
            2,
            2,
            2,
            2,
            2,
            2,
            2,
            2,
            2,
            2,
            2,
            2,
            2,
            2,
            2,
            2,
            2,
            2,
            2,
            2,
            2,
            2,
            2,
            2,
            2,
            2,
            2,
            2,
            2,
            2,
            2,
            2,
            2,
            2,
            2,
            2,
            2,
            2,
            2,
            2,
            2,
            2,
            2,
            2,
            2,
            2,
            2,
            2,
            2,
            2,
            2,
            2,
            2,
            2,
            2,
            2,
            2,
            2,
            2,
            2,
            2,
            2,
            2,
            2,
            2,
            2,
            2,
            2,
            2,
            2,
            2,
            2,
            2,
            2,
            2,
            2,
            2,
            2,
            2,
            2,
            2,
            2,
            2,
            2,
            2,
            2,
            2,
            2,
            2,
            2,
            2,
            2,
            2,
            2,
            2,
            2,
            2,
            2,
            2,
            2,
            2,
            2,
            2,
            2,
            2,
            2,
            2,
            2,
            2,
            2,
            2,
            2,
            2,
            2,
            2,
            2,
            2,
            2,
            2,
            2,
            2,
            2,
            2,
            2,
            2,
            2,
            2,
            2,
            2,
            2,
            2,
            2,
            2,
            2,
            2,
            2,
            2,
            2,
            2,
            2,
            2,
            2,
            2,
            2,
            2,
            2,
            2,
            2,
            2,
            2,
            2
           ]
          }
         ],
         "labelangle": 30,
         "labelside": "bottom",
         "line": {
          "color": [
           0.6800000071525574,
           0.699999988079071,
           0.6399999856948853,
           0.6200000047683716,
           0.7200000286102295,
           0.7799999713897705,
           0.699999988079071,
           0.8199999928474426,
           0.7799999713897705,
           0.6800000071525574,
           0.7799999713897705,
           0.7200000286102295,
           0.6600000262260437,
           0.7400000095367432,
           0.699999988079071,
           0.7599999904632568,
           0.6600000262260437,
           0.6200000047683716,
           0.6600000262260437,
           0.8199999928474426,
           0.6200000047683716,
           0.7400000095367432,
           0.7599999904632568,
           0.699999988079071,
           0.7599999904632568,
           0.7799999713897705,
           0.7599999904632568,
           0.7200000286102295,
           0.699999988079071,
           0.7200000286102295,
           0.8199999928474426,
           0.7799999713897705,
           0.8199999928474426,
           0.7599999904632568,
           0.7400000095367432,
           0.800000011920929,
           0.7599999904632568,
           0.7799999713897705,
           0.800000011920929,
           0.7400000095367432,
           0.8199999928474426,
           0.5199999809265137,
           0.8199999928474426,
           0.7200000286102295,
           0.699999988079071,
           0.7599999904632568,
           0.7799999713897705,
           0.6600000262260437,
           0.7799999713897705,
           0.8199999928474426,
           0.800000011920929,
           0.800000011920929,
           0.800000011920929,
           0.7200000286102295,
           0.7599999904632568,
           0.7799999713897705,
           0.7599999904632568,
           0.7599999904632568,
           0.800000011920929,
           0.8600000143051147,
           0.7599999904632568,
           0.8199999928474426,
           0.800000011920929,
           0.7200000286102295,
           0.9200000166893005,
           0.8799999952316284,
           0.7200000286102295,
           0.800000011920929,
           0.8399999737739563,
           0.7599999904632568,
           0.7400000095367432,
           0.8600000143051147,
           0.8199999928474426,
           0.8799999952316284,
           0.8399999737739563,
           0.699999988079071,
           0.8199999928474426,
           0.800000011920929,
           0.7200000286102295,
           0.800000011920929,
           0.8399999737739563,
           0.800000011920929,
           0.8600000143051147,
           0.8600000143051147,
           0.7400000095367432,
           0.8399999737739563,
           0.8999999761581421,
           0.8199999928474426,
           0.7799999713897705,
           0.8600000143051147,
           0.8799999952316284,
           0.9599999785423279,
           0.8799999952316284,
           0.800000011920929,
           0.8399999737739563,
           0.8600000143051147,
           0.7799999713897705,
           0.8999999761581421,
           0.9200000166893005,
           0.8999999761581421,
           0.8799999952316284,
           0.9800000190734863,
           0.9599999785423279,
           0.8799999952316284,
           0.8600000143051147,
           0.9200000166893005,
           0.9599999785423279,
           0.9399999976158142,
           0.9200000166893005,
           0.8799999952316284,
           0.9399999976158142,
           0.9399999976158142,
           0.9599999785423279,
           0.6000000238418579,
           0.9599999785423279,
           0.9399999976158142,
           0.9399999976158142,
           0.9599999785423279,
           0.9399999976158142,
           0.8199999928474426,
           0.8999999761581421,
           0.9200000166893005,
           0.8199999928474426,
           0.8199999928474426,
           0.9399999976158142,
           0.9599999785423279,
           0.8999999761581421,
           0.9599999785423279,
           0.9599999785423279,
           0.7799999713897705,
           0.9399999976158142,
           0.8799999952316284,
           0.6800000071525574,
           0.9399999976158142,
           0.9399999976158142,
           0.9399999976158142,
           0.9399999976158142,
           0.9399999976158142,
           0.9399999976158142,
           0.7799999713897705,
           0.7400000095367432,
           0.9399999976158142,
           0.8600000143051147,
           0.9200000166893005,
           0.9399999976158142,
           0.9599999785423279,
           0.9599999785423279,
           0.9200000166893005,
           0.9399999976158142,
           0.9200000166893005,
           0.9599999785423279,
           0.9399999976158142,
           0.9599999785423279,
           0.9200000166893005,
           0.9599999785423279,
           0.9399999976158142,
           0.9399999976158142,
           0.6399999856948853,
           0.9399999976158142,
           0.8999999761581421,
           0.8199999928474426,
           0.9399999976158142,
           0.8999999761581421,
           0.7799999713897705,
           0.9399999976158142,
           0.8399999737739563,
           0.8999999761581421,
           0.9399999976158142,
           0.9399999976158142,
           0.9399999976158142,
           0.8600000143051147,
           0.8999999761581421,
           0.9599999785423279,
           0.9599999785423279,
           0.9599999785423279,
           0.9399999976158142,
           0.8999999761581421,
           0.9200000166893005,
           0.9599999785423279,
           0.9599999785423279,
           0.8999999761581421,
           0.8999999761581421,
           0.8999999761581421,
           0.9200000166893005,
           0.9399999976158142,
           0.9599999785423279,
           0.7599999904632568,
           0.8799999952316284,
           0.9599999785423279,
           0.9200000166893005,
           0.9200000166893005,
           0.9200000166893005,
           0.9399999976158142,
           0.9200000166893005,
           0.9200000166893005,
           0.7799999713897705,
           0.8999999761581421,
           0.9200000166893005,
           0.8600000143051147,
           0.9399999976158142,
           0.9599999785423279,
           0.9599999785423279,
           0.9200000166893005,
           0.9599999785423279,
           0.9399999976158142,
           0.8799999952316284,
           0.9200000166893005,
           0.9399999976158142,
           0.9200000166893005,
           0.9200000166893005,
           0.9599999785423279,
           0.9200000166893005,
           0.9200000166893005,
           0.8999999761581421,
           0.8999999761581421,
           0.9200000166893005,
           0.7599999904632568,
           0.9599999785423279,
           0.9200000166893005,
           0.9399999976158142,
           0.9200000166893005,
           0.9599999785423279,
           0.8799999952316284,
           0.9399999976158142,
           0.9800000190734863,
           0.8600000143051147,
           0.8399999737739563,
           0.9599999785423279,
           0.8999999761581421,
           0.9399999976158142,
           0.9200000166893005,
           0.8999999761581421,
           0.9599999785423279,
           0.9399999976158142,
           0.7799999713897705,
           0.9599999785423279,
           0.9399999976158142,
           0.9399999976158142,
           0.9599999785423279,
           0.9399999976158142,
           0.8999999761581421,
           0.9599999785423279,
           0.8600000143051147,
           0.9399999976158142,
           0.9200000166893005,
           0.9399999976158142,
           0.9399999976158142,
           0.9200000166893005,
           0.9200000166893005,
           0.8799999952316284,
           0.8799999952316284,
           0.9399999976158142,
           0.9200000166893005,
           0.7599999904632568,
           0.8799999952316284,
           0.8999999761581421,
           0.8399999737739563,
           0.9399999976158142,
           0.9399999976158142,
           0.9399999976158142,
           0.9399999976158142,
           0.7799999713897705,
           0.8999999761581421,
           0.8999999761581421,
           0.9200000166893005,
           0.9200000166893005,
           0.9399999976158142,
           0.8199999928474426,
           0.7400000095367432,
           0.9399999976158142,
           0.9200000166893005,
           0.9599999785423279,
           0.8999999761581421,
           0.9200000166893005,
           0.9399999976158142,
           0.8399999737739563,
           0.7599999904632568,
           0.9800000190734863,
           0.9200000166893005,
           0.8999999761581421,
           0.9200000166893005,
           0.8999999761581421,
           0.9200000166893005,
           0.9200000166893005,
           0.8600000143051147,
           0.9200000166893005,
           0.8999999761581421,
           0.8600000143051147,
           0.9200000166893005,
           0.7799999713897705,
           0.800000011920929,
           0.8999999761581421,
           0.8999999761581421,
           0.9200000166893005,
           0.8600000143051147,
           0.8600000143051147,
           0.9200000166893005,
           0.7200000286102295,
           0.8399999737739563,
           0.7400000095367432
          ],
          "colorbar": {
           "title": {
            "text": "Objective Value"
           }
          },
          "colorscale": [
           [
            0,
            "rgb(247,251,255)"
           ],
           [
            0.125,
            "rgb(222,235,247)"
           ],
           [
            0.25,
            "rgb(198,219,239)"
           ],
           [
            0.375,
            "rgb(158,202,225)"
           ],
           [
            0.5,
            "rgb(107,174,214)"
           ],
           [
            0.625,
            "rgb(66,146,198)"
           ],
           [
            0.75,
            "rgb(33,113,181)"
           ],
           [
            0.875,
            "rgb(8,81,156)"
           ],
           [
            1,
            "rgb(8,48,107)"
           ]
          ],
          "reversescale": false,
          "showscale": true
         },
         "type": "parcoords"
        }
       ],
       "layout": {
        "template": {
         "data": {
          "bar": [
           {
            "error_x": {
             "color": "#2a3f5f"
            },
            "error_y": {
             "color": "#2a3f5f"
            },
            "marker": {
             "line": {
              "color": "#E5ECF6",
              "width": 0.5
             },
             "pattern": {
              "fillmode": "overlay",
              "size": 10,
              "solidity": 0.2
             }
            },
            "type": "bar"
           }
          ],
          "barpolar": [
           {
            "marker": {
             "line": {
              "color": "#E5ECF6",
              "width": 0.5
             },
             "pattern": {
              "fillmode": "overlay",
              "size": 10,
              "solidity": 0.2
             }
            },
            "type": "barpolar"
           }
          ],
          "carpet": [
           {
            "aaxis": {
             "endlinecolor": "#2a3f5f",
             "gridcolor": "white",
             "linecolor": "white",
             "minorgridcolor": "white",
             "startlinecolor": "#2a3f5f"
            },
            "baxis": {
             "endlinecolor": "#2a3f5f",
             "gridcolor": "white",
             "linecolor": "white",
             "minorgridcolor": "white",
             "startlinecolor": "#2a3f5f"
            },
            "type": "carpet"
           }
          ],
          "choropleth": [
           {
            "colorbar": {
             "outlinewidth": 0,
             "ticks": ""
            },
            "type": "choropleth"
           }
          ],
          "contour": [
           {
            "colorbar": {
             "outlinewidth": 0,
             "ticks": ""
            },
            "colorscale": [
             [
              0,
              "#0d0887"
             ],
             [
              0.1111111111111111,
              "#46039f"
             ],
             [
              0.2222222222222222,
              "#7201a8"
             ],
             [
              0.3333333333333333,
              "#9c179e"
             ],
             [
              0.4444444444444444,
              "#bd3786"
             ],
             [
              0.5555555555555556,
              "#d8576b"
             ],
             [
              0.6666666666666666,
              "#ed7953"
             ],
             [
              0.7777777777777778,
              "#fb9f3a"
             ],
             [
              0.8888888888888888,
              "#fdca26"
             ],
             [
              1,
              "#f0f921"
             ]
            ],
            "type": "contour"
           }
          ],
          "contourcarpet": [
           {
            "colorbar": {
             "outlinewidth": 0,
             "ticks": ""
            },
            "type": "contourcarpet"
           }
          ],
          "heatmap": [
           {
            "colorbar": {
             "outlinewidth": 0,
             "ticks": ""
            },
            "colorscale": [
             [
              0,
              "#0d0887"
             ],
             [
              0.1111111111111111,
              "#46039f"
             ],
             [
              0.2222222222222222,
              "#7201a8"
             ],
             [
              0.3333333333333333,
              "#9c179e"
             ],
             [
              0.4444444444444444,
              "#bd3786"
             ],
             [
              0.5555555555555556,
              "#d8576b"
             ],
             [
              0.6666666666666666,
              "#ed7953"
             ],
             [
              0.7777777777777778,
              "#fb9f3a"
             ],
             [
              0.8888888888888888,
              "#fdca26"
             ],
             [
              1,
              "#f0f921"
             ]
            ],
            "type": "heatmap"
           }
          ],
          "heatmapgl": [
           {
            "colorbar": {
             "outlinewidth": 0,
             "ticks": ""
            },
            "colorscale": [
             [
              0,
              "#0d0887"
             ],
             [
              0.1111111111111111,
              "#46039f"
             ],
             [
              0.2222222222222222,
              "#7201a8"
             ],
             [
              0.3333333333333333,
              "#9c179e"
             ],
             [
              0.4444444444444444,
              "#bd3786"
             ],
             [
              0.5555555555555556,
              "#d8576b"
             ],
             [
              0.6666666666666666,
              "#ed7953"
             ],
             [
              0.7777777777777778,
              "#fb9f3a"
             ],
             [
              0.8888888888888888,
              "#fdca26"
             ],
             [
              1,
              "#f0f921"
             ]
            ],
            "type": "heatmapgl"
           }
          ],
          "histogram": [
           {
            "marker": {
             "pattern": {
              "fillmode": "overlay",
              "size": 10,
              "solidity": 0.2
             }
            },
            "type": "histogram"
           }
          ],
          "histogram2d": [
           {
            "colorbar": {
             "outlinewidth": 0,
             "ticks": ""
            },
            "colorscale": [
             [
              0,
              "#0d0887"
             ],
             [
              0.1111111111111111,
              "#46039f"
             ],
             [
              0.2222222222222222,
              "#7201a8"
             ],
             [
              0.3333333333333333,
              "#9c179e"
             ],
             [
              0.4444444444444444,
              "#bd3786"
             ],
             [
              0.5555555555555556,
              "#d8576b"
             ],
             [
              0.6666666666666666,
              "#ed7953"
             ],
             [
              0.7777777777777778,
              "#fb9f3a"
             ],
             [
              0.8888888888888888,
              "#fdca26"
             ],
             [
              1,
              "#f0f921"
             ]
            ],
            "type": "histogram2d"
           }
          ],
          "histogram2dcontour": [
           {
            "colorbar": {
             "outlinewidth": 0,
             "ticks": ""
            },
            "colorscale": [
             [
              0,
              "#0d0887"
             ],
             [
              0.1111111111111111,
              "#46039f"
             ],
             [
              0.2222222222222222,
              "#7201a8"
             ],
             [
              0.3333333333333333,
              "#9c179e"
             ],
             [
              0.4444444444444444,
              "#bd3786"
             ],
             [
              0.5555555555555556,
              "#d8576b"
             ],
             [
              0.6666666666666666,
              "#ed7953"
             ],
             [
              0.7777777777777778,
              "#fb9f3a"
             ],
             [
              0.8888888888888888,
              "#fdca26"
             ],
             [
              1,
              "#f0f921"
             ]
            ],
            "type": "histogram2dcontour"
           }
          ],
          "mesh3d": [
           {
            "colorbar": {
             "outlinewidth": 0,
             "ticks": ""
            },
            "type": "mesh3d"
           }
          ],
          "parcoords": [
           {
            "line": {
             "colorbar": {
              "outlinewidth": 0,
              "ticks": ""
             }
            },
            "type": "parcoords"
           }
          ],
          "pie": [
           {
            "automargin": true,
            "type": "pie"
           }
          ],
          "scatter": [
           {
            "fillpattern": {
             "fillmode": "overlay",
             "size": 10,
             "solidity": 0.2
            },
            "type": "scatter"
           }
          ],
          "scatter3d": [
           {
            "line": {
             "colorbar": {
              "outlinewidth": 0,
              "ticks": ""
             }
            },
            "marker": {
             "colorbar": {
              "outlinewidth": 0,
              "ticks": ""
             }
            },
            "type": "scatter3d"
           }
          ],
          "scattercarpet": [
           {
            "marker": {
             "colorbar": {
              "outlinewidth": 0,
              "ticks": ""
             }
            },
            "type": "scattercarpet"
           }
          ],
          "scattergeo": [
           {
            "marker": {
             "colorbar": {
              "outlinewidth": 0,
              "ticks": ""
             }
            },
            "type": "scattergeo"
           }
          ],
          "scattergl": [
           {
            "marker": {
             "colorbar": {
              "outlinewidth": 0,
              "ticks": ""
             }
            },
            "type": "scattergl"
           }
          ],
          "scattermapbox": [
           {
            "marker": {
             "colorbar": {
              "outlinewidth": 0,
              "ticks": ""
             }
            },
            "type": "scattermapbox"
           }
          ],
          "scatterpolar": [
           {
            "marker": {
             "colorbar": {
              "outlinewidth": 0,
              "ticks": ""
             }
            },
            "type": "scatterpolar"
           }
          ],
          "scatterpolargl": [
           {
            "marker": {
             "colorbar": {
              "outlinewidth": 0,
              "ticks": ""
             }
            },
            "type": "scatterpolargl"
           }
          ],
          "scatterternary": [
           {
            "marker": {
             "colorbar": {
              "outlinewidth": 0,
              "ticks": ""
             }
            },
            "type": "scatterternary"
           }
          ],
          "surface": [
           {
            "colorbar": {
             "outlinewidth": 0,
             "ticks": ""
            },
            "colorscale": [
             [
              0,
              "#0d0887"
             ],
             [
              0.1111111111111111,
              "#46039f"
             ],
             [
              0.2222222222222222,
              "#7201a8"
             ],
             [
              0.3333333333333333,
              "#9c179e"
             ],
             [
              0.4444444444444444,
              "#bd3786"
             ],
             [
              0.5555555555555556,
              "#d8576b"
             ],
             [
              0.6666666666666666,
              "#ed7953"
             ],
             [
              0.7777777777777778,
              "#fb9f3a"
             ],
             [
              0.8888888888888888,
              "#fdca26"
             ],
             [
              1,
              "#f0f921"
             ]
            ],
            "type": "surface"
           }
          ],
          "table": [
           {
            "cells": {
             "fill": {
              "color": "#EBF0F8"
             },
             "line": {
              "color": "white"
             }
            },
            "header": {
             "fill": {
              "color": "#C8D4E3"
             },
             "line": {
              "color": "white"
             }
            },
            "type": "table"
           }
          ]
         },
         "layout": {
          "annotationdefaults": {
           "arrowcolor": "#2a3f5f",
           "arrowhead": 0,
           "arrowwidth": 1
          },
          "autotypenumbers": "strict",
          "coloraxis": {
           "colorbar": {
            "outlinewidth": 0,
            "ticks": ""
           }
          },
          "colorscale": {
           "diverging": [
            [
             0,
             "#8e0152"
            ],
            [
             0.1,
             "#c51b7d"
            ],
            [
             0.2,
             "#de77ae"
            ],
            [
             0.3,
             "#f1b6da"
            ],
            [
             0.4,
             "#fde0ef"
            ],
            [
             0.5,
             "#f7f7f7"
            ],
            [
             0.6,
             "#e6f5d0"
            ],
            [
             0.7,
             "#b8e186"
            ],
            [
             0.8,
             "#7fbc41"
            ],
            [
             0.9,
             "#4d9221"
            ],
            [
             1,
             "#276419"
            ]
           ],
           "sequential": [
            [
             0,
             "#0d0887"
            ],
            [
             0.1111111111111111,
             "#46039f"
            ],
            [
             0.2222222222222222,
             "#7201a8"
            ],
            [
             0.3333333333333333,
             "#9c179e"
            ],
            [
             0.4444444444444444,
             "#bd3786"
            ],
            [
             0.5555555555555556,
             "#d8576b"
            ],
            [
             0.6666666666666666,
             "#ed7953"
            ],
            [
             0.7777777777777778,
             "#fb9f3a"
            ],
            [
             0.8888888888888888,
             "#fdca26"
            ],
            [
             1,
             "#f0f921"
            ]
           ],
           "sequentialminus": [
            [
             0,
             "#0d0887"
            ],
            [
             0.1111111111111111,
             "#46039f"
            ],
            [
             0.2222222222222222,
             "#7201a8"
            ],
            [
             0.3333333333333333,
             "#9c179e"
            ],
            [
             0.4444444444444444,
             "#bd3786"
            ],
            [
             0.5555555555555556,
             "#d8576b"
            ],
            [
             0.6666666666666666,
             "#ed7953"
            ],
            [
             0.7777777777777778,
             "#fb9f3a"
            ],
            [
             0.8888888888888888,
             "#fdca26"
            ],
            [
             1,
             "#f0f921"
            ]
           ]
          },
          "colorway": [
           "#636efa",
           "#EF553B",
           "#00cc96",
           "#ab63fa",
           "#FFA15A",
           "#19d3f3",
           "#FF6692",
           "#B6E880",
           "#FF97FF",
           "#FECB52"
          ],
          "font": {
           "color": "#2a3f5f"
          },
          "geo": {
           "bgcolor": "white",
           "lakecolor": "white",
           "landcolor": "#E5ECF6",
           "showlakes": true,
           "showland": true,
           "subunitcolor": "white"
          },
          "hoverlabel": {
           "align": "left"
          },
          "hovermode": "closest",
          "mapbox": {
           "style": "light"
          },
          "paper_bgcolor": "white",
          "plot_bgcolor": "#E5ECF6",
          "polar": {
           "angularaxis": {
            "gridcolor": "white",
            "linecolor": "white",
            "ticks": ""
           },
           "bgcolor": "#E5ECF6",
           "radialaxis": {
            "gridcolor": "white",
            "linecolor": "white",
            "ticks": ""
           }
          },
          "scene": {
           "xaxis": {
            "backgroundcolor": "#E5ECF6",
            "gridcolor": "white",
            "gridwidth": 2,
            "linecolor": "white",
            "showbackground": true,
            "ticks": "",
            "zerolinecolor": "white"
           },
           "yaxis": {
            "backgroundcolor": "#E5ECF6",
            "gridcolor": "white",
            "gridwidth": 2,
            "linecolor": "white",
            "showbackground": true,
            "ticks": "",
            "zerolinecolor": "white"
           },
           "zaxis": {
            "backgroundcolor": "#E5ECF6",
            "gridcolor": "white",
            "gridwidth": 2,
            "linecolor": "white",
            "showbackground": true,
            "ticks": "",
            "zerolinecolor": "white"
           }
          },
          "shapedefaults": {
           "line": {
            "color": "#2a3f5f"
           }
          },
          "ternary": {
           "aaxis": {
            "gridcolor": "white",
            "linecolor": "white",
            "ticks": ""
           },
           "baxis": {
            "gridcolor": "white",
            "linecolor": "white",
            "ticks": ""
           },
           "bgcolor": "#E5ECF6",
           "caxis": {
            "gridcolor": "white",
            "linecolor": "white",
            "ticks": ""
           }
          },
          "title": {
           "x": 0.05
          },
          "xaxis": {
           "automargin": true,
           "gridcolor": "white",
           "linecolor": "white",
           "ticks": "",
           "title": {
            "standoff": 15
           },
           "zerolinecolor": "white",
           "zerolinewidth": 2
          },
          "yaxis": {
           "automargin": true,
           "gridcolor": "white",
           "linecolor": "white",
           "ticks": "",
           "title": {
            "standoff": 15
           },
           "zerolinecolor": "white",
           "zerolinewidth": 2
          }
         }
        },
        "title": {
         "text": "Parallel Coordinate Plot"
        }
       }
      }
     },
     "metadata": {},
     "output_type": "display_data"
    }
   ],
   "source": [
    "plot_parallel_coordinate(\n",
    "    study_2,\n",
    "    [\n",
    "        \"lr_inicial\",\n",
    "        \"num_layers\",\n",
    "        \"layer_0\",\n",
    "        \"activation_0\",\n",
    "    ],\n",
    ")"
   ]
  },
  {
   "cell_type": "code",
   "execution_count": null,
   "metadata": {},
   "outputs": [],
   "source": []
  }
 ],
 "metadata": {
  "kernelspec": {
   "display_name": ".venv",
   "language": "python",
   "name": "python3"
  },
  "language_info": {
   "codemirror_mode": {
    "name": "ipython",
    "version": 3
   },
   "file_extension": ".py",
   "mimetype": "text/x-python",
   "name": "python",
   "nbconvert_exporter": "python",
   "pygments_lexer": "ipython3",
   "version": "3.10.12"
  }
 },
 "nbformat": 4,
 "nbformat_minor": 2
}
