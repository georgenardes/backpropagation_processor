{
 "cells": [
  {
   "cell_type": "markdown",
   "metadata": {},
   "source": [
    "# export canditate model"
   ]
  },
  {
   "cell_type": "code",
   "execution_count": null,
   "metadata": {},
   "outputs": [],
   "source": [
    "import sys\n",
    "import tensorflow as tf\n",
    "import keras \n",
    "\n",
    "sys.path.append(\"/home/webphy/Desktop/dnn_processor/\")  # just to enable `dataset`\n",
    "sys.path.append(\n",
    "    \"/home/webphy/Desktop/dnn_processor/dataset/\"\n",
    ")  # just to enable `dataset`\n",
    "import dataset\n",
    "\n",
    "# load dataset\n",
    "train_images_rgx = \"../../dataset/resized_dataset_texturas_v2/*/*.jpeg\"\n",
    "valid_images_rgx = \"../../dataset/resized_dataset_texturas_v2_test/*/*.jpeg\"\n",
    "train_ds, val_ds, nclass = dataset.create_datasets(\n",
    "    train_images_rgx, valid_images_rgx, 64\n",
    ")\n"
   ]
  },
  {
   "cell_type": "code",
   "execution_count": null,
   "metadata": {},
   "outputs": [],
   "source": [
    "trial_id = 295\n",
    "candidate_model = f\"saved_models/exp4_with_aug/best_model_t{trial_id}/\"\n",
    "\n",
    "model = keras.models.load_model(candidate_model)\n",
    "model.load_weights(candidate_model + \"weights/\")\n",
    "model.evaluate(val_ds)\n",
    "\n",
    "model.summary()"
   ]
  },
  {
   "cell_type": "markdown",
   "metadata": {},
   "source": [
    "# remove augmentation and regularization layers"
   ]
  },
  {
   "cell_type": "code",
   "execution_count": null,
   "metadata": {},
   "outputs": [],
   "source": [
    "\n",
    "x = x_in = keras.layers.Input(shape=(256,256,3))\n",
    "\n",
    "for l in model.layers:\n",
    "    if isinstance(l, keras.layers.Conv2D):\n",
    "        x = l(x)\n",
    "    if isinstance(l, keras.layers.DepthwiseConv2D):\n",
    "        x = l(x)\n",
    "    if isinstance(l, keras.layers.Activation):\n",
    "        x = l(x)\n",
    "    if isinstance(l, keras.layers.Flatten):\n",
    "        x = l(x)\n",
    "    if isinstance(l, keras.layers.Dense):\n",
    "        x = l(x)\n",
    "\n",
    "striped_model = keras.models.Model(x_in, x)\n",
    "striped_model.summary()"
   ]
  },
  {
   "cell_type": "code",
   "execution_count": null,
   "metadata": {},
   "outputs": [],
   "source": [
    "striped_model.compile(\n",
    "    \"adam\", loss=keras.losses.categorical_crossentropy, metrics=[\"accuracy\"]\n",
    ")\n",
    "\n",
    "striped_model.evaluate(val_ds)\n"
   ]
  },
  {
   "cell_type": "code",
   "execution_count": null,
   "metadata": {},
   "outputs": [],
   "source": [
    "striped_model.save(f\"saved_models/striped_models/{trial_id}/{trial_id}.h5\")"
   ]
  }
 ],
 "metadata": {
  "kernelspec": {
   "display_name": ".venv",
   "language": "python",
   "name": "python3"
  },
  "language_info": {
   "codemirror_mode": {
    "name": "ipython",
    "version": 3
   },
   "file_extension": ".py",
   "mimetype": "text/x-python",
   "name": "python",
   "nbconvert_exporter": "python",
   "pygments_lexer": "ipython3",
   "version": "3.10.12"
  }
 },
 "nbformat": 4,
 "nbformat_minor": 2
}
