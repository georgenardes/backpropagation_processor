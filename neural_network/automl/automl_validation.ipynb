{
 "cells": [
  {
   "cell_type": "code",
   "execution_count": null,
   "metadata": {},
   "outputs": [],
   "source": [
    "import os\n",
    "os.environ['TF_CPP_MIN_LOG_LEVEL'] = '3'\n",
    "\n",
    "import sys\n",
    "\n",
    "sys.path.append(\"/home/webphy/Desktop/dnn_processor/\")  # just to enable `dataset`\n",
    "sys.path.append(\n",
    "    \"/home/webphy/Desktop/dnn_processor/dataset/\"\n",
    ")  # just to enable `dataset`\n",
    "\n",
    "import tensorflow as tf\n",
    "import keras \n",
    "from glob import glob\n",
    "import dataset\n",
    "\n",
    "train_images_rgx = \"../../dataset/resized_dataset_texturas_v2/*/*.jpeg\"\n",
    "valid_images_rgx = \"../../dataset/resized_dataset_texturas_v2_test/*/*.jpeg\"\n",
    "train_ds, val_ds, nclass = dataset.create_datasets(\n",
    "    train_images_rgx, valid_images_rgx, 64\n",
    ")\n"
   ]
  },
  {
   "cell_type": "code",
   "execution_count": null,
   "metadata": {},
   "outputs": [],
   "source": [
    "saved_models_root = \"saved_models/exp3_with_aug/*/\"\n",
    "models_path = glob(saved_models_root)\n",
    "\n",
    "trials = {}\n",
    "\n",
    "keras.utils.disable_interactive_logging()\n",
    "\n",
    "\n",
    "\n",
    "for p in models_path:\n",
    "    trial_id = p.split(\"model_t\")[1][:-1]\n",
    "    model = keras.models.load_model(p)\n",
    "    model.load_weights(p + \"/weights/\")\n",
    "    score = model.evaluate(val_ds, verbose=1)\n",
    "    trials[int(trial_id)] = {\n",
    "        \"trial_id\": trial_id,\n",
    "        \"val_loss\": score[0],\n",
    "        \"val_accuracy\": score[1],\n",
    "        \"model_config\": model.get_config(),\n",
    "    }    \n",
    "\n",
    "\n",
    "import json\n",
    "\n",
    "with open(\"exp3_with_aug.json\", \"w\") as f:\n",
    "    json.dump(trials, f)"
   ]
  },
  {
   "cell_type": "code",
   "execution_count": null,
   "metadata": {},
   "outputs": [],
   "source": [
    "print(trials)\n",
    "import json\n",
    "with open(\"exp3_with_aug.json\", \"w\") as f:\n",
    "    json.dump(trials, f)"
   ]
  }
 ],
 "metadata": {
  "kernelspec": {
   "display_name": ".venv",
   "language": "python",
   "name": "python3"
  },
  "language_info": {
   "codemirror_mode": {
    "name": "ipython",
    "version": 3
   },
   "file_extension": ".py",
   "mimetype": "text/x-python",
   "name": "python",
   "nbconvert_exporter": "python",
   "pygments_lexer": "ipython3",
   "version": "3.10.12"
  }
 },
 "nbformat": 4,
 "nbformat_minor": 2
}
