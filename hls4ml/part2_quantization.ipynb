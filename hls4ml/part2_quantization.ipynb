{
 "cells": [
  {
   "cell_type": "markdown",
   "metadata": {},
   "source": [
    "# Tensorflow to Qkeras to Hls4ml\n"
   ]
  },
  {
   "cell_type": "code",
   "execution_count": 1,
   "metadata": {},
   "outputs": [
    {
     "name": "stderr",
     "output_type": "stream",
     "text": [
      "2024-02-02 20:31:56.265790: I tensorflow/core/platform/cpu_feature_guard.cc:193] This TensorFlow binary is optimized with oneAPI Deep Neural Network Library (oneDNN) to use the following CPU instructions in performance-critical operations:  AVX2 AVX_VNNI FMA\n",
      "To enable them in other operations, rebuild TensorFlow with the appropriate compiler flags.\n",
      "2024-02-02 20:31:56.385477: I tensorflow/core/util/util.cc:169] oneDNN custom operations are on. You may see slightly different numerical results due to floating-point round-off errors from different computation orders. To turn them off, set the environment variable `TF_ENABLE_ONEDNN_OPTS=0`.\n",
      "2024-02-02 20:31:56.404882: E tensorflow/stream_executor/cuda/cuda_blas.cc:2981] Unable to register cuBLAS factory: Attempting to register factory for plugin cuBLAS when one has already been registered\n",
      "2024-02-02 20:31:56.719180: W tensorflow/stream_executor/platform/default/dso_loader.cc:64] Could not load dynamic library 'libnvinfer.so.7'; dlerror: libnvinfer.so.7: cannot open shared object file: No such file or directory\n",
      "2024-02-02 20:31:56.719215: W tensorflow/stream_executor/platform/default/dso_loader.cc:64] Could not load dynamic library 'libnvinfer_plugin.so.7'; dlerror: libnvinfer_plugin.so.7: cannot open shared object file: No such file or directory\n",
      "2024-02-02 20:31:56.719218: W tensorflow/compiler/tf2tensorrt/utils/py_utils.cc:38] TF-TRT Warning: Cannot dlopen some TensorRT libraries. If you would like to use Nvidia GPU with TensorRT, please make sure the missing libraries mentioned above are installed properly.\n"
     ]
    }
   ],
   "source": [
    "import numpy as np\n",
    "\n",
    "seed = 0\n",
    "np.random.seed(seed)\n",
    "\n",
    "import tensorflow as tf\n",
    "\n",
    "tf.random.set_seed(seed)\n",
    "\n",
    "\n",
    "import sys\n",
    "\n",
    "sys.path.append(\"/home/webphy/Desktop/dnn_processor/\")  # just to enable `dataset`\n",
    "sys.path.append(\n",
    "    \"/home/webphy/Desktop/dnn_processor/dataset/\"\n",
    ")  # just to enable `dataset`\n",
    "\n",
    "import dataset\n",
    "import plotting\n",
    "import qkeras\n",
    "import keras"
   ]
  },
  {
   "cell_type": "markdown",
   "metadata": {},
   "source": [
    "# fetch dataset\n"
   ]
  },
  {
   "cell_type": "code",
   "execution_count": 2,
   "metadata": {},
   "outputs": [
    {
     "name": "stderr",
     "output_type": "stream",
     "text": [
      "2024-02-02 20:31:57.642301: I tensorflow/stream_executor/cuda/cuda_gpu_executor.cc:980] successful NUMA node read from SysFS had negative value (-1), but there must be at least one NUMA node, so returning NUMA node zero\n",
      "2024-02-02 20:31:57.662774: W tensorflow/stream_executor/platform/default/dso_loader.cc:64] Could not load dynamic library 'libcudnn.so.8'; dlerror: libcudnn.so.8: cannot open shared object file: No such file or directory\n",
      "2024-02-02 20:31:57.662787: W tensorflow/core/common_runtime/gpu/gpu_device.cc:1934] Cannot dlopen some GPU libraries. Please make sure the missing libraries mentioned above are installed properly if you would like to use GPU. Follow the guide at https://www.tensorflow.org/install/gpu for how to download and setup the required libraries for your platform.\n",
      "Skipping registering GPU devices...\n",
      "2024-02-02 20:31:57.663123: I tensorflow/core/platform/cpu_feature_guard.cc:193] This TensorFlow binary is optimized with oneAPI Deep Neural Network Library (oneDNN) to use the following CPU instructions in performance-critical operations:  AVX2 AVX_VNNI FMA\n",
      "To enable them in other operations, rebuild TensorFlow with the appropriate compiler flags.\n"
     ]
    }
   ],
   "source": [
    "BATCH_SIZE = 64\n",
    "train_images_rgx = \"../dataset/resized_dataset_texturas_v2/*/*.jpeg\"\n",
    "valid_images_rgx = \"../dataset/resized_dataset_texturas_v2_test/*/*.jpeg\"\n",
    "\n",
    "train_ds, val_ds, nclasses = dataset.create_datasets(\n",
    "    train_images_rgx, valid_images_rgx, BATCH_SIZE\n",
    ")"
   ]
  },
  {
   "cell_type": "markdown",
   "metadata": {},
   "source": [
    "# load the model\n"
   ]
  },
  {
   "cell_type": "code",
   "execution_count": 3,
   "metadata": {},
   "outputs": [
    {
     "name": "stdout",
     "output_type": "stream",
     "text": [
      "1/1 [==============================] - 0s 161ms/step - loss: 0.2437 - accuracy: 0.9400\n",
      "1/1 [==============================] - 0s 116ms/step - loss: 0.2437 - accuracy: 0.9400\n",
      "Accuracy: 0.9399999976158142\n"
     ]
    }
   ],
   "source": [
    "model_trial_id = 271\n",
    "\n",
    "model = keras.models.load_model(\n",
    "    f\"../neural_network/automl/saved_models/striped_models/exp6_aug_calib/{model_trial_id}.h5\",\n",
    "    compile=False,\n",
    ")\n",
    "model.compile(\n",
    "    \"adam\", loss=tf.keras.losses.categorical_crossentropy, metrics=[\"accuracy\"]\n",
    ")\n",
    "\n",
    "x = x_in = keras.Input(shape=(256, 256, 3))\n",
    "x = keras.layers.Activation(\"linear\")(x)\n",
    "for l in model.layers[1:]:\n",
    "    x = l(x)\n",
    "\n",
    "\n",
    "new_model = keras.models.Model(x_in, x)\n",
    "new_model.compile(\n",
    "    \"adam\", loss=tf.keras.losses.categorical_crossentropy, metrics=[\"accuracy\"]\n",
    ")\n",
    "\n",
    "score = model.evaluate(val_ds)\n",
    "score = new_model.evaluate(val_ds)\n",
    "print(\"Accuracy: {}\".format(score[1]))"
   ]
  },
  {
   "cell_type": "markdown",
   "metadata": {},
   "source": [
    "# quantize model\n"
   ]
  },
  {
   "cell_type": "code",
   "execution_count": 4,
   "metadata": {},
   "outputs": [
    {
     "name": "stdout",
     "output_type": "stream",
     "text": [
      "Model: \"model\"\n",
      "_________________________________________________________________\n",
      " Layer (type)                Output Shape              Param #   \n",
      "=================================================================\n",
      " input_1 (InputLayer)        [(None, 256, 256, 3)]     0         \n",
      "                                                                 \n",
      " depthwise_conv2d_220 (Depth  (None, 85, 85, 3)        30        \n",
      " wiseConv2D)                                                     \n",
      "                                                                 \n",
      " activation_759 (Activation)  (None, 85, 85, 3)        0         \n",
      "                                                                 \n",
      " conv2d_810 (Conv2D)         (None, 41, 41, 24)        1824      \n",
      "                                                                 \n",
      " activation_760 (Activation)  (None, 41, 41, 24)       0         \n",
      "                                                                 \n",
      " depthwise_conv2d_221 (Depth  (None, 10, 10, 24)       408       \n",
      " wiseConv2D)                                                     \n",
      "                                                                 \n",
      " activation_761 (Activation)  (None, 10, 10, 24)       0         \n",
      "                                                                 \n",
      " conv2d_811 (Conv2D)         (None, 10, 10, 40)        1000      \n",
      "                                                                 \n",
      " flatten_271 (Flatten)       (None, 4000)              0         \n",
      "                                                                 \n",
      " dense_271 (Dense)           (None, 5)                 20005     \n",
      "                                                                 \n",
      "=================================================================\n",
      "Total params: 23,267\n",
      "Trainable params: 23,267\n",
      "Non-trainable params: 0\n",
      "_________________________________________________________________\n",
      "input_1 layer was not quantized...\n",
      "Model: \"model_1\"\n",
      "_________________________________________________________________\n",
      " Layer (type)                Output Shape              Param #   \n",
      "=================================================================\n",
      " input_2 (InputLayer)        [(None, 256, 256, 3)]     0         \n",
      "                                                                 \n",
      " q_activation (QActivation)  (None, 256, 256, 3)       0         \n",
      "                                                                 \n",
      " q_depthwise_conv2d (QDepthw  (None, 85, 85, 3)        30        \n",
      " iseConv2D)                                                      \n",
      "                                                                 \n",
      " q_activation_1 (QActivation  (None, 85, 85, 3)        0         \n",
      " )                                                               \n",
      "                                                                 \n",
      " q_conv2d (QConv2D)          (None, 41, 41, 24)        1824      \n",
      "                                                                 \n",
      " q_activation_2 (QActivation  (None, 41, 41, 24)       0         \n",
      " )                                                               \n",
      "                                                                 \n",
      " q_depthwise_conv2d_1 (QDept  (None, 10, 10, 24)       408       \n",
      " hwiseConv2D)                                                    \n",
      "                                                                 \n",
      " q_activation_3 (QActivation  (None, 10, 10, 24)       0         \n",
      " )                                                               \n",
      "                                                                 \n",
      " q_conv2d_1 (QConv2D)        (None, 10, 10, 40)        1000      \n",
      "                                                                 \n",
      " q_activation_4 (QActivation  (None, 10, 10, 40)       0         \n",
      " )                                                               \n",
      "                                                                 \n",
      " flatten (Flatten)           (None, 4000)              0         \n",
      "                                                                 \n",
      " q_dense (QDense)            (None, 5)                 20005     \n",
      "                                                                 \n",
      " activation_1 (Activation)   (None, 5)                 0         \n",
      "                                                                 \n",
      "=================================================================\n",
      "Total params: 23,267\n",
      "Trainable params: 23,267\n",
      "Non-trainable params: 0\n",
      "_________________________________________________________________\n"
     ]
    }
   ],
   "source": [
    "from qkeras import *\n",
    "from keras.layers import Conv2D, DepthwiseConv2D, Activation, Dense, Flatten\n",
    "\n",
    "\n",
    "def create_qkeras_model_from_keras_model(keras_model):\n",
    "    x = x_in = keras.Input(shape=keras_model.layers[0].output.shape[1:])\n",
    "\n",
    "    x = QActivation(\"quantized_relu(4,0,1)\")(x)\n",
    "\n",
    "    for l in keras_model.layers:\n",
    "        if isinstance(l, Conv2D):\n",
    "            qconv2d = QConv2D(\n",
    "                l.filters,\n",
    "                l.kernel_size,\n",
    "                l.strides,\n",
    "                l.padding,\n",
    "                kernel_quantizer=quantized_bits(4, 0, 1),\n",
    "                bias_quantizer=quantized_bits(4, 0, 1),\n",
    "            )\n",
    "            x = qconv2d(x)\n",
    "            qconv2d.set_weights(l.get_weights())\n",
    "\n",
    "        elif isinstance(l, DepthwiseConv2D):\n",
    "            qDepthwiseConv2D = QDepthwiseConv2D(\n",
    "                l.kernel_size,\n",
    "                l.strides,\n",
    "                l.padding,\n",
    "                depthwise_quantizer=quantized_bits(4, 0, 1),\n",
    "                bias_quantizer=quantized_bits(4, 0, 1),\n",
    "            )\n",
    "            x = qDepthwiseConv2D(x)\n",
    "            qDepthwiseConv2D.set_weights(l.get_weights())\n",
    "\n",
    "        elif isinstance(l, Activation):\n",
    "            activation_name = l.get_config()[\"activation\"]\n",
    "\n",
    "            if activation_name == \"tanh\":\n",
    "                x = QActivation(quantized_tanh(4, True))(x)\n",
    "            elif activation_name == \"relu\":\n",
    "                x = QActivation(quantized_relu(4, 0, use_stochastic_rounding=True))(x)\n",
    "            elif activation_name == \"linear\":\n",
    "                x = QActivation(quantized_bits(4, 0, 1, keep_negative=True))(x)\n",
    "            else:\n",
    "                print(f\"{l.name} was not quantized\")\n",
    "\n",
    "        elif isinstance(l, Flatten):\n",
    "            # necessary because the layer before Flatten doesnt have avtivation\n",
    "            x = QActivation(quantized_bits(4, 0, 1, keep_negative=True))(x)\n",
    "            x = Flatten()(x)\n",
    "\n",
    "        elif isinstance(l, Dense):\n",
    "            qdense = QDense(\n",
    "                l.units,\n",
    "                kernel_quantizer=quantized_bits(4, 0, 1),\n",
    "                bias_quantizer=quantized_bits(4, 0, 1),\n",
    "            )\n",
    "            x = qdense(x)\n",
    "            qdense.set_weights(l.get_weights())\n",
    "        else:\n",
    "            print(f\"{l.name} layer was not quantized...\")\n",
    "    x = Activation(\"softmax\")(x)\n",
    "\n",
    "    qkeras_model = keras.models.Model(x_in, x)\n",
    "\n",
    "    return qkeras_model\n",
    "\n",
    "\n",
    "model.summary()\n",
    "qkeras_model = create_qkeras_model_from_keras_model(model)\n",
    "qkeras_model.compile(\n",
    "    keras.optimizers.Adam(0.0005),\n",
    "    loss=keras.losses.categorical_crossentropy,\n",
    "    metrics=[\"accuracy\"],\n",
    ")\n",
    "qkeras_model.summary()"
   ]
  },
  {
   "cell_type": "code",
   "execution_count": 5,
   "metadata": {},
   "outputs": [
    {
     "name": "stdout",
     "output_type": "stream",
     "text": [
      "1/1 [==============================] - 1s 889ms/step - loss: 0.9573 - accuracy: 0.7400\n",
      "WARNING:tensorflow:From /home/webphy/Desktop/dnn_processor/.venv/lib/python3.10/site-packages/qkeras/estimate.py:345: Tensor.experimental_ref (from tensorflow.python.framework.ops) is deprecated and will be removed in a future version.\n",
      "Instructions for updating:\n",
      "Use ref() instead.\n"
     ]
    },
    {
     "name": "stderr",
     "output_type": "stream",
     "text": [
      "WARNING:tensorflow:From /home/webphy/Desktop/dnn_processor/.venv/lib/python3.10/site-packages/qkeras/estimate.py:345: Tensor.experimental_ref (from tensorflow.python.framework.ops) is deprecated and will be removed in a future version.\n",
      "Instructions for updating:\n",
      "Use ref() instead.\n"
     ]
    },
    {
     "name": "stdout",
     "output_type": "stream",
     "text": [
      "\n",
      "Number of operations in model:\n",
      "    q_conv2d                      : 3025800 (smult_4_4)\n",
      "    q_conv2d_1                    : 96000 (smult_4_4)\n",
      "    q_dense                       : 20000 (smult_4_4)\n",
      "    q_depthwise_conv2d            : 195075 (smult_4_4)\n",
      "    q_depthwise_conv2d_1          : 38400 (smult_4_4)\n",
      "\n",
      "Number of operation types in model:\n",
      "    smult_4_4                     : 3375275\n",
      "\n",
      "Weight profiling:\n",
      "    q_conv2d_weights               : 1800  (4-bit unit)\n",
      "    q_conv2d_bias                  : 24    (4-bit unit)\n",
      "    q_conv2d_1_weights             : 960   (4-bit unit)\n",
      "    q_conv2d_1_bias                : 40    (4-bit unit)\n",
      "    q_dense_weights                : 20000 (4-bit unit)\n",
      "    q_dense_bias                   : 5     (4-bit unit)\n",
      "    q_depthwise_conv2d_weights     : 81    (4-bit unit)\n",
      "    q_depthwise_conv2d_bias        : 3     (4-bit unit)\n",
      "    q_depthwise_conv2d_1_weights   : 9216  (4-bit unit)\n",
      "    q_depthwise_conv2d_1_bias      : 24    (4-bit unit)\n",
      "\n",
      "Weight sparsity:\n",
      "... quantizing model\n",
      "    q_depthwise_conv2d             : 0.1333\n",
      "    q_conv2d                       : 0.0998\n",
      "    q_depthwise_conv2d_1           : 0.2059\n",
      "    q_conv2d_1                     : 0.1520\n",
      "    q_dense                        : 0.1910\n",
      "    ----------------------------------------\n",
      "    Total Sparsity                 : 0.1824\n"
     ]
    }
   ],
   "source": [
    "from qkeras.estimate import print_qstats\n",
    "\n",
    "qkeras_model.evaluate(val_ds)\n",
    "print_qstats(qkeras_model)"
   ]
  },
  {
   "cell_type": "markdown",
   "metadata": {},
   "source": [
    "# fine tune quantized model\n"
   ]
  },
  {
   "cell_type": "code",
   "execution_count": 6,
   "metadata": {},
   "outputs": [
    {
     "name": "stdout",
     "output_type": "stream",
     "text": [
      "Epoch 1/5\n",
      "10/10 [==============================] - 2s 93ms/step - loss: 0.7096 - accuracy: 0.7953 - val_loss: 0.9573 - val_accuracy: 0.7400\n",
      "Epoch 2/5\n",
      "10/10 [==============================] - 1s 92ms/step - loss: 0.6510 - accuracy: 0.8094 - val_loss: 0.6703 - val_accuracy: 0.8400\n",
      "Epoch 3/5\n",
      "10/10 [==============================] - 1s 92ms/step - loss: 0.7137 - accuracy: 0.8016 - val_loss: 0.6684 - val_accuracy: 0.8400\n",
      "Epoch 4/5\n",
      "10/10 [==============================] - 1s 93ms/step - loss: 0.3571 - accuracy: 0.8938 - val_loss: 0.3718 - val_accuracy: 0.9000\n",
      "Epoch 5/5\n",
      "10/10 [==============================] - 1s 93ms/step - loss: 0.2163 - accuracy: 0.9297 - val_loss: 0.3786 - val_accuracy: 0.9000\n"
     ]
    },
    {
     "data": {
      "text/plain": [
       "<keras.callbacks.History at 0x7f5420d72f20>"
      ]
     },
     "execution_count": 6,
     "metadata": {},
     "output_type": "execute_result"
    }
   ],
   "source": [
    "qkeras_model.fit(train_ds, batch_size=64, epochs=5, validation_data=val_ds)"
   ]
  },
  {
   "cell_type": "code",
   "execution_count": 8,
   "metadata": {},
   "outputs": [],
   "source": [
    "qkeras_model.save(f\"saved_qmodels/{model_trial_id}.h5\")"
   ]
  },
  {
   "cell_type": "code",
   "execution_count": 11,
   "metadata": {},
   "outputs": [
    {
     "name": "stdout",
     "output_type": "stream",
     "text": [
      "1/1 [==============================] - 0s 64ms/step - loss: 0.3786 - accuracy: 0.9000\n"
     ]
    },
    {
     "data": {
      "text/plain": [
       "[0.3786122798919678, 0.8999999761581421]"
      ]
     },
     "execution_count": 11,
     "metadata": {},
     "output_type": "execute_result"
    }
   ],
   "source": [
    "from qkeras.utils import _add_supported_quantized_objects\n",
    "\n",
    "co = {}\n",
    "_add_supported_quantized_objects(co)\n",
    "\n",
    "loaded_qkeras_model = keras.models.load_model(f\"saved_qmodels/{model_trial_id}.h5\", co)\n",
    "qkeras_model.evaluate(val_ds)"
   ]
  },
  {
   "cell_type": "markdown",
   "metadata": {},
   "source": [
    "# convert quantized model to HLS4ml\n"
   ]
  },
  {
   "cell_type": "code",
   "execution_count": null,
   "metadata": {},
   "outputs": [],
   "source": []
  }
 ],
 "metadata": {
  "kernelspec": {
   "display_name": ".venv",
   "language": "python",
   "name": "python3"
  },
  "language_info": {
   "codemirror_mode": {
    "name": "ipython",
    "version": 3
   },
   "file_extension": ".py",
   "mimetype": "text/x-python",
   "name": "python",
   "nbconvert_exporter": "python",
   "pygments_lexer": "ipython3",
   "version": "3.10.12"
  }
 },
 "nbformat": 4,
 "nbformat_minor": 2
}
