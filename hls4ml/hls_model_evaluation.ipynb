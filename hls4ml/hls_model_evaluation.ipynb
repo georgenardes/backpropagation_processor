{
 "cells": [
  {
   "cell_type": "code",
   "execution_count": null,
   "metadata": {},
   "outputs": [],
   "source": [
    "import numpy as np\n",
    "import hls4ml\n",
    "import tensorflow as tf\n",
    "import keras\n",
    "import qkeras\n"
   ]
  },
  {
   "cell_type": "code",
   "execution_count": null,
   "metadata": {},
   "outputs": [],
   "source": [
    "X_train_val = np.load(\"../dataset/x_train_set_4x.npy\")\n",
    "X_test = np.ascontiguousarray(np.load(\"../dataset/x_test_set_4x.npy\"))\n",
    "y_train_val = np.load(\"../dataset/y_train_set_4x.npy\")\n",
    "y_test = np.load(\"../dataset/y_test_set_4x.npy\")\n",
    "classes = [\"acf_alv\", \"acf_chap\", \"reboco\", \"tijolo_alv\", \"tijolo_chap\"]"
   ]
  },
  {
   "cell_type": "markdown",
   "metadata": {},
   "source": [
    "# load model"
   ]
  },
  {
   "cell_type": "code",
   "execution_count": null,
   "metadata": {},
   "outputs": [],
   "source": [
    "from qkeras.utils import _add_supported_quantized_objects, load_qmodel\n",
    "\n",
    "\n",
    "model_path = \"/home/webphy/Desktop/dnn_processor/hls4ml/saved_qmodels/handmade_model.h5\"\n",
    "qmodel = load_qmodel(model_path)"
   ]
  },
  {
   "cell_type": "code",
   "execution_count": null,
   "metadata": {},
   "outputs": [],
   "source": [
    "qmodel.evaluate(X_train_val, y_train_val)\n",
    "qmodel.evaluate(X_test, y_test)"
   ]
  },
  {
   "cell_type": "markdown",
   "metadata": {},
   "source": [
    "# create hls model"
   ]
  },
  {
   "cell_type": "code",
   "execution_count": null,
   "metadata": {},
   "outputs": [],
   "source": [
    "import hls4ml\n",
    "import plotting\n",
    "\n",
    "config = hls4ml.utils.config_from_keras_model(\n",
    "    qmodel,\n",
    "    granularity=\"name\",\n",
    "    default_precision=\"fixed<8,1>\",\n",
    "    default_reuse_factor=9000,\n",
    ")\n",
    "\n",
    "config[\"Model\"][\"Strategy\"] = \"Resource\"\n",
    "\n",
    "for layer in config[\"LayerName\"].keys():\n",
    "    config[\"LayerName\"][layer][\"Strategy\"] = \"Resource\""
   ]
  },
  {
   "cell_type": "code",
   "execution_count": null,
   "metadata": {},
   "outputs": [],
   "source": [
    "print(\"-----------------------------------\")\n",
    "plotting.print_dict(config)\n",
    "print(\"-----------------------------------\")"
   ]
  },
  {
   "cell_type": "code",
   "execution_count": null,
   "metadata": {},
   "outputs": [],
   "source": [
    "hls_model = hls4ml.converters.convert_from_keras_model(\n",
    "    qmodel,\n",
    "    hls_config=config,\n",
    "    output_dir=\"model_evaluation/hls4ml_prj\",\n",
    "    part=\"xc7z020-clg400-1\",\n",
    "    io_type=\"io_stream\",\n",
    ")\n",
    "hls_model.compile()\n"
   ]
  },
  {
   "cell_type": "code",
   "execution_count": null,
   "metadata": {},
   "outputs": [],
   "source": [
    "hls4ml.utils.plot_model(hls_model, show_shapes=True, show_precision=True, to_file=None)"
   ]
  },
  {
   "cell_type": "code",
   "execution_count": null,
   "metadata": {},
   "outputs": [],
   "source": [
    "y_qkeras = qmodel.predict(np.ascontiguousarray(X_test))\n",
    "y_hls = hls_model.predict(np.ascontiguousarray(X_test))\n",
    "np.save(\"model_evaluation/y_qkeras.npy\", y_qkeras)\n",
    "np.save(\"model_evaluation/y_hls.npy\", y_hls)"
   ]
  },
  {
   "cell_type": "code",
   "execution_count": null,
   "metadata": {},
   "outputs": [],
   "source": [
    "from sklearn.metrics import accuracy_score\n",
    "import matplotlib.pyplot as plt\n",
    "\n",
    "model_ref = keras.models.load_model(\n",
    "    \"/home/webphy/Desktop/dnn_processor/neural_network/handmade/saved_models/manual_test_4x/model.h5\"\n",
    ")\n",
    "y_ref = model_ref.predict(X_test)\n",
    "\n",
    "print(\n",
    "    \"Accuracy baseline:  {}\".format(\n",
    "        accuracy_score(np.argmax(y_test, axis=1), np.argmax(y_ref, axis=1))\n",
    "    )\n",
    ")\n",
    "print(\n",
    "    \"Accuracy quantized: {}\".format(\n",
    "        accuracy_score(np.argmax(y_test, axis=1), np.argmax(y_qkeras, axis=1))\n",
    "    )\n",
    ")\n",
    "print(\n",
    "    \"Accuracy hls4ml: {}\".format(\n",
    "        accuracy_score(np.argmax(y_test, axis=1), np.argmax(y_hls, axis=1))\n",
    "    )\n",
    ")\n",
    "\n",
    "fig, ax = plt.subplots(figsize=(9, 9))\n",
    "_ = plotting.makeRoc(y_test, y_ref, classes)\n",
    "plt.gca().set_prop_cycle(None)  # reset the colors\n",
    "_ = plotting.makeRoc(y_test, y_qkeras, classes, linestyle=\"--\")\n",
    "plt.gca().set_prop_cycle(None)  # reset the colors\n",
    "_ = plotting.makeRoc(y_test, y_hls, classes, linestyle=\":\")\n",
    "\n",
    "from matplotlib.lines import Line2D\n",
    "\n",
    "lines = [Line2D([0], [0], ls=\"-\"), Line2D([0], [0], ls=\"--\"), Line2D([0], [0], ls=\":\")]\n",
    "from matplotlib.legend import Legend\n",
    "\n",
    "leg = Legend(\n",
    "    ax,\n",
    "    lines,\n",
    "    labels=[\"baseline\", \"quantized\", \"hls4ml\"],\n",
    "    loc=\"lower right\",\n",
    "    frameon=False,\n",
    ")\n",
    "ax.add_artist(leg)"
   ]
  },
  {
   "cell_type": "markdown",
   "metadata": {},
   "source": [
    "# profiling"
   ]
  },
  {
   "cell_type": "code",
   "execution_count": null,
   "metadata": {},
   "outputs": [],
   "source": [
    "for layer in config[\"LayerName\"].keys():\n",
    "    config[\"LayerName\"][layer][\"Trace\"] = True\n",
    "\n",
    "hls_model = hls4ml.converters.convert_from_keras_model(\n",
    "    qmodel,\n",
    "    hls_config=config,\n",
    "    output_dir=\"model_evaluation/hls4ml_prj_2\",\n",
    "    part=\"xc7z020-clg400-1\",\n",
    "    io_type=\"io_stream\",\n",
    ")\n",
    "\n",
    "hls4ml.model.profiling.numerical(model=qmodel, hls_model=hls_model, X=X_test[:])"
   ]
  },
  {
   "cell_type": "code",
   "execution_count": null,
   "metadata": {},
   "outputs": [],
   "source": []
  }
 ],
 "metadata": {
  "kernelspec": {
   "display_name": ".venv",
   "language": "python",
   "name": "python3"
  },
  "language_info": {
   "codemirror_mode": {
    "name": "ipython",
    "version": 3
   },
   "file_extension": ".py",
   "mimetype": "text/x-python",
   "name": "python",
   "nbconvert_exporter": "python",
   "pygments_lexer": "ipython3",
   "version": "3.10.12"
  }
 },
 "nbformat": 4,
 "nbformat_minor": 2
}
