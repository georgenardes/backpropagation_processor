{
 "cells": [
  {
   "cell_type": "code",
   "execution_count": null,
   "metadata": {},
   "outputs": [],
   "source": [
    "\n",
    "from tensorflow.keras.models import load_model\n",
    "from qkeras.utils import _add_supported_quantized_objects\n",
    "import keras\n",
    "import tensorflow as tf\n",
    "\n",
    "co = {}\n",
    "_add_supported_quantized_objects(co)\n",
    "import os\n",
    "import plotting\n",
    "\n",
    "experiment_id = \"exp7_no_depth_w_GAP_multiObj\"\n",
    "trial_id = 719\n",
    "model_path = f\"../neural_network/automl/saved_models/striped_models/{experiment_id}/{trial_id}.h5\""
   ]
  },
  {
   "cell_type": "code",
   "execution_count": null,
   "metadata": {},
   "outputs": [],
   "source": [
    "model = load_model(model_path, custom_objects=co, compile=False)\n",
    "\n",
    "x = new_input = keras.Input((256,256,3))\n",
    "\n",
    "for new_layer in model.layers[1:]:\n",
    "    x = new_layer(x) \n",
    "model = keras.Model(inputs=new_input, outputs=x)\n",
    "\n",
    "\n",
    "model.layers[-1].activation = keras.activations.linear\n",
    "model.compile(\n",
    "    \"adam\",\n",
    "    loss=keras.losses.CategoricalCrossentropy(from_logits=True),\n",
    "    metrics=[\"accuracy\"],\n",
    ")\n",
    "model.summary()\n",
    "# new_model = model"
   ]
  },
  {
   "cell_type": "code",
   "execution_count": null,
   "metadata": {},
   "outputs": [],
   "source": [
    "import hls4ml\n",
    "\n",
    "config = hls4ml.utils.config_from_keras_model(\n",
    "    model,\n",
    "    granularity=\"name\",\n",
    "    default_precision=\"fixed<8,1>\",\n",
    "    default_reuse_factor=4096,\n",
    "    \n",
    ")\n",
    "\n",
    "config[\"Model\"][\"Strategy\"] = \"Resource\"\n",
    "\n",
    "for layer in config[\"LayerName\"].keys():\n",
    "    config[\"LayerName\"][layer][\"Strategy\"] = \"Resource\"\n"
   ]
  },
  {
   "cell_type": "code",
   "execution_count": null,
   "metadata": {},
   "outputs": [],
   "source": [
    "print(\"-----------------------------------\")\n",
    "print(\"Configuration\")\n",
    "plotting.print_dict(config)\n",
    "print(\"-----------------------------------\")"
   ]
  },
  {
   "cell_type": "code",
   "execution_count": null,
   "metadata": {},
   "outputs": [],
   "source": [
    "\n",
    "hls_model = hls4ml.converters.convert_from_keras_model(\n",
    "    model,\n",
    "    hls_config=config,\n",
    "    output_dir=f\"deploy/model_{trial_id}/hls4ml_prj\",\n",
    "    part=\"xc7z020-clg400-1\",\n",
    "    io_type=\"io_stream\",\n",
    "    backend='VivadoAccelerator',\n",
    "    board='pynq-z2'\n",
    ")"
   ]
  },
  {
   "cell_type": "code",
   "execution_count": null,
   "metadata": {},
   "outputs": [],
   "source": []
  },
  {
   "cell_type": "code",
   "execution_count": null,
   "metadata": {},
   "outputs": [],
   "source": [
    "hls_model.build(csim=False, export=True, bitfile=True)"
   ]
  },
  {
   "cell_type": "code",
   "execution_count": null,
   "metadata": {},
   "outputs": [],
   "source": [
    "hls4ml.report.read_vivado_report(f\"deploy/model_{trial_id}/hls4ml_prj\")"
   ]
  },
  {
   "cell_type": "code",
   "execution_count": null,
   "metadata": {},
   "outputs": [],
   "source": []
  },
  {
   "cell_type": "code",
   "execution_count": null,
   "metadata": {},
   "outputs": [],
   "source": []
  }
 ],
 "metadata": {
  "kernelspec": {
   "display_name": ".venv",
   "language": "python",
   "name": "python3"
  },
  "language_info": {
   "codemirror_mode": {
    "name": "ipython",
    "version": 3
   },
   "file_extension": ".py",
   "mimetype": "text/x-python",
   "name": "python",
   "nbconvert_exporter": "python",
   "pygments_lexer": "ipython3",
   "version": "3.10.12"
  }
 },
 "nbformat": 4,
 "nbformat_minor": 2
}
